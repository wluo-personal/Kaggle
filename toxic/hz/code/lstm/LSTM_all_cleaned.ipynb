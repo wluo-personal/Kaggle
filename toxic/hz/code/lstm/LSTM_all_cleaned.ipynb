{
 "cells": [
  {
   "cell_type": "code",
   "execution_count": 1,
   "metadata": {},
   "outputs": [
    {
     "name": "stderr",
     "output_type": "stream",
     "text": [
      "Using TensorFlow backend.\n"
     ]
    }
   ],
   "source": [
    "import pandas as pd\n",
    "import numpy as np\n",
    "from keras import regularizers\n",
    "from keras.models import Model\n",
    "from nltk.tokenize import TweetTokenizer\n",
    "from keras.layers import Dense, Embedding, Input, LSTM, Bidirectional, GlobalMaxPool1D, Dropout\n",
    "from keras.preprocessing import text, sequence\n",
    "from keras.callbacks import EarlyStopping, ModelCheckpoint"
   ]
  },
  {
   "cell_type": "code",
   "execution_count": 2,
   "metadata": {},
   "outputs": [
    {
     "name": "stdout",
     "output_type": "stream",
     "text": [
      "(159571, 27)\n",
      "(153164, 21)\n",
      "72.2062896702\n",
      "114.017305915\n"
     ]
    }
   ],
   "source": [
    "PATH = '../../data/'\n",
    "\n",
    "train = pd.read_csv(PATH + 'cleaned_train.csv')\n",
    "test = pd.read_csv(PATH + 'cleaned_test.csv')\n",
    "\n",
    "train_sentence = train['comment_text_cleaned']\n",
    "test_sentence = test['comment_text_cleaned']\n",
    "\n",
    "text_length = pd.concat([train_sentence.apply(lambda x: len(x.split())),\\\n",
    "                         test_sentence.apply(lambda x: len(x.split()))])\n",
    "\n",
    "mean_length = text_length.mean()\n",
    "std_length = text_length.std()\n",
    "\n",
    "print(train.shape)\n",
    "print(test.shape)\n",
    "print(mean_length)\n",
    "print(std_length)"
   ]
  },
  {
   "cell_type": "code",
   "execution_count": 3,
   "metadata": {},
   "outputs": [
    {
     "name": "stdout",
     "output_type": "stream",
     "text": [
      "414\n"
     ]
    }
   ],
   "source": [
    "# config\n",
    "MAX_FEATURES = 20000 # max num of words\n",
    "MAX_LEN = np.round(mean_length + 3*std_length).astype(int) # max sequence length\n",
    "EMBED_SIZE = 50 # embedding size\n",
    "LSTM_UNITS = 50 # LSTM hidden layer unit number\n",
    "DENSE_UNITS = 50\n",
    "DROPOUT = 0.2 # dropout rate\n",
    "BATCH_SIZE = 32\n",
    "EPOCHS = 2\n",
    "EMBEDDING_FILE = 'glove.6B.50d.txt' # 200d\n",
    "\n",
    "label_cols = ['toxic', 'severe_toxic', 'obscene', 'threat', 'insult', 'identity_hate']\n",
    "print(MAX_LEN)"
   ]
  },
  {
   "cell_type": "code",
   "execution_count": 4,
   "metadata": {},
   "outputs": [
    {
     "name": "stdout",
     "output_type": "stream",
     "text": [
      "[634, 79, 2, 33, 46, 198, 26, 708, 3771, 8376, 805, 1, 140, 45, 1, 12, 226, 50, 5098, 17, 64, 2056, 159, 5, 492, 31, 127, 1177, 8377, 2249, 7, 51, 14, 12, 98, 2, 280, 28, 2, 43, 22, 150, 5, 1, 2550, 90]\n"
     ]
    }
   ],
   "source": [
    "tokenizer = text.Tokenizer(num_words=MAX_FEATURES)\n",
    "tokenizer.fit_on_texts(pd.concat([train_sentence, test_sentence]).values)\n",
    "tokenized_train = tokenizer.texts_to_sequences(train_sentence.values)\n",
    "tokenized_test = tokenizer.texts_to_sequences(test_sentence.values)\n",
    "\n",
    "X_train = sequence.pad_sequences(tokenized_train, maxlen=MAX_LEN)\n",
    "y = train[label_cols].values\n",
    "X_test = sequence.pad_sequences(tokenized_test, maxlen=MAX_LEN)\n",
    "\n",
    "print(tokenized_train[0])"
   ]
  },
  {
   "cell_type": "code",
   "execution_count": 5,
   "metadata": {},
   "outputs": [
    {
     "name": "stdout",
     "output_type": "stream",
     "text": [
      "done\n"
     ]
    }
   ],
   "source": [
    "def get_coefs(word,*arr): return word, np.asarray(arr, dtype='float32')\n",
    "\n",
    "def get_embedding_matrix(embedding_file, embed_size, max_features, tokenizer):\n",
    "    embeddings_index = dict(get_coefs(*o.strip().split()) for o in open(embedding_file))\n",
    "    all_embs = np.stack(embeddings_index.values())\n",
    "    word_index = tokenizer.word_index\n",
    "    nb_words = min(max_features, len(word_index) + 1)\n",
    "    embedding_matrix = np.random.normal(all_embs.mean(), all_embs.std(), (nb_words, embed_size))\n",
    "    for word, i in word_index.items():\n",
    "        if i < max_features:\n",
    "            embedding_vector = embeddings_index.get(word)\n",
    "            if embedding_vector is not None: embedding_matrix[i] = embedding_vector\n",
    "    return embedding_matrix, nb_words\n",
    "\n",
    "def get_lstm_model(embedding_file, embed_size, max_features, tokenizer,\\\n",
    "                   max_len, lstm_units, dense_units, label_cols, dropout):\n",
    "    embedding_matrix, inp_len = get_embedding_matrix(embedding_file, embed_size, max_features, tokenizer)\n",
    "    input = Input(shape=(max_len, ))\n",
    "    x = Embedding(inp_len, embed_size, weights=[embedding_matrix])(input)\n",
    "    x = Bidirectional(LSTM(lstm_units, return_sequences=True, dropout=dropout, recurrent_dropout=dropout))(x)\n",
    "    x = GlobalMaxPool1D()(x)\n",
    "    x = Dense(dense_units, activation='relu')(x)\n",
    "    x = Dropout(dropout)(x)\n",
    "    x = Dense(len(label_cols), activation='sigmoid')(x)\n",
    "    model = Model(inputs=input, outputs=x)\n",
    "    model.compile(loss='binary_crossentropy',\n",
    "                  optimizer='adam',\n",
    "                  metrics=['accuracy'])\n",
    "\n",
    "    return model\n",
    "\n",
    "def train_model(model, file_path, batch_size, epochs, X_train, y):\n",
    "    checkpoint = ModelCheckpoint(file_path, monitor='val_loss', verbose=1, save_best_only=True, mode='min')\n",
    "    earlystopping = EarlyStopping(monitor=\"val_loss\", mode=\"min\", patience=20)\n",
    "    callbacks_list = [checkpoint, earlystopping]\n",
    "    h = model.fit(X_train, y, batch_size=batch_size, epochs=epochs, validation_split=0.1, callbacks=callbacks_list)\n",
    "    print(h.history)\n",
    "    return model\n",
    "\n",
    "def predict(model, file_path, X_test):\n",
    "    model.load_weights(file_path)\n",
    "    return model.predict(X_test, verbose=1)\n",
    "    \n",
    "def save(model_name, y_test, label_cols, path, is_train=False):\n",
    "    if is_train:\n",
    "#         submission = pd.read_csv(path + 'lstm_one_file/' + 'sample_train.csv')\n",
    "        file_name = path + 'lstm_one_file/' + 'train_' + model_name + '.csv'\n",
    "    else:\n",
    "#         submission = pd.read_csv(path + 'sample_submission.csv')\n",
    "        file_name = path + model_name + '/' + model_name + '.csv'\n",
    "    submission = pd.DataFrame(y_test, columns=label_cols)\n",
    "    submission.to_csv(file_name, index=False)\n",
    "    \n",
    "print('done')"
   ]
  },
  {
   "cell_type": "code",
   "execution_count": 6,
   "metadata": {},
   "outputs": [
    {
     "name": "stdout",
     "output_type": "stream",
     "text": [
      "getting model\n",
      "training\n",
      "Train on 143613 samples, validate on 15958 samples\n",
      "Epoch 1/2\n",
      "143584/143613 [============================>.] - ETA: 0s - loss: 0.0615 - acc: 0.9786Epoch 00001: val_loss improved from inf to 0.04744, saving model to ../../model/lstm_best.hdf5\n",
      "143613/143613 [==============================] - 4971s 35ms/step - loss: 0.0615 - acc: 0.9786 - val_loss: 0.0474 - val_acc: 0.9822\n",
      "Epoch 2/2\n",
      "143584/143613 [============================>.] - ETA: 0s - loss: 0.0446 - acc: 0.9828Epoch 00002: val_loss improved from 0.04744 to 0.04512, saving model to ../../model/lstm_best.hdf5\n",
      "143613/143613 [==============================] - 4714s 33ms/step - loss: 0.0446 - acc: 0.9828 - val_loss: 0.0451 - val_acc: 0.9828\n",
      "{'val_loss': [0.04743595612329328, 0.045119911826785639], 'val_acc': [0.98220328167725179, 0.98280903937180464], 'loss': [0.061505156335251408, 0.044636674059173063], 'acc': [0.97857668344104587, 0.98283813561817646]}\n",
      "done\n"
     ]
    }
   ],
   "source": [
    "file_path = '../../model/lstm_best.hdf5'\n",
    "sample_submission_file_path = PATH + 'sample_submission.csv'\n",
    "\n",
    "print('getting model')\n",
    "model = get_lstm_model(PATH + EMBEDDING_FILE, EMBED_SIZE, MAX_FEATURES, tokenizer,\\\n",
    "                       MAX_LEN, LSTM_UNITS, DENSE_UNITS, label_cols, DROPOUT)\n",
    "print('training')\n",
    "model = train_model(model, file_path, BATCH_SIZE, EPOCHS, X_train, y)\n",
    "# print('predicting')\n",
    "# y_test = predict(model, file_path, X_test)\n",
    "# print('train predicting')\n",
    "# y_train = predict(model, file_path, X_train)\n",
    "\n",
    "# save('lstm', y_test, label_cols, PATH)\n",
    "# save('lstm', y_train, label_cols, PATH, True)\n",
    "\n",
    "print('done')"
   ]
  },
  {
   "cell_type": "code",
   "execution_count": 7,
   "metadata": {},
   "outputs": [
    {
     "name": "stdout",
     "output_type": "stream",
     "text": [
      "159571/159571 [==============================] - 835s 5ms/step\n"
     ]
    }
   ],
   "source": [
    "train = pd.read_csv(PATH + 'cleaned_train.csv')\n",
    "tokenized_train = tokenizer.texts_to_sequences(train['comment_text_cleaned'].values)\n",
    "X_train = sequence.pad_sequences(tokenized_train, maxlen=MAX_LEN)\n",
    "y_train = predict(model, file_path, X_train)\n",
    "# save('lstm', y_train, label_cols, PATH, True)"
   ]
  },
  {
   "cell_type": "code",
   "execution_count": 10,
   "metadata": {},
   "outputs": [
    {
     "name": "stdout",
     "output_type": "stream",
     "text": [
      "(159571, 6) (159571, 6)\n"
     ]
    }
   ],
   "source": [
    "p = pd.DataFrame(y_train, columns=label_cols)\n",
    "r = train[label_cols]\n",
    "print(p.shape, r.shape)"
   ]
  },
  {
   "cell_type": "code",
   "execution_count": 11,
   "metadata": {},
   "outputs": [
    {
     "name": "stdout",
     "output_type": "stream",
     "text": [
      "toxic\n",
      "[[142571   1706]\n",
      " [  3451  11843]]\n",
      "severe_toxic\n",
      "[[157917     59]\n",
      " [  1455    140]]\n",
      "obscene\n",
      "[[149766   1356]\n",
      " [  1327   7122]]\n",
      "threat\n",
      "[[159093      0]\n",
      " [   478      0]]\n",
      "insult\n",
      "[[150086   1608]\n",
      " [  2353   5524]]\n",
      "identity_hate\n",
      "[[158063    103]\n",
      " [  1063    342]]\n"
     ]
    }
   ],
   "source": [
    "from sklearn.metrics import confusion_matrix\n",
    "thres = 0.5\n",
    "def f(x):\n",
    "    return (x > thres)*1\n",
    "\n",
    "for i in label_cols:\n",
    "    print(i)\n",
    "    y = p[i].apply(f)\n",
    "    M = confusion_matrix(r[i], y)\n",
    "    print(M)"
   ]
  }
 ],
 "metadata": {
  "kernelspec": {
   "display_name": "Python 3",
   "language": "python",
   "name": "python3"
  },
  "language_info": {
   "codemirror_mode": {
    "name": "ipython",
    "version": 3
   },
   "file_extension": ".py",
   "mimetype": "text/x-python",
   "name": "python",
   "nbconvert_exporter": "python",
   "pygments_lexer": "ipython3",
   "version": "3.6.3"
  }
 },
 "nbformat": 4,
 "nbformat_minor": 2
}
