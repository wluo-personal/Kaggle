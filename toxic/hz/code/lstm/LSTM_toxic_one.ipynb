{
 "cells": [
  {
   "cell_type": "code",
   "execution_count": 4,
   "metadata": {},
   "outputs": [
    {
     "name": "stderr",
     "output_type": "stream",
     "text": [
      "Using TensorFlow backend.\n"
     ]
    }
   ],
   "source": [
    "import pandas as pd\n",
    "import numpy as np\n",
    "from keras import regularizers\n",
    "from keras.models import Model\n",
    "from nltk.tokenize import TweetTokenizer\n",
    "from keras.layers import Dense, Embedding, Input, LSTM, Bidirectional, GlobalMaxPool1D, Dropout\n",
    "from keras.preprocessing import text, sequence\n",
    "from keras.callbacks import EarlyStopping, ModelCheckpoint"
   ]
  },
  {
   "cell_type": "code",
   "execution_count": 2,
   "metadata": {},
   "outputs": [
    {
     "name": "stdout",
     "output_type": "stream",
     "text": [
      "(42622, 28)\n",
      "(153164, 21)\n",
      "68.3695769871\n",
      "124.349041979\n"
     ]
    }
   ],
   "source": [
    "PATH = '../../data/'\n",
    "\n",
    "train = pd.read_csv(PATH + 'lstm_one_file/lstm.csv')\n",
    "test = pd.read_csv(PATH + 'cleaned_test.csv')\n",
    "\n",
    "train_sentence = train['comment_text_cleaned']\n",
    "test_sentence = test['comment_text_cleaned']\n",
    "\n",
    "text_length = pd.concat([train_sentence.apply(lambda x: len(x.split())),\\\n",
    "                         test_sentence.apply(lambda x: len(x.split()))])\n",
    "\n",
    "mean_length = text_length.mean()\n",
    "std_length = text_length.std()\n",
    "\n",
    "print(train.shape)\n",
    "print(test.shape)\n",
    "print(mean_length)\n",
    "print(std_length)"
   ]
  },
  {
   "cell_type": "code",
   "execution_count": 3,
   "metadata": {},
   "outputs": [
    {
     "name": "stdout",
     "output_type": "stream",
     "text": [
      "441\n"
     ]
    }
   ],
   "source": [
    "# config\n",
    "MAX_FEATURES = 20000 # max num of words\n",
    "MAX_LEN = np.round(mean_length + 3*std_length).astype(int) # max sequence length\n",
    "EMBED_SIZE = 50 # embedding size\n",
    "LSTM_UNITS = 50 # LSTM hidden layer unit number\n",
    "DENSE_UNITS = 50\n",
    "DROPOUT = 0.2 # dropout rate\n",
    "BATCH_SIZE = 32\n",
    "EPOCHS = 2\n",
    "EMBEDDING_FILE = 'glove.6B.50d.txt' # 200d\n",
    "\n",
    "# label_cols = ['toxic', 'severe_toxic', 'obscene', 'threat', 'insult', 'identity_hate']\n",
    "label_cols = ['toxic']\n",
    "print(MAX_LEN)"
   ]
  },
  {
   "cell_type": "code",
   "execution_count": 4,
   "metadata": {},
   "outputs": [
    {
     "name": "stdout",
     "output_type": "stream",
     "text": [
      "[6962, 8566, 362, 7, 68, 1446, 18, 2, 845, 1, 718, 248, 6962, 1, 4, 286, 7642, 230, 15, 22, 52, 8233, 17, 334, 489, 4, 566, 49, 14, 12, 953, 17, 8566, 362, 14, 12, 13, 5, 1168, 40, 9, 78, 49, 1, 4, 3282, 462, 22, 29, 11972, 9803, 17, 6312, 68, 1446, 18, 2, 845, 1, 50, 4, 321, 217, 8, 77, 11, 443]\n"
     ]
    }
   ],
   "source": [
    "tokenizer = text.Tokenizer(num_words=MAX_FEATURES)\n",
    "tokenizer.fit_on_texts(pd.concat([train_sentence, test_sentence]).values)\n",
    "tokenized_train = tokenizer.texts_to_sequences(train_sentence.values)\n",
    "tokenized_test = tokenizer.texts_to_sequences(test_sentence.values)\n",
    "\n",
    "X_train = sequence.pad_sequences(tokenized_train, maxlen=MAX_LEN)\n",
    "y = train[label_cols].values\n",
    "X_test = sequence.pad_sequences(tokenized_test, maxlen=MAX_LEN)\n",
    "\n",
    "print(tokenized_train[0])"
   ]
  },
  {
   "cell_type": "code",
   "execution_count": 5,
   "metadata": {},
   "outputs": [
    {
     "name": "stdout",
     "output_type": "stream",
     "text": [
      "done\n"
     ]
    }
   ],
   "source": [
    "def get_coefs(word,*arr): return word, np.asarray(arr, dtype='float32')\n",
    "\n",
    "def get_embedding_matrix(embedding_file, embed_size, max_features, tokenizer):\n",
    "    embeddings_index = dict(get_coefs(*o.strip().split()) for o in open(embedding_file))\n",
    "    all_embs = np.stack(embeddings_index.values())\n",
    "    word_index = tokenizer.word_index\n",
    "    nb_words = min(max_features, len(word_index) + 1)\n",
    "    embedding_matrix = np.random.normal(all_embs.mean(), all_embs.std(), (nb_words, embed_size))\n",
    "    for word, i in word_index.items():\n",
    "        if i < max_features:\n",
    "            embedding_vector = embeddings_index.get(word)\n",
    "            if embedding_vector is not None: embedding_matrix[i] = embedding_vector\n",
    "    return embedding_matrix, nb_words\n",
    "\n",
    "def get_lstm_model(embedding_file, embed_size, max_features, tokenizer,\\\n",
    "                   max_len, lstm_units, dense_units, label_cols, dropout):\n",
    "    embedding_matrix, inp_len = get_embedding_matrix(embedding_file, embed_size, max_features, tokenizer)\n",
    "    input = Input(shape=(max_len, ))\n",
    "    x = Embedding(inp_len, embed_size, weights=[embedding_matrix])(input)\n",
    "    x = Bidirectional(LSTM(lstm_units, return_sequences=True, dropout=dropout, recurrent_dropout=dropout))(x)\n",
    "    x = GlobalMaxPool1D()(x)\n",
    "    x = Dense(dense_units, activation='relu')(x)\n",
    "    x = Dropout(dropout)(x)\n",
    "    x = Dense(len(label_cols), activation='sigmoid')(x)\n",
    "    model = Model(inputs=input, outputs=x)\n",
    "    model.compile(loss='binary_crossentropy',\n",
    "                  optimizer='adam',\n",
    "                  metrics=['accuracy'])\n",
    "\n",
    "    return model\n",
    "\n",
    "def train_model(model, file_path, batch_size, epochs, X_train, y):\n",
    "    checkpoint = ModelCheckpoint(file_path, monitor='val_loss', verbose=1, save_best_only=True, mode='min')\n",
    "    earlystopping = EarlyStopping(monitor=\"val_loss\", mode=\"min\", patience=20)\n",
    "    callbacks_list = [checkpoint, earlystopping]\n",
    "    h = model.fit(X_train, y, batch_size=batch_size, epochs=epochs, validation_split=0.1, callbacks=callbacks_list)\n",
    "    print(h.history)\n",
    "    return model\n",
    "\n",
    "def predict(model, file_path, X_test):\n",
    "    model.load_weights(file_path)\n",
    "    return model.predict(X_test, verbose=1)\n",
    "    \n",
    "def save(model_name, y_test, label_cols, path, is_train=False):\n",
    "    if is_train:\n",
    "#         submission = pd.read_csv(path + 'lstm_one_file/' + 'sample_train.csv')\n",
    "        file_name = path + 'lstm_one_file/' + 'train_' + model_name + '.csv'\n",
    "    else:\n",
    "#         submission = pd.read_csv(path + 'sample_submission.csv')\n",
    "        file_name = path + model_name + '/' + model_name + '.csv'\n",
    "    submission = pd.DataFrame(y_test, columns=label_cols)\n",
    "    submission.to_csv(file_name, index=False)\n",
    "    \n",
    "print('done')"
   ]
  },
  {
   "cell_type": "code",
   "execution_count": 6,
   "metadata": {},
   "outputs": [
    {
     "name": "stdout",
     "output_type": "stream",
     "text": [
      "getting model\n",
      "training\n",
      "Train on 38359 samples, validate on 4263 samples\n",
      "Epoch 1/2\n",
      "38336/38359 [============================>.] - ETA: 0s - loss: 0.1401 - acc: 0.9453Epoch 00001: val_loss improved from inf to 0.03590, saving model to ../../model/lstm_best.hdf5\n",
      "38359/38359 [==============================] - 1349s 35ms/step - loss: 0.1400 - acc: 0.9454 - val_loss: 0.0359 - val_acc: 0.9916\n",
      "Epoch 2/2\n",
      "38336/38359 [============================>.] - ETA: 0s - loss: 0.0237 - acc: 0.9937Epoch 00002: val_loss improved from 0.03590 to 0.02409, saving model to ../../model/lstm_best.hdf5\n",
      "38359/38359 [==============================] - 1347s 35ms/step - loss: 0.0238 - acc: 0.9937 - val_loss: 0.0241 - val_acc: 0.9946\n",
      "{'val_loss': [0.035904509675914714, 0.02409090476438059], 'val_acc': [0.99155524278676987, 0.99460473844710295], 'loss': [0.14003815554978197, 0.023762865821469921], 'acc': [0.94535832529523711, 0.99366511119263845]}\n",
      "predicting\n",
      "train predicting\n",
      "done\n"
     ]
    }
   ],
   "source": [
    "file_path = '../../model/lstm_best.hdf5'\n",
    "sample_submission_file_path = PATH + 'sample_submission.csv'\n",
    "\n",
    "print('getting model')\n",
    "model = get_lstm_model(PATH + EMBEDDING_FILE, EMBED_SIZE, MAX_FEATURES, tokenizer,\\\n",
    "                       MAX_LEN, LSTM_UNITS, DENSE_UNITS, label_cols, DROPOUT)\n",
    "print('training')\n",
    "model = train_model(model, file_path, BATCH_SIZE, EPOCHS, X_train, y)\n",
    "print('predicting')\n",
    "# y_test = predict(model, file_path, X_test)\n",
    "print('train predicting')\n",
    "# y_train = predict(model, file_path, X_train)\n",
    "\n",
    "# save('lstm', y_test, label_cols, PATH)\n",
    "# save('lstm', y_train, label_cols, PATH, True)\n",
    "\n",
    "print('done')"
   ]
  },
  {
   "cell_type": "code",
   "execution_count": 8,
   "metadata": {},
   "outputs": [
    {
     "name": "stdout",
     "output_type": "stream",
     "text": [
      "159571/159571 [==============================] - 856s 5ms/step\n"
     ]
    }
   ],
   "source": [
    "train = pd.read_csv(PATH + 'cleaned_train.csv')\n",
    "tokenized_train = tokenizer.texts_to_sequences(train['comment_text_cleaned'].values)\n",
    "X_train = sequence.pad_sequences(tokenized_train, maxlen=MAX_LEN)\n",
    "y_train = predict(model, file_path, X_train)\n",
    "# save('lstm', y_train, label_cols, PATH, True)"
   ]
  },
  {
   "cell_type": "code",
   "execution_count": 5,
   "metadata": {},
   "outputs": [
    {
     "ename": "NameError",
     "evalue": "name 'y_train' is not defined",
     "output_type": "error",
     "traceback": [
      "\u001b[0;31m---------------------------------------------------------------------------\u001b[0m",
      "\u001b[0;31mNameError\u001b[0m                                 Traceback (most recent call last)",
      "\u001b[0;32m<ipython-input-5-f2a2b1122cb2>\u001b[0m in \u001b[0;36m<module>\u001b[0;34m()\u001b[0m\n\u001b[0;32m----> 1\u001b[0;31m \u001b[0mp\u001b[0m \u001b[0;34m=\u001b[0m \u001b[0mpd\u001b[0m\u001b[0;34m.\u001b[0m\u001b[0mDataFrame\u001b[0m\u001b[0;34m(\u001b[0m\u001b[0my_train\u001b[0m\u001b[0;34m,\u001b[0m \u001b[0mcolumns\u001b[0m\u001b[0;34m=\u001b[0m\u001b[0mlabel_cols\u001b[0m\u001b[0;34m)\u001b[0m\u001b[0;34m\u001b[0m\u001b[0m\n\u001b[0m\u001b[1;32m      2\u001b[0m \u001b[0mr\u001b[0m \u001b[0;34m=\u001b[0m \u001b[0mpd\u001b[0m\u001b[0;34m.\u001b[0m\u001b[0mread_csv\u001b[0m\u001b[0;34m(\u001b[0m\u001b[0;34m'../../data/sample_train.csv'\u001b[0m\u001b[0;34m)\u001b[0m\u001b[0;34m\u001b[0m\u001b[0m\n\u001b[1;32m      3\u001b[0m \u001b[0mprint\u001b[0m\u001b[0;34m(\u001b[0m\u001b[0mp\u001b[0m\u001b[0;34m.\u001b[0m\u001b[0mshape\u001b[0m\u001b[0;34m,\u001b[0m \u001b[0mr\u001b[0m\u001b[0;34m.\u001b[0m\u001b[0mshape\u001b[0m\u001b[0;34m)\u001b[0m\u001b[0;34m\u001b[0m\u001b[0m\n",
      "\u001b[0;31mNameError\u001b[0m: name 'y_train' is not defined"
     ]
    }
   ],
   "source": [
    "p = pd.DataFrame(y_train, columns=label_cols)\n",
    "r = pd.read_csv('../../data/sample_train.csv')\n",
    "print(p.shape, r.shape)"
   ]
  },
  {
   "cell_type": "code",
   "execution_count": 2,
   "metadata": {},
   "outputs": [
    {
     "name": "stdout",
     "output_type": "stream",
     "text": [
      "toxic\n"
     ]
    },
    {
     "ename": "NameError",
     "evalue": "name 'p' is not defined",
     "output_type": "error",
     "traceback": [
      "\u001b[0;31m---------------------------------------------------------------------------\u001b[0m",
      "\u001b[0;31mNameError\u001b[0m                                 Traceback (most recent call last)",
      "\u001b[0;32m<ipython-input-2-3518d3d86777>\u001b[0m in \u001b[0;36m<module>\u001b[0;34m()\u001b[0m\n\u001b[1;32m      7\u001b[0m \u001b[0;32mfor\u001b[0m \u001b[0mi\u001b[0m \u001b[0;32min\u001b[0m \u001b[0mlabel_cols\u001b[0m\u001b[0;34m:\u001b[0m\u001b[0;34m\u001b[0m\u001b[0m\n\u001b[1;32m      8\u001b[0m     \u001b[0mprint\u001b[0m\u001b[0;34m(\u001b[0m\u001b[0mi\u001b[0m\u001b[0;34m)\u001b[0m\u001b[0;34m\u001b[0m\u001b[0m\n\u001b[0;32m----> 9\u001b[0;31m     \u001b[0my\u001b[0m \u001b[0;34m=\u001b[0m \u001b[0mp\u001b[0m\u001b[0;34m[\u001b[0m\u001b[0mi\u001b[0m\u001b[0;34m]\u001b[0m\u001b[0;34m.\u001b[0m\u001b[0mapply\u001b[0m\u001b[0;34m(\u001b[0m\u001b[0mf\u001b[0m\u001b[0;34m)\u001b[0m\u001b[0;34m\u001b[0m\u001b[0m\n\u001b[0m\u001b[1;32m     10\u001b[0m     \u001b[0mM\u001b[0m \u001b[0;34m=\u001b[0m \u001b[0mconfusion_matrix\u001b[0m\u001b[0;34m(\u001b[0m\u001b[0mr\u001b[0m\u001b[0;34m[\u001b[0m\u001b[0mi\u001b[0m\u001b[0;34m]\u001b[0m\u001b[0;34m,\u001b[0m \u001b[0my\u001b[0m\u001b[0;34m)\u001b[0m\u001b[0;34m\u001b[0m\u001b[0m\n\u001b[1;32m     11\u001b[0m     \u001b[0mprint\u001b[0m\u001b[0;34m(\u001b[0m\u001b[0mM\u001b[0m\u001b[0;34m)\u001b[0m\u001b[0;34m\u001b[0m\u001b[0m\n",
      "\u001b[0;31mNameError\u001b[0m: name 'p' is not defined"
     ]
    }
   ],
   "source": [
    "from sklearn.metrics import confusion_matrix\n",
    "label_cols = ['toxic']\n",
    "thres = 0.5\n",
    "def f(x):\n",
    "    return (x > thres)*1\n",
    "\n",
    "for i in label_cols:\n",
    "    print(i)\n",
    "    y = p[i].apply(f)\n",
    "    M = confusion_matrix(r[i], y)\n",
    "    print(M)"
   ]
  }
 ],
 "metadata": {
  "kernelspec": {
   "display_name": "Python 3",
   "language": "python",
   "name": "python3"
  },
  "language_info": {
   "codemirror_mode": {
    "name": "ipython",
    "version": 3
   },
   "file_extension": ".py",
   "mimetype": "text/x-python",
   "name": "python",
   "nbconvert_exporter": "python",
   "pygments_lexer": "ipython3",
   "version": "3.6.3"
  }
 },
 "nbformat": 4,
 "nbformat_minor": 2
}
