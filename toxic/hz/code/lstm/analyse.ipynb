{
 "cells": [
  {
   "cell_type": "code",
   "execution_count": 3,
   "metadata": {},
   "outputs": [],
   "source": [
    "import pandas as pd\n",
    "from sklearn.metrics import confusion_matrix\n",
    "\n",
    "# r = pd.read_csv('../../data/lstm_one_file/sample_train.csv')\n",
    "r = pd.read_csv('../../data/sample_train.csv')\n",
    "p = pd.read_csv('../../data/lstm_one_file/train_lstm.csv')\n",
    "# p = pd.read_csv('../../data/a.csv')"
   ]
  },
  {
   "cell_type": "code",
   "execution_count": 4,
   "metadata": {},
   "outputs": [
    {
     "name": "stdout",
     "output_type": "stream",
     "text": [
      "toxic\n",
      "[[143171   1106]\n",
      " [  6361   8933]]\n"
     ]
    }
   ],
   "source": [
    "# 'toxic', 'severe_toxic', 'obscene', 'threat', 'insult', 'identity_hate'\n",
    "\n",
    "# l = ['toxic', 'severe_toxic', 'obscene', 'threat', 'insult', 'identity_hate']\n",
    "l = ['toxic']\n",
    "thres = 0.5\n",
    "def f(x):\n",
    "    return (x > thres)*1\n",
    "\n",
    "for i in l:\n",
    "    print(i)\n",
    "    y = p[i].apply(f)\n",
    "    M = confusion_matrix(r[i], y)\n",
    "    print(M)"
   ]
  },
  {
   "cell_type": "code",
   "execution_count": 27,
   "metadata": {},
   "outputs": [
    {
     "name": "stdout",
     "output_type": "stream",
     "text": [
      "(15294, 27)\n",
      "(1595, 27)\n",
      "(8449, 27)\n",
      "(478, 27)\n",
      "(7877, 27)\n",
      "(1405, 27)\n",
      "(143346, 28)\n"
     ]
    }
   ],
   "source": [
    "zzz = pd.read_csv('../../data/cleaned_train.csv')\n",
    "for i in l:\n",
    "    print(zzz[zzz[i] == 1].shape)\n",
    "zzz['r'] = zzz[l].sum(axis=1)\n",
    "print(zzz[zzz['r'] == 0].shape)"
   ]
  },
  {
   "cell_type": "code",
   "execution_count": null,
   "metadata": {},
   "outputs": [],
   "source": []
  }
 ],
 "metadata": {
  "kernelspec": {
   "display_name": "Python 3",
   "language": "python",
   "name": "python3"
  },
  "language_info": {
   "codemirror_mode": {
    "name": "ipython",
    "version": 3
   },
   "file_extension": ".py",
   "mimetype": "text/x-python",
   "name": "python",
   "nbconvert_exporter": "python",
   "pygments_lexer": "ipython3",
   "version": "3.6.3"
  }
 },
 "nbformat": 4,
 "nbformat_minor": 2
}
