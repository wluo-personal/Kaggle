{
 "cells": [
  {
   "cell_type": "code",
   "execution_count": 74,
   "metadata": {},
   "outputs": [],
   "source": [
    "import pandas as pd\n",
    "from sklearn.utils import shuffle\n",
    "\n",
    "l = ['toxic', 'severe_toxic', 'obscene', 'threat', 'insult', 'identity_hate']\n",
    "\n",
    "path = '../../data/'\n",
    "x = pd.read_csv(path + 'cleaned_train.csv')\n",
    "\n",
    "val = x.sample(frac=0.2)\n",
    "x = x.drop(val.index)\n",
    "\n",
    "val.to_csv(path + 'lstm_one_file/val.csv', index=False)\n",
    "val[l].to_csv(path + 'lstm_one_file/sample_train.csv', index=False)\n",
    "\n",
    "x['t'] = x[l].sum(axis=1)"
   ]
  },
  {
   "cell_type": "code",
   "execution_count": 75,
   "metadata": {},
   "outputs": [
    {
     "name": "stdout",
     "output_type": "stream",
     "text": [
      "114720\n",
      "5062\n",
      "2785\n",
      "3337\n",
      "1427\n",
      "307\n",
      "19\n",
      "\n",
      "12203\n",
      "1271\n",
      "6731\n",
      "386\n",
      "6284\n",
      "1125\n",
      "True\n"
     ]
    }
   ],
   "source": [
    "print(x[x['t'] == 0].shape[0])\n",
    "print(x[x['t'] == 1].shape[0])\n",
    "print(x[x['t'] == 2].shape[0])\n",
    "print(x[x['t'] == 3].shape[0])\n",
    "print(x[x['t'] == 4].shape[0])\n",
    "print(x[x['t'] == 5].shape[0])\n",
    "print(x[x['t'] == 6].shape[0])\n",
    "print()\n",
    "print(x[x['toxic'] == 1].shape[0])\n",
    "print(x[x['severe_toxic'] == 1].shape[0])\n",
    "print(x[x['obscene'] == 1].shape[0])\n",
    "print(x[x['threat'] == 1].shape[0])\n",
    "print(x[x['insult'] == 1].shape[0])\n",
    "print(x[x['identity_hate'] == 1].shape[0])"
   ]
  },
  {
   "cell_type": "code",
   "execution_count": 76,
   "metadata": {},
   "outputs": [
    {
     "name": "stdout",
     "output_type": "stream",
     "text": [
      "58\n",
      "1183\n",
      "176\n",
      "1033\n"
     ]
    }
   ],
   "source": [
    "y = x[x['t'] != 0]\n",
    "y = y[y['severe_toxic'] == 1]\n",
    "print(y[y['obscene']==0].shape[0])\n",
    "print(y[y['threat']==0].shape[0])\n",
    "print(y[y['insult']==0].shape[0])\n",
    "print(y[y['identity_hate']==0].shape[0])"
   ]
  },
  {
   "cell_type": "code",
   "execution_count": 78,
   "metadata": {},
   "outputs": [
    {
     "name": "stdout",
     "output_type": "stream",
     "text": [
      "45888\n",
      "11666 5518 2014\n",
      "6148 135 42677\n",
      "6013 1344 0\n",
      "4669 149 33908\n",
      "done\n"
     ]
    }
   ],
   "source": [
    "# make file\n",
    "\n",
    "remain = x[x['t'] != 0]\n",
    "zero = x[x['t'] == 0].sample(frac=0.4)\n",
    "zs = zero.shape[0]\n",
    "print(zs)\n",
    "severe_toxic = remain[remain['severe_toxic'] == 1].sample(n=zs, replace=True)\n",
    "df = pd.concat([zero, severe_toxic])\n",
    "remain = remain[remain['severe_toxic'] == 0]\n",
    "\n",
    "# print(remain.shape[0], remain[remain['severe_toxic'] == 1].shape[0])\n",
    "# severe_toxic = remain[remain['severe_toxic'] == 1].sample(n=zs, replace=True)\n",
    "# remain = remain[remain['severe_toxic'] == 0]\n",
    "\n",
    "print(remain.shape[0], remain[remain['obscene'] == 1].shape[0], max(0,zs-df[df['obscene']==1].shape[0]))\n",
    "obscene = remain[remain['obscene'] == 1].sample(n=max(0,zs-df[df['obscene']==1].shape[0]), replace=True)\n",
    "df = pd.concat([df, obscene])\n",
    "remain = remain[remain['obscene'] == 0]\n",
    "\n",
    "print(remain.shape[0], remain[remain['threat'] == 1].shape[0], max(0,zs-df[df['threat']==1].shape[0]))\n",
    "threat = remain[remain['threat'] == 1].sample(n=max(0,zs-df[df['threat']==1].shape[0]), replace=True)\n",
    "df = pd.concat([df, threat])\n",
    "remain = remain[remain['threat'] == 0]\n",
    "\n",
    "print(remain.shape[0], remain[remain['insult'] == 1].shape[0], max(0,zs-df[df['insult']==1].shape[0]))\n",
    "insult = remain[remain['insult'] == 1].sample(n=max(0,zs-df[df['insult']==1].shape[0]))\n",
    "df = pd.concat([df, insult])\n",
    "remain = remain[remain['insult'] == 0]\n",
    "\n",
    "print(remain.shape[0], remain[remain['identity_hate'] == 1].shape[0], max(0,zs-df[df['identity_hate']==1].shape[0]))\n",
    "identity_hate = remain[remain['identity_hate'] == 1].sample(n=max(0,zs-df[df['identity_hate']==1].shape[0]), replace=True)\n",
    "df = pd.concat([df, identity_hate])\n",
    "\n",
    "df = shuffle(pd.concat([zero, severe_toxic, obscene, threat, insult, identity_hate], ignore_index=True))\n",
    "df.to_csv(path + 'lstm_one_file/lstm.csv', index=False)\n",
    "\n",
    "print('done')"
   ]
  },
  {
   "cell_type": "code",
   "execution_count": 63,
   "metadata": {},
   "outputs": [
    {
     "name": "stdout",
     "output_type": "stream",
     "text": [
      "57338\n",
      "135717\n",
      "57338\n",
      "57338\n",
      "57338\n",
      "58376\n",
      "57338\n"
     ]
    }
   ],
   "source": [
    "y = df[df['t']!=0]\n",
    "print(df[df['t'] == 0].shape[0])\n",
    "print(y[y['toxic'] == 1].shape[0])\n",
    "print(y[y['severe_toxic'] == 1].shape[0])\n",
    "print(y[y['obscene'] == 1].shape[0])\n",
    "print(y[y['threat'] == 1].shape[0])\n",
    "print(y[y['insult'] == 1].shape[0])\n",
    "print(y[y['identity_hate'] == 1].shape[0])"
   ]
  },
  {
   "cell_type": "code",
   "execution_count": 73,
   "metadata": {},
   "outputs": [
    {
     "name": "stdout",
     "output_type": "stream",
     "text": [
      "127657 170814\n"
     ]
    }
   ],
   "source": [
    "print(x.shape[0], df.shape[0])"
   ]
  }
 ],
 "metadata": {
  "kernelspec": {
   "display_name": "Python 3",
   "language": "python",
   "name": "python3"
  },
  "language_info": {
   "codemirror_mode": {
    "name": "ipython",
    "version": 3
   },
   "file_extension": ".py",
   "mimetype": "text/x-python",
   "name": "python",
   "nbconvert_exporter": "python",
   "pygments_lexer": "ipython3",
   "version": "3.6.3"
  }
 },
 "nbformat": 4,
 "nbformat_minor": 2
}
