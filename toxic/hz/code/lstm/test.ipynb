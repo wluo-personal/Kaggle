{
 "cells": [
  {
   "cell_type": "code",
   "execution_count": 2,
   "metadata": {},
   "outputs": [
    {
     "name": "stdout",
     "output_type": "stream",
     "text": [
      "         A  toxic  severe_toxic  obscene  threat  insult  identity_hate\n",
      "0  the and      0             0        0       0       0              0\n",
      "1      and      0             0        0       0       0              0\n",
      "2      and      0             0        0       0       0              0\n",
      "         A  toxic  severe_toxic  obscene  threat  insult  identity_hate\n",
      "0  the and      0             0        0       0       0              0\n",
      "1      and      0             0        0       0       0              0\n",
      "2      and      0             0        0       0       0              0\n",
      "3  the and      0             0        0       0       0              0\n",
      "4      and      0             0        0       0       0              0\n",
      "5      and      0             0        0       0       0              0\n",
      "6  the and      0             0        0       0       0              0\n",
      "7      and      0             0        0       0       0              0\n",
      "8      and      0             0        0       0       0              0\n"
     ]
    }
   ],
   "source": [
    "import pandas as pd\n",
    "\n",
    "a = pd.read_csv('../../data/a.csv')\n",
    "print(a)\n",
    "\n",
    "print(pd.concat([a,a,a], ignore_index=True))"
   ]
  }
 ],
 "metadata": {
  "kernelspec": {
   "display_name": "Python 3",
   "language": "python",
   "name": "python3"
  },
  "language_info": {
   "codemirror_mode": {
    "name": "ipython",
    "version": 3
   },
   "file_extension": ".py",
   "mimetype": "text/x-python",
   "name": "python",
   "nbconvert_exporter": "python",
   "pygments_lexer": "ipython3",
   "version": "3.6.3"
  }
 },
 "nbformat": 4,
 "nbformat_minor": 2
}
