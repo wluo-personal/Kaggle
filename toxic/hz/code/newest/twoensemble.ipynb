{
 "cells": [
  {
   "cell_type": "code",
   "execution_count": 1,
   "metadata": {},
   "outputs": [],
   "source": [
    "import pandas as pd\n",
    "\n",
    "PATH = '../../data/'\n",
    "\n",
    "g = pd.read_csv(PATH + 'logreg/logreg.csv')\n",
    "f = pd.read_csv(PATH + 'nblogreg/nblogreg.csv')\n",
    "\n",
    "l = ['toxic', 'obscene', 'insult', 'severe_toxic', 'threat', 'identity_hate']\n",
    "\n",
    "f[l] = (f[l]*2 + g[l]) / 3\n",
    "\n",
    "f.to_csv(PATH + 'twoe.csv', index=False)"
   ]
  }
 ],
 "metadata": {
  "kernelspec": {
   "display_name": "Python 3",
   "language": "python",
   "name": "python3"
  },
  "language_info": {
   "codemirror_mode": {
    "name": "ipython",
    "version": 3
   },
   "file_extension": ".py",
   "mimetype": "text/x-python",
   "name": "python",
   "nbconvert_exporter": "python",
   "pygments_lexer": "ipython3",
   "version": "3.6.3"
  }
 },
 "nbformat": 4,
 "nbformat_minor": 2
}
