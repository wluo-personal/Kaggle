{
 "cells": [
  {
   "cell_type": "code",
   "execution_count": 7,
   "metadata": {},
   "outputs": [
    {
     "name": "stdout",
     "output_type": "stream",
     "text": [
      "(159571, 27)\n"
     ]
    }
   ],
   "source": [
    "import pandas as pd\n",
    "import numpy as np\n",
    "from nltk.stem.wordnet import WordNetLemmatizer\n",
    "from nltk.tokenize import TweetTokenizer\n",
    "from textblob import TextBlob\n",
    "import re\n",
    "import time\n",
    "\n",
    "PATH = '../../data/'\n",
    "\n",
    "train = pd.read_csv(PATH + 'cleaned_train.csv')\n",
    "test = pd.read_csv(PATH + 'cleaned_test.csv')\n",
    "\n",
    "print(train.shape)"
   ]
  },
  {
   "cell_type": "code",
   "execution_count": 13,
   "metadata": {},
   "outputs": [
    {
     "name": "stdout",
     "output_type": "stream",
     "text": [
      "correct train\n",
      "4.642794847488403\n",
      "['Unnamed: 0' 'id' 'comment_text' 'toxic' 'severe_toxic' 'obscene' 'threat'\n",
      " 'insult' 'identity_hate' 'comment_text_cleaned' 'word_count'\n",
      " 'cleaned_word_count' 'unique_word_count' 'cleaned_unique_word_count'\n",
      " 'question_marks' 'consecutive_question_marks' 'exclamation_marks'\n",
      " 'consecutive_exclamation_marks' 'uppercase_letters' 'ellipsis' 'period'\n",
      " 'parentheses_pair' 'special_symbol' 'sentence' 'upper_word_ratio'\n",
      " 'unique_word_ratio' 'mark_count_ratio']\n"
     ]
    }
   ],
   "source": [
    "def check(comment):\n",
    "    b = TextBlob(comment)\n",
    "    return str(b.correct())\n",
    "\n",
    "train_x = train.loc[0 : 5, ['comment_text_cleaned']]\n",
    "\n",
    "print('correct train')\n",
    "start = time.time()\n",
    "train_x['comment_text_correct'] = train_x['comment_text_cleaned'].apply(check)\n",
    "print(time.time() - start)\n",
    "# print('correct test')\n",
    "# start = time.time()\n",
    "# test['comment_text_correct'] = test['comment_text_cleaned'].apply(check)\n",
    "# print(time.time() - start)\n",
    "\n",
    "print(train.columns.values)"
   ]
  },
  {
   "cell_type": "code",
   "execution_count": null,
   "metadata": {},
   "outputs": [],
   "source": [
    "train.to_csv(PATH + 'cleaned_train.csv')\n",
    "test.to_csv(PATH + 'cleaned_test.csv')\n",
    "print('done')"
   ]
  }
 ],
 "metadata": {
  "kernelspec": {
   "display_name": "Python 3",
   "language": "python",
   "name": "python3"
  },
  "language_info": {
   "codemirror_mode": {
    "name": "ipython",
    "version": 3
   },
   "file_extension": ".py",
   "mimetype": "text/x-python",
   "name": "python",
   "nbconvert_exporter": "python",
   "pygments_lexer": "ipython3",
   "version": "3.6.3"
  }
 },
 "nbformat": 4,
 "nbformat_minor": 2
}
