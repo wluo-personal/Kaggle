{
 "cells": [
  {
   "cell_type": "code",
   "execution_count": 11,
   "metadata": {},
   "outputs": [
    {
     "name": "stdout",
     "output_type": "stream",
     "text": [
      "../../data/nblogreg/nblogreg.csv\n",
      "../../data/logreg/logreg.csv\n",
      "../../data/lstm/lstm.csv\n",
      "../../data/cnn/cnn.csv\n",
      "../../data/nblogregOnevsOne/nblogregOnevsOne.csv\n",
      "done\n"
     ]
    }
   ],
   "source": [
    "import pandas as pd\n",
    "import numpy as np\n",
    "from sklearn.metrics import roc_auc_score\n",
    "\n",
    "model = ['nblogreg', 'logreg', 'lstm', 'cnn', 'nblogregOnevsOne']\n",
    "label_cols = ['toxic', 'severe_toxic', 'obscene', 'threat', 'insult', 'identity_hate']\n",
    "PATH = '../../data/'\n",
    "weight = [2,1,5,3,5]\n",
    "\n",
    "train = pd.read_csv(PATH + 'cleaned_train.csv')\n",
    "\n",
    "test_file = PATH + model[0] + '/' + model[0] + '.csv'\n",
    "print(test_file)\n",
    "\n",
    "test = weight[0] * pd.read_csv(test_file)[label_cols]\n",
    "\n",
    "for i in range(1, len(model)):\n",
    "    test_file = PATH + model[i] + '/' + model[i] + '.csv'\n",
    "    print(test_file)\n",
    "    test +=  weight[i] * pd.read_csv(test_file)[label_cols]\n",
    "\n",
    "test = test / sum(weight)\n",
    "# print(test.shape, train[label_cols].shape)\n",
    "# print('total score is {}'.format(roc_auc_score(train[label_cols], test)))\n",
    "\n",
    "submission = pd.read_csv(PATH + 'sample_submission.csv')\n",
    "submission[label_cols] = test\n",
    "submission.to_csv(PATH + 'ensemble/plain_ensemble.csv', index=False)\n",
    "    \n",
    "print('done')"
   ]
  }
 ],
 "metadata": {
  "kernelspec": {
   "display_name": "Python 3",
   "language": "python",
   "name": "python3"
  },
  "language_info": {
   "codemirror_mode": {
    "name": "ipython",
    "version": 3
   },
   "file_extension": ".py",
   "mimetype": "text/x-python",
   "name": "python",
   "nbconvert_exporter": "python",
   "pygments_lexer": "ipython3",
   "version": "3.6.3"
  }
 },
 "nbformat": 4,
 "nbformat_minor": 2
}
