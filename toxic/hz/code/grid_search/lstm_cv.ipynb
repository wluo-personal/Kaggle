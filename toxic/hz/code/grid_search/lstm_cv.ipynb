{
 "cells": [
  {
   "cell_type": "code",
   "execution_count": null,
   "metadata": {},
   "outputs": [],
   "source": [
    "import pandas as pd\n",
    "import numpy as np\n",
    "from sklearn.model_selection import StratifiedKFold\n",
    "\n",
    "def cv_train(get_model, train_model, params, x, y, n_splits=10):\n",
    "    generator = StratifiedKFold(n_splits=n_splits)\n",
    "    y_true = np.zeros(shape=y.shape)\n",
    "    prediction = np.zeros(shape=y.shape)\n",
    "    idx = 0\n",
    "    for train_idx, test_idx in generator.split(x, y):\n",
    "        print(train_idx, test_idx)\n",
    "        x_train, x_test = x[train_idx], x[test_idx]\n",
    "        y_train, y_test = y[train_idx], y[test_idx]\n",
    "        length = y_test.shape[0]\n",
    "        \n",
    "        print('getting model')\n",
    "        model = get_model(params)\n",
    "        print('training')\n",
    "        y_pre = train_model(model, x_train, y_train, x_test, y_test, params)\n",
    "        y_true[idx : (idx + length), :] = y_test\n",
    "        prediction[idx : (idx + length), :] = y_pre"
   ]
  }
 ],
 "metadata": {
  "kernelspec": {
   "display_name": "Python 3",
   "language": "python",
   "name": "python3"
  },
  "language_info": {
   "codemirror_mode": {
    "name": "ipython",
    "version": 3
   },
   "file_extension": ".py",
   "mimetype": "text/x-python",
   "name": "python",
   "nbconvert_exporter": "python",
   "pygments_lexer": "ipython3",
   "version": "3.6.3"
  }
 },
 "nbformat": 4,
 "nbformat_minor": 2
}
