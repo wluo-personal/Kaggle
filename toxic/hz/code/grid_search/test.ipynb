{
 "cells": [
  {
   "cell_type": "code",
   "execution_count": 1,
   "metadata": {},
   "outputs": [
    {
     "name": "stderr",
     "output_type": "stream",
     "text": [
      "Using TensorFlow backend.\n"
     ]
    }
   ],
   "source": [
    "import pandas as pd\n",
    "import numpy as np\n",
    "from keras.models import Model\n",
    "from nltk.tokenize import TweetTokenizer\n",
    "from keras.layers import Dense, Embedding, Input, LSTM, Bidirectional, GlobalMaxPool1D, Dropout\n",
    "from keras.preprocessing import text, sequence\n",
    "from keras.callbacks import EarlyStopping, ModelCheckpoint\n",
    "from sklearn.metrics import roc_auc_score\n",
    "from sklearn.model_selection import train_test_split"
   ]
  },
  {
   "cell_type": "code",
   "execution_count": 43,
   "metadata": {},
   "outputs": [],
   "source": [
    "inp = [[1,2,3],[4,8,16],[7,8,9],[16,32,64],[10,11,12], [64,128,256]]\n",
    "out = [0,1,0,1,0,1]"
   ]
  },
  {
   "cell_type": "code",
   "execution_count": 69,
   "metadata": {},
   "outputs": [
    {
     "name": "stdout",
     "output_type": "stream",
     "text": [
      "Train on 3 samples, validate on 3 samples\n",
      "Epoch 1/3\n",
      "3/3 [==============================] - 1s 385ms/step - loss: 10.6283 - acc: 0.0000e+00 - val_loss: 5.3141 - val_acc: 0.0000e+00\n",
      "Epoch 2/3\n",
      "3/3 [==============================] - 0s 4ms/step - loss: 10.6283 - acc: 0.0000e+00 - val_loss: 5.3141 - val_acc: 0.0000e+00\n",
      "Epoch 3/3\n",
      "3/3 [==============================] - 0s 5ms/step - loss: 10.6283 - acc: 0.0000e+00 - val_loss: 5.3141 - val_acc: 0.0000e+00\n",
      "{'val_loss': [5.3141283194224327, 5.3141283194224327, 5.3141283194224327], 'val_acc': [0.0, 0.0, 0.0], 'loss': [10.628256519635533, 10.628256519635533, 10.628256519635533], 'acc': [0.0, 0.0, 0.0]} 5.31412831942\n"
     ]
    }
   ],
   "source": [
    "input = Input(shape=(3,))\n",
    "x = Dense(1)(input)\n",
    "model = Model(inputs=input, outputs=x)\n",
    "model.compile(loss='binary_crossentropy', optimizer='adam', metrics=['accuracy'])\n",
    "\n",
    "checkpoint = ModelCheckpoint('../../model/lstm_best.hdf5', monitor='val_loss', verbose=0,\\\n",
    "                             save_best_only=True, mode='min')\n",
    "earlystopping = EarlyStopping(monitor=\"val_loss\", mode=\"min\", patience=20)\n",
    "callbacks_list = [checkpoint, earlystopping]\n",
    "history = model.fit(inp, out, batch_size=1, epochs=3, validation_split=0.5, callbacks=callbacks_list)\n",
    "\n",
    "print(history.history, history.history['val_loss'][0])"
   ]
  },
  {
   "cell_type": "code",
   "execution_count": 72,
   "metadata": {},
   "outputs": [
    {
     "name": "stdout",
     "output_type": "stream",
     "text": [
      "{'a': 0, 'c': 1, 'b': 2}\n"
     ]
    }
   ],
   "source": [
    "a = ['a','c','b']\n",
    "b = [0,1,2]\n",
    "print(dict(zip(a,b)))"
   ]
  },
  {
   "cell_type": "code",
   "execution_count": 15,
   "metadata": {},
   "outputs": [
    {
     "name": "stdout",
     "output_type": "stream",
     "text": [
      "   a  b\n",
      "0  1  2\n",
      "1  1  2\n"
     ]
    }
   ],
   "source": [
    "import numpy as np\n",
    "import pandas as pd\n",
    "\n",
    "x = np.array([1,2])\n",
    "y = np.array([1,2])\n",
    "b = [x,y]\n",
    "a = pd.DataFrame(b, columns=['a','b'])\n",
    "print(a)"
   ]
  }
 ],
 "metadata": {
  "kernelspec": {
   "display_name": "Python 3",
   "language": "python",
   "name": "python3"
  },
  "language_info": {
   "codemirror_mode": {
    "name": "ipython",
    "version": 3
   },
   "file_extension": ".py",
   "mimetype": "text/x-python",
   "name": "python",
   "nbconvert_exporter": "python",
   "pygments_lexer": "ipython3",
   "version": "3.6.3"
  }
 },
 "nbformat": 4,
 "nbformat_minor": 2
}
