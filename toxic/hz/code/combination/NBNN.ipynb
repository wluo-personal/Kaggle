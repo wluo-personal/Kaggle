{
 "cells": [
  {
   "cell_type": "code",
   "execution_count": 22,
   "metadata": {},
   "outputs": [],
   "source": [
    "import pandas as pd\n",
    "import numpy as np\n",
    "from nltk.corpus import stopwords\n",
    "from nltk.tokenize import TweetTokenizer\n",
    "from sklearn.feature_extraction.text import TfidfVectorizer\n",
    "from sklearn.linear_model import LogisticRegression\n",
    "from scipy.sparse import csr_matrix\n",
    "from keras import regularizers\n",
    "from keras.models import Model\n",
    "from keras.layers import Dense, Input, Dropout, Embedding, concatenate\n",
    "from keras.callbacks import EarlyStopping, ModelCheckpoint, History\n",
    "from scipy.sparse import csr_matrix, hstack\n",
    "from sklearn.metrics import roc_auc_score"
   ]
  },
  {
   "cell_type": "code",
   "execution_count": 15,
   "metadata": {},
   "outputs": [
    {
     "name": "stdout",
     "output_type": "stream",
     "text": [
      "reading data\n",
      "data cleaning\n",
      "calculations\n",
      "(100000, 27)\n",
      "(10, 21)\n"
     ]
    }
   ],
   "source": [
    "PATH = '../../data/'\n",
    "\n",
    "print('reading data')\n",
    "\n",
    "train = pd.read_csv(PATH + 'cleaned_train.csv')[ : 100000]\n",
    "test = pd.read_csv(PATH + 'cleaned_test.csv')[ : 10]\n",
    "\n",
    "print('data cleaning')\n",
    "\n",
    "tok = TweetTokenizer()\n",
    "stopword = set(stopwords.words(\"english\"))\n",
    "\n",
    "def clean(comment):\n",
    "    text = tok.tokenize(comment)\n",
    "    text = [w for w in text if not w in stopword]\n",
    "    text = ' '.join(text)\n",
    "    if text == '': text = 'na'\n",
    "    return text\n",
    "\n",
    "train['comment_text_cleaned'] = train['comment_text_cleaned'].apply(lambda x: clean(x))\n",
    "test['comment_text_cleaned'] = test['comment_text_cleaned'].apply(lambda x: clean(x))\n",
    "\n",
    "print('calculations')\n",
    "\n",
    "train_sentence = train['comment_text_cleaned']\n",
    "test_sentence = test['comment_text_cleaned']\n",
    "\n",
    "def f(x):\n",
    "    x = tok.tokenize(x)\n",
    "    return len(x)\n",
    "\n",
    "text = pd.concat([train_sentence, test_sentence])\n",
    "\n",
    "print(train.shape)\n",
    "print(test.shape)"
   ]
  },
  {
   "cell_type": "code",
   "execution_count": 16,
   "metadata": {},
   "outputs": [
    {
     "name": "stdout",
     "output_type": "stream",
     "text": [
      "getting tfidf\n",
      "fitting char\n",
      "fitting phrase\n",
      "transforming train char\n",
      "transforming train phrase\n",
      "transforming test char\n",
      "transforming test phrase\n"
     ]
    },
    {
     "data": {
      "text/plain": [
       "<100000x1627888 sparse matrix of type '<class 'numpy.float64'>'\n",
       "\twith 5005349 stored elements in Compressed Sparse Row format>"
      ]
     },
     "execution_count": 16,
     "metadata": {},
     "output_type": "execute_result"
    }
   ],
   "source": [
    "# TfidfVectorizer(input=’content’, encoding=’utf-8’, decode_error=’strict’, strip_accents=None,\\\n",
    "#                 lowercase=True, preprocessor=None, tokenizer=None, analyzer=’word’, stop_words=None,\\\n",
    "#                 token_pattern=’(?u)\\b\\w\\w+\\b’, ngram_range=(1, 1), max_df=1.0, min_df=1, max_features=None,\\\n",
    "#                 vocabulary=None, binary=False, dtype=<class ‘numpy.int64’>, norm=’l2’, use_idf=True,\\\n",
    "#                 smooth_idf=True, sublinear_tf=False)\n",
    "\n",
    "print('getting tfidf')\n",
    "char_vectorizer = TfidfVectorizer(ngram_range=(1,1), stop_words='english', max_df=1.0, min_df=0,\\\n",
    "                                  strip_accents='unicode', use_idf=1, smooth_idf=1, sublinear_tf=1)\n",
    "phrase_vectorizer = TfidfVectorizer(ngram_range=(2,2), stop_words='english', max_df=1.0, min_df=0,\\\n",
    "                                    strip_accents='unicode', use_idf=1, smooth_idf=1, sublinear_tf=1)\n",
    "print('fitting char')\n",
    "char_vectorizer.fit(text.values)\n",
    "print('fitting phrase')\n",
    "phrase_vectorizer.fit(text.values)\n",
    "print('transforming train char')\n",
    "train_char = char_vectorizer.transform(train['comment_text_cleaned'].values)\n",
    "print('transforming train phrase')\n",
    "train_phrase = phrase_vectorizer.transform(train['comment_text_cleaned'].values)\n",
    "print('transforming test char')\n",
    "test_char = char_vectorizer.transform(test['comment_text_cleaned'].values)\n",
    "print('transforming test phrase')\n",
    "test_phrase = phrase_vectorizer.transform(test['comment_text_cleaned'].values)\n",
    "\n",
    "train_tfidf = hstack((train_char, train_phrase), format='csr')\n",
    "test_tfidf = hstack((test_char, test_phrase), format='csr')\n",
    "\n",
    "label_cols = ['toxic', 'severe_toxic', 'obscene', 'threat', 'insult', 'identity_hate']\n",
    "\n",
    "train_tfidf"
   ]
  },
  {
   "cell_type": "code",
   "execution_count": 17,
   "metadata": {},
   "outputs": [
    {
     "name": "stdout",
     "output_type": "stream",
     "text": [
      "combine featrues\n",
      "getting train features\n",
      "gettingtest features\n"
     ]
    },
    {
     "data": {
      "text/plain": [
       "[<100000x1627888 sparse matrix of type '<class 'numpy.float64'>'\n",
       " \twith 5005349 stored elements in Compressed Sparse Row format>,\n",
       " <100000x3 sparse matrix of type '<class 'numpy.float64'>'\n",
       " \twith 235199 stored elements in Compressed Sparse Row format>]"
      ]
     },
     "execution_count": 17,
     "metadata": {},
     "output_type": "execute_result"
    }
   ],
   "source": [
    "print('combine featrues')\n",
    "# other_feature_cols = ['word_count', 'cleaned_word_count', 'unique_word_count', 'cleaned_unique_word_count',\\\n",
    "#                       'question_marks', 'consecutive_question_marks', 'exclamation_marks',\\\n",
    "#                       'consecutive_exclamation_marks', 'uppercase_letters', 'ellipsis', 'period',\\\n",
    "#                       'parentheses_pair', 'special_symbol', 'sentence', 'upper_word_ratio', 'unique_word_ratio',\\\n",
    "#                       'mark_count_ratio']\n",
    "\n",
    "other_feature_cols = ['upper_word_ratio', 'unique_word_ratio', 'mark_count_ratio']\n",
    "\n",
    "print('getting train features')\n",
    "train_features = [train_tfidf, csr_matrix(train[other_feature_cols].values)]\n",
    "# train_features = train_tfidf\n",
    "\n",
    "print('gettingtest features')\n",
    "test_features = [test_tfidf, csr_matrix(test[other_feature_cols].values)]\n",
    "# test_features = test_tfidf\n",
    "\n",
    "train_features"
   ]
  },
  {
   "cell_type": "code",
   "execution_count": 27,
   "metadata": {},
   "outputs": [
    {
     "name": "stdout",
     "output_type": "stream",
     "text": [
      "done\n"
     ]
    }
   ],
   "source": [
    "def pr(y_i, y, train_features):\n",
    "    p = train_features[y==y_i].sum(0)\n",
    "    return (p + 1) / ((y == y_i).sum() + 1)\n",
    "\n",
    "def get_nn_model(inp1_len, inp2_len):\n",
    "    input = [Input(shape=(inp1_len,), sparse=True), Input(shape=(inp2_len,), sparse=True)]\n",
    "    x1 = Dense(2, activation='relu')(input[0])\n",
    "    x2 = Dense(2, activation='relu')(input[1])\n",
    "    x = Dense(2, activation='relu')(concatenate([x1, x2]))\n",
    "    x = Dropout(0.5)(x)\n",
    "    x = Dense(250, activation='relu', kernel_regularizer=regularizers.l2(0.01))(x)\n",
    "    x = Dense(2, activation='sigmoid')(x)\n",
    "    model = Model(inputs=input, outputs=x)\n",
    "    model.compile(loss='binary_crossentropy',\n",
    "                  optimizer='adam',\n",
    "                  metrics=['accuracy'])\n",
    "\n",
    "    return model\n",
    "\n",
    "def train_model(model, file_path, batch_size, epochs, X_train, y):\n",
    "    checkpoint = ModelCheckpoint(file_path, monitor='val_loss', verbose=1, save_best_only=True, mode='min')\n",
    "    earlystopping = EarlyStopping(monitor=\"val_loss\", mode=\"min\", patience=20)\n",
    "    callbacks_list = [checkpoint, earlystopping]\n",
    "    model.load_weights('../../model/nn_best.hdf5')\n",
    "    h = model.fit(X_train, y, batch_size=batch_size, epochs=epochs, validation_split=0.2, callbacks=callbacks_list)\n",
    "    print(h.history['val_loss'])\n",
    "    return model\n",
    "\n",
    "def predict(model, file_path, X_test):\n",
    "    model.load_weights(file_path)\n",
    "    return model.predict(X_test, verbose=1)\n",
    "\n",
    "def run(label_cols, train_features, train, test_features, train_len, file_path, batch_size, epochs):\n",
    "    preds = np.zeros((test.shape[0], len(label_cols)))\n",
    "    preds_train = np.zeros((train.shape[0], len(label_cols)))\n",
    "    for i, j in enumerate(label_cols):\n",
    "        print('fit', j)\n",
    "        y = train[j]\n",
    "        r = np.log(pr(1, y.values, train_features[0]) / pr(0, y.values, train_features[0]))\n",
    "        y = y.to_frame()\n",
    "        y['2'] = 1 - y\n",
    "        y = y.values\n",
    "        model = get_nn_model(train_len[0], train_len[1])\n",
    "        x_nb = [train_features[0].tocsr(), train_features[1]]\n",
    "#         x_nb = [train_features[0].multiply(r).tocsr(), train_features[1]]\n",
    "        model = train_model(model, file_path, batch_size, epochs, x_nb, y)\n",
    "        preds[:, i] = predict(model, file_path, [test_features[0].tocsr(), test_features[1]])[:, 0]\n",
    "#         preds[:, i] = predict(model, file_path, [test_features[0].multiply(r).tocsr(), test_features[1]])[:, 0]\n",
    "        preds_train[:, i] = predict(model, file_path, x_nb)[:, 0]\n",
    "        print('accuracy: {}'.format(roc_auc_score(train[j], preds_train[:, i])))\n",
    "        print('\\n\\n')\n",
    "        \n",
    "    return preds, preds_train\n",
    "\n",
    "def save(model_name, y_test, label_cols, path, is_train=False):\n",
    "    if is_train:\n",
    "        submission = pd.read_csv(path + 'sample_train.csv')\n",
    "        file_name = 'train_' + model_name\n",
    "    else:\n",
    "        submission = pd.read_csv(path + 'sample_submission.csv')\n",
    "        file_name = model_name\n",
    "    submission[label_cols] = y_test\n",
    "    submission.to_csv(path + model_name + '/' + file_name + '.csv', index=False)\n",
    "    \n",
    "print('done')"
   ]
  },
  {
   "cell_type": "code",
   "execution_count": null,
   "metadata": {},
   "outputs": [
    {
     "name": "stdout",
     "output_type": "stream",
     "text": [
      "predicting\n",
      "fit toxic\n",
      "Train on 80000 samples, validate on 20000 samples\n",
      "Epoch 1/5\n",
      "79968/80000 [============================>.] - ETA: 0s - loss: 0.1380 - acc: 0.9687Epoch 00001: val_loss improved from inf to 0.13874, saving model to ../../model/nn_best.hdf5\n",
      "80000/80000 [==============================] - 150s 2ms/step - loss: 0.1380 - acc: 0.9687 - val_loss: 0.1387 - val_acc: 0.9583\n",
      "Epoch 2/5\n",
      "79968/80000 [============================>.] - ETA: 0s - loss: 0.1305 - acc: 0.9711Epoch 00002: val_loss improved from 0.13874 to 0.13668, saving model to ../../model/nn_best.hdf5\n",
      "80000/80000 [==============================] - 151s 2ms/step - loss: 0.1305 - acc: 0.9711 - val_loss: 0.1367 - val_acc: 0.9579\n",
      "Epoch 3/5\n",
      "79968/80000 [============================>.] - ETA: 0s - loss: 0.1304 - acc: 0.9713Epoch 00003: val_loss did not improve\n",
      "80000/80000 [==============================] - 153s 2ms/step - loss: 0.1305 - acc: 0.9713 - val_loss: 0.1384 - val_acc: 0.9580\n",
      "Epoch 4/5\n",
      "79968/80000 [============================>.] - ETA: 0s - loss: 0.1255 - acc: 0.9726Epoch 00004: val_loss did not improve\n",
      "80000/80000 [==============================] - 155s 2ms/step - loss: 0.1255 - acc: 0.9726 - val_loss: 0.1400 - val_acc: 0.9583\n",
      "Epoch 5/5\n",
      "66144/80000 [=======================>......] - ETA: 26s - loss: 0.1241 - acc: 0.9731"
     ]
    }
   ],
   "source": [
    "FILE_PATH = '../../model/nn_best.hdf5'\n",
    "BATCH_SIZE = 32\n",
    "EPOCHS = 5\n",
    "\n",
    "print('predicting')\n",
    "y_test, y_train = run(label_cols, train_features, train, test_features,\\\n",
    "                      [train_tfidf.shape[1], len(other_feature_cols)],\\\n",
    "                      FILE_PATH, BATCH_SIZE, EPOCHS)\n",
    "\n",
    "print('accuracy: {}'.format(roc_auc_score(train[label_cols], y_train)))\n",
    "\n",
    "print('saving files')\n",
    "save('nbnn', y_test, label_cols, PATH)\n",
    "save('nbnn', y_train, label_cols, PATH, True)\n",
    "\n",
    "print('done')"
   ]
  }
 ],
 "metadata": {
  "kernelspec": {
   "display_name": "Python 3",
   "language": "python",
   "name": "python3"
  },
  "language_info": {
   "codemirror_mode": {
    "name": "ipython",
    "version": 3
   },
   "file_extension": ".py",
   "mimetype": "text/x-python",
   "name": "python",
   "nbconvert_exporter": "python",
   "pygments_lexer": "ipython3",
   "version": "3.6.3"
  }
 },
 "nbformat": 4,
 "nbformat_minor": 2
}
