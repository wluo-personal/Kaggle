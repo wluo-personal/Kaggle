{
 "cells": [
  {
   "cell_type": "code",
   "execution_count": 1,
   "metadata": {},
   "outputs": [
    {
     "name": "stdout",
     "output_type": "stream",
     "text": [
      "../../data/nblogreg/nblogreg.csv\n",
      "../../data/nbnn/nbnn.csv\n",
      "../../data/cnn/cnn.csv\n",
      "../../data/lstm/lstm.csv\n",
      "done\n"
     ]
    }
   ],
   "source": [
    "import pandas as pd\n",
    "import numpy as np\n",
    "from catboost import CatBoostClassifier\n",
    "from sklearn.model_selection import train_test_split\n",
    "\n",
    "model = ['nblogreg', 'nbnn', 'cnn', 'lstm']\n",
    "label_cols = ['toxic', 'severe_toxic', 'obscene', 'threat', 'insult', 'identity_hate']\n",
    "PATH = '../../data/'\n",
    "\n",
    "test_file = PATH + model[0] + '/' + model[0] + '.csv'\n",
    "print(test_file)\n",
    "\n",
    "test = pd.read_csv(test_file)[label_cols]\n",
    "\n",
    "for i in range(1, len(model)):\n",
    "    test_file = PATH + model[i] + '/' + model[i] + '.csv'\n",
    "    print(test_file)\n",
    "\n",
    "    test += pd.read_csv(test_file)[label_cols]\n",
    "\n",
    "test = test / len(model)\n",
    "submission = pd.read_csv(PATH + 'sample_submission.csv')\n",
    "submission[label_cols] = test\n",
    "submission.to_csv(PATH + 'ensemble/plain_ensemble.csv', index=False)\n",
    "    \n",
    "print('done')"
   ]
  }
 ],
 "metadata": {
  "kernelspec": {
   "display_name": "Python 3",
   "language": "python",
   "name": "python3"
  },
  "language_info": {
   "codemirror_mode": {
    "name": "ipython",
    "version": 3
   },
   "file_extension": ".py",
   "mimetype": "text/x-python",
   "name": "python",
   "nbconvert_exporter": "python",
   "pygments_lexer": "ipython3",
   "version": "3.6.3"
  }
 },
 "nbformat": 4,
 "nbformat_minor": 2
}
