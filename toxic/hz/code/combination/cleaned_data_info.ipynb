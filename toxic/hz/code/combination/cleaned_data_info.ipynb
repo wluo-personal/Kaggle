{
 "cells": [
  {
   "cell_type": "code",
   "execution_count": 1,
   "metadata": {},
   "outputs": [
    {
     "name": "stdout",
     "output_type": "stream",
     "text": [
      "['Unnamed: 0' 'id' 'comment_text' 'toxic' 'severe_toxic' 'obscene' 'threat'\n",
      " 'insult' 'identity_hate' 'comment_text_cleaned' 'word_count'\n",
      " 'cleaned_word_count' 'unique_word_count' 'cleaned_unique_word_count'\n",
      " 'consecutive_question_marks' 'cleaned_consecutive_question_marks'\n",
      " 'consecutive_exclamation_marks' 'cleaned_consecutive_exclamation_marks'\n",
      " 'uppercase_letters' 'cleaned_uppercase_letters' 'ellipsis'\n",
      " 'cleaned_ellipsis' 'period' 'cleaned_period' 'parentheses_paird'\n",
      " 'cleaned_parentheses_pair']\n",
      "['Unnamed: 0' 'id' 'comment_text' 'comment_text_cleaned' 'word_count'\n",
      " 'cleaned_word_count' 'unique_word_count' 'cleaned_unique_word_count'\n",
      " 'consecutive_question_marks' 'cleaned_consecutive_question_marks'\n",
      " 'consecutive_exclamation_marks' 'cleaned_consecutive_exclamation_marks'\n",
      " 'uppercase_letters' 'cleaned_uppercase_letters' 'ellipsis'\n",
      " 'cleaned_ellipsis' 'period' 'cleaned_period' 'parentheses_paird'\n",
      " 'cleaned_parentheses_pair']\n"
     ]
    }
   ],
   "source": [
    "import pandas as pd\n",
    "import numpy as np\n",
    "\n",
    "PATH = '../../data/'\n",
    "\n",
    "train = pd.read_csv(PATH + 'cleaned_train.csv')\n",
    "test = pd.read_csv(PATH + 'cleaned_test.csv')\n",
    "\n",
    "print(train.columns.values)\n",
    "print(test.columns.values)"
   ]
  },
  {
   "cell_type": "code",
   "execution_count": 7,
   "metadata": {},
   "outputs": [
    {
     "name": "stdout",
     "output_type": "stream",
     "text": [
      "{'consecutive_question_marks': 0, 'consecutive_exclamation_marks': 0, 'uppercase_letters': 144, 'ellipsis': 15, 'period': 0, 'parentheses_paird': 21}\n",
      "{'consecutive_question_marks': 1944, 'consecutive_exclamation_marks': 3512, 'uppercase_letters': 152855, 'ellipsis': 5, 'period': 10633, 'parentheses_paird': 7614}\n",
      "{'consecutive_question_marks': 157627, 'consecutive_exclamation_marks': 156059, 'uppercase_letters': 6572, 'ellipsis': 159551, 'period': 148938, 'parentheses_paird': 151936}\n",
      "159571\n"
     ]
    }
   ],
   "source": [
    "cols = ['word_count', 'unique_word_count', 'consecutive_question_marks', 'consecutive_exclamation_marks',\\\n",
    "        'uppercase_letters', 'ellipsis', 'period', 'parentheses_paird']\n",
    "cleaned_cols = ['cleaned_word_count', 'cleaned_unique_word_count', 'cleaned_consecutive_question_marks',\\\n",
    "                'cleaned_consecutive_exclamation_marks', 'cleaned_uppercase_letters', 'cleaned_ellipsis',\\\n",
    "                'cleaned_period', 'cleaned_parentheses_pair']\n",
    "dict = {}\n",
    "for i in range(2, len(cols)):\n",
    "    dict[cols[i]] = sum(train[cols[i]] < train[cleaned_cols[i]])\n",
    "print(dict)\n",
    "for i in range(2, len(cols)):\n",
    "    dict[cols[i]] = sum(train[cols[i]] > train[cleaned_cols[i]])\n",
    "print(dict)\n",
    "for i in range(2, len(cols)):\n",
    "    dict[cols[i]] = sum(train[cols[i]] == train[cleaned_cols[i]])\n",
    "print(dict)\n",
    "print(train.shape[0])"
   ]
  },
  {
   "cell_type": "code",
   "execution_count": 13,
   "metadata": {},
   "outputs": [
    {
     "name": "stdout",
     "output_type": "stream",
     "text": [
      "2\n"
     ]
    }
   ],
   "source": [
    "print(sum([True, True, False]))"
   ]
  }
 ],
 "metadata": {
  "kernelspec": {
   "display_name": "Python 3",
   "language": "python",
   "name": "python3"
  },
  "language_info": {
   "codemirror_mode": {
    "name": "ipython",
    "version": 3
   },
   "file_extension": ".py",
   "mimetype": "text/x-python",
   "name": "python",
   "nbconvert_exporter": "python",
   "pygments_lexer": "ipython3",
   "version": "3.6.3"
  }
 },
 "nbformat": 4,
 "nbformat_minor": 2
}
