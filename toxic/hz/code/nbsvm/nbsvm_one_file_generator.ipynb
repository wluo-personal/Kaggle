{
 "cells": [
  {
   "cell_type": "code",
   "execution_count": 8,
   "metadata": {},
   "outputs": [
    {
     "name": "stdout",
     "output_type": "stream",
     "text": [
      "toxic\n",
      "15294 72138\n",
      "../../data/nbsvm_one_files/toxic.csv\n",
      "severe_toxic\n",
      "1595 78988\n",
      "../../data/nbsvm_one_files/severe_toxic.csv\n",
      "obscene\n",
      "8449 75561\n",
      "../../data/nbsvm_one_files/obscene.csv\n",
      "threat\n",
      "478 79546\n",
      "../../data/nbsvm_one_files/threat.csv\n",
      "insult\n",
      "7877 75847\n",
      "../../data/nbsvm_one_files/insult.csv\n",
      "identity_hate\n",
      "1405 79083\n",
      "../../data/nbsvm_one_files/identity_hate.csv\n"
     ]
    }
   ],
   "source": [
    "import pandas as pd\n",
    "from sklearn.utils import shuffle\n",
    "\n",
    "PATH = '../../data/'\n",
    "\n",
    "train = pd.read_csv(PATH + 'cleaned_train.csv')\n",
    "label_cols = ['toxic', 'severe_toxic', 'obscene', 'threat', 'insult', 'identity_hate']\n",
    "\n",
    "for i in label_cols:\n",
    "    print(i)\n",
    "    df0 = train[train[i] == 1]\n",
    "    df1 = train[train[i] == 0].sample(frac=0.5)\n",
    "    \n",
    "    df0_len = df0.shape[0]\n",
    "    df1_len = df1.shape[0]\n",
    "    \n",
    "    print(df0_len, df1_len)\n",
    "    \n",
    "    df = df1.append(df0.sample(n=df1_len, replace=True), ignore_index=True)\n",
    "    print(PATH + 'nbsvm_one_files/' + i + '.csv')\n",
    "    shuffle(df).to_csv(PATH + 'nbsvm_one_files/' + i + '.csv', index=False)\n",
    "    \n",
    "print('done')"
   ]
  }
 ],
 "metadata": {
  "kernelspec": {
   "display_name": "Python 3",
   "language": "python",
   "name": "python3"
  },
  "language_info": {
   "codemirror_mode": {
    "name": "ipython",
    "version": 3
   },
   "file_extension": ".py",
   "mimetype": "text/x-python",
   "name": "python",
   "nbconvert_exporter": "python",
   "pygments_lexer": "ipython3",
   "version": "3.6.3"
  }
 },
 "nbformat": 4,
 "nbformat_minor": 2
}
