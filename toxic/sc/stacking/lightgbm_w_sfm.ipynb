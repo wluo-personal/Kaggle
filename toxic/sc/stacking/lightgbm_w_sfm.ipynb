{
 "cells": [
  {
   "cell_type": "code",
   "execution_count": 1,
   "metadata": {
    "collapsed": true
   },
   "outputs": [],
   "source": [
    "# The goal of this kernel is to demonstrate that LightGBM can have predictive\n",
    "# performance in line with that of a logistic regression. The theory is that\n",
    "# labeling is being driven by a few keywords that can be picked up by trees.\n",
    "#\n",
    "# With some careful tuning, patience with runtimes, and additional feature\n",
    "# engineering, this kernel can be tuned to slightly exceed the best\n",
    "# logistic regression. Best of all, the two approaches (LR and LGB) blend\n",
    "# well together.\n",
    "#\n",
    "# Hopefully, with some work, this could be a good addition to your ensemble.\n",
    "\n",
    "import gc\n",
    "import pandas as pd\n",
    "\n",
    "from scipy.sparse import csr_matrix, hstack\n",
    "\n",
    "from sklearn.feature_extraction.text import TfidfVectorizer\n",
    "\n",
    "from sklearn.model_selection import train_test_split\n",
    "from sklearn.feature_selection import SelectFromModel\n",
    "\n",
    "from sklearn.linear_model import LogisticRegression\n",
    "import lightgbm as lgb\n"
   ]
  },
  {
   "cell_type": "code",
   "execution_count": 2,
   "metadata": {},
   "outputs": [
    {
     "name": "stdout",
     "output_type": "stream",
     "text": [
      "Loaded\n",
      "Word TFIDF 1/2\n",
      "Word TFIDF 2/2\n",
      "Char TFIDF 1/2\n",
      "Char TFIDF 2/2\n",
      "HStack 1/2\n",
      "HStack 2/2\n"
     ]
    },
    {
     "data": {
      "text/plain": [
       "16"
      ]
     },
     "execution_count": 2,
     "metadata": {},
     "output_type": "execute_result"
    }
   ],
   "source": [
    "\n",
    "\n",
    "class_names = ['toxic', 'severe_toxic', 'obscene', 'threat', 'insult', 'identity_hate']\n",
    "\n",
    "PATH = '~/data/toxic/data/'\n",
    "\n",
    "train = pd.read_csv(PATH + 'cleaned_train.csv').fillna(' ')\n",
    "test = pd.read_csv(PATH + 'cleaned_test.csv').fillna(' ')\n",
    "\n",
    "print('Loaded')\n",
    "\n",
    "train_text = train['comment_text']\n",
    "test_text = test['comment_text']\n",
    "\n",
    "word_vectorizer = TfidfVectorizer(\n",
    "    sublinear_tf=True,\n",
    "    strip_accents='unicode',\n",
    "    analyzer='word',\n",
    "    token_pattern=r'\\w{1,}',\n",
    "    ngram_range=(1, 2),\n",
    "    max_features=200000)\n",
    "train_word_features = word_vectorizer.fit_transform(train_text)\n",
    "print('Word TFIDF 1/2')\n",
    "test_word_features = word_vectorizer.transform(test_text)\n",
    "print('Word TFIDF 2/2')\n",
    "\n",
    "char_vectorizer = TfidfVectorizer(\n",
    "    sublinear_tf=True,\n",
    "    strip_accents='unicode',\n",
    "    analyzer='char',\n",
    "    stop_words='english',\n",
    "    ngram_range=(1, 1), # 2, 6\n",
    "    max_features=5)\n",
    "train_char_features = char_vectorizer.fit_transform(train_text)\n",
    "print('Char TFIDF 1/2')\n",
    "test_char_features = char_vectorizer.transform(test_text)\n",
    "print('Char TFIDF 2/2')\n",
    "\n",
    "train_features = hstack([train_char_features, train_word_features])\n",
    "print('HStack 1/2')\n",
    "test_features = hstack([test_char_features, test_word_features])\n",
    "print('HStack 2/2')\n",
    "\n",
    "submission = pd.DataFrame.from_dict({'id': test['id']})\n",
    "\n",
    "train.drop('comment_text', axis=1, inplace=True)\n",
    "del test\n",
    "del train_text\n",
    "del test_text\n",
    "del train_char_features\n",
    "del test_char_features\n",
    "del train_word_features\n",
    "del test_word_features\n",
    "gc.collect()\n",
    "\n"
   ]
  },
  {
   "cell_type": "code",
   "execution_count": 3,
   "metadata": {
    "collapsed": true
   },
   "outputs": [],
   "source": [
    "import pdb"
   ]
  },
  {
   "cell_type": "code",
   "execution_count": 4,
   "metadata": {},
   "outputs": [
    {
     "name": "stdout",
     "output_type": "stream",
     "text": [
      "toxic\n",
      "(159571, 200005)\n",
      "(159571, 4786)\n",
      "[10]\ttraining's auc: 0.923995\tvalid_1's auc: 0.916171\n",
      "[20]\ttraining's auc: 0.943793\tvalid_1's auc: 0.929762\n",
      "[30]\ttraining's auc: 0.959004\tvalid_1's auc: 0.942964\n",
      "[40]\ttraining's auc: 0.968107\tvalid_1's auc: 0.948907\n",
      "[50]\ttraining's auc: 0.973284\tvalid_1's auc: 0.953616\n",
      "[60]\ttraining's auc: 0.976657\tvalid_1's auc: 0.956679\n",
      "[70]\ttraining's auc: 0.979051\tvalid_1's auc: 0.958577\n",
      "[80]\ttraining's auc: 0.981189\tvalid_1's auc: 0.960543\n",
      "[90]\ttraining's auc: 0.982921\tvalid_1's auc: 0.96183\n",
      "[100]\ttraining's auc: 0.98421\tvalid_1's auc: 0.962022\n",
      "[110]\ttraining's auc: 0.985309\tvalid_1's auc: 0.962676\n",
      "[120]\ttraining's auc: 0.986306\tvalid_1's auc: 0.963425\n",
      "[130]\ttraining's auc: 0.98716\tvalid_1's auc: 0.964083\n",
      "[140]\ttraining's auc: 0.987926\tvalid_1's auc: 0.964623\n",
      "severe_toxic\n",
      "(159571, 200005)\n"
     ]
    },
    {
     "name": "stderr",
     "output_type": "stream",
     "text": [
      "/home/kai/anaconda3/lib/python3.6/site-packages/sklearn/linear_model/sag.py:326: ConvergenceWarning: The max_iter was reached which means the coef_ did not converge\n",
      "  \"the coef_ did not converge\", ConvergenceWarning)\n"
     ]
    },
    {
     "name": "stdout",
     "output_type": "stream",
     "text": [
      "(159571, 9046)\n",
      "[10]\ttraining's auc: 0.973585\tvalid_1's auc: 0.98574\n",
      "[20]\ttraining's auc: 0.985484\tvalid_1's auc: 0.984285\n",
      "[30]\ttraining's auc: 0.989867\tvalid_1's auc: 0.98525\n",
      "[40]\ttraining's auc: 0.992647\tvalid_1's auc: 0.985462\n",
      "[50]\ttraining's auc: 0.994289\tvalid_1's auc: 0.985664\n",
      "obscene\n",
      "(159571, 200005)\n"
     ]
    },
    {
     "name": "stderr",
     "output_type": "stream",
     "text": [
      "/home/kai/anaconda3/lib/python3.6/site-packages/sklearn/linear_model/sag.py:326: ConvergenceWarning: The max_iter was reached which means the coef_ did not converge\n",
      "  \"the coef_ did not converge\", ConvergenceWarning)\n"
     ]
    },
    {
     "name": "stdout",
     "output_type": "stream",
     "text": [
      "(159571, 5633)\n",
      "[10]\ttraining's auc: 0.970236\tvalid_1's auc: 0.978649\n",
      "[20]\ttraining's auc: 0.979576\tvalid_1's auc: 0.98272\n",
      "[30]\ttraining's auc: 0.985798\tvalid_1's auc: 0.98579\n",
      "[40]\ttraining's auc: 0.989262\tvalid_1's auc: 0.987172\n",
      "[50]\ttraining's auc: 0.991013\tvalid_1's auc: 0.988783\n",
      "[60]\ttraining's auc: 0.992275\tvalid_1's auc: 0.989363\n",
      "[70]\ttraining's auc: 0.99323\tvalid_1's auc: 0.989239\n",
      "[80]\ttraining's auc: 0.994104\tvalid_1's auc: 0.989222\n",
      "threat\n",
      "(159571, 200005)\n"
     ]
    },
    {
     "name": "stderr",
     "output_type": "stream",
     "text": [
      "/home/kai/anaconda3/lib/python3.6/site-packages/sklearn/linear_model/sag.py:326: ConvergenceWarning: The max_iter was reached which means the coef_ did not converge\n",
      "  \"the coef_ did not converge\", ConvergenceWarning)\n"
     ]
    },
    {
     "name": "stdout",
     "output_type": "stream",
     "text": [
      "(159571, 7907)\n",
      "[10]\ttraining's auc: 0.948873\tvalid_1's auc: 0.888877\n",
      "[20]\ttraining's auc: 0.990782\tvalid_1's auc: 0.962706\n",
      "[30]\ttraining's auc: 0.997098\tvalid_1's auc: 0.986311\n",
      "[40]\ttraining's auc: 0.998853\tvalid_1's auc: 0.989597\n",
      "[50]\ttraining's auc: 0.999472\tvalid_1's auc: 0.987354\n",
      "[60]\ttraining's auc: 0.999746\tvalid_1's auc: 0.986845\n",
      "[70]\ttraining's auc: 0.99987\tvalid_1's auc: 0.985915\n",
      "[80]\ttraining's auc: 0.999939\tvalid_1's auc: 0.984106\n",
      "insult\n",
      "(159571, 200005)\n"
     ]
    },
    {
     "name": "stderr",
     "output_type": "stream",
     "text": [
      "/home/kai/anaconda3/lib/python3.6/site-packages/sklearn/linear_model/sag.py:326: ConvergenceWarning: The max_iter was reached which means the coef_ did not converge\n",
      "  \"the coef_ did not converge\", ConvergenceWarning)\n"
     ]
    },
    {
     "name": "stdout",
     "output_type": "stream",
     "text": [
      "(159571, 5996)\n",
      "[10]\ttraining's auc: 0.95328\tvalid_1's auc: 0.949968\n",
      "[20]\ttraining's auc: 0.965642\tvalid_1's auc: 0.961717\n",
      "[30]\ttraining's auc: 0.975147\tvalid_1's auc: 0.970155\n",
      "[40]\ttraining's auc: 0.980828\tvalid_1's auc: 0.972785\n",
      "[50]\ttraining's auc: 0.984024\tvalid_1's auc: 0.974603\n",
      "[60]\ttraining's auc: 0.986179\tvalid_1's auc: 0.975801\n",
      "[70]\ttraining's auc: 0.987937\tvalid_1's auc: 0.976377\n",
      "identity_hate\n",
      "(159571, 200005)\n"
     ]
    },
    {
     "name": "stderr",
     "output_type": "stream",
     "text": [
      "/home/kai/anaconda3/lib/python3.6/site-packages/sklearn/linear_model/sag.py:326: ConvergenceWarning: The max_iter was reached which means the coef_ did not converge\n",
      "  \"the coef_ did not converge\", ConvergenceWarning)\n"
     ]
    },
    {
     "name": "stdout",
     "output_type": "stream",
     "text": [
      "(159571, 8516)\n",
      "[10]\ttraining's auc: 0.933711\tvalid_1's auc: 0.888707\n",
      "[20]\ttraining's auc: 0.971245\tvalid_1's auc: 0.968729\n",
      "[30]\ttraining's auc: 0.984338\tvalid_1's auc: 0.972178\n",
      "[40]\ttraining's auc: 0.988867\tvalid_1's auc: 0.972661\n",
      "[50]\ttraining's auc: 0.991815\tvalid_1's auc: 0.976516\n",
      "[60]\ttraining's auc: 0.993642\tvalid_1's auc: 0.977425\n",
      "[70]\ttraining's auc: 0.995029\tvalid_1's auc: 0.97824\n",
      "[80]\ttraining's auc: 0.995882\tvalid_1's auc: 0.979439\n"
     ]
    }
   ],
   "source": [
    "for class_name in class_names:\n",
    "    print(class_name)\n",
    "    train_target = train[class_name]\n",
    "    model = LogisticRegression(solver='sag')\n",
    "    sfm = SelectFromModel(model, threshold='5*mean')\n",
    "    print(train_features.shape)\n",
    "    train_sparse_matrix = sfm.fit_transform(train_features, train_target)\n",
    "    print(train_sparse_matrix.shape)\n",
    "    train_sparse_matrix, valid_sparse_matrix, y_train, y_valid = train_test_split(train_sparse_matrix, train_target, test_size=0.05, random_state=144)\n",
    "    test_sparse_matrix = sfm.transform(test_features)\n",
    "    #pdb.set_trace()\n",
    "    d_train = lgb.Dataset(train_sparse_matrix, label=y_train)\n",
    "    d_valid = lgb.Dataset(valid_sparse_matrix, label=y_valid)\n",
    "    watchlist = [d_train, d_valid]\n",
    "    params = {'learning_rate': 0.2,\n",
    "              'application': 'binary',\n",
    "              'num_leaves': 31,\n",
    "              'verbosity': -1,\n",
    "              'metric': 'auc',\n",
    "              'data_random_seed': 2,\n",
    "              'bagging_fraction': 0.8,\n",
    "              'feature_fraction': 0.6,\n",
    "              'nthread': 4,\n",
    "              'lambda_l1': 1,\n",
    "              'lambda_l2': 1}\n",
    "    rounds_lookup = {'toxic': 140,\n",
    "                 'severe_toxic': 50,\n",
    "                 'obscene': 80,\n",
    "                 'threat': 80,\n",
    "                 'insult': 70,\n",
    "                 'identity_hate': 80}\n",
    "    model = lgb.train(params,\n",
    "                      train_set=d_train,\n",
    "                      num_boost_round=rounds_lookup[class_name],\n",
    "                      valid_sets=watchlist,\n",
    "                      verbose_eval=10)\n",
    "    submission[class_name] = model.predict(test_sparse_matrix)\n",
    "\n",
    "submission.to_csv('lgb_submission.csv', index=False)"
   ]
  },
  {
   "cell_type": "code",
   "execution_count": null,
   "metadata": {
    "collapsed": true
   },
   "outputs": [],
   "source": []
  }
 ],
 "metadata": {
  "kernelspec": {
   "display_name": "Python 3",
   "language": "python",
   "name": "python3"
  },
  "language_info": {
   "codemirror_mode": {
    "name": "ipython",
    "version": 3
   },
   "file_extension": ".py",
   "mimetype": "text/x-python",
   "name": "python",
   "nbconvert_exporter": "python",
   "pygments_lexer": "ipython3",
   "version": "3.6.3"
  }
 },
 "nbformat": 4,
 "nbformat_minor": 2
}
