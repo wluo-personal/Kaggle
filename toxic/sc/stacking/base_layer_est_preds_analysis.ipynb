{
 "cells": [
  {
   "cell_type": "code",
   "execution_count": 1,
   "metadata": {},
   "outputs": [
    {
     "name": "stdout",
     "output_type": "stream",
     "text": [
      "load from file\n",
      "0.9825\tModelName.RNN_rnn_data_001\n",
      "0.9819\tModelName.ONESVC_wordtfidf_ng13_mf10w_chartfidf_ng25_mf20w_real\n",
      "0.9818\tModelName.ONELOGREG_wordtfidf_ng13_mf10w_chartfidf_ng25_mf20w_real\n",
      "0.9815\tModelName.NBLSVC_tfidf_wordchar_charmaxdf0.300000_ng(1, 2)_wmf100000_cmf100000\n",
      "0.9803\tModelName.NBSVM_tfidf_wordchar_charmaxdf0.300000_ng(1, 2)_wmf100000_cmf100000\n",
      "0.9794\tModelName.LGB_tfidf_wordchar_charmaxdf0.300000_ng(1, 2)_wmf100000_cmf100000\n",
      "0.9793\tModelName.LOGREG_tfidf_wordchar_charmaxdf0.300000_ng(1, 2)_wmf100000_cmf100000\n",
      "0.9786\tModelName.ONESVC_wordtfidf_ng13_mf10w_chartfidf_ng25_mf20w\n",
      "0.9774\tModelName.NBLSVC_tfidf_word_df2_ng(1, 1)_wmf200000\n",
      "0.9768\tModelName.NBSVM_tfidf_word_df2_ng(1, 1)_wmf200000\n",
      "0.9765\tModelName.NBLSVC_tfidf_word_df2_ng(1, 2)_wmf200000\n",
      "0.9761\tModelName.NBSVM_tfidf_word_df2_ng(1, 2)_wmf200000\n",
      "0.976\tModelName.LOGREG_tfidf_word_df2_ng(1, 1)_wmf200000\n",
      "0.9752\tModelName.LOGREG_tfidf_word_df2_ng(1, 2)_wmf200000\n",
      "0.9726\tModelName.LGB_tfidf_word_df2_ng(1, 2)_wmf200000\n",
      "0.9723\tModelName.LGB_tfidf_word_df2_ng(1, 1)_wmf200000\n"
     ]
    }
   ],
   "source": [
    "from base_layer_results_repo import BaseLayerResultsRepo\n",
    "\n",
    "base_layer_results_repo = BaseLayerResultsRepo()\n",
    "\n",
    "scores = base_layer_results_repo.show_scores()"
   ]
  },
  {
   "cell_type": "code",
   "execution_count": null,
   "metadata": {
    "collapsed": true
   },
   "outputs": [],
   "source": []
  },
  {
   "cell_type": "code",
   "execution_count": 7,
   "metadata": {},
   "outputs": [],
   "source": [
    "selected_top_n = []\n",
    "for item in scores[:3]:\n",
    "    selected_top_n.append(item[0])"
   ]
  },
  {
   "cell_type": "code",
   "execution_count": 12,
   "metadata": {},
   "outputs": [
    {
     "name": "stdout",
     "output_type": "stream",
     "text": [
      "ModelName.RNN_rnn_data_001_1519810384.csv\n",
      "ModelName.ONESVC_wordtfidf_ng13_mf10w_chartfidf_ng25_mf20w_real_1519871930.csv\n",
      "ModelName.ONELOGREG_wordtfidf_ng13_mf10w_chartfidf_ng25_mf20w_real_1519871931.csv\n"
     ]
    }
   ],
   "source": [
    "path = '/home/kai/data/shiyi/stacking/BaseEstPreds/'\n",
    "\n",
    "import os\n",
    "import pandas as pd\n",
    "import numpy as np\n",
    "import matplotlib.pyplot as plt\n",
    "from pandas.plotting import scatter_matrix\n",
    "%matplotlib inline\n",
    "\n",
    "\n",
    "base_est_result_repo = {}\n",
    "\n",
    "label_cols = []\n",
    "for item in os.listdir(path):\n",
    "    for selected in select_top_n:\n",
    "        if selected in item:\n",
    "            print(item)\n",
    "            tmp = pd.read_csv(path+item)\n",
    "            base_est_result_repo[item] = tmp\n",
    "            label_cols = list(tmp.columns)\n",
    "            label_cols.pop(0) # remove 'id'"
   ]
  },
  {
   "cell_type": "code",
   "execution_count": null,
   "metadata": {
    "collapsed": true
   },
   "outputs": [],
   "source": [
    "def scatter_per_label(preds_repo, label_cols, draw_label):\n",
    "    \"\"\"\n",
    "    Params:\n",
    "        preds_repo: (dict)  key: prediction name. \n",
    "                            value: prediction df (usually read from saved csv)\n",
    "        label_cols: (list)  labels in prediction df\n",
    "        draw_label: (str)   the lable to draw scatter plot\n",
    "    \"\"\"\n",
    "    preds_mats = []\n",
    "    names = []\n",
    "    for label in label_cols:\n",
    "        preds_list = []\n",
    "        print(label)\n",
    "        for key, value in preds_repo.items():\n",
    "            if key not in names:\n",
    "                names.append(key)\n",
    "            preds_list.append(value[label].values.reshape(-1,1))\n",
    "        preds_mats.append(np.hstack(preds_list))\n",
    "\n",
    "    assert len(preds_mats) == len(label_cols)\n",
    "    assert preds_mats[0].shape[1] == len(preds_repo)\n",
    "    \n",
    "    \n",
    "    label_index = label_cols\n",
    "    temp = pd.DataFrame(preds_mats[label_cols.index(draw_label)], columns=names)\n",
    "    scatter_matrix(temp, figsize=(14,14))"
   ]
  },
  {
   "cell_type": "code",
   "execution_count": 14,
   "metadata": {},
   "outputs": [
    {
     "data": {
      "text/plain": [
       "0"
      ]
     },
     "execution_count": 14,
     "metadata": {},
     "output_type": "execute_result"
    }
   ],
   "source": [
    "label_cols.index('toxic')"
   ]
  },
  {
   "cell_type": "code",
   "execution_count": null,
   "metadata": {
    "collapsed": true
   },
   "outputs": [],
   "source": []
  }
 ],
 "metadata": {
  "kernelspec": {
   "display_name": "Python 3",
   "language": "python",
   "name": "python3"
  },
  "language_info": {
   "codemirror_mode": {
    "name": "ipython",
    "version": 3
   },
   "file_extension": ".py",
   "mimetype": "text/x-python",
   "name": "python",
   "nbconvert_exporter": "python",
   "pygments_lexer": "ipython3",
   "version": "3.6.3"
  }
 },
 "nbformat": 4,
 "nbformat_minor": 2
}
