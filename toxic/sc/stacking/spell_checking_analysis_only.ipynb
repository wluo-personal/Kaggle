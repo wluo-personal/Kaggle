{
 "cells": [
  {
   "cell_type": "code",
   "execution_count": 1,
   "metadata": {},
   "outputs": [
    {
     "name": "stderr",
     "output_type": "stream",
     "text": [
      "/home/kai/anaconda3/envs/tf_gpu/lib/python3.5/site-packages/h5py/__init__.py:36: FutureWarning: Conversion of the second argument of issubdtype from `float` to `np.floating` is deprecated. In future, it will be treated as `np.float64 == np.dtype(float).type`.\n",
      "  from ._conv import register_converters as _register_converters\n",
      "Using TensorFlow backend.\n"
     ]
    }
   ],
   "source": [
    "import numpy as np # linear algebra\n",
    "import pandas as pd # data processing, CSV file I/O (e.g. pd.read_csv)\n",
    "from keras.preprocessing import text, sequence\n"
   ]
  },
  {
   "cell_type": "code",
   "execution_count": 2,
   "metadata": {
    "collapsed": true
   },
   "outputs": [],
   "source": [
    "pd.set_option('display.max_colwidth', 362)\n",
    "pd.set_option('display.max_rows', 100)"
   ]
  },
  {
   "cell_type": "code",
   "execution_count": 3,
   "metadata": {
    "collapsed": true
   },
   "outputs": [],
   "source": [
    "label_cols=['toxic', 'severe_toxic', 'obscene', 'threat', 'insult', 'identity_hate']"
   ]
  },
  {
   "cell_type": "code",
   "execution_count": 4,
   "metadata": {
    "collapsed": true
   },
   "outputs": [],
   "source": [
    "PATH = '~/data/toxic/data/'\n",
    "# train = pd.read_csv(PATH + 'train.csv')\n",
    "# test = pd.read_csv(PATH + 'test.csv')\n",
    "# train = pd.read_csv(PATH + 'cleaned_train.csv')\n",
    "# test = pd.read_csv(PATH + 'cleaned_test.csv')\n",
    "train = pd.read_csv(PATH + 'train_preprocessed.csv')\n",
    "test = pd.read_csv(PATH + 'test_preprocessed.csv')"
   ]
  },
  {
   "cell_type": "code",
   "execution_count": 5,
   "metadata": {
    "collapsed": true
   },
   "outputs": [],
   "source": [
    "train_ori = pd.read_csv(PATH + 'train.csv')\n",
    "train = train.merge(train_ori[['comment_text', 'id']], on='id', suffixes=('', '_ori'))\n",
    "\n",
    "train_cleaned = pd.read_csv(PATH + 'cleaned_train.csv')\n",
    "train = train.merge(train_cleaned[['comment_text_cleaned', 'id']], on='id')"
   ]
  },
  {
   "cell_type": "code",
   "execution_count": 6,
   "metadata": {
    "collapsed": true
   },
   "outputs": [],
   "source": [
    "test_ori = pd.read_csv(PATH + 'test.csv')\n",
    "test = test.merge(test_ori[['comment_text', 'id']], on='id', suffixes=('', '_ori'))\n",
    "\n",
    "test_cleaned = pd.read_csv(PATH + 'cleaned_test.csv')\n",
    "test = test.merge(test_cleaned[['comment_text_cleaned', 'id']], on='id')"
   ]
  },
  {
   "cell_type": "code",
   "execution_count": 7,
   "metadata": {
    "collapsed": true
   },
   "outputs": [],
   "source": [
    "test.drop(label_cols, axis=1, inplace=True) # the preprocessed file contains label columns with value NaN, so drop them"
   ]
  },
  {
   "cell_type": "code",
   "execution_count": 8,
   "metadata": {
    "collapsed": true
   },
   "outputs": [],
   "source": [
    "# embeddings_index_lex, embed_size = word2Vec('lex')\n",
    "\n",
    "# embeddings_index_glc, embed_size = word2Vec('gl-common')"
   ]
  },
  {
   "cell_type": "code",
   "execution_count": 9,
   "metadata": {
    "collapsed": true
   },
   "outputs": [],
   "source": [
    "max_features=100000\n",
    "maxlen=150"
   ]
  },
  {
   "cell_type": "code",
   "execution_count": 10,
   "metadata": {
    "collapsed": true
   },
   "outputs": [],
   "source": [
    "comment_col = 'comment_text' # 'comment_text_cleaned' \n",
    "\n",
    "X_train = train[comment_col].str.lower().fillna('something') # something is a word of neutral sentiment\n",
    "y_train = train[[\"toxic\", \"severe_toxic\", \"obscene\", \"threat\", \"insult\", \"identity_hate\"]].values\n",
    "\n",
    "X_test = test[comment_col].str.lower().fillna('something')"
   ]
  },
  {
   "cell_type": "code",
   "execution_count": 11,
   "metadata": {
    "collapsed": true
   },
   "outputs": [],
   "source": [
    "tok=text.Tokenizer(num_words=max_features,lower=True)\n",
    "tok.fit_on_texts(list(X_train)+list(X_test))\n",
    "X_train=tok.texts_to_sequences(X_train)\n",
    "X_test=tok.texts_to_sequences(X_test)\n",
    "x_train=sequence.pad_sequences(X_train,maxlen=maxlen)\n",
    "x_test=sequence.pad_sequences(X_test,maxlen=maxlen)"
   ]
  },
  {
   "cell_type": "code",
   "execution_count": 12,
   "metadata": {
    "collapsed": true
   },
   "outputs": [],
   "source": [
    "train['having_pos_label'] = train.apply(lambda row: sum(row[label_cols]), axis=1)"
   ]
  },
  {
   "cell_type": "code",
   "execution_count": 13,
   "metadata": {
    "collapsed": true
   },
   "outputs": [],
   "source": [
    "train['splited'] = train['comment_text'].fillna('something').apply(lambda x: x.split())\n",
    "test['splited'] = test['comment_text'].fillna('something').apply(lambda x: x.split())"
   ]
  },
  {
   "cell_type": "code",
   "execution_count": 14,
   "metadata": {
    "collapsed": true
   },
   "outputs": [],
   "source": [
    "def found_word(word_list, word):\n",
    "    word_list = set(word_list)\n",
    "    if word in word_list:\n",
    "        return True\n",
    "    else:\n",
    "        return False"
   ]
  },
  {
   "cell_type": "code",
   "execution_count": 15,
   "metadata": {
    "collapsed": true
   },
   "outputs": [],
   "source": [
    "test[comment_col] = test[comment_col].str.lower().fillna('something')\n",
    "\n",
    "test['splited'] = test['comment_text'].apply(lambda x: x.split())"
   ]
  },
  {
   "cell_type": "code",
   "execution_count": 16,
   "metadata": {
    "collapsed": true
   },
   "outputs": [],
   "source": [
    "def analyze_word(the_word, verbose=True):\n",
    "    appear_total_times = tok.word_counts[the_word]\n",
    "    train['found'] = train['splited'].apply(lambda x: found_word(x, the_word))\n",
    "    appearsin_comments_in_train = sum(train['found'])\n",
    "    negative_comments = sum((train.found) & (train.having_pos_label))\n",
    "    if appearsin_comments_in_train != 0:\n",
    "        negative_ratio = negative_comments/appearsin_comments_in_train\n",
    "    else:\n",
    "        negative_ratio = 0\n",
    "    test['found'] = test['splited'].apply(lambda x: found_word(x, the_word))\n",
    "    appearsin_comments_in_test = sum(test['found'])\n",
    "   \n",
    "    if verbose:\n",
    "        print('the word \"{}\" appears {} times in training and testing'.format(the_word, appear_total_times)) # number of times the word appears\n",
    "        print('it appears in {} comments in training data'.format(appearsin_comments_in_train))# number of document the word appears in train\n",
    "        print('{} of these comments have at least one positive labels (negative comment). Negative ratio: {:.3f}%'.format(negative_comments, negative_ratio*100))\n",
    "        print('it appears in {} comments in testing data'.format(appearsin_comments_in_test)) # number of document the word appears in test\n",
    "        print('$$$$$$$$$$$$$$$$$$$$$$$$$$$$$$$$$$$$$$$$$$$$$$$$$$$$$$$$$$$$$$$$$$$$$$$$$$$')\n",
    " \n",
    "    return appear_total_times, appearsin_comments_in_train, negative_comments, negative_ratio, appearsin_comments_in_test"
   ]
  },
  {
   "cell_type": "code",
   "execution_count": 19,
   "metadata": {},
   "outputs": [
    {
     "name": "stdout",
     "output_type": "stream",
     "text": [
      "the word \"fuock\" appears 17 times in training and testing\n",
      "it appears in 0 comments in training data\n",
      "0 of these comments have at least one positive labels (negative comment). Negative ratio: 0.000%\n",
      "it appears in 1 comments in testing data\n",
      "$$$$$$$$$$$$$$$$$$$$$$$$$$$$$$$$$$$$$$$$$$$$$$$$$$$$$$$$$$$$$$$$$$$$$$$$$$$\n"
     ]
    },
    {
     "data": {
      "text/html": [
       "<div>\n",
       "<style scoped>\n",
       "    .dataframe tbody tr th:only-of-type {\n",
       "        vertical-align: middle;\n",
       "    }\n",
       "\n",
       "    .dataframe tbody tr th {\n",
       "        vertical-align: top;\n",
       "    }\n",
       "\n",
       "    .dataframe thead th {\n",
       "        text-align: right;\n",
       "    }\n",
       "</style>\n",
       "<table border=\"1\" class=\"dataframe\">\n",
       "  <thead>\n",
       "    <tr style=\"text-align: right;\">\n",
       "      <th></th>\n",
       "      <th>comment_text_ori</th>\n",
       "      <th>toxic</th>\n",
       "      <th>severe_toxic</th>\n",
       "      <th>obscene</th>\n",
       "      <th>threat</th>\n",
       "      <th>insult</th>\n",
       "      <th>identity_hate</th>\n",
       "    </tr>\n",
       "  </thead>\n",
       "  <tbody>\n",
       "  </tbody>\n",
       "</table>\n",
       "</div>"
      ],
      "text/plain": [
       "Empty DataFrame\n",
       "Columns: [comment_text_ori, toxic, severe_toxic, obscene, threat, insult, identity_hate]\n",
       "Index: []"
      ]
     },
     "execution_count": 19,
     "metadata": {},
     "output_type": "execute_result"
    }
   ],
   "source": [
    "# check the comments containing a specific word\n",
    "the_word = \"fuock\"\n",
    "analyze_word(the_word)\n",
    "train[train.found][['comment_text_ori']+label_cols].head(10)"
   ]
  },
  {
   "cell_type": "code",
   "execution_count": 20,
   "metadata": {},
   "outputs": [
    {
     "data": {
      "text/html": [
       "<div>\n",
       "<style scoped>\n",
       "    .dataframe tbody tr th:only-of-type {\n",
       "        vertical-align: middle;\n",
       "    }\n",
       "\n",
       "    .dataframe tbody tr th {\n",
       "        vertical-align: top;\n",
       "    }\n",
       "\n",
       "    .dataframe thead th {\n",
       "        text-align: right;\n",
       "    }\n",
       "</style>\n",
       "<table border=\"1\" class=\"dataframe\">\n",
       "  <thead>\n",
       "    <tr style=\"text-align: right;\">\n",
       "      <th></th>\n",
       "      <th>comment_text</th>\n",
       "      <th>comment_text_cleaned</th>\n",
       "      <th>comment_text_ori</th>\n",
       "    </tr>\n",
       "  </thead>\n",
       "  <tbody>\n",
       "    <tr>\n",
       "      <th>95388</th>\n",
       "      <td>fuock you ponyo let your mom play with my dik in her maoth fuock you ponyo let your mom play with my dik in her maoth fuock you ponyo let your mom play with my dik in her maoth fuock you ponyo let your mom play with my dik in her maoth fuock you ponyo let your mom play with my dik in her maoth fuock you ponyo let your mom play with my dik in her maoth fuoc...</td>\n",
       "      <td>fuock you ponyo let your mom play with my dik in her maoth fuock you ponyo let your mom play with my dik in her maoth fuock you ponyo let your mom play with my dik in her maoth fuock you ponyo let your mom play with my dik in her maoth fuock you ponyo let your mom play with my dik in her maoth fuock you ponyo let your mom play with my dik in her maoth fuoc...</td>\n",
       "      <td>fuOck you Ponyo let your mom play with my dik in her maoth \\n\\n fuOck you Ponyo let your mom play with my dik in her maoth \\n\\n fuOck you Ponyo let your mom play with my dik in her maoth \\n\\n fuOck you Ponyo let your mom play with my dik in her maoth \\n\\n fuOck you Ponyo let your mom play with my dik in her maoth \\n\\n fuOck you Ponyo let your mom play with...</td>\n",
       "    </tr>\n",
       "  </tbody>\n",
       "</table>\n",
       "</div>"
      ],
      "text/plain": [
       "                                                                                                                                                                                                                                                                                                                                                                    comment_text  \\\n",
       "95388  fuock you ponyo let your mom play with my dik in her maoth fuock you ponyo let your mom play with my dik in her maoth fuock you ponyo let your mom play with my dik in her maoth fuock you ponyo let your mom play with my dik in her maoth fuock you ponyo let your mom play with my dik in her maoth fuock you ponyo let your mom play with my dik in her maoth fuoc...   \n",
       "\n",
       "                                                                                                                                                                                                                                                                                                                                                            comment_text_cleaned  \\\n",
       "95388  fuock you ponyo let your mom play with my dik in her maoth fuock you ponyo let your mom play with my dik in her maoth fuock you ponyo let your mom play with my dik in her maoth fuock you ponyo let your mom play with my dik in her maoth fuock you ponyo let your mom play with my dik in her maoth fuock you ponyo let your mom play with my dik in her maoth fuoc...   \n",
       "\n",
       "                                                                                                                                                                                                                                                                                                                                                                comment_text_ori  \n",
       "95388  fuOck you Ponyo let your mom play with my dik in her maoth \\n\\n fuOck you Ponyo let your mom play with my dik in her maoth \\n\\n fuOck you Ponyo let your mom play with my dik in her maoth \\n\\n fuOck you Ponyo let your mom play with my dik in her maoth \\n\\n fuOck you Ponyo let your mom play with my dik in her maoth \\n\\n fuOck you Ponyo let your mom play with...  "
      ]
     },
     "execution_count": 20,
     "metadata": {},
     "output_type": "execute_result"
    }
   ],
   "source": [
    "test[test.found][['comment_text','comment_text_cleaned','comment_text_ori']].head(10)"
   ]
  },
  {
   "cell_type": "code",
   "execution_count": null,
   "metadata": {
    "collapsed": true
   },
   "outputs": [],
   "source": []
  },
  {
   "cell_type": "code",
   "execution_count": null,
   "metadata": {
    "collapsed": true
   },
   "outputs": [],
   "source": []
  },
  {
   "cell_type": "code",
   "execution_count": null,
   "metadata": {
    "collapsed": true
   },
   "outputs": [],
   "source": []
  },
  {
   "cell_type": "code",
   "execution_count": null,
   "metadata": {
    "collapsed": true
   },
   "outputs": [],
   "source": [
    "bad_word_dict1 = {\n",
    "    'niggors': 'nigger', # stem + spell check\n",
    "    'mothjer': 'mother', # spell check (stem is ok)\n",
    "    'faggt':'faggot',\n",
    "    'cucks':'cocks', # spell check \n",
    "    'sexsex': 'sex',\n",
    "    'peenus': 'penis',\n",
    "    'sexsex': 'sex',\n",
    "    'fuckerucker': 'fucker', \n",
    "    'sockpuppet':'alias',\n",
    "    'sockpuppetry': 'alias',\n",
    "    'semite':'semitic',\n",
    "    'donkeysex':'dick',\n",
    "    'homopetersymonds': 'homo',\n",
    "    'headsdick': 'dick',\n",
    "    'peni':'penis',\n",
    "    'asspie':'ass',\n",
    "    'nonense': 'nonsense',\n",
    "    'vagpenis':'penis',\n",
    "    'diedres': 'crap',\n",
    "    'niggetr': 'nigger'\n",
    "}\n",
    "\n",
    "bad_word_dict2 ={\n",
    "    'youfuck': 'fuck',\n",
    "    'niggors' :'nigger',\n",
    "    'bitchbot': 'bitch',\n",
    "    'donkeysex': 'dick',\n",
    "    'motherfuc': 'motherfucker',\n",
    "    'sexualit': 'sexuality',\n",
    "    'sexuall': 'sexual',\n",
    "    'cocain': 'cocaine',\n",
    "    \"fuck'\": 'fuck',\n",
    "    'valentin': 'valentine',\n",
    "    'decease': 'deceased',\n",
    "    'deth': 'death',\n",
    "    \"'ass\": 'ass',\n",
    "    'gayy': 'gay',\n",
    "    'sexe': 'sex',\n",
    "    'bith': 'bitch',\n",
    "    'bithc': 'bitch',\n",
    "    'bithces': 'bitch',\n",
    "    \"fool'\": 'fool',\n",
    "    'cuck': 'cock',\n",
    "    \"'shit\": 'shit',\n",
    "    \"penis'\": 'penis',\n",
    "    \"bitch'\": 'bitch',\n",
    "    \"'stupid\": 'stupid',\n",
    "    'fuckn': 'fuck',\n",
    "    'choked': 'choke',\n",
    "    'headsdick': 'dick',\n",
    "    'peni': 'penis',\n",
    "    'asspie': 'ass',\n",
    "    'nonense': 'nonsense',\n",
    "    'nonsesnse': 'nonsense',\n",
    "    'zdick': 'dick',\n",
    "    'asse': 'ass',\n",
    "    'vagpenis': 'penis',\n",
    "    'niggetr': 'nigger',\n",
    "    \"mother's\": 'mother',\n",
    "    'pornn': 'porn',\n",
    "    'fuock': 'fuck',\n",
    "    'dik': 'dick',\n",
    "    'maoth': 'mouth',\n",
    "    'horsecock': 'cock',\n",
    "    'pneis': 'penis',\n",
    "    'mothjer': 'mother'\n",
    "}"
   ]
  }
 ],
 "metadata": {
  "kernelspec": {
   "display_name": "Python 3.5 (tf_gpu)",
   "language": "python",
   "name": "tf_gpu"
  },
  "language_info": {
   "codemirror_mode": {
    "name": "ipython",
    "version": 3
   },
   "file_extension": ".py",
   "mimetype": "text/x-python",
   "name": "python",
   "nbconvert_exporter": "python",
   "pygments_lexer": "ipython3",
   "version": "3.5.4"
  }
 },
 "nbformat": 4,
 "nbformat_minor": 2
}
