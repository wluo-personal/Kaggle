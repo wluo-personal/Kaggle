{
 "cells": [
  {
   "cell_type": "code",
   "execution_count": 1,
   "metadata": {},
   "outputs": [
    {
     "name": "stderr",
     "output_type": "stream",
     "text": [
      "/home/kai/anaconda3/envs/tf_gpu/lib/python3.5/site-packages/h5py/__init__.py:36: FutureWarning: Conversion of the second argument of issubdtype from `float` to `np.floating` is deprecated. In future, it will be treated as `np.float64 == np.dtype(float).type`.\n",
      "  from ._conv import register_converters as _register_converters\n",
      "Using TensorFlow backend.\n"
     ]
    }
   ],
   "source": [
    "import numpy as np # linear algebra\n",
    "import pandas as pd # data processing, CSV file I/O (e.g. pd.read_csv)\n",
    "from keras.preprocessing import text, sequence\n"
   ]
  },
  {
   "cell_type": "code",
   "execution_count": 2,
   "metadata": {
    "collapsed": true
   },
   "outputs": [],
   "source": [
    "pd.set_option('display.max_colwidth', 362)\n",
    "pd.set_option('display.max_rows', 100)"
   ]
  },
  {
   "cell_type": "code",
   "execution_count": 3,
   "metadata": {
    "collapsed": true
   },
   "outputs": [],
   "source": [
    "label_cols=['toxic', 'severe_toxic', 'obscene', 'threat', 'insult', 'identity_hate']"
   ]
  },
  {
   "cell_type": "code",
   "execution_count": 4,
   "metadata": {
    "collapsed": true
   },
   "outputs": [],
   "source": [
    "PATH = '~/data/toxic/data/'\n",
    "# train = pd.read_csv(PATH + 'train.csv')\n",
    "# test = pd.read_csv(PATH + 'test.csv')\n",
    "# train = pd.read_csv(PATH + 'cleaned_train.csv')\n",
    "# test = pd.read_csv(PATH + 'cleaned_test.csv')\n",
    "train = pd.read_csv(PATH + 'train_preprocessed.csv')\n",
    "test = pd.read_csv(PATH + 'test_preprocessed.csv')"
   ]
  },
  {
   "cell_type": "code",
   "execution_count": 5,
   "metadata": {
    "collapsed": true
   },
   "outputs": [],
   "source": [
    "train_ori = pd.read_csv(PATH + 'train.csv')\n",
    "train = train.merge(train_ori[['comment_text', 'id']], on='id', suffixes=('', '_ori'))\n",
    "\n",
    "train_cleaned = pd.read_csv(PATH + 'cleaned_train.csv')\n",
    "train = train.merge(train_cleaned[['comment_text_cleaned', 'id']], on='id')"
   ]
  },
  {
   "cell_type": "code",
   "execution_count": 6,
   "metadata": {
    "collapsed": true
   },
   "outputs": [],
   "source": [
    "test_ori = pd.read_csv(PATH + 'test.csv')\n",
    "test = test.merge(test_ori[['comment_text', 'id']], on='id', suffixes=('', '_ori'))\n",
    "\n",
    "test_cleaned = pd.read_csv(PATH + 'cleaned_test.csv')\n",
    "test = test.merge(test_cleaned[['comment_text_cleaned', 'id']], on='id')"
   ]
  },
  {
   "cell_type": "code",
   "execution_count": 7,
   "metadata": {
    "collapsed": true
   },
   "outputs": [],
   "source": [
    "test.drop(label_cols, axis=1, inplace=True) # the preprocessed file contains label columns with value NaN, so drop them"
   ]
  },
  {
   "cell_type": "code",
   "execution_count": 8,
   "metadata": {
    "collapsed": true
   },
   "outputs": [],
   "source": [
    "# embeddings_index_lex, embed_size = word2Vec('lex')\n",
    "\n",
    "# embeddings_index_glc, embed_size = word2Vec('gl-common')"
   ]
  },
  {
   "cell_type": "code",
   "execution_count": 9,
   "metadata": {
    "collapsed": true
   },
   "outputs": [],
   "source": [
    "max_features=100000\n",
    "maxlen=150"
   ]
  },
  {
   "cell_type": "code",
   "execution_count": 10,
   "metadata": {
    "collapsed": true
   },
   "outputs": [],
   "source": [
    "comment_col = 'comment_text' # 'comment_text_cleaned' \n",
    "\n",
    "X_train = train[comment_col].str.lower().fillna('something') # something is a word of neutral sentiment\n",
    "y_train = train[[\"toxic\", \"severe_toxic\", \"obscene\", \"threat\", \"insult\", \"identity_hate\"]].values\n",
    "\n",
    "X_test = test[comment_col].str.lower().fillna('something')"
   ]
  },
  {
   "cell_type": "code",
   "execution_count": 11,
   "metadata": {
    "collapsed": true
   },
   "outputs": [],
   "source": [
    "tok=text.Tokenizer(num_words=max_features,lower=True)\n",
    "tok.fit_on_texts(list(X_train)+list(X_test))\n",
    "X_train=tok.texts_to_sequences(X_train)\n",
    "X_test=tok.texts_to_sequences(X_test)\n",
    "x_train=sequence.pad_sequences(X_train,maxlen=maxlen)\n",
    "x_test=sequence.pad_sequences(X_test,maxlen=maxlen)"
   ]
  },
  {
   "cell_type": "code",
   "execution_count": 12,
   "metadata": {
    "collapsed": true
   },
   "outputs": [],
   "source": [
    "train['having_pos_label'] = train.apply(lambda row: sum(row[label_cols]), axis=1)"
   ]
  },
  {
   "cell_type": "code",
   "execution_count": 13,
   "metadata": {
    "collapsed": true
   },
   "outputs": [],
   "source": [
    "train['splited'] = train['comment_text'].fillna('something').apply(lambda x: x.split())\n",
    "test['splited'] = test['comment_text'].fillna('something').apply(lambda x: x.split())"
   ]
  },
  {
   "cell_type": "code",
   "execution_count": 14,
   "metadata": {
    "collapsed": true
   },
   "outputs": [],
   "source": [
    "def found_word(word_list, word):\n",
    "    word_list = set(word_list)\n",
    "    if word in word_list:\n",
    "        return True\n",
    "    else:\n",
    "        return False"
   ]
  },
  {
   "cell_type": "code",
   "execution_count": 15,
   "metadata": {
    "collapsed": true
   },
   "outputs": [],
   "source": [
    "test[comment_col] = test[comment_col].str.lower().fillna('something')\n",
    "\n",
    "test['splited'] = test['comment_text'].apply(lambda x: x.split())"
   ]
  },
  {
   "cell_type": "code",
   "execution_count": 16,
   "metadata": {
    "collapsed": true
   },
   "outputs": [],
   "source": [
    "def analyze_word(the_word, verbose=True):\n",
    "    appear_total_times = tok.word_counts[the_word]\n",
    "    train['found'] = train['splited'].apply(lambda x: found_word(x, the_word))\n",
    "    appearsin_comments_in_train = sum(train['found'])\n",
    "    negative_comments = sum((train.found) & (train.having_pos_label))\n",
    "    if appearsin_comments_in_train != 0:\n",
    "        negative_ratio = negative_comments/appearsin_comments_in_train\n",
    "    else:\n",
    "        negative_ratio = 0\n",
    "    test['found'] = test['splited'].apply(lambda x: found_word(x, the_word))\n",
    "    appearsin_comments_in_test = sum(test['found'])\n",
    "   \n",
    "    if verbose:\n",
    "        print('the word \"{}\" appears {} times in training and testing'.format(the_word, appear_total_times)) # number of times the word appears\n",
    "        print('it appears in {} comments in training data'.format(appearsin_comments_in_train))# number of document the word appears in train\n",
    "        print('{} of these comments have at least one positive labels (negative comment). Negative ratio: {:.3f}%'.format(negative_comments, negative_ratio*100))\n",
    "        print('it appears in {} comments in testing data'.format(appearsin_comments_in_test)) # number of document the word appears in test\n",
    "        print('$$$$$$$$$$$$$$$$$$$$$$$$$$$$$$$$$$$$$$$$$$$$$$$$$$$$$$$$$$$$$$$$$$$$$$$$$$$')\n",
    " \n",
    "    return appear_total_times, appearsin_comments_in_train, negative_comments, negative_ratio, appearsin_comments_in_test"
   ]
  },
  {
   "cell_type": "code",
   "execution_count": 61,
   "metadata": {},
   "outputs": [
    {
     "name": "stdout",
     "output_type": "stream",
     "text": [
      "the word \"buncha\" appears 12 times in training and testing\n",
      "it appears in 1 comments in training data\n",
      "1 of these comments have at least one positive labels (negative comment). Negative ratio: 100.000%\n",
      "it appears in 11 comments in testing data\n",
      "$$$$$$$$$$$$$$$$$$$$$$$$$$$$$$$$$$$$$$$$$$$$$$$$$$$$$$$$$$$$$$$$$$$$$$$$$$$\n"
     ]
    },
    {
     "data": {
      "text/html": [
       "<div>\n",
       "<style scoped>\n",
       "    .dataframe tbody tr th:only-of-type {\n",
       "        vertical-align: middle;\n",
       "    }\n",
       "\n",
       "    .dataframe tbody tr th {\n",
       "        vertical-align: top;\n",
       "    }\n",
       "\n",
       "    .dataframe thead th {\n",
       "        text-align: right;\n",
       "    }\n",
       "</style>\n",
       "<table border=\"1\" class=\"dataframe\">\n",
       "  <thead>\n",
       "    <tr style=\"text-align: right;\">\n",
       "      <th></th>\n",
       "      <th>comment_text_ori</th>\n",
       "      <th>toxic</th>\n",
       "      <th>severe_toxic</th>\n",
       "      <th>obscene</th>\n",
       "      <th>threat</th>\n",
       "      <th>insult</th>\n",
       "      <th>identity_hate</th>\n",
       "    </tr>\n",
       "  </thead>\n",
       "  <tbody>\n",
       "    <tr>\n",
       "      <th>51506</th>\n",
       "      <td>The TNA fags need to stop \\n\\nBuncha pussies</td>\n",
       "      <td>1.0</td>\n",
       "      <td>0.0</td>\n",
       "      <td>1.0</td>\n",
       "      <td>0.0</td>\n",
       "      <td>1.0</td>\n",
       "      <td>0.0</td>\n",
       "    </tr>\n",
       "  </tbody>\n",
       "</table>\n",
       "</div>"
      ],
      "text/plain": [
       "                                   comment_text_ori  toxic  severe_toxic  \\\n",
       "51506  The TNA fags need to stop \\n\\nBuncha pussies    1.0           0.0   \n",
       "\n",
       "       obscene  threat  insult  identity_hate  \n",
       "51506      1.0     0.0     1.0            0.0  "
      ]
     },
     "execution_count": 61,
     "metadata": {},
     "output_type": "execute_result"
    }
   ],
   "source": [
    "# check the comments containing a specific word\n",
    "the_word = \"buncha\"\n",
    "analyze_word(the_word)\n",
    "train[train.found][['comment_text_ori']+label_cols].head(10)"
   ]
  },
  {
   "cell_type": "code",
   "execution_count": 62,
   "metadata": {},
   "outputs": [
    {
     "data": {
      "text/html": [
       "<div>\n",
       "<style scoped>\n",
       "    .dataframe tbody tr th:only-of-type {\n",
       "        vertical-align: middle;\n",
       "    }\n",
       "\n",
       "    .dataframe tbody tr th {\n",
       "        vertical-align: top;\n",
       "    }\n",
       "\n",
       "    .dataframe thead th {\n",
       "        text-align: right;\n",
       "    }\n",
       "</style>\n",
       "<table border=\"1\" class=\"dataframe\">\n",
       "  <thead>\n",
       "    <tr style=\"text-align: right;\">\n",
       "      <th></th>\n",
       "      <th>comment_text</th>\n",
       "      <th>comment_text_cleaned</th>\n",
       "      <th>comment_text_ori</th>\n",
       "    </tr>\n",
       "  </thead>\n",
       "  <tbody>\n",
       "    <tr>\n",
       "      <th>13973</th>\n",
       "      <td>campbeltown loch  oh  campbeltown loch  i wish ye we re whisky  i whid drink ye dry whilst snivelling intae my british army surplus blanket over my ain ingrained inadequacy  ah m a teuchter fuck dinnae criticise meh furrit  in mah phoenitical weakness ahm a twat o nationalism  an  a ll suffer furrit  ah d tek a strachur shinty stick against a fuck  in  pa...</td>\n",
       "      <td>campbeltown loch ... oh campbeltown loch i wish ye we be whisky i whid drink ye dry ... whilst snivel intae my british army surplus blanket over my ain ingrain inadequacy . ah'm a teuchter fuck ... dinnae criticise meh furrit in mah phoenitical weakness ahm a twat o'nationalism an ' a'll suffer furrit . ah'd tek a strachur shinty stick against a fuck ' pan...</td>\n",
       "      <td>== Campbeltown Loch.... == \\n\\n Oh, Campbeltown Loch, I wish ye we're whisky, I whid drink ye dry....whilst snivelling intae my British Army surplus blanket over my ain ingrained inadequacy. \\n\\n Ah'm a teuchter fuck...dinnae criticise meh furrit, in mah phoenitical weakness ahm a twat o'nationalism, an' a'll suffer furrit. Ah'd tek a Strachur shinty stick...</td>\n",
       "    </tr>\n",
       "    <tr>\n",
       "      <th>20589</th>\n",
       "      <td>damnedest  weirdest  lookin  buncha black folks i ve ever seen yikes  p</td>\n",
       "      <td>damnedest ( weirdest ) lookin ' buncha black folk i have ever see . yikes ! p</td>\n",
       "      <td>Damnedest (weirdest) lookin' buncha black folks I've ever seen.  Yikes! p</td>\n",
       "    </tr>\n",
       "    <tr>\n",
       "      <th>61335</th>\n",
       "      <td>ah  but you see  it s you brits who gave us yanks our congenital distrust of authority back in don t  cha know so it s really all your fault we re a buncha paranoid libertarian types  grinning  ducking and running i am trying to be funny  in case anyone misunderstands</td>\n",
       "      <td>: ah but you see it be you brit who give u yank our congenital distrust of authority back in 1776 do not ' cha know ... so it be really all your fault we be a buncha paranoid libertarian type ! ( grin duck and run ... ; ) ) ( i be try to be funny in case anyone misunderstand ... )</td>\n",
       "      <td>\":Ah, but you see, it's you Brits who gave us Yanks our congenital distrust of authority back in 1776, don't 'cha know...  so it's really all your fault we're a buncha paranoid libertarian types!  (grinning, ducking and running... ;-) ) (I am trying to be funny, in case anyone misunderstands...)   \\n\\n \"</td>\n",
       "    </tr>\n",
       "    <tr>\n",
       "      <th>68936</th>\n",
       "      <td>yep elinord is one  dumb fuck fits in well with the rest of these morons  i guess only the borderline  retard ed who want to tell themselves they re intelligent set take this place seriously whot a buncha losers</td>\n",
       "      <td>:: yep . elinord be one dumb fuck . fit in well with the rest of these moron i guess . only the borderline retard who want to tell themselves they be intelligent set take this place seriously . whot a buncha loser !</td>\n",
       "      <td>::Yep.  ElinorD is one dumb fuck.  Fits in well with the rest of these morons, I guess.  Only the borderline-retarded-who-want-to-tell-themselves-they're-intelligent set take this place seriously.  Whot a buncha losers!</td>\n",
       "    </tr>\n",
       "    <tr>\n",
       "      <th>70011</th>\n",
       "      <td>it still reads like a buncha faggot  ry</td>\n",
       "      <td>: it still read like a buncha faggotry</td>\n",
       "      <td>:it still reads like a buncha faggotry</td>\n",
       "    </tr>\n",
       "    <tr>\n",
       "      <th>71852</th>\n",
       "      <td>bitch what the fuck star wars is an epic space opera franchise that s the first fuck  ing sentence of this locked article fuck you all  i speak only english and have not the first fuck  ing idea what any portion of that gibberish means  you re all a buncha fuck  in gay  boy idiot  s  go fuck yourselves  i m simply full to the fuck  ing gills with you pig ...</td>\n",
       "      <td>bitch what the fuck ? star war be an epic space opera franchise ? that be the first fuck sentence of this lock article ? fuck you all . i speak only english and have not the first fuck idea what any portion of that gibberish mean . you be all a buncha fuck ' gay boy idiot . go fuck yourselves . i be simply full to the fuck gill with you pig fuck homo who c...</td>\n",
       "      <td>== bitch, what the fuck? == \\n\\n Star Wars is an epic space opera franchise?  \\n\\n that's the first fucking sentence of this locked article? fuck you all. i speak only english and have not the first fucking idea what any portion of that gibberish means. you're all a buncha fuckin' gay-boy idiots. go fuck yourselves. i'm simply full to the fucking gills wit...</td>\n",
       "    </tr>\n",
       "    <tr>\n",
       "      <th>112486</th>\n",
       "      <td>damnedest  weirdest  lookin  buncha black folks i ve ever seen yikes  p</td>\n",
       "      <td>:d amnedest ( weirdest ) lookin ' buncha black folk i have ever see . yikes ! p</td>\n",
       "      <td>:Damnedest (weirdest) lookin' buncha black folks I've ever seen.  Yikes! p</td>\n",
       "    </tr>\n",
       "    <tr>\n",
       "      <th>118906</th>\n",
       "      <td>why don t we all just agree to disagree  they re just a buncha sand nigger  s anyways</td>\n",
       "      <td>why do not we all just agree to disagree ? they be just a buncha sandniggers anyways .</td>\n",
       "      <td>Why don't we all just agree to disagree? They're just a buncha sandniggers anyways.</td>\n",
       "    </tr>\n",
       "    <tr>\n",
       "      <th>122626</th>\n",
       "      <td>i think that any of you faggot  s talkin  shit  should at least try to duplicate the skill they have before opening your mouth about how bad they  suck buncha lames</td>\n",
       "      <td>i think that any of you faggot talkin shit should at least try to duplicate the skill they have before open your mouth about how bad they suck ! buncha lam</td>\n",
       "      <td>I think that any of you faggots talkin shit should at least try to duplicate the skill they have before opening your mouth about how bad they suck! buncha lames</td>\n",
       "    </tr>\n",
       "    <tr>\n",
       "      <th>124187</th>\n",
       "      <td>i think this doesn t befit the granduer of wikipedia  i mean  are you serious  a monkey man  this is stupid  common  are there any right minded scientists out there  this is shiz  s  t  yahya al shiddazi and i added this to the article itself lies  seems like a buncha lies to me  i dink dat dis article needs to be cleaned up  in order to meet wikipedi ass ...</td>\n",
       "      <td>i think this do not befit the granduer of wikipedia . i mean be you serious ? a monkey man ? this be stupid . common be there any right mind scientist out there ? this be shiz ( s * * t ) yahya al shiddazi and i add this to the article itself : lie ! seem like a buncha lie to me ! i dink dat dis article need to be clean up in order to meet wikipedia's sill...</td>\n",
       "      <td>I think this doesn't befit the granduer of Wikipedia. I mean, are you serious? a monkey man? This is stupid. Common, are there any right-minded scientists out there? This is shiz (s**t) \\n\\n -Yahya Al-Shiddazi \\n\\n And I added this to the article itself: \\n\\n Lies! Seems like a buncha lies to me! I dink dat dis article needs to be cleaned up, in order to m...</td>\n",
       "    </tr>\n",
       "  </tbody>\n",
       "</table>\n",
       "</div>"
      ],
      "text/plain": [
       "                                                                                                                                                                                                                                                                                                                                                                     comment_text  \\\n",
       "13973    campbeltown loch  oh  campbeltown loch  i wish ye we re whisky  i whid drink ye dry whilst snivelling intae my british army surplus blanket over my ain ingrained inadequacy  ah m a teuchter fuck dinnae criticise meh furrit  in mah phoenitical weakness ahm a twat o nationalism  an  a ll suffer furrit  ah d tek a strachur shinty stick against a fuck  in  pa...   \n",
       "20589                                                                                                                                                                                                                                                                                                     damnedest  weirdest  lookin  buncha black folks i ve ever seen yikes  p   \n",
       "61335                                                                                              ah  but you see  it s you brits who gave us yanks our congenital distrust of authority back in don t  cha know so it s really all your fault we re a buncha paranoid libertarian types  grinning  ducking and running i am trying to be funny  in case anyone misunderstands     \n",
       "68936                                                                                                                                                        yep elinord is one  dumb fuck fits in well with the rest of these morons  i guess only the borderline  retard ed who want to tell themselves they re intelligent set take this place seriously whot a buncha losers    \n",
       "70011                                                                                                                                                                                                                                                                                                                                     it still reads like a buncha faggot  ry   \n",
       "71852    bitch what the fuck star wars is an epic space opera franchise that s the first fuck  ing sentence of this locked article fuck you all  i speak only english and have not the first fuck  ing idea what any portion of that gibberish means  you re all a buncha fuck  in gay  boy idiot  s  go fuck yourselves  i m simply full to the fuck  ing gills with you pig ...   \n",
       "112486                                                                                                                                                                                                                                                                                                    damnedest  weirdest  lookin  buncha black folks i ve ever seen yikes  p   \n",
       "118906                                                                                                                                                                                                                                                                                     why don t we all just agree to disagree  they re just a buncha sand nigger  s anyways    \n",
       "122626                                                                                                                                                                                                       i think that any of you faggot  s talkin  shit  should at least try to duplicate the skill they have before opening your mouth about how bad they  suck buncha lames   \n",
       "124187  i think this doesn t befit the granduer of wikipedia  i mean  are you serious  a monkey man  this is stupid  common  are there any right minded scientists out there  this is shiz  s  t  yahya al shiddazi and i added this to the article itself lies  seems like a buncha lies to me  i dink dat dis article needs to be cleaned up  in order to meet wikipedi ass ...   \n",
       "\n",
       "                                                                                                                                                                                                                                                                                                                                                             comment_text_cleaned  \\\n",
       "13973   campbeltown loch ... oh campbeltown loch i wish ye we be whisky i whid drink ye dry ... whilst snivel intae my british army surplus blanket over my ain ingrain inadequacy . ah'm a teuchter fuck ... dinnae criticise meh furrit in mah phoenitical weakness ahm a twat o'nationalism an ' a'll suffer furrit . ah'd tek a strachur shinty stick against a fuck ' pan...   \n",
       "20589                                                                                                                                                                                                                                                                                               damnedest ( weirdest ) lookin ' buncha black folk i have ever see . yikes ! p   \n",
       "61335                                                                                   : ah but you see it be you brit who give u yank our congenital distrust of authority back in 1776 do not ' cha know ... so it be really all your fault we be a buncha paranoid libertarian type ! ( grin duck and run ... ; ) ) ( i be try to be funny in case anyone misunderstand ... )   \n",
       "68936                                                                                                                                                     :: yep . elinord be one dumb fuck . fit in well with the rest of these moron i guess . only the borderline retard who want to tell themselves they be intelligent set take this place seriously . whot a buncha loser !   \n",
       "70011                                                                                                                                                                                                                                                                                                                                      : it still read like a buncha faggotry   \n",
       "71852   bitch what the fuck ? star war be an epic space opera franchise ? that be the first fuck sentence of this lock article ? fuck you all . i speak only english and have not the first fuck idea what any portion of that gibberish mean . you be all a buncha fuck ' gay boy idiot . go fuck yourselves . i be simply full to the fuck gill with you pig fuck homo who c...   \n",
       "112486                                                                                                                                                                                                                                                                                            :d amnedest ( weirdest ) lookin ' buncha black folk i have ever see . yikes ! p   \n",
       "118906                                                                                                                                                                                                                                                                                     why do not we all just agree to disagree ? they be just a buncha sandniggers anyways .   \n",
       "122626                                                                                                                                                                                                                i think that any of you faggot talkin shit should at least try to duplicate the skill they have before open your mouth about how bad they suck ! buncha lam   \n",
       "124187  i think this do not befit the granduer of wikipedia . i mean be you serious ? a monkey man ? this be stupid . common be there any right mind scientist out there ? this be shiz ( s * * t ) yahya al shiddazi and i add this to the article itself : lie ! seem like a buncha lie to me ! i dink dat dis article need to be clean up in order to meet wikipedia's sill...   \n",
       "\n",
       "                                                                                                                                                                                                                                                                                                                                                                 comment_text_ori  \n",
       "13973   == Campbeltown Loch.... == \\n\\n Oh, Campbeltown Loch, I wish ye we're whisky, I whid drink ye dry....whilst snivelling intae my British Army surplus blanket over my ain ingrained inadequacy. \\n\\n Ah'm a teuchter fuck...dinnae criticise meh furrit, in mah phoenitical weakness ahm a twat o'nationalism, an' a'll suffer furrit. Ah'd tek a Strachur shinty stick...  \n",
       "20589                                                                                                                                                                                                                                                                                                   Damnedest (weirdest) lookin' buncha black folks I've ever seen.  Yikes! p  \n",
       "61335                                                           \":Ah, but you see, it's you Brits who gave us Yanks our congenital distrust of authority back in 1776, don't 'cha know...  so it's really all your fault we're a buncha paranoid libertarian types!  (grinning, ducking and running... ;-) ) (I am trying to be funny, in case anyone misunderstands...)   \\n\\n \"  \n",
       "68936                                                                                                                                                 ::Yep.  ElinorD is one dumb fuck.  Fits in well with the rest of these morons, I guess.  Only the borderline-retarded-who-want-to-tell-themselves-they're-intelligent set take this place seriously.  Whot a buncha losers!  \n",
       "70011                                                                                                                                                                                                                                                                                                                                      :it still reads like a buncha faggotry  \n",
       "71852   == bitch, what the fuck? == \\n\\n Star Wars is an epic space opera franchise?  \\n\\n that's the first fucking sentence of this locked article? fuck you all. i speak only english and have not the first fucking idea what any portion of that gibberish means. you're all a buncha fuckin' gay-boy idiots. go fuck yourselves. i'm simply full to the fucking gills wit...  \n",
       "112486                                                                                                                                                                                                                                                                                                 :Damnedest (weirdest) lookin' buncha black folks I've ever seen.  Yikes! p  \n",
       "118906                                                                                                                                                                                                                                                                                        Why don't we all just agree to disagree? They're just a buncha sandniggers anyways.  \n",
       "122626                                                                                                                                                                                                           I think that any of you faggots talkin shit should at least try to duplicate the skill they have before opening your mouth about how bad they suck! buncha lames  \n",
       "124187  I think this doesn't befit the granduer of Wikipedia. I mean, are you serious? a monkey man? This is stupid. Common, are there any right-minded scientists out there? This is shiz (s**t) \\n\\n -Yahya Al-Shiddazi \\n\\n And I added this to the article itself: \\n\\n Lies! Seems like a buncha lies to me! I dink dat dis article needs to be cleaned up, in order to m...  "
      ]
     },
     "execution_count": 62,
     "metadata": {},
     "output_type": "execute_result"
    }
   ],
   "source": [
    "test[test.found][['comment_text','comment_text_cleaned','comment_text_ori']].head(10)"
   ]
  },
  {
   "cell_type": "code",
   "execution_count": 21,
   "metadata": {},
   "outputs": [
    {
     "name": "stdout",
     "output_type": "stream",
     "text": [
      "False\n",
      "True\n",
      "False\n",
      "False\n",
      "True\n"
     ]
    }
   ],
   "source": [
    "def isEnglish(s):\n",
    "    try:\n",
    "        s.encode(encoding='utf-8').decode('ascii')\n",
    "    except UnicodeDecodeError:\n",
    "        return False\n",
    "    else:\n",
    "        return True\n",
    "\n",
    "print(isEnglish('slabiky, ale liší se podle významu'))\n",
    "print( isEnglish('English'))\n",
    "print( isEnglish('ގެ ފުރަތަމަ ދެ އަކުރު ކަ'))\n",
    "print( isEnglish('how about this one : 通 asfަ'))\n",
    "print( isEnglish('?fd4))45s&'))"
   ]
  },
  {
   "cell_type": "code",
   "execution_count": 30,
   "metadata": {},
   "outputs": [
    {
     "name": "stdout",
     "output_type": "stream",
     "text": [
      "True\n"
     ]
    }
   ],
   "source": [
    "print(isEnglish(\"\\n\\nCongratulations from me as well, use the tools well.  · talk \"))"
   ]
  },
  {
   "cell_type": "code",
   "execution_count": 22,
   "metadata": {
    "collapsed": true
   },
   "outputs": [],
   "source": [
    "train_p = train.head(1000).copy()"
   ]
  },
  {
   "cell_type": "code",
   "execution_count": 23,
   "metadata": {},
   "outputs": [
    {
     "data": {
      "text/html": [
       "<div>\n",
       "<style scoped>\n",
       "    .dataframe tbody tr th:only-of-type {\n",
       "        vertical-align: middle;\n",
       "    }\n",
       "\n",
       "    .dataframe tbody tr th {\n",
       "        vertical-align: top;\n",
       "    }\n",
       "\n",
       "    .dataframe thead th {\n",
       "        text-align: right;\n",
       "    }\n",
       "</style>\n",
       "<table border=\"1\" class=\"dataframe\">\n",
       "  <thead>\n",
       "    <tr style=\"text-align: right;\">\n",
       "      <th></th>\n",
       "      <th>comment_text</th>\n",
       "      <th>id</th>\n",
       "      <th>identity_hate</th>\n",
       "      <th>insult</th>\n",
       "      <th>obscene</th>\n",
       "      <th>set</th>\n",
       "      <th>severe_toxic</th>\n",
       "      <th>threat</th>\n",
       "      <th>toxic</th>\n",
       "      <th>toxicity</th>\n",
       "      <th>comment_text_ori</th>\n",
       "      <th>comment_text_cleaned</th>\n",
       "      <th>having_pos_label</th>\n",
       "      <th>splited</th>\n",
       "      <th>found</th>\n",
       "    </tr>\n",
       "  </thead>\n",
       "  <tbody>\n",
       "    <tr>\n",
       "      <th>0</th>\n",
       "      <td>explanation why the edits made under my username hardcore metallica fan were reverted  they weren t vandalisms  just closure on some gas after i voted at new york dolls fac  and please don t remove the template from the talk page since i m retired now</td>\n",
       "      <td>0000997932d777bf</td>\n",
       "      <td>0.0</td>\n",
       "      <td>0.0</td>\n",
       "      <td>0.0</td>\n",
       "      <td>train</td>\n",
       "      <td>0.0</td>\n",
       "      <td>0.0</td>\n",
       "      <td>0.0</td>\n",
       "      <td>0.0</td>\n",
       "      <td>Explanation\\nWhy the edits made under my username Hardcore Metallica Fan were reverted? They weren't vandalisms, just closure on some GAs after I voted at New York Dolls FAC. And please don't remove the template from the talk page since I'm retired now.89.205.38.27</td>\n",
       "      <td>explanation why the edit make under my username hardcore metallica fan be revert ? they be not vandalism just closure on some gas after i vote at new york doll fac . and please do not remove the template from the talk page since i be retire now .</td>\n",
       "      <td>0.0</td>\n",
       "      <td>[explanation, why, the, edits, made, under, my, username, hardcore, metallica, fan, were, reverted, they, weren, t, vandalisms, just, closure, on, some, gas, after, i, voted, at, new, york, dolls, fac, and, please, don, t, remove, the, template, from, the, talk, page, since, i, m, retired, now]</td>\n",
       "      <td>False</td>\n",
       "    </tr>\n",
       "  </tbody>\n",
       "</table>\n",
       "</div>"
      ],
      "text/plain": [
       "                                                                                                                                                                                                                                                   comment_text  \\\n",
       "0  explanation why the edits made under my username hardcore metallica fan were reverted  they weren t vandalisms  just closure on some gas after i voted at new york dolls fac  and please don t remove the template from the talk page since i m retired now    \n",
       "\n",
       "                 id  identity_hate  insult  obscene    set  severe_toxic  \\\n",
       "0  0000997932d777bf            0.0     0.0      0.0  train           0.0   \n",
       "\n",
       "   threat  toxic  toxicity  \\\n",
       "0     0.0    0.0       0.0   \n",
       "\n",
       "                                                                                                                                                                                                                                                            comment_text_ori  \\\n",
       "0  Explanation\\nWhy the edits made under my username Hardcore Metallica Fan were reverted? They weren't vandalisms, just closure on some GAs after I voted at New York Dolls FAC. And please don't remove the template from the talk page since I'm retired now.89.205.38.27   \n",
       "\n",
       "                                                                                                                                                                                                                                     comment_text_cleaned  \\\n",
       "0  explanation why the edit make under my username hardcore metallica fan be revert ? they be not vandalism just closure on some gas after i vote at new york doll fac . and please do not remove the template from the talk page since i be retire now .   \n",
       "\n",
       "   having_pos_label  \\\n",
       "0               0.0   \n",
       "\n",
       "                                                                                                                                                                                                                                                                                                   splited  \\\n",
       "0  [explanation, why, the, edits, made, under, my, username, hardcore, metallica, fan, were, reverted, they, weren, t, vandalisms, just, closure, on, some, gas, after, i, voted, at, new, york, dolls, fac, and, please, don, t, remove, the, template, from, the, talk, page, since, i, m, retired, now]   \n",
       "\n",
       "   found  \n",
       "0  False  "
      ]
     },
     "execution_count": 23,
     "metadata": {},
     "output_type": "execute_result"
    }
   ],
   "source": [
    "train_p.head(1)"
   ]
  },
  {
   "cell_type": "code",
   "execution_count": null,
   "metadata": {
    "collapsed": true
   },
   "outputs": [],
   "source": [
    "train"
   ]
  },
  {
   "cell_type": "code",
   "execution_count": 32,
   "metadata": {},
   "outputs": [],
   "source": [
    "train['isEnglish'] = train['comment_text_ori'].apply(lambda x: isEnglish(x))"
   ]
  },
  {
   "cell_type": "code",
   "execution_count": null,
   "metadata": {
    "collapsed": true
   },
   "outputs": [],
   "source": [
    "train[(train['isEnglish'] == False) & (train['having_pos_label'])][['comment_text_ori']].iloc[500:]"
   ]
  },
  {
   "cell_type": "code",
   "execution_count": 37,
   "metadata": {
    "collapsed": true
   },
   "outputs": [],
   "source": [
    "test['isEnglish'] = test['comment_text_ori'].apply(lambda x: isEnglish(x))"
   ]
  },
  {
   "cell_type": "code",
   "execution_count": 38,
   "metadata": {},
   "outputs": [
    {
     "data": {
      "text/plain": [
       "17915"
      ]
     },
     "execution_count": 38,
     "metadata": {},
     "output_type": "execute_result"
    }
   ],
   "source": [
    "len(test[(test['isEnglish'] == False)])#.iloc[100:200]"
   ]
  },
  {
   "cell_type": "code",
   "execution_count": null,
   "metadata": {
    "collapsed": true
   },
   "outputs": [],
   "source": [
    "test[(test['isEnglish'] == False)][['comment_text_ori', 'comment_text']]#.iloc[152819]"
   ]
  },
  {
   "cell_type": "code",
   "execution_count": 60,
   "metadata": {},
   "outputs": [
    {
     "data": {
      "text/html": [
       "<div>\n",
       "<style scoped>\n",
       "    .dataframe tbody tr th:only-of-type {\n",
       "        vertical-align: middle;\n",
       "    }\n",
       "\n",
       "    .dataframe tbody tr th {\n",
       "        vertical-align: top;\n",
       "    }\n",
       "\n",
       "    .dataframe thead th {\n",
       "        text-align: right;\n",
       "    }\n",
       "</style>\n",
       "<table border=\"1\" class=\"dataframe\">\n",
       "  <thead>\n",
       "    <tr style=\"text-align: right;\">\n",
       "      <th></th>\n",
       "      <th>comment_text_ori</th>\n",
       "      <th>comment_text</th>\n",
       "    </tr>\n",
       "  </thead>\n",
       "  <tbody>\n",
       "    <tr>\n",
       "      <th>152819</th>\n",
       "      <td>== 蹩脚英语 == \\n 英语好烂呀！最近跟维基用户有事要说，无奈几乎不会英语，说不了话。你得帮帮我呀！这次要删除文章，你告诉他行不行？</td>\n",
       "      <td>crappy english english is so rotten recently with the wiki user something to say helpless almost no english can not say anything you have to help me this time to delete the article you tell him not work</td>\n",
       "    </tr>\n",
       "  </tbody>\n",
       "</table>\n",
       "</div>"
      ],
      "text/plain": [
       "                                                             comment_text_ori  \\\n",
       "152819  == 蹩脚英语 == \\n 英语好烂呀！最近跟维基用户有事要说，无奈几乎不会英语，说不了话。你得帮帮我呀！这次要删除文章，你告诉他行不行？   \n",
       "\n",
       "                                                                                                                                                                                                      comment_text  \n",
       "152819  crappy english english is so rotten recently with the wiki user something to say helpless almost no english can not say anything you have to help me this time to delete the article you tell him not work  "
      ]
     },
     "execution_count": 60,
     "metadata": {},
     "output_type": "execute_result"
    }
   ],
   "source": [
    "test[['comment_text_ori', 'comment_text']].loc[152819:152819]"
   ]
  },
  {
   "cell_type": "code",
   "execution_count": null,
   "metadata": {
    "collapsed": true
   },
   "outputs": [],
   "source": []
  },
  {
   "cell_type": "code",
   "execution_count": null,
   "metadata": {
    "collapsed": true
   },
   "outputs": [],
   "source": []
  },
  {
   "cell_type": "code",
   "execution_count": null,
   "metadata": {
    "collapsed": true
   },
   "outputs": [],
   "source": []
  },
  {
   "cell_type": "code",
   "execution_count": null,
   "metadata": {
    "collapsed": true
   },
   "outputs": [],
   "source": [
    "bad_word_dict1 = {\n",
    "    'niggors': 'nigger', # stem + spell check\n",
    "    'mothjer': 'mother', # spell check (stem is ok)\n",
    "    'faggt':'faggot',\n",
    "    'cucks':'cocks', # spell check \n",
    "    'sexsex': 'sex',\n",
    "    'peenus': 'penis',\n",
    "    'sexsex': 'sex',\n",
    "    'fuckerucker': 'fucker', \n",
    "    'sockpuppet':'alias',\n",
    "    'sockpuppetry': 'alias',\n",
    "    'semite':'semitic',\n",
    "    'donkeysex':'dick',\n",
    "    'homopetersymonds': 'homo',\n",
    "    'headsdick': 'dick',\n",
    "    'peni':'penis',\n",
    "    'asspie':'ass',\n",
    "    'nonense': 'nonsense',\n",
    "    'vagpenis':'penis',\n",
    "    'diedres': 'crap',\n",
    "    'niggetr': 'nigger'\n",
    "}\n",
    "\n",
    "bad_word_dict2 ={\n",
    "    'youfuck': 'fuck',\n",
    "    'niggors' :'nigger',\n",
    "    'bitchbot': 'bitch',\n",
    "    'donkeysex': 'dick',\n",
    "    'motherfuc': 'motherfucker',\n",
    "    'sexualit': 'sexuality',\n",
    "    'sexuall': 'sexual',\n",
    "    'cocain': 'cocaine',\n",
    "    \"fuck'\": 'fuck',\n",
    "    'valentin': 'valentine',\n",
    "    'decease': 'deceased',\n",
    "    'deth': 'death',\n",
    "    \"'ass\": 'ass',\n",
    "    'gayy': 'gay',\n",
    "    'sexe': 'sex',\n",
    "    'bith': 'bitch',\n",
    "    'bithc': 'bitch',\n",
    "    'bithces': 'bitch',\n",
    "    \"fool'\": 'fool',\n",
    "    'cuck': 'cock',\n",
    "    \"'shit\": 'shit',\n",
    "    \"penis'\": 'penis',\n",
    "    \"bitch'\": 'bitch',\n",
    "    \"'stupid\": 'stupid',\n",
    "    'fuckn': 'fuck',\n",
    "    'choked': 'choke',\n",
    "    'headsdick': 'dick',\n",
    "    'peni': 'penis',\n",
    "    'asspie': 'ass',\n",
    "    'nonense': 'nonsense',\n",
    "    'nonsesnse': 'nonsense',\n",
    "    'zdick': 'dick',\n",
    "    'asse': 'ass',\n",
    "    'vagpenis': 'penis',\n",
    "    'niggetr': 'nigger',\n",
    "    \"mother's\": 'mother',\n",
    "    'pornn': 'porn',\n",
    "    'fuock': 'fuck',\n",
    "    'dik': 'dick',\n",
    "    'maoth': 'mouth',\n",
    "    'horsecock': 'cock',\n",
    "    'pneis': 'penis',\n",
    "    'mothjer': 'mother'\n",
    "}"
   ]
  }
 ],
 "metadata": {
  "kernelspec": {
   "display_name": "Python 3.5 (tf_gpu)",
   "language": "python",
   "name": "tf_gpu"
  },
  "language_info": {
   "codemirror_mode": {
    "name": "ipython",
    "version": 3
   },
   "file_extension": ".py",
   "mimetype": "text/x-python",
   "name": "python",
   "nbconvert_exporter": "python",
   "pygments_lexer": "ipython3",
   "version": "3.5.4"
  }
 },
 "nbformat": 4,
 "nbformat_minor": 2
}
