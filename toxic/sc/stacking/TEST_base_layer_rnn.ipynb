{
 "cells": [
  {
   "cell_type": "code",
   "execution_count": 56,
   "metadata": {},
   "outputs": [],
   "source": [
    "import pandas as pd\n",
    "import numpy as np\n",
    "from abc import ABC, abstractmethod\n",
    "from sklearn.feature_extraction.text import CountVectorizer, TfidfVectorizer, TfidfTransformer\n",
    "from sklearn.linear_model import LogisticRegression\n",
    "from sklearn.svm import SVC\n",
    "from sklearn.svm import LinearSVC\n",
    "from sklearn.calibration import CalibratedClassifierCV\n",
    "from sklearn.metrics import roc_auc_score\n",
    "from scipy.sparse import csr_matrix, hstack, vstack\n",
    "import lightgbm as lgb\n",
    "\n",
    "from enum import Enum\n",
    "class ModelName(Enum):\n",
    "    XGB = 1\n",
    "    NBXGB = 2\n",
    "    LGB = 3\n",
    "    NBLGB = 4\n",
    "    LOGREG = 5\n",
    "    NBSVM = 6\n",
    "    NBLSVC = 7\n",
    "    RF = 8 # random forest\n",
    "    RNN = 9\n",
    "    ONESVC = 10\n",
    "    ONELOGREG = 11\n",
    "\n",
    "\n",
    "class BaseLayerEstimator(ABC):\n",
    "    \n",
    "    def _pr(self, y_i, y, train_features):\n",
    "        p = train_features[np.array(y==y_i)].sum(0)\n",
    "        return (p + 1) / (np.array(y == y_i).sum() + 1)\n",
    "    \n",
    "    def _nb(self, x_train, y_train):\n",
    "        assert isinstance(y_train, pd.DataFrame)\n",
    "        r = {}\n",
    "        for col in y_train.columns:\n",
    "            print('calculating naive bayes for {}'.format(col))\n",
    "            r[col] = np.log(self._pr(1, y_train[col].values, x_train) / self._pr(0, y_train[col], x_train))\n",
    "        return r\n",
    "    \n",
    "    @abstractmethod\n",
    "    def train(self, x_train, y_train):\n",
    "        \"\"\"\n",
    "        Params:\n",
    "            x_train: np array\n",
    "            y_train: pd series\n",
    "        \"\"\"\n",
    "        pass\n",
    "    \n",
    "    @abstractmethod\n",
    "    def predict(self, x_train):\n",
    "        pass\n",
    "    \n",
    "            \n",
    "\n",
    "from keras.layers import Dense, Embedding, Input, LSTM, Bidirectional, GlobalMaxPool1D, Dropout, BatchNormalization\n",
    "from keras.models import Model\n",
    "from keras.callbacks import EarlyStopping, ModelCheckpoint\n",
    "\n",
    "class RnnBLE(BaseLayerEstimator):\n",
    "    def __init__(self, window_length, n_features, label_cols, rnn_units=50, dense_units=50, dropout=0.1, \n",
    "                 mode='LSTM', bidirection=True, load_model=False, load_model_file=None):\n",
    "        self._model = RnnBLE.get_lstm_model(window_length, n_features, label_cols, rnn_units, \n",
    "                                            dense_units, dropout, mode, bidirection, load_model, load_model_file)\n",
    "        \n",
    "    @staticmethod\n",
    "    def get_lstm_model(window_length, n_features, label_cols, rnn_units, dense_units, \n",
    "                       dropout, mode, bidirection, load_model=False, load_model_file=None):\n",
    "        input = Input(shape=(window_length, n_features))\n",
    "        rnn_layer = LSTM(rnn_units, return_sequences=True, dropout=dropout, recurrent_dropout=dropout)\n",
    "        if mode == 'GRU':\n",
    "            rnn_layer = GRU(rnn_units, return_sequences=True, dropout=dropout, recurrent_dropout=dropout)\n",
    "        if bidirection:\n",
    "            x = Bidirectional(rnn_layer)(input)\n",
    "        else:\n",
    "            x = rnn_layer(input)\n",
    "        x = GlobalMaxPool1D()(x)\n",
    "        x = Dense(dense_units, activation='relu')(x)\n",
    "        x = Dropout(dropout)(x)\n",
    "        x = Dense(len(label_cols), activation='sigmoid')(x)\n",
    "        model = Model(inputs=input, outputs=x)\n",
    "        \n",
    "        if (load_model):\n",
    "            model.load_weights(load_model_file)\n",
    "        \n",
    "        model.compile(loss='binary_crossentropy',\n",
    "                      optimizer='adam',\n",
    "                      metrics=['accuracy'])\n",
    "        return model \n",
    "    \n",
    "    \n",
    "    def train(self, epochs, x_train=None, y_train=None, batch_size=None, callbacks=None, \n",
    "              validation_split=0.0, validation_data=None, data_gen=None, training_steps_per_epoch=None):\n",
    "        if data_gen is None:\n",
    "            if x_train is None or y_train is None or batch_size is None:\n",
    "                raise ValueError('Since not training with data generator, please provide: x_train, y_train, batch_size')\n",
    "            print('training without datagen')\n",
    "            self._model.fit(x_train, y_train, batch_size=batch_size, validation_split=validation_split, epochs=epochs, callbacks=callbacks)\n",
    "            return self._model # for chaining\n",
    "        else:\n",
    "            if training_steps_per_epoch is None:\n",
    "                raise ValueError('training_steps_per_epoch can not be None when using data_gen')\n",
    "            # with generator:\n",
    "            print('training with datagen')\n",
    "    \n",
    "            self._model.fit_generator(\n",
    "                generator=data_gen,\n",
    "                steps_per_epoch=training_steps_per_epoch, \n",
    "                epochs=epochs, \n",
    "                validation_data=validation_data, # (x_val, y_val) \n",
    "                callbacks=callbacks\n",
    "            )\n",
    "            return self._model\n",
    "            \n",
    "    \n",
    "    def predict(self, x, load_model_file=None):\n",
    "        if load_model_file is not None:\n",
    "            self._model.load_weights(load_model_file)\n",
    "        return self._model.predict(x, verbose=1)#, batch_size=1024)\n",
    "    \n"
   ]
  },
  {
   "cell_type": "code",
   "execution_count": 20,
   "metadata": {},
   "outputs": [
    {
     "name": "stdout",
     "output_type": "stream",
     "text": [
      "loading FastText model...\n",
      "fasttext model loaded. embedding dimemsion: 300\n"
     ]
    }
   ],
   "source": [
    "from fastText import load_model\n",
    "\n",
    "class FastTextDataGenerator():\n",
    "    # class variables\n",
    "    print('loading FastText model...', flush=True) # flush set true has no effect?\n",
    "    ft_model_path = '/home/kai/data/resources/FastText/wiki.en.bin'\n",
    "    ft_model = load_model(ft_model_path)\n",
    "    n_features = FastTextDataGenerator.ft_model.get_dimension()\n",
    "    print('fasttext model loaded. embedding dimemsion: {}'.format(n_features))\n",
    "\n",
    "    \n",
    "    def __init__(self, df, label_cols, text_column_name, window_length, batch_size, shuffle=True):\n",
    "        \"\"\"\n",
    "        Params:\n",
    "            df: (dataframe) at least contains a text column and label columns\n",
    "            label_cols: (list) names of label columns\n",
    "                        e.g.: ['toxic', 'severe_toxic', 'obscene', 'threat', 'insult', 'identity_hate']\n",
    "            text_column_name: (str) text for faxttext embedding\n",
    "                        e.g.: comment or comment_text_cleaned\n",
    "            window_length: (int) pick at most the first n words from a text\n",
    "            batch_size: (int) how large to generate at each batch\n",
    "            shuffle: (boolean)  whether to shuffle df each epoch \n",
    "        Returns:\n",
    "            (tuple) contains training data and labels of the batch size\n",
    "            \n",
    "        \"\"\"        \n",
    "        #self._ft_model = load_model(ft_model_path)\n",
    "#         self._n_features = FastTextDataGenerator.ft_model.get_dimension()\n",
    "#         print('fasttext model loaded. embedding dimemsion: {}'.format(self._n_features))\n",
    "        \n",
    "        self._df = df\n",
    "        self._label_cols = label_cols\n",
    "        self._text_column_name = text_column_name\n",
    "        self._window_length = window_length\n",
    "        self._batch_size = batch_size\n",
    "        self._shuffle = shuffle\n",
    "        self.training_steps_per_epoch = round(len(df) / batch_size)\n",
    "        \n",
    "        \n",
    "    def load_new_ft_model(self, new_ft_model_path):\n",
    "        print('loading new model...', flush=True) \n",
    "        FastTextDataGenerator.ft_model = load_model(new_ft_model_path)\n",
    "        FastTextDataGenerator.n_features = FastTextDataGenerator.ft_model.get_dimension()\n",
    "        print('fasttext model loaded. embedding dimemsion: {}'.format(FastTextDataGenerator.n_features))\n",
    "\n",
    "            \n",
    "    def data_gen(self):\n",
    "        \"\"\"\n",
    "        Given a raw dataframe, generates infinite batches of FastText vectors.\n",
    "        \"\"\"\n",
    "        batch_i = 0 # Counter inside the current batch vector\n",
    "        batch_x = None # The current batch's x data\n",
    "        batch_y = None # The current batch's y data\n",
    "\n",
    "        while True: # Loop forever\n",
    "            if self._shuffle:\n",
    "                self._df = self._df.sample(frac=1) \n",
    "\n",
    "            for i, row in self._df.iterrows():\n",
    "                comment = row[self._text_column_name][0] # add [0] to get the string from the pd.Series \n",
    "\n",
    "                if batch_x is None:\n",
    "                    batch_x = np.zeros((self._batch_size, self._window_length, FastTextDataGenerator.n_features), dtype='float32')\n",
    "                    batch_y = np.zeros((self._batch_size, len(self._label_cols)), dtype='float32')\n",
    "                \n",
    "                batch_x[batch_i] = FastTextDataGenerator.text_to_vector(comment, self._window_length)\n",
    "                batch_y[batch_i] = row[self._label_cols].values\n",
    "                batch_i += 1\n",
    "\n",
    "                if batch_i == self._batch_size:\n",
    "                    # Ready to yield the batch\n",
    "                    yield batch_x, batch_y\n",
    "                    batch_x = None\n",
    "                    batch_y = None\n",
    "                    batch_i = 0\n",
    "\n",
    "    @staticmethod\n",
    "    def text_to_vector(text, window_length):\n",
    "        \"\"\"\n",
    "        Given a string, normalizes it, then splits it into words and finally converts\n",
    "        it to a sequence of word vectors.\n",
    "        \"\"\"\n",
    "        text = FastTextDataGenerator.normalize(text)\n",
    "        words = text.split()\n",
    "        window = words[-window_length:]\n",
    "\n",
    "        x = np.zeros((window_length, FastTextDataGenerator.n_features))\n",
    "\n",
    "        for i, word in enumerate(window):\n",
    "            x[i, :] = FastTextDataGenerator.ft_model.get_word_vector(word).astype('float32')\n",
    "\n",
    "        return x\n",
    "\n",
    "    @staticmethod\n",
    "    def normalize(s):\n",
    "        \"\"\"\n",
    "        Given a text, cleans and normalizes it. Feel free to add your own stuff.\n",
    "        \"\"\"\n",
    "        #s = s.lower()\n",
    "        # Replace ips\n",
    "        #s = re.sub(r'\\d{1,3}\\.\\d{1,3}\\.\\d{1,3}\\.\\d{1,3}', ' _ip_ ', s)\n",
    "        # Isolate punctuation\n",
    "        #s = re.sub(r'([\\'\\\"\\.\\(\\)\\!\\?\\-\\\\\\/\\,])', r' \\1 ', s)\n",
    "        # Remove some special characters\n",
    "        #s = re.sub(r'([\\;\\:\\|•«\\n])', ' ', s)\n",
    "        # Replace numbers and symbols with language\n",
    "        s = s.replace('&', ' and ')\n",
    "        s = s.replace('@', ' at ')\n",
    "        s = s.replace('0', ' zero ')\n",
    "        s = s.replace('1', ' one ')\n",
    "        s = s.replace('2', ' two ')\n",
    "        s = s.replace('3', ' three ')\n",
    "        s = s.replace('4', ' four ')\n",
    "        s = s.replace('5', ' five ')\n",
    "        s = s.replace('6', ' six ')\n",
    "        s = s.replace('7', ' seven ')\n",
    "        s = s.replace('8', ' eight ')\n",
    "        s = s.replace('9', ' nine ')\n",
    "        return s\n",
    "\n",
    "    @staticmethod\n",
    "    def df_to_data(df, text_column_name, window_length):\n",
    "        \"\"\"\n",
    "        Convert a given dataframe to a dataset of inputs for the NN.\n",
    "        \"\"\"\n",
    "        x = np.zeros((len(df), window_length, FastTextDataGenerator.n_features), dtype='float32')\n",
    "\n",
    "        for i, comment in enumerate(df[text_column_name].values):\n",
    "            x[i, :] = FastTextDataGenerator.text_to_vector(comment, window_length)\n",
    "\n",
    "        return x\n",
    "    "
   ]
  },
  {
   "cell_type": "code",
   "execution_count": 21,
   "metadata": {},
   "outputs": [
    {
     "data": {
      "text/plain": [
       "1039"
      ]
     },
     "execution_count": 21,
     "metadata": {},
     "output_type": "execute_result"
    }
   ],
   "source": [
    "import gc\n",
    "gc.collect()"
   ]
  },
  {
   "cell_type": "code",
   "execution_count": null,
   "metadata": {
    "collapsed": true
   },
   "outputs": [],
   "source": [
    "\n"
   ]
  },
  {
   "cell_type": "code",
   "execution_count": 3,
   "metadata": {},
   "outputs": [
    {
     "name": "stdout",
     "output_type": "stream",
     "text": [
      "(159571, 27)\n",
      "(153164, 21)\n"
     ]
    }
   ],
   "source": [
    "PATH = '~/data/toxic/data/'\n",
    "\n",
    "train = pd.read_csv(PATH + 'cleaned_train.csv')\n",
    "#train = pd.read_csv('/home/kai/data/wei/Toxic/data/Shiyi_training.csv').fillna('na')\n",
    "\n",
    "test = pd.read_csv(PATH + 'cleaned_test.csv')\n",
    "\n",
    "#train = train.head(1000)\n",
    "#test = test.head(1000)\n",
    "\n",
    "train_sentence = train['comment_text_cleaned']\n",
    "test_sentence = test['comment_text_cleaned']\n",
    "\n",
    "text = pd.concat([train_sentence, test_sentence])\n",
    "\n",
    "print(train.shape)\n",
    "print(test.shape)\n",
    "\n",
    "label_cols = ['toxic', 'severe_toxic', 'obscene', 'threat', 'insult', 'identity_hate']"
   ]
  },
  {
   "cell_type": "code",
   "execution_count": 4,
   "metadata": {
    "collapsed": true
   },
   "outputs": [],
   "source": [
    "train = train[:5000]\n",
    "test = test[:5000]"
   ]
  },
  {
   "cell_type": "code",
   "execution_count": 25,
   "metadata": {},
   "outputs": [],
   "source": [
    "temp = FastTextDataGenerator.df_to_data(test, 'comment_text_cleaned', 200)"
   ]
  },
  {
   "cell_type": "code",
   "execution_count": 29,
   "metadata": {
    "collapsed": true
   },
   "outputs": [],
   "source": [
    "from base_layer_utils import BaseLayerDataRepo, BaseLayerResultsRepo, ModelName\n",
    "\n",
    "bldr = BaseLayerDataRepo()\n",
    "rnn_data_id = '_fasttext_datagen_200_300'\n",
    "compatible_models= [ModelName.RNN]\n",
    "bldr.add_data(rnn_data_id, train['comment_text_cleaned'].values.reshape(-1,1), temp, train[label_cols], label_cols, compatible_models, True)"
   ]
  },
  {
   "cell_type": "code",
   "execution_count": 30,
   "metadata": {},
   "outputs": [
    {
     "name": "stdout",
     "output_type": "stream",
     "text": [
      "data_id: _ep1_fasttext_datagen_200_300 \n",
      "\tx_train: (5000, 1)\tx_test: (5000, 200, 300)\n",
      "\ty_train type: <class 'pandas.core.frame.DataFrame'>\n",
      "\tcompatible_model: {<ModelName.RNN: 9>}\n",
      " \n"
     ]
    }
   ],
   "source": [
    "print(bldr)"
   ]
  },
  {
   "cell_type": "code",
   "execution_count": 31,
   "metadata": {
    "collapsed": true
   },
   "outputs": [],
   "source": [
    "data = bldr.get_data('_ep1_fasttext_datagen_200_300')"
   ]
  },
  {
   "cell_type": "code",
   "execution_count": 32,
   "metadata": {},
   "outputs": [],
   "source": [
    "x_train = data['x_train']\n",
    "y_train = data['y_train']\n",
    "x_test = data['x_test']"
   ]
  },
  {
   "cell_type": "markdown",
   "metadata": {},
   "source": [
    "x_train.reshape(-1,1).shape, y_train.shape\n",
    "\n",
    "np.hstack((x_train, y_train)).shape"
   ]
  },
  {
   "cell_type": "code",
   "execution_count": 35,
   "metadata": {},
   "outputs": [],
   "source": [
    "df_for_data_gen = pd.DataFrame(np.hstack((x_train, y_train)), columns=[['comment']+label_cols])"
   ]
  },
  {
   "cell_type": "code",
   "execution_count": 36,
   "metadata": {},
   "outputs": [],
   "source": [
    "ft_data_gen = FastTextDataGenerator(df_for_data_gen, label_cols, 'comment', 200, 32, True)"
   ]
  },
  {
   "cell_type": "code",
   "execution_count": 37,
   "metadata": {},
   "outputs": [
    {
     "data": {
      "text/plain": [
       "156"
      ]
     },
     "execution_count": 37,
     "metadata": {},
     "output_type": "execute_result"
    }
   ],
   "source": [
    "ft_data_gen.training_steps_per_epoch"
   ]
  },
  {
   "cell_type": "code",
   "execution_count": 41,
   "metadata": {
    "collapsed": true
   },
   "outputs": [],
   "source": [
    "model_file = 'obj/rnn_models/model1'            \n",
    "checkpoint = ModelCheckpoint(model_file, monitor='acc', verbose=1)#, save_best_only=True, mode='min')\n",
    "#earlystopping = EarlyStopping(monitor=\"acc\", mode=\"max\", patience=2)\n",
    "callbacks = [checkpoint]#, earlystopping]"
   ]
  },
  {
   "cell_type": "code",
   "execution_count": 57,
   "metadata": {},
   "outputs": [],
   "source": [
    "rnn_m = RnnBLE(200, 300, label_cols, load_model=True, load_model_file=model_file)"
   ]
  },
  {
   "cell_type": "code",
   "execution_count": 58,
   "metadata": {},
   "outputs": [
    {
     "name": "stdout",
     "output_type": "stream",
     "text": [
      "training with datagen\n",
      "Epoch 1/1\n",
      "155/156 [============================>.] - ETA: 0s - loss: 0.0971 - acc: 0.9670\n",
      "Epoch 00001: saving model to obj/rnn_models/model1\n",
      "156/156 [==============================] - 71s 454ms/step - loss: 0.0966 - acc: 0.9672\n"
     ]
    },
    {
     "data": {
      "text/plain": [
       "<keras.engine.training.Model at 0x7f6ee3633a90>"
      ]
     },
     "execution_count": 58,
     "metadata": {},
     "output_type": "execute_result"
    }
   ],
   "source": [
    "rnn_m.train(1, data_gen=ft_data_gen.data_gen(), training_steps_per_epoch=ft_data_gen.training_steps_per_epoch, callbacks=callbacks)"
   ]
  },
  {
   "cell_type": "code",
   "execution_count": 44,
   "metadata": {},
   "outputs": [
    {
     "name": "stdout",
     "output_type": "stream",
     "text": [
      "training with datagen\n",
      "Epoch 1/1\n",
      "155/156 [============================>.] - ETA: 0s - loss: 0.1758 - acc: 0.9518\n",
      "Epoch 00001: saving model to obj/rnn_models/model1\n",
      "156/156 [==============================] - 71s 456ms/step - loss: 0.1753 - acc: 0.9520\n"
     ]
    },
    {
     "data": {
      "text/plain": [
       "<keras.engine.training.Model at 0x7f7010361908>"
      ]
     },
     "execution_count": 44,
     "metadata": {},
     "output_type": "execute_result"
    }
   ],
   "source": [
    "rnn_m.train(1, data_gen=ft_data_gen.data_gen(), training_steps_per_epoch=ft_data_gen.training_steps_per_epoch, callbacks=callbacks)"
   ]
  },
  {
   "cell_type": "code",
   "execution_count": null,
   "metadata": {
    "collapsed": true
   },
   "outputs": [],
   "source": [
    "rnn_m."
   ]
  },
  {
   "cell_type": "code",
   "execution_count": 59,
   "metadata": {},
   "outputs": [
    {
     "name": "stdout",
     "output_type": "stream",
     "text": [
      "5000/5000 [==============================] - 15s 3ms/step\n"
     ]
    }
   ],
   "source": [
    "preds = rnn_m.predict(x_test)"
   ]
  },
  {
   "cell_type": "code",
   "execution_count": 50,
   "metadata": {},
   "outputs": [
    {
     "name": "stdout",
     "output_type": "stream",
     "text": [
      "5000/5000 [==============================] - 16s 3ms/step\n"
     ]
    }
   ],
   "source": [
    "pred1 = rnn_m.predict(x_test, load_model_file=model_file)"
   ]
  },
  {
   "cell_type": "code",
   "execution_count": 52,
   "metadata": {},
   "outputs": [
    {
     "data": {
      "text/plain": [
       "(5000,)"
      ]
     },
     "execution_count": 52,
     "metadata": {},
     "output_type": "execute_result"
    }
   ],
   "source": [
    "preds[:, 0]"
   ]
  },
  {
   "cell_type": "code",
   "execution_count": 53,
   "metadata": {
    "collapsed": true
   },
   "outputs": [],
   "source": [
    "import matplotlib.pyplot as plt"
   ]
  },
  {
   "cell_type": "code",
   "execution_count": 54,
   "metadata": {
    "collapsed": true
   },
   "outputs": [],
   "source": [
    "%matplotlib inline"
   ]
  },
  {
   "cell_type": "code",
   "execution_count": 60,
   "metadata": {},
   "outputs": [
    {
     "data": {
      "text/plain": [
       "<matplotlib.collections.PathCollection at 0x7f6ee22a6f98>"
      ]
     },
     "execution_count": 60,
     "metadata": {},
     "output_type": "execute_result"
    },
    {
     "data": {
      "image/png": "[encoded data removed]",
      "text/plain": [
       "<matplotlib.figure.Figure at 0x7f6ee2421b00>"
      ]
     },
     "metadata": {},
     "output_type": "display_data"
    }
   ],
   "source": [
    "plt.scatter(preds[:,0], pred1[:,0])"
   ]
  },
  {
   "cell_type": "code",
   "execution_count": null,
   "metadata": {
    "collapsed": true
   },
   "outputs": [],
   "source": []
  }
 ],
 "metadata": {
  "kernelspec": {
   "display_name": "Python 3.5 (tf_gpu)",
   "language": "python",
   "name": "tf_gpu"
  },
  "language_info": {
   "codemirror_mode": {
    "name": "ipython",
    "version": 3
   },
   "file_extension": ".py",
   "mimetype": "text/x-python",
   "name": "python",
   "nbconvert_exporter": "python",
   "pygments_lexer": "ipython3",
   "version": "3.5.4"
  }
 },
 "nbformat": 4,
 "nbformat_minor": 2
}
