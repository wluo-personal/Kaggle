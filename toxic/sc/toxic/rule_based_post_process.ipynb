{
 "cells": [
  {
   "cell_type": "code",
   "execution_count": 51,
   "metadata": {},
   "outputs": [],
   "source": [
    "import pandas as pd\n",
    "import re\n",
    "import numpy as np\n",
    "from sklearn.metrics import roc_auc_score, accuracy_score, roc_curve, auc"
   ]
  },
  {
   "cell_type": "code",
   "execution_count": 55,
   "metadata": {},
   "outputs": [],
   "source": [
    "import keras.backend as K\n",
    "from keras.models import Model\n",
    "from keras.layers import Dense, Embedding, Input, LSTM, Bidirectional, GlobalMaxPool1D, Dropout"
   ]
  },
  {
   "cell_type": "code",
   "execution_count": 48,
   "metadata": {},
   "outputs": [
    {
     "name": "stdout",
     "output_type": "stream",
     "text": [
      "(153164, 21)\n"
     ]
    }
   ],
   "source": [
    "PATH = '~/data/toxic/data/'\n",
    "\n",
    "train = pd.read_csv(PATH + 'cleaned_train.csv')\n",
    "test = pd.read_csv(PATH + 'cleaned_test.csv')\n",
    "\n",
    "#train_sentence = train['comment_text_cleaned']\n",
    "#test_sentence = test['comment_text_cleaned']\n",
    "\n",
    "#text = pd.concat([train_sentence, test_sentence])\n",
    "\n",
    "#print(train.shape)\n",
    "print(test.shape)"
   ]
  },
  {
   "cell_type": "code",
   "execution_count": 26,
   "metadata": {
    "collapsed": true
   },
   "outputs": [],
   "source": [
    "submission = pd.read_csv('/home/kai/data/shiyi/toxic/submissions/sub_FastText_cleaned_200_300_50_50_0.1_32_4_1518806221.csv')"
   ]
  },
  {
   "cell_type": "code",
   "execution_count": 27,
   "metadata": {},
   "outputs": [
    {
     "data": {
      "text/html": [
       "<div>\n",
       "<style scoped>\n",
       "    .dataframe tbody tr th:only-of-type {\n",
       "        vertical-align: middle;\n",
       "    }\n",
       "\n",
       "    .dataframe tbody tr th {\n",
       "        vertical-align: top;\n",
       "    }\n",
       "\n",
       "    .dataframe thead th {\n",
       "        text-align: right;\n",
       "    }\n",
       "</style>\n",
       "<table border=\"1\" class=\"dataframe\">\n",
       "  <thead>\n",
       "    <tr style=\"text-align: right;\">\n",
       "      <th></th>\n",
       "      <th>id</th>\n",
       "      <th>toxic</th>\n",
       "      <th>severe_toxic</th>\n",
       "      <th>obscene</th>\n",
       "      <th>threat</th>\n",
       "      <th>insult</th>\n",
       "      <th>identity_hate</th>\n",
       "    </tr>\n",
       "  </thead>\n",
       "  <tbody>\n",
       "    <tr>\n",
       "      <th>0</th>\n",
       "      <td>00001cee341fdb12</td>\n",
       "      <td>0.999523</td>\n",
       "      <td>4.868310e-01</td>\n",
       "      <td>0.986272</td>\n",
       "      <td>1.233855e-01</td>\n",
       "      <td>9.359576e-01</td>\n",
       "      <td>5.140475e-01</td>\n",
       "    </tr>\n",
       "    <tr>\n",
       "      <th>1</th>\n",
       "      <td>0000247867823ef7</td>\n",
       "      <td>0.000037</td>\n",
       "      <td>3.082599e-10</td>\n",
       "      <td>0.000001</td>\n",
       "      <td>6.009321e-08</td>\n",
       "      <td>6.191491e-07</td>\n",
       "      <td>4.219558e-07</td>\n",
       "    </tr>\n",
       "  </tbody>\n",
       "</table>\n",
       "</div>"
      ],
      "text/plain": [
       "                 id     toxic  severe_toxic   obscene        threat  \\\n",
       "0  00001cee341fdb12  0.999523  4.868310e-01  0.986272  1.233855e-01   \n",
       "1  0000247867823ef7  0.000037  3.082599e-10  0.000001  6.009321e-08   \n",
       "\n",
       "         insult  identity_hate  \n",
       "0  9.359576e-01   5.140475e-01  \n",
       "1  6.191491e-07   4.219558e-07  "
      ]
     },
     "execution_count": 27,
     "metadata": {},
     "output_type": "execute_result"
    }
   ],
   "source": [
    "submission.head(2)"
   ]
  },
  {
   "cell_type": "code",
   "execution_count": 28,
   "metadata": {},
   "outputs": [
    {
     "data": {
      "text/plain": [
       "True"
      ]
     },
     "execution_count": 28,
     "metadata": {},
     "output_type": "execute_result"
    }
   ],
   "source": [
    "sum(test.id == submission.id) == test.shape[0]"
   ]
  },
  {
   "cell_type": "code",
   "execution_count": 29,
   "metadata": {},
   "outputs": [
    {
     "data": {
      "text/html": [
       "<div>\n",
       "<style scoped>\n",
       "    .dataframe tbody tr th:only-of-type {\n",
       "        vertical-align: middle;\n",
       "    }\n",
       "\n",
       "    .dataframe tbody tr th {\n",
       "        vertical-align: top;\n",
       "    }\n",
       "\n",
       "    .dataframe thead th {\n",
       "        text-align: right;\n",
       "    }\n",
       "</style>\n",
       "<table border=\"1\" class=\"dataframe\">\n",
       "  <thead>\n",
       "    <tr style=\"text-align: right;\">\n",
       "      <th></th>\n",
       "      <th>id</th>\n",
       "      <th>comment_text_cleaned</th>\n",
       "      <th>word_count</th>\n",
       "    </tr>\n",
       "  </thead>\n",
       "  <tbody>\n",
       "    <tr>\n",
       "      <th>0</th>\n",
       "      <td>00001cee341fdb12</td>\n",
       "      <td>yo bitch ja rule be more succesful then you wi...</td>\n",
       "      <td>72</td>\n",
       "    </tr>\n",
       "    <tr>\n",
       "      <th>1</th>\n",
       "      <td>0000247867823ef7</td>\n",
       "      <td>from rfc the title be fine a it be imo .</td>\n",
       "      <td>12</td>\n",
       "    </tr>\n",
       "  </tbody>\n",
       "</table>\n",
       "</div>"
      ],
      "text/plain": [
       "                 id                               comment_text_cleaned  \\\n",
       "0  00001cee341fdb12  yo bitch ja rule be more succesful then you wi...   \n",
       "1  0000247867823ef7           from rfc the title be fine a it be imo .   \n",
       "\n",
       "   word_count  \n",
       "0          72  \n",
       "1          12  "
      ]
     },
     "execution_count": 29,
     "metadata": {},
     "output_type": "execute_result"
    }
   ],
   "source": [
    "test[['id','comment_text_cleaned','word_count']].head(2) # test data from csv"
   ]
  },
  {
   "cell_type": "code",
   "execution_count": 30,
   "metadata": {},
   "outputs": [
    {
     "name": "stdout",
     "output_type": "stream",
     "text": [
      "100\n"
     ]
    }
   ],
   "source": [
    "toxic_words_poll = ['motherfucker', 'crap', 'fuck', 'prick', 'piss', 'hell', 'nerd', 'life', 'sick', 'jerk', 'racist', 'goddamn', 'wtf', 'shove', 'sucker', 'dude', 'motherfucking', 'mom', 'dare', 'stop', 'filthy', 'ignorant', 'fuckhead', 'youre', 'stupid', 'gonna', 'disgust', 'kiss', 'yo', 'get', 'pathetic', 'stupidity', 'liar', 'queer', 'fuk', 'bitch', 'retard', 'arsehole', 'screw', 'turd', 'suck', 'little', 'anus', 'stink', 'hole', 'dick', 'fuckwit', 'fucken', 'quit', 'scumbag', 'asshole', 'wank', 'fucktard', 'smelly', 'idiotic', 'jackass', 'sad', 'mother', 'wanna', 'disgrace', 'ya', 'cum', 'maggot', 'basement', 'lame', 'idiot', 'nazi', 'bunch', 'cking', 'ha', 'dumb', 'ban', 'go', 'hypocrite', 'commie', 'monkey', 'arrogant', 'butt', 'garbage', 'burn', 'homosexual', 'cant', 'cunt', 'stfu', 'douchebag', 'fuckface', 'bastard', 'cuz', 'stinky', 'masturbate', 'mommy', 'thats', 'clown', 'ever', 'hoe', 'pervert', 'man', 'laugh', 'bully', 'scumbags']\n",
    "print(len(toxic_words_poll))"
   ]
  },
  {
   "cell_type": "code",
   "execution_count": 31,
   "metadata": {
    "collapsed": true
   },
   "outputs": [],
   "source": [
    "toxic_words_poll_reordered = ['motherfucking', 'fuckhead', 'fuckface', 'motherfucker', 'fucken', 'fucktard', 'fuck', 'fuckwit', 'asshole', 'bitch', 'sucker', 'cunt', 'arsehole', 'suck', 'stinky', 'scumbags', 'smelly', 'bastard', 'goddamn', 'maggot', 'wank', 'douchebag', 'fuk', 'scumbag', 'dick', 'retard', 'prick', 'filthy', 'idiot', 'masturbate', 'jackass', 'dumb', 'queer', 'stupid', 'nerd', 'cking', 'shove', 'jerk', 'stink', 'mommy', 'youre', 'wtf', 'piss', 'pathetic', 'hypocrite', 'commie', 'stfu', 'mother', 'basement', 'stupidity', 'kiss', 'idiotic', 'pervert', 'clown', 'crap', 'disgust', 'disgrace', 'cuz', 'sick', 'homosexual', 'screw', 'racist', 'gonna', 'garbage', 'monkey', 'ignorant', 'wanna', 'dare', 'dude', 'arrogant', 'nazi', 'anus', 'bunch', 'hole', 'burn', 'bully', 'life', 'turd', 'thats', 'laugh', 'butt', 'lame', 'stop', 'little', 'hoe', 'mom', 'sad', 'hell', 'yo', 'liar', 'get', 'ban', 'go', 'ya', 'cum', 'cant', 'ever', 'quit', 'ha', 'man']"
   ]
  },
  {
   "cell_type": "code",
   "execution_count": 32,
   "metadata": {
    "collapsed": true
   },
   "outputs": [],
   "source": [
    "step_roc_dict = ['step<0.01>_words<1>_length<150>', 'step<0.01>_words<1>_length<200>', 'step<0.01>_words<1>_length<250>', 'step<0.01>_words<2>_length<150>', 'step<0.01>_words<2>_length<200>', 'step<0.01>_words<2>_length<250>', 'step<0.01>_words<3>_length<150>', 'step<0.01>_words<3>_length<200>', 'step<0.01>_words<3>_length<250>', 'step<0.01>_words<4>_length<150>', 'step<0.01>_words<4>_length<200>', 'step<0.01>_words<4>_length<250>', 'step<0.01>_words<5>_length<150>', 'step<0.01>_words<5>_length<200>', 'step<0.01>_words<5>_length<250>', 'step<0.02>_words<1>_length<150>', 'step<0.02>_words<1>_length<200>', 'step<0.02>_words<1>_length<250>', 'step<0.02>_words<2>_length<150>', 'step<0.02>_words<2>_length<200>', 'step<0.02>_words<2>_length<250>', 'step<0.02>_words<3>_length<150>', 'step<0.02>_words<3>_length<200>', 'step<0.02>_words<3>_length<250>', 'step<0.02>_words<4>_length<150>', 'step<0.02>_words<4>_length<200>', 'step<0.02>_words<4>_length<250>', 'step<0.02>_words<5>_length<150>', 'step<0.02>_words<5>_length<200>', 'step<0.02>_words<5>_length<250>', 'step<0.03>_words<1>_length<150>', 'step<0.03>_words<1>_length<200>', 'step<0.03>_words<1>_length<250>', 'step<0.03>_words<2>_length<150>', 'step<0.03>_words<2>_length<200>', 'step<0.03>_words<2>_length<250>', 'step<0.03>_words<3>_length<150>', 'step<0.03>_words<3>_length<200>', 'step<0.03>_words<3>_length<250>', 'step<0.03>_words<4>_length<150>', 'step<0.03>_words<4>_length<200>', 'step<0.03>_words<4>_length<250>', 'step<0.03>_words<5>_length<150>', 'step<0.03>_words<5>_length<200>', 'step<0.03>_words<5>_length<250>', 'step<0.04>_words<1>_length<150>', 'step<0.04>_words<1>_length<200>', 'step<0.04>_words<1>_length<250>', 'step<0.04>_words<2>_length<150>', 'step<0.04>_words<2>_length<200>', 'step<0.04>_words<2>_length<250>', 'step<0.04>_words<3>_length<150>', 'step<0.04>_words<3>_length<200>', 'step<0.04>_words<3>_length<250>', 'step<0.04>_words<4>_length<150>', 'step<0.04>_words<4>_length<200>', 'step<0.04>_words<4>_length<250>', 'step<0.04>_words<5>_length<150>', 'step<0.04>_words<5>_length<200>', 'step<0.04>_words<5>_length<250>', 'step<0.05>_words<1>_length<150>', 'step<0.05>_words<1>_length<200>', 'step<0.05>_words<1>_length<250>', 'step<0.05>_words<2>_length<150>', 'step<0.05>_words<2>_length<200>', 'step<0.05>_words<2>_length<250>', 'step<0.05>_words<3>_length<150>', 'step<0.05>_words<3>_length<200>', 'step<0.05>_words<3>_length<250>', 'step<0.05>_words<4>_length<150>', 'step<0.05>_words<4>_length<200>', 'step<0.05>_words<4>_length<250>', 'step<0.05>_words<5>_length<150>', 'step<0.05>_words<5>_length<200>', 'step<0.05>_words<5>_length<250>', 'step<0.06>_words<1>_length<150>', 'step<0.06>_words<1>_length<200>', 'step<0.06>_words<1>_length<250>', 'step<0.06>_words<2>_length<150>', 'step<0.06>_words<2>_length<200>', 'step<0.06>_words<2>_length<250>', 'step<0.06>_words<3>_length<150>', 'step<0.06>_words<3>_length<200>', 'step<0.06>_words<3>_length<250>', 'step<0.06>_words<4>_length<150>', 'step<0.06>_words<4>_length<200>', 'step<0.06>_words<4>_length<250>', 'step<0.06>_words<5>_length<150>', 'step<0.06>_words<5>_length<200>', 'step<0.06>_words<5>_length<250>', 'step<0.07>_words<1>_length<150>', 'step<0.07>_words<1>_length<200>', 'step<0.07>_words<1>_length<250>', 'step<0.07>_words<2>_length<150>', 'step<0.07>_words<2>_length<200>', 'step<0.07>_words<2>_length<250>', 'step<0.07>_words<3>_length<150>', 'step<0.07>_words<3>_length<200>', 'step<0.07>_words<3>_length<250>', 'step<0.07>_words<4>_length<150>', 'step<0.07>_words<4>_length<200>', 'step<0.07>_words<4>_length<250>', 'step<0.07>_words<5>_length<150>', 'step<0.07>_words<5>_length<200>', 'step<0.07>_words<5>_length<250>', 'step<0.08>_words<1>_length<150>', 'step<0.08>_words<1>_length<200>', 'step<0.08>_words<1>_length<250>', 'step<0.08>_words<2>_length<150>', 'step<0.08>_words<2>_length<200>', 'step<0.08>_words<2>_length<250>', 'step<0.08>_words<3>_length<150>', 'step<0.08>_words<3>_length<200>', 'step<0.08>_words<3>_length<250>', 'step<0.08>_words<4>_length<150>', 'step<0.08>_words<4>_length<200>', 'step<0.08>_words<4>_length<250>', 'step<0.08>_words<5>_length<150>', 'step<0.08>_words<5>_length<200>', 'step<0.08>_words<5>_length<250>', 'step<0.09>_words<1>_length<150>', 'step<0.09>_words<1>_length<200>', 'step<0.09>_words<1>_length<250>', 'step<0.09>_words<2>_length<150>', 'step<0.09>_words<2>_length<200>', 'step<0.09>_words<2>_length<250>', 'step<0.09>_words<3>_length<150>', 'step<0.09>_words<3>_length<200>', 'step<0.09>_words<3>_length<250>', 'step<0.09>_words<4>_length<150>', 'step<0.09>_words<4>_length<200>', 'step<0.09>_words<4>_length<250>', 'step<0.09>_words<5>_length<150>', 'step<0.09>_words<5>_length<200>', 'step<0.09>_words<5>_length<250>', 'step<0.1>_words<1>_length<150>', 'step<0.1>_words<1>_length<200>', 'step<0.1>_words<1>_length<250>', 'step<0.1>_words<2>_length<150>', 'step<0.1>_words<2>_length<200>', 'step<0.1>_words<2>_length<250>', 'step<0.1>_words<3>_length<150>', 'step<0.1>_words<3>_length<200>', 'step<0.1>_words<3>_length<250>', 'step<0.1>_words<4>_length<150>', 'step<0.1>_words<4>_length<200>', 'step<0.1>_words<4>_length<250>', 'step<0.1>_words<5>_length<150>', 'step<0.1>_words<5>_length<200>', 'step<0.1>_words<5>_length<250>', 'step<0.11>_words<1>_length<150>', 'step<0.11>_words<1>_length<200>', 'step<0.11>_words<1>_length<250>', 'step<0.11>_words<2>_length<150>', 'step<0.11>_words<2>_length<200>', 'step<0.11>_words<2>_length<250>', 'step<0.11>_words<3>_length<150>', 'step<0.11>_words<3>_length<200>', 'step<0.11>_words<3>_length<250>', 'step<0.11>_words<4>_length<150>', 'step<0.11>_words<4>_length<200>', 'step<0.11>_words<4>_length<250>', 'step<0.11>_words<5>_length<150>', 'step<0.11>_words<5>_length<200>', 'step<0.11>_words<5>_length<250>', 'step<0.12>_words<1>_length<150>', 'step<0.12>_words<1>_length<200>', 'step<0.12>_words<1>_length<250>', 'step<0.12>_words<2>_length<150>', 'step<0.12>_words<2>_length<200>', 'step<0.12>_words<2>_length<250>', 'step<0.12>_words<3>_length<150>', 'step<0.12>_words<3>_length<200>', 'step<0.12>_words<3>_length<250>', 'step<0.12>_words<4>_length<150>', 'step<0.12>_words<4>_length<200>', 'step<0.12>_words<4>_length<250>', 'step<0.12>_words<5>_length<150>', 'step<0.12>_words<5>_length<200>', 'step<0.12>_words<5>_length<250>', 'step<0.13>_words<1>_length<150>', 'step<0.13>_words<1>_length<200>', 'step<0.13>_words<1>_length<250>', 'step<0.13>_words<2>_length<150>', 'step<0.13>_words<2>_length<200>', 'step<0.13>_words<2>_length<250>', 'step<0.13>_words<3>_length<150>', 'step<0.13>_words<3>_length<200>', 'step<0.13>_words<3>_length<250>', 'step<0.13>_words<4>_length<150>', 'step<0.13>_words<4>_length<200>', 'step<0.13>_words<4>_length<250>', 'step<0.13>_words<5>_length<150>', 'step<0.13>_words<5>_length<200>', 'step<0.13>_words<5>_length<250>', 'step<0.14>_words<1>_length<150>', 'step<0.14>_words<1>_length<200>', 'step<0.14>_words<1>_length<250>', 'step<0.14>_words<2>_length<150>', 'step<0.14>_words<2>_length<200>', 'step<0.14>_words<2>_length<250>', 'step<0.14>_words<3>_length<150>', 'step<0.14>_words<3>_length<200>', 'step<0.14>_words<3>_length<250>', 'step<0.14>_words<4>_length<150>', 'step<0.14>_words<4>_length<200>', 'step<0.14>_words<4>_length<250>', 'step<0.14>_words<5>_length<150>', 'step<0.14>_words<5>_length<200>', 'step<0.14>_words<5>_length<250>', 'step<0.15>_words<1>_length<150>', 'step<0.15>_words<1>_length<200>', 'step<0.15>_words<1>_length<250>', 'step<0.15>_words<2>_length<150>', 'step<0.15>_words<2>_length<200>', 'step<0.15>_words<2>_length<250>', 'step<0.15>_words<3>_length<150>', 'step<0.15>_words<3>_length<200>', 'step<0.15>_words<3>_length<250>', 'step<0.15>_words<4>_length<150>', 'step<0.15>_words<4>_length<200>', 'step<0.15>_words<4>_length<250>', 'step<0.15>_words<5>_length<150>', 'step<0.15>_words<5>_length<200>', 'step<0.15>_words<5>_length<250>', 'step<0.16>_words<1>_length<150>', 'step<0.16>_words<1>_length<200>', 'step<0.16>_words<1>_length<250>', 'step<0.16>_words<2>_length<150>', 'step<0.16>_words<2>_length<200>', 'step<0.16>_words<2>_length<250>', 'step<0.16>_words<3>_length<150>', 'step<0.16>_words<3>_length<200>', 'step<0.16>_words<3>_length<250>', 'step<0.16>_words<4>_length<150>', 'step<0.16>_words<4>_length<200>', 'step<0.16>_words<4>_length<250>', 'step<0.16>_words<5>_length<150>', 'step<0.16>_words<5>_length<200>', 'step<0.16>_words<5>_length<250>', 'step<0.17>_words<1>_length<150>', 'step<0.17>_words<1>_length<200>', 'step<0.17>_words<1>_length<250>', 'step<0.17>_words<2>_length<150>', 'step<0.17>_words<2>_length<200>', 'step<0.17>_words<2>_length<250>', 'step<0.17>_words<3>_length<150>', 'step<0.17>_words<3>_length<200>', 'step<0.17>_words<3>_length<250>', 'step<0.17>_words<4>_length<150>', 'step<0.17>_words<4>_length<200>', 'step<0.17>_words<4>_length<250>', 'step<0.17>_words<5>_length<150>', 'step<0.17>_words<5>_length<200>', 'step<0.17>_words<5>_length<250>', 'step<0.18>_words<1>_length<150>', 'step<0.18>_words<1>_length<200>', 'step<0.18>_words<1>_length<250>', 'step<0.18>_words<2>_length<150>', 'step<0.18>_words<2>_length<200>', 'step<0.18>_words<2>_length<250>', 'step<0.18>_words<3>_length<150>', 'step<0.18>_words<3>_length<200>', 'step<0.18>_words<3>_length<250>', 'step<0.18>_words<4>_length<150>', 'step<0.18>_words<4>_length<200>', 'step<0.18>_words<4>_length<250>', 'step<0.18>_words<5>_length<150>', 'step<0.18>_words<5>_length<200>', 'step<0.18>_words<5>_length<250>', 'step<0.19>_words<1>_length<150>', 'step<0.19>_words<1>_length<200>', 'step<0.19>_words<1>_length<250>', 'step<0.19>_words<2>_length<150>', 'step<0.19>_words<2>_length<200>', 'step<0.19>_words<2>_length<250>', 'step<0.19>_words<3>_length<150>', 'step<0.19>_words<3>_length<200>', 'step<0.19>_words<3>_length<250>', 'step<0.19>_words<4>_length<150>', 'step<0.19>_words<4>_length<200>', 'step<0.19>_words<4>_length<250>', 'step<0.19>_words<5>_length<150>', 'step<0.19>_words<5>_length<200>', 'step<0.19>_words<5>_length<250>', 'step<0.2>_words<1>_length<150>', 'step<0.2>_words<1>_length<200>', 'step<0.2>_words<1>_length<250>', 'step<0.2>_words<2>_length<150>', 'step<0.2>_words<2>_length<200>', 'step<0.2>_words<2>_length<250>', 'step<0.2>_words<3>_length<150>', 'step<0.2>_words<3>_length<200>', 'step<0.2>_words<3>_length<250>', 'step<0.2>_words<4>_length<150>', 'step<0.2>_words<4>_length<200>', 'step<0.2>_words<4>_length<250>', 'step<0.2>_words<5>_length<150>', 'step<0.2>_words<5>_length<200>', 'step<0.2>_words<5>_length<250>', 'step<0.21>_words<1>_length<150>', 'step<0.21>_words<1>_length<200>', 'step<0.21>_words<1>_length<250>', 'step<0.21>_words<2>_length<150>', 'step<0.21>_words<2>_length<200>', 'step<0.21>_words<2>_length<250>', 'step<0.21>_words<3>_length<150>', 'step<0.21>_words<3>_length<200>', 'step<0.21>_words<3>_length<250>', 'step<0.21>_words<4>_length<150>', 'step<0.21>_words<4>_length<200>', 'step<0.21>_words<4>_length<250>', 'step<0.21>_words<5>_length<150>', 'step<0.21>_words<5>_length<200>', 'step<0.21>_words<5>_length<250>', 'step<0.22>_words<1>_length<150>', 'step<0.22>_words<1>_length<200>', 'step<0.22>_words<1>_length<250>', 'step<0.22>_words<2>_length<150>', 'step<0.22>_words<2>_length<200>', 'step<0.22>_words<2>_length<250>', 'step<0.22>_words<3>_length<150>', 'step<0.22>_words<3>_length<200>', 'step<0.22>_words<3>_length<250>', 'step<0.22>_words<4>_length<150>', 'step<0.22>_words<4>_length<200>', 'step<0.22>_words<4>_length<250>', 'step<0.22>_words<5>_length<150>', 'step<0.22>_words<5>_length<200>', 'step<0.22>_words<5>_length<250>', 'step<0.23>_words<1>_length<150>', 'step<0.23>_words<1>_length<200>', 'step<0.23>_words<1>_length<250>', 'step<0.23>_words<2>_length<150>', 'step<0.23>_words<2>_length<200>', 'step<0.23>_words<2>_length<250>', 'step<0.23>_words<3>_length<150>', 'step<0.23>_words<3>_length<200>', 'step<0.23>_words<3>_length<250>', 'step<0.23>_words<4>_length<150>', 'step<0.23>_words<4>_length<200>', 'step<0.23>_words<4>_length<250>', 'step<0.23>_words<5>_length<150>', 'step<0.23>_words<5>_length<200>', 'step<0.23>_words<5>_length<250>', 'step<0.24>_words<1>_length<150>', 'step<0.24>_words<1>_length<200>', 'step<0.24>_words<1>_length<250>', 'step<0.24>_words<2>_length<150>', 'step<0.24>_words<2>_length<200>', 'step<0.24>_words<2>_length<250>', 'step<0.24>_words<3>_length<150>', 'step<0.24>_words<3>_length<200>', 'step<0.24>_words<3>_length<250>', 'step<0.24>_words<4>_length<150>', 'step<0.24>_words<4>_length<200>', 'step<0.24>_words<4>_length<250>', 'step<0.24>_words<5>_length<150>', 'step<0.24>_words<5>_length<200>', 'step<0.24>_words<5>_length<250>', 'step<0.25>_words<1>_length<150>', 'step<0.25>_words<1>_length<200>', 'step<0.25>_words<1>_length<250>', 'step<0.25>_words<2>_length<150>', 'step<0.25>_words<2>_length<200>', 'step<0.25>_words<2>_length<250>', 'step<0.25>_words<3>_length<150>', 'step<0.25>_words<3>_length<200>', 'step<0.25>_words<3>_length<250>', 'step<0.25>_words<4>_length<150>', 'step<0.25>_words<4>_length<200>', 'step<0.25>_words<4>_length<250>', 'step<0.25>_words<5>_length<150>', 'step<0.25>_words<5>_length<200>', 'step<0.25>_words<5>_length<250>', 'step<0.26>_words<1>_length<150>', 'step<0.26>_words<1>_length<200>', 'step<0.26>_words<1>_length<250>', 'step<0.26>_words<2>_length<150>', 'step<0.26>_words<2>_length<200>', 'step<0.26>_words<2>_length<250>', 'step<0.26>_words<3>_length<150>', 'step<0.26>_words<3>_length<200>', 'step<0.26>_words<3>_length<250>', 'step<0.26>_words<4>_length<150>', 'step<0.26>_words<4>_length<200>', 'step<0.26>_words<4>_length<250>', 'step<0.26>_words<5>_length<150>', 'step<0.26>_words<5>_length<200>', 'step<0.26>_words<5>_length<250>', 'step<0.27>_words<1>_length<150>', 'step<0.27>_words<1>_length<200>', 'step<0.27>_words<1>_length<250>', 'step<0.27>_words<2>_length<150>', 'step<0.27>_words<2>_length<200>', 'step<0.27>_words<2>_length<250>', 'step<0.27>_words<3>_length<150>', 'step<0.27>_words<3>_length<200>', 'step<0.27>_words<3>_length<250>', 'step<0.27>_words<4>_length<150>', 'step<0.27>_words<4>_length<200>', 'step<0.27>_words<4>_length<250>', 'step<0.27>_words<5>_length<150>', 'step<0.27>_words<5>_length<200>', 'step<0.27>_words<5>_length<250>', 'step<0.28>_words<1>_length<150>', 'step<0.28>_words<1>_length<200>', 'step<0.28>_words<1>_length<250>', 'step<0.28>_words<2>_length<150>', 'step<0.28>_words<2>_length<200>', 'step<0.28>_words<2>_length<250>', 'step<0.28>_words<3>_length<150>', 'step<0.28>_words<3>_length<200>', 'step<0.28>_words<3>_length<250>', 'step<0.28>_words<4>_length<150>', 'step<0.28>_words<4>_length<200>', 'step<0.28>_words<4>_length<250>', 'step<0.28>_words<5>_length<150>', 'step<0.28>_words<5>_length<200>', 'step<0.28>_words<5>_length<250>', 'step<0.29>_words<1>_length<150>', 'step<0.29>_words<1>_length<200>', 'step<0.29>_words<1>_length<250>', 'step<0.29>_words<2>_length<150>', 'step<0.29>_words<2>_length<200>', 'step<0.29>_words<2>_length<250>', 'step<0.29>_words<3>_length<150>', 'step<0.29>_words<3>_length<200>', 'step<0.29>_words<3>_length<250>', 'step<0.29>_words<4>_length<150>', 'step<0.29>_words<4>_length<200>', 'step<0.29>_words<4>_length<250>', 'step<0.29>_words<5>_length<150>', 'step<0.29>_words<5>_length<200>', 'step<0.29>_words<5>_length<250>', 'step<0.3>_words<1>_length<150>', 'step<0.3>_words<1>_length<200>', 'step<0.3>_words<1>_length<250>', 'step<0.3>_words<2>_length<150>', 'step<0.3>_words<2>_length<200>', 'step<0.3>_words<2>_length<250>', 'step<0.3>_words<3>_length<150>', 'step<0.3>_words<3>_length<200>', 'step<0.3>_words<3>_length<250>', 'step<0.3>_words<4>_length<150>', 'step<0.3>_words<4>_length<200>', 'step<0.3>_words<4>_length<250>', 'step<0.3>_words<5>_length<150>', 'step<0.3>_words<5>_length<200>', 'step<0.3>_words<5>_length<250>', 'step<0.31>_words<1>_length<150>', 'step<0.31>_words<1>_length<200>', 'step<0.31>_words<1>_length<250>', 'step<0.31>_words<2>_length<150>', 'step<0.31>_words<2>_length<200>', 'step<0.31>_words<2>_length<250>', 'step<0.31>_words<3>_length<150>', 'step<0.31>_words<3>_length<200>', 'step<0.31>_words<3>_length<250>', 'step<0.31>_words<4>_length<150>', 'step<0.31>_words<4>_length<200>', 'step<0.31>_words<4>_length<250>', 'step<0.31>_words<5>_length<150>', 'step<0.31>_words<5>_length<200>', 'step<0.31>_words<5>_length<250>', 'step<0.32>_words<1>_length<150>', 'step<0.32>_words<1>_length<200>', 'step<0.32>_words<1>_length<250>', 'step<0.32>_words<2>_length<150>', 'step<0.32>_words<2>_length<200>', 'step<0.32>_words<2>_length<250>', 'step<0.32>_words<3>_length<150>', 'step<0.32>_words<3>_length<200>', 'step<0.32>_words<3>_length<250>', 'step<0.32>_words<4>_length<150>', 'step<0.32>_words<4>_length<200>', 'step<0.32>_words<4>_length<250>', 'step<0.32>_words<5>_length<150>', 'step<0.32>_words<5>_length<200>', 'step<0.32>_words<5>_length<250>', 'step<0.33>_words<1>_length<150>', 'step<0.33>_words<1>_length<200>', 'step<0.33>_words<1>_length<250>', 'step<0.33>_words<2>_length<150>', 'step<0.33>_words<2>_length<200>', 'step<0.33>_words<2>_length<250>', 'step<0.33>_words<3>_length<150>', 'step<0.33>_words<3>_length<200>', 'step<0.33>_words<3>_length<250>', 'step<0.33>_words<4>_length<150>', 'step<0.33>_words<4>_length<200>', 'step<0.33>_words<4>_length<250>', 'step<0.33>_words<5>_length<150>', 'step<0.33>_words<5>_length<200>', 'step<0.33>_words<5>_length<250>', 'step<0.34>_words<1>_length<150>', 'step<0.34>_words<1>_length<200>', 'step<0.34>_words<1>_length<250>', 'step<0.34>_words<2>_length<150>', 'step<0.34>_words<2>_length<200>', 'step<0.34>_words<2>_length<250>', 'step<0.34>_words<3>_length<150>', 'step<0.34>_words<3>_length<200>', 'step<0.34>_words<3>_length<250>', 'step<0.34>_words<4>_length<150>', 'step<0.34>_words<4>_length<200>', 'step<0.34>_words<4>_length<250>', 'step<0.34>_words<5>_length<150>', 'step<0.34>_words<5>_length<200>', 'step<0.34>_words<5>_length<250>', 'step<0.35>_words<1>_length<150>', 'step<0.35>_words<1>_length<200>', 'step<0.35>_words<1>_length<250>', 'step<0.35>_words<2>_length<150>', 'step<0.35>_words<2>_length<200>', 'step<0.35>_words<2>_length<250>', 'step<0.35>_words<3>_length<150>', 'step<0.35>_words<3>_length<200>', 'step<0.35>_words<3>_length<250>', 'step<0.35>_words<4>_length<150>', 'step<0.35>_words<4>_length<200>', 'step<0.35>_words<4>_length<250>', 'step<0.35>_words<5>_length<150>', 'step<0.35>_words<5>_length<200>', 'step<0.35>_words<5>_length<250>', 'step<0.36>_words<1>_length<150>', 'step<0.36>_words<1>_length<200>', 'step<0.36>_words<1>_length<250>', 'step<0.36>_words<2>_length<150>', 'step<0.36>_words<2>_length<200>', 'step<0.36>_words<2>_length<250>', 'step<0.36>_words<3>_length<150>', 'step<0.36>_words<3>_length<200>', 'step<0.36>_words<3>_length<250>', 'step<0.36>_words<4>_length<150>', 'step<0.36>_words<4>_length<200>', 'step<0.36>_words<4>_length<250>', 'step<0.36>_words<5>_length<150>', 'step<0.36>_words<5>_length<200>', 'step<0.36>_words<5>_length<250>', 'step<0.37>_words<1>_length<150>', 'step<0.37>_words<1>_length<200>', 'step<0.37>_words<1>_length<250>', 'step<0.37>_words<2>_length<150>', 'step<0.37>_words<2>_length<200>', 'step<0.37>_words<2>_length<250>', 'step<0.37>_words<3>_length<150>', 'step<0.37>_words<3>_length<200>', 'step<0.37>_words<3>_length<250>', 'step<0.37>_words<4>_length<150>', 'step<0.37>_words<4>_length<200>', 'step<0.37>_words<4>_length<250>', 'step<0.37>_words<5>_length<150>', 'step<0.37>_words<5>_length<200>', 'step<0.37>_words<5>_length<250>', 'step<0.38>_words<1>_length<150>', 'step<0.38>_words<1>_length<200>', 'step<0.38>_words<1>_length<250>', 'step<0.38>_words<2>_length<150>', 'step<0.38>_words<2>_length<200>', 'step<0.38>_words<2>_length<250>', 'step<0.38>_words<3>_length<150>', 'step<0.38>_words<3>_length<200>', 'step<0.38>_words<3>_length<250>', 'step<0.38>_words<4>_length<150>', 'step<0.38>_words<4>_length<200>', 'step<0.38>_words<4>_length<250>', 'step<0.38>_words<5>_length<150>', 'step<0.38>_words<5>_length<200>', 'step<0.38>_words<5>_length<250>', 'step<0.39>_words<1>_length<150>', 'step<0.39>_words<1>_length<200>', 'step<0.39>_words<1>_length<250>', 'step<0.39>_words<2>_length<150>', 'step<0.39>_words<2>_length<200>', 'step<0.39>_words<2>_length<250>', 'step<0.39>_words<3>_length<150>', 'step<0.39>_words<3>_length<200>', 'step<0.39>_words<3>_length<250>', 'step<0.39>_words<4>_length<150>', 'step<0.39>_words<4>_length<200>', 'step<0.39>_words<4>_length<250>', 'step<0.39>_words<5>_length<150>', 'step<0.39>_words<5>_length<200>', 'step<0.39>_words<5>_length<250>', 'step<0.4>_words<1>_length<150>', 'step<0.4>_words<1>_length<200>', 'step<0.4>_words<1>_length<250>', 'step<0.4>_words<2>_length<150>', 'step<0.4>_words<2>_length<200>', 'step<0.4>_words<2>_length<250>', 'step<0.4>_words<3>_length<150>', 'step<0.4>_words<3>_length<200>', 'step<0.4>_words<3>_length<250>', 'step<0.4>_words<4>_length<150>', 'step<0.4>_words<4>_length<200>', 'step<0.4>_words<4>_length<250>', 'step<0.4>_words<5>_length<150>', 'step<0.4>_words<5>_length<200>', 'step<0.4>_words<5>_length<250>', 'step<0.41>_words<1>_length<150>', 'step<0.41>_words<1>_length<200>', 'step<0.41>_words<1>_length<250>', 'step<0.41>_words<2>_length<150>', 'step<0.41>_words<2>_length<200>', 'step<0.41>_words<2>_length<250>', 'step<0.41>_words<3>_length<150>', 'step<0.41>_words<3>_length<200>', 'step<0.41>_words<3>_length<250>', 'step<0.41>_words<4>_length<150>', 'step<0.41>_words<4>_length<200>', 'step<0.41>_words<4>_length<250>', 'step<0.41>_words<5>_length<150>', 'step<0.41>_words<5>_length<200>', 'step<0.41>_words<5>_length<250>', 'step<0.42>_words<1>_length<150>', 'step<0.42>_words<1>_length<200>', 'step<0.42>_words<1>_length<250>', 'step<0.42>_words<2>_length<150>', 'step<0.42>_words<2>_length<200>', 'step<0.42>_words<2>_length<250>', 'step<0.42>_words<3>_length<150>', 'step<0.42>_words<3>_length<200>', 'step<0.42>_words<3>_length<250>', 'step<0.42>_words<4>_length<150>', 'step<0.42>_words<4>_length<200>', 'step<0.42>_words<4>_length<250>', 'step<0.42>_words<5>_length<150>', 'step<0.42>_words<5>_length<200>', 'step<0.42>_words<5>_length<250>', 'step<0.43>_words<1>_length<150>', 'step<0.43>_words<1>_length<200>', 'step<0.43>_words<1>_length<250>', 'step<0.43>_words<2>_length<150>', 'step<0.43>_words<2>_length<200>', 'step<0.43>_words<2>_length<250>', 'step<0.43>_words<3>_length<150>', 'step<0.43>_words<3>_length<200>', 'step<0.43>_words<3>_length<250>', 'step<0.43>_words<4>_length<150>', 'step<0.43>_words<4>_length<200>', 'step<0.43>_words<4>_length<250>', 'step<0.43>_words<5>_length<150>', 'step<0.43>_words<5>_length<200>', 'step<0.43>_words<5>_length<250>', 'step<0.44>_words<1>_length<150>', 'step<0.44>_words<1>_length<200>', 'step<0.44>_words<1>_length<250>', 'step<0.44>_words<2>_length<150>', 'step<0.44>_words<2>_length<200>', 'step<0.44>_words<2>_length<250>', 'step<0.44>_words<3>_length<150>', 'step<0.44>_words<3>_length<200>', 'step<0.44>_words<3>_length<250>', 'step<0.44>_words<4>_length<150>', 'step<0.44>_words<4>_length<200>', 'step<0.44>_words<4>_length<250>', 'step<0.44>_words<5>_length<150>', 'step<0.44>_words<5>_length<200>', 'step<0.44>_words<5>_length<250>', 'step<0.45>_words<1>_length<150>', 'step<0.45>_words<1>_length<200>', 'step<0.45>_words<1>_length<250>', 'step<0.45>_words<2>_length<150>', 'step<0.45>_words<2>_length<200>', 'step<0.45>_words<2>_length<250>', 'step<0.45>_words<3>_length<150>', 'step<0.45>_words<3>_length<200>', 'step<0.45>_words<3>_length<250>', 'step<0.45>_words<4>_length<150>', 'step<0.45>_words<4>_length<200>', 'step<0.45>_words<4>_length<250>', 'step<0.45>_words<5>_length<150>', 'step<0.45>_words<5>_length<200>', 'step<0.45>_words<5>_length<250>', 'step<0.46>_words<1>_length<150>', 'step<0.46>_words<1>_length<200>', 'step<0.46>_words<1>_length<250>', 'step<0.46>_words<2>_length<150>', 'step<0.46>_words<2>_length<200>', 'step<0.46>_words<2>_length<250>', 'step<0.46>_words<3>_length<150>', 'step<0.46>_words<3>_length<200>', 'step<0.46>_words<3>_length<250>', 'step<0.46>_words<4>_length<150>', 'step<0.46>_words<4>_length<200>', 'step<0.46>_words<4>_length<250>', 'step<0.46>_words<5>_length<150>', 'step<0.46>_words<5>_length<200>', 'step<0.46>_words<5>_length<250>', 'step<0.47>_words<1>_length<150>', 'step<0.47>_words<1>_length<200>', 'step<0.47>_words<1>_length<250>', 'step<0.47>_words<2>_length<150>', 'step<0.47>_words<2>_length<200>', 'step<0.47>_words<2>_length<250>', 'step<0.47>_words<3>_length<150>', 'step<0.47>_words<3>_length<200>', 'step<0.47>_words<3>_length<250>', 'step<0.47>_words<4>_length<150>', 'step<0.47>_words<4>_length<200>', 'step<0.47>_words<4>_length<250>', 'step<0.47>_words<5>_length<150>', 'step<0.47>_words<5>_length<200>', 'step<0.47>_words<5>_length<250>', 'step<0.48>_words<1>_length<150>', 'step<0.48>_words<1>_length<200>', 'step<0.48>_words<1>_length<250>', 'step<0.48>_words<2>_length<150>', 'step<0.48>_words<2>_length<200>', 'step<0.48>_words<2>_length<250>', 'step<0.48>_words<3>_length<150>', 'step<0.48>_words<3>_length<200>', 'step<0.48>_words<3>_length<250>', 'step<0.48>_words<4>_length<150>', 'step<0.48>_words<4>_length<200>', 'step<0.48>_words<4>_length<250>', 'step<0.48>_words<5>_length<150>', 'step<0.48>_words<5>_length<200>', 'step<0.48>_words<5>_length<250>', 'step<0.49>_words<1>_length<150>', 'step<0.49>_words<1>_length<200>', 'step<0.49>_words<1>_length<250>', 'step<0.49>_words<2>_length<150>', 'step<0.49>_words<2>_length<200>', 'step<0.49>_words<2>_length<250>', 'step<0.49>_words<3>_length<150>', 'step<0.49>_words<3>_length<200>', 'step<0.49>_words<3>_length<250>', 'step<0.49>_words<4>_length<150>', 'step<0.49>_words<4>_length<200>', 'step<0.49>_words<4>_length<250>', 'step<0.49>_words<5>_length<150>', 'step<0.49>_words<5>_length<200>', 'step<0.49>_words<5>_length<250>']"
   ]
  },
  {
   "cell_type": "code",
   "execution_count": 33,
   "metadata": {},
   "outputs": [],
   "source": [
    "import tqdm"
   ]
  },
  {
   "cell_type": "code",
   "execution_count": 34,
   "metadata": {
    "collapsed": true
   },
   "outputs": [],
   "source": [
    "def toxic_words_detector(toxic_words, comment):\n",
    "    for w in toxic_words:\n",
    "        if w in comment:\n",
    "            return True\n",
    "    return False"
   ]
  },
  {
   "cell_type": "code",
   "execution_count": 35,
   "metadata": {},
   "outputs": [
    {
     "name": "stdout",
     "output_type": "stream",
     "text": [
      "0.01_1_200_1518810194\n",
      "0.06_3_150_1518810199\n",
      "0.11_4_250_1518810203\n",
      "0.17_1_200_1518810207\n",
      "0.22_3_150_1518810211\n",
      "0.27_4_250_1518810214\n",
      "0.33_1_200_1518810218\n",
      "0.38_3_150_1518810222\n",
      "0.43_4_250_1518810226\n",
      "0.49_1_200_1518810230\n"
     ]
    }
   ],
   "source": [
    "for i in range(1, len(step_roc_dict), 80):\n",
    "    #print(i)\n",
    "    m = re.search('step<(.+?)>_words<(.+?)>_length<(.+?)>', list(step_roc_dict)[i])\n",
    "    step, words, length = m.group(1), m.group(2), m.group(3)\n",
    "    \n",
    "    #print(step, words, length)\n",
    "    sub_w_rule = submission.merge(test[['id','comment_text_cleaned','word_count']],on='id')\n",
    "    toxic_words = toxic_words_poll_reordered[:int(words)+1]\n",
    "    \n",
    "    sub_w_rule['toxic_word_exist'] = sub_w_rule['comment_text_cleaned'].apply(lambda x: toxic_words_detector(toxic_words, x))            \n",
    "    #print('{} \\t comments containing any toxic words.'.format(sum(sub_w_rule['toxic_word_exist'])))\n",
    "    \n",
    "    sub_w_rule['toxic'] = sub_w_rule.apply(lambda r: r.toxic+float(step) if r.toxic_word_exist and r.word_count < int(length) else r.toxic, axis=1)\n",
    "    \n",
    "    sub_final = sub_w_rule.drop(['comment_text_cleaned','toxic_word_exist','word_count'], axis=1)\n",
    "    assert sub_final.shape == submission.shape\n",
    "    \n",
    "    import time\n",
    "    BUILD_ID = '{}_{}_{}_{}'.format(step, words, length, int(time.time()))\n",
    "    print(BUILD_ID)\n",
    "    sub_final.to_csv('/home/kai/data/shiyi/toxic/submissions/sub_FastText_w_rule_' + str(BUILD_ID) + '.csv', index=False)"
   ]
  },
  {
   "cell_type": "code",
   "execution_count": 36,
   "metadata": {},
   "outputs": [
    {
     "data": {
      "text/plain": [
       "(16711, 108272)"
      ]
     },
     "execution_count": 36,
     "metadata": {},
     "output_type": "execute_result"
    }
   ],
   "source": [
    "sum(sub_w_rule.toxic>0.9), sum(sub_w_rule.toxic<0.1)"
   ]
  },
  {
   "cell_type": "code",
   "execution_count": 37,
   "metadata": {},
   "outputs": [
    {
     "data": {
      "text/plain": [
       "(16694, 108272)"
      ]
     },
     "execution_count": 37,
     "metadata": {},
     "output_type": "execute_result"
    }
   ],
   "source": [
    "sum(submission.toxic>0.9), sum(submission.toxic<0.1)"
   ]
  },
  {
   "cell_type": "code",
   "execution_count": 39,
   "metadata": {
    "collapsed": true
   },
   "outputs": [],
   "source": [
    "def get_lstm_model(window_length, n_features, lstm_units, dense_units, label_cols, dropout, load_model=False, load_model_file=None):\n",
    "    #embedding_matrix = get_embedding_matrix(embedding_file, embed_size, max_features, tokenizer)\n",
    "    #input = Input(shape=(max_len, ))\n",
    "    input = Input(shape=(window_length, n_features))\n",
    "    #x = Embedding(max_features, embed_size, weights=[embedding_matrix])(input)\n",
    "    x = Bidirectional(LSTM(lstm_units, return_sequences=True, dropout=dropout, recurrent_dropout=dropout))(input)\n",
    "    x = GlobalMaxPool1D()(x)\n",
    "    x = Dense(dense_units, activation='relu')(x)\n",
    "    x = Dropout(dropout)(x)\n",
    "    x = Dense(len(label_cols), activation='sigmoid')(x)\n",
    "    model = Model(inputs=input, outputs=x)\n",
    "    \n",
    "    #pdb.set_trace()\n",
    "    if (load_model):\n",
    "        model.load_weights(load_model_file)\n",
    "        \n",
    "    model.compile(loss='binary_crossentropy',\n",
    "                  optimizer='adam',\n",
    "                  metrics=['accuracy'])\n",
    "\n",
    "    return model"
   ]
  },
  {
   "cell_type": "code",
   "execution_count": 42,
   "metadata": {},
   "outputs": [
    {
     "name": "stdout",
     "output_type": "stream",
     "text": [
      "/home/kai/data/shiyi/toxic/submissions/\n",
      "loading saved model\n"
     ]
    }
   ],
   "source": [
    "DROPOUT = 0.1\n",
    "BATCH_SIZE = 32    \n",
    "LSTM_UNITS = 50\n",
    "DENSE_UNITS = 50\n",
    "window_length = 200\n",
    "n_features = 300\n",
    "\n",
    "label_cols = ['toxic', 'severe_toxic', 'obscene', 'threat', 'insult', 'identity_hate']\n",
    "\n",
    "SAVE_DIR = '/home/kai/data/shiyi/toxic/'\n",
    "SUB_DIR = SAVE_DIR + 'submissions/'\n",
    "print(SUB_DIR)\n",
    "\n",
    "print('loading saved model')\n",
    "LOAD_MODEL_FILE = SAVE_DIR + 'models/mod_FastText_cleaned_200_300_50_50_0.1_32_4_1518806221.hdf5'\n",
    "model = get_lstm_model(window_length, n_features, LSTM_UNITS, DENSE_UNITS, label_cols, DROPOUT,\n",
    "                       load_model=True, load_model_file=LOAD_MODEL_FILE)"
   ]
  },
  {
   "cell_type": "code",
   "execution_count": 47,
   "metadata": {},
   "outputs": [
    {
     "data": {
      "text/plain": [
       "((15957, 200, 300), (15957, 6))"
      ]
     },
     "execution_count": 47,
     "metadata": {},
     "output_type": "execute_result"
    }
   ],
   "source": [
    "x_val = np.load('/home/kai/data/shiyi/toxic/saved_files/x_val_np.npy')\n",
    "y_val = np.load('/home/kai/data/shiyi/toxic/saved_files/y_val_np.npy')\n",
    "x_val.shape, y_val.shape"
   ]
  },
  {
   "cell_type": "code",
   "execution_count": 49,
   "metadata": {},
   "outputs": [
    {
     "name": "stdout",
     "output_type": "stream",
     "text": [
      "15957/15957 [==============================] - 47s 3ms/step\n"
     ]
    }
   ],
   "source": [
    "y_val_pred = model.predict(x_val, verbose=1)"
   ]
  },
  {
   "cell_type": "code",
   "execution_count": 50,
   "metadata": {},
   "outputs": [
    {
     "data": {
      "text/plain": [
       "(15957, 6)"
      ]
     },
     "execution_count": 50,
     "metadata": {},
     "output_type": "execute_result"
    }
   ],
   "source": [
    "y_val_pred.shape"
   ]
  },
  {
   "cell_type": "code",
   "execution_count": 54,
   "metadata": {},
   "outputs": [
    {
     "data": {
      "text/plain": [
       "0.989925306112231"
      ]
     },
     "execution_count": 54,
     "metadata": {},
     "output_type": "execute_result"
    }
   ],
   "source": [
    "roc_auc_score(y_val, y_val_pred)"
   ]
  },
  {
   "cell_type": "code",
   "execution_count": 91,
   "metadata": {},
   "outputs": [
    {
     "data": {
      "text/plain": [
       "'aaa %-100s Hi              '"
      ]
     },
     "execution_count": 91,
     "metadata": {},
     "output_type": "execute_result"
    }
   ],
   "source": [
    "'aaa %-100s {0: <16}'.format('Hi', '<15')"
   ]
  },
  {
   "cell_type": "code",
   "execution_count": 86,
   "metadata": {},
   "outputs": [
    {
     "data": {
      "text/plain": [
       "'Hi              '"
      ]
     },
     "execution_count": 86,
     "metadata": {},
     "output_type": "execute_result"
    }
   ],
   "source": [
    "'{message: <{fill}}'.format(message='Hi', fill='16')"
   ]
  },
  {
   "cell_type": "code",
   "execution_count": 96,
   "metadata": {},
   "outputs": [
    {
     "name": "stdout",
     "output_type": "stream",
     "text": [
      "Label: toxic                Threashold count: 863 \t AUC: 0.9836142374721919\n",
      "Label: severe_toxic         Threashold count: 265 \t AUC: 0.9916066721494696\n",
      "Label: obscene              Threashold count: 520 \t AUC: 0.9926648835859645\n",
      "Label: threat               Threashold count: 153 \t AUC: 0.9935311498082606\n",
      "Label: insult               Threashold count: 657 \t AUC: 0.9866579003959778\n",
      "Label: identity_hate        Threashold count: 245 \t AUC: 0.9914769932615218\n",
      "Mean AUC of all classes: 0.989925306112231\n"
     ]
    }
   ],
   "source": [
    "mean_auc = 0\n",
    "for i in range(len(label_cols)):\n",
    "    fpr, tpr, thresholds = roc_curve(y_val[:,i], y_val_pred[:,i], pos_label=1.0)\n",
    "    auc_temp = auc(fpr, tpr)\n",
    "    print('Label: {:20} Threashold count: {} \\t AUC: {}'.format(label_cols[i], len(thresholds), auc_temp))\n",
    "    mean_auc += auc_temp\n",
    "mean_auc/=len(label_cols)\n",
    "print('Mean AUC of all classes: {}'.format(mean_auc))\n",
    "assert mean_auc == roc_auc_score(y_val, y_val_pred)"
   ]
  },
  {
   "cell_type": "code",
   "execution_count": 104,
   "metadata": {
    "collapsed": true
   },
   "outputs": [],
   "source": [
    "individual_label_auc_report = ''\n",
    "for i in range(len(label_cols)):\n",
    "    fpr, tpr, thresholds = roc_curve(y_val[:,i], y_val_pred[:,i], pos_label=1.0)\n",
    "    auc_temp = auc(fpr, tpr)\n",
    "    individual_label_auc_report += 'Label: {:20} Threashold count: {} \\t AUC: {}\\n'.format(label_cols[i], len(thresholds), auc_temp)"
   ]
  },
  {
   "cell_type": "code",
   "execution_count": 106,
   "metadata": {},
   "outputs": [
    {
     "name": "stdout",
     "output_type": "stream",
     "text": [
      "Label: toxic                Threashold count: 863 \t AUC: 0.9836142374721919\n",
      "Label: severe_toxic         Threashold count: 265 \t AUC: 0.9916066721494696\n",
      "Label: obscene              Threashold count: 520 \t AUC: 0.9926648835859645\n",
      "Label: threat               Threashold count: 153 \t AUC: 0.9935311498082606\n",
      "Label: insult               Threashold count: 657 \t AUC: 0.9866579003959778\n",
      "Label: identity_hate        Threashold count: 245 \t AUC: 0.9914769932615218\n",
      "\n"
     ]
    }
   ],
   "source": [
    "print(individual_label_auc_report)"
   ]
  },
  {
   "cell_type": "code",
   "execution_count": 103,
   "metadata": {},
   "outputs": [
    {
     "name": "stdout",
     "output_type": "stream",
     "text": [
      "1543\n",
      "150\n",
      "864\n",
      "50\n",
      "817\n",
      "144\n"
     ]
    },
    {
     "data": {
      "text/plain": [
       "array([[1.        , 0.97760483],\n",
       "       [0.97760483, 1.        ]])"
      ]
     },
     "execution_count": 103,
     "metadata": {},
     "output_type": "execute_result"
    }
   ],
   "source": [
    "for i in range(len(label_cols)):\n",
    "    print(np.sum(y_val[:,i]==1))\n",
    "np.corrcoef([863,265,520,153,657,245],[1543,150,864,50,817,144]) # threashold count and label=1 data count\n",
    "# this shows the threashold count is proportional to the label=1 data count"
   ]
  },
  {
   "cell_type": "code",
   "execution_count": 100,
   "metadata": {},
   "outputs": [
    {
     "data": {
      "text/plain": [
       "array([[1.        , 0.97760483],\n",
       "       [0.97760483, 1.        ]])"
      ]
     },
     "execution_count": 100,
     "metadata": {},
     "output_type": "execute_result"
    }
   ],
   "source": [
    "np.corrcoef([863,265,520,153,657,245],[1543,150,864,50,817,144])"
   ]
  },
  {
   "cell_type": "code",
   "execution_count": 70,
   "metadata": {},
   "outputs": [
    {
     "data": {
      "text/plain": [
       "((863,), (863,), (863,))"
      ]
     },
     "execution_count": 70,
     "metadata": {},
     "output_type": "execute_result"
    }
   ],
   "source": [
    "fpr.shape, tpr.shape, thresholds.shape"
   ]
  },
  {
   "cell_type": "code",
   "execution_count": 61,
   "metadata": {},
   "outputs": [
    {
     "data": {
      "text/plain": [
       "(863, array([0.9999957 , 0.9999329 , 0.99993193, 0.9998716 , 0.9998677 ],\n",
       "       dtype=float32), array([4.4010125e-05, 4.3965534e-05, 2.3929031e-05, 2.3893048e-05,\n",
       "        5.2790972e-07], dtype=float32))"
      ]
     },
     "execution_count": 61,
     "metadata": {},
     "output_type": "execute_result"
    }
   ],
   "source": [
    "len(thresholds), thresholds[0:5], thresholds[-5:]"
   ]
  },
  {
   "cell_type": "code",
   "execution_count": null,
   "metadata": {
    "collapsed": true
   },
   "outputs": [],
   "source": [
    "model"
   ]
  },
  {
   "cell_type": "code",
   "execution_count": 113,
   "metadata": {
    "collapsed": true
   },
   "outputs": [],
   "source": [
    "def evaluate(model, file_path, x_val, y_val, label_cols, metrics='ROC'):\n",
    "    model.load_weights(file_path)\n",
    "    y_val_preds = model.predict(x_val)\n",
    "    individual_label_auc_report = ''\n",
    "    for i in range(len(label_cols)):\n",
    "        fpr, tpr, thresholds = roc_curve(y_val[:,i], y_val_pred[:,i], pos_label=1.0)\n",
    "        auc_temp = auc(fpr, tpr)\n",
    "        individual_label_auc_report += '\\nLabel: {:20} Threashold count: {} \\t AUC: {}'.format(label_cols[i], len(thresholds), auc_temp)\n",
    "        #mean_auc += auc_temp # this can be computed by roc_auc_score\n",
    "    #mean_auc/=len(label_cols)\n",
    "    individual_label_auc_report+='\\n'\n",
    "    if metrics=='ROC':\n",
    "        return roc_auc_score(y_val, y_val_preds), individual_label_auc_report\n",
    "    raise ValueError('The chosen metrics is not implemented yet')"
   ]
  },
  {
   "cell_type": "code",
   "execution_count": 114,
   "metadata": {},
   "outputs": [],
   "source": [
    "roc, report = evaluate(model, LOAD_MODEL_FILE, x_val, y_val, label_cols)"
   ]
  },
  {
   "cell_type": "code",
   "execution_count": 115,
   "metadata": {},
   "outputs": [
    {
     "name": "stdout",
     "output_type": "stream",
     "text": [
      "ROC on each label: \n",
      "Label: toxic                Threashold count: 863 \t AUC: 0.9836142374721919\n",
      "Label: severe_toxic         Threashold count: 265 \t AUC: 0.9916066721494696\n",
      "Label: obscene              Threashold count: 520 \t AUC: 0.9926648835859645\n",
      "Label: threat               Threashold count: 153 \t AUC: 0.9935311498082606\n",
      "Label: insult               Threashold count: 657 \t AUC: 0.9866579003959778\n",
      "Label: identity_hate        Threashold count: 245 \t AUC: 0.9914769932615218\n",
      "\n",
      "ROC: 0.989925306112231\n"
     ]
    }
   ],
   "source": [
    "print('ROC on each label: {}'.format(report))\n",
    "print('ROC: {}'.format(roc))"
   ]
  },
  {
   "cell_type": "code",
   "execution_count": null,
   "metadata": {
    "collapsed": true
   },
   "outputs": [],
   "source": []
  }
 ],
 "metadata": {
  "kernelspec": {
   "display_name": "Python 3.5 (tf_gpu)",
   "language": "python",
   "name": "tf_gpu"
  },
  "language_info": {
   "codemirror_mode": {
    "name": "ipython",
    "version": 3
   },
   "file_extension": ".py",
   "mimetype": "text/x-python",
   "name": "python",
   "nbconvert_exporter": "python",
   "pygments_lexer": "ipython3",
   "version": "3.5.4"
  }
 },
 "nbformat": 4,
 "nbformat_minor": 2
}
