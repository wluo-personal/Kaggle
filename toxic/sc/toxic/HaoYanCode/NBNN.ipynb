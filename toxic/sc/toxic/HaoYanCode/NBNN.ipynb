{
 "cells": [
  {
   "cell_type": "code",
   "execution_count": 1,
   "metadata": {},
   "outputs": [],
   "source": [
    "import pandas as pd\nimport numpy as np\nfrom nltk.corpus import stopwords\nfrom nltk.tokenize import TweetTokenizer\nfrom sklearn.feature_extraction.text import TfidfVectorizer\nfrom sklearn.linear_model import LogisticRegression\nfrom scipy.sparse import csr_matrix\nfrom keras import regularizers\nfrom keras.models import Model\nfrom keras.layers import Dense, Input, Dropout, Embedding, concatenate\nfrom keras.callbacks import EarlyStopping, ModelCheckpoint\nfrom scipy.sparse import csr_matrix, hstack\nfrom sklearn.metrics import roc_auc_score"
   ]
  },
  {
   "cell_type": "code",
   "execution_count": 2,
   "metadata": {},
   "outputs": [],
   "source": [
    "PATH = '../../data/'\n\nprint('reading data')\n\ntrain = pd.read_csv(PATH + 'cleaned_train.csv')\ntest = pd.read_csv(PATH + 'cleaned_test.csv')\n\nprint('data cleaning')\n\ntok = TweetTokenizer()\nstopword = set(stopwords.words(\"english\"))\n\ndef clean(comment):\n    text = tok.tokenize(comment)\n    text = [w for w in text if not w in stopword]\n    text = ' '.join(text)\n    if text == '': text = 'na'\n    return text\n\ntrain['comment_text_cleaned'] = train['comment_text_cleaned'].apply(lambda x: clean(x))\ntest['comment_text_cleaned'] = test['comment_text_cleaned'].apply(lambda x: clean(x))\n\nprint('calculations')\n\ntrain_sentence = train['comment_text_cleaned']\ntest_sentence = test['comment_text_cleaned']\n\ndef f(x):\n    x = tok.tokenize(x)\n    return len(x)\n\ntext = pd.concat([train_sentence, test_sentence])\n\nprint(train.shape)\nprint(test.shape)"
   ]
  },
  {
   "cell_type": "code",
   "execution_count": 3,
   "metadata": {},
   "outputs": [],
   "source": [
    "# TfidfVectorizer(input=’content’, encoding=’utf-8’, decode_error=’strict’, strip_accents=None,\\\n#                 lowercase=True, preprocessor=None, tokenizer=None, analyzer=’word’, stop_words=None,\\\n#                 token_pattern=’(?u)\\b\\w\\w+\\b’, ngram_range=(1, 1), max_df=1.0, min_df=1, max_features=None,\\\n#                 vocabulary=None, binary=False, dtype=<class ‘numpy.int64’>, norm=’l2’, use_idf=True,\\\n#                 smooth_idf=True, sublinear_tf=False)\n\nprint('getting tfidf')\nchar_vectorizer = TfidfVectorizer(ngram_range=(1,1), stop_words='english', max_df=0.9, min_df=100,\\\n                                  strip_accents='unicode', use_idf=1, smooth_idf=1, sublinear_tf=1)\nphrase_vectorizer = TfidfVectorizer(ngram_range=(2,2), stop_words='english', max_df=0.9, min_df=100,\\\n                                    strip_accents='unicode', use_idf=1, smooth_idf=1, sublinear_tf=1)\nprint('fitting char')\nchar_vectorizer.fit(text.values)\nprint('fitting phrase')\nphrase_vectorizer.fit(text.values)\nprint('transforming train char')\ntrain_char = char_vectorizer.transform(train['comment_text_cleaned'].values)\nprint('transforming train phrase')\ntrain_phrase = phrase_vectorizer.transform(train['comment_text_cleaned'].values)\nprint('transforming test char')\ntest_char = char_vectorizer.transform(test['comment_text_cleaned'].values)\nprint('transforming test phrase')\ntest_phrase = phrase_vectorizer.transform(test['comment_text_cleaned'].values)\n\ntrain_tfidf = hstack((train_char, train_phrase), format='csr')\ntest_tfidf = hstack((test_char, test_phrase), format='csr')\n\nlabel_cols = ['toxic', 'severe_toxic', 'obscene', 'threat', 'insult', 'identity_hate']\n\ntrain_tfidf"
   ]
  },
  {
   "cell_type": "code",
   "execution_count": 4,
   "metadata": {},
   "outputs": [],
   "source": [
    "print('combine featrues')\n# other_feature_cols = ['word_count', 'cleaned_word_count', 'unique_word_count', 'cleaned_unique_word_count',\\\n#                       'question_marks', 'consecutive_question_marks', 'exclamation_marks',\\\n#                       'consecutive_exclamation_marks', 'uppercase_letters', 'ellipsis', 'period',\\\n#                       'parentheses_pair', 'special_symbol', 'sentence', 'upper_word_ratio', 'unique_word_ratio',\\\n#                       'mark_count_ratio']\n\nother_feature_cols = ['upper_word_ratio', 'unique_word_ratio', 'mark_count_ratio']\n\nprint('getting train features')\ntrain_features = [train_tfidf, csr_matrix(train[other_feature_cols].values)]\n# train_features = train_tfidf\n\nprint('gettingtest features')\ntest_features = [test_tfidf, csr_matrix(test[other_feature_cols].values)]\n# test_features = test_tfidf\n\ntrain_features"
   ]
  },
  {
   "cell_type": "code",
   "execution_count": 5,
   "metadata": {},
   "outputs": [],
   "source": [
    "def pr(y_i, y, train_features):\n    p = train_features[y==y_i].sum(0)\n    return (p + 1) / ((y == y_i).sum() + 1)\n\ndef get_nn_model(inp1_len, inp2_len):\n    input = [Input(shape=(inp1_len,), sparse=True), Input(shape=(inp2_len,), sparse=True)]\n    x1 = Dense(250, activation='relu')(input[0])\n    x1 = Dense(250, activation='relu')(x1)\n    x2 = Dense(250, activation='relu')(input[1])\n    x2 = Dense(250, activation='relu')(x2)\n    x = Dense(250, activation='relu')(concatenate([x1, x2]))\n    x = Dropout(0.5)(x)\n    x = Dense(250, activation='relu', kernel_regularizer=regularizers.l2(0.01))(x)\n    x = Dense(2, activation='sigmoid')(x)\n    model = Model(inputs=input, outputs=x)\n    model.compile(loss='binary_crossentropy',\n                  optimizer='adam',\n                  metrics=['accuracy'])\n\n    return model\n\ndef train_model(model, file_path, batch_size, epochs, X_train, y):\n    checkpoint = ModelCheckpoint(file_path, monitor='val_loss', verbose=1, save_best_only=True, mode='min')\n    earlystopping = EarlyStopping(monitor=\"val_loss\", mode=\"min\", patience=20)\n    callbacks_list = [checkpoint, earlystopping]\n    model.fit(X_train, y, batch_size=batch_size, epochs=epochs, validation_split=0.2, callbacks=callbacks_list)\n    return model\n\ndef predict(model, file_path, X_test):\n    model.load_weights(file_path)\n    return model.predict(X_test, verbose=1)\n\ndef run(label_cols, train_features, train, test_features, train_len, file_path, batch_size, epochs):\n    preds = np.zeros((test.shape[0], len(label_cols)))\n    preds_train = np.zeros((train.shape[0], len(label_cols)))\n    for i, j in enumerate(label_cols):\n        print('fit', j)\n        y = train[j]\n        r = np.log(pr(1, y.values, train_features[0]) / pr(0, y.values, train_features[0]))\n        y = y.to_frame()\n        y['2'] = 1 - y\n        y = y.values\n        model = get_nn_model(train_len[0], train_len[1])\n        x_nb = [train_features[0].tocsr(), train_features[1]]\n#         x_nb = [train_features[0].multiply(r).tocsr(), train_features[1]]\n        model = train_model(model, file_path, batch_size, epochs, x_nb, y)\n        preds[:, i] = predict(model, file_path, [test_features[0].tocsr(), test_features[1]])[:, 0]\n#         preds[:, i] = predict(model, file_path, [test_features[0].multiply(r).tocsr(), test_features[1]])[:, 0]\n        preds_train[:, i] = predict(model, file_path, x_nb)[:, 0]\n        print('accuracy: {}'.format(roc_auc_score(train[j], preds_train[:, i])))\n        print('\\n\\n')\n    return preds, preds_train\n\ndef save(model_name, y_test, label_cols, path, is_train=False):\n    if is_train:\n        submission = pd.read_csv(path + 'sample_train.csv')\n        file_name = 'train_' + model_name\n    else:\n        submission = pd.read_csv(path + 'sample_submission.csv')\n        file_name = model_name\n    submission[label_cols] = y_test\n    submission.to_csv(path + model_name + '/' + file_name + '.csv', index=False)\n    \nprint('done')"
   ]
  },
  {
   "cell_type": "code",
   "execution_count": 6,
   "metadata": {},
   "outputs": [],
   "source": [
    "FILE_PATH = '../../model/nn_best.hdf5'\nBATCH_SIZE = 32\nEPOCHS = 2\n\nprint('predicting')\ny_test, y_train = run(label_cols, train_features, train, test_features,\\\n                      [train_tfidf.shape[1], len(other_feature_cols)],\\\n                      FILE_PATH, BATCH_SIZE, EPOCHS)\n\nprint('accuracy: {}'.format(roc_auc_score(train[label_cols], y_train)))\n\nprint('saving files')\nsave('nbnn', y_test, label_cols, PATH)\nsave('nbnn', y_train, label_cols, PATH, True)\n\nprint('done')"
   ]
  }
 ],
 "metadata": {
  "kernelspec": {
   "display_name": "Python 3",
   "language": "python",
   "name": "python3"
  },
  "language_info": {
   "codemirror_mode": {
    "name": "ipython",
    "version": 3
   },
   "file_extension": ".py",
   "mimetype": "text/x-python",
   "name": "python",
   "nbconvert_exporter": "python",
   "pygments_lexer": "ipython3",
   "version": "3.6.3"
  },
  "name": "NBNN",
  "notebookId": 3600042186122240
 },
 "nbformat": 4,
 "nbformat_minor": 0
}
