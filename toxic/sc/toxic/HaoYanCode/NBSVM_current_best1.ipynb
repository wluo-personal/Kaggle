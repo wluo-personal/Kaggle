{
 "cells": [
  {
   "cell_type": "code",
   "execution_count": 166,
   "metadata": {
    "collapsed": true
   },
   "outputs": [],
   "source": [
    "import pandas as pd\n",
    "import numpy as np\n",
    "import re\n",
    "from nltk.corpus import stopwords\n",
    "from nltk.tokenize import TweetTokenizer\n",
    "from nltk.stem.wordnet import WordNetLemmatizer\n",
    "from sklearn.feature_extraction.text import CountVectorizer, TfidfVectorizer\n",
    "from sklearn.linear_model import LogisticRegression\n",
    "from sklearn.metrics import roc_auc_score, accuracy_score, roc_curve, auc\n",
    "from scipy.sparse import csr_matrix, hstack"
   ]
  },
  {
   "cell_type": "code",
   "execution_count": 473,
   "metadata": {},
   "outputs": [
    {
     "data": {
      "text/plain": [
       "\"Explanation\\nWhy the edits made under my username Hardcore Metallica Fan were reverted? They weren't vandalisms, just closure on some GAs after I voted at New York Dolls FAC. And please don't remove the template from the talk page since I'm retired now.89.205.38.27\""
      ]
     },
     "execution_count": 473,
     "metadata": {},
     "output_type": "execute_result"
    }
   ],
   "source": [
    "train.comment_text[0]"
   ]
  },
  {
   "cell_type": "code",
   "execution_count": 474,
   "metadata": {},
   "outputs": [
    {
     "data": {
      "text/plain": [
       "'explanation why the edit make under my username hardcore metallica fan be revert ? they be not vandalism just closure on some gas after i vote at new york doll fac . and please do not remove the template from the talk page since i be retire now .'"
      ]
     },
     "execution_count": 474,
     "metadata": {},
     "output_type": "execute_result"
    }
   ],
   "source": [
    "train.comment_text_cleaned[0]"
   ]
  },
  {
   "cell_type": "code",
   "execution_count": 3,
   "metadata": {},
   "outputs": [
    {
     "name": "stdout",
     "output_type": "stream",
     "text": [
      "(159571, 27)\n",
      "(153164, 21)\n"
     ]
    }
   ],
   "source": [
    "PATH = '~/data/toxic/data/'\n",
    "\n",
    "train = pd.read_csv(PATH + 'cleaned_train.csv')\n",
    "test = pd.read_csv(PATH + 'cleaned_test.csv')\n",
    "\n",
    "\n",
    "\n",
    "train_sentence = train['comment_text_cleaned']\n",
    "test_sentence = test['comment_text_cleaned']\n",
    "\n",
    "text = pd.concat([train_sentence, test_sentence])\n",
    "\n",
    "print(train.shape)\n",
    "print(test.shape)"
   ]
  },
  {
   "cell_type": "code",
   "execution_count": 4,
   "metadata": {},
   "outputs": [
    {
     "name": "stdout",
     "output_type": "stream",
     "text": [
      "getting tfidf\n",
      "fitting char\n",
      "fitting phrase\n",
      "transforming train char\n",
      "transforming train phrase\n",
      "transforming test char\n",
      "transforming test phrase\n"
     ]
    },
    {
     "data": {
      "text/plain": [
       "<159571x300000 sparse matrix of type '<class 'numpy.float64'>'\n",
       "\twith 158654373 stored elements in Compressed Sparse Row format>"
      ]
     },
     "execution_count": 4,
     "metadata": {},
     "output_type": "execute_result"
    }
   ],
   "source": [
    "# CountVectorizer(input=’content’, encoding=’utf-8’, decode_error=’strict’, strip_accents=None,\\\n",
    "#                 lowercase=True, preprocessor=None, tokenizer=None, stop_words=None,\\\n",
    "#                 token_pattern=’(?u)\\b\\w\\w+\\b’, ngram_range=(1, 1), analyzer=’word’, max_df=1.0,\\\n",
    "#                 min_df=1, max_features=None, vocabulary=None, binary=False, dtype=<class ‘numpy.int64’>)\n",
    "\n",
    "# TfidfVectorizer(input=’content’, encoding=’utf-8’, decode_error=’strict’, strip_accents=None,\\\n",
    "#                 lowercase=True, preprocessor=None, tokenizer=None, analyzer=’word’, stop_words=None,\\\n",
    "#                 token_pattern=’(?u)\\b\\w\\w+\\b’, ngram_range=(1, 1), max_df=1.0, min_df=1, max_features=None,\\\n",
    "#                 vocabulary=None, binary=False, dtype=<class ‘numpy.int64’>, norm=’l2’, use_idf=True,\\\n",
    "#                 smooth_idf=True, sublinear_tf=False)\n",
    "\n",
    "# min_df=0, max_features=None, strip_accents='unicode',lowercase =True,\n",
    "# analyzer='word', token_pattern=r'\\w{3,}', ngram_range=(1,1),\n",
    "# use_idf=True,smooth_idf=True, sublinear_tf=True, stop_words = \"english\"\n",
    "\n",
    "print('getting tfidf')\n",
    "phrase_vectorizer = TfidfVectorizer(ngram_range=(1,3),\n",
    "                                    strip_accents='unicode', \n",
    "                                    max_features=100000, \n",
    "                                    analyzer='word',\n",
    "                                    sublinear_tf=True,\n",
    "                                    token_pattern=r'\\w{1,}')\n",
    "char_vectorizer = TfidfVectorizer(ngram_range=(1,5), \n",
    "                                  strip_accents='unicode', \n",
    "                                  max_features=200000, \n",
    "                                  analyzer='char', \n",
    "                                  sublinear_tf=True)\n",
    "\n",
    "print('fitting char')\n",
    "char_vectorizer.fit(text.values)\n",
    "print('fitting phrase')\n",
    "phrase_vectorizer.fit(text.values)\n",
    "print('transforming train char')\n",
    "train_char = char_vectorizer.transform(train_sentence.values)\n",
    "print('transforming train phrase')\n",
    "train_phrase = phrase_vectorizer.transform(train_sentence.values)\n",
    "print('transforming test char')\n",
    "test_char = char_vectorizer.transform(test_sentence.values)\n",
    "print('transforming test phrase')\n",
    "test_phrase = phrase_vectorizer.transform(test_sentence.values)\n",
    "\n",
    "train_tfidf = hstack((train_char, train_phrase), format='csr')\n",
    "test_tfidf = hstack((test_char, test_phrase), format='csr')\n",
    "\n",
    "label_cols = ['toxic', 'severe_toxic', 'obscene', 'threat', 'insult', 'identity_hate']\n",
    "\n",
    "train_tfidf"
   ]
  },
  {
   "cell_type": "code",
   "execution_count": 5,
   "metadata": {
    "collapsed": true
   },
   "outputs": [],
   "source": [
    "import pdb"
   ]
  },
  {
   "cell_type": "code",
   "execution_count": 413,
   "metadata": {},
   "outputs": [
    {
     "name": "stdout",
     "output_type": "stream",
     "text": [
      "done\n"
     ]
    }
   ],
   "source": [
    "def pr(y_i, y, train_features):\n",
    "    p = train_features[y==y_i].sum(0)\n",
    "    return (p + 1) / ((y == y_i).sum() + 1)\n",
    "\n",
    "def get_nblogreg_model(label_cols, train_features, train, test_features):\n",
    "    #pdb.set_trace()\n",
    "    preds = np.zeros((test.shape[0], len(label_cols)))\n",
    "    train_preds = np.zeros((train.shape[0], len(label_cols)))\n",
    "    for i, j in enumerate(label_cols):\n",
    "        if i == i:\n",
    "            print('fit', j)\n",
    "            y = train[j].values\n",
    "            r = np.log(pr(1, y, train_features) / pr(0, y, train_features))\n",
    "            model = LogisticRegression()\n",
    "            x_nb = train_features.multiply(r).tocsr()\n",
    "            # split\n",
    "            index_to_split = int(x_nb.shape[0]*0.9)\n",
    "            x_train = x_nb[:index_to_split,:]\n",
    "            y_train = y[:index_to_split]\n",
    "            x_val = x_nb[index_to_split:,:]\n",
    "            y_val = y[index_to_split:]\n",
    "            val_preds = np.zeros((x_val.shape[0],len(label_cols)))\n",
    "            print(x_train.shape, y_train.shape, x_val.shape, y_val.shape)\n",
    "            # fit\n",
    "            model.fit(x_train, y_train)\n",
    "            # validation\n",
    "            val_preds[:, i] = model.predict(x_val)\n",
    "            val_prob =  model.predict_proba(x_val)[:, 1]\n",
    "            print('accuracy is {}'.format(accuracy_score(y_val, val_preds[:, i])))\n",
    "            print('roc_auc is {}'.format(roc_auc_score(y_val, val_prob)))\n",
    "            \n",
    "            #preds[:, i] = model.predict_proba(test_features.multiply(r))[:, 1]\n",
    "            #train_preds[:, i] = model.predict_proba(x_nb)[:, 1]\n",
    "            #print('accuracy is {}'.format(roc_auc_score(y, train_preds[:, i])))\n",
    "    return preds, val_preds, val_prob, y_val, index_to_split\n",
    "\n",
    "def save(y_test, label_cols, path):\n",
    "    import time\n",
    "    BUILD_ID = int(time.time())\n",
    "    print('BUILD_ID: {}'.format(BUILD_ID))\n",
    "    submission = pd.read_csv(path + 'sample_submission.csv')\n",
    "    submission[label_cols] = y_test\n",
    "    submission.to_csv('/home/kai/data/shiyi/toxic/submissions/sub_' + str(BUILD_ID) + '.csv', index=False)\n",
    "    \n",
    "print('done')"
   ]
  },
  {
   "cell_type": "code",
   "execution_count": 364,
   "metadata": {},
   "outputs": [
    {
     "name": "stdout",
     "output_type": "stream",
     "text": [
      "predicting\n",
      "fit toxic\n",
      "(143613, 300000) (143613,) (15958, 300000) (15958,)\n",
      "accuracy is 0.9659105151021431\n",
      "roc_auc is 0.9844540447511267\n"
     ]
    }
   ],
   "source": [
    "print('predicting')\n",
    "y_test, val_preds, val_prob, y_val, index_to_split = get_nblogreg_model(label_cols, train_tfidf, train, test_tfidf)\n",
    "#print('total score is {}'.format(roc_auc_score(train[label_cols], y_train)))"
   ]
  },
  {
   "cell_type": "code",
   "execution_count": 102,
   "metadata": {},
   "outputs": [
    {
     "data": {
      "text/plain": [
       "array([[129372,    474],\n",
       "       [  5760,   8008]])"
      ]
     },
     "execution_count": 102,
     "metadata": {},
     "output_type": "execute_result"
    }
   ],
   "source": [
    "confusion_matrix(y_val, val_preds[:,0]) # 0 is toxic"
   ]
  },
  {
   "cell_type": "code",
   "execution_count": null,
   "metadata": {
    "collapsed": true
   },
   "outputs": [],
   "source": []
  },
  {
   "cell_type": "code",
   "execution_count": null,
   "metadata": {
    "collapsed": true
   },
   "outputs": [],
   "source": [
    "submission = pd.read_csv('/home/kai/data/shiyi/toxic/submissions/sub_1518559907.csv')"
   ]
  },
  {
   "cell_type": "code",
   "execution_count": 418,
   "metadata": {},
   "outputs": [
    {
     "data": {
      "text/html": [
       "<div>\n",
       "<style>\n",
       "    .dataframe thead tr:only-child th {\n",
       "        text-align: right;\n",
       "    }\n",
       "\n",
       "    .dataframe thead th {\n",
       "        text-align: left;\n",
       "    }\n",
       "\n",
       "    .dataframe tbody tr th {\n",
       "        vertical-align: top;\n",
       "    }\n",
       "</style>\n",
       "<table border=\"1\" class=\"dataframe\">\n",
       "  <thead>\n",
       "    <tr style=\"text-align: right;\">\n",
       "      <th></th>\n",
       "      <th>id</th>\n",
       "      <th>toxic</th>\n",
       "      <th>severe_toxic</th>\n",
       "      <th>obscene</th>\n",
       "      <th>threat</th>\n",
       "      <th>insult</th>\n",
       "      <th>identity_hate</th>\n",
       "    </tr>\n",
       "  </thead>\n",
       "  <tbody>\n",
       "    <tr>\n",
       "      <th>0</th>\n",
       "      <td>00001cee341fdb12</td>\n",
       "      <td>1.000000</td>\n",
       "      <td>0.223519</td>\n",
       "      <td>0.999997</td>\n",
       "      <td>0.011390</td>\n",
       "      <td>0.995380</td>\n",
       "      <td>0.271654</td>\n",
       "    </tr>\n",
       "    <tr>\n",
       "      <th>1</th>\n",
       "      <td>0000247867823ef7</td>\n",
       "      <td>0.003152</td>\n",
       "      <td>0.000680</td>\n",
       "      <td>0.001581</td>\n",
       "      <td>0.000194</td>\n",
       "      <td>0.004644</td>\n",
       "      <td>0.000764</td>\n",
       "    </tr>\n",
       "  </tbody>\n",
       "</table>\n",
       "</div>"
      ],
      "text/plain": [
       "                 id     toxic  severe_toxic   obscene    threat    insult  \\\n",
       "0  00001cee341fdb12  1.000000  0.223519      0.999997  0.011390  0.995380   \n",
       "1  0000247867823ef7  0.003152  0.000680      0.001581  0.000194  0.004644   \n",
       "\n",
       "   identity_hate  \n",
       "0  0.271654       \n",
       "1  0.000764       "
      ]
     },
     "execution_count": 418,
     "metadata": {},
     "output_type": "execute_result"
    }
   ],
   "source": [
    "submission.head(2)"
   ]
  },
  {
   "cell_type": "code",
   "execution_count": 420,
   "metadata": {},
   "outputs": [
    {
     "data": {
      "text/plain": [
       "True"
      ]
     },
     "execution_count": 420,
     "metadata": {},
     "output_type": "execute_result"
    }
   ],
   "source": [
    "sum(test.id == submission.id) == test.shape[0]"
   ]
  },
  {
   "cell_type": "code",
   "execution_count": 427,
   "metadata": {},
   "outputs": [
    {
     "data": {
      "text/html": [
       "<div>\n",
       "<style>\n",
       "    .dataframe thead tr:only-child th {\n",
       "        text-align: right;\n",
       "    }\n",
       "\n",
       "    .dataframe thead th {\n",
       "        text-align: left;\n",
       "    }\n",
       "\n",
       "    .dataframe tbody tr th {\n",
       "        vertical-align: top;\n",
       "    }\n",
       "</style>\n",
       "<table border=\"1\" class=\"dataframe\">\n",
       "  <thead>\n",
       "    <tr style=\"text-align: right;\">\n",
       "      <th></th>\n",
       "      <th>id</th>\n",
       "      <th>comment_text_cleaned</th>\n",
       "      <th>word_count</th>\n",
       "    </tr>\n",
       "  </thead>\n",
       "  <tbody>\n",
       "    <tr>\n",
       "      <th>0</th>\n",
       "      <td>00001cee341fdb12</td>\n",
       "      <td>yo bitch ja rule be more succesful then you will ever be whats up with you and hat you sad mofuckas ... i should bitch slap you be pethedic white face and get you to kiss my as you guy sicken me . ja rule be about pride in da music man . dont dis that shit on him . and nothin be wrong bein like tupac he be a brother too ... fuck white boy get thing right next time .</td>\n",
       "      <td>72</td>\n",
       "    </tr>\n",
       "    <tr>\n",
       "      <th>1</th>\n",
       "      <td>0000247867823ef7</td>\n",
       "      <td>from rfc the title be fine a it be imo .</td>\n",
       "      <td>12</td>\n",
       "    </tr>\n",
       "  </tbody>\n",
       "</table>\n",
       "</div>"
      ],
      "text/plain": [
       "                 id  \\\n",
       "0  00001cee341fdb12   \n",
       "1  0000247867823ef7   \n",
       "\n",
       "                                                                                                                                                                                                                                                                                                                                                               comment_text_cleaned  \\\n",
       "0  yo bitch ja rule be more succesful then you will ever be whats up with you and hat you sad mofuckas ... i should bitch slap you be pethedic white face and get you to kiss my as you guy sicken me . ja rule be about pride in da music man . dont dis that shit on him . and nothin be wrong bein like tupac he be a brother too ... fuck white boy get thing right next time .   \n",
       "1  from rfc the title be fine a it be imo .                                                                                                                                                                                                                                                                                                                                           \n",
       "\n",
       "   word_count  \n",
       "0  72          \n",
       "1  12          "
      ]
     },
     "execution_count": 427,
     "metadata": {},
     "output_type": "execute_result"
    }
   ],
   "source": [
    "test[['id','comment_text_cleaned','word_count']].head(2) # test data from csv"
   ]
  },
  {
   "cell_type": "code",
   "execution_count": 477,
   "metadata": {},
   "outputs": [
    {
     "name": "stdout",
     "output_type": "stream",
     "text": [
      "['step<0.01>_words<1>_length<150>', 'step<0.01>_words<1>_length<200>', 'step<0.01>_words<1>_length<250>', 'step<0.01>_words<2>_length<150>', 'step<0.01>_words<2>_length<200>', 'step<0.01>_words<2>_length<250>', 'step<0.01>_words<3>_length<150>', 'step<0.01>_words<3>_length<200>', 'step<0.01>_words<3>_length<250>', 'step<0.01>_words<4>_length<150>', 'step<0.01>_words<4>_length<200>', 'step<0.01>_words<4>_length<250>', 'step<0.01>_words<5>_length<150>', 'step<0.01>_words<5>_length<200>', 'step<0.01>_words<5>_length<250>', 'step<0.02>_words<1>_length<150>', 'step<0.02>_words<1>_length<200>', 'step<0.02>_words<1>_length<250>', 'step<0.02>_words<2>_length<150>', 'step<0.02>_words<2>_length<200>', 'step<0.02>_words<2>_length<250>', 'step<0.02>_words<3>_length<150>', 'step<0.02>_words<3>_length<200>', 'step<0.02>_words<3>_length<250>', 'step<0.02>_words<4>_length<150>', 'step<0.02>_words<4>_length<200>', 'step<0.02>_words<4>_length<250>', 'step<0.02>_words<5>_length<150>', 'step<0.02>_words<5>_length<200>', 'step<0.02>_words<5>_length<250>', 'step<0.03>_words<1>_length<150>', 'step<0.03>_words<1>_length<200>', 'step<0.03>_words<1>_length<250>', 'step<0.03>_words<2>_length<150>', 'step<0.03>_words<2>_length<200>', 'step<0.03>_words<2>_length<250>', 'step<0.03>_words<3>_length<150>', 'step<0.03>_words<3>_length<200>', 'step<0.03>_words<3>_length<250>', 'step<0.03>_words<4>_length<150>', 'step<0.03>_words<4>_length<200>', 'step<0.03>_words<4>_length<250>', 'step<0.03>_words<5>_length<150>', 'step<0.03>_words<5>_length<200>', 'step<0.03>_words<5>_length<250>', 'step<0.04>_words<1>_length<150>', 'step<0.04>_words<1>_length<200>', 'step<0.04>_words<1>_length<250>', 'step<0.04>_words<2>_length<150>', 'step<0.04>_words<2>_length<200>', 'step<0.04>_words<2>_length<250>', 'step<0.04>_words<3>_length<150>', 'step<0.04>_words<3>_length<200>', 'step<0.04>_words<3>_length<250>', 'step<0.04>_words<4>_length<150>', 'step<0.04>_words<4>_length<200>', 'step<0.04>_words<4>_length<250>', 'step<0.04>_words<5>_length<150>', 'step<0.04>_words<5>_length<200>', 'step<0.04>_words<5>_length<250>', 'step<0.05>_words<1>_length<150>', 'step<0.05>_words<1>_length<200>', 'step<0.05>_words<1>_length<250>', 'step<0.05>_words<2>_length<150>', 'step<0.05>_words<2>_length<200>', 'step<0.05>_words<2>_length<250>', 'step<0.05>_words<3>_length<150>', 'step<0.05>_words<3>_length<200>', 'step<0.05>_words<3>_length<250>', 'step<0.05>_words<4>_length<150>', 'step<0.05>_words<4>_length<200>', 'step<0.05>_words<4>_length<250>', 'step<0.05>_words<5>_length<150>', 'step<0.05>_words<5>_length<200>', 'step<0.05>_words<5>_length<250>', 'step<0.06>_words<1>_length<150>', 'step<0.06>_words<1>_length<200>', 'step<0.06>_words<1>_length<250>', 'step<0.06>_words<2>_length<150>', 'step<0.06>_words<2>_length<200>', 'step<0.06>_words<2>_length<250>', 'step<0.06>_words<3>_length<150>', 'step<0.06>_words<3>_length<200>', 'step<0.06>_words<3>_length<250>', 'step<0.06>_words<4>_length<150>', 'step<0.06>_words<4>_length<200>', 'step<0.06>_words<4>_length<250>', 'step<0.06>_words<5>_length<150>', 'step<0.06>_words<5>_length<200>', 'step<0.06>_words<5>_length<250>', 'step<0.07>_words<1>_length<150>', 'step<0.07>_words<1>_length<200>', 'step<0.07>_words<1>_length<250>', 'step<0.07>_words<2>_length<150>', 'step<0.07>_words<2>_length<200>', 'step<0.07>_words<2>_length<250>', 'step<0.07>_words<3>_length<150>', 'step<0.07>_words<3>_length<200>', 'step<0.07>_words<3>_length<250>', 'step<0.07>_words<4>_length<150>', 'step<0.07>_words<4>_length<200>', 'step<0.07>_words<4>_length<250>', 'step<0.07>_words<5>_length<150>', 'step<0.07>_words<5>_length<200>', 'step<0.07>_words<5>_length<250>', 'step<0.08>_words<1>_length<150>', 'step<0.08>_words<1>_length<200>', 'step<0.08>_words<1>_length<250>', 'step<0.08>_words<2>_length<150>', 'step<0.08>_words<2>_length<200>', 'step<0.08>_words<2>_length<250>', 'step<0.08>_words<3>_length<150>', 'step<0.08>_words<3>_length<200>', 'step<0.08>_words<3>_length<250>', 'step<0.08>_words<4>_length<150>', 'step<0.08>_words<4>_length<200>', 'step<0.08>_words<4>_length<250>', 'step<0.08>_words<5>_length<150>', 'step<0.08>_words<5>_length<200>', 'step<0.08>_words<5>_length<250>', 'step<0.09>_words<1>_length<150>', 'step<0.09>_words<1>_length<200>', 'step<0.09>_words<1>_length<250>', 'step<0.09>_words<2>_length<150>', 'step<0.09>_words<2>_length<200>', 'step<0.09>_words<2>_length<250>', 'step<0.09>_words<3>_length<150>', 'step<0.09>_words<3>_length<200>', 'step<0.09>_words<3>_length<250>', 'step<0.09>_words<4>_length<150>', 'step<0.09>_words<4>_length<200>', 'step<0.09>_words<4>_length<250>', 'step<0.09>_words<5>_length<150>', 'step<0.09>_words<5>_length<200>', 'step<0.09>_words<5>_length<250>', 'step<0.1>_words<1>_length<150>', 'step<0.1>_words<1>_length<200>', 'step<0.1>_words<1>_length<250>', 'step<0.1>_words<2>_length<150>', 'step<0.1>_words<2>_length<200>', 'step<0.1>_words<2>_length<250>', 'step<0.1>_words<3>_length<150>', 'step<0.1>_words<3>_length<200>', 'step<0.1>_words<3>_length<250>', 'step<0.1>_words<4>_length<150>', 'step<0.1>_words<4>_length<200>', 'step<0.1>_words<4>_length<250>', 'step<0.1>_words<5>_length<150>', 'step<0.1>_words<5>_length<200>', 'step<0.1>_words<5>_length<250>', 'step<0.11>_words<1>_length<150>', 'step<0.11>_words<1>_length<200>', 'step<0.11>_words<1>_length<250>', 'step<0.11>_words<2>_length<150>', 'step<0.11>_words<2>_length<200>', 'step<0.11>_words<2>_length<250>', 'step<0.11>_words<3>_length<150>', 'step<0.11>_words<3>_length<200>', 'step<0.11>_words<3>_length<250>', 'step<0.11>_words<4>_length<150>', 'step<0.11>_words<4>_length<200>', 'step<0.11>_words<4>_length<250>', 'step<0.11>_words<5>_length<150>', 'step<0.11>_words<5>_length<200>', 'step<0.11>_words<5>_length<250>', 'step<0.12>_words<1>_length<150>', 'step<0.12>_words<1>_length<200>', 'step<0.12>_words<1>_length<250>', 'step<0.12>_words<2>_length<150>', 'step<0.12>_words<2>_length<200>', 'step<0.12>_words<2>_length<250>', 'step<0.12>_words<3>_length<150>', 'step<0.12>_words<3>_length<200>', 'step<0.12>_words<3>_length<250>', 'step<0.12>_words<4>_length<150>', 'step<0.12>_words<4>_length<200>', 'step<0.12>_words<4>_length<250>', 'step<0.12>_words<5>_length<150>', 'step<0.12>_words<5>_length<200>', 'step<0.12>_words<5>_length<250>', 'step<0.13>_words<1>_length<150>', 'step<0.13>_words<1>_length<200>', 'step<0.13>_words<1>_length<250>', 'step<0.13>_words<2>_length<150>', 'step<0.13>_words<2>_length<200>', 'step<0.13>_words<2>_length<250>', 'step<0.13>_words<3>_length<150>', 'step<0.13>_words<3>_length<200>', 'step<0.13>_words<3>_length<250>', 'step<0.13>_words<4>_length<150>', 'step<0.13>_words<4>_length<200>', 'step<0.13>_words<4>_length<250>', 'step<0.13>_words<5>_length<150>', 'step<0.13>_words<5>_length<200>', 'step<0.13>_words<5>_length<250>', 'step<0.14>_words<1>_length<150>', 'step<0.14>_words<1>_length<200>', 'step<0.14>_words<1>_length<250>', 'step<0.14>_words<2>_length<150>', 'step<0.14>_words<2>_length<200>', 'step<0.14>_words<2>_length<250>', 'step<0.14>_words<3>_length<150>', 'step<0.14>_words<3>_length<200>', 'step<0.14>_words<3>_length<250>', 'step<0.14>_words<4>_length<150>', 'step<0.14>_words<4>_length<200>', 'step<0.14>_words<4>_length<250>', 'step<0.14>_words<5>_length<150>', 'step<0.14>_words<5>_length<200>', 'step<0.14>_words<5>_length<250>', 'step<0.15>_words<1>_length<150>', 'step<0.15>_words<1>_length<200>', 'step<0.15>_words<1>_length<250>', 'step<0.15>_words<2>_length<150>', 'step<0.15>_words<2>_length<200>', 'step<0.15>_words<2>_length<250>', 'step<0.15>_words<3>_length<150>', 'step<0.15>_words<3>_length<200>', 'step<0.15>_words<3>_length<250>', 'step<0.15>_words<4>_length<150>', 'step<0.15>_words<4>_length<200>', 'step<0.15>_words<4>_length<250>', 'step<0.15>_words<5>_length<150>', 'step<0.15>_words<5>_length<200>', 'step<0.15>_words<5>_length<250>', 'step<0.16>_words<1>_length<150>', 'step<0.16>_words<1>_length<200>', 'step<0.16>_words<1>_length<250>', 'step<0.16>_words<2>_length<150>', 'step<0.16>_words<2>_length<200>', 'step<0.16>_words<2>_length<250>', 'step<0.16>_words<3>_length<150>', 'step<0.16>_words<3>_length<200>', 'step<0.16>_words<3>_length<250>', 'step<0.16>_words<4>_length<150>', 'step<0.16>_words<4>_length<200>', 'step<0.16>_words<4>_length<250>', 'step<0.16>_words<5>_length<150>', 'step<0.16>_words<5>_length<200>', 'step<0.16>_words<5>_length<250>', 'step<0.17>_words<1>_length<150>', 'step<0.17>_words<1>_length<200>', 'step<0.17>_words<1>_length<250>', 'step<0.17>_words<2>_length<150>', 'step<0.17>_words<2>_length<200>', 'step<0.17>_words<2>_length<250>', 'step<0.17>_words<3>_length<150>', 'step<0.17>_words<3>_length<200>', 'step<0.17>_words<3>_length<250>', 'step<0.17>_words<4>_length<150>', 'step<0.17>_words<4>_length<200>', 'step<0.17>_words<4>_length<250>', 'step<0.17>_words<5>_length<150>', 'step<0.17>_words<5>_length<200>', 'step<0.17>_words<5>_length<250>', 'step<0.18>_words<1>_length<150>', 'step<0.18>_words<1>_length<200>', 'step<0.18>_words<1>_length<250>', 'step<0.18>_words<2>_length<150>', 'step<0.18>_words<2>_length<200>', 'step<0.18>_words<2>_length<250>', 'step<0.18>_words<3>_length<150>', 'step<0.18>_words<3>_length<200>', 'step<0.18>_words<3>_length<250>', 'step<0.18>_words<4>_length<150>', 'step<0.18>_words<4>_length<200>', 'step<0.18>_words<4>_length<250>', 'step<0.18>_words<5>_length<150>', 'step<0.18>_words<5>_length<200>', 'step<0.18>_words<5>_length<250>', 'step<0.19>_words<1>_length<150>', 'step<0.19>_words<1>_length<200>', 'step<0.19>_words<1>_length<250>', 'step<0.19>_words<2>_length<150>', 'step<0.19>_words<2>_length<200>', 'step<0.19>_words<2>_length<250>', 'step<0.19>_words<3>_length<150>', 'step<0.19>_words<3>_length<200>', 'step<0.19>_words<3>_length<250>', 'step<0.19>_words<4>_length<150>', 'step<0.19>_words<4>_length<200>', 'step<0.19>_words<4>_length<250>', 'step<0.19>_words<5>_length<150>', 'step<0.19>_words<5>_length<200>', 'step<0.19>_words<5>_length<250>', 'step<0.2>_words<1>_length<150>', 'step<0.2>_words<1>_length<200>', 'step<0.2>_words<1>_length<250>', 'step<0.2>_words<2>_length<150>', 'step<0.2>_words<2>_length<200>', 'step<0.2>_words<2>_length<250>', 'step<0.2>_words<3>_length<150>', 'step<0.2>_words<3>_length<200>', 'step<0.2>_words<3>_length<250>', 'step<0.2>_words<4>_length<150>', 'step<0.2>_words<4>_length<200>', 'step<0.2>_words<4>_length<250>', 'step<0.2>_words<5>_length<150>', 'step<0.2>_words<5>_length<200>', 'step<0.2>_words<5>_length<250>', 'step<0.21>_words<1>_length<150>', 'step<0.21>_words<1>_length<200>', 'step<0.21>_words<1>_length<250>', 'step<0.21>_words<2>_length<150>', 'step<0.21>_words<2>_length<200>', 'step<0.21>_words<2>_length<250>', 'step<0.21>_words<3>_length<150>', 'step<0.21>_words<3>_length<200>', 'step<0.21>_words<3>_length<250>', 'step<0.21>_words<4>_length<150>', 'step<0.21>_words<4>_length<200>', 'step<0.21>_words<4>_length<250>', 'step<0.21>_words<5>_length<150>', 'step<0.21>_words<5>_length<200>', 'step<0.21>_words<5>_length<250>', 'step<0.22>_words<1>_length<150>', 'step<0.22>_words<1>_length<200>', 'step<0.22>_words<1>_length<250>', 'step<0.22>_words<2>_length<150>', 'step<0.22>_words<2>_length<200>', 'step<0.22>_words<2>_length<250>', 'step<0.22>_words<3>_length<150>', 'step<0.22>_words<3>_length<200>', 'step<0.22>_words<3>_length<250>', 'step<0.22>_words<4>_length<150>', 'step<0.22>_words<4>_length<200>', 'step<0.22>_words<4>_length<250>', 'step<0.22>_words<5>_length<150>', 'step<0.22>_words<5>_length<200>', 'step<0.22>_words<5>_length<250>', 'step<0.23>_words<1>_length<150>', 'step<0.23>_words<1>_length<200>', 'step<0.23>_words<1>_length<250>', 'step<0.23>_words<2>_length<150>', 'step<0.23>_words<2>_length<200>', 'step<0.23>_words<2>_length<250>', 'step<0.23>_words<3>_length<150>', 'step<0.23>_words<3>_length<200>', 'step<0.23>_words<3>_length<250>', 'step<0.23>_words<4>_length<150>', 'step<0.23>_words<4>_length<200>', 'step<0.23>_words<4>_length<250>', 'step<0.23>_words<5>_length<150>', 'step<0.23>_words<5>_length<200>', 'step<0.23>_words<5>_length<250>', 'step<0.24>_words<1>_length<150>', 'step<0.24>_words<1>_length<200>', 'step<0.24>_words<1>_length<250>', 'step<0.24>_words<2>_length<150>', 'step<0.24>_words<2>_length<200>', 'step<0.24>_words<2>_length<250>', 'step<0.24>_words<3>_length<150>', 'step<0.24>_words<3>_length<200>', 'step<0.24>_words<3>_length<250>', 'step<0.24>_words<4>_length<150>', 'step<0.24>_words<4>_length<200>', 'step<0.24>_words<4>_length<250>', 'step<0.24>_words<5>_length<150>', 'step<0.24>_words<5>_length<200>', 'step<0.24>_words<5>_length<250>', 'step<0.25>_words<1>_length<150>', 'step<0.25>_words<1>_length<200>', 'step<0.25>_words<1>_length<250>', 'step<0.25>_words<2>_length<150>', 'step<0.25>_words<2>_length<200>', 'step<0.25>_words<2>_length<250>', 'step<0.25>_words<3>_length<150>', 'step<0.25>_words<3>_length<200>', 'step<0.25>_words<3>_length<250>', 'step<0.25>_words<4>_length<150>', 'step<0.25>_words<4>_length<200>', 'step<0.25>_words<4>_length<250>', 'step<0.25>_words<5>_length<150>', 'step<0.25>_words<5>_length<200>', 'step<0.25>_words<5>_length<250>', 'step<0.26>_words<1>_length<150>', 'step<0.26>_words<1>_length<200>', 'step<0.26>_words<1>_length<250>', 'step<0.26>_words<2>_length<150>', 'step<0.26>_words<2>_length<200>', 'step<0.26>_words<2>_length<250>', 'step<0.26>_words<3>_length<150>', 'step<0.26>_words<3>_length<200>', 'step<0.26>_words<3>_length<250>', 'step<0.26>_words<4>_length<150>', 'step<0.26>_words<4>_length<200>', 'step<0.26>_words<4>_length<250>', 'step<0.26>_words<5>_length<150>', 'step<0.26>_words<5>_length<200>', 'step<0.26>_words<5>_length<250>', 'step<0.27>_words<1>_length<150>', 'step<0.27>_words<1>_length<200>', 'step<0.27>_words<1>_length<250>', 'step<0.27>_words<2>_length<150>', 'step<0.27>_words<2>_length<200>', 'step<0.27>_words<2>_length<250>', 'step<0.27>_words<3>_length<150>', 'step<0.27>_words<3>_length<200>', 'step<0.27>_words<3>_length<250>', 'step<0.27>_words<4>_length<150>', 'step<0.27>_words<4>_length<200>', 'step<0.27>_words<4>_length<250>', 'step<0.27>_words<5>_length<150>', 'step<0.27>_words<5>_length<200>', 'step<0.27>_words<5>_length<250>', 'step<0.28>_words<1>_length<150>', 'step<0.28>_words<1>_length<200>', 'step<0.28>_words<1>_length<250>', 'step<0.28>_words<2>_length<150>', 'step<0.28>_words<2>_length<200>', 'step<0.28>_words<2>_length<250>', 'step<0.28>_words<3>_length<150>', 'step<0.28>_words<3>_length<200>', 'step<0.28>_words<3>_length<250>', 'step<0.28>_words<4>_length<150>', 'step<0.28>_words<4>_length<200>', 'step<0.28>_words<4>_length<250>', 'step<0.28>_words<5>_length<150>', 'step<0.28>_words<5>_length<200>', 'step<0.28>_words<5>_length<250>', 'step<0.29>_words<1>_length<150>', 'step<0.29>_words<1>_length<200>', 'step<0.29>_words<1>_length<250>', 'step<0.29>_words<2>_length<150>', 'step<0.29>_words<2>_length<200>', 'step<0.29>_words<2>_length<250>', 'step<0.29>_words<3>_length<150>', 'step<0.29>_words<3>_length<200>', 'step<0.29>_words<3>_length<250>', 'step<0.29>_words<4>_length<150>', 'step<0.29>_words<4>_length<200>', 'step<0.29>_words<4>_length<250>', 'step<0.29>_words<5>_length<150>', 'step<0.29>_words<5>_length<200>', 'step<0.29>_words<5>_length<250>', 'step<0.3>_words<1>_length<150>', 'step<0.3>_words<1>_length<200>', 'step<0.3>_words<1>_length<250>', 'step<0.3>_words<2>_length<150>', 'step<0.3>_words<2>_length<200>', 'step<0.3>_words<2>_length<250>', 'step<0.3>_words<3>_length<150>', 'step<0.3>_words<3>_length<200>', 'step<0.3>_words<3>_length<250>', 'step<0.3>_words<4>_length<150>', 'step<0.3>_words<4>_length<200>', 'step<0.3>_words<4>_length<250>', 'step<0.3>_words<5>_length<150>', 'step<0.3>_words<5>_length<200>', 'step<0.3>_words<5>_length<250>', 'step<0.31>_words<1>_length<150>', 'step<0.31>_words<1>_length<200>', 'step<0.31>_words<1>_length<250>', 'step<0.31>_words<2>_length<150>', 'step<0.31>_words<2>_length<200>', 'step<0.31>_words<2>_length<250>', 'step<0.31>_words<3>_length<150>', 'step<0.31>_words<3>_length<200>', 'step<0.31>_words<3>_length<250>', 'step<0.31>_words<4>_length<150>', 'step<0.31>_words<4>_length<200>', 'step<0.31>_words<4>_length<250>', 'step<0.31>_words<5>_length<150>', 'step<0.31>_words<5>_length<200>', 'step<0.31>_words<5>_length<250>', 'step<0.32>_words<1>_length<150>', 'step<0.32>_words<1>_length<200>', 'step<0.32>_words<1>_length<250>', 'step<0.32>_words<2>_length<150>', 'step<0.32>_words<2>_length<200>', 'step<0.32>_words<2>_length<250>', 'step<0.32>_words<3>_length<150>', 'step<0.32>_words<3>_length<200>', 'step<0.32>_words<3>_length<250>', 'step<0.32>_words<4>_length<150>', 'step<0.32>_words<4>_length<200>', 'step<0.32>_words<4>_length<250>', 'step<0.32>_words<5>_length<150>', 'step<0.32>_words<5>_length<200>', 'step<0.32>_words<5>_length<250>', 'step<0.33>_words<1>_length<150>', 'step<0.33>_words<1>_length<200>', 'step<0.33>_words<1>_length<250>', 'step<0.33>_words<2>_length<150>', 'step<0.33>_words<2>_length<200>', 'step<0.33>_words<2>_length<250>', 'step<0.33>_words<3>_length<150>', 'step<0.33>_words<3>_length<200>', 'step<0.33>_words<3>_length<250>', 'step<0.33>_words<4>_length<150>', 'step<0.33>_words<4>_length<200>', 'step<0.33>_words<4>_length<250>', 'step<0.33>_words<5>_length<150>', 'step<0.33>_words<5>_length<200>', 'step<0.33>_words<5>_length<250>', 'step<0.34>_words<1>_length<150>', 'step<0.34>_words<1>_length<200>', 'step<0.34>_words<1>_length<250>', 'step<0.34>_words<2>_length<150>', 'step<0.34>_words<2>_length<200>', 'step<0.34>_words<2>_length<250>', 'step<0.34>_words<3>_length<150>', 'step<0.34>_words<3>_length<200>', 'step<0.34>_words<3>_length<250>', 'step<0.34>_words<4>_length<150>', 'step<0.34>_words<4>_length<200>', 'step<0.34>_words<4>_length<250>', 'step<0.34>_words<5>_length<150>', 'step<0.34>_words<5>_length<200>', 'step<0.34>_words<5>_length<250>', 'step<0.35>_words<1>_length<150>', 'step<0.35>_words<1>_length<200>', 'step<0.35>_words<1>_length<250>', 'step<0.35>_words<2>_length<150>', 'step<0.35>_words<2>_length<200>', 'step<0.35>_words<2>_length<250>', 'step<0.35>_words<3>_length<150>', 'step<0.35>_words<3>_length<200>', 'step<0.35>_words<3>_length<250>', 'step<0.35>_words<4>_length<150>', 'step<0.35>_words<4>_length<200>', 'step<0.35>_words<4>_length<250>', 'step<0.35>_words<5>_length<150>', 'step<0.35>_words<5>_length<200>', 'step<0.35>_words<5>_length<250>', 'step<0.36>_words<1>_length<150>', 'step<0.36>_words<1>_length<200>', 'step<0.36>_words<1>_length<250>', 'step<0.36>_words<2>_length<150>', 'step<0.36>_words<2>_length<200>', 'step<0.36>_words<2>_length<250>', 'step<0.36>_words<3>_length<150>', 'step<0.36>_words<3>_length<200>', 'step<0.36>_words<3>_length<250>', 'step<0.36>_words<4>_length<150>', 'step<0.36>_words<4>_length<200>', 'step<0.36>_words<4>_length<250>', 'step<0.36>_words<5>_length<150>', 'step<0.36>_words<5>_length<200>', 'step<0.36>_words<5>_length<250>', 'step<0.37>_words<1>_length<150>', 'step<0.37>_words<1>_length<200>', 'step<0.37>_words<1>_length<250>', 'step<0.37>_words<2>_length<150>', 'step<0.37>_words<2>_length<200>', 'step<0.37>_words<2>_length<250>', 'step<0.37>_words<3>_length<150>', 'step<0.37>_words<3>_length<200>', 'step<0.37>_words<3>_length<250>', 'step<0.37>_words<4>_length<150>', 'step<0.37>_words<4>_length<200>', 'step<0.37>_words<4>_length<250>', 'step<0.37>_words<5>_length<150>', 'step<0.37>_words<5>_length<200>', 'step<0.37>_words<5>_length<250>', 'step<0.38>_words<1>_length<150>', 'step<0.38>_words<1>_length<200>', 'step<0.38>_words<1>_length<250>', 'step<0.38>_words<2>_length<150>', 'step<0.38>_words<2>_length<200>', 'step<0.38>_words<2>_length<250>', 'step<0.38>_words<3>_length<150>', 'step<0.38>_words<3>_length<200>', 'step<0.38>_words<3>_length<250>', 'step<0.38>_words<4>_length<150>', 'step<0.38>_words<4>_length<200>', 'step<0.38>_words<4>_length<250>', 'step<0.38>_words<5>_length<150>', 'step<0.38>_words<5>_length<200>', 'step<0.38>_words<5>_length<250>', 'step<0.39>_words<1>_length<150>', 'step<0.39>_words<1>_length<200>', 'step<0.39>_words<1>_length<250>', 'step<0.39>_words<2>_length<150>', 'step<0.39>_words<2>_length<200>', 'step<0.39>_words<2>_length<250>', 'step<0.39>_words<3>_length<150>', 'step<0.39>_words<3>_length<200>', 'step<0.39>_words<3>_length<250>', 'step<0.39>_words<4>_length<150>', 'step<0.39>_words<4>_length<200>', 'step<0.39>_words<4>_length<250>', 'step<0.39>_words<5>_length<150>', 'step<0.39>_words<5>_length<200>', 'step<0.39>_words<5>_length<250>', 'step<0.4>_words<1>_length<150>', 'step<0.4>_words<1>_length<200>', 'step<0.4>_words<1>_length<250>', 'step<0.4>_words<2>_length<150>', 'step<0.4>_words<2>_length<200>', 'step<0.4>_words<2>_length<250>', 'step<0.4>_words<3>_length<150>', 'step<0.4>_words<3>_length<200>', 'step<0.4>_words<3>_length<250>', 'step<0.4>_words<4>_length<150>', 'step<0.4>_words<4>_length<200>', 'step<0.4>_words<4>_length<250>', 'step<0.4>_words<5>_length<150>', 'step<0.4>_words<5>_length<200>', 'step<0.4>_words<5>_length<250>', 'step<0.41>_words<1>_length<150>', 'step<0.41>_words<1>_length<200>', 'step<0.41>_words<1>_length<250>', 'step<0.41>_words<2>_length<150>', 'step<0.41>_words<2>_length<200>', 'step<0.41>_words<2>_length<250>', 'step<0.41>_words<3>_length<150>', 'step<0.41>_words<3>_length<200>', 'step<0.41>_words<3>_length<250>', 'step<0.41>_words<4>_length<150>', 'step<0.41>_words<4>_length<200>', 'step<0.41>_words<4>_length<250>', 'step<0.41>_words<5>_length<150>', 'step<0.41>_words<5>_length<200>', 'step<0.41>_words<5>_length<250>', 'step<0.42>_words<1>_length<150>', 'step<0.42>_words<1>_length<200>', 'step<0.42>_words<1>_length<250>', 'step<0.42>_words<2>_length<150>', 'step<0.42>_words<2>_length<200>', 'step<0.42>_words<2>_length<250>', 'step<0.42>_words<3>_length<150>', 'step<0.42>_words<3>_length<200>', 'step<0.42>_words<3>_length<250>', 'step<0.42>_words<4>_length<150>', 'step<0.42>_words<4>_length<200>', 'step<0.42>_words<4>_length<250>', 'step<0.42>_words<5>_length<150>', 'step<0.42>_words<5>_length<200>', 'step<0.42>_words<5>_length<250>', 'step<0.43>_words<1>_length<150>', 'step<0.43>_words<1>_length<200>', 'step<0.43>_words<1>_length<250>', 'step<0.43>_words<2>_length<150>', 'step<0.43>_words<2>_length<200>', 'step<0.43>_words<2>_length<250>', 'step<0.43>_words<3>_length<150>', 'step<0.43>_words<3>_length<200>', 'step<0.43>_words<3>_length<250>', 'step<0.43>_words<4>_length<150>', 'step<0.43>_words<4>_length<200>', 'step<0.43>_words<4>_length<250>', 'step<0.43>_words<5>_length<150>', 'step<0.43>_words<5>_length<200>', 'step<0.43>_words<5>_length<250>', 'step<0.44>_words<1>_length<150>', 'step<0.44>_words<1>_length<200>', 'step<0.44>_words<1>_length<250>', 'step<0.44>_words<2>_length<150>', 'step<0.44>_words<2>_length<200>', 'step<0.44>_words<2>_length<250>', 'step<0.44>_words<3>_length<150>', 'step<0.44>_words<3>_length<200>', 'step<0.44>_words<3>_length<250>', 'step<0.44>_words<4>_length<150>', 'step<0.44>_words<4>_length<200>', 'step<0.44>_words<4>_length<250>', 'step<0.44>_words<5>_length<150>', 'step<0.44>_words<5>_length<200>', 'step<0.44>_words<5>_length<250>', 'step<0.45>_words<1>_length<150>', 'step<0.45>_words<1>_length<200>', 'step<0.45>_words<1>_length<250>', 'step<0.45>_words<2>_length<150>', 'step<0.45>_words<2>_length<200>', 'step<0.45>_words<2>_length<250>', 'step<0.45>_words<3>_length<150>', 'step<0.45>_words<3>_length<200>', 'step<0.45>_words<3>_length<250>', 'step<0.45>_words<4>_length<150>', 'step<0.45>_words<4>_length<200>', 'step<0.45>_words<4>_length<250>', 'step<0.45>_words<5>_length<150>', 'step<0.45>_words<5>_length<200>', 'step<0.45>_words<5>_length<250>', 'step<0.46>_words<1>_length<150>', 'step<0.46>_words<1>_length<200>', 'step<0.46>_words<1>_length<250>', 'step<0.46>_words<2>_length<150>', 'step<0.46>_words<2>_length<200>', 'step<0.46>_words<2>_length<250>', 'step<0.46>_words<3>_length<150>', 'step<0.46>_words<3>_length<200>', 'step<0.46>_words<3>_length<250>', 'step<0.46>_words<4>_length<150>', 'step<0.46>_words<4>_length<200>', 'step<0.46>_words<4>_length<250>', 'step<0.46>_words<5>_length<150>', 'step<0.46>_words<5>_length<200>', 'step<0.46>_words<5>_length<250>', 'step<0.47>_words<1>_length<150>', 'step<0.47>_words<1>_length<200>', 'step<0.47>_words<1>_length<250>', 'step<0.47>_words<2>_length<150>', 'step<0.47>_words<2>_length<200>', 'step<0.47>_words<2>_length<250>', 'step<0.47>_words<3>_length<150>', 'step<0.47>_words<3>_length<200>', 'step<0.47>_words<3>_length<250>', 'step<0.47>_words<4>_length<150>', 'step<0.47>_words<4>_length<200>', 'step<0.47>_words<4>_length<250>', 'step<0.47>_words<5>_length<150>', 'step<0.47>_words<5>_length<200>', 'step<0.47>_words<5>_length<250>', 'step<0.48>_words<1>_length<150>', 'step<0.48>_words<1>_length<200>', 'step<0.48>_words<1>_length<250>', 'step<0.48>_words<2>_length<150>', 'step<0.48>_words<2>_length<200>', 'step<0.48>_words<2>_length<250>', 'step<0.48>_words<3>_length<150>', 'step<0.48>_words<3>_length<200>', 'step<0.48>_words<3>_length<250>', 'step<0.48>_words<4>_length<150>', 'step<0.48>_words<4>_length<200>', 'step<0.48>_words<4>_length<250>', 'step<0.48>_words<5>_length<150>', 'step<0.48>_words<5>_length<200>', 'step<0.48>_words<5>_length<250>', 'step<0.49>_words<1>_length<150>', 'step<0.49>_words<1>_length<200>', 'step<0.49>_words<1>_length<250>', 'step<0.49>_words<2>_length<150>', 'step<0.49>_words<2>_length<200>', 'step<0.49>_words<2>_length<250>', 'step<0.49>_words<3>_length<150>', 'step<0.49>_words<3>_length<200>', 'step<0.49>_words<3>_length<250>', 'step<0.49>_words<4>_length<150>', 'step<0.49>_words<4>_length<200>', 'step<0.49>_words<4>_length<250>', 'step<0.49>_words<5>_length<150>', 'step<0.49>_words<5>_length<200>', 'step<0.49>_words<5>_length<250>']\n"
     ]
    }
   ],
   "source": [
    "print(list(step_roc_dict))"
   ]
  },
  {
   "cell_type": "code",
   "execution_count": 472,
   "metadata": {},
   "outputs": [
    {
     "name": "stderr",
     "output_type": "stream",
     "text": [
      "100%|██████████| 8/8 [00:28<00:00,  3.58s/it]\n"
     ]
    }
   ],
   "source": [
    "for i in tqdm(range(1, len(step_roc_dict), 100)):\n",
    "    #print(i)\n",
    "    m = re.search('step<(.+?)>_words<(.+?)>_length<(.+?)>', list(step_roc_dict)[i])\n",
    "    step, words, length = m.group(1), m.group(2), m.group(3)\n",
    "    \n",
    "    #print(step, words, length)\n",
    "    sub_w_rule = submission.merge(test[['id','comment_text_cleaned','word_count']],on='id')\n",
    "    toxic_words = toxic_words_poll_reordered[:int(words)+1]\n",
    "    \n",
    "    sub_w_rule['toxic_word_exist'] = sub_w_rule['comment_text_cleaned'].apply(lambda x: toxic_words_detector(toxic_words, x))            \n",
    "    #print('{} \\t comments containing any toxic words.'.format(sum(sub_w_rule['toxic_word_exist'])))\n",
    "    \n",
    "    sub_w_rule['toxic'] = sub_w_rule.apply(lambda r: r.toxic+float(step) if r.toxic_word_exist and r.word_count < int(length) else r.toxic, axis=1)\n",
    "    \n",
    "    sub_final = sub_w_rule.drop(['comment_text_cleaned','toxic_word_exist','word_count'], axis=1)\n",
    "    assert sub_final.shape == submission.shape\n",
    "    \n",
    "    import time\n",
    "    BUILD_ID = '{}_{}_{}_{}'.format(step, words, length, int(time.time()))\n",
    "    sub_final.to_csv('/home/kai/data/shiyi/toxic/submissions/sub_w_rule_' + str(BUILD_ID) + '.csv', index=False)"
   ]
  },
  {
   "cell_type": "code",
   "execution_count": 433,
   "metadata": {},
   "outputs": [
    {
     "data": {
      "text/plain": [
       "(19581, 108561)"
      ]
     },
     "execution_count": 433,
     "metadata": {},
     "output_type": "execute_result"
    }
   ],
   "source": [
    "sum(sub_w_rule.toxic>0.9), sum(sub_w_rule.toxic<0.1)"
   ]
  },
  {
   "cell_type": "code",
   "execution_count": 434,
   "metadata": {},
   "outputs": [
    {
     "data": {
      "text/plain": [
       "(19578, 108561)"
      ]
     },
     "execution_count": 434,
     "metadata": {},
     "output_type": "execute_result"
    }
   ],
   "source": [
    "sum(submission.toxic>0.9), sum(submission.toxic<0.1)"
   ]
  },
  {
   "cell_type": "code",
   "execution_count": 435,
   "metadata": {},
   "outputs": [
    {
     "data": {
      "text/plain": [
       "Index(['id', 'toxic', 'severe_toxic', 'obscene', 'threat', 'insult',\n",
       "       'identity_hate', 'comment_text_cleaned', 'word_count',\n",
       "       'toxic_word_exist'],\n",
       "      dtype='object')"
      ]
     },
     "execution_count": 435,
     "metadata": {},
     "output_type": "execute_result"
    }
   ],
   "source": [
    "sub_w_rule.columns"
   ]
  },
  {
   "cell_type": "code",
   "execution_count": null,
   "metadata": {
    "collapsed": true
   },
   "outputs": [],
   "source": []
  },
  {
   "cell_type": "code",
   "execution_count": null,
   "metadata": {
    "collapsed": true
   },
   "outputs": [],
   "source": []
  },
  {
   "cell_type": "code",
   "execution_count": null,
   "metadata": {
    "collapsed": true
   },
   "outputs": [],
   "source": []
  },
  {
   "cell_type": "code",
   "execution_count": null,
   "metadata": {
    "collapsed": true
   },
   "outputs": [],
   "source": []
  },
  {
   "cell_type": "code",
   "execution_count": null,
   "metadata": {
    "collapsed": true
   },
   "outputs": [],
   "source": []
  },
  {
   "cell_type": "code",
   "execution_count": 369,
   "metadata": {},
   "outputs": [
    {
     "data": {
      "text/plain": [
       "(15958, 27)"
      ]
     },
     "execution_count": 369,
     "metadata": {},
     "output_type": "execute_result"
    }
   ],
   "source": [
    "val_table = train[index_to_split:]\n",
    "val_table.shape"
   ]
  },
  {
   "cell_type": "code",
   "execution_count": 10,
   "metadata": {},
   "outputs": [
    {
     "name": "stdout",
     "output_type": "stream",
     "text": [
      "(15958, 6)\n"
     ]
    },
    {
     "data": {
      "text/html": [
       "<div>\n",
       "<style>\n",
       "    .dataframe thead tr:only-child th {\n",
       "        text-align: right;\n",
       "    }\n",
       "\n",
       "    .dataframe thead th {\n",
       "        text-align: left;\n",
       "    }\n",
       "\n",
       "    .dataframe tbody tr th {\n",
       "        vertical-align: top;\n",
       "    }\n",
       "</style>\n",
       "<table border=\"1\" class=\"dataframe\">\n",
       "  <thead>\n",
       "    <tr style=\"text-align: right;\">\n",
       "      <th></th>\n",
       "      <th>toxic_p</th>\n",
       "      <th>severe_toxic_p</th>\n",
       "      <th>obscene_p</th>\n",
       "      <th>threat_p</th>\n",
       "      <th>insult_p</th>\n",
       "      <th>identity_hate_p</th>\n",
       "    </tr>\n",
       "  </thead>\n",
       "  <tbody>\n",
       "    <tr>\n",
       "      <th>0</th>\n",
       "      <td>0.0</td>\n",
       "      <td>0.0</td>\n",
       "      <td>0.0</td>\n",
       "      <td>0.0</td>\n",
       "      <td>0.0</td>\n",
       "      <td>0.0</td>\n",
       "    </tr>\n",
       "    <tr>\n",
       "      <th>1</th>\n",
       "      <td>0.0</td>\n",
       "      <td>0.0</td>\n",
       "      <td>0.0</td>\n",
       "      <td>0.0</td>\n",
       "      <td>0.0</td>\n",
       "      <td>0.0</td>\n",
       "    </tr>\n",
       "    <tr>\n",
       "      <th>2</th>\n",
       "      <td>0.0</td>\n",
       "      <td>0.0</td>\n",
       "      <td>0.0</td>\n",
       "      <td>0.0</td>\n",
       "      <td>0.0</td>\n",
       "      <td>0.0</td>\n",
       "    </tr>\n",
       "    <tr>\n",
       "      <th>3</th>\n",
       "      <td>0.0</td>\n",
       "      <td>0.0</td>\n",
       "      <td>0.0</td>\n",
       "      <td>0.0</td>\n",
       "      <td>0.0</td>\n",
       "      <td>0.0</td>\n",
       "    </tr>\n",
       "    <tr>\n",
       "      <th>4</th>\n",
       "      <td>0.0</td>\n",
       "      <td>0.0</td>\n",
       "      <td>0.0</td>\n",
       "      <td>0.0</td>\n",
       "      <td>0.0</td>\n",
       "      <td>0.0</td>\n",
       "    </tr>\n",
       "  </tbody>\n",
       "</table>\n",
       "</div>"
      ],
      "text/plain": [
       "   toxic_p  severe_toxic_p  obscene_p  threat_p  insult_p  identity_hate_p\n",
       "0      0.0             0.0        0.0       0.0       0.0              0.0\n",
       "1      0.0             0.0        0.0       0.0       0.0              0.0\n",
       "2      0.0             0.0        0.0       0.0       0.0              0.0\n",
       "3      0.0             0.0        0.0       0.0       0.0              0.0\n",
       "4      0.0             0.0        0.0       0.0       0.0              0.0"
      ]
     },
     "execution_count": 10,
     "metadata": {},
     "output_type": "execute_result"
    }
   ],
   "source": [
    "print(val_preds.shape)\n",
    "val_preds_pd = pd.DataFrame(val_preds, columns=[col+'_p' for col in label_cols])\n",
    "val_preds_pd.head()"
   ]
  },
  {
   "cell_type": "code",
   "execution_count": 11,
   "metadata": {},
   "outputs": [
    {
     "data": {
      "text/plain": [
       "(15958, 34)"
      ]
     },
     "execution_count": 11,
     "metadata": {},
     "output_type": "execute_result"
    }
   ],
   "source": [
    "val_check = pd.concat([val_table.reset_index(), val_preds_pd], axis=1)\n",
    "val_check.shape"
   ]
  },
  {
   "cell_type": "code",
   "execution_count": null,
   "metadata": {
    "collapsed": true
   },
   "outputs": [],
   "source": []
  },
  {
   "cell_type": "code",
   "execution_count": 370,
   "metadata": {},
   "outputs": [
    {
     "name": "stdout",
     "output_type": "stream",
     "text": [
      "(15958,)\n"
     ]
    },
    {
     "data": {
      "text/html": [
       "<div>\n",
       "<style>\n",
       "    .dataframe thead tr:only-child th {\n",
       "        text-align: right;\n",
       "    }\n",
       "\n",
       "    .dataframe thead th {\n",
       "        text-align: left;\n",
       "    }\n",
       "\n",
       "    .dataframe tbody tr th {\n",
       "        vertical-align: top;\n",
       "    }\n",
       "</style>\n",
       "<table border=\"1\" class=\"dataframe\">\n",
       "  <thead>\n",
       "    <tr style=\"text-align: right;\">\n",
       "      <th></th>\n",
       "      <th>toxic_p</th>\n",
       "    </tr>\n",
       "  </thead>\n",
       "  <tbody>\n",
       "    <tr>\n",
       "      <th>0</th>\n",
       "      <td>0.035369</td>\n",
       "    </tr>\n",
       "    <tr>\n",
       "      <th>1</th>\n",
       "      <td>0.014648</td>\n",
       "    </tr>\n",
       "    <tr>\n",
       "      <th>2</th>\n",
       "      <td>0.190522</td>\n",
       "    </tr>\n",
       "    <tr>\n",
       "      <th>3</th>\n",
       "      <td>0.005046</td>\n",
       "    </tr>\n",
       "    <tr>\n",
       "      <th>4</th>\n",
       "      <td>0.015192</td>\n",
       "    </tr>\n",
       "  </tbody>\n",
       "</table>\n",
       "</div>"
      ],
      "text/plain": [
       "    toxic_p\n",
       "0  0.035369\n",
       "1  0.014648\n",
       "2  0.190522\n",
       "3  0.005046\n",
       "4  0.015192"
      ]
     },
     "execution_count": 370,
     "metadata": {},
     "output_type": "execute_result"
    }
   ],
   "source": [
    "print(val_prob.shape)\n",
    "val_prob_pd = pd.DataFrame(val_prob, columns=['toxic_p'])\n",
    "val_prob_pd.head()"
   ]
  },
  {
   "cell_type": "code",
   "execution_count": 371,
   "metadata": {},
   "outputs": [
    {
     "data": {
      "text/plain": [
       "(15958, 29)"
      ]
     },
     "execution_count": 371,
     "metadata": {},
     "output_type": "execute_result"
    }
   ],
   "source": [
    "val_check_prob = pd.concat([val_table.reset_index(), val_prob_pd], axis=1)\n",
    "val_check_prob.shape"
   ]
  },
  {
   "cell_type": "code",
   "execution_count": null,
   "metadata": {
    "collapsed": true
   },
   "outputs": [],
   "source": []
  },
  {
   "cell_type": "code",
   "execution_count": 52,
   "metadata": {
    "collapsed": true
   },
   "outputs": [],
   "source": [
    "from sklearn.metrics import confusion_matrix"
   ]
  },
  {
   "cell_type": "code",
   "execution_count": 142,
   "metadata": {
    "collapsed": true
   },
   "outputs": [],
   "source": [
    "# 0.85612811958451318  is the original val set auc(based on prediction, not raw prob)\n",
    "# tpr = 0.7200259235255995\n",
    "# fpr = 0.007769684356573014\n",
    "# confusion matrix:\n",
    "# array([[14303,   112],\n",
    "#        [  432,  1111]])"
   ]
  },
  {
   "cell_type": "code",
   "execution_count": null,
   "metadata": {
    "collapsed": true
   },
   "outputs": [],
   "source": []
  },
  {
   "cell_type": "code",
   "execution_count": 16,
   "metadata": {
    "collapsed": true
   },
   "outputs": [],
   "source": [
    "val_check['toxic_pred'] = np.where(val_check['toxic']==val_check['toxic_p'],True, False)"
   ]
  },
  {
   "cell_type": "code",
   "execution_count": 17,
   "metadata": {},
   "outputs": [
    {
     "data": {
      "text/plain": [
       "True     15414\n",
       "False      544\n",
       "Name: toxic_pred, dtype: int64"
      ]
     },
     "execution_count": 17,
     "metadata": {},
     "output_type": "execute_result"
    }
   ],
   "source": [
    "val_check['toxic_pred'].value_counts()"
   ]
  },
  {
   "cell_type": "code",
   "execution_count": 14,
   "metadata": {},
   "outputs": [
    {
     "data": {
      "text/plain": [
       "0.034089484897856875"
      ]
     },
     "execution_count": 14,
     "metadata": {},
     "output_type": "execute_result"
    }
   ],
   "source": [
    "544/15958"
   ]
  },
  {
   "cell_type": "code",
   "execution_count": 37,
   "metadata": {
    "collapsed": true
   },
   "outputs": [],
   "source": [
    "val_check[val_check['toxic_pred']==False][['toxic','toxic_p','comment_text']].to_csv('/home/kai/data/shiyi/toxic/nbsvm_toxic_predict_wrong.csv',index=False)"
   ]
  },
  {
   "cell_type": "code",
   "execution_count": 38,
   "metadata": {
    "collapsed": true
   },
   "outputs": [],
   "source": [
    "val_check[val_check['toxic_pred']==True][['toxic','toxic_p','comment_text']].to_csv('/home/kai/data/shiyi/toxic/nbsvm_toxic_predict_right.csv',index=False)"
   ]
  },
  {
   "cell_type": "code",
   "execution_count": 39,
   "metadata": {
    "collapsed": true
   },
   "outputs": [],
   "source": [
    "pd.set_option('display.max_colwidth', -1)"
   ]
  },
  {
   "cell_type": "code",
   "execution_count": 97,
   "metadata": {
    "collapsed": true
   },
   "outputs": [],
   "source": [
    "def toxic_words_detector(toxic_words, comment):\n",
    "    for w in toxic_words:\n",
    "        if w in comment:\n",
    "            return True\n",
    "    return False"
   ]
  },
  {
   "cell_type": "code",
   "execution_count": 229,
   "metadata": {
    "collapsed": true
   },
   "outputs": [],
   "source": [
    "def count_1s_and_0s_in_pred(preds, th):\n",
    "    count_1 = 0\n",
    "    count_0 = 0\n",
    "    for i, pred in enumerate(list(preds)):\n",
    "        if pred>=th:\n",
    "            count_1+=1\n",
    "        else:\n",
    "            count_0+=1\n",
    "    return count_1, count_0"
   ]
  },
  {
   "cell_type": "markdown",
   "metadata": {},
   "source": [
    "train['toxic_word_exist'] = train['comment_text_cleaned'].apply(lambda x: toxic_words_detector(toxic_words, x))\n",
    "print('{} \\t comments containing any toxic words.'.format(sum(train['toxic_word_exist'])))\n",
    "print('{} \\t comments containing any toxic words but not labeled as toxic'.format(train[(train['toxic_word_exist'])&(train['toxic']==0)].shape[0]))"
   ]
  },
  {
   "cell_type": "code",
   "execution_count": null,
   "metadata": {
    "collapsed": true
   },
   "outputs": [],
   "source": [
    "print(toxic_words)\n",
    "val_check['toxic_word_exist'] = val_check['comment_text_cleaned'].apply(lambda x: toxic_words_detector(toxic_words, x))\n",
    "print('{} \\t comments containing any toxic words.'.format(sum(val_check['toxic_word_exist'])))\n",
    "print('{} \\t comments containing any toxic words but not labeled as toxic'.format(val_check[(val_check['toxic_word_exist'])&(val_check['toxic']==0)].shape[0]))\n",
    "print('# of 1s and 0s before applying rule')\n",
    "print(count_1s_and_0s_in_pred(val_check.toxic_p, 1)) # 1223, 14735 before consider toxic words exist\n",
    "val_check['toxic_p'] = val_check.apply(lambda r: 1 if r.toxic_word_exist else r.toxic_p, axis=1)\n",
    "print('# of 1s and 0s after applying rule')\n",
    "print(count_1s_and_0s_in_pred(val_check.toxic_p, 1))\n",
    "print('confusion matrix')\n",
    "print(confusion_matrix(val_check.toxic.values, val_check.toxic_p.values))\n",
    "fpr, tpr, thresholds = roc_curve(val_check.toxic.values, val_check.toxic_p.values, pos_label=1.0)\n",
    "print('fpr: {0:.4f}, tpr: {1:.4f}'.format(fpr[1], tpr[1]))\n",
    "print('auc: {}'.format(auc(fpr, tpr)))\n",
    "print('acc: {}'.format(accuracy_score(val_check.toxic.values, val_check.toxic_p.values)))\n",
    "print('roc_auc: {}'.format(roc_auc_score(val_check.toxic.values, val_check.toxic_p.values)))"
   ]
  },
  {
   "cell_type": "code",
   "execution_count": 283,
   "metadata": {
    "collapsed": true
   },
   "outputs": [],
   "source": [
    "toxic_words_poll = ['motherfucker', 'crap', 'fuck', 'prick', 'piss', 'hell', 'nerd', 'life', 'sick', 'jerk', 'racist', 'goddamn', 'wtf', 'shove', 'sucker', 'dude', 'motherfucking', 'mom', 'dare', 'stop', 'filthy', 'ignorant', 'fuckhead', 'youre', 'stupid', 'gonna', 'disgust', 'kiss', 'yo', 'get', 'pathetic', 'stupidity', 'liar', 'queer', 'fuk', 'bitch', 'retard', 'arsehole', 'screw', 'turd', 'suck', 'little', 'anus', 'stink', 'hole', 'dick', 'fuckwit', 'fucken', 'quit', 'scumbag', 'asshole', 'wank', 'fucktard', 'smelly', 'idiotic', 'jackass', 'sad', 'mother', 'wanna', 'disgrace', 'ya', 'cum', 'maggot', 'basement', 'lame', 'idiot', 'nazi', 'bunch', 'cking', 'ha', 'dumb', 'ban', 'go', 'hypocrite', 'commie', 'monkey', 'arrogant', 'butt', 'garbage', 'burn', 'homosexual', 'cant', 'cunt', 'stfu', 'douchebag', 'fuckface', 'bastard', 'cuz', 'stinky', 'masturbate', 'mommy', 'thats', 'clown', 'ever', 'hoe', 'pervert', 'man', 'laugh', 'bully', 'scumbags']"
   ]
  },
  {
   "cell_type": "code",
   "execution_count": 274,
   "metadata": {
    "collapsed": true
   },
   "outputs": [],
   "source": [
    "toxic_words = toxic_words_poll[:10] # ['shit']#,'swine','niggers', 'niggers', 'stupid', 'dick', 'cunt']"
   ]
  },
  {
   "cell_type": "code",
   "execution_count": 265,
   "metadata": {},
   "outputs": [
    {
     "name": "stdout",
     "output_type": "stream",
     "text": [
      "['motherfucker', 'crap', 'fuck', 'prick', 'piss', 'hell', 'nerd', 'life', 'sick', 'jerk']\n"
     ]
    }
   ],
   "source": [
    "print(toxic_words)\n",
    "val_check_prob['toxic_word_exist'] = val_check_prob['comment_text_cleaned'].apply(lambda x: toxic_words_detector(toxic_words, x))"
   ]
  },
  {
   "cell_type": "code",
   "execution_count": 310,
   "metadata": {},
   "outputs": [
    {
     "name": "stdout",
     "output_type": "stream",
     "text": [
      "0.0 \t= \t0/6\n",
      "0.0 \t= \t0/9\n",
      "0.0 \t= \t0/10\n",
      "0.0 \t= \t0/30\n",
      "0.0 \t= \t0/35\n",
      "0.0 \t= \t0/36\n",
      "0.06864988558352403 \t= \t30/437\n",
      "0.06864988558352403 \t= \t30/437\n",
      "0.08085106382978724 \t= \t38/470\n",
      "0.087890625 \t= \t45/512\n",
      "0.08687258687258688 \t= \t45/518\n",
      "0.09276437847866419 \t= \t50/539\n",
      "0.09259259259259259 \t= \t50/540\n",
      "0.10383386581469649 \t= \t65/626\n",
      "0.1035031847133758 \t= \t65/628\n",
      "0.10333863275039745 \t= \t65/629\n",
      "0.10476190476190476 \t= \t66/630\n",
      "0.11059907834101383 \t= \t72/651\n",
      "0.11280487804878049 \t= \t74/656\n",
      "0.11280487804878049 \t= \t74/656\n",
      "0.11596385542168675 \t= \t77/664\n",
      "0.11544227886056972 \t= \t77/667\n",
      "0.12223858615611193 \t= \t83/679\n",
      "0.1259150805270864 \t= \t86/683\n",
      "0.15240641711229946 \t= \t114/748\n",
      "0.163659793814433 \t= \t127/776\n",
      "0.16560509554140126 \t= \t130/785\n",
      "0.16750629722921914 \t= \t133/794\n",
      "0.19069239500567536 \t= \t168/881\n",
      "0.19047619047619047 \t= \t168/882\n",
      "0.1919191919191919 \t= \t171/891\n",
      "0.21244635193133046 \t= \t198/932\n",
      "0.21321961620469082 \t= \t200/938\n",
      "0.2554194156456173 \t= \t271/1061\n",
      "0.2608695652173913 \t= \t282/1081\n",
      "0.26916058394160586 \t= \t295/1096\n",
      "0.2752707581227437 \t= \t305/1108\n",
      "0.2807017543859649 \t= \t320/1140\n",
      "0.28059440559440557 \t= \t321/1144\n",
      "0.28247602441150826 \t= \t324/1147\n",
      "0.28422876949740034 \t= \t328/1154\n",
      "0.28949615713065757 \t= \t339/1171\n",
      "0.2947103274559194 \t= \t351/1191\n",
      "0.30620467365028203 \t= \t380/1241\n",
      "0.30726256983240224 \t= \t385/1253\n",
      "0.3078149920255183 \t= \t386/1254\n",
      "0.3089171974522293 \t= \t388/1256\n",
      "0.3371212121212121 \t= \t445/1320\n",
      "0.3398643556895252 \t= \t451/1327\n",
      "0.3398643556895252 \t= \t451/1327\n"
     ]
    }
   ],
   "source": [
    "toxic_word_dict = {}\n",
    "\n",
    "for i in range(50):\n",
    "#     toxic_words = toxic_words_poll[i]\n",
    "#     print(toxic_words)\n",
    "#     train['toxic_word_exist'] = train['comment_text_cleaned'].apply(lambda x: toxic_words_detector([toxic_words], x))\n",
    "\n",
    "    toxic_words = toxic_words_poll_reordered[:i+1]\n",
    "    #print(toxic_words)\n",
    "    val_check_prob['toxic_word_exist'] = val_check_prob['comment_text_cleaned'].apply(lambda x: toxic_words_detector(toxic_words, x))\n",
    "    \n",
    "    total_contain = sum(val_check_prob['toxic_word_exist'])\n",
    "    contain_but_not_toxic = val_check_prob[(val_check_prob['toxic_word_exist'])&(val_check_prob['toxic']==0)].shape[0]\n",
    "    not_toxic_ratio_contain = contain_but_not_toxic/total_contain\n",
    "    \n",
    "    #toxic_word_dict[toxic_words] = not_toxic_ratio_contain#'{}/{}'.format(contain_but_not_toxic, total_contain)\n",
    "    print('{} \\t= \\t{}/{}'.format(not_toxic_ratio_contain, contain_but_not_toxic, total_contain))\n",
    "    #print('{} \\t comments containing any toxic word.'.format(total_contain))\n",
    "    #print('{} \\t comments containing any toxic word but not labeled as toxic'.format(contain_but_not_toxic))\n"
   ]
  },
  {
   "cell_type": "code",
   "execution_count": 311,
   "metadata": {
    "collapsed": true
   },
   "outputs": [],
   "source": [
    "toxic_words = toxic_words_poll_reordered[:10]\n",
    "val_check_prob['toxic_word_exist'] = val_check_prob['comment_text_cleaned'].apply(lambda x: toxic_words_detector(toxic_words, x))\n",
    "total_contain = sum(val_check_prob['toxic_word_exist'])\n",
    "contain_but_not_toxic = val_check_prob[(val_check_prob['toxic_word_exist'])&(val_check_prob['toxic']==0)].shape[0]\n",
    "not_toxic_ratio_contain = contain_but_not_toxic/total_contain\n",
    "    "
   ]
  },
  {
   "cell_type": "code",
   "execution_count": 476,
   "metadata": {},
   "outputs": [
    {
     "name": "stdout",
     "output_type": "stream",
     "text": [
      "['motherfucking', 'fuckhead', 'fuckface', 'motherfucker', 'fucken', 'fucktard', 'fuck', 'fuckwit', 'asshole', 'bitch', 'sucker', 'cunt', 'arsehole', 'suck', 'stinky', 'scumbags', 'smelly', 'bastard', 'goddamn', 'maggot', 'wank', 'douchebag', 'fuk', 'scumbag', 'dick', 'retard', 'prick', 'filthy', 'idiot', 'masturbate', 'jackass', 'dumb', 'queer', 'stupid', 'nerd', 'cking', 'shove', 'jerk', 'stink', 'mommy', 'youre', 'wtf', 'piss', 'pathetic', 'hypocrite', 'commie', 'stfu', 'mother', 'basement', 'stupidity', 'kiss', 'idiotic', 'pervert', 'clown', 'crap', 'disgust', 'disgrace', 'cuz', 'sick', 'homosexual', 'screw', 'racist', 'gonna', 'garbage', 'monkey', 'ignorant', 'wanna', 'dare', 'dude', 'arrogant', 'nazi', 'anus', 'bunch', 'hole', 'burn', 'bully', 'life', 'turd', 'thats', 'laugh', 'butt', 'lame', 'stop', 'little', 'hoe', 'mom', 'sad', 'hell', 'yo', 'liar', 'get', 'ban', 'go', 'ya', 'cum', 'cant', 'ever', 'quit', 'ha', 'man']\n"
     ]
    }
   ],
   "source": [
    "print(toxic_words_poll_reordered)"
   ]
  },
  {
   "cell_type": "code",
   "execution_count": 317,
   "metadata": {},
   "outputs": [
    {
     "name": "stdout",
     "output_type": "stream",
     "text": [
      "['motherfucking', 'fuckhead', 'fuckface', 'motherfucker', 'fucken', 'fucktard', 'fuck', 'fuckwit', 'asshole', 'bitch']\n"
     ]
    }
   ],
   "source": [
    "print(toxic_words)"
   ]
  },
  {
   "cell_type": "code",
   "execution_count": 325,
   "metadata": {},
   "outputs": [
    {
     "data": {
      "text/html": [
       "<div>\n",
       "<style>\n",
       "    .dataframe thead tr:only-child th {\n",
       "        text-align: right;\n",
       "    }\n",
       "\n",
       "    .dataframe thead th {\n",
       "        text-align: left;\n",
       "    }\n",
       "\n",
       "    .dataframe tbody tr th {\n",
       "        vertical-align: top;\n",
       "    }\n",
       "</style>\n",
       "<table border=\"1\" class=\"dataframe\">\n",
       "  <thead>\n",
       "    <tr style=\"text-align: right;\">\n",
       "      <th></th>\n",
       "      <th>comment_text</th>\n",
       "      <th>word_count</th>\n",
       "      <th>toxic_word_exist</th>\n",
       "      <th>toxic</th>\n",
       "      <th>toxic_p</th>\n",
       "    </tr>\n",
       "  </thead>\n",
       "  <tbody>\n",
       "    <tr>\n",
       "      <th>1592</th>\n",
       "      <td>Man, why are you so angry? That word (FUCKING) which you posted on my talk page was REALLY UNNECESSARY! With that kind of words, I must say that you are completely unable to cooperate with other users on WP. I'll wont post new messages to you, nor I'll respond to yours, because I didn't came to WP to be insulted, but to improve articles. As for stubbornness, it's also one of my characteristics, so if you want to engage in an edit war with me, I'm here!</td>\n",
       "      <td>87</td>\n",
       "      <td>True</td>\n",
       "      <td>0</td>\n",
       "      <td>0.489867</td>\n",
       "    </tr>\n",
       "    <tr>\n",
       "      <th>2201</th>\n",
       "      <td>\"For those who want to bitch about me any behaviour ih which they dont like which seem to be so distruptive to wikipedia, or if you want to see personal attacks and uncivil behaviour made and condone by admins and the fellow supporters, like  (talk???contribs), you can see a comment he made here, or by the person that blocked me  (talk???contribs) here please go to WP:AN#Boothy443_Indef._blocked, and that goes for admins and non admins. Also if youy want to bitch about me in another public forum, go to here Wikipedia:Requests for comment/Boothy443, but dont expect a responce from me, as i dont see the effectness of displaying ones opinions on other usesr as being any bit of constructive in buliding an Encylopedia. It should aslo be know that i have been put behind an indefiendt block, imposed by one adminstrator Jtkiefer that has less to do with policy violiations is is just a way to supress me for as i see it, not playing by their \"\"rules\"\", or to put it, falling in line like a good Wikipedian, and that i called out an admin  (talk???contribs) for what i percived as his biased enforcment of a 3rr block on the pages , Philadelphia County, Pennsylvania, Philadelphia, Pennsylvania, Category:Philadelphia County, Pennsylvania, i which i will freely admit that i did, in order to keep as i see it the \"\"concensus\"\", what ever that word means, of the editors on the pages in question that their was to be no merge of the artciles or categoreies at present that was trying to be forced by  (talk???contribs), and an exam of his comments on talk:Philadelphia, Pennsylvania as compared to his comments on Wikipedia:Mediation_Cabal#Philadelphia_County_and_other_Philadelphia_Pages only show that he is pushing for a merge, but that  (talk???contribs) also violated the 3rr on the page as well after he was blocked by using two anon accounts  (talk???contribs) and  (talk???contribs), yet neiter were blocked by  (talk???contribs) nor was the block on  (talk???contribs) extended an addation 48 hours, yes thats right 48 not 24 an arbitatry decision and another reason in which i belive that no admin be alowed to block a user for over 24 hours with out arbcom decison and even then i am not sure that they should. And also that he,  (talk???contribs), posted a comment for  (talk???contribs) on the Wikipedia:Mediation_Cabal#Philadelphia_County_and_other_Philadelphia_Pages, why couldnt  (talk???contribs) waith tthe 48 hours like he was supposed to to post his comments, which to me would show that their is a question of the impartiality of  (talk???contribs) becuase of his actions. I did email him, and in what could be construed as a nasty letter, to  (talk???contribs) in which i told him that i do belive that he biased in his actions that that i was considering further action aginst him in the matter, with the possibility of releaving his of his adminstrative pridvlidges. His reaction was to increast the length of my block to addational 72 hours, which i can only see as a supression of any pending action agnist him, i would really not be supprised to know if he confired with  (talk???contribs) off site which would lead to [[User:Jtkiefer|Jt</td>\n",
       "      <td>552</td>\n",
       "      <td>True</td>\n",
       "      <td>0</td>\n",
       "      <td>0.010364</td>\n",
       "    </tr>\n",
       "  </tbody>\n",
       "</table>\n",
       "</div>"
      ],
      "text/plain": [
       "                                                                                                                                                                                                                                                                                                                                                                                                                                                                                                                                                                                                                                                                                                                                                                                                                                                                                                                                                                                                                                                                                                                                                                                                                                                                                                                                                                                                                                                                                                                                                                                                                                                                                                                                                                                                                                                                                                                                                                                                                                                                                                                                                                                                                                                                                                                                                                                                                                                                                                                                                                                                                                                                                                                                                                                                                                                                                                                                                                                                                                                                                                                                                                                                                                                                                        comment_text  \\\n",
       "1592  Man, why are you so angry? That word (FUCKING) which you posted on my talk page was REALLY UNNECESSARY! With that kind of words, I must say that you are completely unable to cooperate with other users on WP. I'll wont post new messages to you, nor I'll respond to yours, because I didn't came to WP to be insulted, but to improve articles. As for stubbornness, it's also one of my characteristics, so if you want to engage in an edit war with me, I'm here!                                                                                                                                                                                                                                                                                                                                                                                                                                                                                                                                                                                                                                                                                                                                                                                                                                                                                                                                                                                                                                                                                                                                                                                                                                                                                                                                                                                                                                                                                                                                                                                                                                                                                                                                                                                                                                                                                                                                                                                                                                                                                                                                                                                                                                                                                                                                                                                                                                                                                                                                                                                                                                                                                                                                                                                                                         \n",
       "2201  \"For those who want to bitch about me any behaviour ih which they dont like which seem to be so distruptive to wikipedia, or if you want to see personal attacks and uncivil behaviour made and condone by admins and the fellow supporters, like  (talk???contribs), you can see a comment he made here, or by the person that blocked me  (talk???contribs) here please go to WP:AN#Boothy443_Indef._blocked, and that goes for admins and non admins. Also if youy want to bitch about me in another public forum, go to here Wikipedia:Requests for comment/Boothy443, but dont expect a responce from me, as i dont see the effectness of displaying ones opinions on other usesr as being any bit of constructive in buliding an Encylopedia. It should aslo be know that i have been put behind an indefiendt block, imposed by one adminstrator Jtkiefer that has less to do with policy violiations is is just a way to supress me for as i see it, not playing by their \"\"rules\"\", or to put it, falling in line like a good Wikipedian, and that i called out an admin  (talk???contribs) for what i percived as his biased enforcment of a 3rr block on the pages , Philadelphia County, Pennsylvania, Philadelphia, Pennsylvania, Category:Philadelphia County, Pennsylvania, i which i will freely admit that i did, in order to keep as i see it the \"\"concensus\"\", what ever that word means, of the editors on the pages in question that their was to be no merge of the artciles or categoreies at present that was trying to be forced by  (talk???contribs), and an exam of his comments on talk:Philadelphia, Pennsylvania as compared to his comments on Wikipedia:Mediation_Cabal#Philadelphia_County_and_other_Philadelphia_Pages only show that he is pushing for a merge, but that  (talk???contribs) also violated the 3rr on the page as well after he was blocked by using two anon accounts  (talk???contribs) and  (talk???contribs), yet neiter were blocked by  (talk???contribs) nor was the block on  (talk???contribs) extended an addation 48 hours, yes thats right 48 not 24 an arbitatry decision and another reason in which i belive that no admin be alowed to block a user for over 24 hours with out arbcom decison and even then i am not sure that they should. And also that he,  (talk???contribs), posted a comment for  (talk???contribs) on the Wikipedia:Mediation_Cabal#Philadelphia_County_and_other_Philadelphia_Pages, why couldnt  (talk???contribs) waith tthe 48 hours like he was supposed to to post his comments, which to me would show that their is a question of the impartiality of  (talk???contribs) becuase of his actions. I did email him, and in what could be construed as a nasty letter, to  (talk???contribs) in which i told him that i do belive that he biased in his actions that that i was considering further action aginst him in the matter, with the possibility of releaving his of his adminstrative pridvlidges. His reaction was to increast the length of my block to addational 72 hours, which i can only see as a supression of any pending action agnist him, i would really not be supprised to know if he confired with  (talk???contribs) off site which would lead to [[User:Jtkiefer|Jt   \n",
       "\n",
       "      word_count  toxic_word_exist  toxic   toxic_p  \n",
       "1592  87          True              0      0.489867  \n",
       "2201  552         True              0      0.010364  "
      ]
     },
     "execution_count": 325,
     "metadata": {},
     "output_type": "execute_result"
    }
   ],
   "source": [
    "val_check_prob[(val_check_prob['toxic_word_exist']) & (val_check_prob['toxic_p']<0.6)][['comment_text','word_count','toxic_word_exist','toxic','toxic_p']].iloc[3:5]"
   ]
  },
  {
   "cell_type": "code",
   "execution_count": 328,
   "metadata": {},
   "outputs": [
    {
     "data": {
      "text/plain": [
       "(10, 5)"
      ]
     },
     "execution_count": 328,
     "metadata": {},
     "output_type": "execute_result"
    }
   ],
   "source": [
    "val_check_prob[(val_check_prob['toxic_word_exist']) & (val_check_prob['toxic_p']<0.5) & (val_check_prob['toxic']==1)][['comment_text','word_count','toxic_word_exist','toxic','toxic_p']].shape"
   ]
  },
  {
   "cell_type": "code",
   "execution_count": 331,
   "metadata": {},
   "outputs": [
    {
     "data": {
      "text/plain": [
       "count    10.000000\n",
       "mean     0.267718 \n",
       "std      0.164455 \n",
       "min      0.044202 \n",
       "25%      0.141259 \n",
       "50%      0.230452 \n",
       "75%      0.412062 \n",
       "max      0.485913 \n",
       "Name: toxic_p, dtype: float64"
      ]
     },
     "execution_count": 331,
     "metadata": {},
     "output_type": "execute_result"
    }
   ],
   "source": [
    "val_check_prob[(val_check_prob['toxic_word_exist']) & (val_check_prob['toxic']==1) & (val_check_prob['toxic_p']<0.5)]['toxic_p']."
   ]
  },
  {
   "cell_type": "code",
   "execution_count": null,
   "metadata": {
    "collapsed": true
   },
   "outputs": [],
   "source": []
  },
  {
   "cell_type": "code",
   "execution_count": 349,
   "metadata": {},
   "outputs": [
    {
     "data": {
      "text/html": [
       "<div>\n",
       "<style>\n",
       "    .dataframe thead tr:only-child th {\n",
       "        text-align: right;\n",
       "    }\n",
       "\n",
       "    .dataframe thead th {\n",
       "        text-align: left;\n",
       "    }\n",
       "\n",
       "    .dataframe tbody tr th {\n",
       "        vertical-align: top;\n",
       "    }\n",
       "</style>\n",
       "<table border=\"1\" class=\"dataframe\">\n",
       "  <thead>\n",
       "    <tr style=\"text-align: right;\">\n",
       "      <th></th>\n",
       "      <th>comment_text</th>\n",
       "      <th>toxic</th>\n",
       "      <th>toxic_p</th>\n",
       "    </tr>\n",
       "  </thead>\n",
       "  <tbody>\n",
       "    <tr>\n",
       "      <th>1399</th>\n",
       "      <td>Tony Sidaway\\nThe article Jim Nussle has been repeatedly vandalized for partisan purposes by right-wing Republicans, or rather one such Republican and his various sock puppets. Then this right wing goon of an admin intrudes himself. To state it mildly, I am apoplectically angry at the sonofabitch. To respond to your message\\nWas your partial blanking of User talk:Tony Sidaway intentional, or an accident? [7]. MONGO \\nI would seem to have been.</td>\n",
       "      <td>1</td>\n",
       "      <td>0.044202</td>\n",
       "    </tr>\n",
       "    <tr>\n",
       "      <th>5777</th>\n",
       "      <td>\"\\n\\nNo, I FUCKING REWROTE THE WHOLE ARTICLE already (first as an anomymous user). It was \"\"a mess of the article\"\", before I did, starting last year or early this year, I don't remember. I provided most of reception, I rewrote most of everything else. Hello?   \"</td>\n",
       "      <td>1</td>\n",
       "      <td>0.187472</td>\n",
       "    </tr>\n",
       "    <tr>\n",
       "      <th>6897</th>\n",
       "      <td>\"\\nThe album cover is fucking atrocious. Gaga is simply throwing out random ideas. But then, I love how kickass the music is on \"\"Judas\"\". The production is the best I've heard among all songs releaed this year. And woooof, \"\"Judas\"\" cleanup was hectic. ?  (talk2me) \"</td>\n",
       "      <td>1</td>\n",
       "      <td>0.273432</td>\n",
       "    </tr>\n",
       "    <tr>\n",
       "      <th>7190</th>\n",
       "      <td>\"\\n\\n Dingley. \\n\\nJust to put you in the picture, Trident13: the tone is nothing unusual for Dingley. He's got a long history. Being sarcastic/patronizing/abusive/contemptuous makes him feel good. He does it a lot. Funny thing is though, when he decides he's a victim of it he runs, crying like a toddler who's just dropped his ice-cream, to the \"\"notice board\"\", demanding people be banned. He's always telling others how to behave, but he doesn't think the rules apply to him. Self-esteem problems. He won't read WP:AGF, of course, because, as you've probably noticed, he already knows everything. Take no notice of the sad fucker.\"</td>\n",
       "      <td>1</td>\n",
       "      <td>0.373760</td>\n",
       "    </tr>\n",
       "    <tr>\n",
       "      <th>10863</th>\n",
       "      <td>\"\\n\\n Irresponsible \\n\\nIf you checked, I was not spamming Wikipedia, but my link is the first to come up when you search \"\"BMtron\"\" on Google, not a spam link.  I advise you to pack your bags for Jersey, mo'fucka!!\"</td>\n",
       "      <td>1</td>\n",
       "      <td>0.485913</td>\n",
       "    </tr>\n",
       "    <tr>\n",
       "      <th>11223</th>\n",
       "      <td>ChrisO is fucken Homo and proven criminals\\n\\nMore on ChrisO find out on www.ChrisO.homo.com\\n\\nThe case of ChrisO is give to FBI do not consider him as normal. It is a case of mental retired person accused for many crimes.</td>\n",
       "      <td>1</td>\n",
       "      <td>0.424829</td>\n",
       "    </tr>\n",
       "    <tr>\n",
       "      <th>15865</th>\n",
       "      <td>\"\\nThank you. Given the misuse of tools here and the itchy trigger finger as exemplified by the thread above, this \"\"admin\"\" needs to be examined by Arbcom. I'm not surprised to see a thread already open at ANI discussing it's recent behavioural trends. I won't be initiating anything but will most certainly be presenting evidence at the appropriate time. In the meantime someone needs to tell this \"\"admin\"\" to calm the fuck down and stop removing comments mad by editors on their own talk pages. That's a blockable offence, especially when they were told to never post here again. INVOLVED much?   \"</td>\n",
       "      <td>1</td>\n",
       "      <td>0.130198</td>\n",
       "    </tr>\n",
       "  </tbody>\n",
       "</table>\n",
       "</div>"
      ],
      "text/plain": [
       "                                                                                                                                                                                                                                                                                                                                                                                                                                                                                                                                                                                                                                                      comment_text  \\\n",
       "1399   Tony Sidaway\\nThe article Jim Nussle has been repeatedly vandalized for partisan purposes by right-wing Republicans, or rather one such Republican and his various sock puppets. Then this right wing goon of an admin intrudes himself. To state it mildly, I am apoplectically angry at the sonofabitch. To respond to your message\\nWas your partial blanking of User talk:Tony Sidaway intentional, or an accident? [7]. MONGO \\nI would seem to have been.                                                                                                                                                                                               \n",
       "5777   \"\\n\\nNo, I FUCKING REWROTE THE WHOLE ARTICLE already (first as an anomymous user). It was \"\"a mess of the article\"\", before I did, starting last year or early this year, I don't remember. I provided most of reception, I rewrote most of everything else. Hello?   \"                                                                                                                                                                                                                                                                                                                                                                                       \n",
       "6897   \"\\nThe album cover is fucking atrocious. Gaga is simply throwing out random ideas. But then, I love how kickass the music is on \"\"Judas\"\". The production is the best I've heard among all songs releaed this year. And woooof, \"\"Judas\"\" cleanup was hectic. ?  (talk2me) \"                                                                                                                                                                                                                                                                                                                                                                                  \n",
       "7190   \"\\n\\n Dingley. \\n\\nJust to put you in the picture, Trident13: the tone is nothing unusual for Dingley. He's got a long history. Being sarcastic/patronizing/abusive/contemptuous makes him feel good. He does it a lot. Funny thing is though, when he decides he's a victim of it he runs, crying like a toddler who's just dropped his ice-cream, to the \"\"notice board\"\", demanding people be banned. He's always telling others how to behave, but he doesn't think the rules apply to him. Self-esteem problems. He won't read WP:AGF, of course, because, as you've probably noticed, he already knows everything. Take no notice of the sad fucker.\"   \n",
       "10863  \"\\n\\n Irresponsible \\n\\nIf you checked, I was not spamming Wikipedia, but my link is the first to come up when you search \"\"BMtron\"\" on Google, not a spam link.  I advise you to pack your bags for Jersey, mo'fucka!!\"                                                                                                                                                                                                                                                                                                                                                                                                                                      \n",
       "11223  ChrisO is fucken Homo and proven criminals\\n\\nMore on ChrisO find out on www.ChrisO.homo.com\\n\\nThe case of ChrisO is give to FBI do not consider him as normal. It is a case of mental retired person accused for many crimes.                                                                                                                                                                                                                                                                                                                                                                                                                               \n",
       "15865  \"\\nThank you. Given the misuse of tools here and the itchy trigger finger as exemplified by the thread above, this \"\"admin\"\" needs to be examined by Arbcom. I'm not surprised to see a thread already open at ANI discussing it's recent behavioural trends. I won't be initiating anything but will most certainly be presenting evidence at the appropriate time. In the meantime someone needs to tell this \"\"admin\"\" to calm the fuck down and stop removing comments mad by editors on their own talk pages. That's a blockable offence, especially when they were told to never post here again. INVOLVED much?   \"                                    \n",
       "\n",
       "       toxic   toxic_p  \n",
       "1399   1      0.044202  \n",
       "5777   1      0.187472  \n",
       "6897   1      0.273432  \n",
       "7190   1      0.373760  \n",
       "10863  1      0.485913  \n",
       "11223  1      0.424829  \n",
       "15865  1      0.130198  "
      ]
     },
     "execution_count": 349,
     "metadata": {},
     "output_type": "execute_result"
    }
   ],
   "source": [
    "val_check_prob[(val_check_prob['toxic_word_exist']) & (val_check_prob['toxic']==1) & (val_check_prob.toxic_p<0.5) & (val_check_prob.word_count < 200)][['comment_text','toxic','toxic_p']]"
   ]
  },
  {
   "cell_type": "code",
   "execution_count": 354,
   "metadata": {},
   "outputs": [
    {
     "data": {
      "text/plain": [
       "Index(['id', 'toxic', 'severe_toxic', 'obscene', 'threat', 'insult',\n",
       "       'identity_hate'],\n",
       "      dtype='object')"
      ]
     },
     "execution_count": 354,
     "metadata": {},
     "output_type": "execute_result"
    }
   ],
   "source": [
    "submission.columns"
   ]
  },
  {
   "cell_type": "code",
   "execution_count": 355,
   "metadata": {},
   "outputs": [
    {
     "data": {
      "text/html": [
       "<div>\n",
       "<style>\n",
       "    .dataframe thead tr:only-child th {\n",
       "        text-align: right;\n",
       "    }\n",
       "\n",
       "    .dataframe thead th {\n",
       "        text-align: left;\n",
       "    }\n",
       "\n",
       "    .dataframe tbody tr th {\n",
       "        vertical-align: top;\n",
       "    }\n",
       "</style>\n",
       "<table border=\"1\" class=\"dataframe\">\n",
       "  <thead>\n",
       "    <tr style=\"text-align: right;\">\n",
       "      <th></th>\n",
       "      <th>comment_text</th>\n",
       "      <th>toxic</th>\n",
       "      <th>toxic_p</th>\n",
       "      <th>toxic</th>\n",
       "      <th>severe_toxic</th>\n",
       "      <th>obscene</th>\n",
       "      <th>threat</th>\n",
       "      <th>insult</th>\n",
       "      <th>identity_hate</th>\n",
       "    </tr>\n",
       "  </thead>\n",
       "  <tbody>\n",
       "    <tr>\n",
       "      <th>1512</th>\n",
       "      <td>dispute \\n\\nFirst i am restoring the censored information this user chose to remove from his page as it is relevent to this post\\n\\ncensored-information\\nPlease be aware i made 1 edit and 2 reverts please learn to count, it takes 3 reverts to break 3rr now please fuck off and go back to your nazi policy enforcement and supporting of slave labor\\n\\nyou cunt94.168.204.89 (talk) \\ncensored-information-\\n\\nAs to your comment on my talk page i once again state i have only made two reverts not three so once again learn to count\\nsecondly if you would like users to be civil do not go on to there talk pages and accuse them of things they have not done and make idle threats. finally if you feel something needs a citation please add the [citation needed] tags instead of vandalizing the page for a second time also if you again choose to censor this information i will repost it adnauseum as you clearly act like and are a nazi piece of shit94.168.204.89</td>\n",
       "      <td>0</td>\n",
       "      <td>1.000000</td>\n",
       "      <td>0</td>\n",
       "      <td>0</td>\n",
       "      <td>0</td>\n",
       "      <td>0</td>\n",
       "      <td>0</td>\n",
       "      <td>0</td>\n",
       "    </tr>\n",
       "    <tr>\n",
       "      <th>3722</th>\n",
       "      <td>Case in point, ban this SB asshole who says on his user page he is some Barack Obama lackey and who seems to think my suggestions need to be hidden from view.</td>\n",
       "      <td>0</td>\n",
       "      <td>0.529833</td>\n",
       "      <td>0</td>\n",
       "      <td>0</td>\n",
       "      <td>0</td>\n",
       "      <td>0</td>\n",
       "      <td>0</td>\n",
       "      <td>0</td>\n",
       "    </tr>\n",
       "    <tr>\n",
       "      <th>4035</th>\n",
       "      <td>\"\"\"Sly SOB\"\" is a somewhat common teasing expression, not a way to seriously call somebody a son of a bitch. Please learn the vernacular before commenting on it in the future, it will save you from some embarrassment. 204.69.190.254  \\n\"</td>\n",
       "      <td>0</td>\n",
       "      <td>0.570823</td>\n",
       "      <td>0</td>\n",
       "      <td>0</td>\n",
       "      <td>1</td>\n",
       "      <td>0</td>\n",
       "      <td>0</td>\n",
       "      <td>0</td>\n",
       "    </tr>\n",
       "    <tr>\n",
       "      <th>6017</th>\n",
       "      <td>As I said, you're an asshole and that's all there is to it.</td>\n",
       "      <td>0</td>\n",
       "      <td>0.995265</td>\n",
       "      <td>0</td>\n",
       "      <td>0</td>\n",
       "      <td>1</td>\n",
       "      <td>0</td>\n",
       "      <td>1</td>\n",
       "      <td>0</td>\n",
       "    </tr>\n",
       "    <tr>\n",
       "      <th>6031</th>\n",
       "      <td>I am in awe of your template usage, true fucking hero you are, you twinkle-queen</td>\n",
       "      <td>0</td>\n",
       "      <td>0.996679</td>\n",
       "      <td>0</td>\n",
       "      <td>0</td>\n",
       "      <td>1</td>\n",
       "      <td>0</td>\n",
       "      <td>0</td>\n",
       "      <td>0</td>\n",
       "    </tr>\n",
       "    <tr>\n",
       "      <th>6520</th>\n",
       "      <td>At least I'm trying, your M.O. basically seems to be an asshole to people who are trying to contribute. What have you done?</td>\n",
       "      <td>0</td>\n",
       "      <td>0.824290</td>\n",
       "      <td>0</td>\n",
       "      <td>0</td>\n",
       "      <td>1</td>\n",
       "      <td>0</td>\n",
       "      <td>1</td>\n",
       "      <td>0</td>\n",
       "    </tr>\n",
       "    <tr>\n",
       "      <th>6536</th>\n",
       "      <td>Non-notable KrakatoaKatie==\\nYou and this other turd Riana dumped the article about Alison Crawford. Odds are you're not even in the UK to know who she is. It's hard to get over the fact that non-notable maggots like you can go around policing at Wikipedia, playing at and pretending to be notable yourselves, and fuck up the experience for the rest of us and make Wikipedia generally less effective and useful for Wikipedia visitors in general.\\n\\n==</td>\n",
       "      <td>0</td>\n",
       "      <td>0.640182</td>\n",
       "      <td>0</td>\n",
       "      <td>0</td>\n",
       "      <td>1</td>\n",
       "      <td>0</td>\n",
       "      <td>1</td>\n",
       "      <td>0</td>\n",
       "    </tr>\n",
       "    <tr>\n",
       "      <th>6937</th>\n",
       "      <td>I also find it somewhat unimpressive that you closed bith discussions about abuse with comments directed at me rather than the problem of the abuse I submitted. Nicely played, no one wants to enforce abusive admins. And regardless of whether he used his tools abusively in this situation, he has done so many times in the past and he is an abusive editor as are the others I mentioned in the discussion. It would be nice if for once someone was actually willing to do something about that and their passive aggressive bullshit arguments and insults rather than persecute the submitter for being blunt when submitting them to ANI. They are saying the same things (that is calling me an asshole) they are just doing it in a different way. Typical for this site these days.</td>\n",
       "      <td>0</td>\n",
       "      <td>1.000000</td>\n",
       "      <td>0</td>\n",
       "      <td>0</td>\n",
       "      <td>0</td>\n",
       "      <td>0</td>\n",
       "      <td>0</td>\n",
       "      <td>0</td>\n",
       "    </tr>\n",
       "    <tr>\n",
       "      <th>7565</th>\n",
       "      <td>\"\\n\\nappologies for the racist remarks, let the general moronics and asshole-itude of the cockbites on the \"\"dubya\"\" page get to me. I've learned my lesson. Apparently the majority is always unbiased and right on wikipedia, will bring re-ienforcments to unbias the article next time. i guess this is yet another case of democrasy failing us. -steve oh and RyanFreisling is a mother humping, father felating dubya fonding, assmuncher of the highest order, right below catholic priests, rush limbaugh, and michael jackson on the fag-o-meter.\"</td>\n",
       "      <td>0</td>\n",
       "      <td>0.798128</td>\n",
       "      <td>0</td>\n",
       "      <td>0</td>\n",
       "      <td>0</td>\n",
       "      <td>0</td>\n",
       "      <td>1</td>\n",
       "      <td>0</td>\n",
       "    </tr>\n",
       "    <tr>\n",
       "      <th>8317</th>\n",
       "      <td>Congratulations! \\n\\nCongratulations, Floquenbeam, you have won the asshole of the year award! You have won this award by saying mean things about and to other people! In order to claim your award, you must call 1-800-Asshole(1-800-277-4653)! Once again, congratulations for your win! 142.162.13.40</td>\n",
       "      <td>0</td>\n",
       "      <td>0.783293</td>\n",
       "      <td>0</td>\n",
       "      <td>0</td>\n",
       "      <td>0</td>\n",
       "      <td>0</td>\n",
       "      <td>0</td>\n",
       "      <td>0</td>\n",
       "    </tr>\n",
       "    <tr>\n",
       "      <th>10697</th>\n",
       "      <td>\"\\nExhibit A.\\nNothing false about that? Realy? Anyhow, I \"\"fucking\"\" reinstated one lost comment of yours and you might not be aware of, but WP is not censored so my \"\"fucking\"\" remark is covered and allowed by policy and you have to deal with it. But enough now. I'm getting too attached (just like you although it's still a long way for me...) and, I still didn't had dinner and have to expect my punishment for that later. So bye.The Magnificent Clean-keeper (talk) \"</td>\n",
       "      <td>0</td>\n",
       "      <td>0.858085</td>\n",
       "      <td>0</td>\n",
       "      <td>0</td>\n",
       "      <td>1</td>\n",
       "      <td>0</td>\n",
       "      <td>0</td>\n",
       "      <td>0</td>\n",
       "    </tr>\n",
       "    <tr>\n",
       "      <th>10837</th>\n",
       "      <td>\"\\nWell, why didn't you point this out in the first place instead of acting like a nutcase and telling me I'm \"\"censoring\"\" things? Stop acting as if you own the article. Your bully tactics don't really work on wikipedia and certainly not with me. Please refrain from deleting good faith edits and labelling them as \"\"vandalism\"\". One more thing, please fucking read the policies before you jump into bed with them, okay? Then fuck off and implement them. I really don't have time wasting my efforts on slime-of-an-editor like you who always acts as a troll and misuses his tools..  Talk Contribs \"</td>\n",
       "      <td>0</td>\n",
       "      <td>0.987580</td>\n",
       "      <td>0</td>\n",
       "      <td>0</td>\n",
       "      <td>0</td>\n",
       "      <td>0</td>\n",
       "      <td>0</td>\n",
       "      <td>0</td>\n",
       "    </tr>\n",
       "    <tr>\n",
       "      <th>11219</th>\n",
       "      <td>John Edward \\n\\nHi \\n\\nThis topic is getting really fucking boring, and the cabal of Dreadlocke and Martinphi are over there revert warring just now, I have spent 3 reverts over there but they are still at it....sad eh?</td>\n",
       "      <td>0</td>\n",
       "      <td>0.644867</td>\n",
       "      <td>0</td>\n",
       "      <td>0</td>\n",
       "      <td>1</td>\n",
       "      <td>0</td>\n",
       "      <td>0</td>\n",
       "      <td>0</td>\n",
       "    </tr>\n",
       "    <tr>\n",
       "      <th>13008</th>\n",
       "      <td>\"\\n\\n Adam Rose \\n\\n  John Cena lover Why do you defend PG wrestling when you don't even know what the fuck WWE is about? Why defend a phony wrestler like John Cena and a faggot ass queer who likes to have a fist in his anus like Adam Rose?   \"</td>\n",
       "      <td>0</td>\n",
       "      <td>0.999799</td>\n",
       "      <td>0</td>\n",
       "      <td>0</td>\n",
       "      <td>1</td>\n",
       "      <td>0</td>\n",
       "      <td>1</td>\n",
       "      <td>0</td>\n",
       "    </tr>\n",
       "    <tr>\n",
       "      <th>13629</th>\n",
       "      <td>Re: Warning \\n\\n&gt;&gt;Stop hand nuvola.svg This is the last warning you will receive for your disruptive comments.\\nIf you continue to make personal attacks on other people as you did at User talk:CarTick, you will be blocked for disruption. Comment on content, not on other contributors or people. ?SpacemanSpiff \\n\\nAns: Fuck you, glorified clerk admin - go ahead, block me. \\n\\nHow long do you think before I can edit with a proxy server? But I won't because I couldn't be bothered with either your content, or with a weak Dravidian contributor like you. Enjoy editing on Tamil and Tamils!</td>\n",
       "      <td>0</td>\n",
       "      <td>0.712186</td>\n",
       "      <td>0</td>\n",
       "      <td>0</td>\n",
       "      <td>1</td>\n",
       "      <td>0</td>\n",
       "      <td>1</td>\n",
       "      <td>0</td>\n",
       "    </tr>\n",
       "    <tr>\n",
       "      <th>15002</th>\n",
       "      <td>\"\"\"And at least Castro was trying to liberate Cuba from US domination and uplift the working-class\"\"   Oh, really?  I thought he just wanted naked power, like every other asshole dictator on the planet.  I guess you're right, though, he has in fact allowed numerous free elections since he took power.  Moron.    Alex7777\\n\\n\"</td>\n",
       "      <td>0</td>\n",
       "      <td>0.801833</td>\n",
       "      <td>0</td>\n",
       "      <td>0</td>\n",
       "      <td>1</td>\n",
       "      <td>0</td>\n",
       "      <td>1</td>\n",
       "      <td>0</td>\n",
       "    </tr>\n",
       "    <tr>\n",
       "      <th>15688</th>\n",
       "      <td>The first of your links is something to agree to however. Leaving out 'fucking'. For the second, truthful one, I would've gone with a week however. But it's not my call.</td>\n",
       "      <td>0</td>\n",
       "      <td>0.618269</td>\n",
       "      <td>0</td>\n",
       "      <td>0</td>\n",
       "      <td>1</td>\n",
       "      <td>0</td>\n",
       "      <td>0</td>\n",
       "      <td>0</td>\n",
       "    </tr>\n",
       "  </tbody>\n",
       "</table>\n",
       "</div>"
      ],
      "text/plain": [
       "                                                                                                                                                                                                                                                                                                                                                                                                                                                                                                                                                                                                                                                                                                                                                                                                                                                                                                                                                                                     comment_text  \\\n",
       "1512   dispute \\n\\nFirst i am restoring the censored information this user chose to remove from his page as it is relevent to this post\\n\\ncensored-information\\nPlease be aware i made 1 edit and 2 reverts please learn to count, it takes 3 reverts to break 3rr now please fuck off and go back to your nazi policy enforcement and supporting of slave labor\\n\\nyou cunt94.168.204.89 (talk) \\ncensored-information-\\n\\nAs to your comment on my talk page i once again state i have only made two reverts not three so once again learn to count\\nsecondly if you would like users to be civil do not go on to there talk pages and accuse them of things they have not done and make idle threats. finally if you feel something needs a citation please add the [citation needed] tags instead of vandalizing the page for a second time also if you again choose to censor this information i will repost it adnauseum as you clearly act like and are a nazi piece of shit94.168.204.89   \n",
       "3722   Case in point, ban this SB asshole who says on his user page he is some Barack Obama lackey and who seems to think my suggestions need to be hidden from view.                                                                                                                                                                                                                                                                                                                                                                                                                                                                                                                                                                                                                                                                                                                                                                                                                               \n",
       "4035   \"\"\"Sly SOB\"\" is a somewhat common teasing expression, not a way to seriously call somebody a son of a bitch. Please learn the vernacular before commenting on it in the future, it will save you from some embarrassment. 204.69.190.254  \\n\"                                                                                                                                                                                                                                                                                                                                                                                                                                                                                                                                                                                                                                                                                                                                                \n",
       "6017   As I said, you're an asshole and that's all there is to it.                                                                                                                                                                                                                                                                                                                                                                                                                                                                                                                                                                                                                                                                                                                                                                                                                                                                                                                                  \n",
       "6031   I am in awe of your template usage, true fucking hero you are, you twinkle-queen                                                                                                                                                                                                                                                                                                                                                                                                                                                                                                                                                                                                                                                                                                                                                                                                                                                                                                             \n",
       "6520   At least I'm trying, your M.O. basically seems to be an asshole to people who are trying to contribute. What have you done?                                                                                                                                                                                                                                                                                                                                                                                                                                                                                                                                                                                                                                                                                                                                                                                                                                                                  \n",
       "6536   Non-notable KrakatoaKatie==\\nYou and this other turd Riana dumped the article about Alison Crawford. Odds are you're not even in the UK to know who she is. It's hard to get over the fact that non-notable maggots like you can go around policing at Wikipedia, playing at and pretending to be notable yourselves, and fuck up the experience for the rest of us and make Wikipedia generally less effective and useful for Wikipedia visitors in general.\\n\\n==                                                                                                                                                                                                                                                                                                                                                                                                                                                                                                                          \n",
       "6937   I also find it somewhat unimpressive that you closed bith discussions about abuse with comments directed at me rather than the problem of the abuse I submitted. Nicely played, no one wants to enforce abusive admins. And regardless of whether he used his tools abusively in this situation, he has done so many times in the past and he is an abusive editor as are the others I mentioned in the discussion. It would be nice if for once someone was actually willing to do something about that and their passive aggressive bullshit arguments and insults rather than persecute the submitter for being blunt when submitting them to ANI. They are saying the same things (that is calling me an asshole) they are just doing it in a different way. Typical for this site these days.                                                                                                                                                                                           \n",
       "7565   \"\\n\\nappologies for the racist remarks, let the general moronics and asshole-itude of the cockbites on the \"\"dubya\"\" page get to me. I've learned my lesson. Apparently the majority is always unbiased and right on wikipedia, will bring re-ienforcments to unbias the article next time. i guess this is yet another case of democrasy failing us. -steve oh and RyanFreisling is a mother humping, father felating dubya fonding, assmuncher of the highest order, right below catholic priests, rush limbaugh, and michael jackson on the fag-o-meter.\"                                                                                                                                                                                                                                                                                                                                                                                                                                 \n",
       "8317   Congratulations! \\n\\nCongratulations, Floquenbeam, you have won the asshole of the year award! You have won this award by saying mean things about and to other people! In order to claim your award, you must call 1-800-Asshole(1-800-277-4653)! Once again, congratulations for your win! 142.162.13.40                                                                                                                                                                                                                                                                                                                                                                                                                                                                                                                                                                                                                                                                                   \n",
       "10697  \"\\nExhibit A.\\nNothing false about that? Realy? Anyhow, I \"\"fucking\"\" reinstated one lost comment of yours and you might not be aware of, but WP is not censored so my \"\"fucking\"\" remark is covered and allowed by policy and you have to deal with it. But enough now. I'm getting too attached (just like you although it's still a long way for me...) and, I still didn't had dinner and have to expect my punishment for that later. So bye.The Magnificent Clean-keeper (talk) \"                                                                                                                                                                                                                                                                                                                                                                                                                                                                                                      \n",
       "10837  \"\\nWell, why didn't you point this out in the first place instead of acting like a nutcase and telling me I'm \"\"censoring\"\" things? Stop acting as if you own the article. Your bully tactics don't really work on wikipedia and certainly not with me. Please refrain from deleting good faith edits and labelling them as \"\"vandalism\"\". One more thing, please fucking read the policies before you jump into bed with them, okay? Then fuck off and implement them. I really don't have time wasting my efforts on slime-of-an-editor like you who always acts as a troll and misuses his tools..  Talk Contribs \"                                                                                                                                                                                                                                                                                                                                                                       \n",
       "11219  John Edward \\n\\nHi \\n\\nThis topic is getting really fucking boring, and the cabal of Dreadlocke and Martinphi are over there revert warring just now, I have spent 3 reverts over there but they are still at it....sad eh?                                                                                                                                                                                                                                                                                                                                                                                                                                                                                                                                                                                                                                                                                                                                                                  \n",
       "13008  \"\\n\\n Adam Rose \\n\\n  John Cena lover Why do you defend PG wrestling when you don't even know what the fuck WWE is about? Why defend a phony wrestler like John Cena and a faggot ass queer who likes to have a fist in his anus like Adam Rose?   \"                                                                                                                                                                                                                                                                                                                                                                                                                                                                                                                                                                                                                                                                                                                                         \n",
       "13629  Re: Warning \\n\\n>>Stop hand nuvola.svg This is the last warning you will receive for your disruptive comments.\\nIf you continue to make personal attacks on other people as you did at User talk:CarTick, you will be blocked for disruption. Comment on content, not on other contributors or people. ?SpacemanSpiff \\n\\nAns: Fuck you, glorified clerk admin - go ahead, block me. \\n\\nHow long do you think before I can edit with a proxy server? But I won't because I couldn't be bothered with either your content, or with a weak Dravidian contributor like you. Enjoy editing on Tamil and Tamils!                                                                                                                                                                                                                                                                                                                                                                                 \n",
       "15002  \"\"\"And at least Castro was trying to liberate Cuba from US domination and uplift the working-class\"\"   Oh, really?  I thought he just wanted naked power, like every other asshole dictator on the planet.  I guess you're right, though, he has in fact allowed numerous free elections since he took power.  Moron.    Alex7777\\n\\n\"                                                                                                                                                                                                                                                                                                                                                                                                                                                                                                                                                                                                                                                       \n",
       "15688  The first of your links is something to agree to however. Leaving out 'fucking'. For the second, truthful one, I would've gone with a week however. But it's not my call.                                                                                                                                                                                                                                                                                                                                                                                                                                                                                                                                                                                                                                                                                                                                                                                                                    \n",
       "\n",
       "       toxic   toxic_p  toxic  severe_toxic  obscene  threat  insult  \\\n",
       "1512   0      1.000000  0      0             0        0       0        \n",
       "3722   0      0.529833  0      0             0        0       0        \n",
       "4035   0      0.570823  0      0             1        0       0        \n",
       "6017   0      0.995265  0      0             1        0       1        \n",
       "6031   0      0.996679  0      0             1        0       0        \n",
       "6520   0      0.824290  0      0             1        0       1        \n",
       "6536   0      0.640182  0      0             1        0       1        \n",
       "6937   0      1.000000  0      0             0        0       0        \n",
       "7565   0      0.798128  0      0             0        0       1        \n",
       "8317   0      0.783293  0      0             0        0       0        \n",
       "10697  0      0.858085  0      0             1        0       0        \n",
       "10837  0      0.987580  0      0             0        0       0        \n",
       "11219  0      0.644867  0      0             1        0       0        \n",
       "13008  0      0.999799  0      0             1        0       1        \n",
       "13629  0      0.712186  0      0             1        0       1        \n",
       "15002  0      0.801833  0      0             1        0       1        \n",
       "15688  0      0.618269  0      0             1        0       0        \n",
       "\n",
       "       identity_hate  \n",
       "1512   0              \n",
       "3722   0              \n",
       "4035   0              \n",
       "6017   0              \n",
       "6031   0              \n",
       "6520   0              \n",
       "6536   0              \n",
       "6937   0              \n",
       "7565   0              \n",
       "8317   0              \n",
       "10697  0              \n",
       "10837  0              \n",
       "11219  0              \n",
       "13008  0              \n",
       "13629  0              \n",
       "15002  0              \n",
       "15688  0              "
      ]
     },
     "execution_count": 355,
     "metadata": {},
     "output_type": "execute_result"
    }
   ],
   "source": [
    "val_check_prob[(val_check_prob['toxic_word_exist']) & (val_check_prob['toxic']==0) & (val_check_prob.toxic_p>0.5) & (val_check_prob.word_count < 200)][['comment_text','toxic','toxic_p','toxic', 'severe_toxic', 'obscene', 'threat', 'insult',\n",
    "       'identity_hate']]"
   ]
  },
  {
   "cell_type": "code",
   "execution_count": 338,
   "metadata": {},
   "outputs": [
    {
     "data": {
      "text/plain": [
       "count    45.000000 \n",
       "mean     214.200000\n",
       "std      207.796513\n",
       "min      13.000000 \n",
       "25%      61.000000 \n",
       "50%      150.000000\n",
       "75%      291.000000\n",
       "max      823.000000\n",
       "Name: word_count, dtype: float64"
      ]
     },
     "execution_count": 338,
     "metadata": {},
     "output_type": "execute_result"
    }
   ],
   "source": [
    "val_check_prob[(val_check_prob['toxic_word_exist']) & (val_check_prob['toxic']==0)]['word_count'].describe()"
   ]
  },
  {
   "cell_type": "code",
   "execution_count": 339,
   "metadata": {},
   "outputs": [
    {
     "data": {
      "text/plain": [
       "count    159571.000000\n",
       "mean     67.273527    \n",
       "std      99.230702    \n",
       "min      1.000000     \n",
       "25%      17.000000    \n",
       "50%      36.000000    \n",
       "75%      75.000000    \n",
       "max      1411.000000  \n",
       "Name: word_count, dtype: float64"
      ]
     },
     "execution_count": 339,
     "metadata": {},
     "output_type": "execute_result"
    }
   ],
   "source": [
    "train['word_count'].describe()"
   ]
  },
  {
   "cell_type": "code",
   "execution_count": 330,
   "metadata": {},
   "outputs": [
    {
     "data": {
      "text/plain": [
       "count    45.000000\n",
       "mean     0.571508 \n",
       "std      0.391617 \n",
       "min      0.006257 \n",
       "25%      0.138093 \n",
       "50%      0.640182 \n",
       "75%      0.995265 \n",
       "max      1.000000 \n",
       "Name: toxic_p, dtype: float64"
      ]
     },
     "execution_count": 330,
     "metadata": {},
     "output_type": "execute_result"
    }
   ],
   "source": [
    "val_check_prob[(val_check_prob['toxic_word_exist']) & (val_check_prob['toxic']==0)]['toxic_p'].describe()"
   ]
  },
  {
   "cell_type": "code",
   "execution_count": 327,
   "metadata": {},
   "outputs": [
    {
     "data": {
      "text/plain": [
       "(467, 5)"
      ]
     },
     "execution_count": 327,
     "metadata": {},
     "output_type": "execute_result"
    }
   ],
   "source": [
    "val_check_prob[(val_check_prob['toxic_word_exist']) & (val_check_prob['toxic']==1)][['comment_text','word_count','toxic_word_exist','toxic','toxic_p']].shape"
   ]
  },
  {
   "cell_type": "code",
   "execution_count": 299,
   "metadata": {},
   "outputs": [
    {
     "name": "stdout",
     "output_type": "stream",
     "text": [
      "{'motherfucker': 0.011695906432748537, 'crap': 0.59298618490967059, 'fuck': 0.058385933273219115, 'prick': 0.2878787878787879, 'piss': 0.47816593886462883, 'hell': 0.85888378664782761, 'nerd': 0.39035087719298245, 'life': 0.76529756915339475, 'sick': 0.60550458715596334, 'jerk': 0.41358024691358025, 'racist': 0.63720316622691298, 'goddamn': 0.18292682926829268, 'wtf': 0.47029702970297027, 'shove': 0.40601503759398494, 'sucker': 0.10810810810810811, 'dude': 0.66946308724832215, 'motherfucking': 0.0, 'mom': 0.84592809977989725, 'dare': 0.66373626373626371, 'stop': 0.83016402961242564, 'filthy': 0.30769230769230771, 'ignorant': 0.65977443609022557, 'fuckhead': 0.0, 'youre': 0.46923076923076923, 'stupid': 0.3880952380952381, 'gonna': 0.6407942238267148, 'disgust': 0.5941558441558441, 'kiss': 0.53711790393013104, 'yo': 0.87423701225301809, 'get': 0.87997593502456628, 'pathetic': 0.47935368043087973, 'stupidity': 0.53061224489795922, 'liar': 0.87887130075705433, 'queer': 0.37634408602150538, 'fuk': 0.22857142857142856, 'bitch': 0.098233995584988965, 'retard': 0.25454545454545452, 'arsehole': 0.14705882352941177, 'screw': 0.63492063492063489, 'turd': 0.77114427860696522, 'suck': 0.14712643678160919, 'little': 0.84270650263620384, 'anus': 0.72289156626506024, 'stink': 0.45384615384615384, 'hole': 0.74759736975214974, 'dick': 0.25398512221041447, 'fuckwit': 0.068965517241379309, 'fucken': 0.037037037037037035, 'quit': 0.92493368700265255, 'scumbag': 0.25396825396825395, 'asshole': 0.096728307254623044, 'wank': 0.22448979591836735, 'fucktard': 0.038461538461538464, 'smelly': 0.17241379310344829, 'idiotic': 0.55696202531645567, 'jackass': 0.35106382978723405, 'sad': 0.85347043701799485, 'mother': 0.52073732718894006, 'wanna': 0.66000000000000003, 'disgrace': 0.59876543209876543, 'ya': 0.89515418502202648, 'cum': 0.8953913679590344, 'maggot': 0.20000000000000001, 'basement': 0.52252252252252251, 'lame': 0.82655502392344493, 'idiot': 0.32561983471074379, 'nazi': 0.71209016393442626, 'bunch': 0.74342105263157898, 'cking': 0.39455782312925169, 'ha': 0.92583348033162816, 'dumb': 0.37282780410742494, 'ban': 0.88781372845479289, 'go': 0.89039256753128193, 'hypocrite': 0.4863013698630137, 'commie': 0.5, 'monkey': 0.65306122448979587, 'arrogant': 0.69465648854961837, 'butt': 0.81526548672566368, 'garbage': 0.64166666666666672, 'burn': 0.75090252707581229, 'homosexual': 0.6198347107438017, 'cant': 0.90904936014625226, 'cunt': 0.12522361359570661, 'stfu': 0.51851851851851849, 'douchebag': 0.2247191011235955, 'fuckface': 0.0, 'bastard': 0.18181818181818182, 'cuz': 0.59999999999999998, 'stinky': 0.15789473684210525, 'masturbate': 0.34782608695652173, 'mommy': 0.46000000000000002, 'thats': 0.79048843187660667, 'clown': 0.58333333333333337, 'ever': 0.91827753691690839, 'hoe': 0.84525547445255478, 'pervert': 0.56097560975609762, 'man': 0.92860727156607814, 'laugh': 0.80085348506401133, 'bully': 0.75690607734806625, 'scumbags': 0.16666666666666666}\n"
     ]
    }
   ],
   "source": [
    "print(toxic_word_dict)"
   ]
  },
  {
   "cell_type": "code",
   "execution_count": 304,
   "metadata": {},
   "outputs": [
    {
     "name": "stdout",
     "output_type": "stream",
     "text": [
      "motherfucking 0.0\n",
      "fuckhead 0.0\n",
      "fuckface 0.0\n",
      "motherfucker 0.0116959064327\n",
      "fucken 0.037037037037\n",
      "fucktard 0.0384615384615\n",
      "fuck 0.0583859332732\n",
      "fuckwit 0.0689655172414\n",
      "asshole 0.0967283072546\n",
      "bitch 0.098233995585\n"
     ]
    }
   ],
   "source": [
    "toxic_words_poll_reordered = []\n",
    "for i, w in enumerate(sorted(toxic_word_dict, key=toxic_word_dict.get)):\n",
    "    if i<10:\n",
    "        print(w, toxic_word_dict[w])\n",
    "    toxic_words_poll_reordered.append(w)"
   ]
  },
  {
   "cell_type": "code",
   "execution_count": 267,
   "metadata": {},
   "outputs": [
    {
     "data": {
      "text/plain": [
       "0.59734219269103"
      ]
     },
     "execution_count": 267,
     "metadata": {},
     "output_type": "execute_result"
    }
   ],
   "source": [
    "899/1505"
   ]
  },
  {
   "cell_type": "code",
   "execution_count": 375,
   "metadata": {},
   "outputs": [
    {
     "name": "stdout",
     "output_type": "stream",
     "text": [
      "roc_auc: 0.9844540447511267\n"
     ]
    }
   ],
   "source": [
    "print('roc_auc: {}'.format(roc_auc_score(val_check_prob.toxic.values, val_check_prob.toxic_p.values))) \n",
    "# original: 0.9844540447511267"
   ]
  },
  {
   "cell_type": "code",
   "execution_count": 378,
   "metadata": {},
   "outputs": [
    {
     "data": {
      "text/plain": [
       "6"
      ]
     },
     "execution_count": 378,
     "metadata": {},
     "output_type": "execute_result"
    }
   ],
   "source": [
    "sum(val_check_prob.toxic_word_exist)"
   ]
  },
  {
   "cell_type": "code",
   "execution_count": 406,
   "metadata": {},
   "outputs": [
    {
     "name": "stderr",
     "output_type": "stream",
     "text": [
      "100%|██████████| 49/49 [41:59<00:00, 51.43s/it]\n"
     ]
    }
   ],
   "source": [
    "step_roc_dict = {}\n",
    "for step in tqdm(range(1,50)):\n",
    "    step = step/100\n",
    "    for i in range(50):\n",
    "        for length in [150, 200, 250]:\n",
    "            toxic_words = toxic_words_poll_reordered[:i+1]\n",
    "            #if i<5:\n",
    "            #    print(toxic_words)\n",
    "            val_check_prob['toxic_word_exist'] = val_check_prob['comment_text_cleaned'].apply(lambda x: toxic_words_detector(toxic_words, x))\n",
    "            #print('# of 1s and 0s before applying rule. Threashold = 0.5')\n",
    "            #print(count_1s_and_0s_in_pred(val_check_prob.toxic_p, 0.5)) \n",
    "            val_check_prob['toxic_p_step'] = val_check_prob.apply(lambda r: 1 if r.toxic_word_exist and r.word_count < length else r.toxic_p, axis=1)\n",
    "            #print('# of 1s and 0s after applying rule. Threashold = 0.5')\n",
    "            #print(count_1s_and_0s_in_pred(val_check_prob.toxic_p_step, 0.5))\n",
    "            roc = roc_auc_score(val_check_prob.toxic.values, val_check_prob.toxic_p_step.values)\n",
    "            #print('roc_auc: {}'.format(roc))\n",
    "            if roc > 0.9844540447511267:\n",
    "                key = 'step<{}>_words<{}>_length<{}>'.format(step,i,length)\n",
    "                step_roc_dict[key] = roc"
   ]
  },
  {
   "cell_type": "code",
   "execution_count": 408,
   "metadata": {},
   "outputs": [
    {
     "data": {
      "text/plain": [
       "735"
      ]
     },
     "execution_count": 408,
     "metadata": {},
     "output_type": "execute_result"
    }
   ],
   "source": [
    "len(step_roc_dict)"
   ]
  },
  {
   "cell_type": "code",
   "execution_count": 442,
   "metadata": {},
   "outputs": [
    {
     "name": "stdout",
     "output_type": "stream",
     "text": [
      "step<0.01>_words<4>_length<150> 0.98446609384\n",
      "step<0.01>_words<4>_length<200> 0.98446609384\n",
      "step<0.01>_words<4>_length<250> 0.98446609384\n",
      "step<0.01>_words<5>_length<150> 0.98446609384\n",
      "step<0.01>_words<5>_length<200> 0.98446609384\n",
      "step<0.01>_words<5>_length<250> 0.98446609384\n",
      "step<0.02>_words<4>_length<150> 0.98446609384\n",
      "step<0.02>_words<4>_length<200> 0.98446609384\n",
      "step<0.02>_words<4>_length<250> 0.98446609384\n",
      "step<0.02>_words<5>_length<150> 0.98446609384\n",
      "step<0.02>_words<5>_length<200> 0.98446609384\n",
      "step<0.02>_words<5>_length<250> 0.98446609384\n",
      "step<0.03>_words<4>_length<150> 0.98446609384\n",
      "step<0.03>_words<4>_length<200> 0.98446609384\n",
      "step<0.03>_words<4>_length<250> 0.98446609384\n",
      "step<0.03>_words<5>_length<150> 0.98446609384\n",
      "step<0.03>_words<5>_length<200> 0.98446609384\n",
      "step<0.03>_words<5>_length<250> 0.98446609384\n",
      "step<0.04>_words<4>_length<150> 0.98446609384\n",
      "step<0.04>_words<4>_length<200> 0.98446609384\n",
      "step<0.04>_words<4>_length<250> 0.98446609384\n",
      "step<0.04>_words<5>_length<150> 0.98446609384\n",
      "step<0.04>_words<5>_length<200> 0.98446609384\n",
      "step<0.04>_words<5>_length<250> 0.98446609384\n",
      "step<0.05>_words<4>_length<150> 0.98446609384\n",
      "step<0.05>_words<4>_length<200> 0.98446609384\n",
      "step<0.05>_words<4>_length<250> 0.98446609384\n",
      "step<0.05>_words<5>_length<150> 0.98446609384\n",
      "step<0.05>_words<5>_length<200> 0.98446609384\n",
      "step<0.05>_words<5>_length<250> 0.98446609384\n",
      "step<0.06>_words<4>_length<150> 0.98446609384\n",
      "step<0.06>_words<4>_length<200> 0.98446609384\n",
      "step<0.06>_words<4>_length<250> 0.98446609384\n",
      "step<0.06>_words<5>_length<150> 0.98446609384\n",
      "step<0.06>_words<5>_length<200> 0.98446609384\n",
      "step<0.06>_words<5>_length<250> 0.98446609384\n",
      "step<0.07>_words<4>_length<150> 0.98446609384\n",
      "step<0.07>_words<4>_length<200> 0.98446609384\n",
      "step<0.07>_words<4>_length<250> 0.98446609384\n",
      "step<0.07>_words<5>_length<150> 0.98446609384\n",
      "step<0.07>_words<5>_length<200> 0.98446609384\n",
      "step<0.07>_words<5>_length<250> 0.98446609384\n",
      "step<0.08>_words<4>_length<150> 0.98446609384\n",
      "step<0.08>_words<4>_length<200> 0.98446609384\n",
      "step<0.08>_words<4>_length<250> 0.98446609384\n",
      "step<0.08>_words<5>_length<150> 0.98446609384\n",
      "step<0.08>_words<5>_length<200> 0.98446609384\n",
      "step<0.08>_words<5>_length<250> 0.98446609384\n",
      "step<0.09>_words<4>_length<150> 0.98446609384\n",
      "step<0.09>_words<4>_length<200> 0.98446609384\n",
      "step<0.09>_words<4>_length<250> 0.98446609384\n",
      "step<0.09>_words<5>_length<150> 0.98446609384\n",
      "step<0.09>_words<5>_length<200> 0.98446609384\n",
      "step<0.09>_words<5>_length<250> 0.98446609384\n",
      "step<0.1>_words<4>_length<150> 0.98446609384\n",
      "step<0.1>_words<4>_length<200> 0.98446609384\n",
      "step<0.1>_words<4>_length<250> 0.98446609384\n",
      "step<0.1>_words<5>_length<150> 0.98446609384\n",
      "step<0.1>_words<5>_length<200> 0.98446609384\n",
      "step<0.1>_words<5>_length<250> 0.98446609384\n",
      "step<0.11>_words<4>_length<150> 0.98446609384\n",
      "step<0.11>_words<4>_length<200> 0.98446609384\n",
      "step<0.11>_words<4>_length<250> 0.98446609384\n",
      "step<0.11>_words<5>_length<150> 0.98446609384\n",
      "step<0.11>_words<5>_length<200> 0.98446609384\n",
      "step<0.11>_words<5>_length<250> 0.98446609384\n",
      "step<0.12>_words<4>_length<150> 0.98446609384\n",
      "step<0.12>_words<4>_length<200> 0.98446609384\n",
      "step<0.12>_words<4>_length<250> 0.98446609384\n",
      "step<0.12>_words<5>_length<150> 0.98446609384\n",
      "step<0.12>_words<5>_length<200> 0.98446609384\n",
      "step<0.12>_words<5>_length<250> 0.98446609384\n",
      "step<0.13>_words<4>_length<150> 0.98446609384\n",
      "step<0.13>_words<4>_length<200> 0.98446609384\n",
      "step<0.13>_words<4>_length<250> 0.98446609384\n",
      "step<0.13>_words<5>_length<150> 0.98446609384\n",
      "step<0.13>_words<5>_length<200> 0.98446609384\n",
      "step<0.13>_words<5>_length<250> 0.98446609384\n",
      "step<0.14>_words<4>_length<150> 0.98446609384\n",
      "step<0.14>_words<4>_length<200> 0.98446609384\n",
      "step<0.14>_words<4>_length<250> 0.98446609384\n",
      "step<0.14>_words<5>_length<150> 0.98446609384\n",
      "step<0.14>_words<5>_length<200> 0.98446609384\n",
      "step<0.14>_words<5>_length<250> 0.98446609384\n",
      "step<0.15>_words<4>_length<150> 0.98446609384\n",
      "step<0.15>_words<4>_length<200> 0.98446609384\n",
      "step<0.15>_words<4>_length<250> 0.98446609384\n",
      "step<0.15>_words<5>_length<150> 0.98446609384\n",
      "step<0.15>_words<5>_length<200> 0.98446609384\n",
      "step<0.15>_words<5>_length<250> 0.98446609384\n",
      "step<0.16>_words<4>_length<150> 0.98446609384\n",
      "step<0.16>_words<4>_length<200> 0.98446609384\n",
      "step<0.16>_words<4>_length<250> 0.98446609384\n",
      "step<0.16>_words<5>_length<150> 0.98446609384\n",
      "step<0.16>_words<5>_length<200> 0.98446609384\n",
      "step<0.16>_words<5>_length<250> 0.98446609384\n",
      "step<0.17>_words<4>_length<150> 0.98446609384\n",
      "step<0.17>_words<4>_length<200> 0.98446609384\n",
      "step<0.17>_words<4>_length<250> 0.98446609384\n",
      "step<0.17>_words<5>_length<150> 0.98446609384\n",
      "step<0.17>_words<5>_length<200> 0.98446609384\n",
      "step<0.17>_words<5>_length<250> 0.98446609384\n",
      "step<0.18>_words<4>_length<150> 0.98446609384\n",
      "step<0.18>_words<4>_length<200> 0.98446609384\n",
      "step<0.18>_words<4>_length<250> 0.98446609384\n",
      "step<0.18>_words<5>_length<150> 0.98446609384\n",
      "step<0.18>_words<5>_length<200> 0.98446609384\n",
      "step<0.18>_words<5>_length<250> 0.98446609384\n",
      "step<0.19>_words<4>_length<150> 0.98446609384\n",
      "step<0.19>_words<4>_length<200> 0.98446609384\n",
      "step<0.19>_words<4>_length<250> 0.98446609384\n",
      "step<0.19>_words<5>_length<150> 0.98446609384\n",
      "step<0.19>_words<5>_length<200> 0.98446609384\n",
      "step<0.19>_words<5>_length<250> 0.98446609384\n",
      "step<0.2>_words<4>_length<150> 0.98446609384\n",
      "step<0.2>_words<4>_length<200> 0.98446609384\n",
      "step<0.2>_words<4>_length<250> 0.98446609384\n",
      "step<0.2>_words<5>_length<150> 0.98446609384\n",
      "step<0.2>_words<5>_length<200> 0.98446609384\n",
      "step<0.2>_words<5>_length<250> 0.98446609384\n",
      "step<0.21>_words<4>_length<150> 0.98446609384\n",
      "step<0.21>_words<4>_length<200> 0.98446609384\n",
      "step<0.21>_words<4>_length<250> 0.98446609384\n",
      "step<0.21>_words<5>_length<150> 0.98446609384\n",
      "step<0.21>_words<5>_length<200> 0.98446609384\n",
      "step<0.21>_words<5>_length<250> 0.98446609384\n",
      "step<0.22>_words<4>_length<150> 0.98446609384\n",
      "step<0.22>_words<4>_length<200> 0.98446609384\n",
      "step<0.22>_words<4>_length<250> 0.98446609384\n",
      "step<0.22>_words<5>_length<150> 0.98446609384\n",
      "step<0.22>_words<5>_length<200> 0.98446609384\n",
      "step<0.22>_words<5>_length<250> 0.98446609384\n",
      "step<0.23>_words<4>_length<150> 0.98446609384\n",
      "step<0.23>_words<4>_length<200> 0.98446609384\n",
      "step<0.23>_words<4>_length<250> 0.98446609384\n",
      "step<0.23>_words<5>_length<150> 0.98446609384\n",
      "step<0.23>_words<5>_length<200> 0.98446609384\n",
      "step<0.23>_words<5>_length<250> 0.98446609384\n",
      "step<0.24>_words<4>_length<150> 0.98446609384\n",
      "step<0.24>_words<4>_length<200> 0.98446609384\n",
      "step<0.24>_words<4>_length<250> 0.98446609384\n",
      "step<0.24>_words<5>_length<150> 0.98446609384\n",
      "step<0.24>_words<5>_length<200> 0.98446609384\n",
      "step<0.24>_words<5>_length<250> 0.98446609384\n",
      "step<0.25>_words<4>_length<150> 0.98446609384\n",
      "step<0.25>_words<4>_length<200> 0.98446609384\n",
      "step<0.25>_words<4>_length<250> 0.98446609384\n",
      "step<0.25>_words<5>_length<150> 0.98446609384\n",
      "step<0.25>_words<5>_length<200> 0.98446609384\n",
      "step<0.25>_words<5>_length<250> 0.98446609384\n",
      "step<0.26>_words<4>_length<150> 0.98446609384\n",
      "step<0.26>_words<4>_length<200> 0.98446609384\n",
      "step<0.26>_words<4>_length<250> 0.98446609384\n",
      "step<0.26>_words<5>_length<150> 0.98446609384\n",
      "step<0.26>_words<5>_length<200> 0.98446609384\n",
      "step<0.26>_words<5>_length<250> 0.98446609384\n",
      "step<0.27>_words<4>_length<150> 0.98446609384\n",
      "step<0.27>_words<4>_length<200> 0.98446609384\n",
      "step<0.27>_words<4>_length<250> 0.98446609384\n",
      "step<0.27>_words<5>_length<150> 0.98446609384\n",
      "step<0.27>_words<5>_length<200> 0.98446609384\n",
      "step<0.27>_words<5>_length<250> 0.98446609384\n",
      "step<0.28>_words<4>_length<150> 0.98446609384\n",
      "step<0.28>_words<4>_length<200> 0.98446609384\n",
      "step<0.28>_words<4>_length<250> 0.98446609384\n",
      "step<0.28>_words<5>_length<150> 0.98446609384\n",
      "step<0.28>_words<5>_length<200> 0.98446609384\n",
      "step<0.28>_words<5>_length<250> 0.98446609384\n",
      "step<0.29>_words<4>_length<150> 0.98446609384\n",
      "step<0.29>_words<4>_length<200> 0.98446609384\n",
      "step<0.29>_words<4>_length<250> 0.98446609384\n",
      "step<0.29>_words<5>_length<150> 0.98446609384\n",
      "step<0.29>_words<5>_length<200> 0.98446609384\n",
      "step<0.29>_words<5>_length<250> 0.98446609384\n",
      "step<0.3>_words<4>_length<150> 0.98446609384\n",
      "step<0.3>_words<4>_length<200> 0.98446609384\n",
      "step<0.3>_words<4>_length<250> 0.98446609384\n",
      "step<0.3>_words<5>_length<150> 0.98446609384\n",
      "step<0.3>_words<5>_length<200> 0.98446609384\n",
      "step<0.3>_words<5>_length<250> 0.98446609384\n",
      "step<0.31>_words<4>_length<150> 0.98446609384\n",
      "step<0.31>_words<4>_length<200> 0.98446609384\n",
      "step<0.31>_words<4>_length<250> 0.98446609384\n",
      "step<0.31>_words<5>_length<150> 0.98446609384\n",
      "step<0.31>_words<5>_length<200> 0.98446609384\n",
      "step<0.31>_words<5>_length<250> 0.98446609384\n",
      "step<0.32>_words<4>_length<150> 0.98446609384\n",
      "step<0.32>_words<4>_length<200> 0.98446609384\n",
      "step<0.32>_words<4>_length<250> 0.98446609384\n",
      "step<0.32>_words<5>_length<150> 0.98446609384\n",
      "step<0.32>_words<5>_length<200> 0.98446609384\n",
      "step<0.32>_words<5>_length<250> 0.98446609384\n",
      "step<0.33>_words<4>_length<150> 0.98446609384\n",
      "step<0.33>_words<4>_length<200> 0.98446609384\n",
      "step<0.33>_words<4>_length<250> 0.98446609384\n",
      "step<0.33>_words<5>_length<150> 0.98446609384\n",
      "step<0.33>_words<5>_length<200> 0.98446609384\n",
      "step<0.33>_words<5>_length<250> 0.98446609384\n",
      "step<0.34>_words<4>_length<150> 0.98446609384\n",
      "step<0.34>_words<4>_length<200> 0.98446609384\n",
      "step<0.34>_words<4>_length<250> 0.98446609384\n",
      "step<0.34>_words<5>_length<150> 0.98446609384\n",
      "step<0.34>_words<5>_length<200> 0.98446609384\n",
      "step<0.34>_words<5>_length<250> 0.98446609384\n",
      "step<0.35>_words<4>_length<150> 0.98446609384\n",
      "step<0.35>_words<4>_length<200> 0.98446609384\n",
      "step<0.35>_words<4>_length<250> 0.98446609384\n",
      "step<0.35>_words<5>_length<150> 0.98446609384\n",
      "step<0.35>_words<5>_length<200> 0.98446609384\n",
      "step<0.35>_words<5>_length<250> 0.98446609384\n",
      "step<0.36>_words<4>_length<150> 0.98446609384\n",
      "step<0.36>_words<4>_length<200> 0.98446609384\n",
      "step<0.36>_words<4>_length<250> 0.98446609384\n",
      "step<0.36>_words<5>_length<150> 0.98446609384\n",
      "step<0.36>_words<5>_length<200> 0.98446609384\n",
      "step<0.36>_words<5>_length<250> 0.98446609384\n",
      "step<0.37>_words<4>_length<150> 0.98446609384\n",
      "step<0.37>_words<4>_length<200> 0.98446609384\n",
      "step<0.37>_words<4>_length<250> 0.98446609384\n",
      "step<0.37>_words<5>_length<150> 0.98446609384\n",
      "step<0.37>_words<5>_length<200> 0.98446609384\n",
      "step<0.37>_words<5>_length<250> 0.98446609384\n",
      "step<0.38>_words<4>_length<150> 0.98446609384\n",
      "step<0.38>_words<4>_length<200> 0.98446609384\n",
      "step<0.38>_words<4>_length<250> 0.98446609384\n",
      "step<0.38>_words<5>_length<150> 0.98446609384\n",
      "step<0.38>_words<5>_length<200> 0.98446609384\n",
      "step<0.38>_words<5>_length<250> 0.98446609384\n",
      "step<0.39>_words<4>_length<150> 0.98446609384\n",
      "step<0.39>_words<4>_length<200> 0.98446609384\n",
      "step<0.39>_words<4>_length<250> 0.98446609384\n",
      "step<0.39>_words<5>_length<150> 0.98446609384\n",
      "step<0.39>_words<5>_length<200> 0.98446609384\n",
      "step<0.39>_words<5>_length<250> 0.98446609384\n",
      "step<0.4>_words<4>_length<150> 0.98446609384\n",
      "step<0.4>_words<4>_length<200> 0.98446609384\n",
      "step<0.4>_words<4>_length<250> 0.98446609384\n",
      "step<0.4>_words<5>_length<150> 0.98446609384\n",
      "step<0.4>_words<5>_length<200> 0.98446609384\n",
      "step<0.4>_words<5>_length<250> 0.98446609384\n",
      "step<0.41>_words<4>_length<150> 0.98446609384\n",
      "step<0.41>_words<4>_length<200> 0.98446609384\n",
      "step<0.41>_words<4>_length<250> 0.98446609384\n",
      "step<0.41>_words<5>_length<150> 0.98446609384\n",
      "step<0.41>_words<5>_length<200> 0.98446609384\n",
      "step<0.41>_words<5>_length<250> 0.98446609384\n",
      "step<0.42>_words<4>_length<150> 0.98446609384\n",
      "step<0.42>_words<4>_length<200> 0.98446609384\n",
      "step<0.42>_words<4>_length<250> 0.98446609384\n",
      "step<0.42>_words<5>_length<150> 0.98446609384\n",
      "step<0.42>_words<5>_length<200> 0.98446609384\n",
      "step<0.42>_words<5>_length<250> 0.98446609384\n",
      "step<0.43>_words<4>_length<150> 0.98446609384\n",
      "step<0.43>_words<4>_length<200> 0.98446609384\n",
      "step<0.43>_words<4>_length<250> 0.98446609384\n",
      "step<0.43>_words<5>_length<150> 0.98446609384\n",
      "step<0.43>_words<5>_length<200> 0.98446609384\n",
      "step<0.43>_words<5>_length<250> 0.98446609384\n",
      "step<0.44>_words<4>_length<150> 0.98446609384\n",
      "step<0.44>_words<4>_length<200> 0.98446609384\n",
      "step<0.44>_words<4>_length<250> 0.98446609384\n",
      "step<0.44>_words<5>_length<150> 0.98446609384\n",
      "step<0.44>_words<5>_length<200> 0.98446609384\n",
      "step<0.44>_words<5>_length<250> 0.98446609384\n",
      "step<0.45>_words<4>_length<150> 0.98446609384\n",
      "step<0.45>_words<4>_length<200> 0.98446609384\n",
      "step<0.45>_words<4>_length<250> 0.98446609384\n",
      "step<0.45>_words<5>_length<150> 0.98446609384\n",
      "step<0.45>_words<5>_length<200> 0.98446609384\n",
      "step<0.45>_words<5>_length<250> 0.98446609384\n",
      "step<0.46>_words<4>_length<150> 0.98446609384\n",
      "step<0.46>_words<4>_length<200> 0.98446609384\n",
      "step<0.46>_words<4>_length<250> 0.98446609384\n",
      "step<0.46>_words<5>_length<150> 0.98446609384\n",
      "step<0.46>_words<5>_length<200> 0.98446609384\n",
      "step<0.46>_words<5>_length<250> 0.98446609384\n",
      "step<0.47>_words<4>_length<150> 0.98446609384\n",
      "step<0.47>_words<4>_length<200> 0.98446609384\n",
      "step<0.47>_words<4>_length<250> 0.98446609384\n",
      "step<0.47>_words<5>_length<150> 0.98446609384\n",
      "step<0.47>_words<5>_length<200> 0.98446609384\n",
      "step<0.47>_words<5>_length<250> 0.98446609384\n",
      "step<0.48>_words<4>_length<150> 0.98446609384\n",
      "step<0.48>_words<4>_length<200> 0.98446609384\n",
      "step<0.48>_words<4>_length<250> 0.98446609384\n",
      "step<0.48>_words<5>_length<150> 0.98446609384\n",
      "step<0.48>_words<5>_length<200> 0.98446609384\n",
      "step<0.48>_words<5>_length<250> 0.98446609384\n",
      "step<0.49>_words<4>_length<150> 0.98446609384\n",
      "step<0.49>_words<4>_length<200> 0.98446609384\n",
      "step<0.49>_words<4>_length<250> 0.98446609384\n",
      "step<0.49>_words<5>_length<150> 0.98446609384\n",
      "step<0.49>_words<5>_length<200> 0.98446609384\n",
      "step<0.49>_words<5>_length<250> 0.98446609384\n",
      "step<0.01>_words<3>_length<150> 0.984459080191\n",
      "step<0.01>_words<3>_length<200> 0.984459080191\n",
      "step<0.01>_words<3>_length<250> 0.984459080191\n",
      "step<0.02>_words<3>_length<150> 0.984459080191\n",
      "step<0.02>_words<3>_length<200> 0.984459080191\n",
      "step<0.02>_words<3>_length<250> 0.984459080191\n",
      "step<0.03>_words<3>_length<150> 0.984459080191\n",
      "step<0.03>_words<3>_length<200> 0.984459080191\n",
      "step<0.03>_words<3>_length<250> 0.984459080191\n",
      "step<0.04>_words<3>_length<150> 0.984459080191\n",
      "step<0.04>_words<3>_length<200> 0.984459080191\n",
      "step<0.04>_words<3>_length<250> 0.984459080191\n",
      "step<0.05>_words<3>_length<150> 0.984459080191\n",
      "step<0.05>_words<3>_length<200> 0.984459080191\n",
      "step<0.05>_words<3>_length<250> 0.984459080191\n",
      "step<0.06>_words<3>_length<150> 0.984459080191\n",
      "step<0.06>_words<3>_length<200> 0.984459080191\n",
      "step<0.06>_words<3>_length<250> 0.984459080191\n",
      "step<0.07>_words<3>_length<150> 0.984459080191\n",
      "step<0.07>_words<3>_length<200> 0.984459080191\n",
      "step<0.07>_words<3>_length<250> 0.984459080191\n",
      "step<0.08>_words<3>_length<150> 0.984459080191\n",
      "step<0.08>_words<3>_length<200> 0.984459080191\n",
      "step<0.08>_words<3>_length<250> 0.984459080191\n",
      "step<0.09>_words<3>_length<150> 0.984459080191\n",
      "step<0.09>_words<3>_length<200> 0.984459080191\n",
      "step<0.09>_words<3>_length<250> 0.984459080191\n",
      "step<0.1>_words<3>_length<150> 0.984459080191\n",
      "step<0.1>_words<3>_length<200> 0.984459080191\n",
      "step<0.1>_words<3>_length<250> 0.984459080191\n",
      "step<0.11>_words<3>_length<150> 0.984459080191\n",
      "step<0.11>_words<3>_length<200> 0.984459080191\n",
      "step<0.11>_words<3>_length<250> 0.984459080191\n",
      "step<0.12>_words<3>_length<150> 0.984459080191\n",
      "step<0.12>_words<3>_length<200> 0.984459080191\n",
      "step<0.12>_words<3>_length<250> 0.984459080191\n",
      "step<0.13>_words<3>_length<150> 0.984459080191\n",
      "step<0.13>_words<3>_length<200> 0.984459080191\n",
      "step<0.13>_words<3>_length<250> 0.984459080191\n",
      "step<0.14>_words<3>_length<150> 0.984459080191\n",
      "step<0.14>_words<3>_length<200> 0.984459080191\n",
      "step<0.14>_words<3>_length<250> 0.984459080191\n",
      "step<0.15>_words<3>_length<150> 0.984459080191\n",
      "step<0.15>_words<3>_length<200> 0.984459080191\n",
      "step<0.15>_words<3>_length<250> 0.984459080191\n",
      "step<0.16>_words<3>_length<150> 0.984459080191\n",
      "step<0.16>_words<3>_length<200> 0.984459080191\n",
      "step<0.16>_words<3>_length<250> 0.984459080191\n",
      "step<0.17>_words<3>_length<150> 0.984459080191\n",
      "step<0.17>_words<3>_length<200> 0.984459080191\n",
      "step<0.17>_words<3>_length<250> 0.984459080191\n",
      "step<0.18>_words<3>_length<150> 0.984459080191\n",
      "step<0.18>_words<3>_length<200> 0.984459080191\n",
      "step<0.18>_words<3>_length<250> 0.984459080191\n",
      "step<0.19>_words<3>_length<150> 0.984459080191\n",
      "step<0.19>_words<3>_length<200> 0.984459080191\n",
      "step<0.19>_words<3>_length<250> 0.984459080191\n",
      "step<0.2>_words<3>_length<150> 0.984459080191\n",
      "step<0.2>_words<3>_length<200> 0.984459080191\n",
      "step<0.2>_words<3>_length<250> 0.984459080191\n",
      "step<0.21>_words<3>_length<150> 0.984459080191\n",
      "step<0.21>_words<3>_length<200> 0.984459080191\n",
      "step<0.21>_words<3>_length<250> 0.984459080191\n",
      "step<0.22>_words<3>_length<150> 0.984459080191\n",
      "step<0.22>_words<3>_length<200> 0.984459080191\n",
      "step<0.22>_words<3>_length<250> 0.984459080191\n",
      "step<0.23>_words<3>_length<150> 0.984459080191\n",
      "step<0.23>_words<3>_length<200> 0.984459080191\n",
      "step<0.23>_words<3>_length<250> 0.984459080191\n",
      "step<0.24>_words<3>_length<150> 0.984459080191\n",
      "step<0.24>_words<3>_length<200> 0.984459080191\n",
      "step<0.24>_words<3>_length<250> 0.984459080191\n",
      "step<0.25>_words<3>_length<150> 0.984459080191\n",
      "step<0.25>_words<3>_length<200> 0.984459080191\n",
      "step<0.25>_words<3>_length<250> 0.984459080191\n",
      "step<0.26>_words<3>_length<150> 0.984459080191\n",
      "step<0.26>_words<3>_length<200> 0.984459080191\n",
      "step<0.26>_words<3>_length<250> 0.984459080191\n",
      "step<0.27>_words<3>_length<150> 0.984459080191\n",
      "step<0.27>_words<3>_length<200> 0.984459080191\n",
      "step<0.27>_words<3>_length<250> 0.984459080191\n",
      "step<0.28>_words<3>_length<150> 0.984459080191\n",
      "step<0.28>_words<3>_length<200> 0.984459080191\n",
      "step<0.28>_words<3>_length<250> 0.984459080191\n",
      "step<0.29>_words<3>_length<150> 0.984459080191\n",
      "step<0.29>_words<3>_length<200> 0.984459080191\n",
      "step<0.29>_words<3>_length<250> 0.984459080191\n",
      "step<0.3>_words<3>_length<150> 0.984459080191\n",
      "step<0.3>_words<3>_length<200> 0.984459080191\n",
      "step<0.3>_words<3>_length<250> 0.984459080191\n",
      "step<0.31>_words<3>_length<150> 0.984459080191\n",
      "step<0.31>_words<3>_length<200> 0.984459080191\n",
      "step<0.31>_words<3>_length<250> 0.984459080191\n",
      "step<0.32>_words<3>_length<150> 0.984459080191\n",
      "step<0.32>_words<3>_length<200> 0.984459080191\n",
      "step<0.32>_words<3>_length<250> 0.984459080191\n",
      "step<0.33>_words<3>_length<150> 0.984459080191\n",
      "step<0.33>_words<3>_length<200> 0.984459080191\n",
      "step<0.33>_words<3>_length<250> 0.984459080191\n",
      "step<0.34>_words<3>_length<150> 0.984459080191\n",
      "step<0.34>_words<3>_length<200> 0.984459080191\n",
      "step<0.34>_words<3>_length<250> 0.984459080191\n",
      "step<0.35>_words<3>_length<150> 0.984459080191\n",
      "step<0.35>_words<3>_length<200> 0.984459080191\n",
      "step<0.35>_words<3>_length<250> 0.984459080191\n",
      "step<0.36>_words<3>_length<150> 0.984459080191\n",
      "step<0.36>_words<3>_length<200> 0.984459080191\n",
      "step<0.36>_words<3>_length<250> 0.984459080191\n",
      "step<0.37>_words<3>_length<150> 0.984459080191\n",
      "step<0.37>_words<3>_length<200> 0.984459080191\n",
      "step<0.37>_words<3>_length<250> 0.984459080191\n",
      "step<0.38>_words<3>_length<150> 0.984459080191\n",
      "step<0.38>_words<3>_length<200> 0.984459080191\n",
      "step<0.38>_words<3>_length<250> 0.984459080191\n",
      "step<0.39>_words<3>_length<150> 0.984459080191\n",
      "step<0.39>_words<3>_length<200> 0.984459080191\n",
      "step<0.39>_words<3>_length<250> 0.984459080191\n",
      "step<0.4>_words<3>_length<150> 0.984459080191\n",
      "step<0.4>_words<3>_length<200> 0.984459080191\n",
      "step<0.4>_words<3>_length<250> 0.984459080191\n",
      "step<0.41>_words<3>_length<150> 0.984459080191\n",
      "step<0.41>_words<3>_length<200> 0.984459080191\n",
      "step<0.41>_words<3>_length<250> 0.984459080191\n",
      "step<0.42>_words<3>_length<150> 0.984459080191\n",
      "step<0.42>_words<3>_length<200> 0.984459080191\n",
      "step<0.42>_words<3>_length<250> 0.984459080191\n",
      "step<0.43>_words<3>_length<150> 0.984459080191\n",
      "step<0.43>_words<3>_length<200> 0.984459080191\n",
      "step<0.43>_words<3>_length<250> 0.984459080191\n",
      "step<0.44>_words<3>_length<150> 0.984459080191\n",
      "step<0.44>_words<3>_length<200> 0.984459080191\n",
      "step<0.44>_words<3>_length<250> 0.984459080191\n",
      "step<0.45>_words<3>_length<150> 0.984459080191\n",
      "step<0.45>_words<3>_length<200> 0.984459080191\n",
      "step<0.45>_words<3>_length<250> 0.984459080191\n",
      "step<0.46>_words<3>_length<150> 0.984459080191\n",
      "step<0.46>_words<3>_length<200> 0.984459080191\n",
      "step<0.46>_words<3>_length<250> 0.984459080191\n",
      "step<0.47>_words<3>_length<150> 0.984459080191\n",
      "step<0.47>_words<3>_length<200> 0.984459080191\n",
      "step<0.47>_words<3>_length<250> 0.984459080191\n",
      "step<0.48>_words<3>_length<150> 0.984459080191\n",
      "step<0.48>_words<3>_length<200> 0.984459080191\n",
      "step<0.48>_words<3>_length<250> 0.984459080191\n",
      "step<0.49>_words<3>_length<150> 0.984459080191\n",
      "step<0.49>_words<3>_length<200> 0.984459080191\n",
      "step<0.49>_words<3>_length<250> 0.984459080191\n",
      "step<0.01>_words<1>_length<150> 0.98445408971\n",
      "step<0.01>_words<1>_length<200> 0.98445408971\n",
      "step<0.01>_words<1>_length<250> 0.98445408971\n",
      "step<0.01>_words<2>_length<150> 0.98445408971\n",
      "step<0.01>_words<2>_length<200> 0.98445408971\n",
      "step<0.01>_words<2>_length<250> 0.98445408971\n",
      "step<0.02>_words<1>_length<150> 0.98445408971\n",
      "step<0.02>_words<1>_length<200> 0.98445408971\n",
      "step<0.02>_words<1>_length<250> 0.98445408971\n",
      "step<0.02>_words<2>_length<150> 0.98445408971\n",
      "step<0.02>_words<2>_length<200> 0.98445408971\n",
      "step<0.02>_words<2>_length<250> 0.98445408971\n",
      "step<0.03>_words<1>_length<150> 0.98445408971\n",
      "step<0.03>_words<1>_length<200> 0.98445408971\n",
      "step<0.03>_words<1>_length<250> 0.98445408971\n",
      "step<0.03>_words<2>_length<150> 0.98445408971\n",
      "step<0.03>_words<2>_length<200> 0.98445408971\n",
      "step<0.03>_words<2>_length<250> 0.98445408971\n",
      "step<0.04>_words<1>_length<150> 0.98445408971\n",
      "step<0.04>_words<1>_length<200> 0.98445408971\n",
      "step<0.04>_words<1>_length<250> 0.98445408971\n",
      "step<0.04>_words<2>_length<150> 0.98445408971\n",
      "step<0.04>_words<2>_length<200> 0.98445408971\n",
      "step<0.04>_words<2>_length<250> 0.98445408971\n",
      "step<0.05>_words<1>_length<150> 0.98445408971\n",
      "step<0.05>_words<1>_length<200> 0.98445408971\n",
      "step<0.05>_words<1>_length<250> 0.98445408971\n",
      "step<0.05>_words<2>_length<150> 0.98445408971\n",
      "step<0.05>_words<2>_length<200> 0.98445408971\n",
      "step<0.05>_words<2>_length<250> 0.98445408971\n",
      "step<0.06>_words<1>_length<150> 0.98445408971\n",
      "step<0.06>_words<1>_length<200> 0.98445408971\n",
      "step<0.06>_words<1>_length<250> 0.98445408971\n",
      "step<0.06>_words<2>_length<150> 0.98445408971\n",
      "step<0.06>_words<2>_length<200> 0.98445408971\n",
      "step<0.06>_words<2>_length<250> 0.98445408971\n",
      "step<0.07>_words<1>_length<150> 0.98445408971\n",
      "step<0.07>_words<1>_length<200> 0.98445408971\n",
      "step<0.07>_words<1>_length<250> 0.98445408971\n",
      "step<0.07>_words<2>_length<150> 0.98445408971\n",
      "step<0.07>_words<2>_length<200> 0.98445408971\n",
      "step<0.07>_words<2>_length<250> 0.98445408971\n",
      "step<0.08>_words<1>_length<150> 0.98445408971\n",
      "step<0.08>_words<1>_length<200> 0.98445408971\n",
      "step<0.08>_words<1>_length<250> 0.98445408971\n",
      "step<0.08>_words<2>_length<150> 0.98445408971\n",
      "step<0.08>_words<2>_length<200> 0.98445408971\n",
      "step<0.08>_words<2>_length<250> 0.98445408971\n",
      "step<0.09>_words<1>_length<150> 0.98445408971\n",
      "step<0.09>_words<1>_length<200> 0.98445408971\n",
      "step<0.09>_words<1>_length<250> 0.98445408971\n",
      "step<0.09>_words<2>_length<150> 0.98445408971\n",
      "step<0.09>_words<2>_length<200> 0.98445408971\n",
      "step<0.09>_words<2>_length<250> 0.98445408971\n",
      "step<0.1>_words<1>_length<150> 0.98445408971\n",
      "step<0.1>_words<1>_length<200> 0.98445408971\n",
      "step<0.1>_words<1>_length<250> 0.98445408971\n",
      "step<0.1>_words<2>_length<150> 0.98445408971\n",
      "step<0.1>_words<2>_length<200> 0.98445408971\n",
      "step<0.1>_words<2>_length<250> 0.98445408971\n",
      "step<0.11>_words<1>_length<150> 0.98445408971\n",
      "step<0.11>_words<1>_length<200> 0.98445408971\n",
      "step<0.11>_words<1>_length<250> 0.98445408971\n",
      "step<0.11>_words<2>_length<150> 0.98445408971\n",
      "step<0.11>_words<2>_length<200> 0.98445408971\n",
      "step<0.11>_words<2>_length<250> 0.98445408971\n",
      "step<0.12>_words<1>_length<150> 0.98445408971\n",
      "step<0.12>_words<1>_length<200> 0.98445408971\n",
      "step<0.12>_words<1>_length<250> 0.98445408971\n",
      "step<0.12>_words<2>_length<150> 0.98445408971\n",
      "step<0.12>_words<2>_length<200> 0.98445408971\n",
      "step<0.12>_words<2>_length<250> 0.98445408971\n",
      "step<0.13>_words<1>_length<150> 0.98445408971\n",
      "step<0.13>_words<1>_length<200> 0.98445408971\n",
      "step<0.13>_words<1>_length<250> 0.98445408971\n",
      "step<0.13>_words<2>_length<150> 0.98445408971\n",
      "step<0.13>_words<2>_length<200> 0.98445408971\n",
      "step<0.13>_words<2>_length<250> 0.98445408971\n",
      "step<0.14>_words<1>_length<150> 0.98445408971\n",
      "step<0.14>_words<1>_length<200> 0.98445408971\n",
      "step<0.14>_words<1>_length<250> 0.98445408971\n",
      "step<0.14>_words<2>_length<150> 0.98445408971\n",
      "step<0.14>_words<2>_length<200> 0.98445408971\n",
      "step<0.14>_words<2>_length<250> 0.98445408971\n",
      "step<0.15>_words<1>_length<150> 0.98445408971\n",
      "step<0.15>_words<1>_length<200> 0.98445408971\n",
      "step<0.15>_words<1>_length<250> 0.98445408971\n",
      "step<0.15>_words<2>_length<150> 0.98445408971\n",
      "step<0.15>_words<2>_length<200> 0.98445408971\n",
      "step<0.15>_words<2>_length<250> 0.98445408971\n",
      "step<0.16>_words<1>_length<150> 0.98445408971\n",
      "step<0.16>_words<1>_length<200> 0.98445408971\n",
      "step<0.16>_words<1>_length<250> 0.98445408971\n",
      "step<0.16>_words<2>_length<150> 0.98445408971\n",
      "step<0.16>_words<2>_length<200> 0.98445408971\n",
      "step<0.16>_words<2>_length<250> 0.98445408971\n",
      "step<0.17>_words<1>_length<150> 0.98445408971\n",
      "step<0.17>_words<1>_length<200> 0.98445408971\n",
      "step<0.17>_words<1>_length<250> 0.98445408971\n",
      "step<0.17>_words<2>_length<150> 0.98445408971\n",
      "step<0.17>_words<2>_length<200> 0.98445408971\n",
      "step<0.17>_words<2>_length<250> 0.98445408971\n",
      "step<0.18>_words<1>_length<150> 0.98445408971\n",
      "step<0.18>_words<1>_length<200> 0.98445408971\n",
      "step<0.18>_words<1>_length<250> 0.98445408971\n",
      "step<0.18>_words<2>_length<150> 0.98445408971\n",
      "step<0.18>_words<2>_length<200> 0.98445408971\n",
      "step<0.18>_words<2>_length<250> 0.98445408971\n",
      "step<0.19>_words<1>_length<150> 0.98445408971\n",
      "step<0.19>_words<1>_length<200> 0.98445408971\n",
      "step<0.19>_words<1>_length<250> 0.98445408971\n",
      "step<0.19>_words<2>_length<150> 0.98445408971\n",
      "step<0.19>_words<2>_length<200> 0.98445408971\n",
      "step<0.19>_words<2>_length<250> 0.98445408971\n",
      "step<0.2>_words<1>_length<150> 0.98445408971\n",
      "step<0.2>_words<1>_length<200> 0.98445408971\n",
      "step<0.2>_words<1>_length<250> 0.98445408971\n",
      "step<0.2>_words<2>_length<150> 0.98445408971\n",
      "step<0.2>_words<2>_length<200> 0.98445408971\n",
      "step<0.2>_words<2>_length<250> 0.98445408971\n",
      "step<0.21>_words<1>_length<150> 0.98445408971\n",
      "step<0.21>_words<1>_length<200> 0.98445408971\n",
      "step<0.21>_words<1>_length<250> 0.98445408971\n",
      "step<0.21>_words<2>_length<150> 0.98445408971\n",
      "step<0.21>_words<2>_length<200> 0.98445408971\n",
      "step<0.21>_words<2>_length<250> 0.98445408971\n",
      "step<0.22>_words<1>_length<150> 0.98445408971\n",
      "step<0.22>_words<1>_length<200> 0.98445408971\n",
      "step<0.22>_words<1>_length<250> 0.98445408971\n",
      "step<0.22>_words<2>_length<150> 0.98445408971\n",
      "step<0.22>_words<2>_length<200> 0.98445408971\n",
      "step<0.22>_words<2>_length<250> 0.98445408971\n",
      "step<0.23>_words<1>_length<150> 0.98445408971\n",
      "step<0.23>_words<1>_length<200> 0.98445408971\n",
      "step<0.23>_words<1>_length<250> 0.98445408971\n",
      "step<0.23>_words<2>_length<150> 0.98445408971\n",
      "step<0.23>_words<2>_length<200> 0.98445408971\n",
      "step<0.23>_words<2>_length<250> 0.98445408971\n",
      "step<0.24>_words<1>_length<150> 0.98445408971\n",
      "step<0.24>_words<1>_length<200> 0.98445408971\n",
      "step<0.24>_words<1>_length<250> 0.98445408971\n",
      "step<0.24>_words<2>_length<150> 0.98445408971\n",
      "step<0.24>_words<2>_length<200> 0.98445408971\n",
      "step<0.24>_words<2>_length<250> 0.98445408971\n",
      "step<0.25>_words<1>_length<150> 0.98445408971\n",
      "step<0.25>_words<1>_length<200> 0.98445408971\n",
      "step<0.25>_words<1>_length<250> 0.98445408971\n",
      "step<0.25>_words<2>_length<150> 0.98445408971\n",
      "step<0.25>_words<2>_length<200> 0.98445408971\n",
      "step<0.25>_words<2>_length<250> 0.98445408971\n",
      "step<0.26>_words<1>_length<150> 0.98445408971\n",
      "step<0.26>_words<1>_length<200> 0.98445408971\n",
      "step<0.26>_words<1>_length<250> 0.98445408971\n",
      "step<0.26>_words<2>_length<150> 0.98445408971\n",
      "step<0.26>_words<2>_length<200> 0.98445408971\n",
      "step<0.26>_words<2>_length<250> 0.98445408971\n",
      "step<0.27>_words<1>_length<150> 0.98445408971\n",
      "step<0.27>_words<1>_length<200> 0.98445408971\n",
      "step<0.27>_words<1>_length<250> 0.98445408971\n",
      "step<0.27>_words<2>_length<150> 0.98445408971\n",
      "step<0.27>_words<2>_length<200> 0.98445408971\n",
      "step<0.27>_words<2>_length<250> 0.98445408971\n",
      "step<0.28>_words<1>_length<150> 0.98445408971\n",
      "step<0.28>_words<1>_length<200> 0.98445408971\n",
      "step<0.28>_words<1>_length<250> 0.98445408971\n",
      "step<0.28>_words<2>_length<150> 0.98445408971\n",
      "step<0.28>_words<2>_length<200> 0.98445408971\n",
      "step<0.28>_words<2>_length<250> 0.98445408971\n",
      "step<0.29>_words<1>_length<150> 0.98445408971\n",
      "step<0.29>_words<1>_length<200> 0.98445408971\n",
      "step<0.29>_words<1>_length<250> 0.98445408971\n",
      "step<0.29>_words<2>_length<150> 0.98445408971\n",
      "step<0.29>_words<2>_length<200> 0.98445408971\n",
      "step<0.29>_words<2>_length<250> 0.98445408971\n",
      "step<0.3>_words<1>_length<150> 0.98445408971\n",
      "step<0.3>_words<1>_length<200> 0.98445408971\n",
      "step<0.3>_words<1>_length<250> 0.98445408971\n",
      "step<0.3>_words<2>_length<150> 0.98445408971\n",
      "step<0.3>_words<2>_length<200> 0.98445408971\n",
      "step<0.3>_words<2>_length<250> 0.98445408971\n",
      "step<0.31>_words<1>_length<150> 0.98445408971\n",
      "step<0.31>_words<1>_length<200> 0.98445408971\n",
      "step<0.31>_words<1>_length<250> 0.98445408971\n",
      "step<0.31>_words<2>_length<150> 0.98445408971\n",
      "step<0.31>_words<2>_length<200> 0.98445408971\n",
      "step<0.31>_words<2>_length<250> 0.98445408971\n",
      "step<0.32>_words<1>_length<150> 0.98445408971\n",
      "step<0.32>_words<1>_length<200> 0.98445408971\n",
      "step<0.32>_words<1>_length<250> 0.98445408971\n",
      "step<0.32>_words<2>_length<150> 0.98445408971\n",
      "step<0.32>_words<2>_length<200> 0.98445408971\n",
      "step<0.32>_words<2>_length<250> 0.98445408971\n",
      "step<0.33>_words<1>_length<150> 0.98445408971\n",
      "step<0.33>_words<1>_length<200> 0.98445408971\n",
      "step<0.33>_words<1>_length<250> 0.98445408971\n",
      "step<0.33>_words<2>_length<150> 0.98445408971\n",
      "step<0.33>_words<2>_length<200> 0.98445408971\n",
      "step<0.33>_words<2>_length<250> 0.98445408971\n",
      "step<0.34>_words<1>_length<150> 0.98445408971\n",
      "step<0.34>_words<1>_length<200> 0.98445408971\n",
      "step<0.34>_words<1>_length<250> 0.98445408971\n",
      "step<0.34>_words<2>_length<150> 0.98445408971\n",
      "step<0.34>_words<2>_length<200> 0.98445408971\n",
      "step<0.34>_words<2>_length<250> 0.98445408971\n",
      "step<0.35>_words<1>_length<150> 0.98445408971\n",
      "step<0.35>_words<1>_length<200> 0.98445408971\n",
      "step<0.35>_words<1>_length<250> 0.98445408971\n",
      "step<0.35>_words<2>_length<150> 0.98445408971\n",
      "step<0.35>_words<2>_length<200> 0.98445408971\n",
      "step<0.35>_words<2>_length<250> 0.98445408971\n",
      "step<0.36>_words<1>_length<150> 0.98445408971\n",
      "step<0.36>_words<1>_length<200> 0.98445408971\n",
      "step<0.36>_words<1>_length<250> 0.98445408971\n",
      "step<0.36>_words<2>_length<150> 0.98445408971\n",
      "step<0.36>_words<2>_length<200> 0.98445408971\n",
      "step<0.36>_words<2>_length<250> 0.98445408971\n",
      "step<0.37>_words<1>_length<150> 0.98445408971\n",
      "step<0.37>_words<1>_length<200> 0.98445408971\n",
      "step<0.37>_words<1>_length<250> 0.98445408971\n",
      "step<0.37>_words<2>_length<150> 0.98445408971\n",
      "step<0.37>_words<2>_length<200> 0.98445408971\n",
      "step<0.37>_words<2>_length<250> 0.98445408971\n",
      "step<0.38>_words<1>_length<150> 0.98445408971\n",
      "step<0.38>_words<1>_length<200> 0.98445408971\n",
      "step<0.38>_words<1>_length<250> 0.98445408971\n",
      "step<0.38>_words<2>_length<150> 0.98445408971\n",
      "step<0.38>_words<2>_length<200> 0.98445408971\n",
      "step<0.38>_words<2>_length<250> 0.98445408971\n",
      "step<0.39>_words<1>_length<150> 0.98445408971\n",
      "step<0.39>_words<1>_length<200> 0.98445408971\n",
      "step<0.39>_words<1>_length<250> 0.98445408971\n",
      "step<0.39>_words<2>_length<150> 0.98445408971\n",
      "step<0.39>_words<2>_length<200> 0.98445408971\n",
      "step<0.39>_words<2>_length<250> 0.98445408971\n",
      "step<0.4>_words<1>_length<150> 0.98445408971\n",
      "step<0.4>_words<1>_length<200> 0.98445408971\n",
      "step<0.4>_words<1>_length<250> 0.98445408971\n",
      "step<0.4>_words<2>_length<150> 0.98445408971\n",
      "step<0.4>_words<2>_length<200> 0.98445408971\n",
      "step<0.4>_words<2>_length<250> 0.98445408971\n",
      "step<0.41>_words<1>_length<150> 0.98445408971\n",
      "step<0.41>_words<1>_length<200> 0.98445408971\n",
      "step<0.41>_words<1>_length<250> 0.98445408971\n",
      "step<0.41>_words<2>_length<150> 0.98445408971\n",
      "step<0.41>_words<2>_length<200> 0.98445408971\n",
      "step<0.41>_words<2>_length<250> 0.98445408971\n",
      "step<0.42>_words<1>_length<150> 0.98445408971\n",
      "step<0.42>_words<1>_length<200> 0.98445408971\n",
      "step<0.42>_words<1>_length<250> 0.98445408971\n",
      "step<0.42>_words<2>_length<150> 0.98445408971\n",
      "step<0.42>_words<2>_length<200> 0.98445408971\n",
      "step<0.42>_words<2>_length<250> 0.98445408971\n",
      "step<0.43>_words<1>_length<150> 0.98445408971\n",
      "step<0.43>_words<1>_length<200> 0.98445408971\n",
      "step<0.43>_words<1>_length<250> 0.98445408971\n",
      "step<0.43>_words<2>_length<150> 0.98445408971\n",
      "step<0.43>_words<2>_length<200> 0.98445408971\n",
      "step<0.43>_words<2>_length<250> 0.98445408971\n",
      "step<0.44>_words<1>_length<150> 0.98445408971\n",
      "step<0.44>_words<1>_length<200> 0.98445408971\n",
      "step<0.44>_words<1>_length<250> 0.98445408971\n",
      "step<0.44>_words<2>_length<150> 0.98445408971\n",
      "step<0.44>_words<2>_length<200> 0.98445408971\n",
      "step<0.44>_words<2>_length<250> 0.98445408971\n",
      "step<0.45>_words<1>_length<150> 0.98445408971\n",
      "step<0.45>_words<1>_length<200> 0.98445408971\n",
      "step<0.45>_words<1>_length<250> 0.98445408971\n",
      "step<0.45>_words<2>_length<150> 0.98445408971\n",
      "step<0.45>_words<2>_length<200> 0.98445408971\n",
      "step<0.45>_words<2>_length<250> 0.98445408971\n",
      "step<0.46>_words<1>_length<150> 0.98445408971\n",
      "step<0.46>_words<1>_length<200> 0.98445408971\n",
      "step<0.46>_words<1>_length<250> 0.98445408971\n",
      "step<0.46>_words<2>_length<150> 0.98445408971\n",
      "step<0.46>_words<2>_length<200> 0.98445408971\n",
      "step<0.46>_words<2>_length<250> 0.98445408971\n",
      "step<0.47>_words<1>_length<150> 0.98445408971\n",
      "step<0.47>_words<1>_length<200> 0.98445408971\n",
      "step<0.47>_words<1>_length<250> 0.98445408971\n",
      "step<0.47>_words<2>_length<150> 0.98445408971\n",
      "step<0.47>_words<2>_length<200> 0.98445408971\n",
      "step<0.47>_words<2>_length<250> 0.98445408971\n",
      "step<0.48>_words<1>_length<150> 0.98445408971\n",
      "step<0.48>_words<1>_length<200> 0.98445408971\n",
      "step<0.48>_words<1>_length<250> 0.98445408971\n",
      "step<0.48>_words<2>_length<150> 0.98445408971\n",
      "step<0.48>_words<2>_length<200> 0.98445408971\n",
      "step<0.48>_words<2>_length<250> 0.98445408971\n",
      "step<0.49>_words<1>_length<150> 0.98445408971\n",
      "step<0.49>_words<1>_length<200> 0.98445408971\n",
      "step<0.49>_words<1>_length<250> 0.98445408971\n",
      "step<0.49>_words<2>_length<150> 0.98445408971\n",
      "step<0.49>_words<2>_length<200> 0.98445408971\n",
      "step<0.49>_words<2>_length<250> 0.98445408971\n"
     ]
    }
   ],
   "source": [
    "for i, w in enumerate(sorted(step_roc_dict, key=step_roc_dict.get, reverse=True)):\n",
    "    print(w, step_roc_dict[w])"
   ]
  },
  {
   "cell_type": "code",
   "execution_count": 235,
   "metadata": {},
   "outputs": [
    {
     "name": "stdout",
     "output_type": "stream",
     "text": [
      "fpr: 0.0109, tpr: 0.2495\n",
      "auc: 0.9775029566351928\n",
      "roc_auc: 0.9775029566351928\n"
     ]
    }
   ],
   "source": [
    "#fpr, tpr, thresholds = roc_curve(val_check_prob.toxic.values, val_check_prob.toxic_p.values, pos_label=1.0)\n",
    "#print('fpr: {0:.4f}, tpr: {1:.4f}'.format(fpr[1], tpr[1]))\n",
    "#print('auc: {}'.format(auc(fpr, tpr)))\n",
    "#print('roc_auc: {}'.format(roc_auc_score(val_check_prob.toxic.values, val_check_prob.toxic_p.values)))"
   ]
  },
  {
   "cell_type": "code",
   "execution_count": null,
   "metadata": {
    "collapsed": true
   },
   "outputs": [],
   "source": []
  },
  {
   "cell_type": "code",
   "execution_count": null,
   "metadata": {
    "collapsed": true
   },
   "outputs": [],
   "source": []
  },
  {
   "cell_type": "code",
   "execution_count": null,
   "metadata": {
    "collapsed": true
   },
   "outputs": [],
   "source": []
  },
  {
   "cell_type": "code",
   "execution_count": null,
   "metadata": {
    "collapsed": true
   },
   "outputs": [],
   "source": [
    "toxic_pred_wrong = pd.read_csv('/home/kai/data/shiyi/toxic/nbsvm_toxic_predict_wrong.csv')"
   ]
  },
  {
   "cell_type": "code",
   "execution_count": 291,
   "metadata": {},
   "outputs": [
    {
     "data": {
      "text/html": [
       "<div>\n",
       "<style>\n",
       "    .dataframe thead tr:only-child th {\n",
       "        text-align: right;\n",
       "    }\n",
       "\n",
       "    .dataframe thead th {\n",
       "        text-align: left;\n",
       "    }\n",
       "\n",
       "    .dataframe tbody tr th {\n",
       "        vertical-align: top;\n",
       "    }\n",
       "</style>\n",
       "<table border=\"1\" class=\"dataframe\">\n",
       "  <thead>\n",
       "    <tr style=\"text-align: right;\">\n",
       "      <th></th>\n",
       "      <th>toxic</th>\n",
       "      <th>toxic_p</th>\n",
       "      <th>comment_text</th>\n",
       "    </tr>\n",
       "  </thead>\n",
       "  <tbody>\n",
       "    <tr>\n",
       "      <th>0</th>\n",
       "      <td>1</td>\n",
       "      <td>0.0</td>\n",
       "      <td>Lots of that other shit does not have a category for themselves.  Terri does.</td>\n",
       "    </tr>\n",
       "    <tr>\n",
       "      <th>2</th>\n",
       "      <td>1</td>\n",
       "      <td>0.0</td>\n",
       "      <td>I agree with the previous assessment about that swine Bill Connolley.  He blocked me earlier this week for doing next to nothing.  I was just attempting to make a page better, and he abused his power to reinforce his personal point of view.  Among administrators, he has some of the worst judgement on all of wikipedia, and I regard him as a swine of the lowest order.</td>\n",
       "    </tr>\n",
       "    <tr>\n",
       "      <th>3</th>\n",
       "      <td>1</td>\n",
       "      <td>0.0</td>\n",
       "      <td>\"\\n\\nExcuse me for coming on hard, but the thought of going through this crap again displeases me. Quoting Rushton is equivalent to using Ann Coulter as a prominent reference in the Kwanzaa article, or (if you still do not get the point), allowing a well educated klan member (on the basis that the concerned klan member is well-known) to claim that \"\"niggers are monkeys\"\". What is the difference? Should every stupid opinion be included merely for the sake of balance? Perhaps yes, but there are (or should be) limits. What annoys me most is that Kobrakid (and company) probably do not intend it, but succeed so well in disrupting this article. \"</td>\n",
       "    </tr>\n",
       "    <tr>\n",
       "      <th>7</th>\n",
       "      <td>1</td>\n",
       "      <td>0.0</td>\n",
       "      <td>\"\\n\\n I just wanted to say . . . \\n\\nthat you were a horrid admin and really mean person. You lacked focus, commitment and neutrality. I'm jolly glad you're semi-retired and I'll dance the day you're de-sysopped. But, in a spirit of fairness, it'll be a dance of your choice.   \\n\\nI've seen your dancing, it's crap. Why make a sad day even sadder? My only consolation is that you'll likely get blocked before Jennavecia gets desysopped. She's one of the few administrators I think wikipedia would actually miss.  Fatuorum \\n\\nI was actually a really good admin. And I may have my mean moments... I don't know who you are, but I get the impression that you're an idiot, so I suppose that's your justification for calling me mean. I was not required to be focused here, to say I lacked commitment is just stupid as hell, and neutrality... well, I suppose it depended on the situation. I couldn't care less if you're jolly, but you can save the dancing for the day I retire, which may be today, and I recommend holding your breath until I'm desysoped... since it won't happen. I've never abused my tools, nor would I. Not to mention, it's practically impossible to desysop an admin here. I do plan to resign though, so you can dance for that too. But just know this... As I walk away from this place, you can kiss the view. vecia \\n\\nI just wanted to say that Jennavecia is the most awesome person in the world, and anyone that says otherwise has their cranium up their anus.  We love you Jennavecia!  &lt;3 .talk.contribs \\n\\nHang on, let's not go overboard here. She did pretty well as an admin, but that's hardly a qualification for sanctification. \"\"The most awesome person in the world\"\" comment is interesting as well. How many of the Earth's 6.5 billion population do you actually know? Hardly any I'd guess, because your parents aren't happy to allow you out after it gets dark. Pleeezee.  Fatuorum \\n\\nO, Malleus, you know when you are presented with one extreme, it's always appropriate to respond with the opposite extreme! vecia \\n. 92.11.217.44  \\nI think my irony detectors may have failed me, Sorry Jayron32.  Fatuorum \\nYour mother.  Fierce! \\nI don't know who the eff JeanLatore is. Was I involved in his banning? Doesn't ring a bell and I don't give a shit, so I'm not going to check. vecia \\n\\n Hi Lara \\n\\nI dropped a question at Ioeth's talk page.  I saw the semi-retired heading, and the links on your user page as being wiki-gnome and wiki-fairy.  That's why I asked at his page.  Anyway - I see that you're still active, and I didn't want you to think I was avoiding talking to you personally or anything.  Hope life is treating you well ..   \\nReplied on Ioeth's talk. vecia \\n\\n Dear Lara \\n\\nNever had a chance to leave a message on your talk page (I think) since I've been here, so thought I'll use my final opportunity to do so. &lt;3 Thank you for all your wonderful and valuable contributions. &lt;3 For the limited period of time that I'm still stuck here, will miss ya. Take care,  ([[</td>\n",
       "    </tr>\n",
       "    <tr>\n",
       "      <th>8</th>\n",
       "      <td>1</td>\n",
       "      <td>0.0</td>\n",
       "      <td>Wouldn't it be a great thing to have a good hard sniff of Maria Sharapova's fanny.</td>\n",
       "    </tr>\n",
       "    <tr>\n",
       "      <th>11</th>\n",
       "      <td>1</td>\n",
       "      <td>0.0</td>\n",
       "      <td>Get over yourself \\n\\nYour mad because I'm actually fighting back for whats right and I'm not going to let some random nimrod push me around. You know I'm right so report me all you want i couldn't care less.</td>\n",
       "    </tr>\n",
       "    <tr>\n",
       "      <th>12</th>\n",
       "      <td>1</td>\n",
       "      <td>0.0</td>\n",
       "      <td>Might we be confusing stupid with stubborn or inflexible? I've known some technically intelligent people (bordering on genius) who were simply unable to acknowledge that any position other than theirs might be correct. Or their intelligence might be so narrowly focused as to be useless in normal conversation. Personally, I find the terminally stubborn much harder to deal with than someone who's 'stupid.'</td>\n",
       "    </tr>\n",
       "    <tr>\n",
       "      <th>14</th>\n",
       "      <td>1</td>\n",
       "      <td>0.0</td>\n",
       "      <td>Personal note:Please read WP:SPOILER before making a dick move like that.</td>\n",
       "    </tr>\n",
       "    <tr>\n",
       "      <th>15</th>\n",
       "      <td>1</td>\n",
       "      <td>0.0</td>\n",
       "      <td>\"\\n\"\"oo9\"\", if you have ANY actual evidence, show it. You claim something found on May 23, 2013 - I can find no links that back you up. Either come up with evidence or go away you trolling little tea retard.\"</td>\n",
       "    </tr>\n",
       "    <tr>\n",
       "      <th>16</th>\n",
       "      <td>1</td>\n",
       "      <td>0.0</td>\n",
       "      <td>\"\\n\\n YOUR A QUEER \\n\\n  SOME PEOPLE WERE DROPPED AS A BABY... WERE YOU THROWN AT A WALL? Why would you do that you N00B )   \"</td>\n",
       "    </tr>\n",
       "  </tbody>\n",
       "</table>\n",
       "</div>"
      ],
      "text/plain": [
       "    toxic  toxic_p  \\\n",
       "0   1      0.0       \n",
       "2   1      0.0       \n",
       "3   1      0.0       \n",
       "7   1      0.0       \n",
       "8   1      0.0       \n",
       "11  1      0.0       \n",
       "12  1      0.0       \n",
       "14  1      0.0       \n",
       "15  1      0.0       \n",
       "16  1      0.0       \n",
       "\n",
       "                                                                                                                                                                                                                                                                                                                                                                                                                                                                                                                                                                                                                                                                                                                                                                                                                                                                                                                                                                                                                                                                                                                                                                                                                                                                                                                                                                                                                                                                                                                                                                                                                                                                                                                                                                                                                                                                                                                                                                                                                                                                                                                                                                                                                                                                                                                                                                                                                                                                                                                                                                                                                                                                                                                                                                                                                                                                                                                                                                                                                                                                                                                       comment_text  \n",
       "0   Lots of that other shit does not have a category for themselves.  Terri does.                                                                                                                                                                                                                                                                                                                                                                                                                                                                                                                                                                                                                                                                                                                                                                                                                                                                                                                                                                                                                                                                                                                                                                                                                                                                                                                                                                                                                                                                                                                                                                                                                                                                                                                                                                                                                                                                                                                                                                                                                                                                                                                                                                                                                                                                                                                                                                                                                                                                                                                                                                                                                                                                                                                                                                                                                                                                                                                                                                                                                                                    \n",
       "2   I agree with the previous assessment about that swine Bill Connolley.  He blocked me earlier this week for doing next to nothing.  I was just attempting to make a page better, and he abused his power to reinforce his personal point of view.  Among administrators, he has some of the worst judgement on all of wikipedia, and I regard him as a swine of the lowest order.                                                                                                                                                                                                                                                                                                                                                                                                                                                                                                                                                                                                                                                                                                                                                                                                                                                                                                                                                                                                                                                                                                                                                                                                                                                                                                                                                                                                                                                                                                                                                                                                                                                                                                                                                                                                                                                                                                                                                                                                                                                                                                                                                                                                                                                                                                                                                                                                                                                                                                                                                                                                                                                                                                                                                 \n",
       "3   \"\\n\\nExcuse me for coming on hard, but the thought of going through this crap again displeases me. Quoting Rushton is equivalent to using Ann Coulter as a prominent reference in the Kwanzaa article, or (if you still do not get the point), allowing a well educated klan member (on the basis that the concerned klan member is well-known) to claim that \"\"niggers are monkeys\"\". What is the difference? Should every stupid opinion be included merely for the sake of balance? Perhaps yes, but there are (or should be) limits. What annoys me most is that Kobrakid (and company) probably do not intend it, but succeed so well in disrupting this article. \"                                                                                                                                                                                                                                                                                                                                                                                                                                                                                                                                                                                                                                                                                                                                                                                                                                                                                                                                                                                                                                                                                                                                                                                                                                                                                                                                                                                                                                                                                                                                                                                                                                                                                                                                                                                                                                                                                                                                                                                                                                                                                                                                                                                                                                                                                                                                                                                                                                                         \n",
       "7   \"\\n\\n I just wanted to say . . . \\n\\nthat you were a horrid admin and really mean person. You lacked focus, commitment and neutrality. I'm jolly glad you're semi-retired and I'll dance the day you're de-sysopped. But, in a spirit of fairness, it'll be a dance of your choice.   \\n\\nI've seen your dancing, it's crap. Why make a sad day even sadder? My only consolation is that you'll likely get blocked before Jennavecia gets desysopped. She's one of the few administrators I think wikipedia would actually miss.  Fatuorum \\n\\nI was actually a really good admin. And I may have my mean moments... I don't know who you are, but I get the impression that you're an idiot, so I suppose that's your justification for calling me mean. I was not required to be focused here, to say I lacked commitment is just stupid as hell, and neutrality... well, I suppose it depended on the situation. I couldn't care less if you're jolly, but you can save the dancing for the day I retire, which may be today, and I recommend holding your breath until I'm desysoped... since it won't happen. I've never abused my tools, nor would I. Not to mention, it's practically impossible to desysop an admin here. I do plan to resign though, so you can dance for that too. But just know this... As I walk away from this place, you can kiss the view. vecia \\n\\nI just wanted to say that Jennavecia is the most awesome person in the world, and anyone that says otherwise has their cranium up their anus.  We love you Jennavecia!  <3 .talk.contribs \\n\\nHang on, let's not go overboard here. She did pretty well as an admin, but that's hardly a qualification for sanctification. \"\"The most awesome person in the world\"\" comment is interesting as well. How many of the Earth's 6.5 billion population do you actually know? Hardly any I'd guess, because your parents aren't happy to allow you out after it gets dark. Pleeezee.  Fatuorum \\n\\nO, Malleus, you know when you are presented with one extreme, it's always appropriate to respond with the opposite extreme! vecia \\n. 92.11.217.44  \\nI think my irony detectors may have failed me, Sorry Jayron32.  Fatuorum \\nYour mother.  Fierce! \\nI don't know who the eff JeanLatore is. Was I involved in his banning? Doesn't ring a bell and I don't give a shit, so I'm not going to check. vecia \\n\\n Hi Lara \\n\\nI dropped a question at Ioeth's talk page.  I saw the semi-retired heading, and the links on your user page as being wiki-gnome and wiki-fairy.  That's why I asked at his page.  Anyway - I see that you're still active, and I didn't want you to think I was avoiding talking to you personally or anything.  Hope life is treating you well ..   \\nReplied on Ioeth's talk. vecia \\n\\n Dear Lara \\n\\nNever had a chance to leave a message on your talk page (I think) since I've been here, so thought I'll use my final opportunity to do so. <3 Thank you for all your wonderful and valuable contributions. <3 For the limited period of time that I'm still stuck here, will miss ya. Take care,  ([[  \n",
       "8   Wouldn't it be a great thing to have a good hard sniff of Maria Sharapova's fanny.                                                                                                                                                                                                                                                                                                                                                                                                                                                                                                                                                                                                                                                                                                                                                                                                                                                                                                                                                                                                                                                                                                                                                                                                                                                                                                                                                                                                                                                                                                                                                                                                                                                                                                                                                                                                                                                                                                                                                                                                                                                                                                                                                                                                                                                                                                                                                                                                                                                                                                                                                                                                                                                                                                                                                                                                                                                                                                                                                                                                                                               \n",
       "11  Get over yourself \\n\\nYour mad because I'm actually fighting back for whats right and I'm not going to let some random nimrod push me around. You know I'm right so report me all you want i couldn't care less.                                                                                                                                                                                                                                                                                                                                                                                                                                                                                                                                                                                                                                                                                                                                                                                                                                                                                                                                                                                                                                                                                                                                                                                                                                                                                                                                                                                                                                                                                                                                                                                                                                                                                                                                                                                                                                                                                                                                                                                                                                                                                                                                                                                                                                                                                                                                                                                                                                                                                                                                                                                                                                                                                                                                                                                                                                                                                                                 \n",
       "12  Might we be confusing stupid with stubborn or inflexible? I've known some technically intelligent people (bordering on genius) who were simply unable to acknowledge that any position other than theirs might be correct. Or their intelligence might be so narrowly focused as to be useless in normal conversation. Personally, I find the terminally stubborn much harder to deal with than someone who's 'stupid.'                                                                                                                                                                                                                                                                                                                                                                                                                                                                                                                                                                                                                                                                                                                                                                                                                                                                                                                                                                                                                                                                                                                                                                                                                                                                                                                                                                                                                                                                                                                                                                                                                                                                                                                                                                                                                                                                                                                                                                                                                                                                                                                                                                                                                                                                                                                                                                                                                                                                                                                                                                                                                                                                                                          \n",
       "14  Personal note:Please read WP:SPOILER before making a dick move like that.                                                                                                                                                                                                                                                                                                                                                                                                                                                                                                                                                                                                                                                                                                                                                                                                                                                                                                                                                                                                                                                                                                                                                                                                                                                                                                                                                                                                                                                                                                                                                                                                                                                                                                                                                                                                                                                                                                                                                                                                                                                                                                                                                                                                                                                                                                                                                                                                                                                                                                                                                                                                                                                                                                                                                                                                                                                                                                                                                                                                                                                        \n",
       "15  \"\\n\"\"oo9\"\", if you have ANY actual evidence, show it. You claim something found on May 23, 2013 - I can find no links that back you up. Either come up with evidence or go away you trolling little tea retard.\"                                                                                                                                                                                                                                                                                                                                                                                                                                                                                                                                                                                                                                                                                                                                                                                                                                                                                                                                                                                                                                                                                                                                                                                                                                                                                                                                                                                                                                                                                                                                                                                                                                                                                                                                                                                                                                                                                                                                                                                                                                                                                                                                                                                                                                                                                                                                                                                                                                                                                                                                                                                                                                                                                                                                                                                                                                                                                                                 \n",
       "16  \"\\n\\n YOUR A QUEER \\n\\n  SOME PEOPLE WERE DROPPED AS A BABY... WERE YOU THROWN AT A WALL? Why would you do that you N00B )   \"                                                                                                                                                                                                                                                                                                                                                                                                                                                                                                                                                                                                                                                                                                                                                                                                                                                                                                                                                                                                                                                                                                                                                                                                                                                                                                                                                                                                                                                                                                                                                                                                                                                                                                                                                                                                                                                                                                                                                                                                                                                                                                                                                                                                                                                                                                                                                                                                                                                                                                                                                                                                                                                                                                                                                                                                                                                                                                                                                                                                   "
      ]
     },
     "execution_count": 291,
     "metadata": {},
     "output_type": "execute_result"
    }
   ],
   "source": [
    "toxic_pred_wrong[toxic_pred_wrong.toxic==1].iloc[:10]"
   ]
  },
  {
   "cell_type": "markdown",
   "metadata": {},
   "source": [
    "with open('toxic_predict_wrong.txt','w') as f:\n",
    "    for comment in list(val_check[val_check['toxic_pred']==False]['comment_text']): # 544 in total\n",
    "        f.write(comment)\n",
    "        f.write(\"\\n==========================================\\n\")\n",
    "        f.write(\"==========================================\\n\")"
   ]
  },
  {
   "cell_type": "markdown",
   "metadata": {},
   "source": [
    "with open('toxic_predict_right.txt','w') as f:\n",
    "    for comment in list(val_check[val_check['toxic_pred']==True]['comment_text'][:544]):\n",
    "        f.write(comment)\n",
    "        f.write(\"\\n==========================================\\n\")\n",
    "        f.write(\"==========================================\\n\")"
   ]
  },
  {
   "cell_type": "code",
   "execution_count": 15,
   "metadata": {},
   "outputs": [
    {
     "name": "stdout",
     "output_type": "stream",
     "text": [
      "saving files\n",
      "BUILD_ID: 1518559907\n",
      "done\n"
     ]
    }
   ],
   "source": [
    "print('saving files')\n",
    "#model_name = 'nblogreg'\n",
    "save(y_test, label_cols, PATH)\n",
    "\n",
    "print('done')"
   ]
  },
  {
   "cell_type": "code",
   "execution_count": 15,
   "metadata": {},
   "outputs": [
    {
     "name": "stdout",
     "output_type": "stream",
     "text": [
      "predicting\n",
      "fit toxic\n",
      "accuracy is 0.992991831252086\n",
      "fit severe_toxic\n",
      "accuracy is 0.9991327419600897\n",
      "fit obscene\n",
      "accuracy is 0.9980276145314022\n",
      "fit threat\n",
      "accuracy is 0.9999371962826826\n",
      "fit insult\n",
      "accuracy is 0.9956056176608415\n",
      "fit identity_hate\n",
      "accuracy is 0.9996076220294341\n",
      "total score is 0.9975504372860895\n",
      "saving files\n",
      "done\n"
     ]
    }
   ],
   "source": []
  },
  {
   "cell_type": "code",
   "execution_count": null,
   "metadata": {
    "collapsed": true
   },
   "outputs": [],
   "source": []
  }
 ],
 "metadata": {
  "kernelspec": {
   "display_name": "Python 3",
   "language": "python",
   "name": "python3"
  },
  "language_info": {
   "codemirror_mode": {
    "name": "ipython",
    "version": 3
   },
   "file_extension": ".py",
   "mimetype": "text/x-python",
   "name": "python",
   "nbconvert_exporter": "python",
   "pygments_lexer": "ipython3",
   "version": "3.6.3"
  }
 },
 "nbformat": 4,
 "nbformat_minor": 2
}
