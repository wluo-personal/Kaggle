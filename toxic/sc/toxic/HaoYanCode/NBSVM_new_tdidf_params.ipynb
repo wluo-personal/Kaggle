{
 "cells": [
  {
   "cell_type": "code",
   "execution_count": 1,
   "metadata": {
    "collapsed": true
   },
   "outputs": [],
   "source": [
    "import pandas as pd\n",
    "import numpy as np\n",
    "import re\n",
    "from nltk.corpus import stopwords\n",
    "from nltk.tokenize import TweetTokenizer\n",
    "from nltk.stem.wordnet import WordNetLemmatizer\n",
    "from sklearn.feature_extraction.text import CountVectorizer, TfidfVectorizer\n",
    "from sklearn.linear_model import LogisticRegression\n",
    "from sklearn.metrics import roc_auc_score, accuracy_score, roc_curve, auc\n",
    "from scipy.sparse import csr_matrix, hstack"
   ]
  },
  {
   "cell_type": "code",
   "execution_count": 2,
   "metadata": {},
   "outputs": [
    {
     "name": "stdout",
     "output_type": "stream",
     "text": [
      "(32450, 27)\n",
      "(153164, 21)\n"
     ]
    }
   ],
   "source": [
    "PATH = '~/data/toxic/data/'\n",
    "\n",
    "#train = pd.read_csv(PATH + 'cleaned_train.csv')\n",
    "train = pd.read_csv('/home/kai/data/wei/Toxic/data/Shiyi_training.csv').fillna('na')\n",
    "\n",
    "test = pd.read_csv(PATH + 'cleaned_test.csv')\n",
    "\n",
    "train_sentence = train['comment_text_cleaned']\n",
    "test_sentence = test['comment_text_cleaned']\n",
    "\n",
    "text = pd.concat([train_sentence, test_sentence])\n",
    "\n",
    "print(train.shape)\n",
    "print(test.shape)"
   ]
  },
  {
   "cell_type": "code",
   "execution_count": 3,
   "metadata": {},
   "outputs": [
    {
     "name": "stdout",
     "output_type": "stream",
     "text": [
      "getting tfidf\n",
      "fitting phrase\n",
      "transforming train phrase\n",
      "transforming test phrase\n"
     ]
    }
   ],
   "source": [
    "# CountVectorizer(input=’content’, encoding=’utf-8’, decode_error=’strict’, strip_accents=None,\\\n",
    "#                 lowercase=True, preprocessor=None, tokenizer=None, stop_words=None,\\\n",
    "#                 token_pattern=’(?u)\\b\\w\\w+\\b’, ngram_range=(1, 1), analyzer=’word’, max_df=1.0,\\\n",
    "#                 min_df=1, max_features=None, vocabulary=None, binary=False, dtype=<class ‘numpy.int64’>)\n",
    "\n",
    "# TfidfVectorizer(input=’content’, encoding=’utf-8’, decode_error=’strict’, strip_accents=None,\\\n",
    "#                 lowercase=True, preprocessor=None, tokenizer=None, analyzer=’word’, stop_words=None,\\\n",
    "#                 token_pattern=’(?u)\\b\\w\\w+\\b’, ngram_range=(1, 1), max_df=1.0, min_df=1, max_features=None,\\\n",
    "#                 vocabulary=None, binary=False, dtype=<class ‘numpy.int64’>, norm=’l2’, use_idf=True,\\\n",
    "#                 smooth_idf=True, sublinear_tf=False)\n",
    "\n",
    "# min_df=0, max_features=None, strip_accents='unicode',lowercase =True,\n",
    "# analyzer='word', token_pattern=r'\\w{3,}', ngram_range=(1,1),\n",
    "# use_idf=True,smooth_idf=True, sublinear_tf=True, stop_words = \"english\"\n",
    "\n",
    "print('getting tfidf')\n",
    "phrase_vectorizer = TfidfVectorizer(min_df=0, max_features=None, strip_accents='unicode',lowercase =True,\n",
    "                                    analyzer='word', token_pattern=r'\\w{3,}', ngram_range=(1,1),\n",
    "                                    use_idf=True,smooth_idf=True, sublinear_tf=True, stop_words = \"english\")\n",
    "    \n",
    "#     ngram_range=(1,3),\n",
    "#                                     strip_accents='unicode', \n",
    "#                                     max_features=100000, \n",
    "#                                     analyzer='word',\n",
    "#                                     sublinear_tf=True,\n",
    "#                                     token_pattern=r'\\w{1,}')\n",
    "# char_vectorizer = TfidfVectorizer(ngram_range=(1,5), \n",
    "#                                   strip_accents='unicode', \n",
    "#                                   max_features=200000, \n",
    "#                                   analyzer='char', \n",
    "#                                   sublinear_tf=True)\n",
    "\n",
    "# print('fitting char')\n",
    "# char_vectorizer.fit(text.values)\n",
    "print('fitting phrase')\n",
    "phrase_vectorizer.fit(text.values)\n",
    "print('transforming train phrase')\n",
    "train_phrase = phrase_vectorizer.transform(train_sentence.values)\n",
    "# print('transforming test char')\n",
    "# test_char = char_vectorizer.transform(test_sentence.values)\n",
    "print('transforming test phrase')\n",
    "test_phrase = phrase_vectorizer.transform(test_sentence.values)\n",
    "\n",
    "# train_tfidf = hstack((train_char, train_phrase), format='csr')\n",
    "# test_tfidf = hstack((test_char, test_phrase), format='csr')\n",
    "\n",
    "label_cols = ['toxic', 'severe_toxic', 'obscene', 'threat', 'insult', 'identity_hate']\n",
    "\n",
    "# train_tfidf"
   ]
  },
  {
   "cell_type": "code",
   "execution_count": 4,
   "metadata": {
    "collapsed": true
   },
   "outputs": [],
   "source": [
    "train_tfidf = train_phrase\n",
    "test_tfidf = test_phrase"
   ]
  },
  {
   "cell_type": "code",
   "execution_count": 5,
   "metadata": {},
   "outputs": [
    {
     "data": {
      "text/plain": [
       "((32450, 205689), (153164, 205689))"
      ]
     },
     "execution_count": 5,
     "metadata": {},
     "output_type": "execute_result"
    }
   ],
   "source": [
    "train_tfidf.shape, test_tfidf.shape"
   ]
  },
  {
   "cell_type": "code",
   "execution_count": 6,
   "metadata": {
    "collapsed": true
   },
   "outputs": [],
   "source": [
    "import pdb"
   ]
  },
  {
   "cell_type": "code",
   "execution_count": 7,
   "metadata": {},
   "outputs": [
    {
     "name": "stdout",
     "output_type": "stream",
     "text": [
      "done\n"
     ]
    }
   ],
   "source": [
    "def pr(y_i, y, train_features):\n",
    "    p = train_features[y==y_i].sum(0)\n",
    "    return (p + 1) / ((y == y_i).sum() + 1)\n",
    "\n",
    "def get_nblogreg_model(label_cols, train_features, train, test_features):\n",
    "    #pdb.set_trace()\n",
    "    preds = np.zeros((test.shape[0], len(label_cols)))\n",
    "    train_preds = np.zeros((train.shape[0], len(label_cols)))\n",
    "    for i, j in enumerate(label_cols):\n",
    "        if i == i:\n",
    "            print('fit', j)\n",
    "            y = train[j].values\n",
    "            r = np.log(pr(1, y, train_features) / pr(0, y, train_features))\n",
    "            model = LogisticRegression()\n",
    "            x_nb = train_features.multiply(r).tocsr()\n",
    "            # split\n",
    "#             index_to_split = int(x_nb.shape[0]*0.9)\n",
    "#             x_train = x_nb[:index_to_split,:]\n",
    "#             y_train = y[:index_to_split]\n",
    "#             x_val = x_nb[index_to_split:,:]\n",
    "#             y_val = y[index_to_split:]\n",
    "#             val_preds = np.zeros((x_val.shape[0],len(label_cols)))\n",
    "#             print(x_train.shape, y_train.shape, x_val.shape, y_val.shape)\n",
    "#             # fit\n",
    "#             model.fit(x_train, y_train)\n",
    "#             # validation\n",
    "#             val_preds[:, i] = model.predict(x_val)\n",
    "#             val_prob =  model.predict_proba(x_val)[:, 1]\n",
    "#             print('accuracy is {}'.format(accuracy_score(y_val, val_preds[:, i])))\n",
    "#             print('roc_auc is {}'.format(roc_auc_score(y_val, val_prob)))\n",
    "            \n",
    "            model.fit(x_nb, y)\n",
    "            preds[:, i] = model.predict_proba(test_features.multiply(r))[:, 1]\n",
    "            train_preds[:, i] = model.predict_proba(x_nb)[:, 1]\n",
    "            print('{:15} auc is {}'.format(j, roc_auc_score(y, train_preds[:, i])))\n",
    "    #return preds, val_preds, val_prob, y_val, index_to_split\n",
    "    return preds\n",
    "\n",
    "def save(y_test, label_cols, path, flag):\n",
    "    import time\n",
    "    BUILD_ID = int(time.time())\n",
    "    print('BUILD_ID: {}'.format(BUILD_ID))\n",
    "    submission = pd.read_csv(path + 'sample_submission.csv')\n",
    "    submission[label_cols] = y_test\n",
    "    submission.to_csv('/home/kai/data/shiyi/toxic/submissions/sub_nbsvm' + '_' + flag + '_' + str(BUILD_ID) + '.csv', index=False)\n",
    "    \n",
    "print('done')"
   ]
  },
  {
   "cell_type": "code",
   "execution_count": 8,
   "metadata": {},
   "outputs": [
    {
     "name": "stdout",
     "output_type": "stream",
     "text": [
      "fit toxic\n",
      "toxic           auc is 0.9680740161673966\n",
      "fit severe_toxic\n",
      "severe_toxic    auc is 0.9858533874442547\n",
      "fit obscene\n",
      "obscene         auc is 0.9774442615173118\n",
      "fit threat\n",
      "threat          auc is 0.9966686658880914\n",
      "fit insult\n",
      "insult          auc is 0.9569971192776481\n",
      "fit identity_hate\n",
      "identity_hate   auc is 0.9934279535675743\n"
     ]
    }
   ],
   "source": [
    "y_test = get_nblogreg_model(label_cols, train_tfidf, train, test_tfidf)"
   ]
  },
  {
   "cell_type": "code",
   "execution_count": 9,
   "metadata": {},
   "outputs": [
    {
     "name": "stdout",
     "output_type": "stream",
     "text": [
      "BUILD_ID: 1519160015\n"
     ]
    }
   ],
   "source": [
    "save(y_test, label_cols, PATH, '1v1')"
   ]
  },
  {
   "cell_type": "code",
   "execution_count": null,
   "metadata": {
    "collapsed": true
   },
   "outputs": [],
   "source": []
  }
 ],
 "metadata": {
  "kernelspec": {
   "display_name": "Python 3.5 (tf_gpu)",
   "language": "python",
   "name": "tf_gpu"
  },
  "language_info": {
   "codemirror_mode": {
    "name": "ipython",
    "version": 3
   },
   "file_extension": ".py",
   "mimetype": "text/x-python",
   "name": "python",
   "nbconvert_exporter": "python",
   "pygments_lexer": "ipython3",
   "version": "3.5.4"
  }
 },
 "nbformat": 4,
 "nbformat_minor": 2
}
