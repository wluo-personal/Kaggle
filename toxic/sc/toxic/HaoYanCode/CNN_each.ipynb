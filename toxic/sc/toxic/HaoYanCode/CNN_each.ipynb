{
 "cells": [
  {
   "cell_type": "code",
   "execution_count": 1,
   "metadata": {},
   "outputs": [],
   "source": [
    "import pandas as pd\nimport numpy as np\nfrom keras import regularizers\nfrom keras.models import Model\nfrom keras.layers import Dense, Embedding, Input, Conv1D, MaxPooling1D, GlobalMaxPooling1D, Dropout\nfrom keras.preprocessing import text, sequence\nfrom keras.callbacks import EarlyStopping, ModelCheckpoint\nfrom sklearn.metrics import roc_auc_score"
   ]
  },
  {
   "cell_type": "code",
   "execution_count": 2,
   "metadata": {},
   "outputs": [],
   "source": [
    "PATH = '../../data/'\n\ntrain = pd.read_csv(PATH + 'cleaned_train.csv')\ntest = pd.read_csv(PATH + 'cleaned_test.csv')\n\ntrain_sentence = train['comment_text_cleaned']\ntest_sentence = test['comment_text_cleaned']\n\ntext_length = pd.concat([train_sentence.apply(lambda x: len(x.split())),\\\n                         test_sentence.apply(lambda x: len(x.split()))])\n\nmean_length = text_length.mean()\nstd_length = text_length.std()\n\nprint(train.shape)\nprint(test.shape)\nprint(mean_length)\nprint(std_length)"
   ]
  },
  {
   "cell_type": "code",
   "execution_count": 3,
   "metadata": {},
   "outputs": [],
   "source": [
    "# config\nMAX_FEATURES = 100000 # max num of words\nMAX_LEN = np.round(mean_length + 3*std_length).astype(int) # max sequence length\nEMBED_SIZE = 50 # embedding size\nFILTERS = 128 # cnn config\nKERNEL_SIZE = 7 #cnn config\nDENSE_UNITS = 50\nDROPOUT = 0.3 # dropout rate\nBATCH_SIZE = 32\nEPOCHS = 2\nEMBEDDING_FILE = 'glove.6B.50d.txt'\n\nlabel_cols = ['toxic', 'severe_toxic', 'obscene', 'threat', 'insult', 'identity_hate']\n\nprint('done')"
   ]
  },
  {
   "cell_type": "code",
   "execution_count": 4,
   "metadata": {},
   "outputs": [],
   "source": [
    "tokenizer = text.Tokenizer(num_words=MAX_FEATURES)\ntokenizer.fit_on_texts(pd.concat([train_sentence, test_sentence]).values)\ntokenized_train = tokenizer.texts_to_sequences(train_sentence.values)\ntokenized_test = tokenizer.texts_to_sequences(test_sentence.values)\n\nX_train = sequence.pad_sequences(tokenized_train, maxlen=MAX_LEN)\n# y = train[label_cols].values\nX_test = sequence.pad_sequences(tokenized_test, maxlen=MAX_LEN)\n\nprint(tokenized_train[0])"
   ]
  },
  {
   "cell_type": "code",
   "execution_count": 5,
   "metadata": {},
   "outputs": [],
   "source": [
    "def get_coefs(word,*arr): return word, np.asarray(arr, dtype='float32')\n\ndef get_embedding_matrix(embedding_file, embed_size, max_features, tokenizer):\n    embeddings_index = dict(get_coefs(*o.strip().split()) for o in open(embedding_file))\n    all_embs = np.stack(embeddings_index.values())\n    word_index = tokenizer.word_index\n    nb_words = min(max_features, len(word_index))\n    embedding_matrix = np.random.normal(all_embs.mean(), all_embs.std(), (nb_words, embed_size))\n    for word, i in word_index.items():\n        if i < max_features:\n            embedding_vector = embeddings_index.get(word)\n            if embedding_vector is not None: embedding_matrix[i] = embedding_vector\n    return embedding_matrix\n\ndef get_cnn_model(embedding_file, embed_size, max_features, tokenizer,\\\n                  kernel_size, filters, dropout, dense_units, max_len, label_cols, output_size):\n    embedding_matrix = get_embedding_matrix(embedding_file, embed_size, max_features, tokenizer)\n    input = Input(shape=(max_len, ))\n    x = Embedding(max_features, embed_size, weights=[embedding_matrix])(input)\n    x = Conv1D(FILTERS, kernel_size, padding='same', activation='relu')(x)\n    x = MaxPooling1D()(x)\n    x = Conv1D(filters, kernel_size, padding='same', activation='relu')(x)\n    x = GlobalMaxPooling1D()(x)\n    x = Dropout(dropout)(x)\n    x = Dense(dense_units, activation='relu', kernel_regularizer=regularizers.l2(0.01))(x)\n    x = Dense(output_size, activation='sigmoid')(x)\n    model = Model(inputs=input, outputs=x)\n    model.compile(loss='binary_crossentropy',\n                  optimizer='adam',\n                  metrics=['accuracy'])\n\n    return model\n\ndef train_model(model, file_path, batch_size, epochs, X_train, y):\n    checkpoint = ModelCheckpoint(file_path, monitor='val_loss', verbose=1, save_best_only=True, mode='min')\n    earlystopping = EarlyStopping(monitor=\"val_loss\", mode=\"min\", patience=20)\n    callbacks_list = [checkpoint, earlystopping]\n    model.fit(X_train, y, batch_size=batch_size, epochs=epochs, validation_split=0.1, callbacks=callbacks_list)\n    return model\n\ndef predict(model, file_path, X_test):\n    model.load_weights(file_path)\n    return model.predict(X_test, verbose=1)\n    \ndef save(model_name, y_test, label_cols, path, is_train=False):\n    if is_train:\n        submission = pd.read_csv(path + 'sample_train.csv')\n        file_name = 'train_' + model_name\n    else:\n        submission = pd.read_csv(path + 'sample_submission.csv')\n        file_name = model_name\n    submission[label_cols] = y_test\n    submission.to_csv(path + model_name + '/' + file_name + '.csv', index=False)\n    \nprint('done')"
   ]
  },
  {
   "cell_type": "code",
   "execution_count": 6,
   "metadata": {},
   "outputs": [],
   "source": [
    "file_path = '../../model/cnn_best.hdf5'\nsample_submission_file_path = PATH + 'sample_submission.csv'\n\npreds = np.zeros((test.shape[0], len(label_cols)))\npreds_train = np.zeros((train.shape[0], len(label_cols)))\n\nfor i, j in enumerate(label_cols):\n    print('fit', j)\n    y = train[j].to_frame()\n    y['2'] = 1 - y\n    y = y.values\n    model = get_cnn_model(PATH + EMBEDDING_FILE, EMBED_SIZE, MAX_FEATURES, tokenizer,\\\n                          KERNEL_SIZE, FILTERS, DROPOUT, DENSE_UNITS, MAX_LEN, label_cols, 2)\n    model = train_model(model, file_path, BATCH_SIZE, EPOCHS, X_train, y)\n    preds[:, i] = predict(model, file_path, X_test)[:, 0]\n    preds_train[:, i] = predict(model, file_path, X_train)[:, 0]\n    print('accuracy: {}'.format(roc_auc_score(train[j], preds_train[:, i])))\n    print('\\n\\n')\n\nsave('cnn', preds, label_cols, PATH)\nsave('cnn', preds_train, label_cols, PATH, True)\n\nprint('done')"
   ]
  }
 ],
 "metadata": {
  "kernelspec": {
   "display_name": "Python 3",
   "language": "python",
   "name": "python3"
  },
  "language_info": {
   "codemirror_mode": {
    "name": "ipython",
    "version": 3
   },
   "file_extension": ".py",
   "mimetype": "text/x-python",
   "name": "python",
   "nbconvert_exporter": "python",
   "pygments_lexer": "ipython3",
   "version": "3.6.3"
  },
  "name": "CNN_each",
  "notebookId": 3600042186122226
 },
 "nbformat": 4,
 "nbformat_minor": 0
}
