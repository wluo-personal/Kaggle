{
 "cells": [
  {
   "cell_type": "code",
   "execution_count": 1,
   "metadata": {},
   "outputs": [],
   "source": [
    "import pandas as pd\nimport numpy as np\nfrom catboost import CatBoostClassifier\nfrom sklearn.model_selection import train_test_split\n\nmodel = ['nblogreg', 'nbnn', 'cnn', 'lstm']\nlabel_cols = ['toxic', 'severe_toxic', 'obscene', 'threat', 'insult', 'identity_hate']\nPATH = '../../data/'\n\ntrain_file = PATH + model[0] + '/train_' + model[0] + '.csv'\ntest_file = PATH + model[0] + '/' + model[0] + '.csv'\nprint(train_file)\nprint(test_file)\n\ntrain = pd.read_csv(train_file)[label_cols]\ntest = pd.read_csv(test_file)[label_cols]\n\nfor i in range(1, len(model)):\n    train_file = PATH + model[i] + '/train_' + model[i] + '.csv'\n    test_file = PATH + model[i] + '/' + model[i] + '.csv'\n    print(train_file)\n    print(test_file)\n\n    train = pd.concat([train, pd.read_csv(train_file)[label_cols]], axis=1)\n    test = pd.concat([test, pd.read_csv(test_file)[label_cols]], axis=1)    \n\nother_feature_cols = ['word_count', 'unique_word_count', 'consecutive_question_marks',\\\n                      'consecutive_exclamation_marks', 'uppercase_letters', 'ellipsis',\\\n                      'period', 'parentheses_paird', 'cleaned_word_count', 'cleaned_unique_word_count',\\\n                      'cleaned_consecutive_question_marks', 'cleaned_consecutive_exclamation_marks',\\\n                      'cleaned_uppercase_letters', 'cleaned_ellipsis', 'cleaned_period', 'cleaned_parentheses_pair']\n\nprint('other features')\ntrain = pd.concat([train, pd.read_csv(PATH + 'cleaned_train.csv')[other_feature_cols]], axis=1)\ntest = pd.concat([test, pd.read_csv(PATH + 'cleaned_test.csv')[other_feature_cols]], axis=1)\n\ny = pd.read_csv(PATH + 'train.csv')[label_cols]\n\nfeatures = list(label_cols)\nfeatures.extend(other_feature_cols)\n\nprint('done')"
   ]
  },
  {
   "cell_type": "code",
   "execution_count": 2,
   "metadata": {},
   "outputs": [],
   "source": [
    "def print_feature_importance(x, features, models):\n    dict = {}\n    for i in range(len(x)):\n        which_model = models[i // len(features)]\n        which_feature = features[i % len(features)]\n        dict[(which_model + ' ' + which_feature)] = x[i]\n    print(dict)\n\nX_train, X_test, y_train, y_test = train_test_split(train, y, test_size=0.2, random_state=42)\n\nout = np.zeros((test.shape[0], len(label_cols)))\nfor i, j in enumerate(label_cols):\n    print('fit ' + j)\n    ensemble = CatBoostClassifier(iterations=3,\n                                  depth=10, \n                                  learning_rate=0.001, \n                                  loss_function='Logloss')\n    ensemble.fit(X_train, y_train[j], use_best_model=True, eval_set=[X_test, y_test[j]])\n    print_feature_importance(ensemble.get_feature_importance(X_train, y_train[j]), features, model)\n    out[:, i] = ensemble.predict_proba(test.values)[:, 0] # TODO: should ues 1 or 0?\n\nprint('done')"
   ]
  },
  {
   "cell_type": "code",
   "execution_count": 3,
   "metadata": {},
   "outputs": [],
   "source": [
    "submission = pd.read_csv(PATH + 'sample_submission.csv')\nsubmission[label_cols] = out\nsubmission.to_csv(PATH + 'ensemble/catboost_ensemble.csv', index=False)\nprint('done')"
   ]
  }
 ],
 "metadata": {
  "kernelspec": {
   "display_name": "Python 3",
   "language": "python",
   "name": "python3"
  },
  "language_info": {
   "codemirror_mode": {
    "name": "ipython",
    "version": 3
   },
   "file_extension": ".py",
   "mimetype": "text/x-python",
   "name": "python",
   "nbconvert_exporter": "python",
   "pygments_lexer": "ipython3",
   "version": "3.6.3"
  },
  "name": "catboost",
  "notebookId": 3600042186122210
 },
 "nbformat": 4,
 "nbformat_minor": 0
}
