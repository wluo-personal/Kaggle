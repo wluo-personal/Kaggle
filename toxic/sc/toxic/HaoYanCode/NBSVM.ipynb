{
 "cells": [
  {
   "cell_type": "code",
   "execution_count": 1,
   "metadata": {},
   "outputs": [],
   "source": [
    "import pandas as pd\nimport numpy as np\nimport re\nfrom nltk.corpus import stopwords\nfrom nltk.tokenize import TweetTokenizer\nfrom nltk.stem.wordnet import WordNetLemmatizer\nfrom sklearn.feature_extraction.text import CountVectorizer, TfidfVectorizer\nfrom sklearn.linear_model import LogisticRegression\nfrom sklearn.metrics import roc_auc_score\nfrom scipy.sparse import csr_matrix, hstack"
   ]
  },
  {
   "cell_type": "code",
   "execution_count": 2,
   "metadata": {},
   "outputs": [],
   "source": [
    "PATH = '../../data/'\n\nprint('reading data')\n\ntrain = pd.read_csv(PATH + 'cleaned_train.csv')\ntest = pd.read_csv(PATH + 'cleaned_test.csv')\n\nprint('data cleaning')\n\ntok = TweetTokenizer()\nlem = WordNetLemmatizer()\nstopword = set(stopwords.words(\"english\"))\n\ndef clean(comment):\n    comment = re.sub(r'-', ' ', comment)\n    text = tok.tokenize(comment)\n    text = [w for w in text if not w in stopword]\n    text = [word for word in text if not re.match(r'http:\\/\\/.*', word)]\n    text = [lem.lemmatize(word, 'n') for word in text]\n    text = ' '.join(text)\n    if text == '': text = 'na'\n    return text\n\ntrain['comment_text_cleaned'] = train['comment_text_cleaned'].apply(lambda x: clean(x))\ntest['comment_text_cleaned'] = test['comment_text_cleaned'].apply(lambda x: clean(x))\n\nprint('calculations')\n\ntrain_sentence = train['comment_text']\ntest_sentence = test['comment_text']\n\ndef f(x):\n    x = tok.tokenize(x)\n    return len(x)\n\ntext = pd.concat([train_sentence, test_sentence])\n\nprint(train.shape)\nprint(test.shape)"
   ]
  },
  {
   "cell_type": "code",
   "execution_count": 3,
   "metadata": {},
   "outputs": [],
   "source": [
    "# CountVectorizer(input=’content’, encoding=’utf-8’, decode_error=’strict’, strip_accents=None,\\\n#                 lowercase=True, preprocessor=None, tokenizer=None, stop_words=None,\\\n#                 token_pattern=’(?u)\\b\\w\\w+\\b’, ngram_range=(1, 1), analyzer=’word’, max_df=1.0,\\\n#                 min_df=1, max_features=None, vocabulary=None, binary=False, dtype=<class ‘numpy.int64’>)\n\n# TfidfVectorizer(input=’content’, encoding=’utf-8’, decode_error=’strict’, strip_accents=None,\\\n#                 lowercase=True, preprocessor=None, tokenizer=None, analyzer=’word’, stop_words=None,\\\n#                 token_pattern=’(?u)\\b\\w\\w+\\b’, ngram_range=(1, 1), max_df=1.0, min_df=1, max_features=None,\\\n#                 vocabulary=None, binary=False, dtype=<class ‘numpy.int64’>, norm=’l2’, use_idf=True,\\\n#                 smooth_idf=True, sublinear_tf=False)\n\nprint('getting tfidf')\nchar_vectorizer = TfidfVectorizer(ngram_range=(1,3), stop_words='english', max_df=0.9, min_df=100,\\\n                                  strip_accents='unicode', use_idf=1, smooth_idf=1, sublinear_tf=1,\n                                  max_features=20000, analyzer='char')\nphrase_vectorizer = TfidfVectorizer(ngram_range=(1,5), stop_words='english', max_df=0.9, min_df=100,\\\n                                    strip_accents='unicode', use_idf=1, smooth_idf=1, sublinear_tf=1,\n                                    max_features=35000)\nprint('fitting char')\nchar_vectorizer.fit(text.values)\n# print('fitting phrase')\n# phrase_vectorizer.fit(text.values)\n# print('transforming train char')\n# train_char = char_vectorizer.transform(train['comment_text_cleaned'].values)\n# print('transforming train phrase')\n# train_phrase = phrase_vectorizer.transform(train['comment_text_cleaned'].values)\n# print('transforming test char')\n# test_char = char_vectorizer.transform(test['comment_text_cleaned'].values)\n# print('transforming test phrase')\n# test_phrase = phrase_vectorizer.transform(test['comment_text_cleaned'].values)\n\n# train_tfidf = hstack((train_char, train_phrase), format='csr')\n# test_tfidf = hstack((test_char, test_phrase), format='csr')\n\nlabel_cols = ['toxic', 'severe_toxic', 'obscene', 'threat', 'insult', 'identity_hate']\n\ntrain_tfidf"
   ]
  },
  {
   "cell_type": "code",
   "execution_count": 4,
   "metadata": {},
   "outputs": [],
   "source": [
    "print(char_vectorizer.get_feature_names())"
   ]
  },
  {
   "cell_type": "code",
   "execution_count": 5,
   "metadata": {},
   "outputs": [],
   "source": [
    "# print('combine featrues')\n\n# other_feature_cols = ['word_count', 'cleaned_word_count', 'unique_word_count', 'cleaned_unique_word_count',\\\n#                       'question_marks', 'consecutive_question_marks', 'exclamation_marks',\\\n#                       'consecutive_exclamation_marks', 'uppercase_letters', 'ellipsis', 'period',\\\n#                       'parentheses_pair', 'special_symbol', 'sentence', 'upper_word_ratio', 'unique_word_ratio',\\\n#                       'mark_count_ratio']\n\nother_feature_cols = ['upper_word_ratio']\n\nprint('getting train features')\ntrain_features = [train_tfidf, csr_matrix(train[other_feature_cols].values)]\n# train_features = [train_tfidf, []]\n\nprint('getting test features')\ntest_features = [test_tfidf, csr_matrix(test[other_feature_cols].values)]\n# test_features = [test_tfidf, []]\n\ntrain_features"
   ]
  },
  {
   "cell_type": "code",
   "execution_count": 6,
   "metadata": {},
   "outputs": [],
   "source": [
    "def pr(y_i, y, train_features):\n    p = train_features[y==y_i].sum(0)\n    return (p + 1) / ((y == y_i).sum() + 1)\n\ndef get_nblogreg_model(label_cols, train_features, train, test_features):\n    preds = np.zeros((test.shape[0], len(label_cols)))\n    train_preds = np.zeros((train.shape[0], len(label_cols)))\n    for i, j in enumerate(label_cols):\n        print('fit', j)\n        y = train[j].values\n        r = np.log(pr(1, y, train_features[0]) / pr(0, y, train_features[0]))\n        model = LogisticRegression(C=4, dual=True)\n#         x_nb = hstack((train_features[0].multiply(r), train_features[1]), format='csr')\n        x_nb = hstack((train_features[0], train_features[1]), format='csr')\n        model.fit(x_nb, y)\n#         preds[:, i] = model.predict_proba(hstack((test_features[0].multiply(r), test_features[1]), format='csr'))[:, 1]\n        preds[:, i] = model.predict_proba(hstack((test_features[0], test_features[1]), format='csr'))[:, 1]\n        train_preds[:, i] = model.predict_proba(x_nb)[:, 1]\n        print('accuracy is {}'.format(roc_auc_score(y, train_preds[:, i])))\n    return preds, train_preds\n\ndef save(model_name, y_test, label_cols, path, is_train=False):\n    if is_train:\n        submission = pd.read_csv(path + 'sample_train.csv')\n        file_name = 'train_' + model_name\n    else:\n        submission = pd.read_csv(path + 'sample_submission.csv')\n        file_name = model_name\n    submission[label_cols] = y_test\n    submission.to_csv(path + model_name + '/' + file_name + '.csv', index=False)\n    \nprint('done')"
   ]
  },
  {
   "cell_type": "code",
   "execution_count": 7,
   "metadata": {},
   "outputs": [],
   "source": [
    "print('predicting')\nn = 1\nprint('the {}-th step'.format(0))\ny_test, y_train = get_nblogreg_model(label_cols, train_features, train, test_features)\nprint('\\n\\n')\nfor i in range(n - 1):\n    print('the {}-th step'.format(i + 1))\n    tmp1, tmp2 = get_nblogreg_model(label_cols, train_features, train, test_features)\n    y_test += tmp1\n    y_train += tmp2\n    print('\\n\\n')\n    \ny_test /= n\ny_train /= n\n\nprint('total score is {}'.format(roc_auc_score(train[label_cols], y_train)))\n\nprint('saving files')\nmodel_name = 'nblogreg'\nsave(model_name, y_test, label_cols, PATH)\nsave(model_name, y_train, label_cols, PATH, True)\n\nprint('done')"
   ]
  }
 ],
 "metadata": {
  "kernelspec": {
   "display_name": "Python 3",
   "language": "python",
   "name": "python3"
  },
  "language_info": {
   "codemirror_mode": {
    "name": "ipython",
    "version": 3
   },
   "file_extension": ".py",
   "mimetype": "text/x-python",
   "name": "python",
   "nbconvert_exporter": "python",
   "pygments_lexer": "ipython3",
   "version": "3.6.3"
  },
  "name": "NBSVM",
  "notebookId": 3600042186122247
 },
 "nbformat": 4,
 "nbformat_minor": 0
}
