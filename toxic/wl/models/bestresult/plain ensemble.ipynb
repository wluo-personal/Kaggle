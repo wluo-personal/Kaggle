{
 "cells": [
  {
   "cell_type": "code",
   "execution_count": 8,
   "metadata": {},
   "outputs": [
    {
     "name": "stdout",
     "output_type": "stream",
     "text": [
      "nbsvm_best_c_0.02.csv\n",
      "nblogreg_best_c_0.2.csv\n",
      "fasttext_9839.csv\n",
      "done\n"
     ]
    }
   ],
   "source": [
    "import pandas as pd\n",
    "import numpy as np\n",
    "from sklearn.metrics import roc_auc_score\n",
    "\n",
    "# 9851\n",
    "# model = ['cool', 'logreg', 'lstm', 'cnn', 'nblogregOnevsOne', 'fasttext']\n",
    "# weight = [5, 2, 3, 2, 5, 5]\n",
    "\n",
    "# 9852\n",
    "# model = ['cool', 'lstm', 'cnn', 'nblogregOnevsOne', 'fasttext']\n",
    "# weight = [5, 3, 2, 5, 5]\n",
    "\n",
    "# 9852\n",
    "model = ['nbsvm_best_c_0.02','nblogreg_best_c_0.2', 'lstm_9801', 'nblogregOnevsOne_9818', 'fasttext_9839']\n",
    "weight = [4, 4, 2, 3,5]\n",
    "\n",
    "# 9852\n",
    "model = ['nbsvm_best_c_0.02','nblogreg_best_c_0.2',  'fasttext_9839']\n",
    "weight = [4, 4, 10]\n",
    "\n",
    "# 9851\n",
    "# model = ['cool', 'lstm', 'fasttext']\n",
    "# weight = [1, 1, 1]\n",
    "\n",
    "label_cols = ['toxic', 'severe_toxic', 'obscene', 'threat', 'insult', 'identity_hate']\n",
    "PATH = ''\n",
    "\n",
    "\n",
    "\n",
    "test_file = PATH  + model[0] + '.csv'\n",
    "print(test_file)\n",
    "\n",
    "test = weight[0] * pd.read_csv(test_file)[label_cols]\n",
    "\n",
    "for i in range(1, len(model)):\n",
    "    test_file = PATH + model[i] + '.csv'\n",
    "    print(test_file)\n",
    "    test +=  weight[i] * pd.read_csv(test_file)[label_cols]\n",
    "\n",
    "test = test / sum(weight)\n",
    "# print(test.shape, train[label_cols].shape)\n",
    "# print('total score is {}'.format(roc_auc_score(train[label_cols], test)))\n",
    "\n",
    "submission = pd.read_csv('../../data/sample_submission.csv')\n",
    "submission[label_cols] = test\n",
    "# file_name = ''\n",
    "# for \n",
    "submission.to_csv('plain_ensemble.csv', index=False)\n",
    "    \n",
    "print('done')"
   ]
  },
  {
   "cell_type": "code",
   "execution_count": null,
   "metadata": {
    "collapsed": true
   },
   "outputs": [],
   "source": []
  }
 ],
 "metadata": {
  "kernelspec": {
   "display_name": "Python 3",
   "language": "python",
   "name": "python3"
  },
  "language_info": {
   "codemirror_mode": {
    "name": "ipython",
    "version": 3
   },
   "file_extension": ".py",
   "mimetype": "text/x-python",
   "name": "python",
   "nbconvert_exporter": "python",
   "pygments_lexer": "ipython3",
   "version": "3.6.3"
  }
 },
 "nbformat": 4,
 "nbformat_minor": 2
}
