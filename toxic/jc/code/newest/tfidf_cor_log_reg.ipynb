{
 "cells": [
  {
   "cell_type": "code",
   "execution_count": 6,
   "metadata": {
    "collapsed": true
   },
   "outputs": [],
   "source": [
    "import pandas as pd\n",
    "import numpy as np\n",
    "import re\n",
    "from nltk.corpus import stopwords\n",
    "from nltk.tokenize import TweetTokenizer\n",
    "from nltk.stem.wordnet import WordNetLemmatizer\n",
    "from sklearn.feature_extraction.text import CountVectorizer, TfidfVectorizer, TfidfTransformer\n",
    "from sklearn.linear_model import LogisticRegression\n",
    "from sklearn.metrics import roc_auc_score\n",
    "from scipy.sparse import csr_matrix, hstack"
   ]
  },
  {
   "cell_type": "code",
   "execution_count": 2,
   "metadata": {},
   "outputs": [
    {
     "name": "stdout",
     "output_type": "stream",
     "text": [
      "(159571, 27)\n",
      "(153164, 21)\n"
     ]
    }
   ],
   "source": [
    "PATH = '../../data/'\n",
    "\n",
    "train = pd.read_csv(PATH + 'cleaned_train.csv')\n",
    "test = pd.read_csv(PATH + 'cleaned_test.csv')\n",
    "\n",
    "train_sentence = train['comment_text_cleaned']\n",
    "test_sentence = test['comment_text_cleaned']\n",
    "\n",
    "text = pd.concat([train_sentence, test_sentence])\n",
    "\n",
    "print(train.shape)\n",
    "print(test.shape)"
   ]
  },
  {
   "cell_type": "code",
   "execution_count": 7,
   "metadata": {},
   "outputs": [
    {
     "name": "stdout",
     "output_type": "stream",
     "text": [
      "getting tf count\n",
      "fitting char\n",
      "fitting phrase\n",
      "transforming train char\n",
      "transforming train phrase\n",
      "transforming test char\n",
      "transforming test phrase\n",
      "fitting char\n",
      "fitting phrase\n",
      "transforming test char\n",
      "transforming test phrase\n"
     ]
    },
    {
     "data": {
      "text/plain": [
       "<159571x300000 sparse matrix of type '<class 'numpy.float64'>'\n",
       "\twith 158451746 stored elements in Compressed Sparse Row format>"
      ]
     },
     "execution_count": 7,
     "metadata": {},
     "output_type": "execute_result"
    }
   ],
   "source": [
    "# CountVectorizer(input=’content’, encoding=’utf-8’, decode_error=’strict’, strip_accents=None,\\\n",
    "#                 lowercase=True, preprocessor=None, tokenizer=None, stop_words=None,\\\n",
    "#                 token_pattern=’(?u)\\b\\w\\w+\\b’, ngram_range=(1, 1), analyzer=’word’, max_df=1.0,\\\n",
    "#                 min_df=1, max_features=None, vocabulary=None, binary=False, dtype=<class ‘numpy.int64’>)\n",
    "\n",
    "# TfidfVectorizer(input=’content’, encoding=’utf-8’, decode_error=’strict’, strip_accents=None,\\\n",
    "#                 lowercase=True, preprocessor=None, tokenizer=None, analyzer=’word’, stop_words=None,\\\n",
    "#                 token_pattern=’(?u)\\b\\w\\w+\\b’, ngram_range=(1, 1), max_df=1.0, min_df=1, max_features=None,\\\n",
    "#                 vocabulary=None, binary=False, dtype=<class ‘numpy.int64’>, norm=’l2’, use_idf=True,\\\n",
    "#                 smooth_idf=True, sublinear_tf=False)\n",
    "\n",
    "print('getting tf count')\n",
    "phrase_vectorizer = CountVectorizer(ngram_range=(1,3),\n",
    "                                    strip_accents='unicode', \n",
    "                                    max_features=100000, \n",
    "                                    analyzer='word',\n",
    "                                    token_pattern=r'\\w{1,}')\n",
    "char_vectorizer = CountVectorizer(ngram_range=(1,5), \n",
    "                                  strip_accents='unicode', \n",
    "                                  max_features=200000, \n",
    "                                  analyzer='char')\n",
    "\n",
    "phrase_tfidf = TfidfTransformer(sublinear_tf=True)\n",
    "char_tfidf = TfidfTransformer(sublinear_tf=True)\n",
    "\n",
    "\n",
    "print('fitting char')\n",
    "char_vectorizer.fit(text.values)\n",
    "print('fitting phrase')\n",
    "phrase_vectorizer.fit(text.values)\n",
    "print('transforming train char')\n",
    "train_char_count = char_vectorizer.transform(train_sentence.values)\n",
    "print('transforming train phrase')\n",
    "train_phrase_count = phrase_vectorizer.transform(train_sentence.values)\n",
    "print('transforming test char')\n",
    "test_char_count = char_vectorizer.transform(test_sentence.values)\n",
    "print('transforming test phrase')\n",
    "test_phrase_count = phrase_vectorizer.transform(test_sentence.values)\n",
    "\n",
    "\n",
    "\n",
    "\n",
    "print('fitting char')\n",
    "train_char = char_tfidf.fit_transform(train_char_count)\n",
    "print('fitting phrase')\n",
    "train_phrase = phrase_tfidf.fit_transform(train_phrase_count)\n",
    "print('transforming test char')\n",
    "test_char = char_tfidf.transform(test_char_count)\n",
    "print('transforming test phrase')\n",
    "test_phrase = phrase_tfidf.transform(test_phrase_count)\n",
    "\n",
    "\n",
    "\n",
    "\n",
    "train_tfidf = hstack((train_char, train_phrase), format='csr')\n",
    "test_tfidf = hstack((test_char, test_phrase), format='csr')\n",
    "\n",
    "\n",
    "\n",
    "train_tf = hstack((train_char_count, train_phrase_count), format='csr')\n",
    "test_tf = hstack((test_char_count, test_phrase_count), format='csr')\n",
    "\n",
    "label_cols = ['toxic', 'severe_toxic', 'obscene', 'threat', 'insult', 'identity_hate']\n",
    "\n",
    "train_tf\n",
    "train_tfidf"
   ]
  },
  {
   "cell_type": "code",
   "execution_count": 9,
   "metadata": {},
   "outputs": [
    {
     "name": "stdout",
     "output_type": "stream",
     "text": [
      "done\n"
     ]
    }
   ],
   "source": [
    "def corr2_coeff(A,B):\n",
    "    # this function returns corr matrix of n*a matrix A and n*b matrix B\n",
    "    \n",
    "    matrix_corr = np.zeros((A.shape[1], B.shape[1]))\n",
    "\n",
    "    for j in range(A.shape[1]):\n",
    "        a = A[:,j].todense()\n",
    "\n",
    "        for i in range(B.shape[1]):\n",
    "            b = B[:,i].todense()\n",
    "            \n",
    "            numerator = np.dot((a - a.mean()).T , (b - b.mean()))/a.shape[0]\n",
    "\n",
    "            denomitor = np.std(a) * np.std(b)\n",
    "\n",
    "            matrix_corr[j,i] = numerator / denomitor\n",
    "        file = open('tfidf_printing.txt','a')\n",
    "        file.write(str(j) +'\\n')\n",
    "        file.close()\n",
    "    \n",
    "        print(j)\n",
    "    \n",
    "    # Finally get corr coeff\n",
    "    return matrix_corr\n",
    "\n",
    "def get_corr_reg_model(label_cols, train_tf, train_tfidf, train, test_tf, test_tfidf):\n",
    "    \n",
    "    preds = np.zeros((test.shape[0], len(label_cols)))\n",
    "    train_preds = np.zeros((train.shape[0], len(label_cols)))\n",
    "    \n",
    "    l = csr_matrix(train[label_cols].values)\n",
    "    cor = pd.read_csv('../../data/corr.csv')\n",
    "    cor = cor.fillna(0).values\n",
    "    \n",
    "    for i, j in enumerate(label_cols):\n",
    "        print('fit', j)\n",
    "        y = train[j].values\n",
    "        r = cor[:,i]\n",
    "        \n",
    "        model = LogisticRegression()\n",
    "        x_cor = train_tfidf.multiply(r).tocsr()\n",
    "        model.fit(x_cor, y)\n",
    "        preds[:, i] = model.predict_proba(test_tfidf.multiply(r))[:, 1]\n",
    "        train_preds[:, i] = model.predict_proba(x_cor)[:, 1]\n",
    "        print('accuracy is {}'.format(roc_auc_score(y, train_preds[:, i])))\n",
    "        \n",
    "    return preds, train_preds\n",
    "\n",
    "def save(model_name, y_test, label_cols, path, is_train=False):\n",
    "    if is_train:\n",
    "        submission = pd.read_csv(path + 'sample_train.csv')\n",
    "        file_name = 'train_' + model_name\n",
    "    else:\n",
    "        submission = pd.read_csv(path + 'sample_submission.csv')\n",
    "        file_name = model_name\n",
    "    submission[label_cols] = y_test\n",
    "    submission.to_csv(path + model_name + '/' + file_name + '.csv', index=False)\n",
    "    \n",
    "print('done')"
   ]
  },
  {
   "cell_type": "code",
   "execution_count": null,
   "metadata": {},
   "outputs": [
    {
     "name": "stdout",
     "output_type": "stream",
     "text": [
      "predicting\n"
     ]
    }
   ],
   "source": [
    "import os\n",
    "os.environ['MKL_NUM_THREADS']='6'\n",
    "os.environ['NUMEXPR_NUM_THREADS']='6'\n",
    "os.environ['OMP_NUM_THREADS']='6'\n",
    "\n",
    "print('predicting')\n",
    "y_test, y_train = get_corr_reg_model(label_cols, train_tf, train_tfidf, train, test_tf, test_tfidf)\n",
    "print('total score is {}'.format(roc_auc_score(train[label_cols], y_train)))\n",
    "\n",
    "print('saving files')\n",
    "model_name = 'tfidf_cor_log_reg'\n",
    "save(model_name, y_test, label_cols, PATH)\n",
    "save(model_name, y_train, label_cols, PATH, True)\n",
    "\n",
    "print('done')"
   ]
  },
  {
   "cell_type": "code",
   "execution_count": null,
   "metadata": {
    "collapsed": true
   },
   "outputs": [],
   "source": []
  }
 ],
 "metadata": {
  "kernelspec": {
   "display_name": "Python 3",
   "language": "python",
   "name": "python3"
  },
  "language_info": {
   "codemirror_mode": {
    "name": "ipython",
    "version": 3
   },
   "file_extension": ".py",
   "mimetype": "text/x-python",
   "name": "python",
   "nbconvert_exporter": "python",
   "pygments_lexer": "ipython3",
   "version": "3.6.3"
  }
 },
 "nbformat": 4,
 "nbformat_minor": 2
}
