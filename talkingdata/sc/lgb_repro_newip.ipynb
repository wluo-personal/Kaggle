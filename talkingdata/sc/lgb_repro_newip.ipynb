{
 "cells": [
  {
   "cell_type": "code",
   "execution_count": 10,
   "metadata": {
    "collapsed": true
   },
   "outputs": [],
   "source": [
    "\"\"\"\n",
    "A non-blending lightGBM model that incorporates portions and ideas from various public kernels.\n",
    "\"\"\"\n",
    "DEBUG = False\n",
    "VAL_RUN = False\n",
    "WHERE = 'kaggle'\n",
    "import time\n",
    "FILENO = str(int(time.time()))[3:]\n",
    "NCHUNK = 184903890#75000000#32000000\n",
    "OFFSET = 184903890#75000000\n",
    "\n",
    "MISSING32 = 999999999\n",
    "MISSING8 = 255\n",
    "PUBLIC_CUTOFF = 4032690\n",
    "\n",
    "if WHERE=='kaggle':\n",
    "\tinpath = '/home/kai/data/kaggle/talkingdata/data/'\n",
    "\tpickle_path ='/home/kai/data/kaggle/talkingdata/data/training-and-validation-data-pickle/'\n",
    "\tsuffix = ''\n",
    "\toutpath = ''\n",
    "\tsavepath = ''\n",
    "\toofpath = ''\n",
    "\tcores = 4\n",
    "elif WHERE=='oof':\n",
    "\tinpath = '/home/kai/data/kaggle/talkingdata/data/'\n",
    "\tpickle_path = '/home/kai/data/kaggle/talkingdata/data/training-and-validation-data-pickle/'\n",
    "\tsuffix = '.zip'\n",
    "\toutpath = '/home/kai/data/kaggle/talkingdata/data/training-and-validation-data-pickle/sub/'\n",
    "\toofpath = '/home/kai/data/kaggle/talkingdata/data/training-and-validation-data-pickle/oof/'\n",
    "\tsavepath = '/home/kai/data/kaggle/talkingdata/data/training-and-validation-data-pickle/save'\n",
    "\tcores = 7"
   ]
  },
  {
   "cell_type": "code",
   "execution_count": 11,
   "metadata": {
    "collapsed": true
   },
   "outputs": [],
   "source": [
    "import pandas as pd\n",
    "import time\n",
    "import numpy as np\n",
    "from sklearn.model_selection import train_test_split\n",
    "from sklearn.metrics import roc_auc_score\n",
    "import lightgbm as lgb\n",
    "import gc\n",
    "import matplotlib.pyplot as plt\n",
    "import os"
   ]
  },
  {
   "cell_type": "code",
   "execution_count": 12,
   "metadata": {
    "collapsed": true
   },
   "outputs": [],
   "source": [
    "def do_count( df, group_cols, agg_name, agg_type='uint32', show_max=False, show_agg=True ):\n",
    "    if show_agg:\n",
    "        print( \"Aggregating by \", group_cols , '...' )\n",
    "    gp = df[group_cols][group_cols].groupby(group_cols).size().rename(agg_name).to_frame().reset_index()\n",
    "    df = df.merge(gp, on=group_cols, how='left')\n",
    "    del gp\n",
    "    if show_max:\n",
    "        print( agg_name + \" max value = \", df[agg_name].max() )\n",
    "    df[agg_name] = df[agg_name].astype(agg_type)\n",
    "    gc.collect()\n",
    "    return( df )\n",
    "\n",
    "def do_countuniq( df, group_cols, counted, agg_name, agg_type='uint32', show_max=False, show_agg=True ):\n",
    "    if show_agg:\n",
    "        print( \"Counting unqiue \", counted, \" by \", group_cols , '...' )\n",
    "    gp = df[group_cols+[counted]].groupby(group_cols)[counted].nunique().reset_index().rename(columns={counted:agg_name})\n",
    "    df = df.merge(gp, on=group_cols, how='left')\n",
    "    del gp\n",
    "    if show_max:\n",
    "        print( agg_name + \" max value = \", df[agg_name].max() )\n",
    "    df[agg_name] = df[agg_name].astype(agg_type)\n",
    "    gc.collect()\n",
    "    return( df )\n",
    "    \n",
    "def do_cumcount( df, group_cols, counted, agg_name, agg_type='uint32', show_max=False, show_agg=True ):\n",
    "    if show_agg:\n",
    "        print( \"Cumulative count by \", group_cols , '...' )\n",
    "    gp = df[group_cols+[counted]].groupby(group_cols)[counted].cumcount()\n",
    "    df[agg_name]=gp.values\n",
    "    del gp\n",
    "    if show_max:\n",
    "        print( agg_name + \" max value = \", df[agg_name].max() )\n",
    "    df[agg_name] = df[agg_name].astype(agg_type)\n",
    "    gc.collect()\n",
    "    return( df )\n",
    "\n",
    "def do_mean( df, group_cols, counted, agg_name, agg_type='float32', show_max=False, show_agg=True ):\n",
    "    if show_agg:\n",
    "        print( \"Calculating mean of \", counted, \" by \", group_cols , '...' )\n",
    "    gp = df[group_cols+[counted]].groupby(group_cols)[counted].mean().reset_index().rename(columns={counted:agg_name})\n",
    "    df = df.merge(gp, on=group_cols, how='left')\n",
    "    del gp\n",
    "    if show_max:\n",
    "        print( agg_name + \" max value = \", df[agg_name].max() )\n",
    "    df[agg_name] = df[agg_name].astype(agg_type)\n",
    "    gc.collect()\n",
    "    return( df )\n",
    "\n",
    "def do_var( df, group_cols, counted, agg_name, agg_type='float32', show_max=False, show_agg=True ):\n",
    "    if show_agg:\n",
    "        print( \"Calculating variance of \", counted, \" by \", group_cols , '...' )\n",
    "    gp = df[group_cols+[counted]].groupby(group_cols)[counted].var().reset_index().rename(columns={counted:agg_name})\n",
    "    df = df.merge(gp, on=group_cols, how='left')\n",
    "    del gp\n",
    "    if show_max:\n",
    "        print( agg_name + \" max value = \", df[agg_name].max() )\n",
    "    df[agg_name] = df[agg_name].astype(agg_type)\n",
    "    gc.collect()\n",
    "    return( df )"
   ]
  },
  {
   "cell_type": "code",
   "execution_count": 13,
   "metadata": {
    "collapsed": true
   },
   "outputs": [],
   "source": [
    "debug = DEBUG\n",
    "if debug:\n",
    "    print('*** debug parameter set: this is a test run for debugging purposes ***')\n",
    "\n",
    "    \n",
    "if VAL_RUN:\n",
    "    nrows=122071522\n",
    "    outpath = oofpath\n",
    "else:\n",
    "    nrows=184903890\n",
    "nchunk=NCHUNK\n",
    "val_size=2500000\n",
    "frm=nrows-OFFSET\n",
    "if debug:\n",
    "    frm=0\n",
    "    nchunk=100000\n",
    "    val_size=10000\n",
    "to=frm+nchunk\n",
    "fileno = FILENO"
   ]
  },
  {
   "cell_type": "code",
   "execution_count": 14,
   "metadata": {
    "collapsed": true
   },
   "outputs": [],
   "source": [
    "dtypes = {\n",
    "        'ip'            : 'uint32',\n",
    "        'app'           : 'uint16',\n",
    "        'device'        : 'uint16',\n",
    "        'os'            : 'uint16',\n",
    "        'channel'       : 'uint16',\n",
    "        'is_attributed' : 'uint8',\n",
    "        'click_id'      : 'uint32',\n",
    "        }\n"
   ]
  },
  {
   "cell_type": "code",
   "execution_count": 15,
   "metadata": {},
   "outputs": [
    {
     "data": {
      "text/plain": [
       "(0, 184903890)"
      ]
     },
     "execution_count": 15,
     "metadata": {},
     "output_type": "execute_result"
    }
   ],
   "source": [
    "frm,to"
   ]
  },
  {
   "cell_type": "code",
   "execution_count": 16,
   "metadata": {},
   "outputs": [
    {
     "name": "stdout",
     "output_type": "stream",
     "text": [
      "loading train data... 0 184903890\n",
      "loading test data...\n"
     ]
    }
   ],
   "source": [
    "if VAL_RUN:\n",
    "    print('loading train data...',frm,to)\n",
    "    train_df = pd.read_pickle( pickle_path+\"training.pkl.gz\" )[frm:to]\n",
    "    train_df['click_time'] = pd.to_datetime( train_df.click_time )\n",
    "    print('loading test data...')\n",
    "    if debug:\n",
    "        public_cutoff = 10000\n",
    "        test_df = pd.read_pickle( pickle_path+\"validation.pkl.gz\" )[:30000]\n",
    "        test_df['click_time'] = pd.to_datetime( test_df.click_time )\n",
    "        y_test = test_df['is_attributed'].values\n",
    "        test_df.drop(['is_attributed'],axis=1,inplace=True)\n",
    "    else:\n",
    "        public_cutoff = PUBLIC_CUTOFF\n",
    "        test_df = pd.read_pickle( pickle_path+\"validation.pkl.gz\" )\n",
    "        test_df['click_time'] = pd.to_datetime( test_df.click_time )\n",
    "        y_test = test_df['is_attributed'].values\n",
    "        test_df.drop(['is_attributed'],axis=1,inplace=True)\n",
    "else:\n",
    "    print('loading train data...',frm,to)\n",
    "    train_df = pd.read_csv(inpath+\"train.csv\", parse_dates=['click_time'], skiprows=range(1,frm), nrows=to-frm, dtype=dtypes, usecols=['ip','app','device','os', 'channel', 'click_time', 'is_attributed'])\n",
    "    print('loading test data...')\n",
    "    if debug:\n",
    "        test_df = pd.read_csv(inpath+\"test.csv\", nrows=100000, parse_dates=['click_time'], dtype=dtypes, usecols=['ip','app','device','os', 'channel', 'click_time', 'click_id'])\n",
    "    else:\n",
    "        test_df = pd.read_csv(inpath+\"test.csv\", parse_dates=['click_time'], dtype=dtypes, usecols=['ip','app','device','os', 'channel', 'click_time', 'click_id'])\n",
    "    train_df['click_id'] = MISSING32\n",
    "    train_df['click_id'] = train_df.click_id.astype('uint32')"
   ]
  },
  {
   "cell_type": "code",
   "execution_count": 17,
   "metadata": {},
   "outputs": [
    {
     "data": {
      "text/plain": [
       "((184903890, 8), (18790469, 7))"
      ]
     },
     "execution_count": 17,
     "metadata": {},
     "output_type": "execute_result"
    }
   ],
   "source": [
    "train_df.shape, test_df.shape"
   ]
  },
  {
   "cell_type": "code",
   "execution_count": 18,
   "metadata": {},
   "outputs": [
    {
     "data": {
      "text/html": [
       "<div>\n",
       "<style>\n",
       "    .dataframe thead tr:only-child th {\n",
       "        text-align: right;\n",
       "    }\n",
       "\n",
       "    .dataframe thead th {\n",
       "        text-align: left;\n",
       "    }\n",
       "\n",
       "    .dataframe tbody tr th {\n",
       "        vertical-align: top;\n",
       "    }\n",
       "</style>\n",
       "<table border=\"1\" class=\"dataframe\">\n",
       "  <thead>\n",
       "    <tr style=\"text-align: right;\">\n",
       "      <th></th>\n",
       "      <th>ip</th>\n",
       "      <th>app</th>\n",
       "      <th>device</th>\n",
       "      <th>os</th>\n",
       "      <th>channel</th>\n",
       "      <th>click_time</th>\n",
       "      <th>is_attributed</th>\n",
       "      <th>click_id</th>\n",
       "    </tr>\n",
       "  </thead>\n",
       "  <tbody>\n",
       "    <tr>\n",
       "      <th>0</th>\n",
       "      <td>83230</td>\n",
       "      <td>3</td>\n",
       "      <td>1</td>\n",
       "      <td>13</td>\n",
       "      <td>379</td>\n",
       "      <td>2017-11-06 14:32:21</td>\n",
       "      <td>0</td>\n",
       "      <td>999999999</td>\n",
       "    </tr>\n",
       "    <tr>\n",
       "      <th>1</th>\n",
       "      <td>17357</td>\n",
       "      <td>3</td>\n",
       "      <td>1</td>\n",
       "      <td>19</td>\n",
       "      <td>379</td>\n",
       "      <td>2017-11-06 14:33:34</td>\n",
       "      <td>0</td>\n",
       "      <td>999999999</td>\n",
       "    </tr>\n",
       "    <tr>\n",
       "      <th>2</th>\n",
       "      <td>35810</td>\n",
       "      <td>3</td>\n",
       "      <td>1</td>\n",
       "      <td>13</td>\n",
       "      <td>379</td>\n",
       "      <td>2017-11-06 14:34:12</td>\n",
       "      <td>0</td>\n",
       "      <td>999999999</td>\n",
       "    </tr>\n",
       "    <tr>\n",
       "      <th>3</th>\n",
       "      <td>45745</td>\n",
       "      <td>14</td>\n",
       "      <td>1</td>\n",
       "      <td>13</td>\n",
       "      <td>478</td>\n",
       "      <td>2017-11-06 14:34:52</td>\n",
       "      <td>0</td>\n",
       "      <td>999999999</td>\n",
       "    </tr>\n",
       "    <tr>\n",
       "      <th>4</th>\n",
       "      <td>161007</td>\n",
       "      <td>3</td>\n",
       "      <td>1</td>\n",
       "      <td>13</td>\n",
       "      <td>379</td>\n",
       "      <td>2017-11-06 14:35:08</td>\n",
       "      <td>0</td>\n",
       "      <td>999999999</td>\n",
       "    </tr>\n",
       "  </tbody>\n",
       "</table>\n",
       "</div>"
      ],
      "text/plain": [
       "       ip  app  device  os  channel          click_time  is_attributed  \\\n",
       "0   83230    3       1  13      379 2017-11-06 14:32:21              0   \n",
       "1   17357    3       1  19      379 2017-11-06 14:33:34              0   \n",
       "2   35810    3       1  13      379 2017-11-06 14:34:12              0   \n",
       "3   45745   14       1  13      478 2017-11-06 14:34:52              0   \n",
       "4  161007    3       1  13      379 2017-11-06 14:35:08              0   \n",
       "\n",
       "    click_id  \n",
       "0  999999999  \n",
       "1  999999999  \n",
       "2  999999999  \n",
       "3  999999999  \n",
       "4  999999999  "
      ]
     },
     "execution_count": 18,
     "metadata": {},
     "output_type": "execute_result"
    }
   ],
   "source": [
    "train_df.head()"
   ]
  },
  {
   "cell_type": "code",
   "execution_count": 19,
   "metadata": {},
   "outputs": [
    {
     "data": {
      "text/html": [
       "<div>\n",
       "<style>\n",
       "    .dataframe thead tr:only-child th {\n",
       "        text-align: right;\n",
       "    }\n",
       "\n",
       "    .dataframe thead th {\n",
       "        text-align: left;\n",
       "    }\n",
       "\n",
       "    .dataframe tbody tr th {\n",
       "        vertical-align: top;\n",
       "    }\n",
       "</style>\n",
       "<table border=\"1\" class=\"dataframe\">\n",
       "  <thead>\n",
       "    <tr style=\"text-align: right;\">\n",
       "      <th></th>\n",
       "      <th>ip</th>\n",
       "      <th>app</th>\n",
       "      <th>device</th>\n",
       "      <th>os</th>\n",
       "      <th>channel</th>\n",
       "      <th>click_time</th>\n",
       "      <th>is_attributed</th>\n",
       "      <th>click_id</th>\n",
       "    </tr>\n",
       "  </thead>\n",
       "  <tbody>\n",
       "    <tr>\n",
       "      <th>184903885</th>\n",
       "      <td>121312</td>\n",
       "      <td>12</td>\n",
       "      <td>1</td>\n",
       "      <td>10</td>\n",
       "      <td>340</td>\n",
       "      <td>2017-11-09 16:00:00</td>\n",
       "      <td>0</td>\n",
       "      <td>999999999</td>\n",
       "    </tr>\n",
       "    <tr>\n",
       "      <th>184903886</th>\n",
       "      <td>46894</td>\n",
       "      <td>3</td>\n",
       "      <td>1</td>\n",
       "      <td>19</td>\n",
       "      <td>211</td>\n",
       "      <td>2017-11-09 16:00:00</td>\n",
       "      <td>0</td>\n",
       "      <td>999999999</td>\n",
       "    </tr>\n",
       "    <tr>\n",
       "      <th>184903887</th>\n",
       "      <td>320126</td>\n",
       "      <td>1</td>\n",
       "      <td>1</td>\n",
       "      <td>13</td>\n",
       "      <td>274</td>\n",
       "      <td>2017-11-09 16:00:00</td>\n",
       "      <td>0</td>\n",
       "      <td>999999999</td>\n",
       "    </tr>\n",
       "    <tr>\n",
       "      <th>184903888</th>\n",
       "      <td>189286</td>\n",
       "      <td>12</td>\n",
       "      <td>1</td>\n",
       "      <td>37</td>\n",
       "      <td>259</td>\n",
       "      <td>2017-11-09 16:00:00</td>\n",
       "      <td>0</td>\n",
       "      <td>999999999</td>\n",
       "    </tr>\n",
       "    <tr>\n",
       "      <th>184903889</th>\n",
       "      <td>106485</td>\n",
       "      <td>11</td>\n",
       "      <td>1</td>\n",
       "      <td>19</td>\n",
       "      <td>137</td>\n",
       "      <td>2017-11-09 16:00:00</td>\n",
       "      <td>0</td>\n",
       "      <td>999999999</td>\n",
       "    </tr>\n",
       "  </tbody>\n",
       "</table>\n",
       "</div>"
      ],
      "text/plain": [
       "               ip  app  device  os  channel          click_time  \\\n",
       "184903885  121312   12       1  10      340 2017-11-09 16:00:00   \n",
       "184903886   46894    3       1  19      211 2017-11-09 16:00:00   \n",
       "184903887  320126    1       1  13      274 2017-11-09 16:00:00   \n",
       "184903888  189286   12       1  37      259 2017-11-09 16:00:00   \n",
       "184903889  106485   11       1  19      137 2017-11-09 16:00:00   \n",
       "\n",
       "           is_attributed   click_id  \n",
       "184903885              0  999999999  \n",
       "184903886              0  999999999  \n",
       "184903887              0  999999999  \n",
       "184903888              0  999999999  \n",
       "184903889              0  999999999  "
      ]
     },
     "execution_count": 19,
     "metadata": {},
     "output_type": "execute_result"
    }
   ],
   "source": [
    "train_df.tail()"
   ]
  },
  {
   "cell_type": "code",
   "execution_count": 20,
   "metadata": {
    "collapsed": true
   },
   "outputs": [],
   "source": [
    "len_train = len(train_df)\n",
    "test_df['is_attributed'] = MISSING8\n",
    "test_df['is_attributed'] = test_df.is_attributed.astype('uint8')\n",
    "train_df=train_df.append(test_df)"
   ]
  },
  {
   "cell_type": "code",
   "execution_count": 21,
   "metadata": {},
   "outputs": [
    {
     "data": {
      "text/plain": [
       "203694359"
      ]
     },
     "execution_count": 21,
     "metadata": {},
     "output_type": "execute_result"
    }
   ],
   "source": [
    "len(train_df)"
   ]
  },
  {
   "cell_type": "code",
   "execution_count": 22,
   "metadata": {},
   "outputs": [
    {
     "data": {
      "text/plain": [
       "29"
      ]
     },
     "execution_count": 22,
     "metadata": {},
     "output_type": "execute_result"
    }
   ],
   "source": [
    "del test_df\n",
    "gc.collect()"
   ]
  },
  {
   "cell_type": "code",
   "execution_count": 23,
   "metadata": {
    "collapsed": true
   },
   "outputs": [],
   "source": [
    "# keep only rows contains ip in both test and train"
   ]
  },
  {
   "cell_type": "code",
   "execution_count": null,
   "metadata": {
    "collapsed": true
   },
   "outputs": [],
   "source": []
  },
  {
   "cell_type": "code",
   "execution_count": 24,
   "metadata": {
    "collapsed": true
   },
   "outputs": [],
   "source": [
    "# map ip to newip"
   ]
  },
  {
   "cell_type": "code",
   "execution_count": null,
   "metadata": {
    "collapsed": true
   },
   "outputs": [],
   "source": []
  },
  {
   "cell_type": "code",
   "execution_count": 25,
   "metadata": {},
   "outputs": [
    {
     "name": "stdout",
     "output_type": "stream",
     "text": [
      "Extracting new features...\n"
     ]
    }
   ],
   "source": [
    "print('Extracting new features...')\n",
    "train_df['hour'] = pd.to_datetime(train_df.click_time).dt.hour.astype('uint8')\n",
    "train_df['day'] = pd.to_datetime(train_df.click_time).dt.day.astype('uint8')"
   ]
  },
  {
   "cell_type": "code",
   "execution_count": 26,
   "metadata": {},
   "outputs": [
    {
     "name": "stdout",
     "output_type": "stream",
     "text": [
      "Extracting aggregation features...\n",
      "Counting unqiue  channel  by  ['ip'] ...\n",
      "X0 max value =  165\n",
      "Counting unqiue  hour  by  ['ip', 'day'] ...\n",
      "X2 max value =  24\n",
      "Counting unqiue  app  by  ['ip'] ...\n",
      "X3 max value =  277\n",
      "Counting unqiue  os  by  ['ip', 'app'] ...\n",
      "X4 max value =  148\n",
      "Counting unqiue  channel  by  ['app'] ...\n",
      "X6 max value =  49\n",
      "Counting unqiue  app  by  ['ip', 'device', 'os'] ...\n",
      "X8 max value =  100\n",
      "Aggregating by  ['ip', 'day', 'hour'] ...\n",
      "ip_tcount max value =  44259\n",
      "Aggregating by  ['ip', 'app'] ...\n",
      "ip_app_count max value =  220743\n"
     ]
    },
    {
     "data": {
      "text/plain": [
       "44"
      ]
     },
     "execution_count": 26,
     "metadata": {},
     "output_type": "execute_result"
    }
   ],
   "source": [
    "print('Extracting aggregation features...')\n",
    "#train_df = do_cumcount( train_df, ['ip', 'device', 'os'], 'app', 'X1', show_max=True ); gc.collect()\n",
    "#train_df = do_cumcount( train_df, ['ip'], 'os', 'X7', show_max=True ); gc.collect()\n",
    "train_df = do_countuniq( train_df, ['ip'], 'channel', 'X0', 'uint8', show_max=True ); gc.collect()\n",
    "train_df = do_countuniq( train_df, ['ip', 'day'], 'hour', 'X2', 'uint8', show_max=True ); gc.collect()\n",
    "train_df = do_countuniq( train_df, ['ip'], 'app', 'X3', 'uint8', show_max=True ); gc.collect()\n",
    "train_df = do_countuniq( train_df, ['ip', 'app'], 'os', 'X4', 'uint8', show_max=True ); gc.collect()\n",
    "#train_df = do_countuniq( train_df, ['ip'], 'device', 'X5', 'uint16', show_max=True ); gc.collect()\n",
    "train_df = do_countuniq( train_df, ['app'], 'channel', 'X6', show_max=True ); gc.collect()\n",
    "train_df = do_countuniq( train_df, ['ip', 'device', 'os'], 'app', 'X8', show_max=True ); gc.collect()\n",
    "train_df = do_count( train_df, ['ip', 'day', 'hour'], 'ip_tcount', show_max=True ); gc.collect()\n",
    "train_df = do_count( train_df, ['ip', 'app'], 'ip_app_count', show_max=True ); gc.collect()\n",
    "#train_df = do_count( train_df, ['ip', 'app', 'os'], 'ip_app_os_count', 'uint16', show_max=True ); gc.collect()\n",
    "#train_df = do_var( train_df, ['ip', 'day', 'channel'], 'hour', 'ip_tchan_count', show_max=True ); gc.collect()\n",
    "#train_df = do_var( train_df, ['ip', 'app', 'os'], 'hour', 'ip_app_os_var', show_max=True ); gc.collect()\n",
    "#train_df = do_var( train_df, ['ip', 'app', 'channel'], 'day', 'ip_app_channel_var_day', show_max=True ); gc.collect()\n",
    "#train_df = do_mean( train_df, ['ip', 'app', 'channel'], 'hour', 'ip_app_channel_mean_hour', show_max=True ); gc.collect()"
   ]
  },
  {
   "cell_type": "code",
   "execution_count": 27,
   "metadata": {},
   "outputs": [
    {
     "name": "stdout",
     "output_type": "stream",
     "text": [
      "Doing nextClick...\n"
     ]
    },
    {
     "data": {
      "text/plain": [
       "50"
      ]
     },
     "execution_count": 27,
     "metadata": {},
     "output_type": "execute_result"
    }
   ],
   "source": [
    "print('Doing nextClick...')\n",
    "predictors=[]\n",
    "new_feature = 'nextClick'\n",
    "D=2**26\n",
    "train_df['category'] = (train_df['ip'].astype(str) + \"_\" + train_df['app'].astype(str) + \"_\" + train_df['device'].astype(str) \\\n",
    "        + \"_\" + train_df['os'].astype(str)).apply(hash) % D\n",
    "click_buffer= np.full(D, 3000000000, dtype=np.uint32)\n",
    "train_df['epochtime']= train_df['click_time'].astype(np.int64) // 10 ** 9\n",
    "next_clicks= []\n",
    "for category, t in zip(reversed(train_df['category'].values), reversed(train_df['epochtime'].values)):\n",
    "    next_clicks.append(click_buffer[category]-t)\n",
    "    click_buffer[category]= t\n",
    "del(click_buffer)\n",
    "QQ= list(reversed(next_clicks))\n",
    "train_df.drop(['epochtime','category','click_time'], axis=1, inplace=True)\n",
    "train_df[new_feature] = pd.Series(QQ).astype('float32')\n",
    "predictors.append(new_feature)\n",
    "#train_df[new_feature+'_shift'] = train_df[new_feature].shift(+1).values\n",
    "#predictors.append(new_feature+'_shift')\n",
    "del QQ, next_clicks\n",
    "gc.collect()"
   ]
  },
  {
   "cell_type": "code",
   "execution_count": 28,
   "metadata": {},
   "outputs": [
    {
     "data": {
      "text/plain": [
       "(203694359, 18)"
      ]
     },
     "execution_count": 28,
     "metadata": {},
     "output_type": "execute_result"
    }
   ],
   "source": [
    "train_df.shape"
   ]
  },
  {
   "cell_type": "code",
   "execution_count": null,
   "metadata": {
    "collapsed": true
   },
   "outputs": [],
   "source": []
  },
  {
   "cell_type": "code",
   "execution_count": null,
   "metadata": {
    "collapsed": true
   },
   "outputs": [],
   "source": []
  },
  {
   "cell_type": "code",
   "execution_count": null,
   "metadata": {
    "collapsed": true
   },
   "outputs": [],
   "source": []
  },
  {
   "cell_type": "code",
   "execution_count": 29,
   "metadata": {},
   "outputs": [
    {
     "data": {
      "text/html": [
       "<div>\n",
       "<style>\n",
       "    .dataframe thead tr:only-child th {\n",
       "        text-align: right;\n",
       "    }\n",
       "\n",
       "    .dataframe thead th {\n",
       "        text-align: left;\n",
       "    }\n",
       "\n",
       "    .dataframe tbody tr th {\n",
       "        vertical-align: top;\n",
       "    }\n",
       "</style>\n",
       "<table border=\"1\" class=\"dataframe\">\n",
       "  <thead>\n",
       "    <tr style=\"text-align: right;\">\n",
       "      <th></th>\n",
       "      <th>app</th>\n",
       "      <th>channel</th>\n",
       "      <th>click_id</th>\n",
       "      <th>device</th>\n",
       "      <th>ip</th>\n",
       "      <th>is_attributed</th>\n",
       "      <th>os</th>\n",
       "      <th>hour</th>\n",
       "      <th>day</th>\n",
       "      <th>X0</th>\n",
       "      <th>X2</th>\n",
       "      <th>X3</th>\n",
       "      <th>X4</th>\n",
       "      <th>X6</th>\n",
       "      <th>X8</th>\n",
       "      <th>ip_tcount</th>\n",
       "      <th>ip_app_count</th>\n",
       "      <th>nextClick</th>\n",
       "    </tr>\n",
       "  </thead>\n",
       "  <tbody>\n",
       "    <tr>\n",
       "      <th>0</th>\n",
       "      <td>3</td>\n",
       "      <td>379</td>\n",
       "      <td>999999999</td>\n",
       "      <td>1</td>\n",
       "      <td>83230</td>\n",
       "      <td>0</td>\n",
       "      <td>13</td>\n",
       "      <td>14</td>\n",
       "      <td>6</td>\n",
       "      <td>139</td>\n",
       "      <td>9</td>\n",
       "      <td>86</td>\n",
       "      <td>48</td>\n",
       "      <td>49</td>\n",
       "      <td>49</td>\n",
       "      <td>1</td>\n",
       "      <td>5759</td>\n",
       "      <td>5340.0</td>\n",
       "    </tr>\n",
       "  </tbody>\n",
       "</table>\n",
       "</div>"
      ],
      "text/plain": [
       "   app  channel   click_id  device     ip  is_attributed  os  hour  day   X0  \\\n",
       "0    3      379  999999999       1  83230              0  13    14    6  139   \n",
       "\n",
       "   X2  X3  X4  X6  X8  ip_tcount  ip_app_count  nextClick  \n",
       "0   9  86  48  49  49          1          5759     5340.0  "
      ]
     },
     "execution_count": 29,
     "metadata": {},
     "output_type": "execute_result"
    }
   ],
   "source": [
    "train_df.head(1)"
   ]
  },
  {
   "cell_type": "code",
   "execution_count": 30,
   "metadata": {},
   "outputs": [
    {
     "name": "stdout",
     "output_type": "stream",
     "text": [
      "vars and data type: \n",
      "<class 'pandas.core.frame.DataFrame'>\n",
      "Int64Index: 203694359 entries, 0 to 203694358\n",
      "Data columns (total 18 columns):\n",
      "app              uint16\n",
      "channel          uint16\n",
      "click_id         uint32\n",
      "device           uint16\n",
      "ip               uint32\n",
      "is_attributed    uint8\n",
      "os               uint16\n",
      "hour             uint8\n",
      "day              uint8\n",
      "X0               uint8\n",
      "X2               uint8\n",
      "X3               uint8\n",
      "X4               uint8\n",
      "X6               uint32\n",
      "X8               uint32\n",
      "ip_tcount        uint32\n",
      "ip_app_count     uint32\n",
      "nextClick        float32\n",
      "dtypes: float32(1), uint16(4), uint32(6), uint8(7)\n",
      "memory usage: 9.7 GB\n",
      "predictors ['nextClick', 'app', 'device', 'os', 'channel', 'hour', 'day', 'ip_app_count', 'ip_tcount', 'X0', 'X2', 'X3', 'X4', 'X6', 'X8']\n"
     ]
    }
   ],
   "source": [
    "print(\"vars and data type: \")\n",
    "train_df.info()\n",
    "train_df['ip_tcount'] = train_df['ip_tcount'].astype('uint16')\n",
    "train_df['ip_app_count'] = train_df['ip_app_count'].astype('uint16')\n",
    "#train_df['ip_app_os_count'] = train_df['ip_app_os_count'].astype('uint16')\n",
    "\n",
    "target = 'is_attributed'\n",
    "# predictors.extend(['app','device','os', 'channel', 'hour', 'day',\n",
    "#               'ip_tcount', 'ip_tchan_count', 'ip_app_count',\n",
    "#               'ip_app_os_count', 'ip_app_os_var',\n",
    "#               'ip_app_channel_var_day','ip_app_channel_mean_hour',\n",
    "#               'X0', 'X1', 'X2', 'X3', 'X4', 'X5', 'X6', 'X7', 'X8'])\n",
    "predictors.extend(['app','device','os', 'channel', 'hour', 'day',\n",
    "              'ip_app_count', 'ip_tcount', 'X0', 'X2', 'X3', 'X4', 'X6', 'X8'])\n",
    "categorical = ['app', 'device', 'os', 'channel', 'hour', 'day']\n",
    "print('predictors',predictors)"
   ]
  },
  {
   "cell_type": "code",
   "execution_count": 31,
   "metadata": {},
   "outputs": [
    {
     "data": {
      "text/plain": [
       "2500000"
      ]
     },
     "execution_count": 31,
     "metadata": {},
     "output_type": "execute_result"
    }
   ],
   "source": [
    "val_size"
   ]
  },
  {
   "cell_type": "code",
   "execution_count": 29,
   "metadata": {},
   "outputs": [
    {
     "name": "stdout",
     "output_type": "stream",
     "text": [
      "train size:  72500000\n",
      "valid size:  2500000\n",
      "test size :  18790469\n"
     ]
    }
   ],
   "source": [
    "test_df = train_df[len_train:]\n",
    "val_df = train_df[(len_train-val_size):len_train]\n",
    "train_df = train_df[:(len_train-val_size)]\n",
    "\n",
    "print(\"train size: \", len(train_df))\n",
    "print(\"valid size: \", len(val_df))\n",
    "print(\"test size : \", len(test_df))"
   ]
  },
  {
   "cell_type": "code",
   "execution_count": 32,
   "metadata": {},
   "outputs": [
    {
     "name": "stdout",
     "output_type": "stream",
     "text": [
      "train size:  182403890\n",
      "valid size:  2500000\n",
      "test size :  18790469\n"
     ]
    }
   ],
   "source": [
    "test_df = train_df[len_train:]\n",
    "val_df = train_df[(len_train-val_size):len_train]\n",
    "train_df = train_df[:(len_train-val_size)]\n",
    "\n",
    "print(\"train size: \", len(train_df))\n",
    "print(\"valid size: \", len(val_df))\n",
    "print(\"test size : \", len(test_df))"
   ]
  },
  {
   "cell_type": "markdown",
   "metadata": {},
   "source": [
    "test_df.to_pickle('test.pkl.gz')\n",
    "del test_df\n",
    "gc.collect()"
   ]
  },
  {
   "cell_type": "code",
   "execution_count": 33,
   "metadata": {},
   "outputs": [
    {
     "name": "stdout",
     "output_type": "stream",
     "text": [
      "Training...\n"
     ]
    }
   ],
   "source": [
    "print(\"Training...\")\n",
    "start_time = time.time()\n",
    "\n",
    "objective='binary' \n",
    "metrics='auc'\n",
    "early_stopping_rounds=30 \n",
    "verbose_eval=True \n",
    "num_boost_round=1000\n",
    "categorical_features=categorical\n",
    "lgb_params = {\n",
    "    'boosting_type': 'gbdt',\n",
    "    'objective': objective,\n",
    "    'metric':metrics,\n",
    "    'learning_rate': 0.10,\n",
    "    #'is_unbalance': 'true', # replaced with scale_pos_weight argument\n",
    "    'num_leaves': 7,  # 2^max_depth - 1\n",
    "    'max_depth': 3,  # -1 means no limit\n",
    "    'min_child_samples': 100,  # Minimum number of data need in a child(min_data_in_leaf)\n",
    "    'max_bin': 100,  # Number of bucketed bin for feature values\n",
    "    'subsample': 0.7,  # Subsample ratio of the training instance.\n",
    "    'subsample_freq': 1,  # frequence of subsample, <=0 means no enable\n",
    "    'colsample_bytree': 0.9,  # Subsample ratio of columns when constructing each tree.\n",
    "    'min_child_weight': 0,  # Minimum sum of instance weight(hessian) needed in a child(leaf)\n",
    "    'scale_pos_weight':200, # because training data is extremely unbalanced \n",
    "    'subsample_for_bin': 200000,  # Number of samples for constructing bin\n",
    "    'min_split_gain': 0,  # lambda_l1, lambda_l2 and min_gain_to_split to regularization\n",
    "    'reg_alpha': 0,  # L1 regularization term on weights\n",
    "    'reg_lambda': 0,  # L2 regularization term on weights\n",
    "    'nthread': cores,\n",
    "    'verbose': 0,\n",
    "    'metric':metrics\n",
    "}\n"
   ]
  },
  {
   "cell_type": "code",
   "execution_count": 34,
   "metadata": {},
   "outputs": [
    {
     "name": "stdout",
     "output_type": "stream",
     "text": [
      "preparing validation datasets\n",
      "   nextClick  app  device  os  channel  hour  day  ip_app_count  ip_tcount  \\\n",
      "0     5340.0    3       1  13      379    14    6          5759          1   \n",
      "\n",
      "    X0  X2  X3  X4  X6  X8  \n",
      "0  139   9  86  48  49  49  \n",
      "0    0\n",
      "Name: is_attributed, dtype: uint8\n",
      "           nextClick  app  device  os  channel  hour  day  ip_app_count  \\\n",
      "182403890      119.0    9       1  31      215    15    9          1425   \n",
      "\n",
      "           ip_tcount  X0  X2  X3  X4  X6  X8  \n",
      "182403890        886  73  16  33  22  47  13  \n",
      "182403890    0\n",
      "Name: is_attributed, dtype: uint8\n"
     ]
    },
    {
     "data": {
      "text/plain": [
       "163"
      ]
     },
     "execution_count": 34,
     "metadata": {},
     "output_type": "execute_result"
    }
   ],
   "source": [
    "print(\"preparing validation datasets\")\n",
    "xgtrain = lgb.Dataset(train_df[predictors].values, label=train_df[target].values,\n",
    "                      feature_name=predictors,\n",
    "                      categorical_feature=categorical\n",
    "                      )\n",
    "                      \n",
    "print( train_df[predictors].head(1) )\n",
    "print( train_df[target].head(1) )\n",
    "print( val_df[predictors].head(1) )\n",
    "print( val_df[target].head(1) )\n",
    "\n",
    "#del train_df\n",
    "if WHERE != 'kaggle':\n",
    "    xgtrain.save_binary('xgtrain.bin')\n",
    "    del xgtrain\n",
    "xgvalid = lgb.Dataset(val_df[predictors].values, label=val_df[target].values,\n",
    "                      feature_name=predictors,\n",
    "                      categorical_feature=categorical\n",
    "                      )\n",
    "#del val_df\n",
    "gc.collect()"
   ]
  },
  {
   "cell_type": "code",
   "execution_count": 35,
   "metadata": {},
   "outputs": [
    {
     "name": "stdout",
     "output_type": "stream",
     "text": [
      "{'boosting_type': 'gbdt', 'objective': 'binary', 'metric': 'auc', 'learning_rate': 0.1, 'num_leaves': 7, 'max_depth': 3, 'min_child_samples': 100, 'max_bin': 100, 'subsample': 0.7, 'subsample_freq': 1, 'colsample_bytree': 0.9, 'min_child_weight': 0, 'scale_pos_weight': 200, 'subsample_for_bin': 200000, 'min_split_gain': 0, 'reg_alpha': 0, 'reg_lambda': 0, 'nthread': 4, 'verbose': 0}\n"
     ]
    },
    {
     "name": "stderr",
     "output_type": "stream",
     "text": [
      "/home/kai/anaconda3/lib/python3.6/site-packages/lightgbm/basic.py:1027: UserWarning: Using categorical_feature in Dataset.\n",
      "  warnings.warn('Using categorical_feature in Dataset.')\n",
      "/home/kai/anaconda3/lib/python3.6/site-packages/lightgbm/basic.py:668: UserWarning: categorical_feature in param dict is overrided.\n",
      "  warnings.warn('categorical_feature in param dict is overrided.')\n"
     ]
    },
    {
     "name": "stdout",
     "output_type": "stream",
     "text": [
      "Training until validation scores don't improve for 30 rounds.\n",
      "[10]\tvalid's auc: 0.97605\n",
      "[20]\tvalid's auc: 0.978907\n",
      "[30]\tvalid's auc: 0.980003\n",
      "[40]\tvalid's auc: 0.981891\n",
      "[50]\tvalid's auc: 0.983263\n",
      "[60]\tvalid's auc: 0.984634\n",
      "[70]\tvalid's auc: 0.985525\n",
      "[80]\tvalid's auc: 0.986413\n",
      "[90]\tvalid's auc: 0.987048\n",
      "[100]\tvalid's auc: 0.987596\n",
      "[110]\tvalid's auc: 0.988056\n",
      "[120]\tvalid's auc: 0.988485\n",
      "[130]\tvalid's auc: 0.988876\n",
      "[140]\tvalid's auc: 0.988931\n",
      "[150]\tvalid's auc: 0.989049\n",
      "[160]\tvalid's auc: 0.989218\n",
      "[170]\tvalid's auc: 0.989284\n",
      "[180]\tvalid's auc: 0.989331\n",
      "[190]\tvalid's auc: 0.989434\n",
      "[200]\tvalid's auc: 0.989457\n",
      "[210]\tvalid's auc: 0.989469\n",
      "[220]\tvalid's auc: 0.989528\n",
      "[230]\tvalid's auc: 0.989698\n",
      "[240]\tvalid's auc: 0.98974\n",
      "[250]\tvalid's auc: 0.989797\n",
      "[260]\tvalid's auc: 0.989918\n",
      "[270]\tvalid's auc: 0.989944\n",
      "[280]\tvalid's auc: 0.989989\n",
      "[290]\tvalid's auc: 0.990045\n",
      "[300]\tvalid's auc: 0.990046\n",
      "[310]\tvalid's auc: 0.990063\n",
      "[320]\tvalid's auc: 0.990074\n",
      "[330]\tvalid's auc: 0.990068\n",
      "[340]\tvalid's auc: 0.99008\n",
      "[350]\tvalid's auc: 0.990168\n",
      "[360]\tvalid's auc: 0.990207\n",
      "[370]\tvalid's auc: 0.990238\n",
      "[380]\tvalid's auc: 0.990243\n",
      "[390]\tvalid's auc: 0.990239\n",
      "[400]\tvalid's auc: 0.990253\n",
      "[410]\tvalid's auc: 0.990265\n",
      "[420]\tvalid's auc: 0.990279\n",
      "[430]\tvalid's auc: 0.990272\n",
      "[440]\tvalid's auc: 0.990358\n",
      "[450]\tvalid's auc: 0.990388\n",
      "[460]\tvalid's auc: 0.990388\n",
      "[470]\tvalid's auc: 0.990354\n",
      "[480]\tvalid's auc: 0.990378\n",
      "Early stopping, best iteration is:\n",
      "[459]\tvalid's auc: 0.990396\n",
      "\n",
      "Model Report\n",
      "bst.best_iteration:  459\n",
      "auc: 0.99039586204\n",
      "[2038.677740573883]: model training time\n"
     ]
    }
   ],
   "source": [
    "evals_results = {}\n",
    "\n",
    "if WHERE != 'kaggle':\n",
    "    xgtrain = lgb.Dataset('xgtrain.bin',\n",
    "                          feature_name=predictors,\n",
    "                          categorical_feature=categorical\n",
    "                          )\n",
    "                      \n",
    "print( lgb_params )\n",
    "bst = lgb.train(lgb_params, \n",
    "                 xgtrain, \n",
    "                 valid_sets=[xgvalid], \n",
    "                 valid_names=['valid'], \n",
    "                 evals_result=evals_results, \n",
    "                 num_boost_round=num_boost_round,\n",
    "                 early_stopping_rounds=early_stopping_rounds,\n",
    "                 verbose_eval=10, \n",
    "                 feval=None)\n",
    "\n",
    "print(\"\\nModel Report\")\n",
    "print(\"bst.best_iteration: \", bst.best_iteration)\n",
    "print(metrics+\":\", evals_results['valid'][metrics][bst.best_iteration-1])\n",
    "\n",
    "\n",
    "print('[{}]: model training time'.format(time.time() - start_time))"
   ]
  },
  {
   "cell_type": "code",
   "execution_count": 36,
   "metadata": {},
   "outputs": [
    {
     "name": "stdout",
     "output_type": "stream",
     "text": [
      "Plot feature importances\n"
     ]
    },
    {
     "data": {
      "image/png": "[encoded data removed]",
      "text/plain": [
       "<matplotlib.figure.Figure at 0x7feffbcff9e8>"
      ]
     },
     "metadata": {},
     "output_type": "display_data"
    },
    {
     "data": {
      "image/png": "[encoded data removed]",
      "text/plain": [
       "<matplotlib.figure.Figure at 0x7fecb3961b38>"
      ]
     },
     "metadata": {},
     "output_type": "display_data"
    }
   ],
   "source": [
    "if WHERE!='gcloud':\n",
    "    print('Plot feature importances')\n",
    "    lgb.plot_importance(bst, max_num_features=100, title='Feature importance (split(default))')\n",
    "    lgb.plot_importance(bst, max_num_features=100, title='Feature importance (gain)', importance_type='gain')\n",
    "    plt.show()"
   ]
  },
  {
   "cell_type": "code",
   "execution_count": 32,
   "metadata": {},
   "outputs": [
    {
     "name": "stdout",
     "output_type": "stream",
     "text": [
      "{'boosting_type': 'gbdt', 'objective': 'binary', 'metric': 'auc', 'learning_rate': 0.1, 'num_leaves': 7, 'max_depth': 3, 'min_child_samples': 100, 'max_bin': 100, 'subsample': 0.7, 'subsample_freq': 1, 'colsample_bytree': 0.9, 'min_child_weight': 0, 'scale_pos_weight': 200, 'subsample_for_bin': 200000, 'min_split_gain': 0, 'reg_alpha': 0, 'reg_lambda': 0, 'nthread': 4, 'verbose': 0}\n"
     ]
    },
    {
     "name": "stderr",
     "output_type": "stream",
     "text": [
      "/home/kai/anaconda3/lib/python3.6/site-packages/lightgbm/basic.py:1027: UserWarning: Using categorical_feature in Dataset.\n",
      "  warnings.warn('Using categorical_feature in Dataset.')\n",
      "/home/kai/anaconda3/lib/python3.6/site-packages/lightgbm/basic.py:668: UserWarning: categorical_feature in param dict is overrided.\n",
      "  warnings.warn('categorical_feature in param dict is overrided.')\n"
     ]
    },
    {
     "name": "stdout",
     "output_type": "stream",
     "text": [
      "Training until validation scores don't improve for 30 rounds.\n",
      "[10]\tvalid's auc: 0.976448\n",
      "[20]\tvalid's auc: 0.980121\n",
      "[30]\tvalid's auc: 0.980676\n",
      "[40]\tvalid's auc: 0.981653\n",
      "[50]\tvalid's auc: 0.983728\n",
      "[60]\tvalid's auc: 0.985042\n",
      "[70]\tvalid's auc: 0.985908\n",
      "[80]\tvalid's auc: 0.986857\n",
      "[90]\tvalid's auc: 0.987514\n",
      "[100]\tvalid's auc: 0.988002\n",
      "[110]\tvalid's auc: 0.98822\n",
      "[120]\tvalid's auc: 0.988512\n",
      "[130]\tvalid's auc: 0.988706\n",
      "[140]\tvalid's auc: 0.988842\n",
      "[150]\tvalid's auc: 0.988957\n",
      "[160]\tvalid's auc: 0.989152\n",
      "[170]\tvalid's auc: 0.989257\n",
      "[180]\tvalid's auc: 0.989384\n",
      "[190]\tvalid's auc: 0.989418\n",
      "[200]\tvalid's auc: 0.989396\n",
      "[210]\tvalid's auc: 0.989491\n",
      "[220]\tvalid's auc: 0.989454\n",
      "[230]\tvalid's auc: 0.989521\n",
      "[240]\tvalid's auc: 0.989572\n",
      "[250]\tvalid's auc: 0.9896\n",
      "[260]\tvalid's auc: 0.98965\n",
      "[270]\tvalid's auc: 0.989687\n",
      "[280]\tvalid's auc: 0.989739\n",
      "[290]\tvalid's auc: 0.989792\n",
      "[300]\tvalid's auc: 0.989812\n",
      "[310]\tvalid's auc: 0.989875\n",
      "[320]\tvalid's auc: 0.989889\n",
      "[330]\tvalid's auc: 0.989952\n",
      "[340]\tvalid's auc: 0.990092\n",
      "[350]\tvalid's auc: 0.990119\n",
      "[360]\tvalid's auc: 0.990174\n",
      "[370]\tvalid's auc: 0.990232\n",
      "[380]\tvalid's auc: 0.990225\n",
      "[390]\tvalid's auc: 0.990213\n",
      "[400]\tvalid's auc: 0.99019\n",
      "Early stopping, best iteration is:\n",
      "[373]\tvalid's auc: 0.990237\n",
      "\n",
      "Model Report\n",
      "bst.best_iteration:  373\n",
      "auc: 0.990236862293\n",
      "[824.4111523628235]: model training time\n"
     ]
    }
   ],
   "source": [
    "evals_results = {}\n",
    "\n",
    "if WHERE != 'kaggle':\n",
    "    xgtrain = lgb.Dataset('xgtrain.bin',\n",
    "                          feature_name=predictors,\n",
    "                          categorical_feature=categorical\n",
    "                          )\n",
    "                      \n",
    "print( lgb_params )\n",
    "bst = lgb.train(lgb_params, \n",
    "                 xgtrain, \n",
    "                 valid_sets=[xgvalid], \n",
    "                 valid_names=['valid'], \n",
    "                 evals_result=evals_results, \n",
    "                 num_boost_round=num_boost_round,\n",
    "                 early_stopping_rounds=early_stopping_rounds,\n",
    "                 verbose_eval=10, \n",
    "                 feval=None)\n",
    "\n",
    "print(\"\\nModel Report\")\n",
    "print(\"bst.best_iteration: \", bst.best_iteration)\n",
    "print(metrics+\":\", evals_results['valid'][metrics][bst.best_iteration-1])\n",
    "\n",
    "\n",
    "print('[{}]: model training time'.format(time.time() - start_time))"
   ]
  },
  {
   "cell_type": "code",
   "execution_count": 33,
   "metadata": {},
   "outputs": [
    {
     "name": "stdout",
     "output_type": "stream",
     "text": [
      "Plot feature importances\n"
     ]
    },
    {
     "data": {
      "image/png": "[encoded data removed]",
      "text/plain": [
       "<matplotlib.figure.Figure at 0x7f1dcf2dd358>"
      ]
     },
     "metadata": {},
     "output_type": "display_data"
    },
    {
     "data": {
      "image/png": "[encoded data removed]",
      "text/plain": [
       "<matplotlib.figure.Figure at 0x7f1dcf252160>"
      ]
     },
     "metadata": {},
     "output_type": "display_data"
    }
   ],
   "source": [
    "if WHERE!='gcloud':\n",
    "    print('Plot feature importances')\n",
    "    lgb.plot_importance(bst, max_num_features=100, title='Feature importance (split(default))')\n",
    "    lgb.plot_importance(bst, max_num_features=100, title='Feature importance (gain)', importance_type='gain')\n",
    "    plt.show()"
   ]
  },
  {
   "cell_type": "markdown",
   "metadata": {},
   "source": [
    "Training until validation scores don't improve for 30 rounds.\n",
    "[10]\tvalid's auc: 0.966123\n",
    "[20]\tvalid's auc: 0.972895\n",
    "[30]\tvalid's auc: 0.975507\n",
    "[40]\tvalid's auc: 0.976923\n",
    "[50]\tvalid's auc: 0.977642\n",
    "[60]\tvalid's auc: 0.978267\n",
    "[70]\tvalid's auc: 0.978628\n",
    "[80]\tvalid's auc: 0.978858\n",
    "[90]\tvalid's auc: 0.97907\n",
    "[100]\tvalid's auc: 0.979249\n",
    "[110]\tvalid's auc: 0.979384\n",
    "[120]\tvalid's auc: 0.979515\n",
    "[130]\tvalid's auc: 0.979548\n",
    "[140]\tvalid's auc: 0.979605\n",
    "[150]\tvalid's auc: 0.979689\n",
    "[160]\tvalid's auc: 0.979742\n",
    "[170]\tvalid's auc: 0.979713\n",
    "[180]\tvalid's auc: 0.979784\n",
    "[190]\tvalid's auc: 0.97976\n",
    "[200]\tvalid's auc: 0.979775\n",
    "[210]\tvalid's auc: 0.979807\n",
    "[220]\tvalid's auc: 0.979816\n",
    "[230]\tvalid's auc: 0.979893\n",
    "[240]\tvalid's auc: 0.979895\n",
    "[250]\tvalid's auc: 0.979925\n",
    "[260]\tvalid's auc: 0.979925\n",
    "[270]\tvalid's auc: 0.979931\n",
    "[280]\tvalid's auc: 0.979941\n",
    "[290]\tvalid's auc: 0.979944\n",
    "[300]\tvalid's auc: 0.979947\n",
    "[310]\tvalid's auc: 0.979965\n",
    "[320]\tvalid's auc: 0.979962\n",
    "[330]\tvalid's auc: 0.979955\n",
    "[340]\tvalid's auc: 0.979977\n",
    "[350]\tvalid's auc: 0.979959\n",
    "[360]\tvalid's auc: 0.979917\n",
    "Early stopping, best iteration is:\n",
    "[337]\tvalid's auc: 0.979986\n",
    "\n",
    "Model Report\n",
    "bst.best_iteration:  337\n",
    "auc: 0.979986284469\n",
    "[372.5978879928589]: model training time"
   ]
  },
  {
   "cell_type": "code",
   "execution_count": 23,
   "metadata": {},
   "outputs": [
    {
     "name": "stdout",
     "output_type": "stream",
     "text": [
      "Plot feature importances\n"
     ]
    },
    {
     "data": {
      "image/png": "[encoded data removed]",
      "text/plain": [
       "<matplotlib.figure.Figure at 0x7f94b9110390>"
      ]
     },
     "metadata": {},
     "output_type": "display_data"
    },
    {
     "data": {
      "image/png": "[encoded data removed]",
      "text/plain": [
       "<matplotlib.figure.Figure at 0x7f93aabe2240>"
      ]
     },
     "metadata": {},
     "output_type": "display_data"
    }
   ],
   "source": [
    "if WHERE!='gcloud':\n",
    "    print('Plot feature importances')\n",
    "    lgb.plot_importance(bst, max_num_features=100, title='Feature importance (split(default))')\n",
    "    lgb.plot_importance(bst, max_num_features=100, title='Feature importance (gain)', importance_type='gain')\n",
    "    plt.show()"
   ]
  },
  {
   "cell_type": "code",
   "execution_count": 37,
   "metadata": {},
   "outputs": [
    {
     "data": {
      "text/plain": [
       "'4755826'"
      ]
     },
     "execution_count": 37,
     "metadata": {},
     "output_type": "execute_result"
    }
   ],
   "source": [
    "fileno"
   ]
  },
  {
   "cell_type": "code",
   "execution_count": 38,
   "metadata": {},
   "outputs": [
    {
     "data": {
      "text/plain": [
       "(18790469, 18)"
      ]
     },
     "execution_count": 38,
     "metadata": {},
     "output_type": "execute_result"
    }
   ],
   "source": [
    "test_df.shape"
   ]
  },
  {
   "cell_type": "code",
   "execution_count": 39,
   "metadata": {},
   "outputs": [
    {
     "name": "stdout",
     "output_type": "stream",
     "text": [
      "Re-reading test data...\n",
      "Predicting...\n"
     ]
    }
   ],
   "source": [
    "print(\"Re-reading test data...\")\n",
    "#test_df = pd.read_pickle('test.pkl.gz')\n",
    "sub = pd.DataFrame()\n",
    "\n",
    "print(\"Predicting...\")\n",
    "y_pred = bst.predict(test_df[predictors],num_iteration=bst.best_iteration)\n",
    "outsuf = ''\n",
    "if VAL_RUN:\n",
    "    print(  \"\\n\\nFULL VALIDATION SCORE:    \", \n",
    "            roc_auc_score( y_test, y_pred )  )\n",
    "    print(  \"PUBLIC VALIDATION SCORE:  \", \n",
    "            roc_auc_score( y_test[:public_cutoff], y_pred[:public_cutoff] )  )\n",
    "    print(  \"PRIVATE VALIDATION SCORE: \",\n",
    "            roc_auc_score( y_test[public_cutoff:], y_pred[public_cutoff:] )  )\n",
    "    outsuf = '_val'\n",
    "    sub['click_id'] = pd.Series(range(len(test_df))).astype('uint32').values\n",
    "else:\n",
    "    sub['click_id'] = test_df['click_id'].astype('uint32').values"
   ]
  },
  {
   "cell_type": "code",
   "execution_count": 40,
   "metadata": {},
   "outputs": [
    {
     "name": "stdout",
     "output_type": "stream",
     "text": [
      "\n",
      "writing...\n",
      "\n",
      "done...\n",
      "   click_id  is_attributed\n",
      "0         0       0.132175\n",
      "1         1       0.018711\n",
      "2         2       0.001985\n",
      "3         3       0.027302\n",
      "4         4       0.015847\n",
      "5         5       0.006505\n",
      "6         6       0.038642\n",
      "7         7       0.170230\n",
      "8         9       0.161148\n",
      "9         8       0.010089\n"
     ]
    }
   ],
   "source": [
    "if WHERE != 'kaggle':\n",
    "    os.remove('xgtrain.bin')\n",
    "#os.remove('test.pkl.gz')\n",
    "sub['is_attributed'] = y_pred\n",
    "if not debug:\n",
    "    print(\"\\nwriting...\")\n",
    "    sub.to_csv('sub_it_%s'%(fileno)+outsuf+'.csv.gz', index=False, float_format='%.9f', compression='gzip')\n",
    "print(\"\\ndone...\")\n",
    "print( sub.head(10) )"
   ]
  },
  {
   "cell_type": "code",
   "execution_count": null,
   "metadata": {
    "collapsed": true
   },
   "outputs": [],
   "source": []
  }
 ],
 "metadata": {
  "kernelspec": {
   "display_name": "Python 3",
   "language": "python",
   "name": "python3"
  },
  "language_info": {
   "codemirror_mode": {
    "name": "ipython",
    "version": 3
   },
   "file_extension": ".py",
   "mimetype": "text/x-python",
   "name": "python",
   "nbconvert_exporter": "python",
   "pygments_lexer": "ipython3",
   "version": "3.6.3"
  }
 },
 "nbformat": 4,
 "nbformat_minor": 2
}
