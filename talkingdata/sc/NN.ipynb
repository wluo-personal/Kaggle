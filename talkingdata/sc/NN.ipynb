{
 "cells": [
  {
   "cell_type": "code",
   "execution_count": 1,
   "metadata": {
    "collapsed": true
   },
   "outputs": [],
   "source": [
    "import pandas as pd"
   ]
  },
  {
   "cell_type": "code",
   "execution_count": 2,
   "metadata": {
    "collapsed": true
   },
   "outputs": [],
   "source": [
    "dtypes = {\n",
    "        'app'           : 'uint16',\n",
    "        'device'        : 'uint16',\n",
    "        'os'            : 'uint16',\n",
    "        'channel'       : 'uint16',\n",
    "        'hour'          : 'uint8',\n",
    "        'is_attributed' : 'uint8', \n",
    "        'ip_day_hour_count': 'uint32', \n",
    "        'ip_os_day_hour_count': 'uint32', \n",
    "        'ip_app_day_hour_count': 'uint32', \n",
    "        'ip_app_os_day_hour_count': 'uint32', \n",
    "        'app_day_hour_count': 'uint32', \n",
    "        'ip_device_os_count': 'uint32', \n",
    "        'ip_app_device_os_count': 'uint32', \n",
    "        'ip_device_os_mean': 'float16',\n",
    "        'ip_app_device_os_mean': 'float16',\n",
    "        'ip_app_device_mean': 'float16',\n",
    "        'app_device_os_mean': 'float16',\n",
    "        'ip_device_os_time2nextclick': 'int32',\n",
    "        'ip_app_device_os_time2nextclick': 'int32',\n",
    "        'ip_app_device_time2nextclick': 'int32',\n",
    "        'ip_device_os_time2previousclick': 'int32',\n",
    "        'ip_app_device_os_time2previousclick': 'int32',\n",
    "        'ip_app_device_time2previousclick': 'int32',\n",
    "        'ip_device_os_countfromfuture': 'uint32', \n",
    "        'ip_app_device_os_countfromfuture': 'uint32', \n",
    "        'ip_app_device_countfromfuture': 'uint32', \n",
    "        'ip_device_os_countfrompast': 'uint32', \n",
    "        'ip_app_device_os_countfrompast': 'uint32', \n",
    "        'ip_app_device_countfrompast': 'uint32', \n",
    "        'ip_device_os_lasttimediff': 'int32',\n",
    "        'ip_app_device_os_lasttimediff': 'int32',\n",
    "        'ip_app_device_lasttimediff': 'int32',\n",
    "        'ip_device_os_firsttimediff': 'int32',\n",
    "        'ip_app_device_os_firsttimediff': 'int32',\n",
    "        'ip_app_device_firsttimediff': 'int32',\n",
    "        'matrixFact_user_iposdeviceapp_item_app': 'float64',#'float16',\n",
    "        'matrixFact_user_ip_item_appdeviceos': 'float64',\n",
    "        'matrixFact_user_ipchannel_item_appdeviceos': 'float64',\n",
    "        'ip_device_os_regression': 'float64',\n",
    "        'ip_app_device_os_regression': 'float64',\n",
    "        'ip_app_device_regression': 'float64',\n",
    "        'ip_app_device_os_channel_regression': 'float64'\n",
    "        } "
   ]
  },
  {
   "cell_type": "code",
   "execution_count": null,
   "metadata": {},
   "outputs": [],
   "source": [
    "load_path = '/home/kai/data/kaggle/talkingdata/wl/data/equalhour/'\n",
    "file_format = '{}_equalhour_supplementV1.csv'\n",
    "\n",
    "\n",
    "#day7 = pd.read_csv(load_path+file_format.format('day7'),dtype=dtypes)\n",
    "#print('load day7 done!')\n",
    "day9 = pd.read_csv(load_path+file_format.format('day9'),dtype=dtypes)\n",
    "print('load day9 done!')\n",
    "day7 = pd.read_csv(load_path+file_format.format('day7'),dtype=dtypes)\n",
    "print('load day7 done!')"
   ]
  },
  {
   "cell_type": "code",
   "execution_count": null,
   "metadata": {},
   "outputs": [],
   "source": [
    "day8.shape, day9.shape"
   ]
  },
  {
   "cell_type": "code",
   "execution_count": null,
   "metadata": {
    "collapsed": true
   },
   "outputs": [],
   "source": [
    "import sys"
   ]
  },
  {
   "cell_type": "code",
   "execution_count": null,
   "metadata": {},
   "outputs": [],
   "source": [
    "sys.getsizeof(day9)/1024**3"
   ]
  },
  {
   "cell_type": "code",
   "execution_count": null,
   "metadata": {},
   "outputs": [],
   "source": [
    "drop_cols = [col for col in day9.columns if 'countself' in col or 'regression' in col]\n",
    "print(drop_cols)"
   ]
  },
  {
   "cell_type": "code",
   "execution_count": 200,
   "metadata": {
    "collapsed": true
   },
   "outputs": [],
   "source": [
    "day9.drop(drop_cols, axis=1, inplace=True)\n",
    "day8.drop(drop_cols, axis=1, inplace=True)"
   ]
  },
  {
   "cell_type": "code",
   "execution_count": 226,
   "metadata": {},
   "outputs": [
    {
     "name": "stdout",
     "output_type": "stream",
     "text": [
      "['ip_device_os_regression', 'ip_app_device_os_regression', 'ip_app_device_regression', 'ip_app_device_os_channel_regression']\n"
     ]
    }
   ],
   "source": [
    "drop_cols2 = [col for col in day9.columns if 'regression' in col]\n",
    "print(drop_cols2)"
   ]
  },
  {
   "cell_type": "code",
   "execution_count": 227,
   "metadata": {
    "collapsed": true
   },
   "outputs": [],
   "source": [
    "day9.drop(drop_cols2, axis=1, inplace=True)\n",
    "day8.drop(drop_cols2, axis=1, inplace=True)"
   ]
  },
  {
   "cell_type": "code",
   "execution_count": 228,
   "metadata": {},
   "outputs": [
    {
     "data": {
      "text/plain": [
       "((20898422, 38), (20446743, 38))"
      ]
     },
     "execution_count": 228,
     "metadata": {},
     "output_type": "execute_result"
    }
   ],
   "source": [
    "day9.shape, day8.shape"
   ]
  },
  {
   "cell_type": "code",
   "execution_count": 10,
   "metadata": {
    "collapsed": true
   },
   "outputs": [],
   "source": [
    "embedding_features = ['app','channel','device','os','hour']"
   ]
  },
  {
   "cell_type": "code",
   "execution_count": 211,
   "metadata": {},
   "outputs": [
    {
     "data": {
      "text/plain": [
       "1045"
      ]
     },
     "execution_count": 211,
     "metadata": {},
     "output_type": "execute_result"
    }
   ],
   "source": [
    "import gc; gc.collect()"
   ]
  },
  {
   "cell_type": "code",
   "execution_count": 212,
   "metadata": {},
   "outputs": [
    {
     "data": {
      "text/plain": [
       "((204467, 42), (20898, 42))"
      ]
     },
     "execution_count": 212,
     "metadata": {},
     "output_type": "execute_result"
    }
   ],
   "source": [
    "train=day8.sample(frac=0.01)\n",
    "test=day9.sample(frac=0.001)\n",
    "train.shape, test.shape"
   ]
  },
  {
   "cell_type": "markdown",
   "metadata": {},
   "source": [
    "for col in train.columns:\n",
    "    nan_amount = len(np.argwhere(np.isnan(day8[col])))\n",
    "    if nan_amount != 0:\n",
    "        print('train', col, nan_amount)\n",
    "    nan_amount = len(np.argwhere(np.isnan(day9[col])))\n",
    "    if nan_amount != 0:\n",
    "        print('test', col, nan_amount)"
   ]
  },
  {
   "cell_type": "code",
   "execution_count": null,
   "metadata": {},
   "outputs": [
    {
     "name": "stderr",
     "output_type": "stream",
     "text": [
      "100%|██████████| 32/32 [00:00<00:00, 709.35it/s]\n",
      "  0%|          | 0/32 [00:00<?, ?it/s]"
     ]
    },
    {
     "name": "stdout",
     "output_type": "stream",
     "text": [
      "fitting...\n",
      "transform\n"
     ]
    },
    {
     "name": "stderr",
     "output_type": "stream",
     "text": [
      " 16%|█▌        | 5/32 [00:20<01:51,  4.14s/it]"
     ]
    }
   ],
   "source": [
    "from sklearn.preprocessing import StandardScaler\n",
    "\n",
    "print('fitting...')\n",
    "scaler_dict = dict((col, StandardScaler().fit(train[[col]].values)) for col in number_features)\n",
    "\n",
    "print('transforming...')\n",
    "for col in tqdm(number_features):\n",
    "    train[col] = train[col].apply(lambda x: scaler_dict[col].transform(x)[0][0])\n",
    "    test[col] = test[col].apply(lambda x: scaler_dict[col].transform(x)[0][0])"
   ]
  },
  {
   "cell_type": "code",
   "execution_count": 217,
   "metadata": {},
   "outputs": [
    {
     "data": {
      "text/plain": [
       "204467"
      ]
     },
     "execution_count": 217,
     "metadata": {},
     "output_type": "execute_result"
    }
   ],
   "source": [
    "len(train)"
   ]
  },
  {
   "cell_type": "code",
   "execution_count": 218,
   "metadata": {},
   "outputs": [
    {
     "name": "stderr",
     "output_type": "stream",
     "text": [
      "100%|██████████| 10000/10000 [00:00<00:00, 1439610.09it/s]\n"
     ]
    }
   ],
   "source": [
    "from tqdm import tqdm\n",
    "for i in tqdm(range(10000)):\n",
    "    pass"
   ]
  },
  {
   "cell_type": "code",
   "execution_count": 220,
   "metadata": {},
   "outputs": [
    {
     "name": "stdout",
     "output_type": "stream",
     "text": [
      "ip_app_device_os_count -9.730272660763255e-19 1.000002445391354 -0.18330897655103456 16.885115428649367\n",
      "app_day_hour_count 9.316736072680817e-17 1.000002445391354 -1.4604887504792328 1.9038076311551293\n",
      "ip_device_os_time2nextclick -1.052954505789738e-17 1.000002445391354 -0.21955647650920465 17.754613120360577\n",
      "ip_app_device_os_lasttimediff -2.1754109591563564e-17 1.000002445391354 -0.9532559213176253 2.1805080397877554\n",
      "ip_app_device_time2nextclick 1.7375486894220099e-19 1.0000024453913545 -0.32842245926094094 16.777508770306884\n",
      "ip_app_os_day_hour_count -3.127587640959618e-18 1.0000024453913543 -0.20003662562312208 20.813694110974566\n",
      "ip_os_day_hour_count -6.602685019803638e-19 1.000002445391354 -0.22927140294600937 13.451203033355377\n",
      "app_device_os_mean -8.481118933603589e-05 0.9999408494684284 -0.468969079308675 37.71861553690435\n",
      "ip_app_device_os_countfrompast -1.1676327192915906e-17 1.0000024453913543 -0.1753275997317515 22.36093733441182\n",
      "ip_app_device_os_time2previousclick 1.0147284346224537e-17 1.0000024453913545 -0.4136127177211999 9.243505684911836\n",
      "matrixFact_user_ip_item_appdeviceos -2.056979640485352e-15 1.0000024453913545 -3.8172289122210543 8.035473896438686\n",
      "ip_device_os_mean -2.9296392959770066e-06 0.999701171732822 -0.7199415330305875 71.42673598849876\n",
      "ip_device_os_countfromfuture -5.29952350273713e-18 1.0000024453913543 -0.19938560465564284 18.875344607702655\n",
      "ip_device_os_time2previousclick 8.340233709225647e-18 1.0000024453913543 -0.21165987435894112 20.81212673349549\n",
      "ip_app_device_lasttimediff -1.8418016107873305e-17 1.0000024453913545 -1.4418469077859362 1.6610608255088237\n",
      "ip_device_os_firsttimediff 1.1089035735891267e-16 1.0000024453913543 -2.106094990468875 1.3865375191505906\n",
      "ip_app_device_regression 2.849579850652096e-18 1.0000024453913539 -448.71373209084203 47.771302335202414\n",
      "ip_app_device_mean -6.486298853090839e-07 1.0007203300093201 -0.536145927972252 53.84119656297816\n",
      "ip_app_device_os_time2nextclick -5.108393146900709e-18 1.0000024453913543 -0.40116272537026393 8.518688060235402\n",
      "ip_app_day_hour_count 5.5601558061504316e-18 1.000002445391354 -0.23799025314710337 14.20085390339677\n",
      "ip_device_os_lasttimediff -1.940841886084385e-17 1.000002445391354 -1.2391182138218713 1.8356711391999996\n",
      "ip_app_device_os_firsttimediff 1.911303558364211e-18 1.0000024453913543 -1.3745352401066695 1.6547452766010209\n",
      "ip_app_device_os_regression -1.0425292136532059e-18 1.0000024453913543 -253.77747949534222 318.56306021117143\n",
      "ip_app_device_firsttimediff 4.6635806824086746e-17 1.0000024453913543 -2.912907892701055 1.2965216172947467\n",
      "ip_app_device_os_countfromfuture -2.502070112767694e-18 1.0000024453913543 -0.16511885540872234 27.98965646942306\n",
      "matrixFact_user_ipchannel_item_appdeviceos 1.7691025736219137e-15 1.0000024453913543 -3.531763901213918 8.421886589275141\n",
      "ip_device_os_count -9.869276555917016e-18 1.0000024453913543 -0.20519228192478628 12.56866792291503\n",
      "ip_app_device_time2previousclick 3.370844457478699e-18 1.0000024453913543 -0.28054464499132664 20.490817289139084\n",
      "ip_app_device_os_channel_regression -2.780077903075216e-19 1.0000024453913545 -31.701270356516606 449.818139931696\n",
      "ip_app_device_countfrompast -6.116171386765475e-18 1.0000024453913545 -0.23385546727322093 16.11768643855929\n",
      "ip_device_os_regression -4.865136330381628e-19 1.0000024453913545 -361.7520408260247 223.5082120876589\n",
      "ip_app_device_os_mean 1.9398246762270244e-05 0.9998102462906544 -0.5079306663910469 57.28539413486976\n",
      "matrixFact_user_iposdeviceapp_item_app -5.237840524262648e-16 1.0000024453913543 -4.117557729901134 8.652679779060362\n",
      "ip_device_os_countfrompast -1.946054532152651e-18 1.000002445391354 -0.200786526670837 15.498505725535448\n",
      "ip_day_hour_count 6.533183072226757e-18 1.0000024453913545 -0.2854735687753217 8.440262286704094\n",
      "ip_app_device_countfromfuture 1.0199410806907198e-17 1.000002445391354 -0.21789460277689573 20.504494338118135\n"
     ]
    }
   ],
   "source": [
    "for col in number_features:\n",
    "    print(col, train[col].mean(), train[col].std(), train[col].min(), train[col].max())"
   ]
  },
  {
   "cell_type": "code",
   "execution_count": 231,
   "metadata": {
    "collapsed": true
   },
   "outputs": [],
   "source": [
    "number_features = list(set(set(day8.columns) - set(embedding_features)) - set(['is_attributed']))"
   ]
  },
  {
   "cell_type": "markdown",
   "metadata": {
    "collapsed": true
   },
   "source": [
    "train_number = train[number_features].values\n",
    "test_number = test[number_features].values\n",
    "\n",
    "from sklearn.preprocessing import StandardScaler\n",
    "ss_number = StandardScaler()\n",
    "train_number = ss_number.fit_transform(train_number)\n",
    "test_number= ss_number.transform(test_number)"
   ]
  },
  {
   "cell_type": "code",
   "execution_count": 14,
   "metadata": {
    "scrolled": true
   },
   "outputs": [
    {
     "name": "stderr",
     "output_type": "stream",
     "text": [
      "/home/kai/anaconda3/envs/tf_gpu/lib/python3.5/site-packages/h5py/__init__.py:36: FutureWarning: Conversion of the second argument of issubdtype from `float` to `np.floating` is deprecated. In future, it will be treated as `np.float64 == np.dtype(float).type`.\n",
      "  from ._conv import register_converters as _register_converters\n",
      "Using TensorFlow backend.\n"
     ]
    }
   ],
   "source": [
    "from keras.models import Model\n",
    "from keras.layers import Dense, Input, Embedding, Dropout, Activation, Reshape, Flatten\n",
    "from keras.layers.merge import concatenate, dot, add, multiply\n",
    "from keras.layers.normalization import BatchNormalization\n",
    "from keras.layers import SpatialDropout1D\n",
    "from keras.layers.advanced_activations import LeakyReLU, PReLU, ELU\n",
    "from keras.callbacks import Callback, EarlyStopping, ModelCheckpoint, ReduceLROnPlateau, LearningRateScheduler\n",
    "from keras.regularizers import l1, l2, l1_l2\n",
    "from keras.initializers import RandomUniform\n",
    "from keras.optimizers import RMSprop, Adam, SGD\n",
    "\n",
    "import numpy as np"
   ]
  },
  {
   "cell_type": "code",
   "execution_count": 237,
   "metadata": {
    "collapsed": true
   },
   "outputs": [],
   "source": [
    "#embids = embedding_features#['app', 'channel', 'device', 'os', 'hour', 'day', 'wday', 'qty', 'ip_app_count', 'ip_app_os_count']\n",
    "# get the max of each code type\n",
    "embmaxs = dict((col, np.max([train[col].max(), test[col].max()])+1) for col in embedding_features)"
   ]
  },
  {
   "cell_type": "code",
   "execution_count": 238,
   "metadata": {
    "collapsed": true
   },
   "outputs": [],
   "source": [
    "emb_n = 50"
   ]
  },
  {
   "cell_type": "code",
   "execution_count": 239,
   "metadata": {
    "collapsed": true
   },
   "outputs": [],
   "source": [
    "# Build the inputs, embeddings and concatenate them all for each column\n",
    "emb_inputs = dict((col, Input(shape=[1], name = col))  for col in embedding_features)\n",
    "emb_model  = dict((col, Embedding(embmaxs[col], emb_n)(emb_inputs[col])) for col in embedding_features)"
   ]
  },
  {
   "cell_type": "code",
   "execution_count": 240,
   "metadata": {
    "collapsed": true
   },
   "outputs": [],
   "source": [
    "fe = concatenate([(emb_) for emb_ in emb_model.values()])"
   ]
  },
  {
   "cell_type": "code",
   "execution_count": 241,
   "metadata": {},
   "outputs": [
    {
     "data": {
      "text/plain": [
       "<tf.Tensor 'concatenate_6/concat:0' shape=(?, 1, 250) dtype=float32>"
      ]
     },
     "execution_count": 241,
     "metadata": {},
     "output_type": "execute_result"
    }
   ],
   "source": [
    "fe"
   ]
  },
  {
   "cell_type": "code",
   "execution_count": 242,
   "metadata": {},
   "outputs": [],
   "source": [
    "s_dout = SpatialDropout1D(0.2)(fe)"
   ]
  },
  {
   "cell_type": "code",
   "execution_count": 243,
   "metadata": {},
   "outputs": [
    {
     "data": {
      "text/plain": [
       "<tf.Tensor 'spatial_dropout1d_4/cond/Merge:0' shape=(?, 1, 250) dtype=float32>"
      ]
     },
     "execution_count": 243,
     "metadata": {},
     "output_type": "execute_result"
    }
   ],
   "source": [
    "s_dout"
   ]
  },
  {
   "cell_type": "code",
   "execution_count": 244,
   "metadata": {},
   "outputs": [],
   "source": [
    "x = Flatten()(s_dout)"
   ]
  },
  {
   "cell_type": "code",
   "execution_count": 245,
   "metadata": {},
   "outputs": [
    {
     "data": {
      "text/plain": [
       "<tf.Tensor 'flatten_3/Reshape:0' shape=(?, ?) dtype=float32>"
      ]
     },
     "execution_count": 245,
     "metadata": {},
     "output_type": "execute_result"
    }
   ],
   "source": [
    "x"
   ]
  },
  {
   "cell_type": "code",
   "execution_count": 246,
   "metadata": {
    "collapsed": true
   },
   "outputs": [],
   "source": [
    "num_inputs = dict((col, Input(shape=[1], name = 'num_'+col))  for col in number_features)"
   ]
  },
  {
   "cell_type": "code",
   "execution_count": 247,
   "metadata": {
    "collapsed": true
   },
   "outputs": [],
   "source": [
    "num_fe = concatenate([(num_) for num_ in num_inputs.values()])"
   ]
  },
  {
   "cell_type": "code",
   "execution_count": 248,
   "metadata": {},
   "outputs": [
    {
     "data": {
      "text/plain": [
       "<tf.Tensor 'concatenate_7/concat:0' shape=(?, 32) dtype=float32>"
      ]
     },
     "execution_count": 248,
     "metadata": {},
     "output_type": "execute_result"
    }
   ],
   "source": [
    "num_fe"
   ]
  },
  {
   "cell_type": "code",
   "execution_count": 249,
   "metadata": {
    "collapsed": true
   },
   "outputs": [],
   "source": [
    "x = concatenate([x,num_fe])"
   ]
  },
  {
   "cell_type": "code",
   "execution_count": 250,
   "metadata": {
    "collapsed": true
   },
   "outputs": [],
   "source": [
    "def get_keras_data(dataset):\n",
    "    X = dict((col, np.array(dataset[col])) for col in embedding_features)\n",
    "    X_num =  dict(('num_'+col, np.array(dataset[col])) for col in number_features)\n",
    "    X.update(X_num)\n",
    "    return X\n",
    "\n",
    "#fe = concatenate([(emb_) for emb_ in emb_model.values()])\n",
    "# Rest of the model\n",
    "#model = Model(inputs=[inp for inp in emb_inputs.values()] + [inp for inp in num_inputs.values()], outputs=outp)"
   ]
  },
  {
   "cell_type": "code",
   "execution_count": 251,
   "metadata": {
    "collapsed": true
   },
   "outputs": [],
   "source": [
    "outp = Dense(1,activation='sigmoid')(x)"
   ]
  },
  {
   "cell_type": "code",
   "execution_count": 252,
   "metadata": {
    "collapsed": true
   },
   "outputs": [],
   "source": [
    "model = Model(inputs=[inp for inp in emb_inputs.values()] + [inp for inp in num_inputs.values()], outputs=outp)"
   ]
  },
  {
   "cell_type": "code",
   "execution_count": 253,
   "metadata": {
    "collapsed": true
   },
   "outputs": [],
   "source": [
    "optimizer_adam = Adam(lr=0.001)#, decay=lr_decay)\n",
    "model.compile(loss='binary_crossentropy',optimizer=optimizer_adam,metrics=['accuracy'])"
   ]
  },
  {
   "cell_type": "code",
   "execution_count": 254,
   "metadata": {},
   "outputs": [
    {
     "name": "stdout",
     "output_type": "stream",
     "text": [
      "__________________________________________________________________________________________________\n",
      "Layer (type)                    Output Shape         Param #     Connected to                     \n",
      "==================================================================================================\n",
      "hour (InputLayer)               (None, 1)            0                                            \n",
      "__________________________________________________________________________________________________\n",
      "os (InputLayer)                 (None, 1)            0                                            \n",
      "__________________________________________________________________________________________________\n",
      "channel (InputLayer)            (None, 1)            0                                            \n",
      "__________________________________________________________________________________________________\n",
      "device (InputLayer)             (None, 1)            0                                            \n",
      "__________________________________________________________________________________________________\n",
      "app (InputLayer)                (None, 1)            0                                            \n",
      "__________________________________________________________________________________________________\n",
      "embedding_10 (Embedding)        (None, 1, 50)        800         hour[0][0]                       \n",
      "__________________________________________________________________________________________________\n",
      "embedding_9 (Embedding)         (None, 1, 50)        43350       os[0][0]                         \n",
      "__________________________________________________________________________________________________\n",
      "embedding_7 (Embedding)         (None, 1, 50)        24950       channel[0][0]                    \n",
      "__________________________________________________________________________________________________\n",
      "embedding_8 (Embedding)         (None, 1, 50)        206650      device[0][0]                     \n",
      "__________________________________________________________________________________________________\n",
      "embedding_6 (Embedding)         (None, 1, 50)        27900       app[0][0]                        \n",
      "__________________________________________________________________________________________________\n",
      "concatenate_6 (Concatenate)     (None, 1, 250)       0           embedding_10[0][0]               \n",
      "                                                                 embedding_9[0][0]                \n",
      "                                                                 embedding_7[0][0]                \n",
      "                                                                 embedding_8[0][0]                \n",
      "                                                                 embedding_6[0][0]                \n",
      "__________________________________________________________________________________________________\n",
      "spatial_dropout1d_4 (SpatialDro (None, 1, 250)       0           concatenate_6[0][0]              \n",
      "__________________________________________________________________________________________________\n",
      "num_ip_app_device_os_time2nextc (None, 1)            0                                            \n",
      "__________________________________________________________________________________________________\n",
      "num_matrixFact_user_ipchannel_i (None, 1)            0                                            \n",
      "__________________________________________________________________________________________________\n",
      "num_ip_app_day_hour_count (Inpu (None, 1)            0                                            \n",
      "__________________________________________________________________________________________________\n",
      "num_ip_device_os_lasttimediff ( (None, 1)            0                                            \n",
      "__________________________________________________________________________________________________\n",
      "num_ip_app_device_os_firsttimed (None, 1)            0                                            \n",
      "__________________________________________________________________________________________________\n",
      "num_ip_app_device_firsttimediff (None, 1)            0                                            \n",
      "__________________________________________________________________________________________________\n",
      "num_ip_day_hour_count (InputLay (None, 1)            0                                            \n",
      "__________________________________________________________________________________________________\n",
      "num_ip_device_os_time2nextclick (None, 1)            0                                            \n",
      "__________________________________________________________________________________________________\n",
      "num_app_day_hour_count (InputLa (None, 1)            0                                            \n",
      "__________________________________________________________________________________________________\n",
      "num_ip_app_device_os_lasttimedi (None, 1)            0                                            \n",
      "__________________________________________________________________________________________________\n",
      "num_ip_app_device_time2nextclic (None, 1)            0                                            \n",
      "__________________________________________________________________________________________________\n",
      "num_matrixFact_user_ip_item_app (None, 1)            0                                            \n",
      "__________________________________________________________________________________________________\n",
      "num_matrixFact_user_iposdevicea (None, 1)            0                                            \n",
      "__________________________________________________________________________________________________\n",
      "num_ip_app_os_day_hour_count (I (None, 1)            0                                            \n",
      "__________________________________________________________________________________________________\n",
      "num_ip_os_day_hour_count (Input (None, 1)            0                                            \n",
      "__________________________________________________________________________________________________\n",
      "num_ip_app_device_time2previous (None, 1)            0                                            \n",
      "__________________________________________________________________________________________________\n",
      "num_app_device_os_mean (InputLa (None, 1)            0                                            \n",
      "__________________________________________________________________________________________________\n",
      "num_ip_app_device_countfrompast (None, 1)            0                                            \n",
      "__________________________________________________________________________________________________\n",
      "num_ip_device_os_countfrompast  (None, 1)            0                                            \n",
      "__________________________________________________________________________________________________\n",
      "num_ip_app_device_os_countfromp (None, 1)            0                                            \n",
      "__________________________________________________________________________________________________\n",
      "num_ip_app_device_os_time2previ (None, 1)            0                                            \n",
      "__________________________________________________________________________________________________\n",
      "num_ip_device_os_mean (InputLay (None, 1)            0                                            \n",
      "__________________________________________________________________________________________________\n",
      "num_ip_app_device_os_mean (Inpu (None, 1)            0                                            \n",
      "__________________________________________________________________________________________________\n",
      "num_ip_device_os_countfromfutur (None, 1)            0                                            \n",
      "__________________________________________________________________________________________________\n",
      "num_ip_device_os_time2previousc (None, 1)            0                                            \n",
      "__________________________________________________________________________________________________\n",
      "num_ip_app_device_lasttimediff  (None, 1)            0                                            \n",
      "__________________________________________________________________________________________________\n",
      "num_ip_device_os_firsttimediff  (None, 1)            0                                            \n",
      "__________________________________________________________________________________________________\n",
      "num_ip_app_device_os_count (Inp (None, 1)            0                                            \n",
      "__________________________________________________________________________________________________\n",
      "num_ip_device_os_count (InputLa (None, 1)            0                                            \n",
      "__________________________________________________________________________________________________\n",
      "num_ip_app_device_countfromfutu (None, 1)            0                                            \n",
      "__________________________________________________________________________________________________\n",
      "num_ip_app_device_mean (InputLa (None, 1)            0                                            \n",
      "__________________________________________________________________________________________________\n",
      "num_ip_app_device_os_countfromf (None, 1)            0                                            \n",
      "__________________________________________________________________________________________________\n",
      "flatten_3 (Flatten)             (None, 250)          0           spatial_dropout1d_4[0][0]        \n",
      "__________________________________________________________________________________________________\n",
      "concatenate_7 (Concatenate)     (None, 32)           0           num_ip_app_device_os_time2nextcli\n",
      "                                                                 num_matrixFact_user_ipchannel_ite\n",
      "                                                                 num_ip_app_day_hour_count[0][0]  \n",
      "                                                                 num_ip_device_os_lasttimediff[0][\n",
      "                                                                 num_ip_app_device_os_firsttimedif\n",
      "                                                                 num_ip_app_device_firsttimediff[0\n",
      "                                                                 num_ip_day_hour_count[0][0]      \n",
      "                                                                 num_ip_device_os_time2nextclick[0\n",
      "                                                                 num_app_day_hour_count[0][0]     \n",
      "                                                                 num_ip_app_device_os_lasttimediff\n",
      "                                                                 num_ip_app_device_time2nextclick[\n",
      "                                                                 num_matrixFact_user_ip_item_appde\n",
      "                                                                 num_matrixFact_user_iposdeviceapp\n",
      "                                                                 num_ip_app_os_day_hour_count[0][0\n",
      "                                                                 num_ip_os_day_hour_count[0][0]   \n",
      "                                                                 num_ip_app_device_time2previouscl\n",
      "                                                                 num_app_device_os_mean[0][0]     \n",
      "                                                                 num_ip_app_device_countfrompast[0\n",
      "                                                                 num_ip_device_os_countfrompast[0]\n",
      "                                                                 num_ip_app_device_os_countfrompas\n",
      "                                                                 num_ip_app_device_os_time2previou\n",
      "                                                                 num_ip_device_os_mean[0][0]      \n",
      "                                                                 num_ip_app_device_os_mean[0][0]  \n",
      "                                                                 num_ip_device_os_countfromfuture[\n",
      "                                                                 num_ip_device_os_time2previouscli\n",
      "                                                                 num_ip_app_device_lasttimediff[0]\n",
      "                                                                 num_ip_device_os_firsttimediff[0]\n",
      "                                                                 num_ip_app_device_os_count[0][0] \n",
      "                                                                 num_ip_device_os_count[0][0]     \n",
      "                                                                 num_ip_app_device_countfromfuture\n",
      "                                                                 num_ip_app_device_mean[0][0]     \n",
      "                                                                 num_ip_app_device_os_countfromfut\n",
      "__________________________________________________________________________________________________\n",
      "concatenate_8 (Concatenate)     (None, 282)          0           flatten_3[0][0]                  \n",
      "                                                                 concatenate_7[0][0]              \n",
      "__________________________________________________________________________________________________\n",
      "dense_2 (Dense)                 (None, 1)            283         concatenate_8[0][0]              \n",
      "==================================================================================================\n",
      "Total params: 303,933\n",
      "Trainable params: 303,933\n",
      "Non-trainable params: 0\n",
      "__________________________________________________________________________________________________\n"
     ]
    }
   ],
   "source": [
    "model.summary()"
   ]
  },
  {
   "cell_type": "code",
   "execution_count": 40,
   "metadata": {},
   "outputs": [
    {
     "data": {
      "text/plain": [
       "11951.64"
      ]
     },
     "execution_count": 40,
     "metadata": {},
     "output_type": "execute_result"
    }
   ],
   "source": [
    "sum([3543,539.95,3599.96,1200,630,1380,359,337.75,361.98])\n"
   ]
  },
  {
   "cell_type": "markdown",
   "metadata": {},
   "source": [
    "from IPython.display import SVG\n",
    "from keras.utils.vis_utils import model_to_dot\n",
    "\n",
    "SVG(model_to_dot(model).create(prog='dot', format='svg'))"
   ]
  },
  {
   "cell_type": "code",
   "execution_count": 32,
   "metadata": {
    "collapsed": true
   },
   "outputs": [],
   "source": [
    "from keras.utils import plot_model\n",
    "plot_model(model, to_file='model.png')"
   ]
  },
  {
   "cell_type": "code",
   "execution_count": 67,
   "metadata": {
    "collapsed": true
   },
   "outputs": [],
   "source": [
    "from sklearn.metrics import roc_auc_score\n",
    "class RocAucEvaluation(Callback):\n",
    "    def __init__(self, validation_data=(), interval=1, batch_size=100000):\n",
    "        super(Callback, self).__init__()\n",
    "        print('RocAuc evaluating batch size is: {}'.format(batch_size))\n",
    "        self.interval = interval\n",
    "        self.X_val, self.y_val = validation_data\n",
    "        self.batch_size = batch_size\n",
    "\n",
    "    def on_epoch_end(self, epoch, logs={}):\n",
    "        if epoch % self.interval == 0:\n",
    "            print('\\n on epoch end, start predicting validation set')\n",
    "            y_pred = self.model.predict(self.X_val)#, batch_size=self.batch_size,verbose=1)\n",
    "            print('\\n start calculating ROC-AUC')\n",
    "            print(np.sum(self.y_val),np.sum(y_pred))\n",
    "            score = roc_auc_score(self.y_val, y_pred)\n",
    "            print(\"\\n ROC-AUC - epoch: {:d} - score: {:.6f}\".format(epoch+1, score))"
   ]
  },
  {
   "cell_type": "code",
   "execution_count": null,
   "metadata": {
    "collapsed": true
   },
   "outputs": [],
   "source": []
  },
  {
   "cell_type": "code",
   "execution_count": 255,
   "metadata": {},
   "outputs": [
    {
     "data": {
      "text/plain": [
       "(204467, 204467)"
      ]
     },
     "execution_count": 255,
     "metadata": {},
     "output_type": "execute_result"
    }
   ],
   "source": [
    "train_df = get_keras_data(train)\n",
    "y_train = train['is_attributed'].values\n",
    "\n",
    "len(y_train), len(train_df['app'])"
   ]
  },
  {
   "cell_type": "code",
   "execution_count": 256,
   "metadata": {},
   "outputs": [
    {
     "data": {
      "text/plain": [
       "(20898, 20898)"
      ]
     },
     "execution_count": 256,
     "metadata": {},
     "output_type": "execute_result"
    }
   ],
   "source": [
    "val_df = get_keras_data(test)\n",
    "\n",
    "y_val = test['is_attributed'].values\n",
    "\n",
    "len(y_val), len(val_df['app'])"
   ]
  },
  {
   "cell_type": "code",
   "execution_count": 257,
   "metadata": {},
   "outputs": [
    {
     "name": "stdout",
     "output_type": "stream",
     "text": [
      "RocAuc evaluating batch size is: 5000\n"
     ]
    }
   ],
   "source": [
    "RocAuc = RocAucEvaluation(validation_data=(val_df, y_val), interval=1, batch_size=5000)"
   ]
  },
  {
   "cell_type": "code",
   "execution_count": 259,
   "metadata": {},
   "outputs": [
    {
     "name": "stdout",
     "output_type": "stream",
     "text": [
      "Epoch 1/8\n",
      "195000/204467 [===========================>..] - ETA: 0s - loss: 0.0092 - acc: 0.9980\n",
      " on epoch end, start predicting validation set\n",
      "\n",
      " start calculating ROC-AUC\n",
      "60 126.04822\n",
      "\n",
      " ROC-AUC - epoch: 1 - score: 0.941570\n",
      "204467/204467 [==============================] - 5s 23us/step - loss: 0.0094 - acc: 0.9980\n",
      "Epoch 2/8\n",
      "200000/204467 [============================>.] - ETA: 0s - loss: 0.0087 - acc: 0.9981\n",
      " on epoch end, start predicting validation set\n",
      "\n",
      " start calculating ROC-AUC\n",
      "60 116.88313\n",
      "\n",
      " ROC-AUC - epoch: 2 - score: 0.944647\n",
      "204467/204467 [==============================] - 5s 23us/step - loss: 0.0087 - acc: 0.9981\n",
      "Epoch 3/8\n",
      "195000/204467 [===========================>..] - ETA: 0s - loss: 0.0084 - acc: 0.9981\n",
      " on epoch end, start predicting validation set\n",
      "\n",
      " start calculating ROC-AUC\n",
      "60 111.4006\n",
      "\n",
      " ROC-AUC - epoch: 3 - score: 0.946300\n",
      "204467/204467 [==============================] - 5s 22us/step - loss: 0.0083 - acc: 0.9981\n",
      "Epoch 4/8\n",
      "200000/204467 [============================>.] - ETA: 0s - loss: 0.0079 - acc: 0.9981\n",
      " on epoch end, start predicting validation set\n",
      "\n",
      " start calculating ROC-AUC\n",
      "60 105.723785\n",
      "\n",
      " ROC-AUC - epoch: 4 - score: 0.947661\n",
      "204467/204467 [==============================] - 5s 22us/step - loss: 0.0080 - acc: 0.9981\n",
      "Epoch 5/8\n",
      "200000/204467 [============================>.] - ETA: 0s - loss: 0.0078 - acc: 0.9981\n",
      " on epoch end, start predicting validation set\n",
      "\n",
      " start calculating ROC-AUC\n",
      "60 101.31003\n",
      "\n",
      " ROC-AUC - epoch: 5 - score: 0.949165\n",
      "204467/204467 [==============================] - 5s 22us/step - loss: 0.0077 - acc: 0.9981\n",
      "Epoch 6/8\n",
      "200000/204467 [============================>.] - ETA: 0s - loss: 0.0075 - acc: 0.9981\n",
      " on epoch end, start predicting validation set\n",
      "\n",
      " start calculating ROC-AUC\n",
      "60 97.74402\n",
      "\n",
      " ROC-AUC - epoch: 6 - score: 0.949765\n",
      "204467/204467 [==============================] - 6s 29us/step - loss: 0.0075 - acc: 0.9981\n",
      "Epoch 7/8\n",
      "195000/204467 [===========================>..] - ETA: 0s - loss: 0.0074 - acc: 0.9981\n",
      " on epoch end, start predicting validation set\n",
      "\n",
      " start calculating ROC-AUC\n",
      "60 95.32372\n",
      "\n",
      " ROC-AUC - epoch: 7 - score: 0.950783\n",
      "204467/204467 [==============================] - 5s 22us/step - loss: 0.0074 - acc: 0.9981\n",
      "Epoch 8/8\n",
      "200000/204467 [============================>.] - ETA: 0s - loss: 0.0073 - acc: 0.9981\n",
      " on epoch end, start predicting validation set\n",
      "\n",
      " start calculating ROC-AUC\n",
      "60 93.504135\n",
      "\n",
      " ROC-AUC - epoch: 8 - score: 0.951861\n",
      "204467/204467 [==============================] - 5s 22us/step - loss: 0.0073 - acc: 0.9981\n"
     ]
    },
    {
     "data": {
      "text/plain": [
       "<keras.callbacks.History at 0x7fa335019518>"
      ]
     },
     "execution_count": 259,
     "metadata": {},
     "output_type": "execute_result"
    }
   ],
   "source": [
    "model.fit(train_df, y_train, batch_size=5000, epochs=8, shuffle=True, verbose=1, callbacks=[RocAuc])"
   ]
  },
  {
   "cell_type": "code",
   "execution_count": 112,
   "metadata": {
    "collapsed": true
   },
   "outputs": [],
   "source": [
    "val_pred = model.predict(val_df)"
   ]
  },
  {
   "cell_type": "code",
   "execution_count": 113,
   "metadata": {},
   "outputs": [
    {
     "data": {
      "text/plain": [
       "209"
      ]
     },
     "execution_count": 113,
     "metadata": {},
     "output_type": "execute_result"
    }
   ],
   "source": [
    "len(val_pred)"
   ]
  },
  {
   "cell_type": "code",
   "execution_count": 114,
   "metadata": {},
   "outputs": [
    {
     "data": {
      "text/plain": [
       "99.550934"
      ]
     },
     "execution_count": 114,
     "metadata": {},
     "output_type": "execute_result"
    }
   ],
   "source": [
    "np.sum(val_pred)"
   ]
  },
  {
   "cell_type": "code",
   "execution_count": 115,
   "metadata": {},
   "outputs": [
    {
     "data": {
      "text/plain": [
       "array([[0.54226106],\n",
       "       [0.4389385 ],\n",
       "       [0.41740948],\n",
       "       [0.43645275],\n",
       "       [0.37056634],\n",
       "       [0.39467743],\n",
       "       [0.52164763],\n",
       "       [0.208729  ],\n",
       "       [0.39153275],\n",
       "       [0.4646557 ],\n",
       "       [0.48157185],\n",
       "       [0.5869913 ],\n",
       "       [0.49464795],\n",
       "       [0.5175416 ],\n",
       "       [0.39814848],\n",
       "       [0.42623863],\n",
       "       [0.5036143 ],\n",
       "       [0.3208944 ],\n",
       "       [0.5509947 ],\n",
       "       [0.32833782],\n",
       "       [0.89576584],\n",
       "       [0.75929886],\n",
       "       [0.39800492],\n",
       "       [0.5729681 ],\n",
       "       [0.5477926 ],\n",
       "       [0.42471394],\n",
       "       [0.6170496 ],\n",
       "       [0.36576986],\n",
       "       [0.4715792 ],\n",
       "       [0.38240197],\n",
       "       [0.5693387 ],\n",
       "       [0.4253646 ],\n",
       "       [0.4441249 ],\n",
       "       [0.40574718],\n",
       "       [0.41939542],\n",
       "       [0.7067879 ],\n",
       "       [0.4644449 ],\n",
       "       [0.3246346 ],\n",
       "       [0.41093647],\n",
       "       [0.37910777],\n",
       "       [0.32082728],\n",
       "       [0.36887985],\n",
       "       [0.45882082],\n",
       "       [0.53518987],\n",
       "       [0.4013632 ],\n",
       "       [0.39513382],\n",
       "       [0.4139171 ],\n",
       "       [0.65571785],\n",
       "       [0.45847797],\n",
       "       [0.49454403],\n",
       "       [0.4951477 ],\n",
       "       [0.5953526 ],\n",
       "       [0.44356635],\n",
       "       [0.44362763],\n",
       "       [0.5634262 ],\n",
       "       [0.5076742 ],\n",
       "       [0.51454073],\n",
       "       [0.5157955 ],\n",
       "       [0.4256914 ],\n",
       "       [0.41193402],\n",
       "       [0.5683784 ],\n",
       "       [0.5140053 ],\n",
       "       [0.5725044 ],\n",
       "       [0.33613518],\n",
       "       [0.44176823],\n",
       "       [0.44707292],\n",
       "       [0.42840487],\n",
       "       [0.32593644],\n",
       "       [0.56126916],\n",
       "       [0.5194216 ],\n",
       "       [0.5352074 ],\n",
       "       [0.37451434],\n",
       "       [0.40229467],\n",
       "       [0.4130562 ],\n",
       "       [0.7173591 ],\n",
       "       [0.5366599 ],\n",
       "       [0.43259916],\n",
       "       [0.3766279 ],\n",
       "       [0.5050024 ],\n",
       "       [0.47111696],\n",
       "       [0.6745786 ],\n",
       "       [0.57329726],\n",
       "       [0.46965078],\n",
       "       [0.40705782],\n",
       "       [0.4541087 ],\n",
       "       [0.45401004],\n",
       "       [0.32438663],\n",
       "       [0.5028805 ],\n",
       "       [0.39428443],\n",
       "       [0.32605296],\n",
       "       [0.42657995],\n",
       "       [0.50533384],\n",
       "       [0.3198895 ],\n",
       "       [0.4830094 ],\n",
       "       [0.4545071 ],\n",
       "       [0.4653955 ],\n",
       "       [0.30485907],\n",
       "       [0.499339  ],\n",
       "       [0.39198318],\n",
       "       [0.415262  ],\n",
       "       [0.3837097 ],\n",
       "       [0.44785953],\n",
       "       [0.44474125],\n",
       "       [0.50036585],\n",
       "       [0.5549294 ],\n",
       "       [0.45966628],\n",
       "       [0.42031103],\n",
       "       [0.47752178],\n",
       "       [0.45024887],\n",
       "       [0.43273395],\n",
       "       [0.3352469 ],\n",
       "       [0.42363194],\n",
       "       [0.5047425 ],\n",
       "       [0.45391673],\n",
       "       [0.53344476],\n",
       "       [0.31286612],\n",
       "       [0.57168156],\n",
       "       [0.4780539 ],\n",
       "       [0.5423779 ],\n",
       "       [0.43781778],\n",
       "       [0.43132362],\n",
       "       [0.54467225],\n",
       "       [0.44727412],\n",
       "       [0.37945634],\n",
       "       [0.40855992],\n",
       "       [0.34544712],\n",
       "       [0.58293986],\n",
       "       [0.5266668 ],\n",
       "       [0.43138504],\n",
       "       [0.53448576],\n",
       "       [0.39428785],\n",
       "       [0.54450935],\n",
       "       [0.44981882],\n",
       "       [0.53018063],\n",
       "       [0.29388806],\n",
       "       [0.5253513 ],\n",
       "       [0.40575743],\n",
       "       [0.5903821 ],\n",
       "       [0.53250813],\n",
       "       [0.6532229 ],\n",
       "       [0.4986721 ],\n",
       "       [0.3862418 ],\n",
       "       [0.45662656],\n",
       "       [0.67376924],\n",
       "       [0.44317314],\n",
       "       [0.58205557],\n",
       "       [0.40940976],\n",
       "       [0.7758144 ],\n",
       "       [0.42776367],\n",
       "       [0.54958814],\n",
       "       [0.6812063 ],\n",
       "       [0.5474052 ],\n",
       "       [0.3775023 ],\n",
       "       [0.34426942],\n",
       "       [0.357923  ],\n",
       "       [0.63002616],\n",
       "       [0.6035416 ],\n",
       "       [0.38696316],\n",
       "       [0.3678368 ],\n",
       "       [0.4517226 ],\n",
       "       [0.37758383],\n",
       "       [0.49777052],\n",
       "       [0.5511049 ],\n",
       "       [0.93672884],\n",
       "       [0.48473814],\n",
       "       [0.528075  ],\n",
       "       [0.46109545],\n",
       "       [0.76685685],\n",
       "       [0.36527687],\n",
       "       [0.34187534],\n",
       "       [0.52986884],\n",
       "       [0.5595366 ],\n",
       "       [0.3350056 ],\n",
       "       [0.4397077 ],\n",
       "       [0.45302463],\n",
       "       [0.53409076],\n",
       "       [0.556021  ],\n",
       "       [0.4843268 ],\n",
       "       [0.41722813],\n",
       "       [0.4845893 ],\n",
       "       [0.38645208],\n",
       "       [0.47379208],\n",
       "       [0.42682028],\n",
       "       [0.45614743],\n",
       "       [0.47609395],\n",
       "       [0.5393429 ],\n",
       "       [0.48535547],\n",
       "       [0.6229721 ],\n",
       "       [0.38739693],\n",
       "       [0.4551732 ],\n",
       "       [0.463461  ],\n",
       "       [0.49540654],\n",
       "       [0.9160605 ],\n",
       "       [0.31478244],\n",
       "       [0.51259476],\n",
       "       [0.44866303],\n",
       "       [0.70656246],\n",
       "       [0.5083918 ],\n",
       "       [0.37664726],\n",
       "       [0.55511814],\n",
       "       [0.55431664],\n",
       "       [0.58397204],\n",
       "       [0.50148755],\n",
       "       [0.38621655],\n",
       "       [0.49976027],\n",
       "       [0.45292512],\n",
       "       [0.38460234],\n",
       "       [0.34793642],\n",
       "       [0.53197014]], dtype=float32)"
      ]
     },
     "execution_count": 115,
     "metadata": {},
     "output_type": "execute_result"
    }
   ],
   "source": [
    "val_pred"
   ]
  },
  {
   "cell_type": "code",
   "execution_count": null,
   "metadata": {
    "collapsed": true
   },
   "outputs": [],
   "source": []
  },
  {
   "cell_type": "code",
   "execution_count": null,
   "metadata": {
    "collapsed": true
   },
   "outputs": [],
   "source": []
  },
  {
   "cell_type": "code",
   "execution_count": null,
   "metadata": {
    "collapsed": true
   },
   "outputs": [],
   "source": []
  },
  {
   "cell_type": "code",
   "execution_count": null,
   "metadata": {
    "collapsed": true
   },
   "outputs": [],
   "source": []
  },
  {
   "cell_type": "code",
   "execution_count": null,
   "metadata": {
    "collapsed": true
   },
   "outputs": [],
   "source": []
  },
  {
   "cell_type": "code",
   "execution_count": null,
   "metadata": {
    "collapsed": true
   },
   "outputs": [],
   "source": []
  },
  {
   "cell_type": "code",
   "execution_count": null,
   "metadata": {
    "collapsed": true
   },
   "outputs": [],
   "source": []
  },
  {
   "cell_type": "code",
   "execution_count": null,
   "metadata": {
    "collapsed": true
   },
   "outputs": [],
   "source": []
  },
  {
   "cell_type": "code",
   "execution_count": null,
   "metadata": {
    "collapsed": true
   },
   "outputs": [],
   "source": []
  },
  {
   "cell_type": "code",
   "execution_count": null,
   "metadata": {
    "collapsed": true
   },
   "outputs": [],
   "source": []
  },
  {
   "cell_type": "code",
   "execution_count": 39,
   "metadata": {
    "collapsed": true
   },
   "outputs": [],
   "source": [
    "embedding_inputs = []\n",
    "embedding_outputs = []"
   ]
  },
  {
   "cell_type": "code",
   "execution_count": 43,
   "metadata": {
    "collapsed": true
   },
   "outputs": [],
   "source": [
    "output_dim = 50\n",
    "for i in range(len(embedding_features)):\n",
    "    tmp_input = Input(shape=(1,), dtype='int32', name=embedding_features[i]+'_input')\n",
    "    tmp_embeddings = Embedding(int(train_embeddings[i].max()+1),output_dim,name=embedding_features[i]+'_embeddings')(tmp_input)\n",
    "    tmp_embeddings = Flatten(name=embedding_features[i]+'_flatten')(tmp_embeddings)\n",
    "    \n",
    "    embedding_inputs.append(tmp_input)\n",
    "    embedding_outputs.append(tmp_embeddings)"
   ]
  },
  {
   "cell_type": "code",
   "execution_count": 44,
   "metadata": {},
   "outputs": [
    {
     "data": {
      "text/plain": [
       "[<tf.Tensor 'app_input_1:0' shape=(?, 1) dtype=int32>,\n",
       " <tf.Tensor 'channel_input:0' shape=(?, 1) dtype=int32>,\n",
       " <tf.Tensor 'device_input:0' shape=(?, 1) dtype=int32>,\n",
       " <tf.Tensor 'os_input:0' shape=(?, 1) dtype=int32>,\n",
       " <tf.Tensor 'hour_input:0' shape=(?, 1) dtype=int32>]"
      ]
     },
     "execution_count": 44,
     "metadata": {},
     "output_type": "execute_result"
    }
   ],
   "source": [
    "embedding_inputs"
   ]
  },
  {
   "cell_type": "code",
   "execution_count": 45,
   "metadata": {},
   "outputs": [
    {
     "data": {
      "text/plain": [
       "[<tf.Tensor 'app_flatten/Reshape:0' shape=(?, ?) dtype=float32>,\n",
       " <tf.Tensor 'channel_flatten/Reshape:0' shape=(?, ?) dtype=float32>,\n",
       " <tf.Tensor 'device_flatten/Reshape:0' shape=(?, ?) dtype=float32>,\n",
       " <tf.Tensor 'os_flatten/Reshape:0' shape=(?, ?) dtype=float32>,\n",
       " <tf.Tensor 'hour_flatten/Reshape:0' shape=(?, ?) dtype=float32>]"
      ]
     },
     "execution_count": 45,
     "metadata": {},
     "output_type": "execute_result"
    }
   ],
   "source": [
    "embedding_outputs"
   ]
  },
  {
   "cell_type": "code",
   "execution_count": 48,
   "metadata": {
    "collapsed": true
   },
   "outputs": [],
   "source": [
    "number_input = Input(shape=(len(number_features),), name='number_feat')"
   ]
  },
  {
   "cell_type": "code",
   "execution_count": 50,
   "metadata": {},
   "outputs": [
    {
     "data": {
      "text/plain": [
       "<tf.Tensor 'number_feat:0' shape=(?, 36) dtype=float32>"
      ]
     },
     "execution_count": 50,
     "metadata": {},
     "output_type": "execute_result"
    }
   ],
   "source": [
    "number_input"
   ]
  },
  {
   "cell_type": "code",
   "execution_count": 53,
   "metadata": {
    "collapsed": true
   },
   "outputs": [],
   "source": [
    "embedding_outputs.append(number_input)"
   ]
  },
  {
   "cell_type": "code",
   "execution_count": 57,
   "metadata": {
    "collapsed": true
   },
   "outputs": [],
   "source": [
    "profile = concatenate(embedding_outputs, name='profile')"
   ]
  },
  {
   "cell_type": "code",
   "execution_count": 58,
   "metadata": {},
   "outputs": [
    {
     "data": {
      "text/plain": [
       "<tf.Tensor 'profile/concat:0' shape=(?, ?) dtype=float32>"
      ]
     },
     "execution_count": 58,
     "metadata": {},
     "output_type": "execute_result"
    }
   ],
   "source": [
    "profile"
   ]
  },
  {
   "cell_type": "code",
   "execution_count": 59,
   "metadata": {
    "collapsed": true
   },
   "outputs": [],
   "source": [
    "def FunctionalDense(n, x, batchnorm=False, act='relu', lw1=0.0, dropout=0, name=''):\n",
    "    if lw1 == 0.0:\n",
    "        x = Dense(n, name=name+'_dense')(x)\n",
    "    else:\n",
    "        x = Dense(n, kernel_regularizer=l1(lw1), name=name+'_dense')(x)\n",
    "    \n",
    "    if batchnorm:\n",
    "        x = BatchNormalization(name=name+'_batchnorm')(x)\n",
    "        \n",
    "    if act in {'relu', 'tanh', 'sigmoid'}:\n",
    "        x = Activation(act, name=name+'_activation')(x)\n",
    "    elif act =='prelu':\n",
    "        x = PReLU(name=name+'_activation')(x)\n",
    "    elif act == 'leakyrelu':\n",
    "        x = LeakyReLU(name=name+'_activation')(x)\n",
    "    elif act == 'elu':\n",
    "        x = ELU(name=name+'_activation')(x)\n",
    "    \n",
    "    if dropout > 0:\n",
    "        x = Dropout(dropout, name=name+'_dropout')(x)\n",
    "        \n",
    "    return x"
   ]
  },
  {
   "cell_type": "code",
   "execution_count": 62,
   "metadata": {
    "collapsed": true
   },
   "outputs": [],
   "source": [
    "profile_embedddings = FunctionalDense(100, profile, batchnorm=True, dropout=0.2, name='profile')"
   ]
  },
  {
   "cell_type": "code",
   "execution_count": 63,
   "metadata": {
    "collapsed": true
   },
   "outputs": [],
   "source": [
    "preds = Dense(1,activation='sigmoid')(profile_embedddings)"
   ]
  },
  {
   "cell_type": "code",
   "execution_count": 69,
   "metadata": {
    "collapsed": true
   },
   "outputs": [],
   "source": [
    "model = Model(inputs=embedding_inputs+[number_input], outputs=preds)"
   ]
  },
  {
   "cell_type": "code",
   "execution_count": 70,
   "metadata": {
    "collapsed": true
   },
   "outputs": [],
   "source": [
    "optimizer_adam = Adam(lr=0.001)#, decay=lr_decay)\n",
    "model.compile(loss='binary_crossentropy',optimizer=optimizer_adam,metrics=['accuracy'])"
   ]
  },
  {
   "cell_type": "code",
   "execution_count": 71,
   "metadata": {},
   "outputs": [
    {
     "name": "stdout",
     "output_type": "stream",
     "text": [
      "__________________________________________________________________________________________________\n",
      "Layer (type)                    Output Shape         Param #     Connected to                     \n",
      "==================================================================================================\n",
      "app_input (InputLayer)          (None, 1)            0                                            \n",
      "__________________________________________________________________________________________________\n",
      "channel_input (InputLayer)      (None, 1)            0                                            \n",
      "__________________________________________________________________________________________________\n",
      "device_input (InputLayer)       (None, 1)            0                                            \n",
      "__________________________________________________________________________________________________\n",
      "os_input (InputLayer)           (None, 1)            0                                            \n",
      "__________________________________________________________________________________________________\n",
      "hour_input (InputLayer)         (None, 1)            0                                            \n",
      "__________________________________________________________________________________________________\n",
      "app_embeddings (Embedding)      (None, 1, 50)        2950        app_input[0][0]                  \n",
      "__________________________________________________________________________________________________\n",
      "channel_embeddings (Embedding)  (None, 1, 50)        24100       channel_input[0][0]              \n",
      "__________________________________________________________________________________________________\n",
      "device_embeddings (Embedding)   (None, 1, 50)        177200      device_input[0][0]               \n",
      "__________________________________________________________________________________________________\n",
      "os_embeddings (Embedding)       (None, 1, 50)        37450       os_input[0][0]                   \n",
      "__________________________________________________________________________________________________\n",
      "hour_embeddings (Embedding)     (None, 1, 50)        750         hour_input[0][0]                 \n",
      "__________________________________________________________________________________________________\n",
      "app_flatten (Flatten)           (None, 50)           0           app_embeddings[0][0]             \n",
      "__________________________________________________________________________________________________\n",
      "channel_flatten (Flatten)       (None, 50)           0           channel_embeddings[0][0]         \n",
      "__________________________________________________________________________________________________\n",
      "device_flatten (Flatten)        (None, 50)           0           device_embeddings[0][0]          \n",
      "__________________________________________________________________________________________________\n",
      "os_flatten (Flatten)            (None, 50)           0           os_embeddings[0][0]              \n",
      "__________________________________________________________________________________________________\n",
      "hour_flatten (Flatten)          (None, 50)           0           hour_embeddings[0][0]            \n",
      "__________________________________________________________________________________________________\n",
      "number_feat (InputLayer)        (None, 36)           0                                            \n",
      "__________________________________________________________________________________________________\n",
      "profile (Concatenate)           (None, 286)          0           app_flatten[0][0]                \n",
      "                                                                 channel_flatten[0][0]            \n",
      "                                                                 device_flatten[0][0]             \n",
      "                                                                 os_flatten[0][0]                 \n",
      "                                                                 hour_flatten[0][0]               \n",
      "                                                                 number_feat[0][0]                \n",
      "__________________________________________________________________________________________________\n",
      "profile_dense (Dense)           (None, 100)          28700       profile[0][0]                    \n",
      "__________________________________________________________________________________________________\n",
      "profile_batchnorm (BatchNormali (None, 100)          400         profile_dense[0][0]              \n",
      "__________________________________________________________________________________________________\n",
      "profile_activation (Activation) (None, 100)          0           profile_batchnorm[0][0]          \n",
      "__________________________________________________________________________________________________\n",
      "profile_dropout (Dropout)       (None, 100)          0           profile_activation[0][0]         \n",
      "__________________________________________________________________________________________________\n",
      "dense_1 (Dense)                 (None, 1)            101         profile_dropout[0][0]            \n",
      "==================================================================================================\n",
      "Total params: 271,651\n",
      "Trainable params: 271,451\n",
      "Non-trainable params: 200\n",
      "__________________________________________________________________________________________________\n"
     ]
    }
   ],
   "source": [
    "model.summary()"
   ]
  },
  {
   "cell_type": "code",
   "execution_count": 97,
   "metadata": {},
   "outputs": [
    {
     "data": {
      "text/html": [
       "<div>\n",
       "<style scoped>\n",
       "    .dataframe tbody tr th:only-of-type {\n",
       "        vertical-align: middle;\n",
       "    }\n",
       "\n",
       "    .dataframe tbody tr th {\n",
       "        vertical-align: top;\n",
       "    }\n",
       "\n",
       "    .dataframe thead th {\n",
       "        text-align: right;\n",
       "    }\n",
       "</style>\n",
       "<table border=\"1\" class=\"dataframe\">\n",
       "  <thead>\n",
       "    <tr style=\"text-align: right;\">\n",
       "      <th></th>\n",
       "      <th>ip_day_hour_count</th>\n",
       "      <th>ip_os_day_hour_count</th>\n",
       "      <th>ip_app_day_hour_count</th>\n",
       "      <th>ip_app_os_day_hour_count</th>\n",
       "      <th>app_day_hour_count</th>\n",
       "      <th>ip_device_os_count</th>\n",
       "      <th>ip_app_device_os_count</th>\n",
       "      <th>ip_device_os_mean</th>\n",
       "      <th>ip_app_device_os_mean</th>\n",
       "      <th>ip_app_device_mean</th>\n",
       "      <th>...</th>\n",
       "      <th>ip_device_os_regression</th>\n",
       "      <th>ip_app_device_os_regression</th>\n",
       "      <th>ip_app_device_regression</th>\n",
       "      <th>ip_app_device_os_channel_regression</th>\n",
       "      <th>app</th>\n",
       "      <th>channel</th>\n",
       "      <th>device</th>\n",
       "      <th>os</th>\n",
       "      <th>hour</th>\n",
       "      <th>is_attributed</th>\n",
       "    </tr>\n",
       "  </thead>\n",
       "  <tbody>\n",
       "    <tr>\n",
       "      <th>11252805</th>\n",
       "      <td>20</td>\n",
       "      <td>10</td>\n",
       "      <td>6</td>\n",
       "      <td>5</td>\n",
       "      <td>407764</td>\n",
       "      <td>23</td>\n",
       "      <td>8</td>\n",
       "      <td>-0.010002</td>\n",
       "      <td>-0.010002</td>\n",
       "      <td>-0.010002</td>\n",
       "      <td>...</td>\n",
       "      <td>-0.500000</td>\n",
       "      <td>-0.5</td>\n",
       "      <td>-0.5</td>\n",
       "      <td>-0.5</td>\n",
       "      <td>12</td>\n",
       "      <td>328</td>\n",
       "      <td>1</td>\n",
       "      <td>25</td>\n",
       "      <td>10</td>\n",
       "      <td>0</td>\n",
       "    </tr>\n",
       "    <tr>\n",
       "      <th>4566799</th>\n",
       "      <td>166</td>\n",
       "      <td>55</td>\n",
       "      <td>30</td>\n",
       "      <td>14</td>\n",
       "      <td>478671</td>\n",
       "      <td>3680</td>\n",
       "      <td>358</td>\n",
       "      <td>0.002354</td>\n",
       "      <td>0.000000</td>\n",
       "      <td>0.000000</td>\n",
       "      <td>...</td>\n",
       "      <td>0.006641</td>\n",
       "      <td>0.0</td>\n",
       "      <td>0.0</td>\n",
       "      <td>0.0</td>\n",
       "      <td>2</td>\n",
       "      <td>477</td>\n",
       "      <td>1</td>\n",
       "      <td>19</td>\n",
       "      <td>5</td>\n",
       "      <td>0</td>\n",
       "    </tr>\n",
       "  </tbody>\n",
       "</table>\n",
       "<p>2 rows × 42 columns</p>\n",
       "</div>"
      ],
      "text/plain": [
       "          ip_day_hour_count  ip_os_day_hour_count  ip_app_day_hour_count  \\\n",
       "11252805                 20                    10                      6   \n",
       "4566799                 166                    55                     30   \n",
       "\n",
       "          ip_app_os_day_hour_count  app_day_hour_count  ip_device_os_count  \\\n",
       "11252805                         5              407764                  23   \n",
       "4566799                         14              478671                3680   \n",
       "\n",
       "          ip_app_device_os_count  ip_device_os_mean  ip_app_device_os_mean  \\\n",
       "11252805                       8          -0.010002              -0.010002   \n",
       "4566799                      358           0.002354               0.000000   \n",
       "\n",
       "          ip_app_device_mean      ...        ip_device_os_regression  \\\n",
       "11252805           -0.010002      ...                      -0.500000   \n",
       "4566799             0.000000      ...                       0.006641   \n",
       "\n",
       "          ip_app_device_os_regression  ip_app_device_regression  \\\n",
       "11252805                         -0.5                      -0.5   \n",
       "4566799                           0.0                       0.0   \n",
       "\n",
       "          ip_app_device_os_channel_regression  app  channel  device  os  hour  \\\n",
       "11252805                                 -0.5   12      328       1  25    10   \n",
       "4566799                                   0.0    2      477       1  19     5   \n",
       "\n",
       "          is_attributed  \n",
       "11252805              0  \n",
       "4566799               0  \n",
       "\n",
       "[2 rows x 42 columns]"
      ]
     },
     "execution_count": 97,
     "metadata": {},
     "output_type": "execute_result"
    }
   ],
   "source": [
    "day9_s.head(2)"
   ]
  },
  {
   "cell_type": "code",
   "execution_count": 105,
   "metadata": {},
   "outputs": [
    {
     "data": {
      "text/plain": [
       "Index(['ip_day_hour_count', 'ip_os_day_hour_count', 'ip_app_day_hour_count',\n",
       "       'ip_app_os_day_hour_count', 'app_day_hour_count', 'ip_device_os_count',\n",
       "       'ip_app_device_os_count', 'ip_device_os_mean', 'ip_app_device_os_mean',\n",
       "       'ip_app_device_mean', 'app_device_os_mean',\n",
       "       'ip_device_os_time2nextclick', 'ip_app_device_os_time2nextclick',\n",
       "       'ip_app_device_time2nextclick', 'ip_device_os_time2previousclick',\n",
       "       'ip_app_device_os_time2previousclick',\n",
       "       'ip_app_device_time2previousclick', 'ip_device_os_countfromfuture',\n",
       "       'ip_app_device_os_countfromfuture', 'ip_app_device_countfromfuture',\n",
       "       'ip_device_os_countfrompast', 'ip_app_device_os_countfrompast',\n",
       "       'ip_app_device_countfrompast', 'ip_device_os_lasttimediff',\n",
       "       'ip_app_device_os_lasttimediff', 'ip_app_device_lasttimediff',\n",
       "       'ip_device_os_firsttimediff', 'ip_app_device_os_firsttimediff',\n",
       "       'ip_app_device_firsttimediff', 'matrixFact_user_iposdeviceapp_item_app',\n",
       "       'matrixFact_user_ip_item_appdeviceos',\n",
       "       'matrixFact_user_ipchannel_item_appdeviceos', 'ip_device_os_regression',\n",
       "       'ip_app_device_os_regression', 'ip_app_device_regression',\n",
       "       'ip_app_device_os_channel_regression', 'app', 'channel', 'device', 'os',\n",
       "       'hour', 'is_attributed'],\n",
       "      dtype='object')"
      ]
     },
     "execution_count": 105,
     "metadata": {},
     "output_type": "execute_result"
    }
   ],
   "source": [
    "day9_s.columns"
   ]
  },
  {
   "cell_type": "code",
   "execution_count": 100,
   "metadata": {},
   "outputs": [
    {
     "data": {
      "text/plain": [
       "3513"
      ]
     },
     "execution_count": 100,
     "metadata": {},
     "output_type": "execute_result"
    }
   ],
   "source": [
    "len_train = len(day8)\n",
    "all_df = day8.append(day9)\n",
    "del day8, day9; gc.collect()"
   ]
  },
  {
   "cell_type": "code",
   "execution_count": 103,
   "metadata": {},
   "outputs": [
    {
     "data": {
      "text/plain": [
       "(41345165, 20446743)"
      ]
     },
     "execution_count": 103,
     "metadata": {},
     "output_type": "execute_result"
    }
   ],
   "source": [
    "len(all_df), len_train"
   ]
  },
  {
   "cell_type": "code",
   "execution_count": 104,
   "metadata": {},
   "outputs": [
    {
     "name": "stdout",
     "output_type": "stream",
     "text": [
      "label encoding....\n"
     ]
    }
   ],
   "source": [
    "print(\"label encoding....\")\n",
    "from sklearn.preprocessing import LabelEncoder\n",
    "all_df[[ 'app', 'device', 'os', 'channel', 'hour']] = all_df[[ 'app', 'device', 'os', 'channel', 'hour']].apply(LabelEncoder().fit_transform)"
   ]
  },
  {
   "cell_type": "code",
   "execution_count": 66,
   "metadata": {},
   "outputs": [
    {
     "data": {
      "text/plain": [
       "[1, 2, 3, 4]"
      ]
     },
     "execution_count": 66,
     "metadata": {},
     "output_type": "execute_result"
    }
   ],
   "source": [
    "list(set([1,2,3] + [3,4]))"
   ]
  },
  {
   "cell_type": "code",
   "execution_count": null,
   "metadata": {
    "collapsed": true
   },
   "outputs": [],
   "source": [
    "embids = ['app', 'channel', 'device', 'os', 'hour', 'day', 'wday', 'qty', 'ip_app_count', 'ip_app_os_count']\n",
    "# get the max of each code type\n",
    "embmaxs = dict((col, np.max([train_df[col].max(), test_df[col].max()])+1) for col in embids)\n",
    "def get_keras_data(dataset):\n",
    "    X = dict((col, np.array(dataset[col])) for col in embids)\n",
    "    return X\n",
    "# Build the inputs, embeddings and concatenate them all for each column\n",
    "emb_inputs = dict((col, Input(shape=[1], name = col))  for col in embids)\n",
    "emb_model  = dict((col, Embedding(embmaxs[col], emb_n)(emb_inputs[col])) for col in embids)\n",
    "fe = concatenate([(emb_) for emb_ in emb_model.values()])\n",
    "# Rest of the model\n",
    "....\n",
    "model = Model(inputs=[inp for inp in emb_inputs.values()], outputs=outp)"
   ]
  }
 ],
 "metadata": {
  "kernelspec": {
   "display_name": "Python 3.5 (tf_gpu)",
   "language": "python",
   "name": "tf_gpu"
  },
  "language_info": {
   "codemirror_mode": {
    "name": "ipython",
    "version": 3
   },
   "file_extension": ".py",
   "mimetype": "text/x-python",
   "name": "python",
   "nbconvert_exporter": "python",
   "pygments_lexer": "ipython3",
   "version": "3.5.4"
  }
 },
 "nbformat": 4,
 "nbformat_minor": 2
}
