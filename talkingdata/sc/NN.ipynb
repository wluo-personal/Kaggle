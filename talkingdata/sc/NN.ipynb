{
 "cells": [
  {
   "cell_type": "code",
   "execution_count": 1,
   "metadata": {
    "collapsed": true
   },
   "outputs": [],
   "source": [
    "import pandas as pd\n",
    "import gc"
   ]
  },
  {
   "cell_type": "code",
   "execution_count": 2,
   "metadata": {
    "collapsed": true
   },
   "outputs": [],
   "source": [
    "dtypes = {\n",
    "        'app'           : 'uint16',\n",
    "        'device'        : 'uint16',\n",
    "        'os'            : 'uint16',\n",
    "        'channel'       : 'uint16',\n",
    "        'hour'          : 'uint8',\n",
    "        'is_attributed' : 'uint8', \n",
    "        'ip_day_hour_count': 'uint32', \n",
    "        'ip_os_day_hour_count': 'uint32', \n",
    "        'ip_app_day_hour_count': 'uint32', \n",
    "        'ip_app_os_day_hour_count': 'uint32', \n",
    "        'app_day_hour_count': 'uint32', \n",
    "        'ip_device_os_count': 'uint32', \n",
    "        'ip_app_device_os_count': 'uint32', \n",
    "        'ip_device_os_mean': 'float16',\n",
    "        'ip_app_device_os_mean': 'float16',\n",
    "        'ip_app_device_mean': 'float16',\n",
    "        'app_device_os_mean': 'float16',\n",
    "        'ip_device_os_time2nextclick': 'int32',\n",
    "        'ip_app_device_os_time2nextclick': 'int32',\n",
    "        'ip_app_device_time2nextclick': 'int32',\n",
    "        'ip_device_os_time2previousclick': 'int32',\n",
    "        'ip_app_device_os_time2previousclick': 'int32',\n",
    "        'ip_app_device_time2previousclick': 'int32',\n",
    "        'ip_device_os_countfromfuture': 'uint32', \n",
    "        'ip_app_device_os_countfromfuture': 'uint32', \n",
    "        'ip_app_device_countfromfuture': 'uint32', \n",
    "        'ip_device_os_countfrompast': 'uint32', \n",
    "        'ip_app_device_os_countfrompast': 'uint32', \n",
    "        'ip_app_device_countfrompast': 'uint32', \n",
    "        'ip_device_os_lasttimediff': 'int32',\n",
    "        'ip_app_device_os_lasttimediff': 'int32',\n",
    "        'ip_app_device_lasttimediff': 'int32',\n",
    "        'ip_device_os_firsttimediff': 'int32',\n",
    "        'ip_app_device_os_firsttimediff': 'int32',\n",
    "        'ip_app_device_firsttimediff': 'int32',\n",
    "        'matrixFact_user_iposdeviceapp_item_app': 'float64',#'float16',\n",
    "        'matrixFact_user_ip_item_appdeviceos': 'float64',\n",
    "        'matrixFact_user_ipchannel_item_appdeviceos': 'float64',\n",
    "        'ip_device_os_regression': 'float64',\n",
    "        'ip_app_device_os_regression': 'float64',\n",
    "        'ip_app_device_regression': 'float64',\n",
    "        'ip_app_device_os_channel_regression': 'float64'\n",
    "        } "
   ]
  },
  {
   "cell_type": "markdown",
   "metadata": {},
   "source": [
    "load_path = '/home/kai/data/kaggle/talkingdata/wl/data/equalhour/'\n",
    "file_format = '{}_equalhour_supplementV1.csv'\n",
    "# ALL_features_supplementV3_feature42.csv\n",
    "# test_features_supplementV3_feature42.csv\n",
    "\n",
    "#day7 = pd.read_csv(load_path+file_format.format('day7'),dtype=dtypes)\n",
    "#print('load day7 done!')\n",
    "day9 = pd.read_csv(load_path+file_format.format('day9'),dtype=dtypes)\n",
    "print('load day9 done!')\n",
    "day8 = pd.read_csv(load_path+file_format.format('day8'),dtype=dtypes)\n",
    "print('load day8 done!')\n",
    "day7 = pd.read_csv(load_path+file_format.format('day7'),dtype=dtypes)\n",
    "print('load day7 done!')\n",
    "day10_test = pd.read_csv(load_path+file_format.format('test'),dtype=dtypes)\n",
    "print('load day10_test done!')"
   ]
  },
  {
   "cell_type": "code",
   "execution_count": 5,
   "metadata": {},
   "outputs": [
    {
     "name": "stdout",
     "output_type": "stream",
     "text": [
      "load all train done!\n"
     ]
    }
   ],
   "source": [
    "load_path = '/home/kai/data/kaggle/talkingdata/wl/data/equalhour/'\n",
    "alltrain = pd.read_csv(load_path+'ALL_features_supplementV3_feature42.csv', dtype=dtypes)\n",
    "print('load all train done!')\n",
    "\n",
    "test = pd.read_csv(load_path+'test_features_supplementV3_feature42.csv',dtype=dtypes)\n",
    "\n",
    "test.drop(list(set(test.columns) - set(alltrain.columns)), axis=1, inplace=True)\n",
    "\n",
    "print(set(test.columns) - set(alltrain.columns))"
   ]
  },
  {
   "cell_type": "code",
   "execution_count": 17,
   "metadata": {},
   "outputs": [
    {
     "data": {
      "text/plain": [
       "(18790469, 39)"
      ]
     },
     "execution_count": 17,
     "metadata": {},
     "output_type": "execute_result"
    }
   ],
   "source": [
    "test.shape"
   ]
  },
  {
   "cell_type": "code",
   "execution_count": 18,
   "metadata": {},
   "outputs": [
    {
     "data": {
      "text/plain": [
       "(184903890, 40)"
      ]
     },
     "execution_count": 18,
     "metadata": {},
     "output_type": "execute_result"
    }
   ],
   "source": [
    "alltrain.shape"
   ]
  },
  {
   "cell_type": "markdown",
   "metadata": {
    "collapsed": true
   },
   "source": [
    "ori_path = '/home/kai/data/kaggle/talkingdata/data/'\n",
    "\n",
    "test_ori = pd.read_csv(ori_path+\"test.csv\", dtype=dtypes, usecols=['ip','app','device','os', 'channel', 'click_time', 'click_id'])"
   ]
  },
  {
   "cell_type": "code",
   "execution_count": 7,
   "metadata": {},
   "outputs": [
    {
     "data": {
      "text/plain": [
       "((20898422, 49), (20446743, 49), (19534560, 49), (18790469, 48))"
      ]
     },
     "execution_count": 7,
     "metadata": {},
     "output_type": "execute_result"
    }
   ],
   "source": [
    "day9.shape, day8.shape, day7.shape, day10_test.shape"
   ]
  },
  {
   "cell_type": "markdown",
   "metadata": {
    "collapsed": true
   },
   "source": [
    "day9len = 20898422\n",
    "day8len = 20446743\n",
    "day7len = 19534560\n",
    "day10_testlen = 18790469"
   ]
  },
  {
   "cell_type": "markdown",
   "metadata": {
    "collapsed": true
   },
   "source": [
    "train_df = day9.append(day8)\n",
    "train_df = train_df.append(day7)\n",
    "train_df = train_df.append(day10_test)\n",
    "\n",
    "del day9, day8, day7, day10_test; gc.collect()"
   ]
  },
  {
   "cell_type": "code",
   "execution_count": 21,
   "metadata": {},
   "outputs": [
    {
     "data": {
      "text/plain": [
       "(184903890, 18790469)"
      ]
     },
     "execution_count": 21,
     "metadata": {},
     "output_type": "execute_result"
    }
   ],
   "source": [
    "train_len = len(alltrain)\n",
    "test_len = len(test)\n",
    "train_len, test_len"
   ]
  },
  {
   "cell_type": "code",
   "execution_count": 22,
   "metadata": {},
   "outputs": [
    {
     "data": {
      "text/plain": [
       "(203694359, 40)"
      ]
     },
     "execution_count": 22,
     "metadata": {},
     "output_type": "execute_result"
    }
   ],
   "source": [
    "alltrain = alltrain.append(test)\n",
    "alltrain.shape"
   ]
  },
  {
   "cell_type": "code",
   "execution_count": 25,
   "metadata": {
    "collapsed": true
   },
   "outputs": [],
   "source": [
    "train_df = alltrain"
   ]
  },
  {
   "cell_type": "code",
   "execution_count": 23,
   "metadata": {},
   "outputs": [
    {
     "data": {
      "text/plain": [
       "587"
      ]
     },
     "execution_count": 23,
     "metadata": {},
     "output_type": "execute_result"
    }
   ],
   "source": [
    "del test; gc.collect()"
   ]
  },
  {
   "cell_type": "code",
   "execution_count": 26,
   "metadata": {},
   "outputs": [
    {
     "name": "stdout",
     "output_type": "stream",
     "text": [
      "['ip_app_device_os_channel_regression']\n"
     ]
    }
   ],
   "source": [
    "drop_cols = [col for col in train_df.columns if 'countself' in col or 'regression' in col]\n",
    "print(drop_cols)"
   ]
  },
  {
   "cell_type": "code",
   "execution_count": 27,
   "metadata": {
    "collapsed": true
   },
   "outputs": [],
   "source": [
    "train_df.drop(drop_cols, axis=1, inplace=True)"
   ]
  },
  {
   "cell_type": "code",
   "execution_count": 28,
   "metadata": {},
   "outputs": [
    {
     "data": {
      "text/plain": [
       "(203694359, 39)"
      ]
     },
     "execution_count": 28,
     "metadata": {},
     "output_type": "execute_result"
    }
   ],
   "source": [
    "train_df.shape"
   ]
  },
  {
   "cell_type": "code",
   "execution_count": 30,
   "metadata": {},
   "outputs": [
    {
     "name": "stdout",
     "output_type": "stream",
     "text": [
      "['app_device_os_mean', 'ip_app_device_mean', 'ip_app_device_os_mean', 'ip_device_os_mean']\n"
     ]
    }
   ],
   "source": [
    "mean_cols = [col for col in train_df.columns if '_mean' in col]\n",
    "\n",
    "print(mean_cols)\n",
    "\n",
    "for col in mean_cols:\n",
    "    train_df[col] = train_df[col].apply(lambda x: 1000*(x+0.02))"
   ]
  },
  {
   "cell_type": "code",
   "execution_count": 32,
   "metadata": {
    "collapsed": true
   },
   "outputs": [],
   "source": [
    "import sys\n",
    "\n",
    "sys.getsizeof(train_df)/1024**3"
   ]
  },
  {
   "cell_type": "code",
   "execution_count": 35,
   "metadata": {},
   "outputs": [
    {
     "name": "stdout",
     "output_type": "stream",
     "text": [
      "['ip_app_device_os_mean', 'ip_app_device_os_countfrompast', 'ip_app_device_countfrompast', 'ip_app_device_os_lasttimediff', 'ip_app_device_time2previousclick', 'app_device_os_mean', 'ip_app_device_os_count', 'ip_device_os_countfrompast', 'ip_device_os_time2previousclick', 'ip_app_device_lasttimediff', 'ip_os_day_hour_count', 'ip_app_device_firsttimediff', 'ip_app_day_hour_count', 'ip_device_os_firsttimediff', 'ip_device_os_count', 'ip_app_device_os_time2nextclick', 'ip_device_os_lasttimediff', 'ip_app_device_time2nextclick', 'ip_day_hour_count', 'ip_device_os_mean', 'matrixFact_user_ip_item_appdeviceos', 'ip_app_device_mean', 'ip_app_device_os_time2previousclick', 'ip_app_os_day_hour_count', 'ip_device_os_countfromfuture', 'attributed_timediff', 'app_day_hour_count', 'ip_app_device_countfromfuture', 'matrixFact_user_ipchannel_item_appdeviceos', 'ip_app_device_os_countfromfuture', 'ip_app_device_os_firsttimediff', 'ip_device_os_time2nextclick', 'matrixFact_user_iposdeviceapp_item_app'] 33\n"
     ]
    }
   ],
   "source": [
    "embedding_features = ['app','channel','device','os','hour']\n",
    "\n",
    "numeric_features = list(set(set(train_df.columns) - set(embedding_features)) - set(['is_attributed']))\n",
    "print(numeric_features, len(numeric_features))"
   ]
  },
  {
   "cell_type": "code",
   "execution_count": 36,
   "metadata": {
    "collapsed": true
   },
   "outputs": [],
   "source": [
    "from sklearn.preprocessing import LabelEncoder\n",
    "train_df[embedding_features] = train_df[embedding_features].apply(LabelEncoder().fit_transform)"
   ]
  },
  {
   "cell_type": "code",
   "execution_count": 37,
   "metadata": {
    "collapsed": true
   },
   "outputs": [],
   "source": [
    "max_dict = dict(train_df[embedding_features].max())"
   ]
  },
  {
   "cell_type": "code",
   "execution_count": 38,
   "metadata": {},
   "outputs": [
    {
     "data": {
      "text/plain": [
       "{'app': 729, 'channel': 201, 'device': 3798, 'hour': 23, 'os': 855}"
      ]
     },
     "execution_count": 38,
     "metadata": {},
     "output_type": "execute_result"
    }
   ],
   "source": [
    "max_dict"
   ]
  },
  {
   "cell_type": "markdown",
   "metadata": {},
   "source": [
    "{'app': 729, 'channel': 201, 'device': 3798, 'hour': 23, 'os': 855}"
   ]
  },
  {
   "cell_type": "markdown",
   "metadata": {},
   "source": [
    "for col in train.columns:\n",
    "    nan_amount = len(np.argwhere(np.isnan(day8[col])))\n",
    "    if nan_amount != 0:\n",
    "        print('train', col, nan_amount)\n",
    "    nan_amount = len(np.argwhere(np.isnan(day9[col])))\n",
    "    if nan_amount != 0:\n",
    "        print('test', col, nan_amount)"
   ]
  },
  {
   "cell_type": "code",
   "execution_count": 41,
   "metadata": {},
   "outputs": [
    {
     "data": {
      "text/plain": [
       "33"
      ]
     },
     "execution_count": 41,
     "metadata": {},
     "output_type": "execute_result"
    }
   ],
   "source": [
    "len(numeric_features)"
   ]
  },
  {
   "cell_type": "code",
   "execution_count": 42,
   "metadata": {},
   "outputs": [
    {
     "data": {
      "text/plain": [
       "203694359"
      ]
     },
     "execution_count": 42,
     "metadata": {},
     "output_type": "execute_result"
    }
   ],
   "source": [
    "len(train_df)"
   ]
  },
  {
   "cell_type": "code",
   "execution_count": 43,
   "metadata": {},
   "outputs": [
    {
     "data": {
      "text/plain": [
       "(184903890, -184903890)"
      ]
     },
     "execution_count": 43,
     "metadata": {},
     "output_type": "execute_result"
    }
   ],
   "source": [
    "train_len, -train_len"
   ]
  },
  {
   "cell_type": "code",
   "execution_count": 46,
   "metadata": {
    "collapsed": true
   },
   "outputs": [],
   "source": [
    "train = train_df[:train_len]#(day9len+day8len+day7len)]\n",
    "test = train_df[-test_len:]#day10_testlen:]\n",
    "\n",
    "assert len(train) + len(test) == len(train_df)\n",
    "assert len(test) == test_len"
   ]
  },
  {
   "cell_type": "code",
   "execution_count": 47,
   "metadata": {},
   "outputs": [
    {
     "data": {
      "text/plain": [
       "((184903890, 39), (18790469, 39))"
      ]
     },
     "execution_count": 47,
     "metadata": {},
     "output_type": "execute_result"
    }
   ],
   "source": [
    "train.shape, test.shape"
   ]
  },
  {
   "cell_type": "code",
   "execution_count": 50,
   "metadata": {},
   "outputs": [
    {
     "data": {
      "text/plain": [
       "1197"
      ]
     },
     "execution_count": 50,
     "metadata": {},
     "output_type": "execute_result"
    }
   ],
   "source": [
    "del train_df; gc.collect()"
   ]
  },
  {
   "cell_type": "code",
   "execution_count": 51,
   "metadata": {},
   "outputs": [
    {
     "name": "stdout",
     "output_type": "stream",
     "text": [
      "fitting...\n"
     ]
    },
    {
     "name": "stderr",
     "output_type": "stream",
     "text": [
      "/home/kai/anaconda3/envs/tf_gpu/lib/python3.5/site-packages/sklearn/utils/validation.py:475: DataConversionWarning: Data with input dtype uint32 was converted to float64 by StandardScaler.\n",
      "  warnings.warn(msg, DataConversionWarning)\n",
      "/home/kai/anaconda3/envs/tf_gpu/lib/python3.5/site-packages/sklearn/utils/validation.py:475: DataConversionWarning: Data with input dtype int32 was converted to float64 by StandardScaler.\n",
      "  warnings.warn(msg, DataConversionWarning)\n"
     ]
    }
   ],
   "source": [
    "from sklearn.preprocessing import StandardScaler\n",
    "\n",
    "print('fitting...')\n",
    "scaler_dict = dict((col, StandardScaler().fit(train[[col]].values)) for col in numeric_features)"
   ]
  },
  {
   "cell_type": "code",
   "execution_count": 52,
   "metadata": {
    "collapsed": true
   },
   "outputs": [],
   "source": [
    "import multiprocessing\n",
    "import numpy as np\n",
    "from tqdm import tqdm\n",
    "workers = 20\n",
    "\n",
    "def _apply_df(args):\n",
    "    df, func, kwargs = args\n",
    "    return df.apply(func, **kwargs)\n",
    "\n",
    "def apply_by_multiprocessing(df, func, **kwargs):\n",
    "    workers = kwargs.pop('workers')\n",
    "    pool = multiprocessing.Pool(processes=workers)\n",
    "    result = pool.map(_apply_df, [(d, func, kwargs)\n",
    "            for d in np.array_split(df, workers)])\n",
    "    pool.close()\n",
    "    return pd.concat(list(result))\n",
    "\n",
    "def scaler_transform(x, **kwargs):\n",
    "    scaler_dict=kwargs.pop('scaler_dict')\n",
    "    col = kwargs.pop('col')\n",
    "    return scaler_dict[col].transform(x)[0][0]"
   ]
  },
  {
   "cell_type": "code",
   "execution_count": 53,
   "metadata": {},
   "outputs": [
    {
     "data": {
      "text/plain": [
       "1222"
      ]
     },
     "execution_count": 53,
     "metadata": {},
     "output_type": "execute_result"
    }
   ],
   "source": [
    "gc.collect()"
   ]
  },
  {
   "cell_type": "code",
   "execution_count": 55,
   "metadata": {},
   "outputs": [
    {
     "name": "stderr",
     "output_type": "stream",
     "text": [
      "  0%|          | 0/33 [00:00<?, ?it/s]/home/kai/anaconda3/envs/tf_gpu/lib/python3.5/site-packages/ipykernel_launcher.py:2: SettingWithCopyWarning: \n",
      "A value is trying to be set on a copy of a slice from a DataFrame.\n",
      "Try using .loc[row_indexer,col_indexer] = value instead\n",
      "\n",
      "See the caveats in the documentation: http://pandas.pydata.org/pandas-docs/stable/indexing.html#indexing-view-versus-copy\n",
      "  \n",
      "/home/kai/anaconda3/envs/tf_gpu/lib/python3.5/site-packages/ipykernel_launcher.py:3: SettingWithCopyWarning: \n",
      "A value is trying to be set on a copy of a slice from a DataFrame.\n",
      "Try using .loc[row_indexer,col_indexer] = value instead\n",
      "\n",
      "See the caveats in the documentation: http://pandas.pydata.org/pandas-docs/stable/indexing.html#indexing-view-versus-copy\n",
      "  This is separate from the ipykernel package so we can avoid doing imports until\n",
      "100%|██████████| 33/33 [3:03:50<00:00, 334.26s/it]  \n"
     ]
    }
   ],
   "source": [
    "for col in tqdm(numeric_features):\n",
    "    train[col]=apply_by_multiprocessing(train[col], scaler_transform, workers=workers, col=col, scaler_dict=scaler_dict)\n",
    "    test[col]=apply_by_multiprocessing(test[col], scaler_transform, workers=workers, col=col, scaler_dict=scaler_dict)"
   ]
  },
  {
   "cell_type": "markdown",
   "metadata": {
    "collapsed": true
   },
   "source": [
    "ss_numeric_features = ['ss_'+col for col in number_features]"
   ]
  },
  {
   "cell_type": "code",
   "execution_count": 73,
   "metadata": {},
   "outputs": [
    {
     "data": {
      "text/plain": [
       "(1.0000000027041074, 0.6089447229927581)"
      ]
     },
     "execution_count": 73,
     "metadata": {},
     "output_type": "execute_result"
    }
   ],
   "source": [
    "train['ip_device_os_lasttimediff'].std(), test['ip_device_os_lasttimediff'].std()"
   ]
  },
  {
   "cell_type": "markdown",
   "metadata": {},
   "source": [
    "#print('transforming...')\n",
    "for col in tqdm(number_features):\n",
    "    train[col] = train[col].apply(lambda x: scaler_dict[col].transform(x)[0][0])\n",
    "    test[col] = test[col].apply(lambda x: scaler_dict[col].transform(x)[0][0])"
   ]
  },
  {
   "cell_type": "code",
   "execution_count": 66,
   "metadata": {
    "scrolled": true
   },
   "outputs": [
    {
     "name": "stderr",
     "output_type": "stream",
     "text": [
      "/home/kai/anaconda3/envs/tf_gpu/lib/python3.5/site-packages/h5py/__init__.py:36: FutureWarning: Conversion of the second argument of issubdtype from `float` to `np.floating` is deprecated. In future, it will be treated as `np.float64 == np.dtype(float).type`.\n",
      "  from ._conv import register_converters as _register_converters\n",
      "Using TensorFlow backend.\n"
     ]
    }
   ],
   "source": [
    "from keras.models import Model\n",
    "from keras.layers import Dense, Input, Embedding, Dropout, Activation, Reshape, Flatten\n",
    "from keras.layers.merge import concatenate, dot, add, multiply\n",
    "from keras.layers.normalization import BatchNormalization\n",
    "from keras.layers import SpatialDropout1D, Conv1D\n",
    "from keras.layers.advanced_activations import LeakyReLU, PReLU, ELU\n",
    "from keras.callbacks import Callback, EarlyStopping, ModelCheckpoint, ReduceLROnPlateau, LearningRateScheduler\n",
    "from keras.regularizers import l1, l2, l1_l2\n",
    "from keras.initializers import RandomUniform\n",
    "from keras.optimizers import RMSprop, Adam, SGD\n",
    "\n",
    "import numpy as np"
   ]
  },
  {
   "cell_type": "code",
   "execution_count": 67,
   "metadata": {
    "collapsed": true
   },
   "outputs": [],
   "source": [
    "def get_keras_data(dataset):\n",
    "    X = dict((col, np.array(dataset[col])) for col in embedding_features)\n",
    "    X_num =  dict(('num_'+col, np.array(dataset[col])) for col in numeric_features)\n",
    "    X.update(X_num)\n",
    "    return X\n",
    "\n",
    "#fe = concatenate([(emb_) for emb_ in emb_model.values()])\n",
    "# Rest of the model\n",
    "#model = Model(inputs=[inp for inp in emb_inputs.values()] + [inp for inp in num_inputs.values()], outputs=outp)"
   ]
  },
  {
   "cell_type": "code",
   "execution_count": 168,
   "metadata": {},
   "outputs": [
    {
     "data": {
      "text/plain": [
       "1892"
      ]
     },
     "execution_count": 168,
     "metadata": {},
     "output_type": "execute_result"
    }
   ],
   "source": [
    "import gc; gc.collect()"
   ]
  },
  {
   "cell_type": "markdown",
   "metadata": {},
   "source": [
    "from IPython.display import SVG\n",
    "from keras.utils.vis_utils import model_to_dot\n",
    "\n",
    "SVG(model_to_dot(model).create(prog='dot', format='svg'))"
   ]
  },
  {
   "cell_type": "code",
   "execution_count": null,
   "metadata": {
    "collapsed": true
   },
   "outputs": [],
   "source": [
    "from keras.utils import plot_model\n",
    "plot_model(model, to_file='model.png')"
   ]
  },
  {
   "cell_type": "code",
   "execution_count": null,
   "metadata": {
    "collapsed": true
   },
   "outputs": [],
   "source": [
    "((20898422, 49), (20446743, 49), (19534560, 49), (18790469, 48))"
   ]
  },
  {
   "cell_type": "code",
   "execution_count": 171,
   "metadata": {},
   "outputs": [
    {
     "data": {
      "text/plain": [
       "((60879725, 70), (18790469, 70))"
      ]
     },
     "execution_count": 171,
     "metadata": {},
     "output_type": "execute_result"
    }
   ],
   "source": [
    "train.shape, test.shape"
   ]
  },
  {
   "cell_type": "code",
   "execution_count": 245,
   "metadata": {},
   "outputs": [
    {
     "data": {
      "text/plain": [
       "924"
      ]
     },
     "execution_count": 245,
     "metadata": {},
     "output_type": "execute_result"
    }
   ],
   "source": [
    "del train_df, y_train, val_df, y_val; gc.collect()"
   ]
  },
  {
   "cell_type": "code",
   "execution_count": 189,
   "metadata": {
    "collapsed": true
   },
   "outputs": [],
   "source": [
    "val_size = 5000000"
   ]
  },
  {
   "cell_type": "code",
   "execution_count": 195,
   "metadata": {},
   "outputs": [
    {
     "data": {
      "text/plain": [
       "12911"
      ]
     },
     "execution_count": 195,
     "metadata": {},
     "output_type": "execute_result"
    }
   ],
   "source": [
    "del train_df, y_train, val_df, y_val; gc.collect()"
   ]
  },
  {
   "cell_type": "code",
   "execution_count": 235,
   "metadata": {},
   "outputs": [
    {
     "data": {
      "text/plain": [
       "(60879725, 70)"
      ]
     },
     "execution_count": 235,
     "metadata": {},
     "output_type": "execute_result"
    }
   ],
   "source": [
    "train.shape"
   ]
  },
  {
   "cell_type": "markdown",
   "metadata": {},
   "source": [
    "# SAVE"
   ]
  },
  {
   "cell_type": "markdown",
   "metadata": {},
   "source": [
    "train.reset_index().to_feather('Feathers/ss_alltrain_typechanged.ftr')"
   ]
  },
  {
   "cell_type": "markdown",
   "metadata": {},
   "source": [
    "test.reset_index().to_feather('Feathers/ss_test_via_alltrain_typechanged.ftr')"
   ]
  },
  {
   "cell_type": "markdown",
   "metadata": {},
   "source": [
    "# LOAD"
   ]
  },
  {
   "cell_type": "code",
   "execution_count": 248,
   "metadata": {
    "collapsed": true
   },
   "outputs": [],
   "source": [
    "del test_s.index.name"
   ]
  },
  {
   "cell_type": "code",
   "execution_count": null,
   "metadata": {
    "collapsed": true
   },
   "outputs": [],
   "source": []
  },
  {
   "cell_type": "code",
   "execution_count": null,
   "metadata": {
    "collapsed": true
   },
   "outputs": [],
   "source": []
  },
  {
   "cell_type": "code",
   "execution_count": 222,
   "metadata": {
    "collapsed": true
   },
   "outputs": [],
   "source": [
    "test_load = pd.read_feather('Feathers/ss_test_via_alltrain_typechanged.ftr')"
   ]
  },
  {
   "cell_type": "code",
   "execution_count": 224,
   "metadata": {},
   "outputs": [
    {
     "data": {
      "text/plain": [
       "(18790469, 40)"
      ]
     },
     "execution_count": 224,
     "metadata": {},
     "output_type": "execute_result"
    }
   ],
   "source": [
    "test_load.shape"
   ]
  },
  {
   "cell_type": "code",
   "execution_count": 226,
   "metadata": {},
   "outputs": [
    {
     "data": {
      "text/html": [
       "<div>\n",
       "<style scoped>\n",
       "    .dataframe tbody tr th:only-of-type {\n",
       "        vertical-align: middle;\n",
       "    }\n",
       "\n",
       "    .dataframe tbody tr th {\n",
       "        vertical-align: top;\n",
       "    }\n",
       "\n",
       "    .dataframe thead th {\n",
       "        text-align: right;\n",
       "    }\n",
       "</style>\n",
       "<table border=\"1\" class=\"dataframe\">\n",
       "  <thead>\n",
       "    <tr style=\"text-align: right;\">\n",
       "      <th></th>\n",
       "      <th>app</th>\n",
       "      <th>app_day_hour_count</th>\n",
       "      <th>app_device_os_mean</th>\n",
       "      <th>attributed_timediff</th>\n",
       "      <th>channel</th>\n",
       "      <th>device</th>\n",
       "      <th>hour</th>\n",
       "      <th>ip_app_day_hour_count</th>\n",
       "      <th>ip_app_device_countfromfuture</th>\n",
       "      <th>ip_app_device_countfrompast</th>\n",
       "      <th>...</th>\n",
       "      <th>ip_device_os_lasttimediff</th>\n",
       "      <th>ip_device_os_mean</th>\n",
       "      <th>ip_device_os_time2nextclick</th>\n",
       "      <th>ip_device_os_time2previousclick</th>\n",
       "      <th>ip_os_day_hour_count</th>\n",
       "      <th>is_attributed</th>\n",
       "      <th>matrixFact_user_ip_item_appdeviceos</th>\n",
       "      <th>matrixFact_user_ipchannel_item_appdeviceos</th>\n",
       "      <th>matrixFact_user_iposdeviceapp_item_app</th>\n",
       "      <th>os</th>\n",
       "    </tr>\n",
       "    <tr>\n",
       "      <th>index</th>\n",
       "      <th></th>\n",
       "      <th></th>\n",
       "      <th></th>\n",
       "      <th></th>\n",
       "      <th></th>\n",
       "      <th></th>\n",
       "      <th></th>\n",
       "      <th></th>\n",
       "      <th></th>\n",
       "      <th></th>\n",
       "      <th></th>\n",
       "      <th></th>\n",
       "      <th></th>\n",
       "      <th></th>\n",
       "      <th></th>\n",
       "      <th></th>\n",
       "      <th></th>\n",
       "      <th></th>\n",
       "      <th></th>\n",
       "      <th></th>\n",
       "      <th></th>\n",
       "    </tr>\n",
       "  </thead>\n",
       "  <tbody>\n",
       "    <tr>\n",
       "      <th>0</th>\n",
       "      <td>9</td>\n",
       "      <td>0.790197</td>\n",
       "      <td>-0.075500</td>\n",
       "      <td>0.091585</td>\n",
       "      <td>17</td>\n",
       "      <td>1</td>\n",
       "      <td>4</td>\n",
       "      <td>-0.215741</td>\n",
       "      <td>-0.197744</td>\n",
       "      <td>-0.192336</td>\n",
       "      <td>...</td>\n",
       "      <td>-1.132750</td>\n",
       "      <td>0.008702</td>\n",
       "      <td>-0.205401</td>\n",
       "      <td>-0.205966</td>\n",
       "      <td>-0.217264</td>\n",
       "      <td>NaN</td>\n",
       "      <td>0.521780</td>\n",
       "      <td>0.467860</td>\n",
       "      <td>1.140992</td>\n",
       "      <td>3</td>\n",
       "    </tr>\n",
       "    <tr>\n",
       "      <th>1</th>\n",
       "      <td>9</td>\n",
       "      <td>0.790197</td>\n",
       "      <td>-0.075500</td>\n",
       "      <td>-0.343579</td>\n",
       "      <td>177</td>\n",
       "      <td>1</td>\n",
       "      <td>4</td>\n",
       "      <td>-0.119355</td>\n",
       "      <td>-0.060634</td>\n",
       "      <td>-0.101353</td>\n",
       "      <td>...</td>\n",
       "      <td>0.553337</td>\n",
       "      <td>0.201479</td>\n",
       "      <td>-0.204271</td>\n",
       "      <td>-0.205401</td>\n",
       "      <td>-0.190076</td>\n",
       "      <td>NaN</td>\n",
       "      <td>0.239275</td>\n",
       "      <td>0.255219</td>\n",
       "      <td>0.778947</td>\n",
       "      <td>3</td>\n",
       "    </tr>\n",
       "    <tr>\n",
       "      <th>2</th>\n",
       "      <td>21</td>\n",
       "      <td>-1.007531</td>\n",
       "      <td>-0.089199</td>\n",
       "      <td>-1.370941</td>\n",
       "      <td>34</td>\n",
       "      <td>1</td>\n",
       "      <td>4</td>\n",
       "      <td>-0.204267</td>\n",
       "      <td>-0.050136</td>\n",
       "      <td>-0.196789</td>\n",
       "      <td>...</td>\n",
       "      <td>0.610330</td>\n",
       "      <td>0.167155</td>\n",
       "      <td>-0.188451</td>\n",
       "      <td>-0.172631</td>\n",
       "      <td>-0.089094</td>\n",
       "      <td>NaN</td>\n",
       "      <td>-1.008456</td>\n",
       "      <td>-0.871535</td>\n",
       "      <td>-0.609683</td>\n",
       "      <td>19</td>\n",
       "    </tr>\n",
       "    <tr>\n",
       "      <th>3</th>\n",
       "      <td>15</td>\n",
       "      <td>-0.410553</td>\n",
       "      <td>-0.085623</td>\n",
       "      <td>-1.546604</td>\n",
       "      <td>20</td>\n",
       "      <td>1</td>\n",
       "      <td>4</td>\n",
       "      <td>-0.211152</td>\n",
       "      <td>-0.192336</td>\n",
       "      <td>-0.199016</td>\n",
       "      <td>...</td>\n",
       "      <td>0.562604</td>\n",
       "      <td>0.201899</td>\n",
       "      <td>-0.205683</td>\n",
       "      <td>-0.206813</td>\n",
       "      <td>-0.032777</td>\n",
       "      <td>NaN</td>\n",
       "      <td>0.166295</td>\n",
       "      <td>-0.025859</td>\n",
       "      <td>-0.519172</td>\n",
       "      <td>13</td>\n",
       "    </tr>\n",
       "    <tr>\n",
       "      <th>4</th>\n",
       "      <td>12</td>\n",
       "      <td>0.431785</td>\n",
       "      <td>-0.089174</td>\n",
       "      <td>-1.257825</td>\n",
       "      <td>112</td>\n",
       "      <td>1</td>\n",
       "      <td>4</td>\n",
       "      <td>-0.218036</td>\n",
       "      <td>-0.200925</td>\n",
       "      <td>-0.204424</td>\n",
       "      <td>...</td>\n",
       "      <td>0.546376</td>\n",
       "      <td>0.008702</td>\n",
       "      <td>-0.205966</td>\n",
       "      <td>-0.204836</td>\n",
       "      <td>-0.170657</td>\n",
       "      <td>NaN</td>\n",
       "      <td>-0.335152</td>\n",
       "      <td>-0.104071</td>\n",
       "      <td>0.062004</td>\n",
       "      <td>13</td>\n",
       "    </tr>\n",
       "  </tbody>\n",
       "</table>\n",
       "<p>5 rows × 39 columns</p>\n",
       "</div>"
      ],
      "text/plain": [
       "       app  app_day_hour_count  app_device_os_mean  attributed_timediff  \\\n",
       "index                                                                     \n",
       "0        9            0.790197           -0.075500             0.091585   \n",
       "1        9            0.790197           -0.075500            -0.343579   \n",
       "2       21           -1.007531           -0.089199            -1.370941   \n",
       "3       15           -0.410553           -0.085623            -1.546604   \n",
       "4       12            0.431785           -0.089174            -1.257825   \n",
       "\n",
       "       channel  device  hour  ip_app_day_hour_count  \\\n",
       "index                                                 \n",
       "0           17       1     4              -0.215741   \n",
       "1          177       1     4              -0.119355   \n",
       "2           34       1     4              -0.204267   \n",
       "3           20       1     4              -0.211152   \n",
       "4          112       1     4              -0.218036   \n",
       "\n",
       "       ip_app_device_countfromfuture  ip_app_device_countfrompast ...  \\\n",
       "index                                                             ...   \n",
       "0                          -0.197744                    -0.192336 ...   \n",
       "1                          -0.060634                    -0.101353 ...   \n",
       "2                          -0.050136                    -0.196789 ...   \n",
       "3                          -0.192336                    -0.199016 ...   \n",
       "4                          -0.200925                    -0.204424 ...   \n",
       "\n",
       "       ip_device_os_lasttimediff  ip_device_os_mean  \\\n",
       "index                                                 \n",
       "0                      -1.132750           0.008702   \n",
       "1                       0.553337           0.201479   \n",
       "2                       0.610330           0.167155   \n",
       "3                       0.562604           0.201899   \n",
       "4                       0.546376           0.008702   \n",
       "\n",
       "       ip_device_os_time2nextclick  ip_device_os_time2previousclick  \\\n",
       "index                                                                 \n",
       "0                        -0.205401                        -0.205966   \n",
       "1                        -0.204271                        -0.205401   \n",
       "2                        -0.188451                        -0.172631   \n",
       "3                        -0.205683                        -0.206813   \n",
       "4                        -0.205966                        -0.204836   \n",
       "\n",
       "       ip_os_day_hour_count  is_attributed  \\\n",
       "index                                        \n",
       "0                 -0.217264            NaN   \n",
       "1                 -0.190076            NaN   \n",
       "2                 -0.089094            NaN   \n",
       "3                 -0.032777            NaN   \n",
       "4                 -0.170657            NaN   \n",
       "\n",
       "       matrixFact_user_ip_item_appdeviceos  \\\n",
       "index                                        \n",
       "0                                 0.521780   \n",
       "1                                 0.239275   \n",
       "2                                -1.008456   \n",
       "3                                 0.166295   \n",
       "4                                -0.335152   \n",
       "\n",
       "       matrixFact_user_ipchannel_item_appdeviceos  \\\n",
       "index                                               \n",
       "0                                        0.467860   \n",
       "1                                        0.255219   \n",
       "2                                       -0.871535   \n",
       "3                                       -0.025859   \n",
       "4                                       -0.104071   \n",
       "\n",
       "       matrixFact_user_iposdeviceapp_item_app  os  \n",
       "index                                              \n",
       "0                                    1.140992   3  \n",
       "1                                    0.778947   3  \n",
       "2                                   -0.609683  19  \n",
       "3                                   -0.519172  13  \n",
       "4                                    0.062004  13  \n",
       "\n",
       "[5 rows x 39 columns]"
      ]
     },
     "execution_count": 226,
     "metadata": {},
     "output_type": "execute_result"
    }
   ],
   "source": [
    "test_load.set_index('index')."
   ]
  },
  {
   "cell_type": "code",
   "execution_count": null,
   "metadata": {
    "collapsed": true
   },
   "outputs": [],
   "source": []
  },
  {
   "cell_type": "code",
   "execution_count": null,
   "metadata": {
    "collapsed": true
   },
   "outputs": [],
   "source": []
  },
  {
   "cell_type": "code",
   "execution_count": null,
   "metadata": {
    "collapsed": true
   },
   "outputs": [],
   "source": []
  },
  {
   "cell_type": "code",
   "execution_count": 58,
   "metadata": {},
   "outputs": [
    {
     "data": {
      "text/plain": [
       "14"
      ]
     },
     "execution_count": 58,
     "metadata": {},
     "output_type": "execute_result"
    }
   ],
   "source": [
    "gc.collect()"
   ]
  },
  {
   "cell_type": "code",
   "execution_count": 257,
   "metadata": {
    "collapsed": true
   },
   "outputs": [],
   "source": [
    "test_ftr = pd.read_feather('Feathers/standardscaled_test_inorder_no_clickid.ftr')"
   ]
  },
  {
   "cell_type": "code",
   "execution_count": 59,
   "metadata": {
    "collapsed": true
   },
   "outputs": [],
   "source": [
    "df_hour = pd.read_csv('/home/kai/data/kaggle/talkingdata/data/hourdistri.csv', index_col='Unnamed: 0')\n",
    "index = {}\n",
    "for day in ['day7', 'day8','day9']:\n",
    "    index[day] = list(range(df_hour.loc[day,'4start'], df_hour.loc[day,'6end0sec'])) + \\\n",
    "    list(range(df_hour.loc[day,'9start'], df_hour.loc[day,'11end0sec'])) + \\\n",
    "    list(range(df_hour.loc[day,'13start'], df_hour.loc[day,'15end0sec'])) "
   ]
  },
  {
   "cell_type": "code",
   "execution_count": 91,
   "metadata": {
    "collapsed": true
   },
   "outputs": [],
   "source": [
    "train_old89 = pd.read_feather('Feathers/standardscaled_train_day9_20898422_day8_20446743_day7_19534560.ftr')"
   ]
  },
  {
   "cell_type": "code",
   "execution_count": null,
   "metadata": {
    "collapsed": true
   },
   "outputs": [],
   "source": [
    "count_cols = [col for col in numeric_features if 'count' in col]"
   ]
  },
  {
   "cell_type": "markdown",
   "metadata": {},
   "source": [
    "test_old = pd.read_feather('Feathers/standardscaled_test_inorder_no_clickid.ftr')"
   ]
  },
  {
   "cell_type": "code",
   "execution_count": 176,
   "metadata": {},
   "outputs": [
    {
     "data": {
      "text/plain": [
       "184903890"
      ]
     },
     "execution_count": 176,
     "metadata": {},
     "output_type": "execute_result"
    }
   ],
   "source": [
    "alltrain_len = len(train)"
   ]
  },
  {
   "cell_type": "code",
   "execution_count": 177,
   "metadata": {
    "collapsed": true
   },
   "outputs": [],
   "source": [
    "allindexintrain = set(range(alltrain_len))\n",
    "\n",
    "notday7eh_idx = list(allindexintrain - set(index['day7']))\n",
    "\n",
    "assert len(notday7eh_idx) == 165369330\n",
    "\n",
    "del allindexintrain; gc.collect()"
   ]
  },
  {
   "cell_type": "code",
   "execution_count": 100,
   "metadata": {},
   "outputs": [
    {
     "data": {
      "text/plain": [
       "8.596765608504827e-17"
      ]
     },
     "execution_count": 100,
     "metadata": {},
     "output_type": "execute_result"
    }
   ],
   "source": [
    "train_old89['ss_ip_app_device_os_mean'].mean()"
   ]
  },
  {
   "cell_type": "code",
   "execution_count": 101,
   "metadata": {},
   "outputs": [
    {
     "data": {
      "text/plain": [
       "0.005748842014999835"
      ]
     },
     "execution_count": 101,
     "metadata": {},
     "output_type": "execute_result"
    }
   ],
   "source": [
    "temp['ip_app_device_os_mean'].mean()"
   ]
  },
  {
   "cell_type": "code",
   "execution_count": 175,
   "metadata": {},
   "outputs": [
    {
     "data": {
      "text/plain": [
       "61634630"
      ]
     },
     "execution_count": 175,
     "metadata": {},
     "output_type": "execute_result"
    }
   ],
   "source": [
    "day8start = int(len(train)*1/3)\n",
    "day8start"
   ]
  },
  {
   "cell_type": "code",
   "execution_count": 116,
   "metadata": {},
   "outputs": [
    {
     "data": {
      "text/plain": [
       "123269260"
      ]
     },
     "execution_count": 116,
     "metadata": {},
     "output_type": "execute_result"
    }
   ],
   "source": [
    "day9start = int(len(train)*2/3)\n",
    "day9start"
   ]
  },
  {
   "cell_type": "code",
   "execution_count": null,
   "metadata": {
    "collapsed": true
   },
   "outputs": [],
   "source": [
    "del train_df, y_train, val_df, y_val; gc.collect()"
   ]
  },
  {
   "cell_type": "code",
   "execution_count": 208,
   "metadata": {},
   "outputs": [
    {
     "data": {
      "text/plain": [
       "32.208416391164064"
      ]
     },
     "execution_count": 208,
     "metadata": {},
     "output_type": "execute_result"
    }
   ],
   "source": [
    "import sys\n",
    "\n",
    "sys.getsizeof(train)/1024**3"
   ]
  },
  {
   "cell_type": "code",
   "execution_count": 195,
   "metadata": {},
   "outputs": [
    {
     "data": {
      "text/plain": [
       "True"
      ]
     },
     "execution_count": 195,
     "metadata": {},
     "output_type": "execute_result"
    }
   ],
   "source": [
    "train['app'].dtype == np.int64"
   ]
  },
  {
   "cell_type": "code",
   "execution_count": 218,
   "metadata": {},
   "outputs": [
    {
     "data": {
      "text/plain": [
       "429"
      ]
     },
     "execution_count": 218,
     "metadata": {},
     "output_type": "execute_result"
    }
   ],
   "source": [
    "gc.collect()"
   ]
  },
  {
   "cell_type": "markdown",
   "metadata": {},
   "source": [
    "for col in numeric_features:\n",
    "    test[col] = test[col].astype(np.float32)"
   ]
  },
  {
   "cell_type": "code",
   "execution_count": 202,
   "metadata": {},
   "outputs": [
    {
     "data": {
      "text/plain": [
       "(-32768, 32767)"
      ]
     },
     "execution_count": 202,
     "metadata": {},
     "output_type": "execute_result"
    }
   ],
   "source": [
    "np.iinfo(np.int16).min, np.iinfo(np.int16).max"
   ]
  },
  {
   "cell_type": "code",
   "execution_count": 213,
   "metadata": {},
   "outputs": [
    {
     "data": {
      "text/plain": [
       "app                                             int16\n",
       "app_day_hour_count                            float32\n",
       "app_device_os_mean                            float32\n",
       "attributed_timediff                           float32\n",
       "channel                                         int16\n",
       "device                                          int16\n",
       "hour                                            int16\n",
       "ip_app_day_hour_count                         float32\n",
       "ip_app_device_countfromfuture                 float32\n",
       "ip_app_device_countfrompast                   float32\n",
       "ip_app_device_firsttimediff                   float32\n",
       "ip_app_device_lasttimediff                    float32\n",
       "ip_app_device_mean                            float32\n",
       "ip_app_device_os_count                        float32\n",
       "ip_app_device_os_countfromfuture              float32\n",
       "ip_app_device_os_countfrompast                float32\n",
       "ip_app_device_os_firsttimediff                float32\n",
       "ip_app_device_os_lasttimediff                 float32\n",
       "ip_app_device_os_mean                         float32\n",
       "ip_app_device_os_time2nextclick               float32\n",
       "ip_app_device_os_time2previousclick           float32\n",
       "ip_app_device_time2nextclick                  float32\n",
       "ip_app_device_time2previousclick              float32\n",
       "ip_app_os_day_hour_count                      float32\n",
       "ip_day_hour_count                             float32\n",
       "ip_device_os_count                            float32\n",
       "ip_device_os_countfromfuture                  float32\n",
       "ip_device_os_countfrompast                    float32\n",
       "ip_device_os_firsttimediff                    float32\n",
       "ip_device_os_lasttimediff                     float32\n",
       "ip_device_os_mean                             float32\n",
       "ip_device_os_time2nextclick                   float32\n",
       "ip_device_os_time2previousclick               float32\n",
       "ip_os_day_hour_count                          float32\n",
       "is_attributed                                 float64\n",
       "matrixFact_user_ip_item_appdeviceos           float32\n",
       "matrixFact_user_ipchannel_item_appdeviceos    float32\n",
       "matrixFact_user_iposdeviceapp_item_app        float32\n",
       "os                                              int16\n",
       "dtype: object"
      ]
     },
     "execution_count": 213,
     "metadata": {},
     "output_type": "execute_result"
    }
   ],
   "source": [
    "test.dtypes"
   ]
  },
  {
   "cell_type": "code",
   "execution_count": null,
   "metadata": {
    "collapsed": true
   },
   "outputs": [],
   "source": []
  },
  {
   "cell_type": "code",
   "execution_count": null,
   "metadata": {
    "collapsed": true
   },
   "outputs": [],
   "source": []
  },
  {
   "cell_type": "code",
   "execution_count": 186,
   "metadata": {},
   "outputs": [
    {
     "ename": "KeyboardInterrupt",
     "evalue": "",
     "output_type": "error",
     "traceback": [
      "\u001b[0;31m---------------------------------------------------------------------------\u001b[0m",
      "\u001b[0;31mKeyboardInterrupt\u001b[0m                         Traceback (most recent call last)",
      "\u001b[0;32m<ipython-input-186-cda3e2fec79a>\u001b[0m in \u001b[0;36m<module>\u001b[0;34m()\u001b[0m\n\u001b[0;32m----> 1\u001b[0;31m \u001b[0mtrain_df\u001b[0m \u001b[0;34m=\u001b[0m \u001b[0mget_keras_data\u001b[0m\u001b[0;34m(\u001b[0m\u001b[0mtrain\u001b[0m\u001b[0;34m.\u001b[0m\u001b[0miloc\u001b[0m\u001b[0;34m[\u001b[0m\u001b[0mnotday7eh_idx\u001b[0m\u001b[0;34m]\u001b[0m\u001b[0;34m)\u001b[0m\u001b[0;31m#[day8start:])#train.iloc[index['day8']+index['day9']])#:(day9len+day8len)])\u001b[0m\u001b[0;34m\u001b[0m\u001b[0m\n\u001b[0m\u001b[1;32m      2\u001b[0m \u001b[0my_train\u001b[0m \u001b[0;34m=\u001b[0m \u001b[0mtrain\u001b[0m\u001b[0;34m.\u001b[0m\u001b[0miloc\u001b[0m\u001b[0;34m[\u001b[0m\u001b[0mnotday7eh_idx\u001b[0m\u001b[0;34m]\u001b[0m\u001b[0;34m[\u001b[0m\u001b[0;34m'is_attributed'\u001b[0m\u001b[0;34m]\u001b[0m\u001b[0;34m.\u001b[0m\u001b[0mvalues\u001b[0m\u001b[0;34m\u001b[0m\u001b[0m\n\u001b[1;32m      3\u001b[0m \u001b[0;34m\u001b[0m\u001b[0m\n\u001b[1;32m      4\u001b[0m \u001b[0mlen\u001b[0m\u001b[0;34m(\u001b[0m\u001b[0my_train\u001b[0m\u001b[0;34m)\u001b[0m\u001b[0;34m,\u001b[0m \u001b[0mlen\u001b[0m\u001b[0;34m(\u001b[0m\u001b[0mtrain_df\u001b[0m\u001b[0;34m[\u001b[0m\u001b[0;34m'app'\u001b[0m\u001b[0;34m]\u001b[0m\u001b[0;34m)\u001b[0m\u001b[0;34m\u001b[0m\u001b[0m\n",
      "\u001b[0;32m<ipython-input-67-eaa795ef9c79>\u001b[0m in \u001b[0;36mget_keras_data\u001b[0;34m(dataset)\u001b[0m\n\u001b[1;32m      1\u001b[0m \u001b[0;32mdef\u001b[0m \u001b[0mget_keras_data\u001b[0m\u001b[0;34m(\u001b[0m\u001b[0mdataset\u001b[0m\u001b[0;34m)\u001b[0m\u001b[0;34m:\u001b[0m\u001b[0;34m\u001b[0m\u001b[0m\n\u001b[1;32m      2\u001b[0m     \u001b[0mX\u001b[0m \u001b[0;34m=\u001b[0m \u001b[0mdict\u001b[0m\u001b[0;34m(\u001b[0m\u001b[0;34m(\u001b[0m\u001b[0mcol\u001b[0m\u001b[0;34m,\u001b[0m \u001b[0mnp\u001b[0m\u001b[0;34m.\u001b[0m\u001b[0marray\u001b[0m\u001b[0;34m(\u001b[0m\u001b[0mdataset\u001b[0m\u001b[0;34m[\u001b[0m\u001b[0mcol\u001b[0m\u001b[0;34m]\u001b[0m\u001b[0;34m)\u001b[0m\u001b[0;34m)\u001b[0m \u001b[0;32mfor\u001b[0m \u001b[0mcol\u001b[0m \u001b[0;32min\u001b[0m \u001b[0membedding_features\u001b[0m\u001b[0;34m)\u001b[0m\u001b[0;34m\u001b[0m\u001b[0m\n\u001b[0;32m----> 3\u001b[0;31m     \u001b[0mX_num\u001b[0m \u001b[0;34m=\u001b[0m  \u001b[0mdict\u001b[0m\u001b[0;34m(\u001b[0m\u001b[0;34m(\u001b[0m\u001b[0;34m'num_'\u001b[0m\u001b[0;34m+\u001b[0m\u001b[0mcol\u001b[0m\u001b[0;34m,\u001b[0m \u001b[0mnp\u001b[0m\u001b[0;34m.\u001b[0m\u001b[0marray\u001b[0m\u001b[0;34m(\u001b[0m\u001b[0mdataset\u001b[0m\u001b[0;34m[\u001b[0m\u001b[0mcol\u001b[0m\u001b[0;34m]\u001b[0m\u001b[0;34m)\u001b[0m\u001b[0;34m)\u001b[0m \u001b[0;32mfor\u001b[0m \u001b[0mcol\u001b[0m \u001b[0;32min\u001b[0m \u001b[0mnumeric_features\u001b[0m\u001b[0;34m)\u001b[0m\u001b[0;34m\u001b[0m\u001b[0m\n\u001b[0m\u001b[1;32m      4\u001b[0m     \u001b[0mX\u001b[0m\u001b[0;34m.\u001b[0m\u001b[0mupdate\u001b[0m\u001b[0;34m(\u001b[0m\u001b[0mX_num\u001b[0m\u001b[0;34m)\u001b[0m\u001b[0;34m\u001b[0m\u001b[0m\n\u001b[1;32m      5\u001b[0m     \u001b[0;32mreturn\u001b[0m \u001b[0mX\u001b[0m\u001b[0;34m\u001b[0m\u001b[0m\n",
      "\u001b[0;32m<ipython-input-67-eaa795ef9c79>\u001b[0m in \u001b[0;36m<genexpr>\u001b[0;34m(.0)\u001b[0m\n\u001b[1;32m      1\u001b[0m \u001b[0;32mdef\u001b[0m \u001b[0mget_keras_data\u001b[0m\u001b[0;34m(\u001b[0m\u001b[0mdataset\u001b[0m\u001b[0;34m)\u001b[0m\u001b[0;34m:\u001b[0m\u001b[0;34m\u001b[0m\u001b[0m\n\u001b[1;32m      2\u001b[0m     \u001b[0mX\u001b[0m \u001b[0;34m=\u001b[0m \u001b[0mdict\u001b[0m\u001b[0;34m(\u001b[0m\u001b[0;34m(\u001b[0m\u001b[0mcol\u001b[0m\u001b[0;34m,\u001b[0m \u001b[0mnp\u001b[0m\u001b[0;34m.\u001b[0m\u001b[0marray\u001b[0m\u001b[0;34m(\u001b[0m\u001b[0mdataset\u001b[0m\u001b[0;34m[\u001b[0m\u001b[0mcol\u001b[0m\u001b[0;34m]\u001b[0m\u001b[0;34m)\u001b[0m\u001b[0;34m)\u001b[0m \u001b[0;32mfor\u001b[0m \u001b[0mcol\u001b[0m \u001b[0;32min\u001b[0m \u001b[0membedding_features\u001b[0m\u001b[0;34m)\u001b[0m\u001b[0;34m\u001b[0m\u001b[0m\n\u001b[0;32m----> 3\u001b[0;31m     \u001b[0mX_num\u001b[0m \u001b[0;34m=\u001b[0m  \u001b[0mdict\u001b[0m\u001b[0;34m(\u001b[0m\u001b[0;34m(\u001b[0m\u001b[0;34m'num_'\u001b[0m\u001b[0;34m+\u001b[0m\u001b[0mcol\u001b[0m\u001b[0;34m,\u001b[0m \u001b[0mnp\u001b[0m\u001b[0;34m.\u001b[0m\u001b[0marray\u001b[0m\u001b[0;34m(\u001b[0m\u001b[0mdataset\u001b[0m\u001b[0;34m[\u001b[0m\u001b[0mcol\u001b[0m\u001b[0;34m]\u001b[0m\u001b[0;34m)\u001b[0m\u001b[0;34m)\u001b[0m \u001b[0;32mfor\u001b[0m \u001b[0mcol\u001b[0m \u001b[0;32min\u001b[0m \u001b[0mnumeric_features\u001b[0m\u001b[0;34m)\u001b[0m\u001b[0;34m\u001b[0m\u001b[0m\n\u001b[0m\u001b[1;32m      4\u001b[0m     \u001b[0mX\u001b[0m\u001b[0;34m.\u001b[0m\u001b[0mupdate\u001b[0m\u001b[0;34m(\u001b[0m\u001b[0mX_num\u001b[0m\u001b[0;34m)\u001b[0m\u001b[0;34m\u001b[0m\u001b[0m\n\u001b[1;32m      5\u001b[0m     \u001b[0;32mreturn\u001b[0m \u001b[0mX\u001b[0m\u001b[0;34m\u001b[0m\u001b[0m\n",
      "\u001b[0;31mKeyboardInterrupt\u001b[0m: "
     ]
    }
   ],
   "source": [
    "train_df = get_keras_data(train.iloc[notday7eh_idx])#[day8start:])#train.iloc[index['day8']+index['day9']])#:(day9len+day8len)])\n",
    "y_train = train.iloc[notday7eh_idx]['is_attributed'].values\n",
    "\n",
    "len(y_train), len(train_df['app'])"
   ]
  },
  {
   "cell_type": "code",
   "execution_count": 119,
   "metadata": {},
   "outputs": [
    {
     "data": {
      "text/plain": [
       "(19534560, 19534560)"
      ]
     },
     "execution_count": 119,
     "metadata": {},
     "output_type": "execute_result"
    }
   ],
   "source": [
    "val_df = get_keras_data(train.iloc[index['day7']])#[(day9len+day8len):(day9len+day8len+day7len)])\n",
    "y_val = train.iloc[index['day7']]['is_attributed'].values\n",
    "\n",
    "len(y_val), len(val_df['app'])"
   ]
  },
  {
   "cell_type": "code",
   "execution_count": 222,
   "metadata": {
    "collapsed": true
   },
   "outputs": [],
   "source": [
    "test_df = get_keras_data(test)\n",
    "\n",
    "len(test_df), len(test_df['app'])"
   ]
  },
  {
   "cell_type": "code",
   "execution_count": 135,
   "metadata": {
    "collapsed": true
   },
   "outputs": [],
   "source": [
    "from sklearn.metrics import roc_auc_score\n",
    "class RocAucEvaluation(Callback):\n",
    "    def __init__(self, validation_data=(), interval=1, batch_size=50000):\n",
    "        super(Callback, self).__init__()\n",
    "        print('RocAuc evaluating batch size is: {}'.format(batch_size))\n",
    "        self.interval = interval\n",
    "        self.X_val, self.y_val = validation_data\n",
    "        self.batch_size = batch_size\n",
    "\n",
    "    def on_epoch_end(self, epoch, logs={}):\n",
    "        if epoch % self.interval == 0:\n",
    "            print('\\non epoch end, start predicting validation set...')\n",
    "            y_pred = self.model.predict(self.X_val, batch_size=self.batch_size,verbose=1)\n",
    "            print('start calculating ROC-AUC...')\n",
    "            score = roc_auc_score(self.y_val, y_pred)\n",
    "            print(\"ROC-AUC - epoch: {:d} - score: {:.6f}\".format(epoch+1, score))\n",
    "            \n",
    "            \n",
    "import keras\n",
    "class RocAucMetricCallback(keras.callbacks.Callback):\n",
    "    def __init__(self, validation_data=(), predict_batch_size=100000, include_on_batch=False):\n",
    "        super(RocAucMetricCallback, self).__init__()\n",
    "        self.predict_batch_size=predict_batch_size\n",
    "        self.include_on_batch=include_on_batch\n",
    "        self.X_val, self.y_val = validation_data\n",
    "\n",
    "    def on_batch_begin(self, batch, logs={}):\n",
    "        pass\n",
    "\n",
    "    def on_batch_end(self, batch, logs={}):\n",
    "        if(self.include_on_batch):\n",
    "            logs['roc_auc_val']=float('-inf')\n",
    "            if(self.validation_data):\n",
    "                logs['roc_auc_val']=roc_auc_score(self.y_val,\n",
    "                                              self.model.predict(self.X_val,\n",
    "                                                                 batch_size=self.predict_batch_size))\n",
    "                \n",
    "    def on_train_begin(self, logs={}):\n",
    "        if not ('roc_auc_val' in self.params['metrics']):\n",
    "            self.params['metrics'].append('roc_auc_val')\n",
    "\n",
    "    def on_train_end(self, logs={}):\n",
    "        pass\n",
    "\n",
    "    def on_epoch_begin(self, epoch, logs={}):\n",
    "        pass\n",
    "\n",
    "    def on_epoch_end(self, epoch, logs={}):\n",
    "        logs['roc_auc_val']=float('-inf')\n",
    "#         y_val = self.validation_data[-3]\n",
    "#         val_df = self.validation_data[:-3]\n",
    "        if(self.validation_data):\n",
    "            logs['roc_auc_val']=roc_auc_score(self.y_val,\n",
    "                                              self.model.predict(self.X_val,\n",
    "                                                                 batch_size=self.predict_batch_size))\n",
    "#             logs['roc_auc_val']=roc_auc_score(y_val,#self.validation_data[1], \n",
    "#                                               self.model.predict(val_df,#self.validation_data[0],\n",
    "#                                                                  batch_size=self.predict_batch_size))"
   ]
  },
  {
   "cell_type": "code",
   "execution_count": 173,
   "metadata": {
    "scrolled": true
   },
   "outputs": [
    {
     "name": "stdout",
     "output_type": "stream",
     "text": [
      "Model ID: 5376780\n",
      "Train on 1000000 samples, validate on 1000002 samples\n",
      "Epoch 1/12\n",
      " 800000/1000000 [=======================>......] - ETA: 1s - loss: 0.5338 - acc: 0.7740\n",
      "Epoch 00001: roc_auc_val improved from -inf to 0.95180, saving model to NN_data1000000_batchsize200000_ep12_5376780.hdf5\n",
      "1000000/1000000 [==============================] - 11s 11us/step - loss: 0.4664 - acc: 0.8126 - val_loss: 0.1507 - val_acc: 0.9507 - roc_auc_val: 0.9518\n",
      "Epoch 2/12\n",
      " 800000/1000000 [=======================>......] - ETA: 0s - loss: 0.2146 - acc: 0.9687\n",
      "Epoch 00002: roc_auc_val improved from 0.95180 to 0.96111, saving model to NN_data1000000_batchsize200000_ep12_5376780.hdf5\n",
      "1000000/1000000 [==============================] - 8s 8us/step - loss: 0.2113 - acc: 0.9729 - val_loss: 0.0601 - val_acc: 0.9905 - roc_auc_val: 0.9611\n",
      "Epoch 3/12\n",
      " 800000/1000000 [=======================>......] - ETA: 0s - loss: 0.1836 - acc: 0.9920\n",
      "Epoch 00003: roc_auc_val did not improve\n",
      "1000000/1000000 [==============================] - 8s 8us/step - loss: 0.1837 - acc: 0.9917 - val_loss: 0.0909 - val_acc: 0.9895 - roc_auc_val: 0.9597\n",
      "Epoch 00003: early stopping\n"
     ]
    },
    {
     "data": {
      "text/plain": [
       "<keras.callbacks.History at 0x7fe906dfebe0>"
      ]
     },
     "execution_count": 173,
     "metadata": {},
     "output_type": "execute_result"
    }
   ],
   "source": [
    "#embids = embedding_features#['app', 'channel', 'device', 'os', 'hour', 'day', 'wday', 'qty', 'ip_app_count', 'ip_app_os_count']\n",
    "# get the max of each code type\n",
    "embmaxs = dict((col, max_dict[col]+1) for col in embedding_features)\n",
    "\n",
    "emb_n = 50\n",
    "\n",
    "# Build the inputs, embeddings and concatenate them all for each column\n",
    "emb_inputs = dict((col, Input(shape=[1], name = col))  for col in embedding_features)\n",
    "emb_model  = dict((col, Embedding(embmaxs[col], emb_n)(emb_inputs[col])) for col in embedding_features)\n",
    "\n",
    "fe = concatenate([(emb_) for emb_ in emb_model.values()])\n",
    "\n",
    "s_dout = SpatialDropout1D(0.2)(fe)\n",
    "\n",
    "conv = Conv1D(100, kernel_size=4, strides=1, padding='same')(s_dout)\n",
    "\n",
    "num_inputs = dict((col, Input(shape=[1], name = 'num_'+col))  for col in numeric_features)\n",
    "\n",
    "num_fe = concatenate([(num_) for num_ in num_inputs.values()])\n",
    "\n",
    "concat = concatenate([Flatten()(s_dout), Flatten()(conv), (num_fe)])\n",
    "\n",
    "dense_n = 1000\n",
    "\n",
    "x = Dropout(0.2)(Dense(dense_n,activation='relu')(concat))\n",
    "x = Dropout(0.2)(Dense(dense_n,activation='relu')(x))\n",
    "\n",
    "outp = Dense(1,activation='sigmoid')(x)\n",
    "\n",
    "model = Model(inputs=[inp for inp in emb_inputs.values()] + [inp for inp in num_inputs.values()], outputs=outp)\n",
    "#model = Model(inputs=[inp for inp in emb_inputs.values()], outputs=outp)\n",
    "\n",
    "batch_size = 200000\n",
    "epochs = 12\n",
    "exp_decay = lambda init, fin, steps: (init/fin)**(1/(steps-1)) - 1\n",
    "steps = int(len(list(train_df)[0]) / batch_size) * epochs\n",
    "lr_init, lr_fin = 0.002, 0.0002\n",
    "lr_decay = exp_decay(lr_init, lr_fin, steps)\n",
    "optimizer_adam = Adam(lr=0.002, decay=lr_decay)\n",
    "model.compile(loss='binary_crossentropy',optimizer=optimizer_adam,metrics=['accuracy'])\n",
    "\n",
    "\n",
    "# checkpoint = ModelCheckpoint(model_save_path, monitor='val_loss', verbose=1, save_best_only=True, mode='min')\n",
    "# earlystopping = EarlyStopping(monitor='val_loss', mode=\"min\", patience=8)\n",
    "# rocauc = RocAucEvaluation(validation_data=(val_df, y_val), interval=1, batch_size=pred_batch_size)\n",
    "\n",
    "import time\n",
    "tempid = str(int(time.time()))[3:]\n",
    "print('Model ID: ' + tempid) \n",
    "seed = 7\n",
    "np.random.seed(seed)\n",
    "pred_batch_size = 100000\n",
    "model_save_path = 'NN_MODELS/NN_data{}_batchsize{}_ep{}_{}.hdf5'.format(len(y_train), batch_size, epochs, tempid)\n",
    "\n",
    "cb = [\n",
    "    RocAucMetricCallback(validation_data=(val_df, y_val)), # include it before EarlyStopping!\n",
    "    EarlyStopping(monitor='roc_auc_val',mode='max',patience=1, verbose=2),\n",
    "    ModelCheckpoint(model_save_path, monitor='roc_auc_val', verbose=1, save_best_only=True, mode='max'),\n",
    "#     RocAucEvaluation(validation_data=(val_df, y_val), interval=1, batch_size=pred_batch_size)\n",
    "]\n",
    "\n",
    "class_weight = {0:1,1:99}\n",
    "\n",
    "model.fit(train_df, y_train, batch_size=batch_size, epochs=epochs, \n",
    "          validation_data=(val_df, y_val), \n",
    "#           validation_split = 0.5,\n",
    "          class_weight=class_weight,\n",
    "          shuffle=True, verbose=1, callbacks=cb)#[rocauc, earlystopping, checkpoint])"
   ]
  },
  {
   "cell_type": "code",
   "execution_count": 147,
   "metadata": {
    "collapsed": true
   },
   "outputs": [],
   "source": [
    "temp = list((val_df, y_val))"
   ]
  },
  {
   "cell_type": "code",
   "execution_count": 148,
   "metadata": {},
   "outputs": [
    {
     "data": {
      "text/plain": [
       "list"
      ]
     },
     "execution_count": 148,
     "metadata": {},
     "output_type": "execute_result"
    }
   ],
   "source": [
    "type(temp)"
   ]
  },
  {
   "cell_type": "code",
   "execution_count": 155,
   "metadata": {},
   "outputs": [
    {
     "data": {
      "text/plain": [
       "2"
      ]
     },
     "execution_count": 155,
     "metadata": {},
     "output_type": "execute_result"
    }
   ],
   "source": [
    "len(temp)"
   ]
  },
  {
   "cell_type": "code",
   "execution_count": 149,
   "metadata": {},
   "outputs": [
    {
     "data": {
      "text/plain": [
       "[{'app': array([25,  2]),\n",
       "  'channel': array([91, 80]),\n",
       "  'device': array([1, 1]),\n",
       "  'hour': array([16, 16]),\n",
       "  'num_app_day_hour_count': array([-1.19482976, -0.06755558]),\n",
       "  'num_app_device_os_mean': array([-0.09337464, -0.08192172]),\n",
       "  'num_attributed_timediff': array([1.99193876, 0.16344757]),\n",
       "  'num_ip_app_day_hour_count': array([-0.2203312 ,  0.42683637]),\n",
       "  'num_ip_app_device_countfromfuture': array([-0.196153  ,  3.30188843]),\n",
       "  'num_ip_app_device_countfrompast': array([-0.21333145, -0.16561353]),\n",
       "  'num_ip_app_device_firsttimediff': array([-1.81162421, -1.75880579]),\n",
       "  'num_ip_app_device_lasttimediff': array([2.15815736, 2.31732789]),\n",
       "  'num_ip_app_device_mean': array([0.00547391, 0.0118192 ]),\n",
       "  'num_ip_app_device_os_count': array([-0.17801885,  1.41273736]),\n",
       "  'num_ip_app_device_os_countfromfuture': array([-0.15549682,  4.78392936]),\n",
       "  'num_ip_app_device_os_countfrompast': array([-0.16124257, -0.08463263]),\n",
       "  'num_ip_app_device_os_firsttimediff': array([-1.06129982, -1.01224054]),\n",
       "  'num_ip_app_device_os_lasttimediff': array([-0.98046962,  2.73440519]),\n",
       "  'num_ip_app_device_os_mean': array([-0.47073346,  0.10112797]),\n",
       "  'num_ip_app_device_os_time2nextclick': array([-0.38594687, -0.38568371]),\n",
       "  'num_ip_app_device_os_time2previousclick': array([-0.38778894, -0.38673633]),\n",
       "  'num_ip_app_device_time2nextclick': array([-0.29237033, -0.29343668]),\n",
       "  'num_ip_app_device_time2previousclick': array([-0.29610255, -0.29396985]),\n",
       "  'num_ip_app_os_day_hour_count': array([-0.13998107,  0.72589295]),\n",
       "  'num_ip_day_hour_count': array([-0.16015858,  0.05575884]),\n",
       "  'num_ip_device_os_count': array([-0.19658736,  0.47434135]),\n",
       "  'num_ip_device_os_countfromfuture': array([-0.17558261,  1.82574883]),\n",
       "  'num_ip_device_os_countfrompast': array([-0.184026  , -0.14131239]),\n",
       "  'num_ip_device_os_firsttimediff': array([-1.47749173, -1.42716758]),\n",
       "  'num_ip_device_os_lasttimediff': array([2.20274826, 2.43202652]),\n",
       "  'num_ip_device_os_mean': array([0.00870232, 0.06796432]),\n",
       "  'num_ip_device_os_time2nextclick': array([-0.20709562, -0.20624813]),\n",
       "  'num_ip_device_os_time2previousclick': array([-0.20709562, -0.20483564]),\n",
       "  'num_ip_os_day_hour_count': array([-0.17259854,  0.40804853]),\n",
       "  'num_matrixFact_user_ip_item_appdeviceos': array([ 0.77368047, -0.20802474]),\n",
       "  'num_matrixFact_user_ipchannel_item_appdeviceos': array([1.11800448, 0.0987932 ]),\n",
       "  'num_matrixFact_user_iposdeviceapp_item_app': array([-0.77165058,  0.99331566]),\n",
       "  'os': array([30, 19])},\n",
       " array([0., 0.])]"
      ]
     },
     "execution_count": 149,
     "metadata": {},
     "output_type": "execute_result"
    }
   ],
   "source": [
    "temp"
   ]
  },
  {
   "cell_type": "code",
   "execution_count": 139,
   "metadata": {},
   "outputs": [
    {
     "data": {
      "text/plain": [
       "38"
      ]
     },
     "execution_count": 139,
     "metadata": {},
     "output_type": "execute_result"
    }
   ],
   "source": [
    "len(val_df)"
   ]
  },
  {
   "cell_type": "code",
   "execution_count": 143,
   "metadata": {},
   "outputs": [
    {
     "data": {
      "text/plain": [
       "array([0., 0.])"
      ]
     },
     "execution_count": 143,
     "metadata": {},
     "output_type": "execute_result"
    }
   ],
   "source": [
    "y_val"
   ]
  },
  {
   "cell_type": "code",
   "execution_count": 163,
   "metadata": {
    "collapsed": true
   },
   "outputs": [],
   "source": []
  },
  {
   "cell_type": "code",
   "execution_count": 227,
   "metadata": {
    "collapsed": true
   },
   "outputs": [],
   "source": [
    "model.load_weights('NN_batchsize200000_ep8_5308912.hdf5')"
   ]
  },
  {
   "cell_type": "code",
   "execution_count": 228,
   "metadata": {},
   "outputs": [
    {
     "name": "stdout",
     "output_type": "stream",
     "text": [
      "19534560/19534560 [==============================] - 42s 2us/step\n"
     ]
    }
   ],
   "source": [
    "val_pred_savedmodel = model.predict(val_df, batch_size=pred_batch_size, verbose=1)"
   ]
  },
  {
   "cell_type": "code",
   "execution_count": 203,
   "metadata": {},
   "outputs": [
    {
     "data": {
      "text/plain": [
       "0.9817132065702936"
      ]
     },
     "execution_count": 203,
     "metadata": {},
     "output_type": "execute_result"
    }
   ],
   "source": [
    "roc_auc_score(y_val, val_pred_fullmodel)"
   ]
  },
  {
   "cell_type": "code",
   "execution_count": 230,
   "metadata": {},
   "outputs": [
    {
     "data": {
      "text/plain": [
       "0.9818143556926712"
      ]
     },
     "execution_count": 230,
     "metadata": {},
     "output_type": "execute_result"
    }
   ],
   "source": [
    "roc_auc_score(y_val, val_pred_savedmodel)"
   ]
  },
  {
   "cell_type": "code",
   "execution_count": 231,
   "metadata": {},
   "outputs": [
    {
     "name": "stdout",
     "output_type": "stream",
     "text": [
      "predicting....\n",
      "18790469/18790469 [==============================] - 41s 2us/step\n"
     ]
    }
   ],
   "source": [
    "sub = pd.DataFrame()\n",
    "sub['click_id'] = test_ori['click_id'].astype('int')\n",
    "\n",
    "print(\"predicting....\")\n",
    "sub['is_attributed'] = model.predict(test_df, batch_size=pred_batch_size, verbose=1)\n",
    "\n",
    "flag = 'saved'\n",
    "sub.to_csv('nn_{}.csv.gz'.format(flag, tempid), index=False, float_format='%.9f', compression='gzip')"
   ]
  },
  {
   "cell_type": "code",
   "execution_count": null,
   "metadata": {
    "collapsed": true
   },
   "outputs": [],
   "source": [
    "# model predict val\n",
    "# model predict test\n",
    "\n",
    "# THEN load saved model \n",
    "# model predict val\n",
    "# model predict test"
   ]
  },
  {
   "cell_type": "code",
   "execution_count": 66,
   "metadata": {},
   "outputs": [
    {
     "data": {
      "text/plain": [
       "0.9788076360576548"
      ]
     },
     "execution_count": 66,
     "metadata": {},
     "output_type": "execute_result"
    }
   ],
   "source": [
    "roc_auc_score(y_val_1, val_pred_1) # 0.01"
   ]
  },
  {
   "cell_type": "code",
   "execution_count": 55,
   "metadata": {},
   "outputs": [
    {
     "data": {
      "text/plain": [
       "0.9761119662504989"
      ]
     },
     "execution_count": 55,
     "metadata": {},
     "output_type": "execute_result"
    }
   ],
   "source": [
    "roc_auc_score(y_val_1, val_pred_1) # 0.001"
   ]
  },
  {
   "cell_type": "code",
   "execution_count": null,
   "metadata": {
    "collapsed": true
   },
   "outputs": [],
   "source": []
  },
  {
   "cell_type": "code",
   "execution_count": null,
   "metadata": {
    "collapsed": true
   },
   "outputs": [],
   "source": []
  },
  {
   "cell_type": "code",
   "execution_count": null,
   "metadata": {
    "collapsed": true
   },
   "outputs": [],
   "source": []
  },
  {
   "cell_type": "code",
   "execution_count": null,
   "metadata": {
    "collapsed": true
   },
   "outputs": [],
   "source": []
  },
  {
   "cell_type": "code",
   "execution_count": null,
   "metadata": {
    "collapsed": true
   },
   "outputs": [],
   "source": []
  },
  {
   "cell_type": "code",
   "execution_count": null,
   "metadata": {
    "collapsed": true
   },
   "outputs": [],
   "source": []
  },
  {
   "cell_type": "code",
   "execution_count": null,
   "metadata": {
    "collapsed": true
   },
   "outputs": [],
   "source": []
  },
  {
   "cell_type": "code",
   "execution_count": null,
   "metadata": {
    "collapsed": true
   },
   "outputs": [],
   "source": []
  },
  {
   "cell_type": "code",
   "execution_count": null,
   "metadata": {
    "collapsed": true
   },
   "outputs": [],
   "source": []
  },
  {
   "cell_type": "code",
   "execution_count": 39,
   "metadata": {
    "collapsed": true
   },
   "outputs": [],
   "source": [
    "embedding_inputs = []\n",
    "embedding_outputs = []"
   ]
  },
  {
   "cell_type": "code",
   "execution_count": 43,
   "metadata": {
    "collapsed": true
   },
   "outputs": [],
   "source": [
    "output_dim = 50\n",
    "for i in range(len(embedding_features)):\n",
    "    tmp_input = Input(shape=(1,), dtype='int32', name=embedding_features[i]+'_input')\n",
    "    tmp_embeddings = Embedding(int(train_embeddings[i].max()+1),output_dim,name=embedding_features[i]+'_embeddings')(tmp_input)\n",
    "    tmp_embeddings = Flatten(name=embedding_features[i]+'_flatten')(tmp_embeddings)\n",
    "    \n",
    "    embedding_inputs.append(tmp_input)\n",
    "    embedding_outputs.append(tmp_embeddings)"
   ]
  },
  {
   "cell_type": "code",
   "execution_count": 53,
   "metadata": {
    "collapsed": true
   },
   "outputs": [],
   "source": [
    "embedding_outputs.append(number_input)"
   ]
  },
  {
   "cell_type": "code",
   "execution_count": 57,
   "metadata": {
    "collapsed": true
   },
   "outputs": [],
   "source": [
    "profile = concatenate(embedding_outputs, name='profile')"
   ]
  },
  {
   "cell_type": "code",
   "execution_count": 58,
   "metadata": {},
   "outputs": [
    {
     "data": {
      "text/plain": [
       "<tf.Tensor 'profile/concat:0' shape=(?, ?) dtype=float32>"
      ]
     },
     "execution_count": 58,
     "metadata": {},
     "output_type": "execute_result"
    }
   ],
   "source": [
    "profile"
   ]
  },
  {
   "cell_type": "code",
   "execution_count": 59,
   "metadata": {
    "collapsed": true
   },
   "outputs": [],
   "source": [
    "def FunctionalDense(n, x, batchnorm=False, act='relu', lw1=0.0, dropout=0, name=''):\n",
    "    if lw1 == 0.0:\n",
    "        x = Dense(n, name=name+'_dense')(x)\n",
    "    else:\n",
    "        x = Dense(n, kernel_regularizer=l1(lw1), name=name+'_dense')(x)\n",
    "    \n",
    "    if batchnorm:\n",
    "        x = BatchNormalization(name=name+'_batchnorm')(x)\n",
    "        \n",
    "    if act in {'relu', 'tanh', 'sigmoid'}:\n",
    "        x = Activation(act, name=name+'_activation')(x)\n",
    "    elif act =='prelu':\n",
    "        x = PReLU(name=name+'_activation')(x)\n",
    "    elif act == 'leakyrelu':\n",
    "        x = LeakyReLU(name=name+'_activation')(x)\n",
    "    elif act == 'elu':\n",
    "        x = ELU(name=name+'_activation')(x)\n",
    "    \n",
    "    if dropout > 0:\n",
    "        x = Dropout(dropout, name=name+'_dropout')(x)\n",
    "        \n",
    "    return x"
   ]
  },
  {
   "cell_type": "code",
   "execution_count": 62,
   "metadata": {
    "collapsed": true
   },
   "outputs": [],
   "source": [
    "profile_embedddings = FunctionalDense(100, profile, batchnorm=True, dropout=0.2, name='profile')"
   ]
  },
  {
   "cell_type": "code",
   "execution_count": 47,
   "metadata": {
    "collapsed": true
   },
   "outputs": [],
   "source": [
    "import numpy as np"
   ]
  },
  {
   "cell_type": "code",
   "execution_count": 42,
   "metadata": {},
   "outputs": [
    {
     "data": {
      "text/plain": [
       "0.4"
      ]
     },
     "execution_count": 42,
     "metadata": {},
     "output_type": "execute_result"
    }
   ],
   "source": [
    "drop_out = np.random.randint(2,5)/10\n",
    "drop_out"
   ]
  },
  {
   "cell_type": "code",
   "execution_count": null,
   "metadata": {
    "collapsed": true
   },
   "outputs": [],
   "source": [
    "emb_n = np.random.randint(30, 60)\n",
    "activation = np.random.choice(['relu', 'tanh', 'prelu', 'leakyrelu', 'elu'])\n",
    "batchnorm = np.random.choice([True, False])\n",
    "dense_n = np.random.randint(100, 500)\n",
    "class_weight = np.random.randint(70, 400)\n",
    "lr = 7.5e-3 * (0.1 ** (np.random.rand() * 2 - 1.0))\n",
    "lr_decay = 0.65 + np.random.rand() * 0.3"
   ]
  },
  {
   "cell_type": "code",
   "execution_count": 28,
   "metadata": {},
   "outputs": [
    {
     "data": {
      "text/plain": [
       "0.0022744712879675427"
      ]
     },
     "execution_count": 28,
     "metadata": {},
     "output_type": "execute_result"
    }
   ],
   "source": [
    "lw = 7.5e-4 * (0.1 ** (np.random.rand() * 3 - 1.5))\n",
    "lw"
   ]
  },
  {
   "cell_type": "code",
   "execution_count": 18,
   "metadata": {},
   "outputs": [
    {
     "data": {
      "text/plain": [
       "{0: 1, 1: 166}"
      ]
     },
     "execution_count": 18,
     "metadata": {},
     "output_type": "execute_result"
    }
   ],
   "source": [
    "{0:1,1:np.random.randint(70, 400)}"
   ]
  },
  {
   "cell_type": "code",
   "execution_count": 15,
   "metadata": {},
   "outputs": [
    {
     "data": {
      "text/plain": [
       "292"
      ]
     },
     "execution_count": 15,
     "metadata": {},
     "output_type": "execute_result"
    }
   ],
   "source": [
    "\n",
    "class_weight"
   ]
  },
  {
   "cell_type": "code",
   "execution_count": null,
   "metadata": {
    "collapsed": true
   },
   "outputs": [],
   "source": [
    "emb_trainable: true"
   ]
  },
  {
   "cell_type": "markdown",
   "metadata": {
    "collapsed": true
   },
   "source": [
    "emb_n: 30 60\n",
    "s_dout_drop: 0.1 0.5\n",
    "conv_dim: 50 150\n",
    "conv_kernel_size: 3 8\n",
    "dense_n: 50 500\n",
    "batchnorm: t f\n",
    "act: relu prelu leakyrelu elu\n",
    "preds_drop: 0.2 0.5\n",
    "class_weight: 99 400\n",
    "lr\n",
    "lr_decay"
   ]
  },
  {
   "cell_type": "code",
   "execution_count": 23,
   "metadata": {},
   "outputs": [
    {
     "data": {
      "text/plain": [
       "(0.004787722047296411, 0.7955989835149024)"
      ]
     },
     "execution_count": 23,
     "metadata": {},
     "output_type": "execute_result"
    }
   ],
   "source": [
    "\n",
    "lr, lr_decay"
   ]
  },
  {
   "cell_type": "code",
   "execution_count": 6,
   "metadata": {
    "collapsed": true
   },
   "outputs": [],
   "source": [
    "import pandas as pd"
   ]
  },
  {
   "cell_type": "code",
   "execution_count": 7,
   "metadata": {
    "collapsed": true
   },
   "outputs": [],
   "source": [
    "nn_record = pd.read_csv('nn_record.csv', \n",
    "                        names=['tempid', 'emb_n', 'lr', 'lr_decay', 'conv_n', 'dense_n', \\\n",
    "                               'drop_out', 'act', 'batchnorm', 'pos_weight', 'NA1','NA2','seed', \\\n",
    "                               'time','mode', 'bst_epoch', 'trn_loss', 'trn_acc', 'val_loss', 'val_acc', 'val_auc']).sort_values(by='tempid', ascending=False)"
   ]
  },
  {
   "cell_type": "code",
   "execution_count": 8,
   "metadata": {},
   "outputs": [
    {
     "data": {
      "text/html": [
       "<div>\n",
       "<style scoped>\n",
       "    .dataframe tbody tr th:only-of-type {\n",
       "        vertical-align: middle;\n",
       "    }\n",
       "\n",
       "    .dataframe tbody tr th {\n",
       "        vertical-align: top;\n",
       "    }\n",
       "\n",
       "    .dataframe thead th {\n",
       "        text-align: right;\n",
       "    }\n",
       "</style>\n",
       "<table border=\"1\" class=\"dataframe\">\n",
       "  <thead>\n",
       "    <tr style=\"text-align: right;\">\n",
       "      <th></th>\n",
       "      <th>tempid</th>\n",
       "      <th>emb_n</th>\n",
       "      <th>lr</th>\n",
       "      <th>lr_decay</th>\n",
       "      <th>conv_n</th>\n",
       "      <th>dense_n</th>\n",
       "      <th>drop_out</th>\n",
       "      <th>act</th>\n",
       "      <th>batchnorm</th>\n",
       "      <th>pos_weight</th>\n",
       "      <th>...</th>\n",
       "      <th>NA2</th>\n",
       "      <th>seed</th>\n",
       "      <th>time</th>\n",
       "      <th>mode</th>\n",
       "      <th>bst_epoch</th>\n",
       "      <th>trn_loss</th>\n",
       "      <th>trn_acc</th>\n",
       "      <th>val_loss</th>\n",
       "      <th>val_acc</th>\n",
       "      <th>val_auc</th>\n",
       "    </tr>\n",
       "  </thead>\n",
       "  <tbody>\n",
       "    <tr>\n",
       "      <th>41</th>\n",
       "      <td>6044457</td>\n",
       "      <td>71</td>\n",
       "      <td>0.015905</td>\n",
       "      <td>0.928064</td>\n",
       "      <td>121</td>\n",
       "      <td>44</td>\n",
       "      <td>0.1</td>\n",
       "      <td>relu</td>\n",
       "      <td>False</td>\n",
       "      <td>170</td>\n",
       "      <td>...</td>\n",
       "      <td>-1</td>\n",
       "      <td>23694852</td>\n",
       "      <td>2018-05-11 09:43:17</td>\n",
       "      <td>1</td>\n",
       "      <td>1</td>\n",
       "      <td>0.36491</td>\n",
       "      <td>0.97834</td>\n",
       "      <td>0.06364</td>\n",
       "      <td>0.98375</td>\n",
       "      <td>0.98126</td>\n",
       "    </tr>\n",
       "    <tr>\n",
       "      <th>40</th>\n",
       "      <td>6035465</td>\n",
       "      <td>49</td>\n",
       "      <td>0.017287</td>\n",
       "      <td>0.726490</td>\n",
       "      <td>61</td>\n",
       "      <td>67</td>\n",
       "      <td>0.1</td>\n",
       "      <td>leakyrelu</td>\n",
       "      <td>False</td>\n",
       "      <td>314</td>\n",
       "      <td>...</td>\n",
       "      <td>-1</td>\n",
       "      <td>33732111</td>\n",
       "      <td>2018-05-11 09:13:44</td>\n",
       "      <td>1</td>\n",
       "      <td>14</td>\n",
       "      <td>0.26897</td>\n",
       "      <td>0.96680</td>\n",
       "      <td>0.11165</td>\n",
       "      <td>0.96874</td>\n",
       "      <td>0.98372</td>\n",
       "    </tr>\n",
       "    <tr>\n",
       "      <th>39</th>\n",
       "      <td>6029468</td>\n",
       "      <td>77</td>\n",
       "      <td>0.002535</td>\n",
       "      <td>0.663915</td>\n",
       "      <td>108</td>\n",
       "      <td>53</td>\n",
       "      <td>0.3</td>\n",
       "      <td>elu</td>\n",
       "      <td>True</td>\n",
       "      <td>91</td>\n",
       "      <td>...</td>\n",
       "      <td>-1</td>\n",
       "      <td>7018820</td>\n",
       "      <td>2018-05-11 06:43:50</td>\n",
       "      <td>1</td>\n",
       "      <td>8</td>\n",
       "      <td>0.12703</td>\n",
       "      <td>0.98749</td>\n",
       "      <td>0.04703</td>\n",
       "      <td>0.98809</td>\n",
       "      <td>0.98474</td>\n",
       "    </tr>\n",
       "    <tr>\n",
       "      <th>38</th>\n",
       "      <td>6027720</td>\n",
       "      <td>47</td>\n",
       "      <td>0.023634</td>\n",
       "      <td>0.944210</td>\n",
       "      <td>133</td>\n",
       "      <td>52</td>\n",
       "      <td>0.2</td>\n",
       "      <td>relu</td>\n",
       "      <td>False</td>\n",
       "      <td>240</td>\n",
       "      <td>...</td>\n",
       "      <td>-1</td>\n",
       "      <td>23815266</td>\n",
       "      <td>2018-05-11 05:03:55</td>\n",
       "      <td>1</td>\n",
       "      <td>1</td>\n",
       "      <td>0.45366</td>\n",
       "      <td>0.96714</td>\n",
       "      <td>0.16182</td>\n",
       "      <td>0.95860</td>\n",
       "      <td>0.97994</td>\n",
       "    </tr>\n",
       "    <tr>\n",
       "      <th>37</th>\n",
       "      <td>6022902</td>\n",
       "      <td>66</td>\n",
       "      <td>0.021590</td>\n",
       "      <td>0.910522</td>\n",
       "      <td>80</td>\n",
       "      <td>33</td>\n",
       "      <td>0.2</td>\n",
       "      <td>leakyrelu</td>\n",
       "      <td>True</td>\n",
       "      <td>160</td>\n",
       "      <td>...</td>\n",
       "      <td>-1</td>\n",
       "      <td>144700</td>\n",
       "      <td>2018-05-11 04:34:45</td>\n",
       "      <td>1</td>\n",
       "      <td>6</td>\n",
       "      <td>0.18651</td>\n",
       "      <td>0.98084</td>\n",
       "      <td>0.08905</td>\n",
       "      <td>0.97726</td>\n",
       "      <td>0.98367</td>\n",
       "    </tr>\n",
       "    <tr>\n",
       "      <th>36</th>\n",
       "      <td>6015619</td>\n",
       "      <td>43</td>\n",
       "      <td>0.002364</td>\n",
       "      <td>0.796657</td>\n",
       "      <td>110</td>\n",
       "      <td>30</td>\n",
       "      <td>0.1</td>\n",
       "      <td>elu</td>\n",
       "      <td>False</td>\n",
       "      <td>216</td>\n",
       "      <td>...</td>\n",
       "      <td>-1</td>\n",
       "      <td>651494</td>\n",
       "      <td>2018-05-11 03:14:29</td>\n",
       "      <td>1</td>\n",
       "      <td>11</td>\n",
       "      <td>0.21323</td>\n",
       "      <td>0.97596</td>\n",
       "      <td>0.08350</td>\n",
       "      <td>0.97779</td>\n",
       "      <td>0.98450</td>\n",
       "    </tr>\n",
       "    <tr>\n",
       "      <th>35</th>\n",
       "      <td>6004926</td>\n",
       "      <td>63</td>\n",
       "      <td>0.003366</td>\n",
       "      <td>0.854811</td>\n",
       "      <td>115</td>\n",
       "      <td>63</td>\n",
       "      <td>0.1</td>\n",
       "      <td>tanh</td>\n",
       "      <td>False</td>\n",
       "      <td>104</td>\n",
       "      <td>...</td>\n",
       "      <td>-1</td>\n",
       "      <td>28508596</td>\n",
       "      <td>2018-05-11 01:13:06</td>\n",
       "      <td>1</td>\n",
       "      <td>17</td>\n",
       "      <td>0.13576</td>\n",
       "      <td>0.98618</td>\n",
       "      <td>0.05317</td>\n",
       "      <td>0.98657</td>\n",
       "      <td>0.98453</td>\n",
       "    </tr>\n",
       "    <tr>\n",
       "      <th>34</th>\n",
       "      <td>6001468</td>\n",
       "      <td>76</td>\n",
       "      <td>0.007509</td>\n",
       "      <td>0.823857</td>\n",
       "      <td>126</td>\n",
       "      <td>39</td>\n",
       "      <td>0.3</td>\n",
       "      <td>relu</td>\n",
       "      <td>False</td>\n",
       "      <td>201</td>\n",
       "      <td>...</td>\n",
       "      <td>-1</td>\n",
       "      <td>8242668</td>\n",
       "      <td>2018-05-10 22:14:54</td>\n",
       "      <td>1</td>\n",
       "      <td>4</td>\n",
       "      <td>0.21972</td>\n",
       "      <td>0.97796</td>\n",
       "      <td>0.09099</td>\n",
       "      <td>0.97670</td>\n",
       "      <td>0.98321</td>\n",
       "    </tr>\n",
       "    <tr>\n",
       "      <th>33</th>\n",
       "      <td>5800735</td>\n",
       "      <td>43</td>\n",
       "      <td>0.022791</td>\n",
       "      <td>0.794382</td>\n",
       "      <td>137</td>\n",
       "      <td>104</td>\n",
       "      <td>0.2</td>\n",
       "      <td>leakyrelu</td>\n",
       "      <td>False</td>\n",
       "      <td>153</td>\n",
       "      <td>...</td>\n",
       "      <td>-1</td>\n",
       "      <td>26465881</td>\n",
       "      <td>2018-05-08 14:17:37</td>\n",
       "      <td>1</td>\n",
       "      <td>1</td>\n",
       "      <td>15.87176</td>\n",
       "      <td>0.00383</td>\n",
       "      <td>15.90249</td>\n",
       "      <td>0.00250</td>\n",
       "      <td>0.50000</td>\n",
       "    </tr>\n",
       "    <tr>\n",
       "      <th>32</th>\n",
       "      <td>5787308</td>\n",
       "      <td>35</td>\n",
       "      <td>0.002751</td>\n",
       "      <td>0.930060</td>\n",
       "      <td>131</td>\n",
       "      <td>248</td>\n",
       "      <td>0.2</td>\n",
       "      <td>relu</td>\n",
       "      <td>True</td>\n",
       "      <td>152</td>\n",
       "      <td>...</td>\n",
       "      <td>-1</td>\n",
       "      <td>33755231</td>\n",
       "      <td>2018-05-08 13:32:15</td>\n",
       "      <td>2</td>\n",
       "      <td>18</td>\n",
       "      <td>0.17508</td>\n",
       "      <td>0.98199</td>\n",
       "      <td>0.06853</td>\n",
       "      <td>0.98281</td>\n",
       "      <td>0.98500</td>\n",
       "    </tr>\n",
       "    <tr>\n",
       "      <th>31</th>\n",
       "      <td>5773302</td>\n",
       "      <td>54</td>\n",
       "      <td>0.015029</td>\n",
       "      <td>0.865946</td>\n",
       "      <td>92</td>\n",
       "      <td>193</td>\n",
       "      <td>0.2</td>\n",
       "      <td>leakyrelu</td>\n",
       "      <td>True</td>\n",
       "      <td>219</td>\n",
       "      <td>...</td>\n",
       "      <td>-1</td>\n",
       "      <td>5219726</td>\n",
       "      <td>2018-05-08 09:46:54</td>\n",
       "      <td>1</td>\n",
       "      <td>18</td>\n",
       "      <td>0.22721</td>\n",
       "      <td>0.97613</td>\n",
       "      <td>0.08323</td>\n",
       "      <td>0.97940</td>\n",
       "      <td>0.98338</td>\n",
       "    </tr>\n",
       "    <tr>\n",
       "      <th>30</th>\n",
       "      <td>5769998</td>\n",
       "      <td>30</td>\n",
       "      <td>0.020269</td>\n",
       "      <td>0.839944</td>\n",
       "      <td>108</td>\n",
       "      <td>447</td>\n",
       "      <td>0.2</td>\n",
       "      <td>tanh</td>\n",
       "      <td>False</td>\n",
       "      <td>86</td>\n",
       "      <td>...</td>\n",
       "      <td>-1</td>\n",
       "      <td>3267880</td>\n",
       "      <td>2018-05-08 05:55:02</td>\n",
       "      <td>2</td>\n",
       "      <td>1</td>\n",
       "      <td>1.74827</td>\n",
       "      <td>0.90672</td>\n",
       "      <td>0.13077</td>\n",
       "      <td>0.98833</td>\n",
       "      <td>0.95379</td>\n",
       "    </tr>\n",
       "    <tr>\n",
       "      <th>29</th>\n",
       "      <td>5759764</td>\n",
       "      <td>57</td>\n",
       "      <td>0.001252</td>\n",
       "      <td>0.693608</td>\n",
       "      <td>86</td>\n",
       "      <td>193</td>\n",
       "      <td>0.4</td>\n",
       "      <td>elu</td>\n",
       "      <td>False</td>\n",
       "      <td>306</td>\n",
       "      <td>...</td>\n",
       "      <td>-1</td>\n",
       "      <td>37583248</td>\n",
       "      <td>2018-05-08 04:59:58</td>\n",
       "      <td>1</td>\n",
       "      <td>11</td>\n",
       "      <td>0.27083</td>\n",
       "      <td>0.96785</td>\n",
       "      <td>0.11191</td>\n",
       "      <td>0.96998</td>\n",
       "      <td>0.98437</td>\n",
       "    </tr>\n",
       "    <tr>\n",
       "      <th>28</th>\n",
       "      <td>5747869</td>\n",
       "      <td>30</td>\n",
       "      <td>0.001566</td>\n",
       "      <td>0.701384</td>\n",
       "      <td>141</td>\n",
       "      <td>374</td>\n",
       "      <td>0.3</td>\n",
       "      <td>relu</td>\n",
       "      <td>False</td>\n",
       "      <td>150</td>\n",
       "      <td>...</td>\n",
       "      <td>-1</td>\n",
       "      <td>39211549</td>\n",
       "      <td>2018-05-08 02:09:24</td>\n",
       "      <td>1</td>\n",
       "      <td>12</td>\n",
       "      <td>0.17731</td>\n",
       "      <td>0.98214</td>\n",
       "      <td>0.06902</td>\n",
       "      <td>0.98307</td>\n",
       "      <td>0.98410</td>\n",
       "    </tr>\n",
       "    <tr>\n",
       "      <th>27</th>\n",
       "      <td>5735837</td>\n",
       "      <td>35</td>\n",
       "      <td>0.000775</td>\n",
       "      <td>0.662420</td>\n",
       "      <td>61</td>\n",
       "      <td>477</td>\n",
       "      <td>0.3</td>\n",
       "      <td>tanh</td>\n",
       "      <td>True</td>\n",
       "      <td>105</td>\n",
       "      <td>...</td>\n",
       "      <td>-1</td>\n",
       "      <td>39662185</td>\n",
       "      <td>2018-05-07 22:51:09</td>\n",
       "      <td>2</td>\n",
       "      <td>10</td>\n",
       "      <td>0.14697</td>\n",
       "      <td>0.98564</td>\n",
       "      <td>0.05313</td>\n",
       "      <td>0.98684</td>\n",
       "      <td>0.98277</td>\n",
       "    </tr>\n",
       "    <tr>\n",
       "      <th>26</th>\n",
       "      <td>5732698</td>\n",
       "      <td>52</td>\n",
       "      <td>0.043412</td>\n",
       "      <td>0.916358</td>\n",
       "      <td>66</td>\n",
       "      <td>231</td>\n",
       "      <td>0.3</td>\n",
       "      <td>prelu</td>\n",
       "      <td>False</td>\n",
       "      <td>143</td>\n",
       "      <td>...</td>\n",
       "      <td>-1</td>\n",
       "      <td>22206771</td>\n",
       "      <td>2018-05-07 19:29:08</td>\n",
       "      <td>1</td>\n",
       "      <td>1</td>\n",
       "      <td>5.68057</td>\n",
       "      <td>0.99678</td>\n",
       "      <td>0.04033</td>\n",
       "      <td>0.99750</td>\n",
       "      <td>0.50000</td>\n",
       "    </tr>\n",
       "    <tr>\n",
       "      <th>25</th>\n",
       "      <td>5718626</td>\n",
       "      <td>35</td>\n",
       "      <td>0.009865</td>\n",
       "      <td>0.820079</td>\n",
       "      <td>136</td>\n",
       "      <td>327</td>\n",
       "      <td>0.3</td>\n",
       "      <td>prelu</td>\n",
       "      <td>False</td>\n",
       "      <td>88</td>\n",
       "      <td>...</td>\n",
       "      <td>-1</td>\n",
       "      <td>18061407</td>\n",
       "      <td>2018-05-07 18:38:18</td>\n",
       "      <td>2</td>\n",
       "      <td>18</td>\n",
       "      <td>0.13335</td>\n",
       "      <td>0.98802</td>\n",
       "      <td>0.04847</td>\n",
       "      <td>0.98800</td>\n",
       "      <td>0.98321</td>\n",
       "    </tr>\n",
       "    <tr>\n",
       "      <th>24</th>\n",
       "      <td>5702347</td>\n",
       "      <td>39</td>\n",
       "      <td>0.001095</td>\n",
       "      <td>0.758889</td>\n",
       "      <td>139</td>\n",
       "      <td>393</td>\n",
       "      <td>0.2</td>\n",
       "      <td>elu</td>\n",
       "      <td>True</td>\n",
       "      <td>110</td>\n",
       "      <td>...</td>\n",
       "      <td>-1</td>\n",
       "      <td>23640887</td>\n",
       "      <td>2018-05-07 14:43:46</td>\n",
       "      <td>1</td>\n",
       "      <td>15</td>\n",
       "      <td>0.14391</td>\n",
       "      <td>0.98577</td>\n",
       "      <td>0.05227</td>\n",
       "      <td>0.98731</td>\n",
       "      <td>0.98471</td>\n",
       "    </tr>\n",
       "    <tr>\n",
       "      <th>23</th>\n",
       "      <td>5687118</td>\n",
       "      <td>54</td>\n",
       "      <td>0.001870</td>\n",
       "      <td>0.725896</td>\n",
       "      <td>58</td>\n",
       "      <td>288</td>\n",
       "      <td>0.3</td>\n",
       "      <td>prelu</td>\n",
       "      <td>True</td>\n",
       "      <td>112</td>\n",
       "      <td>...</td>\n",
       "      <td>-1</td>\n",
       "      <td>38507265</td>\n",
       "      <td>2018-05-07 10:12:27</td>\n",
       "      <td>1</td>\n",
       "      <td>18</td>\n",
       "      <td>0.14285</td>\n",
       "      <td>0.98564</td>\n",
       "      <td>0.05282</td>\n",
       "      <td>0.98658</td>\n",
       "      <td>0.98517</td>\n",
       "    </tr>\n",
       "    <tr>\n",
       "      <th>22</th>\n",
       "      <td>5679222</td>\n",
       "      <td>48</td>\n",
       "      <td>0.036409</td>\n",
       "      <td>0.782337</td>\n",
       "      <td>127</td>\n",
       "      <td>285</td>\n",
       "      <td>0.4</td>\n",
       "      <td>tanh</td>\n",
       "      <td>True</td>\n",
       "      <td>278</td>\n",
       "      <td>...</td>\n",
       "      <td>-1</td>\n",
       "      <td>13591343</td>\n",
       "      <td>2018-05-07 05:58:38</td>\n",
       "      <td>2</td>\n",
       "      <td>7</td>\n",
       "      <td>0.37431</td>\n",
       "      <td>0.97452</td>\n",
       "      <td>0.14154</td>\n",
       "      <td>0.97881</td>\n",
       "      <td>0.96778</td>\n",
       "    </tr>\n",
       "    <tr>\n",
       "      <th>21</th>\n",
       "      <td>5665676</td>\n",
       "      <td>52</td>\n",
       "      <td>0.004123</td>\n",
       "      <td>0.761568</td>\n",
       "      <td>71</td>\n",
       "      <td>193</td>\n",
       "      <td>0.3</td>\n",
       "      <td>relu</td>\n",
       "      <td>True</td>\n",
       "      <td>248</td>\n",
       "      <td>...</td>\n",
       "      <td>-1</td>\n",
       "      <td>37631191</td>\n",
       "      <td>2018-05-07 03:47:02</td>\n",
       "      <td>1</td>\n",
       "      <td>18</td>\n",
       "      <td>0.23205</td>\n",
       "      <td>0.97326</td>\n",
       "      <td>0.09206</td>\n",
       "      <td>0.97545</td>\n",
       "      <td>0.98506</td>\n",
       "    </tr>\n",
       "    <tr>\n",
       "      <th>20</th>\n",
       "      <td>5649200</td>\n",
       "      <td>53</td>\n",
       "      <td>0.000828</td>\n",
       "      <td>0.817361</td>\n",
       "      <td>51</td>\n",
       "      <td>496</td>\n",
       "      <td>0.3</td>\n",
       "      <td>leakyrelu</td>\n",
       "      <td>False</td>\n",
       "      <td>347</td>\n",
       "      <td>...</td>\n",
       "      <td>-1</td>\n",
       "      <td>27717775</td>\n",
       "      <td>2018-05-07 00:01:16</td>\n",
       "      <td>1</td>\n",
       "      <td>16</td>\n",
       "      <td>0.28560</td>\n",
       "      <td>0.96440</td>\n",
       "      <td>0.11960</td>\n",
       "      <td>0.96547</td>\n",
       "      <td>0.98458</td>\n",
       "    </tr>\n",
       "    <tr>\n",
       "      <th>19</th>\n",
       "      <td>5637753</td>\n",
       "      <td>54</td>\n",
       "      <td>0.001161</td>\n",
       "      <td>0.918042</td>\n",
       "      <td>122</td>\n",
       "      <td>124</td>\n",
       "      <td>0.2</td>\n",
       "      <td>tanh</td>\n",
       "      <td>False</td>\n",
       "      <td>298</td>\n",
       "      <td>...</td>\n",
       "      <td>-1</td>\n",
       "      <td>24378359</td>\n",
       "      <td>2018-05-06 19:26:40</td>\n",
       "      <td>2</td>\n",
       "      <td>17</td>\n",
       "      <td>0.26924</td>\n",
       "      <td>0.96771</td>\n",
       "      <td>0.10716</td>\n",
       "      <td>0.97005</td>\n",
       "      <td>0.98429</td>\n",
       "    </tr>\n",
       "    <tr>\n",
       "      <th>18</th>\n",
       "      <td>5634401</td>\n",
       "      <td>37</td>\n",
       "      <td>0.024843</td>\n",
       "      <td>0.927988</td>\n",
       "      <td>50</td>\n",
       "      <td>492</td>\n",
       "      <td>0.4</td>\n",
       "      <td>elu</td>\n",
       "      <td>False</td>\n",
       "      <td>138</td>\n",
       "      <td>...</td>\n",
       "      <td>-1</td>\n",
       "      <td>20405341</td>\n",
       "      <td>2018-05-06 16:15:53</td>\n",
       "      <td>1</td>\n",
       "      <td>1</td>\n",
       "      <td>5.47375</td>\n",
       "      <td>0.99546</td>\n",
       "      <td>0.04033</td>\n",
       "      <td>0.99750</td>\n",
       "      <td>0.50000</td>\n",
       "    </tr>\n",
       "    <tr>\n",
       "      <th>17</th>\n",
       "      <td>5619682</td>\n",
       "      <td>37</td>\n",
       "      <td>0.045533</td>\n",
       "      <td>0.706751</td>\n",
       "      <td>144</td>\n",
       "      <td>286</td>\n",
       "      <td>0.4</td>\n",
       "      <td>leakyrelu</td>\n",
       "      <td>True</td>\n",
       "      <td>279</td>\n",
       "      <td>...</td>\n",
       "      <td>-1</td>\n",
       "      <td>2369299</td>\n",
       "      <td>2018-05-06 15:18:39</td>\n",
       "      <td>2</td>\n",
       "      <td>17</td>\n",
       "      <td>0.28477</td>\n",
       "      <td>0.97015</td>\n",
       "      <td>0.10872</td>\n",
       "      <td>0.97224</td>\n",
       "      <td>0.98027</td>\n",
       "    </tr>\n",
       "    <tr>\n",
       "      <th>16</th>\n",
       "      <td>5611185</td>\n",
       "      <td>46</td>\n",
       "      <td>0.001044</td>\n",
       "      <td>0.755473</td>\n",
       "      <td>85</td>\n",
       "      <td>435</td>\n",
       "      <td>0.2</td>\n",
       "      <td>relu</td>\n",
       "      <td>False</td>\n",
       "      <td>289</td>\n",
       "      <td>...</td>\n",
       "      <td>-1</td>\n",
       "      <td>9178116</td>\n",
       "      <td>2018-05-06 11:14:42</td>\n",
       "      <td>1</td>\n",
       "      <td>7</td>\n",
       "      <td>0.25797</td>\n",
       "      <td>0.96940</td>\n",
       "      <td>0.09948</td>\n",
       "      <td>0.97406</td>\n",
       "      <td>0.98427</td>\n",
       "    </tr>\n",
       "    <tr>\n",
       "      <th>15</th>\n",
       "      <td>5597007</td>\n",
       "      <td>48</td>\n",
       "      <td>0.007387</td>\n",
       "      <td>0.903083</td>\n",
       "      <td>135</td>\n",
       "      <td>252</td>\n",
       "      <td>0.4</td>\n",
       "      <td>leakyrelu</td>\n",
       "      <td>False</td>\n",
       "      <td>355</td>\n",
       "      <td>...</td>\n",
       "      <td>-1</td>\n",
       "      <td>34807449</td>\n",
       "      <td>2018-05-06 08:53:05</td>\n",
       "      <td>1</td>\n",
       "      <td>18</td>\n",
       "      <td>0.31073</td>\n",
       "      <td>0.96261</td>\n",
       "      <td>0.11469</td>\n",
       "      <td>0.96959</td>\n",
       "      <td>0.98282</td>\n",
       "    </tr>\n",
       "    <tr>\n",
       "      <th>14</th>\n",
       "      <td>5582707</td>\n",
       "      <td>44</td>\n",
       "      <td>0.003436</td>\n",
       "      <td>0.815157</td>\n",
       "      <td>130</td>\n",
       "      <td>282</td>\n",
       "      <td>0.3</td>\n",
       "      <td>tanh</td>\n",
       "      <td>True</td>\n",
       "      <td>396</td>\n",
       "      <td>...</td>\n",
       "      <td>-1</td>\n",
       "      <td>29059647</td>\n",
       "      <td>2018-05-06 04:56:47</td>\n",
       "      <td>2</td>\n",
       "      <td>16</td>\n",
       "      <td>0.31722</td>\n",
       "      <td>0.95922</td>\n",
       "      <td>0.13302</td>\n",
       "      <td>0.96111</td>\n",
       "      <td>0.98425</td>\n",
       "    </tr>\n",
       "    <tr>\n",
       "      <th>13</th>\n",
       "      <td>5579631</td>\n",
       "      <td>33</td>\n",
       "      <td>0.052276</td>\n",
       "      <td>0.684700</td>\n",
       "      <td>80</td>\n",
       "      <td>357</td>\n",
       "      <td>0.3</td>\n",
       "      <td>relu</td>\n",
       "      <td>False</td>\n",
       "      <td>143</td>\n",
       "      <td>...</td>\n",
       "      <td>-1</td>\n",
       "      <td>29624433</td>\n",
       "      <td>2018-05-06 00:58:27</td>\n",
       "      <td>1</td>\n",
       "      <td>1</td>\n",
       "      <td>5.67989</td>\n",
       "      <td>0.99658</td>\n",
       "      <td>0.04033</td>\n",
       "      <td>0.99750</td>\n",
       "      <td>0.50000</td>\n",
       "    </tr>\n",
       "    <tr>\n",
       "      <th>12</th>\n",
       "      <td>5576130</td>\n",
       "      <td>54</td>\n",
       "      <td>0.022695</td>\n",
       "      <td>0.757213</td>\n",
       "      <td>70</td>\n",
       "      <td>453</td>\n",
       "      <td>0.2</td>\n",
       "      <td>elu</td>\n",
       "      <td>False</td>\n",
       "      <td>335</td>\n",
       "      <td>...</td>\n",
       "      <td>-1</td>\n",
       "      <td>11653048</td>\n",
       "      <td>2018-05-06 00:07:11</td>\n",
       "      <td>1</td>\n",
       "      <td>1</td>\n",
       "      <td>12.53533</td>\n",
       "      <td>0.99493</td>\n",
       "      <td>0.04033</td>\n",
       "      <td>0.99750</td>\n",
       "      <td>0.50001</td>\n",
       "    </tr>\n",
       "    <tr>\n",
       "      <th>11</th>\n",
       "      <td>5565907</td>\n",
       "      <td>44</td>\n",
       "      <td>0.027098</td>\n",
       "      <td>0.840960</td>\n",
       "      <td>68</td>\n",
       "      <td>312</td>\n",
       "      <td>0.3</td>\n",
       "      <td>tanh</td>\n",
       "      <td>False</td>\n",
       "      <td>294</td>\n",
       "      <td>...</td>\n",
       "      <td>-1</td>\n",
       "      <td>10940686</td>\n",
       "      <td>2018-05-05 23:08:50</td>\n",
       "      <td>2</td>\n",
       "      <td>11</td>\n",
       "      <td>0.37767</td>\n",
       "      <td>0.96681</td>\n",
       "      <td>0.12454</td>\n",
       "      <td>0.97402</td>\n",
       "      <td>0.96927</td>\n",
       "    </tr>\n",
       "    <tr>\n",
       "      <th>10</th>\n",
       "      <td>5552635</td>\n",
       "      <td>44</td>\n",
       "      <td>0.036420</td>\n",
       "      <td>0.651396</td>\n",
       "      <td>53</td>\n",
       "      <td>354</td>\n",
       "      <td>0.4</td>\n",
       "      <td>elu</td>\n",
       "      <td>True</td>\n",
       "      <td>84</td>\n",
       "      <td>...</td>\n",
       "      <td>-1</td>\n",
       "      <td>37836127</td>\n",
       "      <td>2018-05-05 20:18:27</td>\n",
       "      <td>1</td>\n",
       "      <td>13</td>\n",
       "      <td>0.13136</td>\n",
       "      <td>0.98815</td>\n",
       "      <td>0.04625</td>\n",
       "      <td>0.98903</td>\n",
       "      <td>0.98176</td>\n",
       "    </tr>\n",
       "    <tr>\n",
       "      <th>7</th>\n",
       "      <td>5538577</td>\n",
       "      <td>47</td>\n",
       "      <td>0.010541</td>\n",
       "      <td>0.841956</td>\n",
       "      <td>142</td>\n",
       "      <td>274</td>\n",
       "      <td>0.2</td>\n",
       "      <td>relu</td>\n",
       "      <td>True</td>\n",
       "      <td>236</td>\n",
       "      <td>...</td>\n",
       "      <td>-1</td>\n",
       "      <td>2776944</td>\n",
       "      <td>2018-05-05 16:37:15</td>\n",
       "      <td>1</td>\n",
       "      <td>14</td>\n",
       "      <td>0.23112</td>\n",
       "      <td>0.97408</td>\n",
       "      <td>0.09186</td>\n",
       "      <td>0.97652</td>\n",
       "      <td>0.98433</td>\n",
       "    </tr>\n",
       "    <tr>\n",
       "      <th>6</th>\n",
       "      <td>5523788</td>\n",
       "      <td>56</td>\n",
       "      <td>0.001918</td>\n",
       "      <td>0.860851</td>\n",
       "      <td>112</td>\n",
       "      <td>422</td>\n",
       "      <td>0.2</td>\n",
       "      <td>elu</td>\n",
       "      <td>False</td>\n",
       "      <td>316</td>\n",
       "      <td>...</td>\n",
       "      <td>-1</td>\n",
       "      <td>5377810</td>\n",
       "      <td>2018-05-05 12:42:57</td>\n",
       "      <td>2</td>\n",
       "      <td>17</td>\n",
       "      <td>0.27414</td>\n",
       "      <td>0.96733</td>\n",
       "      <td>0.11032</td>\n",
       "      <td>0.96984</td>\n",
       "      <td>0.98445</td>\n",
       "    </tr>\n",
       "    <tr>\n",
       "      <th>5</th>\n",
       "      <td>5509928</td>\n",
       "      <td>33</td>\n",
       "      <td>0.005518</td>\n",
       "      <td>0.796719</td>\n",
       "      <td>87</td>\n",
       "      <td>423</td>\n",
       "      <td>0.4</td>\n",
       "      <td>elu</td>\n",
       "      <td>False</td>\n",
       "      <td>343</td>\n",
       "      <td>...</td>\n",
       "      <td>-1</td>\n",
       "      <td>33103269</td>\n",
       "      <td>2018-05-05 08:36:28</td>\n",
       "      <td>1</td>\n",
       "      <td>14</td>\n",
       "      <td>0.28582</td>\n",
       "      <td>0.96430</td>\n",
       "      <td>0.12839</td>\n",
       "      <td>0.96488</td>\n",
       "      <td>0.98456</td>\n",
       "    </tr>\n",
       "    <tr>\n",
       "      <th>4</th>\n",
       "      <td>5505117</td>\n",
       "      <td>46</td>\n",
       "      <td>0.030029</td>\n",
       "      <td>0.923892</td>\n",
       "      <td>136</td>\n",
       "      <td>389</td>\n",
       "      <td>0.2</td>\n",
       "      <td>leakyrelu</td>\n",
       "      <td>True</td>\n",
       "      <td>380</td>\n",
       "      <td>...</td>\n",
       "      <td>-1</td>\n",
       "      <td>16252973</td>\n",
       "      <td>2018-05-05 04:45:28</td>\n",
       "      <td>1</td>\n",
       "      <td>2</td>\n",
       "      <td>0.47998</td>\n",
       "      <td>0.93701</td>\n",
       "      <td>0.12203</td>\n",
       "      <td>0.96877</td>\n",
       "      <td>0.97628</td>\n",
       "    </tr>\n",
       "    <tr>\n",
       "      <th>3</th>\n",
       "      <td>5502279</td>\n",
       "      <td>56</td>\n",
       "      <td>0.023009</td>\n",
       "      <td>0.754389</td>\n",
       "      <td>55</td>\n",
       "      <td>193</td>\n",
       "      <td>0.2</td>\n",
       "      <td>prelu</td>\n",
       "      <td>False</td>\n",
       "      <td>377</td>\n",
       "      <td>...</td>\n",
       "      <td>-1</td>\n",
       "      <td>28499740</td>\n",
       "      <td>2018-05-05 03:25:17</td>\n",
       "      <td>2</td>\n",
       "      <td>1</td>\n",
       "      <td>14.96512</td>\n",
       "      <td>0.99593</td>\n",
       "      <td>0.04033</td>\n",
       "      <td>0.99750</td>\n",
       "      <td>0.50000</td>\n",
       "    </tr>\n",
       "    <tr>\n",
       "      <th>2</th>\n",
       "      <td>5489925</td>\n",
       "      <td>45</td>\n",
       "      <td>0.017215</td>\n",
       "      <td>0.797830</td>\n",
       "      <td>58</td>\n",
       "      <td>139</td>\n",
       "      <td>0.3</td>\n",
       "      <td>elu</td>\n",
       "      <td>True</td>\n",
       "      <td>274</td>\n",
       "      <td>...</td>\n",
       "      <td>-1</td>\n",
       "      <td>22782637</td>\n",
       "      <td>2018-05-05 02:37:59</td>\n",
       "      <td>1</td>\n",
       "      <td>18</td>\n",
       "      <td>0.25903</td>\n",
       "      <td>0.97080</td>\n",
       "      <td>0.10316</td>\n",
       "      <td>0.97286</td>\n",
       "      <td>0.98353</td>\n",
       "    </tr>\n",
       "    <tr>\n",
       "      <th>1</th>\n",
       "      <td>5486805</td>\n",
       "      <td>54</td>\n",
       "      <td>0.015058</td>\n",
       "      <td>0.844475</td>\n",
       "      <td>147</td>\n",
       "      <td>207</td>\n",
       "      <td>0.3</td>\n",
       "      <td>prelu</td>\n",
       "      <td>False</td>\n",
       "      <td>350</td>\n",
       "      <td>...</td>\n",
       "      <td>-1</td>\n",
       "      <td>24899756</td>\n",
       "      <td>2018-05-04 23:12:04</td>\n",
       "      <td>1</td>\n",
       "      <td>1</td>\n",
       "      <td>10.63204</td>\n",
       "      <td>0.87778</td>\n",
       "      <td>0.04020</td>\n",
       "      <td>0.99751</td>\n",
       "      <td>0.50185</td>\n",
       "    </tr>\n",
       "    <tr>\n",
       "      <th>0</th>\n",
       "      <td>5476595</td>\n",
       "      <td>49</td>\n",
       "      <td>0.001799</td>\n",
       "      <td>0.832146</td>\n",
       "      <td>86</td>\n",
       "      <td>165</td>\n",
       "      <td>0.3</td>\n",
       "      <td>relu</td>\n",
       "      <td>False</td>\n",
       "      <td>139</td>\n",
       "      <td>...</td>\n",
       "      <td>-1</td>\n",
       "      <td>37319136</td>\n",
       "      <td>2018-05-04 21:51:09</td>\n",
       "      <td>2</td>\n",
       "      <td>10</td>\n",
       "      <td>0.17451</td>\n",
       "      <td>0.98315</td>\n",
       "      <td>0.06510</td>\n",
       "      <td>0.98348</td>\n",
       "      <td>0.98361</td>\n",
       "    </tr>\n",
       "    <tr>\n",
       "      <th>9</th>\n",
       "      <td>5458670</td>\n",
       "      <td>45</td>\n",
       "      <td>0.000860</td>\n",
       "      <td>0.862163</td>\n",
       "      <td>107</td>\n",
       "      <td>395</td>\n",
       "      <td>0.2</td>\n",
       "      <td>leakyrelu</td>\n",
       "      <td>False</td>\n",
       "      <td>176</td>\n",
       "      <td>...</td>\n",
       "      <td>-1</td>\n",
       "      <td>23982844</td>\n",
       "      <td>2018-05-04 19:18:54</td>\n",
       "      <td>1</td>\n",
       "      <td>18</td>\n",
       "      <td>0.22182</td>\n",
       "      <td>0.97990</td>\n",
       "      <td>0.08328</td>\n",
       "      <td>0.98120</td>\n",
       "      <td>0.98480</td>\n",
       "    </tr>\n",
       "    <tr>\n",
       "      <th>8</th>\n",
       "      <td>5444132</td>\n",
       "      <td>59</td>\n",
       "      <td>0.001002</td>\n",
       "      <td>0.902757</td>\n",
       "      <td>84</td>\n",
       "      <td>148</td>\n",
       "      <td>0.2</td>\n",
       "      <td>elu</td>\n",
       "      <td>True</td>\n",
       "      <td>331</td>\n",
       "      <td>...</td>\n",
       "      <td>-1</td>\n",
       "      <td>7774305</td>\n",
       "      <td>2018-05-04 14:31:08</td>\n",
       "      <td>1</td>\n",
       "      <td>20</td>\n",
       "      <td>0.32923</td>\n",
       "      <td>0.96580</td>\n",
       "      <td>0.08015</td>\n",
       "      <td>0.96990</td>\n",
       "      <td>0.98480</td>\n",
       "    </tr>\n",
       "  </tbody>\n",
       "</table>\n",
       "<p>42 rows × 21 columns</p>\n",
       "</div>"
      ],
      "text/plain": [
       "     tempid  emb_n        lr  lr_decay  conv_n  dense_n  drop_out        act  \\\n",
       "41  6044457     71  0.015905  0.928064     121       44       0.1       relu   \n",
       "40  6035465     49  0.017287  0.726490      61       67       0.1  leakyrelu   \n",
       "39  6029468     77  0.002535  0.663915     108       53       0.3        elu   \n",
       "38  6027720     47  0.023634  0.944210     133       52       0.2       relu   \n",
       "37  6022902     66  0.021590  0.910522      80       33       0.2  leakyrelu   \n",
       "36  6015619     43  0.002364  0.796657     110       30       0.1        elu   \n",
       "35  6004926     63  0.003366  0.854811     115       63       0.1       tanh   \n",
       "34  6001468     76  0.007509  0.823857     126       39       0.3       relu   \n",
       "33  5800735     43  0.022791  0.794382     137      104       0.2  leakyrelu   \n",
       "32  5787308     35  0.002751  0.930060     131      248       0.2       relu   \n",
       "31  5773302     54  0.015029  0.865946      92      193       0.2  leakyrelu   \n",
       "30  5769998     30  0.020269  0.839944     108      447       0.2       tanh   \n",
       "29  5759764     57  0.001252  0.693608      86      193       0.4        elu   \n",
       "28  5747869     30  0.001566  0.701384     141      374       0.3       relu   \n",
       "27  5735837     35  0.000775  0.662420      61      477       0.3       tanh   \n",
       "26  5732698     52  0.043412  0.916358      66      231       0.3      prelu   \n",
       "25  5718626     35  0.009865  0.820079     136      327       0.3      prelu   \n",
       "24  5702347     39  0.001095  0.758889     139      393       0.2        elu   \n",
       "23  5687118     54  0.001870  0.725896      58      288       0.3      prelu   \n",
       "22  5679222     48  0.036409  0.782337     127      285       0.4       tanh   \n",
       "21  5665676     52  0.004123  0.761568      71      193       0.3       relu   \n",
       "20  5649200     53  0.000828  0.817361      51      496       0.3  leakyrelu   \n",
       "19  5637753     54  0.001161  0.918042     122      124       0.2       tanh   \n",
       "18  5634401     37  0.024843  0.927988      50      492       0.4        elu   \n",
       "17  5619682     37  0.045533  0.706751     144      286       0.4  leakyrelu   \n",
       "16  5611185     46  0.001044  0.755473      85      435       0.2       relu   \n",
       "15  5597007     48  0.007387  0.903083     135      252       0.4  leakyrelu   \n",
       "14  5582707     44  0.003436  0.815157     130      282       0.3       tanh   \n",
       "13  5579631     33  0.052276  0.684700      80      357       0.3       relu   \n",
       "12  5576130     54  0.022695  0.757213      70      453       0.2        elu   \n",
       "11  5565907     44  0.027098  0.840960      68      312       0.3       tanh   \n",
       "10  5552635     44  0.036420  0.651396      53      354       0.4        elu   \n",
       "7   5538577     47  0.010541  0.841956     142      274       0.2       relu   \n",
       "6   5523788     56  0.001918  0.860851     112      422       0.2        elu   \n",
       "5   5509928     33  0.005518  0.796719      87      423       0.4        elu   \n",
       "4   5505117     46  0.030029  0.923892     136      389       0.2  leakyrelu   \n",
       "3   5502279     56  0.023009  0.754389      55      193       0.2      prelu   \n",
       "2   5489925     45  0.017215  0.797830      58      139       0.3        elu   \n",
       "1   5486805     54  0.015058  0.844475     147      207       0.3      prelu   \n",
       "0   5476595     49  0.001799  0.832146      86      165       0.3       relu   \n",
       "9   5458670     45  0.000860  0.862163     107      395       0.2  leakyrelu   \n",
       "8   5444132     59  0.001002  0.902757      84      148       0.2        elu   \n",
       "\n",
       "    batchnorm  pos_weight   ...     NA2      seed                 time mode  \\\n",
       "41      False         170   ...      -1  23694852  2018-05-11 09:43:17    1   \n",
       "40      False         314   ...      -1  33732111  2018-05-11 09:13:44    1   \n",
       "39       True          91   ...      -1   7018820  2018-05-11 06:43:50    1   \n",
       "38      False         240   ...      -1  23815266  2018-05-11 05:03:55    1   \n",
       "37       True         160   ...      -1    144700  2018-05-11 04:34:45    1   \n",
       "36      False         216   ...      -1    651494  2018-05-11 03:14:29    1   \n",
       "35      False         104   ...      -1  28508596  2018-05-11 01:13:06    1   \n",
       "34      False         201   ...      -1   8242668  2018-05-10 22:14:54    1   \n",
       "33      False         153   ...      -1  26465881  2018-05-08 14:17:37    1   \n",
       "32       True         152   ...      -1  33755231  2018-05-08 13:32:15    2   \n",
       "31       True         219   ...      -1   5219726  2018-05-08 09:46:54    1   \n",
       "30      False          86   ...      -1   3267880  2018-05-08 05:55:02    2   \n",
       "29      False         306   ...      -1  37583248  2018-05-08 04:59:58    1   \n",
       "28      False         150   ...      -1  39211549  2018-05-08 02:09:24    1   \n",
       "27       True         105   ...      -1  39662185  2018-05-07 22:51:09    2   \n",
       "26      False         143   ...      -1  22206771  2018-05-07 19:29:08    1   \n",
       "25      False          88   ...      -1  18061407  2018-05-07 18:38:18    2   \n",
       "24       True         110   ...      -1  23640887  2018-05-07 14:43:46    1   \n",
       "23       True         112   ...      -1  38507265  2018-05-07 10:12:27    1   \n",
       "22       True         278   ...      -1  13591343  2018-05-07 05:58:38    2   \n",
       "21       True         248   ...      -1  37631191  2018-05-07 03:47:02    1   \n",
       "20      False         347   ...      -1  27717775  2018-05-07 00:01:16    1   \n",
       "19      False         298   ...      -1  24378359  2018-05-06 19:26:40    2   \n",
       "18      False         138   ...      -1  20405341  2018-05-06 16:15:53    1   \n",
       "17       True         279   ...      -1   2369299  2018-05-06 15:18:39    2   \n",
       "16      False         289   ...      -1   9178116  2018-05-06 11:14:42    1   \n",
       "15      False         355   ...      -1  34807449  2018-05-06 08:53:05    1   \n",
       "14       True         396   ...      -1  29059647  2018-05-06 04:56:47    2   \n",
       "13      False         143   ...      -1  29624433  2018-05-06 00:58:27    1   \n",
       "12      False         335   ...      -1  11653048  2018-05-06 00:07:11    1   \n",
       "11      False         294   ...      -1  10940686  2018-05-05 23:08:50    2   \n",
       "10       True          84   ...      -1  37836127  2018-05-05 20:18:27    1   \n",
       "7        True         236   ...      -1   2776944  2018-05-05 16:37:15    1   \n",
       "6       False         316   ...      -1   5377810  2018-05-05 12:42:57    2   \n",
       "5       False         343   ...      -1  33103269  2018-05-05 08:36:28    1   \n",
       "4        True         380   ...      -1  16252973  2018-05-05 04:45:28    1   \n",
       "3       False         377   ...      -1  28499740  2018-05-05 03:25:17    2   \n",
       "2        True         274   ...      -1  22782637  2018-05-05 02:37:59    1   \n",
       "1       False         350   ...      -1  24899756  2018-05-04 23:12:04    1   \n",
       "0       False         139   ...      -1  37319136  2018-05-04 21:51:09    2   \n",
       "9       False         176   ...      -1  23982844  2018-05-04 19:18:54    1   \n",
       "8        True         331   ...      -1   7774305  2018-05-04 14:31:08    1   \n",
       "\n",
       "    bst_epoch  trn_loss  trn_acc  val_loss  val_acc  val_auc  \n",
       "41          1   0.36491  0.97834   0.06364  0.98375  0.98126  \n",
       "40         14   0.26897  0.96680   0.11165  0.96874  0.98372  \n",
       "39          8   0.12703  0.98749   0.04703  0.98809  0.98474  \n",
       "38          1   0.45366  0.96714   0.16182  0.95860  0.97994  \n",
       "37          6   0.18651  0.98084   0.08905  0.97726  0.98367  \n",
       "36         11   0.21323  0.97596   0.08350  0.97779  0.98450  \n",
       "35         17   0.13576  0.98618   0.05317  0.98657  0.98453  \n",
       "34          4   0.21972  0.97796   0.09099  0.97670  0.98321  \n",
       "33          1  15.87176  0.00383  15.90249  0.00250  0.50000  \n",
       "32         18   0.17508  0.98199   0.06853  0.98281  0.98500  \n",
       "31         18   0.22721  0.97613   0.08323  0.97940  0.98338  \n",
       "30          1   1.74827  0.90672   0.13077  0.98833  0.95379  \n",
       "29         11   0.27083  0.96785   0.11191  0.96998  0.98437  \n",
       "28         12   0.17731  0.98214   0.06902  0.98307  0.98410  \n",
       "27         10   0.14697  0.98564   0.05313  0.98684  0.98277  \n",
       "26          1   5.68057  0.99678   0.04033  0.99750  0.50000  \n",
       "25         18   0.13335  0.98802   0.04847  0.98800  0.98321  \n",
       "24         15   0.14391  0.98577   0.05227  0.98731  0.98471  \n",
       "23         18   0.14285  0.98564   0.05282  0.98658  0.98517  \n",
       "22          7   0.37431  0.97452   0.14154  0.97881  0.96778  \n",
       "21         18   0.23205  0.97326   0.09206  0.97545  0.98506  \n",
       "20         16   0.28560  0.96440   0.11960  0.96547  0.98458  \n",
       "19         17   0.26924  0.96771   0.10716  0.97005  0.98429  \n",
       "18          1   5.47375  0.99546   0.04033  0.99750  0.50000  \n",
       "17         17   0.28477  0.97015   0.10872  0.97224  0.98027  \n",
       "16          7   0.25797  0.96940   0.09948  0.97406  0.98427  \n",
       "15         18   0.31073  0.96261   0.11469  0.96959  0.98282  \n",
       "14         16   0.31722  0.95922   0.13302  0.96111  0.98425  \n",
       "13          1   5.67989  0.99658   0.04033  0.99750  0.50000  \n",
       "12          1  12.53533  0.99493   0.04033  0.99750  0.50001  \n",
       "11         11   0.37767  0.96681   0.12454  0.97402  0.96927  \n",
       "10         13   0.13136  0.98815   0.04625  0.98903  0.98176  \n",
       "7          14   0.23112  0.97408   0.09186  0.97652  0.98433  \n",
       "6          17   0.27414  0.96733   0.11032  0.96984  0.98445  \n",
       "5          14   0.28582  0.96430   0.12839  0.96488  0.98456  \n",
       "4           2   0.47998  0.93701   0.12203  0.96877  0.97628  \n",
       "3           1  14.96512  0.99593   0.04033  0.99750  0.50000  \n",
       "2          18   0.25903  0.97080   0.10316  0.97286  0.98353  \n",
       "1           1  10.63204  0.87778   0.04020  0.99751  0.50185  \n",
       "0          10   0.17451  0.98315   0.06510  0.98348  0.98361  \n",
       "9          18   0.22182  0.97990   0.08328  0.98120  0.98480  \n",
       "8          20   0.32923  0.96580   0.08015  0.96990  0.98480  \n",
       "\n",
       "[42 rows x 21 columns]"
      ]
     },
     "execution_count": 8,
     "metadata": {},
     "output_type": "execute_result"
    }
   ],
   "source": [
    "nn_record"
   ]
  },
  {
   "cell_type": "markdown",
   "metadata": {},
   "source": [
    "30\t0.000754\t0.939598\t59\t320\t0.4\trelu\tTrue\t308\n",
    "5416730 bst_epoch: 29 loss: 0.2633 - acc: 0.9676 - val_loss: 0.1073 - val_acc: 0.9704 - roc_auc_val: 0.9851\n",
    "5444132 20ep loss: 0.2763 - acc: 0.9658 - val_loss: 0.1111 - val_acc: 0.9699 - roc_auc_val: 0.9848\n",
    "5458670: 18ep loss: 0.1904 - acc: 0.9799 - val_loss: 0.0733 - val_acc: 0.9812 - roc_auc_val: 0.9848"
   ]
  },
  {
   "cell_type": "markdown",
   "metadata": {},
   "source": [
    "nn_record.at[0, 'val_acc'] = 0.9699"
   ]
  },
  {
   "cell_type": "markdown",
   "metadata": {},
   "source": [
    "nn_record.to_csv('nn_record.csv', index=False, header=False)"
   ]
  },
  {
   "cell_type": "code",
   "execution_count": 38,
   "metadata": {
    "collapsed": true
   },
   "outputs": [],
   "source": [
    "selected = list(nn_record.sort_values(by='val_auc', ascending=False)[:11]['tempid'])"
   ]
  },
  {
   "cell_type": "code",
   "execution_count": 39,
   "metadata": {},
   "outputs": [
    {
     "data": {
      "text/plain": [
       "[5687118,\n",
       " 5665676,\n",
       " 5444132,\n",
       " 5458670,\n",
       " 5649200,\n",
       " 5509928,\n",
       " 5523788,\n",
       " 5538577,\n",
       " 5637753,\n",
       " 5611185,\n",
       " 5582707]"
      ]
     },
     "execution_count": 39,
     "metadata": {},
     "output_type": "execute_result"
    }
   ],
   "source": [
    "selected"
   ]
  },
  {
   "cell_type": "code",
   "execution_count": null,
   "metadata": {
    "collapsed": true
   },
   "outputs": [],
   "source": []
  },
  {
   "cell_type": "code",
   "execution_count": 40,
   "metadata": {},
   "outputs": [
    {
     "name": "stdout",
     "output_type": "stream",
     "text": [
      "['98516_5687118.npy', '98505_5665676.npy', '98098_5444132.npy', '98042_5458670.npy', '98458_5649200.npy', '98456_5509928.npy', '98445_5523788.npy', '98432_5538577.npy', '98428_5637753.npy', '98427_5611185.npy', '98425_5582707.npy']\n",
      "11\n"
     ]
    }
   ],
   "source": [
    "import os\n",
    "selected_files = []\n",
    "for tempid in selected:\n",
    "    for filename in os.listdir('NN_SUBS'):\n",
    "        if (str(tempid) in filename and 'nn' not in filename):\n",
    "            selected_files.append(filename)\n",
    "            \n",
    "print(selected_files)\n",
    "print(len(selected_files))"
   ]
  },
  {
   "cell_type": "code",
   "execution_count": 41,
   "metadata": {},
   "outputs": [
    {
     "name": "stdout",
     "output_type": "stream",
     "text": [
      "['98516_5687118.npy', '98505_5665676.npy', '98098_5444132.npy', '98042_5458670.npy', '98458_5649200.npy', '98456_5509928.npy', '98445_5523788.npy', '98432_5538577.npy', '98428_5637753.npy', '98427_5611185.npy', '98425_5582707.npy', '9851_special_5416730.npy']\n",
      "12\n"
     ]
    }
   ],
   "source": [
    "for filename in os.listdir('NN_SUBS'):\n",
    "    if 'special' in filename:\n",
    "        selected_files.append(filename)\n",
    "print(selected_files)\n",
    "print(len(selected_files))"
   ]
  },
  {
   "cell_type": "code",
   "execution_count": 42,
   "metadata": {
    "collapsed": true
   },
   "outputs": [],
   "source": [
    "import numpy as np"
   ]
  },
  {
   "cell_type": "code",
   "execution_count": 43,
   "metadata": {},
   "outputs": [
    {
     "name": "stdout",
     "output_type": "stream",
     "text": [
      "[[0.1293739 ]\n",
      " [0.02364804]]\n"
     ]
    }
   ],
   "source": [
    "for i, file in enumerate(selected_files):\n",
    "    if i == 0:\n",
    "        preds = np.load('NN_SUBS/'+file)\n",
    "    else:\n",
    "        temp = np.load('NN_SUBS/'+file)\n",
    "        preds += temp\n",
    "preds = preds/len(selected_files)\n",
    "print(preds[:2])"
   ]
  },
  {
   "cell_type": "code",
   "execution_count": 51,
   "metadata": {
    "collapsed": true
   },
   "outputs": [],
   "source": [
    "predsnpy = np.load('/home/kai/data/kaggle/talkingdata/data/SUBS/FinalSub/lightgbm_best.npy')"
   ]
  },
  {
   "cell_type": "code",
   "execution_count": 44,
   "metadata": {
    "collapsed": true
   },
   "outputs": [],
   "source": [
    "ori_path = '/home/kai/data/kaggle/talkingdata/data/'\n",
    "\n",
    "test_ori = pd.read_csv(ori_path+\"test.csv\", usecols=['ip','app','device','os', 'channel', 'click_time', 'click_id'])"
   ]
  },
  {
   "cell_type": "code",
   "execution_count": 52,
   "metadata": {
    "collapsed": true
   },
   "outputs": [],
   "source": [
    "sub = pd.DataFrame()\n",
    "sub['click_id'] = test_ori['click_id'].astype('int')\n",
    "\n",
    "sub['is_attributed'] = predsnpy#preds"
   ]
  },
  {
   "cell_type": "code",
   "execution_count": 53,
   "metadata": {},
   "outputs": [
    {
     "data": {
      "text/plain": [
       "(18790469, 2)"
      ]
     },
     "execution_count": 53,
     "metadata": {},
     "output_type": "execute_result"
    }
   ],
   "source": [
    "sub.shape"
   ]
  },
  {
   "cell_type": "code",
   "execution_count": 54,
   "metadata": {},
   "outputs": [
    {
     "data": {
      "text/html": [
       "<div>\n",
       "<style scoped>\n",
       "    .dataframe tbody tr th:only-of-type {\n",
       "        vertical-align: middle;\n",
       "    }\n",
       "\n",
       "    .dataframe tbody tr th {\n",
       "        vertical-align: top;\n",
       "    }\n",
       "\n",
       "    .dataframe thead th {\n",
       "        text-align: right;\n",
       "    }\n",
       "</style>\n",
       "<table border=\"1\" class=\"dataframe\">\n",
       "  <thead>\n",
       "    <tr style=\"text-align: right;\">\n",
       "      <th></th>\n",
       "      <th>click_id</th>\n",
       "      <th>is_attributed</th>\n",
       "    </tr>\n",
       "  </thead>\n",
       "  <tbody>\n",
       "    <tr>\n",
       "      <th>18790467</th>\n",
       "      <td>18790466</td>\n",
       "      <td>0.014059</td>\n",
       "    </tr>\n",
       "    <tr>\n",
       "      <th>18790468</th>\n",
       "      <td>18790468</td>\n",
       "      <td>0.001774</td>\n",
       "    </tr>\n",
       "  </tbody>\n",
       "</table>\n",
       "</div>"
      ],
      "text/plain": [
       "          click_id  is_attributed\n",
       "18790467  18790466       0.014059\n",
       "18790468  18790468       0.001774"
      ]
     },
     "execution_count": 54,
     "metadata": {},
     "output_type": "execute_result"
    }
   ],
   "source": [
    "sub.tail(2)"
   ]
  },
  {
   "cell_type": "code",
   "execution_count": 55,
   "metadata": {},
   "outputs": [
    {
     "name": "stdout",
     "output_type": "stream",
     "text": [
      "5723574\n"
     ]
    }
   ],
   "source": [
    "import time\n",
    "tempid = str(int(time.time()))[3:]\n",
    "print(tempid) "
   ]
  },
  {
   "cell_type": "code",
   "execution_count": 56,
   "metadata": {
    "collapsed": true
   },
   "outputs": [],
   "source": [
    "flag = 'lgb_best_'\n",
    "sub.to_csv('/home/kai/data/kaggle/talkingdata/data/SUBS/FinalSub/{}_{}.csv.gz'.format(flag, tempid), index=False, float_format='%.9f', compression='gzip')"
   ]
  },
  {
   "cell_type": "code",
   "execution_count": 49,
   "metadata": {
    "collapsed": true
   },
   "outputs": [],
   "source": [
    "flag = '12AvgBlend'\n",
    "sub.to_csv('NN_SUBS/nn_{}_{}.csv.gz'.format(flag, tempid), index=False, float_format='%.9f', compression='gzip')"
   ]
  },
  {
   "cell_type": "code",
   "execution_count": null,
   "metadata": {
    "collapsed": true
   },
   "outputs": [],
   "source": []
  }
 ],
 "metadata": {
  "kernelspec": {
   "display_name": "Python 3.5 (tf_gpu)",
   "language": "python",
   "name": "tf_gpu"
  },
  "language_info": {
   "codemirror_mode": {
    "name": "ipython",
    "version": 3
   },
   "file_extension": ".py",
   "mimetype": "text/x-python",
   "name": "python",
   "nbconvert_exporter": "python",
   "pygments_lexer": "ipython3",
   "version": "3.5.4"
  }
 },
 "nbformat": 4,
 "nbformat_minor": 2
}
