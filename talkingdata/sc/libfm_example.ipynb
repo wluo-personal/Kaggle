{
 "cells": [
  {
   "cell_type": "code",
   "execution_count": 1,
   "metadata": {
    "collapsed": true
   },
   "outputs": [],
   "source": [
    "from pyfm import pylibfm"
   ]
  },
  {
   "cell_type": "code",
   "execution_count": 2,
   "metadata": {
    "collapsed": true
   },
   "outputs": [],
   "source": [
    "from sklearn.feature_extraction import DictVectorizer"
   ]
  },
  {
   "cell_type": "code",
   "execution_count": 3,
   "metadata": {
    "collapsed": true
   },
   "outputs": [],
   "source": [
    "import numpy as np"
   ]
  },
  {
   "cell_type": "code",
   "execution_count": 4,
   "metadata": {
    "collapsed": true
   },
   "outputs": [],
   "source": [
    "def loadData(filename,path=\"/home/kai/data/shiyi/data/ml-100k/\"):\n",
    "    data = []\n",
    "    y = []\n",
    "    users=set()\n",
    "    items=set()\n",
    "    with open(path+filename) as f:\n",
    "        for line in f:\n",
    "            (user,movieid,rating,ts)=line.split('\\t')\n",
    "            data.append({ \"user_id\": str(user), \"movie_id\": str(movieid)})\n",
    "            y.append(float(rating))\n",
    "            users.add(user)\n",
    "            items.add(movieid)\n",
    "\n",
    "    return (data, np.array(y), users, items)"
   ]
  },
  {
   "cell_type": "code",
   "execution_count": 5,
   "metadata": {
    "collapsed": true
   },
   "outputs": [],
   "source": [
    "(train_data, y_train, train_users, train_items) = loadData(\"ua.base\")"
   ]
  },
  {
   "cell_type": "code",
   "execution_count": 8,
   "metadata": {},
   "outputs": [
    {
     "data": {
      "text/plain": [
       "[{'movie_id': '1', 'user_id': '1'},\n",
       " {'movie_id': '2', 'user_id': '1'},\n",
       " {'movie_id': '3', 'user_id': '1'}]"
      ]
     },
     "execution_count": 8,
     "metadata": {},
     "output_type": "execute_result"
    }
   ],
   "source": [
    "train_data[:3]"
   ]
  },
  {
   "cell_type": "code",
   "execution_count": 6,
   "metadata": {
    "collapsed": true
   },
   "outputs": [],
   "source": [
    "(test_data, y_test, test_users, test_items) = loadData(\"ua.test\")"
   ]
  },
  {
   "cell_type": "code",
   "execution_count": 9,
   "metadata": {},
   "outputs": [
    {
     "data": {
      "text/plain": [
       "[{'movie_id': '20', 'user_id': '1'},\n",
       " {'movie_id': '33', 'user_id': '1'},\n",
       " {'movie_id': '61', 'user_id': '1'}]"
      ]
     },
     "execution_count": 9,
     "metadata": {},
     "output_type": "execute_result"
    }
   ],
   "source": [
    "test_data[:3]"
   ]
  },
  {
   "cell_type": "code",
   "execution_count": 12,
   "metadata": {
    "collapsed": true
   },
   "outputs": [],
   "source": [
    "v = DictVectorizer()\n",
    "X_train = v.fit_transform(train_data)\n",
    "X_test = v.transform(test_data)"
   ]
  },
  {
   "cell_type": "code",
   "execution_count": 13,
   "metadata": {
    "collapsed": true
   },
   "outputs": [],
   "source": [
    "# Build and train a Factorization Machine\n",
    "fm = pylibfm.FM(num_factors=10, num_iter=100, verbose=True, task=\"regression\", initial_learning_rate=0.001, learning_rate_schedule=\"optimal\")"
   ]
  },
  {
   "cell_type": "code",
   "execution_count": 14,
   "metadata": {},
   "outputs": [
    {
     "name": "stdout",
     "output_type": "stream",
     "text": [
      "Creating validation dataset of 0.01 of training for adaptive regularization\n",
      "-- Epoch 1\n",
      "Training MSE: 0.59498\n",
      "-- Epoch 2\n",
      "Training MSE: 0.51787\n",
      "-- Epoch 3\n",
      "Training MSE: 0.49039\n",
      "-- Epoch 4\n",
      "Training MSE: 0.47447\n",
      "-- Epoch 5\n",
      "Training MSE: 0.46409\n",
      "-- Epoch 6\n",
      "Training MSE: 0.45662\n",
      "-- Epoch 7\n",
      "Training MSE: 0.45091\n",
      "-- Epoch 8\n",
      "Training MSE: 0.44640\n",
      "-- Epoch 9\n",
      "Training MSE: 0.44259\n",
      "-- Epoch 10\n",
      "Training MSE: 0.43949\n",
      "-- Epoch 11\n",
      "Training MSE: 0.43668\n",
      "-- Epoch 12\n",
      "Training MSE: 0.43429\n",
      "-- Epoch 13\n",
      "Training MSE: 0.43218\n",
      "-- Epoch 14\n",
      "Training MSE: 0.43029\n",
      "-- Epoch 15\n",
      "Training MSE: 0.42849\n",
      "-- Epoch 16\n",
      "Training MSE: 0.42691\n",
      "-- Epoch 17\n",
      "Training MSE: 0.42532\n",
      "-- Epoch 18\n",
      "Training MSE: 0.42392\n",
      "-- Epoch 19\n",
      "Training MSE: 0.42252\n",
      "-- Epoch 20\n",
      "Training MSE: 0.42119\n",
      "-- Epoch 21\n",
      "Training MSE: 0.42000\n",
      "-- Epoch 22\n",
      "Training MSE: 0.41870\n",
      "-- Epoch 23\n",
      "Training MSE: 0.41752\n",
      "-- Epoch 24\n",
      "Training MSE: 0.41634\n",
      "-- Epoch 25\n",
      "Training MSE: 0.41520\n",
      "-- Epoch 26\n",
      "Training MSE: 0.41399\n",
      "-- Epoch 27\n",
      "Training MSE: 0.41287\n",
      "-- Epoch 28\n",
      "Training MSE: 0.41162\n",
      "-- Epoch 29\n",
      "Training MSE: 0.41039\n",
      "-- Epoch 30\n",
      "Training MSE: 0.40906\n",
      "-- Epoch 31\n",
      "Training MSE: 0.40789\n",
      "-- Epoch 32\n",
      "Training MSE: 0.40646\n",
      "-- Epoch 33\n",
      "Training MSE: 0.40519\n",
      "-- Epoch 34\n",
      "Training MSE: 0.40380\n",
      "-- Epoch 35\n",
      "Training MSE: 0.40228\n",
      "-- Epoch 36\n",
      "Training MSE: 0.40087\n",
      "-- Epoch 37\n",
      "Training MSE: 0.39938\n",
      "-- Epoch 38\n",
      "Training MSE: 0.39776\n",
      "-- Epoch 39\n",
      "Training MSE: 0.39615\n",
      "-- Epoch 40\n",
      "Training MSE: 0.39446\n",
      "-- Epoch 41\n",
      "Training MSE: 0.39278\n",
      "-- Epoch 42\n",
      "Training MSE: 0.39112\n",
      "-- Epoch 43\n",
      "Training MSE: 0.38929\n",
      "-- Epoch 44\n",
      "Training MSE: 0.38745\n",
      "-- Epoch 45\n",
      "Training MSE: 0.38558\n",
      "-- Epoch 46\n",
      "Training MSE: 0.38368\n",
      "-- Epoch 47\n",
      "Training MSE: 0.38184\n",
      "-- Epoch 48\n",
      "Training MSE: 0.37990\n",
      "-- Epoch 49\n",
      "Training MSE: 0.37800\n",
      "-- Epoch 50\n",
      "Training MSE: 0.37594\n",
      "-- Epoch 51\n",
      "Training MSE: 0.37401\n",
      "-- Epoch 52\n",
      "Training MSE: 0.37212\n",
      "-- Epoch 53\n",
      "Training MSE: 0.37021\n",
      "-- Epoch 54\n",
      "Training MSE: 0.36820\n",
      "-- Epoch 55\n",
      "Training MSE: 0.36637\n",
      "-- Epoch 56\n",
      "Training MSE: 0.36446\n",
      "-- Epoch 57\n",
      "Training MSE: 0.36257\n",
      "-- Epoch 58\n",
      "Training MSE: 0.36075\n",
      "-- Epoch 59\n",
      "Training MSE: 0.35894\n",
      "-- Epoch 60\n",
      "Training MSE: 0.35715\n",
      "-- Epoch 61\n",
      "Training MSE: 0.35550\n",
      "-- Epoch 62\n",
      "Training MSE: 0.35385\n",
      "-- Epoch 63\n",
      "Training MSE: 0.35221\n",
      "-- Epoch 64\n",
      "Training MSE: 0.35064\n",
      "-- Epoch 65\n",
      "Training MSE: 0.34922\n",
      "-- Epoch 66\n",
      "Training MSE: 0.34767\n",
      "-- Epoch 67\n",
      "Training MSE: 0.34632\n",
      "-- Epoch 68\n",
      "Training MSE: 0.34497\n",
      "-- Epoch 69\n",
      "Training MSE: 0.34364\n",
      "-- Epoch 70\n",
      "Training MSE: 0.34236\n",
      "-- Epoch 71\n",
      "Training MSE: 0.34110\n",
      "-- Epoch 72\n",
      "Training MSE: 0.34002\n",
      "-- Epoch 73\n",
      "Training MSE: 0.33889\n",
      "-- Epoch 74\n",
      "Training MSE: 0.33781\n",
      "-- Epoch 75\n",
      "Training MSE: 0.33688\n",
      "-- Epoch 76\n",
      "Training MSE: 0.33588\n",
      "-- Epoch 77\n",
      "Training MSE: 0.33497\n",
      "-- Epoch 78\n",
      "Training MSE: 0.33404\n",
      "-- Epoch 79\n",
      "Training MSE: 0.33319\n",
      "-- Epoch 80\n",
      "Training MSE: 0.33241\n",
      "-- Epoch 81\n",
      "Training MSE: 0.33163\n",
      "-- Epoch 82\n",
      "Training MSE: 0.33094\n",
      "-- Epoch 83\n",
      "Training MSE: 0.33024\n",
      "-- Epoch 84\n",
      "Training MSE: 0.32962\n",
      "-- Epoch 85\n",
      "Training MSE: 0.32892\n",
      "-- Epoch 86\n",
      "Training MSE: 0.32843\n",
      "-- Epoch 87\n",
      "Training MSE: 0.32785\n",
      "-- Epoch 88\n",
      "Training MSE: 0.32725\n",
      "-- Epoch 89\n",
      "Training MSE: 0.32683\n",
      "-- Epoch 90\n",
      "Training MSE: 0.32631\n",
      "-- Epoch 91\n",
      "Training MSE: 0.32587\n",
      "-- Epoch 92\n",
      "Training MSE: 0.32544\n",
      "-- Epoch 93\n",
      "Training MSE: 0.32500\n",
      "-- Epoch 94\n",
      "Training MSE: 0.32465\n",
      "-- Epoch 95\n",
      "Training MSE: 0.32426\n",
      "-- Epoch 96\n",
      "Training MSE: 0.32390\n",
      "-- Epoch 97\n",
      "Training MSE: 0.32364\n",
      "-- Epoch 98\n",
      "Training MSE: 0.32327\n",
      "-- Epoch 99\n",
      "Training MSE: 0.32304\n",
      "-- Epoch 100\n",
      "Training MSE: 0.32270\n"
     ]
    }
   ],
   "source": [
    "fm.fit(X_train,y_train)"
   ]
  },
  {
   "cell_type": "code",
   "execution_count": 15,
   "metadata": {},
   "outputs": [
    {
     "name": "stdout",
     "output_type": "stream",
     "text": [
      "FM MSE: 0.8857\n"
     ]
    }
   ],
   "source": [
    "# Evaluate\n",
    "preds = fm.predict(X_test)\n",
    "from sklearn.metrics import mean_squared_error\n",
    "print(\"FM MSE: %.4f\" % mean_squared_error(y_test,preds))"
   ]
  },
  {
   "cell_type": "code",
   "execution_count": 16,
   "metadata": {
    "collapsed": true
   },
   "outputs": [],
   "source": [
    "import pandas as pd"
   ]
  },
  {
   "cell_type": "code",
   "execution_count": 22,
   "metadata": {
    "collapsed": true
   },
   "outputs": [],
   "source": [
    "train_df = pd.DataFrame(train_data)"
   ]
  },
  {
   "cell_type": "code",
   "execution_count": 24,
   "metadata": {
    "collapsed": true
   },
   "outputs": [],
   "source": [
    "test_df = pd.DataFrame(test_data)"
   ]
  },
  {
   "cell_type": "code",
   "execution_count": 19,
   "metadata": {
    "collapsed": true
   },
   "outputs": [],
   "source": [
    "from sklearn.linear_model import LinearRegression"
   ]
  },
  {
   "cell_type": "code",
   "execution_count": 20,
   "metadata": {
    "collapsed": true
   },
   "outputs": [],
   "source": [
    "lr = LinearRegression()"
   ]
  },
  {
   "cell_type": "code",
   "execution_count": 23,
   "metadata": {},
   "outputs": [
    {
     "data": {
      "text/plain": [
       "LinearRegression(copy_X=True, fit_intercept=True, n_jobs=1, normalize=False)"
      ]
     },
     "execution_count": 23,
     "metadata": {},
     "output_type": "execute_result"
    }
   ],
   "source": [
    "lr.fit(train_df, y_train)"
   ]
  },
  {
   "cell_type": "code",
   "execution_count": 26,
   "metadata": {
    "collapsed": true
   },
   "outputs": [],
   "source": [
    "preds_lr = lr.predict(test_df)"
   ]
  },
  {
   "cell_type": "code",
   "execution_count": 27,
   "metadata": {},
   "outputs": [
    {
     "name": "stdout",
     "output_type": "stream",
     "text": [
      "FM MSE: 1.2285\n"
     ]
    }
   ],
   "source": [
    "print(\"FM MSE: %.4f\" % mean_squared_error(y_test,preds_lr))"
   ]
  },
  {
   "cell_type": "code",
   "execution_count": 29,
   "metadata": {
    "collapsed": true
   },
   "outputs": [],
   "source": [
    "from lightfm import LightFM"
   ]
  },
  {
   "cell_type": "code",
   "execution_count": 30,
   "metadata": {
    "collapsed": true
   },
   "outputs": [],
   "source": [
    "lfm = LightFM(loss='warp')"
   ]
  },
  {
   "cell_type": "code",
   "execution_count": 31,
   "metadata": {
    "collapsed": true
   },
   "outputs": [],
   "source": [
    "from lightfm.datasets import fetch_movielens\n",
    "from lightfm.evaluation import precision_at_k\n",
    "\n",
    "# Load the MovieLens 100k dataset. Only five\n",
    "# star ratings are treated as positive.\n",
    "data = fetch_movielens(min_rating=5.0)"
   ]
  },
  {
   "cell_type": "code",
   "execution_count": 35,
   "metadata": {},
   "outputs": [
    {
     "data": {
      "text/plain": [
       "(5,\n",
       " dict,\n",
       " dict_keys(['train', 'test', 'item_features', 'item_feature_labels', 'item_labels']))"
      ]
     },
     "execution_count": 35,
     "metadata": {},
     "output_type": "execute_result"
    }
   ],
   "source": [
    "len(data), type(data), data.keys()"
   ]
  },
  {
   "cell_type": "code",
   "execution_count": 34,
   "metadata": {},
   "outputs": [
    {
     "data": {
      "text/plain": [
       "<943x1682 sparse matrix of type '<class 'numpy.int32'>'\n",
       "\twith 19048 stored elements in COOrdinate format>"
      ]
     },
     "execution_count": 34,
     "metadata": {},
     "output_type": "execute_result"
    }
   ],
   "source": [
    "data['train']"
   ]
  },
  {
   "cell_type": "code",
   "execution_count": 37,
   "metadata": {},
   "outputs": [
    {
     "data": {
      "text/plain": [
       "array(<943x1682 sparse matrix of type '<class 'numpy.int32'>'\n",
       "\twith 2153 stored elements in COOrdinate format>, dtype=object)"
      ]
     },
     "execution_count": 37,
     "metadata": {},
     "output_type": "execute_result"
    }
   ],
   "source": [
    "np.array(data['test'])"
   ]
  },
  {
   "cell_type": "code",
   "execution_count": 38,
   "metadata": {
    "collapsed": true
   },
   "outputs": [],
   "source": [
    "model = LightFM(loss='warp')\n",
    "model.fit(data['train'], epochs=30, num_threads=2)\n",
    "\n",
    "# Evaluate the trained model\n",
    "test_precision = precision_at_k(model, data['test'], k=5).mean()"
   ]
  },
  {
   "cell_type": "code",
   "execution_count": 39,
   "metadata": {},
   "outputs": [
    {
     "data": {
      "text/plain": [
       "0.049141344"
      ]
     },
     "execution_count": 39,
     "metadata": {},
     "output_type": "execute_result"
    }
   ],
   "source": [
    "test_precision"
   ]
  },
  {
   "cell_type": "code",
   "execution_count": null,
   "metadata": {
    "collapsed": true
   },
   "outputs": [],
   "source": []
  },
  {
   "cell_type": "code",
   "execution_count": null,
   "metadata": {
    "collapsed": true
   },
   "outputs": [],
   "source": []
  },
  {
   "cell_type": "code",
   "execution_count": null,
   "metadata": {
    "collapsed": true
   },
   "outputs": [],
   "source": []
  },
  {
   "cell_type": "code",
   "execution_count": null,
   "metadata": {
    "collapsed": true
   },
   "outputs": [],
   "source": []
  }
 ],
 "metadata": {
  "kernelspec": {
   "display_name": "Python 3",
   "language": "python",
   "name": "python3"
  },
  "language_info": {
   "codemirror_mode": {
    "name": "ipython",
    "version": 3
   },
   "file_extension": ".py",
   "mimetype": "text/x-python",
   "name": "python",
   "nbconvert_exporter": "python",
   "pygments_lexer": "ipython3",
   "version": "3.6.3"
  }
 },
 "nbformat": 4,
 "nbformat_minor": 2
}
