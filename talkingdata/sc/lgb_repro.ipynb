{
 "cells": [
  {
   "cell_type": "code",
   "execution_count": 1,
   "metadata": {
    "collapsed": true
   },
   "outputs": [],
   "source": [
    "\"\"\"\n",
    "A non-blending lightGBM model that incorporates portions and ideas from various public kernels.\n",
    "\"\"\"\n",
    "DEBUG = False\n",
    "VAL_RUN = False\n",
    "WHERE = 'kaggle'\n",
    "import time\n",
    "FILENO = str(int(time.time()))[3:]\n",
    "NCHUNK = 32000000\n",
    "OFFSET = 75000000\n",
    "\n",
    "MISSING32 = 999999999\n",
    "MISSING8 = 255\n",
    "PUBLIC_CUTOFF = 4032690\n",
    "\n",
    "if WHERE=='kaggle':\n",
    "\tinpath = '/home/kai/data/kaggle/talkingdata/data/'\n",
    "\tpickle_path ='/home/kai/data/kaggle/talkingdata/data/training-and-validation-data-pickle/'\n",
    "\tsuffix = ''\n",
    "\toutpath = ''\n",
    "\tsavepath = ''\n",
    "\toofpath = ''\n",
    "\tcores = 4\n",
    "elif WHERE=='oof':\n",
    "\tinpath = '/home/kai/data/kaggle/talkingdata/data/'\n",
    "\tpickle_path = '/home/kai/data/kaggle/talkingdata/data/training-and-validation-data-pickle/'\n",
    "\tsuffix = '.zip'\n",
    "\toutpath = '/home/kai/data/kaggle/talkingdata/data/training-and-validation-data-pickle/sub/'\n",
    "\toofpath = '/home/kai/data/kaggle/talkingdata/data/training-and-validation-data-pickle/oof/'\n",
    "\tsavepath = '/home/kai/data/kaggle/talkingdata/data/training-and-validation-data-pickle/save'\n",
    "\tcores = 7"
   ]
  },
  {
   "cell_type": "code",
   "execution_count": 2,
   "metadata": {
    "collapsed": true
   },
   "outputs": [],
   "source": [
    "import pandas as pd\n",
    "import time\n",
    "import numpy as np\n",
    "from sklearn.model_selection import train_test_split\n",
    "from sklearn.metrics import roc_auc_score\n",
    "import lightgbm as lgb\n",
    "import gc\n",
    "import matplotlib.pyplot as plt\n",
    "import os"
   ]
  },
  {
   "cell_type": "code",
   "execution_count": 3,
   "metadata": {
    "collapsed": true
   },
   "outputs": [],
   "source": [
    "def do_count( df, group_cols, agg_name, agg_type='uint32', show_max=False, show_agg=True ):\n",
    "    if show_agg:\n",
    "        print( \"Aggregating by \", group_cols , '...' )\n",
    "    gp = df[group_cols][group_cols].groupby(group_cols).size().rename(agg_name).to_frame().reset_index()\n",
    "    df = df.merge(gp, on=group_cols, how='left')\n",
    "    del gp\n",
    "    if show_max:\n",
    "        print( agg_name + \" max value = \", df[agg_name].max() )\n",
    "    df[agg_name] = df[agg_name].astype(agg_type)\n",
    "    gc.collect()\n",
    "    return( df )\n",
    "\n",
    "def do_countuniq( df, group_cols, counted, agg_name, agg_type='uint32', show_max=False, show_agg=True ):\n",
    "    if show_agg:\n",
    "        print( \"Counting unqiue \", counted, \" by \", group_cols , '...' )\n",
    "    gp = df[group_cols+[counted]].groupby(group_cols)[counted].nunique().reset_index().rename(columns={counted:agg_name})\n",
    "    df = df.merge(gp, on=group_cols, how='left')\n",
    "    del gp\n",
    "    if show_max:\n",
    "        print( agg_name + \" max value = \", df[agg_name].max() )\n",
    "    df[agg_name] = df[agg_name].astype(agg_type)\n",
    "    gc.collect()\n",
    "    return( df )\n",
    "    \n",
    "def do_cumcount( df, group_cols, counted, agg_name, agg_type='uint32', show_max=False, show_agg=True ):\n",
    "    if show_agg:\n",
    "        print( \"Cumulative count by \", group_cols , '...' )\n",
    "    gp = df[group_cols+[counted]].groupby(group_cols)[counted].cumcount()\n",
    "    df[agg_name]=gp.values\n",
    "    del gp\n",
    "    if show_max:\n",
    "        print( agg_name + \" max value = \", df[agg_name].max() )\n",
    "    df[agg_name] = df[agg_name].astype(agg_type)\n",
    "    gc.collect()\n",
    "    return( df )\n",
    "\n",
    "def do_mean( df, group_cols, counted, agg_name, agg_type='float32', show_max=False, show_agg=True ):\n",
    "    if show_agg:\n",
    "        print( \"Calculating mean of \", counted, \" by \", group_cols , '...' )\n",
    "    gp = df[group_cols+[counted]].groupby(group_cols)[counted].mean().reset_index().rename(columns={counted:agg_name})\n",
    "    df = df.merge(gp, on=group_cols, how='left')\n",
    "    del gp\n",
    "    if show_max:\n",
    "        print( agg_name + \" max value = \", df[agg_name].max() )\n",
    "    df[agg_name] = df[agg_name].astype(agg_type)\n",
    "    gc.collect()\n",
    "    return( df )\n",
    "\n",
    "def do_var( df, group_cols, counted, agg_name, agg_type='float32', show_max=False, show_agg=True ):\n",
    "    if show_agg:\n",
    "        print( \"Calculating variance of \", counted, \" by \", group_cols , '...' )\n",
    "    gp = df[group_cols+[counted]].groupby(group_cols)[counted].var().reset_index().rename(columns={counted:agg_name})\n",
    "    df = df.merge(gp, on=group_cols, how='left')\n",
    "    del gp\n",
    "    if show_max:\n",
    "        print( agg_name + \" max value = \", df[agg_name].max() )\n",
    "    df[agg_name] = df[agg_name].astype(agg_type)\n",
    "    gc.collect()\n",
    "    return( df )"
   ]
  },
  {
   "cell_type": "code",
   "execution_count": 4,
   "metadata": {
    "collapsed": true
   },
   "outputs": [],
   "source": [
    "debug = DEBUG\n",
    "if debug:\n",
    "    print('*** debug parameter set: this is a test run for debugging purposes ***')\n",
    "\n",
    "    \n",
    "if VAL_RUN:\n",
    "    nrows=122071522\n",
    "    outpath = oofpath\n",
    "else:\n",
    "    nrows=184903890\n",
    "nchunk=NCHUNK\n",
    "val_size=2500000\n",
    "frm=nrows-OFFSET\n",
    "if debug:\n",
    "    frm=0\n",
    "    nchunk=100000\n",
    "    val_size=10000\n",
    "to=frm+nchunk\n",
    "fileno = FILENO"
   ]
  },
  {
   "cell_type": "code",
   "execution_count": 5,
   "metadata": {
    "collapsed": true
   },
   "outputs": [],
   "source": [
    "dtypes = {\n",
    "        'ip'            : 'uint32',\n",
    "        'app'           : 'uint16',\n",
    "        'device'        : 'uint16',\n",
    "        'os'            : 'uint16',\n",
    "        'channel'       : 'uint16',\n",
    "        'is_attributed' : 'uint8',\n",
    "        'click_id'      : 'uint32',\n",
    "        }\n"
   ]
  },
  {
   "cell_type": "code",
   "execution_count": 6,
   "metadata": {},
   "outputs": [
    {
     "name": "stdout",
     "output_type": "stream",
     "text": [
      "loading train data... 109903890 141903890\n",
      "loading test data...\n"
     ]
    }
   ],
   "source": [
    "if VAL_RUN:\n",
    "    print('loading train data...',frm,to)\n",
    "    train_df = pd.read_pickle( pickle_path+\"training.pkl.gz\" )[frm:to]\n",
    "    train_df['click_time'] = pd.to_datetime( train_df.click_time )\n",
    "    print('loading test data...')\n",
    "    if debug:\n",
    "        public_cutoff = 10000\n",
    "        test_df = pd.read_pickle( pickle_path+\"validation.pkl.gz\" )[:30000]\n",
    "        test_df['click_time'] = pd.to_datetime( test_df.click_time )\n",
    "        y_test = test_df['is_attributed'].values\n",
    "        test_df.drop(['is_attributed'],axis=1,inplace=True)\n",
    "    else:\n",
    "        public_cutoff = PUBLIC_CUTOFF\n",
    "        test_df = pd.read_pickle( pickle_path+\"validation.pkl.gz\" )\n",
    "        test_df['click_time'] = pd.to_datetime( test_df.click_time )\n",
    "        y_test = test_df['is_attributed'].values\n",
    "        test_df.drop(['is_attributed'],axis=1,inplace=True)\n",
    "else:\n",
    "    print('loading train data...',frm,to)\n",
    "    train_df = pd.read_csv(inpath+\"train.csv\", parse_dates=['click_time'], skiprows=range(1,frm), nrows=to-frm, dtype=dtypes, usecols=['ip','app','device','os', 'channel', 'click_time', 'is_attributed'])\n",
    "    print('loading test data...')\n",
    "    if debug:\n",
    "        test_df = pd.read_csv(inpath+\"test.csv\", nrows=100000, parse_dates=['click_time'], dtype=dtypes, usecols=['ip','app','device','os', 'channel', 'click_time', 'click_id'])\n",
    "    else:\n",
    "        test_df = pd.read_csv(inpath+\"test.csv\", parse_dates=['click_time'], dtype=dtypes, usecols=['ip','app','device','os', 'channel', 'click_time', 'click_id'])\n",
    "    train_df['click_id'] = MISSING32\n",
    "    train_df['click_id'] = train_df.click_id.astype('uint32')"
   ]
  },
  {
   "cell_type": "code",
   "execution_count": 7,
   "metadata": {},
   "outputs": [
    {
     "data": {
      "text/plain": [
       "((32000000, 8), (18790469, 7))"
      ]
     },
     "execution_count": 7,
     "metadata": {},
     "output_type": "execute_result"
    }
   ],
   "source": [
    "train_df.shape, test_df.shape"
   ]
  },
  {
   "cell_type": "code",
   "execution_count": 8,
   "metadata": {},
   "outputs": [
    {
     "data": {
      "text/html": [
       "<div>\n",
       "<style>\n",
       "    .dataframe thead tr:only-child th {\n",
       "        text-align: right;\n",
       "    }\n",
       "\n",
       "    .dataframe thead th {\n",
       "        text-align: left;\n",
       "    }\n",
       "\n",
       "    .dataframe tbody tr th {\n",
       "        vertical-align: top;\n",
       "    }\n",
       "</style>\n",
       "<table border=\"1\" class=\"dataframe\">\n",
       "  <thead>\n",
       "    <tr style=\"text-align: right;\">\n",
       "      <th></th>\n",
       "      <th>ip</th>\n",
       "      <th>app</th>\n",
       "      <th>device</th>\n",
       "      <th>os</th>\n",
       "      <th>channel</th>\n",
       "      <th>click_time</th>\n",
       "      <th>is_attributed</th>\n",
       "      <th>click_id</th>\n",
       "    </tr>\n",
       "  </thead>\n",
       "  <tbody>\n",
       "    <tr>\n",
       "      <th>0</th>\n",
       "      <td>103202</td>\n",
       "      <td>23</td>\n",
       "      <td>1</td>\n",
       "      <td>16</td>\n",
       "      <td>153</td>\n",
       "      <td>2017-11-08 12:33:34</td>\n",
       "      <td>0</td>\n",
       "      <td>999999999</td>\n",
       "    </tr>\n",
       "    <tr>\n",
       "      <th>1</th>\n",
       "      <td>143414</td>\n",
       "      <td>3</td>\n",
       "      <td>1</td>\n",
       "      <td>19</td>\n",
       "      <td>280</td>\n",
       "      <td>2017-11-08 12:33:34</td>\n",
       "      <td>0</td>\n",
       "      <td>999999999</td>\n",
       "    </tr>\n",
       "    <tr>\n",
       "      <th>2</th>\n",
       "      <td>173096</td>\n",
       "      <td>12</td>\n",
       "      <td>1</td>\n",
       "      <td>17</td>\n",
       "      <td>178</td>\n",
       "      <td>2017-11-08 12:33:34</td>\n",
       "      <td>0</td>\n",
       "      <td>999999999</td>\n",
       "    </tr>\n",
       "    <tr>\n",
       "      <th>3</th>\n",
       "      <td>8210</td>\n",
       "      <td>3</td>\n",
       "      <td>1</td>\n",
       "      <td>42</td>\n",
       "      <td>280</td>\n",
       "      <td>2017-11-08 12:33:34</td>\n",
       "      <td>0</td>\n",
       "      <td>999999999</td>\n",
       "    </tr>\n",
       "    <tr>\n",
       "      <th>4</th>\n",
       "      <td>5746</td>\n",
       "      <td>3</td>\n",
       "      <td>1</td>\n",
       "      <td>19</td>\n",
       "      <td>130</td>\n",
       "      <td>2017-11-08 12:33:34</td>\n",
       "      <td>0</td>\n",
       "      <td>999999999</td>\n",
       "    </tr>\n",
       "  </tbody>\n",
       "</table>\n",
       "</div>"
      ],
      "text/plain": [
       "       ip  app  device  os  channel          click_time  is_attributed  \\\n",
       "0  103202   23       1  16      153 2017-11-08 12:33:34              0   \n",
       "1  143414    3       1  19      280 2017-11-08 12:33:34              0   \n",
       "2  173096   12       1  17      178 2017-11-08 12:33:34              0   \n",
       "3    8210    3       1  42      280 2017-11-08 12:33:34              0   \n",
       "4    5746    3       1  19      130 2017-11-08 12:33:34              0   \n",
       "\n",
       "    click_id  \n",
       "0  999999999  \n",
       "1  999999999  \n",
       "2  999999999  \n",
       "3  999999999  \n",
       "4  999999999  "
      ]
     },
     "execution_count": 8,
     "metadata": {},
     "output_type": "execute_result"
    }
   ],
   "source": [
    "train_df.head()"
   ]
  },
  {
   "cell_type": "code",
   "execution_count": 9,
   "metadata": {},
   "outputs": [
    {
     "data": {
      "text/html": [
       "<div>\n",
       "<style>\n",
       "    .dataframe thead tr:only-child th {\n",
       "        text-align: right;\n",
       "    }\n",
       "\n",
       "    .dataframe thead th {\n",
       "        text-align: left;\n",
       "    }\n",
       "\n",
       "    .dataframe tbody tr th {\n",
       "        vertical-align: top;\n",
       "    }\n",
       "</style>\n",
       "<table border=\"1\" class=\"dataframe\">\n",
       "  <thead>\n",
       "    <tr style=\"text-align: right;\">\n",
       "      <th></th>\n",
       "      <th>ip</th>\n",
       "      <th>app</th>\n",
       "      <th>device</th>\n",
       "      <th>os</th>\n",
       "      <th>channel</th>\n",
       "      <th>click_time</th>\n",
       "      <th>is_attributed</th>\n",
       "      <th>click_id</th>\n",
       "    </tr>\n",
       "  </thead>\n",
       "  <tbody>\n",
       "    <tr>\n",
       "      <th>31999995</th>\n",
       "      <td>25119</td>\n",
       "      <td>26</td>\n",
       "      <td>1</td>\n",
       "      <td>6</td>\n",
       "      <td>477</td>\n",
       "      <td>2017-11-09 03:10:17</td>\n",
       "      <td>0</td>\n",
       "      <td>999999999</td>\n",
       "    </tr>\n",
       "    <tr>\n",
       "      <th>31999996</th>\n",
       "      <td>44144</td>\n",
       "      <td>3</td>\n",
       "      <td>1</td>\n",
       "      <td>13</td>\n",
       "      <td>280</td>\n",
       "      <td>2017-11-09 03:10:17</td>\n",
       "      <td>0</td>\n",
       "      <td>999999999</td>\n",
       "    </tr>\n",
       "    <tr>\n",
       "      <th>31999997</th>\n",
       "      <td>42197</td>\n",
       "      <td>12</td>\n",
       "      <td>1</td>\n",
       "      <td>13</td>\n",
       "      <td>178</td>\n",
       "      <td>2017-11-09 03:10:17</td>\n",
       "      <td>0</td>\n",
       "      <td>999999999</td>\n",
       "    </tr>\n",
       "    <tr>\n",
       "      <th>31999998</th>\n",
       "      <td>324148</td>\n",
       "      <td>1</td>\n",
       "      <td>1</td>\n",
       "      <td>17</td>\n",
       "      <td>377</td>\n",
       "      <td>2017-11-09 03:10:17</td>\n",
       "      <td>0</td>\n",
       "      <td>999999999</td>\n",
       "    </tr>\n",
       "    <tr>\n",
       "      <th>31999999</th>\n",
       "      <td>96017</td>\n",
       "      <td>2</td>\n",
       "      <td>1</td>\n",
       "      <td>19</td>\n",
       "      <td>237</td>\n",
       "      <td>2017-11-09 03:10:17</td>\n",
       "      <td>0</td>\n",
       "      <td>999999999</td>\n",
       "    </tr>\n",
       "  </tbody>\n",
       "</table>\n",
       "</div>"
      ],
      "text/plain": [
       "              ip  app  device  os  channel          click_time  is_attributed  \\\n",
       "31999995   25119   26       1   6      477 2017-11-09 03:10:17              0   \n",
       "31999996   44144    3       1  13      280 2017-11-09 03:10:17              0   \n",
       "31999997   42197   12       1  13      178 2017-11-09 03:10:17              0   \n",
       "31999998  324148    1       1  17      377 2017-11-09 03:10:17              0   \n",
       "31999999   96017    2       1  19      237 2017-11-09 03:10:17              0   \n",
       "\n",
       "           click_id  \n",
       "31999995  999999999  \n",
       "31999996  999999999  \n",
       "31999997  999999999  \n",
       "31999998  999999999  \n",
       "31999999  999999999  "
      ]
     },
     "execution_count": 9,
     "metadata": {},
     "output_type": "execute_result"
    }
   ],
   "source": [
    "train_df.tail()"
   ]
  },
  {
   "cell_type": "code",
   "execution_count": 10,
   "metadata": {
    "collapsed": true
   },
   "outputs": [],
   "source": [
    "len_train = len(train_df)\n",
    "test_df['is_attributed'] = MISSING8\n",
    "test_df['is_attributed'] = test_df.is_attributed.astype('uint8')\n",
    "train_df=train_df.append(test_df)"
   ]
  },
  {
   "cell_type": "code",
   "execution_count": 11,
   "metadata": {},
   "outputs": [
    {
     "data": {
      "text/plain": [
       "50790469"
      ]
     },
     "execution_count": 11,
     "metadata": {},
     "output_type": "execute_result"
    }
   ],
   "source": [
    "len(train_df)"
   ]
  },
  {
   "cell_type": "code",
   "execution_count": 12,
   "metadata": {},
   "outputs": [
    {
     "data": {
      "text/plain": [
       "36"
      ]
     },
     "execution_count": 12,
     "metadata": {},
     "output_type": "execute_result"
    }
   ],
   "source": [
    "del test_df\n",
    "gc.collect()"
   ]
  },
  {
   "cell_type": "code",
   "execution_count": 13,
   "metadata": {},
   "outputs": [
    {
     "name": "stdout",
     "output_type": "stream",
     "text": [
      "Extracting new features...\n"
     ]
    }
   ],
   "source": [
    "print('Extracting new features...')\n",
    "train_df['hour'] = pd.to_datetime(train_df.click_time).dt.hour.astype('uint8')\n",
    "train_df['day'] = pd.to_datetime(train_df.click_time).dt.day.astype('uint8')"
   ]
  },
  {
   "cell_type": "code",
   "execution_count": 14,
   "metadata": {},
   "outputs": [
    {
     "name": "stdout",
     "output_type": "stream",
     "text": [
      "Extracting aggregation features...\n",
      "Cumulative count by  ['ip', 'device', 'os'] ...\n",
      "X1 max value =  74868\n",
      "Cumulative count by  ['ip'] ...\n",
      "X7 max value =  370483\n",
      "Counting unqiue  channel  by  ['ip'] ...\n",
      "X0 max value =  130\n",
      "Counting unqiue  hour  by  ['ip', 'day'] ...\n",
      "X2 max value =  12\n",
      "Counting unqiue  app  by  ['ip'] ...\n",
      "X3 max value =  202\n",
      "Counting unqiue  os  by  ['ip', 'app'] ...\n",
      "X4 max value =  115\n",
      "Counting unqiue  device  by  ['ip'] ...\n",
      "X5 max value =  279\n",
      "Counting unqiue  channel  by  ['app'] ...\n",
      "X6 max value =  43\n",
      "Counting unqiue  app  by  ['ip', 'device', 'os'] ...\n",
      "X8 max value =  78\n",
      "Aggregating by  ['ip', 'day', 'hour'] ...\n",
      "ip_tcount max value =  40231\n",
      "Aggregating by  ['ip', 'app'] ...\n",
      "ip_app_count max value =  61543\n",
      "Aggregating by  ['ip', 'app', 'os'] ...\n",
      "ip_app_os_count max value =  15946\n",
      "Calculating variance of  hour  by  ['ip', 'day', 'channel'] ...\n",
      "ip_tchan_count max value =  60.5\n",
      "Calculating variance of  hour  by  ['ip', 'app', 'os'] ...\n",
      "ip_app_os_var max value =  264.5\n",
      "Calculating variance of  day  by  ['ip', 'app', 'channel'] ...\n",
      "ip_app_channel_var_day max value =  2.0\n",
      "Calculating mean of  hour  by  ['ip', 'app', 'channel'] ...\n",
      "ip_app_channel_mean_hour max value =  23.0\n"
     ]
    },
    {
     "data": {
      "text/plain": [
       "56"
      ]
     },
     "execution_count": 14,
     "metadata": {},
     "output_type": "execute_result"
    }
   ],
   "source": [
    "print('Extracting aggregation features...')\n",
    "train_df = do_cumcount( train_df, ['ip', 'device', 'os'], 'app', 'X1', show_max=True ); gc.collect()\n",
    "train_df = do_cumcount( train_df, ['ip'], 'os', 'X7', show_max=True ); gc.collect()\n",
    "train_df = do_countuniq( train_df, ['ip'], 'channel', 'X0', 'uint8', show_max=True ); gc.collect()\n",
    "train_df = do_countuniq( train_df, ['ip', 'day'], 'hour', 'X2', 'uint8', show_max=True ); gc.collect()\n",
    "train_df = do_countuniq( train_df, ['ip'], 'app', 'X3', 'uint8', show_max=True ); gc.collect()\n",
    "train_df = do_countuniq( train_df, ['ip', 'app'], 'os', 'X4', 'uint8', show_max=True ); gc.collect()\n",
    "train_df = do_countuniq( train_df, ['ip'], 'device', 'X5', 'uint16', show_max=True ); gc.collect()\n",
    "train_df = do_countuniq( train_df, ['app'], 'channel', 'X6', show_max=True ); gc.collect()\n",
    "train_df = do_countuniq( train_df, ['ip', 'device', 'os'], 'app', 'X8', show_max=True ); gc.collect()\n",
    "train_df = do_count( train_df, ['ip', 'day', 'hour'], 'ip_tcount', show_max=True ); gc.collect()\n",
    "train_df = do_count( train_df, ['ip', 'app'], 'ip_app_count', show_max=True ); gc.collect()\n",
    "train_df = do_count( train_df, ['ip', 'app', 'os'], 'ip_app_os_count', 'uint16', show_max=True ); gc.collect()\n",
    "train_df = do_var( train_df, ['ip', 'day', 'channel'], 'hour', 'ip_tchan_count', show_max=True ); gc.collect()\n",
    "train_df = do_var( train_df, ['ip', 'app', 'os'], 'hour', 'ip_app_os_var', show_max=True ); gc.collect()\n",
    "train_df = do_var( train_df, ['ip', 'app', 'channel'], 'day', 'ip_app_channel_var_day', show_max=True ); gc.collect()\n",
    "train_df = do_mean( train_df, ['ip', 'app', 'channel'], 'hour', 'ip_app_channel_mean_hour', show_max=True ); gc.collect()"
   ]
  },
  {
   "cell_type": "code",
   "execution_count": 15,
   "metadata": {},
   "outputs": [
    {
     "name": "stdout",
     "output_type": "stream",
     "text": [
      "Doing nextClick...\n"
     ]
    },
    {
     "data": {
      "text/plain": [
       "57"
      ]
     },
     "execution_count": 15,
     "metadata": {},
     "output_type": "execute_result"
    }
   ],
   "source": [
    "print('Doing nextClick...')\n",
    "predictors=[]\n",
    "new_feature = 'nextClick'\n",
    "D=2**26\n",
    "train_df['category'] = (train_df['ip'].astype(str) + \"_\" + train_df['app'].astype(str) + \"_\" + train_df['device'].astype(str) \\\n",
    "        + \"_\" + train_df['os'].astype(str)).apply(hash) % D\n",
    "click_buffer= np.full(D, 3000000000, dtype=np.uint32)\n",
    "train_df['epochtime']= train_df['click_time'].astype(np.int64) // 10 ** 9\n",
    "next_clicks= []\n",
    "for category, t in zip(reversed(train_df['category'].values), reversed(train_df['epochtime'].values)):\n",
    "    next_clicks.append(click_buffer[category]-t)\n",
    "    click_buffer[category]= t\n",
    "del(click_buffer)\n",
    "QQ= list(reversed(next_clicks))\n",
    "train_df.drop(['epochtime','category','click_time'], axis=1, inplace=True)\n",
    "train_df[new_feature] = pd.Series(QQ).astype('float32')\n",
    "predictors.append(new_feature)\n",
    "train_df[new_feature+'_shift'] = train_df[new_feature].shift(+1).values\n",
    "predictors.append(new_feature+'_shift')\n",
    "del QQ, next_clicks\n",
    "gc.collect()"
   ]
  },
  {
   "cell_type": "code",
   "execution_count": 16,
   "metadata": {},
   "outputs": [
    {
     "data": {
      "text/plain": [
       "(50790469, 27)"
      ]
     },
     "execution_count": 16,
     "metadata": {},
     "output_type": "execute_result"
    }
   ],
   "source": [
    "train_df.shape"
   ]
  },
  {
   "cell_type": "code",
   "execution_count": 17,
   "metadata": {},
   "outputs": [
    {
     "name": "stdout",
     "output_type": "stream",
     "text": [
      "vars and data type: \n",
      "<class 'pandas.core.frame.DataFrame'>\n",
      "Int64Index: 50790469 entries, 0 to 50790468\n",
      "Data columns (total 27 columns):\n",
      "app                         uint16\n",
      "channel                     uint16\n",
      "click_id                    uint32\n",
      "device                      uint16\n",
      "ip                          uint32\n",
      "is_attributed               uint8\n",
      "os                          uint16\n",
      "hour                        uint8\n",
      "day                         uint8\n",
      "X1                          uint32\n",
      "X7                          uint32\n",
      "X0                          uint8\n",
      "X2                          uint8\n",
      "X3                          uint8\n",
      "X4                          uint8\n",
      "X5                          uint16\n",
      "X6                          uint32\n",
      "X8                          uint32\n",
      "ip_tcount                   uint32\n",
      "ip_app_count                uint32\n",
      "ip_app_os_count             uint16\n",
      "ip_tchan_count              float32\n",
      "ip_app_os_var               float32\n",
      "ip_app_channel_var_day      float32\n",
      "ip_app_channel_mean_hour    float32\n",
      "nextClick                   float32\n",
      "nextClick_shift             float32\n",
      "dtypes: float32(6), uint16(6), uint32(8), uint8(7)\n",
      "memory usage: 3.9 GB\n",
      "predictors ['nextClick', 'nextClick_shift', 'app', 'device', 'os', 'channel', 'hour', 'day', 'ip_tcount', 'ip_tchan_count', 'ip_app_count', 'ip_app_os_count', 'ip_app_os_var', 'ip_app_channel_var_day', 'ip_app_channel_mean_hour', 'X0', 'X1', 'X2', 'X3', 'X4', 'X5', 'X6', 'X7', 'X8']\n"
     ]
    }
   ],
   "source": [
    "print(\"vars and data type: \")\n",
    "train_df.info()\n",
    "train_df['ip_tcount'] = train_df['ip_tcount'].astype('uint16')\n",
    "train_df['ip_app_count'] = train_df['ip_app_count'].astype('uint16')\n",
    "train_df['ip_app_os_count'] = train_df['ip_app_os_count'].astype('uint16')\n",
    "\n",
    "target = 'is_attributed'\n",
    "predictors.extend(['app','device','os', 'channel', 'hour', 'day',\n",
    "              'ip_tcount', 'ip_tchan_count', 'ip_app_count',\n",
    "              'ip_app_os_count', 'ip_app_os_var',\n",
    "              'ip_app_channel_var_day','ip_app_channel_mean_hour',\n",
    "              'X0', 'X1', 'X2', 'X3', 'X4', 'X5', 'X6', 'X7', 'X8'])\n",
    "categorical = ['app', 'device', 'os', 'channel', 'hour', 'day']\n",
    "print('predictors',predictors)"
   ]
  },
  {
   "cell_type": "code",
   "execution_count": 18,
   "metadata": {},
   "outputs": [
    {
     "data": {
      "text/plain": [
       "2500000"
      ]
     },
     "execution_count": 18,
     "metadata": {},
     "output_type": "execute_result"
    }
   ],
   "source": [
    "val_size"
   ]
  },
  {
   "cell_type": "code",
   "execution_count": 19,
   "metadata": {},
   "outputs": [
    {
     "name": "stdout",
     "output_type": "stream",
     "text": [
      "train size:  29500000\n",
      "valid size:  2500000\n",
      "test size :  18790469\n"
     ]
    }
   ],
   "source": [
    "test_df = train_df[len_train:]\n",
    "val_df = train_df[(len_train-val_size):len_train]\n",
    "train_df = train_df[:(len_train-val_size)]\n",
    "\n",
    "print(\"train size: \", len(train_df))\n",
    "print(\"valid size: \", len(val_df))\n",
    "print(\"test size : \", len(test_df))"
   ]
  },
  {
   "cell_type": "markdown",
   "metadata": {},
   "source": [
    "test_df.to_pickle('test.pkl.gz')\n",
    "del test_df\n",
    "gc.collect()"
   ]
  },
  {
   "cell_type": "code",
   "execution_count": 20,
   "metadata": {},
   "outputs": [
    {
     "name": "stdout",
     "output_type": "stream",
     "text": [
      "Training...\n"
     ]
    }
   ],
   "source": [
    "print(\"Training...\")\n",
    "start_time = time.time()\n",
    "\n",
    "objective='binary' \n",
    "metrics='auc'\n",
    "early_stopping_rounds=30 \n",
    "verbose_eval=True \n",
    "num_boost_round=1000\n",
    "categorical_features=categorical\n",
    "lgb_params = {\n",
    "    'boosting_type': 'gbdt',\n",
    "    'objective': objective,\n",
    "    'metric':metrics,\n",
    "    'learning_rate': 0.10,\n",
    "    #'is_unbalance': 'true', # replaced with scale_pos_weight argument\n",
    "    'num_leaves': 7,  # 2^max_depth - 1\n",
    "    'max_depth': 3,  # -1 means no limit\n",
    "    'min_child_samples': 100,  # Minimum number of data need in a child(min_data_in_leaf)\n",
    "    'max_bin': 100,  # Number of bucketed bin for feature values\n",
    "    'subsample': 0.7,  # Subsample ratio of the training instance.\n",
    "    'subsample_freq': 1,  # frequence of subsample, <=0 means no enable\n",
    "    'colsample_bytree': 0.9,  # Subsample ratio of columns when constructing each tree.\n",
    "    'min_child_weight': 0,  # Minimum sum of instance weight(hessian) needed in a child(leaf)\n",
    "    'scale_pos_weight':200, # because training data is extremely unbalanced \n",
    "    'subsample_for_bin': 200000,  # Number of samples for constructing bin\n",
    "    'min_split_gain': 0,  # lambda_l1, lambda_l2 and min_gain_to_split to regularization\n",
    "    'reg_alpha': 0,  # L1 regularization term on weights\n",
    "    'reg_lambda': 0,  # L2 regularization term on weights\n",
    "    'nthread': cores,\n",
    "    'verbose': 0,\n",
    "    'metric':metrics\n",
    "}\n"
   ]
  },
  {
   "cell_type": "code",
   "execution_count": 21,
   "metadata": {},
   "outputs": [
    {
     "name": "stdout",
     "output_type": "stream",
     "text": [
      "preparing validation datasets\n",
      "      nextClick  nextClick_shift  app  device  os  channel  hour  day  \\\n",
      "0  1.489856e+09              NaN   23       1  16      153    12    8   \n",
      "1  8.400000e+01     1.489856e+09    3       1  19      280    12    8   \n",
      "2  3.400000e+01     8.400000e+01   12       1  17      178    12    8   \n",
      "3  4.400000e+01     3.400000e+01    3       1  42      280    12    8   \n",
      "4  4.100000e+01     4.400000e+01    3       1  19      130    12    8   \n",
      "\n",
      "   ip_tcount  ip_tchan_count ...  ip_app_channel_mean_hour  X0  X1  X2  X3  \\\n",
      "0          9             NaN ...                  8.461538  66   0   4  23   \n",
      "1         43        7.364437 ...                  9.041667  77   0  11  28   \n",
      "2         18             NaN ...                 12.000000  25   0   4  16   \n",
      "3         42        7.923695 ...                 10.965517  87   0  12  38   \n",
      "4         19       22.700001 ...                 15.142858  80   0  11  29   \n",
      "\n",
      "   X4  X5  X6  X7  X8  \n",
      "0   5   2   7   0   9  \n",
      "1  25   3  43   0  16  \n",
      "2  10   1  31   0   2  \n",
      "3  37   7  43   0   2  \n",
      "4  21   2  43   0  23  \n",
      "\n",
      "[5 rows x 24 columns]\n",
      "0    0\n",
      "1    0\n",
      "2    0\n",
      "3    0\n",
      "4    0\n",
      "Name: is_attributed, dtype: uint8\n",
      "             nextClick  nextClick_shift  app  device  os  channel  hour  day  \\\n",
      "29500000  2.530000e+02     9.270000e+02    2       1  16      236     2    9   \n",
      "29500001  9.451700e+04     2.530000e+02   15       1  10      245     2    9   \n",
      "29500002  1.489806e+09     9.451700e+04    3       1  16      173     2    9   \n",
      "29500003  7.300000e+01     1.489806e+09    3       1  13      280     2    9   \n",
      "29500004  9.273200e+04     7.300000e+01    9       1  13      489     2    9   \n",
      "\n",
      "          ip_tcount  ip_tchan_count ...  ip_app_channel_mean_hour   X0   X1  \\\n",
      "29500000       5864        0.702328 ...                 10.338511  122  973   \n",
      "29500001        341        0.834008 ...                 13.063380   99  102   \n",
      "29500002        149        2.000000 ...                  8.000000   81   33   \n",
      "29500003        107        0.928018 ...                 10.105263   85  203   \n",
      "29500004         30             NaN ...                 12.500000   55   44   \n",
      "\n",
      "          X2   X3  X4   X5  X6     X7  X8  \n",
      "29500000   4  154  71  115  25  69187  31  \n",
      "29500001   4   50  34    8  28   2916  24  \n",
      "29500002   4   30  25    5  43    987  15  \n",
      "29500003   4   30  22    2  43    747  26  \n",
      "29500004   4   26   5    2  43    247  15  \n",
      "\n",
      "[5 rows x 24 columns]\n",
      "29500000    0\n",
      "29500001    0\n",
      "29500002    0\n",
      "29500003    0\n",
      "29500004    0\n",
      "Name: is_attributed, dtype: uint8\n"
     ]
    },
    {
     "data": {
      "text/plain": [
       "577"
      ]
     },
     "execution_count": 21,
     "metadata": {},
     "output_type": "execute_result"
    }
   ],
   "source": [
    "print(\"preparing validation datasets\")\n",
    "xgtrain = lgb.Dataset(train_df[predictors].values, label=train_df[target].values,\n",
    "                      feature_name=predictors,\n",
    "                      categorical_feature=categorical\n",
    "                      )\n",
    "                      \n",
    "print( train_df[predictors].head() )\n",
    "print( train_df[target].head() )\n",
    "print( val_df[predictors].head() )\n",
    "print( val_df[target].head() )\n",
    "\n",
    "del train_df\n",
    "if WHERE != 'kaggle':\n",
    "    xgtrain.save_binary('xgtrain.bin')\n",
    "    del xgtrain\n",
    "xgvalid = lgb.Dataset(val_df[predictors].values, label=val_df[target].values,\n",
    "                      feature_name=predictors,\n",
    "                      categorical_feature=categorical\n",
    "                      )\n",
    "del val_df\n",
    "gc.collect()"
   ]
  },
  {
   "cell_type": "code",
   "execution_count": 22,
   "metadata": {},
   "outputs": [
    {
     "name": "stdout",
     "output_type": "stream",
     "text": [
      "{'boosting_type': 'gbdt', 'objective': 'binary', 'metric': 'auc', 'learning_rate': 0.1, 'num_leaves': 7, 'max_depth': 3, 'min_child_samples': 100, 'max_bin': 100, 'subsample': 0.7, 'subsample_freq': 1, 'colsample_bytree': 0.9, 'min_child_weight': 0, 'scale_pos_weight': 200, 'subsample_for_bin': 200000, 'min_split_gain': 0, 'reg_alpha': 0, 'reg_lambda': 0, 'nthread': 4, 'verbose': 0}\n"
     ]
    },
    {
     "name": "stderr",
     "output_type": "stream",
     "text": [
      "/home/kai/anaconda3/lib/python3.6/site-packages/lightgbm/basic.py:1027: UserWarning: Using categorical_feature in Dataset.\n",
      "  warnings.warn('Using categorical_feature in Dataset.')\n",
      "/home/kai/anaconda3/lib/python3.6/site-packages/lightgbm/basic.py:668: UserWarning: categorical_feature in param dict is overrided.\n",
      "  warnings.warn('categorical_feature in param dict is overrided.')\n"
     ]
    },
    {
     "name": "stdout",
     "output_type": "stream",
     "text": [
      "Training until validation scores don't improve for 30 rounds.\n",
      "[10]\tvalid's auc: 0.966123\n",
      "[20]\tvalid's auc: 0.972895\n",
      "[30]\tvalid's auc: 0.975507\n",
      "[40]\tvalid's auc: 0.976923\n",
      "[50]\tvalid's auc: 0.977642\n",
      "[60]\tvalid's auc: 0.978267\n",
      "[70]\tvalid's auc: 0.978628\n",
      "[80]\tvalid's auc: 0.978858\n",
      "[90]\tvalid's auc: 0.97907\n",
      "[100]\tvalid's auc: 0.979249\n",
      "[110]\tvalid's auc: 0.979384\n",
      "[120]\tvalid's auc: 0.979515\n",
      "[130]\tvalid's auc: 0.979548\n",
      "[140]\tvalid's auc: 0.979605\n",
      "[150]\tvalid's auc: 0.979689\n",
      "[160]\tvalid's auc: 0.979742\n",
      "[170]\tvalid's auc: 0.979713\n",
      "[180]\tvalid's auc: 0.979784\n",
      "[190]\tvalid's auc: 0.97976\n",
      "[200]\tvalid's auc: 0.979775\n",
      "[210]\tvalid's auc: 0.979807\n",
      "[220]\tvalid's auc: 0.979816\n",
      "[230]\tvalid's auc: 0.979893\n",
      "[240]\tvalid's auc: 0.979895\n",
      "[250]\tvalid's auc: 0.979925\n",
      "[260]\tvalid's auc: 0.979925\n",
      "[270]\tvalid's auc: 0.979931\n",
      "[280]\tvalid's auc: 0.979941\n",
      "[290]\tvalid's auc: 0.979944\n",
      "[300]\tvalid's auc: 0.979947\n",
      "[310]\tvalid's auc: 0.979965\n",
      "[320]\tvalid's auc: 0.979962\n",
      "[330]\tvalid's auc: 0.979955\n",
      "[340]\tvalid's auc: 0.979977\n",
      "[350]\tvalid's auc: 0.979959\n",
      "[360]\tvalid's auc: 0.979917\n",
      "Early stopping, best iteration is:\n",
      "[337]\tvalid's auc: 0.979986\n",
      "\n",
      "Model Report\n",
      "bst.best_iteration:  337\n",
      "auc: 0.979986284469\n",
      "[372.5978879928589]: model training time\n"
     ]
    }
   ],
   "source": [
    "evals_results = {}\n",
    "\n",
    "if WHERE != 'kaggle':\n",
    "    xgtrain = lgb.Dataset('xgtrain.bin',\n",
    "                          feature_name=predictors,\n",
    "                          categorical_feature=categorical\n",
    "                          )\n",
    "                      \n",
    "print( lgb_params )\n",
    "bst = lgb.train(lgb_params, \n",
    "                 xgtrain, \n",
    "                 valid_sets=[xgvalid], \n",
    "                 valid_names=['valid'], \n",
    "                 evals_result=evals_results, \n",
    "                 num_boost_round=num_boost_round,\n",
    "                 early_stopping_rounds=early_stopping_rounds,\n",
    "                 verbose_eval=10, \n",
    "                 feval=None)\n",
    "\n",
    "print(\"\\nModel Report\")\n",
    "print(\"bst.best_iteration: \", bst.best_iteration)\n",
    "print(metrics+\":\", evals_results['valid'][metrics][bst.best_iteration-1])\n",
    "\n",
    "\n",
    "print('[{}]: model training time'.format(time.time() - start_time))"
   ]
  },
  {
   "cell_type": "code",
   "execution_count": 23,
   "metadata": {},
   "outputs": [
    {
     "name": "stdout",
     "output_type": "stream",
     "text": [
      "Plot feature importances\n"
     ]
    },
    {
     "data": {
      "image/png": "[encoded data removed]",
      "text/plain": [
       "<matplotlib.figure.Figure at 0x7f94b9110390>"
      ]
     },
     "metadata": {},
     "output_type": "display_data"
    },
    {
     "data": {
      "image/png": "[encoded data removed]",
      "text/plain": [
       "<matplotlib.figure.Figure at 0x7f93aabe2240>"
      ]
     },
     "metadata": {},
     "output_type": "display_data"
    }
   ],
   "source": [
    "if WHERE!='gcloud':\n",
    "    print('Plot feature importances')\n",
    "    lgb.plot_importance(bst, max_num_features=100, title='Feature importance (split(default))')\n",
    "    lgb.plot_importance(bst, max_num_features=100, title='Feature importance (gain)', importance_type='gain')\n",
    "    plt.show()"
   ]
  },
  {
   "cell_type": "code",
   "execution_count": 24,
   "metadata": {},
   "outputs": [
    {
     "data": {
      "text/plain": [
       "'4513683'"
      ]
     },
     "execution_count": 24,
     "metadata": {},
     "output_type": "execute_result"
    }
   ],
   "source": [
    "fileno"
   ]
  },
  {
   "cell_type": "code",
   "execution_count": 25,
   "metadata": {},
   "outputs": [
    {
     "data": {
      "text/plain": [
       "(18790469, 27)"
      ]
     },
     "execution_count": 25,
     "metadata": {},
     "output_type": "execute_result"
    }
   ],
   "source": [
    "test_df.shape"
   ]
  },
  {
   "cell_type": "code",
   "execution_count": 26,
   "metadata": {},
   "outputs": [
    {
     "name": "stdout",
     "output_type": "stream",
     "text": [
      "Re-reading test data...\n",
      "Predicting...\n"
     ]
    }
   ],
   "source": [
    "print(\"Re-reading test data...\")\n",
    "#test_df = pd.read_pickle('test.pkl.gz')\n",
    "sub = pd.DataFrame()\n",
    "\n",
    "print(\"Predicting...\")\n",
    "y_pred = bst.predict(test_df[predictors],num_iteration=bst.best_iteration)\n",
    "outsuf = ''\n",
    "if VAL_RUN:\n",
    "    print(  \"\\n\\nFULL VALIDATION SCORE:    \", \n",
    "            roc_auc_score( y_test, y_pred )  )\n",
    "    print(  \"PUBLIC VALIDATION SCORE:  \", \n",
    "            roc_auc_score( y_test[:public_cutoff], y_pred[:public_cutoff] )  )\n",
    "    print(  \"PRIVATE VALIDATION SCORE: \",\n",
    "            roc_auc_score( y_test[public_cutoff:], y_pred[public_cutoff:] )  )\n",
    "    outsuf = '_val'\n",
    "    sub['click_id'] = pd.Series(range(len(test_df))).astype('uint32').values\n",
    "else:\n",
    "    sub['click_id'] = test_df['click_id'].astype('uint32').values"
   ]
  },
  {
   "cell_type": "code",
   "execution_count": 27,
   "metadata": {},
   "outputs": [
    {
     "name": "stdout",
     "output_type": "stream",
     "text": [
      "\n",
      "writing...\n",
      "\n",
      "done...\n",
      "   click_id  is_attributed\n",
      "0         0       0.143230\n",
      "1         1       0.020863\n",
      "2         2       0.001948\n",
      "3         3       0.018058\n",
      "4         4       0.008648\n",
      "5         5       0.003894\n",
      "6         6       0.024802\n",
      "7         7       0.089503\n",
      "8         9       0.123791\n",
      "9         8       0.003036\n"
     ]
    }
   ],
   "source": [
    "if WHERE != 'kaggle':\n",
    "    os.remove('xgtrain.bin')\n",
    "#os.remove('test.pkl.gz')\n",
    "sub['is_attributed'] = y_pred\n",
    "if not debug:\n",
    "    print(\"\\nwriting...\")\n",
    "    sub.to_csv('sub_it_%s'%(fileno)+outsuf+'.csv.gz', index=False, float_format='%.9f', compression='gzip')\n",
    "print(\"\\ndone...\")\n",
    "print( sub.head(10) )"
   ]
  },
  {
   "cell_type": "code",
   "execution_count": null,
   "metadata": {
    "collapsed": true
   },
   "outputs": [],
   "source": []
  }
 ],
 "metadata": {
  "kernelspec": {
   "display_name": "Python 3",
   "language": "python",
   "name": "python3"
  },
  "language_info": {
   "codemirror_mode": {
    "name": "ipython",
    "version": 3
   },
   "file_extension": ".py",
   "mimetype": "text/x-python",
   "name": "python",
   "nbconvert_exporter": "python",
   "pygments_lexer": "ipython3",
   "version": "3.6.3"
  }
 },
 "nbformat": 4,
 "nbformat_minor": 2
}
