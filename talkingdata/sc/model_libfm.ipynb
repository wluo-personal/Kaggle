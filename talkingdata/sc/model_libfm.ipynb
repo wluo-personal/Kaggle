{
 "cells": [
  {
   "cell_type": "code",
   "execution_count": 1,
   "metadata": {
    "collapsed": true
   },
   "outputs": [],
   "source": [
    "import pandas as pd\n",
    "import gc\n",
    "import numpy as np"
   ]
  },
  {
   "cell_type": "code",
   "execution_count": 2,
   "metadata": {},
   "outputs": [
    {
     "name": "stdout",
     "output_type": "stream",
     "text": [
      "loaded train\n"
     ]
    }
   ],
   "source": [
    "train = pd.read_feather('Feathers/ss_alltrain_typechanged.ftr')\n",
    "print('loaded train')\n",
    "train.set_index('index', inplace=True)\n",
    "del train.index.name"
   ]
  },
  {
   "cell_type": "code",
   "execution_count": 3,
   "metadata": {},
   "outputs": [
    {
     "name": "stdout",
     "output_type": "stream",
     "text": [
      "loaded test\n"
     ]
    }
   ],
   "source": [
    "test = pd.read_feather('Feathers/ss_test_via_alltrain_typechanged.ftr')\n",
    "print('loaded test')\n",
    "test.set_index('index', inplace=True)\n",
    "del test.index.name"
   ]
  },
  {
   "cell_type": "code",
   "execution_count": 4,
   "metadata": {},
   "outputs": [
    {
     "data": {
      "text/plain": [
       "Index(['app', 'app_day_hour_count', 'app_device_os_mean',\n",
       "       'attributed_timediff', 'channel', 'device', 'hour',\n",
       "       'ip_app_day_hour_count', 'ip_app_device_countfromfuture',\n",
       "       'ip_app_device_countfrompast', 'ip_app_device_firsttimediff',\n",
       "       'ip_app_device_lasttimediff', 'ip_app_device_mean',\n",
       "       'ip_app_device_os_count', 'ip_app_device_os_countfromfuture',\n",
       "       'ip_app_device_os_countfrompast', 'ip_app_device_os_firsttimediff',\n",
       "       'ip_app_device_os_lasttimediff', 'ip_app_device_os_mean',\n",
       "       'ip_app_device_os_time2nextclick',\n",
       "       'ip_app_device_os_time2previousclick', 'ip_app_device_time2nextclick',\n",
       "       'ip_app_device_time2previousclick', 'ip_app_os_day_hour_count',\n",
       "       'ip_day_hour_count', 'ip_device_os_count',\n",
       "       'ip_device_os_countfromfuture', 'ip_device_os_countfrompast',\n",
       "       'ip_device_os_firsttimediff', 'ip_device_os_lasttimediff',\n",
       "       'ip_device_os_mean', 'ip_device_os_time2nextclick',\n",
       "       'ip_device_os_time2previousclick', 'ip_os_day_hour_count',\n",
       "       'is_attributed', 'matrixFact_user_ip_item_appdeviceos',\n",
       "       'matrixFact_user_ipchannel_item_appdeviceos',\n",
       "       'matrixFact_user_iposdeviceapp_item_app', 'os'],\n",
       "      dtype='object')"
      ]
     },
     "execution_count": 4,
     "metadata": {},
     "output_type": "execute_result"
    }
   ],
   "source": [
    "test.columns"
   ]
  },
  {
   "cell_type": "code",
   "execution_count": 4,
   "metadata": {
    "collapsed": true
   },
   "outputs": [],
   "source": [
    "train.drop(['matrixFact_user_ip_item_appdeviceos','matrixFact_user_ipchannel_item_appdeviceos','matrixFact_user_iposdeviceapp_item_app'], axis=1, inplace=True)\n",
    "\n",
    "test.drop(['matrixFact_user_ip_item_appdeviceos','matrixFact_user_ipchannel_item_appdeviceos','matrixFact_user_iposdeviceapp_item_app'], axis=1, inplace=True)"
   ]
  },
  {
   "cell_type": "code",
   "execution_count": 5,
   "metadata": {
    "collapsed": true
   },
   "outputs": [],
   "source": [
    "import matplotlib.pyplot as plt\n",
    "%matplotlib inline"
   ]
  },
  {
   "cell_type": "code",
   "execution_count": 13,
   "metadata": {},
   "outputs": [
    {
     "data": {
      "text/plain": [
       "count    1.849039e+08\n",
       "mean     9.223345e-04\n",
       "std      9.754453e-01\n",
       "min     -1.795039e-01\n",
       "25%     -1.765338e-01\n",
       "50%     -1.664357e-01\n",
       "75%     -1.224790e-01\n",
       "max      1.712249e+01\n",
       "Name: ip_app_device_os_count, dtype: float64"
      ]
     },
     "execution_count": 13,
     "metadata": {},
     "output_type": "execute_result"
    }
   ],
   "source": [
    "train['ip_app_device_os_count'].describe()"
   ]
  },
  {
   "cell_type": "code",
   "execution_count": 12,
   "metadata": {},
   "outputs": [
    {
     "data": {
      "text/plain": [
       "(array([ 976.,   17.,    2.,    2.,    0.,    1.,    0.,    0.,    0.,    2.]),\n",
       " array([ -0.17950387,   1.46664361,   3.1127911 ,   4.75893858,\n",
       "          6.40508607,   8.05123355,   9.69738104,  11.34352852,\n",
       "         12.98967601,  14.63582349,  16.28197098]),\n",
       " <a list of 10 Patch objects>)"
      ]
     },
     "execution_count": 12,
     "metadata": {},
     "output_type": "execute_result"
    },
    {
     "data": {
      "image/png": "[encoded data removed]",
      "text/plain": [
       "<matplotlib.figure.Figure at 0x7f91bcb14278>"
      ]
     },
     "metadata": {},
     "output_type": "display_data"
    }
   ],
   "source": [
    "plt.hist(train['ip_app_device_os_count'].iloc[:1000])"
   ]
  },
  {
   "cell_type": "code",
   "execution_count": 6,
   "metadata": {},
   "outputs": [
    {
     "name": "stdout",
     "output_type": "stream",
     "text": [
      "['ip_device_os_firsttimediff', 'ip_app_device_countfrompast', 'ip_app_device_time2previousclick', 'ip_app_device_countfromfuture', 'ip_app_device_os_lasttimediff', 'ip_device_os_time2previousclick', 'ip_device_os_countfrompast', 'ip_os_day_hour_count', 'ip_day_hour_count', 'ip_device_os_mean', 'ip_app_device_os_mean', 'ip_app_device_os_time2previousclick', 'app_day_hour_count', 'ip_app_device_os_countfrompast', 'ip_app_device_time2nextclick', 'ip_app_device_os_time2nextclick', 'app_device_os_mean', 'ip_app_device_os_count', 'ip_app_device_firsttimediff', 'ip_device_os_time2nextclick', 'attributed_timediff', 'ip_app_device_mean', 'ip_app_device_lasttimediff', 'ip_device_os_count', 'ip_app_device_os_firsttimediff', 'ip_app_day_hour_count', 'ip_app_device_os_countfromfuture', 'ip_app_os_day_hour_count', 'ip_device_os_countfromfuture', 'ip_device_os_lasttimediff'] 30\n"
     ]
    }
   ],
   "source": [
    "embedding_features = ['app','channel','device','os','hour']\n",
    "\n",
    "numeric_features = list(set(set(train.columns) - set(embedding_features)) - set(['is_attributed']))\n",
    "print(numeric_features, len(numeric_features))"
   ]
  },
  {
   "cell_type": "code",
   "execution_count": 7,
   "metadata": {
    "collapsed": true
   },
   "outputs": [],
   "source": [
    "from tqdm import tqdm"
   ]
  },
  {
   "cell_type": "code",
   "execution_count": 8,
   "metadata": {},
   "outputs": [
    {
     "name": "stdout",
     "output_type": "stream",
     "text": [
      "[  2.   4.   6.   8.  10.  12.  14.  16.  18.  20.  22.  24.  26.  28.  30.\n",
      "  32.  34.  36.  38.  40.  42.  44.  46.  48.  50.  52.  54.  56.  58.  60.\n",
      "  62.  64.  66.  68.  70.  72.  74.  76.  78.  80.  82.  84.  86.  88.  90.\n",
      "  92.  94.  96.  98.]\n"
     ]
    }
   ],
   "source": [
    "bins = np.linspace(2,98,49)\n",
    "print(bins)"
   ]
  },
  {
   "cell_type": "code",
   "execution_count": 9,
   "metadata": {},
   "outputs": [
    {
     "name": "stderr",
     "output_type": "stream",
     "text": [
      "100%|██████████| 30/30 [08:20<00:00, 16.67s/it]\n"
     ]
    }
   ],
   "source": [
    "for column in tqdm(numeric_features):\n",
    "    percentiles = np.percentile(train[column], bins)\n",
    "    train[column] = np.searchsorted(percentiles, train[column])\n",
    "    test[column]  = np.searchsorted(percentiles, test[column])\n",
    "    gc.collect()"
   ]
  },
  {
   "cell_type": "code",
   "execution_count": 59,
   "metadata": {},
   "outputs": [
    {
     "data": {
      "text/plain": [
       "(array([ 1735248.,  1886957.,  1914707.,  1937189.,  1939048.,  1891326.,\n",
       "         1953449.,  1780538.,  1718944.,  2033063.]),\n",
       " array([  0. ,   4.9,   9.8,  14.7,  19.6,  24.5,  29.4,  34.3,  39.2,\n",
       "         44.1,  49. ]),\n",
       " <a list of 10 Patch objects>)"
      ]
     },
     "execution_count": 59,
     "metadata": {},
     "output_type": "execute_result"
    },
    {
     "data": {
      "image/png": "[encoded data removed]",
      "text/plain": [
       "<matplotlib.figure.Figure at 0x7f8e080a3828>"
      ]
     },
     "metadata": {},
     "output_type": "display_data"
    }
   ],
   "source": [
    "plt.hist(test['ip_day_hour_count'])"
   ]
  },
  {
   "cell_type": "code",
   "execution_count": 58,
   "metadata": {},
   "outputs": [
    {
     "data": {
      "text/plain": [
       "(array([  675390.,   805151.,   344455.,   519359.,  2563648.,  3086160.,\n",
       "          880594.,  4616065.,  1888471.,  3411176.]),\n",
       " array([  0. ,   4.9,   9.8,  14.7,  19.6,  24.5,  29.4,  34.3,  39.2,\n",
       "         44.1,  49. ]),\n",
       " <a list of 10 Patch objects>)"
      ]
     },
     "execution_count": 58,
     "metadata": {},
     "output_type": "execute_result"
    },
    {
     "data": {
      "image/png": "[encoded data removed]",
      "text/plain": [
       "<matplotlib.figure.Figure at 0x7f9150a0afd0>"
      ]
     },
     "metadata": {},
     "output_type": "display_data"
    }
   ],
   "source": [
    "plt.hist(test['ip_app_device_firsttimediff'])"
   ]
  },
  {
   "cell_type": "code",
   "execution_count": 11,
   "metadata": {
    "collapsed": true
   },
   "outputs": [],
   "source": [
    "train_df = train"
   ]
  },
  {
   "cell_type": "code",
   "execution_count": 12,
   "metadata": {},
   "outputs": [
    {
     "data": {
      "text/plain": [
       "((179903890, 36), (5000000, 36))"
      ]
     },
     "execution_count": 12,
     "metadata": {},
     "output_type": "execute_result"
    }
   ],
   "source": [
    "val_size = 5000000\n",
    "train = train_df.iloc[:-val_size].copy()\n",
    "val = train_df.iloc[-val_size:].copy()\n",
    "train.shape, val.shape"
   ]
  },
  {
   "cell_type": "code",
   "execution_count": 13,
   "metadata": {},
   "outputs": [
    {
     "data": {
      "text/plain": [
       "116"
      ]
     },
     "execution_count": 13,
     "metadata": {},
     "output_type": "execute_result"
    }
   ],
   "source": [
    "del train_df; gc.collect()"
   ]
  },
  {
   "cell_type": "code",
   "execution_count": 63,
   "metadata": {},
   "outputs": [
    {
     "data": {
      "text/plain": [
       "(447579, 36)"
      ]
     },
     "execution_count": 63,
     "metadata": {},
     "output_type": "execute_result"
    }
   ],
   "source": [
    "pos = train[train.is_attributed == 1]\n",
    "print(pos.shape)\n",
    "\n",
    "neg = train[train.is_attributed == 0]\n",
    "print(neg.shape)\n",
    "\n",
    "neg_sample = neg.sample(n=len(pos))\n",
    "print(neg_sample.shape)\n",
    "\n",
    "train_balanced = pd.concat([pos, neg_sample])\n",
    "print(train_balanced.shape)\n",
    "\n",
    "gc.collect()"
   ]
  },
  {
   "cell_type": "code",
   "execution_count": 91,
   "metadata": {},
   "outputs": [
    {
     "data": {
      "text/plain": [
       "(179903890, 36)"
      ]
     },
     "execution_count": 91,
     "metadata": {},
     "output_type": "execute_result"
    }
   ],
   "source": [
    "train.shape"
   ]
  },
  {
   "cell_type": "code",
   "execution_count": 16,
   "metadata": {},
   "outputs": [
    {
     "data": {
      "text/plain": [
       "157"
      ]
     },
     "execution_count": 16,
     "metadata": {},
     "output_type": "execute_result"
    }
   ],
   "source": [
    "trainY = train.is_attributed\n",
    "trainY = trainY.apply(lambda x: -1 if x==0 else x)\n",
    "\n",
    "valY = val.is_attributed\n",
    "valY = valY.apply(lambda x: -1 if x==0 else x)\n",
    "gc.collect()"
   ]
  },
  {
   "cell_type": "code",
   "execution_count": 18,
   "metadata": {
    "collapsed": true
   },
   "outputs": [],
   "source": [
    "# train_balanced.drop(['is_attributed'], axis=1, inplace=True)\n",
    "train.drop(['is_attributed'], axis=1, inplace=True)\n",
    "val.drop(['is_attributed'], axis=1, inplace=True)\n",
    "test.drop(['is_attributed'], axis=1, inplace=True)"
   ]
  },
  {
   "cell_type": "code",
   "execution_count": 19,
   "metadata": {},
   "outputs": [
    {
     "data": {
      "text/plain": [
       "((179903890, 35), (179903890,), (5000000, 35), (5000000,), (18790469, 35))"
      ]
     },
     "execution_count": 19,
     "metadata": {},
     "output_type": "execute_result"
    }
   ],
   "source": [
    "trainX = train#_balanced\n",
    "valX = val\n",
    "testX = test\n",
    "trainX.shape, trainY.shape, valX.shape, valY.shape, testX.shape"
   ]
  },
  {
   "cell_type": "raw",
   "metadata": {},
   "source": []
  },
  {
   "cell_type": "code",
   "execution_count": 73,
   "metadata": {
    "collapsed": true
   },
   "outputs": [],
   "source": [
    "log_preds = fitpredict_logistic(trainX, trainY, testX)"
   ]
  },
  {
   "cell_type": "code",
   "execution_count": 74,
   "metadata": {},
   "outputs": [
    {
     "data": {
      "text/plain": [
       "0.98684845254685594"
      ]
     },
     "execution_count": 74,
     "metadata": {},
     "output_type": "execute_result"
    }
   ],
   "source": [
    "roc_auc_score(testY, log_preds)"
   ]
  },
  {
   "cell_type": "code",
   "execution_count": 81,
   "metadata": {},
   "outputs": [
    {
     "data": {
      "text/plain": [
       "(18790469,)"
      ]
     },
     "execution_count": 81,
     "metadata": {},
     "output_type": "execute_result"
    }
   ],
   "source": [
    "log_preds_sub = fitpredict_logistic(trainX, trainY, test)\n",
    "log_preds_sub.shape"
   ]
  },
  {
   "cell_type": "code",
   "execution_count": 82,
   "metadata": {
    "collapsed": true
   },
   "outputs": [],
   "source": [
    "ori_path = '/home/kai/data/kaggle/talkingdata/data/'\n",
    "\n",
    "test_ori = pd.read_csv(ori_path+\"test.csv\", usecols=['ip','app','device','os', 'channel', 'click_time', 'click_id'])"
   ]
  },
  {
   "cell_type": "code",
   "execution_count": 83,
   "metadata": {},
   "outputs": [
    {
     "name": "stdout",
     "output_type": "stream",
     "text": [
      "predicting....\n",
      "6441926\n"
     ]
    }
   ],
   "source": [
    "sub = pd.DataFrame()\n",
    "sub['click_id'] = test_ori['click_id'].astype('int')\n",
    "\n",
    "# print(\"predicting....\")\n",
    "sub['is_attributed'] = log_preds_sub\n",
    "\n",
    "tempid = str(int(time.time()))[3:]\n",
    "print(tempid)\n",
    "\n",
    "flag = 'logistic'\n",
    "sub.to_csv('FM_SUBS/fm_{}_{}.csv.gz'.format(flag, tempid), index=False, float_format='%.9f', compression='gzip')"
   ]
  },
  {
   "cell_type": "code",
   "execution_count": null,
   "metadata": {
    "collapsed": true
   },
   "outputs": [],
   "source": []
  },
  {
   "cell_type": "code",
   "execution_count": 75,
   "metadata": {
    "collapsed": true
   },
   "outputs": [],
   "source": [
    "fastfm_preds = fitpredict_fastfm(trainX, trainY, testX)"
   ]
  },
  {
   "cell_type": "code",
   "execution_count": 76,
   "metadata": {},
   "outputs": [
    {
     "data": {
      "text/plain": [
       "0.98620862090756378"
      ]
     },
     "execution_count": 76,
     "metadata": {},
     "output_type": "execute_result"
    }
   ],
   "source": [
    "roc_auc_score(testY, fastfm_preds)"
   ]
  },
  {
   "cell_type": "code",
   "execution_count": 22,
   "metadata": {},
   "outputs": [
    {
     "ename": "MemoryError",
     "evalue": "",
     "output_type": "error",
     "traceback": [
      "\u001b[0;31m---------------------------------------------------------------------------\u001b[0m",
      "\u001b[0;31mMemoryError\u001b[0m                               Traceback (most recent call last)",
      "\u001b[0;32m<ipython-input-22-46c1ae89fcc6>\u001b[0m in \u001b[0;36m<module>\u001b[0;34m()\u001b[0m\n\u001b[0;32m----> 1\u001b[0;31m \u001b[0mencoder\u001b[0m \u001b[0;34m=\u001b[0m \u001b[0mOneHotEncoder\u001b[0m\u001b[0;34m(\u001b[0m\u001b[0mhandle_unknown\u001b[0m\u001b[0;34m=\u001b[0m\u001b[0;34m'ignore'\u001b[0m\u001b[0;34m)\u001b[0m\u001b[0;34m.\u001b[0m\u001b[0mfit\u001b[0m\u001b[0;34m(\u001b[0m\u001b[0mtrainX\u001b[0m\u001b[0;34m)\u001b[0m\u001b[0;34m\u001b[0m\u001b[0m\n\u001b[0m\u001b[1;32m      2\u001b[0m \u001b[0mtrainX\u001b[0m \u001b[0;34m=\u001b[0m \u001b[0mencoder\u001b[0m\u001b[0;34m.\u001b[0m\u001b[0mtransform\u001b[0m\u001b[0;34m(\u001b[0m\u001b[0mtrainX\u001b[0m\u001b[0;34m)\u001b[0m\u001b[0;34m\u001b[0m\u001b[0m\n\u001b[1;32m      3\u001b[0m \u001b[0mvalX\u001b[0m \u001b[0;34m=\u001b[0m \u001b[0mencoder\u001b[0m\u001b[0;34m.\u001b[0m\u001b[0mtransform\u001b[0m\u001b[0;34m(\u001b[0m\u001b[0mvalX\u001b[0m\u001b[0;34m)\u001b[0m\u001b[0;34m\u001b[0m\u001b[0m\n\u001b[1;32m      4\u001b[0m \u001b[0mtestX\u001b[0m \u001b[0;34m=\u001b[0m \u001b[0mencoder\u001b[0m\u001b[0;34m.\u001b[0m\u001b[0mtransform\u001b[0m\u001b[0;34m(\u001b[0m\u001b[0mtestX\u001b[0m\u001b[0;34m)\u001b[0m\u001b[0;34m\u001b[0m\u001b[0m\n",
      "\u001b[0;32m~/anaconda3/lib/python3.6/site-packages/sklearn/preprocessing/data.py\u001b[0m in \u001b[0;36mfit\u001b[0;34m(self, X, y)\u001b[0m\n\u001b[1;32m   1954\u001b[0m         \u001b[0mself\u001b[0m\u001b[0;34m\u001b[0m\u001b[0m\n\u001b[1;32m   1955\u001b[0m         \"\"\"\n\u001b[0;32m-> 1956\u001b[0;31m         \u001b[0mself\u001b[0m\u001b[0;34m.\u001b[0m\u001b[0mfit_transform\u001b[0m\u001b[0;34m(\u001b[0m\u001b[0mX\u001b[0m\u001b[0;34m)\u001b[0m\u001b[0;34m\u001b[0m\u001b[0m\n\u001b[0m\u001b[1;32m   1957\u001b[0m         \u001b[0;32mreturn\u001b[0m \u001b[0mself\u001b[0m\u001b[0;34m\u001b[0m\u001b[0m\n\u001b[1;32m   1958\u001b[0m \u001b[0;34m\u001b[0m\u001b[0m\n",
      "\u001b[0;32m~/anaconda3/lib/python3.6/site-packages/sklearn/preprocessing/data.py\u001b[0m in \u001b[0;36mfit_transform\u001b[0;34m(self, X, y)\u001b[0m\n\u001b[1;32m   2017\u001b[0m         \"\"\"\n\u001b[1;32m   2018\u001b[0m         return _transform_selected(X, self._fit_transform,\n\u001b[0;32m-> 2019\u001b[0;31m                                    self.categorical_features, copy=True)\n\u001b[0m\u001b[1;32m   2020\u001b[0m \u001b[0;34m\u001b[0m\u001b[0m\n\u001b[1;32m   2021\u001b[0m     \u001b[0;32mdef\u001b[0m \u001b[0m_transform\u001b[0m\u001b[0;34m(\u001b[0m\u001b[0mself\u001b[0m\u001b[0;34m,\u001b[0m \u001b[0mX\u001b[0m\u001b[0;34m)\u001b[0m\u001b[0;34m:\u001b[0m\u001b[0;34m\u001b[0m\u001b[0m\n",
      "\u001b[0;32m~/anaconda3/lib/python3.6/site-packages/sklearn/preprocessing/data.py\u001b[0m in \u001b[0;36m_transform_selected\u001b[0;34m(X, transform, selected, copy)\u001b[0m\n\u001b[1;32m   1810\u001b[0m \u001b[0;34m\u001b[0m\u001b[0m\n\u001b[1;32m   1811\u001b[0m     \u001b[0;32mif\u001b[0m \u001b[0misinstance\u001b[0m\u001b[0;34m(\u001b[0m\u001b[0mselected\u001b[0m\u001b[0;34m,\u001b[0m \u001b[0msix\u001b[0m\u001b[0;34m.\u001b[0m\u001b[0mstring_types\u001b[0m\u001b[0;34m)\u001b[0m \u001b[0;32mand\u001b[0m \u001b[0mselected\u001b[0m \u001b[0;34m==\u001b[0m \u001b[0;34m\"all\"\u001b[0m\u001b[0;34m:\u001b[0m\u001b[0;34m\u001b[0m\u001b[0m\n\u001b[0;32m-> 1812\u001b[0;31m         \u001b[0;32mreturn\u001b[0m \u001b[0mtransform\u001b[0m\u001b[0;34m(\u001b[0m\u001b[0mX\u001b[0m\u001b[0;34m)\u001b[0m\u001b[0;34m\u001b[0m\u001b[0m\n\u001b[0m\u001b[1;32m   1813\u001b[0m \u001b[0;34m\u001b[0m\u001b[0m\n\u001b[1;32m   1814\u001b[0m     \u001b[0;32mif\u001b[0m \u001b[0mlen\u001b[0m\u001b[0;34m(\u001b[0m\u001b[0mselected\u001b[0m\u001b[0;34m)\u001b[0m \u001b[0;34m==\u001b[0m \u001b[0;36m0\u001b[0m\u001b[0;34m:\u001b[0m\u001b[0;34m\u001b[0m\u001b[0m\n",
      "\u001b[0;32m~/anaconda3/lib/python3.6/site-packages/sklearn/preprocessing/data.py\u001b[0m in \u001b[0;36m_fit_transform\u001b[0;34m(self, X)\u001b[0m\n\u001b[1;32m   1988\u001b[0m         \u001b[0mself\u001b[0m\u001b[0;34m.\u001b[0m\u001b[0mfeature_indices_\u001b[0m \u001b[0;34m=\u001b[0m \u001b[0mindices\u001b[0m\u001b[0;34m\u001b[0m\u001b[0m\n\u001b[1;32m   1989\u001b[0m \u001b[0;34m\u001b[0m\u001b[0m\n\u001b[0;32m-> 1990\u001b[0;31m         \u001b[0mcolumn_indices\u001b[0m \u001b[0;34m=\u001b[0m \u001b[0;34m(\u001b[0m\u001b[0mX\u001b[0m \u001b[0;34m+\u001b[0m \u001b[0mindices\u001b[0m\u001b[0;34m[\u001b[0m\u001b[0;34m:\u001b[0m\u001b[0;34m-\u001b[0m\u001b[0;36m1\u001b[0m\u001b[0;34m]\u001b[0m\u001b[0;34m)\u001b[0m\u001b[0;34m.\u001b[0m\u001b[0mravel\u001b[0m\u001b[0;34m(\u001b[0m\u001b[0;34m)\u001b[0m\u001b[0;34m\u001b[0m\u001b[0m\n\u001b[0m\u001b[1;32m   1991\u001b[0m         row_indices = np.repeat(np.arange(n_samples, dtype=np.int32),\n\u001b[1;32m   1992\u001b[0m                                 n_features)\n",
      "\u001b[0;31mMemoryError\u001b[0m: "
     ]
    }
   ],
   "source": [
    "encoder = OneHotEncoder(handle_unknown='ignore').fit(trainX)\n",
    "trainX = encoder.transform(trainX)\n",
    "valX = encoder.transform(valX)\n",
    "testX = encoder.transform(testX)"
   ]
  },
  {
   "cell_type": "code",
   "execution_count": null,
   "metadata": {
    "collapsed": true
   },
   "outputs": [],
   "source": [
    "gc.collect()"
   ]
  },
  {
   "cell_type": "code",
   "execution_count": null,
   "metadata": {
    "collapsed": true
   },
   "outputs": [],
   "source": [
    "clf = FMClassification(rank=8, n_iter=100)\n",
    "#clf.fit_predict_proba(trainX, trainY, testX)    "
   ]
  },
  {
   "cell_type": "code",
   "execution_count": null,
   "metadata": {
    "collapsed": true
   },
   "outputs": [],
   "source": []
  },
  {
   "cell_type": "code",
   "execution_count": null,
   "metadata": {
    "collapsed": true
   },
   "outputs": [],
   "source": []
  },
  {
   "cell_type": "code",
   "execution_count": null,
   "metadata": {
    "collapsed": true
   },
   "outputs": [],
   "source": []
  },
  {
   "cell_type": "code",
   "execution_count": null,
   "metadata": {
    "collapsed": true
   },
   "outputs": [],
   "source": []
  },
  {
   "cell_type": "code",
   "execution_count": null,
   "metadata": {
    "collapsed": true
   },
   "outputs": [],
   "source": []
  },
  {
   "cell_type": "code",
   "execution_count": null,
   "metadata": {
    "collapsed": true
   },
   "outputs": [],
   "source": []
  },
  {
   "cell_type": "code",
   "execution_count": null,
   "metadata": {
    "collapsed": true
   },
   "outputs": [],
   "source": []
  },
  {
   "cell_type": "code",
   "execution_count": null,
   "metadata": {
    "collapsed": true
   },
   "outputs": [],
   "source": []
  },
  {
   "cell_type": "code",
   "execution_count": null,
   "metadata": {
    "collapsed": true
   },
   "outputs": [],
   "source": []
  },
  {
   "cell_type": "code",
   "execution_count": null,
   "metadata": {
    "collapsed": true
   },
   "outputs": [],
   "source": []
  },
  {
   "cell_type": "code",
   "execution_count": null,
   "metadata": {
    "collapsed": true
   },
   "outputs": [],
   "source": []
  },
  {
   "cell_type": "code",
   "execution_count": null,
   "metadata": {
    "collapsed": true
   },
   "outputs": [],
   "source": []
  },
  {
   "cell_type": "code",
   "execution_count": null,
   "metadata": {
    "collapsed": true
   },
   "outputs": [],
   "source": []
  },
  {
   "cell_type": "code",
   "execution_count": null,
   "metadata": {
    "collapsed": true
   },
   "outputs": [],
   "source": []
  },
  {
   "cell_type": "code",
   "execution_count": null,
   "metadata": {
    "collapsed": true
   },
   "outputs": [],
   "source": []
  },
  {
   "cell_type": "code",
   "execution_count": null,
   "metadata": {
    "collapsed": true
   },
   "outputs": [],
   "source": []
  },
  {
   "cell_type": "code",
   "execution_count": null,
   "metadata": {
    "collapsed": true
   },
   "outputs": [],
   "source": []
  },
  {
   "cell_type": "code",
   "execution_count": null,
   "metadata": {
    "collapsed": true
   },
   "outputs": [],
   "source": []
  },
  {
   "cell_type": "code",
   "execution_count": null,
   "metadata": {
    "collapsed": true
   },
   "outputs": [],
   "source": []
  },
  {
   "cell_type": "code",
   "execution_count": null,
   "metadata": {
    "collapsed": true
   },
   "outputs": [],
   "source": []
  },
  {
   "cell_type": "code",
   "execution_count": null,
   "metadata": {
    "collapsed": true
   },
   "outputs": [],
   "source": []
  },
  {
   "cell_type": "code",
   "execution_count": null,
   "metadata": {
    "collapsed": true
   },
   "outputs": [],
   "source": []
  },
  {
   "cell_type": "code",
   "execution_count": null,
   "metadata": {
    "collapsed": true
   },
   "outputs": [],
   "source": []
  },
  {
   "cell_type": "code",
   "execution_count": null,
   "metadata": {
    "collapsed": true
   },
   "outputs": [],
   "source": []
  },
  {
   "cell_type": "code",
   "execution_count": null,
   "metadata": {
    "collapsed": true
   },
   "outputs": [],
   "source": []
  },
  {
   "cell_type": "code",
   "execution_count": null,
   "metadata": {
    "collapsed": true
   },
   "outputs": [],
   "source": []
  },
  {
   "cell_type": "code",
   "execution_count": null,
   "metadata": {
    "collapsed": true
   },
   "outputs": [],
   "source": []
  },
  {
   "cell_type": "code",
   "execution_count": null,
   "metadata": {
    "collapsed": true
   },
   "outputs": [],
   "source": []
  },
  {
   "cell_type": "code",
   "execution_count": 21,
   "metadata": {
    "collapsed": true
   },
   "outputs": [],
   "source": [
    "import numpy as np\n",
    "import pandas as pd\n",
    "from sklearn.model_selection import train_test_split\n",
    "from sklearn.feature_extraction.text import CountVectorizer\n",
    "from itertools import combinations\n",
    "\n",
    "def load_problem_flight(large=False, convert_to_ints=False):\n",
    "    '''\n",
    "    Dataset used in common ML benchmarks: https://github.com/szilard/benchm-ml\n",
    "    links to files:\n",
    "    https://s3.amazonaws.com/benchm-ml--main/test.csv\n",
    "    https://s3.amazonaws.com/benchm-ml--main/train-0.1m.csv\n",
    "    https://s3.amazonaws.com/benchm-ml--main/train-1m.csv\n",
    "    https://s3.amazonaws.com/benchm-ml--main/train-10m.csv\n",
    "    '''\n",
    "    if large:\n",
    "        trainX = pd.read_csv('data/flight/flight_train-10m.csv')\n",
    "    else:\n",
    "        trainX = pd.read_csv('data/flight/flight_train-1m.csv')\n",
    "    testX  = pd.read_csv('data/flight/flight_test.csv')\n",
    "    \n",
    "    trainY = (trainX.dep_delayed_15min.values == 'Y') * 1\n",
    "    testY  = (testX.dep_delayed_15min.values == 'Y') * 1\n",
    "    \n",
    "    trainX = trainX.drop('dep_delayed_15min', axis=1)\n",
    "    testX  = testX.drop('dep_delayed_15min', axis=1)\n",
    "    if convert_to_ints:\n",
    "        pdb.set_trace()\n",
    "        categoricals = ['Month', 'DayofMonth', 'DayOfWeek', 'UniqueCarrier', 'Origin', 'Dest',]\n",
    "        continous = ['Distance']\n",
    "        \n",
    "        trainX, testX = process_categorical_features(trainX, testX, columns=categoricals)\n",
    "        trainX, testX = process_continuous_features(trainX, testX, columns=continous)\n",
    "\n",
    "        trainX['DepTime'] = trainX['DepTime'] // 100\n",
    "        testX['DepTime'] = testX['DepTime']   // 100\n",
    "    \n",
    "    return trainX, testX, trainY, testY\n",
    "\n",
    "def load_problem_flight_extended(large=False):\n",
    "    trainX, testX, trainY, testY = load_problem_flight(large=large, convert_to_ints=True)\n",
    "    for column1, column2 in combinations(['UniqueCarrier', 'Origin', 'Dest', 'DepTime'], 2):\n",
    "        new_column = column1 + '_' + column2\n",
    "        trainX[new_column] = trainX[column1] * 10000 + trainX[column2]\n",
    "        testX[new_column]  = testX[column1] * 10000 + testX[column2]\n",
    "    trainX, testX = process_categorical_features(trainX, testX, columns=trainX.columns)\n",
    "    return trainX, testX, trainY, testY    \n",
    "\n",
    "def load_problem_movielens_100k(all_features=False):\n",
    "    '''Standard test dataset for recommendation systems\n",
    "    From http://grouplens.org/datasets/movielens/\n",
    "    '''\n",
    "    folder = 'data/ml-100k'\n",
    "    ratings = pd.read_csv(folder + '/u.data', sep='\\t', \n",
    "                              names=['user', 'movie', 'rating', 'timestamp'], header=None)\n",
    "    ratings = ratings.drop('timestamp', axis=1)\n",
    "    if all_features:\n",
    "        users   = pd.read_csv(folder + '/u.user', sep='|', \n",
    "                                  names=['user', 'age', 'gender', 'occupation', 'zip'], header=None)\n",
    "        movies  = pd.read_csv(folder + '/u.item', sep='|',\n",
    "           names=['movie', 'title','released','video_release', 'IMDb URL','unknown','Action','Adventure','Animation',\n",
    "            'Children','Comedy','Crime','Documentary','Drama','Fantasy','Film-Noir',\n",
    "            'Horror','Musical','Mystery','Romance','Sci-Fi','Thriller','War','Western'], header=None, encoding='latin-1')\n",
    "        \n",
    "        movies = movies.drop(['title', 'IMDb URL', 'video_release'], axis=1)\n",
    "        movies['released'] = pds.to_datetime(movies['released']).map(lambda z: z.year)\n",
    "        ratings = pd.merge(pd.merge(ratings, users, on='user'), movies, on='movie')\n",
    "\n",
    "    answers = ratings['rating'].values\n",
    "    ratings = ratings.drop('rating', axis=1)\n",
    "\n",
    "    for feature in ratings.columns:\n",
    "        _, ratings[feature] = np.unique(ratings[feature], return_inverse=True)\n",
    "        \n",
    "    trainX, testX, trainY, testY = train_test_split(ratings, answers, test_size=0.25, random_state=42)\n",
    "    return trainX, testX, trainY, testY\n",
    "\n",
    "\n",
    "def load_problem_movielens_1m(all_features=False):\n",
    "    '''\n",
    "    Standard test dataset for recommendation systems\n",
    "    From http://grouplens.org/datasets/movielens/\n",
    "    '''\n",
    "    folder = 'data/ml-1m'\n",
    "    ratings = pd.read_csv(folder + '/ratings.dat', sep='::', \n",
    "                              names=['user', 'movie', 'rating', 'timestamp'], header=None)\n",
    "    ratings = ratings.drop('timestamp', axis=1)\n",
    "#     pdb.set_trace()\n",
    "    if all_features:\n",
    "        users = pd.read_csv(folder + '/users.dat', sep='::', \n",
    "                                names=['user', 'gender', 'age', 'occupation', 'zip'], header=None)\n",
    "        movies = pd.read_csv(folder + '/movies.dat', sep='::', names=['movie', 'title', 'genres'], header=None)\n",
    "        sparse_genres = CountVectorizer().fit_transform(movies.genres.map(lambda x: x.replace('|', ' ')))\n",
    "        sparse_genres = pd.DataFrame(sparse_genres.todense())\n",
    "        movies = pd.concat([movies[['movie']], sparse_genres], axis=1)    \n",
    "        ratings = pd.merge(pd.merge(ratings, users, on='user'), movies, on='movie')\n",
    "\n",
    "    answers = ratings['rating'].values\n",
    "    ratings = ratings.drop('rating', axis=1)\n",
    "\n",
    "    for feature in ratings.columns:\n",
    "        _, ratings[feature] = np.unique(ratings[feature], return_inverse=True)\n",
    "        \n",
    "    trainX, testX, trainY, testY = train_test_split(ratings, answers, test_size=0.25, random_state=42)\n",
    "    return trainX, testX, trainY, testY\n",
    "\n",
    "\n",
    "def preprocess_ad_problem():\n",
    "    \"\"\"\n",
    "    Kaggle competition on CTR prediction: https://www.kaggle.com/c/avazu-ctr-prediction\n",
    "    \"\"\"\n",
    "    av_train = pd.read_csv('../data/ad_train.csv')\n",
    "    for column in av_train.columns:\n",
    "        if column != 'hour':        \n",
    "            av_train[column] = np.unique(av_train[column], return_inverse=True)[1].astype('uint16')\n",
    "            \n",
    "    for column in av_train.columns:\n",
    "        if np.max(av_train[column]) < 250:\n",
    "            av_train[column] = av_train[column].astype('uint8')\n",
    "        elif np.max(av_train[column]) < 65000:\n",
    "            av_train[column] = av_train[column].astype('uint16')\n",
    "        else:\n",
    "            av_train[column] = av_train[column].astype('uint32')            \n",
    "            \n",
    "    av_train.to_hdf('../data/ad_updated_train.hdf5', 'data')\n",
    "            \n",
    "def load_problem_ad(train_size=1000000, test_size=10000000):\n",
    "    \"\"\"\n",
    "    Kaggle competition on CTR prediction: https://www.kaggle.com/c/avazu-ctr-prediction\n",
    "    First use preprocess ad.\n",
    "    \"\"\"\n",
    "    data = pd.read_hdf('../data/ad_updated_train.hdf5', 'data')\n",
    "    data['day'] = (data['hour'] // 100) % 100\n",
    "    data['hour'] = data['hour'] % 100\n",
    "    answers = data['click'].values\n",
    "    data = data.drop('click', axis=1)\n",
    "    trainX, testX, trainY, testY = train_test_split(data, answers, train_size=train_size, test_size=test_size, random_state=42)\n",
    "    return trainX, testX, trainY.astype('int'), testY.astype('int')\n",
    "\n",
    "def remap(column, lookup):\n",
    "    return (np.searchsorted(lookup, column) + 1) * np.in1d(column, lookup)\n",
    "\n",
    "def process_categorical_features(trainX, testX, columns, copy=True):\n",
    "    if copy:\n",
    "        trainX = trainX.copy()\n",
    "        testX = testX.copy()\n",
    "    \n",
    "    for column in columns:\n",
    "        lookup = np.unique(trainX[column])\n",
    "        trainX[column] = remap(trainX[column], lookup)\n",
    "        testX[column] = remap(testX[column], lookup)\n",
    "    \n",
    "    return trainX, testX\n",
    "        \n",
    "def process_continuous_features(trainX, testX, columns, copy=True):\n",
    "    if copy:\n",
    "        trainX = trainX.copy()\n",
    "        testX = testX.copy()\n",
    "    \n",
    "    for column in columns:\n",
    "        percentiles = np.percentile(trainX[column], [10, 20, 30, 40, 50, 60, 70, 80, 90])\n",
    "        trainX[column] = np.searchsorted(percentiles, trainX[column])\n",
    "        testX[column]  = np.searchsorted(percentiles, testX[column])\n",
    "    \n",
    "    return trainX, testX\n",
    "\n",
    "\n",
    "\n",
    "\n",
    "\n",
    "\n",
    "\n",
    "import pickle\n",
    "from sklearn.metrics import roc_auc_score, mean_squared_error\n",
    "\n",
    "from fastFM.mcmc import FMClassification, FMRegression\n",
    "from sklearn.preprocessing import OneHotEncoder\n",
    "from sklearn.linear_model import LogisticRegression, Ridge\n",
    "from sklearn.datasets import dump_svmlight_file\n",
    "from pyfm import pylibfm\n",
    "\n",
    "import pdb\n",
    "\n",
    "def fitpredict_logistic(trainX, trainY, testX, classification=True, **params):\n",
    "#     pdb.set_trace()\n",
    "    encoder = OneHotEncoder(handle_unknown='ignore').fit(trainX)\n",
    "    trainX = encoder.transform(trainX)\n",
    "    testX = encoder.transform(testX)\n",
    "    if classification:\n",
    "        clf = LogisticRegression(**params)\n",
    "        clf.fit(trainX, trainY)\n",
    "        return clf.predict_proba(testX)[:, 1]\n",
    "    else:\n",
    "        clf = Ridge(**params)\n",
    "        clf.fit(trainX, trainY)\n",
    "        return clf.predict(testX)\n",
    "\n",
    "def fitpredict_fastfm(trainX, trainY, testX, classification=True, rank=8, n_iter=100):\n",
    "    encoder = OneHotEncoder(handle_unknown='ignore').fit(trainX)\n",
    "    trainX = encoder.transform(trainX)\n",
    "    testX = encoder.transform(testX)\n",
    "    if classification:\n",
    "        clf = FMClassification(rank=rank, n_iter=n_iter)\n",
    "        return clf.fit_predict_proba(trainX, trainY, testX)\n",
    "    else:\n",
    "        clf = FMRegression(rank=rank, n_iter=n_iter)\n",
    "        return clf.fit_predict(trainX, trainY, testX)  \n",
    "\n",
    "def fitpredict_libfm(trainX, trainY, testX, classification=True, rank=8, n_iter=100):\n",
    "    encoder = OneHotEncoder(handle_unknown='ignore').fit(trainX)\n",
    "    trainX = encoder.transform(trainX)\n",
    "    testX = encoder.transform(testX)\n",
    "    train_file = 'libfm_train.txt'\n",
    "    test_file = 'libfm_test.txt'\n",
    "    with open(train_file, 'wb') as f:\n",
    "        dump_svmlight_file(trainX, trainY, f=f)\n",
    "    with open(test_file, 'wb') as f:\n",
    "        dump_svmlight_file(testX, np.zeros(testX.shape[0]), f=f)\n",
    "    task = 'c' if classification else 'r'\n",
    "    LIBFM_PATH = '/home/kai/data/resources/libfm/bin/libFM'\n",
    "    console_output = !$LIBFM_PATH -task $task -method mcmc -train $train_file -test $test_file -iter $n_iter -dim '1,1,$rank' -out output.libfm\n",
    "    \n",
    "    libfm_pred = pd.read_csv('output.libfm', header=None).values.flatten()\n",
    "    return libfm_pred\n",
    "\n",
    "def fitpredict_pylibfm(trainX, trainY, testX, classification=True, rank=8, n_iter=10):\n",
    "    encoder = OneHotEncoder(handle_unknown='ignore').fit(trainX)\n",
    "    trainX = encoder.transform(trainX)\n",
    "    testX = encoder.transform(testX)\n",
    "    task = 'classification' if classification else 'regression'\n",
    "    fm = pylibfm.FM(num_factors=rank, num_iter=n_iter, verbose=False, task=task)\n",
    "    if classification:\n",
    "        fm.fit(trainX, trainY)\n",
    "    else:\n",
    "        fm.fit(trainX, trainY * 1.)\n",
    "    return fm.predict(testX)\n",
    "\n",
    "\n",
    "\n",
    "\n",
    "\n",
    "\n",
    "from collections import OrderedDict\n",
    "import time\n",
    "\n",
    "all_results = OrderedDict()\n",
    "try:\n",
    "    with open('./saved_results.pkl') as f:\n",
    "        all_results = pickle.load(f)\n",
    "except:\n",
    "    pass\n",
    "\n",
    "def test_on_dataset(trainX, testX, trainY, testY, task_name, classification=True, use_pylibfm=True):\n",
    "#     pdb.set_trace()\n",
    "    algorithms = OrderedDict()\n",
    "    algorithms['logistic'] = fitpredict_logistic\n",
    "    algorithms['libFM']    = fitpredict_libfm\n",
    "    algorithms['fastFM']   = fitpredict_fastfm\n",
    "    if use_pylibfm:\n",
    "        algorithms['pylibfm']  = fitpredict_pylibfm\n",
    "    \n",
    "    results = pd.DataFrame()\n",
    "    for name, fit_predict in algorithms.items():\n",
    "        start = time.time()\n",
    "        predictions = fit_predict(trainX, trainY, testX, classification=classification)\n",
    "        spent_time = time.time() - start\n",
    "        results.loc[name, 'time'] = spent_time\n",
    "        if classification:\n",
    "            results.loc[name, 'ROC AUC'] = roc_auc_score(testY, predictions)\n",
    "        else:\n",
    "            results.loc[name, 'RMSE'] = np.mean((testY - predictions) ** 2) ** 0.5\n",
    "            \n",
    "    all_results[task_name] = results\n",
    "#     with open('saved_results.pkl', 'w') as f:\n",
    "#         pickle.dump(all_results, f)\n",
    "        \n",
    "    return results"
   ]
  },
  {
   "cell_type": "code",
   "execution_count": null,
   "metadata": {
    "collapsed": true
   },
   "outputs": [],
   "source": []
  }
 ],
 "metadata": {
  "kernelspec": {
   "display_name": "Python 3",
   "language": "python",
   "name": "python3"
  },
  "language_info": {
   "codemirror_mode": {
    "name": "ipython",
    "version": 3
   },
   "file_extension": ".py",
   "mimetype": "text/x-python",
   "name": "python",
   "nbconvert_exporter": "python",
   "pygments_lexer": "ipython3",
   "version": "3.6.3"
  },
  "varInspector": {
   "cols": {
    "lenName": 16,
    "lenType": 16,
    "lenVar": 40
   },
   "kernels_config": {
    "python": {
     "delete_cmd_postfix": "",
     "delete_cmd_prefix": "del ",
     "library": "var_list.py",
     "varRefreshCmd": "print(var_dic_list())"
    },
    "r": {
     "delete_cmd_postfix": ") ",
     "delete_cmd_prefix": "rm(",
     "library": "var_list.r",
     "varRefreshCmd": "cat(var_dic_list()) "
    }
   },
   "types_to_exclude": [
    "module",
    "function",
    "builtin_function_or_method",
    "instance",
    "_Feature"
   ],
   "window_display": false
  }
 },
 "nbformat": 4,
 "nbformat_minor": 2
}
