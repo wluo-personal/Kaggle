{
 "cells": [
  {
   "cell_type": "code",
   "execution_count": 3,
   "metadata": {
    "ExecuteTime": {
     "end_time": "2018-05-28T14:52:37.422787Z",
     "start_time": "2018-05-28T14:52:37.288838Z"
    }
   },
   "outputs": [],
   "source": [
    "import pandas as pd\n",
    "import sys\n",
    "import pytz\n",
    "import gc\n",
    "\n",
    "input_dir = '/home/kai/data/kaggle/talkingdata/data/'\n",
    "work_dir  = '../work'\n",
    "\n",
    "dtypes = {\n",
    "        'ip'            : 'uint32',\n",
    "        'app'           : 'uint16',\n",
    "        'device'        : 'uint16',\n",
    "        'os'            : 'uint16',\n",
    "        'channel'       : 'uint16',\n",
    "        'is_attributed' : 'uint8',\n",
    "        }\n",
    "nrows=100000\n",
    "#nrows=None\n",
    "train_df = pd.read_csv(input_dir+\"/train.csv\", dtype=dtypes, usecols=['ip','app','device','os', 'channel', 'click_time', 'is_attributed'], nrows=nrows).reset_index()\n",
    "test_df = pd.read_csv(input_dir+\"/test_supplement.csv\", dtype=dtypes, usecols=['ip','app','device','os', 'channel', 'click_time'], nrows=nrows).reset_index()\n",
    "train_df['file_id'] = 0\n",
    "test_df['file_id'] = 1\n",
    "test_df['is_attributed'] = 0\n",
    "\n",
    "len_train = len(train_df)\n",
    "df=train_df.append(test_df)\n",
    "\n",
    "#######################"
   ]
  },
  {
   "cell_type": "code",
   "execution_count": 4,
   "metadata": {
    "ExecuteTime": {
     "end_time": "2018-05-28T14:52:40.881220Z",
     "start_time": "2018-05-28T14:52:40.545699Z"
    }
   },
   "outputs": [
    {
     "name": "stdout",
     "output_type": "stream",
     "text": [
      "########### done for: recumcount_app_device_os_day ###########\n",
      "../work/train_recumcount_app_device_os_day.csv\n",
      "../work/test_supplement_recumcount_app_device_os_day.csv\n"
     ]
    }
   ],
   "source": [
    "\n",
    "\n",
    "def add_col(df,ptn):\n",
    "    name = \"recumcount_\" + ptn\n",
    "    cols = ptn.split(\"_\")\n",
    "    sub = df[['file_id','index']].copy()\n",
    "    sub[name] = df.groupby(cols).cumcount()\n",
    "    tr = sub[sub.file_id == 0].sort_values('index')[[name]]\n",
    "    te = sub[sub.file_id == 1].sort_values('index')[[name]]\n",
    "    tr.to_csv(work_dir + '/train_' + name + '.csv', index=False)\n",
    "    te.to_csv(work_dir + '/test_supplement_' + name + '.csv', index=False)\n",
    "    print('########### done for: ' + name + ' ###########')\n",
    "    print(work_dir + '/train_' + name + '.csv')\n",
    "    print(work_dir + '/test_supplement_' + name + '.csv')\n",
    "    del sub,tr,te\n",
    "    gc.collect()\n",
    "\n",
    "\n",
    "cst = pytz.timezone('Asia/Shanghai')\n",
    "df['click_time'] = pd.to_datetime(df['click_time']).dt.tz_localize(pytz.utc).dt.tz_convert(cst)\n",
    "df['hour'] = df.click_time.dt.hour.astype('uint8')\n",
    "df['day'] = df.click_time.dt.day.astype('uint8')\n",
    "df.sort_values(['click_time','index','file_id'], inplace=True, ascending=False)\n",
    "\n",
    "#'ip','app','device','os', 'channel'\n",
    "patterns = [\n",
    "'app_device_os_day',\n",
    "]\n",
    "\n",
    "for ptn in patterns:\n",
    "    add_col(df, ptn)\n"
   ]
  },
  {
   "cell_type": "code",
   "execution_count": null,
   "metadata": {
    "collapsed": true
   },
   "outputs": [],
   "source": []
  }
 ],
 "metadata": {
  "kernelspec": {
   "display_name": "Python 3",
   "language": "python",
   "name": "python3"
  },
  "language_info": {
   "codemirror_mode": {
    "name": "ipython",
    "version": 3
   },
   "file_extension": ".py",
   "mimetype": "text/x-python",
   "name": "python",
   "nbconvert_exporter": "python",
   "pygments_lexer": "ipython3",
   "version": "3.6.3"
  },
  "varInspector": {
   "cols": {
    "lenName": 16,
    "lenType": 16,
    "lenVar": 40
   },
   "kernels_config": {
    "python": {
     "delete_cmd_postfix": "",
     "delete_cmd_prefix": "del ",
     "library": "var_list.py",
     "varRefreshCmd": "print(var_dic_list())"
    },
    "r": {
     "delete_cmd_postfix": ") ",
     "delete_cmd_prefix": "rm(",
     "library": "var_list.r",
     "varRefreshCmd": "cat(var_dic_list()) "
    }
   },
   "types_to_exclude": [
    "module",
    "function",
    "builtin_function_or_method",
    "instance",
    "_Feature"
   ],
   "window_display": false
  }
 },
 "nbformat": 4,
 "nbformat_minor": 2
}
