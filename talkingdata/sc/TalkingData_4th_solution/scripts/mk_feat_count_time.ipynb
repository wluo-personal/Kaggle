{
 "cells": [
  {
   "cell_type": "code",
   "execution_count": 1,
   "metadata": {
    "ExecuteTime": {
     "end_time": "2018-05-27T22:07:36.798186Z",
     "start_time": "2018-05-27T22:07:36.544082Z"
    }
   },
   "outputs": [],
   "source": [
    "import pandas as pd\n",
    "import sys\n",
    "import pytz\n",
    "import pickle\n",
    "import os\n",
    "import gc\n",
    "\n",
    "nrows=10000\n",
    "# nrows=None\n",
    "\n",
    "input_dir = '/home/kai/data/kaggle/talkingdata/data/'\n",
    "work_dir  = '../work'\n",
    "\n",
    "dtypes = {\n",
    "        'ip'            : 'uint32',\n",
    "        'app'           : 'uint16',\n",
    "        'device'        : 'uint16',\n",
    "        'os'            : 'uint16',\n",
    "        'channel'       : 'uint16',\n",
    "        'is_attributed' : 'uint8',\n",
    "        'click_id'      : 'uint32'\n",
    "        }\n",
    "train_df = pd.read_csv(input_dir+\"/train.csv\", dtype=dtypes, usecols=['ip','app','device','os', 'channel', 'click_time', 'is_attributed'], nrows=nrows)\n",
    "test_df = pd.read_csv(input_dir+\"/test_supplement.csv\", dtype=dtypes, usecols=['ip','app','device','os', 'channel', 'click_time', 'click_id'], nrows=nrows)\n",
    "test_org_df = pd.read_csv(input_dir+\"/test.csv\", dtype=dtypes, usecols=['ip','app','device','os', 'channel', 'click_time', 'click_id'], nrows=nrows)\n",
    "\n",
    "len_train = len(train_df)\n",
    "df=train_df.append(test_df)\n",
    "df.fillna(0,inplace=True)\n"
   ]
  },
  {
   "cell_type": "code",
   "execution_count": 2,
   "metadata": {
    "ExecuteTime": {
     "end_time": "2018-05-27T22:07:39.603449Z",
     "start_time": "2018-05-27T22:07:39.422860Z"
    }
   },
   "outputs": [
    {
     "name": "stdout",
     "output_type": "stream",
     "text": [
      "start for app_day_hourminute\n",
      "########### done for: count_app_day_hourminute ###########\n",
      "../work/test_supplement_count_app_day_hourminute.csv\n",
      "../work/train_count_app_day_hourminute.csv\n",
      "start for device_os_day_hourminute10\n",
      "########### done for: count_device_os_day_hourminute10 ###########\n",
      "../work/test_supplement_count_device_os_day_hourminute10.csv\n",
      "../work/train_count_device_os_day_hourminute10.csv\n",
      "start for ip_device_os_day_hourminute10\n",
      "########### done for: count_ip_device_os_day_hourminute10 ###########\n",
      "../work/test_supplement_count_ip_device_os_day_hourminute10.csv\n",
      "../work/train_count_ip_device_os_day_hourminute10.csv\n"
     ]
    }
   ],
   "source": [
    "#######################\n",
    "def add_col(df,ptn):\n",
    "    print('start for',ptn)\n",
    "    name = \"count_\" + ptn\n",
    "    dummy = 'is_attributed'\n",
    "    cols = ptn.split(\"_\")\n",
    "    cols_with_dummy = cols.copy()\n",
    "    cols_with_dummy.append(dummy)\n",
    "    gp = df[cols_with_dummy].groupby(by=cols)[[dummy]].count().reset_index().rename(index=str, columns={dummy: name})\n",
    "    _df = df.merge(gp, on=cols, how='left')\n",
    "    _df[[name]][len_train:].to_csv(work_dir + '/test_supplement_' + name + '.csv', index=False)\n",
    "    _df[[name]][:len_train].to_csv(work_dir + '/train_' + name + '.csv', index=False)\n",
    "    print('########### done for: ' + name + ' ###########')\n",
    "    print(work_dir + '/test_supplement_' + name + '.csv')\n",
    "    print(work_dir + '/train_' + name + '.csv')\n",
    "\n",
    "cst = pytz.timezone('Asia/Shanghai')\n",
    "df['click_time'] = pd.to_datetime(df['click_time']).dt.tz_localize(pytz.utc).dt.tz_convert(cst)\n",
    "df['hour'] = df.click_time.dt.hour.astype('uint8')\n",
    "df['day'] = df.click_time.dt.day.astype('uint8')\n",
    "test_org_df['click_time'] = pd.to_datetime(test_org_df['click_time']).dt.tz_localize(pytz.utc).dt.tz_convert(cst)\n",
    "test_org_df['hour'] = test_org_df.click_time.dt.hour.astype('uint8')\n",
    "test_org_df['day'] = test_org_df.click_time.dt.day.astype('uint8')\n",
    "\n",
    "df['minute'] = pd.to_datetime(df.click_time).dt.minute.astype('uint8')\n",
    "df['minute10'] = (df['minute']/10).astype('uint8') * 10\n",
    "df['hourminute'] = (df['minute'].astype('uint16') + df['hour'].astype('uint16')*60)\n",
    "df['hourminute10'] = (df['minute10'].astype('uint16') + df['hour'].astype('uint16')*60)\n",
    "\n",
    "test_org_df['minute'] = pd.to_datetime(test_org_df.click_time).dt.minute.astype('uint8')\n",
    "test_org_df['minute10'] = (test_org_df['minute']/10).astype('uint8') * 10\n",
    "test_org_df['hourminute'] = (test_org_df['minute'].astype('uint16') + test_org_df['hour'].astype('uint16')*60)\n",
    "test_org_df['hourminute10'] = (test_org_df['minute10'].astype('uint16') + test_org_df['hour'].astype('uint16')*60)\n",
    "\n",
    "\n",
    "#'ip','app','device','os', 'channel'\n",
    "patterns = [\n",
    "'app_day_hourminute',\n",
    "'device_os_day_hourminute10',\n",
    "'ip_device_os_day_hourminute10',\n",
    "]\n",
    "\n",
    "for ptn in patterns:\n",
    "    add_col(df,ptn)\n"
   ]
  },
  {
   "cell_type": "code",
   "execution_count": null,
   "metadata": {
    "collapsed": true
   },
   "outputs": [],
   "source": []
  }
 ],
 "metadata": {
  "kernelspec": {
   "display_name": "Python 3",
   "language": "python",
   "name": "python3"
  },
  "language_info": {
   "codemirror_mode": {
    "name": "ipython",
    "version": 3
   },
   "file_extension": ".py",
   "mimetype": "text/x-python",
   "name": "python",
   "nbconvert_exporter": "python",
   "pygments_lexer": "ipython3",
   "version": "3.6.3"
  },
  "varInspector": {
   "cols": {
    "lenName": 16,
    "lenType": 16,
    "lenVar": 40
   },
   "kernels_config": {
    "python": {
     "delete_cmd_postfix": "",
     "delete_cmd_prefix": "del ",
     "library": "var_list.py",
     "varRefreshCmd": "print(var_dic_list())"
    },
    "r": {
     "delete_cmd_postfix": ") ",
     "delete_cmd_prefix": "rm(",
     "library": "var_list.r",
     "varRefreshCmd": "cat(var_dic_list()) "
    }
   },
   "position": {
    "height": "315px",
    "left": "930.4px",
    "right": "20px",
    "top": "114px",
    "width": "523px"
   },
   "types_to_exclude": [
    "module",
    "function",
    "builtin_function_or_method",
    "instance",
    "_Feature"
   ],
   "window_display": true
  }
 },
 "nbformat": 4,
 "nbformat_minor": 2
}
