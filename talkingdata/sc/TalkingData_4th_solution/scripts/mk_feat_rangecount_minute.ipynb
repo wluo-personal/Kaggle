{
 "cells": [
  {
   "cell_type": "code",
   "execution_count": 1,
   "metadata": {
    "ExecuteTime": {
     "end_time": "2018-05-29T03:51:09.361495Z",
     "start_time": "2018-05-29T03:51:07.815975Z"
    }
   },
   "outputs": [],
   "source": [
    "import pandas as pd\n",
    "import sys\n",
    "import pytz\n",
    "\n",
    "#######################\n",
    "if len(sys.argv) <= 1:\n",
    "    sys.argv.append(\"\")\n",
    "\n",
    "input_dir = '/home/kai/data/kaggle/talkingdata/data'# + sys.argv[1]\n",
    "work_dir  = '../work'#  + sys.argv[1]\n",
    "\n",
    "dtypes = {\n",
    "        'ip'            : 'uint32',\n",
    "        'app'           : 'uint16',\n",
    "        'device'        : 'uint16',\n",
    "        'os'            : 'uint16',\n",
    "        'channel'       : 'uint16',\n",
    "        'is_attributed' : 'uint8',\n",
    "        'click_id'      : 'uint32'\n",
    "        }\n",
    "nrows=10000\n",
    "#nrows=None\n",
    "train_df = pd.read_csv(input_dir+\"/train.csv\", dtype=dtypes, usecols=['ip','app','device','os', 'channel', 'click_time', 'is_attributed'], nrows=nrows)\n",
    "test_df = pd.read_csv(input_dir+\"/test_supplement.csv\", dtype=dtypes, usecols=['ip','app','device','os', 'channel', 'click_time', 'click_id'], nrows=nrows)\n",
    "test_df['is_attributed'] = 0\n",
    "test_org_df = pd.read_csv(input_dir+\"/test.csv\", dtype=dtypes, usecols=['ip','app','device','os', 'channel', 'click_time', 'click_id'], nrows=nrows)\n",
    "\n",
    "len_train = len(train_df)\n",
    "df=train_df.append(test_df)\n"
   ]
  },
  {
   "cell_type": "code",
   "execution_count": 2,
   "metadata": {
    "ExecuteTime": {
     "end_time": "2018-05-29T03:51:10.923172Z",
     "start_time": "2018-05-29T03:51:10.065116Z"
    },
    "collapsed": true
   },
   "outputs": [],
   "source": [
    "cst = pytz.timezone('Asia/Shanghai')\n",
    "df['click_time'] = pd.to_datetime(df['click_time']).dt.tz_localize(pytz.utc).dt.tz_convert(cst)\n",
    "df['hour'] = df.click_time.dt.hour.astype('uint8')\n",
    "df['day'] = df.click_time.dt.day.astype('uint8')\n",
    "df['minute'] = pd.to_datetime(df.click_time).dt.minute.astype('uint8')\n",
    "df['minute10'] = (df['minute']/10).astype('uint8') * 10\n",
    "df['hourminute'] = (df['minute'].astype('uint16') + df['hour'].astype('uint16')*60)\n",
    "df['hourminute10'] = (df['minute10'].astype('uint16') + df['hour'].astype('uint16')*60)\n",
    "df['dayhourminute'] = (df['hourminute'].astype('uint32') + df['day'].astype('uint32')*60*24)\n",
    "df['dayhourminute10'] = (df['hourminute10'].astype('uint32') + df['day'].astype('uint32')*60*24)\n",
    "\n",
    "#test_org_df['click_time'] = pd.to_datetime(test_org_df['click_time']).dt.tz_localize(pytz.utc).dt.tz_convert(cst)\n",
    "#test_org_df['hour'] = test_org_df.click_time.dt.hour.astype('uint8')\n",
    "#test_org_df['day'] = test_org_df.click_time.dt.day.astype('uint8')\n",
    "#test_org_df['minute'] = pd.to_datetime(test_org_df.click_time).dt.minute.astype('uint8')\n",
    "#test_org_df['minute10'] = (test_org_df['minute']/10).astype('uint8') * 10\n",
    "#test_org_df['hourminute'] = (test_org_df['minute'].astype('uint16') + test_org_df['hour'].astype('uint16')*60)\n",
    "#test_org_df['hourminute10'] = (test_org_df['minute10'].astype('uint16') + test_org_df['hour'].astype('uint16')*60)\n",
    "#test_org_df['dayhourminute'] = (test_org_df['hourminute'].astype('uint32') + test_org_df['day'].astype('uint32')*60*24)\n",
    "#test_org_df['dayhourminute10'] = (test_org_df['hourminute10'].astype('uint32') + test_org_df['day'].astype('uint32')*60*24)\n",
    "\n"
   ]
  },
  {
   "cell_type": "code",
   "execution_count": null,
   "metadata": {
    "ExecuteTime": {
     "start_time": "2018-05-29T04:09:42.025Z"
    },
    "scrolled": true
   },
   "outputs": [],
   "source": [
    "\n",
    "#######################\n",
    "def add_col(df,ptn,tgt):\n",
    "#     import pdb\n",
    "#     pdb.set_trace()\n",
    "    name = tgt + \"count_\" + ptn\n",
    "    dummy = 'is_attributed'\n",
    "    cols = ptn.split(\"_\")\n",
    "    cols_with_day = cols.copy()\n",
    "    cols_with_day.append(tgt)\n",
    "    cols_with_dummy = cols_with_day.copy()\n",
    "    cols_with_dummy.append(dummy)\n",
    "    # # how many times does a combination: ip_dayhourminute appear\n",
    "    # gp1 = df[['ip', 'dayhourminute', 'is_attributed']].groupby(['ip', 'dayhourminute'])[[dummy]].count().reset_index().rename(index=str, columns={'is_attributed':'ip_dayhourminute_count'})\n",
    "    # # how many times does an ip appears in different dayhourminute\n",
    "    # gp2 = gp1[['ip', 'dayhourminute']].groupby(by='ip')[['dayhourminute']].count().reset_index().rename(index=str, columns={'dayhourminute': 'dayhourminutecount_ip'})\n",
    "    gp1 = df[cols_with_dummy].groupby(by=cols_with_day)[[dummy]].count().reset_index().rename(index=str)\n",
    "    gp2 = gp1[cols_with_day].groupby(by=cols)[[tgt]].count().reset_index().rename(index=str, columns={tgt: name})\n",
    "    _df = df.merge(gp2, on=cols, how='left')\n",
    "    _df[[name]][len_train:].to_csv(work_dir + '/test_supplement_' + name + '.csv', index=False)\n",
    "    _df[[name]][:len_train].to_csv(work_dir + '/train_' + name + '.csv', index=False)\n",
    "    print('########### done for: ' + name + ' ###########')\n",
    "    print(work_dir + '/test_supplement_' + name + '.csv')\n",
    "    print(work_dir + '/train_' + name + '.csv')\n",
    "\n",
    "\n",
    "#'ip','app','device','os', 'channel'\n",
    "patterns = [\n",
    "'ip',\n",
    "'app_os_channel',\n",
    "'ip_channel',\n",
    "'ip_device_os',\n",
    "]\n",
    "\n",
    "for ptn in patterns:\n",
    "    add_col(df, ptn,'dayhourminute')\n",
    "    add_col(df, ptn,'dayhourminute10')\n"
   ]
  },
  {
   "cell_type": "code",
   "execution_count": null,
   "metadata": {
    "collapsed": true
   },
   "outputs": [],
   "source": []
  }
 ],
 "metadata": {
  "kernelspec": {
   "display_name": "Python 3",
   "language": "python",
   "name": "python3"
  },
  "language_info": {
   "codemirror_mode": {
    "name": "ipython",
    "version": 3
   },
   "file_extension": ".py",
   "mimetype": "text/x-python",
   "name": "python",
   "nbconvert_exporter": "python",
   "pygments_lexer": "ipython3",
   "version": "3.6.3"
  },
  "varInspector": {
   "cols": {
    "lenName": 16,
    "lenType": 16,
    "lenVar": 40
   },
   "kernels_config": {
    "python": {
     "delete_cmd_postfix": "",
     "delete_cmd_prefix": "del ",
     "library": "var_list.py",
     "varRefreshCmd": "print(var_dic_list())"
    },
    "r": {
     "delete_cmd_postfix": ") ",
     "delete_cmd_prefix": "rm(",
     "library": "var_list.r",
     "varRefreshCmd": "cat(var_dic_list()) "
    }
   },
   "types_to_exclude": [
    "module",
    "function",
    "builtin_function_or_method",
    "instance",
    "_Feature"
   ],
   "window_display": false
  }
 },
 "nbformat": 4,
 "nbformat_minor": 2
}
