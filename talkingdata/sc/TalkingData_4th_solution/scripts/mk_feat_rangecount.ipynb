{
 "cells": [
  {
   "cell_type": "code",
   "execution_count": 5,
   "metadata": {
    "ExecuteTime": {
     "end_time": "2018-05-29T01:36:47.277593Z",
     "start_time": "2018-05-29T01:36:47.272153Z"
    }
   },
   "outputs": [
    {
     "data": {
      "text/plain": [
       "['/home/kai/anaconda3/lib/python3.6/site-packages/ipykernel_launcher.py',\n",
       " '-f',\n",
       " '/home/kai/.local/share/jupyter/runtime/kernel-7062b798-8bfe-4927-8930-d9661c6ddd05.json']"
      ]
     },
     "execution_count": 5,
     "metadata": {},
     "output_type": "execute_result"
    }
   ],
   "source": [
    "sys.argv"
   ]
  },
  {
   "cell_type": "code",
   "execution_count": 1,
   "metadata": {
    "ExecuteTime": {
     "end_time": "2018-05-29T02:56:01.817736Z",
     "start_time": "2018-05-29T02:56:01.429227Z"
    }
   },
   "outputs": [],
   "source": [
    "import pandas as pd\n",
    "import sys\n",
    "import pytz\n",
    "\n",
    "#######################\n",
    "if len(sys.argv) <= 1:\n",
    "    sys.argv.append(\"\")\n",
    "\n",
    "input_dir = '/home/kai/data/kaggle/talkingdata/data'# + sys.argv[1]\n",
    "work_dir  = '../work'#  + sys.argv[1]\n",
    "\n",
    "dtypes = {\n",
    "        'ip'            : 'uint32',\n",
    "        'app'           : 'uint16',\n",
    "        'device'        : 'uint16',\n",
    "        'os'            : 'uint16',\n",
    "        'channel'       : 'uint16',\n",
    "        'is_attributed' : 'uint8',\n",
    "        'click_id'      : 'uint32'\n",
    "        }\n",
    "nrows=100000\n",
    "#nrows=None\n",
    "train_df = pd.read_csv(input_dir+\"/train.csv\", dtype=dtypes, usecols=['ip','app','device','os', 'channel', 'click_time', 'is_attributed'], nrows=nrows)\n",
    "test_df = pd.read_csv(input_dir+\"/test_supplement.csv\", dtype=dtypes, usecols=['ip','app','device','os', 'channel', 'click_time', 'click_id'], nrows=nrows)\n",
    "test_df['is_attributed'] = 0\n",
    "test_org_df = pd.read_csv(input_dir+\"/test.csv\", dtype=dtypes, usecols=['ip','app','device','os', 'channel', 'click_time', 'click_id'], nrows=nrows)\n",
    "\n",
    "len_train = len(train_df)\n",
    "df=train_df.append(test_df)"
   ]
  },
  {
   "cell_type": "code",
   "execution_count": 2,
   "metadata": {
    "ExecuteTime": {
     "end_time": "2018-05-29T02:56:02.685883Z",
     "start_time": "2018-05-29T02:56:02.682593Z"
    },
    "collapsed": true
   },
   "outputs": [],
   "source": [
    "#df = df.sample(n=)"
   ]
  },
  {
   "cell_type": "code",
   "execution_count": 3,
   "metadata": {
    "ExecuteTime": {
     "end_time": "2018-05-29T02:56:03.809151Z",
     "start_time": "2018-05-29T02:56:03.146987Z"
    },
    "scrolled": true
   },
   "outputs": [
    {
     "name": "stdout",
     "output_type": "stream",
     "text": [
      "########### done for: daycount_ip ###########\n",
      "../work/test_supplement_daycount_ip.csv\n",
      "../work/train_daycount_ip.csv\n",
      "########### done for: dayhourcount_ip ###########\n",
      "../work/test_supplement_dayhourcount_ip.csv\n",
      "../work/train_dayhourcount_ip.csv\n"
     ]
    }
   ],
   "source": [
    "\n",
    "#######################\n",
    "def add_col(df,ptn):\n",
    "    name = \"daycount_\" + ptn\n",
    "    dummy = 'is_attributed'\n",
    "    cols = ptn.split(\"_\")\n",
    "    cols_with_day = cols.copy()\n",
    "    tgt = 'day'\n",
    "    cols_with_day.append(tgt)\n",
    "    cols_with_dummy = cols_with_day.copy()\n",
    "    cols_with_dummy.append(dummy)\n",
    "    gp1 = df[cols_with_dummy].groupby(by=cols_with_day)[[dummy]].count().reset_index().rename(index=str)\n",
    "    gp2 = gp1[cols_with_day].groupby(by=cols)[[tgt]].count().reset_index().rename(index=str, columns={tgt: name})\n",
    "    _df = df.merge(gp2, on=cols, how='left')\n",
    "    _df[[name]][len_train:].to_csv(work_dir + '/test_supplement_' + name + '.csv', index=False)\n",
    "    _df[[name]][:len_train].to_csv(work_dir + '/train_' + name + '.csv', index=False)\n",
    "    print('########### done for: ' + name + ' ###########')\n",
    "    print(work_dir + '/test_supplement_' + name + '.csv')\n",
    "    print(work_dir + '/train_' + name + '.csv')\n",
    "\n",
    "    name = \"dayhourcount_\" + ptn\n",
    "    tgt = 'hour'\n",
    "    cols_with_day.append(tgt)\n",
    "    cols_with_dummy = cols_with_day.copy()\n",
    "    cols_with_dummy.append(dummy)\n",
    "    gp1 = df[cols_with_dummy].groupby(by=cols_with_day)[[dummy]].count().reset_index().rename(index=str)\n",
    "    gp2 = gp1[cols_with_day].groupby(by=cols)[[tgt]].count().reset_index().rename(index=str, columns={tgt: name})\n",
    "    _df = df.merge(gp2, on=cols, how='left')\n",
    "    _df[[name]][len_train:].to_csv(work_dir + '/test_supplement_' + name + '.csv', index=False)\n",
    "    _df[[name]][:len_train].to_csv(work_dir + '/train_' + name + '.csv', index=False)\n",
    "    print('########### done for: ' + name + ' ###########')\n",
    "    print(work_dir + '/test_supplement_' + name + '.csv')\n",
    "    print(work_dir + '/train_' + name + '.csv')\n",
    "\n",
    "\n",
    "cst = pytz.timezone('Asia/Shanghai')\n",
    "df['click_time'] = pd.to_datetime(df['click_time']).dt.tz_localize(pytz.utc).dt.tz_convert(cst)\n",
    "df['hour'] = df.click_time.dt.hour.astype('uint8')\n",
    "df['day'] = df.click_time.dt.day.astype('uint8')\n",
    "test_org_df['click_time'] = pd.to_datetime(test_org_df['click_time']).dt.tz_localize(pytz.utc).dt.tz_convert(cst)\n",
    "test_org_df['hour'] = test_org_df.click_time.dt.hour.astype('uint8')\n",
    "test_org_df['day'] = test_org_df.click_time.dt.day.astype('uint8')\n",
    "\n",
    "#'ip','app','device','os', 'channel'\n",
    "patterns = [\n",
    "'ip',\n",
    "]\n",
    "\n",
    "for ptn in patterns:\n",
    "    add_col(df, ptn)\n"
   ]
  },
  {
   "cell_type": "code",
   "execution_count": null,
   "metadata": {
    "collapsed": true
   },
   "outputs": [],
   "source": []
  }
 ],
 "metadata": {
  "kernelspec": {
   "display_name": "Python 3",
   "language": "python",
   "name": "python3"
  },
  "language_info": {
   "codemirror_mode": {
    "name": "ipython",
    "version": 3
   },
   "file_extension": ".py",
   "mimetype": "text/x-python",
   "name": "python",
   "nbconvert_exporter": "python",
   "pygments_lexer": "ipython3",
   "version": "3.6.3"
  },
  "varInspector": {
   "cols": {
    "lenName": 16,
    "lenType": 16,
    "lenVar": 40
   },
   "kernels_config": {
    "python": {
     "delete_cmd_postfix": "",
     "delete_cmd_prefix": "del ",
     "library": "var_list.py",
     "varRefreshCmd": "print(var_dic_list())"
    },
    "r": {
     "delete_cmd_postfix": ") ",
     "delete_cmd_prefix": "rm(",
     "library": "var_list.r",
     "varRefreshCmd": "cat(var_dic_list()) "
    }
   },
   "types_to_exclude": [
    "module",
    "function",
    "builtin_function_or_method",
    "instance",
    "_Feature"
   ],
   "window_display": false
  }
 },
 "nbformat": 4,
 "nbformat_minor": 2
}
