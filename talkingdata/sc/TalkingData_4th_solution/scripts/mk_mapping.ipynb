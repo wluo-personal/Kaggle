{
 "cells": [
  {
   "cell_type": "code",
   "execution_count": 3,
   "metadata": {
    "ExecuteTime": {
     "end_time": "2018-05-25T00:33:12.504293Z",
     "start_time": "2018-05-25T00:31:53.945606Z"
    }
   },
   "outputs": [
    {
     "name": "stdout",
     "output_type": "stream",
     "text": [
      "Number of ids mismatch for \",79665,12,1,17,178,2017-11-10 04:00:00\", test ids = ['59'], old test ids = ['21290705', '21290936']\n",
      "Number of ids mismatch for \",3859,12,1,19,178,2017-11-10 04:00:00\", test ids = ['82'], old test ids = ['21290785', '21290958']\n",
      "Number of ids mismatch for \",3859,8,1,19,145,2017-11-10 04:00:00\", test ids = ['138'], old test ids = ['21290658', '21291016']\n",
      "Number of ids mismatch for \",79665,8,1,17,145,2017-11-10 04:00:00\", test ids = ['213'], old test ids = ['21290592', '21291090']\n",
      "Number of ids mismatch for \",43655,8,1,15,145,2017-11-10 04:00:00\", test ids = ['282'], old test ids = ['21290822', '21291157']\n",
      "Number of ids mismatch for \",20264,12,1,13,178,2017-11-10 06:00:00\", test ids = ['6202604'], old test ids = ['27493480', '27493896']\n",
      "Number of ids mismatch for \",96692,8,1,19,145,2017-11-10 06:00:00\", test ids = ['6202670'], old test ids = ['27493546', '27493810']\n",
      "Number of ids mismatch for \",110078,12,1,13,178,2017-11-10 06:00:00\", test ids = ['6202752'], old test ids = ['27493629', '27493878']\n",
      "Number of ids mismatch for \",83230,12,1,20,178,2017-11-10 06:00:00\", test ids = ['6202908'], old test ids = ['27493784', '27493883']\n",
      "Number of ids mismatch for \",32472,18,1,13,265,2017-11-10 09:00:00\", test ids = ['6202989'], old test ids = ['35678508', '35678752']\n",
      "Number of ids mismatch for \",71295,21,1,19,232,2017-11-10 09:00:00\", test ids = ['6203027'], old test ids = ['35678680', '35678790']\n",
      "Number of ids mismatch for \",80195,18,1,13,265,2017-11-10 09:00:00\", test ids = ['6203058'], old test ids = ['35678623', '35678821']\n",
      "Number of ids mismatch for \",122824,21,1,19,232,2017-11-10 09:00:00\", test ids = ['6203121'], old test ids = ['35678550', '35678884']\n",
      "Number of ids mismatch for \",122417,3,2,25,137,2017-11-10 09:00:00\", test ids = ['6203132'], old test ids = ['35678304', '35678895']\n",
      "Number of ids mismatch for \",53454,9,1,8,442,2017-11-10 09:00:00\", test ids = ['6203171'], old test ids = ['35678584', '35678934']\n",
      "Number of ids mismatch for \",18323,21,1,19,232,2017-11-10 09:00:00\", test ids = ['6203226'], old test ids = ['35678636', '35678989']\n",
      "Number of ids mismatch for \",26402,22,1,19,116,2017-11-10 09:00:00\", test ids = ['6203227'], old test ids = ['35678684', '35678990']\n",
      "Number of ids mismatch for \",118696,12,1,35,178,2017-11-10 11:00:00\", test ids = ['12315755'], old test ids = ['41791518', '41792139']\n",
      "Number of ids mismatch for \",5281,18,1,19,265,2017-11-10 11:00:00\", test ids = ['12315760'], old test ids = ['41791523', '41792172']\n",
      "Number of ids mismatch for \",11089,9,1,25,234,2017-11-10 11:00:00\", test ids = ['12315822'], old test ids = ['41791586', '41791988']\n",
      "Number of ids mismatch for \",99503,9,1,3,442,2017-11-10 11:00:00\", test ids = ['12315886'], old test ids = ['41791647', '41792084']\n",
      "Number of ids mismatch for \",108180,9,2,19,234,2017-11-10 11:00:00\", test ids = ['12316037'], old test ids = ['41791799', '41792297']\n",
      "Number of ids mismatch for \",100157,18,1,17,265,2017-11-10 13:00:00\", test ids = ['12316195'], old test ids = ['48109919', '48109985']\n",
      "Number of ids mismatch for \",4769,12,1,13,178,2017-11-10 13:00:00\", test ids = ['12316220'], old test ids = ['48109518', '48110010']\n",
      "Number of ids mismatch for \",35182,9,1,6,442,2017-11-10 13:00:00\", test ids = ['12316294'], old test ids = ['48109898', '48110083']\n",
      "Number of ids mismatch for \",104672,9,1,16,442,2017-11-10 13:00:00\", test ids = ['12316453'], old test ids = ['48109575', '48110243']\n",
      "Number of ids mismatch for \",61635,12,1,13,178,2017-11-10 13:00:00\", test ids = ['12316552'], old test ids = ['48109663', '48110341']\n",
      "Number of ids mismatch for \",90509,9,1,41,442,2017-11-10 15:00:00\", test ids = ['18790087'], old test ids = ['54583877', '54584427']\n",
      "Number of ids mismatch for \",6437,9,1,13,127,2017-11-10 15:00:00\", test ids = ['18790099'], old test ids = ['54583887', '54584310']\n",
      "Number of ids mismatch for \",37112,14,1,46,349,2017-11-10 15:00:00\", test ids = ['18790100'], old test ids = ['54583890', '54584535']\n",
      "Number of ids mismatch for \",102467,8,1,17,145,2017-11-10 15:00:00\", test ids = ['18790219'], old test ids = ['54584009', '54584326']\n",
      "Number of ids mismatch for \",87879,18,1,15,379,2017-11-10 15:00:00\", test ids = ['18790262'], old test ids = ['54584052', '54584313']\n",
      "Number of ids mismatch for \",8825,8,1,13,145,2017-11-10 15:00:00\", test ids = ['18790311'], old test ids = ['54584101', '54584381']\n"
     ]
    }
   ],
   "source": [
    "# this code is writen by Alexander Firsov\n",
    "# https://www.kaggle.com/alexfir/mapping-between-test-supplement-csv-and-test-csv\n",
    "\n",
    "old_file_path = '/home/kai/data/kaggle/talkingdata/data/test_supplement.csv'\n",
    "file_path = '/home/kai/data/kaggle/talkingdata/data/test.csv'\n",
    "output_file_path = '/home/kai/data/kaggle/talkingdata/data/mapping.csv'\n",
    "\n",
    "\n",
    "def _split(line):\n",
    "    line = line.strip()\n",
    "    index = line.index(',')\n",
    "    last_index = line.rindex(',')\n",
    "    click_id = line[:index]\n",
    "    payload = line[index:]\n",
    "    time = line[last_index:]\n",
    "    return click_id, payload, time\n",
    "\n",
    "def _read_same_time(lines, unprocessed_line):\n",
    "    click_id, payload, group_time = _split(unprocessed_line)\n",
    "    click_id_dict = {payload: [click_id]}\n",
    "    while True:\n",
    "        unprocessed_line = lines.readline()\n",
    "        if not unprocessed_line:\n",
    "            return unprocessed_line, click_id_dict, group_time\n",
    "        click_id, payload, click_time = _split(unprocessed_line)\n",
    "        if group_time == click_time:\n",
    "            if payload in click_id_dict:\n",
    "                click_id_dict[payload].append(click_id)\n",
    "            else:\n",
    "                click_id_dict[payload] = [click_id]\n",
    "        else:\n",
    "            return unprocessed_line, click_id_dict, group_time\n",
    "\n",
    "def _find_time(lines, group_time, unprocessed_line):\n",
    "    if unprocessed_line:\n",
    "        click_id, payload, time = _split(unprocessed_line)\n",
    "        if group_time == time:\n",
    "            return unprocessed_line\n",
    "    while True:\n",
    "        unprocessed_line = lines.readline()\n",
    "        click_id, payload, time = _split(unprocessed_line)\n",
    "        if group_time == time:\n",
    "            return unprocessed_line\n",
    "\n",
    "\n",
    "def _save(output, test_click_id_dict, old_test_click_id_dict):\n",
    "    for payload, click_ids in test_click_id_dict.items():\n",
    "        old_click_ids = old_test_click_id_dict[payload]\n",
    "        if len(old_click_ids) != len(click_ids):\n",
    "            print('Number of ids mismatch for \"{}\", test ids = {}, old test ids = {}'.format(payload, click_ids,\n",
    "                                                                                             old_click_ids))\n",
    "        for i in range(len(click_ids)):\n",
    "            output.write('{},{}\\n'.format(click_ids[i], old_click_ids[i]))\n",
    "\n",
    "\n",
    "with open(file_path, \"r\", encoding=\"utf-8\") as test:\n",
    "    with open(old_file_path, \"r\", encoding=\"utf-8\") as old_test:\n",
    "        with open(output_file_path, \"w\", encoding=\"utf-8\") as output:\n",
    "            output.write('click_id,old_click_id\\n')\n",
    "            test.readline()  # skip header\n",
    "            old_test.readline()  # skip header\n",
    "            old_test_unprocessed_line = old_test.readline()\n",
    "            test_unprocessed_line = test.readline()\n",
    "            while test_unprocessed_line != '':\n",
    "                test_unprocessed_line, test_click_id_dict, click_time = _read_same_time(test, test_unprocessed_line)\n",
    "                old_test_unprocessed_line = _find_time(old_test, click_time, old_test_unprocessed_line)\n",
    "                old_test_unprocessed_line, old_test_click_id_dict, _ = _read_same_time(old_test,\n",
    "                                                                                       old_test_unprocessed_line)\n",
    "                _save(output, test_click_id_dict, old_test_click_id_dict)\n",
    "        pass\n",
    "\n",
    "\n",
    "import pandas as pd\n",
    "mapping = pd.read_csv(output_file_path, dtype={'click_id': 'int32','old_click_id': 'int32'}, engine='c',\n",
    "                na_filter=False,memory_map=True)\n",
    "\n"
   ]
  },
  {
   "cell_type": "code",
   "execution_count": 8,
   "metadata": {
    "ExecuteTime": {
     "end_time": "2018-05-25T00:42:27.530085Z",
     "start_time": "2018-05-25T00:42:27.448888Z"
    }
   },
   "outputs": [
    {
     "data": {
      "text/html": [
       "<div>\n",
       "<style>\n",
       "    .dataframe thead tr:only-child th {\n",
       "        text-align: right;\n",
       "    }\n",
       "\n",
       "    .dataframe thead th {\n",
       "        text-align: left;\n",
       "    }\n",
       "\n",
       "    .dataframe tbody tr th {\n",
       "        vertical-align: top;\n",
       "    }\n",
       "</style>\n",
       "<table border=\"1\" class=\"dataframe\">\n",
       "  <thead>\n",
       "    <tr style=\"text-align: right;\">\n",
       "      <th></th>\n",
       "      <th>click_id</th>\n",
       "      <th>old_click_id</th>\n",
       "    </tr>\n",
       "  </thead>\n",
       "  <tbody>\n",
       "    <tr>\n",
       "      <th>18790099</th>\n",
       "      <td>18790099</td>\n",
       "      <td>54583887</td>\n",
       "    </tr>\n",
       "  </tbody>\n",
       "</table>\n",
       "</div>"
      ],
      "text/plain": [
       "          click_id  old_click_id\n",
       "18790099  18790099      54583887"
      ]
     },
     "execution_count": 8,
     "metadata": {},
     "output_type": "execute_result"
    }
   ],
   "source": [
    "mapping[mapping.click_id==18790099]"
   ]
  },
  {
   "cell_type": "code",
   "execution_count": 9,
   "metadata": {
    "ExecuteTime": {
     "end_time": "2018-05-25T00:43:10.045709Z",
     "start_time": "2018-05-25T00:43:10.014987Z"
    }
   },
   "outputs": [
    {
     "data": {
      "text/html": [
       "<div>\n",
       "<style>\n",
       "    .dataframe thead tr:only-child th {\n",
       "        text-align: right;\n",
       "    }\n",
       "\n",
       "    .dataframe thead th {\n",
       "        text-align: left;\n",
       "    }\n",
       "\n",
       "    .dataframe tbody tr th {\n",
       "        vertical-align: top;\n",
       "    }\n",
       "</style>\n",
       "<table border=\"1\" class=\"dataframe\">\n",
       "  <thead>\n",
       "    <tr style=\"text-align: right;\">\n",
       "      <th></th>\n",
       "      <th>click_id</th>\n",
       "      <th>old_click_id</th>\n",
       "    </tr>\n",
       "  </thead>\n",
       "  <tbody>\n",
       "    <tr>\n",
       "      <th>18790099</th>\n",
       "      <td>18790099</td>\n",
       "      <td>54583887</td>\n",
       "    </tr>\n",
       "  </tbody>\n",
       "</table>\n",
       "</div>"
      ],
      "text/plain": [
       "          click_id  old_click_id\n",
       "18790099  18790099      54583887"
      ]
     },
     "execution_count": 9,
     "metadata": {},
     "output_type": "execute_result"
    }
   ],
   "source": [
    "mapping[mapping.old_click_id==54583887]"
   ]
  },
  {
   "cell_type": "code",
   "execution_count": 10,
   "metadata": {
    "ExecuteTime": {
     "end_time": "2018-05-25T00:43:29.846928Z",
     "start_time": "2018-05-25T00:43:29.827245Z"
    }
   },
   "outputs": [
    {
     "data": {
      "text/html": [
       "<div>\n",
       "<style>\n",
       "    .dataframe thead tr:only-child th {\n",
       "        text-align: right;\n",
       "    }\n",
       "\n",
       "    .dataframe thead th {\n",
       "        text-align: left;\n",
       "    }\n",
       "\n",
       "    .dataframe tbody tr th {\n",
       "        vertical-align: top;\n",
       "    }\n",
       "</style>\n",
       "<table border=\"1\" class=\"dataframe\">\n",
       "  <thead>\n",
       "    <tr style=\"text-align: right;\">\n",
       "      <th></th>\n",
       "      <th>click_id</th>\n",
       "      <th>old_click_id</th>\n",
       "    </tr>\n",
       "  </thead>\n",
       "  <tbody>\n",
       "  </tbody>\n",
       "</table>\n",
       "</div>"
      ],
      "text/plain": [
       "Empty DataFrame\n",
       "Columns: [click_id, old_click_id]\n",
       "Index: []"
      ]
     },
     "execution_count": 10,
     "metadata": {},
     "output_type": "execute_result"
    }
   ],
   "source": [
    "mapping[mapping.old_click_id==54584310]"
   ]
  },
  {
   "cell_type": "code",
   "execution_count": 4,
   "metadata": {
    "ExecuteTime": {
     "end_time": "2018-05-25T00:41:39.272186Z",
     "start_time": "2018-05-25T00:41:39.256137Z"
    }
   },
   "outputs": [
    {
     "data": {
      "text/plain": [
       "(18790469, 2)"
      ]
     },
     "execution_count": 4,
     "metadata": {},
     "output_type": "execute_result"
    }
   ],
   "source": [
    "mapping.shape"
   ]
  },
  {
   "cell_type": "code",
   "execution_count": 5,
   "metadata": {
    "ExecuteTime": {
     "end_time": "2018-05-25T00:41:43.882618Z",
     "start_time": "2018-05-25T00:41:43.871703Z"
    }
   },
   "outputs": [
    {
     "data": {
      "text/html": [
       "<div>\n",
       "<style>\n",
       "    .dataframe thead tr:only-child th {\n",
       "        text-align: right;\n",
       "    }\n",
       "\n",
       "    .dataframe thead th {\n",
       "        text-align: left;\n",
       "    }\n",
       "\n",
       "    .dataframe tbody tr th {\n",
       "        vertical-align: top;\n",
       "    }\n",
       "</style>\n",
       "<table border=\"1\" class=\"dataframe\">\n",
       "  <thead>\n",
       "    <tr style=\"text-align: right;\">\n",
       "      <th></th>\n",
       "      <th>click_id</th>\n",
       "      <th>old_click_id</th>\n",
       "    </tr>\n",
       "  </thead>\n",
       "  <tbody>\n",
       "    <tr>\n",
       "      <th>0</th>\n",
       "      <td>0</td>\n",
       "      <td>21290878</td>\n",
       "    </tr>\n",
       "    <tr>\n",
       "      <th>1</th>\n",
       "      <td>1</td>\n",
       "      <td>21290876</td>\n",
       "    </tr>\n",
       "    <tr>\n",
       "      <th>2</th>\n",
       "      <td>2</td>\n",
       "      <td>21290877</td>\n",
       "    </tr>\n",
       "    <tr>\n",
       "      <th>3</th>\n",
       "      <td>3</td>\n",
       "      <td>21290879</td>\n",
       "    </tr>\n",
       "    <tr>\n",
       "      <th>4</th>\n",
       "      <td>4</td>\n",
       "      <td>21290880</td>\n",
       "    </tr>\n",
       "  </tbody>\n",
       "</table>\n",
       "</div>"
      ],
      "text/plain": [
       "   click_id  old_click_id\n",
       "0         0      21290878\n",
       "1         1      21290876\n",
       "2         2      21290877\n",
       "3         3      21290879\n",
       "4         4      21290880"
      ]
     },
     "execution_count": 5,
     "metadata": {},
     "output_type": "execute_result"
    }
   ],
   "source": [
    "mapping.head()"
   ]
  },
  {
   "cell_type": "code",
   "execution_count": null,
   "metadata": {
    "collapsed": true
   },
   "outputs": [],
   "source": []
  }
 ],
 "metadata": {
  "kernelspec": {
   "display_name": "Python 3",
   "language": "python",
   "name": "python3"
  },
  "language_info": {
   "codemirror_mode": {
    "name": "ipython",
    "version": 3
   },
   "file_extension": ".py",
   "mimetype": "text/x-python",
   "name": "python",
   "nbconvert_exporter": "python",
   "pygments_lexer": "ipython3",
   "version": "3.6.3"
  },
  "varInspector": {
   "cols": {
    "lenName": 16,
    "lenType": 16,
    "lenVar": 40
   },
   "kernels_config": {
    "python": {
     "delete_cmd_postfix": "",
     "delete_cmd_prefix": "del ",
     "library": "var_list.py",
     "varRefreshCmd": "print(var_dic_list())"
    },
    "r": {
     "delete_cmd_postfix": ") ",
     "delete_cmd_prefix": "rm(",
     "library": "var_list.r",
     "varRefreshCmd": "cat(var_dic_list()) "
    }
   },
   "types_to_exclude": [
    "module",
    "function",
    "builtin_function_or_method",
    "instance",
    "_Feature"
   ],
   "window_display": false
  }
 },
 "nbformat": 4,
 "nbformat_minor": 2
}
