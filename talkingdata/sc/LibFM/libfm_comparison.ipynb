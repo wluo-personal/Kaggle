{
 "cells": [
  {
   "cell_type": "markdown",
   "metadata": {},
   "source": [
    "# utils methods "
   ]
  },
  {
   "cell_type": "code",
   "execution_count": 1,
   "metadata": {
    "ExecuteTime": {
     "end_time": "2018-05-22T04:13:48.778374Z",
     "start_time": "2018-05-22T04:13:46.875345Z"
    },
    "collapsed": true
   },
   "outputs": [],
   "source": [
    "import numpy\n",
    "import pandas\n",
    "from sklearn.model_selection import train_test_split\n",
    "from sklearn.feature_extraction.text import CountVectorizer\n",
    "from itertools import combinations\n",
    "\n",
    "def load_problem_flight(large=False, convert_to_ints=False):\n",
    "    '''\n",
    "    Dataset used in common ML benchmarks: https://github.com/szilard/benchm-ml\n",
    "    links to files:\n",
    "    https://s3.amazonaws.com/benchm-ml--main/test.csv\n",
    "    https://s3.amazonaws.com/benchm-ml--main/train-0.1m.csv\n",
    "    https://s3.amazonaws.com/benchm-ml--main/train-1m.csv\n",
    "    https://s3.amazonaws.com/benchm-ml--main/train-10m.csv\n",
    "    '''\n",
    "    if large:\n",
    "        trainX = pandas.read_csv('data/flight/flight_train-10m.csv')\n",
    "    else:\n",
    "        trainX = pandas.read_csv('data/flight/flight_train-1m.csv')\n",
    "    testX  = pandas.read_csv('data/flight/flight_test.csv')\n",
    "    \n",
    "    trainY = (trainX.dep_delayed_15min.values == 'Y') * 1\n",
    "    testY  = (testX.dep_delayed_15min.values == 'Y') * 1\n",
    "    \n",
    "    trainX = trainX.drop('dep_delayed_15min', axis=1)\n",
    "    testX  = testX.drop('dep_delayed_15min', axis=1)\n",
    "    if convert_to_ints:\n",
    "#         pdb.set_trace()\n",
    "        categoricals = ['Month', 'DayofMonth', 'DayOfWeek', 'UniqueCarrier', 'Origin', 'Dest',]\n",
    "        continous = ['Distance']\n",
    "        \n",
    "        trainX, testX = process_categorical_features(trainX, testX, columns=categoricals)\n",
    "        trainX, testX = process_continuous_features(trainX, testX, columns=continous)\n",
    "\n",
    "        trainX['DepTime'] = trainX['DepTime'] // 100\n",
    "        testX['DepTime'] = testX['DepTime']   // 100\n",
    "    \n",
    "    return trainX, testX, trainY, testY\n",
    "\n",
    "def load_problem_flight_extended(large=False):\n",
    "    trainX, testX, trainY, testY = load_problem_flight(large=large, convert_to_ints=True)\n",
    "    for column1, column2 in combinations(['UniqueCarrier', 'Origin', 'Dest', 'DepTime'], 2):\n",
    "        new_column = column1 + '_' + column2\n",
    "        trainX[new_column] = trainX[column1] * 10000 + trainX[column2]\n",
    "        testX[new_column]  = testX[column1] * 10000 + testX[column2]\n",
    "    trainX, testX = process_categorical_features(trainX, testX, columns=trainX.columns)\n",
    "    return trainX, testX, trainY, testY    \n",
    "\n",
    "def load_problem_movielens_100k(all_features=False):\n",
    "    '''Standard test dataset for recommendation systems\n",
    "    From http://grouplens.org/datasets/movielens/\n",
    "    '''\n",
    "    folder = 'data/ml-100k'\n",
    "    ratings = pandas.read_csv(folder + '/u.data', sep='\\t', \n",
    "                              names=['user', 'movie', 'rating', 'timestamp'], header=None)\n",
    "    ratings = ratings.drop('timestamp', axis=1)\n",
    "    if all_features:\n",
    "        users   = pandas.read_csv(folder + '/u.user', sep='|', \n",
    "                                  names=['user', 'age', 'gender', 'occupation', 'zip'], header=None)\n",
    "        movies  = pandas.read_csv(folder + '/u.item', sep='|',\n",
    "           names=['movie', 'title','released','video_release', 'IMDb URL','unknown','Action','Adventure','Animation',\n",
    "            'Children','Comedy','Crime','Documentary','Drama','Fantasy','Film-Noir',\n",
    "            'Horror','Musical','Mystery','Romance','Sci-Fi','Thriller','War','Western'], header=None, encoding='latin-1')\n",
    "        \n",
    "        movies = movies.drop(['title', 'IMDb URL', 'video_release'], axis=1)\n",
    "        movies['released'] = pandas.to_datetime(movies['released']).map(lambda z: z.year)\n",
    "        ratings = pandas.merge(pandas.merge(ratings, users, on='user'), movies, on='movie')\n",
    "\n",
    "    answers = ratings['rating'].values\n",
    "    ratings = ratings.drop('rating', axis=1)\n",
    "\n",
    "    for feature in ratings.columns:\n",
    "        _, ratings[feature] = numpy.unique(ratings[feature], return_inverse=True)\n",
    "        \n",
    "    trainX, testX, trainY, testY = train_test_split(ratings, answers, test_size=0.25, random_state=42)\n",
    "    return trainX, testX, trainY, testY\n",
    "\n",
    "\n",
    "def load_problem_movielens_1m(all_features=False):\n",
    "    '''\n",
    "    Standard test dataset for recommendation systems\n",
    "    From http://grouplens.org/datasets/movielens/\n",
    "    '''\n",
    "    folder = 'data/ml-1m'\n",
    "    ratings = pandas.read_csv(folder + '/ratings.dat', sep='::', \n",
    "                              names=['user', 'movie', 'rating', 'timestamp'], header=None)\n",
    "    ratings = ratings.drop('timestamp', axis=1)\n",
    "#     pdb.set_trace()\n",
    "    if all_features:\n",
    "        users = pandas.read_csv(folder + '/users.dat', sep='::', \n",
    "                                names=['user', 'gender', 'age', 'occupation', 'zip'], header=None)\n",
    "        movies = pandas.read_csv(folder + '/movies.dat', sep='::', names=['movie', 'title', 'genres'], header=None)\n",
    "        sparse_genres = CountVectorizer().fit_transform(movies.genres.map(lambda x: x.replace('|', ' ')))\n",
    "        sparse_genres = pandas.DataFrame(sparse_genres.todense())\n",
    "        movies = pandas.concat([movies[['movie']], sparse_genres], axis=1)    \n",
    "        ratings = pandas.merge(pandas.merge(ratings, users, on='user'), movies, on='movie')\n",
    "\n",
    "    answers = ratings['rating'].values\n",
    "    ratings = ratings.drop('rating', axis=1)\n",
    "\n",
    "    for feature in ratings.columns:\n",
    "        _, ratings[feature] = numpy.unique(ratings[feature], return_inverse=True)\n",
    "        \n",
    "    trainX, testX, trainY, testY = train_test_split(ratings, answers, test_size=0.25, random_state=42)\n",
    "    return trainX, testX, trainY, testY\n",
    "\n",
    "\n",
    "def preprocess_ad_problem():\n",
    "    \"\"\"\n",
    "    Kaggle competition on CTR prediction: https://www.kaggle.com/c/avazu-ctr-prediction\n",
    "    \"\"\"\n",
    "    av_train = pandas.read_csv('../data/ad_train.csv')\n",
    "    for column in av_train.columns:\n",
    "        if column != 'hour':        \n",
    "            av_train[column] = numpy.unique(av_train[column], return_inverse=True)[1].astype('uint16')\n",
    "            \n",
    "    for column in av_train.columns:\n",
    "        if numpy.max(av_train[column]) < 250:\n",
    "            av_train[column] = av_train[column].astype('uint8')\n",
    "        elif numpy.max(av_train[column]) < 65000:\n",
    "            av_train[column] = av_train[column].astype('uint16')\n",
    "        else:\n",
    "            av_train[column] = av_train[column].astype('uint32')            \n",
    "            \n",
    "    av_train.to_hdf('../data/ad_updated_train.hdf5', 'data')\n",
    "            \n",
    "def load_problem_ad(train_size=1000000, test_size=10000000):\n",
    "    \"\"\"\n",
    "    Kaggle competition on CTR prediction: https://www.kaggle.com/c/avazu-ctr-prediction\n",
    "    First use preprocess ad.\n",
    "    \"\"\"\n",
    "    data = pandas.read_hdf('../data/ad_updated_train.hdf5', 'data')\n",
    "    data['day'] = (data['hour'] // 100) % 100\n",
    "    data['hour'] = data['hour'] % 100\n",
    "    answers = data['click'].values\n",
    "    data = data.drop('click', axis=1)\n",
    "    trainX, testX, trainY, testY = train_test_split(data, answers, train_size=train_size, test_size=test_size, random_state=42)\n",
    "    return trainX, testX, trainY.astype('int'), testY.astype('int')\n",
    "\n",
    "def remap(column, lookup):\n",
    "    return (numpy.searchsorted(lookup, column) + 1) * numpy.in1d(column, lookup)\n",
    "\n",
    "def process_categorical_features(trainX, testX, columns, copy=True):\n",
    "    if copy:\n",
    "        trainX = trainX.copy()\n",
    "        testX = testX.copy()\n",
    "    \n",
    "    for column in columns:\n",
    "        # hand-write labelencoding\n",
    "        lookup = numpy.unique(trainX[column])\n",
    "        trainX[column] = remap(trainX[column], lookup)\n",
    "        testX[column] = remap(testX[column], lookup)\n",
    "    \n",
    "    return trainX, testX\n",
    "        \n",
    "def process_continuous_features(trainX, testX, columns, copy=True):\n",
    "    if copy:\n",
    "        trainX = trainX.copy()\n",
    "        testX = testX.copy()\n",
    "    \n",
    "    for column in columns:\n",
    "        # discretization by putting continues data into buckets which contain equal number of records\n",
    "        percentiles = numpy.percentile(trainX[column], [10, 20, 30, 40, 50, 60, 70, 80, 90])\n",
    "#         pdb.set_trace()\n",
    "        trainX[column] = numpy.searchsorted(percentiles, trainX[column]).astype('uint8')\n",
    "        testX[column]  = numpy.searchsorted(percentiles, testX[column]).astype('uint8')\n",
    "    \n",
    "    return trainX, testX\n",
    "\n",
    "\n",
    "\n",
    "\n",
    "\n",
    "\n",
    "\n",
    "import numpy\n",
    "import pandas\n",
    "import pickle\n",
    "from sklearn.metrics import roc_auc_score, mean_squared_error\n",
    "\n",
    "from fastFM.mcmc import FMClassification, FMRegression\n",
    "from sklearn.preprocessing import OneHotEncoder\n",
    "from sklearn.linear_model import LogisticRegression, Ridge\n",
    "from sklearn.datasets import dump_svmlight_file\n",
    "from pyfm import pylibfm\n",
    "\n",
    "import pdb\n",
    "\n",
    "def fitpredict_logistic(trainX, trainY, testX, classification=True, **params):\n",
    "#     pdb.set_trace()\n",
    "    encoder = OneHotEncoder(handle_unknown='ignore').fit(trainX)\n",
    "    trainX = encoder.transform(trainX)\n",
    "    testX = encoder.transform(testX)\n",
    "    if classification:\n",
    "        clf = LogisticRegression(**params)\n",
    "        clf.fit(trainX, trainY)\n",
    "        return clf.predict_proba(testX)[:, 1]\n",
    "    else:\n",
    "        clf = Ridge(**params)\n",
    "        clf.fit(trainX, trainY)\n",
    "        return clf.predict(testX)\n",
    "\n",
    "def fitpredict_fastfm(trainX, trainY, testX, classification=True, rank=8, n_iter=100):\n",
    "    encoder = OneHotEncoder(handle_unknown='ignore').fit(trainX)\n",
    "    trainX = encoder.transform(trainX)\n",
    "    testX = encoder.transform(testX)\n",
    "    if classification:\n",
    "        clf = FMClassification(rank=rank, n_iter=n_iter)\n",
    "        return clf.fit_predict_proba(trainX, trainY, testX)\n",
    "    else:\n",
    "        clf = FMRegression(rank=rank, n_iter=n_iter)\n",
    "        return clf.fit_predict(trainX, trainY, testX)  \n",
    "\n",
    "def fitpredict_libfm(trainX, trainY, testX, classification=True, rank=8, n_iter=100):\n",
    "    encoder = OneHotEncoder(handle_unknown='ignore').fit(trainX)\n",
    "    trainX = encoder.transform(trainX)\n",
    "    testX = encoder.transform(testX)\n",
    "    train_file = 'libfm_train.txt'\n",
    "    test_file = 'libfm_test.txt'\n",
    "    with open(train_file, 'wb') as f:\n",
    "        dump_svmlight_file(trainX, trainY, f=f)\n",
    "    with open(test_file, 'wb') as f:\n",
    "        dump_svmlight_file(testX, numpy.zeros(testX.shape[0]), f=f)\n",
    "    task = 'c' if classification else 'r'\n",
    "    LIBFM_PATH = '/home/kai/data/resources/libfm/bin/libFM'\n",
    "    console_output = !$LIBFM_PATH -task $task -method mcmc -train $train_file -test $test_file -iter $n_iter -dim '1,1,$rank' -out output.libfm\n",
    "    \n",
    "    libfm_pred = pandas.read_csv('output.libfm', header=None).values.flatten()\n",
    "    return libfm_pred\n",
    "\n",
    "def fitpredict_pylibfm(trainX, trainY, testX, classification=True, rank=8, n_iter=100):\n",
    "    from sklearn.preprocessing import normalize    \n",
    "    # you have to normalize first for pylibfm to work\n",
    "    encoder = OneHotEncoder(handle_unknown='ignore').fit(trainX)\n",
    "    trainX = normalize(encoder.transform(trainX))\n",
    "    testX = normalize(encoder.transform(testX))\n",
    "    task = 'classification' if classification else 'regression'\n",
    "    fm = pylibfm.FM(num_factors=rank, num_iter=n_iter, verbose=False, task=task)\n",
    "    if classification:\n",
    "        fm.fit(trainX, trainY)\n",
    "    else:\n",
    "        fm.fit(trainX, trainY * 1.0) # convert int to float?\n",
    "    return fm.predict(testX)\n",
    "\n",
    "\n",
    "\n",
    "\n",
    "\n",
    "\n",
    "from collections import OrderedDict\n",
    "import time\n",
    "\n",
    "all_results = OrderedDict()\n",
    "try:\n",
    "    with open('./saved_results.pkl') as f:\n",
    "        all_results = pickle.load(f)\n",
    "except:\n",
    "    pass\n",
    "\n",
    "def test_on_dataset(trainX, testX, trainY, testY, task_name, classification=True, use_pylibfm=True):\n",
    "#     pdb.set_trace()\n",
    "    algorithms = OrderedDict()\n",
    "    algorithms['logistic'] = fitpredict_logistic\n",
    "    algorithms['libFM']    = fitpredict_libfm\n",
    "    algorithms['fastFM']   = fitpredict_fastfm\n",
    "    if use_pylibfm:\n",
    "        algorithms['pylibfm']  = fitpredict_pylibfm\n",
    "    \n",
    "    results = pandas.DataFrame()\n",
    "    from tqdm import tqdm\n",
    "    for name, fit_predict in tqdm(algorithms.items()):\n",
    "        start = time.time()\n",
    "        predictions = fit_predict(trainX, trainY, testX, classification=classification)\n",
    "        spent_time = time.time() - start\n",
    "        results.loc[name, 'time'] = spent_time\n",
    "        if classification:\n",
    "            results.loc[name, 'ROC AUC'] = roc_auc_score(testY, predictions)\n",
    "        else:\n",
    "            results.loc[name, 'RMSE'] = numpy.mean((testY - predictions) ** 2) ** 0.5\n",
    "            \n",
    "    all_results[task_name] = results\n",
    "#     with open('saved_results.pkl', 'w') as f:\n",
    "#         pickle.dump(all_results, f)\n",
    "        \n",
    "    return results"
   ]
  },
  {
   "cell_type": "markdown",
   "metadata": {},
   "source": [
    "# data with only 'user' and 'movie'"
   ]
  },
  {
   "cell_type": "code",
   "execution_count": 3,
   "metadata": {
    "ExecuteTime": {
     "end_time": "2018-05-22T00:57:42.796779Z",
     "start_time": "2018-05-22T00:57:42.730798Z"
    }
   },
   "outputs": [
    {
     "data": {
      "text/plain": [
       "(75000, 2)"
      ]
     },
     "execution_count": 3,
     "metadata": {},
     "output_type": "execute_result"
    }
   ],
   "source": [
    "trainX, testX, trainY, testY = load_problem_movielens_100k(all_features=False)\n",
    "trainX.shape"
   ]
  },
  {
   "cell_type": "code",
   "execution_count": 4,
   "metadata": {
    "ExecuteTime": {
     "end_time": "2018-05-22T00:57:45.343655Z",
     "start_time": "2018-05-22T00:57:45.333678Z"
    }
   },
   "outputs": [
    {
     "data": {
      "text/html": [
       "<div>\n",
       "<style>\n",
       "    .dataframe thead tr:only-child th {\n",
       "        text-align: right;\n",
       "    }\n",
       "\n",
       "    .dataframe thead th {\n",
       "        text-align: left;\n",
       "    }\n",
       "\n",
       "    .dataframe tbody tr th {\n",
       "        vertical-align: top;\n",
       "    }\n",
       "</style>\n",
       "<table border=\"1\" class=\"dataframe\">\n",
       "  <thead>\n",
       "    <tr style=\"text-align: right;\">\n",
       "      <th></th>\n",
       "      <th>user</th>\n",
       "      <th>movie</th>\n",
       "    </tr>\n",
       "  </thead>\n",
       "  <tbody>\n",
       "    <tr>\n",
       "      <th>98980</th>\n",
       "      <td>810</td>\n",
       "      <td>900</td>\n",
       "    </tr>\n",
       "    <tr>\n",
       "      <th>69824</th>\n",
       "      <td>803</td>\n",
       "      <td>754</td>\n",
       "    </tr>\n",
       "    <tr>\n",
       "      <th>9928</th>\n",
       "      <td>51</td>\n",
       "      <td>286</td>\n",
       "    </tr>\n",
       "    <tr>\n",
       "      <th>75599</th>\n",
       "      <td>734</td>\n",
       "      <td>180</td>\n",
       "    </tr>\n",
       "    <tr>\n",
       "      <th>95621</th>\n",
       "      <td>896</td>\n",
       "      <td>95</td>\n",
       "    </tr>\n",
       "  </tbody>\n",
       "</table>\n",
       "</div>"
      ],
      "text/plain": [
       "       user  movie\n",
       "98980   810    900\n",
       "69824   803    754\n",
       "9928     51    286\n",
       "75599   734    180\n",
       "95621   896     95"
      ]
     },
     "execution_count": 4,
     "metadata": {},
     "output_type": "execute_result"
    }
   ],
   "source": [
    "trainX.head()"
   ]
  },
  {
   "cell_type": "code",
   "execution_count": 5,
   "metadata": {
    "ExecuteTime": {
     "end_time": "2018-05-22T00:59:11.651451Z",
     "start_time": "2018-05-22T00:57:48.740756Z"
    }
   },
   "outputs": [
    {
     "name": "stderr",
     "output_type": "stream",
     "text": [
      "100%|██████████| 4/4 [01:22<00:00, 20.72s/it]\n"
     ]
    }
   ],
   "source": [
    "test1res = test_on_dataset(trainX, testX, trainY, testY, task_name='ml100k, ids', classification=False)"
   ]
  },
  {
   "cell_type": "code",
   "execution_count": 6,
   "metadata": {
    "ExecuteTime": {
     "end_time": "2018-05-22T00:59:30.754338Z",
     "start_time": "2018-05-22T00:59:30.744037Z"
    }
   },
   "outputs": [
    {
     "data": {
      "text/html": [
       "<div>\n",
       "<style>\n",
       "    .dataframe thead tr:only-child th {\n",
       "        text-align: right;\n",
       "    }\n",
       "\n",
       "    .dataframe thead th {\n",
       "        text-align: left;\n",
       "    }\n",
       "\n",
       "    .dataframe tbody tr th {\n",
       "        vertical-align: top;\n",
       "    }\n",
       "</style>\n",
       "<table border=\"1\" class=\"dataframe\">\n",
       "  <thead>\n",
       "    <tr style=\"text-align: right;\">\n",
       "      <th></th>\n",
       "      <th>time</th>\n",
       "      <th>RMSE</th>\n",
       "    </tr>\n",
       "  </thead>\n",
       "  <tbody>\n",
       "    <tr>\n",
       "      <th>logistic</th>\n",
       "      <td>0.545414</td>\n",
       "      <td>0.942665</td>\n",
       "    </tr>\n",
       "    <tr>\n",
       "      <th>libFM</th>\n",
       "      <td>1.615051</td>\n",
       "      <td>0.940752</td>\n",
       "    </tr>\n",
       "    <tr>\n",
       "      <th>fastFM</th>\n",
       "      <td>1.913722</td>\n",
       "      <td>0.915184</td>\n",
       "    </tr>\n",
       "    <tr>\n",
       "      <th>pylibfm</th>\n",
       "      <td>78.811907</td>\n",
       "      <td>0.925223</td>\n",
       "    </tr>\n",
       "  </tbody>\n",
       "</table>\n",
       "</div>"
      ],
      "text/plain": [
       "               time      RMSE\n",
       "logistic   0.545414  0.942665\n",
       "libFM      1.615051  0.940752\n",
       "fastFM     1.913722  0.915184\n",
       "pylibfm   78.811907  0.925223"
      ]
     },
     "execution_count": 6,
     "metadata": {},
     "output_type": "execute_result"
    }
   ],
   "source": [
    "test1res"
   ]
  },
  {
   "cell_type": "markdown",
   "metadata": {},
   "source": [
    "# data with more features"
   ]
  },
  {
   "cell_type": "code",
   "execution_count": 7,
   "metadata": {
    "ExecuteTime": {
     "end_time": "2018-05-22T00:59:41.180816Z",
     "start_time": "2018-05-22T00:59:40.803883Z"
    },
    "collapsed": true
   },
   "outputs": [],
   "source": [
    "trainX, testX, trainY, testY = load_problem_movielens_100k(all_features=True)"
   ]
  },
  {
   "cell_type": "code",
   "execution_count": 8,
   "metadata": {
    "ExecuteTime": {
     "end_time": "2018-05-22T00:59:41.215081Z",
     "start_time": "2018-05-22T00:59:41.212796Z"
    }
   },
   "outputs": [
    {
     "data": {
      "text/plain": [
       "(75000, 26)"
      ]
     },
     "execution_count": 8,
     "metadata": {},
     "output_type": "execute_result"
    }
   ],
   "source": [
    "trainX.shape"
   ]
  },
  {
   "cell_type": "code",
   "execution_count": 9,
   "metadata": {
    "ExecuteTime": {
     "end_time": "2018-05-22T00:59:41.550680Z",
     "start_time": "2018-05-22T00:59:41.528602Z"
    }
   },
   "outputs": [
    {
     "data": {
      "text/html": [
       "<div>\n",
       "<style>\n",
       "    .dataframe thead tr:only-child th {\n",
       "        text-align: right;\n",
       "    }\n",
       "\n",
       "    .dataframe thead th {\n",
       "        text-align: left;\n",
       "    }\n",
       "\n",
       "    .dataframe tbody tr th {\n",
       "        vertical-align: top;\n",
       "    }\n",
       "</style>\n",
       "<table border=\"1\" class=\"dataframe\">\n",
       "  <thead>\n",
       "    <tr style=\"text-align: right;\">\n",
       "      <th></th>\n",
       "      <th>user</th>\n",
       "      <th>movie</th>\n",
       "      <th>age</th>\n",
       "      <th>gender</th>\n",
       "      <th>occupation</th>\n",
       "      <th>zip</th>\n",
       "      <th>released</th>\n",
       "      <th>unknown</th>\n",
       "      <th>Action</th>\n",
       "      <th>Adventure</th>\n",
       "      <th>...</th>\n",
       "      <th>Fantasy</th>\n",
       "      <th>Film-Noir</th>\n",
       "      <th>Horror</th>\n",
       "      <th>Musical</th>\n",
       "      <th>Mystery</th>\n",
       "      <th>Romance</th>\n",
       "      <th>Sci-Fi</th>\n",
       "      <th>Thriller</th>\n",
       "      <th>War</th>\n",
       "      <th>Western</th>\n",
       "    </tr>\n",
       "  </thead>\n",
       "  <tbody>\n",
       "    <tr>\n",
       "      <th>98980</th>\n",
       "      <td>692</td>\n",
       "      <td>1310</td>\n",
       "      <td>33</td>\n",
       "      <td>0</td>\n",
       "      <td>7</td>\n",
       "      <td>615</td>\n",
       "      <td>68</td>\n",
       "      <td>0</td>\n",
       "      <td>0</td>\n",
       "      <td>0</td>\n",
       "      <td>...</td>\n",
       "      <td>0</td>\n",
       "      <td>0</td>\n",
       "      <td>0</td>\n",
       "      <td>0</td>\n",
       "      <td>0</td>\n",
       "      <td>0</td>\n",
       "      <td>0</td>\n",
       "      <td>0</td>\n",
       "      <td>0</td>\n",
       "      <td>0</td>\n",
       "    </tr>\n",
       "    <tr>\n",
       "      <th>69824</th>\n",
       "      <td>931</td>\n",
       "      <td>528</td>\n",
       "      <td>48</td>\n",
       "      <td>1</td>\n",
       "      <td>3</td>\n",
       "      <td>59</td>\n",
       "      <td>57</td>\n",
       "      <td>0</td>\n",
       "      <td>0</td>\n",
       "      <td>0</td>\n",
       "      <td>...</td>\n",
       "      <td>0</td>\n",
       "      <td>0</td>\n",
       "      <td>0</td>\n",
       "      <td>0</td>\n",
       "      <td>0</td>\n",
       "      <td>0</td>\n",
       "      <td>0</td>\n",
       "      <td>0</td>\n",
       "      <td>0</td>\n",
       "      <td>0</td>\n",
       "    </tr>\n",
       "  </tbody>\n",
       "</table>\n",
       "<p>2 rows × 26 columns</p>\n",
       "</div>"
      ],
      "text/plain": [
       "       user  movie  age  gender  occupation  zip  released  unknown  Action  \\\n",
       "98980   692   1310   33       0           7  615        68        0       0   \n",
       "69824   931    528   48       1           3   59        57        0       0   \n",
       "\n",
       "       Adventure   ...     Fantasy  Film-Noir  Horror  Musical  Mystery  \\\n",
       "98980          0   ...           0          0       0        0        0   \n",
       "69824          0   ...           0          0       0        0        0   \n",
       "\n",
       "       Romance  Sci-Fi  Thriller  War  Western  \n",
       "98980        0       0         0    0        0  \n",
       "69824        0       0         0    0        0  \n",
       "\n",
       "[2 rows x 26 columns]"
      ]
     },
     "execution_count": 9,
     "metadata": {},
     "output_type": "execute_result"
    }
   ],
   "source": [
    "trainX.head(2)"
   ]
  },
  {
   "cell_type": "code",
   "execution_count": 10,
   "metadata": {
    "ExecuteTime": {
     "end_time": "2018-05-22T01:05:45.336180Z",
     "start_time": "2018-05-22T00:59:47.166179Z"
    }
   },
   "outputs": [
    {
     "name": "stderr",
     "output_type": "stream",
     "text": [
      "100%|██████████| 4/4 [05:58<00:00, 89.54s/it]\n"
     ]
    }
   ],
   "source": [
    "test2res = test_on_dataset(trainX, testX, trainY, testY, task_name='ml100k', classification=False)"
   ]
  },
  {
   "cell_type": "code",
   "execution_count": 12,
   "metadata": {
    "ExecuteTime": {
     "end_time": "2018-05-22T01:07:27.277503Z",
     "start_time": "2018-05-22T01:07:27.267534Z"
    }
   },
   "outputs": [
    {
     "data": {
      "text/html": [
       "<div>\n",
       "<style>\n",
       "    .dataframe thead tr:only-child th {\n",
       "        text-align: right;\n",
       "    }\n",
       "\n",
       "    .dataframe thead th {\n",
       "        text-align: left;\n",
       "    }\n",
       "\n",
       "    .dataframe tbody tr th {\n",
       "        vertical-align: top;\n",
       "    }\n",
       "</style>\n",
       "<table border=\"1\" class=\"dataframe\">\n",
       "  <thead>\n",
       "    <tr style=\"text-align: right;\">\n",
       "      <th></th>\n",
       "      <th>time</th>\n",
       "      <th>RMSE</th>\n",
       "    </tr>\n",
       "  </thead>\n",
       "  <tbody>\n",
       "    <tr>\n",
       "      <th>logistic</th>\n",
       "      <td>2.190086</td>\n",
       "      <td>0.942356</td>\n",
       "    </tr>\n",
       "    <tr>\n",
       "      <th>libFM</th>\n",
       "      <td>11.497473</td>\n",
       "      <td>0.941219</td>\n",
       "    </tr>\n",
       "    <tr>\n",
       "      <th>fastFM</th>\n",
       "      <td>20.734580</td>\n",
       "      <td>0.896543</td>\n",
       "    </tr>\n",
       "    <tr>\n",
       "      <th>pylibfm</th>\n",
       "      <td>323.732238</td>\n",
       "      <td>0.935298</td>\n",
       "    </tr>\n",
       "  </tbody>\n",
       "</table>\n",
       "</div>"
      ],
      "text/plain": [
       "                time      RMSE\n",
       "logistic    2.190086  0.942356\n",
       "libFM      11.497473  0.941219\n",
       "fastFM     20.734580  0.896543\n",
       "pylibfm   323.732238  0.935298"
      ]
     },
     "execution_count": 12,
     "metadata": {},
     "output_type": "execute_result"
    }
   ],
   "source": [
    "test2res"
   ]
  },
  {
   "cell_type": "markdown",
   "metadata": {
    "collapsed": true
   },
   "source": [
    "# Example to show how to handle categorical data"
   ]
  },
  {
   "cell_type": "code",
   "execution_count": 13,
   "metadata": {
    "ExecuteTime": {
     "end_time": "2018-05-22T04:09:32.570670Z",
     "start_time": "2018-05-22T04:09:31.994343Z"
    },
    "collapsed": true
   },
   "outputs": [],
   "source": [
    "trainX, testX, trainY, testY = load_problem_flight()"
   ]
  },
  {
   "cell_type": "code",
   "execution_count": 14,
   "metadata": {
    "ExecuteTime": {
     "end_time": "2018-05-22T04:09:32.667387Z",
     "start_time": "2018-05-22T04:09:32.653087Z"
    }
   },
   "outputs": [
    {
     "data": {
      "text/plain": [
       "array([0, 1])"
      ]
     },
     "execution_count": 14,
     "metadata": {},
     "output_type": "execute_result"
    }
   ],
   "source": [
    "np.unique(trainY)"
   ]
  },
  {
   "cell_type": "code",
   "execution_count": 15,
   "metadata": {
    "ExecuteTime": {
     "end_time": "2018-05-22T04:09:32.747498Z",
     "start_time": "2018-05-22T04:09:32.739661Z"
    }
   },
   "outputs": [
    {
     "data": {
      "text/html": [
       "<div>\n",
       "<style>\n",
       "    .dataframe thead tr:only-child th {\n",
       "        text-align: right;\n",
       "    }\n",
       "\n",
       "    .dataframe thead th {\n",
       "        text-align: left;\n",
       "    }\n",
       "\n",
       "    .dataframe tbody tr th {\n",
       "        vertical-align: top;\n",
       "    }\n",
       "</style>\n",
       "<table border=\"1\" class=\"dataframe\">\n",
       "  <thead>\n",
       "    <tr style=\"text-align: right;\">\n",
       "      <th></th>\n",
       "      <th>Month</th>\n",
       "      <th>DayofMonth</th>\n",
       "      <th>DayOfWeek</th>\n",
       "      <th>DepTime</th>\n",
       "      <th>UniqueCarrier</th>\n",
       "      <th>Origin</th>\n",
       "      <th>Dest</th>\n",
       "      <th>Distance</th>\n",
       "    </tr>\n",
       "  </thead>\n",
       "  <tbody>\n",
       "    <tr>\n",
       "      <th>0</th>\n",
       "      <td>c-4</td>\n",
       "      <td>c-26</td>\n",
       "      <td>c-2</td>\n",
       "      <td>1828</td>\n",
       "      <td>XE</td>\n",
       "      <td>LEX</td>\n",
       "      <td>IAH</td>\n",
       "      <td>828</td>\n",
       "    </tr>\n",
       "    <tr>\n",
       "      <th>1</th>\n",
       "      <td>c-12</td>\n",
       "      <td>c-11</td>\n",
       "      <td>c-1</td>\n",
       "      <td>1212</td>\n",
       "      <td>UA</td>\n",
       "      <td>DEN</td>\n",
       "      <td>MCI</td>\n",
       "      <td>533</td>\n",
       "    </tr>\n",
       "    <tr>\n",
       "      <th>2</th>\n",
       "      <td>c-10</td>\n",
       "      <td>c-1</td>\n",
       "      <td>c-6</td>\n",
       "      <td>935</td>\n",
       "      <td>OH</td>\n",
       "      <td>HSV</td>\n",
       "      <td>CVG</td>\n",
       "      <td>325</td>\n",
       "    </tr>\n",
       "    <tr>\n",
       "      <th>3</th>\n",
       "      <td>c-11</td>\n",
       "      <td>c-26</td>\n",
       "      <td>c-6</td>\n",
       "      <td>930</td>\n",
       "      <td>OH</td>\n",
       "      <td>JFK</td>\n",
       "      <td>PNS</td>\n",
       "      <td>1028</td>\n",
       "    </tr>\n",
       "    <tr>\n",
       "      <th>4</th>\n",
       "      <td>c-12</td>\n",
       "      <td>c-6</td>\n",
       "      <td>c-2</td>\n",
       "      <td>1350</td>\n",
       "      <td>MQ</td>\n",
       "      <td>DFW</td>\n",
       "      <td>LBB</td>\n",
       "      <td>282</td>\n",
       "    </tr>\n",
       "  </tbody>\n",
       "</table>\n",
       "</div>"
      ],
      "text/plain": [
       "  Month DayofMonth DayOfWeek  DepTime UniqueCarrier Origin Dest  Distance\n",
       "0   c-4       c-26       c-2     1828            XE    LEX  IAH       828\n",
       "1  c-12       c-11       c-1     1212            UA    DEN  MCI       533\n",
       "2  c-10        c-1       c-6      935            OH    HSV  CVG       325\n",
       "3  c-11       c-26       c-6      930            OH    JFK  PNS      1028\n",
       "4  c-12        c-6       c-2     1350            MQ    DFW  LBB       282"
      ]
     },
     "execution_count": 15,
     "metadata": {},
     "output_type": "execute_result"
    }
   ],
   "source": [
    "trainX.head()"
   ]
  },
  {
   "cell_type": "code",
   "execution_count": 16,
   "metadata": {
    "ExecuteTime": {
     "end_time": "2018-05-22T04:09:39.763836Z",
     "start_time": "2018-05-22T04:09:32.989400Z"
    },
    "collapsed": true
   },
   "outputs": [],
   "source": [
    "trainX, testX, trainY, testY = load_problem_flight(convert_to_ints=True)"
   ]
  },
  {
   "cell_type": "code",
   "execution_count": 18,
   "metadata": {
    "ExecuteTime": {
     "end_time": "2018-05-22T04:09:54.760259Z",
     "start_time": "2018-05-22T04:09:54.744630Z"
    }
   },
   "outputs": [
    {
     "data": {
      "text/html": [
       "<div>\n",
       "<style>\n",
       "    .dataframe thead tr:only-child th {\n",
       "        text-align: right;\n",
       "    }\n",
       "\n",
       "    .dataframe thead th {\n",
       "        text-align: left;\n",
       "    }\n",
       "\n",
       "    .dataframe tbody tr th {\n",
       "        vertical-align: top;\n",
       "    }\n",
       "</style>\n",
       "<table border=\"1\" class=\"dataframe\">\n",
       "  <thead>\n",
       "    <tr style=\"text-align: right;\">\n",
       "      <th></th>\n",
       "      <th>Month</th>\n",
       "      <th>DayofMonth</th>\n",
       "      <th>DayOfWeek</th>\n",
       "      <th>DepTime</th>\n",
       "      <th>UniqueCarrier</th>\n",
       "      <th>Origin</th>\n",
       "      <th>Dest</th>\n",
       "      <th>Distance</th>\n",
       "    </tr>\n",
       "  </thead>\n",
       "  <tbody>\n",
       "    <tr>\n",
       "      <th>0</th>\n",
       "      <td>7</td>\n",
       "      <td>19</td>\n",
       "      <td>2</td>\n",
       "      <td>18</td>\n",
       "      <td>21</td>\n",
       "      <td>157</td>\n",
       "      <td>133</td>\n",
       "      <td>6</td>\n",
       "    </tr>\n",
       "    <tr>\n",
       "      <th>1</th>\n",
       "      <td>4</td>\n",
       "      <td>3</td>\n",
       "      <td>1</td>\n",
       "      <td>12</td>\n",
       "      <td>18</td>\n",
       "      <td>79</td>\n",
       "      <td>172</td>\n",
       "      <td>4</td>\n",
       "    </tr>\n",
       "    <tr>\n",
       "      <th>2</th>\n",
       "      <td>2</td>\n",
       "      <td>1</td>\n",
       "      <td>6</td>\n",
       "      <td>9</td>\n",
       "      <td>15</td>\n",
       "      <td>129</td>\n",
       "      <td>72</td>\n",
       "      <td>2</td>\n",
       "    </tr>\n",
       "    <tr>\n",
       "      <th>3</th>\n",
       "      <td>3</td>\n",
       "      <td>19</td>\n",
       "      <td>6</td>\n",
       "      <td>9</td>\n",
       "      <td>15</td>\n",
       "      <td>147</td>\n",
       "      <td>220</td>\n",
       "      <td>7</td>\n",
       "    </tr>\n",
       "    <tr>\n",
       "      <th>4</th>\n",
       "      <td>4</td>\n",
       "      <td>28</td>\n",
       "      <td>2</td>\n",
       "      <td>13</td>\n",
       "      <td>13</td>\n",
       "      <td>80</td>\n",
       "      <td>155</td>\n",
       "      <td>2</td>\n",
       "    </tr>\n",
       "  </tbody>\n",
       "</table>\n",
       "</div>"
      ],
      "text/plain": [
       "   Month  DayofMonth  DayOfWeek  DepTime  UniqueCarrier  Origin  Dest  \\\n",
       "0      7          19          2       18             21     157   133   \n",
       "1      4           3          1       12             18      79   172   \n",
       "2      2           1          6        9             15     129    72   \n",
       "3      3          19          6        9             15     147   220   \n",
       "4      4          28          2       13             13      80   155   \n",
       "\n",
       "   Distance  \n",
       "0         6  \n",
       "1         4  \n",
       "2         2  \n",
       "3         7  \n",
       "4         2  "
      ]
     },
     "execution_count": 18,
     "metadata": {},
     "output_type": "execute_result"
    }
   ],
   "source": [
    "trainX.head()"
   ]
  },
  {
   "cell_type": "code",
   "execution_count": 4,
   "metadata": {
    "ExecuteTime": {
     "end_time": "2018-05-22T01:14:55.297871Z",
     "start_time": "2018-05-22T01:14:55.293170Z"
    }
   },
   "outputs": [
    {
     "data": {
      "text/plain": [
       "(1000000, 8)"
      ]
     },
     "execution_count": 4,
     "metadata": {},
     "output_type": "execute_result"
    }
   ],
   "source": [
    "trainX.shape"
   ]
  },
  {
   "cell_type": "code",
   "execution_count": null,
   "metadata": {
    "ExecuteTime": {
     "end_time": "2018-05-22T01:57:54.807621Z",
     "start_time": "2018-05-22T01:52:46.345537Z"
    },
    "collapsed": true
   },
   "outputs": [],
   "source": [
    "test3res = test_on_dataset(trainX, testX, trainY, testY, task_name='flight', classification=True, use_pylibfm=False)"
   ]
  },
  {
   "cell_type": "code",
   "execution_count": 7,
   "metadata": {
    "ExecuteTime": {
     "end_time": "2018-05-22T01:57:54.847409Z",
     "start_time": "2018-05-22T01:57:54.843057Z"
    }
   },
   "outputs": [
    {
     "data": {
      "text/html": [
       "<div>\n",
       "<style>\n",
       "    .dataframe thead tr:only-child th {\n",
       "        text-align: right;\n",
       "    }\n",
       "\n",
       "    .dataframe thead th {\n",
       "        text-align: left;\n",
       "    }\n",
       "\n",
       "    .dataframe tbody tr th {\n",
       "        vertical-align: top;\n",
       "    }\n",
       "</style>\n",
       "<table border=\"1\" class=\"dataframe\">\n",
       "  <thead>\n",
       "    <tr style=\"text-align: right;\">\n",
       "      <th></th>\n",
       "      <th>time</th>\n",
       "      <th>ROC AUC</th>\n",
       "    </tr>\n",
       "  </thead>\n",
       "  <tbody>\n",
       "    <tr>\n",
       "      <th>logistic</th>\n",
       "      <td>16.293235</td>\n",
       "      <td>0.724488</td>\n",
       "    </tr>\n",
       "    <tr>\n",
       "      <th>libFM</th>\n",
       "      <td>56.644698</td>\n",
       "      <td>0.724223</td>\n",
       "    </tr>\n",
       "    <tr>\n",
       "      <th>fastFM</th>\n",
       "      <td>235.460533</td>\n",
       "      <td>0.733395</td>\n",
       "    </tr>\n",
       "  </tbody>\n",
       "</table>\n",
       "</div>"
      ],
      "text/plain": [
       "                time   ROC AUC\n",
       "logistic   16.293235  0.724488\n",
       "libFM      56.644698  0.724223\n",
       "fastFM    235.460533  0.733395"
      ]
     },
     "execution_count": 7,
     "metadata": {},
     "output_type": "execute_result"
    }
   ],
   "source": [
    "test3res"
   ]
  },
  {
   "cell_type": "markdown",
   "metadata": {},
   "source": [
    "# more data (increased from 100k to 1m)"
   ]
  },
  {
   "cell_type": "code",
   "execution_count": null,
   "metadata": {
    "ExecuteTime": {
     "end_time": "2018-05-22T02:00:42.862165Z",
     "start_time": "2018-05-22T02:00:37.398731Z"
    },
    "collapsed": true
   },
   "outputs": [],
   "source": [
    "trainX, testX, trainY, testY = load_problem_movielens_1m(all_features=True)"
   ]
  },
  {
   "cell_type": "code",
   "execution_count": 10,
   "metadata": {
    "ExecuteTime": {
     "end_time": "2018-05-22T02:00:46.605809Z",
     "start_time": "2018-05-22T02:00:46.601037Z"
    }
   },
   "outputs": [
    {
     "data": {
      "text/plain": [
       "(750156, 26)"
      ]
     },
     "execution_count": 10,
     "metadata": {},
     "output_type": "execute_result"
    }
   ],
   "source": [
    "trainX.shape"
   ]
  },
  {
   "cell_type": "code",
   "execution_count": 11,
   "metadata": {
    "ExecuteTime": {
     "end_time": "2018-05-22T02:00:52.156423Z",
     "start_time": "2018-05-22T02:00:52.129787Z"
    }
   },
   "outputs": [
    {
     "data": {
      "text/html": [
       "<div>\n",
       "<style>\n",
       "    .dataframe thead tr:only-child th {\n",
       "        text-align: right;\n",
       "    }\n",
       "\n",
       "    .dataframe thead th {\n",
       "        text-align: left;\n",
       "    }\n",
       "\n",
       "    .dataframe tbody tr th {\n",
       "        vertical-align: top;\n",
       "    }\n",
       "</style>\n",
       "<table border=\"1\" class=\"dataframe\">\n",
       "  <thead>\n",
       "    <tr style=\"text-align: right;\">\n",
       "      <th></th>\n",
       "      <th>user</th>\n",
       "      <th>movie</th>\n",
       "      <th>gender</th>\n",
       "      <th>age</th>\n",
       "      <th>occupation</th>\n",
       "      <th>zip</th>\n",
       "      <th>0</th>\n",
       "      <th>1</th>\n",
       "      <th>2</th>\n",
       "      <th>3</th>\n",
       "      <th>...</th>\n",
       "      <th>10</th>\n",
       "      <th>11</th>\n",
       "      <th>12</th>\n",
       "      <th>13</th>\n",
       "      <th>14</th>\n",
       "      <th>15</th>\n",
       "      <th>16</th>\n",
       "      <th>17</th>\n",
       "      <th>18</th>\n",
       "      <th>19</th>\n",
       "    </tr>\n",
       "  </thead>\n",
       "  <tbody>\n",
       "    <tr>\n",
       "      <th>610738</th>\n",
       "      <td>5245</td>\n",
       "      <td>2240</td>\n",
       "      <td>0</td>\n",
       "      <td>1</td>\n",
       "      <td>0</td>\n",
       "      <td>2168</td>\n",
       "      <td>0</td>\n",
       "      <td>0</td>\n",
       "      <td>0</td>\n",
       "      <td>0</td>\n",
       "      <td>...</td>\n",
       "      <td>0</td>\n",
       "      <td>0</td>\n",
       "      <td>0</td>\n",
       "      <td>0</td>\n",
       "      <td>0</td>\n",
       "      <td>0</td>\n",
       "      <td>0</td>\n",
       "      <td>0</td>\n",
       "      <td>0</td>\n",
       "      <td>0</td>\n",
       "    </tr>\n",
       "  </tbody>\n",
       "</table>\n",
       "<p>1 rows × 26 columns</p>\n",
       "</div>"
      ],
      "text/plain": [
       "        user  movie  gender  age  occupation   zip  0  1  2  3 ...  10  11  \\\n",
       "610738  5245   2240       0    1           0  2168  0  0  0  0 ...   0   0   \n",
       "\n",
       "        12  13  14  15  16  17  18  19  \n",
       "610738   0   0   0   0   0   0   0   0  \n",
       "\n",
       "[1 rows x 26 columns]"
      ]
     },
     "execution_count": 11,
     "metadata": {},
     "output_type": "execute_result"
    }
   ],
   "source": [
    "trainX.head(1)"
   ]
  },
  {
   "cell_type": "code",
   "execution_count": 12,
   "metadata": {
    "ExecuteTime": {
     "end_time": "2018-05-22T02:01:06.978813Z",
     "start_time": "2018-05-22T02:01:06.949349Z"
    }
   },
   "outputs": [
    {
     "data": {
      "text/plain": [
       "array([1, 2, 3, 4, 5])"
      ]
     },
     "execution_count": 12,
     "metadata": {},
     "output_type": "execute_result"
    }
   ],
   "source": [
    "np.unique(trainY)"
   ]
  },
  {
   "cell_type": "code",
   "execution_count": 152,
   "metadata": {
    "collapsed": true
   },
   "outputs": [],
   "source": [
    "test4res = test_on_dataset(trainX, testX, trainY, testY, task_name='ml-1m,ids', classification=False)"
   ]
  },
  {
   "cell_type": "code",
   "execution_count": 153,
   "metadata": {},
   "outputs": [
    {
     "data": {
      "text/html": [
       "<div>\n",
       "<style>\n",
       "    .dataframe thead tr:only-child th {\n",
       "        text-align: right;\n",
       "    }\n",
       "\n",
       "    .dataframe thead th {\n",
       "        text-align: left;\n",
       "    }\n",
       "\n",
       "    .dataframe tbody tr th {\n",
       "        vertical-align: top;\n",
       "    }\n",
       "</style>\n",
       "<table border=\"1\" class=\"dataframe\">\n",
       "  <thead>\n",
       "    <tr style=\"text-align: right;\">\n",
       "      <th></th>\n",
       "      <th>time</th>\n",
       "      <th>RMSE</th>\n",
       "    </tr>\n",
       "  </thead>\n",
       "  <tbody>\n",
       "    <tr>\n",
       "      <th>logistic</th>\n",
       "      <td>13.917847</td>\n",
       "      <td>0.910699</td>\n",
       "    </tr>\n",
       "    <tr>\n",
       "      <th>libFM</th>\n",
       "      <td>16.438905</td>\n",
       "      <td>0.910286</td>\n",
       "    </tr>\n",
       "    <tr>\n",
       "      <th>fastFM</th>\n",
       "      <td>41.518702</td>\n",
       "      <td>0.858305</td>\n",
       "    </tr>\n",
       "    <tr>\n",
       "      <th>pylibfm</th>\n",
       "      <td>89.339065</td>\n",
       "      <td>0.872631</td>\n",
       "    </tr>\n",
       "  </tbody>\n",
       "</table>\n",
       "</div>"
      ],
      "text/plain": [
       "               time      RMSE\n",
       "logistic  13.917847  0.910699\n",
       "libFM     16.438905  0.910286\n",
       "fastFM    41.518702  0.858305\n",
       "pylibfm   89.339065  0.872631"
      ]
     },
     "execution_count": 153,
     "metadata": {},
     "output_type": "execute_result"
    }
   ],
   "source": [
    "test4res"
   ]
  },
  {
   "cell_type": "markdown",
   "metadata": {
    "collapsed": true,
    "heading_collapsed": true
   },
   "source": [
    "# Example to show how to run cmd in jupyter notebook"
   ]
  },
  {
   "cell_type": "code",
   "execution_count": 132,
   "metadata": {
    "hidden": true
   },
   "outputs": [
    {
     "name": "stdout",
     "output_type": "stream",
     "text": [
      "----------------------------------------------------------------------------\n",
      "libFM\n",
      "  Version: 1.4.4\n",
      "  Author:  Steffen Rendle, srendle@libfm.org\n",
      "  WWW:     http://www.libfm.org/\n",
      "This program comes with ABSOLUTELY NO WARRANTY; for details see license.txt.\n",
      "This is free software, and you are welcome to redistribute it under certain\n",
      "conditions; for details see license.txt.\n",
      "----------------------------------------------------------------------------\n",
      "Loading train...\t\n",
      "has x = 0\n",
      "has xt = 1\n",
      "num_rows=750156\tnum_values=1500312\tnum_features=9716\tmin_target=1\tmax_target=5\n",
      "Loading test... \t\n",
      "has x = 0\n",
      "has xt = 1\n",
      "num_rows=250053\tnum_values=500072\tnum_features=9716\tmin_target=0\tmax_target=0\n",
      "#relations: 0\n",
      "Loading meta data...\t\n",
      "#Iter=  0\tTrain=1\tTest=0\tTest(ll)=0.799919\n",
      "#Iter=  1\tTrain=1\tTest=0\tTest(ll)=0.89026\n",
      "#Iter=  2\tTrain=1\tTest=0\tTest(ll)=0.962494\n",
      "#Iter=  3\tTrain=1\tTest=0\tTest(ll)=1.02284\n",
      "#Iter=  4\tTrain=1\tTest=0\tTest(ll)=1.07468\n",
      "#Iter=  5\tTrain=1\tTest=0\tTest(ll)=1.12\n",
      "#Iter=  6\tTrain=1\tTest=0\tTest(ll)=1.16049\n",
      "#Iter=  7\tTrain=1\tTest=0\tTest(ll)=1.19718\n",
      "#Iter=  8\tTrain=1\tTest=0\tTest(ll)=1.23058\n",
      "#Iter=  9\tTrain=1\tTest=0\tTest(ll)=1.26133\n",
      "#Iter= 10\tTrain=1\tTest=0\tTest(ll)=1.28975\n",
      "#Iter= 11\tTrain=1\tTest=0\tTest(ll)=1.31618\n",
      "#Iter= 12\tTrain=1\tTest=0\tTest(ll)=1.34084\n",
      "#Iter= 13\tTrain=1\tTest=0\tTest(ll)=1.36398\n",
      "#Iter= 14\tTrain=1\tTest=0\tTest(ll)=1.38576\n",
      "#Iter= 15\tTrain=1\tTest=0\tTest(ll)=1.40636\n",
      "#Iter= 16\tTrain=1\tTest=0\tTest(ll)=1.42587\n",
      "#Iter= 17\tTrain=1\tTest=0\tTest(ll)=1.44439\n",
      "#Iter= 18\tTrain=1\tTest=0\tTest(ll)=1.46208\n",
      "#Iter= 19\tTrain=1\tTest=0\tTest(ll)=1.47899\n",
      "#Iter= 20\tTrain=1\tTest=0\tTest(ll)=1.49513\n",
      "#Iter= 21\tTrain=1\tTest=0\tTest(ll)=1.51062\n",
      "#Iter= 22\tTrain=1\tTest=0\tTest(ll)=1.52551\n",
      "#Iter= 23\tTrain=1\tTest=0\tTest(ll)=1.53985\n",
      "#Iter= 24\tTrain=1\tTest=0\tTest(ll)=1.55367\n",
      "#Iter= 25\tTrain=1\tTest=0\tTest(ll)=1.56702\n",
      "#Iter= 26\tTrain=1\tTest=0\tTest(ll)=1.57993\n",
      "#Iter= 27\tTrain=1\tTest=0\tTest(ll)=1.59243\n",
      "#Iter= 28\tTrain=1\tTest=0\tTest(ll)=1.60455\n",
      "#Iter= 29\tTrain=1\tTest=0\tTest(ll)=1.61631\n",
      "#Iter= 30\tTrain=1\tTest=0\tTest(ll)=1.62773\n",
      "#Iter= 31\tTrain=1\tTest=0\tTest(ll)=1.63884\n",
      "#Iter= 32\tTrain=1\tTest=0\tTest(ll)=1.64964\n",
      "#Iter= 33\tTrain=1\tTest=0\tTest(ll)=1.66015\n",
      "#Iter= 34\tTrain=1\tTest=0\tTest(ll)=1.67038\n",
      "#Iter= 35\tTrain=1\tTest=0\tTest(ll)=1.68037\n",
      "#Iter= 36\tTrain=1\tTest=0\tTest(ll)=1.69012\n",
      "#Iter= 37\tTrain=1\tTest=0\tTest(ll)=1.69964\n",
      "#Iter= 38\tTrain=1\tTest=0\tTest(ll)=1.70893\n",
      "#Iter= 39\tTrain=1\tTest=0\tTest(ll)=1.71799\n",
      "#Iter= 40\tTrain=1\tTest=0\tTest(ll)=1.72684\n",
      "#Iter= 41\tTrain=1\tTest=0\tTest(ll)=1.73548\n",
      "#Iter= 42\tTrain=1\tTest=0\tTest(ll)=1.74393\n",
      "#Iter= 43\tTrain=1\tTest=0\tTest(ll)=1.75221\n",
      "#Iter= 44\tTrain=1\tTest=0\tTest(ll)=1.76031\n",
      "#Iter= 45\tTrain=1\tTest=0\tTest(ll)=1.76826\n",
      "#Iter= 46\tTrain=1\tTest=0\tTest(ll)=1.77606\n",
      "#Iter= 47\tTrain=1\tTest=0\tTest(ll)=1.78371\n",
      "#Iter= 48\tTrain=1\tTest=0\tTest(ll)=1.7912\n",
      "#Iter= 49\tTrain=1\tTest=0\tTest(ll)=1.79855\n",
      "#Iter= 50\tTrain=1\tTest=0\tTest(ll)=1.80577\n",
      "#Iter= 51\tTrain=1\tTest=0\tTest(ll)=1.81286\n",
      "#Iter= 52\tTrain=1\tTest=0\tTest(ll)=1.81981\n",
      "#Iter= 53\tTrain=1\tTest=0\tTest(ll)=1.82663\n",
      "#Iter= 54\tTrain=1\tTest=0\tTest(ll)=1.83334\n",
      "#Iter= 55\tTrain=1\tTest=0\tTest(ll)=1.83994\n",
      "#Iter= 56\tTrain=1\tTest=0\tTest(ll)=1.84643\n",
      "#Iter= 57\tTrain=1\tTest=0\tTest(ll)=1.85281\n",
      "#Iter= 58\tTrain=1\tTest=0\tTest(ll)=1.85908\n",
      "#Iter= 59\tTrain=1\tTest=0\tTest(ll)=1.86526\n",
      "#Iter= 60\tTrain=1\tTest=0\tTest(ll)=1.87133\n",
      "#Iter= 61\tTrain=1\tTest=0\tTest(ll)=1.87732\n",
      "#Iter= 62\tTrain=1\tTest=0\tTest(ll)=1.88321\n",
      "#Iter= 63\tTrain=1\tTest=0\tTest(ll)=1.88902\n",
      "#Iter= 64\tTrain=1\tTest=0\tTest(ll)=1.89475\n",
      "#Iter= 65\tTrain=1\tTest=0\tTest(ll)=1.9004\n",
      "#Iter= 66\tTrain=1\tTest=0\tTest(ll)=1.90596\n",
      "#Iter= 67\tTrain=1\tTest=0\tTest(ll)=1.91145\n",
      "#Iter= 68\tTrain=1\tTest=0\tTest(ll)=1.91686\n",
      "#Iter= 69\tTrain=1\tTest=0\tTest(ll)=1.9222\n",
      "#Iter= 70\tTrain=1\tTest=0\tTest(ll)=1.92745\n",
      "#Iter= 71\tTrain=1\tTest=0\tTest(ll)=1.93264\n",
      "#Iter= 72\tTrain=1\tTest=0\tTest(ll)=1.93775\n",
      "#Iter= 73\tTrain=1\tTest=0\tTest(ll)=1.94277\n",
      "#Iter= 74\tTrain=1\tTest=0\tTest(ll)=1.94771\n",
      "#Iter= 75\tTrain=1\tTest=0\tTest(ll)=1.95253\n",
      "#Iter= 76\tTrain=1\tTest=0\tTest(ll)=1.95724\n",
      "#Iter= 77\tTrain=1\tTest=0\tTest(ll)=1.96181\n",
      "#Iter= 78\tTrain=1\tTest=0\tTest(ll)=1.9662\n",
      "#Iter= 79\tTrain=1\tTest=0\tTest(ll)=1.9704\n",
      "#Iter= 80\tTrain=1\tTest=0\tTest(ll)=1.97437\n",
      "#Iter= 81\tTrain=1\tTest=0\tTest(ll)=1.97809\n",
      "#Iter= 82\tTrain=1\tTest=0\tTest(ll)=1.98152\n",
      "#Iter= 83\tTrain=1\tTest=0\tTest(ll)=1.98464\n",
      "#Iter= 84\tTrain=1\tTest=0\tTest(ll)=1.98742\n",
      "#Iter= 85\tTrain=1\tTest=0\tTest(ll)=1.98986\n",
      "#Iter= 86\tTrain=1\tTest=0\tTest(ll)=1.99197\n",
      "#Iter= 87\tTrain=1\tTest=0\tTest(ll)=1.99375\n",
      "#Iter= 88\tTrain=1\tTest=0\tTest(ll)=1.99522\n",
      "#Iter= 89\tTrain=1\tTest=0\tTest(ll)=1.99641\n",
      "#Iter= 90\tTrain=1\tTest=0\tTest(ll)=1.99736\n",
      "#Iter= 91\tTrain=1\tTest=0\tTest(ll)=1.9981\n",
      "#Iter= 92\tTrain=1\tTest=0\tTest(ll)=1.99866\n",
      "#Iter= 93\tTrain=1\tTest=0\tTest(ll)=1.99908\n",
      "#Iter= 94\tTrain=1\tTest=0\tTest(ll)=1.99938\n",
      "#Iter= 95\tTrain=1\tTest=0\tTest(ll)=1.99959\n",
      "#Iter= 96\tTrain=1\tTest=0\tTest(ll)=1.99974\n",
      "#Iter= 97\tTrain=1\tTest=0\tTest(ll)=1.99983\n",
      "#Iter= 98\tTrain=1\tTest=0\tTest(ll)=1.9999\n",
      "#Iter= 99\tTrain=1\tTest=0\tTest(ll)=1.99994\n"
     ]
    }
   ],
   "source": [
    "!$LIBFM_PATH -task $task -method mcmc -train $train_file -test $test_file -iter $n_iter -dim '1,1,$rank'# -out output.libfm"
   ]
  },
  {
   "cell_type": "code",
   "execution_count": null,
   "metadata": {
    "collapsed": true,
    "hidden": true
   },
   "outputs": [],
   "source": []
  },
  {
   "cell_type": "code",
   "execution_count": null,
   "metadata": {
    "collapsed": true,
    "hidden": true
   },
   "outputs": [],
   "source": []
  },
  {
   "cell_type": "markdown",
   "metadata": {
    "collapsed": true
   },
   "source": [
    "# Apply to Talkingdata (original data)"
   ]
  },
  {
   "cell_type": "code",
   "execution_count": null,
   "metadata": {
    "ExecuteTime": {
     "end_time": "2018-05-22T02:04:09.854607Z",
     "start_time": "2018-05-22T02:02:23.862926Z"
    },
    "collapsed": true
   },
   "outputs": [],
   "source": [
    "import pandas as pd\n",
    "import gc\n",
    "\n",
    "input_dir = '/home/kai/data/shiyi/Kaggle/talkingdata/sc/TalkingData_4th_solution/input'\n",
    "\n",
    "dtypes = {\n",
    "        'ip'            : 'uint32',\n",
    "        'app'           : 'uint16',\n",
    "        'device'        : 'uint16',\n",
    "        'os'            : 'uint16',\n",
    "        'channel'       : 'uint16',\n",
    "        'is_attributed' : 'uint8',\n",
    "        'click_id'      : 'uint32'\n",
    "        }\n",
    "#nrows=1000000\n",
    "nrows=None\n",
    "train_df = pd.read_csv(input_dir+\"/train.csv\", dtype=dtypes, usecols=['ip','app','device','os', 'channel', 'click_time', 'is_attributed'], nrows=nrows)\n",
    "# test_df = pd.read_csv(input_dir+\"/test_supplement.csv\", dtype=dtypes, usecols=['ip','app','device','os', 'channel', 'click_time', 'click_id'], nrows=nrows)"
   ]
  },
  {
   "cell_type": "code",
   "execution_count": 14,
   "metadata": {
    "ExecuteTime": {
     "end_time": "2018-05-22T02:05:43.213981Z",
     "start_time": "2018-05-22T02:05:43.208778Z"
    }
   },
   "outputs": [
    {
     "data": {
      "text/plain": [
       "((184903890, 7), (57537505, 7))"
      ]
     },
     "execution_count": 14,
     "metadata": {},
     "output_type": "execute_result"
    }
   ],
   "source": [
    "train_df.shape, test_df.shape"
   ]
  },
  {
   "cell_type": "code",
   "execution_count": null,
   "metadata": {
    "collapsed": true
   },
   "outputs": [],
   "source": [
    "#train = train_df.head(100000).copy()"
   ]
  },
  {
   "cell_type": "code",
   "execution_count": 15,
   "metadata": {
    "ExecuteTime": {
     "end_time": "2018-05-22T02:07:30.177810Z",
     "start_time": "2018-05-22T02:07:28.376600Z"
    }
   },
   "outputs": [
    {
     "data": {
      "text/plain": [
       "((179903890, 7), (5000000, 7))"
      ]
     },
     "execution_count": 15,
     "metadata": {},
     "output_type": "execute_result"
    }
   ],
   "source": [
    "val_size = 5000000\n",
    "train = train_df.iloc[:-val_size].copy()\n",
    "val = train_df.iloc[-val_size:].copy()\n",
    "train.shape, val.shape"
   ]
  },
  {
   "cell_type": "code",
   "execution_count": 16,
   "metadata": {
    "ExecuteTime": {
     "end_time": "2018-05-22T02:07:58.481135Z",
     "start_time": "2018-05-22T02:07:57.898493Z"
    },
    "collapsed": true
   },
   "outputs": [],
   "source": [
    "pos = train[train.is_attributed == 1]"
   ]
  },
  {
   "cell_type": "code",
   "execution_count": 17,
   "metadata": {
    "ExecuteTime": {
     "end_time": "2018-05-22T02:07:58.705213Z",
     "start_time": "2018-05-22T02:07:58.702608Z"
    }
   },
   "outputs": [
    {
     "data": {
      "text/plain": [
       "(447579, 7)"
      ]
     },
     "execution_count": 17,
     "metadata": {},
     "output_type": "execute_result"
    }
   ],
   "source": [
    "pos.shape"
   ]
  },
  {
   "cell_type": "code",
   "execution_count": 18,
   "metadata": {
    "ExecuteTime": {
     "end_time": "2018-05-22T02:08:05.808343Z",
     "start_time": "2018-05-22T02:07:58.911325Z"
    },
    "collapsed": true
   },
   "outputs": [],
   "source": [
    "neg = train[train.is_attributed == 0]"
   ]
  },
  {
   "cell_type": "code",
   "execution_count": 19,
   "metadata": {
    "ExecuteTime": {
     "end_time": "2018-05-22T02:08:06.021688Z",
     "start_time": "2018-05-22T02:08:06.018931Z"
    }
   },
   "outputs": [
    {
     "data": {
      "text/plain": [
       "(179456311, 7)"
      ]
     },
     "execution_count": 19,
     "metadata": {},
     "output_type": "execute_result"
    }
   ],
   "source": [
    "neg.shape"
   ]
  },
  {
   "cell_type": "code",
   "execution_count": 20,
   "metadata": {
    "ExecuteTime": {
     "end_time": "2018-05-22T02:08:17.017647Z",
     "start_time": "2018-05-22T02:08:06.215673Z"
    },
    "collapsed": true
   },
   "outputs": [],
   "source": [
    "neg_sample = neg.sample(n=len(pos))"
   ]
  },
  {
   "cell_type": "code",
   "execution_count": 21,
   "metadata": {
    "ExecuteTime": {
     "end_time": "2018-05-22T02:08:17.257309Z",
     "start_time": "2018-05-22T02:08:17.254656Z"
    }
   },
   "outputs": [
    {
     "data": {
      "text/plain": [
       "(447579, 7)"
      ]
     },
     "execution_count": 21,
     "metadata": {},
     "output_type": "execute_result"
    }
   ],
   "source": [
    "neg_sample.shape"
   ]
  },
  {
   "cell_type": "code",
   "execution_count": 22,
   "metadata": {
    "ExecuteTime": {
     "end_time": "2018-05-22T02:08:17.484722Z",
     "start_time": "2018-05-22T02:08:17.471365Z"
    },
    "collapsed": true
   },
   "outputs": [],
   "source": [
    "train_balanced = pd.concat([pos, neg_sample])"
   ]
  },
  {
   "cell_type": "code",
   "execution_count": 23,
   "metadata": {
    "ExecuteTime": {
     "end_time": "2018-05-22T02:08:17.753681Z",
     "start_time": "2018-05-22T02:08:17.750921Z"
    }
   },
   "outputs": [
    {
     "data": {
      "text/plain": [
       "(895158, 7)"
      ]
     },
     "execution_count": 23,
     "metadata": {},
     "output_type": "execute_result"
    }
   ],
   "source": [
    "train_balanced.shape"
   ]
  },
  {
   "cell_type": "code",
   "execution_count": 17,
   "metadata": {
    "collapsed": true
   },
   "outputs": [],
   "source": [
    "trainY = train_balanced.is_attributed.copy().astype('int8')\n",
    "trainY[trainY==0] = -1 # change 0 to 1 so that fastfm can train \n",
    "\n",
    "testY = val.is_attributed.copy().astype('int8')\n",
    "testY[testY==0] = -1"
   ]
  },
  {
   "cell_type": "code",
   "execution_count": 39,
   "metadata": {
    "ExecuteTime": {
     "end_time": "2018-05-22T02:14:02.052119Z",
     "start_time": "2018-05-22T02:14:02.006460Z"
    },
    "collapsed": true
   },
   "outputs": [],
   "source": [
    "train_balanced.drop(['is_attributed','ip','click_time'], axis=1, inplace=True)\n",
    "val.drop(['is_attributed','ip','click_time'], axis=1, inplace=True)"
   ]
  },
  {
   "cell_type": "code",
   "execution_count": 40,
   "metadata": {
    "ExecuteTime": {
     "end_time": "2018-05-22T02:14:02.341314Z",
     "start_time": "2018-05-22T02:14:02.339310Z"
    },
    "collapsed": true
   },
   "outputs": [],
   "source": [
    "trainX = train_balanced\n",
    "testX = val"
   ]
  },
  {
   "cell_type": "code",
   "execution_count": 41,
   "metadata": {
    "ExecuteTime": {
     "end_time": "2018-05-22T02:14:02.793789Z",
     "start_time": "2018-05-22T02:14:02.788271Z"
    }
   },
   "outputs": [
    {
     "data": {
      "text/plain": [
       "((895158, 4), (895158,), (5000000, 4), (5000000,))"
      ]
     },
     "execution_count": 41,
     "metadata": {},
     "output_type": "execute_result"
    }
   ],
   "source": [
    "trainX.shape, trainY.shape, testX.shape, testY.shape"
   ]
  },
  {
   "cell_type": "code",
   "execution_count": 22,
   "metadata": {
    "collapsed": true
   },
   "outputs": [],
   "source": [
    "log_preds = fitpredict_logistic(trainX, trainY, testX)"
   ]
  },
  {
   "cell_type": "code",
   "execution_count": 23,
   "metadata": {},
   "outputs": [
    {
     "data": {
      "text/plain": [
       "0.97475876740852552"
      ]
     },
     "execution_count": 23,
     "metadata": {},
     "output_type": "execute_result"
    }
   ],
   "source": [
    "roc_auc_score(testY, log_preds)"
   ]
  },
  {
   "cell_type": "code",
   "execution_count": 24,
   "metadata": {
    "collapsed": true
   },
   "outputs": [],
   "source": [
    "libfm_preds = fitpredict_libfm(trainX, trainY, testX)"
   ]
  },
  {
   "cell_type": "code",
   "execution_count": 25,
   "metadata": {},
   "outputs": [
    {
     "data": {
      "text/plain": [
       "0.97406689558211368"
      ]
     },
     "execution_count": 25,
     "metadata": {},
     "output_type": "execute_result"
    }
   ],
   "source": [
    "roc_auc_score(testY, libfm_preds)"
   ]
  },
  {
   "cell_type": "code",
   "execution_count": 26,
   "metadata": {
    "collapsed": true
   },
   "outputs": [],
   "source": [
    "fastfm_preds = fitpredict_fastfm(trainX, trainY, testX)"
   ]
  },
  {
   "cell_type": "code",
   "execution_count": 27,
   "metadata": {},
   "outputs": [
    {
     "data": {
      "text/plain": [
       "0.97702264848048137"
      ]
     },
     "execution_count": 27,
     "metadata": {},
     "output_type": "execute_result"
    }
   ],
   "source": [
    "roc_auc_score(testY, fastfm_preds)"
   ]
  },
  {
   "cell_type": "code",
   "execution_count": 42,
   "metadata": {
    "ExecuteTime": {
     "end_time": "2018-05-22T02:24:19.950651Z",
     "start_time": "2018-05-22T02:14:41.566366Z"
    }
   },
   "outputs": [
    {
     "name": "stderr",
     "output_type": "stream",
     "text": [
      "100%|██████████| 3/3 [09:38<00:00, 192.79s/it]\n"
     ]
    }
   ],
   "source": [
    "talkingdata_res = test_on_dataset(trainX, testX, trainY, testY, task_name='talking', classification=True, use_pylibfm=False)"
   ]
  },
  {
   "cell_type": "code",
   "execution_count": 43,
   "metadata": {
    "ExecuteTime": {
     "end_time": "2018-05-22T02:24:20.081269Z",
     "start_time": "2018-05-22T02:24:20.076591Z"
    }
   },
   "outputs": [
    {
     "data": {
      "text/html": [
       "<div>\n",
       "<style>\n",
       "    .dataframe thead tr:only-child th {\n",
       "        text-align: right;\n",
       "    }\n",
       "\n",
       "    .dataframe thead th {\n",
       "        text-align: left;\n",
       "    }\n",
       "\n",
       "    .dataframe tbody tr th {\n",
       "        vertical-align: top;\n",
       "    }\n",
       "</style>\n",
       "<table border=\"1\" class=\"dataframe\">\n",
       "  <thead>\n",
       "    <tr style=\"text-align: right;\">\n",
       "      <th></th>\n",
       "      <th>time</th>\n",
       "      <th>ROC AUC</th>\n",
       "    </tr>\n",
       "  </thead>\n",
       "  <tbody>\n",
       "    <tr>\n",
       "      <th>logistic</th>\n",
       "      <td>11.115302</td>\n",
       "      <td>0.974666</td>\n",
       "    </tr>\n",
       "    <tr>\n",
       "      <th>libFM</th>\n",
       "      <td>324.737748</td>\n",
       "      <td>0.973991</td>\n",
       "    </tr>\n",
       "    <tr>\n",
       "      <th>fastFM</th>\n",
       "      <td>239.890730</td>\n",
       "      <td>0.976752</td>\n",
       "    </tr>\n",
       "  </tbody>\n",
       "</table>\n",
       "</div>"
      ],
      "text/plain": [
       "                time   ROC AUC\n",
       "logistic   11.115302  0.974666\n",
       "libFM     324.737748  0.973991\n",
       "fastFM    239.890730  0.976752"
      ]
     },
     "execution_count": 43,
     "metadata": {},
     "output_type": "execute_result"
    }
   ],
   "source": [
    "talkingdata_res"
   ]
  },
  {
   "cell_type": "code",
   "execution_count": 46,
   "metadata": {
    "ExecuteTime": {
     "end_time": "2018-05-22T02:27:36.746612Z",
     "start_time": "2018-05-22T02:27:36.741743Z"
    }
   },
   "outputs": [
    {
     "data": {
      "text/plain": [
       "Index(['app', 'device', 'os', 'channel'], dtype='object')"
      ]
     },
     "execution_count": 46,
     "metadata": {},
     "output_type": "execute_result"
    }
   ],
   "source": [
    "trainX.columns"
   ]
  },
  {
   "cell_type": "code",
   "execution_count": 57,
   "metadata": {
    "ExecuteTime": {
     "end_time": "2018-05-22T03:01:15.503635Z",
     "start_time": "2018-05-22T03:01:15.071108Z"
    }
   },
   "outputs": [
    {
     "data": {
      "text/plain": [
       "304"
      ]
     },
     "execution_count": 57,
     "metadata": {},
     "output_type": "execute_result"
    }
   ],
   "source": [
    "del train_df, test_df, trainX, testX; gc.collect()"
   ]
  },
  {
   "cell_type": "markdown",
   "metadata": {},
   "source": [
    "# Apply to Talkingdata (feature engineered data)"
   ]
  },
  {
   "cell_type": "code",
   "execution_count": 2,
   "metadata": {
    "ExecuteTime": {
     "end_time": "2018-05-22T04:14:02.480723Z",
     "start_time": "2018-05-22T04:14:02.476894Z"
    },
    "collapsed": true
   },
   "outputs": [],
   "source": [
    "import pandas as pd\n",
    "import gc\n",
    "import numpy as np"
   ]
  },
  {
   "cell_type": "code",
   "execution_count": 3,
   "metadata": {
    "ExecuteTime": {
     "end_time": "2018-05-22T04:14:33.666125Z",
     "start_time": "2018-05-22T04:14:02.905178Z"
    }
   },
   "outputs": [
    {
     "name": "stdout",
     "output_type": "stream",
     "text": [
      "loaded train\n"
     ]
    }
   ],
   "source": [
    "train = pd.read_feather('../Feathers/ss_alltrain_typechanged.ftr')\n",
    "print('loaded train')\n",
    "train.set_index('index', inplace=True)\n",
    "del train.index.name\n",
    "\n",
    "train.drop(['matrixFact_user_ip_item_appdeviceos','matrixFact_user_ipchannel_item_appdeviceos','matrixFact_user_iposdeviceapp_item_app'], axis=1, inplace=True)"
   ]
  },
  {
   "cell_type": "code",
   "execution_count": 4,
   "metadata": {
    "ExecuteTime": {
     "end_time": "2018-05-22T04:15:44.335157Z",
     "start_time": "2018-05-22T04:15:44.331129Z"
    }
   },
   "outputs": [
    {
     "name": "stdout",
     "output_type": "stream",
     "text": [
      "['app_device_os_mean', 'attributed_timediff', 'ip_device_os_count', 'ip_app_device_countfromfuture', 'ip_device_os_countfrompast', 'ip_app_device_countfrompast', 'ip_device_os_time2nextclick', 'ip_app_device_os_time2nextclick', 'ip_device_os_mean', 'ip_app_device_os_time2previousclick', 'ip_app_device_lasttimediff', 'ip_app_device_os_countfromfuture', 'ip_app_device_time2nextclick', 'ip_app_os_day_hour_count', 'ip_device_os_countfromfuture', 'app_day_hour_count', 'ip_day_hour_count', 'ip_app_device_mean', 'ip_app_device_os_countfrompast', 'ip_device_os_lasttimediff', 'ip_app_device_os_firsttimediff', 'ip_device_os_time2previousclick', 'ip_app_device_os_count', 'ip_device_os_firsttimediff', 'ip_app_day_hour_count', 'ip_app_device_time2previousclick', 'ip_app_device_os_lasttimediff', 'ip_os_day_hour_count', 'ip_app_device_firsttimediff', 'ip_app_device_os_mean'] 30\n"
     ]
    }
   ],
   "source": [
    "embedding_features = ['app','channel','device','os','hour']\n",
    "\n",
    "numeric_features = list(set(set(train.columns) - set(embedding_features)) - set(['is_attributed']))\n",
    "print(numeric_features, len(numeric_features))"
   ]
  },
  {
   "cell_type": "code",
   "execution_count": null,
   "metadata": {
    "collapsed": true
   },
   "outputs": [],
   "source": [
    "# test = pd.read_feather('Feathers/ss_test_via_alltrain_typechanged.ftr')\n",
    "# print('loaded test')\n",
    "# test.set_index('index', inplace=True)\n",
    "# del test.index.name\n",
    "\n",
    "# test.drop(['matrixFact_user_ip_item_appdeviceos','matrixFact_user_ipchannel_item_appdeviceos','matrixFact_user_iposdeviceapp_item_app'], axis=1, inplace=True)"
   ]
  },
  {
   "cell_type": "code",
   "execution_count": 5,
   "metadata": {
    "ExecuteTime": {
     "end_time": "2018-05-22T04:17:30.363975Z",
     "start_time": "2018-05-22T04:17:30.336924Z"
    }
   },
   "outputs": [
    {
     "name": "stdout",
     "output_type": "stream",
     "text": [
      "[  2.   4.   6.   8.  10.  12.  14.  16.  18.  20.  22.  24.  26.  28.  30.\n",
      "  32.  34.  36.  38.  40.  42.  44.  46.  48.  50.  52.  54.  56.  58.  60.\n",
      "  62.  64.  66.  68.  70.  72.  74.  76.  78.  80.  82.  84.  86.  88.  90.\n",
      "  92.  94.  96.  98.]\n"
     ]
    }
   ],
   "source": [
    "from tqdm import tqdm\n",
    "bins = np.linspace(2,98,49)\n",
    "print(bins)"
   ]
  },
  {
   "cell_type": "code",
   "execution_count": 6,
   "metadata": {
    "ExecuteTime": {
     "end_time": "2018-05-22T04:26:22.689273Z",
     "start_time": "2018-05-22T04:18:44.681035Z"
    }
   },
   "outputs": [
    {
     "name": "stderr",
     "output_type": "stream",
     "text": [
      "100%|██████████| 30/30 [07:37<00:00, 15.24s/it]\n"
     ]
    }
   ],
   "source": [
    "# save to feather file if this takes very long\n",
    "for column in tqdm(numeric_features):\n",
    "    percentiles = np.percentile(train[column], bins)\n",
    "    train[column] = np.searchsorted(percentiles, train[column]).astype('uint8')\n",
    "    #test[column]  = np.searchsorted(percentiles, test[column]).astype('uint8')"
   ]
  },
  {
   "cell_type": "code",
   "execution_count": 7,
   "metadata": {
    "ExecuteTime": {
     "end_time": "2018-05-22T04:27:48.181663Z",
     "start_time": "2018-05-22T04:27:47.903199Z"
    },
    "collapsed": true
   },
   "outputs": [],
   "source": [
    "val_size = 5000000\n",
    "val = train[-val_size:].copy()"
   ]
  },
  {
   "cell_type": "code",
   "execution_count": 9,
   "metadata": {
    "ExecuteTime": {
     "end_time": "2018-05-22T04:31:21.040280Z",
     "start_time": "2018-05-22T04:30:58.807070Z"
    }
   },
   "outputs": [
    {
     "name": "stderr",
     "output_type": "stream",
     "text": [
      "/home/kai/anaconda3/lib/python3.6/site-packages/ipykernel_launcher.py:1: UserWarning: Boolean Series key will be reindexed to match DataFrame index.\n",
      "  \"\"\"Entry point for launching an IPython kernel.\n"
     ]
    },
    {
     "name": "stdout",
     "output_type": "stream",
     "text": [
      "(447579, 36)\n"
     ]
    }
   ],
   "source": [
    "pos = train[:-val_size][train.is_attributed == 1].copy()\n",
    "print(pos.shape)"
   ]
  },
  {
   "cell_type": "code",
   "execution_count": 10,
   "metadata": {
    "ExecuteTime": {
     "end_time": "2018-05-22T04:32:59.972278Z",
     "start_time": "2018-05-22T04:32:44.778269Z"
    }
   },
   "outputs": [
    {
     "name": "stdout",
     "output_type": "stream",
     "text": [
      "(447579, 36)\n"
     ]
    }
   ],
   "source": [
    "# no need to sample from all_neg because 99.75% are negative in train\n",
    "# all_neg = train[train.is_attributed == 0]\n",
    "# print(all_neg.shape)\n",
    "neg = train.sample(n=len(pos)).copy() \n",
    "print(neg.shape)"
   ]
  },
  {
   "cell_type": "code",
   "execution_count": 11,
   "metadata": {
    "ExecuteTime": {
     "end_time": "2018-05-22T04:33:53.875582Z",
     "start_time": "2018-05-22T04:33:53.852492Z"
    }
   },
   "outputs": [
    {
     "name": "stdout",
     "output_type": "stream",
     "text": [
      "(895158, 36)\n"
     ]
    }
   ],
   "source": [
    "train_balanced = pd.concat([pos, neg])\n",
    "print(train_balanced.shape)"
   ]
  },
  {
   "cell_type": "code",
   "execution_count": 13,
   "metadata": {
    "ExecuteTime": {
     "end_time": "2018-05-22T04:35:55.416767Z",
     "start_time": "2018-05-22T04:35:54.461303Z"
    }
   },
   "outputs": [
    {
     "data": {
      "text/plain": [
       "825"
      ]
     },
     "execution_count": 13,
     "metadata": {},
     "output_type": "execute_result"
    }
   ],
   "source": [
    "del train; gc.collect()"
   ]
  },
  {
   "cell_type": "code",
   "execution_count": null,
   "metadata": {
    "ExecuteTime": {
     "end_time": "2018-05-22T04:36:29.743860Z",
     "start_time": "2018-05-22T04:36:29.633200Z"
    },
    "collapsed": true
   },
   "outputs": [],
   "source": [
    "trainY = train_balanced.is_attributed.copy().astype('int8')\n",
    "trainY[trainY==0] = -1 # change 0 to 1 so that fastfm can train "
   ]
  },
  {
   "cell_type": "code",
   "execution_count": 17,
   "metadata": {
    "ExecuteTime": {
     "end_time": "2018-05-22T04:36:59.326623Z",
     "start_time": "2018-05-22T04:36:59.289722Z"
    },
    "collapsed": true
   },
   "outputs": [],
   "source": [
    "valY = val.is_attributed.copy().astype('int8')\n",
    "valY[valY==0] = -1"
   ]
  },
  {
   "cell_type": "code",
   "execution_count": 19,
   "metadata": {
    "ExecuteTime": {
     "end_time": "2018-05-22T04:37:18.865425Z",
     "start_time": "2018-05-22T04:37:18.691409Z"
    },
    "collapsed": true
   },
   "outputs": [],
   "source": [
    "train_balanced.drop(['is_attributed'], axis=1, inplace=True)\n",
    "val.drop(['is_attributed'], axis=1, inplace=True)"
   ]
  },
  {
   "cell_type": "code",
   "execution_count": 20,
   "metadata": {
    "ExecuteTime": {
     "end_time": "2018-05-22T04:37:26.217572Z",
     "start_time": "2018-05-22T04:37:26.211178Z"
    }
   },
   "outputs": [
    {
     "data": {
      "text/plain": [
       "((895158, 35), (895158,), (5000000, 35), (5000000,))"
      ]
     },
     "execution_count": 20,
     "metadata": {},
     "output_type": "execute_result"
    }
   ],
   "source": [
    "trainX = train_balanced\n",
    "valX = val\n",
    "trainX.shape, trainY.shape, valX.shape, valY.shape"
   ]
  },
  {
   "cell_type": "code",
   "execution_count": 21,
   "metadata": {
    "ExecuteTime": {
     "end_time": "2018-05-22T04:39:19.918626Z",
     "start_time": "2018-05-22T04:37:31.269947Z"
    },
    "collapsed": true
   },
   "outputs": [],
   "source": [
    "log_preds = fitpredict_logistic(trainX, trainY, valX)"
   ]
  },
  {
   "cell_type": "code",
   "execution_count": 22,
   "metadata": {
    "ExecuteTime": {
     "end_time": "2018-05-22T04:39:21.587778Z",
     "start_time": "2018-05-22T04:39:20.463676Z"
    }
   },
   "outputs": [
    {
     "data": {
      "text/plain": [
       "0.98655242515871389"
      ]
     },
     "execution_count": 22,
     "metadata": {},
     "output_type": "execute_result"
    }
   ],
   "source": [
    "roc_auc_score(valY, log_preds)"
   ]
  },
  {
   "cell_type": "code",
   "execution_count": 23,
   "metadata": {
    "ExecuteTime": {
     "end_time": "2018-05-22T05:35:58.791483Z",
     "start_time": "2018-05-22T04:42:24.451680Z"
    }
   },
   "outputs": [
    {
     "name": "stderr",
     "output_type": "stream",
     "text": [
      "100%|██████████| 3/3 [53:34<00:00, 1071.44s/it]\n"
     ]
    }
   ],
   "source": [
    "talkingdata_res2 = test_on_dataset(trainX, valX, trainY, valY, task_name='talking', classification=True, use_pylibfm=False)"
   ]
  },
  {
   "cell_type": "code",
   "execution_count": 24,
   "metadata": {
    "ExecuteTime": {
     "end_time": "2018-05-22T05:35:58.798391Z",
     "start_time": "2018-05-22T05:35:58.793006Z"
    }
   },
   "outputs": [
    {
     "data": {
      "text/html": [
       "<div>\n",
       "<style>\n",
       "    .dataframe thead tr:only-child th {\n",
       "        text-align: right;\n",
       "    }\n",
       "\n",
       "    .dataframe thead th {\n",
       "        text-align: left;\n",
       "    }\n",
       "\n",
       "    .dataframe tbody tr th {\n",
       "        vertical-align: top;\n",
       "    }\n",
       "</style>\n",
       "<table border=\"1\" class=\"dataframe\">\n",
       "  <thead>\n",
       "    <tr style=\"text-align: right;\">\n",
       "      <th></th>\n",
       "      <th>time</th>\n",
       "      <th>ROC AUC</th>\n",
       "    </tr>\n",
       "  </thead>\n",
       "  <tbody>\n",
       "    <tr>\n",
       "      <th>logistic</th>\n",
       "      <td>107.876930</td>\n",
       "      <td>0.986552</td>\n",
       "    </tr>\n",
       "    <tr>\n",
       "      <th>libFM</th>\n",
       "      <td>1001.872105</td>\n",
       "      <td>0.985458</td>\n",
       "    </tr>\n",
       "    <tr>\n",
       "      <th>fastFM</th>\n",
       "      <td>2099.812043</td>\n",
       "      <td>0.984177</td>\n",
       "    </tr>\n",
       "  </tbody>\n",
       "</table>\n",
       "</div>"
      ],
      "text/plain": [
       "                 time   ROC AUC\n",
       "logistic   107.876930  0.986552\n",
       "libFM     1001.872105  0.985458\n",
       "fastFM    2099.812043  0.984177"
      ]
     },
     "execution_count": 24,
     "metadata": {},
     "output_type": "execute_result"
    }
   ],
   "source": [
    "talkingdata_res2"
   ]
  },
  {
   "cell_type": "code",
   "execution_count": null,
   "metadata": {
    "collapsed": true
   },
   "outputs": [],
   "source": []
  }
 ],
 "metadata": {
  "kernelspec": {
   "display_name": "Python 3",
   "language": "python",
   "name": "python3"
  },
  "language_info": {
   "codemirror_mode": {
    "name": "ipython",
    "version": 3
   },
   "file_extension": ".py",
   "mimetype": "text/x-python",
   "name": "python",
   "nbconvert_exporter": "python",
   "pygments_lexer": "ipython3",
   "version": "3.6.3"
  },
  "notify_time": "5",
  "varInspector": {
   "cols": {
    "lenName": 16,
    "lenType": 16,
    "lenVar": 40
   },
   "kernels_config": {
    "python": {
     "delete_cmd_postfix": "",
     "delete_cmd_prefix": "del ",
     "library": "var_list.py",
     "varRefreshCmd": "print(var_dic_list())"
    },
    "r": {
     "delete_cmd_postfix": ") ",
     "delete_cmd_prefix": "rm(",
     "library": "var_list.r",
     "varRefreshCmd": "cat(var_dic_list()) "
    }
   },
   "types_to_exclude": [
    "module",
    "function",
    "builtin_function_or_method",
    "instance",
    "_Feature"
   ],
   "window_display": false
  }
 },
 "nbformat": 4,
 "nbformat_minor": 2
}
