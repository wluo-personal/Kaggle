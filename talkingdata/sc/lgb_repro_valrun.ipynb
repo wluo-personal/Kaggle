{
 "cells": [
  {
   "cell_type": "code",
   "execution_count": 1,
   "metadata": {
    "collapsed": true
   },
   "outputs": [],
   "source": [
    "\"\"\"\n",
    "A non-blending lightGBM model that incorporates portions and ideas from various public kernels.\n",
    "\"\"\"\n",
    "DEBUG = False\n",
    "VAL_RUN = True\n",
    "WHERE = 'kaggle'\n",
    "import time\n",
    "FILENO = str(int(time.time()))[3:]\n",
    "NCHUNK = 32000000\n",
    "OFFSET = 75000000\n",
    "\n",
    "MISSING32 = 999999999\n",
    "MISSING8 = 255\n",
    "PUBLIC_CUTOFF = 4032690\n",
    "\n",
    "if WHERE=='kaggle':\n",
    "\tinpath = '/home/kai/data/kaggle/talkingdata/data/'\n",
    "\tpickle_path ='/home/kai/data/kaggle/talkingdata/data/training-and-validation-data-pickle/'\n",
    "\tsuffix = ''\n",
    "\toutpath = ''\n",
    "\tsavepath = ''\n",
    "\toofpath = ''\n",
    "\tcores = 4\n",
    "elif WHERE=='oof':\n",
    "\tinpath = '/home/kai/data/kaggle/talkingdata/data/'\n",
    "\tpickle_path = '/home/kai/data/kaggle/talkingdata/data/training-and-validation-data-pickle/'\n",
    "\tsuffix = '.zip'\n",
    "\toutpath = '/home/kai/data/kaggle/talkingdata/data/training-and-validation-data-pickle/sub/'\n",
    "\toofpath = '/home/kai/data/kaggle/talkingdata/data/training-and-validation-data-pickle/oof/'\n",
    "\tsavepath = '/home/kai/data/kaggle/talkingdata/data/training-and-validation-data-pickle/save'\n",
    "\tcores = 7"
   ]
  },
  {
   "cell_type": "code",
   "execution_count": 2,
   "metadata": {
    "collapsed": true
   },
   "outputs": [],
   "source": [
    "import pandas as pd\n",
    "import time\n",
    "import numpy as np\n",
    "from sklearn.model_selection import train_test_split\n",
    "from sklearn.metrics import roc_auc_score\n",
    "import lightgbm as lgb\n",
    "import gc\n",
    "import matplotlib.pyplot as plt\n",
    "import os"
   ]
  },
  {
   "cell_type": "code",
   "execution_count": 3,
   "metadata": {
    "collapsed": true
   },
   "outputs": [],
   "source": [
    "def do_count( df, group_cols, agg_name, agg_type='uint32', show_max=False, show_agg=True ):\n",
    "    if show_agg:\n",
    "        print( \"Aggregating by \", group_cols , '...' )\n",
    "    gp = df[group_cols][group_cols].groupby(group_cols).size().rename(agg_name).to_frame().reset_index()\n",
    "    df = df.merge(gp, on=group_cols, how='left')\n",
    "    del gp\n",
    "    if show_max:\n",
    "        print( agg_name + \" max value = \", df[agg_name].max() )\n",
    "    df[agg_name] = df[agg_name].astype(agg_type)\n",
    "    gc.collect()\n",
    "    return( df )\n",
    "\n",
    "def do_countuniq( df, group_cols, counted, agg_name, agg_type='uint32', show_max=False, show_agg=True ):\n",
    "    if show_agg:\n",
    "        print( \"Counting unqiue \", counted, \" by \", group_cols , '...' )\n",
    "    gp = df[group_cols+[counted]].groupby(group_cols)[counted].nunique().reset_index().rename(columns={counted:agg_name})\n",
    "    df = df.merge(gp, on=group_cols, how='left')\n",
    "    del gp\n",
    "    if show_max:\n",
    "        print( agg_name + \" max value = \", df[agg_name].max() )\n",
    "    df[agg_name] = df[agg_name].astype(agg_type)\n",
    "    gc.collect()\n",
    "    return( df )\n",
    "    \n",
    "def do_cumcount( df, group_cols, counted, agg_name, agg_type='uint32', show_max=False, show_agg=True ):\n",
    "    if show_agg:\n",
    "        print( \"Cumulative count by \", group_cols , '...' )\n",
    "    gp = df[group_cols+[counted]].groupby(group_cols)[counted].cumcount()\n",
    "    df[agg_name]=gp.values\n",
    "    del gp\n",
    "    if show_max:\n",
    "        print( agg_name + \" max value = \", df[agg_name].max() )\n",
    "    df[agg_name] = df[agg_name].astype(agg_type)\n",
    "    gc.collect()\n",
    "    return( df )\n",
    "\n",
    "def do_mean( df, group_cols, counted, agg_name, agg_type='float32', show_max=False, show_agg=True ):\n",
    "    if show_agg:\n",
    "        print( \"Calculating mean of \", counted, \" by \", group_cols , '...' )\n",
    "    gp = df[group_cols+[counted]].groupby(group_cols)[counted].mean().reset_index().rename(columns={counted:agg_name})\n",
    "    df = df.merge(gp, on=group_cols, how='left')\n",
    "    del gp\n",
    "    if show_max:\n",
    "        print( agg_name + \" max value = \", df[agg_name].max() )\n",
    "    df[agg_name] = df[agg_name].astype(agg_type)\n",
    "    gc.collect()\n",
    "    return( df )\n",
    "\n",
    "def do_var( df, group_cols, counted, agg_name, agg_type='float32', show_max=False, show_agg=True ):\n",
    "    if show_agg:\n",
    "        print( \"Calculating variance of \", counted, \" by \", group_cols , '...' )\n",
    "    gp = df[group_cols+[counted]].groupby(group_cols)[counted].var().reset_index().rename(columns={counted:agg_name})\n",
    "    df = df.merge(gp, on=group_cols, how='left')\n",
    "    del gp\n",
    "    if show_max:\n",
    "        print( agg_name + \" max value = \", df[agg_name].max() )\n",
    "    df[agg_name] = df[agg_name].astype(agg_type)\n",
    "    gc.collect()\n",
    "    return( df )"
   ]
  },
  {
   "cell_type": "code",
   "execution_count": 4,
   "metadata": {
    "collapsed": true
   },
   "outputs": [],
   "source": [
    "debug = DEBUG\n",
    "if debug:\n",
    "    print('*** debug parameter set: this is a test run for debugging purposes ***')\n",
    "\n",
    "    \n",
    "if VAL_RUN:\n",
    "    nrows=122071522\n",
    "    outpath = oofpath\n",
    "else:\n",
    "    nrows=184903890\n",
    "nchunk=NCHUNK\n",
    "val_size=2500000\n",
    "frm=nrows-OFFSET\n",
    "if debug:\n",
    "    frm=0\n",
    "    nchunk=100000\n",
    "    val_size=10000\n",
    "to=frm+nchunk\n",
    "fileno = FILENO"
   ]
  },
  {
   "cell_type": "code",
   "execution_count": 5,
   "metadata": {
    "collapsed": true
   },
   "outputs": [],
   "source": [
    "dtypes = {\n",
    "        'ip'            : 'uint32',\n",
    "        'app'           : 'uint16',\n",
    "        'device'        : 'uint16',\n",
    "        'os'            : 'uint16',\n",
    "        'channel'       : 'uint16',\n",
    "        'is_attributed' : 'uint8',\n",
    "        'click_id'      : 'uint32',\n",
    "        }\n"
   ]
  },
  {
   "cell_type": "code",
   "execution_count": 6,
   "metadata": {},
   "outputs": [
    {
     "name": "stdout",
     "output_type": "stream",
     "text": [
      "loading train data... 47071522 79071522\n",
      "loading test data...\n"
     ]
    }
   ],
   "source": [
    "if VAL_RUN:\n",
    "    print('loading train data...',frm,to)\n",
    "    train_df = pd.read_pickle( pickle_path+\"training.pkl.gz\" )[frm:to]\n",
    "    train_df['click_time'] = pd.to_datetime( train_df.click_time )\n",
    "    print('loading test data...')\n",
    "    if debug:\n",
    "        public_cutoff = 10000\n",
    "        test_df = pd.read_pickle( pickle_path+\"validation.pkl.gz\" )[:30000]\n",
    "        test_df['click_time'] = pd.to_datetime( test_df.click_time )\n",
    "        y_test = test_df['is_attributed'].values\n",
    "        test_df.drop(['is_attributed'],axis=1,inplace=True)\n",
    "    else:\n",
    "        public_cutoff = PUBLIC_CUTOFF\n",
    "        test_df = pd.read_pickle( pickle_path+\"validation.pkl.gz\" )\n",
    "        test_df['click_time'] = pd.to_datetime( test_df.click_time )\n",
    "        y_test = test_df['is_attributed'].values\n",
    "        test_df.drop(['is_attributed'],axis=1,inplace=True)\n",
    "else:\n",
    "    print('loading train data...',frm,to)\n",
    "    train_df = pd.read_csv(inpath+\"train.csv\", parse_dates=['click_time'], skiprows=range(1,frm), nrows=to-frm, dtype=dtypes, usecols=['ip','app','device','os', 'channel', 'click_time', 'is_attributed'])\n",
    "    print('loading test data...')\n",
    "    if debug:\n",
    "        test_df = pd.read_csv(inpath+\"test.csv\", nrows=100000, parse_dates=['click_time'], dtype=dtypes, usecols=['ip','app','device','os', 'channel', 'click_time', 'click_id'])\n",
    "    else:\n",
    "        test_df = pd.read_csv(inpath+\"test.csv\", parse_dates=['click_time'], dtype=dtypes, usecols=['ip','app','device','os', 'channel', 'click_time', 'click_id'])\n",
    "    train_df['click_id'] = MISSING32\n",
    "    train_df['click_id'] = train_df.click_id.astype('uint32')"
   ]
  },
  {
   "cell_type": "code",
   "execution_count": 7,
   "metadata": {},
   "outputs": [
    {
     "data": {
      "text/plain": [
       "((32000000, 7), (20898422, 6))"
      ]
     },
     "execution_count": 7,
     "metadata": {},
     "output_type": "execute_result"
    }
   ],
   "source": [
    "train_df.shape, test_df.shape"
   ]
  },
  {
   "cell_type": "code",
   "execution_count": 8,
   "metadata": {},
   "outputs": [
    {
     "data": {
      "text/html": [
       "<div>\n",
       "<style>\n",
       "    .dataframe thead tr:only-child th {\n",
       "        text-align: right;\n",
       "    }\n",
       "\n",
       "    .dataframe thead th {\n",
       "        text-align: left;\n",
       "    }\n",
       "\n",
       "    .dataframe tbody tr th {\n",
       "        vertical-align: top;\n",
       "    }\n",
       "</style>\n",
       "<table border=\"1\" class=\"dataframe\">\n",
       "  <thead>\n",
       "    <tr style=\"text-align: right;\">\n",
       "      <th></th>\n",
       "      <th>ip</th>\n",
       "      <th>app</th>\n",
       "      <th>device</th>\n",
       "      <th>os</th>\n",
       "      <th>channel</th>\n",
       "      <th>click_time</th>\n",
       "      <th>is_attributed</th>\n",
       "    </tr>\n",
       "  </thead>\n",
       "  <tbody>\n",
       "    <tr>\n",
       "      <th>47071522</th>\n",
       "      <td>79932</td>\n",
       "      <td>1</td>\n",
       "      <td>1</td>\n",
       "      <td>19</td>\n",
       "      <td>134</td>\n",
       "      <td>2017-11-07 11:52:41</td>\n",
       "      <td>0</td>\n",
       "    </tr>\n",
       "    <tr>\n",
       "      <th>47071523</th>\n",
       "      <td>167951</td>\n",
       "      <td>15</td>\n",
       "      <td>1</td>\n",
       "      <td>14</td>\n",
       "      <td>480</td>\n",
       "      <td>2017-11-07 11:52:41</td>\n",
       "      <td>0</td>\n",
       "    </tr>\n",
       "    <tr>\n",
       "      <th>47071524</th>\n",
       "      <td>36213</td>\n",
       "      <td>12</td>\n",
       "      <td>1</td>\n",
       "      <td>19</td>\n",
       "      <td>178</td>\n",
       "      <td>2017-11-07 11:52:41</td>\n",
       "      <td>0</td>\n",
       "    </tr>\n",
       "    <tr>\n",
       "      <th>47071525</th>\n",
       "      <td>114526</td>\n",
       "      <td>9</td>\n",
       "      <td>1</td>\n",
       "      <td>22</td>\n",
       "      <td>244</td>\n",
       "      <td>2017-11-07 11:52:41</td>\n",
       "      <td>0</td>\n",
       "    </tr>\n",
       "    <tr>\n",
       "      <th>47071526</th>\n",
       "      <td>1992</td>\n",
       "      <td>11</td>\n",
       "      <td>1</td>\n",
       "      <td>7</td>\n",
       "      <td>122</td>\n",
       "      <td>2017-11-07 11:52:41</td>\n",
       "      <td>0</td>\n",
       "    </tr>\n",
       "  </tbody>\n",
       "</table>\n",
       "</div>"
      ],
      "text/plain": [
       "              ip  app  device  os  channel          click_time  is_attributed\n",
       "47071522   79932    1       1  19      134 2017-11-07 11:52:41              0\n",
       "47071523  167951   15       1  14      480 2017-11-07 11:52:41              0\n",
       "47071524   36213   12       1  19      178 2017-11-07 11:52:41              0\n",
       "47071525  114526    9       1  22      244 2017-11-07 11:52:41              0\n",
       "47071526    1992   11       1   7      122 2017-11-07 11:52:41              0"
      ]
     },
     "execution_count": 8,
     "metadata": {},
     "output_type": "execute_result"
    }
   ],
   "source": [
    "train_df.head()"
   ]
  },
  {
   "cell_type": "code",
   "execution_count": 9,
   "metadata": {},
   "outputs": [
    {
     "data": {
      "text/html": [
       "<div>\n",
       "<style>\n",
       "    .dataframe thead tr:only-child th {\n",
       "        text-align: right;\n",
       "    }\n",
       "\n",
       "    .dataframe thead th {\n",
       "        text-align: left;\n",
       "    }\n",
       "\n",
       "    .dataframe tbody tr th {\n",
       "        vertical-align: top;\n",
       "    }\n",
       "</style>\n",
       "<table border=\"1\" class=\"dataframe\">\n",
       "  <thead>\n",
       "    <tr style=\"text-align: right;\">\n",
       "      <th></th>\n",
       "      <th>ip</th>\n",
       "      <th>app</th>\n",
       "      <th>device</th>\n",
       "      <th>os</th>\n",
       "      <th>channel</th>\n",
       "      <th>click_time</th>\n",
       "      <th>is_attributed</th>\n",
       "    </tr>\n",
       "  </thead>\n",
       "  <tbody>\n",
       "    <tr>\n",
       "      <th>79071517</th>\n",
       "      <td>44957</td>\n",
       "      <td>21</td>\n",
       "      <td>1</td>\n",
       "      <td>10</td>\n",
       "      <td>232</td>\n",
       "      <td>2017-11-08 02:59:44</td>\n",
       "      <td>0</td>\n",
       "    </tr>\n",
       "    <tr>\n",
       "      <th>79071518</th>\n",
       "      <td>84521</td>\n",
       "      <td>18</td>\n",
       "      <td>1</td>\n",
       "      <td>36</td>\n",
       "      <td>121</td>\n",
       "      <td>2017-11-08 02:59:44</td>\n",
       "      <td>0</td>\n",
       "    </tr>\n",
       "    <tr>\n",
       "      <th>79071519</th>\n",
       "      <td>42197</td>\n",
       "      <td>18</td>\n",
       "      <td>1</td>\n",
       "      <td>20</td>\n",
       "      <td>107</td>\n",
       "      <td>2017-11-08 02:59:44</td>\n",
       "      <td>0</td>\n",
       "    </tr>\n",
       "    <tr>\n",
       "      <th>79071520</th>\n",
       "      <td>255305</td>\n",
       "      <td>18</td>\n",
       "      <td>1</td>\n",
       "      <td>19</td>\n",
       "      <td>107</td>\n",
       "      <td>2017-11-08 02:59:44</td>\n",
       "      <td>0</td>\n",
       "    </tr>\n",
       "    <tr>\n",
       "      <th>79071521</th>\n",
       "      <td>12213</td>\n",
       "      <td>21</td>\n",
       "      <td>2</td>\n",
       "      <td>58</td>\n",
       "      <td>128</td>\n",
       "      <td>2017-11-08 02:59:44</td>\n",
       "      <td>0</td>\n",
       "    </tr>\n",
       "  </tbody>\n",
       "</table>\n",
       "</div>"
      ],
      "text/plain": [
       "              ip  app  device  os  channel          click_time  is_attributed\n",
       "79071517   44957   21       1  10      232 2017-11-08 02:59:44              0\n",
       "79071518   84521   18       1  36      121 2017-11-08 02:59:44              0\n",
       "79071519   42197   18       1  20      107 2017-11-08 02:59:44              0\n",
       "79071520  255305   18       1  19      107 2017-11-08 02:59:44              0\n",
       "79071521   12213   21       2  58      128 2017-11-08 02:59:44              0"
      ]
     },
     "execution_count": 9,
     "metadata": {},
     "output_type": "execute_result"
    }
   ],
   "source": [
    "train_df.tail()"
   ]
  },
  {
   "cell_type": "code",
   "execution_count": 10,
   "metadata": {
    "collapsed": true
   },
   "outputs": [],
   "source": [
    "len_train = len(train_df)\n",
    "test_df['is_attributed'] = MISSING8\n",
    "test_df['is_attributed'] = test_df.is_attributed.astype('uint8')\n",
    "train_df=train_df.append(test_df)"
   ]
  },
  {
   "cell_type": "code",
   "execution_count": 11,
   "metadata": {},
   "outputs": [
    {
     "data": {
      "text/plain": [
       "52898422"
      ]
     },
     "execution_count": 11,
     "metadata": {},
     "output_type": "execute_result"
    }
   ],
   "source": [
    "len(train_df)"
   ]
  },
  {
   "cell_type": "code",
   "execution_count": 12,
   "metadata": {},
   "outputs": [
    {
     "data": {
      "text/plain": [
       "47"
      ]
     },
     "execution_count": 12,
     "metadata": {},
     "output_type": "execute_result"
    }
   ],
   "source": [
    "del test_df\n",
    "gc.collect()"
   ]
  },
  {
   "cell_type": "code",
   "execution_count": 13,
   "metadata": {},
   "outputs": [
    {
     "name": "stdout",
     "output_type": "stream",
     "text": [
      "Extracting new features...\n"
     ]
    }
   ],
   "source": [
    "print('Extracting new features...')\n",
    "train_df['hour'] = pd.to_datetime(train_df.click_time).dt.hour.astype('uint8')\n",
    "train_df['day'] = pd.to_datetime(train_df.click_time).dt.day.astype('uint8')"
   ]
  },
  {
   "cell_type": "code",
   "execution_count": 14,
   "metadata": {},
   "outputs": [
    {
     "name": "stdout",
     "output_type": "stream",
     "text": [
      "Extracting aggregation features...\n",
      "Cumulative count by  ['ip', 'device', 'os'] ...\n",
      "X1 max value =  101991\n",
      "Cumulative count by  ['ip'] ...\n",
      "X7 max value =  498745\n",
      "Counting unqiue  channel  by  ['ip'] ...\n",
      "X0 max value =  154\n",
      "Counting unqiue  hour  by  ['ip', 'day'] ...\n",
      "X2 max value =  13\n",
      "Counting unqiue  app  by  ['ip'] ...\n",
      "X3 max value =  210\n",
      "Counting unqiue  os  by  ['ip', 'app'] ...\n",
      "X4 max value =  117\n",
      "Counting unqiue  device  by  ['ip'] ...\n",
      "X5 max value =  267\n",
      "Counting unqiue  channel  by  ['app'] ...\n",
      "X6 max value =  44\n",
      "Counting unqiue  app  by  ['ip', 'device', 'os'] ...\n",
      "X8 max value =  78\n",
      "Aggregating by  ['ip', 'day', 'hour'] ...\n",
      "ip_tcount max value =  44259\n",
      "Aggregating by  ['ip', 'app'] ...\n",
      "ip_app_count max value =  70777\n",
      "Aggregating by  ['ip', 'app', 'os'] ...\n",
      "ip_app_os_count max value =  16873\n",
      "Calculating variance of  hour  by  ['ip', 'day', 'channel'] ...\n",
      "ip_tchan_count max value =  72.0\n",
      "Calculating variance of  hour  by  ['ip', 'app', 'os'] ...\n",
      "ip_app_os_var max value =  264.5\n",
      "Calculating variance of  day  by  ['ip', 'app', 'channel'] ...\n",
      "ip_app_channel_var_day max value =  2.0\n",
      "Calculating mean of  hour  by  ['ip', 'app', 'channel'] ...\n",
      "ip_app_channel_mean_hour max value =  23.0\n"
     ]
    },
    {
     "data": {
      "text/plain": [
       "56"
      ]
     },
     "execution_count": 14,
     "metadata": {},
     "output_type": "execute_result"
    }
   ],
   "source": [
    "print('Extracting aggregation features...')\n",
    "train_df = do_cumcount( train_df, ['ip', 'device', 'os'], 'app', 'X1', show_max=True ); gc.collect()\n",
    "train_df = do_cumcount( train_df, ['ip'], 'os', 'X7', show_max=True ); gc.collect()\n",
    "train_df = do_countuniq( train_df, ['ip'], 'channel', 'X0', 'uint8', show_max=True ); gc.collect()\n",
    "train_df = do_countuniq( train_df, ['ip', 'day'], 'hour', 'X2', 'uint8', show_max=True ); gc.collect()\n",
    "train_df = do_countuniq( train_df, ['ip'], 'app', 'X3', 'uint8', show_max=True ); gc.collect()\n",
    "train_df = do_countuniq( train_df, ['ip', 'app'], 'os', 'X4', 'uint8', show_max=True ); gc.collect()\n",
    "train_df = do_countuniq( train_df, ['ip'], 'device', 'X5', 'uint16', show_max=True ); gc.collect()\n",
    "train_df = do_countuniq( train_df, ['app'], 'channel', 'X6', show_max=True ); gc.collect()\n",
    "train_df = do_countuniq( train_df, ['ip', 'device', 'os'], 'app', 'X8', show_max=True ); gc.collect()\n",
    "train_df = do_count( train_df, ['ip', 'day', 'hour'], 'ip_tcount', show_max=True ); gc.collect()\n",
    "train_df = do_count( train_df, ['ip', 'app'], 'ip_app_count', show_max=True ); gc.collect()\n",
    "train_df = do_count( train_df, ['ip', 'app', 'os'], 'ip_app_os_count', 'uint16', show_max=True ); gc.collect()\n",
    "train_df = do_var( train_df, ['ip', 'day', 'channel'], 'hour', 'ip_tchan_count', show_max=True ); gc.collect()\n",
    "train_df = do_var( train_df, ['ip', 'app', 'os'], 'hour', 'ip_app_os_var', show_max=True ); gc.collect()\n",
    "train_df = do_var( train_df, ['ip', 'app', 'channel'], 'day', 'ip_app_channel_var_day', show_max=True ); gc.collect()\n",
    "train_df = do_mean( train_df, ['ip', 'app', 'channel'], 'hour', 'ip_app_channel_mean_hour', show_max=True ); gc.collect()"
   ]
  },
  {
   "cell_type": "code",
   "execution_count": 15,
   "metadata": {},
   "outputs": [
    {
     "name": "stdout",
     "output_type": "stream",
     "text": [
      "Doing nextClick...\n"
     ]
    },
    {
     "data": {
      "text/plain": [
       "57"
      ]
     },
     "execution_count": 15,
     "metadata": {},
     "output_type": "execute_result"
    }
   ],
   "source": [
    "print('Doing nextClick...')\n",
    "predictors=[]\n",
    "new_feature = 'nextClick'\n",
    "D=2**26\n",
    "train_df['category'] = (train_df['ip'].astype(str) + \"_\" + train_df['app'].astype(str) + \"_\" + train_df['device'].astype(str) \\\n",
    "        + \"_\" + train_df['os'].astype(str)).apply(hash) % D\n",
    "click_buffer= np.full(D, 3000000000, dtype=np.uint32)\n",
    "train_df['epochtime']= train_df['click_time'].astype(np.int64) // 10 ** 9\n",
    "next_clicks= []\n",
    "for category, t in zip(reversed(train_df['category'].values), reversed(train_df['epochtime'].values)):\n",
    "    next_clicks.append(click_buffer[category]-t)\n",
    "    click_buffer[category]= t\n",
    "del(click_buffer)\n",
    "QQ= list(reversed(next_clicks))\n",
    "train_df.drop(['epochtime','category','click_time'], axis=1, inplace=True)\n",
    "train_df[new_feature] = pd.Series(QQ).astype('float32')\n",
    "predictors.append(new_feature)\n",
    "train_df[new_feature+'_shift'] = train_df[new_feature].shift(+1).values\n",
    "predictors.append(new_feature+'_shift')\n",
    "del QQ, next_clicks\n",
    "gc.collect()"
   ]
  },
  {
   "cell_type": "code",
   "execution_count": 16,
   "metadata": {},
   "outputs": [
    {
     "data": {
      "text/plain": [
       "(52898422, 26)"
      ]
     },
     "execution_count": 16,
     "metadata": {},
     "output_type": "execute_result"
    }
   ],
   "source": [
    "train_df.shape"
   ]
  },
  {
   "cell_type": "code",
   "execution_count": 17,
   "metadata": {},
   "outputs": [
    {
     "data": {
      "text/html": [
       "<div>\n",
       "<style>\n",
       "    .dataframe thead tr:only-child th {\n",
       "        text-align: right;\n",
       "    }\n",
       "\n",
       "    .dataframe thead th {\n",
       "        text-align: left;\n",
       "    }\n",
       "\n",
       "    .dataframe tbody tr th {\n",
       "        vertical-align: top;\n",
       "    }\n",
       "</style>\n",
       "<table border=\"1\" class=\"dataframe\">\n",
       "  <thead>\n",
       "    <tr style=\"text-align: right;\">\n",
       "      <th></th>\n",
       "      <th>ip</th>\n",
       "      <th>app</th>\n",
       "      <th>device</th>\n",
       "      <th>os</th>\n",
       "      <th>channel</th>\n",
       "      <th>is_attributed</th>\n",
       "      <th>hour</th>\n",
       "      <th>day</th>\n",
       "      <th>X1</th>\n",
       "      <th>X7</th>\n",
       "      <th>...</th>\n",
       "      <th>X8</th>\n",
       "      <th>ip_tcount</th>\n",
       "      <th>ip_app_count</th>\n",
       "      <th>ip_app_os_count</th>\n",
       "      <th>ip_tchan_count</th>\n",
       "      <th>ip_app_os_var</th>\n",
       "      <th>ip_app_channel_var_day</th>\n",
       "      <th>ip_app_channel_mean_hour</th>\n",
       "      <th>nextClick</th>\n",
       "      <th>nextClick_shift</th>\n",
       "    </tr>\n",
       "  </thead>\n",
       "  <tbody>\n",
       "    <tr>\n",
       "      <th>0</th>\n",
       "      <td>79932</td>\n",
       "      <td>1</td>\n",
       "      <td>1</td>\n",
       "      <td>19</td>\n",
       "      <td>134</td>\n",
       "      <td>0</td>\n",
       "      <td>11</td>\n",
       "      <td>7</td>\n",
       "      <td>0</td>\n",
       "      <td>0</td>\n",
       "      <td>...</td>\n",
       "      <td>18</td>\n",
       "      <td>4</td>\n",
       "      <td>10</td>\n",
       "      <td>3</td>\n",
       "      <td>39.799999</td>\n",
       "      <td>27.000000</td>\n",
       "      <td>0.500000</td>\n",
       "      <td>6.500000</td>\n",
       "      <td>5.267600e+04</td>\n",
       "      <td>NaN</td>\n",
       "    </tr>\n",
       "    <tr>\n",
       "      <th>1</th>\n",
       "      <td>167951</td>\n",
       "      <td>15</td>\n",
       "      <td>1</td>\n",
       "      <td>14</td>\n",
       "      <td>480</td>\n",
       "      <td>0</td>\n",
       "      <td>11</td>\n",
       "      <td>7</td>\n",
       "      <td>0</td>\n",
       "      <td>0</td>\n",
       "      <td>...</td>\n",
       "      <td>7</td>\n",
       "      <td>7</td>\n",
       "      <td>9</td>\n",
       "      <td>1</td>\n",
       "      <td>3.000000</td>\n",
       "      <td>NaN</td>\n",
       "      <td>0.000000</td>\n",
       "      <td>12.500000</td>\n",
       "      <td>1.489944e+09</td>\n",
       "      <td>5.267600e+04</td>\n",
       "    </tr>\n",
       "    <tr>\n",
       "      <th>2</th>\n",
       "      <td>36213</td>\n",
       "      <td>12</td>\n",
       "      <td>1</td>\n",
       "      <td>19</td>\n",
       "      <td>178</td>\n",
       "      <td>0</td>\n",
       "      <td>11</td>\n",
       "      <td>7</td>\n",
       "      <td>0</td>\n",
       "      <td>0</td>\n",
       "      <td>...</td>\n",
       "      <td>33</td>\n",
       "      <td>264</td>\n",
       "      <td>2506</td>\n",
       "      <td>764</td>\n",
       "      <td>12.297750</td>\n",
       "      <td>47.184048</td>\n",
       "      <td>0.722411</td>\n",
       "      <td>10.822472</td>\n",
       "      <td>1.960000e+02</td>\n",
       "      <td>1.489944e+09</td>\n",
       "    </tr>\n",
       "    <tr>\n",
       "      <th>3</th>\n",
       "      <td>114526</td>\n",
       "      <td>9</td>\n",
       "      <td>1</td>\n",
       "      <td>22</td>\n",
       "      <td>244</td>\n",
       "      <td>0</td>\n",
       "      <td>11</td>\n",
       "      <td>7</td>\n",
       "      <td>0</td>\n",
       "      <td>0</td>\n",
       "      <td>...</td>\n",
       "      <td>16</td>\n",
       "      <td>14</td>\n",
       "      <td>298</td>\n",
       "      <td>6</td>\n",
       "      <td>16.923077</td>\n",
       "      <td>16.666666</td>\n",
       "      <td>0.833333</td>\n",
       "      <td>11.160000</td>\n",
       "      <td>5.223600e+04</td>\n",
       "      <td>1.960000e+02</td>\n",
       "    </tr>\n",
       "    <tr>\n",
       "      <th>4</th>\n",
       "      <td>1992</td>\n",
       "      <td>11</td>\n",
       "      <td>1</td>\n",
       "      <td>7</td>\n",
       "      <td>122</td>\n",
       "      <td>0</td>\n",
       "      <td>11</td>\n",
       "      <td>7</td>\n",
       "      <td>0</td>\n",
       "      <td>0</td>\n",
       "      <td>...</td>\n",
       "      <td>6</td>\n",
       "      <td>21</td>\n",
       "      <td>5</td>\n",
       "      <td>1</td>\n",
       "      <td>3.300000</td>\n",
       "      <td>NaN</td>\n",
       "      <td>NaN</td>\n",
       "      <td>11.000000</td>\n",
       "      <td>1.489944e+09</td>\n",
       "      <td>5.223600e+04</td>\n",
       "    </tr>\n",
       "  </tbody>\n",
       "</table>\n",
       "<p>5 rows × 26 columns</p>\n",
       "</div>"
      ],
      "text/plain": [
       "       ip  app  device  os  channel  is_attributed  hour  day  X1  X7  \\\n",
       "0   79932    1       1  19      134              0    11    7   0   0   \n",
       "1  167951   15       1  14      480              0    11    7   0   0   \n",
       "2   36213   12       1  19      178              0    11    7   0   0   \n",
       "3  114526    9       1  22      244              0    11    7   0   0   \n",
       "4    1992   11       1   7      122              0    11    7   0   0   \n",
       "\n",
       "        ...         X8  ip_tcount  ip_app_count  ip_app_os_count  \\\n",
       "0       ...         18          4            10                3   \n",
       "1       ...          7          7             9                1   \n",
       "2       ...         33        264          2506              764   \n",
       "3       ...         16         14           298                6   \n",
       "4       ...          6         21             5                1   \n",
       "\n",
       "   ip_tchan_count  ip_app_os_var  ip_app_channel_var_day  \\\n",
       "0       39.799999      27.000000                0.500000   \n",
       "1        3.000000            NaN                0.000000   \n",
       "2       12.297750      47.184048                0.722411   \n",
       "3       16.923077      16.666666                0.833333   \n",
       "4        3.300000            NaN                     NaN   \n",
       "\n",
       "   ip_app_channel_mean_hour     nextClick  nextClick_shift  \n",
       "0                  6.500000  5.267600e+04              NaN  \n",
       "1                 12.500000  1.489944e+09     5.267600e+04  \n",
       "2                 10.822472  1.960000e+02     1.489944e+09  \n",
       "3                 11.160000  5.223600e+04     1.960000e+02  \n",
       "4                 11.000000  1.489944e+09     5.223600e+04  \n",
       "\n",
       "[5 rows x 26 columns]"
      ]
     },
     "execution_count": 17,
     "metadata": {},
     "output_type": "execute_result"
    }
   ],
   "source": [
    "train_df.head()"
   ]
  },
  {
   "cell_type": "markdown",
   "metadata": {},
   "source": [
    "# reencode IP"
   ]
  },
  {
   "cell_type": "code",
   "execution_count": 18,
   "metadata": {},
   "outputs": [
    {
     "data": {
      "text/plain": [
       "364778"
      ]
     },
     "execution_count": 18,
     "metadata": {},
     "output_type": "execute_result"
    }
   ],
   "source": [
    "max(train_df['ip'])"
   ]
  },
  {
   "cell_type": "code",
   "execution_count": 19,
   "metadata": {
    "collapsed": true
   },
   "outputs": [],
   "source": [
    "list1 = list(range(400000)) # max ip is about 360000\n",
    "np.random.shuffle(list1)\n",
    "\n",
    "ipdict = dict(zip(list1, range(len(list1))))\n",
    "train_df['newip'] = train_df['ip'].apply(lambda x: ipdict[x])"
   ]
  },
  {
   "cell_type": "code",
   "execution_count": 22,
   "metadata": {
    "collapsed": true
   },
   "outputs": [],
   "source": [
    "train_df.reset_index(inplace=True)"
   ]
  },
  {
   "cell_type": "code",
   "execution_count": 23,
   "metadata": {},
   "outputs": [
    {
     "data": {
      "text/html": [
       "<div>\n",
       "<style>\n",
       "    .dataframe thead tr:only-child th {\n",
       "        text-align: right;\n",
       "    }\n",
       "\n",
       "    .dataframe thead th {\n",
       "        text-align: left;\n",
       "    }\n",
       "\n",
       "    .dataframe tbody tr th {\n",
       "        vertical-align: top;\n",
       "    }\n",
       "</style>\n",
       "<table border=\"1\" class=\"dataframe\">\n",
       "  <thead>\n",
       "    <tr style=\"text-align: right;\">\n",
       "      <th></th>\n",
       "      <th>index</th>\n",
       "      <th>ip</th>\n",
       "      <th>app</th>\n",
       "      <th>device</th>\n",
       "      <th>os</th>\n",
       "      <th>channel</th>\n",
       "      <th>is_attributed</th>\n",
       "      <th>hour</th>\n",
       "      <th>day</th>\n",
       "      <th>X1</th>\n",
       "      <th>...</th>\n",
       "      <th>ip_tcount</th>\n",
       "      <th>ip_app_count</th>\n",
       "      <th>ip_app_os_count</th>\n",
       "      <th>ip_tchan_count</th>\n",
       "      <th>ip_app_os_var</th>\n",
       "      <th>ip_app_channel_var_day</th>\n",
       "      <th>ip_app_channel_mean_hour</th>\n",
       "      <th>nextClick</th>\n",
       "      <th>nextClick_shift</th>\n",
       "      <th>newip</th>\n",
       "    </tr>\n",
       "  </thead>\n",
       "  <tbody>\n",
       "    <tr>\n",
       "      <th>0</th>\n",
       "      <td>0</td>\n",
       "      <td>79932</td>\n",
       "      <td>1</td>\n",
       "      <td>1</td>\n",
       "      <td>19</td>\n",
       "      <td>134</td>\n",
       "      <td>0</td>\n",
       "      <td>11</td>\n",
       "      <td>7</td>\n",
       "      <td>0</td>\n",
       "      <td>...</td>\n",
       "      <td>4</td>\n",
       "      <td>10</td>\n",
       "      <td>3</td>\n",
       "      <td>39.799999</td>\n",
       "      <td>27.0</td>\n",
       "      <td>0.5</td>\n",
       "      <td>6.5</td>\n",
       "      <td>52676.0</td>\n",
       "      <td>NaN</td>\n",
       "      <td>252895</td>\n",
       "    </tr>\n",
       "  </tbody>\n",
       "</table>\n",
       "<p>1 rows × 28 columns</p>\n",
       "</div>"
      ],
      "text/plain": [
       "   index     ip  app  device  os  channel  is_attributed  hour  day  X1  \\\n",
       "0      0  79932    1       1  19      134              0    11    7   0   \n",
       "\n",
       "    ...    ip_tcount  ip_app_count  ip_app_os_count  ip_tchan_count  \\\n",
       "0   ...            4            10                3       39.799999   \n",
       "\n",
       "   ip_app_os_var  ip_app_channel_var_day  ip_app_channel_mean_hour  nextClick  \\\n",
       "0           27.0                     0.5                       6.5    52676.0   \n",
       "\n",
       "   nextClick_shift   newip  \n",
       "0              NaN  252895  \n",
       "\n",
       "[1 rows x 28 columns]"
      ]
     },
     "execution_count": 23,
     "metadata": {},
     "output_type": "execute_result"
    }
   ],
   "source": [
    "train_df.head(1)"
   ]
  },
  {
   "cell_type": "code",
   "execution_count": 25,
   "metadata": {},
   "outputs": [
    {
     "data": {
      "text/plain": [
       "29500000"
      ]
     },
     "execution_count": 25,
     "metadata": {},
     "output_type": "execute_result"
    }
   ],
   "source": [
    "len_train-val_size"
   ]
  },
  {
   "cell_type": "code",
   "execution_count": 40,
   "metadata": {},
   "outputs": [
    {
     "name": "stdout",
     "output_type": "stream",
     "text": [
      "train val size:  32000000\n",
      "test size :  20898422\n"
     ]
    }
   ],
   "source": [
    "test_df = train_df[len_train:]\n",
    "train_val_df = train_df[:len_train]\n",
    "\n",
    "print(\"train val size: \", len(train_val_df))\n",
    "print(\"test size : \", len(test_df))"
   ]
  },
  {
   "cell_type": "code",
   "execution_count": 43,
   "metadata": {},
   "outputs": [
    {
     "name": "stderr",
     "output_type": "stream",
     "text": [
      "/home/kai/anaconda3/lib/python3.6/site-packages/ipykernel_launcher.py:1: SettingWithCopyWarning: \n",
      "A value is trying to be set on a copy of a slice from a DataFrame.\n",
      "Try using .loc[row_indexer,col_indexer] = value instead\n",
      "\n",
      "See the caveats in the documentation: http://pandas.pydata.org/pandas-docs/stable/indexing.html#indexing-view-versus-copy\n",
      "  \"\"\"Entry point for launching an IPython kernel.\n"
     ]
    }
   ],
   "source": [
    "train_val_df['intrain'] = train_val_df['index'].apply(lambda x: True if x < 29500000 else False)"
   ]
  },
  {
   "cell_type": "code",
   "execution_count": 27,
   "metadata": {
    "collapsed": true
   },
   "outputs": [],
   "source": [
    "train_val_df['inval'] = train_val_df['index'].apply(lambda x: True if x >= 29500000 else False)"
   ]
  },
  {
   "cell_type": "code",
   "execution_count": 30,
   "metadata": {},
   "outputs": [
    {
     "data": {
      "text/html": [
       "<div>\n",
       "<style>\n",
       "    .dataframe thead tr:only-child th {\n",
       "        text-align: right;\n",
       "    }\n",
       "\n",
       "    .dataframe thead th {\n",
       "        text-align: left;\n",
       "    }\n",
       "\n",
       "    .dataframe tbody tr th {\n",
       "        vertical-align: top;\n",
       "    }\n",
       "</style>\n",
       "<table border=\"1\" class=\"dataframe\">\n",
       "  <thead>\n",
       "    <tr style=\"text-align: right;\">\n",
       "      <th></th>\n",
       "      <th>index</th>\n",
       "      <th>ip</th>\n",
       "      <th>app</th>\n",
       "      <th>device</th>\n",
       "      <th>os</th>\n",
       "      <th>channel</th>\n",
       "      <th>is_attributed</th>\n",
       "      <th>hour</th>\n",
       "      <th>day</th>\n",
       "      <th>X1</th>\n",
       "      <th>...</th>\n",
       "      <th>ip_app_os_count</th>\n",
       "      <th>ip_tchan_count</th>\n",
       "      <th>ip_app_os_var</th>\n",
       "      <th>ip_app_channel_var_day</th>\n",
       "      <th>ip_app_channel_mean_hour</th>\n",
       "      <th>nextClick</th>\n",
       "      <th>nextClick_shift</th>\n",
       "      <th>newip</th>\n",
       "      <th>intrain</th>\n",
       "      <th>inval</th>\n",
       "    </tr>\n",
       "  </thead>\n",
       "  <tbody>\n",
       "    <tr>\n",
       "      <th>29499998</th>\n",
       "      <td>29499998</td>\n",
       "      <td>106200</td>\n",
       "      <td>14</td>\n",
       "      <td>1</td>\n",
       "      <td>13</td>\n",
       "      <td>118</td>\n",
       "      <td>0</td>\n",
       "      <td>2</td>\n",
       "      <td>8</td>\n",
       "      <td>1114</td>\n",
       "      <td>...</td>\n",
       "      <td>105</td>\n",
       "      <td>0.631726</td>\n",
       "      <td>48.615017</td>\n",
       "      <td>0.0</td>\n",
       "      <td>2.0</td>\n",
       "      <td>5.400000e+01</td>\n",
       "      <td>1.120000e+02</td>\n",
       "      <td>304473</td>\n",
       "      <td>True</td>\n",
       "      <td>False</td>\n",
       "    </tr>\n",
       "    <tr>\n",
       "      <th>29499999</th>\n",
       "      <td>29499999</td>\n",
       "      <td>22433</td>\n",
       "      <td>3</td>\n",
       "      <td>1</td>\n",
       "      <td>30</td>\n",
       "      <td>130</td>\n",
       "      <td>0</td>\n",
       "      <td>2</td>\n",
       "      <td>8</td>\n",
       "      <td>2</td>\n",
       "      <td>...</td>\n",
       "      <td>1</td>\n",
       "      <td>0.500000</td>\n",
       "      <td>NaN</td>\n",
       "      <td>0.8</td>\n",
       "      <td>11.4</td>\n",
       "      <td>1.489892e+09</td>\n",
       "      <td>5.400000e+01</td>\n",
       "      <td>215503</td>\n",
       "      <td>True</td>\n",
       "      <td>False</td>\n",
       "    </tr>\n",
       "    <tr>\n",
       "      <th>29500000</th>\n",
       "      <td>29500000</td>\n",
       "      <td>92673</td>\n",
       "      <td>14</td>\n",
       "      <td>1</td>\n",
       "      <td>19</td>\n",
       "      <td>113</td>\n",
       "      <td>0</td>\n",
       "      <td>2</td>\n",
       "      <td>8</td>\n",
       "      <td>3048</td>\n",
       "      <td>...</td>\n",
       "      <td>179</td>\n",
       "      <td>0.000000</td>\n",
       "      <td>50.638126</td>\n",
       "      <td>0.0</td>\n",
       "      <td>2.0</td>\n",
       "      <td>7.000000e+00</td>\n",
       "      <td>1.489892e+09</td>\n",
       "      <td>73961</td>\n",
       "      <td>False</td>\n",
       "      <td>True</td>\n",
       "    </tr>\n",
       "    <tr>\n",
       "      <th>29500001</th>\n",
       "      <td>29500001</td>\n",
       "      <td>79098</td>\n",
       "      <td>93</td>\n",
       "      <td>1</td>\n",
       "      <td>19</td>\n",
       "      <td>371</td>\n",
       "      <td>0</td>\n",
       "      <td>2</td>\n",
       "      <td>8</td>\n",
       "      <td>42</td>\n",
       "      <td>...</td>\n",
       "      <td>1</td>\n",
       "      <td>0.800000</td>\n",
       "      <td>NaN</td>\n",
       "      <td>0.0</td>\n",
       "      <td>2.0</td>\n",
       "      <td>9.471400e+04</td>\n",
       "      <td>7.000000e+00</td>\n",
       "      <td>253453</td>\n",
       "      <td>False</td>\n",
       "      <td>True</td>\n",
       "    </tr>\n",
       "  </tbody>\n",
       "</table>\n",
       "<p>4 rows × 30 columns</p>\n",
       "</div>"
      ],
      "text/plain": [
       "             index      ip  app  device  os  channel  is_attributed  hour  \\\n",
       "29499998  29499998  106200   14       1  13      118              0     2   \n",
       "29499999  29499999   22433    3       1  30      130              0     2   \n",
       "29500000  29500000   92673   14       1  19      113              0     2   \n",
       "29500001  29500001   79098   93       1  19      371              0     2   \n",
       "\n",
       "          day    X1  ...    ip_app_os_count  ip_tchan_count  ip_app_os_var  \\\n",
       "29499998    8  1114  ...                105        0.631726      48.615017   \n",
       "29499999    8     2  ...                  1        0.500000            NaN   \n",
       "29500000    8  3048  ...                179        0.000000      50.638126   \n",
       "29500001    8    42  ...                  1        0.800000            NaN   \n",
       "\n",
       "          ip_app_channel_var_day  ip_app_channel_mean_hour     nextClick  \\\n",
       "29499998                     0.0                       2.0  5.400000e+01   \n",
       "29499999                     0.8                      11.4  1.489892e+09   \n",
       "29500000                     0.0                       2.0  7.000000e+00   \n",
       "29500001                     0.0                       2.0  9.471400e+04   \n",
       "\n",
       "          nextClick_shift   newip  intrain  inval  \n",
       "29499998     1.120000e+02  304473     True  False  \n",
       "29499999     5.400000e+01  215503     True  False  \n",
       "29500000     1.489892e+09   73961    False   True  \n",
       "29500001     7.000000e+00  253453    False   True  \n",
       "\n",
       "[4 rows x 30 columns]"
      ]
     },
     "execution_count": 30,
     "metadata": {},
     "output_type": "execute_result"
    }
   ],
   "source": [
    "train_val_df.iloc[29499998:29500002]"
   ]
  },
  {
   "cell_type": "code",
   "execution_count": 41,
   "metadata": {},
   "outputs": [],
   "source": [
    "ipintrain = train_val_df[['ip','intrain']].groupby('ip')['intrain'].sum().to_frame().reset_index() "
   ]
  },
  {
   "cell_type": "code",
   "execution_count": 44,
   "metadata": {
    "collapsed": true
   },
   "outputs": [],
   "source": [
    "ipinval = train_val_df[['ip','inval']].groupby('ip')['inval'].sum().to_frame().reset_index() "
   ]
  },
  {
   "cell_type": "code",
   "execution_count": 46,
   "metadata": {},
   "outputs": [],
   "source": [
    "temp = ipintrain.merge(ipinval, on='ip', how='outer')"
   ]
  },
  {
   "cell_type": "code",
   "execution_count": 47,
   "metadata": {},
   "outputs": [
    {
     "data": {
      "text/plain": [
       "(126273, 3)"
      ]
     },
     "execution_count": 47,
     "metadata": {},
     "output_type": "execute_result"
    }
   ],
   "source": [
    "temp.shape"
   ]
  },
  {
   "cell_type": "code",
   "execution_count": 55,
   "metadata": {},
   "outputs": [],
   "source": [
    "ipinboth = set(temp[(temp['intrain'] !=0) & (temp['inval'] !=0)]['ip'].values)"
   ]
  },
  {
   "cell_type": "code",
   "execution_count": 56,
   "metadata": {},
   "outputs": [
    {
     "data": {
      "text/plain": [
       "46945"
      ]
     },
     "execution_count": 56,
     "metadata": {},
     "output_type": "execute_result"
    }
   ],
   "source": [
    "len(ipinboth)"
   ]
  },
  {
   "cell_type": "code",
   "execution_count": 58,
   "metadata": {},
   "outputs": [
    {
     "name": "stderr",
     "output_type": "stream",
     "text": [
      "/home/kai/anaconda3/lib/python3.6/site-packages/ipykernel_launcher.py:1: SettingWithCopyWarning: \n",
      "A value is trying to be set on a copy of a slice from a DataFrame.\n",
      "Try using .loc[row_indexer,col_indexer] = value instead\n",
      "\n",
      "See the caveats in the documentation: http://pandas.pydata.org/pandas-docs/stable/indexing.html#indexing-view-versus-copy\n",
      "  \"\"\"Entry point for launching an IPython kernel.\n"
     ]
    }
   ],
   "source": [
    "train_val_df['ipinboth'] = train_val_df['ip'].apply(lambda x: True if x in ipinboth else False)"
   ]
  },
  {
   "cell_type": "code",
   "execution_count": 65,
   "metadata": {},
   "outputs": [
    {
     "data": {
      "text/plain": [
       "0.91452943750000004"
      ]
     },
     "execution_count": 65,
     "metadata": {},
     "output_type": "execute_result"
    }
   ],
   "source": [
    "np.sum(train_val_df['ipinboth']==True)/len(train_val_df)"
   ]
  },
  {
   "cell_type": "code",
   "execution_count": 66,
   "metadata": {
    "collapsed": true
   },
   "outputs": [],
   "source": [
    "final_train_val_df = train_val_df[train_val_df['ipinboth']==True]"
   ]
  },
  {
   "cell_type": "code",
   "execution_count": 67,
   "metadata": {},
   "outputs": [
    {
     "data": {
      "text/plain": [
       "29264942"
      ]
     },
     "execution_count": 67,
     "metadata": {},
     "output_type": "execute_result"
    }
   ],
   "source": [
    "len(final_train_val_df)"
   ]
  },
  {
   "cell_type": "code",
   "execution_count": 68,
   "metadata": {
    "collapsed": true
   },
   "outputs": [],
   "source": [
    "train_df_ori = train_df"
   ]
  },
  {
   "cell_type": "code",
   "execution_count": 69,
   "metadata": {
    "collapsed": true
   },
   "outputs": [],
   "source": [
    "train_df = final_train_val_df"
   ]
  },
  {
   "cell_type": "code",
   "execution_count": 70,
   "metadata": {},
   "outputs": [
    {
     "name": "stdout",
     "output_type": "stream",
     "text": [
      "vars and data type: \n",
      "<class 'pandas.core.frame.DataFrame'>\n",
      "Int64Index: 29264942 entries, 0 to 31999999\n",
      "Data columns (total 31 columns):\n",
      "index                       int64\n",
      "ip                          uint32\n",
      "app                         uint16\n",
      "device                      uint16\n",
      "os                          uint16\n",
      "channel                     uint16\n",
      "is_attributed               uint8\n",
      "hour                        uint8\n",
      "day                         uint8\n",
      "X1                          uint32\n",
      "X7                          uint32\n",
      "X0                          uint8\n",
      "X2                          uint8\n",
      "X3                          uint8\n",
      "X4                          uint8\n",
      "X5                          uint16\n",
      "X6                          uint32\n",
      "X8                          uint32\n",
      "ip_tcount                   uint32\n",
      "ip_app_count                uint32\n",
      "ip_app_os_count             uint16\n",
      "ip_tchan_count              float32\n",
      "ip_app_os_var               float32\n",
      "ip_app_channel_var_day      float32\n",
      "ip_app_channel_mean_hour    float32\n",
      "nextClick                   float32\n",
      "nextClick_shift             float32\n",
      "newip                       int64\n",
      "intrain                     bool\n",
      "inval                       bool\n",
      "ipinboth                    bool\n",
      "dtypes: bool(3), float32(6), int64(2), uint16(6), uint32(7), uint8(7)\n",
      "memory usage: 2.7 GB\n"
     ]
    },
    {
     "name": "stderr",
     "output_type": "stream",
     "text": [
      "/home/kai/anaconda3/lib/python3.6/site-packages/ipykernel_launcher.py:3: SettingWithCopyWarning: \n",
      "A value is trying to be set on a copy of a slice from a DataFrame.\n",
      "Try using .loc[row_indexer,col_indexer] = value instead\n",
      "\n",
      "See the caveats in the documentation: http://pandas.pydata.org/pandas-docs/stable/indexing.html#indexing-view-versus-copy\n",
      "  This is separate from the ipykernel package so we can avoid doing imports until\n"
     ]
    },
    {
     "name": "stdout",
     "output_type": "stream",
     "text": [
      "predictors ['nextClick', 'nextClick_shift', 'newip', 'app', 'device', 'os', 'channel', 'hour', 'day', 'ip_tcount', 'ip_tchan_count', 'ip_app_count', 'ip_app_os_count', 'ip_app_os_var', 'ip_app_channel_var_day', 'ip_app_channel_mean_hour', 'X0', 'X1', 'X2', 'X3', 'X4', 'X5', 'X6', 'X7', 'X8']\n"
     ]
    },
    {
     "name": "stderr",
     "output_type": "stream",
     "text": [
      "/home/kai/anaconda3/lib/python3.6/site-packages/ipykernel_launcher.py:4: SettingWithCopyWarning: \n",
      "A value is trying to be set on a copy of a slice from a DataFrame.\n",
      "Try using .loc[row_indexer,col_indexer] = value instead\n",
      "\n",
      "See the caveats in the documentation: http://pandas.pydata.org/pandas-docs/stable/indexing.html#indexing-view-versus-copy\n",
      "  after removing the cwd from sys.path.\n",
      "/home/kai/anaconda3/lib/python3.6/site-packages/ipykernel_launcher.py:5: SettingWithCopyWarning: \n",
      "A value is trying to be set on a copy of a slice from a DataFrame.\n",
      "Try using .loc[row_indexer,col_indexer] = value instead\n",
      "\n",
      "See the caveats in the documentation: http://pandas.pydata.org/pandas-docs/stable/indexing.html#indexing-view-versus-copy\n",
      "  \"\"\"\n"
     ]
    }
   ],
   "source": [
    "print(\"vars and data type: \")\n",
    "train_df.info()\n",
    "train_df['ip_tcount'] = train_df['ip_tcount'].astype('uint16')\n",
    "train_df['ip_app_count'] = train_df['ip_app_count'].astype('uint16')\n",
    "train_df['ip_app_os_count'] = train_df['ip_app_os_count'].astype('uint16')\n",
    "\n",
    "target = 'is_attributed'\n",
    "predictors.extend(['newip','app','device','os', 'channel', 'hour', 'day',\n",
    "              'ip_tcount', 'ip_tchan_count', 'ip_app_count',\n",
    "              'ip_app_os_count', 'ip_app_os_var',\n",
    "              'ip_app_channel_var_day','ip_app_channel_mean_hour',\n",
    "              'X0', 'X1', 'X2', 'X3', 'X4', 'X5', 'X6', 'X7', 'X8'])\n",
    "categorical = ['newip','app', 'device', 'os', 'channel', 'hour', 'day']\n",
    "print('predictors',predictors)"
   ]
  },
  {
   "cell_type": "code",
   "execution_count": 22,
   "metadata": {},
   "outputs": [
    {
     "data": {
      "text/plain": [
       "2500000"
      ]
     },
     "execution_count": 22,
     "metadata": {},
     "output_type": "execute_result"
    }
   ],
   "source": [
    "val_size"
   ]
  },
  {
   "cell_type": "code",
   "execution_count": 24,
   "metadata": {},
   "outputs": [
    {
     "data": {
      "text/plain": [
       "(52898422, 28)"
      ]
     },
     "execution_count": 24,
     "metadata": {},
     "output_type": "execute_result"
    }
   ],
   "source": [
    "train_df.shape"
   ]
  },
  {
   "cell_type": "code",
   "execution_count": 71,
   "metadata": {},
   "outputs": [
    {
     "data": {
      "text/plain": [
       "-2500000"
      ]
     },
     "execution_count": 71,
     "metadata": {},
     "output_type": "execute_result"
    }
   ],
   "source": [
    "-val_size"
   ]
  },
  {
   "cell_type": "code",
   "execution_count": 72,
   "metadata": {
    "collapsed": true
   },
   "outputs": [],
   "source": [
    "val_df = train_df[-val_size:]"
   ]
  },
  {
   "cell_type": "code",
   "execution_count": 73,
   "metadata": {},
   "outputs": [
    {
     "data": {
      "text/plain": [
       "2500000"
      ]
     },
     "execution_count": 73,
     "metadata": {},
     "output_type": "execute_result"
    }
   ],
   "source": [
    "len(val_df)"
   ]
  },
  {
   "cell_type": "code",
   "execution_count": 74,
   "metadata": {
    "collapsed": true
   },
   "outputs": [],
   "source": [
    "train_df = train_df[:(len_train-val_size)]"
   ]
  },
  {
   "cell_type": "code",
   "execution_count": 76,
   "metadata": {},
   "outputs": [
    {
     "data": {
      "text/plain": [
       "29264942"
      ]
     },
     "execution_count": 76,
     "metadata": {},
     "output_type": "execute_result"
    }
   ],
   "source": [
    "len(train_df)"
   ]
  },
  {
   "cell_type": "markdown",
   "metadata": {},
   "source": [
    "test_df = train_df[len_train:]\n",
    "val_df = train_df[(len_train-val_size):len_train]\n",
    "train_df = train_df[:(len_train-val_size)]\n",
    "\n",
    "print(\"train size: \", len(train_df))\n",
    "print(\"valid size: \", len(val_df))\n",
    "print(\"test size : \", len(test_df))"
   ]
  },
  {
   "cell_type": "markdown",
   "metadata": {},
   "source": [
    "test_df.to_pickle('test.pkl.gz')\n",
    "del test_df\n",
    "gc.collect()"
   ]
  },
  {
   "cell_type": "code",
   "execution_count": null,
   "metadata": {
    "collapsed": true
   },
   "outputs": [],
   "source": [
    "1"
   ]
  },
  {
   "cell_type": "code",
   "execution_count": 94,
   "metadata": {},
   "outputs": [
    {
     "name": "stdout",
     "output_type": "stream",
     "text": [
      "Training...\n"
     ]
    }
   ],
   "source": [
    "print(\"Training...\")\n",
    "start_time = time.time()\n",
    "\n",
    "objective='binary' \n",
    "metrics='auc'\n",
    "early_stopping_rounds=30 \n",
    "verbose_eval=True \n",
    "num_boost_round=1000 #########################################\n",
    "categorical_features=categorical\n",
    "lgb_params = {\n",
    "    'boosting_type': 'gbdt',\n",
    "    'objective': objective,\n",
    "    'metric':metrics,\n",
    "    'learning_rate': 0.10,\n",
    "    #'is_unbalance': 'true', # replaced with scale_pos_weight argument\n",
    "    'num_leaves': 7,  # 2^max_depth - 1\n",
    "    'max_depth': 3,  # -1 means no limit\n",
    "    'min_child_samples': 100,  # Minimum number of data need in a child(min_data_in_leaf)\n",
    "    'max_bin': 100,  # Number of bucketed bin for feature values\n",
    "    'subsample': 0.7,  # Subsample ratio of the training instance.\n",
    "    'subsample_freq': 1,  # frequence of subsample, <=0 means no enable\n",
    "    'colsample_bytree': 0.9,  # Subsample ratio of columns when constructing each tree.\n",
    "    'min_child_weight': 0,  # Minimum sum of instance weight(hessian) needed in a child(leaf)\n",
    "    'scale_pos_weight':200, # because training data is extremely unbalanced \n",
    "    'subsample_for_bin': 200000,  # Number of samples for constructing bin\n",
    "    'min_split_gain': 0,  # lambda_l1, lambda_l2 and min_gain_to_split to regularization\n",
    "    'reg_alpha': 0,  # L1 regularization term on weights\n",
    "    'reg_lambda': 0,  # L2 regularization term on weights\n",
    "    'nthread': cores,\n",
    "    'verbose': 0\n",
    "}\n"
   ]
  },
  {
   "cell_type": "code",
   "execution_count": 81,
   "metadata": {},
   "outputs": [
    {
     "name": "stdout",
     "output_type": "stream",
     "text": [
      "preparing validation datasets\n",
      "   nextClick  nextClick_shift   newip  app  device  os  channel  hour  day  \\\n",
      "0    52676.0              NaN  252895    1       1  19      134    11    7   \n",
      "\n",
      "   ip_tcount ...  ip_app_channel_mean_hour  X0  X1  X2  X3  X4  X5  X6  X7  X8  \n",
      "0          4 ...                       6.5  66   0  10  26   4   3  30   0  18  \n",
      "\n",
      "[1 rows x 25 columns]\n",
      "0    0\n",
      "Name: is_attributed, dtype: uint8\n",
      "          nextClick  nextClick_shift   newip  app  device  os  channel  hour  \\\n",
      "29488240     1818.0             50.0  387680    6       1  13      459     2   \n",
      "\n",
      "          day  ip_tcount ...  ip_app_channel_mean_hour   X0   X1  X2  X3  X4  \\\n",
      "29488240    8        212 ...                 11.294118  112  470   3  52  20   \n",
      "\n",
      "          X5  X6    X7  X8  \n",
      "29488240  10   6  2281  36  \n",
      "\n",
      "[1 rows x 25 columns]\n",
      "29488240    0\n",
      "Name: is_attributed, dtype: uint8\n",
      "{'boosting_type': 'gbdt', 'objective': 'binary', 'metric': 'auc', 'learning_rate': 0.1, 'num_leaves': 7, 'max_depth': 3, 'min_child_samples': 100, 'max_bin': 100, 'subsample': 0.7, 'subsample_freq': 1, 'colsample_bytree': 0.9, 'min_child_weight': 0, 'scale_pos_weight': 200, 'subsample_for_bin': 200000, 'min_split_gain': 0, 'reg_alpha': 0, 'reg_lambda': 0, 'nthread': 4, 'verbose': 0, 'categorical_column': [2, 3, 4, 5, 6, 7, 8]}\n"
     ]
    },
    {
     "name": "stderr",
     "output_type": "stream",
     "text": [
      "/home/kai/anaconda3/lib/python3.6/site-packages/lightgbm/basic.py:1027: UserWarning: Using categorical_feature in Dataset.\n",
      "  warnings.warn('Using categorical_feature in Dataset.')\n",
      "/home/kai/anaconda3/lib/python3.6/site-packages/lightgbm/basic.py:668: UserWarning: categorical_feature in param dict is overrided.\n",
      "  warnings.warn('categorical_feature in param dict is overrided.')\n"
     ]
    },
    {
     "name": "stdout",
     "output_type": "stream",
     "text": [
      "Training until validation scores don't improve for 30 rounds.\n",
      "[10]\tvalid's auc: 0.964757\n",
      "[20]\tvalid's auc: 0.968285\n",
      "[30]\tvalid's auc: 0.974685\n",
      "[40]\tvalid's auc: 0.978088\n",
      "[50]\tvalid's auc: 0.980187\n",
      "[60]\tvalid's auc: 0.981944\n",
      "[70]\tvalid's auc: 0.982859\n",
      "[80]\tvalid's auc: 0.983977\n",
      "[90]\tvalid's auc: 0.984646\n",
      "[100]\tvalid's auc: 0.985099\n",
      "[110]\tvalid's auc: 0.985507\n",
      "[120]\tvalid's auc: 0.986012\n",
      "[130]\tvalid's auc: 0.986301\n",
      "[140]\tvalid's auc: 0.986581\n",
      "[150]\tvalid's auc: 0.987032\n",
      "[160]\tvalid's auc: 0.987377\n",
      "[170]\tvalid's auc: 0.98758\n",
      "[180]\tvalid's auc: 0.987753\n",
      "[190]\tvalid's auc: 0.987954\n",
      "[200]\tvalid's auc: 0.98817\n",
      "[210]\tvalid's auc: 0.988315\n",
      "[220]\tvalid's auc: 0.988459\n",
      "[230]\tvalid's auc: 0.988633\n",
      "[240]\tvalid's auc: 0.988796\n",
      "[250]\tvalid's auc: 0.988901\n",
      "[260]\tvalid's auc: 0.989004\n",
      "[270]\tvalid's auc: 0.989085\n",
      "[280]\tvalid's auc: 0.989159\n",
      "[290]\tvalid's auc: 0.989318\n",
      "[300]\tvalid's auc: 0.989427\n",
      "[310]\tvalid's auc: 0.989544\n",
      "[320]\tvalid's auc: 0.989624\n",
      "[330]\tvalid's auc: 0.989696\n",
      "[340]\tvalid's auc: 0.989745\n",
      "[350]\tvalid's auc: 0.989784\n",
      "[360]\tvalid's auc: 0.989877\n",
      "[370]\tvalid's auc: 0.989945\n",
      "[380]\tvalid's auc: 0.990006\n",
      "[390]\tvalid's auc: 0.990052\n",
      "[400]\tvalid's auc: 0.990104\n",
      "[410]\tvalid's auc: 0.990154\n",
      "[420]\tvalid's auc: 0.990162\n",
      "[430]\tvalid's auc: 0.990199\n",
      "[440]\tvalid's auc: 0.990264\n",
      "[450]\tvalid's auc: 0.990289\n",
      "[460]\tvalid's auc: 0.990324\n",
      "[470]\tvalid's auc: 0.990372\n",
      "[480]\tvalid's auc: 0.99044\n",
      "[490]\tvalid's auc: 0.990468\n",
      "[500]\tvalid's auc: 0.99056\n",
      "[510]\tvalid's auc: 0.990618\n",
      "[520]\tvalid's auc: 0.990666\n",
      "[530]\tvalid's auc: 0.990716\n",
      "[540]\tvalid's auc: 0.990735\n",
      "[550]\tvalid's auc: 0.990771\n",
      "[560]\tvalid's auc: 0.9908\n",
      "[570]\tvalid's auc: 0.990827\n",
      "[580]\tvalid's auc: 0.990861\n",
      "[590]\tvalid's auc: 0.990884\n",
      "[600]\tvalid's auc: 0.990908\n",
      "[610]\tvalid's auc: 0.990944\n",
      "[620]\tvalid's auc: 0.990958\n",
      "[630]\tvalid's auc: 0.990979\n",
      "[640]\tvalid's auc: 0.991027\n",
      "[650]\tvalid's auc: 0.99105\n",
      "[660]\tvalid's auc: 0.991081\n",
      "[670]\tvalid's auc: 0.991102\n",
      "[680]\tvalid's auc: 0.991139\n",
      "[690]\tvalid's auc: 0.991176\n",
      "[700]\tvalid's auc: 0.991222\n",
      "[710]\tvalid's auc: 0.991227\n",
      "[720]\tvalid's auc: 0.991258\n",
      "[730]\tvalid's auc: 0.99129\n",
      "[740]\tvalid's auc: 0.991331\n",
      "[750]\tvalid's auc: 0.991365\n",
      "[760]\tvalid's auc: 0.991399\n",
      "[770]\tvalid's auc: 0.991429\n",
      "[780]\tvalid's auc: 0.991457\n",
      "[790]\tvalid's auc: 0.991478\n",
      "[800]\tvalid's auc: 0.991496\n",
      "[810]\tvalid's auc: 0.991534\n",
      "[820]\tvalid's auc: 0.991548\n",
      "[830]\tvalid's auc: 0.991571\n",
      "[840]\tvalid's auc: 0.991598\n",
      "[850]\tvalid's auc: 0.991634\n",
      "[860]\tvalid's auc: 0.991672\n",
      "[870]\tvalid's auc: 0.991681\n",
      "[880]\tvalid's auc: 0.991696\n",
      "[890]\tvalid's auc: 0.991712\n",
      "[900]\tvalid's auc: 0.991742\n",
      "[910]\tvalid's auc: 0.991763\n",
      "[920]\tvalid's auc: 0.991781\n",
      "[930]\tvalid's auc: 0.991807\n",
      "[940]\tvalid's auc: 0.99184\n",
      "[950]\tvalid's auc: 0.991859\n",
      "[960]\tvalid's auc: 0.991875\n",
      "[970]\tvalid's auc: 0.991891\n",
      "[980]\tvalid's auc: 0.991912\n",
      "[990]\tvalid's auc: 0.991929\n",
      "[1000]\tvalid's auc: 0.991948\n",
      "Did not meet early stopping. Best iteration is:\n",
      "[1000]\tvalid's auc: 0.991948\n",
      "\n",
      "Model Report\n",
      "bst.best_iteration:  1000\n",
      "auc: 0.991948435503\n",
      "[1400.0805416107178]: model training time\n"
     ]
    }
   ],
   "source": [
    "############################## with newip ##############################\n",
    "print(\"preparing validation datasets\")\n",
    "xgtrain = lgb.Dataset(train_df[predictors].values, label=train_df[target].values,\n",
    "                      feature_name=predictors,\n",
    "                      categorical_feature=categorical\n",
    "                      )\n",
    "                      \n",
    "print( train_df[predictors].head(1) )\n",
    "print( train_df[target].head(1) )\n",
    "print( val_df[predictors].head(1) )\n",
    "print( val_df[target].head(1) )\n",
    "\n",
    "#del train_df #################\n",
    "if WHERE != 'kaggle':\n",
    "    xgtrain.save_binary('xgtrain.bin')\n",
    "    del xgtrain\n",
    "xgvalid = lgb.Dataset(val_df[predictors].values, label=val_df[target].values,\n",
    "                      feature_name=predictors,\n",
    "                      categorical_feature=categorical\n",
    "                      )\n",
    "#del val_df\n",
    "gc.collect()\n",
    "\n",
    "evals_results = {}\n",
    "\n",
    "if WHERE != 'kaggle':\n",
    "    xgtrain = lgb.Dataset('xgtrain.bin',\n",
    "                          feature_name=predictors,\n",
    "                          categorical_feature=categorical\n",
    "                          )\n",
    "                      \n",
    "print( lgb_params )\n",
    "bst = lgb.train(lgb_params, \n",
    "                 xgtrain, \n",
    "                 valid_sets=[xgvalid], \n",
    "                 valid_names=['valid'], \n",
    "                 evals_result=evals_results, \n",
    "                 num_boost_round=num_boost_round,\n",
    "                 early_stopping_rounds=early_stopping_rounds,\n",
    "                 verbose_eval=10, \n",
    "                 feval=None)\n",
    "\n",
    "print(\"\\nModel Report\")\n",
    "print(\"bst.best_iteration: \", bst.best_iteration)\n",
    "print(metrics+\":\", evals_results['valid'][metrics][bst.best_iteration-1])\n",
    "\n",
    "\n",
    "print('[{}]: model training time'.format(time.time() - start_time))"
   ]
  },
  {
   "cell_type": "code",
   "execution_count": null,
   "metadata": {
    "collapsed": true
   },
   "outputs": [],
   "source": [
    "bst."
   ]
  },
  {
   "cell_type": "code",
   "execution_count": 82,
   "metadata": {},
   "outputs": [
    {
     "name": "stdout",
     "output_type": "stream",
     "text": [
      "Plot feature importances\n"
     ]
    },
    {
     "data": {
      "image/png": "[encoded data removed]",
      "text/plain": [
       "<matplotlib.figure.Figure at 0x7fbe0bb14240>"
      ]
     },
     "metadata": {},
     "output_type": "display_data"
    },
    {
     "data": {
      "image/png": "[encoded data removed]",
      "text/plain": [
       "<matplotlib.figure.Figure at 0x7fbe0ba1c0f0>"
      ]
     },
     "metadata": {},
     "output_type": "display_data"
    }
   ],
   "source": [
    "############################## with newip ##############################\n",
    "if WHERE!='gcloud':\n",
    "    print('Plot feature importances')\n",
    "    lgb.plot_importance(bst, max_num_features=100, title='Feature importance (split(default))')\n",
    "    lgb.plot_importance(bst, max_num_features=100, title='Feature importance (gain)', importance_type='gain')\n",
    "    plt.show()"
   ]
  },
  {
   "cell_type": "code",
   "execution_count": 90,
   "metadata": {},
   "outputs": [
    {
     "name": "stdout",
     "output_type": "stream",
     "text": [
      "['nextClick', 'nextClick_shift', 'app', 'device', 'os', 'channel', 'hour', 'day', 'ip_tcount', 'ip_tchan_count', 'ip_app_count', 'ip_app_os_count', 'ip_app_os_var', 'ip_app_channel_var_day', 'ip_app_channel_mean_hour', 'X0', 'X1', 'X2', 'X3', 'X4', 'X5', 'X6', 'X7', 'X8']\n",
      "['app', 'device', 'os', 'channel', 'hour', 'day']\n",
      "preparing validation datasets\n",
      "   nextClick  nextClick_shift  app  device  os  channel  hour  day  ip_tcount  \\\n",
      "0    52676.0              NaN    1       1  19      134    11    7          4   \n",
      "\n",
      "   ip_tchan_count ...  ip_app_channel_mean_hour  X0  X1  X2  X3  X4  X5  X6  \\\n",
      "0       39.799999 ...                       6.5  66   0  10  26   4   3  30   \n",
      "\n",
      "   X7  X8  \n",
      "0   0  18  \n",
      "\n",
      "[1 rows x 24 columns]\n",
      "0    0\n",
      "Name: is_attributed, dtype: uint8\n",
      "          nextClick  nextClick_shift  app  device  os  channel  hour  day  \\\n",
      "29488240     1818.0             50.0    6       1  13      459     2    8   \n",
      "\n",
      "          ip_tcount  ip_tchan_count ...  ip_app_channel_mean_hour   X0   X1  \\\n",
      "29488240        212        0.619048 ...                 11.294118  112  470   \n",
      "\n",
      "          X2  X3  X4  X5  X6    X7  X8  \n",
      "29488240   3  52  20  10   6  2281  36  \n",
      "\n",
      "[1 rows x 24 columns]\n",
      "29488240    0\n",
      "Name: is_attributed, dtype: uint8\n",
      "{'boosting_type': 'gbdt', 'objective': 'binary', 'metric': 'auc', 'learning_rate': 0.1, 'num_leaves': 7, 'max_depth': 3, 'min_child_samples': 100, 'max_bin': 100, 'subsample': 0.7, 'subsample_freq': 1, 'colsample_bytree': 0.9, 'min_child_weight': 0, 'scale_pos_weight': 200, 'subsample_for_bin': 200000, 'min_split_gain': 0, 'reg_alpha': 0, 'reg_lambda': 0, 'nthread': 4, 'verbose': 0, 'categorical_column': [2, 3, 4, 5, 6, 7]}\n"
     ]
    },
    {
     "name": "stderr",
     "output_type": "stream",
     "text": [
      "/home/kai/anaconda3/lib/python3.6/site-packages/lightgbm/basic.py:1027: UserWarning: Using categorical_feature in Dataset.\n",
      "  warnings.warn('Using categorical_feature in Dataset.')\n",
      "/home/kai/anaconda3/lib/python3.6/site-packages/lightgbm/basic.py:668: UserWarning: categorical_feature in param dict is overrided.\n",
      "  warnings.warn('categorical_feature in param dict is overrided.')\n"
     ]
    },
    {
     "name": "stdout",
     "output_type": "stream",
     "text": [
      "Training until validation scores don't improve for 30 rounds.\n",
      "[10]\tvalid's auc: 0.966188\n",
      "[20]\tvalid's auc: 0.970417\n",
      "[30]\tvalid's auc: 0.973587\n",
      "[40]\tvalid's auc: 0.975788\n",
      "[50]\tvalid's auc: 0.977233\n",
      "[60]\tvalid's auc: 0.97797\n",
      "[70]\tvalid's auc: 0.978601\n",
      "[80]\tvalid's auc: 0.979106\n",
      "[90]\tvalid's auc: 0.979546\n",
      "[100]\tvalid's auc: 0.979979\n",
      "[110]\tvalid's auc: 0.980334\n",
      "[120]\tvalid's auc: 0.980645\n",
      "[130]\tvalid's auc: 0.980885\n",
      "[140]\tvalid's auc: 0.981041\n",
      "[150]\tvalid's auc: 0.981275\n",
      "[160]\tvalid's auc: 0.981439\n",
      "[170]\tvalid's auc: 0.981645\n",
      "[180]\tvalid's auc: 0.981792\n",
      "[190]\tvalid's auc: 0.981915\n",
      "[200]\tvalid's auc: 0.981979\n",
      "[210]\tvalid's auc: 0.982097\n",
      "[220]\tvalid's auc: 0.982162\n",
      "[230]\tvalid's auc: 0.982249\n",
      "[240]\tvalid's auc: 0.982381\n",
      "[250]\tvalid's auc: 0.982489\n",
      "[260]\tvalid's auc: 0.982616\n",
      "[270]\tvalid's auc: 0.982713\n",
      "[280]\tvalid's auc: 0.982784\n",
      "[290]\tvalid's auc: 0.982872\n",
      "[300]\tvalid's auc: 0.982965\n",
      "[310]\tvalid's auc: 0.98303\n",
      "[320]\tvalid's auc: 0.983099\n",
      "[330]\tvalid's auc: 0.983145\n",
      "[340]\tvalid's auc: 0.983248\n",
      "[350]\tvalid's auc: 0.983318\n",
      "[360]\tvalid's auc: 0.98339\n",
      "[370]\tvalid's auc: 0.983467\n",
      "[380]\tvalid's auc: 0.983493\n",
      "[390]\tvalid's auc: 0.983583\n",
      "[400]\tvalid's auc: 0.983602\n",
      "[410]\tvalid's auc: 0.983634\n",
      "[420]\tvalid's auc: 0.983687\n",
      "[430]\tvalid's auc: 0.983752\n",
      "[440]\tvalid's auc: 0.983828\n",
      "[450]\tvalid's auc: 0.983899\n",
      "[460]\tvalid's auc: 0.983958\n",
      "[470]\tvalid's auc: 0.983969\n",
      "[480]\tvalid's auc: 0.984058\n",
      "[490]\tvalid's auc: 0.984115\n",
      "[500]\tvalid's auc: 0.984178\n",
      "[510]\tvalid's auc: 0.984213\n",
      "[520]\tvalid's auc: 0.984242\n",
      "[530]\tvalid's auc: 0.98431\n",
      "[540]\tvalid's auc: 0.984381\n",
      "[550]\tvalid's auc: 0.984444\n",
      "[560]\tvalid's auc: 0.984478\n",
      "[570]\tvalid's auc: 0.984519\n",
      "[580]\tvalid's auc: 0.984583\n",
      "[590]\tvalid's auc: 0.984604\n",
      "[600]\tvalid's auc: 0.984631\n",
      "[610]\tvalid's auc: 0.984682\n",
      "[620]\tvalid's auc: 0.984702\n",
      "[630]\tvalid's auc: 0.984754\n",
      "[640]\tvalid's auc: 0.984817\n",
      "[650]\tvalid's auc: 0.984861\n",
      "[660]\tvalid's auc: 0.984908\n",
      "[670]\tvalid's auc: 0.984962\n",
      "[680]\tvalid's auc: 0.985009\n",
      "[690]\tvalid's auc: 0.985042\n",
      "[700]\tvalid's auc: 0.985092\n"
     ]
    },
    {
     "ename": "KeyboardInterrupt",
     "evalue": "",
     "output_type": "error",
     "traceback": [
      "\u001b[0;31m---------------------------------------------------------------------------\u001b[0m",
      "\u001b[0;31mKeyboardInterrupt\u001b[0m                         Traceback (most recent call last)",
      "\u001b[0;32m<ipython-input-90-5fdd019f5bdc>\u001b[0m in \u001b[0;36m<module>\u001b[0;34m()\u001b[0m\n\u001b[1;32m     46\u001b[0m                  \u001b[0mearly_stopping_rounds\u001b[0m\u001b[0;34m=\u001b[0m\u001b[0mearly_stopping_rounds\u001b[0m\u001b[0;34m,\u001b[0m\u001b[0;34m\u001b[0m\u001b[0m\n\u001b[1;32m     47\u001b[0m                  \u001b[0mverbose_eval\u001b[0m\u001b[0;34m=\u001b[0m\u001b[0;36m10\u001b[0m\u001b[0;34m,\u001b[0m\u001b[0;34m\u001b[0m\u001b[0m\n\u001b[0;32m---> 48\u001b[0;31m                  feval=None)\n\u001b[0m\u001b[1;32m     49\u001b[0m \u001b[0;34m\u001b[0m\u001b[0m\n\u001b[1;32m     50\u001b[0m \u001b[0mprint\u001b[0m\u001b[0;34m(\u001b[0m\u001b[0;34m\"\\nModel Report\"\u001b[0m\u001b[0;34m)\u001b[0m\u001b[0;34m\u001b[0m\u001b[0m\n",
      "\u001b[0;32m~/anaconda3/lib/python3.6/site-packages/lightgbm/engine.py\u001b[0m in \u001b[0;36mtrain\u001b[0;34m(params, train_set, num_boost_round, valid_sets, valid_names, fobj, feval, init_model, feature_name, categorical_feature, early_stopping_rounds, evals_result, verbose_eval, learning_rates, keep_training_booster, callbacks)\u001b[0m\n\u001b[1;32m    199\u001b[0m                                     evaluation_result_list=None))\n\u001b[1;32m    200\u001b[0m \u001b[0;34m\u001b[0m\u001b[0m\n\u001b[0;32m--> 201\u001b[0;31m         \u001b[0mbooster\u001b[0m\u001b[0;34m.\u001b[0m\u001b[0mupdate\u001b[0m\u001b[0;34m(\u001b[0m\u001b[0mfobj\u001b[0m\u001b[0;34m=\u001b[0m\u001b[0mfobj\u001b[0m\u001b[0;34m)\u001b[0m\u001b[0;34m\u001b[0m\u001b[0m\n\u001b[0m\u001b[1;32m    202\u001b[0m \u001b[0;34m\u001b[0m\u001b[0m\n\u001b[1;32m    203\u001b[0m         \u001b[0mevaluation_result_list\u001b[0m \u001b[0;34m=\u001b[0m \u001b[0;34m[\u001b[0m\u001b[0;34m]\u001b[0m\u001b[0;34m\u001b[0m\u001b[0m\n",
      "\u001b[0;32m~/anaconda3/lib/python3.6/site-packages/lightgbm/basic.py\u001b[0m in \u001b[0;36mupdate\u001b[0;34m(self, train_set, fobj)\u001b[0m\n\u001b[1;32m   1508\u001b[0m             _safe_call(_LIB.LGBM_BoosterUpdateOneIter(\n\u001b[1;32m   1509\u001b[0m                 \u001b[0mself\u001b[0m\u001b[0;34m.\u001b[0m\u001b[0mhandle\u001b[0m\u001b[0;34m,\u001b[0m\u001b[0;34m\u001b[0m\u001b[0m\n\u001b[0;32m-> 1510\u001b[0;31m                 ctypes.byref(is_finished)))\n\u001b[0m\u001b[1;32m   1511\u001b[0m             \u001b[0mself\u001b[0m\u001b[0;34m.\u001b[0m\u001b[0m__is_predicted_cur_iter\u001b[0m \u001b[0;34m=\u001b[0m \u001b[0;34m[\u001b[0m\u001b[0;32mFalse\u001b[0m \u001b[0;32mfor\u001b[0m \u001b[0m_\u001b[0m \u001b[0;32min\u001b[0m \u001b[0mrange_\u001b[0m\u001b[0;34m(\u001b[0m\u001b[0mself\u001b[0m\u001b[0;34m.\u001b[0m\u001b[0m__num_dataset\u001b[0m\u001b[0;34m)\u001b[0m\u001b[0;34m]\u001b[0m\u001b[0;34m\u001b[0m\u001b[0m\n\u001b[1;32m   1512\u001b[0m             \u001b[0;32mreturn\u001b[0m \u001b[0mis_finished\u001b[0m\u001b[0;34m.\u001b[0m\u001b[0mvalue\u001b[0m \u001b[0;34m==\u001b[0m \u001b[0;36m1\u001b[0m\u001b[0;34m\u001b[0m\u001b[0m\n",
      "\u001b[0;31mKeyboardInterrupt\u001b[0m: "
     ]
    }
   ],
   "source": [
    "####################### without newip ##############################\n",
    "predictors.remove('newip')\n",
    "\n",
    "categorical.remove('newip')\n",
    "\n",
    "print(predictors)\n",
    "print(categorical)\n",
    "\n",
    "print(\"preparing validation datasets\")\n",
    "xgtrain = lgb.Dataset(train_df[predictors].values, label=train_df[target].values,\n",
    "                      feature_name=predictors,\n",
    "                      categorical_feature=categorical\n",
    "                      )\n",
    "                      \n",
    "print( train_df[predictors].head(1) )\n",
    "print( train_df[target].head(1) )\n",
    "print( val_df[predictors].head(1) )\n",
    "print( val_df[target].head(1) )\n",
    "\n",
    "#del train_df #################\n",
    "if WHERE != 'kaggle':\n",
    "    xgtrain.save_binary('xgtrain.bin')\n",
    "    del xgtrain\n",
    "xgvalid = lgb.Dataset(val_df[predictors].values, label=val_df[target].values,\n",
    "                      feature_name=predictors,\n",
    "                      categorical_feature=categorical\n",
    "                      )\n",
    "#del val_df\n",
    "gc.collect()\n",
    "\n",
    "evals_results = {}\n",
    "\n",
    "if WHERE != 'kaggle':\n",
    "    xgtrain = lgb.Dataset('xgtrain.bin',\n",
    "                          feature_name=predictors,\n",
    "                          categorical_feature=categorical\n",
    "                          )\n",
    "                      \n",
    "print( lgb_params )\n",
    "bst = lgb.train(lgb_params, \n",
    "                 xgtrain, \n",
    "                 valid_sets=[xgvalid], \n",
    "                 valid_names=['valid'], \n",
    "                 evals_result=evals_results, \n",
    "                 num_boost_round=num_boost_round,\n",
    "                 early_stopping_rounds=early_stopping_rounds,\n",
    "                 verbose_eval=10, \n",
    "                 feval=None)\n",
    "\n",
    "print(\"\\nModel Report\")\n",
    "print(\"bst.best_iteration: \", bst.best_iteration)\n",
    "print(metrics+\":\", evals_results['valid'][metrics][bst.best_iteration-1])\n",
    "\n",
    "\n",
    "print('[{}]: model training time'.format(time.time() - start_time))"
   ]
  },
  {
   "cell_type": "code",
   "execution_count": null,
   "metadata": {
    "collapsed": true
   },
   "outputs": [],
   "source": [
    "############################## without newip ##############################\n",
    "if WHERE!='gcloud':\n",
    "    print('Plot feature importances')\n",
    "    lgb.plot_importance(bst, max_num_features=100, title='Feature importance (split(default))')\n",
    "    lgb.plot_importance(bst, max_num_features=100, title='Feature importance (gain)', importance_type='gain')\n",
    "    plt.show()"
   ]
  },
  {
   "cell_type": "code",
   "execution_count": 95,
   "metadata": {},
   "outputs": [
    {
     "name": "stdout",
     "output_type": "stream",
     "text": [
      "['nextClick', 'nextClick_shift', 'app', 'device', 'os', 'channel', 'hour', 'day', 'ip_tcount', 'ip_tchan_count', 'ip_app_count', 'ip_app_os_count', 'ip_app_os_var', 'ip_app_channel_var_day', 'ip_app_channel_mean_hour', 'X0', 'X1', 'X2', 'X3', 'X4', 'X5', 'X6', 'X7', 'X8', 'ip']\n",
      "['app', 'device', 'os', 'channel', 'hour', 'day', 'ip']\n",
      "preparing validation datasets\n",
      "   nextClick  nextClick_shift  app  device  os  channel  hour  day  ip_tcount  \\\n",
      "0    52676.0              NaN    1       1  19      134    11    7          4   \n",
      "\n",
      "   ip_tchan_count  ...    X0  X1  X2  X3  X4  X5  X6  X7  X8     ip  \n",
      "0       39.799999  ...    66   0  10  26   4   3  30   0  18  79932  \n",
      "\n",
      "[1 rows x 25 columns]\n",
      "0    0\n",
      "Name: is_attributed, dtype: uint8\n",
      "          nextClick  nextClick_shift  app  device  os  channel  hour  day  \\\n",
      "29488240     1818.0             50.0    6       1  13      459     2    8   \n",
      "\n",
      "          ip_tcount  ip_tchan_count   ...     X0   X1  X2  X3  X4  X5  X6  \\\n",
      "29488240        212        0.619048   ...    112  470   3  52  20  10   6   \n",
      "\n",
      "            X7  X8      ip  \n",
      "29488240  2281  36  105314  \n",
      "\n",
      "[1 rows x 25 columns]\n",
      "29488240    0\n",
      "Name: is_attributed, dtype: uint8\n",
      "{'boosting_type': 'gbdt', 'objective': 'binary', 'metric': 'auc', 'learning_rate': 0.1, 'num_leaves': 7, 'max_depth': 3, 'min_child_samples': 100, 'max_bin': 100, 'subsample': 0.7, 'subsample_freq': 1, 'colsample_bytree': 0.9, 'min_child_weight': 0, 'scale_pos_weight': 200, 'subsample_for_bin': 200000, 'min_split_gain': 0, 'reg_alpha': 0, 'reg_lambda': 0, 'nthread': 4, 'verbose': 0}\n"
     ]
    },
    {
     "name": "stderr",
     "output_type": "stream",
     "text": [
      "/home/kai/anaconda3/lib/python3.6/site-packages/lightgbm/basic.py:1027: UserWarning: Using categorical_feature in Dataset.\n",
      "  warnings.warn('Using categorical_feature in Dataset.')\n",
      "/home/kai/anaconda3/lib/python3.6/site-packages/lightgbm/basic.py:668: UserWarning: categorical_feature in param dict is overrided.\n",
      "  warnings.warn('categorical_feature in param dict is overrided.')\n"
     ]
    },
    {
     "name": "stdout",
     "output_type": "stream",
     "text": [
      "Training until validation scores don't improve for 30 rounds.\n",
      "[10]\tvalid's auc: 0.964786\n",
      "[20]\tvalid's auc: 0.96992\n",
      "[30]\tvalid's auc: 0.974592\n",
      "[40]\tvalid's auc: 0.97767\n",
      "[50]\tvalid's auc: 0.980143\n",
      "[60]\tvalid's auc: 0.981604\n",
      "[70]\tvalid's auc: 0.982848\n",
      "[80]\tvalid's auc: 0.984219\n",
      "[90]\tvalid's auc: 0.984796\n",
      "[100]\tvalid's auc: 0.98519\n",
      "[110]\tvalid's auc: 0.985768\n",
      "[120]\tvalid's auc: 0.986242\n",
      "[130]\tvalid's auc: 0.986537\n",
      "[140]\tvalid's auc: 0.986917\n",
      "[150]\tvalid's auc: 0.987183\n",
      "[160]\tvalid's auc: 0.987348\n",
      "[170]\tvalid's auc: 0.987688\n",
      "[180]\tvalid's auc: 0.987871\n",
      "[190]\tvalid's auc: 0.988008\n",
      "[200]\tvalid's auc: 0.988226\n",
      "[210]\tvalid's auc: 0.988377\n",
      "[220]\tvalid's auc: 0.988521\n",
      "[230]\tvalid's auc: 0.988632\n",
      "[240]\tvalid's auc: 0.988729\n",
      "[250]\tvalid's auc: 0.988796\n",
      "[260]\tvalid's auc: 0.988904\n",
      "[270]\tvalid's auc: 0.989023\n",
      "[280]\tvalid's auc: 0.98909\n",
      "[290]\tvalid's auc: 0.989228\n",
      "[300]\tvalid's auc: 0.989289\n",
      "Did not meet early stopping. Best iteration is:\n",
      "[300]\tvalid's auc: 0.989289\n",
      "\n",
      "Model Report\n",
      "bst.best_iteration:  300\n",
      "auc: 0.989289221807\n",
      "[300.72769355773926]: model training time\n"
     ]
    }
   ],
   "source": [
    "####################### with ip ##############################\n",
    "predictors.append('ip')\n",
    "\n",
    "categorical.append('ip')\n",
    "\n",
    "print(predictors)\n",
    "print(categorical)\n",
    "\n",
    "print(\"preparing validation datasets\")\n",
    "xgtrain = lgb.Dataset(train_df[predictors].values, label=train_df[target].values,\n",
    "                      feature_name=predictors,\n",
    "                      categorical_feature=categorical\n",
    "                      )\n",
    "                      \n",
    "print( train_df[predictors].head(1) )\n",
    "print( train_df[target].head(1) )\n",
    "print( val_df[predictors].head(1) )\n",
    "print( val_df[target].head(1) )\n",
    "\n",
    "#del train_df #################\n",
    "if WHERE != 'kaggle':\n",
    "    xgtrain.save_binary('xgtrain.bin')\n",
    "    del xgtrain\n",
    "xgvalid = lgb.Dataset(val_df[predictors].values, label=val_df[target].values,\n",
    "                      feature_name=predictors,\n",
    "                      categorical_feature=categorical\n",
    "                      )\n",
    "#del val_df\n",
    "gc.collect()\n",
    "\n",
    "evals_results = {}\n",
    "\n",
    "if WHERE != 'kaggle':\n",
    "    xgtrain = lgb.Dataset('xgtrain.bin',\n",
    "                          feature_name=predictors,\n",
    "                          categorical_feature=categorical\n",
    "                          )\n",
    "                      \n",
    "print( lgb_params )\n",
    "bst = lgb.train(lgb_params, \n",
    "                 xgtrain, \n",
    "                 valid_sets=[xgvalid], \n",
    "                 valid_names=['valid'], \n",
    "                 evals_result=evals_results, \n",
    "                 num_boost_round=num_boost_round,\n",
    "                 early_stopping_rounds=early_stopping_rounds,\n",
    "                 verbose_eval=10, \n",
    "                 feval=None)\n",
    "\n",
    "print(\"\\nModel Report\")\n",
    "print(\"bst.best_iteration: \", bst.best_iteration)\n",
    "print(metrics+\":\", evals_results['valid'][metrics][bst.best_iteration-1])\n",
    "\n",
    "\n",
    "print('[{}]: model training time'.format(time.time() - start_time))"
   ]
  },
  {
   "cell_type": "code",
   "execution_count": 96,
   "metadata": {},
   "outputs": [
    {
     "name": "stdout",
     "output_type": "stream",
     "text": [
      "Plot feature importances\n"
     ]
    },
    {
     "data": {
      "image/png": "[encoded data removed]",
      "text/plain": [
       "<matplotlib.figure.Figure at 0x7fbdf347a9e8>"
      ]
     },
     "metadata": {},
     "output_type": "display_data"
    },
    {
     "data": {
      "image/png": "[encoded data removed]",
      "text/plain": [
       "<matplotlib.figure.Figure at 0x7fbdf3571978>"
      ]
     },
     "metadata": {},
     "output_type": "display_data"
    }
   ],
   "source": [
    "if WHERE!='gcloud':\n",
    "    print('Plot feature importances')\n",
    "    lgb.plot_importance(bst, max_num_features=100, title='Feature importance (split(default))')\n",
    "    lgb.plot_importance(bst, max_num_features=100, title='Feature importance (gain)', importance_type='gain')\n",
    "    plt.show()"
   ]
  },
  {
   "cell_type": "code",
   "execution_count": null,
   "metadata": {
    "collapsed": true
   },
   "outputs": [],
   "source": []
  },
  {
   "cell_type": "code",
   "execution_count": null,
   "metadata": {
    "collapsed": true
   },
   "outputs": [],
   "source": []
  },
  {
   "cell_type": "code",
   "execution_count": null,
   "metadata": {
    "collapsed": true
   },
   "outputs": [],
   "source": []
  },
  {
   "cell_type": "code",
   "execution_count": 27,
   "metadata": {},
   "outputs": [
    {
     "name": "stdout",
     "output_type": "stream",
     "text": [
      "{'boosting_type': 'gbdt', 'objective': 'binary', 'metric': 'auc', 'learning_rate': 0.1, 'num_leaves': 7, 'max_depth': 3, 'min_child_samples': 100, 'max_bin': 100, 'subsample': 0.7, 'subsample_freq': 1, 'colsample_bytree': 0.9, 'min_child_weight': 0, 'scale_pos_weight': 200, 'subsample_for_bin': 200000, 'min_split_gain': 0, 'reg_alpha': 0, 'reg_lambda': 0, 'nthread': 4, 'verbose': 0}\n"
     ]
    },
    {
     "name": "stderr",
     "output_type": "stream",
     "text": [
      "/home/kai/anaconda3/lib/python3.6/site-packages/lightgbm/basic.py:1027: UserWarning: Using categorical_feature in Dataset.\n",
      "  warnings.warn('Using categorical_feature in Dataset.')\n",
      "/home/kai/anaconda3/lib/python3.6/site-packages/lightgbm/basic.py:668: UserWarning: categorical_feature in param dict is overrided.\n",
      "  warnings.warn('categorical_feature in param dict is overrided.')\n"
     ]
    },
    {
     "name": "stdout",
     "output_type": "stream",
     "text": [
      "Training until validation scores don't improve for 30 rounds.\n",
      "[10]\tvalid's auc: 0.970275\n",
      "[20]\tvalid's auc: 0.972578\n",
      "[30]\tvalid's auc: 0.97577\n",
      "[40]\tvalid's auc: 0.977117\n",
      "[50]\tvalid's auc: 0.978371\n",
      "[60]\tvalid's auc: 0.979221\n",
      "[70]\tvalid's auc: 0.979733\n",
      "[80]\tvalid's auc: 0.980228\n",
      "[90]\tvalid's auc: 0.9805\n",
      "[100]\tvalid's auc: 0.980658\n",
      "[110]\tvalid's auc: 0.981031\n",
      "[120]\tvalid's auc: 0.98108\n",
      "[130]\tvalid's auc: 0.981255\n",
      "[140]\tvalid's auc: 0.981552\n",
      "[150]\tvalid's auc: 0.981691\n",
      "[160]\tvalid's auc: 0.981681\n",
      "[170]\tvalid's auc: 0.981723\n",
      "[180]\tvalid's auc: 0.981816\n",
      "[190]\tvalid's auc: 0.981902\n",
      "[200]\tvalid's auc: 0.981938\n",
      "[210]\tvalid's auc: 0.982104\n",
      "[220]\tvalid's auc: 0.982224\n",
      "[230]\tvalid's auc: 0.982287\n",
      "[240]\tvalid's auc: 0.982277\n",
      "[250]\tvalid's auc: 0.982252\n",
      "[260]\tvalid's auc: 0.98226\n",
      "[270]\tvalid's auc: 0.982308\n",
      "[280]\tvalid's auc: 0.98239\n",
      "[290]\tvalid's auc: 0.982367\n",
      "[300]\tvalid's auc: 0.982417\n",
      "[310]\tvalid's auc: 0.982385\n",
      "[320]\tvalid's auc: 0.982437\n",
      "[330]\tvalid's auc: 0.982504\n",
      "[340]\tvalid's auc: 0.982543\n",
      "[350]\tvalid's auc: 0.982567\n",
      "[360]\tvalid's auc: 0.982623\n",
      "[370]\tvalid's auc: 0.982604\n",
      "[380]\tvalid's auc: 0.982615\n",
      "[390]\tvalid's auc: 0.982618\n",
      "Early stopping, best iteration is:\n",
      "[362]\tvalid's auc: 0.982634\n",
      "\n",
      "Model Report\n",
      "bst.best_iteration:  362\n",
      "auc: 0.982633876154\n",
      "[450.0366632938385]: model training time\n"
     ]
    }
   ],
   "source": [
    "evals_results = {}\n",
    "\n",
    "if WHERE != 'kaggle':\n",
    "    xgtrain = lgb.Dataset('xgtrain.bin',\n",
    "                          feature_name=predictors,\n",
    "                          categorical_feature=categorical\n",
    "                          )\n",
    "                      \n",
    "print( lgb_params )\n",
    "bst = lgb.train(lgb_params, \n",
    "                 xgtrain, \n",
    "                 valid_sets=[xgvalid], \n",
    "                 valid_names=['valid'], \n",
    "                 evals_result=evals_results, \n",
    "                 num_boost_round=num_boost_round,\n",
    "                 early_stopping_rounds=early_stopping_rounds,\n",
    "                 verbose_eval=10, \n",
    "                 feval=None)\n",
    "\n",
    "print(\"\\nModel Report\")\n",
    "print(\"bst.best_iteration: \", bst.best_iteration)\n",
    "print(metrics+\":\", evals_results['valid'][metrics][bst.best_iteration-1])\n",
    "\n",
    "\n",
    "print('[{}]: model training time'.format(time.time() - start_time))"
   ]
  },
  {
   "cell_type": "code",
   "execution_count": 28,
   "metadata": {},
   "outputs": [
    {
     "name": "stdout",
     "output_type": "stream",
     "text": [
      "Plot feature importances\n"
     ]
    },
    {
     "data": {
      "image/png": "[encoded data removed]",
      "text/plain": [
       "<matplotlib.figure.Figure at 0x7f9abcfadf60>"
      ]
     },
     "metadata": {},
     "output_type": "display_data"
    },
    {
     "data": {
      "image/png": "[encoded data removed]",
      "text/plain": [
       "<matplotlib.figure.Figure at 0x7f9abc7b0ac8>"
      ]
     },
     "metadata": {},
     "output_type": "display_data"
    }
   ],
   "source": [
    "if WHERE!='gcloud':\n",
    "    print('Plot feature importances')\n",
    "    lgb.plot_importance(bst, max_num_features=100, title='Feature importance (split(default))')\n",
    "    lgb.plot_importance(bst, max_num_features=100, title='Feature importance (gain)', importance_type='gain')\n",
    "    plt.show()"
   ]
  },
  {
   "cell_type": "code",
   "execution_count": 25,
   "metadata": {},
   "outputs": [
    {
     "name": "stdout",
     "output_type": "stream",
     "text": [
      "{'boosting_type': 'gbdt', 'objective': 'binary', 'metric': 'auc', 'learning_rate': 0.1, 'num_leaves': 7, 'max_depth': 3, 'min_child_samples': 100, 'max_bin': 100, 'subsample': 0.7, 'subsample_freq': 1, 'colsample_bytree': 0.9, 'min_child_weight': 0, 'scale_pos_weight': 200, 'subsample_for_bin': 200000, 'min_split_gain': 0, 'reg_alpha': 0, 'reg_lambda': 0, 'nthread': 4, 'verbose': 0}\n"
     ]
    },
    {
     "name": "stderr",
     "output_type": "stream",
     "text": [
      "/home/kai/anaconda3/lib/python3.6/site-packages/lightgbm/basic.py:1027: UserWarning: Using categorical_feature in Dataset.\n",
      "  warnings.warn('Using categorical_feature in Dataset.')\n",
      "/home/kai/anaconda3/lib/python3.6/site-packages/lightgbm/basic.py:668: UserWarning: categorical_feature in param dict is overrided.\n",
      "  warnings.warn('categorical_feature in param dict is overrided.')\n"
     ]
    },
    {
     "name": "stdout",
     "output_type": "stream",
     "text": [
      "Training until validation scores don't improve for 30 rounds.\n",
      "[10]\tvalid's auc: 0.970404\n",
      "[20]\tvalid's auc: 0.973745\n",
      "[30]\tvalid's auc: 0.977031\n",
      "[40]\tvalid's auc: 0.97874\n",
      "[50]\tvalid's auc: 0.97971\n",
      "[60]\tvalid's auc: 0.980383\n",
      "[70]\tvalid's auc: 0.98094\n",
      "[80]\tvalid's auc: 0.981454\n",
      "[90]\tvalid's auc: 0.981854\n",
      "[100]\tvalid's auc: 0.981945\n",
      "[110]\tvalid's auc: 0.982267\n",
      "[120]\tvalid's auc: 0.982498\n",
      "[130]\tvalid's auc: 0.982708\n",
      "[140]\tvalid's auc: 0.982765\n",
      "[150]\tvalid's auc: 0.982961\n",
      "[160]\tvalid's auc: 0.98307\n",
      "[170]\tvalid's auc: 0.983074\n",
      "[180]\tvalid's auc: 0.983111\n",
      "[190]\tvalid's auc: 0.983117\n",
      "[200]\tvalid's auc: 0.98319\n",
      "[210]\tvalid's auc: 0.98323\n",
      "[220]\tvalid's auc: 0.983256\n",
      "[230]\tvalid's auc: 0.98328\n",
      "[240]\tvalid's auc: 0.98329\n",
      "[250]\tvalid's auc: 0.983305\n",
      "[260]\tvalid's auc: 0.983269\n",
      "[270]\tvalid's auc: 0.983315\n",
      "[280]\tvalid's auc: 0.983352\n",
      "[290]\tvalid's auc: 0.983325\n",
      "[300]\tvalid's auc: 0.983343\n",
      "[310]\tvalid's auc: 0.983307\n",
      "Early stopping, best iteration is:\n",
      "[284]\tvalid's auc: 0.983363\n",
      "\n",
      "Model Report\n",
      "bst.best_iteration:  284\n",
      "auc: 0.983362892587\n",
      "[313.64611411094666]: model training time\n"
     ]
    }
   ],
   "source": [
    "evals_results = {}\n",
    "\n",
    "if WHERE != 'kaggle':\n",
    "    xgtrain = lgb.Dataset('xgtrain.bin',\n",
    "                          feature_name=predictors,\n",
    "                          categorical_feature=categorical\n",
    "                          )\n",
    "                      \n",
    "print( lgb_params )\n",
    "bst = lgb.train(lgb_params, \n",
    "                 xgtrain, \n",
    "                 valid_sets=[xgvalid], \n",
    "                 valid_names=['valid'], \n",
    "                 evals_result=evals_results, \n",
    "                 num_boost_round=num_boost_round,\n",
    "                 early_stopping_rounds=early_stopping_rounds,\n",
    "                 verbose_eval=10, \n",
    "                 feval=None)\n",
    "\n",
    "print(\"\\nModel Report\")\n",
    "print(\"bst.best_iteration: \", bst.best_iteration)\n",
    "print(metrics+\":\", evals_results['valid'][metrics][bst.best_iteration-1])\n",
    "\n",
    "\n",
    "print('[{}]: model training time'.format(time.time() - start_time))"
   ]
  },
  {
   "cell_type": "code",
   "execution_count": 26,
   "metadata": {},
   "outputs": [
    {
     "name": "stdout",
     "output_type": "stream",
     "text": [
      "Plot feature importances\n"
     ]
    },
    {
     "data": {
      "image/png": "[encoded data removed]",
      "text/plain": [
       "<matplotlib.figure.Figure at 0x7fe233082dd8>"
      ]
     },
     "metadata": {},
     "output_type": "display_data"
    },
    {
     "data": {
      "image/png": "[encoded data removed]",
      "text/plain": [
       "<matplotlib.figure.Figure at 0x7fe233180d68>"
      ]
     },
     "metadata": {},
     "output_type": "display_data"
    }
   ],
   "source": [
    "if WHERE!='gcloud':\n",
    "    print('Plot feature importances')\n",
    "    lgb.plot_importance(bst, max_num_features=100, title='Feature importance (split(default))')\n",
    "    lgb.plot_importance(bst, max_num_features=100, title='Feature importance (gain)', importance_type='gain')\n",
    "    plt.show()"
   ]
  },
  {
   "cell_type": "code",
   "execution_count": 27,
   "metadata": {},
   "outputs": [
    {
     "name": "stdout",
     "output_type": "stream",
     "text": [
      "Re-reading test data...\n",
      "Predicting...\n",
      "\n",
      "\n",
      "FULL VALIDATION SCORE:     0.979040335773\n",
      "PUBLIC VALIDATION SCORE:   0.975967468009\n",
      "PRIVATE VALIDATION SCORE:  0.979914132843\n"
     ]
    }
   ],
   "source": [
    "print(\"Re-reading test data...\")\n",
    "test_df = pd.read_pickle('test.pkl.gz')\n",
    "sub = pd.DataFrame()\n",
    "\n",
    "print(\"Predicting...\")\n",
    "y_pred = bst.predict(test_df[predictors],num_iteration=bst.best_iteration)\n",
    "outsuf = ''\n",
    "if VAL_RUN:\n",
    "    print(  \"\\n\\nFULL VALIDATION SCORE:    \", \n",
    "            roc_auc_score( y_test, y_pred )  )\n",
    "    print(  \"PUBLIC VALIDATION SCORE:  \", \n",
    "            roc_auc_score( y_test[:public_cutoff], y_pred[:public_cutoff] )  )\n",
    "    print(  \"PRIVATE VALIDATION SCORE: \",\n",
    "            roc_auc_score( y_test[public_cutoff:], y_pred[public_cutoff:] )  )\n",
    "    outsuf = '_val'\n",
    "    sub['click_id'] = pd.Series(range(len(test_df))).astype('uint32').values\n",
    "else:\n",
    "    sub['click_id'] = test_df['click_id'].astype('uint32').values"
   ]
  },
  {
   "cell_type": "code",
   "execution_count": 30,
   "metadata": {},
   "outputs": [
    {
     "data": {
      "text/plain": [
       "(4032690, 20898422, 0.19296624405421614)"
      ]
     },
     "execution_count": 30,
     "metadata": {},
     "output_type": "execute_result"
    }
   ],
   "source": [
    "public_cutoff, len(y_test), public_cutoff/len(y_test)"
   ]
  },
  {
   "cell_type": "code",
   "execution_count": 33,
   "metadata": {},
   "outputs": [
    {
     "data": {
      "text/plain": [
       "(4, '_val')"
      ]
     },
     "execution_count": 33,
     "metadata": {},
     "output_type": "execute_result"
    }
   ],
   "source": [
    "fileno, outsuf"
   ]
  },
  {
   "cell_type": "code",
   "execution_count": 31,
   "metadata": {},
   "outputs": [
    {
     "name": "stdout",
     "output_type": "stream",
     "text": [
      "\n",
      "writing...\n",
      "\n",
      "done...\n",
      "   click_id  is_attributed\n",
      "0         0       0.001558\n",
      "1         1       0.036643\n",
      "2         2       0.014622\n",
      "3         3       0.003797\n",
      "4         4       0.084995\n",
      "5         5       0.122013\n",
      "6         6       0.051228\n",
      "7         7       0.014313\n",
      "8         8       0.014426\n",
      "9         9       0.076432\n"
     ]
    }
   ],
   "source": [
    "if WHERE != 'kaggle':\n",
    "    os.remove('xgtrain.bin')\n",
    "#os.remove('test.pkl.gz')\n",
    "sub['is_attributed'] = y_pred\n",
    "if not debug:\n",
    "    print(\"\\nwriting...\")\n",
    "    sub.to_csv('sub_it_%s'%(fileno)+outsuf+'.csv.gz', index=False, float_format='%.9f', compression='gzip')\n",
    "print(\"\\ndone...\")\n",
    "print( sub.head(10) )"
   ]
  },
  {
   "cell_type": "code",
   "execution_count": null,
   "metadata": {
    "collapsed": true
   },
   "outputs": [],
   "source": []
  }
 ],
 "metadata": {
  "kernelspec": {
   "display_name": "Python 3",
   "language": "python",
   "name": "python3"
  },
  "language_info": {
   "codemirror_mode": {
    "name": "ipython",
    "version": 3
   },
   "file_extension": ".py",
   "mimetype": "text/x-python",
   "name": "python",
   "nbconvert_exporter": "python",
   "pygments_lexer": "ipython3",
   "version": "3.6.3"
  }
 },
 "nbformat": 4,
 "nbformat_minor": 2
}
