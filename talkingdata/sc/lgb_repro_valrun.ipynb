{
 "cells": [
  {
   "cell_type": "code",
   "execution_count": 1,
   "metadata": {
    "collapsed": true
   },
   "outputs": [],
   "source": [
    "\"\"\"\n",
    "A non-blending lightGBM model that incorporates portions and ideas from various public kernels.\n",
    "\"\"\"\n",
    "DEBUG = False\n",
    "VAL_RUN = True\n",
    "WHERE = 'kaggle'\n",
    "import time\n",
    "FILENO = str(int(time.time()))[3:]\n",
    "NCHUNK = 32000000\n",
    "OFFSET = 75000000\n",
    "\n",
    "MISSING32 = 999999999\n",
    "MISSING8 = 255\n",
    "PUBLIC_CUTOFF = 4032690\n",
    "\n",
    "if WHERE=='kaggle':\n",
    "\tinpath = '/home/kai/data/kaggle/talkingdata/data/'\n",
    "\tpickle_path ='/home/kai/data/kaggle/talkingdata/data/training-and-validation-data-pickle/'\n",
    "\tsuffix = ''\n",
    "\toutpath = ''\n",
    "\tsavepath = ''\n",
    "\toofpath = ''\n",
    "\tcores = 4\n",
    "elif WHERE=='oof':\n",
    "\tinpath = '/home/kai/data/kaggle/talkingdata/data/'\n",
    "\tpickle_path = '/home/kai/data/kaggle/talkingdata/data/training-and-validation-data-pickle/'\n",
    "\tsuffix = '.zip'\n",
    "\toutpath = '/home/kai/data/kaggle/talkingdata/data/training-and-validation-data-pickle/sub/'\n",
    "\toofpath = '/home/kai/data/kaggle/talkingdata/data/training-and-validation-data-pickle/oof/'\n",
    "\tsavepath = '/home/kai/data/kaggle/talkingdata/data/training-and-validation-data-pickle/save'\n",
    "\tcores = 7"
   ]
  },
  {
   "cell_type": "code",
   "execution_count": 2,
   "metadata": {
    "collapsed": true
   },
   "outputs": [],
   "source": [
    "import pandas as pd\n",
    "import time\n",
    "import numpy as np\n",
    "from sklearn.model_selection import train_test_split\n",
    "from sklearn.metrics import roc_auc_score\n",
    "import lightgbm as lgb\n",
    "import gc\n",
    "import matplotlib.pyplot as plt\n",
    "import os"
   ]
  },
  {
   "cell_type": "code",
   "execution_count": 3,
   "metadata": {
    "collapsed": true
   },
   "outputs": [],
   "source": [
    "def do_count( df, group_cols, agg_name, agg_type='uint32', show_max=False, show_agg=True ):\n",
    "    if show_agg:\n",
    "        print( \"Aggregating by \", group_cols , '...' )\n",
    "    gp = df[group_cols][group_cols].groupby(group_cols).size().rename(agg_name).to_frame().reset_index()\n",
    "    df = df.merge(gp, on=group_cols, how='left')\n",
    "    del gp\n",
    "    if show_max:\n",
    "        print( agg_name + \" max value = \", df[agg_name].max() )\n",
    "    df[agg_name] = df[agg_name].astype(agg_type)\n",
    "    gc.collect()\n",
    "    return( df )\n",
    "\n",
    "def do_countuniq( df, group_cols, counted, agg_name, agg_type='uint32', show_max=False, show_agg=True ):\n",
    "    if show_agg:\n",
    "        print( \"Counting unqiue \", counted, \" by \", group_cols , '...' )\n",
    "    gp = df[group_cols+[counted]].groupby(group_cols)[counted].nunique().reset_index().rename(columns={counted:agg_name})\n",
    "    df = df.merge(gp, on=group_cols, how='left')\n",
    "    del gp\n",
    "    if show_max:\n",
    "        print( agg_name + \" max value = \", df[agg_name].max() )\n",
    "    df[agg_name] = df[agg_name].astype(agg_type)\n",
    "    gc.collect()\n",
    "    return( df )\n",
    "    \n",
    "def do_cumcount( df, group_cols, counted, agg_name, agg_type='uint32', show_max=False, show_agg=True ):\n",
    "    if show_agg:\n",
    "        print( \"Cumulative count by \", group_cols , '...' )\n",
    "    gp = df[group_cols+[counted]].groupby(group_cols)[counted].cumcount()\n",
    "    df[agg_name]=gp.values\n",
    "    del gp\n",
    "    if show_max:\n",
    "        print( agg_name + \" max value = \", df[agg_name].max() )\n",
    "    df[agg_name] = df[agg_name].astype(agg_type)\n",
    "    gc.collect()\n",
    "    return( df )\n",
    "\n",
    "def do_mean( df, group_cols, counted, agg_name, agg_type='float32', show_max=False, show_agg=True ):\n",
    "    if show_agg:\n",
    "        print( \"Calculating mean of \", counted, \" by \", group_cols , '...' )\n",
    "    gp = df[group_cols+[counted]].groupby(group_cols)[counted].mean().reset_index().rename(columns={counted:agg_name})\n",
    "    df = df.merge(gp, on=group_cols, how='left')\n",
    "    del gp\n",
    "    if show_max:\n",
    "        print( agg_name + \" max value = \", df[agg_name].max() )\n",
    "    df[agg_name] = df[agg_name].astype(agg_type)\n",
    "    gc.collect()\n",
    "    return( df )\n",
    "\n",
    "def do_var( df, group_cols, counted, agg_name, agg_type='float32', show_max=False, show_agg=True ):\n",
    "    if show_agg:\n",
    "        print( \"Calculating variance of \", counted, \" by \", group_cols , '...' )\n",
    "    gp = df[group_cols+[counted]].groupby(group_cols)[counted].var().reset_index().rename(columns={counted:agg_name})\n",
    "    df = df.merge(gp, on=group_cols, how='left')\n",
    "    del gp\n",
    "    if show_max:\n",
    "        print( agg_name + \" max value = \", df[agg_name].max() )\n",
    "    df[agg_name] = df[agg_name].astype(agg_type)\n",
    "    gc.collect()\n",
    "    return( df )"
   ]
  },
  {
   "cell_type": "code",
   "execution_count": 5,
   "metadata": {},
   "outputs": [],
   "source": [
    "debug = DEBUG\n",
    "if debug:\n",
    "    print('*** debug parameter set: this is a test run for debugging purposes ***')\n",
    "\n",
    "    \n",
    "if VAL_RUN:\n",
    "    nrows=122071522\n",
    "    outpath = oofpath\n",
    "else:\n",
    "    nrows=184903890\n",
    "nchunk=NCHUNK\n",
    "val_size=2500000\n",
    "frm=nrows-OFFSET\n",
    "if debug:\n",
    "    frm=0\n",
    "    nchunk=100000\n",
    "    val_size=10000\n",
    "to=frm+nchunk\n",
    "fileno = FILENO"
   ]
  },
  {
   "cell_type": "code",
   "execution_count": 6,
   "metadata": {
    "collapsed": true
   },
   "outputs": [],
   "source": [
    "dtypes = {\n",
    "        'ip'            : 'uint32',\n",
    "        'app'           : 'uint16',\n",
    "        'device'        : 'uint16',\n",
    "        'os'            : 'uint16',\n",
    "        'channel'       : 'uint16',\n",
    "        'is_attributed' : 'uint8',\n",
    "        'click_id'      : 'uint32',\n",
    "        }\n"
   ]
  },
  {
   "cell_type": "code",
   "execution_count": 7,
   "metadata": {},
   "outputs": [
    {
     "name": "stdout",
     "output_type": "stream",
     "text": [
      "loading train data... 47071522 79071522\n",
      "loading test data...\n"
     ]
    }
   ],
   "source": [
    "if VAL_RUN:\n",
    "    print('loading train data...',frm,to)\n",
    "    train_df = pd.read_pickle( pickle_path+\"training.pkl.gz\" )[frm:to]\n",
    "    train_df['click_time'] = pd.to_datetime( train_df.click_time )\n",
    "    print('loading test data...')\n",
    "    if debug:\n",
    "        public_cutoff = 10000\n",
    "        test_df = pd.read_pickle( pickle_path+\"validation.pkl.gz\" )[:30000]\n",
    "        test_df['click_time'] = pd.to_datetime( test_df.click_time )\n",
    "        y_test = test_df['is_attributed'].values\n",
    "        test_df.drop(['is_attributed'],axis=1,inplace=True)\n",
    "    else:\n",
    "        public_cutoff = PUBLIC_CUTOFF\n",
    "        test_df = pd.read_pickle( pickle_path+\"validation.pkl.gz\" )\n",
    "        test_df['click_time'] = pd.to_datetime( test_df.click_time )\n",
    "        y_test = test_df['is_attributed'].values\n",
    "        test_df.drop(['is_attributed'],axis=1,inplace=True)\n",
    "else:\n",
    "    print('loading train data...',frm,to)\n",
    "    train_df = pd.read_csv(inpath+\"train.csv\", parse_dates=['click_time'], skiprows=range(1,frm), nrows=to-frm, dtype=dtypes, usecols=['ip','app','device','os', 'channel', 'click_time', 'is_attributed'])\n",
    "    print('loading test data...')\n",
    "    if debug:\n",
    "        test_df = pd.read_csv(inpath+\"test.csv\", nrows=100000, parse_dates=['click_time'], dtype=dtypes, usecols=['ip','app','device','os', 'channel', 'click_time', 'click_id'])\n",
    "    else:\n",
    "        test_df = pd.read_csv(inpath+\"test.csv\", parse_dates=['click_time'], dtype=dtypes, usecols=['ip','app','device','os', 'channel', 'click_time', 'click_id'])\n",
    "    train_df['click_id'] = MISSING32\n",
    "    train_df['click_id'] = train_df.click_id.astype('uint32')"
   ]
  },
  {
   "cell_type": "code",
   "execution_count": 8,
   "metadata": {},
   "outputs": [
    {
     "data": {
      "text/plain": [
       "((32000000, 7), (20898422, 6))"
      ]
     },
     "execution_count": 8,
     "metadata": {},
     "output_type": "execute_result"
    }
   ],
   "source": [
    "train_df.shape, test_df.shape"
   ]
  },
  {
   "cell_type": "code",
   "execution_count": 9,
   "metadata": {},
   "outputs": [
    {
     "data": {
      "text/html": [
       "<div>\n",
       "<style>\n",
       "    .dataframe thead tr:only-child th {\n",
       "        text-align: right;\n",
       "    }\n",
       "\n",
       "    .dataframe thead th {\n",
       "        text-align: left;\n",
       "    }\n",
       "\n",
       "    .dataframe tbody tr th {\n",
       "        vertical-align: top;\n",
       "    }\n",
       "</style>\n",
       "<table border=\"1\" class=\"dataframe\">\n",
       "  <thead>\n",
       "    <tr style=\"text-align: right;\">\n",
       "      <th></th>\n",
       "      <th>ip</th>\n",
       "      <th>app</th>\n",
       "      <th>device</th>\n",
       "      <th>os</th>\n",
       "      <th>channel</th>\n",
       "      <th>click_time</th>\n",
       "      <th>is_attributed</th>\n",
       "    </tr>\n",
       "  </thead>\n",
       "  <tbody>\n",
       "    <tr>\n",
       "      <th>47071522</th>\n",
       "      <td>79932</td>\n",
       "      <td>1</td>\n",
       "      <td>1</td>\n",
       "      <td>19</td>\n",
       "      <td>134</td>\n",
       "      <td>2017-11-07 11:52:41</td>\n",
       "      <td>0</td>\n",
       "    </tr>\n",
       "    <tr>\n",
       "      <th>47071523</th>\n",
       "      <td>167951</td>\n",
       "      <td>15</td>\n",
       "      <td>1</td>\n",
       "      <td>14</td>\n",
       "      <td>480</td>\n",
       "      <td>2017-11-07 11:52:41</td>\n",
       "      <td>0</td>\n",
       "    </tr>\n",
       "    <tr>\n",
       "      <th>47071524</th>\n",
       "      <td>36213</td>\n",
       "      <td>12</td>\n",
       "      <td>1</td>\n",
       "      <td>19</td>\n",
       "      <td>178</td>\n",
       "      <td>2017-11-07 11:52:41</td>\n",
       "      <td>0</td>\n",
       "    </tr>\n",
       "    <tr>\n",
       "      <th>47071525</th>\n",
       "      <td>114526</td>\n",
       "      <td>9</td>\n",
       "      <td>1</td>\n",
       "      <td>22</td>\n",
       "      <td>244</td>\n",
       "      <td>2017-11-07 11:52:41</td>\n",
       "      <td>0</td>\n",
       "    </tr>\n",
       "    <tr>\n",
       "      <th>47071526</th>\n",
       "      <td>1992</td>\n",
       "      <td>11</td>\n",
       "      <td>1</td>\n",
       "      <td>7</td>\n",
       "      <td>122</td>\n",
       "      <td>2017-11-07 11:52:41</td>\n",
       "      <td>0</td>\n",
       "    </tr>\n",
       "  </tbody>\n",
       "</table>\n",
       "</div>"
      ],
      "text/plain": [
       "              ip  app  device  os  channel          click_time  is_attributed\n",
       "47071522   79932    1       1  19      134 2017-11-07 11:52:41              0\n",
       "47071523  167951   15       1  14      480 2017-11-07 11:52:41              0\n",
       "47071524   36213   12       1  19      178 2017-11-07 11:52:41              0\n",
       "47071525  114526    9       1  22      244 2017-11-07 11:52:41              0\n",
       "47071526    1992   11       1   7      122 2017-11-07 11:52:41              0"
      ]
     },
     "execution_count": 9,
     "metadata": {},
     "output_type": "execute_result"
    }
   ],
   "source": [
    "train_df.head()"
   ]
  },
  {
   "cell_type": "code",
   "execution_count": 10,
   "metadata": {},
   "outputs": [
    {
     "data": {
      "text/html": [
       "<div>\n",
       "<style>\n",
       "    .dataframe thead tr:only-child th {\n",
       "        text-align: right;\n",
       "    }\n",
       "\n",
       "    .dataframe thead th {\n",
       "        text-align: left;\n",
       "    }\n",
       "\n",
       "    .dataframe tbody tr th {\n",
       "        vertical-align: top;\n",
       "    }\n",
       "</style>\n",
       "<table border=\"1\" class=\"dataframe\">\n",
       "  <thead>\n",
       "    <tr style=\"text-align: right;\">\n",
       "      <th></th>\n",
       "      <th>ip</th>\n",
       "      <th>app</th>\n",
       "      <th>device</th>\n",
       "      <th>os</th>\n",
       "      <th>channel</th>\n",
       "      <th>click_time</th>\n",
       "      <th>is_attributed</th>\n",
       "    </tr>\n",
       "  </thead>\n",
       "  <tbody>\n",
       "    <tr>\n",
       "      <th>79071517</th>\n",
       "      <td>44957</td>\n",
       "      <td>21</td>\n",
       "      <td>1</td>\n",
       "      <td>10</td>\n",
       "      <td>232</td>\n",
       "      <td>2017-11-08 02:59:44</td>\n",
       "      <td>0</td>\n",
       "    </tr>\n",
       "    <tr>\n",
       "      <th>79071518</th>\n",
       "      <td>84521</td>\n",
       "      <td>18</td>\n",
       "      <td>1</td>\n",
       "      <td>36</td>\n",
       "      <td>121</td>\n",
       "      <td>2017-11-08 02:59:44</td>\n",
       "      <td>0</td>\n",
       "    </tr>\n",
       "    <tr>\n",
       "      <th>79071519</th>\n",
       "      <td>42197</td>\n",
       "      <td>18</td>\n",
       "      <td>1</td>\n",
       "      <td>20</td>\n",
       "      <td>107</td>\n",
       "      <td>2017-11-08 02:59:44</td>\n",
       "      <td>0</td>\n",
       "    </tr>\n",
       "    <tr>\n",
       "      <th>79071520</th>\n",
       "      <td>255305</td>\n",
       "      <td>18</td>\n",
       "      <td>1</td>\n",
       "      <td>19</td>\n",
       "      <td>107</td>\n",
       "      <td>2017-11-08 02:59:44</td>\n",
       "      <td>0</td>\n",
       "    </tr>\n",
       "    <tr>\n",
       "      <th>79071521</th>\n",
       "      <td>12213</td>\n",
       "      <td>21</td>\n",
       "      <td>2</td>\n",
       "      <td>58</td>\n",
       "      <td>128</td>\n",
       "      <td>2017-11-08 02:59:44</td>\n",
       "      <td>0</td>\n",
       "    </tr>\n",
       "  </tbody>\n",
       "</table>\n",
       "</div>"
      ],
      "text/plain": [
       "              ip  app  device  os  channel          click_time  is_attributed\n",
       "79071517   44957   21       1  10      232 2017-11-08 02:59:44              0\n",
       "79071518   84521   18       1  36      121 2017-11-08 02:59:44              0\n",
       "79071519   42197   18       1  20      107 2017-11-08 02:59:44              0\n",
       "79071520  255305   18       1  19      107 2017-11-08 02:59:44              0\n",
       "79071521   12213   21       2  58      128 2017-11-08 02:59:44              0"
      ]
     },
     "execution_count": 10,
     "metadata": {},
     "output_type": "execute_result"
    }
   ],
   "source": [
    "train_df.tail()"
   ]
  },
  {
   "cell_type": "code",
   "execution_count": 11,
   "metadata": {
    "collapsed": true
   },
   "outputs": [],
   "source": [
    "len_train = len(train_df)\n",
    "test_df['is_attributed'] = MISSING8\n",
    "test_df['is_attributed'] = test_df.is_attributed.astype('uint8')\n",
    "train_df=train_df.append(test_df)"
   ]
  },
  {
   "cell_type": "code",
   "execution_count": 12,
   "metadata": {},
   "outputs": [
    {
     "data": {
      "text/plain": [
       "52898422"
      ]
     },
     "execution_count": 12,
     "metadata": {},
     "output_type": "execute_result"
    }
   ],
   "source": [
    "len(train_df)"
   ]
  },
  {
   "cell_type": "code",
   "execution_count": 13,
   "metadata": {},
   "outputs": [
    {
     "data": {
      "text/plain": [
       "1170"
      ]
     },
     "execution_count": 13,
     "metadata": {},
     "output_type": "execute_result"
    }
   ],
   "source": [
    "del test_df\n",
    "gc.collect()"
   ]
  },
  {
   "cell_type": "code",
   "execution_count": 14,
   "metadata": {},
   "outputs": [
    {
     "name": "stdout",
     "output_type": "stream",
     "text": [
      "Extracting new features...\n"
     ]
    }
   ],
   "source": [
    "print('Extracting new features...')\n",
    "train_df['hour'] = pd.to_datetime(train_df.click_time).dt.hour.astype('uint8')\n",
    "train_df['day'] = pd.to_datetime(train_df.click_time).dt.day.astype('uint8')"
   ]
  },
  {
   "cell_type": "code",
   "execution_count": 15,
   "metadata": {},
   "outputs": [
    {
     "name": "stdout",
     "output_type": "stream",
     "text": [
      "Extracting aggregation features...\n",
      "Cumulative count by  ['ip', 'device', 'os'] ...\n",
      "X1 max value =  101991\n",
      "Cumulative count by  ['ip'] ...\n",
      "X7 max value =  498745\n",
      "Counting unqiue  channel  by  ['ip'] ...\n",
      "X0 max value =  154\n",
      "Counting unqiue  hour  by  ['ip', 'day'] ...\n",
      "X2 max value =  13\n",
      "Counting unqiue  app  by  ['ip'] ...\n",
      "X3 max value =  210\n",
      "Counting unqiue  os  by  ['ip', 'app'] ...\n",
      "X4 max value =  117\n",
      "Counting unqiue  device  by  ['ip'] ...\n",
      "X5 max value =  267\n",
      "Counting unqiue  channel  by  ['app'] ...\n",
      "X6 max value =  44\n",
      "Counting unqiue  app  by  ['ip', 'device', 'os'] ...\n",
      "X8 max value =  78\n",
      "Aggregating by  ['ip', 'day', 'hour'] ...\n",
      "ip_tcount max value =  44259\n",
      "Aggregating by  ['ip', 'app'] ...\n",
      "ip_app_count max value =  70777\n",
      "Aggregating by  ['ip', 'app', 'os'] ...\n",
      "ip_app_os_count max value =  16873\n",
      "Calculating variance of  hour  by  ['ip', 'day', 'channel'] ...\n",
      "ip_tchan_count max value =  72.0\n",
      "Calculating variance of  hour  by  ['ip', 'app', 'os'] ...\n",
      "ip_app_os_var max value =  264.5\n",
      "Calculating variance of  day  by  ['ip', 'app', 'channel'] ...\n",
      "ip_app_channel_var_day max value =  2.0\n",
      "Calculating mean of  hour  by  ['ip', 'app', 'channel'] ...\n",
      "ip_app_channel_mean_hour max value =  23.0\n"
     ]
    },
    {
     "data": {
      "text/plain": [
       "56"
      ]
     },
     "execution_count": 15,
     "metadata": {},
     "output_type": "execute_result"
    }
   ],
   "source": [
    "print('Extracting aggregation features...')\n",
    "train_df = do_cumcount( train_df, ['ip', 'device', 'os'], 'app', 'X1', show_max=True ); gc.collect()\n",
    "train_df = do_cumcount( train_df, ['ip'], 'os', 'X7', show_max=True ); gc.collect()\n",
    "train_df = do_countuniq( train_df, ['ip'], 'channel', 'X0', 'uint8', show_max=True ); gc.collect()\n",
    "train_df = do_countuniq( train_df, ['ip', 'day'], 'hour', 'X2', 'uint8', show_max=True ); gc.collect()\n",
    "train_df = do_countuniq( train_df, ['ip'], 'app', 'X3', 'uint8', show_max=True ); gc.collect()\n",
    "train_df = do_countuniq( train_df, ['ip', 'app'], 'os', 'X4', 'uint8', show_max=True ); gc.collect()\n",
    "train_df = do_countuniq( train_df, ['ip'], 'device', 'X5', 'uint16', show_max=True ); gc.collect()\n",
    "train_df = do_countuniq( train_df, ['app'], 'channel', 'X6', show_max=True ); gc.collect()\n",
    "train_df = do_countuniq( train_df, ['ip', 'device', 'os'], 'app', 'X8', show_max=True ); gc.collect()\n",
    "train_df = do_count( train_df, ['ip', 'day', 'hour'], 'ip_tcount', show_max=True ); gc.collect()\n",
    "train_df = do_count( train_df, ['ip', 'app'], 'ip_app_count', show_max=True ); gc.collect()\n",
    "train_df = do_count( train_df, ['ip', 'app', 'os'], 'ip_app_os_count', 'uint16', show_max=True ); gc.collect()\n",
    "train_df = do_var( train_df, ['ip', 'day', 'channel'], 'hour', 'ip_tchan_count', show_max=True ); gc.collect()\n",
    "train_df = do_var( train_df, ['ip', 'app', 'os'], 'hour', 'ip_app_os_var', show_max=True ); gc.collect()\n",
    "train_df = do_var( train_df, ['ip', 'app', 'channel'], 'day', 'ip_app_channel_var_day', show_max=True ); gc.collect()\n",
    "train_df = do_mean( train_df, ['ip', 'app', 'channel'], 'hour', 'ip_app_channel_mean_hour', show_max=True ); gc.collect()"
   ]
  },
  {
   "cell_type": "code",
   "execution_count": 16,
   "metadata": {},
   "outputs": [
    {
     "name": "stdout",
     "output_type": "stream",
     "text": [
      "Doing nextClick...\n"
     ]
    },
    {
     "data": {
      "text/plain": [
       "57"
      ]
     },
     "execution_count": 16,
     "metadata": {},
     "output_type": "execute_result"
    }
   ],
   "source": [
    "print('Doing nextClick...')\n",
    "predictors=[]\n",
    "new_feature = 'nextClick'\n",
    "D=2**26\n",
    "train_df['category'] = (train_df['ip'].astype(str) + \"_\" + train_df['app'].astype(str) + \"_\" + train_df['device'].astype(str) \\\n",
    "        + \"_\" + train_df['os'].astype(str)).apply(hash) % D\n",
    "click_buffer= np.full(D, 3000000000, dtype=np.uint32)\n",
    "train_df['epochtime']= train_df['click_time'].astype(np.int64) // 10 ** 9\n",
    "next_clicks= []\n",
    "for category, t in zip(reversed(train_df['category'].values), reversed(train_df['epochtime'].values)):\n",
    "    next_clicks.append(click_buffer[category]-t)\n",
    "    click_buffer[category]= t\n",
    "del(click_buffer)\n",
    "QQ= list(reversed(next_clicks))\n",
    "train_df.drop(['epochtime','category','click_time'], axis=1, inplace=True)\n",
    "train_df[new_feature] = pd.Series(QQ).astype('float32')\n",
    "predictors.append(new_feature)\n",
    "train_df[new_feature+'_shift'] = train_df[new_feature].shift(+1).values\n",
    "predictors.append(new_feature+'_shift')\n",
    "del QQ, next_clicks\n",
    "gc.collect()"
   ]
  },
  {
   "cell_type": "code",
   "execution_count": 17,
   "metadata": {},
   "outputs": [
    {
     "data": {
      "text/plain": [
       "(52898422, 26)"
      ]
     },
     "execution_count": 17,
     "metadata": {},
     "output_type": "execute_result"
    }
   ],
   "source": [
    "train_df.shape"
   ]
  },
  {
   "cell_type": "code",
   "execution_count": 18,
   "metadata": {},
   "outputs": [
    {
     "name": "stdout",
     "output_type": "stream",
     "text": [
      "vars and data type: \n",
      "<class 'pandas.core.frame.DataFrame'>\n",
      "Int64Index: 52898422 entries, 0 to 52898421\n",
      "Data columns (total 26 columns):\n",
      "ip                          uint32\n",
      "app                         uint16\n",
      "device                      uint16\n",
      "os                          uint16\n",
      "channel                     uint16\n",
      "is_attributed               uint8\n",
      "hour                        uint8\n",
      "day                         uint8\n",
      "X1                          uint32\n",
      "X7                          uint32\n",
      "X0                          uint8\n",
      "X2                          uint8\n",
      "X3                          uint8\n",
      "X4                          uint8\n",
      "X5                          uint16\n",
      "X6                          uint32\n",
      "X8                          uint32\n",
      "ip_tcount                   uint32\n",
      "ip_app_count                uint32\n",
      "ip_app_os_count             uint16\n",
      "ip_tchan_count              float32\n",
      "ip_app_os_var               float32\n",
      "ip_app_channel_var_day      float32\n",
      "ip_app_channel_mean_hour    float32\n",
      "nextClick                   float32\n",
      "nextClick_shift             float32\n",
      "dtypes: float32(6), uint16(6), uint32(7), uint8(7)\n",
      "memory usage: 3.9 GB\n",
      "predictors ['nextClick', 'nextClick_shift', 'app', 'device', 'os', 'channel', 'hour', 'day', 'ip_tcount', 'ip_tchan_count', 'ip_app_count', 'ip_app_os_count', 'ip_app_os_var', 'ip_app_channel_var_day', 'ip_app_channel_mean_hour', 'X0', 'X1', 'X2', 'X3', 'X4', 'X5', 'X6', 'X7', 'X8']\n"
     ]
    }
   ],
   "source": [
    "print(\"vars and data type: \")\n",
    "train_df.info()\n",
    "train_df['ip_tcount'] = train_df['ip_tcount'].astype('uint16')\n",
    "train_df['ip_app_count'] = train_df['ip_app_count'].astype('uint16')\n",
    "train_df['ip_app_os_count'] = train_df['ip_app_os_count'].astype('uint16')\n",
    "\n",
    "target = 'is_attributed'\n",
    "predictors.extend(['app','device','os', 'channel', 'hour', 'day',\n",
    "              'ip_tcount', 'ip_tchan_count', 'ip_app_count',\n",
    "              'ip_app_os_count', 'ip_app_os_var',\n",
    "              'ip_app_channel_var_day','ip_app_channel_mean_hour',\n",
    "              'X0', 'X1', 'X2', 'X3', 'X4', 'X5', 'X6', 'X7', 'X8'])\n",
    "categorical = ['app', 'device', 'os', 'channel', 'hour', 'day']\n",
    "print('predictors',predictors)"
   ]
  },
  {
   "cell_type": "code",
   "execution_count": 19,
   "metadata": {},
   "outputs": [
    {
     "data": {
      "text/plain": [
       "2500000"
      ]
     },
     "execution_count": 19,
     "metadata": {},
     "output_type": "execute_result"
    }
   ],
   "source": [
    "val_size"
   ]
  },
  {
   "cell_type": "code",
   "execution_count": 20,
   "metadata": {},
   "outputs": [
    {
     "name": "stdout",
     "output_type": "stream",
     "text": [
      "train size:  29500000\n",
      "valid size:  2500000\n",
      "test size :  20898422\n"
     ]
    }
   ],
   "source": [
    "test_df = train_df[len_train:]\n",
    "val_df = train_df[(len_train-val_size):len_train]\n",
    "train_df = train_df[:(len_train-val_size)]\n",
    "\n",
    "print(\"train size: \", len(train_df))\n",
    "print(\"valid size: \", len(val_df))\n",
    "print(\"test size : \", len(test_df))"
   ]
  },
  {
   "cell_type": "code",
   "execution_count": 21,
   "metadata": {},
   "outputs": [
    {
     "data": {
      "text/plain": [
       "24"
      ]
     },
     "execution_count": 21,
     "metadata": {},
     "output_type": "execute_result"
    }
   ],
   "source": [
    "test_df.to_pickle('test.pkl.gz')\n",
    "del test_df\n",
    "gc.collect()"
   ]
  },
  {
   "cell_type": "code",
   "execution_count": 23,
   "metadata": {},
   "outputs": [
    {
     "name": "stdout",
     "output_type": "stream",
     "text": [
      "Training...\n"
     ]
    }
   ],
   "source": [
    "print(\"Training...\")\n",
    "start_time = time.time()\n",
    "\n",
    "objective='binary' \n",
    "metrics='auc'\n",
    "early_stopping_rounds=30 \n",
    "verbose_eval=True \n",
    "num_boost_round=1000\n",
    "categorical_features=categorical\n",
    "lgb_params = {\n",
    "    'boosting_type': 'gbdt',\n",
    "    'objective': objective,\n",
    "    'metric':metrics,\n",
    "    'learning_rate': 0.10,\n",
    "    #'is_unbalance': 'true', # replaced with scale_pos_weight argument\n",
    "    'num_leaves': 7,  # 2^max_depth - 1\n",
    "    'max_depth': 3,  # -1 means no limit\n",
    "    'min_child_samples': 100,  # Minimum number of data need in a child(min_data_in_leaf)\n",
    "    'max_bin': 100,  # Number of bucketed bin for feature values\n",
    "    'subsample': 0.7,  # Subsample ratio of the training instance.\n",
    "    'subsample_freq': 1,  # frequence of subsample, <=0 means no enable\n",
    "    'colsample_bytree': 0.9,  # Subsample ratio of columns when constructing each tree.\n",
    "    'min_child_weight': 0,  # Minimum sum of instance weight(hessian) needed in a child(leaf)\n",
    "    'scale_pos_weight':200, # because training data is extremely unbalanced \n",
    "    'subsample_for_bin': 200000,  # Number of samples for constructing bin\n",
    "    'min_split_gain': 0,  # lambda_l1, lambda_l2 and min_gain_to_split to regularization\n",
    "    'reg_alpha': 0,  # L1 regularization term on weights\n",
    "    'reg_lambda': 0,  # L2 regularization term on weights\n",
    "    'nthread': cores,\n",
    "    'verbose': 0,\n",
    "    'metric':metrics\n",
    "}\n"
   ]
  },
  {
   "cell_type": "code",
   "execution_count": 24,
   "metadata": {},
   "outputs": [
    {
     "name": "stdout",
     "output_type": "stream",
     "text": [
      "preparing validation datasets\n",
      "      nextClick  nextClick_shift  app  device  os  channel  hour  day  \\\n",
      "0  5.267600e+04              NaN    1       1  19      134    11    7   \n",
      "1  1.489944e+09     5.267600e+04   15       1  14      480    11    7   \n",
      "2  1.960000e+02     1.489944e+09   12       1  19      178    11    7   \n",
      "3  5.223600e+04     1.960000e+02    9       1  22      244    11    7   \n",
      "4  1.489944e+09     5.223600e+04   11       1   7      122    11    7   \n",
      "\n",
      "   ip_tcount  ip_tchan_count ...  ip_app_channel_mean_hour   X0  X1  X2  X3  \\\n",
      "0          4       39.799999 ...                  6.500000   66   0  10  26   \n",
      "1          7        3.000000 ...                 12.500000   26   0   4  15   \n",
      "2        264       12.297750 ...                 10.822472  121   0  13  72   \n",
      "3         14       16.923077 ...                 11.160000  115   0  13  53   \n",
      "4         21        3.300000 ...                 11.000000   57   0   5  25   \n",
      "\n",
      "   X4  X5  X6  X7  X8  \n",
      "0   4   3  30   0  18  \n",
      "1   5   1  30   0   7  \n",
      "2  54  10  32   0  33  \n",
      "3  29  10  41   0  16  \n",
      "4   3   3  17   0   6  \n",
      "\n",
      "[5 rows x 24 columns]\n",
      "0    0\n",
      "1    0\n",
      "2    0\n",
      "3    0\n",
      "4    0\n",
      "Name: is_attributed, dtype: uint8\n",
      "             nextClick  nextClick_shift  app  device  os  channel  hour  day  \\\n",
      "29500000  7.000000e+00     1.489892e+09   14       1  19      113     2    8   \n",
      "29500001  1.489892e+09     7.000000e+00   93       1  19      371     2    8   \n",
      "29500002  6.230000e+02     1.489892e+09    3       1   3      280     2    8   \n",
      "29500003  1.032000e+03     6.230000e+02   14       1  19      439     2    8   \n",
      "29500004  1.680000e+02     1.032000e+03    2       1  13      237     2    8   \n",
      "\n",
      "          ip_tcount  ip_tchan_count ...  ip_app_channel_mean_hour   X0    X1  \\\n",
      "29500000        741        0.000000 ...                  2.000000  127  3048   \n",
      "29500001        108        0.800000 ...                  2.000000   87    42   \n",
      "29500002        254        0.720000 ...                 10.406522  127    61   \n",
      "29500003        196        0.692308 ...                 11.133333  114   517   \n",
      "29500004        478        0.549858 ...                  4.377049  123   600   \n",
      "\n",
      "          X2  X3  X4  X5  X6     X7  X8  \n",
      "29500000   3  63  45  12  36  11582  35  \n",
      "29500001   3  33   2   4   1    284  21  \n",
      "29500002   3  49  59  10  44   4614  13  \n",
      "29500003   3  55  30  14  36   2171  33  \n",
      "29500004   3  59  37  12  25   2666  33  \n",
      "\n",
      "[5 rows x 24 columns]\n",
      "29500000    0\n",
      "29500001    0\n",
      "29500002    0\n",
      "29500003    0\n",
      "29500004    0\n",
      "Name: is_attributed, dtype: uint8\n"
     ]
    },
    {
     "data": {
      "text/plain": [
       "277"
      ]
     },
     "execution_count": 24,
     "metadata": {},
     "output_type": "execute_result"
    }
   ],
   "source": [
    "print(\"preparing validation datasets\")\n",
    "xgtrain = lgb.Dataset(train_df[predictors].values, label=train_df[target].values,\n",
    "                      feature_name=predictors,\n",
    "                      categorical_feature=categorical\n",
    "                      )\n",
    "                      \n",
    "print( train_df[predictors].head() )\n",
    "print( train_df[target].head() )\n",
    "print( val_df[predictors].head() )\n",
    "print( val_df[target].head() )\n",
    "\n",
    "del train_df\n",
    "if WHERE != 'kaggle':\n",
    "    xgtrain.save_binary('xgtrain.bin')\n",
    "    del xgtrain\n",
    "xgvalid = lgb.Dataset(val_df[predictors].values, label=val_df[target].values,\n",
    "                      feature_name=predictors,\n",
    "                      categorical_feature=categorical\n",
    "                      )\n",
    "del val_df\n",
    "gc.collect()"
   ]
  },
  {
   "cell_type": "code",
   "execution_count": 25,
   "metadata": {},
   "outputs": [
    {
     "name": "stdout",
     "output_type": "stream",
     "text": [
      "{'boosting_type': 'gbdt', 'objective': 'binary', 'metric': 'auc', 'learning_rate': 0.1, 'num_leaves': 7, 'max_depth': 3, 'min_child_samples': 100, 'max_bin': 100, 'subsample': 0.7, 'subsample_freq': 1, 'colsample_bytree': 0.9, 'min_child_weight': 0, 'scale_pos_weight': 200, 'subsample_for_bin': 200000, 'min_split_gain': 0, 'reg_alpha': 0, 'reg_lambda': 0, 'nthread': 4, 'verbose': 0}\n"
     ]
    },
    {
     "name": "stderr",
     "output_type": "stream",
     "text": [
      "/home/kai/anaconda3/lib/python3.6/site-packages/lightgbm/basic.py:1027: UserWarning: Using categorical_feature in Dataset.\n",
      "  warnings.warn('Using categorical_feature in Dataset.')\n",
      "/home/kai/anaconda3/lib/python3.6/site-packages/lightgbm/basic.py:668: UserWarning: categorical_feature in param dict is overrided.\n",
      "  warnings.warn('categorical_feature in param dict is overrided.')\n"
     ]
    },
    {
     "name": "stdout",
     "output_type": "stream",
     "text": [
      "Training until validation scores don't improve for 30 rounds.\n",
      "[10]\tvalid's auc: 0.970404\n",
      "[20]\tvalid's auc: 0.973745\n",
      "[30]\tvalid's auc: 0.977031\n",
      "[40]\tvalid's auc: 0.97874\n",
      "[50]\tvalid's auc: 0.97971\n",
      "[60]\tvalid's auc: 0.980383\n",
      "[70]\tvalid's auc: 0.98094\n",
      "[80]\tvalid's auc: 0.981454\n",
      "[90]\tvalid's auc: 0.981854\n",
      "[100]\tvalid's auc: 0.981945\n",
      "[110]\tvalid's auc: 0.982267\n",
      "[120]\tvalid's auc: 0.982498\n",
      "[130]\tvalid's auc: 0.982708\n",
      "[140]\tvalid's auc: 0.982765\n",
      "[150]\tvalid's auc: 0.982961\n",
      "[160]\tvalid's auc: 0.98307\n",
      "[170]\tvalid's auc: 0.983074\n",
      "[180]\tvalid's auc: 0.983111\n",
      "[190]\tvalid's auc: 0.983117\n",
      "[200]\tvalid's auc: 0.98319\n",
      "[210]\tvalid's auc: 0.98323\n",
      "[220]\tvalid's auc: 0.983256\n",
      "[230]\tvalid's auc: 0.98328\n",
      "[240]\tvalid's auc: 0.98329\n",
      "[250]\tvalid's auc: 0.983305\n",
      "[260]\tvalid's auc: 0.983269\n",
      "[270]\tvalid's auc: 0.983315\n",
      "[280]\tvalid's auc: 0.983352\n",
      "[290]\tvalid's auc: 0.983325\n",
      "[300]\tvalid's auc: 0.983343\n",
      "[310]\tvalid's auc: 0.983307\n",
      "Early stopping, best iteration is:\n",
      "[284]\tvalid's auc: 0.983363\n",
      "\n",
      "Model Report\n",
      "bst.best_iteration:  284\n",
      "auc: 0.983362892587\n",
      "[313.64611411094666]: model training time\n"
     ]
    }
   ],
   "source": [
    "evals_results = {}\n",
    "\n",
    "if WHERE != 'kaggle':\n",
    "    xgtrain = lgb.Dataset('xgtrain.bin',\n",
    "                          feature_name=predictors,\n",
    "                          categorical_feature=categorical\n",
    "                          )\n",
    "                      \n",
    "print( lgb_params )\n",
    "bst = lgb.train(lgb_params, \n",
    "                 xgtrain, \n",
    "                 valid_sets=[xgvalid], \n",
    "                 valid_names=['valid'], \n",
    "                 evals_result=evals_results, \n",
    "                 num_boost_round=num_boost_round,\n",
    "                 early_stopping_rounds=early_stopping_rounds,\n",
    "                 verbose_eval=10, \n",
    "                 feval=None)\n",
    "\n",
    "print(\"\\nModel Report\")\n",
    "print(\"bst.best_iteration: \", bst.best_iteration)\n",
    "print(metrics+\":\", evals_results['valid'][metrics][bst.best_iteration-1])\n",
    "\n",
    "\n",
    "print('[{}]: model training time'.format(time.time() - start_time))"
   ]
  },
  {
   "cell_type": "code",
   "execution_count": 26,
   "metadata": {},
   "outputs": [
    {
     "name": "stdout",
     "output_type": "stream",
     "text": [
      "Plot feature importances\n"
     ]
    },
    {
     "data": {
      "image/png": "[encoded data removed]",
      "text/plain": [
       "<matplotlib.figure.Figure at 0x7fe233082dd8>"
      ]
     },
     "metadata": {},
     "output_type": "display_data"
    },
    {
     "data": {
      "image/png": "[encoded data removed]",
      "text/plain": [
       "<matplotlib.figure.Figure at 0x7fe233180d68>"
      ]
     },
     "metadata": {},
     "output_type": "display_data"
    }
   ],
   "source": [
    "if WHERE!='gcloud':\n",
    "    print('Plot feature importances')\n",
    "    lgb.plot_importance(bst, max_num_features=100, title='Feature importance (split(default))')\n",
    "    lgb.plot_importance(bst, max_num_features=100, title='Feature importance (gain)', importance_type='gain')\n",
    "    plt.show()"
   ]
  },
  {
   "cell_type": "code",
   "execution_count": 27,
   "metadata": {},
   "outputs": [
    {
     "name": "stdout",
     "output_type": "stream",
     "text": [
      "Re-reading test data...\n",
      "Predicting...\n",
      "\n",
      "\n",
      "FULL VALIDATION SCORE:     0.979040335773\n",
      "PUBLIC VALIDATION SCORE:   0.975967468009\n",
      "PRIVATE VALIDATION SCORE:  0.979914132843\n"
     ]
    }
   ],
   "source": [
    "print(\"Re-reading test data...\")\n",
    "test_df = pd.read_pickle('test.pkl.gz')\n",
    "sub = pd.DataFrame()\n",
    "\n",
    "print(\"Predicting...\")\n",
    "y_pred = bst.predict(test_df[predictors],num_iteration=bst.best_iteration)\n",
    "outsuf = ''\n",
    "if VAL_RUN:\n",
    "    print(  \"\\n\\nFULL VALIDATION SCORE:    \", \n",
    "            roc_auc_score( y_test, y_pred )  )\n",
    "    print(  \"PUBLIC VALIDATION SCORE:  \", \n",
    "            roc_auc_score( y_test[:public_cutoff], y_pred[:public_cutoff] )  )\n",
    "    print(  \"PRIVATE VALIDATION SCORE: \",\n",
    "            roc_auc_score( y_test[public_cutoff:], y_pred[public_cutoff:] )  )\n",
    "    outsuf = '_val'\n",
    "    sub['click_id'] = pd.Series(range(len(test_df))).astype('uint32').values\n",
    "else:\n",
    "    sub['click_id'] = test_df['click_id'].astype('uint32').values"
   ]
  },
  {
   "cell_type": "code",
   "execution_count": 30,
   "metadata": {},
   "outputs": [
    {
     "data": {
      "text/plain": [
       "(4032690, 20898422, 0.19296624405421614)"
      ]
     },
     "execution_count": 30,
     "metadata": {},
     "output_type": "execute_result"
    }
   ],
   "source": [
    "public_cutoff, len(y_test), public_cutoff/len(y_test)"
   ]
  },
  {
   "cell_type": "code",
   "execution_count": 33,
   "metadata": {},
   "outputs": [
    {
     "data": {
      "text/plain": [
       "(4, '_val')"
      ]
     },
     "execution_count": 33,
     "metadata": {},
     "output_type": "execute_result"
    }
   ],
   "source": [
    "fileno, outsuf"
   ]
  },
  {
   "cell_type": "code",
   "execution_count": 31,
   "metadata": {},
   "outputs": [
    {
     "name": "stdout",
     "output_type": "stream",
     "text": [
      "\n",
      "writing...\n",
      "\n",
      "done...\n",
      "   click_id  is_attributed\n",
      "0         0       0.001558\n",
      "1         1       0.036643\n",
      "2         2       0.014622\n",
      "3         3       0.003797\n",
      "4         4       0.084995\n",
      "5         5       0.122013\n",
      "6         6       0.051228\n",
      "7         7       0.014313\n",
      "8         8       0.014426\n",
      "9         9       0.076432\n"
     ]
    }
   ],
   "source": [
    "if WHERE != 'kaggle':\n",
    "    os.remove('xgtrain.bin')\n",
    "#os.remove('test.pkl.gz')\n",
    "sub['is_attributed'] = y_pred\n",
    "if not debug:\n",
    "    print(\"\\nwriting...\")\n",
    "    sub.to_csv('sub_it_%s'%(fileno)+outsuf+'.csv.gz', index=False, float_format='%.9f', compression='gzip')\n",
    "print(\"\\ndone...\")\n",
    "print( sub.head(10) )"
   ]
  },
  {
   "cell_type": "code",
   "execution_count": null,
   "metadata": {
    "collapsed": true
   },
   "outputs": [],
   "source": []
  }
 ],
 "metadata": {
  "kernelspec": {
   "display_name": "Python 3",
   "language": "python",
   "name": "python3"
  },
  "language_info": {
   "codemirror_mode": {
    "name": "ipython",
    "version": 3
   },
   "file_extension": ".py",
   "mimetype": "text/x-python",
   "name": "python",
   "nbconvert_exporter": "python",
   "pygments_lexer": "ipython3",
   "version": "3.6.3"
  }
 },
 "nbformat": 4,
 "nbformat_minor": 2
}
