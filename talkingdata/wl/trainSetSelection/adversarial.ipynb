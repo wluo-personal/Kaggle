{
 "cells": [
  {
   "cell_type": "code",
   "execution_count": 17,
   "metadata": {
    "collapsed": true
   },
   "outputs": [],
   "source": [
    "import pandas as pd\n",
    "import numpy as np\n",
    "import lightgbm as lgb"
   ]
  },
  {
   "cell_type": "code",
   "execution_count": 2,
   "metadata": {
    "collapsed": true
   },
   "outputs": [],
   "source": [
    "path = '/home/kai/data/kaggle/talkingdata/data/'\n",
    "train = pd.read_csv(path + 'train_cleaned_final.csv')\n",
    "test = pd.read_csv(path + 'test_cleaned_final.csv')\n",
    "\n",
    "train.drop(['is_attributed', 'day', 'timestamp'], axis=1, inplace = True)\n",
    "test.drop(['day', 'timestamp'], axis=1, inplace = True)"
   ]
  },
  {
   "cell_type": "code",
   "execution_count": 5,
   "metadata": {},
   "outputs": [
    {
     "data": {
      "text/plain": [
       "26"
      ]
     },
     "execution_count": 5,
     "metadata": {},
     "output_type": "execute_result"
    }
   ],
   "source": [
    "test = test[list(train.columns)]\n",
    "df_all = pd.concat([train,test])\n",
    "\n",
    "train_length = len(train)\n",
    "test_length = len(test)\n",
    "\n",
    "import gc\n",
    "del train\n",
    "del test\n",
    "gc.collect()\n",
    "\n",
    "label = np.concatenate([np.zeros(train_length), np.ones(test_length)]) \n",
    "df_all['label'] = label\n",
    "\n",
    "import sys\n",
    "print(sys.getsizeof(df_all) / 1024**3)"
   ]
  },
  {
   "cell_type": "markdown",
   "metadata": {},
   "source": [
    "# prepare train, val"
   ]
  },
  {
   "cell_type": "code",
   "execution_count": 18,
   "metadata": {},
   "outputs": [],
   "source": [
    "from sklearn.model_selection import train_test_split\n",
    "trainset, valset = train_test_split(df_all.sample(frac=1, random_state=233),test_size=0.3, random_state=42)"
   ]
  },
  {
   "cell_type": "code",
   "execution_count": 19,
   "metadata": {
    "collapsed": true
   },
   "outputs": [],
   "source": [
    "categorical_col = ['ip', 'app', 'device', 'os', 'channel']\n",
    "feature_cols = ['ip', 'app', 'device', 'os', 'channel', 'hour', 'minute', 'second']"
   ]
  },
  {
   "cell_type": "markdown",
   "metadata": {},
   "source": [
    "# Train LGB"
   ]
  },
  {
   "cell_type": "code",
   "execution_count": 25,
   "metadata": {},
   "outputs": [
    {
     "data": {
      "text/plain": [
       "354"
      ]
     },
     "execution_count": 25,
     "metadata": {},
     "output_type": "execute_result"
    }
   ],
   "source": [
    "target = 'label'\n",
    "y_train = trainset[target].values\n",
    "y_val = valset[target].values\n",
    "\n",
    "lgb_train = lgb.Dataset(trainset[feature_cols], y_train, categorical_feature = categorical_col)\n",
    "lgb_val = lgb.Dataset(valset[feature_cols], y_val, categorical_feature = categorical_col)\n",
    "\n",
    "zeros = len(y_train[y_train == 0])\n",
    "# scale_pos_weight = len(y_train[y_train == 0]) / len(y_train[y_train == 1])\n",
    "import gc\n",
    "gc.collect()"
   ]
  },
  {
   "cell_type": "code",
   "execution_count": 26,
   "metadata": {},
   "outputs": [
    {
     "name": "stderr",
     "output_type": "stream",
     "text": [
      "/home/kai/anaconda3/lib/python3.6/site-packages/lightgbm/engine.py:99: UserWarning: Found `num_rounds` in params. Will use it instead of argument\n",
      "  warnings.warn(\"Found `{}` in params. Will use it instead of argument\".format(alias))\n",
      "/home/kai/anaconda3/lib/python3.6/site-packages/lightgbm/engine.py:104: UserWarning: Found `early_stopping_round` in params. Will use it instead of argument\n",
      "  warnings.warn(\"Found `{}` in params. Will use it instead of argument\".format(alias))\n",
      "/home/kai/anaconda3/lib/python3.6/site-packages/lightgbm/basic.py:1027: UserWarning: Using categorical_feature in Dataset.\n",
      "  warnings.warn('Using categorical_feature in Dataset.')\n",
      "/home/kai/anaconda3/lib/python3.6/site-packages/lightgbm/basic.py:668: UserWarning: categorical_feature in param dict is overrided.\n",
      "  warnings.warn('categorical_feature in param dict is overrided.')\n"
     ]
    },
    {
     "name": "stdout",
     "output_type": "stream",
     "text": [
      "Training until validation scores don't improve for 30 rounds.\n",
      "[10]\tvalid_0's binary_logloss: 0.337234\n",
      "[20]\tvalid_0's binary_logloss: 0.249118\n",
      "[30]\tvalid_0's binary_logloss: 0.21775\n",
      "[40]\tvalid_0's binary_logloss: 0.20609\n",
      "[50]\tvalid_0's binary_logloss: 0.20056\n",
      "[60]\tvalid_0's binary_logloss: 0.197744\n",
      "[70]\tvalid_0's binary_logloss: 0.196125\n",
      "[80]\tvalid_0's binary_logloss: 0.195042\n",
      "[90]\tvalid_0's binary_logloss: 0.194081\n",
      "[100]\tvalid_0's binary_logloss: 0.193317\n",
      "[110]\tvalid_0's binary_logloss: 0.192665\n",
      "[120]\tvalid_0's binary_logloss: 0.191849\n",
      "[130]\tvalid_0's binary_logloss: 0.191469\n",
      "[140]\tvalid_0's binary_logloss: 0.191171\n",
      "[150]\tvalid_0's binary_logloss: 0.190881\n",
      "[160]\tvalid_0's binary_logloss: 0.190444\n",
      "[170]\tvalid_0's binary_logloss: 0.19\n",
      "[180]\tvalid_0's binary_logloss: 0.189669\n",
      "[190]\tvalid_0's binary_logloss: 0.189448\n",
      "[200]\tvalid_0's binary_logloss: 0.18911\n",
      "[210]\tvalid_0's binary_logloss: 0.188911\n",
      "[220]\tvalid_0's binary_logloss: 0.188544\n",
      "[230]\tvalid_0's binary_logloss: 0.188373\n",
      "[240]\tvalid_0's binary_logloss: 0.188225\n",
      "[250]\tvalid_0's binary_logloss: 0.187897\n",
      "[260]\tvalid_0's binary_logloss: 0.18778\n",
      "[270]\tvalid_0's binary_logloss: 0.187641\n",
      "[280]\tvalid_0's binary_logloss: 0.187457\n",
      "[290]\tvalid_0's binary_logloss: 0.187255\n",
      "[300]\tvalid_0's binary_logloss: 0.187144\n",
      "[310]\tvalid_0's binary_logloss: 0.187009\n",
      "[320]\tvalid_0's binary_logloss: 0.186926\n",
      "[330]\tvalid_0's binary_logloss: 0.186697\n",
      "[340]\tvalid_0's binary_logloss: 0.186619\n",
      "[350]\tvalid_0's binary_logloss: 0.186387\n",
      "[360]\tvalid_0's binary_logloss: 0.18631\n",
      "[370]\tvalid_0's binary_logloss: 0.186137\n",
      "[380]\tvalid_0's binary_logloss: 0.186026\n",
      "[390]\tvalid_0's binary_logloss: 0.18587\n",
      "[400]\tvalid_0's binary_logloss: 0.185738\n",
      "[410]\tvalid_0's binary_logloss: 0.185665\n",
      "[420]\tvalid_0's binary_logloss: 0.185569\n",
      "[430]\tvalid_0's binary_logloss: 0.185491\n",
      "[440]\tvalid_0's binary_logloss: 0.1854\n",
      "[450]\tvalid_0's binary_logloss: 0.185355\n",
      "[460]\tvalid_0's binary_logloss: 0.185278\n",
      "[470]\tvalid_0's binary_logloss: 0.185191\n",
      "[480]\tvalid_0's binary_logloss: 0.185044\n",
      "[490]\tvalid_0's binary_logloss: 0.184993\n",
      "[500]\tvalid_0's binary_logloss: 0.184938\n",
      "Did not meet early stopping. Best iteration is:\n",
      "[500]\tvalid_0's binary_logloss: 0.184938\n"
     ]
    }
   ],
   "source": [
    "params = {\n",
    "        'objective': 'binary',\n",
    "        'boosting': 'gbdt',\n",
    "        'num_rounds': 500,\n",
    "        'learning_rate': 0.1,\n",
    "        'num_leaves': 9,\n",
    "        'num_threads': 20, # best speed: set to number of real cpu cores, which is vCPU/2\n",
    "        'device': 'cpu',\n",
    "        'max_depth': -1, # no limit. This is used to deal with over-fitting when #data is small.\n",
    "        'min_data_in_leaf': 20,  #minimal number of data in one leaf. Can be used to deal with over-fitting\n",
    "        'feature_fraction': 0.9, #For example, if set to 0.8, will select 80% features before training each tree.  speed up training / deal with over-fitting\n",
    "        'feature_fraction_seed': 1,\n",
    "        'early_stopping_round':30,\n",
    "        'bagging_fraction': 0.9, #Randomly select part of data without resampling\n",
    "        'bagging_freq': 1, #frequency for bagging, 0 means disable bagging. k means will perform bagging at every k iteration. to enable bagging, bagging_fraction should be set as well\n",
    "        'bagging_seed': 1,\n",
    "        #'max_bin': 255,\n",
    "        'verbose': 0,\n",
    "#         'scale_pos_weight': scale_pos_weight,\n",
    "        'metric' : 'binary_logloss'\n",
    "    }\n",
    "\n",
    "model = lgb.train(params, train_set=lgb_train, valid_sets=lgb_val, verbose_eval=10)"
   ]
  },
  {
   "cell_type": "code",
   "execution_count": 27,
   "metadata": {},
   "outputs": [
    {
     "name": "stdout",
     "output_type": "stream",
     "text": [
      "0.903355469931\n"
     ]
    }
   ],
   "source": [
    "from sklearn.metrics import roc_auc_score\n",
    "pred = model.predict(df_all[feature_cols])\n",
    "df_all['pred'] = pred\n",
    "print(roc_auc_score(df_all[target].values,pred))"
   ]
  },
  {
   "cell_type": "markdown",
   "metadata": {},
   "source": [
    "# Calculate how many values are greater than 0.5"
   ]
  },
  {
   "cell_type": "code",
   "execution_count": 29,
   "metadata": {},
   "outputs": [],
   "source": [
    "train = df_all.iloc[:train_length]\n",
    "train['pred'].to_csv('/home/kai/data/kaggle/talkingdata/wl/data/trainset/train_prediction.csv')"
   ]
  },
  {
   "cell_type": "code",
   "execution_count": 42,
   "metadata": {
    "collapsed": true
   },
   "outputs": [],
   "source": [
    "\n",
    "train_final = train.sort_values(['pred'], ascending = False)"
   ]
  },
  {
   "cell_type": "code",
   "execution_count": null,
   "metadata": {
    "collapsed": true
   },
   "outputs": [],
   "source": [
    "thresh = 5000* 10000\n",
    "index = list(train_final.index.values[:thresh])\n"
   ]
  },
  {
   "cell_type": "code",
   "execution_count": null,
   "metadata": {
    "collapsed": true
   },
   "outputs": [],
   "source": []
  },
  {
   "cell_type": "code",
   "execution_count": 33,
   "metadata": {
    "collapsed": true
   },
   "outputs": [],
   "source": [
    "sss = pd.read_csv('/home/kai/data/kaggle/talkingdata/wl/data/trainset/train_prediction.csv',header = None)\n",
    "sss.columns = ['index', 'preds']"
   ]
  },
  {
   "cell_type": "code",
   "execution_count": 43,
   "metadata": {},
   "outputs": [
    {
     "data": {
      "text/html": [
       "<div>\n",
       "<style>\n",
       "    .dataframe thead tr:only-child th {\n",
       "        text-align: right;\n",
       "    }\n",
       "\n",
       "    .dataframe thead th {\n",
       "        text-align: left;\n",
       "    }\n",
       "\n",
       "    .dataframe tbody tr th {\n",
       "        vertical-align: top;\n",
       "    }\n",
       "</style>\n",
       "<table border=\"1\" class=\"dataframe\">\n",
       "  <thead>\n",
       "    <tr style=\"text-align: right;\">\n",
       "      <th></th>\n",
       "      <th>ip</th>\n",
       "      <th>app</th>\n",
       "      <th>device</th>\n",
       "      <th>os</th>\n",
       "      <th>channel</th>\n",
       "      <th>hour</th>\n",
       "      <th>minute</th>\n",
       "      <th>second</th>\n",
       "      <th>label</th>\n",
       "      <th>pred</th>\n",
       "    </tr>\n",
       "  </thead>\n",
       "  <tbody>\n",
       "    <tr>\n",
       "      <th>180816932</th>\n",
       "      <td>55887</td>\n",
       "      <td>2</td>\n",
       "      <td>1</td>\n",
       "      <td>23</td>\n",
       "      <td>236</td>\n",
       "      <td>14</td>\n",
       "      <td>40</td>\n",
       "      <td>43</td>\n",
       "      <td>0.0</td>\n",
       "      <td>0.986282</td>\n",
       "    </tr>\n",
       "    <tr>\n",
       "      <th>179963509</th>\n",
       "      <td>55887</td>\n",
       "      <td>9</td>\n",
       "      <td>1</td>\n",
       "      <td>13</td>\n",
       "      <td>244</td>\n",
       "      <td>14</td>\n",
       "      <td>25</td>\n",
       "      <td>48</td>\n",
       "      <td>0.0</td>\n",
       "      <td>0.983687</td>\n",
       "    </tr>\n",
       "    <tr>\n",
       "      <th>181853618</th>\n",
       "      <td>55887</td>\n",
       "      <td>9</td>\n",
       "      <td>1</td>\n",
       "      <td>13</td>\n",
       "      <td>244</td>\n",
       "      <td>14</td>\n",
       "      <td>59</td>\n",
       "      <td>32</td>\n",
       "      <td>0.0</td>\n",
       "      <td>0.983590</td>\n",
       "    </tr>\n",
       "    <tr>\n",
       "      <th>165502973</th>\n",
       "      <td>55887</td>\n",
       "      <td>9</td>\n",
       "      <td>1</td>\n",
       "      <td>6</td>\n",
       "      <td>107</td>\n",
       "      <td>10</td>\n",
       "      <td>9</td>\n",
       "      <td>57</td>\n",
       "      <td>0.0</td>\n",
       "      <td>0.982393</td>\n",
       "    </tr>\n",
       "    <tr>\n",
       "      <th>180816969</th>\n",
       "      <td>55887</td>\n",
       "      <td>12</td>\n",
       "      <td>1</td>\n",
       "      <td>23</td>\n",
       "      <td>340</td>\n",
       "      <td>14</td>\n",
       "      <td>40</td>\n",
       "      <td>43</td>\n",
       "      <td>0.0</td>\n",
       "      <td>0.982295</td>\n",
       "    </tr>\n",
       "    <tr>\n",
       "      <th>168068086</th>\n",
       "      <td>55887</td>\n",
       "      <td>9</td>\n",
       "      <td>1</td>\n",
       "      <td>13</td>\n",
       "      <td>107</td>\n",
       "      <td>10</td>\n",
       "      <td>56</td>\n",
       "      <td>33</td>\n",
       "      <td>0.0</td>\n",
       "      <td>0.982288</td>\n",
       "    </tr>\n",
       "    <tr>\n",
       "      <th>179993287</th>\n",
       "      <td>55887</td>\n",
       "      <td>26</td>\n",
       "      <td>1</td>\n",
       "      <td>27</td>\n",
       "      <td>477</td>\n",
       "      <td>14</td>\n",
       "      <td>26</td>\n",
       "      <td>17</td>\n",
       "      <td>0.0</td>\n",
       "      <td>0.980962</td>\n",
       "    </tr>\n",
       "    <tr>\n",
       "      <th>162257984</th>\n",
       "      <td>55887</td>\n",
       "      <td>18</td>\n",
       "      <td>1</td>\n",
       "      <td>19</td>\n",
       "      <td>107</td>\n",
       "      <td>9</td>\n",
       "      <td>5</td>\n",
       "      <td>50</td>\n",
       "      <td>0.0</td>\n",
       "      <td>0.980674</td>\n",
       "    </tr>\n",
       "    <tr>\n",
       "      <th>168039103</th>\n",
       "      <td>55887</td>\n",
       "      <td>15</td>\n",
       "      <td>1</td>\n",
       "      <td>13</td>\n",
       "      <td>265</td>\n",
       "      <td>10</td>\n",
       "      <td>56</td>\n",
       "      <td>2</td>\n",
       "      <td>0.0</td>\n",
       "      <td>0.980238</td>\n",
       "    </tr>\n",
       "    <tr>\n",
       "      <th>168048768</th>\n",
       "      <td>55887</td>\n",
       "      <td>3</td>\n",
       "      <td>1</td>\n",
       "      <td>13</td>\n",
       "      <td>379</td>\n",
       "      <td>10</td>\n",
       "      <td>56</td>\n",
       "      <td>12</td>\n",
       "      <td>0.0</td>\n",
       "      <td>0.980124</td>\n",
       "    </tr>\n",
       "    <tr>\n",
       "      <th>181507514</th>\n",
       "      <td>55887</td>\n",
       "      <td>9</td>\n",
       "      <td>59</td>\n",
       "      <td>17</td>\n",
       "      <td>107</td>\n",
       "      <td>14</td>\n",
       "      <td>53</td>\n",
       "      <td>10</td>\n",
       "      <td>0.0</td>\n",
       "      <td>0.980026</td>\n",
       "    </tr>\n",
       "    <tr>\n",
       "      <th>180023464</th>\n",
       "      <td>55887</td>\n",
       "      <td>18</td>\n",
       "      <td>1</td>\n",
       "      <td>27</td>\n",
       "      <td>134</td>\n",
       "      <td>14</td>\n",
       "      <td>26</td>\n",
       "      <td>48</td>\n",
       "      <td>0.0</td>\n",
       "      <td>0.980010</td>\n",
       "    </tr>\n",
       "    <tr>\n",
       "      <th>168049672</th>\n",
       "      <td>55887</td>\n",
       "      <td>2</td>\n",
       "      <td>1</td>\n",
       "      <td>13</td>\n",
       "      <td>452</td>\n",
       "      <td>10</td>\n",
       "      <td>56</td>\n",
       "      <td>13</td>\n",
       "      <td>0.0</td>\n",
       "      <td>0.979674</td>\n",
       "    </tr>\n",
       "    <tr>\n",
       "      <th>168060781</th>\n",
       "      <td>55887</td>\n",
       "      <td>2</td>\n",
       "      <td>1</td>\n",
       "      <td>13</td>\n",
       "      <td>452</td>\n",
       "      <td>10</td>\n",
       "      <td>56</td>\n",
       "      <td>25</td>\n",
       "      <td>0.0</td>\n",
       "      <td>0.979674</td>\n",
       "    </tr>\n",
       "    <tr>\n",
       "      <th>179977504</th>\n",
       "      <td>55887</td>\n",
       "      <td>9</td>\n",
       "      <td>1</td>\n",
       "      <td>6</td>\n",
       "      <td>107</td>\n",
       "      <td>14</td>\n",
       "      <td>26</td>\n",
       "      <td>1</td>\n",
       "      <td>0.0</td>\n",
       "      <td>0.979060</td>\n",
       "    </tr>\n",
       "    <tr>\n",
       "      <th>179972765</th>\n",
       "      <td>55887</td>\n",
       "      <td>9</td>\n",
       "      <td>1</td>\n",
       "      <td>6</td>\n",
       "      <td>107</td>\n",
       "      <td>14</td>\n",
       "      <td>25</td>\n",
       "      <td>57</td>\n",
       "      <td>0.0</td>\n",
       "      <td>0.979060</td>\n",
       "    </tr>\n",
       "    <tr>\n",
       "      <th>180046781</th>\n",
       "      <td>55887</td>\n",
       "      <td>9</td>\n",
       "      <td>1</td>\n",
       "      <td>27</td>\n",
       "      <td>107</td>\n",
       "      <td>14</td>\n",
       "      <td>27</td>\n",
       "      <td>12</td>\n",
       "      <td>0.0</td>\n",
       "      <td>0.979060</td>\n",
       "    </tr>\n",
       "    <tr>\n",
       "      <th>181846667</th>\n",
       "      <td>55887</td>\n",
       "      <td>17</td>\n",
       "      <td>1</td>\n",
       "      <td>23</td>\n",
       "      <td>128</td>\n",
       "      <td>14</td>\n",
       "      <td>59</td>\n",
       "      <td>24</td>\n",
       "      <td>0.0</td>\n",
       "      <td>0.978878</td>\n",
       "    </tr>\n",
       "    <tr>\n",
       "      <th>180042633</th>\n",
       "      <td>55887</td>\n",
       "      <td>14</td>\n",
       "      <td>1</td>\n",
       "      <td>27</td>\n",
       "      <td>134</td>\n",
       "      <td>14</td>\n",
       "      <td>27</td>\n",
       "      <td>8</td>\n",
       "      <td>0.0</td>\n",
       "      <td>0.978577</td>\n",
       "    </tr>\n",
       "    <tr>\n",
       "      <th>180041414</th>\n",
       "      <td>55887</td>\n",
       "      <td>3</td>\n",
       "      <td>1</td>\n",
       "      <td>27</td>\n",
       "      <td>137</td>\n",
       "      <td>14</td>\n",
       "      <td>27</td>\n",
       "      <td>7</td>\n",
       "      <td>0.0</td>\n",
       "      <td>0.978011</td>\n",
       "    </tr>\n",
       "  </tbody>\n",
       "</table>\n",
       "</div>"
      ],
      "text/plain": [
       "              ip  app  device  os  channel  hour  minute  second  label  \\\n",
       "180816932  55887    2       1  23      236    14      40      43    0.0   \n",
       "179963509  55887    9       1  13      244    14      25      48    0.0   \n",
       "181853618  55887    9       1  13      244    14      59      32    0.0   \n",
       "165502973  55887    9       1   6      107    10       9      57    0.0   \n",
       "180816969  55887   12       1  23      340    14      40      43    0.0   \n",
       "168068086  55887    9       1  13      107    10      56      33    0.0   \n",
       "179993287  55887   26       1  27      477    14      26      17    0.0   \n",
       "162257984  55887   18       1  19      107     9       5      50    0.0   \n",
       "168039103  55887   15       1  13      265    10      56       2    0.0   \n",
       "168048768  55887    3       1  13      379    10      56      12    0.0   \n",
       "181507514  55887    9      59  17      107    14      53      10    0.0   \n",
       "180023464  55887   18       1  27      134    14      26      48    0.0   \n",
       "168049672  55887    2       1  13      452    10      56      13    0.0   \n",
       "168060781  55887    2       1  13      452    10      56      25    0.0   \n",
       "179977504  55887    9       1   6      107    14      26       1    0.0   \n",
       "179972765  55887    9       1   6      107    14      25      57    0.0   \n",
       "180046781  55887    9       1  27      107    14      27      12    0.0   \n",
       "181846667  55887   17       1  23      128    14      59      24    0.0   \n",
       "180042633  55887   14       1  27      134    14      27       8    0.0   \n",
       "180041414  55887    3       1  27      137    14      27       7    0.0   \n",
       "\n",
       "               pred  \n",
       "180816932  0.986282  \n",
       "179963509  0.983687  \n",
       "181853618  0.983590  \n",
       "165502973  0.982393  \n",
       "180816969  0.982295  \n",
       "168068086  0.982288  \n",
       "179993287  0.980962  \n",
       "162257984  0.980674  \n",
       "168039103  0.980238  \n",
       "168048768  0.980124  \n",
       "181507514  0.980026  \n",
       "180023464  0.980010  \n",
       "168049672  0.979674  \n",
       "168060781  0.979674  \n",
       "179977504  0.979060  \n",
       "179972765  0.979060  \n",
       "180046781  0.979060  \n",
       "181846667  0.978878  \n",
       "180042633  0.978577  \n",
       "180041414  0.978011  "
      ]
     },
     "execution_count": 43,
     "metadata": {},
     "output_type": "execute_result"
    }
   ],
   "source": [
    "train_final.head(20)"
   ]
  },
  {
   "cell_type": "code",
   "execution_count": 109,
   "metadata": {},
   "outputs": [
    {
     "name": "stdout",
     "output_type": "stream",
     "text": [
      "finish dict count\n",
      "0\n",
      "99\n",
      "1\n",
      "4502\n",
      "2\n",
      "57705\n",
      "3\n",
      "128473\n",
      "4\n",
      "464804\n",
      "5\n",
      "1256354\n",
      "6\n",
      "5326601\n",
      "7\n",
      "32473435\n",
      "8\n",
      "35206219\n",
      "9\n",
      "50000000\n",
      "0.4190952628850937\n"
     ]
    }
   ],
   "source": [
    "def get_count(df,col,segment):\n",
    "    step = 1/ segment\n",
    "    count = {}\n",
    "    start = 1\n",
    "    for i in range(segment):\n",
    "        upper = start\n",
    "        lower = start - step\n",
    "        start -= step\n",
    "        count[i] = len(df[(df[col] <= upper) & (df[col] > lower) ])\n",
    "    return count\n",
    "        \n",
    "    \n",
    "def get_index_list(df,col,segment, total, ratio=0.75 ):\n",
    "    start = 1\n",
    "    step = 1 / segment\n",
    "    seed = list(range(1, segment + 1))\n",
    "    dict_count = get_count(df, col, segment)\n",
    "    print('finish dict count')\n",
    "    index_list = []\n",
    "    remain = total\n",
    "    for i in range(segment):\n",
    "        print(i)\n",
    "        upper = start\n",
    "        lower = start - step\n",
    "        start -= step\n",
    "        tmp = df[(df[col] <= upper) & (df[col] > lower) ]\n",
    "        tmp_index = tmp['index'].values\n",
    "        ran = np.random.RandomState(seed = seed[i])\n",
    "        ran.shuffle(tmp_index)\n",
    "        ### get index\n",
    "        num_index = int(ratio * dict_count[i])\n",
    "        if num_index > remain:\n",
    "            num_index = remain\n",
    "            index_list.extend(list(tmp_index[:num_index]))\n",
    "            print(len(index_list))\n",
    "            break\n",
    "#         index_list.extend(list(tmp_index[:num_index]))\n",
    "        index_list.extend(tmp_index[:num_index].tolist())\n",
    "        remain -= num_index\n",
    "        print(len(index_list))\n",
    "    index_list.sort()\n",
    "    return index_list\n",
    "\n",
    "total = 50000000\n",
    "segment = 10\n",
    "step = 1 / segment\n",
    "ratio = 0.75\n",
    "selected_index = get_index_list(sss, 'preds', 10, total, ratio)\n",
    "\n",
    "import sys\n",
    "print(sys.getsizeof(selected_index) / 1024 **3)"
   ]
  },
  {
   "cell_type": "code",
   "execution_count": 118,
   "metadata": {},
   "outputs": [],
   "source": [
    "file = '/home/kai/data/kaggle/talkingdata/wl/data/trainset/train_index.npy'\n",
    "np.save(file, selected_index)"
   ]
  },
  {
   "cell_type": "code",
   "execution_count": 119,
   "metadata": {},
   "outputs": [],
   "source": [
    "a = np.load(file)"
   ]
  },
  {
   "cell_type": "code",
   "execution_count": 122,
   "metadata": {},
   "outputs": [
    {
     "data": {
      "text/plain": [
       "array([        1,         2,         3, ..., 184903414, 184903424,\n",
       "       184903436])"
      ]
     },
     "execution_count": 122,
     "metadata": {},
     "output_type": "execute_result"
    }
   ],
   "source": [
    "a"
   ]
  },
  {
   "cell_type": "code",
   "execution_count": null,
   "metadata": {
    "collapsed": true
   },
   "outputs": [],
   "source": []
  }
 ],
 "metadata": {
  "kernelspec": {
   "display_name": "Python 3",
   "language": "python",
   "name": "python3"
  },
  "language_info": {
   "codemirror_mode": {
    "name": "ipython",
    "version": 3
   },
   "file_extension": ".py",
   "mimetype": "text/x-python",
   "name": "python",
   "nbconvert_exporter": "python",
   "pygments_lexer": "ipython3",
   "version": "3.6.3"
  }
 },
 "nbformat": 4,
 "nbformat_minor": 2
}
