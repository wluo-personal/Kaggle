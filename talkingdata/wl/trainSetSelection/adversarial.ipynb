{
 "cells": [
  {
   "cell_type": "code",
   "execution_count": 1,
   "metadata": {
    "collapsed": true
   },
   "outputs": [],
   "source": [
    "import pandas as pd\n",
    "import numpy as np\n",
    "import lightgbm as lgb"
   ]
  },
  {
   "cell_type": "code",
   "execution_count": 4,
   "metadata": {
    "collapsed": true
   },
   "outputs": [],
   "source": [
    "path = '/home/kai/data/kaggle/talkingdata/data/'\n",
    "train = pd.read_csv(path + 'train_cleaned_final.csv')\n",
    "test = pd.read_csv(path + 'test_cleaned_final.csv')\n",
    "\n",
    "train.drop(['is_attributed', 'day', 'timestamp'], axis=1, inplace = True)\n",
    "test.drop(['day', 'timestamp'], axis=1, inplace = True)"
   ]
  },
  {
   "cell_type": "code",
   "execution_count": 5,
   "metadata": {},
   "outputs": [
    {
     "name": "stdout",
     "output_type": "stream",
     "text": [
      "15.176412411034107\n"
     ]
    }
   ],
   "source": [
    "test = test[list(train.columns)]\n",
    "df_all = pd.concat([train,test])\n",
    "\n",
    "train_length = len(train)\n",
    "test_length = len(test)\n",
    "\n",
    "import gc\n",
    "del train\n",
    "del test\n",
    "gc.collect()\n",
    "\n",
    "label = np.concatenate([np.zeros(train_length), np.ones(test_length)]) \n",
    "df_all['label'] = label\n",
    "\n",
    "import sys\n",
    "print(sys.getsizeof(df_all) / 1024**3)\n"
   ]
  },
  {
   "cell_type": "markdown",
   "metadata": {},
   "source": [
    "# prepare train, val"
   ]
  },
  {
   "cell_type": "code",
   "execution_count": 8,
   "metadata": {},
   "outputs": [
    {
     "name": "stdout",
     "output_type": "stream",
     "text": [
      "train negative rate: 90.77647111928854\n",
      "val negative rate: 90.77124570361202\n"
     ]
    }
   ],
   "source": [
    "from sklearn.model_selection import train_test_split\n",
    "trainset, valset = train_test_split(df_all.sample(frac=1, random_state=233),test_size=0.25, random_state=19)\n",
    "\n",
    "scale_pos_weight = len(trainset[trainset['label'] == 0]) / len(trainset) * 100\n",
    "print('train negative rate: {}'.format(scale_pos_weight))\n",
    "print('val negative rate: {}'.format(len(valset[valset['label'] == 0]) / len(valset) * 100))"
   ]
  },
  {
   "cell_type": "code",
   "execution_count": 9,
   "metadata": {
    "collapsed": true
   },
   "outputs": [],
   "source": [
    "categorical_col = ['ip', 'app', 'device', 'os', 'channel', 'hour', 'minute', 'second']\n",
    "feature_cols = ['ip', 'app', 'device', 'os', 'channel', 'hour', 'minute', 'second']"
   ]
  },
  {
   "cell_type": "markdown",
   "metadata": {},
   "source": [
    "# Train LGB"
   ]
  },
  {
   "cell_type": "code",
   "execution_count": 12,
   "metadata": {},
   "outputs": [
    {
     "data": {
      "text/plain": [
       "0"
      ]
     },
     "execution_count": 12,
     "metadata": {},
     "output_type": "execute_result"
    }
   ],
   "source": [
    "target = 'label'\n",
    "y_train = trainset[target].values\n",
    "y_val = valset[target].values\n",
    "\n",
    "lgb_train = lgb.Dataset(trainset[feature_cols], y_train, categorical_feature = categorical_col)\n",
    "lgb_val = lgb.Dataset(valset[feature_cols], y_val, categorical_feature = categorical_col)\n",
    "\n",
    "zeros = len(y_train[y_train == 0])\n",
    "# scale_pos_weight = len(y_train[y_train == 0]) / len(y_train[y_train == 1])\n",
    "import gc\n",
    "gc.collect()"
   ]
  },
  {
   "cell_type": "code",
   "execution_count": 13,
   "metadata": {},
   "outputs": [
    {
     "name": "stderr",
     "output_type": "stream",
     "text": [
      "/home/kai/anaconda3/lib/python3.6/site-packages/lightgbm/engine.py:99: UserWarning: Found `num_rounds` in params. Will use it instead of argument\n",
      "  warnings.warn(\"Found `{}` in params. Will use it instead of argument\".format(alias))\n",
      "/home/kai/anaconda3/lib/python3.6/site-packages/lightgbm/engine.py:104: UserWarning: Found `early_stopping_round` in params. Will use it instead of argument\n",
      "  warnings.warn(\"Found `{}` in params. Will use it instead of argument\".format(alias))\n",
      "/home/kai/anaconda3/lib/python3.6/site-packages/lightgbm/basic.py:1027: UserWarning: Using categorical_feature in Dataset.\n",
      "  warnings.warn('Using categorical_feature in Dataset.')\n",
      "/home/kai/anaconda3/lib/python3.6/site-packages/lightgbm/basic.py:668: UserWarning: categorical_feature in param dict is overrided.\n",
      "  warnings.warn('categorical_feature in param dict is overrided.')\n"
     ]
    },
    {
     "name": "stdout",
     "output_type": "stream",
     "text": [
      "Training until validation scores don't improve for 30 rounds.\n",
      "[10]\tvalid_0's auc: 0.883313\n",
      "[20]\tvalid_0's auc: 0.88595\n",
      "[30]\tvalid_0's auc: 0.888314\n",
      "[40]\tvalid_0's auc: 0.890169\n",
      "[50]\tvalid_0's auc: 0.892969\n",
      "[60]\tvalid_0's auc: 0.893853\n",
      "[70]\tvalid_0's auc: 0.894424\n",
      "[80]\tvalid_0's auc: 0.894767\n",
      "[90]\tvalid_0's auc: 0.895466\n",
      "[100]\tvalid_0's auc: 0.895578\n",
      "[110]\tvalid_0's auc: 0.8958\n",
      "[120]\tvalid_0's auc: 0.896293\n",
      "[130]\tvalid_0's auc: 0.896571\n",
      "[140]\tvalid_0's auc: 0.896635\n",
      "[150]\tvalid_0's auc: 0.896687\n",
      "[160]\tvalid_0's auc: 0.89708\n",
      "[170]\tvalid_0's auc: 0.897192\n",
      "[180]\tvalid_0's auc: 0.897453\n",
      "[190]\tvalid_0's auc: 0.897546\n",
      "[200]\tvalid_0's auc: 0.897936\n",
      "[210]\tvalid_0's auc: 0.898028\n",
      "[220]\tvalid_0's auc: 0.898227\n",
      "[230]\tvalid_0's auc: 0.898383\n",
      "[240]\tvalid_0's auc: 0.898407\n",
      "[250]\tvalid_0's auc: 0.898616\n",
      "[260]\tvalid_0's auc: 0.898802\n",
      "[270]\tvalid_0's auc: 0.899011\n",
      "[280]\tvalid_0's auc: 0.899162\n",
      "[290]\tvalid_0's auc: 0.899318\n",
      "[300]\tvalid_0's auc: 0.899475\n",
      "[310]\tvalid_0's auc: 0.899621\n",
      "[320]\tvalid_0's auc: 0.899682\n",
      "[330]\tvalid_0's auc: 0.899752\n",
      "[340]\tvalid_0's auc: 0.899852\n",
      "[350]\tvalid_0's auc: 0.899985\n",
      "[360]\tvalid_0's auc: 0.900129\n",
      "[370]\tvalid_0's auc: 0.900277\n",
      "[380]\tvalid_0's auc: 0.900339\n",
      "[390]\tvalid_0's auc: 0.900458\n",
      "[400]\tvalid_0's auc: 0.90059\n",
      "[410]\tvalid_0's auc: 0.90064\n",
      "[420]\tvalid_0's auc: 0.900772\n",
      "[430]\tvalid_0's auc: 0.900875\n",
      "[440]\tvalid_0's auc: 0.901025\n",
      "[450]\tvalid_0's auc: 0.901174\n",
      "[460]\tvalid_0's auc: 0.901335\n",
      "[470]\tvalid_0's auc: 0.90143\n",
      "[480]\tvalid_0's auc: 0.901542\n",
      "[490]\tvalid_0's auc: 0.901622\n",
      "[500]\tvalid_0's auc: 0.901697\n",
      "Did not meet early stopping. Best iteration is:\n",
      "[500]\tvalid_0's auc: 0.901697\n"
     ]
    }
   ],
   "source": [
    "params = {\n",
    "        'objective': 'binary',\n",
    "        'boosting': 'gbdt',\n",
    "        'num_rounds': 300,\n",
    "        'learning_rate': 0.1,\n",
    "        'num_leaves': 9,\n",
    "        'num_threads': 20, # best speed: set to number of real cpu cores, which is vCPU/2\n",
    "        'device': 'cpu',\n",
    "        'max_depth': -1, # no limit. This is used to deal with over-fitting when #data is small.\n",
    "        'min_data_in_leaf': 20,  #minimal number of data in one leaf. Can be used to deal with over-fitting\n",
    "        'feature_fraction': 0.7, #For example, if set to 0.8, will select 80% features before training each tree.  speed up training / deal with over-fitting\n",
    "        'feature_fraction_seed': 1,\n",
    "        'early_stopping_round':30,\n",
    "        'bagging_fraction': 0.8, #Randomly select part of data without resampling\n",
    "        'bagging_freq': 1, #frequency for bagging, 0 means disable bagging. k means will perform bagging at every k iteration. to enable bagging, bagging_fraction should be set as well\n",
    "        'bagging_seed': 1,\n",
    "        #'max_bin': 255,\n",
    "        'verbose': 0,\n",
    "        'scale_pos_weight': scale_pos_weight,\n",
    "        'metric' : 'auc'\n",
    "    }\n",
    "\n",
    "model = lgb.train(params, train_set=lgb_train, valid_sets=lgb_val, verbose_eval=10)"
   ]
  },
  {
   "cell_type": "code",
   "execution_count": 15,
   "metadata": {},
   "outputs": [
    {
     "name": "stdout",
     "output_type": "stream",
     "text": [
      "0.90168976534\n"
     ]
    }
   ],
   "source": [
    "from sklearn.metrics import roc_auc_score\n",
    "pred = model.predict(df_all[feature_cols])\n",
    "df_all['pred'] = pred\n",
    "print(roc_auc_score(df_all[target].values,pred))"
   ]
  },
  {
   "cell_type": "code",
   "execution_count": 16,
   "metadata": {},
   "outputs": [
    {
     "name": "stdout",
     "output_type": "stream",
     "text": [
      "ip         2725\n",
      "channel     415\n",
      "app         341\n",
      "hour        237\n",
      "os          172\n",
      "minute       60\n",
      "device       32\n",
      "second       18\n",
      "dtype: int64\n"
     ]
    }
   ],
   "source": [
    "importance = pd.Series(model.feature_importance(), index=feature_cols)\n",
    "importance = importance.sort_values(ascending=False)\n",
    "if len(model.feature_importance()) != len(feature_cols):\n",
    "    raise ValueError('Feature importance has length: {}, \\n while feature number is {}'.\n",
    "                     format(len(model.feature_importance()), len(feature_cols)))\n",
    "print(importance)"
   ]
  },
  {
   "cell_type": "code",
   "execution_count": 17,
   "metadata": {},
   "outputs": [
    {
     "data": {
      "text/html": [
       "<div>\n",
       "<style>\n",
       "    .dataframe thead tr:only-child th {\n",
       "        text-align: right;\n",
       "    }\n",
       "\n",
       "    .dataframe thead th {\n",
       "        text-align: left;\n",
       "    }\n",
       "\n",
       "    .dataframe tbody tr th {\n",
       "        vertical-align: top;\n",
       "    }\n",
       "</style>\n",
       "<table border=\"1\" class=\"dataframe\">\n",
       "  <thead>\n",
       "    <tr style=\"text-align: right;\">\n",
       "      <th></th>\n",
       "      <th>ip</th>\n",
       "      <th>app</th>\n",
       "      <th>device</th>\n",
       "      <th>os</th>\n",
       "      <th>channel</th>\n",
       "      <th>hour</th>\n",
       "      <th>minute</th>\n",
       "      <th>second</th>\n",
       "      <th>label</th>\n",
       "      <th>pred</th>\n",
       "    </tr>\n",
       "  </thead>\n",
       "  <tbody>\n",
       "    <tr>\n",
       "      <th>165495962</th>\n",
       "      <td>55887</td>\n",
       "      <td>21</td>\n",
       "      <td>2</td>\n",
       "      <td>36</td>\n",
       "      <td>232</td>\n",
       "      <td>10</td>\n",
       "      <td>9</td>\n",
       "      <td>49</td>\n",
       "      <td>0.0</td>\n",
       "      <td>0.999871</td>\n",
       "    </tr>\n",
       "    <tr>\n",
       "      <th>180818041</th>\n",
       "      <td>55887</td>\n",
       "      <td>9</td>\n",
       "      <td>1</td>\n",
       "      <td>23</td>\n",
       "      <td>127</td>\n",
       "      <td>14</td>\n",
       "      <td>40</td>\n",
       "      <td>44</td>\n",
       "      <td>0.0</td>\n",
       "      <td>0.999851</td>\n",
       "    </tr>\n",
       "    <tr>\n",
       "      <th>181507514</th>\n",
       "      <td>55887</td>\n",
       "      <td>9</td>\n",
       "      <td>59</td>\n",
       "      <td>17</td>\n",
       "      <td>107</td>\n",
       "      <td>14</td>\n",
       "      <td>53</td>\n",
       "      <td>10</td>\n",
       "      <td>0.0</td>\n",
       "      <td>0.999844</td>\n",
       "    </tr>\n",
       "    <tr>\n",
       "      <th>178383503</th>\n",
       "      <td>55887</td>\n",
       "      <td>21</td>\n",
       "      <td>1</td>\n",
       "      <td>6</td>\n",
       "      <td>232</td>\n",
       "      <td>13</td>\n",
       "      <td>59</td>\n",
       "      <td>8</td>\n",
       "      <td>0.0</td>\n",
       "      <td>0.999842</td>\n",
       "    </tr>\n",
       "    <tr>\n",
       "      <th>180029704</th>\n",
       "      <td>55887</td>\n",
       "      <td>22</td>\n",
       "      <td>1</td>\n",
       "      <td>27</td>\n",
       "      <td>116</td>\n",
       "      <td>14</td>\n",
       "      <td>26</td>\n",
       "      <td>55</td>\n",
       "      <td>0.0</td>\n",
       "      <td>0.999809</td>\n",
       "    </tr>\n",
       "    <tr>\n",
       "      <th>179977504</th>\n",
       "      <td>55887</td>\n",
       "      <td>9</td>\n",
       "      <td>1</td>\n",
       "      <td>6</td>\n",
       "      <td>107</td>\n",
       "      <td>14</td>\n",
       "      <td>26</td>\n",
       "      <td>1</td>\n",
       "      <td>0.0</td>\n",
       "      <td>0.999792</td>\n",
       "    </tr>\n",
       "    <tr>\n",
       "      <th>179972765</th>\n",
       "      <td>55887</td>\n",
       "      <td>9</td>\n",
       "      <td>1</td>\n",
       "      <td>6</td>\n",
       "      <td>107</td>\n",
       "      <td>14</td>\n",
       "      <td>25</td>\n",
       "      <td>57</td>\n",
       "      <td>0.0</td>\n",
       "      <td>0.999792</td>\n",
       "    </tr>\n",
       "    <tr>\n",
       "      <th>180046781</th>\n",
       "      <td>55887</td>\n",
       "      <td>9</td>\n",
       "      <td>1</td>\n",
       "      <td>27</td>\n",
       "      <td>107</td>\n",
       "      <td>14</td>\n",
       "      <td>27</td>\n",
       "      <td>12</td>\n",
       "      <td>0.0</td>\n",
       "      <td>0.999787</td>\n",
       "    </tr>\n",
       "    <tr>\n",
       "      <th>165502973</th>\n",
       "      <td>55887</td>\n",
       "      <td>9</td>\n",
       "      <td>1</td>\n",
       "      <td>6</td>\n",
       "      <td>107</td>\n",
       "      <td>10</td>\n",
       "      <td>9</td>\n",
       "      <td>57</td>\n",
       "      <td>0.0</td>\n",
       "      <td>0.999781</td>\n",
       "    </tr>\n",
       "    <tr>\n",
       "      <th>168068086</th>\n",
       "      <td>55887</td>\n",
       "      <td>9</td>\n",
       "      <td>1</td>\n",
       "      <td>13</td>\n",
       "      <td>107</td>\n",
       "      <td>10</td>\n",
       "      <td>56</td>\n",
       "      <td>33</td>\n",
       "      <td>0.0</td>\n",
       "      <td>0.999777</td>\n",
       "    </tr>\n",
       "    <tr>\n",
       "      <th>165495409</th>\n",
       "      <td>55887</td>\n",
       "      <td>9</td>\n",
       "      <td>2</td>\n",
       "      <td>36</td>\n",
       "      <td>244</td>\n",
       "      <td>10</td>\n",
       "      <td>9</td>\n",
       "      <td>49</td>\n",
       "      <td>0.0</td>\n",
       "      <td>0.999733</td>\n",
       "    </tr>\n",
       "    <tr>\n",
       "      <th>179963509</th>\n",
       "      <td>55887</td>\n",
       "      <td>9</td>\n",
       "      <td>1</td>\n",
       "      <td>13</td>\n",
       "      <td>244</td>\n",
       "      <td>14</td>\n",
       "      <td>25</td>\n",
       "      <td>48</td>\n",
       "      <td>0.0</td>\n",
       "      <td>0.999730</td>\n",
       "    </tr>\n",
       "    <tr>\n",
       "      <th>179993287</th>\n",
       "      <td>55887</td>\n",
       "      <td>26</td>\n",
       "      <td>1</td>\n",
       "      <td>27</td>\n",
       "      <td>477</td>\n",
       "      <td>14</td>\n",
       "      <td>26</td>\n",
       "      <td>17</td>\n",
       "      <td>0.0</td>\n",
       "      <td>0.999728</td>\n",
       "    </tr>\n",
       "    <tr>\n",
       "      <th>181853618</th>\n",
       "      <td>55887</td>\n",
       "      <td>9</td>\n",
       "      <td>1</td>\n",
       "      <td>13</td>\n",
       "      <td>244</td>\n",
       "      <td>14</td>\n",
       "      <td>59</td>\n",
       "      <td>32</td>\n",
       "      <td>0.0</td>\n",
       "      <td>0.999726</td>\n",
       "    </tr>\n",
       "    <tr>\n",
       "      <th>180816932</th>\n",
       "      <td>55887</td>\n",
       "      <td>2</td>\n",
       "      <td>1</td>\n",
       "      <td>23</td>\n",
       "      <td>236</td>\n",
       "      <td>14</td>\n",
       "      <td>40</td>\n",
       "      <td>43</td>\n",
       "      <td>0.0</td>\n",
       "      <td>0.999722</td>\n",
       "    </tr>\n",
       "    <tr>\n",
       "      <th>165495921</th>\n",
       "      <td>55887</td>\n",
       "      <td>9</td>\n",
       "      <td>2</td>\n",
       "      <td>36</td>\n",
       "      <td>232</td>\n",
       "      <td>10</td>\n",
       "      <td>9</td>\n",
       "      <td>49</td>\n",
       "      <td>0.0</td>\n",
       "      <td>0.999720</td>\n",
       "    </tr>\n",
       "    <tr>\n",
       "      <th>165496671</th>\n",
       "      <td>55887</td>\n",
       "      <td>9</td>\n",
       "      <td>2</td>\n",
       "      <td>36</td>\n",
       "      <td>466</td>\n",
       "      <td>10</td>\n",
       "      <td>9</td>\n",
       "      <td>50</td>\n",
       "      <td>0.0</td>\n",
       "      <td>0.999699</td>\n",
       "    </tr>\n",
       "    <tr>\n",
       "      <th>165406681</th>\n",
       "      <td>55887</td>\n",
       "      <td>9</td>\n",
       "      <td>1</td>\n",
       "      <td>13</td>\n",
       "      <td>466</td>\n",
       "      <td>10</td>\n",
       "      <td>8</td>\n",
       "      <td>10</td>\n",
       "      <td>0.0</td>\n",
       "      <td>0.999693</td>\n",
       "    </tr>\n",
       "    <tr>\n",
       "      <th>180816969</th>\n",
       "      <td>55887</td>\n",
       "      <td>12</td>\n",
       "      <td>1</td>\n",
       "      <td>23</td>\n",
       "      <td>340</td>\n",
       "      <td>14</td>\n",
       "      <td>40</td>\n",
       "      <td>43</td>\n",
       "      <td>0.0</td>\n",
       "      <td>0.999690</td>\n",
       "    </tr>\n",
       "    <tr>\n",
       "      <th>162257984</th>\n",
       "      <td>55887</td>\n",
       "      <td>18</td>\n",
       "      <td>1</td>\n",
       "      <td>19</td>\n",
       "      <td>107</td>\n",
       "      <td>9</td>\n",
       "      <td>5</td>\n",
       "      <td>50</td>\n",
       "      <td>0.0</td>\n",
       "      <td>0.999681</td>\n",
       "    </tr>\n",
       "  </tbody>\n",
       "</table>\n",
       "</div>"
      ],
      "text/plain": [
       "              ip  app  device  os  channel  hour  minute  second  label  \\\n",
       "165495962  55887   21       2  36      232    10       9      49    0.0   \n",
       "180818041  55887    9       1  23      127    14      40      44    0.0   \n",
       "181507514  55887    9      59  17      107    14      53      10    0.0   \n",
       "178383503  55887   21       1   6      232    13      59       8    0.0   \n",
       "180029704  55887   22       1  27      116    14      26      55    0.0   \n",
       "179977504  55887    9       1   6      107    14      26       1    0.0   \n",
       "179972765  55887    9       1   6      107    14      25      57    0.0   \n",
       "180046781  55887    9       1  27      107    14      27      12    0.0   \n",
       "165502973  55887    9       1   6      107    10       9      57    0.0   \n",
       "168068086  55887    9       1  13      107    10      56      33    0.0   \n",
       "165495409  55887    9       2  36      244    10       9      49    0.0   \n",
       "179963509  55887    9       1  13      244    14      25      48    0.0   \n",
       "179993287  55887   26       1  27      477    14      26      17    0.0   \n",
       "181853618  55887    9       1  13      244    14      59      32    0.0   \n",
       "180816932  55887    2       1  23      236    14      40      43    0.0   \n",
       "165495921  55887    9       2  36      232    10       9      49    0.0   \n",
       "165496671  55887    9       2  36      466    10       9      50    0.0   \n",
       "165406681  55887    9       1  13      466    10       8      10    0.0   \n",
       "180816969  55887   12       1  23      340    14      40      43    0.0   \n",
       "162257984  55887   18       1  19      107     9       5      50    0.0   \n",
       "\n",
       "               pred  \n",
       "165495962  0.999871  \n",
       "180818041  0.999851  \n",
       "181507514  0.999844  \n",
       "178383503  0.999842  \n",
       "180029704  0.999809  \n",
       "179977504  0.999792  \n",
       "179972765  0.999792  \n",
       "180046781  0.999787  \n",
       "165502973  0.999781  \n",
       "168068086  0.999777  \n",
       "165495409  0.999733  \n",
       "179963509  0.999730  \n",
       "179993287  0.999728  \n",
       "181853618  0.999726  \n",
       "180816932  0.999722  \n",
       "165495921  0.999720  \n",
       "165496671  0.999699  \n",
       "165406681  0.999693  \n",
       "180816969  0.999690  \n",
       "162257984  0.999681  "
      ]
     },
     "execution_count": 17,
     "metadata": {},
     "output_type": "execute_result"
    }
   ],
   "source": [
    "train = df_all.iloc[:train_length]\n",
    "train['pred'].to_csv('/home/kai/data/kaggle/talkingdata/wl/data/trainset/train_prediction_0405_auc0.9016.csv')\n",
    "train_final = train.sort_values(['pred'], ascending = False)\n",
    "\n",
    "# sss = pd.read_csv('/home/kai/data/kaggle/talkingdata/wl/data/trainset/train_prediction.csv',header = None)\n",
    "# sss.columns = ['index', 'preds']\n",
    "\n",
    "train_final.head(20)"
   ]
  },
  {
   "cell_type": "code",
   "execution_count": 26,
   "metadata": {
    "collapsed": true
   },
   "outputs": [],
   "source": [
    "def get_count(df,col,segment):\n",
    "    step = 1/ segment\n",
    "    count = {}\n",
    "    start = 1\n",
    "    for i in range(segment):\n",
    "        upper = start\n",
    "        lower = start - step\n",
    "        start -= step\n",
    "        count[i] = len(df[(df[col] <= upper) & (df[col] > lower) ])\n",
    "    return count\n",
    "\n",
    "count = get_count(train_final, 'pred', 10)"
   ]
  },
  {
   "cell_type": "code",
   "execution_count": 27,
   "metadata": {},
   "outputs": [
    {
     "data": {
      "text/plain": [
       "{0: 46745331,\n",
       " 1: 644715,\n",
       " 2: 671189,\n",
       " 3: 428552,\n",
       " 4: 52710,\n",
       " 5: 68268,\n",
       " 6: 143594,\n",
       " 7: 291485,\n",
       " 8: 7592907,\n",
       " 9: 128265139}"
      ]
     },
     "execution_count": 27,
     "metadata": {},
     "output_type": "execute_result"
    }
   ],
   "source": [
    "count"
   ]
  },
  {
   "cell_type": "code",
   "execution_count": 30,
   "metadata": {
    "collapsed": true
   },
   "outputs": [],
   "source": [
    "train_final['index'] = train_final.index.values"
   ]
  },
  {
   "cell_type": "markdown",
   "metadata": {},
   "source": [
    "# strategy 1: Get All until hit threshold"
   ]
  },
  {
   "cell_type": "code",
   "execution_count": 20,
   "metadata": {
    "collapsed": true
   },
   "outputs": [],
   "source": [
    "thresh = 55 * 1000000\n",
    "index = list(train_final.index.values[:thresh])\n",
    "val_length = 10 * 1000000"
   ]
  },
  {
   "cell_type": "markdown",
   "metadata": {
    "collapsed": true
   },
   "source": [
    "## 1. top 10 m as val"
   ]
  },
  {
   "cell_type": "code",
   "execution_count": 22,
   "metadata": {
    "collapsed": true
   },
   "outputs": [],
   "source": [
    "val_index = index[:val_length]\n",
    "train_index = index[val_length:]\n",
    "\n",
    "file_val = '/home/kai/data/kaggle/talkingdata/wl/data/trainset/val_index_all_top.npy'\n",
    "file_train = '/home/kai/data/kaggle/talkingdata/wl/data/trainset/train_index_all_top.npy'\n",
    "\n",
    "np.save(file_val, val_index)\n",
    "np.save(file_train, train_index)"
   ]
  },
  {
   "cell_type": "markdown",
   "metadata": {},
   "source": [
    "## 2. shuffle as val"
   ]
  },
  {
   "cell_type": "code",
   "execution_count": 25,
   "metadata": {
    "collapsed": true
   },
   "outputs": [],
   "source": [
    "from sklearn.model_selection import train_test_split\n",
    "ratio = val_length / thresh\n",
    "train_index, val_index = train_test_split(index,test_size=ratio, random_state=19)\n",
    "\n",
    "file_val = '/home/kai/data/kaggle/talkingdata/wl/data/trainset/val_index_all_shuffle.npy'\n",
    "file_train = '/home/kai/data/kaggle/talkingdata/wl/data/trainset/train_index_all_shuffle.npy'\n",
    "\n",
    "np.save(file_val, val_index)\n",
    "np.save(file_train, train_index)"
   ]
  },
  {
   "cell_type": "markdown",
   "metadata": {},
   "source": [
    "## strategy 2: Get 0.75 until hit threshold"
   ]
  },
  {
   "cell_type": "code",
   "execution_count": 32,
   "metadata": {},
   "outputs": [
    {
     "name": "stdout",
     "output_type": "stream",
     "text": [
      "finish dict count\n",
      "0\n",
      "39733531\n",
      "1\n",
      "40281538\n",
      "2\n",
      "40852048\n",
      "3\n",
      "41216317\n",
      "4\n",
      "41261120\n",
      "5\n",
      "41319147\n",
      "6\n",
      "41441201\n",
      "7\n",
      "41688963\n",
      "8\n",
      "48142933\n",
      "9\n",
      "55000000\n",
      "0.4610047787427902\n"
     ]
    }
   ],
   "source": [
    "def get_count(df,col,segment):\n",
    "    step = 1/ segment\n",
    "    count = {}\n",
    "    start = 1\n",
    "    for i in range(segment):\n",
    "        upper = start\n",
    "        lower = start - step\n",
    "        start -= step\n",
    "        count[i] = len(df[(df[col] <= upper) & (df[col] > lower) ])\n",
    "    return count\n",
    "        \n",
    "    \n",
    "def get_index_list(df,col,segment, total, ratio=0.75, sort = False ):\n",
    "    start = 1\n",
    "    step = 1 / segment\n",
    "    seed = list(range(1, segment + 1))\n",
    "    dict_count = get_count(df, col, segment)\n",
    "    print('finish dict count')\n",
    "    index_list = []\n",
    "    remain = total\n",
    "    for i in range(segment):\n",
    "        print(i)\n",
    "        upper = start\n",
    "        lower = start - step\n",
    "        start -= step\n",
    "        tmp = df[(df[col] <= upper) & (df[col] > lower) ]\n",
    "        tmp_index = tmp['index'].values\n",
    "        ran = np.random.RandomState(seed = seed[i])\n",
    "        ran.shuffle(tmp_index)\n",
    "        ### get index\n",
    "        num_index = int(ratio * dict_count[i])\n",
    "        if num_index > remain:\n",
    "            num_index = remain\n",
    "            index_list.extend(list(tmp_index[:num_index]))\n",
    "            print(len(index_list))\n",
    "            break\n",
    "#         index_list.extend(list(tmp_index[:num_index]))\n",
    "        index_list.extend(tmp_index[:num_index].tolist())\n",
    "        remain -= num_index\n",
    "        print(len(index_list))\n",
    "    if sort:\n",
    "        index_list.sort()\n",
    "    return index_list\n",
    "\n",
    "segment = 10\n",
    "ratio = 0.85\n",
    "index_partial = get_index_list(train_final, 'pred', 10, thresh, ratio)\n",
    "\n",
    "import sys\n",
    "print(sys.getsizeof(index_partial) / 1024 **3)"
   ]
  },
  {
   "cell_type": "markdown",
   "metadata": {},
   "source": [
    "# 1. top 10 m as val "
   ]
  },
  {
   "cell_type": "code",
   "execution_count": 34,
   "metadata": {
    "collapsed": true
   },
   "outputs": [],
   "source": [
    "val_index = index_partial[:val_length]\n",
    "train_index = index_partial[val_length:]\n",
    "\n",
    "file_val = '/home/kai/data/kaggle/talkingdata/wl/data/trainset/val_index_partial_0.85_top.npy'\n",
    "file_train = '/home/kai/data/kaggle/talkingdata/wl/data/trainset/train_index_partial_0.85_top.npy'\n",
    "\n",
    "np.save(file_val, val_index)\n",
    "np.save(file_train, train_index)"
   ]
  },
  {
   "cell_type": "markdown",
   "metadata": {},
   "source": [
    "## 2. shuffle as val"
   ]
  },
  {
   "cell_type": "code",
   "execution_count": 35,
   "metadata": {
    "collapsed": true
   },
   "outputs": [],
   "source": [
    "from sklearn.model_selection import train_test_split\n",
    "ratio = val_length / thresh\n",
    "train_index, val_index = train_test_split(index_partial,test_size=ratio, random_state=19)\n",
    "\n",
    "file_val = '/home/kai/data/kaggle/talkingdata/wl/data/trainset/val_index_partial_0.85_shuffle.npy'\n",
    "file_train = '/home/kai/data/kaggle/talkingdata/wl/data/trainset/train_index_partial_0.85_shuffle.npy'\n",
    "\n",
    "np.save(file_val, val_index)\n",
    "np.save(file_train, train_index)"
   ]
  },
  {
   "cell_type": "code",
   "execution_count": null,
   "metadata": {
    "collapsed": true
   },
   "outputs": [],
   "source": []
  }
 ],
 "metadata": {
  "kernelspec": {
   "display_name": "Python 3",
   "language": "python",
   "name": "python3"
  },
  "language_info": {
   "codemirror_mode": {
    "name": "ipython",
    "version": 3
   },
   "file_extension": ".py",
   "mimetype": "text/x-python",
   "name": "python",
   "nbconvert_exporter": "python",
   "pygments_lexer": "ipython3",
   "version": "3.6.3"
  }
 },
 "nbformat": 4,
 "nbformat_minor": 2
}
