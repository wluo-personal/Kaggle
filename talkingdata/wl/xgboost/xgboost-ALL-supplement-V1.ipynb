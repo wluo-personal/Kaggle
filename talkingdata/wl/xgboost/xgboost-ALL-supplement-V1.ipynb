{
 "cells": [
  {
   "cell_type": "code",
   "execution_count": 1,
   "metadata": {
    "collapsed": true
   },
   "outputs": [],
   "source": [
    "import pandas as pd\n",
    "import xgboost as xgb\n",
    "import numpy as np\n",
    "import gc"
   ]
  },
  {
   "cell_type": "code",
   "execution_count": 2,
   "metadata": {
    "collapsed": true
   },
   "outputs": [],
   "source": [
    "dtypes = {\n",
    "        'app'           : 'uint16',\n",
    "        'device'        : 'uint16',\n",
    "        'os'            : 'uint16',\n",
    "        'channel'       : 'uint16',\n",
    "        'hour'          : 'uint8',\n",
    "        'is_attributed' : 'uint8', \n",
    "        'ip_day_hour_count': 'uint32', \n",
    "        'ip_os_day_hour_count': 'uint32', \n",
    "        'ip_app_day_hour_count': 'uint32', \n",
    "        'ip_app_os_day_hour_count': 'uint32', \n",
    "        'app_day_hour_count': 'uint32', \n",
    "        'ip_device_os_count': 'uint32', \n",
    "        'ip_app_device_os_count': 'uint32', \n",
    "        'ip_device_os_mean': 'float16',\n",
    "        'ip_app_device_os_mean': 'float16',\n",
    "        'ip_app_device_mean': 'float16',\n",
    "        'app_device_os_mean': 'float16',\n",
    "        'ip_device_os_time2nextclick': 'int32',\n",
    "        'ip_app_device_os_time2nextclick': 'int32',\n",
    "        'ip_app_device_time2nextclick': 'int32',\n",
    "        'ip_device_os_time2previousclick': 'int32',\n",
    "        'ip_app_device_os_time2previousclick': 'int32',\n",
    "        'ip_app_device_time2previousclick': 'int32',\n",
    "        'ip_device_os_countfromfuture': 'uint32', \n",
    "        'ip_app_device_os_countfromfuture': 'uint32', \n",
    "        'ip_app_device_countfromfuture': 'uint32', \n",
    "        'ip_device_os_countfrompast': 'uint32', \n",
    "        'ip_app_device_os_countfrompast': 'uint32', \n",
    "        'ip_app_device_countfrompast': 'uint32', \n",
    "        'ip_device_os_lasttimediff': 'int32',\n",
    "        'ip_app_device_os_lasttimediff': 'int32',\n",
    "        'ip_app_device_lasttimediff': 'int32',\n",
    "        'ip_device_os_firsttimediff': 'int32',\n",
    "        'ip_app_device_os_firsttimediff': 'int32',\n",
    "        'ip_app_device_firsttimediff': 'int32',\n",
    "        'matrixFact_user_iposdeviceapp_item_app': 'float16',\n",
    "        'matrixFact_user_ip_item_appdeviceos': 'float16',\n",
    "        'matrixFact_user_ipchannel_item_appdeviceos': 'float16',\n",
    "        'ip_device_os_regression': 'float16',\n",
    "        'ip_app_device_os_regression': 'float16',\n",
    "        'ip_app_device_regression': 'float16',\n",
    "        'ip_app_device_os_channel_regression': 'float16', \n",
    "        'attributed_timediffmax':'int32',\n",
    "        'attributed_timediffmin':'int32',\n",
    "        'attributed_timediff':'float16',\n",
    "        'matrixFact_user_ipappdeviceos_item_channel': 'float16'\n",
    "    \n",
    "        } "
   ]
  },
  {
   "cell_type": "markdown",
   "metadata": {},
   "source": [
    "# Load Data"
   ]
  },
  {
   "cell_type": "code",
   "execution_count": null,
   "metadata": {
    "collapsed": true
   },
   "outputs": [],
   "source": [
    "df_all = pd.read_csv('/home/kai/data/kaggle/talkingdata/wl/data/equalhour/ALL_features_supplementV3_feature42.csv',dtype=dtypes)\n",
    "target = 'is_attributed'\n",
    "extra = ['ip_app_device_os_channel_regression']\n",
    "feature_cols = list(set(df_all.columns) - set([target]) -set(extra))\n"
   ]
  },
  {
   "cell_type": "markdown",
   "metadata": {},
   "source": [
    "# Train XGBoost"
   ]
  },
  {
   "cell_type": "code",
   "execution_count": null,
   "metadata": {
    "collapsed": true
   },
   "outputs": [],
   "source": [
    "params = {'learning_rate': 0.03, \n",
    "         'max_depth':7, \n",
    "         'nthread':90,\n",
    "         'seed':1, \n",
    "         'silent':False, \n",
    "         'n_estimators':1200, \n",
    "         'scale_pos_weight':99\n",
    "        }"
   ]
  },
  {
   "cell_type": "code",
   "execution_count": null,
   "metadata": {
    "collapsed": true
   },
   "outputs": [],
   "source": [
    "def train_xgboost(x_train, x_val, feature_cols, category_index, params, best_round = None, target='is_attributed'):\n",
    "    param = params.copy()    \n",
    "    print('Start training')\n",
    "    model = xgb.XGBClassifier(**param)\n",
    "    model.fit(x_train[feature_cols].values, x_train[target].values,\n",
    "          eval_set=[(x_train[feature_cols].values[-1000000:], x_train[target].values[-1000000:])], \n",
    "          eval_metric ='auc',\n",
    "          verbose=True)\n",
    "    return model"
   ]
  },
  {
   "cell_type": "markdown",
   "metadata": {},
   "source": [
    "# Train and Save Mode"
   ]
  },
  {
   "cell_type": "code",
   "execution_count": null,
   "metadata": {
    "collapsed": true
   },
   "outputs": [],
   "source": [
    "save_model_name = '/home/kai/talkingdata/data/all_suppelement_xgbtree_1200_depth7_scale99_lr0.03.pickle.dat'\n",
    "model = train_xgboost(df_all, None, feature_cols,None,params,None,target)\n",
    "pickle.dump(model, open(save_model_name, \"wb\"))"
   ]
  },
  {
   "cell_type": "code",
   "execution_count": null,
   "metadata": {
    "collapsed": true
   },
   "outputs": [],
   "source": [
    "model_load = pickle.load(open(save_model_name, \"rb\"))\n",
    "c = model_load.predict_proba(valset[feature_cols].values, ntree_limit=89)[:,1]"
   ]
  }
 ],
 "metadata": {
  "kernelspec": {
   "display_name": "Python 3",
   "language": "python",
   "name": "python3"
  },
  "language_info": {
   "codemirror_mode": {
    "name": "ipython",
    "version": 3
   },
   "file_extension": ".py",
   "mimetype": "text/x-python",
   "name": "python",
   "nbconvert_exporter": "python",
   "pygments_lexer": "ipython3",
   "version": "3.6.3"
  }
 },
 "nbformat": 4,
 "nbformat_minor": 2
}
