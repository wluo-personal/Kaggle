{
 "cells": [
  {
   "cell_type": "code",
   "execution_count": 1,
   "metadata": {
    "collapsed": true
   },
   "outputs": [],
   "source": [
    "import pandas as pd\n",
    "import numpy as np"
   ]
  },
  {
   "cell_type": "code",
   "execution_count": 2,
   "metadata": {
    "collapsed": true
   },
   "outputs": [],
   "source": [
    "path = '/home/kai/data/kaggle/talkingdata/data/'\n",
    "train = pd.read_csv(path + 'train_cleaned_final.csv')\n"
   ]
  },
  {
   "cell_type": "code",
   "execution_count": 3,
   "metadata": {
    "collapsed": true
   },
   "outputs": [],
   "source": [
    "### channel app os"
   ]
  },
  {
   "cell_type": "code",
   "execution_count": 4,
   "metadata": {
    "collapsed": true
   },
   "outputs": [],
   "source": [
    "day = train['day'].value_counts()"
   ]
  },
  {
   "cell_type": "code",
   "execution_count": 10,
   "metadata": {},
   "outputs": [],
   "source": [
    "group = train.groupby(['day'])"
   ]
  },
  {
   "cell_type": "code",
   "execution_count": 54,
   "metadata": {},
   "outputs": [],
   "source": [
    "# val - front\n",
    "total_length = len(train)\n",
    "val_length = 1600 * 10000\n",
    "train_length = 5900 * 10000\n",
    "\n",
    "valset = {}\n",
    "trainset = {}\n",
    "lgb_val = train.iloc[total_length-(val_length+train_length): total_length-train_length]\n",
    "lgb_train = train.iloc[total_length-train_length: ]\n",
    "\n",
    "for col in ['channel', 'app', 'os', 'device', 'ip']:\n",
    "    valset[col] = set(lgb_val[col].value_counts().index.values)\n",
    "#     valset[col] = set(train.loc[total_length-75000000: total_length-52500000,col].value_counts().index.values)\n",
    "    trainset[col] = set(lgb_train[col].value_counts().index.values)"
   ]
  },
  {
   "cell_type": "code",
   "execution_count": 38,
   "metadata": {
    "collapsed": true
   },
   "outputs": [],
   "source": [
    "# val - rear\n",
    "total_length = len(train)\n",
    "val_length = 2000 * 10000\n",
    "train_length = 5500 * 10000\n",
    "\n",
    "valset = {}\n",
    "trainset = {}\n",
    "lgb_val = train.iloc[total_length-val_length:]\n",
    "lgb_train = train.iloc[total_length-(val_length+train_length): total_length-val_length]\n",
    "\n",
    "for col in ['channel', 'app', 'os', 'device']:\n",
    "    valset[col] = set(lgb_val[col].value_counts().index.values)\n",
    "#     valset[col] = set(train.loc[total_length-75000000: total_length-52500000,col].value_counts().index.values)\n",
    "    trainset[col] = set(lgb_train[col].value_counts().index.values)"
   ]
  },
  {
   "cell_type": "code",
   "execution_count": 39,
   "metadata": {},
   "outputs": [
    {
     "name": "stdout",
     "output_type": "stream",
     "text": [
      "21500000\n",
      "0\n",
      "21500000\n",
      "55000000\n"
     ]
    }
   ],
   "source": [
    "#### val\n",
    "total_length = len(train)\n",
    "val_length = 2150 * 10000\n",
    "train_length = 5500 * 10000\n",
    "val_front = 1\n",
    "val_front_length = int(val_length * val_front)\n",
    "val_rear_length = val_length - val_front_length\n",
    "valset = {}\n",
    "trainset = {}\n",
    "\n",
    "lgb_val_front = train.iloc[total_length-(val_length+train_length): total_length-(val_length+train_length) + val_front_length]\n",
    "print(len(lgb_val_front))\n",
    "lgb_val_rear = train.iloc[total_length-(val_rear_length):]\n",
    "print(len(lgb_val_rear))\n",
    "lgb_val = pd.concat([lgb_val_front,lgb_val_rear])\n",
    "lgb_train = train.iloc[total_length-(val_length+train_length) + val_front_length: total_length-(val_rear_length)]\n",
    "\n",
    "print(len(lgb_val))\n",
    "print(len(lgb_train))\n",
    "\n",
    "for col in ['channel', 'app', 'os', 'device']:\n",
    "    trainset[col] = set(lgb_train[col].value_counts().index.values)\n",
    "    valset[col] = set(lgb_val[col].value_counts().index.values)"
   ]
  },
  {
   "cell_type": "markdown",
   "metadata": {},
   "source": [
    "# In val not in train\n",
    "\n",
    "app - 5%  \n",
    "device - 16.3%  \n",
    "os - 14.1%  \n",
    "channel - 0.0%  "
   ]
  },
  {
   "cell_type": "code",
   "execution_count": 55,
   "metadata": {},
   "outputs": [
    {
     "name": "stdout",
     "output_type": "stream",
     "text": [
      "app\n",
      "0.06005221932114883\n",
      "-------\n",
      "device\n",
      "0.1453055141579732\n",
      "-------\n",
      "os\n",
      "0.1411042944785276\n",
      "-------\n",
      "channel\n",
      "0.011428571428571429\n",
      "-------\n",
      "ip\n",
      "0.48494051346274264\n",
      "-------\n"
     ]
    }
   ],
   "source": [
    "for col in [ 'app', 'device', 'os', 'channel','ip']:\n",
    "    print(col)\n",
    "    pro = len(valset[col] - trainset[col]) / len(valset[col])\n",
    "    print(pro)\n",
    "    print('-------')"
   ]
  },
  {
   "cell_type": "code",
   "execution_count": 60,
   "metadata": {},
   "outputs": [
    {
     "data": {
      "text/plain": [
       "set()"
      ]
     },
     "execution_count": 60,
     "metadata": {},
     "output_type": "execute_result"
    }
   ],
   "source": [
    "valset[col] - trainset[col]"
   ]
  },
  {
   "cell_type": "code",
   "execution_count": 61,
   "metadata": {},
   "outputs": [
    {
     "data": {
      "text/plain": [
       "401"
      ]
     },
     "execution_count": 61,
     "metadata": {},
     "output_type": "execute_result"
    }
   ],
   "source": [
    "len(valset['app'])"
   ]
  },
  {
   "cell_type": "code",
   "execution_count": 62,
   "metadata": {},
   "outputs": [
    {
     "data": {
      "text/plain": [
       "706"
      ]
     },
     "execution_count": 62,
     "metadata": {},
     "output_type": "execute_result"
    }
   ],
   "source": [
    "len(trainset['app'])"
   ]
  },
  {
   "cell_type": "code",
   "execution_count": null,
   "metadata": {
    "collapsed": true
   },
   "outputs": [],
   "source": []
  }
 ],
 "metadata": {
  "kernelspec": {
   "display_name": "Python 3",
   "language": "python",
   "name": "python3"
  },
  "language_info": {
   "codemirror_mode": {
    "name": "ipython",
    "version": 3
   },
   "file_extension": ".py",
   "mimetype": "text/x-python",
   "name": "python",
   "nbconvert_exporter": "python",
   "pygments_lexer": "ipython3",
   "version": "3.6.3"
  }
 },
 "nbformat": 4,
 "nbformat_minor": 2
}
