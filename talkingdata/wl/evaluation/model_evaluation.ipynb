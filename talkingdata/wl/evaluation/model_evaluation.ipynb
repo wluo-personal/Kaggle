{
 "cells": [
  {
   "cell_type": "code",
   "execution_count": 1,
   "metadata": {
    "collapsed": true
   },
   "outputs": [],
   "source": [
    "import pandas as pd\n",
    "import lightgbm as lgb\n",
    "import numpy as np\n",
    "import gc\n",
    "import json\n",
    "import xgboost as xgb\n",
    "import pickle\n",
    "from catboost import CatBoostClassifier, Pool\n",
    "from sklearn.metrics import roc_auc_score"
   ]
  },
  {
   "cell_type": "code",
   "execution_count": 2,
   "metadata": {
    "collapsed": true
   },
   "outputs": [],
   "source": [
    "dtypes = {\n",
    "        'app'           : 'uint16',\n",
    "        'device'        : 'uint16',\n",
    "        'os'            : 'uint16',\n",
    "        'channel'       : 'uint16',\n",
    "        'hour'          : 'uint8',\n",
    "        'is_attributed' : 'uint8', \n",
    "        'ip_day_hour_count': 'uint32', \n",
    "        'ip_os_day_hour_count': 'uint32', \n",
    "        'ip_app_day_hour_count': 'uint32', \n",
    "        'ip_app_os_day_hour_count': 'uint32', \n",
    "        'app_day_hour_count': 'uint32', \n",
    "        'ip_device_os_count': 'uint32', \n",
    "        'ip_app_device_os_count': 'uint32', \n",
    "        'ip_device_os_mean': 'float16',\n",
    "        'ip_app_device_os_mean': 'float16',\n",
    "        'ip_app_device_mean': 'float16',\n",
    "        'app_device_os_mean': 'float16',\n",
    "        'ip_device_os_time2nextclick': 'int32',\n",
    "        'ip_app_device_os_time2nextclick': 'int32',\n",
    "        'ip_app_device_time2nextclick': 'int32',\n",
    "        'ip_device_os_time2previousclick': 'int32',\n",
    "        'ip_app_device_os_time2previousclick': 'int32',\n",
    "        'ip_app_device_time2previousclick': 'int32',\n",
    "        'ip_device_os_countfromfuture': 'uint32', \n",
    "        'ip_app_device_os_countfromfuture': 'uint32', \n",
    "        'ip_app_device_countfromfuture': 'uint32', \n",
    "        'ip_device_os_countfrompast': 'uint32', \n",
    "        'ip_app_device_os_countfrompast': 'uint32', \n",
    "        'ip_app_device_countfrompast': 'uint32', \n",
    "        'ip_device_os_lasttimediff': 'int32',\n",
    "        'ip_app_device_os_lasttimediff': 'int32',\n",
    "        'ip_app_device_lasttimediff': 'int32',\n",
    "        'ip_device_os_firsttimediff': 'int32',\n",
    "        'ip_app_device_os_firsttimediff': 'int32',\n",
    "        'ip_app_device_firsttimediff': 'int32',\n",
    "        'matrixFact_user_iposdeviceapp_item_app': 'float16',\n",
    "        'matrixFact_user_ip_item_appdeviceos': 'float16',\n",
    "        'matrixFact_user_ipchannel_item_appdeviceos': 'float16',\n",
    "        'ip_device_os_regression': 'float16',\n",
    "        'ip_app_device_os_regression': 'float16',\n",
    "        'ip_app_device_regression': 'float16',\n",
    "        'ip_app_device_os_channel_regression': 'float16', \n",
    "        'attributed_timediffmax':'int32',\n",
    "        'attributed_timediffmin':'int32',\n",
    "        'attributed_timediff':'float16',\n",
    "        'matrixFact_user_ipappdeviceos_item_channel': 'float16'\n",
    "    \n",
    "        } "
   ]
  },
  {
   "cell_type": "markdown",
   "metadata": {},
   "source": [
    "# Load evaluation file"
   ]
  },
  {
   "cell_type": "code",
   "execution_count": 3,
   "metadata": {},
   "outputs": [
    {
     "name": "stdout",
     "output_type": "stream",
     "text": [
      "loading evl done!\n"
     ]
    }
   ],
   "source": [
    "evl_path = '/home/kai/data/kaggle/talkingdata/wl/data/equalhour/day9_features_equalhour_supplementV3_feature42.csv'\n",
    "evl = pd.read_csv(evl_path)\n",
    "print('loading evl done!')\n",
    "groudtruth = evl['is_attributed'].values"
   ]
  },
  {
   "cell_type": "markdown",
   "metadata": {},
   "source": [
    "# Lightgbm"
   ]
  },
  {
   "cell_type": "code",
   "execution_count": 5,
   "metadata": {},
   "outputs": [
    {
     "name": "stdout",
     "output_type": "stream",
     "text": [
      "load model done!\n",
      "load feature cols done!\n",
      "-------\n",
      "predict done!\n",
      "predicting... 300 done! roc is 0.9865661195463861\n",
      "-------\n",
      "predict done!\n",
      "predicting... 370 done! roc is 0.9872490201775088\n",
      "-------\n",
      "predict done!\n",
      "predicting... 470 done! roc is 0.9881203090924928\n",
      "overall roc: 0.9875862021306904\n"
     ]
    }
   ],
   "source": [
    "model_path = '/home/kai/data/kaggle/talkingdata/wl/data/lightgbm/'\n",
    "model_name = 'paramsCombo_1_lr0.05_scale99_ntree500'\n",
    "feature_file = '/home/kai/data/kaggle/talkingdata/wl/data/lightgbm/featurecolsV3_col38_scale99.json'\n",
    "num_trees_lightgbm = [300, 370, 470]\n",
    "\n",
    "\n",
    "modelfile=model_path+model_name\n",
    "model_load_lightgbm = lgb.Booster(model_file=modelfile)\n",
    "print('load model done!')\n",
    "\n",
    "\n",
    "\n",
    "feature_col_load_lightgbm = json.load(open(feature_file))\n",
    "print('load feature cols done!')\n",
    "\n",
    "preds_lightgbm = []\n",
    "for ntree in num_trees_lightgbm:\n",
    "    ntree = int(ntree)\n",
    "    print('-------')\n",
    "    cur_pred = model_load_lightgbm.predict(evl[model_load_lightgbm.feature_name()], num_iteration=ntree)\n",
    "    print('predict done!')\n",
    "    cur_roc = roc_auc_score(groudtruth, cur_pred)\n",
    "    preds_lightgbm.append(cur_pred)\n",
    "    print('predicting... {} done! roc is {}'.format(ntree, cur_roc))\n",
    "pred_lightgbm = np.mean(preds_lightgbm, axis=0)\n",
    "roc_lightgbm = roc_auc_score(groudtruth, pred_lightgbm)\n",
    "print('overall roc: {}'.format(roc_lightgbm))"
   ]
  },
  {
   "cell_type": "markdown",
   "metadata": {},
   "source": [
    "# XGBoost"
   ]
  },
  {
   "cell_type": "code",
   "execution_count": 17,
   "metadata": {},
   "outputs": [
    {
     "name": "stdout",
     "output_type": "stream",
     "text": [
      "load model done!\n",
      "load feature cols done!\n",
      "-----------\n",
      "predicting... 80 done! roc is 0.9834868698550314\n",
      "-----------\n",
      "predicting... 120 done! roc is 0.9845585483539724\n",
      "-----------\n",
      "predicting... 150 done! roc is 0.9851541042537096\n",
      "-----------\n",
      "predicting... 250 done! roc is 0.9853402461429296\n",
      "-----------\n",
      "predicting... 350 done! roc is 0.9853402461429296\n",
      "-----------\n",
      "predicting... 450 done! roc is 0.9853402461429296\n",
      "overall roc: 0.9850219470181852\n"
     ]
    }
   ],
   "source": [
    "model_path = '/home/kai/data/kaggle/talkingdata/wl/data/xgboost/'\n",
    "model_name = 'all_suppelement_xgbtree_900_depth7_scale99_lr0.1'\n",
    "model_postfix = '.pickle.dat'\n",
    "feature_file_xgb = model_path + 'xgb-featurecolsV3_col38_scale99.json'\n",
    "num_trees_load_xgboost = [80, 120, 150, 250, 350, 450]\n",
    "\n",
    "\n",
    "modelfile=model_path + model_name + model_postfix\n",
    "model_load_xgb = pickle.load(open(modelfile, \"rb\"))\n",
    "model_load_xgb.set_params(**{'n_jobs':8, 'nthread':8})\n",
    "print('load model done!')\n",
    "\n",
    "feature_col_load_xgb = json.load(open(feature_file_xgb))\n",
    "print('load feature cols done!')\n",
    "\n",
    "preds_xgb = []\n",
    "for ntree in num_trees_load_xgboost:\n",
    "    ntree = int(ntree)\n",
    "    print('-----------')\n",
    "    cur_pred = model_load_xgb.predict_proba(evl[feature_col_load_xgb].values, ntree_limit=ntree)[:,1]\n",
    "    preds_xgb.append(cur_pred)\n",
    "    cur_roc = roc_auc_score(groudtruth, cur_pred)\n",
    "    print('predicting... {} done! roc is {}'.format(ntree, cur_roc))\n",
    "\n",
    "pred_xgb = np.mean(preds_xgb, axis=0)\n",
    "roc_xgb = roc_auc_score(groudtruth, pred_xgb)\n",
    "print('overall roc: {}'.format(roc_xgb))"
   ]
  },
  {
   "cell_type": "markdown",
   "metadata": {},
   "source": [
    "# CatBoost"
   ]
  },
  {
   "cell_type": "code",
   "execution_count": 24,
   "metadata": {},
   "outputs": [
    {
     "name": "stdout",
     "output_type": "stream",
     "text": [
      "load model done!\n",
      "load feature cols done!\n",
      "-----------\n",
      "predicting... 300 done! roc is 0.9823135788741154\n",
      "-----------\n",
      "predicting... 650 done! roc is 0.9834321113945278\n",
      "-----------\n",
      "predicting... 850 done! roc is 0.9837594762372315\n",
      "-----------\n",
      "predicting... 1100 done! roc is 0.9840574219877543\n",
      "-----------\n",
      "predicting... 1200 done! roc is 0.9841536069873347\n",
      "overall roc: 0.9836434675247574\n"
     ]
    }
   ],
   "source": [
    "model_path = '/home/kai/data/kaggle/talkingdata/wl/data/catboost/'\n",
    "model_name = 'all_suppelement_tree_1200_depth6_scale398_lr0.05'\n",
    "model_postfix = ''\n",
    "feature_file_catboost = model_path + 'catboost-featurecolsV3_col38_scale398.json'\n",
    "num_trees_load_catboost = [300, 650, 850, 1100, 1200]\n",
    "\n",
    "\n",
    "modelfile=model_path + model_name + model_postfix\n",
    "model_load_catboost = CatBoostClassifier().load_model(fname=modelfile)\n",
    "model_load_catboost.set_params(**{'thread_count':30})\n",
    "print('load model done!')\n",
    "\n",
    "feature_col_load_catboost = json.load(open(feature_file_catboost))\n",
    "print('load feature cols done!')\n",
    "\n",
    "\n",
    "preds_catboost = []\n",
    "\n",
    "for ntree in num_trees_load_catboost:\n",
    "    ntree = int(ntree)\n",
    "    print('-----------')\n",
    "    cur_pred = model_load_catboost.predict_proba(evl[feature_col_load_catboost].values, ntree_start=0, ntree_end=ntree)[:,1]\n",
    "    preds_catboost.append(cur_pred)\n",
    "    cur_roc = roc_auc_score(groudtruth, cur_pred)\n",
    "    print('predicting... {} done! roc is {}'.format(ntree, cur_roc))\n",
    "\n",
    "pred_catboost = np.mean(preds_catboost, axis=0)\n",
    "roc_catboost = roc_auc_score(groudtruth, pred_catboost)\n",
    "print('overall roc: {}'.format(roc_catboost))"
   ]
  },
  {
   "cell_type": "markdown",
   "metadata": {},
   "source": [
    "# XGBoost LR 0.35 ff 0.7 ntree160\n"
   ]
  },
  {
   "cell_type": "code",
   "execution_count": 17,
   "metadata": {
    "scrolled": true
   },
   "outputs": [
    {
     "name": "stdout",
     "output_type": "stream",
     "text": [
      "load model done!\n"
     ]
    }
   ],
   "source": [
    "model_path = '/home/kai/data/kaggle/talkingdata/wl/data/xgboost/'\n",
    "model_name = 'all_suppelement_xgbtree_160_depth7_scale99_lr0.35_ff0.7'\n",
    "model_postfix = '.pickle.dat'\n",
    "feature_file_xgb = model_path + 'xgb-featurecolsV3_col38_scale99_lr0.35_ff0.7.json'\n",
    "num_trees_load_xgboost = [ 160]\n",
    "\n",
    "\n",
    "modelfile=model_path + model_name + model_postfix\n",
    "model_load_xgb = pickle.load(open(modelfile, \"rb\"))\n",
    "model_load_xgb.set_params(**{'n_jobs':8, 'nthread':8})\n",
    "print('load model done!')\n",
    "\n",
    "# feature_col_load_xgb = json.load(open(feature_file_xgb))\n",
    "# print('load feature cols done!')\n",
    "\n",
    "# preds_xgb = []\n",
    "# for ntree in num_trees_load_xgboost:\n",
    "#     ntree = int(ntree)\n",
    "#     print('-----------')\n",
    "#     cur_pred = model_load_xgb.predict_proba(evl[feature_col_load_xgb].values, ntree_limit=ntree)[:,1]\n",
    "#     preds_xgb.append(cur_pred)\n",
    "#     cur_roc = roc_auc_score(groudtruth, cur_pred)\n",
    "#     print('predicting... {} done! roc is {}'.format(ntree, cur_roc))\n",
    "\n",
    "# pred_xgb = np.mean(preds_xgb, axis=0)\n",
    "# roc_xgb = roc_auc_score(groudtruth, pred_xgb)\n",
    "# print('overall roc: {}'.format(roc_xgb))"
   ]
  },
  {
   "cell_type": "markdown",
   "metadata": {},
   "source": [
    "# Catboost"
   ]
  },
  {
   "cell_type": "code",
   "execution_count": 11,
   "metadata": {},
   "outputs": [
    {
     "name": "stdout",
     "output_type": "stream",
     "text": [
      "load model done!\n",
      "load feature cols done!\n",
      "-----------\n",
      "predicting... 120 done! roc is 0.9834432295981801\n",
      "-----------\n",
      "predicting... 140 done! roc is 0.9836116512851736\n",
      "-----------\n",
      "predicting... 160 done! roc is 0.9837413865165421\n",
      "-----------\n",
      "predicting... 180 done! roc is 0.9838806717241653\n",
      "-----------\n",
      "predicting... 200 done! roc is 0.984021132773208\n",
      "overall roc: 0.983770181016828\n"
     ]
    }
   ],
   "source": [
    "model_path = '/home/kai/data/kaggle/talkingdata/wl/data/catboost/'\n",
    "model_name = 'catboost2-all_suppelement_tree_200_depth7_scale99_lr0.35_ff0.7'\n",
    "model_postfix = ''\n",
    "feature_file_catboost = model_path + 'catboost2-featurecolsV3_col38_depth7_scale99_tree200_lr0.35.json'\n",
    "num_trees_load_catboost = [120, 140, 160, 180, 200]\n",
    "\n",
    "\n",
    "modelfile=model_path + model_name + model_postfix\n",
    "model_load_catboost = CatBoostClassifier().load_model(fname=modelfile)\n",
    "model_load_catboost.set_params(**{'thread_count':30})\n",
    "print('load model done!')\n",
    "\n",
    "feature_col_load_catboost = json.load(open(feature_file_catboost))\n",
    "print('load feature cols done!')\n",
    "\n",
    "\n",
    "preds_catboost = []\n",
    "\n",
    "for ntree in num_trees_load_catboost:\n",
    "    ntree = int(ntree)\n",
    "    print('-----------')\n",
    "    cur_pred = model_load_catboost.predict_proba(evl[feature_col_load_catboost].values, ntree_start=0, ntree_end=ntree)[:,1]\n",
    "    preds_catboost.append(cur_pred)\n",
    "    cur_roc = roc_auc_score(groudtruth, cur_pred)\n",
    "    print('predicting... {} done! roc is {}'.format(ntree, cur_roc))\n",
    "\n",
    "pred_catboost = np.mean(preds_catboost, axis=0)\n",
    "roc_catboost = roc_auc_score(groudtruth, pred_catboost)\n",
    "print('overall roc: {}'.format(roc_catboost))"
   ]
  },
  {
   "cell_type": "markdown",
   "metadata": {},
   "source": [
    "# Lightgbm encoding500"
   ]
  },
  {
   "cell_type": "code",
   "execution_count": 4,
   "metadata": {},
   "outputs": [
    {
     "name": "stdout",
     "output_type": "stream",
     "text": [
      "load model done!\n",
      "load feature cols done!\n",
      "-------\n",
      "predict done!\n",
      "predicting... 300 done! roc is 0.9852844480551558\n",
      "-------\n",
      "predict done!\n",
      "predicting... 370 done! roc is 0.985885154379836\n",
      "-------\n",
      "predict done!\n",
      "predicting... 470 done! roc is 0.9866509382041232\n",
      "overall roc: 0.9860918655504829\n"
     ]
    }
   ],
   "source": [
    "model_path = '/home/kai/data/kaggle/talkingdata/wl/data/lightgbm/'\n",
    "model_name = 'lightgbm_paramsCombo_1_lr0.05_scale99_ntree500_ff0.5_bf0.7_onehot500'\n",
    "feature_file = '/home/kai/data/kaggle/talkingdata/wl/data/lightgbm/lightgbm-featurecolsV3_col38_scale99_honehot500.json'\n",
    "num_trees_lightgbm = [300, 370, 470]\n",
    "\n",
    "\n",
    "modelfile=model_path+model_name\n",
    "model_load_lightgbm = lgb.Booster(model_file=modelfile)\n",
    "print('load model done!')\n",
    "\n",
    "\n",
    "\n",
    "feature_col_load_lightgbm = json.load(open(feature_file))\n",
    "print('load feature cols done!')\n",
    "\n",
    "preds_lightgbm = []\n",
    "for ntree in num_trees_lightgbm:\n",
    "    ntree = int(ntree)\n",
    "    print('-------')\n",
    "    cur_pred = model_load_lightgbm.predict(evl[model_load_lightgbm.feature_name()], num_iteration=ntree)\n",
    "    print('predict done!')\n",
    "    cur_roc = roc_auc_score(groudtruth, cur_pred)\n",
    "    preds_lightgbm.append(cur_pred)\n",
    "    print('predicting... {} done! roc is {}'.format(ntree, cur_roc))\n",
    "pred_lightgbm = np.mean(preds_lightgbm, axis=0)\n",
    "roc_lightgbm = roc_auc_score(groudtruth, pred_lightgbm)\n",
    "print('overall roc: {}'.format(roc_lightgbm))"
   ]
  },
  {
   "cell_type": "markdown",
   "metadata": {
    "collapsed": true
   },
   "source": [
    "# Catboost 0504 12:15am"
   ]
  },
  {
   "cell_type": "code",
   "execution_count": 4,
   "metadata": {},
   "outputs": [
    {
     "name": "stdout",
     "output_type": "stream",
     "text": [
      "load model done!\n",
      "load feature cols done!\n",
      "-----------\n",
      "predicting... 120 done! roc is 0.9830265201861706\n",
      "-----------\n",
      "predicting... 140 done! roc is 0.9832312648211872\n",
      "-----------\n",
      "predicting... 160 done! roc is 0.9833264578291416\n",
      "-----------\n",
      "predicting... 180 done! roc is 0.9834340634021058\n",
      "-----------\n",
      "predicting... 200 done! roc is 0.9835420255731265\n",
      "overall roc: 0.9833353425287115\n"
     ]
    }
   ],
   "source": [
    "model_path = '/home/kai/data/kaggle/talkingdata/wl/data/catboost/'\n",
    "model_name = 'all_suppelement_tree_200_depth6_scale99_lr0.35_ff0.6_onehot200'\n",
    "model_postfix = ''\n",
    "feature_file_catboost = model_path + 'catboost-featurecolsV3_col38_depth6_scale99_tree200_lr0.35_ff0.6_onehot200.json'\n",
    "num_trees_load_catboost = [120, 140, 160, 180, 200]\n",
    "\n",
    "\n",
    "modelfile=model_path + model_name + model_postfix\n",
    "model_load_catboost = CatBoostClassifier().load_model(fname=modelfile)\n",
    "model_load_catboost.set_params(**{'thread_count':30})\n",
    "print('load model done!')\n",
    "\n",
    "feature_col_load_catboost = json.load(open(feature_file_catboost))\n",
    "print('load feature cols done!')\n",
    "\n",
    "\n",
    "preds_catboost = []\n",
    "\n",
    "for ntree in num_trees_load_catboost:\n",
    "    ntree = int(ntree)\n",
    "    print('-----------')\n",
    "    cur_pred = model_load_catboost.predict_proba(evl[feature_col_load_catboost].values, ntree_start=0, ntree_end=ntree)[:,1]\n",
    "    preds_catboost.append(cur_pred)\n",
    "    cur_roc = roc_auc_score(groudtruth, cur_pred)\n",
    "    print('predicting... {} done! roc is {}'.format(ntree, cur_roc))\n",
    "\n",
    "pred_catboost = np.mean(preds_catboost, axis=0)\n",
    "roc_catboost = roc_auc_score(groudtruth, pred_catboost)\n",
    "print('overall roc: {}'.format(roc_catboost))"
   ]
  },
  {
   "cell_type": "code",
   "execution_count": null,
   "metadata": {
    "collapsed": true
   },
   "outputs": [],
   "source": []
  }
 ],
 "metadata": {
  "kernelspec": {
   "display_name": "Python 3",
   "language": "python",
   "name": "python3"
  },
  "language_info": {
   "codemirror_mode": {
    "name": "ipython",
    "version": 3
   },
   "file_extension": ".py",
   "mimetype": "text/x-python",
   "name": "python",
   "nbconvert_exporter": "python",
   "pygments_lexer": "ipython3",
   "version": "3.6.3"
  }
 },
 "nbformat": 4,
 "nbformat_minor": 2
}
