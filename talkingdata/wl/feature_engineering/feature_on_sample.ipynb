{
 "cells": [
  {
   "cell_type": "code",
   "execution_count": 1,
   "metadata": {
    "collapsed": true
   },
   "outputs": [],
   "source": [
    "import pandas as pd\n",
    "import numpy as np\n",
    "import time\n",
    "import gc"
   ]
  },
  {
   "cell_type": "code",
   "execution_count": null,
   "metadata": {
    "collapsed": true
   },
   "outputs": [],
   "source": [
    "path = '/home/kai/data/kaggle/talkingdata/data/'\n",
    "train_sample = pd.read_csv(path + 'train_sample_cleaned.csv')"
   ]
  },
  {
   "cell_type": "code",
   "execution_count": null,
   "metadata": {},
   "outputs": [],
   "source": [
    "train_sample.dtypes"
   ]
  },
  {
   "cell_type": "markdown",
   "metadata": {},
   "source": [
    "# explore time"
   ]
  },
  {
   "cell_type": "code",
   "execution_count": null,
   "metadata": {},
   "outputs": [],
   "source": [
    "print('training')\n",
    "print(train_sample.timestamp.max() - train_sample.timestamp.min())\n",
    "print('max: {}'.format(train_sample.timestamp.max()))\n",
    "print('min: {}'.format(train_sample.timestamp.min()))\n",
    "print('==========')\n",
    "print('testing')\n",
    "print(train_sample.timestamp.max() - train_sample.timestamp.min())\n",
    "print('max: {}'.format(train_sample.timestamp.max()))\n",
    "print('min: {}'.format(train_sample.timestamp.min()))"
   ]
  },
  {
   "cell_type": "markdown",
   "metadata": {
    "collapsed": true
   },
   "source": [
    "# Use 10% train as Sample"
   ]
  },
  {
   "cell_type": "code",
   "execution_count": 2,
   "metadata": {},
   "outputs": [
    {
     "data": {
      "text/plain": [
       "0"
      ]
     },
     "execution_count": 2,
     "metadata": {},
     "output_type": "execute_result"
    }
   ],
   "source": [
    "path = '/home/kai/data/kaggle/talkingdata/data/'\n",
    "train = pd.read_csv(path + 'train_cleaned.csv')\n",
    "test = pd.read_csv(path + 'test_cleaned.csv')\n",
    "\n",
    "ratio = 0.1\n",
    "length = int(len(train) * ratio)\n",
    "train = train[-length:None]\n",
    "\n",
    "# del train\n",
    "gc.collect()"
   ]
  },
  {
   "cell_type": "markdown",
   "metadata": {},
   "source": [
    "# Get K Fold"
   ]
  },
  {
   "cell_type": "code",
   "execution_count": 7,
   "metadata": {},
   "outputs": [],
   "source": [
    "from sklearn.model_selection import KFold\n",
    "K = 6\n",
    "kf = KFold(n_splits=K, shuffle = False)\n",
    "\n",
    "history_index = []\n",
    "train_index = []\n",
    "for h,t in kf.split(train):\n",
    "    history_index.append(h)\n",
    "    train_index.append(t)"
   ]
  },
  {
   "cell_type": "code",
   "execution_count": 8,
   "metadata": {},
   "outputs": [
    {
     "name": "stdout",
     "output_type": "stream",
     "text": [
      "0.3444103002548218\n",
      "3081731\n"
     ]
    }
   ],
   "source": [
    "df_history = train.iloc[history_index[-1]]\n",
    "df_train = train.iloc[train_index[-1]]\n",
    "\n",
    "import sys\n",
    "print(sys.getsizeof(df_train)/ 1024 **3)\n",
    "print(len(df_train))"
   ]
  },
  {
   "cell_type": "markdown",
   "metadata": {},
   "source": [
    "# Get Group"
   ]
  },
  {
   "cell_type": "code",
   "execution_count": 10,
   "metadata": {
    "collapsed": true
   },
   "outputs": [],
   "source": [
    "orders = {}\n",
    "feature_col = ['ip', \n",
    "              'app', \n",
    "              'device', \n",
    "              'os', \n",
    "              'channel',\n",
    "              'year', \n",
    "              'month',\n",
    "              'week',\n",
    "              'day',\n",
    "              'hour',\n",
    "              'timestamp',\n",
    "              'minute',\n",
    "              'second']\n",
    "for col in feature_col:\n",
    "    orders[col] = 10 ** (int(np.log(max(train[col].max(),test[col].max() ) + 1) / np.log(10)) + 1)\n",
    "def get_group(df, cols):\n",
    "    \"\"\"\n",
    "    define an encoding method which can ganrantee the combination will be unique.\n",
    "    eg: artist_name_composer will be a combination of (artist_name,composer) and the encoding will reflect the unqiue combination of those two\n",
    "    \"\"\"\n",
    "    group = df[cols[0]].copy()\n",
    "    for col in cols[1:]:\n",
    "        group = group * orders[col] + df[col]\n",
    "        \n",
    "    return group"
   ]
  },
  {
   "cell_type": "markdown",
   "metadata": {},
   "source": [
    "# Combine Features"
   ]
  },
  {
   "cell_type": "code",
   "execution_count": 21,
   "metadata": {},
   "outputs": [
    {
     "name": "stdout",
     "output_type": "stream",
     "text": [
      "ip_app_device\n",
      "ip_app_os\n",
      "ip_app_channel\n",
      "ip_app_day\n",
      "ip_app_hour\n",
      "ip_app_minute\n",
      "ip_app_second\n",
      "ip_device_os\n",
      "ip_device_channel\n",
      "ip_device_day\n",
      "ip_device_hour\n",
      "ip_device_minute\n",
      "ip_device_second\n",
      "ip_os_channel\n",
      "ip_os_day\n",
      "ip_os_hour\n",
      "ip_os_minute\n",
      "ip_os_second\n",
      "ip_channel_day\n",
      "ip_channel_hour\n",
      "ip_channel_minute\n",
      "ip_channel_second\n",
      "ip_day_hour\n",
      "ip_day_minute\n",
      "ip_day_second\n",
      "ip_hour_minute\n",
      "ip_hour_second\n",
      "ip_minute_second\n",
      "app_device_os\n",
      "app_device_channel\n",
      "app_device_day\n",
      "app_device_hour\n",
      "app_device_minute\n",
      "app_device_second\n",
      "app_os_channel\n",
      "app_os_day\n",
      "app_os_hour\n",
      "app_os_minute\n",
      "app_os_second\n",
      "app_channel_day\n",
      "app_channel_hour\n",
      "app_channel_minute\n",
      "app_channel_second\n",
      "app_day_hour\n",
      "app_day_minute\n",
      "app_day_second\n",
      "app_hour_minute\n",
      "app_hour_second\n",
      "app_minute_second\n",
      "device_os_channel\n",
      "device_os_day\n",
      "device_os_hour\n",
      "device_os_minute\n",
      "device_os_second\n",
      "device_channel_day\n",
      "device_channel_hour\n",
      "device_channel_minute\n",
      "device_channel_second\n",
      "device_day_hour\n",
      "device_day_minute\n",
      "device_day_second\n",
      "device_hour_minute\n",
      "device_hour_second\n",
      "device_minute_second\n",
      "os_channel_day\n",
      "os_channel_hour\n",
      "os_channel_minute\n",
      "os_channel_second\n",
      "os_day_hour\n",
      "os_day_minute\n",
      "os_day_second\n",
      "os_hour_minute\n",
      "os_hour_second\n",
      "os_minute_second\n",
      "channel_day_hour\n",
      "channel_day_minute\n",
      "channel_day_second\n",
      "channel_hour_minute\n",
      "channel_hour_second\n",
      "channel_minute_second\n",
      "day_hour_minute\n",
      "day_hour_second\n",
      "day_minute_second\n",
      "hour_minute_second\n",
      "84\n"
     ]
    }
   ],
   "source": [
    "from itertools import combinations\n",
    "\n",
    "\n",
    "combine_col = ['ip', \n",
    "              'app', \n",
    "              'device', \n",
    "              'os', \n",
    "              'channel', \n",
    "              'day',\n",
    "              'hour',\n",
    "              'minute',\n",
    "              'second']\n",
    "\n",
    "def col_name(cols, func=None):\n",
    "    if func is None:\n",
    "        return '_'.join(cols)\n",
    "    else:\n",
    "        return '_'.join(cols) + '_' + func.__name__\n",
    "\n",
    "counter = 0\n",
    "for cols in combinations(combine_col, 3):\n",
    "    print(col_name(cols))\n",
    "    counter += 1\n",
    "print(counter)"
   ]
  },
  {
   "cell_type": "code",
   "execution_count": null,
   "metadata": {
    "collapsed": true
   },
   "outputs": [],
   "source": []
  }
 ],
 "metadata": {
  "kernelspec": {
   "display_name": "Python 3",
   "language": "python",
   "name": "python3"
  },
  "language_info": {
   "codemirror_mode": {
    "name": "ipython",
    "version": 3
   },
   "file_extension": ".py",
   "mimetype": "text/x-python",
   "name": "python",
   "nbconvert_exporter": "python",
   "pygments_lexer": "ipython3",
   "version": "3.6.3"
  }
 },
 "nbformat": 4,
 "nbformat_minor": 2
}
