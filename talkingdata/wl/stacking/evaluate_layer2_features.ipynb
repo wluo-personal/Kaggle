{
 "cells": [
  {
   "cell_type": "code",
   "execution_count": 8,
   "metadata": {
    "collapsed": true
   },
   "outputs": [],
   "source": [
    "import pandas as pd\n",
    "import numpy as np"
   ]
  },
  {
   "cell_type": "code",
   "execution_count": 7,
   "metadata": {},
   "outputs": [
    {
     "name": "stdout",
     "output_type": "stream",
     "text": [
      "loading raw file done!\n",
      "18790469\n",
      "loading preds done!\n",
      "predicting file done!\n",
      "saving done\n"
     ]
    }
   ],
   "source": [
    "# prediction\n",
    "df_test_raw = pd.read_csv('/home/kai/data/kaggle/talkingdata/data/test.csv')\n",
    "print('loading raw file done!')\n",
    "\n",
    "pred_file = '/home/kai/data/kaggle/talkingdata/wl/data/stacking/test/result/layer2/test_layer2_count_2_param0.npy'\n",
    "pred = np.load(pred_file)\n",
    "print(len(pred))\n",
    "print('loading preds done!')\n",
    "\n",
    "df_sub = pd.DataFrame()\n",
    "df_sub['click_id'] = df_test_raw['click_id']\n",
    "df_sub['is_attributed'] = pred\n",
    "print('predicting file done!')\n",
    "\n",
    "df_sub.to_csv('/home/kai/data/kaggle/talkingdata/wl/data/submission/layer2_count_2_param0.csv.gz', compression='gzip', index=False)\n",
    "print('saving done')"
   ]
  },
  {
   "cell_type": "code",
   "execution_count": 4,
   "metadata": {
    "collapsed": true
   },
   "outputs": [],
   "source": [
    "pred_file1 = '/home/kai/data/kaggle/talkingdata/wl/data/stacking/test/result/layer2/test_layer2_count_0_param0.npy'\n",
    "pred_file2 = '/home/kai/data/kaggle/talkingdata/wl/data/stacking/test/result/layer2/test_layer2_count_1_param0.npy'\n",
    "pred1 = np.load(pred_file1)\n",
    "pred2 = np.load(pred_file2)"
   ]
  },
  {
   "cell_type": "code",
   "execution_count": 16,
   "metadata": {},
   "outputs": [],
   "source": [
    "pred_file1 = '/home/kai/data/kaggle/talkingdata/wl/data/stacking/train/result/train_fold1_predonfold0_count_1_param0.npy'\n",
    "pred_file2 = '/home/kai/data/kaggle/talkingdata/wl/data/stacking/train/result/train_fold2_predonfold0_count_1_param0.npy'\n",
    "pred_file11 = '/home/kai/data/kaggle/talkingdata/wl/data/stacking/test/result/test_fold1_count_1_param0.npy'\n",
    "pred_file22 = '/home/kai/data/kaggle/talkingdata/wl/data/stacking/test/result/test_fold2_count_1_param0.npy'\n",
    "pred1 = np.load(pred_file1)\n",
    "pred2 = np.load(pred_file2)\n",
    "pred11 = np.load(pred_file11)\n",
    "pred22 = np.load(pred_file22)\n",
    "\n",
    "\n",
    "pred_file1_2 = '/home/kai/data/kaggle/talkingdata/wl/data/stacking/train/result/train_fold1_predonfold2_count_1_param0.npy'\n",
    "pred_file0_2 = '/home/kai/data/kaggle/talkingdata/wl/data/stacking/train/result/train_fold0_predonfold2_count_1_param0.npy'\n",
    "pred1_2 = np.load(pred_file1_2)\n",
    "pred0_2 = np.load(pred_file0_2)"
   ]
  },
  {
   "cell_type": "code",
   "execution_count": 10,
   "metadata": {},
   "outputs": [
    {
     "data": {
      "text/plain": [
       "array([ 0.84083457,  0.88749952,  0.68913344, ...,  0.27927335,\n",
       "        0.00973109,  0.11579792])"
      ]
     },
     "execution_count": 10,
     "metadata": {},
     "output_type": "execute_result"
    }
   ],
   "source": [
    "pred1"
   ]
  },
  {
   "cell_type": "code",
   "execution_count": 11,
   "metadata": {},
   "outputs": [
    {
     "data": {
      "text/plain": [
       "array([ 0.55295129,  0.52871682,  0.7313227 , ...,  0.17069087,\n",
       "        0.00525627,  0.1485903 ])"
      ]
     },
     "execution_count": 11,
     "metadata": {},
     "output_type": "execute_result"
    }
   ],
   "source": [
    "pred2"
   ]
  },
  {
   "cell_type": "code",
   "execution_count": 14,
   "metadata": {},
   "outputs": [
    {
     "data": {
      "text/plain": [
       "array([ 0.1340116 ,  0.21826789,  0.06634163, ...,  0.27305709,\n",
       "        0.52775494,  0.05677935])"
      ]
     },
     "execution_count": 14,
     "metadata": {},
     "output_type": "execute_result"
    }
   ],
   "source": [
    "pred11"
   ]
  },
  {
   "cell_type": "code",
   "execution_count": 15,
   "metadata": {},
   "outputs": [
    {
     "data": {
      "text/plain": [
       "array([ 0.1292117 ,  0.1643421 ,  0.02788493, ...,  0.33488905,\n",
       "        0.13714095,  0.37014573])"
      ]
     },
     "execution_count": 15,
     "metadata": {},
     "output_type": "execute_result"
    }
   ],
   "source": [
    "pred22"
   ]
  },
  {
   "cell_type": "code",
   "execution_count": 17,
   "metadata": {},
   "outputs": [
    {
     "data": {
      "text/plain": [
       "array([ 0.15529972,  0.30375554,  0.00416998, ...,  0.72798661,\n",
       "        0.00940963,  0.18263341])"
      ]
     },
     "execution_count": 17,
     "metadata": {},
     "output_type": "execute_result"
    }
   ],
   "source": [
    "pred1_2"
   ]
  },
  {
   "cell_type": "code",
   "execution_count": 18,
   "metadata": {},
   "outputs": [
    {
     "data": {
      "text/plain": [
       "array([ 0.21343001,  0.20990797,  0.00294498, ...,  0.38032923,\n",
       "        0.01026586,  0.39555908])"
      ]
     },
     "execution_count": 18,
     "metadata": {},
     "output_type": "execute_result"
    }
   ],
   "source": [
    "pred0_2"
   ]
  },
  {
   "cell_type": "code",
   "execution_count": null,
   "metadata": {
    "collapsed": true
   },
   "outputs": [],
   "source": []
  }
 ],
 "metadata": {
  "kernelspec": {
   "display_name": "Python 3",
   "language": "python",
   "name": "python3"
  },
  "language_info": {
   "codemirror_mode": {
    "name": "ipython",
    "version": 3
   },
   "file_extension": ".py",
   "mimetype": "text/x-python",
   "name": "python",
   "nbconvert_exporter": "python",
   "pygments_lexer": "ipython3",
   "version": "3.6.3"
  }
 },
 "nbformat": 4,
 "nbformat_minor": 2
}
