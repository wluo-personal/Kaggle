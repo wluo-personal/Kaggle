{
 "cells": [
  {
   "cell_type": "code",
   "execution_count": 1,
   "metadata": {
    "collapsed": true
   },
   "outputs": [],
   "source": [
    "import pandas as pd\n",
    "import numpy as np\n",
    "import time\n",
    "import gc"
   ]
  },
  {
   "cell_type": "code",
   "execution_count": 2,
   "metadata": {},
   "outputs": [
    {
     "name": "stdout",
     "output_type": "stream",
     "text": [
      "train done!\n"
     ]
    }
   ],
   "source": [
    "path = '/home/kai/data/kaggle/talkingdata/data/'\n",
    "dtypes = {\n",
    "        'ip'            : 'uint64',\n",
    "        'app'           : 'uint64',\n",
    "        'device'        : 'uint64',\n",
    "        'os'            : 'uint64',\n",
    "        'channel'       : 'uint64',\n",
    "        'is_attributed' : 'uint8',\n",
    "        'click_id'      : 'uint32'\n",
    "        }\n",
    "\n",
    "train = pd.read_csv(path + 'train.csv',dtype=dtypes)\n",
    "print('train done!')\n",
    "# test = pd.read_csv(path + 'test.csv',dtype=dtypes)\n",
    "# print('test done!')\n",
    "# test_supplement = pd.read_csv(path + 'test_supplement.csv',dtype=dtypes)\n",
    "# print('supplement done!')\n"
   ]
  },
  {
   "cell_type": "code",
   "execution_count": 3,
   "metadata": {},
   "outputs": [
    {
     "name": "stdout",
     "output_type": "stream",
     "text": [
      "train done!\n"
     ]
    }
   ],
   "source": [
    "\n",
    "dtypes = {\n",
    "        'ip'            : 'uint64',\n",
    "        'app'           : 'uint64',\n",
    "        'device'        : 'uint64',\n",
    "        'os'            : 'uint64',\n",
    "        'channel'       : 'uint64',\n",
    "        'is_attributed' : 'uint8',\n",
    "        'click_id'      : 'uint32'\n",
    "        }\n",
    "\n",
    "train_final = pd.read_csv(path + 'train_cleaned_final.csv',dtype=dtypes)\n",
    "print('train done!')"
   ]
  },
  {
   "cell_type": "code",
   "execution_count": 10,
   "metadata": {
    "collapsed": true
   },
   "outputs": [],
   "source": [
    "exp = train[train.is_attributed==1].copy()"
   ]
  },
  {
   "cell_type": "code",
   "execution_count": 11,
   "metadata": {},
   "outputs": [
    {
     "data": {
      "text/plain": [
       "Index(['ip', 'app', 'device', 'os', 'channel', 'click_time', 'attributed_time',\n",
       "       'is_attributed'],\n",
       "      dtype='object')"
      ]
     },
     "execution_count": 11,
     "metadata": {},
     "output_type": "execute_result"
    }
   ],
   "source": [
    "exp.columns"
   ]
  },
  {
   "cell_type": "markdown",
   "metadata": {},
   "source": [
    "# Process Timestamp"
   ]
  },
  {
   "cell_type": "markdown",
   "metadata": {},
   "source": [
    "# add time features"
   ]
  },
  {
   "cell_type": "code",
   "execution_count": 14,
   "metadata": {},
   "outputs": [
    {
     "name": "stdout",
     "output_type": "stream",
     "text": [
      "get clicks\n",
      "timestamping is done\n",
      "================================================================\n"
     ]
    }
   ],
   "source": [
    "# get timestamp\n",
    "\n",
    "import multiprocessing\n",
    "\n",
    "def _apply_df(args):\n",
    "    df, func, kwargs = args\n",
    "    return df.apply(func, **kwargs)\n",
    "\n",
    "def apply_by_multiprocessing(df, func, **kwargs):\n",
    "    workers = kwargs.pop('workers')\n",
    "    pool = multiprocessing.Pool(processes=workers)\n",
    "    result = pool.map(_apply_df, [(d, func, kwargs)\n",
    "            for d in np.array_split(df, workers)])\n",
    "    pool.close()\n",
    "    return pd.concat(list(result))\n",
    "\n",
    "def get_timestamp(x):\n",
    "    return x.timestamp()\n",
    "\n",
    "\n",
    "\n",
    "\n",
    "\n",
    "workers = 30\n",
    "\n",
    "for df in [exp]:\n",
    "    clicks = pd.to_datetime(df.click_time)\n",
    "    print('get clicks')\n",
    "    df['timestamp'] = apply_by_multiprocessing(clicks, get_timestamp, workers=workers)\n",
    "#     df['timestamp'] = clicks.apply(lambda t: t.timestamp())\n",
    "    df['timestamp'] = df['timestamp'].astype('uint32')\n",
    "    print('timestamping is done')\n",
    "    \n",
    "    dt = clicks.dt\n",
    "\n",
    "    \n",
    "    print('================================================================')"
   ]
  },
  {
   "cell_type": "code",
   "execution_count": 16,
   "metadata": {},
   "outputs": [],
   "source": [
    "exp['timediff'] = exp['attributed_timestamp'] - exp['timestamp']"
   ]
  },
  {
   "cell_type": "code",
   "execution_count": 20,
   "metadata": {},
   "outputs": [],
   "source": [
    "result = exp.groupby('channel').timediff.mean()"
   ]
  },
  {
   "cell_type": "code",
   "execution_count": null,
   "metadata": {
    "collapsed": true
   },
   "outputs": [],
   "source": [
    "resu"
   ]
  }
 ],
 "metadata": {
  "kernelspec": {
   "display_name": "Python 3",
   "language": "python",
   "name": "python3"
  },
  "language_info": {
   "codemirror_mode": {
    "name": "ipython",
    "version": 3
   },
   "file_extension": ".py",
   "mimetype": "text/x-python",
   "name": "python",
   "nbconvert_exporter": "python",
   "pygments_lexer": "ipython3",
   "version": "3.6.3"
  }
 },
 "nbformat": 4,
 "nbformat_minor": 2
}
