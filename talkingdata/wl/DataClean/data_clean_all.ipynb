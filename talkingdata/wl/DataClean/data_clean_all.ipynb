{
 "cells": [
  {
   "cell_type": "code",
   "execution_count": 1,
   "metadata": {
    "collapsed": true
   },
   "outputs": [],
   "source": [
    "import pandas as pd\n",
    "import numpy as np\n",
    "import time\n",
    "import gc"
   ]
  },
  {
   "cell_type": "code",
   "execution_count": 2,
   "metadata": {
    "collapsed": true
   },
   "outputs": [],
   "source": [
    "path = '/home/kai/data/kaggle/talkingdata/data/'\n",
    "dtypes = {\n",
    "        'ip'            : 'uint32',\n",
    "        'app'           : 'uint16',\n",
    "        'device'        : 'uint16',\n",
    "        'os'            : 'uint16',\n",
    "        'channel'       : 'uint16',\n",
    "        'is_attributed' : 'uint8',\n",
    "        'click_id'      : 'uint32'\n",
    "        }\n",
    "\n",
    "train = pd.read_csv(path + 'train.csv',dtype=dtypes)\n",
    "test = pd.read_csv(path + 'test.csv',dtype=dtypes)"
   ]
  },
  {
   "cell_type": "markdown",
   "metadata": {},
   "source": [
    "# Check NA"
   ]
  },
  {
   "cell_type": "code",
   "execution_count": 3,
   "metadata": {},
   "outputs": [
    {
     "name": "stdout",
     "output_type": "stream",
     "text": [
      "training length is 184903890\n",
      "testing length is 18790469\n",
      "ip                         0\n",
      "app                        0\n",
      "device                     0\n",
      "os                         0\n",
      "channel                    0\n",
      "click_time                 0\n",
      "attributed_time    184447044\n",
      "is_attributed              0\n",
      "dtype: int64\n",
      "-------------------\n",
      "click_id      0\n",
      "ip            0\n",
      "app           0\n",
      "device        0\n",
      "os            0\n",
      "channel       0\n",
      "click_time    0\n",
      "dtype: int64\n"
     ]
    }
   ],
   "source": [
    "print('training length is {}'.format(len(train)))\n",
    "print('testing length is {}'.format(len(test)))\n",
    "\n",
    "n_train = pd.isnull(train).sum()\n",
    "n_test = pd.isnull(test).sum()\n",
    "\n",
    "print(n_train)\n",
    "print('-------------------')\n",
    "print(n_test)\n",
    "\n",
    "### there is no N/A"
   ]
  },
  {
   "cell_type": "markdown",
   "metadata": {},
   "source": [
    "# add time features"
   ]
  },
  {
   "cell_type": "code",
   "execution_count": 9,
   "metadata": {},
   "outputs": [
    {
     "name": "stdout",
     "output_type": "stream",
     "text": [
      "get clicks\n",
      "timestamping is done\n",
      "year is done\n",
      "month is done\n",
      "week is done\n",
      "day is done\n",
      "hour is done\n",
      "minute is done\n",
      "second is done\n",
      "================================================================\n",
      "get clicks\n",
      "timestamping is done\n",
      "year is done\n",
      "month is done\n",
      "week is done\n",
      "day is done\n",
      "hour is done\n",
      "minute is done\n",
      "second is done\n",
      "================================================================\n"
     ]
    }
   ],
   "source": [
    "# get timestamp\n",
    "\n",
    "import multiprocessing\n",
    "\n",
    "def _apply_df(args):\n",
    "    df, func, kwargs = args\n",
    "    return df.apply(func, **kwargs)\n",
    "\n",
    "def apply_by_multiprocessing(df, func, **kwargs):\n",
    "    workers = kwargs.pop('workers')\n",
    "    pool = multiprocessing.Pool(processes=workers)\n",
    "    result = pool.map(_apply_df, [(d, func, kwargs)\n",
    "            for d in np.array_split(df, workers)])\n",
    "    pool.close()\n",
    "    return pd.concat(list(result))\n",
    "\n",
    "def get_timestamp(x):\n",
    "    return x.timestamp()\n",
    "\n",
    "\n",
    "\n",
    "\n",
    "\n",
    "workers = 30\n",
    "\n",
    "for df in [train, test]:\n",
    "    clicks = pd.to_datetime(df.click_time)\n",
    "    print('get clicks')\n",
    "    df['timestamp'] = apply_by_multiprocessing(clicks, get_timestamp, workers=workers)\n",
    "#     df['timestamp'] = clicks.apply(lambda t: t.timestamp())\n",
    "    df['timestamp'] = df['timestamp'].astype('uint32')\n",
    "    print('timestamping is done')\n",
    "    \n",
    "    dt = clicks.dt\n",
    "\n",
    "    df['year'] = dt.year.astype('uint16')\n",
    "    print('year is done')\n",
    "    \n",
    "    df['month'] = dt.month.astype('uint8')\n",
    "    print('month is done')\n",
    "        \n",
    "    df['week'] = dt.week.astype('uint8')\n",
    "    print('week is done')\n",
    "    \n",
    "    df['day'] = dt.day.astype('uint8')\n",
    "    print('day is done')\n",
    "    \n",
    "    df['hour'] = dt.hour.astype('uint8')\n",
    "    print('hour is done')\n",
    "    \n",
    "    df['minute'] = dt.minute.astype('uint8')\n",
    "    print('minute is done')\n",
    "    \n",
    "    df['second'] = dt.second.astype('uint8')\n",
    "    print('second is done')\n",
    "    print('================================================================')"
   ]
  },
  {
   "cell_type": "code",
   "execution_count": 11,
   "metadata": {},
   "outputs": [
    {
     "name": "stdout",
     "output_type": "stream",
     "text": [
      "saving\n",
      "training done\n",
      "testing done\n"
     ]
    }
   ],
   "source": [
    "target = 'is_attributed'\n",
    "feature_col = ['ip', \n",
    "              'app', \n",
    "              'device', \n",
    "              'os', \n",
    "              'channel',\n",
    "              'year', \n",
    "              'month',\n",
    "              'week',\n",
    "              'day',\n",
    "              'hour',\n",
    "              'timestamp',\n",
    "              'minute',\n",
    "              'second']\n",
    "\n",
    "train_cols =  feature_col.copy()\n",
    "train_cols.append(target)\n",
    "df_train = train[train_cols]\n",
    "df_test = test[feature_col]\n",
    "\n",
    "print('saving')\n",
    "df_train.to_csv(path+'train_cleaned.csv', index=False)\n",
    "print('training done')\n",
    "df_test.to_csv(path+'test_cleaned.csv', index=False)\n",
    "print('testing done')"
   ]
  },
  {
   "cell_type": "markdown",
   "metadata": {},
   "source": [
    "# processing on sample"
   ]
  },
  {
   "cell_type": "code",
   "execution_count": 12,
   "metadata": {},
   "outputs": [
    {
     "name": "stdout",
     "output_type": "stream",
     "text": [
      "get clicks\n",
      "timestamping is done\n",
      "year is done\n",
      "month is done\n",
      "week is done\n",
      "day is done\n",
      "hour is done\n",
      "minute is done\n",
      "second is done\n",
      "================================================================\n"
     ]
    }
   ],
   "source": [
    "train_sample = pd.read_csv(path + 'train_sample.csv',dtype=dtypes)\n",
    "\n",
    "for df in [train_sample]:\n",
    "    clicks = pd.to_datetime(df.click_time)\n",
    "    print('get clicks')\n",
    "    df['timestamp'] = apply_by_multiprocessing(clicks, get_timestamp, workers=workers)\n",
    "#     df['timestamp'] = clicks.apply(lambda t: t.timestamp())\n",
    "    df['timestamp'] = df['timestamp'].astype('uint32')\n",
    "    print('timestamping is done')\n",
    "    \n",
    "    dt = clicks.dt\n",
    "\n",
    "    df['year'] = dt.year.astype('uint16')\n",
    "    print('year is done')\n",
    "    \n",
    "    df['month'] = dt.month.astype('uint8')\n",
    "    print('month is done')\n",
    "        \n",
    "    df['week'] = dt.week.astype('uint8')\n",
    "    print('week is done')\n",
    "    \n",
    "    df['day'] = dt.day.astype('uint8')\n",
    "    print('day is done')\n",
    "    \n",
    "    df['hour'] = dt.hour.astype('uint8')\n",
    "    print('hour is done')\n",
    "    \n",
    "    df['minute'] = dt.minute.astype('uint8')\n",
    "    print('minute is done')\n",
    "    \n",
    "    df['second'] = dt.second.astype('uint8')\n",
    "    print('second is done')\n",
    "    print('================================================================')"
   ]
  },
  {
   "cell_type": "code",
   "execution_count": 15,
   "metadata": {
    "collapsed": true
   },
   "outputs": [],
   "source": [
    "df_train_sample = train_sample[train_cols]\n",
    "df_train_sample.to_csv(path+'train_sample_cleaned.csv', index=False)"
   ]
  },
  {
   "cell_type": "code",
   "execution_count": null,
   "metadata": {
    "collapsed": true
   },
   "outputs": [],
   "source": []
  }
 ],
 "metadata": {
  "kernelspec": {
   "display_name": "Python 3",
   "language": "python",
   "name": "python3"
  },
  "language_info": {
   "codemirror_mode": {
    "name": "ipython",
    "version": 3
   },
   "file_extension": ".py",
   "mimetype": "text/x-python",
   "name": "python",
   "nbconvert_exporter": "python",
   "pygments_lexer": "ipython3",
   "version": "3.6.3"
  }
 },
 "nbformat": 4,
 "nbformat_minor": 2
}
