{
 "cells": [
  {
   "cell_type": "code",
   "execution_count": 2,
   "metadata": {
    "collapsed": true
   },
   "outputs": [],
   "source": [
    "import pandas as pd\n",
    "import numpy as np\n",
    "import time\n",
    "import gc"
   ]
  },
  {
   "cell_type": "code",
   "execution_count": 7,
   "metadata": {},
   "outputs": [],
   "source": [
    "path = '/home/kai/data/kaggle/talkingdata/data/'\n",
    "train = pd.read_csv(path + 'train_cleaned_final.csv')\n",
    "test = pd.read_csv(path + 'test_cleaned_final.csv')"
   ]
  },
  {
   "cell_type": "code",
   "execution_count": 8,
   "metadata": {},
   "outputs": [
    {
     "name": "stdout",
     "output_type": "stream",
     "text": [
      "trainding done!\n",
      "testing done!\n"
     ]
    }
   ],
   "source": [
    "most_freq_hours_in_test_data = [4, 5, 9, 10, 13, 14]\n",
    "least_freq_hours_in_test_data = [6, 11, 15]\n",
    "\n",
    "train['intesthh'] = (   3 \n",
    "                         - 2*train['hour'].isin(  most_freq_hours_in_test_data ) \n",
    "                         - 1*train['hour'].isin( least_freq_hours_in_test_data ) ).astype('uint8')\n",
    "\n",
    "print('trainding done!')\n",
    "\n",
    "\n",
    "test['intesthh'] = (   3 \n",
    "                         - 2*test['hour'].isin(  most_freq_hours_in_test_data ) \n",
    "                         - 1*test['hour'].isin( least_freq_hours_in_test_data ) ).astype('uint8')\n",
    "\n",
    "print('testing done!')"
   ]
  },
  {
   "cell_type": "code",
   "execution_count": 11,
   "metadata": {},
   "outputs": [
    {
     "name": "stdout",
     "output_type": "stream",
     "text": [
      "saving\n",
      "training done\n",
      "testing done\n"
     ]
    }
   ],
   "source": [
    "print('saving')\n",
    "\n",
    "train.to_csv(path+'train_cleaned_final.csv', index=False)\n",
    "print('training done')\n",
    "\n",
    "test.to_csv(path+'test_cleaned_final.csv', index=False)\n",
    "print('testing done')"
   ]
  },
  {
   "cell_type": "code",
   "execution_count": null,
   "metadata": {
    "collapsed": true
   },
   "outputs": [],
   "source": []
  }
 ],
 "metadata": {
  "kernelspec": {
   "display_name": "Python 3",
   "language": "python",
   "name": "python3"
  },
  "language_info": {
   "codemirror_mode": {
    "name": "ipython",
    "version": 3
   },
   "file_extension": ".py",
   "mimetype": "text/x-python",
   "name": "python",
   "nbconvert_exporter": "python",
   "pygments_lexer": "ipython3",
   "version": "3.6.3"
  }
 },
 "nbformat": 4,
 "nbformat_minor": 2
}
