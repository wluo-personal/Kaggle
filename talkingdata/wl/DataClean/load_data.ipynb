{
 "cells": [
  {
   "cell_type": "code",
   "execution_count": 1,
   "metadata": {
    "collapsed": true
   },
   "outputs": [],
   "source": [
    "import pandas as pd\n",
    "import lightgbm as lgb\n",
    "import numpy as np\n",
    "import gc"
   ]
  },
  {
   "cell_type": "code",
   "execution_count": 35,
   "metadata": {
    "collapsed": true
   },
   "outputs": [],
   "source": [
    "dtypes = {\n",
    "        'app'           : 'uint16',\n",
    "        'device'        : 'uint16',\n",
    "        'os'            : 'uint16',\n",
    "        'channel'       : 'uint16',\n",
    "        'hour'          : 'uint8',\n",
    "        'is_attributed' : 'uint8', \n",
    "        'ip_day_hour_count': 'uint32', \n",
    "        'ip_os_day_hour_count': 'uint32', \n",
    "        'ip_app_day_hour_count': 'uint32', \n",
    "        'ip_app_os_day_hour_count': 'uint32', \n",
    "        'app_day_hour_count': 'uint32', \n",
    "        'ip_device_os_count': 'uint32', \n",
    "        'ip_app_device_os_count': 'uint32', \n",
    "        'ip_device_os_mean': 'float16',\n",
    "        'ip_app_device_os_mean': 'float16',\n",
    "        'ip_app_device_mean': 'float16',\n",
    "        'app_device_os_mean': 'float16',\n",
    "        'ip_device_os_time2nextclick': 'int32',\n",
    "        'ip_app_device_os_time2nextclick': 'int32',\n",
    "        'ip_app_device_time2nextclick': 'int32',\n",
    "        'ip_device_os_time2previousclick': 'int32',\n",
    "        'ip_app_device_os_time2previousclick': 'int32',\n",
    "        'ip_app_device_time2previousclick': 'int32',\n",
    "        'ip_device_os_countfromfuture': 'uint32', \n",
    "        'ip_app_device_os_countfromfuture': 'uint32', \n",
    "        'ip_app_device_countfromfuture': 'uint32', \n",
    "        'ip_device_os_countfrompast': 'uint32', \n",
    "        'ip_app_device_os_countfrompast': 'uint32', \n",
    "        'ip_app_device_countfrompast': 'uint32', \n",
    "        'ip_device_os_lasttimediff': 'int32',\n",
    "        'ip_app_device_os_lasttimediff': 'int32',\n",
    "        'ip_app_device_lasttimediff': 'int32',\n",
    "        'ip_device_os_firsttimediff': 'int32',\n",
    "        'ip_app_device_os_firsttimediff': 'int32',\n",
    "        'ip_app_device_firsttimediff': 'int32',\n",
    "        'matrixFact_user_iposdeviceapp_item_app': 'float16',\n",
    "        'matrixFact_user_ip_item_appdeviceos': 'float16',\n",
    "        'matrixFact_user_ipchannel_item_appdeviceos': 'float16',\n",
    "        'ip_device_os_regression': 'float16',\n",
    "        'ip_app_device_os_regression': 'float16',\n",
    "        'ip_app_device_regression': 'float16',\n",
    "        'ip_app_device_os_channel_regression': 'float16'\n",
    "        } "
   ]
  },
  {
   "cell_type": "code",
   "execution_count": 36,
   "metadata": {
    "collapsed": true
   },
   "outputs": [],
   "source": [
    "traincol = [i for i in dtypes.keys()]\n",
    "testcol = [i for i in dtypes.keys()]\n",
    "testcol.remove('is_attributed')"
   ]
  },
  {
   "cell_type": "code",
   "execution_count": 38,
   "metadata": {},
   "outputs": [
    {
     "data": {
      "text/plain": [
       "41"
      ]
     },
     "execution_count": 38,
     "metadata": {},
     "output_type": "execute_result"
    }
   ],
   "source": [
    "len(testcol)"
   ]
  },
  {
   "cell_type": "code",
   "execution_count": 9,
   "metadata": {},
   "outputs": [
    {
     "name": "stdout",
     "output_type": "stream",
     "text": [
      "load day7 done!\n",
      "load day8 done!\n",
      "load day9 done!\n"
     ]
    }
   ],
   "source": [
    "load_path = '/home/kai/data/kaggle/talkingdata/wl/data/equalhour/'\n",
    "file_format = '{}_features_supplementV1_countALL.csv'\n",
    "\n",
    "\n",
    "day7 = pd.read_csv(load_path+file_format.format('day7'),dtype=dtypes)\n",
    "print('load day7 done!')\n",
    "day8 = pd.read_csv(load_path+file_format.format('day8'),dtype=dtypes)\n",
    "print('load day8 done!')\n",
    "day9 = pd.read_csv(load_path+file_format.format('day9'),dtype=dtypes)\n",
    "print('load day9 done!')"
   ]
  },
  {
   "cell_type": "code",
   "execution_count": 25,
   "metadata": {
    "collapsed": true
   },
   "outputs": [],
   "source": [
    "day7 = day7[traincol]\n",
    "day8 = day8[traincol]\n",
    "day9 = day9[traincol]"
   ]
  },
  {
   "cell_type": "code",
   "execution_count": null,
   "metadata": {
    "collapsed": true
   },
   "outputs": [],
   "source": [
    "file_format = '{}_features_supplementV2_feature41.csv'\n",
    "# day7.to_csv(load_path+file_format.format('day7'), index=False)\n",
    "# print('saving day7 done!')\n",
    "# day8.to_csv(load_path+file_format.format('day8'), index=False)\n",
    "# print('saving day8 done!')\n",
    "day9.to_csv(load_path+file_format.format('day9'), index=False)\n",
    "print('saving day9 done!')"
   ]
  },
  {
   "cell_type": "markdown",
   "metadata": {},
   "source": [
    "# Process Test"
   ]
  },
  {
   "cell_type": "code",
   "execution_count": null,
   "metadata": {
    "collapsed": true
   },
   "outputs": [],
   "source": [
    "load_path = '/home/kai/data/kaggle/talkingdata/wl/data/equalhour/'\n",
    "file_format = '{}_equalhour_supplementV1.csv'\n",
    "\n",
    "test = pd.read_csv(load_path+file_format.format('test'),dtype=dtypes)\n",
    "print('load test done!')"
   ]
  },
  {
   "cell_type": "code",
   "execution_count": null,
   "metadata": {
    "collapsed": true
   },
   "outputs": [],
   "source": [
    "test = test[testcol]"
   ]
  },
  {
   "cell_type": "code",
   "execution_count": null,
   "metadata": {
    "collapsed": true
   },
   "outputs": [],
   "source": [
    "file_format = '{}_equalhour_supplementV2_feature41.csv'\n",
    "test.to_csv(load_path+file_format.format('test'), index=False)\n",
    "print('saving test done!')"
   ]
  },
  {
   "cell_type": "code",
   "execution_count": 4,
   "metadata": {},
   "outputs": [
    {
     "data": {
      "text/plain": [
       "14"
      ]
     },
     "execution_count": 4,
     "metadata": {},
     "output_type": "execute_result"
    }
   ],
   "source": [
    "df_all = pd.concat([day7, day8, day9])\n",
    "del day7\n",
    "del day8\n",
    "del day9\n",
    "gc.collect()"
   ]
  },
  {
   "cell_type": "code",
   "execution_count": 20,
   "metadata": {},
   "outputs": [
    {
     "data": {
      "text/plain": [
       "91580"
      ]
     },
     "execution_count": 20,
     "metadata": {},
     "output_type": "execute_result"
    }
   ],
   "source": [
    "df_all.matrixFact_user_iposdeviceapp_item_app.max()"
   ]
  },
  {
   "cell_type": "code",
   "execution_count": 22,
   "metadata": {},
   "outputs": [
    {
     "data": {
      "text/plain": [
       "49"
      ]
     },
     "execution_count": 22,
     "metadata": {},
     "output_type": "execute_result"
    }
   ],
   "source": [
    "len(df_all.columns.values)"
   ]
  },
  {
   "cell_type": "code",
   "execution_count": 7,
   "metadata": {},
   "outputs": [
    {
     "name": "stdout",
     "output_type": "stream",
     "text": [
      "ip_day_hour_count\n",
      "ip_os_day_hour_count\n",
      "ip_app_day_hour_count\n",
      "ip_app_os_day_hour_count\n",
      "app_day_hour_count\n",
      "ip_device_os_count\n",
      "ip_app_device_os_count\n",
      "ip_day_hour_countself\n",
      "ip_os_day_hour_countself\n",
      "ip_app_day_hour_countself\n",
      "ip_app_os_day_hour_countself\n",
      "app_day_hour_countself\n",
      "ip_device_os_countself\n",
      "ip_app_device_os_countself\n",
      "ip_device_os_mean\n",
      "ip_app_device_os_mean\n",
      "ip_app_device_mean\n",
      "app_device_os_mean\n",
      "ip_device_os_time2nextclick\n",
      "ip_app_device_os_time2nextclick\n",
      "ip_app_device_time2nextclick\n",
      "ip_device_os_time2previousclick\n",
      "ip_app_device_os_time2previousclick\n",
      "ip_app_device_time2previousclick\n",
      "ip_device_os_countfromfuture\n",
      "ip_app_device_os_countfromfuture\n",
      "ip_app_device_countfromfuture\n",
      "ip_device_os_countfrompast\n",
      "ip_app_device_os_countfrompast\n",
      "ip_app_device_countfrompast\n",
      "ip_device_os_lasttimediff\n",
      "ip_app_device_os_lasttimediff\n",
      "ip_app_device_lasttimediff\n",
      "ip_device_os_firsttimediff\n",
      "ip_app_device_os_firsttimediff\n",
      "ip_app_device_firsttimediff\n",
      "matrixFact_user_iposdeviceapp_item_app\n",
      "matrixFact_user_ip_item_appdeviceos\n",
      "matrixFact_user_ipchannel_item_appdeviceos\n",
      "ip_device_os_regression\n",
      "ip_app_device_os_regression\n",
      "ip_app_device_regression\n",
      "ip_app_device_os_channel_regression\n",
      "app\n",
      "channel\n",
      "device\n",
      "os\n",
      "hour\n",
      "is_attributed\n"
     ]
    }
   ],
   "source": [
    "for i in df_all.columns.values:\n",
    "    print(i)"
   ]
  },
  {
   "cell_type": "code",
   "execution_count": 21,
   "metadata": {},
   "outputs": [
    {
     "data": {
      "text/plain": [
       "0    -10.445210\n",
       "1     -9.473793\n",
       "2     -9.644314\n",
       "3     -6.848088\n",
       "4     -9.274988\n",
       "5     -9.044541\n",
       "6    -10.692506\n",
       "7     -9.446848\n",
       "8     -8.438805\n",
       "9     -8.383037\n",
       "10    -6.725753\n",
       "11   -10.916761\n",
       "12   -12.985142\n",
       "13    -7.668375\n",
       "14    -9.555786\n",
       "15    -9.569102\n",
       "16    -9.477554\n",
       "17    -6.729145\n",
       "18    -6.769125\n",
       "19    -9.512861\n",
       "20    -6.699326\n",
       "21    -9.194368\n",
       "22    -9.201542\n",
       "23   -12.322396\n",
       "24    -9.212454\n",
       "25    -6.686906\n",
       "26    -8.878460\n",
       "27    -9.705166\n",
       "28    -6.654094\n",
       "29    -8.394801\n",
       "30    -7.613806\n",
       "31    -9.723514\n",
       "32    -9.205394\n",
       "33    -9.661773\n",
       "34   -10.364160\n",
       "35    -8.115252\n",
       "36    -9.107645\n",
       "37    -8.611537\n",
       "38    -5.579215\n",
       "39    -9.400434\n",
       "Name: matrixFact_user_iposdeviceapp_item_app, dtype: float64"
      ]
     },
     "execution_count": 21,
     "metadata": {},
     "output_type": "execute_result"
    }
   ],
   "source": [
    "df_all.matrixFact_user_iposdeviceapp_item_app.head(40)"
   ]
  },
  {
   "cell_type": "code",
   "execution_count": 3,
   "metadata": {
    "collapsed": true
   },
   "outputs": [],
   "source": [
    "a= [1,2,3]\n",
    "a.remove(1)"
   ]
  },
  {
   "cell_type": "code",
   "execution_count": 28,
   "metadata": {
    "collapsed": true
   },
   "outputs": [],
   "source": [
    "a = ['matrixFact_user_ipchannel_item_appdeviceos',\n",
    " 'ip_app_device_os_regression',\n",
    " 'ip_app_device_regression',\n",
    " 'ip_app_device_lasttimediff',\n",
    " 'ip_app_day_hour_countself',\n",
    " 'ip_app_device_time2previousclick',\n",
    " 'ip_device_os_countfromfuture',\n",
    " 'ip_device_os_time2nextclick',\n",
    " 'ip_app_os_day_hour_countself',\n",
    " 'ip_device_os_firsttimediff',\n",
    " 'ip_app_device_os_countfrompast',\n",
    " 'ip_app_device_countfrompast',\n",
    " 'channel',\n",
    " 'ip_app_device_os_countself',\n",
    " 'ip_day_hour_countself',\n",
    " 'app_day_hour_countself',\n",
    " 'ip_app_device_os_mean',\n",
    " 'app_device_os_mean',\n",
    " 'ip_app_device_os_channel_regression',\n",
    " 'ip_app_device_os_firsttimediff',\n",
    " 'app',\n",
    " 'ip_device_os_countself',\n",
    " 'ip_app_device_mean',\n",
    " 'ip_device_os_countfrompast',\n",
    " 'ip_app_device_os_time2nextclick',\n",
    " 'ip_app_device_firsttimediff',\n",
    " 'ip_os_day_hour_countself',\n",
    " 'ip_app_device_countfromfuture',\n",
    " 'ip_app_device_os_lasttimediff',\n",
    " 'matrixFact_user_iposdeviceapp_item_app',\n",
    " 'ip_app_device_os_countfromfuture',\n",
    " 'os',\n",
    " 'ip_app_device_os_time2previousclick',\n",
    " 'device',\n",
    " 'ip_device_os_regression',\n",
    " 'ip_device_os_time2previousclick',\n",
    " 'hour',\n",
    " 'matrixFact_user_ip_item_appdeviceos',\n",
    " 'ip_device_os_lasttimediff',\n",
    " 'ip_device_os_mean',\n",
    " 'ip_app_device_time2nextclick']"
   ]
  },
  {
   "cell_type": "code",
   "execution_count": 29,
   "metadata": {},
   "outputs": [
    {
     "data": {
      "text/plain": [
       "41"
      ]
     },
     "execution_count": 29,
     "metadata": {},
     "output_type": "execute_result"
    }
   ],
   "source": [
    "len(a)"
   ]
  },
  {
   "cell_type": "code",
   "execution_count": 31,
   "metadata": {},
   "outputs": [
    {
     "data": {
      "text/plain": [
       "42"
      ]
     },
     "execution_count": 31,
     "metadata": {},
     "output_type": "execute_result"
    }
   ],
   "source": [
    "len(day7.columns)"
   ]
  },
  {
   "cell_type": "code",
   "execution_count": 16,
   "metadata": {
    "collapsed": true
   },
   "outputs": [],
   "source": [
    "b = ['ip_day_hour_count', 'ip_os_day_hour_count',\n",
    "       'ip_app_day_hour_count', 'ip_app_os_day_hour_count',\n",
    "       'app_day_hour_count', 'ip_device_os_count',\n",
    "       'ip_app_device_os_count', 'ip_day_hour_countself',\n",
    "       'ip_os_day_hour_countself', 'ip_app_day_hour_countself',\n",
    "       'ip_app_os_day_hour_countself', 'app_day_hour_countself',\n",
    "       'ip_device_os_countself', 'ip_app_device_os_countself',\n",
    "       'ip_device_os_mean', 'ip_app_device_os_mean', 'ip_app_device_mean',\n",
    "       'app_device_os_mean', 'ip_device_os_time2nextclick',\n",
    "       'ip_app_device_os_time2nextclick', 'ip_app_device_time2nextclick',\n",
    "       'ip_device_os_time2previousclick',\n",
    "       'ip_app_device_os_time2previousclick',\n",
    "       'ip_app_device_time2previousclick', 'ip_device_os_countfromfuture',\n",
    "       'ip_app_device_os_countfromfuture', 'ip_app_device_countfromfuture',\n",
    "       'ip_device_os_countfrompast', 'ip_app_device_os_countfrompast',\n",
    "       'ip_app_device_countfrompast', 'ip_device_os_lasttimediff',\n",
    "       'ip_app_device_os_lasttimediff', 'ip_app_device_lasttimediff',\n",
    "       'ip_device_os_firsttimediff', 'ip_app_device_os_firsttimediff',\n",
    "       'ip_app_device_firsttimediff',\n",
    "       'matrixFact_user_iposdeviceapp_item_app',\n",
    "       'matrixFact_user_ip_item_appdeviceos',\n",
    "       'matrixFact_user_ipchannel_item_appdeviceos',\n",
    "       'ip_device_os_regression', 'ip_app_device_os_regression',\n",
    "       'ip_app_device_regression', 'ip_app_device_os_channel_regression',\n",
    "       'app', 'channel', 'device', 'os', 'hour', 'is_attributed']"
   ]
  },
  {
   "cell_type": "code",
   "execution_count": 17,
   "metadata": {},
   "outputs": [
    {
     "data": {
      "text/plain": [
       "49"
      ]
     },
     "execution_count": 17,
     "metadata": {},
     "output_type": "execute_result"
    }
   ],
   "source": [
    "len(b)"
   ]
  },
  {
   "cell_type": "code",
   "execution_count": null,
   "metadata": {
    "collapsed": true
   },
   "outputs": [],
   "source": []
  }
 ],
 "metadata": {
  "kernelspec": {
   "display_name": "Python 3",
   "language": "python",
   "name": "python3"
  },
  "language_info": {
   "codemirror_mode": {
    "name": "ipython",
    "version": 3
   },
   "file_extension": ".py",
   "mimetype": "text/x-python",
   "name": "python",
   "nbconvert_exporter": "python",
   "pygments_lexer": "ipython3",
   "version": "3.6.3"
  }
 },
 "nbformat": 4,
 "nbformat_minor": 2
}
