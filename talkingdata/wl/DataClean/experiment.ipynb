{
 "cells": [
  {
   "cell_type": "code",
   "execution_count": 2,
   "metadata": {
    "collapsed": true
   },
   "outputs": [],
   "source": [
    "import pandas as pd\n",
    "import numpy as np"
   ]
  },
  {
   "cell_type": "code",
   "execution_count": 25,
   "metadata": {},
   "outputs": [],
   "source": [
    "test = pd.DataFrame({'col1':[1,129,35000, 9876450], 'col2':[0.123, 0.0003213, 0.000001234, 0.0000071345]})"
   ]
  },
  {
   "cell_type": "code",
   "execution_count": 26,
   "metadata": {},
   "outputs": [
    {
     "data": {
      "text/plain": [
       "col1      int64\n",
       "col2    float64\n",
       "dtype: object"
      ]
     },
     "execution_count": 26,
     "metadata": {},
     "output_type": "execute_result"
    }
   ],
   "source": [
    "test.dtypes"
   ]
  },
  {
   "cell_type": "code",
   "execution_count": 28,
   "metadata": {},
   "outputs": [
    {
     "data": {
      "text/plain": [
       "0      1\n",
       "1    129\n",
       "2    184\n",
       "3    226\n",
       "Name: col1, dtype: uint8"
      ]
     },
     "execution_count": 28,
     "metadata": {},
     "output_type": "execute_result"
    }
   ],
   "source": [
    "test.col1.astype('uint8')"
   ]
  },
  {
   "cell_type": "code",
   "execution_count": 17,
   "metadata": {
    "collapsed": true
   },
   "outputs": [],
   "source": [
    "dtypes = {\n",
    "        'ip'            : 'uint32',\n",
    "        'app'           : 'uint16',\n",
    "        'device'        : 'uint16',\n",
    "        'os'            : 'uint16',\n",
    "        'channel'       : 'uint16',\n",
    "        'is_attributed' : 'uint8', \n",
    "    'ip_day_hour_count': 'uint32', \n",
    "    'ip_os_day_hour_count': 'uint32', \n",
    "    'ip_app_day_hour_count': 'uint32', \n",
    "    'ip_app_os_day_hour_count': 'uint32', \n",
    "    'app_day_hour_count': 'uint32', \n",
    "    'ip_device_os_count': 'uint32', \n",
    "    'ip_app_device_os_count': 'uint32', \n",
    "    'ip_device_os_mean': 'float16',\n",
    "    'ip_app_device_os_mean': 'float16',\n",
    "    'ip_app_device_mean': 'float16',\n",
    "    'app_device_os_mean': 'float16',\n",
    "    'ip_device_os_time2nextclick': 'int32',\n",
    "    'ip_app_device_os_time2nextclick': 'int32',\n",
    "    'ip_app_device_time2nextclick': 'int32',\n",
    "    'ip_device_os_time2previousclick': 'int32',\n",
    "    'ip_app_device_os_time2previousclick': 'int32',\n",
    "    'ip_app_device_time2previousclick': 'int32',\n",
    "    'ip_device_os_countfromfuture': 'uint32', \n",
    "    'ip_app_device_os_countfromfuture': 'uint32', \n",
    "    'ip_app_device_countfromfuture': 'uint32', \n",
    "    'ip_device_os_countfrompast': 'uint32', \n",
    "    'ip_app_device_os_countfrompast': 'uint32', \n",
    "    'ip_app_device_countfrompast': 'uint32', \n",
    "    'ip_device_os_lasttimediff': 'int32',\n",
    "    'ip_app_device_os_lasttimediff': 'int32',\n",
    "    'ip_app_device_lasttimediff': 'int32',\n",
    "    'ip_device_os_firsttimediff': 'int32',\n",
    "    'ip_app_device_os_firsttimediff': 'int32',\n",
    "    'ip_app_device_firsttimediff': 'int32',\n",
    "    'matrixFact_user_iposdeviceapp_item_app': 'float16',\n",
    "    'matrixFact_user_ip_item_appdeviceos': 'float16',\n",
    "    'matrixFact_user_ipchannel_item_appdeviceos': 'float16',\n",
    "    'ip_device_os_regression': 'float16',\n",
    "    'ip_app_device_os_regression': 'float16',\n",
    "    'ip_app_device_regression': 'float16',\n",
    "    'ip_app_device_os_channel_regression': 'float16'\n",
    "        } "
   ]
  },
  {
   "cell_type": "code",
   "execution_count": 18,
   "metadata": {},
   "outputs": [
    {
     "data": {
      "text/plain": [
       "42"
      ]
     },
     "execution_count": 18,
     "metadata": {},
     "output_type": "execute_result"
    }
   ],
   "source": [
    "len(dtypes)"
   ]
  },
  {
   "cell_type": "code",
   "execution_count": null,
   "metadata": {
    "collapsed": true
   },
   "outputs": [],
   "source": []
  }
 ],
 "metadata": {
  "kernelspec": {
   "display_name": "Python 3",
   "language": "python",
   "name": "python3"
  },
  "language_info": {
   "codemirror_mode": {
    "name": "ipython",
    "version": 3
   },
   "file_extension": ".py",
   "mimetype": "text/x-python",
   "name": "python",
   "nbconvert_exporter": "python",
   "pygments_lexer": "ipython3",
   "version": "3.6.3"
  }
 },
 "nbformat": 4,
 "nbformat_minor": 2
}
