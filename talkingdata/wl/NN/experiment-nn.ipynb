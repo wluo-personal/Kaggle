{
 "cells": [
  {
   "cell_type": "code",
   "execution_count": 33,
   "metadata": {},
   "outputs": [],
   "source": [
    "import pandas as pd\n",
    "import numpy as np\n",
    "import gc\n",
    "from keras.models import Model\n",
    "from keras.optimizers import Adam\n",
    "from sklearn.preprocessing import LabelEncoder\n",
    "from keras.layers import BatchNormalization, SpatialDropout1D, Conv1D\n",
    "from keras.layers import Input, Embedding, Dense, Flatten, Dropout, concatenate"
   ]
  },
  {
   "cell_type": "code",
   "execution_count": 2,
   "metadata": {},
   "outputs": [
    {
     "name": "stdout",
     "output_type": "stream",
     "text": [
      "day7_features_matrixFactv1.csv\n"
     ]
    }
   ],
   "source": [
    "load_path = '/home/kai/data/kaggle/talkingdata/wl/data/equalhour/'\n",
    "file_format = '{}_features_matrixFactv1.csv'\n",
    "day_list = ['day7', 'day8', 'day9']\n",
    "df_dict = {}\n",
    "for file in ['day7']: \n",
    "    df_dict[file] = pd.read_csv(load_path+file_format.format(file))\n",
    "    print(file_format.format(file))"
   ]
  },
  {
   "cell_type": "markdown",
   "metadata": {},
   "source": [
    "# Label Encoder"
   ]
  },
  {
   "cell_type": "code",
   "execution_count": 20,
   "metadata": {},
   "outputs": [
    {
     "name": "stdout",
     "output_type": "stream",
     "text": [
      "processing app\n",
      "processing device\n",
      "processing os\n",
      "processing channel\n",
      "processing hour\n",
      "apply encoder to col: app\n",
      "apply encoder to col: hour\n",
      "apply encoder to col: os\n",
      "apply encoder to col: channel\n",
      "apply encoder to col: device\n"
     ]
    }
   ],
   "source": [
    "df_all = df_dict['day7'].copy()\n",
    "categorical_col = [ 'app', 'device', 'os', 'channel', 'hour']\n",
    "\n",
    "    \n",
    "def get_encoder(df_all, categorical_col):\n",
    "    encoder = {}\n",
    "    for each in categorical_col:\n",
    "        print('processing {}'.format(each))\n",
    "        coder = LabelEncoder()\n",
    "        coder.fit(df_all[each])\n",
    "        encoder[each] = coder\n",
    "    return encoder\n",
    "\n",
    "\n",
    "def apply_encoder(df, encoder):\n",
    "    for col in encoder:\n",
    "        print('apply encoder to col: {}'.format(col))\n",
    "        df.loc[:,col] =  encoder[col].transform(df[col])\n",
    "    return df.copy()\n",
    "encoder = get_encoder(df_all, categorical_col)\n",
    "df = apply_encoder(df_dict['day7'], encoder)"
   ]
  },
  {
   "cell_type": "markdown",
   "metadata": {},
   "source": [
    "# Get Max Input Length"
   ]
  },
  {
   "cell_type": "code",
   "execution_count": 28,
   "metadata": {},
   "outputs": [],
   "source": [
    "def max_input_length(encoder):\n",
    "    max_dict = {}\n",
    "    for col in encoder:\n",
    "        max_dict[col] = len(encoder[col].classes_)\n",
    "    return max_dict\n",
    "max_length = max_input_length(encoder)"
   ]
  },
  {
   "cell_type": "code",
   "execution_count": 30,
   "metadata": {},
   "outputs": [
    {
     "data": {
      "text/plain": [
       "Index(['ip_day_hour_count', 'ip_os_day_hour_count', 'ip_app_day_hour_count',\n",
       "       'ip_app_os_day_hour_count', 'app_day_hour_count', 'ip_device_os_count',\n",
       "       'ip_app_device_os_count', 'ip_device_os_mean', 'ip_app_device_os_mean',\n",
       "       'ip_device_os_time2nextclick', 'ip_app_device_os_time2nextclick',\n",
       "       'ip_device_os_time2previousclick',\n",
       "       'ip_app_device_os_time2previousclick', 'ip_device_os_countfromfuture',\n",
       "       'ip_app_device_os_countfromfuture', 'ip_device_os_countfrompast',\n",
       "       'ip_app_device_os_countfrompast', 'ip_device_os_lasttimediff',\n",
       "       'ip_app_device_os_lasttimediff',\n",
       "       'matrixFact_user_iposdeviceapp_item_device',\n",
       "       'matrixFact_user_iposdeviceapp_item_app',\n",
       "       'matrixFact_user_iposdeviceapp_item_channel', 'app', 'channel',\n",
       "       'device', 'os', 'hour', 'is_attributed'],\n",
       "      dtype='object')"
      ]
     },
     "execution_count": 30,
     "metadata": {},
     "output_type": "execute_result"
    }
   ],
   "source": [
    "df_dict['day7'].columns"
   ]
  },
  {
   "cell_type": "markdown",
   "metadata": {},
   "source": [
    "# Get Keras Data"
   ]
  },
  {
   "cell_type": "code",
   "execution_count": 31,
   "metadata": {
    "collapsed": true
   },
   "outputs": [],
   "source": [
    "def get_keras_data(dataset, numeric_col):\n",
    "    X = {\n",
    "        'app': dataset.app.values,\n",
    "        'channel': dataset.channel.values,\n",
    "        'os': dataset.os.values,\n",
    "        'device': dataset.device.values,\n",
    "        'hour': dataset.hour.values,\n",
    "        'nc': dataset.loc[:,numeric_col].values\n",
    "    }\n",
    "    return X\n",
    "\n"
   ]
  },
  {
   "cell_type": "markdown",
   "metadata": {},
   "source": [
    "# Define Neuron Network"
   ]
  },
  {
   "cell_type": "code",
   "execution_count": 59,
   "metadata": {},
   "outputs": [
    {
     "name": "stdout",
     "output_type": "stream",
     "text": [
      "__________________________________________________________________________________________________\n",
      "Layer (type)                    Output Shape         Param #     Connected to                     \n",
      "==================================================================================================\n",
      "app (InputLayer)                (None, 1)            0                                            \n",
      "__________________________________________________________________________________________________\n",
      "channel (InputLayer)            (None, 1)            0                                            \n",
      "__________________________________________________________________________________________________\n",
      "os (InputLayer)                 (None, 1)            0                                            \n",
      "__________________________________________________________________________________________________\n",
      "device (InputLayer)             (None, 1)            0                                            \n",
      "__________________________________________________________________________________________________\n",
      "hour (InputLayer)               (None, 1)            0                                            \n",
      "__________________________________________________________________________________________________\n",
      "embedding_74 (Embedding)        (None, 1, 50)        21600       app[0][0]                        \n",
      "__________________________________________________________________________________________________\n",
      "embedding_75 (Embedding)        (None, 1, 50)        8950        channel[0][0]                    \n",
      "__________________________________________________________________________________________________\n",
      "embedding_76 (Embedding)        (None, 1, 50)        16600       os[0][0]                         \n",
      "__________________________________________________________________________________________________\n",
      "embedding_77 (Embedding)        (None, 1, 50)        75200       device[0][0]                     \n",
      "__________________________________________________________________________________________________\n",
      "embedding_78 (Embedding)        (None, 1, 50)        450         hour[0][0]                       \n",
      "__________________________________________________________________________________________________\n",
      "concatenate_16 (Concatenate)    (None, 1, 250)       0           embedding_74[0][0]               \n",
      "                                                                 embedding_75[0][0]               \n",
      "                                                                 embedding_76[0][0]               \n",
      "                                                                 embedding_77[0][0]               \n",
      "                                                                 embedding_78[0][0]               \n",
      "__________________________________________________________________________________________________\n",
      "spatial_dropout1d_6 (SpatialDro (None, 1, 250)       0           concatenate_16[0][0]             \n",
      "__________________________________________________________________________________________________\n",
      "conv1d_13 (Conv1D)              (None, 1, 100)       25100       spatial_dropout1d_6[0][0]        \n",
      "__________________________________________________________________________________________________\n",
      "flatten_8 (Flatten)             (None, 250)          0           spatial_dropout1d_6[0][0]        \n",
      "__________________________________________________________________________________________________\n",
      "flatten_9 (Flatten)             (None, 100)          0           conv1d_13[0][0]                  \n",
      "__________________________________________________________________________________________________\n",
      "concatenate_17 (Concatenate)    (None, 350)          0           flatten_8[0][0]                  \n",
      "                                                                 flatten_9[0][0]                  \n",
      "__________________________________________________________________________________________________\n",
      "dense_20 (Dense)                (None, 100)          35100       concatenate_17[0][0]             \n",
      "__________________________________________________________________________________________________\n",
      "dropout_5 (Dropout)             (None, 100)          0           dense_20[0][0]                   \n",
      "__________________________________________________________________________________________________\n",
      "dense_21 (Dense)                (None, 100)          10100       dropout_5[0][0]                  \n",
      "__________________________________________________________________________________________________\n",
      "dropout_6 (Dropout)             (None, 100)          0           dense_21[0][0]                   \n",
      "__________________________________________________________________________________________________\n",
      "dense_22 (Dense)                (None, 1)            101         dropout_6[0][0]                  \n",
      "==================================================================================================\n",
      "Total params: 193,201\n",
      "Trainable params: 193,201\n",
      "Non-trainable params: 0\n",
      "__________________________________________________________________________________________________\n",
      "None\n"
     ]
    }
   ],
   "source": [
    "def get_nn(emb_n, dense_n, batch_size, epochs, df_train):\n",
    "\n",
    "    \n",
    "\n",
    "    in_app = Input(shape=[1], name = 'app')\n",
    "    emb_app = Embedding(max_length['app'], emb_n)(in_app)\n",
    "    in_channel = Input(shape=[1], name = 'channel')\n",
    "    emb_channel = Embedding(max_length['channel'], emb_n)(in_channel)\n",
    "    in_os = Input(shape=[1], name = 'os')\n",
    "    emb_os = Embedding(max_length['os'], emb_n)(in_os)\n",
    "    in_device = Input(shape=[1], name = 'device')\n",
    "    emb_device = Embedding(max_length['device'], emb_n)(in_device)\n",
    "    in_hour= Input(shape=[1], name = 'hour')\n",
    "    emb_hour = Embedding(max_length['hour'], emb_n)(in_hour)\n",
    "    fe = concatenate([(emb_app), (emb_channel), (emb_os), (emb_device), (emb_hour)])\n",
    "    s_dout = SpatialDropout1D(0.2)(fe)\n",
    "    fl1 = Flatten()(s_dout)\n",
    "    conv = Conv1D(100, kernel_size=1, strides=1, padding='same')(s_dout)\n",
    "    fl2 = Flatten()(conv)\n",
    "    concat = concatenate([(fl1), (fl2)])\n",
    "    x = Dropout(0.2)(Dense(dense_n,activation='relu')(concat))\n",
    "    x = Dropout(0.2)(Dense(dense_n,activation='relu')(x))\n",
    "\n",
    "    outp = Dense(1,activation='sigmoid')(x)\n",
    "\n",
    "    input_list = [in_app, in_channel, in_os, in_device, in_hour]\n",
    "    model = Model(inputs=input_list, outputs=outp)\n",
    "    model.compile(\n",
    "            loss='binary_crossentropy',\n",
    "            optimizer='adam',\n",
    "            metrics=['accuracy'])\n",
    "    \n",
    "    \n",
    "    \n",
    "    exp_decay = lambda init, fin, steps: (init/fin)**(1/(steps-1)) - 1\n",
    "    steps = int(len(df_train) / batch_size) * epochs\n",
    "    lr_init, lr_fin = 0.002, 0.0002\n",
    "    lr_decay = exp_decay(lr_init, lr_fin, steps)\n",
    "    optimizer_adam = Adam(lr=0.002, decay=lr_decay)\n",
    "    model.compile(loss='binary_crossentropy',optimizer=optimizer_adam,metrics=['accuracy'])\n",
    "\n",
    "    print(model.summary())\n",
    "    \n",
    "    \n",
    "    return model\n",
    "\n",
    "batch_size = 50000\n",
    "epochs = 2\n",
    "emb_n = 50\n",
    "dense_n = 100\n",
    "model = get_nn(emb_n, dense_n, batch_size, epochs, df)"
   ]
  },
  {
   "cell_type": "code",
   "execution_count": 63,
   "metadata": {},
   "outputs": [
    {
     "data": {
      "text/plain": [
       "Index(['ip_day_hour_count', 'ip_os_day_hour_count', 'ip_app_day_hour_count',\n",
       "       'ip_app_os_day_hour_count', 'app_day_hour_count', 'ip_device_os_count',\n",
       "       'ip_app_device_os_count', 'ip_device_os_mean', 'ip_app_device_os_mean',\n",
       "       'ip_device_os_time2nextclick', 'ip_app_device_os_time2nextclick',\n",
       "       'ip_device_os_time2previousclick',\n",
       "       'ip_app_device_os_time2previousclick', 'ip_device_os_countfromfuture',\n",
       "       'ip_app_device_os_countfromfuture', 'ip_device_os_countfrompast',\n",
       "       'ip_app_device_os_countfrompast', 'ip_device_os_lasttimediff',\n",
       "       'ip_app_device_os_lasttimediff',\n",
       "       'matrixFact_user_iposdeviceapp_item_device',\n",
       "       'matrixFact_user_iposdeviceapp_item_app',\n",
       "       'matrixFact_user_iposdeviceapp_item_channel', 'app', 'channel',\n",
       "       'device', 'os', 'hour', 'is_attributed'],\n",
       "      dtype='object')"
      ]
     },
     "execution_count": 63,
     "metadata": {},
     "output_type": "execute_result"
    }
   ],
   "source": [
    "df.columns"
   ]
  },
  {
   "cell_type": "code",
   "execution_count": 65,
   "metadata": {},
   "outputs": [
    {
     "name": "stdout",
     "output_type": "stream",
     "text": [
      "Epoch 1/2\n",
      "19534560/19534560 [==============================] - 21s 1us/step - loss: 0.0017 - acc: 0.9881\n",
      "Epoch 2/2\n",
      "19534560/19534560 [==============================] - 20s 1us/step - loss: 0.0017 - acc: 0.9881\n"
     ]
    },
    {
     "data": {
      "text/plain": [
       "<keras.callbacks.History at 0x7f0ef1a3ce80>"
      ]
     },
     "execution_count": 65,
     "metadata": {},
     "output_type": "execute_result"
    }
   ],
   "source": [
    "class_weight = {0:.01,1:.99} # magic\n",
    "df_train = get_keras_data(df,['ip_day_hour_count'])\n",
    "y_train = df['is_attributed'].values\n",
    "model.fit(df_train,y_train, batch_size=batch_size, epochs=2, class_weight=class_weight, shuffle=True, verbose=1)"
   ]
  },
  {
   "cell_type": "code",
   "execution_count": null,
   "metadata": {
    "collapsed": true
   },
   "outputs": [],
   "source": [
    "conv = Conv1D(100, kernel_size=4, strides=1, padding='same')(s_dout)"
   ]
  }
 ],
 "metadata": {
  "kernelspec": {
   "display_name": "Python 3.5 (tf_gpu)",
   "language": "python",
   "name": "tf_gpu"
  },
  "language_info": {
   "codemirror_mode": {
    "name": "ipython",
    "version": 3
   },
   "file_extension": ".py",
   "mimetype": "text/x-python",
   "name": "python",
   "nbconvert_exporter": "python",
   "pygments_lexer": "ipython3",
   "version": "3.5.4"
  }
 },
 "nbformat": 4,
 "nbformat_minor": 2
}
