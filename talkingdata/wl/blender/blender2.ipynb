{
 "cells": [
  {
   "cell_type": "code",
   "execution_count": 7,
   "metadata": {
    "collapsed": true
   },
   "outputs": [],
   "source": [
    "import pandas as pd\n",
    "import numpy as np"
   ]
  },
  {
   "cell_type": "code",
   "execution_count": 8,
   "metadata": {
    "collapsed": true
   },
   "outputs": [],
   "source": [
    "best = pd.read_csv('/home/kai/data/kaggle/talkingdata/data/SUBS/Blend_4_4_5271683.csv.gz')"
   ]
  },
  {
   "cell_type": "code",
   "execution_count": 14,
   "metadata": {
    "collapsed": true
   },
   "outputs": [],
   "source": [
    "sub1 = np.load('/home/kai/data/kaggle/talkingdata/wl/data/blender/sub105061058am_col.npy')"
   ]
  },
  {
   "cell_type": "code",
   "execution_count": 6,
   "metadata": {
    "collapsed": true
   },
   "outputs": [],
   "source": [
    "lightgbm = pd.read_csv('/home/kai/data/kaggle/talkingdata/wl/data/lightgbm/gridsearch/lightgbm_bestparam_bestround_225_roc_0.9824899830726912_ntree_550_620_700_lb0.9816.csv.gz')"
   ]
  },
  {
   "cell_type": "code",
   "execution_count": 7,
   "metadata": {
    "collapsed": true
   },
   "outputs": [],
   "source": [
    "xgboost = pd.read_csv('/home/kai/data/kaggle/talkingdata/wl/data/xgboost/all_suppelement_xgbtree_160_depth7_scale99_lr0.35_ff0.7_ntree_110_135_160_lb0.9810.csv.gz')"
   ]
  },
  {
   "cell_type": "code",
   "execution_count": 8,
   "metadata": {
    "collapsed": true
   },
   "outputs": [],
   "source": [
    "cat1 = pd.read_csv('/home/kai/data/kaggle/talkingdata/wl/data/catboost/all_suppelement_tree_200_depth6_scale99_lr0.35_ff0.6_onehot200_ntree_120_160_200_catboost0.9808.csv.gz')"
   ]
  },
  {
   "cell_type": "code",
   "execution_count": 9,
   "metadata": {
    "collapsed": true
   },
   "outputs": [],
   "source": [
    "cat2 = pd.read_csv('/home/kai/data/kaggle/talkingdata/wl/data/catboost/all_suppelement_tree_1200_depth6_scale398_lr0.05_ntree_650_850_1100_lb0.9808.csv.gz')"
   ]
  },
  {
   "cell_type": "code",
   "execution_count": 18,
   "metadata": {
    "collapsed": true
   },
   "outputs": [],
   "source": [
    "cat3 = pd.read_csv('/home/kai/data/kaggle/talkingdata/wl/data/catboost/all_suppelement_tree_600_depth7_scale99_lr0.1_ff0.7_ntree_500_550_600.csv.gz')"
   ]
  },
  {
   "cell_type": "code",
   "execution_count": 19,
   "metadata": {
    "collapsed": true
   },
   "outputs": [],
   "source": [
    "index2zero = np.load('/home/kai/data/kaggle/talkingdata/data/idx_to_0.npy')"
   ]
  },
  {
   "cell_type": "code",
   "execution_count": 21,
   "metadata": {
    "collapsed": true
   },
   "outputs": [],
   "source": [
    "pred = best.is_attributed * 0.3 + lightgbm.is_attributed * 0.3 +xgboost.is_attributed*0.2+ cat1.is_attributed*0.05 + cat2.is_attributed*0.05 + cat3.is_attributed*0.1"
   ]
  },
  {
   "cell_type": "code",
   "execution_count": 15,
   "metadata": {
    "collapsed": true
   },
   "outputs": [],
   "source": [
    "submission = pd.DataFrame()\n",
    "submission['click_id'] = best['click_id']\n",
    "submission['is_attributed'] = sub1"
   ]
  },
  {
   "cell_type": "code",
   "execution_count": 24,
   "metadata": {
    "collapsed": true
   },
   "outputs": [],
   "source": [
    "submission.loc[index2zero,'is_attributed'] = 0"
   ]
  },
  {
   "cell_type": "code",
   "execution_count": 16,
   "metadata": {
    "collapsed": true
   },
   "outputs": [],
   "source": [
    "# submission.to_csv('/home/kai/data/kaggle/talkingdata/data/SUBS/Blend_0504ALL.csv.gz', compression='gzip', index=False)\n",
    "submission.to_csv('/home/kai/data/kaggle/talkingdata/wl/data/blender/sub105061048am_col.csv.gz', compression='gzip', index=False)"
   ]
  },
  {
   "cell_type": "code",
   "execution_count": null,
   "metadata": {
    "collapsed": true
   },
   "outputs": [],
   "source": []
  }
 ],
 "metadata": {
  "kernelspec": {
   "display_name": "Python 3",
   "language": "python",
   "name": "python3"
  },
  "language_info": {
   "codemirror_mode": {
    "name": "ipython",
    "version": 3
   },
   "file_extension": ".py",
   "mimetype": "text/x-python",
   "name": "python",
   "nbconvert_exporter": "python",
   "pygments_lexer": "ipython3",
   "version": "3.6.3"
  }
 },
 "nbformat": 4,
 "nbformat_minor": 2
}
