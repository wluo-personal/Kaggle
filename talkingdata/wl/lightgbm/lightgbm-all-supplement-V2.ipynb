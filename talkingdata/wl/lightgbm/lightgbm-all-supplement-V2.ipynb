{
 "cells": [
  {
   "cell_type": "code",
   "execution_count": 1,
   "metadata": {
    "collapsed": true
   },
   "outputs": [],
   "source": [
    "import pandas as pd\n",
    "import lightgbm as lgb\n",
    "import numpy as np\n",
    "import gc"
   ]
  },
  {
   "cell_type": "code",
   "execution_count": 4,
   "metadata": {
    "collapsed": true
   },
   "outputs": [],
   "source": [
    "dtypes = {\n",
    "        'app'           : 'uint16',\n",
    "        'device'        : 'uint16',\n",
    "        'os'            : 'uint16',\n",
    "        'channel'       : 'uint16',\n",
    "        'hour'          : 'uint8',\n",
    "        'is_attributed' : 'uint8', \n",
    "        'ip_day_hour_count': 'uint32', \n",
    "        'ip_os_day_hour_count': 'uint32', \n",
    "        'ip_app_day_hour_count': 'uint32', \n",
    "        'ip_app_os_day_hour_count': 'uint32', \n",
    "        'app_day_hour_count': 'uint32', \n",
    "        'ip_device_os_count': 'uint32', \n",
    "        'ip_app_device_os_count': 'uint32', \n",
    "        'ip_device_os_mean': 'float16',\n",
    "        'ip_app_device_os_mean': 'float16',\n",
    "        'ip_app_device_mean': 'float16',\n",
    "        'app_device_os_mean': 'float16',\n",
    "        'ip_device_os_time2nextclick': 'int32',\n",
    "        'ip_app_device_os_time2nextclick': 'int32',\n",
    "        'ip_app_device_time2nextclick': 'int32',\n",
    "        'ip_device_os_time2previousclick': 'int32',\n",
    "        'ip_app_device_os_time2previousclick': 'int32',\n",
    "        'ip_app_device_time2previousclick': 'int32',\n",
    "        'ip_device_os_countfromfuture': 'uint32', \n",
    "        'ip_app_device_os_countfromfuture': 'uint32', \n",
    "        'ip_app_device_countfromfuture': 'uint32', \n",
    "        'ip_device_os_countfrompast': 'uint32', \n",
    "        'ip_app_device_os_countfrompast': 'uint32', \n",
    "        'ip_app_device_countfrompast': 'uint32', \n",
    "        'ip_device_os_lasttimediff': 'int32',\n",
    "        'ip_app_device_os_lasttimediff': 'int32',\n",
    "        'ip_app_device_lasttimediff': 'int32',\n",
    "        'ip_device_os_firsttimediff': 'int32',\n",
    "        'ip_app_device_os_firsttimediff': 'int32',\n",
    "        'ip_app_device_firsttimediff': 'int32',\n",
    "        'matrixFact_user_iposdeviceapp_item_app': 'float16',\n",
    "        'matrixFact_user_ip_item_appdeviceos': 'float16',\n",
    "        'matrixFact_user_ipchannel_item_appdeviceos': 'float16',\n",
    "        'ip_device_os_regression': 'float16',\n",
    "        'ip_app_device_os_regression': 'float16',\n",
    "        'ip_app_device_regression': 'float16',\n",
    "        'ip_app_device_os_channel_regression': 'float16', \n",
    "        'attributed_timediffmax':'int32',\n",
    "        'attributed_timediffmin':'int32',\n",
    "        'attributed_timediff':'float16',\n",
    "        'matrixFact_user_ipappdeviceos_item_channel': 'float16'\n",
    "    \n",
    "        } "
   ]
  },
  {
   "cell_type": "code",
   "execution_count": 5,
   "metadata": {},
   "outputs": [
    {
     "name": "stdout",
     "output_type": "stream",
     "text": [
      "day7_features_supplementV2_feature41.csv\n",
      "day8_features_supplementV2_feature41.csv\n",
      "day9_features_supplementV2_feature41.csv\n",
      "test_equalhour_features_supplementV2_feature41.csv\n"
     ]
    }
   ],
   "source": [
    "load_path = '/home/kai/data/kaggle/talkingdata/wl/data/equalhour/'\n",
    "file_format = '{}_features_supplementV2_feature41.csv'\n",
    "day_list = ['day7', 'day8', 'day9']\n",
    "df_dict = {}\n",
    "df_extra = {}\n",
    "for file in ['day7', 'day8', 'day9']: \n",
    "    df_dict[file] = pd.read_csv(load_path+file_format.format(file),dtype=dtypes)\n",
    "    df_extra[file] = pd.read_csv(load_path+'{}_features_supplementV2_extra_timediff.csv'.format(file),dtype=dtypes)\n",
    "    print(file_format.format(file))\n",
    "df_dict['test'] = pd.read_csv(load_path+file_format.format('test_equalhour'),dtype=dtypes)\n",
    "df_extra['test'] =  pd.read_csv(load_path+'test_equalhoursV2_features_supplementV2_extra_timediff.csv',dtype=dtypes)\n",
    "\n",
    "print(file_format.format('test_equalhour'))\n",
    "    "
   ]
  },
  {
   "cell_type": "code",
   "execution_count": 6,
   "metadata": {},
   "outputs": [
    {
     "name": "stdout",
     "output_type": "stream",
     "text": [
      "attributed_timediff\n",
      "attributed_timediff\n",
      "attributed_timediff\n",
      "attributed_timediff\n"
     ]
    }
   ],
   "source": [
    "for day in ['day7', 'day8', 'day9', 'test']:\n",
    "#     for col in ['matrixFact_user_ipappdeviceos_item_channel', 'attributed_timediff']:\n",
    "    for col in [ 'attributed_timediff']:\n",
    "        df_dict[day][col] = df_extra[day][col]\n",
    "        print(col)"
   ]
  },
  {
   "cell_type": "code",
   "execution_count": 7,
   "metadata": {},
   "outputs": [
    {
     "data": {
      "text/plain": [
       "221"
      ]
     },
     "execution_count": 7,
     "metadata": {},
     "output_type": "execute_result"
    }
   ],
   "source": [
    "del df_extra \n",
    "gc.collect()"
   ]
  },
  {
   "cell_type": "markdown",
   "metadata": {},
   "source": [
    "# define parameter"
   ]
  },
  {
   "cell_type": "code",
   "execution_count": 8,
   "metadata": {
    "collapsed": true
   },
   "outputs": [],
   "source": [
    "target = 'is_attributed'\n",
    "\n",
    "day_list = ['day7', 'day8', 'day9']\n",
    "\n",
    "combine = 0\n",
    "params = {\n",
    "        'objective': 'binary',\n",
    "        'boosting': 'gbdt',\n",
    "        'num_rounds': 4000,\n",
    "        'learning_rate': 0.1,\n",
    "        'num_leaves': 61,\n",
    "        'num_threads': 4, # best speed: set to number of real cpu cores, which is vCPU/2\n",
    "        'device': 'cpu',\n",
    "        'max_depth': -1, # no limit. This is used to deal with over-fitting when #data is small.\n",
    "        'min_data_in_leaf': 390,  #minimal number of data in one leaf. Can be used to deal with over-fitting\n",
    "        'feature_fraction': 0.7, #For example, if set to 0.8, will select 80% features before training each tree.  speed up training / deal with over-fitting\n",
    "        'feature_fraction_seed': 1,\n",
    "        'early_stopping_round':60,\n",
    "        'bagging_fraction': 0.7, #Randomly select part of data without resampling\n",
    "        'bagging_freq': 1, #frequency for bagging, 0 means disable bagging. k means will perform bagging at every k iteration. to enable bagging, bagging_fraction should be set as well\n",
    "        'bagging_seed': 1,\n",
    "        'verbose': 0,\n",
    "        'scale_pos_weight': 400,\n",
    "        'metric' : [ 'auc']\n",
    "    }\n",
    "\n",
    "categorical_col = [ 'app', 'device', 'os', 'channel', 'hour']\n",
    "feature_cols = list(df_dict['test'].columns.values)"
   ]
  },
  {
   "cell_type": "code",
   "execution_count": 9,
   "metadata": {},
   "outputs": [
    {
     "data": {
      "text/plain": [
       "array(['app', 'device', 'os', 'channel', 'hour', 'is_attributed',\n",
       "       'ip_day_hour_count', 'ip_os_day_hour_count',\n",
       "       'ip_app_day_hour_count', 'ip_app_os_day_hour_count',\n",
       "       'app_day_hour_count', 'ip_device_os_count',\n",
       "       'ip_app_device_os_count', 'ip_device_os_mean',\n",
       "       'ip_app_device_os_mean', 'ip_app_device_mean', 'app_device_os_mean',\n",
       "       'ip_device_os_time2nextclick', 'ip_app_device_os_time2nextclick',\n",
       "       'ip_app_device_time2nextclick', 'ip_device_os_time2previousclick',\n",
       "       'ip_app_device_os_time2previousclick',\n",
       "       'ip_app_device_time2previousclick', 'ip_device_os_countfromfuture',\n",
       "       'ip_app_device_os_countfromfuture', 'ip_app_device_countfromfuture',\n",
       "       'ip_device_os_countfrompast', 'ip_app_device_os_countfrompast',\n",
       "       'ip_app_device_countfrompast', 'ip_device_os_lasttimediff',\n",
       "       'ip_app_device_os_lasttimediff', 'ip_app_device_lasttimediff',\n",
       "       'ip_device_os_firsttimediff', 'ip_app_device_os_firsttimediff',\n",
       "       'ip_app_device_firsttimediff',\n",
       "       'matrixFact_user_iposdeviceapp_item_app',\n",
       "       'matrixFact_user_ip_item_appdeviceos',\n",
       "       'matrixFact_user_ipchannel_item_appdeviceos',\n",
       "       'ip_device_os_regression', 'ip_app_device_os_regression',\n",
       "       'ip_app_device_regression', 'ip_app_device_os_channel_regression',\n",
       "       'attributed_timediff'], dtype=object)"
      ]
     },
     "execution_count": 9,
     "metadata": {},
     "output_type": "execute_result"
    }
   ],
   "source": [
    "df_dict['day7'].columns.values"
   ]
  },
  {
   "cell_type": "code",
   "execution_count": 10,
   "metadata": {
    "collapsed": true
   },
   "outputs": [],
   "source": [
    "# get rid of extra features\n",
    "# extra = set(['matrixFact_user_iposdeviceapp_item_channel', 'matrixFact_user_iposdeviceapp_item_device'])\n",
    "extra = set(['ip_device_os_countself',\n",
    "             'ip_day_hour_countself', \n",
    "             'app_day_hour_countself',\n",
    "             'ip_app_device_os_countself',\n",
    "             'ip_app_day_hour_countself', \n",
    "             'ip_os_day_hour_countself', \n",
    "             'ip_app_os_day_hour_countself',\n",
    "             'ip_device_os_regression',\n",
    "             'ip_app_device_os_regression', \n",
    "             'ip_app_device_regression' ])\n",
    "\n",
    "# extra = set([])\n",
    "# extra = set(['ip_device_os_count',\n",
    "#              'ip_day_hour_count', \n",
    "#              'app_day_hour_count',\n",
    "#              'ip_app_device_os_count',\n",
    "#              'ip_app_day_hour_count', \n",
    "#              'ip_os_day_hour_count', \n",
    "#              'ip_app_os_day_hour_count' ])\n",
    "feature_cols = list(set(feature_cols) - extra)"
   ]
  },
  {
   "cell_type": "code",
   "execution_count": 11,
   "metadata": {},
   "outputs": [
    {
     "data": {
      "text/plain": [
       "['matrixFact_user_iposdeviceapp_item_app',\n",
       " 'ip_app_os_day_hour_count',\n",
       " 'ip_app_device_firsttimediff',\n",
       " 'ip_os_day_hour_count',\n",
       " 'ip_app_device_os_firsttimediff',\n",
       " 'ip_device_os_time2previousclick',\n",
       " 'ip_device_os_firsttimediff',\n",
       " 'ip_device_os_countfrompast',\n",
       " 'device',\n",
       " 'ip_app_device_os_channel_regression',\n",
       " 'ip_app_device_os_count',\n",
       " 'ip_app_device_countfrompast',\n",
       " 'ip_app_day_hour_count',\n",
       " 'attributed_timediff',\n",
       " 'app_device_os_mean',\n",
       " 'app',\n",
       " 'ip_app_device_os_countfromfuture',\n",
       " 'ip_device_os_count',\n",
       " 'ip_app_device_os_time2nextclick',\n",
       " 'ip_app_device_time2previousclick',\n",
       " 'channel',\n",
       " 'ip_app_device_lasttimediff',\n",
       " 'ip_device_os_mean',\n",
       " 'ip_app_device_mean',\n",
       " 'ip_app_device_os_countfrompast',\n",
       " 'ip_day_hour_count',\n",
       " 'ip_app_device_countfromfuture',\n",
       " 'ip_app_device_os_mean',\n",
       " 'os',\n",
       " 'matrixFact_user_ipchannel_item_appdeviceos',\n",
       " 'ip_app_device_os_time2previousclick',\n",
       " 'app_day_hour_count',\n",
       " 'ip_device_os_lasttimediff',\n",
       " 'ip_device_os_time2nextclick',\n",
       " 'ip_app_device_time2nextclick',\n",
       " 'ip_device_os_countfromfuture',\n",
       " 'hour',\n",
       " 'matrixFact_user_ip_item_appdeviceos',\n",
       " 'ip_app_device_os_lasttimediff']"
      ]
     },
     "execution_count": 11,
     "metadata": {},
     "output_type": "execute_result"
    }
   ],
   "source": [
    "feature_cols"
   ]
  },
  {
   "cell_type": "code",
   "execution_count": null,
   "metadata": {
    "collapsed": true
   },
   "outputs": [],
   "source": [
    "def train_lightgbm(x_train, x_val, feature_cols, categorical_feature, params, best_round = None, target='is_attributed'):\n",
    "    param = params.copy()\n",
    "    y_train = x_train[target].values\n",
    "    y_val = x_val[target].values\n",
    "    \n",
    "    lgb_train = lgb.Dataset(x_train[feature_cols], y_train, categorical_feature = categorical_feature)\n",
    "    lgb_val = lgb.Dataset(x_val[feature_cols], y_val, categorical_feature = categorical_feature)\n",
    "    if best_round is not None:\n",
    "        param['num_rounds'] = best_round\n",
    "        del param['early_stopping_round']\n",
    "    print('start training')\n",
    "    model = lgb.train(param, train_set=lgb_train, valid_sets=lgb_val, verbose_eval=10)\n",
    "    return model"
   ]
  },
  {
   "cell_type": "code",
   "execution_count": null,
   "metadata": {},
   "outputs": [
    {
     "name": "stdout",
     "output_type": "stream",
     "text": [
      "concat_day8day9_val_day7_allday_supplement_V2_attributediff_noreg.npy\n",
      "building train val done!\n",
      "start training\n"
     ]
    },
    {
     "name": "stderr",
     "output_type": "stream",
     "text": [
      "/home/kai/anaconda3/lib/python3.6/site-packages/lightgbm/engine.py:99: UserWarning: Found `num_rounds` in params. Will use it instead of argument\n",
      "  warnings.warn(\"Found `{}` in params. Will use it instead of argument\".format(alias))\n",
      "/home/kai/anaconda3/lib/python3.6/site-packages/lightgbm/engine.py:104: UserWarning: Found `early_stopping_round` in params. Will use it instead of argument\n",
      "  warnings.warn(\"Found `{}` in params. Will use it instead of argument\".format(alias))\n",
      "/home/kai/anaconda3/lib/python3.6/site-packages/lightgbm/basic.py:1027: UserWarning: Using categorical_feature in Dataset.\n",
      "  warnings.warn('Using categorical_feature in Dataset.')\n",
      "/home/kai/anaconda3/lib/python3.6/site-packages/lightgbm/basic.py:668: UserWarning: categorical_feature in param dict is overrided.\n",
      "  warnings.warn('categorical_feature in param dict is overrided.')\n"
     ]
    },
    {
     "name": "stdout",
     "output_type": "stream",
     "text": [
      "Training until validation scores don't improve for 60 rounds.\n",
      "[10]\tvalid_0's auc: 0.980032\n",
      "[20]\tvalid_0's auc: 0.982183\n",
      "[30]\tvalid_0's auc: 0.983498\n",
      "[40]\tvalid_0's auc: 0.984361\n",
      "[50]\tvalid_0's auc: 0.984953\n",
      "[60]\tvalid_0's auc: 0.985316\n",
      "[70]\tvalid_0's auc: 0.98552\n",
      "[80]\tvalid_0's auc: 0.98566\n",
      "[90]\tvalid_0's auc: 0.985711\n",
      "[100]\tvalid_0's auc: 0.985777\n",
      "[110]\tvalid_0's auc: 0.985825\n",
      "[120]\tvalid_0's auc: 0.985838\n",
      "[130]\tvalid_0's auc: 0.985844\n",
      "[140]\tvalid_0's auc: 0.985863\n",
      "[150]\tvalid_0's auc: 0.98587\n",
      "[100]\tvalid_0's auc: 0.986007\n",
      "[110]\tvalid_0's auc: 0.986059\n",
      "[120]\tvalid_0's auc: 0.98607\n",
      "[130]\tvalid_0's auc: 0.986079\n",
      "[140]\tvalid_0's auc: 0.986096\n",
      "[150]\tvalid_0's auc: 0.986092\n",
      "[160]\tvalid_0's auc: 0.986075\n",
      "[170]\tvalid_0's auc: 0.986075\n",
      "[180]\tvalid_0's auc: 0.986081\n",
      "[190]\tvalid_0's auc: 0.986075\n",
      "[200]\tvalid_0's auc: 0.986069\n",
      "Early stopping, best iteration is:\n",
      "[144]\tvalid_0's auc: 0.9861\n"
     ]
    }
   ],
   "source": [
    "for day in day_list:\n",
    "# for day in ['day7', 'day8']:\n",
    "    train_day = list(set(day_list)-set([day]))\n",
    "    file_name = 'concat_{}{}_val_{}_allday_supplement_V2_attributediff_noreg.npy'.format(train_day[0],train_day[1],day)\n",
    "    print(file_name)\n",
    "    trainset = pd.concat([df_dict[train_day[0]],df_dict[train_day[1]]])\n",
    "    valset = df_dict[day]\n",
    "    print('building train val done!')\n",
    "    model = train_lightgbm(trainset, valset, feature_cols, categorical_col, params)\n",
    "    best_round = model.best_iteration\n",
    "    \n",
    "    df_all = pd.concat([trainset, valset])\n",
    "    del trainset\n",
    "    gc.collect()\n",
    "    model = train_lightgbm(df_all, valset, feature_cols, categorical_col, params, best_round)\n",
    "    del df_all\n",
    "    gc.collect()\n",
    "    \n",
    "    pred = model.predict(df_dict['test'][feature_cols])\n",
    "    np.save(load_path+file_name, pred)\n",
    "    \n",
    "    # prediction\n",
    "    df_test_raw = pd.read_csv('/home/kai/data/kaggle/talkingdata/data/test.csv')\n",
    "    print('loading file done!')\n",
    "    df_sub = pd.DataFrame()\n",
    "    df_sub['click_id'] = df_test_raw['click_id']\n",
    "    df_sub['is_attributed'] = pred\n",
    "    print('predicting file done!')\n",
    "    df_sub.to_csv('/home/kai/data/kaggle/talkingdata/wl/data/submission/concat_{}{}_val_{}_allday_supplement_V2_bestround_{}_attributediff_noreg.csv.gz'.format(train_day[0],train_day[1],day,best_round), compression='gzip', index=False)\n",
    "\n",
    "    "
   ]
  },
  {
   "cell_type": "code",
   "execution_count": 16,
   "metadata": {},
   "outputs": [
    {
     "data": {
      "text/plain": [
       "matrixFact_user_iposdeviceapp_item_app        7.855351e+08\n",
       "app_device_os_mean                            2.552609e+08\n",
       "matrixFact_user_ip_item_appdeviceos           1.608068e+08\n",
       "matrixFact_user_ipchannel_item_appdeviceos    6.137858e+07\n",
       "ip_app_device_os_time2nextclick               4.482689e+07\n",
       "channel                                       2.797751e+07\n",
       "ip_day_hour_count                             2.198434e+07\n",
       "app                                           2.149862e+07\n",
       "os                                            1.951830e+07\n",
       "ip_app_device_os_lasttimediff                 1.507538e+07\n",
       "ip_device_os_count                            1.480736e+07\n",
       "hour                                          1.057946e+07\n",
       "ip_app_day_hour_count                         6.929483e+06\n",
       "device                                        6.445461e+06\n",
       "ip_app_os_day_hour_count                      6.426826e+06\n",
       "ip_app_device_os_count                        5.928128e+06\n",
       "ip_app_device_time2nextclick                  4.825258e+06\n",
       "ip_app_device_firsttimediff                   4.260704e+06\n",
       "ip_app_device_mean                            4.192816e+06\n",
       "ip_app_device_os_countfromfuture              3.560604e+06\n",
       "ip_device_os_countfrompast                    3.403075e+06\n",
       "ip_app_device_countfromfuture                 2.781137e+06\n",
       "ip_device_os_lasttimediff                     2.717529e+06\n",
       "ip_app_device_lasttimediff                    2.563060e+06\n",
       "ip_app_device_countfrompast                   2.531401e+06\n",
       "ip_device_os_countfromfuture                  2.248706e+06\n",
       "attributed_timediff                           1.930936e+06\n",
       "app_day_hour_count                            1.481887e+06\n",
       "ip_device_os_mean                             1.430566e+06\n",
       "ip_app_device_os_countfrompast                1.316445e+06\n",
       "ip_device_os_firsttimediff                    8.691451e+05\n",
       "ip_app_device_os_time2previousclick           7.629176e+05\n",
       "ip_os_day_hour_count                          7.234123e+05\n",
       "ip_device_os_time2nextclick                   6.973267e+05\n",
       "ip_app_device_time2previousclick              4.084749e+05\n",
       "ip_app_device_os_mean                         3.125547e+05\n",
       "ip_app_device_os_firsttimediff                3.004892e+05\n",
       "ip_device_os_time2previousclick               2.836246e+05\n",
       "ip_app_device_os_channel_regression           4.671765e+04\n",
       "dtype: float64"
      ]
     },
     "execution_count": 16,
     "metadata": {},
     "output_type": "execute_result"
    }
   ],
   "source": [
    "importance = pd.Series(model.feature_importance(importance_type='gain'), index=feature_cols)\n",
    "# importance = pd.Series(model.feature_importance(), index=feature_cols)\n",
    "importance = importance.sort_values(ascending=False)\n",
    "if len(model.feature_importance()) != len(feature_cols):\n",
    "    raise ValueError('Feature importance has length: {}, \\n while feature number is {}'.\n",
    "                     format(len(model.feature_importance()), len(feature_cols)))\n",
    "    \n",
    "importance"
   ]
  },
  {
   "cell_type": "markdown",
   "metadata": {},
   "source": [
    "# Average"
   ]
  },
  {
   "cell_type": "code",
   "execution_count": 14,
   "metadata": {
    "collapsed": true
   },
   "outputs": [],
   "source": [
    "#### load each and average\n",
    "load_path = '/home/kai/data/kaggle/talkingdata/wl/data/equalhour/'\n",
    "day7 = np.load(load_path+'concat_day8day9_val_day7_allday_supplement_V2_attributediff_noreg.npy')\n",
    "day8 = np.load(load_path+'concat_day7day9_val_day8_allday_supplement_V2_attributediff_noreg.npy')\n",
    "day9 = np.load(load_path+'concat_day7day8_val_day9_allday_supplement_V2_attributediff_noreg.npy')\n",
    "\n",
    "pred = (day7 + day8 + day9)/3"
   ]
  },
  {
   "cell_type": "code",
   "execution_count": 15,
   "metadata": {},
   "outputs": [
    {
     "name": "stdout",
     "output_type": "stream",
     "text": [
      "loading file done!\n",
      "predicting file done!\n"
     ]
    }
   ],
   "source": [
    "# prediction\n",
    "df_test_raw = pd.read_csv('/home/kai/data/kaggle/talkingdata/data/test.csv')\n",
    "print('loading file done!')\n",
    "df_sub = pd.DataFrame()\n",
    "df_sub['click_id'] = df_test_raw['click_id']\n",
    "df_sub['is_attributed'] = pred\n",
    "print('predicting file done!')\n",
    "df_sub.to_csv('/home/kai/data/kaggle/talkingdata/wl/data/submission/allday_blend_supplement_V2_attributediff_noreg.csv.gz', compression='gzip', index=False)\n"
   ]
  },
  {
   "cell_type": "code",
   "execution_count": null,
   "metadata": {
    "collapsed": true
   },
   "outputs": [],
   "source": []
  }
 ],
 "metadata": {
  "kernelspec": {
   "display_name": "Python 3",
   "language": "python",
   "name": "python3"
  },
  "language_info": {
   "codemirror_mode": {
    "name": "ipython",
    "version": 3
   },
   "file_extension": ".py",
   "mimetype": "text/x-python",
   "name": "python",
   "nbconvert_exporter": "python",
   "pygments_lexer": "ipython3",
   "version": "3.6.3"
  }
 },
 "nbformat": 4,
 "nbformat_minor": 2
}
