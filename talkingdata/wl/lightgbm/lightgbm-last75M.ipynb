{
 "cells": [
  {
   "cell_type": "code",
   "execution_count": 2,
   "metadata": {
    "collapsed": true
   },
   "outputs": [],
   "source": [
    "import pandas as pd\n",
    "import numpy as np\n",
    "import time\n",
    "import lightgbm as lgb\n",
    "import sys"
   ]
  },
  {
   "cell_type": "code",
   "execution_count": 3,
   "metadata": {},
   "outputs": [
    {
     "name": "stdout",
     "output_type": "stream",
     "text": [
      "training loading done! Time: 422.89514923095703\n",
      "size is: 32.4100256934762\n",
      "length is 75000000\n"
     ]
    }
   ],
   "source": [
    "t1 = time.time()\n",
    "df_train = pd.read_csv('/home/kai/data/kaggle/talkingdata/wl/data/features/train_cm0410time_last75m.csv')\n",
    "\n",
    "t2 = time.time()\n",
    "print('training loading done! Time: {}'.format(t2 - t1))\n",
    "print('size is: {}'.format(sys.getsizeof(df_train) / 1024 ** 3))\n",
    "print('length is {}'.format(len(df_train)))"
   ]
  },
  {
   "cell_type": "code",
   "execution_count": 4,
   "metadata": {
    "collapsed": true
   },
   "outputs": [],
   "source": [
    "# ### 0410 add one more col\n",
    "# train_ip = pd.read_csv('/home/kai/data/kaggle/talkingdata/data/train_ip_col.csv')\n",
    "# df_train['ip_extra_hz'] = train_ip['val']\n",
    "# del train_ip"
   ]
  },
  {
   "cell_type": "markdown",
   "metadata": {},
   "source": [
    "# Specify Categorical Columns"
   ]
  },
  {
   "cell_type": "code",
   "execution_count": 5,
   "metadata": {
    "scrolled": true
   },
   "outputs": [
    {
     "data": {
      "text/plain": [
       "Index(['ip_day_intesthh_count', 'ip_day_hour_count', 'ip_os_day_hour_count',\n",
       "       'ip_app_day_hour_count', 'ip_app_os_day_hour_count',\n",
       "       'app_day_hour_count', 'app_channel_count', 'device_os_count',\n",
       "       'app_os_channel_hour_count', 'app_os_channel_mean',\n",
       "       'app_os_channel_intesthh_mean', 'ip_mean', 'ip_app_mean',\n",
       "       'ip_device_channel_mean', 'ip_app_device_mean', 'ip_app_intesthh_mean',\n",
       "       'ip_channel_mean', 'ip_os_mean', 'ip_device_mean',\n",
       "       'ip_app_device_channel_mean', 'ip_app_device_channel_time2nextclick',\n",
       "       'ip_app_device_os_time2nextclick',\n",
       "       'app_device_os_channel_time2nextclick',\n",
       "       'ip_app_device_os_channel_time2nextclick', 'ip_time2nextclick',\n",
       "       'ip_time2previousclick', 'ip_app_time2previousclick',\n",
       "       'ip_device_time2previousclick', 'ip_channel_time2previousclick',\n",
       "       'ip_app_device_time2previousclick', 'ip_os_time2previousclick',\n",
       "       'ip_app_device_os_channel_time2previousclick',\n",
       "       'app_device_countfromfuture', 'app_channel_countfromfuture',\n",
       "       'ip_device_countfromfuture', 'ip_countfromfuture',\n",
       "       'device_countfromfuture', 'ip_countfrompast', 'ip_device_countfrompast',\n",
       "       'device_countfrompast', 'app_channel_countfrompast',\n",
       "       'app_countfrompast', 'ip_app_device_os_countfrompast',\n",
       "       'ip_app_device_os_channel_countfrompast', 'ip_lasttimediff',\n",
       "       'ip_app_device_os_lasttimediff',\n",
       "       'ip_app_device_os_channel_lasttimediff', 'ip_app_lasttimediff',\n",
       "       'ip_os_lasttimediff', 'os_lasttimediff', 'device_lasttimediff',\n",
       "       'app_lasttimediff', 'channel', 'app', 'os', 'device', 'hour',\n",
       "       'is_attributed'],\n",
       "      dtype='object')"
      ]
     },
     "execution_count": 5,
     "metadata": {},
     "output_type": "execute_result"
    }
   ],
   "source": [
    "df_train.columns"
   ]
  },
  {
   "cell_type": "code",
   "execution_count": 6,
   "metadata": {},
   "outputs": [
    {
     "data": {
      "text/plain": [
       "['ip_device_time2previousclick',\n",
       " 'app_channel_count',\n",
       " 'device_countfromfuture',\n",
       " 'ip_device_mean',\n",
       " 'ip_os_mean',\n",
       " 'ip_app_day_hour_count',\n",
       " 'ip_mean',\n",
       " 'ip_channel_time2previousclick',\n",
       " 'ip_app_device_channel_time2nextclick',\n",
       " 'ip_time2previousclick',\n",
       " 'ip_app_device_time2previousclick',\n",
       " 'app_countfrompast',\n",
       " 'ip_app_lasttimediff',\n",
       " 'app_lasttimediff',\n",
       " 'hour',\n",
       " 'ip_app_device_os_channel_time2previousclick',\n",
       " 'ip_app_device_channel_mean',\n",
       " 'ip_day_intesthh_count',\n",
       " 'ip_app_os_day_hour_count',\n",
       " 'ip_app_device_os_channel_time2nextclick',\n",
       " 'device_lasttimediff',\n",
       " 'ip_app_device_os_countfrompast',\n",
       " 'ip_day_hour_count',\n",
       " 'app_day_hour_count',\n",
       " 'ip_app_intesthh_mean',\n",
       " 'app',\n",
       " 'ip_os_lasttimediff',\n",
       " 'os',\n",
       " 'ip_app_device_os_channel_countfrompast',\n",
       " 'ip_channel_mean',\n",
       " 'app_os_channel_intesthh_mean',\n",
       " 'ip_app_time2previousclick',\n",
       " 'app_os_channel_hour_count',\n",
       " 'channel',\n",
       " 'ip_app_device_os_lasttimediff',\n",
       " 'ip_device_channel_mean',\n",
       " 'app_os_channel_mean',\n",
       " 'ip_countfromfuture',\n",
       " 'os_lasttimediff',\n",
       " 'ip_app_device_os_time2nextclick',\n",
       " 'ip_app_device_mean',\n",
       " 'ip_app_device_os_channel_lasttimediff',\n",
       " 'app_channel_countfrompast',\n",
       " 'device',\n",
       " 'ip_app_mean',\n",
       " 'app_device_countfromfuture',\n",
       " 'device_os_count',\n",
       " 'ip_os_day_hour_count',\n",
       " 'app_channel_countfromfuture',\n",
       " 'ip_device_countfromfuture',\n",
       " 'ip_countfrompast',\n",
       " 'ip_time2nextclick',\n",
       " 'ip_os_time2previousclick',\n",
       " 'device_countfrompast',\n",
       " 'ip_lasttimediff',\n",
       " 'app_device_os_channel_time2nextclick',\n",
       " 'ip_device_countfrompast']"
      ]
     },
     "execution_count": 6,
     "metadata": {},
     "output_type": "execute_result"
    }
   ],
   "source": [
    "categorical_col = [ 'app', 'device', 'os', 'channel', 'hour', ]\n",
    "target = 'is_attributed'\n",
    "exclude_list = [\n",
    "#                 \n",
    "#                 'app_os_channel_intesthh_mean', \n",
    "                'app_device_os_channel_mean', #may not use\n",
    "                'app_device_os_channel_intesthh_mean', # may not use\n",
    "                'app_channel_intesthh_mean', # may not use\n",
    "                'app_device_os_mean', # may not use\n",
    "                'app_channel_mean', # may not use\n",
    "    \n",
    "                'ip_app_device_channel_mean',  # may not use\n",
    "                'ip_app_device_os_mean', # may not sue\n",
    "    \n",
    "#                 'ip_os_mean',   #97.8529     \n",
    "#                 'ip_device_mean', #97.8529\n",
    "#                 'ip_mean', \n",
    "#                 'ip_app_mean',\n",
    "#                 'ip_device_channel_mean', \n",
    "#                 'ip_app_device_mean' , \n",
    "#                 'ip_app_intesthh_mean', \n",
    "#                 'ip_channel_mean'   #0.9713\n",
    "#                 'app_os_channel_mean',  \n",
    "]\n",
    "\n",
    "# ['ip_os_mean', 'ip_device_mean'] ~ 0.978439   ~lb0.9713\n",
    "#\n",
    "#########################################################\n",
    "# exclude ['ip_app_device_channel_mean'] ~ 0.978669\n",
    "\n",
    "\n",
    "###########################################################\n",
    "\n",
    "# exclude ['app_os_channel_intesthh_mean']  0.978744\n",
    "\n",
    "exclude_list = []\n",
    "\n",
    "\n",
    "# features_mean = [\n",
    "#                 'app_os_channel_mean',  \n",
    "#                 'app_os_channel_intesthh_mean', \n",
    "#                 'app_device_os_channel_mean',\n",
    "#                 'app_device_os_channel_intesthh_mean', \n",
    "#                 'app_channel_intesthh_mean',\n",
    "#                 'ip_mean', \n",
    "#                 'ip_app_mean',\n",
    "#                 'ip_app_device_channel_mean', \n",
    "#                 'ip_device_channel_mean', \n",
    "#                 'ip_app_device_mean' , \n",
    "#                 'ip_app_intesthh_mean', \n",
    "#                 'ip_channel_mean',\n",
    "\n",
    "#     'ip_os_mean',  \n",
    "#     'ip_app_device_os_mean',\n",
    "#     'ip_device_mean',\n",
    "#     'app_device_os_mean', \n",
    "#     'app_channel_mean']\n",
    "\n",
    "\n",
    "remain = ['ip_mean']\n",
    "remain = ['ip_mean', \n",
    "                'ip_app_mean',\n",
    "                'ip_app_device_channel_mean', \n",
    "                'ip_device_channel_mean', \n",
    "                'ip_app_device_mean' , \n",
    "                'ip_app_intesthh_mean', \n",
    "                'ip_channel_mean']\n",
    "feature_cols = list(set(df_train.columns) - set([target]) -set(exclude_list))\n",
    "\n",
    "# extra = ['ip_extra_hz']\n",
    "extra = []\n",
    "feature_cols.extend(extra)\n",
    "feature_cols"
   ]
  },
  {
   "cell_type": "code",
   "execution_count": 7,
   "metadata": {
    "collapsed": true
   },
   "outputs": [],
   "source": [
    "# # remove minute and second\n",
    "# categorical_col = ['app', 'device', 'os', 'channel', 'hour']\n",
    "# target = 'is_attributed'\n",
    "# feature_cols = list(set(df_train.columns) - set([target]) - set(['minute', 'second', 'ip']))"
   ]
  },
  {
   "cell_type": "code",
   "execution_count": 8,
   "metadata": {
    "collapsed": true
   },
   "outputs": [],
   "source": [
    "# # remove minute and second\n",
    "# categorical_col = [ 'device' ]\n",
    "# target = 'is_attributed'\n",
    "# feature_cols = list(set(df_train.columns) - set([target]) - set(['minute', 'second', 'ip', 'app', 'os', 'channel', 'hour']))"
   ]
  },
  {
   "cell_type": "markdown",
   "metadata": {},
   "source": [
    "# Get Validation -- Last 10%"
   ]
  },
  {
   "cell_type": "code",
   "execution_count": 9,
   "metadata": {
    "collapsed": true
   },
   "outputs": [],
   "source": [
    "# ratio = 0.3\n",
    "# length = len(df_train)\n",
    "# front = int( (1-ratio) * length)\n",
    "# trainset = df_train.iloc[:front]\n",
    "# valset = df_train.iloc[front:]\n",
    "\n",
    "# print(sys.getsizeof(trainset)/ 1024 **3)\n",
    "# print(len(trainset))"
   ]
  },
  {
   "cell_type": "markdown",
   "metadata": {},
   "source": [
    "# Get Validation -- Head 10%"
   ]
  },
  {
   "cell_type": "code",
   "execution_count": 10,
   "metadata": {},
   "outputs": [
    {
     "name": "stdout",
     "output_type": "stream",
     "text": [
      "22.687018018215895\n",
      "52500000\n"
     ]
    }
   ],
   "source": [
    "ratio = 16/75\n",
    "ratio = 0.3\n",
    "length = len(df_train)\n",
    "front = int( ratio * length)\n",
    "\n",
    "valset = df_train.iloc[:front]\n",
    "trainset = df_train.iloc[front:]\n",
    "\n",
    "\n",
    "print(sys.getsizeof(trainset)/ 1024 **3)\n",
    "print(len(trainset))"
   ]
  },
  {
   "cell_type": "markdown",
   "metadata": {},
   "source": [
    "# Get Validation -- random 10 %"
   ]
  },
  {
   "cell_type": "code",
   "execution_count": 11,
   "metadata": {
    "collapsed": true
   },
   "outputs": [],
   "source": [
    "# from sklearn.model_selection import train_test_split\n",
    "\n",
    "# ratio = 0.3\n",
    "\n",
    "# trainset, valset = train_test_split(df_train,test_size=ratio, random_state=19)\n",
    "# print(sys.getsizeof(trainset)/ 1024 **3)\n",
    "# print(len(trainset))"
   ]
  },
  {
   "cell_type": "code",
   "execution_count": 12,
   "metadata": {},
   "outputs": [
    {
     "name": "stdout",
     "output_type": "stream",
     "text": [
      "train negative rate: 99.74658857142857\n",
      "val negative rate: 99.80628444444444\n"
     ]
    }
   ],
   "source": [
    "y_train = trainset[target].values\n",
    "y_val = valset[target].values\n",
    "\n",
    "lgb_train = lgb.Dataset(trainset[feature_cols], y_train, categorical_feature = categorical_col)\n",
    "lgb_val = lgb.Dataset(valset[feature_cols], y_val, categorical_feature = categorical_col)\n",
    "\n",
    "zeros = len(y_train[y_train == 0])\n",
    "scale_pos_weight = len(y_train[y_train == 0]) / len(y_train) * 100\n",
    "import gc\n",
    "# del df_train\n",
    "gc.collect()\n",
    "\n",
    "print('train negative rate: {}'.format(scale_pos_weight))\n",
    "print('val negative rate: {}'.format(len(y_val[y_val == 0]) / len(y_val) * 100))"
   ]
  },
  {
   "cell_type": "markdown",
   "metadata": {},
   "source": [
    "# Train Lightgbm"
   ]
  },
  {
   "cell_type": "code",
   "execution_count": 13,
   "metadata": {
    "scrolled": false
   },
   "outputs": [
    {
     "name": "stderr",
     "output_type": "stream",
     "text": [
      "/home/kai/anaconda3/lib/python3.6/site-packages/lightgbm/engine.py:99: UserWarning: Found `num_rounds` in params. Will use it instead of argument\n",
      "  warnings.warn(\"Found `{}` in params. Will use it instead of argument\".format(alias))\n",
      "/home/kai/anaconda3/lib/python3.6/site-packages/lightgbm/engine.py:104: UserWarning: Found `early_stopping_round` in params. Will use it instead of argument\n",
      "  warnings.warn(\"Found `{}` in params. Will use it instead of argument\".format(alias))\n",
      "/home/kai/anaconda3/lib/python3.6/site-packages/lightgbm/basic.py:1027: UserWarning: Using categorical_feature in Dataset.\n",
      "  warnings.warn('Using categorical_feature in Dataset.')\n",
      "/home/kai/anaconda3/lib/python3.6/site-packages/lightgbm/basic.py:668: UserWarning: categorical_feature in param dict is overrided.\n",
      "  warnings.warn('categorical_feature in param dict is overrided.')\n"
     ]
    },
    {
     "name": "stdout",
     "output_type": "stream",
     "text": [
      "Training until validation scores don't improve for 100 rounds.\n",
      "[10]\tvalid_0's auc: 0.964822\n",
      "[20]\tvalid_0's auc: 0.968632\n",
      "[30]\tvalid_0's auc: 0.970764\n",
      "[40]\tvalid_0's auc: 0.972627\n",
      "[50]\tvalid_0's auc: 0.973959\n",
      "[60]\tvalid_0's auc: 0.97448\n",
      "[70]\tvalid_0's auc: 0.974899\n",
      "[80]\tvalid_0's auc: 0.975194\n",
      "[90]\tvalid_0's auc: 0.975518\n",
      "[100]\tvalid_0's auc: 0.975826\n",
      "[110]\tvalid_0's auc: 0.975948\n",
      "[120]\tvalid_0's auc: 0.975992\n",
      "[130]\tvalid_0's auc: 0.976255\n",
      "[140]\tvalid_0's auc: 0.976401\n",
      "[150]\tvalid_0's auc: 0.976526\n",
      "[160]\tvalid_0's auc: 0.976692\n",
      "[170]\tvalid_0's auc: 0.976633\n",
      "[180]\tvalid_0's auc: 0.976642\n",
      "[190]\tvalid_0's auc: 0.976758\n",
      "[200]\tvalid_0's auc: 0.97678\n",
      "[210]\tvalid_0's auc: 0.976783\n",
      "[220]\tvalid_0's auc: 0.9768\n",
      "[230]\tvalid_0's auc: 0.976853\n",
      "[240]\tvalid_0's auc: 0.976902\n",
      "[250]\tvalid_0's auc: 0.976946\n",
      "[260]\tvalid_0's auc: 0.976962\n",
      "[270]\tvalid_0's auc: 0.97699\n",
      "[280]\tvalid_0's auc: 0.977017\n",
      "[290]\tvalid_0's auc: 0.97704\n",
      "[300]\tvalid_0's auc: 0.977064\n",
      "[310]\tvalid_0's auc: 0.97705\n",
      "[320]\tvalid_0's auc: 0.977041\n",
      "[330]\tvalid_0's auc: 0.977077\n",
      "[340]\tvalid_0's auc: 0.977096\n",
      "[350]\tvalid_0's auc: 0.977124\n",
      "[360]\tvalid_0's auc: 0.977099\n",
      "[370]\tvalid_0's auc: 0.977099\n",
      "[380]\tvalid_0's auc: 0.976973\n",
      "[390]\tvalid_0's auc: 0.97701\n",
      "[400]\tvalid_0's auc: 0.977048\n",
      "[410]\tvalid_0's auc: 0.977029\n",
      "[420]\tvalid_0's auc: 0.977042\n",
      "[430]\tvalid_0's auc: 0.977052\n",
      "[440]\tvalid_0's auc: 0.977067\n",
      "[450]\tvalid_0's auc: 0.977093\n",
      "[460]\tvalid_0's auc: 0.977131\n",
      "[470]\tvalid_0's auc: 0.97702\n",
      "[480]\tvalid_0's auc: 0.977023\n",
      "[490]\tvalid_0's auc: 0.976985\n",
      "[500]\tvalid_0's auc: 0.977012\n",
      "[510]\tvalid_0's auc: 0.977012\n",
      "[520]\tvalid_0's auc: 0.977042\n",
      "[530]\tvalid_0's auc: 0.977066\n",
      "[540]\tvalid_0's auc: 0.976979\n",
      "[550]\tvalid_0's auc: 0.976945\n",
      "[560]\tvalid_0's auc: 0.976958\n",
      "Early stopping, best iteration is:\n",
      "[460]\tvalid_0's auc: 0.977131\n"
     ]
    }
   ],
   "source": [
    "params = {\n",
    "        'objective': 'binary',\n",
    "        'boosting': 'gbdt',\n",
    "        'num_rounds': 2000,\n",
    "        'learning_rate': 0.1,\n",
    "        'num_leaves': 7,\n",
    "        'num_threads': 6, # best speed: set to number of real cpu cores, which is vCPU/2\n",
    "        'device': 'cpu',\n",
    "        'max_depth': -1, # no limit. This is used to deal with over-fitting when #data is small.\n",
    "        'min_data_in_leaf': 390,  #minimal number of data in one leaf. Can be used to deal with over-fitting\n",
    "        'feature_fraction': 0.7, #For example, if set to 0.8, will select 80% features before training each tree.  speed up training / deal with over-fitting\n",
    "        'feature_fraction_seed': 1,\n",
    "        'early_stopping_round':100,\n",
    "        'bagging_fraction': 0.7, #Randomly select part of data without resampling\n",
    "        'bagging_freq': 1, #frequency for bagging, 0 means disable bagging. k means will perform bagging at every k iteration. to enable bagging, bagging_fraction should be set as well\n",
    "        'bagging_seed': 1,\n",
    "        #'max_bin': 255,\n",
    "        'verbose': 0,\n",
    "        'scale_pos_weight': 400,\n",
    "        'metric' : [ 'auc']\n",
    "    }\n",
    "\n",
    "model = lgb.train(params, train_set=lgb_train, valid_sets=lgb_val, verbose_eval=10)"
   ]
  },
  {
   "cell_type": "code",
   "execution_count": 14,
   "metadata": {},
   "outputs": [
    {
     "name": "stdout",
     "output_type": "stream",
     "text": [
      "0.97713091296\n"
     ]
    }
   ],
   "source": [
    "from sklearn.metrics import roc_auc_score\n",
    "pred_val = model.predict(valset[feature_cols])\n",
    "print(roc_auc_score(y_val,pred_val))"
   ]
  },
  {
   "cell_type": "code",
   "execution_count": 15,
   "metadata": {
    "collapsed": true
   },
   "outputs": [],
   "source": [
    "importance = pd.Series(model.feature_importance(), index=feature_cols)\n",
    "importance = importance.sort_values(ascending=False)\n",
    "if len(model.feature_importance()) != len(feature_cols):\n",
    "    raise ValueError('Feature importance has length: {}, \\n while feature number is {}'.\n",
    "                     format(len(model.feature_importance()), len(feature_cols)))\n",
    "importance.to_csv('/home/kai/data/kaggle/talkingdata/wl/data/output/importance_sub_cm0410_4_leaf7weight.csv')"
   ]
  },
  {
   "cell_type": "code",
   "execution_count": 16,
   "metadata": {},
   "outputs": [
    {
     "data": {
      "text/plain": [
       "channel                                        660\n",
       "os                                             350\n",
       "app                                            247\n",
       "ip_app_os_day_hour_count                       136\n",
       "hour                                            99\n",
       "app_os_channel_mean                             99\n",
       "ip_app_device_os_lasttimediff                   91\n",
       "ip_countfrompast                                72\n",
       "ip_app_device_os_channel_lasttimediff           69\n",
       "ip_day_hour_count                               53\n",
       "app_os_channel_intesthh_mean                    43\n",
       "ip_day_intesthh_count                           42\n",
       "app_countfrompast                               41\n",
       "ip_device_mean                                  40\n",
       "ip_device_countfrompast                         37\n",
       "ip_app_device_os_countfrompast                  36\n",
       "ip_os_lasttimediff                              35\n",
       "ip_mean                                         33\n",
       "ip_app_device_mean                              32\n",
       "device                                          32\n",
       "os_lasttimediff                                 26\n",
       "device_countfrompast                            26\n",
       "ip_lasttimediff                                 26\n",
       "app_os_channel_hour_count                       25\n",
       "ip_app_time2previousclick                       24\n",
       "ip_app_mean                                     23\n",
       "ip_app_device_os_channel_time2previousclick     22\n",
       "app_channel_countfrompast                       20\n",
       "ip_app_day_hour_count                           18\n",
       "ip_app_device_os_channel_countfrompast          18\n",
       "ip_app_intesthh_mean                            17\n",
       "ip_os_day_hour_count                            16\n",
       "app_day_hour_count                              16\n",
       "app_channel_count                               16\n",
       "ip_app_device_time2previousclick                15\n",
       "ip_os_mean                                      15\n",
       "device_lasttimediff                             14\n",
       "ip_os_time2previousclick                        14\n",
       "ip_app_lasttimediff                             13\n",
       "app_device_countfromfuture                      12\n",
       "app_channel_countfromfuture                     12\n",
       "ip_channel_time2previousclick                   12\n",
       "app_lasttimediff                                11\n",
       "device_os_count                                 11\n",
       "ip_device_countfromfuture                       11\n",
       "ip_app_device_os_channel_time2nextclick         10\n",
       "ip_time2nextclick                                9\n",
       "device_countfromfuture                           9\n",
       "app_device_os_channel_time2nextclick             8\n",
       "ip_time2previousclick                            8\n",
       "ip_app_device_os_time2nextclick                  8\n",
       "ip_countfromfuture                               7\n",
       "ip_app_device_channel_time2nextclick             6\n",
       "ip_app_device_channel_mean                       5\n",
       "ip_device_time2previousclick                     5\n",
       "ip_device_channel_mean                           4\n",
       "ip_channel_mean                                  1\n",
       "dtype: int64"
      ]
     },
     "execution_count": 16,
     "metadata": {},
     "output_type": "execute_result"
    }
   ],
   "source": [
    "importance"
   ]
  },
  {
   "cell_type": "code",
   "execution_count": 17,
   "metadata": {},
   "outputs": [
    {
     "name": "stdout",
     "output_type": "stream",
     "text": [
      "loading file done!\n",
      "predicting file done!\n"
     ]
    }
   ],
   "source": [
    "df_test = pd.read_csv('/home/kai/data/kaggle/talkingdata/wl/data/features/test_cm0410time_last75m.csv')\n",
    "\n",
    "### 0410 add one more col\n",
    "test_ip = pd.read_csv('/home/kai/data/kaggle/talkingdata/data/test_ip_col.csv')\n",
    "df_test['ip_extra_hz'] = test_ip['val']\n",
    "del test_ip\n",
    "\n",
    "# prediction\n",
    "df_test_raw = pd.read_csv('/home/kai/data/kaggle/talkingdata/data/test.csv')\n",
    "print('loading file done!')\n",
    "df_test = df_test[list(valset[feature_cols].columns)]\n",
    "df_sub = pd.DataFrame()\n",
    "df_sub['click_id'] = df_test_raw['click_id']\n",
    "df_sub['is_attributed'] = model.predict(df_test)\n",
    "print('predicting file done!')\n",
    "df_sub.to_csv('/home/kai/data/kaggle/talkingdata/wl/data/submission/test_cm0409_4_leaf7weighted.csv.gz', compression='gzip', index=False)\n"
   ]
  },
  {
   "cell_type": "code",
   "execution_count": null,
   "metadata": {
    "collapsed": true
   },
   "outputs": [],
   "source": []
  },
  {
   "cell_type": "code",
   "execution_count": 22,
   "metadata": {},
   "outputs": [
    {
     "data": {
      "text/html": [
       "<div>\n",
       "<style>\n",
       "    .dataframe thead tr:only-child th {\n",
       "        text-align: right;\n",
       "    }\n",
       "\n",
       "    .dataframe thead th {\n",
       "        text-align: left;\n",
       "    }\n",
       "\n",
       "    .dataframe tbody tr th {\n",
       "        vertical-align: top;\n",
       "    }\n",
       "</style>\n",
       "<table border=\"1\" class=\"dataframe\">\n",
       "  <thead>\n",
       "    <tr style=\"text-align: right;\">\n",
       "      <th></th>\n",
       "      <th>ip_day_hour_count</th>\n",
       "      <th>ip</th>\n",
       "      <th>day</th>\n",
       "      <th>hour</th>\n",
       "    </tr>\n",
       "  </thead>\n",
       "  <tbody>\n",
       "    <tr>\n",
       "      <th>0</th>\n",
       "      <td>43</td>\n",
       "      <td>143414</td>\n",
       "      <td>NaN</td>\n",
       "      <td>12</td>\n",
       "    </tr>\n",
       "    <tr>\n",
       "      <th>1</th>\n",
       "      <td>18</td>\n",
       "      <td>173096</td>\n",
       "      <td>NaN</td>\n",
       "      <td>12</td>\n",
       "    </tr>\n",
       "    <tr>\n",
       "      <th>2</th>\n",
       "      <td>42</td>\n",
       "      <td>8210</td>\n",
       "      <td>NaN</td>\n",
       "      <td>12</td>\n",
       "    </tr>\n",
       "    <tr>\n",
       "      <th>3</th>\n",
       "      <td>19</td>\n",
       "      <td>5746</td>\n",
       "      <td>NaN</td>\n",
       "      <td>12</td>\n",
       "    </tr>\n",
       "    <tr>\n",
       "      <th>4</th>\n",
       "      <td>65</td>\n",
       "      <td>31475</td>\n",
       "      <td>NaN</td>\n",
       "      <td>12</td>\n",
       "    </tr>\n",
       "    <tr>\n",
       "      <th>5</th>\n",
       "      <td>11</td>\n",
       "      <td>251465</td>\n",
       "      <td>NaN</td>\n",
       "      <td>12</td>\n",
       "    </tr>\n",
       "    <tr>\n",
       "      <th>6</th>\n",
       "      <td>164</td>\n",
       "      <td>163593</td>\n",
       "      <td>NaN</td>\n",
       "      <td>12</td>\n",
       "    </tr>\n",
       "    <tr>\n",
       "      <th>7</th>\n",
       "      <td>158</td>\n",
       "      <td>58288</td>\n",
       "      <td>NaN</td>\n",
       "      <td>12</td>\n",
       "    </tr>\n",
       "    <tr>\n",
       "      <th>8</th>\n",
       "      <td>134</td>\n",
       "      <td>27038</td>\n",
       "      <td>NaN</td>\n",
       "      <td>12</td>\n",
       "    </tr>\n",
       "    <tr>\n",
       "      <th>9</th>\n",
       "      <td>414</td>\n",
       "      <td>67682</td>\n",
       "      <td>NaN</td>\n",
       "      <td>12</td>\n",
       "    </tr>\n",
       "    <tr>\n",
       "      <th>10</th>\n",
       "      <td>134</td>\n",
       "      <td>17130</td>\n",
       "      <td>NaN</td>\n",
       "      <td>12</td>\n",
       "    </tr>\n",
       "    <tr>\n",
       "      <th>11</th>\n",
       "      <td>158</td>\n",
       "      <td>100339</td>\n",
       "      <td>NaN</td>\n",
       "      <td>12</td>\n",
       "    </tr>\n",
       "    <tr>\n",
       "      <th>12</th>\n",
       "      <td>1214</td>\n",
       "      <td>36213</td>\n",
       "      <td>NaN</td>\n",
       "      <td>12</td>\n",
       "    </tr>\n",
       "    <tr>\n",
       "      <th>13</th>\n",
       "      <td>3</td>\n",
       "      <td>247140</td>\n",
       "      <td>NaN</td>\n",
       "      <td>12</td>\n",
       "    </tr>\n",
       "    <tr>\n",
       "      <th>14</th>\n",
       "      <td>2291</td>\n",
       "      <td>45745</td>\n",
       "      <td>NaN</td>\n",
       "      <td>12</td>\n",
       "    </tr>\n",
       "    <tr>\n",
       "      <th>15</th>\n",
       "      <td>842</td>\n",
       "      <td>59395</td>\n",
       "      <td>NaN</td>\n",
       "      <td>12</td>\n",
       "    </tr>\n",
       "    <tr>\n",
       "      <th>16</th>\n",
       "      <td>24</td>\n",
       "      <td>131535</td>\n",
       "      <td>NaN</td>\n",
       "      <td>12</td>\n",
       "    </tr>\n",
       "    <tr>\n",
       "      <th>17</th>\n",
       "      <td>14389</td>\n",
       "      <td>5348</td>\n",
       "      <td>NaN</td>\n",
       "      <td>12</td>\n",
       "    </tr>\n",
       "    <tr>\n",
       "      <th>18</th>\n",
       "      <td>42</td>\n",
       "      <td>177386</td>\n",
       "      <td>NaN</td>\n",
       "      <td>12</td>\n",
       "    </tr>\n",
       "    <tr>\n",
       "      <th>19</th>\n",
       "      <td>19</td>\n",
       "      <td>282374</td>\n",
       "      <td>NaN</td>\n",
       "      <td>12</td>\n",
       "    </tr>\n",
       "    <tr>\n",
       "      <th>20</th>\n",
       "      <td>50</td>\n",
       "      <td>232874</td>\n",
       "      <td>NaN</td>\n",
       "      <td>12</td>\n",
       "    </tr>\n",
       "  </tbody>\n",
       "</table>\n",
       "</div>"
      ],
      "text/plain": [
       "    ip_day_hour_count      ip  day  hour\n",
       "0                  43  143414  NaN    12\n",
       "1                  18  173096  NaN    12\n",
       "2                  42    8210  NaN    12\n",
       "3                  19    5746  NaN    12\n",
       "4                  65   31475  NaN    12\n",
       "5                  11  251465  NaN    12\n",
       "6                 164  163593  NaN    12\n",
       "7                 158   58288  NaN    12\n",
       "8                 134   27038  NaN    12\n",
       "9                 414   67682  NaN    12\n",
       "10                134   17130  NaN    12\n",
       "11                158  100339  NaN    12\n",
       "12               1214   36213  NaN    12\n",
       "13                  3  247140  NaN    12\n",
       "14               2291   45745  NaN    12\n",
       "15                842   59395  NaN    12\n",
       "16                 24  131535  NaN    12\n",
       "17              14389    5348  NaN    12\n",
       "18                 42  177386  NaN    12\n",
       "19                 19  282374  NaN    12\n",
       "20                 50  232874  NaN    12"
      ]
     },
     "execution_count": 22,
     "metadata": {},
     "output_type": "execute_result"
    }
   ],
   "source": [
    "a = ['ip_day_hour_count', 'ip', 'day', 'hour']\n",
    "df_train.loc[:20,a ]"
   ]
  },
  {
   "cell_type": "code",
   "execution_count": null,
   "metadata": {
    "collapsed": true
   },
   "outputs": [],
   "source": []
  }
 ],
 "metadata": {
  "kernelspec": {
   "display_name": "Python 3",
   "language": "python",
   "name": "python3"
  },
  "language_info": {
   "codemirror_mode": {
    "name": "ipython",
    "version": 3
   },
   "file_extension": ".py",
   "mimetype": "text/x-python",
   "name": "python",
   "nbconvert_exporter": "python",
   "pygments_lexer": "ipython3",
   "version": "3.6.3"
  }
 },
 "nbformat": 4,
 "nbformat_minor": 2
}
