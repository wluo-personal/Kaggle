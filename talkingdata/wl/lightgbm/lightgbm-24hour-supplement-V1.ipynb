{
 "cells": [
  {
   "cell_type": "code",
   "execution_count": 1,
   "metadata": {
    "collapsed": true
   },
   "outputs": [],
   "source": [
    "import pandas as pd\n",
    "import lightgbm as lgb\n",
    "import numpy as np\n",
    "import gc"
   ]
  },
  {
   "cell_type": "markdown",
   "metadata": {},
   "source": [
    "# Load Test file"
   ]
  },
  {
   "cell_type": "code",
   "execution_count": 2,
   "metadata": {
    "scrolled": true
   },
   "outputs": [],
   "source": [
    "# load_path = '/home/kai/data/kaggle/talkingdata/wl/data/equalhour/'\n",
    "# file_format = '{}_features_supplementV1_countALL.csv'\n",
    "# test_all = pd.read_csv(load_path+file_format.format('testsupplement'))\n",
    "# test_index = np.load('/home/kai/data/kaggle/talkingdata/data/supplement2testInexFinal.npy')\n",
    "# test = test_all.iloc[test_index]\n",
    "# del test_all\n",
    "# del test_index\n",
    "# gc.collect()"
   ]
  },
  {
   "cell_type": "code",
   "execution_count": 3,
   "metadata": {
    "collapsed": true
   },
   "outputs": [],
   "source": [
    "load_path = '/home/kai/data/kaggle/talkingdata/wl/data/equalhour/'\n",
    "file_format = '{}_equalhour_supplementV1.csv'\n",
    "test = pd.read_csv(load_path+file_format.format('test'))"
   ]
  },
  {
   "cell_type": "markdown",
   "metadata": {},
   "source": [
    "# Train on Day 9, Validation on Day 8"
   ]
  },
  {
   "cell_type": "code",
   "execution_count": 4,
   "metadata": {},
   "outputs": [
    {
     "name": "stdout",
     "output_type": "stream",
     "text": [
      "load trainset done!\n",
      "load valset done!\n"
     ]
    }
   ],
   "source": [
    "load_path = '/home/kai/data/kaggle/talkingdata/wl/data/equalhour/'\n",
    "file_format = '{}_features_supplementV1_countALL.csv'\n",
    "\n",
    "trainday = 'day9'\n",
    "valday = 'day8'\n",
    "trainset = pd.read_csv(load_path+file_format.format(trainday))\n",
    "print('load trainset done!')\n",
    "valset = pd.read_csv(load_path+file_format.format(valday))\n",
    "print('load valset done!')"
   ]
  },
  {
   "cell_type": "markdown",
   "metadata": {},
   "source": [
    "# define parameter"
   ]
  },
  {
   "cell_type": "code",
   "execution_count": 5,
   "metadata": {
    "collapsed": true
   },
   "outputs": [],
   "source": [
    "target = 'is_attributed'\n",
    "\n",
    "combine = 0\n",
    "params = {\n",
    "        'objective': 'binary',\n",
    "        'boosting': 'gbdt',\n",
    "        'num_rounds': 2000,\n",
    "        'learning_rate': 0.1,\n",
    "        'num_leaves': 61,\n",
    "        'num_threads': 4, # best speed: set to number of real cpu cores, which is vCPU/2\n",
    "        'device': 'cpu',\n",
    "        'max_depth': -1, # no limit. This is used to deal with over-fitting when #data is small.\n",
    "        'min_data_in_leaf': 390,  #minimal number of data in one leaf. Can be used to deal with over-fitting\n",
    "        'feature_fraction': 0.7, #For example, if set to 0.8, will select 80% features before training each tree.  speed up training / deal with over-fitting\n",
    "        'feature_fraction_seed': 1,\n",
    "        'early_stopping_round':60,\n",
    "        'bagging_fraction': 0.7, #Randomly select part of data without resampling\n",
    "        'bagging_freq': 1, #frequency for bagging, 0 means disable bagging. k means will perform bagging at every k iteration. to enable bagging, bagging_fraction should be set as well\n",
    "        'bagging_seed': 1,\n",
    "        'verbose': 0,\n",
    "        'scale_pos_weight': 400,\n",
    "        'metric' : [ 'auc']\n",
    "    }\n",
    "\n",
    "categorical_col = [ 'app', 'device', 'os', 'channel', 'hour']\n",
    "feature_cols = list(test.columns.values)"
   ]
  },
  {
   "cell_type": "code",
   "execution_count": 6,
   "metadata": {
    "collapsed": true
   },
   "outputs": [],
   "source": [
    "# get rid of extra features\n",
    "# extra = set(['matrixFact_user_iposdeviceapp_item_channel', 'matrixFact_user_iposdeviceapp_item_device'])\n",
    "# extra = set(['ip_device_os_countself',\n",
    "#              'ip_day_hour_countself', \n",
    "#              'app_day_hour_countself',\n",
    "#              'ip_app_device_os_countself',\n",
    "#              'ip_app_day_hour_countself', \n",
    "#              'ip_os_day_hour_countself', \n",
    "#              'ip_app_os_day_hour_countself' ])\n",
    "\n",
    "# extra = set([])\n",
    "extra = set(['ip_device_os_count',\n",
    "             'ip_day_hour_count', \n",
    "             'app_day_hour_count',\n",
    "             'ip_app_device_os_count',\n",
    "             'ip_app_day_hour_count', \n",
    "             'ip_os_day_hour_count', \n",
    "             'ip_app_os_day_hour_count' ])\n",
    "feature_cols = list(set(feature_cols) - extra)"
   ]
  },
  {
   "cell_type": "code",
   "execution_count": 7,
   "metadata": {},
   "outputs": [
    {
     "data": {
      "text/plain": [
       "['matrixFact_user_ipchannel_item_appdeviceos',\n",
       " 'ip_app_device_os_regression',\n",
       " 'ip_app_device_regression',\n",
       " 'ip_app_device_lasttimediff',\n",
       " 'ip_app_day_hour_countself',\n",
       " 'ip_app_device_time2previousclick',\n",
       " 'ip_device_os_countfromfuture',\n",
       " 'ip_device_os_time2nextclick',\n",
       " 'ip_app_os_day_hour_countself',\n",
       " 'ip_device_os_firsttimediff',\n",
       " 'ip_app_device_os_countfrompast',\n",
       " 'ip_app_device_countfrompast',\n",
       " 'channel',\n",
       " 'ip_app_device_os_countself',\n",
       " 'ip_day_hour_countself',\n",
       " 'app_day_hour_countself',\n",
       " 'ip_app_device_os_mean',\n",
       " 'app_device_os_mean',\n",
       " 'ip_app_device_os_channel_regression',\n",
       " 'ip_app_device_os_firsttimediff',\n",
       " 'app',\n",
       " 'ip_device_os_countself',\n",
       " 'ip_app_device_mean',\n",
       " 'ip_device_os_countfrompast',\n",
       " 'ip_app_device_os_time2nextclick',\n",
       " 'ip_app_device_firsttimediff',\n",
       " 'ip_os_day_hour_countself',\n",
       " 'ip_app_device_countfromfuture',\n",
       " 'ip_app_device_os_lasttimediff',\n",
       " 'matrixFact_user_iposdeviceapp_item_app',\n",
       " 'ip_app_device_os_countfromfuture',\n",
       " 'os',\n",
       " 'ip_app_device_os_time2previousclick',\n",
       " 'device',\n",
       " 'ip_device_os_regression',\n",
       " 'ip_device_os_time2previousclick',\n",
       " 'hour',\n",
       " 'matrixFact_user_ip_item_appdeviceos',\n",
       " 'ip_device_os_lasttimediff',\n",
       " 'ip_device_os_mean',\n",
       " 'ip_app_device_time2nextclick']"
      ]
     },
     "execution_count": 7,
     "metadata": {},
     "output_type": "execute_result"
    }
   ],
   "source": [
    "feature_cols"
   ]
  },
  {
   "cell_type": "code",
   "execution_count": 8,
   "metadata": {
    "collapsed": true
   },
   "outputs": [],
   "source": [
    "def train_lightgbm(x_train, x_val, feature_cols, categorical_feature, params, best_round = None, target='is_attributed'):\n",
    "    param = params.copy()\n",
    "    y_train = x_train[target].values\n",
    "    y_val = x_val[target].values\n",
    "    \n",
    "    lgb_train = lgb.Dataset(x_train[feature_cols], y_train, categorical_feature = categorical_feature)\n",
    "    lgb_val = lgb.Dataset(x_val[feature_cols], y_val, categorical_feature = categorical_feature)\n",
    "    if best_round is not None:\n",
    "        param['num_rounds'] = best_round\n",
    "        del param['early_stopping_round']\n",
    "    print('start training')\n",
    "    model = lgb.train(param, train_set=lgb_train, valid_sets=lgb_val, verbose_eval=10)\n",
    "    return model"
   ]
  },
  {
   "cell_type": "code",
   "execution_count": 9,
   "metadata": {},
   "outputs": [
    {
     "name": "stdout",
     "output_type": "stream",
     "text": [
      "start training\n"
     ]
    },
    {
     "name": "stderr",
     "output_type": "stream",
     "text": [
      "/home/kai/anaconda3/lib/python3.6/site-packages/lightgbm/engine.py:99: UserWarning: Found `num_rounds` in params. Will use it instead of argument\n",
      "  warnings.warn(\"Found `{}` in params. Will use it instead of argument\".format(alias))\n",
      "/home/kai/anaconda3/lib/python3.6/site-packages/lightgbm/engine.py:104: UserWarning: Found `early_stopping_round` in params. Will use it instead of argument\n",
      "  warnings.warn(\"Found `{}` in params. Will use it instead of argument\".format(alias))\n",
      "/home/kai/anaconda3/lib/python3.6/site-packages/lightgbm/basic.py:1027: UserWarning: Using categorical_feature in Dataset.\n",
      "  warnings.warn('Using categorical_feature in Dataset.')\n",
      "/home/kai/anaconda3/lib/python3.6/site-packages/lightgbm/basic.py:668: UserWarning: categorical_feature in param dict is overrided.\n",
      "  warnings.warn('categorical_feature in param dict is overrided.')\n"
     ]
    },
    {
     "name": "stdout",
     "output_type": "stream",
     "text": [
      "Training until validation scores don't improve for 60 rounds.\n",
      "[10]\tvalid_0's auc: 0.98032\n",
      "[20]\tvalid_0's auc: 0.982171\n",
      "[30]\tvalid_0's auc: 0.983535\n",
      "[40]\tvalid_0's auc: 0.984223\n",
      "[50]\tvalid_0's auc: 0.984707\n",
      "[60]\tvalid_0's auc: 0.984992\n",
      "[70]\tvalid_0's auc: 0.98516\n",
      "[80]\tvalid_0's auc: 0.985244\n",
      "[90]\tvalid_0's auc: 0.985288\n",
      "[100]\tvalid_0's auc: 0.985335\n",
      "[110]\tvalid_0's auc: 0.985359\n",
      "[120]\tvalid_0's auc: 0.985374\n",
      "[130]\tvalid_0's auc: 0.985378\n",
      "[140]\tvalid_0's auc: 0.985386\n",
      "[150]\tvalid_0's auc: 0.985394\n",
      "[160]\tvalid_0's auc: 0.985367\n",
      "[170]\tvalid_0's auc: 0.985361\n",
      "[180]\tvalid_0's auc: 0.98533\n",
      "[190]\tvalid_0's auc: 0.985327\n",
      "[200]\tvalid_0's auc: 0.985311\n",
      "Early stopping, best iteration is:\n",
      "[148]\tvalid_0's auc: 0.985404\n",
      "loading file done!\n",
      "predicting file done!\n"
     ]
    }
   ],
   "source": [
    "file_name = 'train_{}_val{}_supplement_countonSELF.npy'.format(trainday, valday)\n",
    "model = train_lightgbm(trainset, valset, feature_cols, categorical_col, params)\n",
    "best_round = model.best_iteration\n",
    "# df_all = pd.concat([trainset, valset])\n",
    "# model = train_lightgbm(df_all, valset, feature_cols, categorical_col, params, best_round)\n",
    "# del df_all\n",
    "gc.collect()\n",
    "pred = model.predict(test[feature_cols])\n",
    "np.save(load_path+file_name, pred)\n",
    "\n",
    "# prediction\n",
    "df_test_raw = pd.read_csv('/home/kai/data/kaggle/talkingdata/data/test.csv')\n",
    "print('loading file done!')\n",
    "df_sub = pd.DataFrame()\n",
    "df_sub['click_id'] = df_test_raw['click_id']\n",
    "df_sub['is_attributed'] = pred\n",
    "print('predicting file done!')\n",
    "df_sub.to_csv('/home/kai/data/kaggle/talkingdata/wl/data/submission/train_{}_val{}_supplement_countonSELF.csv.gz'.format(trainday,valday), compression='gzip', index=False)\n",
    "\n",
    "    "
   ]
  },
  {
   "cell_type": "code",
   "execution_count": 10,
   "metadata": {},
   "outputs": [
    {
     "data": {
      "text/plain": [
       "matrixFact_user_ip_item_appdeviceos           1.983543e+08\n",
       "matrixFact_user_iposdeviceapp_item_app        1.286551e+08\n",
       "matrixFact_user_ipchannel_item_appdeviceos    5.674032e+07\n",
       "app_device_os_mean                            2.989845e+07\n",
       "ip_app_device_os_time2nextclick               2.038656e+07\n",
       "channel                                       1.844391e+07\n",
       "ip_day_hour_countself                         9.260188e+06\n",
       "app                                           9.146928e+06\n",
       "os                                            9.127298e+06\n",
       "hour                                          5.422664e+06\n",
       "ip_app_device_os_lasttimediff                 5.092837e+06\n",
       "ip_app_day_hour_countself                     2.632952e+06\n",
       "device                                        2.565647e+06\n",
       "ip_device_os_countself                        2.278079e+06\n",
       "ip_app_device_time2nextclick                  2.175525e+06\n",
       "ip_app_device_mean                            2.082411e+06\n",
       "ip_app_os_day_hour_countself                  1.762402e+06\n",
       "ip_device_os_countfrompast                    1.636839e+06\n",
       "ip_app_device_firsttimediff                   1.499826e+06\n",
       "ip_app_device_countfrompast                   1.335448e+06\n",
       "ip_app_device_os_countfrompast                1.272151e+06\n",
       "ip_device_os_lasttimediff                     1.070689e+06\n",
       "ip_app_device_countfromfuture                 1.051471e+06\n",
       "ip_device_os_countfromfuture                  9.745000e+05\n",
       "ip_app_device_os_countself                    9.055831e+05\n",
       "ip_device_os_mean                             8.606231e+05\n",
       "ip_app_device_lasttimediff                    7.073074e+05\n",
       "app_day_hour_countself                        6.970853e+05\n",
       "ip_device_os_firsttimediff                    5.365841e+05\n",
       "ip_app_device_os_time2previousclick           5.227848e+05\n",
       "ip_app_device_os_countfromfuture              4.445559e+05\n",
       "ip_app_device_time2previousclick              4.283840e+05\n",
       "ip_device_os_regression                       4.147841e+05\n",
       "ip_device_os_time2nextclick                   3.925669e+05\n",
       "ip_os_day_hour_countself                      3.903312e+05\n",
       "ip_app_device_regression                      3.690136e+05\n",
       "ip_app_device_os_firsttimediff                2.756979e+05\n",
       "ip_device_os_time2previousclick               2.603746e+05\n",
       "ip_app_device_os_regression                   2.346068e+05\n",
       "ip_app_device_os_mean                         1.799332e+05\n",
       "ip_app_device_os_channel_regression           2.649417e+04\n",
       "dtype: float64"
      ]
     },
     "execution_count": 10,
     "metadata": {},
     "output_type": "execute_result"
    }
   ],
   "source": [
    "importance = pd.Series(model.feature_importance(importance_type='gain'), index=feature_cols)\n",
    "# importance = pd.Series(model.feature_importance(), index=feature_cols)\n",
    "importance = importance.sort_values(ascending=False)\n",
    "if len(model.feature_importance()) != len(feature_cols):\n",
    "    raise ValueError('Feature importance has length: {}, \\n while feature number is {}'.\n",
    "                     format(len(model.feature_importance()), len(feature_cols)))\n",
    "    \n",
    "importance"
   ]
  },
  {
   "cell_type": "markdown",
   "metadata": {},
   "source": [
    "# Average"
   ]
  },
  {
   "cell_type": "code",
   "execution_count": 25,
   "metadata": {
    "collapsed": true
   },
   "outputs": [],
   "source": [
    "#### load each and average\n",
    "load_path = '/home/kai/data/kaggle/talkingdata/wl/data/equalhour/'\n",
    "day7 = np.load(load_path+'concat_day8day9_val_day7_predtest_matrixregV5_leaf61_firsttimediff_timeinTrainTest.npy')\n",
    "day8 = np.load(load_path+'concat_day7day9_val_day8_predtest_matrixregV5_leaf61_firsttimediff_timeinTrainTest.npy')\n",
    "day9 = np.load(load_path+'concat_day7day8_val_day9_predtest_matrixregV5_leaf61_firsttimediff_timeinTrainTest.npy')\n",
    "\n",
    "pred = (day7 + day8 + day9)/3"
   ]
  },
  {
   "cell_type": "code",
   "execution_count": 26,
   "metadata": {},
   "outputs": [
    {
     "name": "stdout",
     "output_type": "stream",
     "text": [
      "loading file done!\n",
      "predicting file done!\n"
     ]
    }
   ],
   "source": [
    "# prediction\n",
    "df_test_raw = pd.read_csv('/home/kai/data/kaggle/talkingdata/data/test.csv')\n",
    "print('loading file done!')\n",
    "df_sub = pd.DataFrame()\n",
    "df_sub['click_id'] = df_test_raw['click_id']\n",
    "df_sub['is_attributed'] = pred\n",
    "print('predicting file done!')\n",
    "df_sub.to_csv('/home/kai/data/kaggle/talkingdata/wl/data/submission/equal_hour_blend_matrixregV5_leaf61_firsttimediff_timeinTrainTest.csv.gz', compression='gzip', index=False)\n"
   ]
  },
  {
   "cell_type": "code",
   "execution_count": null,
   "metadata": {
    "collapsed": true
   },
   "outputs": [],
   "source": []
  }
 ],
 "metadata": {
  "kernelspec": {
   "display_name": "Python 3",
   "language": "python",
   "name": "python3"
  },
  "language_info": {
   "codemirror_mode": {
    "name": "ipython",
    "version": 3
   },
   "file_extension": ".py",
   "mimetype": "text/x-python",
   "name": "python",
   "nbconvert_exporter": "python",
   "pygments_lexer": "ipython3",
   "version": "3.6.3"
  }
 },
 "nbformat": 4,
 "nbformat_minor": 2
}
