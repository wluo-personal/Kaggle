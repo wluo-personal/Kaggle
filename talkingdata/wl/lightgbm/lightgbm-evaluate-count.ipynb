{
 "cells": [
  {
   "cell_type": "code",
   "execution_count": 2,
   "metadata": {
    "collapsed": true
   },
   "outputs": [],
   "source": [
    "import pandas as pd\n",
    "import numpy as np\n",
    "import time\n",
    "import lightgbm as lgb\n",
    "import sys"
   ]
  },
  {
   "cell_type": "code",
   "execution_count": 38,
   "metadata": {},
   "outputs": [
    {
     "name": "stdout",
     "output_type": "stream",
     "text": [
      "training loading done! Time: 138.6672875881195\n",
      "size is: 16.01874838024378\n",
      "length is 50000000\n"
     ]
    }
   ],
   "source": [
    "t1 = time.time()\n",
    "df_train = pd.read_csv('/home/kai/data/kaggle/talkingdata/wl/data/features/train_lasttimediff_combine5_0409.csv')\n",
    "# df_test = pd.read_csv('/home/kai/data/kaggle/talkingdata/wl/data/features/test_fold_last_in_12_count.csv')\n",
    "t2 = time.time()\n",
    "print('training loading done! Time: {}'.format(t2 - t1))\n",
    "print('size is: {}'.format(sys.getsizeof(df_train) / 1024 ** 3))\n",
    "print('length is {}'.format(len(df_train)))"
   ]
  },
  {
   "cell_type": "markdown",
   "metadata": {},
   "source": [
    "# Specify Categorical Columns"
   ]
  },
  {
   "cell_type": "code",
   "execution_count": 39,
   "metadata": {},
   "outputs": [
    {
     "name": "stdout",
     "output_type": "stream",
     "text": [
      "['os', 'channel_lasttimediff', 'ip_device_lasttimediff', 'ip_lasttimediff', 'hour', 'app', 'ip_app_device_lasttimediff', 'device_channel_lasttimediff', 'app_os_lasttimediff', 'app_device_os_channel_lasttimediff', 'app_os_channel_lasttimediff', 'ip_app_os_lasttimediff', 'ip_os_channel_lasttimediff', 'ip_device_channel_lasttimediff', 'ip_app_channel_lasttimediff', 'app_device_channel_lasttimediff', 'ip_app_device_channel_lasttimediff', 'ip_device_os_channel_lasttimediff', 'device_lasttimediff', 'ip_device_os_lasttimediff', 'ip_app_os_channel_lasttimediff', 'device_os_lasttimediff', 'ip_app_lasttimediff', 'app_device_os_lasttimediff', 'app_channel_lasttimediff', 'ip_channel_lasttimediff', 'os_lasttimediff', 'device_os_channel_lasttimediff', 'ip_app_device_os_channel_lasttimediff', 'app_lasttimediff', 'app_device_lasttimediff', 'channel', 'ip_app_device_os_lasttimediff', 'day', 'os_channel_lasttimediff', 'device', 'ip_os_lasttimediff']\n"
     ]
    }
   ],
   "source": [
    "\n",
    "# remove minute and second\n",
    "categorical_col = [ 'device', 'app', 'os', 'channel', 'hour',  ]\n",
    "target = 'is_attributed'\n",
    "feature_cols = list(set(df_train.columns) - set([target]) - set(['minute', 'second', 'ip', 'intesthh' , 'timestamp']))\n",
    "print(feature_cols)"
   ]
  },
  {
   "cell_type": "markdown",
   "metadata": {},
   "source": [
    "# Get Validation"
   ]
  },
  {
   "cell_type": "code",
   "execution_count": 40,
   "metadata": {},
   "outputs": [
    {
     "name": "stdout",
     "output_type": "stream",
     "text": [
      "13.11302187293768\n",
      "40000000\n"
     ]
    }
   ],
   "source": [
    "from sklearn.model_selection import train_test_split\n",
    "trainset, valset = train_test_split(df_train,test_size=0.2, random_state=42)\n",
    "print(sys.getsizeof(trainset)/ 1024 **3)\n",
    "print(len(trainset))"
   ]
  },
  {
   "cell_type": "code",
   "execution_count": 41,
   "metadata": {},
   "outputs": [
    {
     "name": "stdout",
     "output_type": "stream",
     "text": [
      "99.7439675\n"
     ]
    }
   ],
   "source": [
    "y_train = trainset[target].values\n",
    "y_val = valset[target].values\n",
    "\n",
    "lgb_train = lgb.Dataset(trainset[feature_cols], y_train, categorical_feature = categorical_col)\n",
    "lgb_val = lgb.Dataset(valset[feature_cols], y_val, categorical_feature = categorical_col)\n",
    "\n",
    "zeros = len(y_train[y_train == 0])\n",
    "scale_pos_weight = len(y_train[y_train == 0]) / len(y_train) * 100\n",
    "import gc\n",
    "# del df_train\n",
    "gc.collect()\n",
    "\n",
    "print(scale_pos_weight)"
   ]
  },
  {
   "cell_type": "markdown",
   "metadata": {},
   "source": [
    "# Train Lightgbm"
   ]
  },
  {
   "cell_type": "code",
   "execution_count": 42,
   "metadata": {},
   "outputs": [
    {
     "name": "stderr",
     "output_type": "stream",
     "text": [
      "/home/kai/anaconda3/lib/python3.6/site-packages/lightgbm/engine.py:99: UserWarning: Found `num_rounds` in params. Will use it instead of argument\n",
      "  warnings.warn(\"Found `{}` in params. Will use it instead of argument\".format(alias))\n",
      "/home/kai/anaconda3/lib/python3.6/site-packages/lightgbm/engine.py:104: UserWarning: Found `early_stopping_round` in params. Will use it instead of argument\n",
      "  warnings.warn(\"Found `{}` in params. Will use it instead of argument\".format(alias))\n",
      "/home/kai/anaconda3/lib/python3.6/site-packages/lightgbm/basic.py:1027: UserWarning: Using categorical_feature in Dataset.\n",
      "  warnings.warn('Using categorical_feature in Dataset.')\n",
      "/home/kai/anaconda3/lib/python3.6/site-packages/lightgbm/basic.py:668: UserWarning: categorical_feature in param dict is overrided.\n",
      "  warnings.warn('categorical_feature in param dict is overrided.')\n"
     ]
    },
    {
     "name": "stdout",
     "output_type": "stream",
     "text": [
      "Training until validation scores don't improve for 50 rounds.\n",
      "[10]\tvalid_0's auc: 0.963879\tvalid_0's binary_logloss: 0.245545\n",
      "[20]\tvalid_0's auc: 0.967525\tvalid_0's binary_logloss: 0.125871\n",
      "[30]\tvalid_0's auc: 0.969651\tvalid_0's binary_logloss: 0.0847902\n",
      "[40]\tvalid_0's auc: 0.971455\tvalid_0's binary_logloss: 0.0700751\n",
      "[50]\tvalid_0's auc: 0.973014\tvalid_0's binary_logloss: 0.0644466\n",
      "[60]\tvalid_0's auc: 0.97399\tvalid_0's binary_logloss: 0.061994\n",
      "[70]\tvalid_0's auc: 0.97453\tvalid_0's binary_logloss: 0.060772\n",
      "[80]\tvalid_0's auc: 0.974913\tvalid_0's binary_logloss: 0.0601626\n",
      "[90]\tvalid_0's auc: 0.975114\tvalid_0's binary_logloss: 0.0597081\n",
      "[100]\tvalid_0's auc: 0.975322\tvalid_0's binary_logloss: 0.0593972\n",
      "[110]\tvalid_0's auc: 0.975404\tvalid_0's binary_logloss: 0.0592188\n",
      "[120]\tvalid_0's auc: 0.975484\tvalid_0's binary_logloss: 0.0591099\n",
      "[130]\tvalid_0's auc: 0.975495\tvalid_0's binary_logloss: 0.0589709\n",
      "[140]\tvalid_0's auc: 0.97546\tvalid_0's binary_logloss: 0.059049\n",
      "[150]\tvalid_0's auc: 0.975454\tvalid_0's binary_logloss: 0.058945\n",
      "[160]\tvalid_0's auc: 0.975422\tvalid_0's binary_logloss: 0.0591899\n",
      "[170]\tvalid_0's auc: 0.975398\tvalid_0's binary_logloss: 0.0589589\n",
      "Early stopping, best iteration is:\n",
      "[128]\tvalid_0's auc: 0.975509\tvalid_0's binary_logloss: 0.0589975\n"
     ]
    }
   ],
   "source": [
    "params = {\n",
    "        'objective': 'binary',\n",
    "        'boosting': 'gbdt',\n",
    "        'num_rounds': 2000,\n",
    "        'learning_rate': 0.1,\n",
    "        'num_leaves': 31,\n",
    "        'num_threads': 4, # best speed: set to number of real cpu cores, which is vCPU/2\n",
    "        'device': 'cpu',\n",
    "        'max_depth': -1, # no limit. This is used to deal with over-fitting when #data is small.\n",
    "        'min_data_in_leaf': 100,  #minimal number of data in one leaf. Can be used to deal with over-fitting\n",
    "        'feature_fraction': 0.7, #For example, if set to 0.8, will select 80% features before training each tree.  speed up training / deal with over-fitting\n",
    "        'feature_fraction_seed': 1,\n",
    "        'early_stopping_round':50,\n",
    "        'bagging_fraction': 0.9, #Randomly select part of data without resampling\n",
    "        'bagging_freq': 1, #frequency for bagging, 0 means disable bagging. k means will perform bagging at every k iteration. to enable bagging, bagging_fraction should be set as well\n",
    "        'bagging_seed': 1,\n",
    "        #'max_bin': 255,\n",
    "        'verbose': 0,\n",
    "        'scale_pos_weight': scale_pos_weight,\n",
    "        'metric' : ['binary_logloss', 'auc']\n",
    "    }\n",
    "\n",
    "model = lgb.train(params, train_set=lgb_train, valid_sets=lgb_val, verbose_eval=10)"
   ]
  },
  {
   "cell_type": "code",
   "execution_count": 43,
   "metadata": {},
   "outputs": [
    {
     "name": "stdout",
     "output_type": "stream",
     "text": [
      "0.975508659871\n"
     ]
    }
   ],
   "source": [
    "from sklearn.metrics import roc_auc_score\n",
    "pred_val = model.predict(valset[feature_cols])\n",
    "print(roc_auc_score(y_val,pred_val))"
   ]
  },
  {
   "cell_type": "code",
   "execution_count": 44,
   "metadata": {
    "collapsed": true
   },
   "outputs": [],
   "source": [
    "importance = pd.Series(model.feature_importance(), index=feature_cols)\n",
    "importance = importance.sort_values(ascending=False)\n",
    "if len(model.feature_importance()) != len(feature_cols):\n",
    "    raise ValueError('Feature importance has length: {}, \\n while feature number is {}'.\n",
    "                     format(len(model.feature_importance()), len(feature_cols)))\n",
    "importance.to_csv('/home/kai/data/kaggle/talkingdata/wl/data/output/importance_train_lasttimediff_0405_combine5_61.csv')"
   ]
  },
  {
   "cell_type": "code",
   "execution_count": 18,
   "metadata": {},
   "outputs": [
    {
     "data": {
      "text/plain": [
       "channel                                        748\n",
       "app                                            462\n",
       "os                                             399\n",
       "hour                                           222\n",
       "ip_time2previousclick                          193\n",
       "device                                          92\n",
       "ip_app_time2previousclick                       89\n",
       "ip_device_time2previousclick                    87\n",
       "ip_channel_time2previousclick                   87\n",
       "ip_app_device_time2previousclick                83\n",
       "ip_device_os_time2previousclick                 68\n",
       "ip_app_device_os_time2previousclick             67\n",
       "ip_os_time2previousclick                        66\n",
       "ip_app_os_time2previousclick                    62\n",
       "ip_app_channel_time2previousclick               61\n",
       "ip_device_channel_time2previousclick            53\n",
       "ip_app_os_channel_time2previousclick            52\n",
       "app_channel_time2previousclick                  50\n",
       "ip_app_device_channel_time2previousclick        38\n",
       "app_os_channel_time2previousclick               34\n",
       "ip_app_device_os_channel_time2previousclick     29\n",
       "ip_os_channel_time2previousclick                27\n",
       "os_channel_time2previousclick                   27\n",
       "app_time2previousclick                          24\n",
       "app_device_os_channel_time2previousclick        24\n",
       "ip_device_os_channel_time2previousclick         23\n",
       "device_os_channel_time2previousclick            22\n",
       "channel_time2previousclick                      21\n",
       "app_device_channel_time2previousclick           15\n",
       "app_device_os_time2previousclick                12\n",
       "app_os_time2previousclick                       11\n",
       "app_device_time2previousclick                    9\n",
       "device_channel_time2previousclick                6\n",
       "device_os_time2previousclick                     3\n",
       "os_time2previousclick                            3\n",
       "device_time2previousclick                        1\n",
       "day                                              0\n",
       "dtype: int64"
      ]
     },
     "execution_count": 18,
     "metadata": {},
     "output_type": "execute_result"
    }
   ],
   "source": [
    "importance"
   ]
  },
  {
   "cell_type": "code",
   "execution_count": null,
   "metadata": {
    "collapsed": true
   },
   "outputs": [],
   "source": []
  },
  {
   "cell_type": "code",
   "execution_count": 25,
   "metadata": {
    "collapsed": true
   },
   "outputs": [],
   "source": [
    "aa = model.predict(valset[feature_cols])"
   ]
  },
  {
   "cell_type": "code",
   "execution_count": 16,
   "metadata": {
    "collapsed": true
   },
   "outputs": [],
   "source": [
    "df_test = pd.read_csv('/home/kai/data/kaggle/talkingdata/wl/data/features/test_fold_last_in_12_count.csv')\n"
   ]
  },
  {
   "cell_type": "code",
   "execution_count": 18,
   "metadata": {
    "collapsed": true
   },
   "outputs": [],
   "source": [
    "df_test = df_test[list(valset[feature_cols].columns)]\n",
    "bb = model.predict(df_test)"
   ]
  },
  {
   "cell_type": "code",
   "execution_count": 19,
   "metadata": {},
   "outputs": [
    {
     "data": {
      "text/plain": [
       "[]"
      ]
     },
     "execution_count": 19,
     "metadata": {},
     "output_type": "execute_result"
    }
   ],
   "source": [
    "list(set(valset[feature_cols].columns) - set(df_test.columns))"
   ]
  },
  {
   "cell_type": "code",
   "execution_count": 20,
   "metadata": {},
   "outputs": [
    {
     "data": {
      "text/plain": [
       "array([ 0.00341477,  0.00191355,  0.0016563 , ...,  0.9424411 ,\n",
       "        0.00297018,  0.67816511])"
      ]
     },
     "execution_count": 20,
     "metadata": {},
     "output_type": "execute_result"
    }
   ],
   "source": [
    "bb"
   ]
  },
  {
   "cell_type": "code",
   "execution_count": 33,
   "metadata": {},
   "outputs": [
    {
     "data": {
      "text/plain": [
       "['ip_os_second_count',\n",
       " 'app_day_second_count',\n",
       " 'os_day_minute_count',\n",
       " 'ip_channel_hour_count',\n",
       " 'os_day_hour_count',\n",
       " 'day_hour_count',\n",
       " 'os_day_second_count',\n",
       " 'app_count',\n",
       " 'device_os_day_count',\n",
       " 'day_second_count',\n",
       " 'app_os_hour_count',\n",
       " 'channel',\n",
       " 'channel_minute_count',\n",
       " 'ip_app_count',\n",
       " 'day_count',\n",
       " 'channel_day_count',\n",
       " 'app_day_minute_count',\n",
       " 'ip_minute_count',\n",
       " 'app_hour_minute_count',\n",
       " 'ip_os_count',\n",
       " 'os_channel_count',\n",
       " 'ip_device_minute_count',\n",
       " 'os_count',\n",
       " 'app_minute_count',\n",
       " 'device_day_minute_count',\n",
       " 'minute',\n",
       " 'channel_day_second_count',\n",
       " 'ip_device_hour_count',\n",
       " 'ip_app_minute_count',\n",
       " 'second',\n",
       " 'hour',\n",
       " 'device_os_count',\n",
       " 'ip_device_day_count',\n",
       " 'ip_os_minute_count',\n",
       " 'ip_channel_day_count',\n",
       " 'ip_device_count',\n",
       " 'device_channel_count',\n",
       " 'channel_second_count',\n",
       " 'ip_os_channel_count',\n",
       " 'ip_channel_minute_count',\n",
       " 'app_second_count',\n",
       " 'os_hour_minute_count',\n",
       " 'minute_second_count',\n",
       " 'ip_device_channel_count',\n",
       " 'app_device_os_count',\n",
       " 'channel_hour_second_count',\n",
       " 'app_channel_day_count',\n",
       " 'channel_hour_count',\n",
       " 'ip_second_count',\n",
       " 'ip_channel_count',\n",
       " 'device_hour_second_count',\n",
       " 'app_channel_count',\n",
       " 'channel_hour_minute_count',\n",
       " 'os_minute_second_count',\n",
       " 'ip_day_minute_count',\n",
       " 'hour_minute_count',\n",
       " 'ip_count',\n",
       " 'app_hour_second_count',\n",
       " 'minute_count',\n",
       " 'app_device_count',\n",
       " 'channel_day_minute_count',\n",
       " 'device_hour_count',\n",
       " 'ip_os_day_count',\n",
       " 'app_os_day_count',\n",
       " 'app_day_count',\n",
       " 'app_os_minute_count',\n",
       " 'device_second_count',\n",
       " 'hour_second_count',\n",
       " 'device',\n",
       " 'day_minute_second_count',\n",
       " 'channel_count',\n",
       " 'ip_os_hour_count',\n",
       " 'app_day_hour_count',\n",
       " 'ip_app_os_count',\n",
       " 'ip_app_second_count',\n",
       " 'ip_app_day_count',\n",
       " 'device_channel_second_count',\n",
       " 'device_os_minute_count',\n",
       " 'day_minute_count',\n",
       " 'app_minute_second_count',\n",
       " 'os_channel_day_count',\n",
       " 'device_channel_hour_count',\n",
       " 'ip_app_channel_count',\n",
       " 'device_channel_minute_count',\n",
       " 'app_hour_count',\n",
       " 'app_os_count',\n",
       " 'device_hour_minute_count',\n",
       " 'app',\n",
       " 'device_os_channel_count',\n",
       " 'device_os_second_count',\n",
       " 'ip_hour_minute_count',\n",
       " 'ip_day_second_count',\n",
       " 'ip_minute_second_count',\n",
       " 'app_channel_second_count',\n",
       " 'app_device_day_count',\n",
       " 'ip_hour_count',\n",
       " 'ip_hour_second_count',\n",
       " 'device_day_hour_count',\n",
       " 'channel_minute_second_count',\n",
       " 'app_device_channel_count',\n",
       " 'day_hour_minute_count',\n",
       " 'ip_app_hour_count',\n",
       " 'device_day_count',\n",
       " 'device_os_hour_count',\n",
       " 'channel_day_hour_count',\n",
       " 'os_channel_second_count',\n",
       " 'os_day_count',\n",
       " 'os',\n",
       " 'hour_count',\n",
       " 'os_hour_second_count',\n",
       " 'timestamp',\n",
       " 'ip_app_device_count',\n",
       " 'app_channel_hour_count',\n",
       " 'device_count',\n",
       " 'ip',\n",
       " 'os_channel_hour_count',\n",
       " 'app_device_minute_count',\n",
       " 'device_channel_day_count',\n",
       " 'os_minute_count',\n",
       " 'os_second_count',\n",
       " 'device_day_second_count',\n",
       " 'app_os_second_count',\n",
       " 'day',\n",
       " 'day_hour_second_count',\n",
       " 'second_count',\n",
       " 'device_minute_second_count',\n",
       " 'ip_device_os_count',\n",
       " 'ip_day_count',\n",
       " 'app_device_hour_count',\n",
       " 'ip_device_second_count',\n",
       " 'ip_channel_second_count',\n",
       " 'app_device_second_count',\n",
       " 'app_os_channel_count',\n",
       " 'app_channel_minute_count',\n",
       " 'hour_minute_second_count',\n",
       " 'os_channel_minute_count',\n",
       " 'device_minute_count',\n",
       " 'ip_day_hour_count',\n",
       " 'os_hour_count']"
      ]
     },
     "execution_count": 33,
     "metadata": {},
     "output_type": "execute_result"
    }
   ],
   "source": [
    "list(valset[feature_cols].columns)"
   ]
  },
  {
   "cell_type": "code",
   "execution_count": 18,
   "metadata": {
    "collapsed": true
   },
   "outputs": [],
   "source": [
    "df_sub.to_csv('/home/kai/data/kaggle/talkingdata/wl/data/submission/train_fold_last_in_12csv.gz', compression='gzip', index=False)"
   ]
  },
  {
   "cell_type": "code",
   "execution_count": 21,
   "metadata": {
    "collapsed": true
   },
   "outputs": [],
   "source": [
    "# prediction\n",
    "df_test_raw = pd.read_csv('/home/kai/data/kaggle/talkingdata/data/test.csv')\n",
    "\n",
    "df_sub = pd.DataFrame()\n",
    "df_sub['click_id'] = df_test_raw['click_id']\n",
    "df_sub['is_attributed'] = bb"
   ]
  },
  {
   "cell_type": "code",
   "execution_count": 22,
   "metadata": {
    "collapsed": true
   },
   "outputs": [],
   "source": [
    "df_sub.to_csv('/home/kai/data/kaggle/talkingdata/wl/data/submission/train_fold_6_in_6_last_count_0403_2_noscale.csv.gz', compression='gzip', index=False)"
   ]
  },
  {
   "cell_type": "code",
   "execution_count": 46,
   "metadata": {},
   "outputs": [
    {
     "data": {
      "text/html": [
       "<div>\n",
       "<style>\n",
       "    .dataframe thead tr:only-child th {\n",
       "        text-align: right;\n",
       "    }\n",
       "\n",
       "    .dataframe thead th {\n",
       "        text-align: left;\n",
       "    }\n",
       "\n",
       "    .dataframe tbody tr th {\n",
       "        vertical-align: top;\n",
       "    }\n",
       "</style>\n",
       "<table border=\"1\" class=\"dataframe\">\n",
       "  <thead>\n",
       "    <tr style=\"text-align: right;\">\n",
       "      <th></th>\n",
       "      <th>ip</th>\n",
       "      <th>app</th>\n",
       "      <th>device</th>\n",
       "      <th>os</th>\n",
       "      <th>channel</th>\n",
       "      <th>day</th>\n",
       "      <th>hour</th>\n",
       "      <th>timestamp</th>\n",
       "      <th>minute</th>\n",
       "      <th>second</th>\n",
       "      <th>...</th>\n",
       "      <th>ip_app_device_count</th>\n",
       "      <th>ip_app_os_count</th>\n",
       "      <th>ip_app_channel_count</th>\n",
       "      <th>ip_device_os_count</th>\n",
       "      <th>ip_device_channel_count</th>\n",
       "      <th>ip_os_channel_count</th>\n",
       "      <th>app_device_os_count</th>\n",
       "      <th>app_device_channel_count</th>\n",
       "      <th>app_os_channel_count</th>\n",
       "      <th>device_os_channel_count</th>\n",
       "    </tr>\n",
       "  </thead>\n",
       "  <tbody>\n",
       "    <tr>\n",
       "      <th>21638813</th>\n",
       "      <td>2348</td>\n",
       "      <td>15</td>\n",
       "      <td>1</td>\n",
       "      <td>13</td>\n",
       "      <td>245</td>\n",
       "      <td>8</td>\n",
       "      <td>23</td>\n",
       "      <td>1510182584</td>\n",
       "      <td>9</td>\n",
       "      <td>44</td>\n",
       "      <td>...</td>\n",
       "      <td>608.0</td>\n",
       "      <td>190.0</td>\n",
       "      <td>222.0</td>\n",
       "      <td>1963.0</td>\n",
       "      <td>313.0</td>\n",
       "      <td>96.0</td>\n",
       "      <td>2829042.0</td>\n",
       "      <td>4553892.0</td>\n",
       "      <td>1062250.0</td>\n",
       "      <td>1579048.0</td>\n",
       "    </tr>\n",
       "  </tbody>\n",
       "</table>\n",
       "<p>1 rows × 36 columns</p>\n",
       "</div>"
      ],
      "text/plain": [
       "            ip  app  device  os  channel  day  hour   timestamp  minute  \\\n",
       "21638813  2348   15       1  13      245    8    23  1510182584       9   \n",
       "\n",
       "          second           ...             ip_app_device_count  \\\n",
       "21638813      44           ...                           608.0   \n",
       "\n",
       "          ip_app_os_count  ip_app_channel_count  ip_device_os_count  \\\n",
       "21638813            190.0                 222.0              1963.0   \n",
       "\n",
       "          ip_device_channel_count  ip_os_channel_count  app_device_os_count  \\\n",
       "21638813                    313.0                 96.0            2829042.0   \n",
       "\n",
       "          app_device_channel_count  app_os_channel_count  \\\n",
       "21638813                 4553892.0             1062250.0   \n",
       "\n",
       "          device_os_channel_count  \n",
       "21638813                1579048.0  \n",
       "\n",
       "[1 rows x 36 columns]"
      ]
     },
     "execution_count": 46,
     "metadata": {},
     "output_type": "execute_result"
    }
   ],
   "source": [
    "valset.head(1)"
   ]
  },
  {
   "cell_type": "code",
   "execution_count": 45,
   "metadata": {},
   "outputs": [
    {
     "data": {
      "text/html": [
       "<div>\n",
       "<style>\n",
       "    .dataframe thead tr:only-child th {\n",
       "        text-align: right;\n",
       "    }\n",
       "\n",
       "    .dataframe thead th {\n",
       "        text-align: left;\n",
       "    }\n",
       "\n",
       "    .dataframe tbody tr th {\n",
       "        vertical-align: top;\n",
       "    }\n",
       "</style>\n",
       "<table border=\"1\" class=\"dataframe\">\n",
       "  <thead>\n",
       "    <tr style=\"text-align: right;\">\n",
       "      <th></th>\n",
       "      <th>ip</th>\n",
       "      <th>app</th>\n",
       "      <th>device</th>\n",
       "      <th>os</th>\n",
       "      <th>channel</th>\n",
       "      <th>day</th>\n",
       "      <th>hour</th>\n",
       "      <th>timestamp</th>\n",
       "      <th>minute</th>\n",
       "      <th>second</th>\n",
       "      <th>...</th>\n",
       "      <th>ip_app_device_count</th>\n",
       "      <th>ip_app_os_count</th>\n",
       "      <th>ip_app_channel_count</th>\n",
       "      <th>ip_device_os_count</th>\n",
       "      <th>ip_device_channel_count</th>\n",
       "      <th>ip_os_channel_count</th>\n",
       "      <th>app_device_os_count</th>\n",
       "      <th>app_device_channel_count</th>\n",
       "      <th>app_os_channel_count</th>\n",
       "      <th>device_os_channel_count</th>\n",
       "    </tr>\n",
       "  </thead>\n",
       "  <tbody>\n",
       "    <tr>\n",
       "      <th>0</th>\n",
       "      <td>5744</td>\n",
       "      <td>9</td>\n",
       "      <td>1</td>\n",
       "      <td>3</td>\n",
       "      <td>107</td>\n",
       "      <td>10</td>\n",
       "      <td>4</td>\n",
       "      <td>1510286400</td>\n",
       "      <td>0</td>\n",
       "      <td>0</td>\n",
       "      <td>...</td>\n",
       "      <td>64.0</td>\n",
       "      <td>1.0</td>\n",
       "      <td>10.0</td>\n",
       "      <td>2.0</td>\n",
       "      <td>34.0</td>\n",
       "      <td>0.0</td>\n",
       "      <td>195701.0</td>\n",
       "      <td>504264.0</td>\n",
       "      <td>11217.0</td>\n",
       "      <td>174692.0</td>\n",
       "    </tr>\n",
       "  </tbody>\n",
       "</table>\n",
       "<p>1 rows × 35 columns</p>\n",
       "</div>"
      ],
      "text/plain": [
       "     ip  app  device  os  channel  day  hour   timestamp  minute  second  \\\n",
       "0  5744    9       1   3      107   10     4  1510286400       0       0   \n",
       "\n",
       "            ...             ip_app_device_count  ip_app_os_count  \\\n",
       "0           ...                            64.0              1.0   \n",
       "\n",
       "   ip_app_channel_count  ip_device_os_count  ip_device_channel_count  \\\n",
       "0                  10.0                 2.0                     34.0   \n",
       "\n",
       "   ip_os_channel_count  app_device_os_count  app_device_channel_count  \\\n",
       "0                  0.0             195701.0                  504264.0   \n",
       "\n",
       "   app_os_channel_count  device_os_channel_count  \n",
       "0               11217.0                 174692.0  \n",
       "\n",
       "[1 rows x 35 columns]"
      ]
     },
     "execution_count": 45,
     "metadata": {},
     "output_type": "execute_result"
    }
   ],
   "source": [
    "df_test.head(1)"
   ]
  },
  {
   "cell_type": "code",
   "execution_count": null,
   "metadata": {
    "collapsed": true
   },
   "outputs": [],
   "source": []
  }
 ],
 "metadata": {
  "kernelspec": {
   "display_name": "Python 3",
   "language": "python",
   "name": "python3"
  },
  "language_info": {
   "codemirror_mode": {
    "name": "ipython",
    "version": 3
   },
   "file_extension": ".py",
   "mimetype": "text/x-python",
   "name": "python",
   "nbconvert_exporter": "python",
   "pygments_lexer": "ipython3",
   "version": "3.6.3"
  }
 },
 "nbformat": 4,
 "nbformat_minor": 2
}
