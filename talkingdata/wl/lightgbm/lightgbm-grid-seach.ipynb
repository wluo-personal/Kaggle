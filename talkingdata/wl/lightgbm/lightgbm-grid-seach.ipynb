{
 "cells": [
  {
   "cell_type": "code",
   "execution_count": 49,
   "metadata": {
    "collapsed": true
   },
   "outputs": [],
   "source": [
    "import pandas as pd\n",
    "import lightgbm as lgb\n",
    "import numpy as np\n",
    "import gc\n",
    "from sklearn.metrics import roc_auc_score"
   ]
  },
  {
   "cell_type": "code",
   "execution_count": 9,
   "metadata": {
    "collapsed": true
   },
   "outputs": [],
   "source": [
    "df_all = pd.read_feather('/home/kai/talkingdata/data/ALL_features_supplementV3_feature42.ftr')\n",
    "target = 'is_attributed'\n",
    "extra = ['ip_app_device_os_channel_regression']\n",
    "feature_cols = list(set(df_all.columns) - set([target]) -set(extra))\n",
    "categorical_col = [ 'app', 'device', 'os', 'channel', 'hour',   ]"
   ]
  },
  {
   "cell_type": "code",
   "execution_count": 43,
   "metadata": {
    "collapsed": true
   },
   "outputs": [],
   "source": [
    "path ='/home/kai/talkingdata/data/'\n",
    "df_hour = pd.read_csv(path+'hourdistri.csv', index_col='Unnamed: 0')\n",
    "index = {}\n",
    "for day in ['day7', 'day8','day9']:\n",
    "    index[day] = list(range(df_hour.loc[day,'4start'], df_hour.loc[day,'6end0sec'])) + \\\n",
    "    list(range(df_hour.loc[day,'9start'], df_hour.loc[day,'11end0sec'])) + \\\n",
    "    list(range(df_hour.loc[day,'13start'], df_hour.loc[day,'15end0sec'])) "
   ]
  },
  {
   "cell_type": "code",
   "execution_count": 44,
   "metadata": {
    "collapsed": true
   },
   "outputs": [],
   "source": [
    "\n",
    "trainset = df_all.iloc[index['day7']+index['day8']]\n",
    "valset = df_all.iloc[index['day9']]"
   ]
  },
  {
   "cell_type": "code",
   "execution_count": 11,
   "metadata": {
    "collapsed": true
   },
   "outputs": [],
   "source": [
    "feature_seach = feature_cols.copy()\n",
    "feature_seach.append('allfeaturesneeded')\n",
    "df_search = pd.DataFrame({'drpcol':feature_seach, \n",
    "                          'roc': np.zeros(len(feature_seach)), \n",
    "                          'best_rount':np.zeros(len(feature_seach))})"
   ]
  },
  {
   "cell_type": "code",
   "execution_count": 14,
   "metadata": {
    "collapsed": true
   },
   "outputs": [],
   "source": [
    "df_search.to_csv('/home/kai/talkingdata/data/girdsearch-result.csv', index=False)"
   ]
  },
  {
   "cell_type": "code",
   "execution_count": null,
   "metadata": {
    "collapsed": true
   },
   "outputs": [],
   "source": []
  },
  {
   "cell_type": "markdown",
   "metadata": {},
   "source": [
    "# LightGBM"
   ]
  },
  {
   "cell_type": "code",
   "execution_count": 45,
   "metadata": {
    "collapsed": true
   },
   "outputs": [],
   "source": [
    "params_raw = {\n",
    "        'objective': 'binary',\n",
    "        'boosting': 'gbdt',\n",
    "        'num_rounds': 4000,\n",
    "        'learning_rate': 0.1,\n",
    "        'num_leaves': 61,\n",
    "        'num_threads': 62, # best speed: set to number of real cpu cores, which is vCPU/2\n",
    "        'device': 'cpu',\n",
    "        'max_depth': -1, # no limit. This is used to deal with over-fitting when #data is small.\n",
    "        'min_data_in_leaf': 390,  #minimal number of data in one leaf. Can be used to deal with over-fitting\n",
    "        'feature_fraction': 0.8, #For example, if set to 0.8, will select 80% features before training each tree.  speed up training / deal with over-fitting\n",
    "        'feature_fraction_seed': 1,\n",
    "        'early_stopping_round':50,\n",
    "        'bagging_fraction': 0.7, #Randomly select part of data without resampling\n",
    "        'bagging_freq': 1, #frequency for bagging, 0 means disable bagging. k means will perform bagging at every k iteration. to enable bagging, bagging_fraction should be set as well\n",
    "        'bagging_seed': 1,\n",
    "        'verbose': 0,\n",
    "        'scale_pos_weight': 400,\n",
    "        'metric' : [ 'auc']\n",
    "    }\n",
    "target = 'is_attributed'"
   ]
  },
  {
   "cell_type": "code",
   "execution_count": 87,
   "metadata": {
    "collapsed": true
   },
   "outputs": [],
   "source": [
    "def get_parameters(df):\n",
    "    dff = df.copy()\n",
    "    dff = dff[(dff.roc == 0)] \n",
    "    if len(dff) > 0:\n",
    "        index = dff.index.values.copy()\n",
    "        np.random.shuffle(index)\n",
    "        num=index[0]\n",
    "#         print(num)\n",
    "#         col = dff.iloc[num]['drpcol']\n",
    "        col = dff.loc[num,'drpcol']\n",
    "        \n",
    "        return(col, num)\n",
    "    else:\n",
    "        return (None, None)\n",
    "    \n",
    "def feature_catg(feature_cols,categorical_col,removal):\n",
    "    cur_f = feature_cols.copy()\n",
    "    cur_c = categorical_col.copy()\n",
    "    if removal == 'allfeaturesneeded':\n",
    "        return cur_f, cur_c\n",
    "    if removal in cur_f:\n",
    "        cur_f.remove(removal)\n",
    "        print('{} is removed!'.format(removal))\n",
    "        if removal in cur_c:\n",
    "            cur_c.remove(removal)\n",
    "            print('{} is removed from category!'.format(removal))\n",
    "    else:\n",
    "        raise ValueError('{} is not in the feature list'.format(removal))\n",
    "    return cur_f, cur_c"
   ]
  },
  {
   "cell_type": "code",
   "execution_count": 47,
   "metadata": {
    "collapsed": true
   },
   "outputs": [],
   "source": [
    "def train_lightgbm(x_train, x_val, feature_cols, categorical_feature, params, best_round = None, target='is_attributed'):\n",
    "    param = params.copy()\n",
    "    y_train = x_train[target].values\n",
    "    y_val = x_val[target].values\n",
    "    \n",
    "    lgb_train = lgb.Dataset(x_train[feature_cols], y_train, categorical_feature = categorical_feature)\n",
    "    lgb_val = lgb.Dataset(x_val[feature_cols], y_val, categorical_feature = categorical_feature)\n",
    "    if best_round is not None:\n",
    "        param['num_rounds'] = best_round\n",
    "        del param['early_stopping_round']\n",
    "    print('start training')\n",
    "    model = lgb.train(param, train_set=lgb_train, valid_sets=lgb_val, verbose_eval=10)\n",
    "    return model"
   ]
  },
  {
   "cell_type": "code",
   "execution_count": 88,
   "metadata": {
    "scrolled": true
   },
   "outputs": [
    {
     "name": "stdout",
     "output_type": "stream",
     "text": [
      "=================================================\n",
      "1\n",
      "7\n",
      "ip_device_os_countfromfuture is removed!\n",
      "start training\n"
     ]
    },
    {
     "name": "stderr",
     "output_type": "stream",
     "text": [
      "/home/kai/anaconda3/lib/python3.6/site-packages/lightgbm/engine.py:99: UserWarning: Found `num_rounds` in params. Will use it instead of argument\n",
      "  warnings.warn(\"Found `{}` in params. Will use it instead of argument\".format(alias))\n",
      "/home/kai/anaconda3/lib/python3.6/site-packages/lightgbm/engine.py:104: UserWarning: Found `early_stopping_round` in params. Will use it instead of argument\n",
      "  warnings.warn(\"Found `{}` in params. Will use it instead of argument\".format(alias))\n",
      "/home/kai/anaconda3/lib/python3.6/site-packages/lightgbm/basic.py:1027: UserWarning: Using categorical_feature in Dataset.\n",
      "  warnings.warn('Using categorical_feature in Dataset.')\n",
      "/home/kai/anaconda3/lib/python3.6/site-packages/lightgbm/basic.py:668: UserWarning: categorical_feature in param dict is overrided.\n",
      "  warnings.warn('categorical_feature in param dict is overrided.')\n"
     ]
    },
    {
     "name": "stdout",
     "output_type": "stream",
     "text": [
      "Training until validation scores don't improve for 50 rounds.\n",
      "[10]\tvalid_0's auc: 0.976722\n",
      "[20]\tvalid_0's auc: 0.978563\n",
      "[30]\tvalid_0's auc: 0.979736\n",
      "[40]\tvalid_0's auc: 0.980656\n",
      "[50]\tvalid_0's auc: 0.981147\n",
      "[60]\tvalid_0's auc: 0.981509\n",
      "[70]\tvalid_0's auc: 0.981728\n",
      "[80]\tvalid_0's auc: 0.98185\n",
      "[90]\tvalid_0's auc: 0.981923\n",
      "[100]\tvalid_0's auc: 0.981978\n",
      "[110]\tvalid_0's auc: 0.981962\n",
      "[120]\tvalid_0's auc: 0.98192\n",
      "[130]\tvalid_0's auc: 0.981916\n",
      "[140]\tvalid_0's auc: 0.981886\n",
      "[150]\tvalid_0's auc: 0.981855\n",
      "Early stopping, best iteration is:\n",
      "[102]\tvalid_0's auc: 0.981986\n",
      "=================================================\n",
      "2\n",
      "8\n",
      "ip_app_day_hour_count is removed!\n",
      "start training\n",
      "Training until validation scores don't improve for 50 rounds.\n",
      "[10]\tvalid_0's auc: 0.976712\n",
      "[20]\tvalid_0's auc: 0.978521\n",
      "[30]\tvalid_0's auc: 0.979661\n",
      "[40]\tvalid_0's auc: 0.980637\n",
      "[50]\tvalid_0's auc: 0.981212\n",
      "[60]\tvalid_0's auc: 0.98146\n",
      "[70]\tvalid_0's auc: 0.981743\n",
      "[80]\tvalid_0's auc: 0.981777\n",
      "[90]\tvalid_0's auc: 0.98186\n",
      "[100]\tvalid_0's auc: 0.981913\n",
      "[110]\tvalid_0's auc: 0.981906\n",
      "[120]\tvalid_0's auc: 0.981897\n",
      "[130]\tvalid_0's auc: 0.981872\n",
      "[140]\tvalid_0's auc: 0.981866\n",
      "[150]\tvalid_0's auc: 0.981831\n",
      "[160]\tvalid_0's auc: 0.981783\n",
      "Early stopping, best iteration is:\n",
      "[114]\tvalid_0's auc: 0.981934\n",
      "=================================================\n",
      "3\n",
      "23\n",
      "ip_app_device_os_time2nextclick is removed!\n",
      "start training\n",
      "Training until validation scores don't improve for 50 rounds.\n",
      "[10]\tvalid_0's auc: 0.971741\n",
      "[20]\tvalid_0's auc: 0.974304\n",
      "[30]\tvalid_0's auc: 0.975869\n",
      "[40]\tvalid_0's auc: 0.976646\n",
      "[50]\tvalid_0's auc: 0.977448\n",
      "[60]\tvalid_0's auc: 0.977979\n",
      "[70]\tvalid_0's auc: 0.97821\n",
      "[80]\tvalid_0's auc: 0.978374\n",
      "[90]\tvalid_0's auc: 0.978563\n",
      "[100]\tvalid_0's auc: 0.978637\n",
      "[110]\tvalid_0's auc: 0.978667\n",
      "[120]\tvalid_0's auc: 0.978692\n",
      "[130]\tvalid_0's auc: 0.978664\n",
      "[140]\tvalid_0's auc: 0.978678\n",
      "[150]\tvalid_0's auc: 0.978693\n",
      "[160]\tvalid_0's auc: 0.978721\n",
      "[170]\tvalid_0's auc: 0.978691\n",
      "[180]\tvalid_0's auc: 0.978679\n",
      "[190]\tvalid_0's auc: 0.97865\n",
      "[200]\tvalid_0's auc: 0.978612\n",
      "[210]\tvalid_0's auc: 0.97858\n",
      "Early stopping, best iteration is:\n",
      "[160]\tvalid_0's auc: 0.978721\n",
      "=================================================\n",
      "4\n",
      "27\n",
      "ip_app_device_lasttimediff is removed!\n",
      "start training\n",
      "Training until validation scores don't improve for 50 rounds.\n",
      "[10]\tvalid_0's auc: 0.976387\n",
      "[20]\tvalid_0's auc: 0.978693\n",
      "[30]\tvalid_0's auc: 0.979933\n",
      "[40]\tvalid_0's auc: 0.980609\n",
      "[50]\tvalid_0's auc: 0.981171\n",
      "[60]\tvalid_0's auc: 0.981542\n",
      "[70]\tvalid_0's auc: 0.981679\n",
      "[80]\tvalid_0's auc: 0.981764\n",
      "[90]\tvalid_0's auc: 0.981783\n",
      "[100]\tvalid_0's auc: 0.981809\n",
      "[110]\tvalid_0's auc: 0.981832\n",
      "[120]\tvalid_0's auc: 0.981791\n",
      "[130]\tvalid_0's auc: 0.981751\n",
      "[140]\tvalid_0's auc: 0.981768\n",
      "[150]\tvalid_0's auc: 0.981769\n",
      "Early stopping, best iteration is:\n",
      "[106]\tvalid_0's auc: 0.981836\n",
      "=================================================\n",
      "5\n",
      "0\n",
      "ip_device_os_count is removed!\n",
      "start training\n",
      "Training until validation scores don't improve for 50 rounds.\n",
      "[10]\tvalid_0's auc: 0.976497\n",
      "[20]\tvalid_0's auc: 0.978439\n",
      "[30]\tvalid_0's auc: 0.979632\n",
      "[40]\tvalid_0's auc: 0.980595\n",
      "[50]\tvalid_0's auc: 0.981104\n",
      "[60]\tvalid_0's auc: 0.981475\n",
      "[70]\tvalid_0's auc: 0.981672\n",
      "[80]\tvalid_0's auc: 0.981712\n",
      "[90]\tvalid_0's auc: 0.981765\n",
      "[100]\tvalid_0's auc: 0.981811\n",
      "[110]\tvalid_0's auc: 0.981814\n",
      "[120]\tvalid_0's auc: 0.981796\n",
      "[130]\tvalid_0's auc: 0.981792\n",
      "[140]\tvalid_0's auc: 0.981792\n",
      "[150]\tvalid_0's auc: 0.981767\n",
      "[160]\tvalid_0's auc: 0.981714\n",
      "Early stopping, best iteration is:\n",
      "[114]\tvalid_0's auc: 0.981842\n",
      "=================================================\n",
      "6\n",
      "31\n",
      "ip_app_device_countfrompast is removed!\n",
      "start training\n",
      "Training until validation scores don't improve for 50 rounds.\n",
      "[10]\tvalid_0's auc: 0.976428\n",
      "[20]\tvalid_0's auc: 0.978673\n",
      "[30]\tvalid_0's auc: 0.979835\n",
      "[40]\tvalid_0's auc: 0.980564\n",
      "[50]\tvalid_0's auc: 0.981156\n",
      "[60]\tvalid_0's auc: 0.981527\n",
      "[70]\tvalid_0's auc: 0.981707\n",
      "[80]\tvalid_0's auc: 0.981787\n",
      "[90]\tvalid_0's auc: 0.981825\n",
      "[100]\tvalid_0's auc: 0.981852\n",
      "[110]\tvalid_0's auc: 0.98186\n",
      "[120]\tvalid_0's auc: 0.981827\n",
      "[130]\tvalid_0's auc: 0.981835\n",
      "[140]\tvalid_0's auc: 0.981809\n",
      "Early stopping, best iteration is:\n",
      "[92]\tvalid_0's auc: 0.981869\n",
      "=================================================\n",
      "7\n",
      "13\n",
      "ip_device_os_countfrompast is removed!\n",
      "start training\n",
      "Training until validation scores don't improve for 50 rounds.\n",
      "[10]\tvalid_0's auc: 0.976488\n",
      "[20]\tvalid_0's auc: 0.978214\n",
      "[30]\tvalid_0's auc: 0.980059\n",
      "[40]\tvalid_0's auc: 0.980744\n",
      "[50]\tvalid_0's auc: 0.98121\n",
      "[60]\tvalid_0's auc: 0.981557\n",
      "[70]\tvalid_0's auc: 0.981744\n",
      "[80]\tvalid_0's auc: 0.981869\n",
      "[90]\tvalid_0's auc: 0.98189\n",
      "[100]\tvalid_0's auc: 0.981936\n",
      "[110]\tvalid_0's auc: 0.981936\n",
      "[120]\tvalid_0's auc: 0.981904\n",
      "[130]\tvalid_0's auc: 0.981892\n",
      "[140]\tvalid_0's auc: 0.981852\n",
      "Early stopping, best iteration is:\n",
      "[99]\tvalid_0's auc: 0.981953\n",
      "=================================================\n",
      "8\n",
      "19\n",
      "matrixFact_user_ipchannel_item_appdeviceos is removed!\n",
      "start training\n",
      "Training until validation scores don't improve for 50 rounds.\n",
      "[10]\tvalid_0's auc: 0.97641\n",
      "[20]\tvalid_0's auc: 0.978852\n",
      "[30]\tvalid_0's auc: 0.980151\n",
      "[40]\tvalid_0's auc: 0.980646\n",
      "[50]\tvalid_0's auc: 0.981092\n",
      "[60]\tvalid_0's auc: 0.981458\n",
      "[70]\tvalid_0's auc: 0.98166\n",
      "[80]\tvalid_0's auc: 0.981781\n",
      "[90]\tvalid_0's auc: 0.981827\n",
      "[100]\tvalid_0's auc: 0.981847\n",
      "[110]\tvalid_0's auc: 0.981853\n",
      "[120]\tvalid_0's auc: 0.981827\n",
      "[130]\tvalid_0's auc: 0.981805\n",
      "[140]\tvalid_0's auc: 0.981795\n",
      "[150]\tvalid_0's auc: 0.981781\n",
      "Early stopping, best iteration is:\n",
      "[108]\tvalid_0's auc: 0.981863\n",
      "=================================================\n",
      "9\n",
      "4\n",
      "ip_app_device_countfromfuture is removed!\n",
      "start training\n",
      "Training until validation scores don't improve for 50 rounds.\n",
      "[10]\tvalid_0's auc: 0.97678\n",
      "[20]\tvalid_0's auc: 0.978674\n",
      "[30]\tvalid_0's auc: 0.979829\n",
      "[40]\tvalid_0's auc: 0.980619\n",
      "[50]\tvalid_0's auc: 0.981202\n",
      "[60]\tvalid_0's auc: 0.981482\n",
      "[70]\tvalid_0's auc: 0.981666\n",
      "[80]\tvalid_0's auc: 0.981778\n",
      "[90]\tvalid_0's auc: 0.981831\n",
      "[100]\tvalid_0's auc: 0.981909\n",
      "[110]\tvalid_0's auc: 0.981908\n",
      "[120]\tvalid_0's auc: 0.981904\n",
      "[130]\tvalid_0's auc: 0.981914\n",
      "[140]\tvalid_0's auc: 0.981898\n",
      "[150]\tvalid_0's auc: 0.981894\n",
      "[160]\tvalid_0's auc: 0.981837\n",
      "[170]\tvalid_0's auc: 0.981795\n",
      "[180]\tvalid_0's auc: 0.981764\n",
      "Early stopping, best iteration is:\n",
      "[134]\tvalid_0's auc: 0.981938\n",
      "=================================================\n",
      "10\n",
      "38\n",
      "start training\n",
      "Training until validation scores don't improve for 50 rounds.\n",
      "[10]\tvalid_0's auc: 0.976391\n",
      "[20]\tvalid_0's auc: 0.978192\n",
      "[30]\tvalid_0's auc: 0.979719\n",
      "[40]\tvalid_0's auc: 0.980596\n",
      "[50]\tvalid_0's auc: 0.981043\n",
      "[60]\tvalid_0's auc: 0.98137\n",
      "[70]\tvalid_0's auc: 0.981566\n",
      "[80]\tvalid_0's auc: 0.98162\n",
      "[90]\tvalid_0's auc: 0.981641\n",
      "[100]\tvalid_0's auc: 0.981657\n",
      "[110]\tvalid_0's auc: 0.98165\n",
      "[120]\tvalid_0's auc: 0.98162\n",
      "[130]\tvalid_0's auc: 0.981642\n",
      "[140]\tvalid_0's auc: 0.981606\n",
      "Early stopping, best iteration is:\n",
      "[98]\tvalid_0's auc: 0.981671\n",
      "=================================================\n",
      "11\n",
      "14\n",
      "ip_device_os_lasttimediff is removed!\n",
      "start training\n",
      "Training until validation scores don't improve for 50 rounds.\n",
      "[10]\tvalid_0's auc: 0.976309\n",
      "[20]\tvalid_0's auc: 0.978087\n",
      "[30]\tvalid_0's auc: 0.980005\n",
      "[40]\tvalid_0's auc: 0.980684\n",
      "[50]\tvalid_0's auc: 0.981094\n",
      "[60]\tvalid_0's auc: 0.981449\n",
      "[70]\tvalid_0's auc: 0.981622\n",
      "[80]\tvalid_0's auc: 0.981726\n",
      "[90]\tvalid_0's auc: 0.981772\n",
      "[100]\tvalid_0's auc: 0.981806\n",
      "[110]\tvalid_0's auc: 0.981814\n",
      "[120]\tvalid_0's auc: 0.981807\n",
      "[130]\tvalid_0's auc: 0.98179\n",
      "[140]\tvalid_0's auc: 0.981772\n",
      "[150]\tvalid_0's auc: 0.981786\n",
      "Early stopping, best iteration is:\n",
      "[105]\tvalid_0's auc: 0.98182\n",
      "done!\n"
     ]
    }
   ],
   "source": [
    "df_grid = pd.read_csv('/home/kai/talkingdata/data/girdsearch-result.csv')\n",
    "removal_col, index = get_parameters(df_grid)\n",
    "counter = 0\n",
    "while index is not None:\n",
    "    counter += 1\n",
    "    print('=================================================')\n",
    "    print(counter)\n",
    "    print(index)\n",
    "\n",
    "    cur_feature, cur_cat  = feature_catg(feature_cols, categorical_col, removal_col)\n",
    "    \n",
    "    model = train_lightgbm(trainset, valset, cur_feature, cur_cat, params_raw)\n",
    "    best_round = model.best_iteration\n",
    "    ROC = roc_auc_score(valset[target].values, model.predict(valset[cur_feature]))\n",
    "    df_grid.loc[index, 'roc'] = ROC\n",
    "    df_grid.loc[index, 'best_rount'] = best_round\n",
    "    df_grid.to_csv('/home/kai/talkingdata/data/girdsearch-result.csv', index=False)\n",
    "    removal_col, index = get_parameters(df_grid)\n",
    "    \n",
    "    gc.collect()\n",
    "    \n",
    "print('done!')"
   ]
  },
  {
   "cell_type": "code",
   "execution_count": 51,
   "metadata": {},
   "outputs": [
    {
     "name": "stdout",
     "output_type": "stream",
     "text": [
      "0.981877586913\n"
     ]
    }
   ],
   "source": [
    "ROC = roc_auc_score(valset[target].values, model.predict(valset[cur_feature]))\n",
    "df_grid.loc[index, 'roc'] = ROC\n",
    "df_grid.loc[index, 'best_rount'] = best_round\n",
    "df_grid.to_csv('/home/kai/talkingdata/data/girdsearch-result.csv', index=False)\n",
    "\n",
    "gc.collect()\n",
    "print(ROC)"
   ]
  },
  {
   "cell_type": "code",
   "execution_count": 85,
   "metadata": {},
   "outputs": [
    {
     "data": {
      "text/plain": [
       "'allfeaturesneeded'"
      ]
     },
     "execution_count": 85,
     "metadata": {},
     "output_type": "execute_result"
    }
   ],
   "source": [
    "df_grid.loc[38,'drpcol']"
   ]
  },
  {
   "cell_type": "code",
   "execution_count": null,
   "metadata": {
    "collapsed": true
   },
   "outputs": [],
   "source": []
  }
 ],
 "metadata": {
  "kernelspec": {
   "display_name": "Python 3",
   "language": "python",
   "name": "python3"
  },
  "language_info": {
   "codemirror_mode": {
    "name": "ipython",
    "version": 3
   },
   "file_extension": ".py",
   "mimetype": "text/x-python",
   "name": "python",
   "nbconvert_exporter": "python",
   "pygments_lexer": "ipython3",
   "version": "3.6.3"
  }
 },
 "nbformat": 4,
 "nbformat_minor": 2
}
