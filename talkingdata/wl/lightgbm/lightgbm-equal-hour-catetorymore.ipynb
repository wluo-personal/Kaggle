{
 "cells": [
  {
   "cell_type": "code",
   "execution_count": 1,
   "metadata": {
    "collapsed": true
   },
   "outputs": [],
   "source": [
    "import pandas as pd\n",
    "import lightgbm as lgb\n",
    "import numpy as np\n",
    "import gc"
   ]
  },
  {
   "cell_type": "code",
   "execution_count": 2,
   "metadata": {},
   "outputs": [
    {
     "name": "stdout",
     "output_type": "stream",
     "text": [
      "day7_features_matrixregV4_norm.csv\n",
      "day8_features_matrixregV4_norm.csv\n",
      "day9_features_matrixregV4_norm.csv\n",
      "test_features_matrixregV4_norm.csv\n"
     ]
    }
   ],
   "source": [
    "load_path = '/home/kai/data/kaggle/talkingdata/wl/data/equalhour/'\n",
    "file_format = '{}_features_matrixregV4_norm.csv'\n",
    "day_list = ['day7', 'day8', 'day9']\n",
    "df_dict = {}\n",
    "for file in ['day7', 'day8', 'day9','test']: \n",
    "    df_dict[file] = pd.read_csv(load_path+file_format.format(file))\n",
    "    print(file_format.format(file))"
   ]
  },
  {
   "cell_type": "code",
   "execution_count": 3,
   "metadata": {},
   "outputs": [
    {
     "name": "stdout",
     "output_type": "stream",
     "text": [
      "day7_categorymore_V1.csv\n",
      "day8_categorymore_V1.csv\n",
      "day9_categorymore_V1.csv\n",
      "test_categorymore_V1.csv\n"
     ]
    }
   ],
   "source": [
    "## load category col\n",
    "file_format = '{}_categorymore_V1.csv'\n",
    "df_dict_cat = {}\n",
    "for file in ['day7', 'day8', 'day9','test']: \n",
    "    df_dict_cat[file] = pd.read_csv(load_path+file_format.format(file))\n",
    "    print(file_format.format(file))"
   ]
  },
  {
   "cell_type": "code",
   "execution_count": 5,
   "metadata": {
    "collapsed": true
   },
   "outputs": [],
   "source": [
    "# replace/add new discrete cols\n",
    "for file in ['day7', 'day8', 'day9','test']: \n",
    "    for col in df_dict_cat['test'].columns:\n",
    "        df_dict[file][col] = df_dict_cat[file][col]"
   ]
  },
  {
   "cell_type": "code",
   "execution_count": 33,
   "metadata": {},
   "outputs": [
    {
     "data": {
      "text/html": [
       "<div>\n",
       "<style>\n",
       "    .dataframe thead tr:only-child th {\n",
       "        text-align: right;\n",
       "    }\n",
       "\n",
       "    .dataframe thead th {\n",
       "        text-align: left;\n",
       "    }\n",
       "\n",
       "    .dataframe tbody tr th {\n",
       "        vertical-align: top;\n",
       "    }\n",
       "</style>\n",
       "<table border=\"1\" class=\"dataframe\">\n",
       "  <thead>\n",
       "    <tr style=\"text-align: right;\">\n",
       "      <th></th>\n",
       "      <th>ip_day_hour_count</th>\n",
       "      <th>ip_os_day_hour_count</th>\n",
       "      <th>ip_app_day_hour_count</th>\n",
       "      <th>ip_app_os_day_hour_count</th>\n",
       "      <th>app_day_hour_count</th>\n",
       "      <th>ip_device_os_count</th>\n",
       "      <th>ip_app_device_os_count</th>\n",
       "      <th>ip_device_os_mean</th>\n",
       "      <th>ip_app_device_os_mean</th>\n",
       "      <th>ip_app_device_mean</th>\n",
       "      <th>...</th>\n",
       "      <th>channel</th>\n",
       "      <th>device</th>\n",
       "      <th>os</th>\n",
       "      <th>hour</th>\n",
       "      <th>is_attributed</th>\n",
       "      <th>app_device</th>\n",
       "      <th>app_os</th>\n",
       "      <th>device_os</th>\n",
       "      <th>app_device_os_channel</th>\n",
       "      <th>app_device_os</th>\n",
       "    </tr>\n",
       "  </thead>\n",
       "  <tbody>\n",
       "    <tr>\n",
       "      <th>0</th>\n",
       "      <td>11</td>\n",
       "      <td>9</td>\n",
       "      <td>3</td>\n",
       "      <td>3</td>\n",
       "      <td>430196</td>\n",
       "      <td>31</td>\n",
       "      <td>11</td>\n",
       "      <td>0.000000</td>\n",
       "      <td>0.0</td>\n",
       "      <td>0.000000</td>\n",
       "      <td>...</td>\n",
       "      <td>245</td>\n",
       "      <td>1</td>\n",
       "      <td>17</td>\n",
       "      <td>4</td>\n",
       "      <td>0</td>\n",
       "      <td>367</td>\n",
       "      <td>2580</td>\n",
       "      <td>51</td>\n",
       "      <td>4515</td>\n",
       "      <td>4515</td>\n",
       "    </tr>\n",
       "    <tr>\n",
       "      <th>1</th>\n",
       "      <td>71</td>\n",
       "      <td>9</td>\n",
       "      <td>8</td>\n",
       "      <td>3</td>\n",
       "      <td>430196</td>\n",
       "      <td>121</td>\n",
       "      <td>21</td>\n",
       "      <td>0.013333</td>\n",
       "      <td>0.0</td>\n",
       "      <td>0.000000</td>\n",
       "      <td>...</td>\n",
       "      <td>245</td>\n",
       "      <td>1</td>\n",
       "      <td>18</td>\n",
       "      <td>4</td>\n",
       "      <td>0</td>\n",
       "      <td>367</td>\n",
       "      <td>2581</td>\n",
       "      <td>52</td>\n",
       "      <td>4516</td>\n",
       "      <td>4516</td>\n",
       "    </tr>\n",
       "    <tr>\n",
       "      <th>2</th>\n",
       "      <td>11</td>\n",
       "      <td>9</td>\n",
       "      <td>3</td>\n",
       "      <td>3</td>\n",
       "      <td>312628</td>\n",
       "      <td>31</td>\n",
       "      <td>9</td>\n",
       "      <td>0.000000</td>\n",
       "      <td>0.0</td>\n",
       "      <td>0.000000</td>\n",
       "      <td>...</td>\n",
       "      <td>317</td>\n",
       "      <td>1</td>\n",
       "      <td>17</td>\n",
       "      <td>4</td>\n",
       "      <td>0</td>\n",
       "      <td>410</td>\n",
       "      <td>3872</td>\n",
       "      <td>51</td>\n",
       "      <td>6652</td>\n",
       "      <td>6652</td>\n",
       "    </tr>\n",
       "    <tr>\n",
       "      <th>3</th>\n",
       "      <td>655</td>\n",
       "      <td>129</td>\n",
       "      <td>222</td>\n",
       "      <td>124</td>\n",
       "      <td>327851</td>\n",
       "      <td>1008</td>\n",
       "      <td>260</td>\n",
       "      <td>0.000000</td>\n",
       "      <td>0.0</td>\n",
       "      <td>0.000199</td>\n",
       "      <td>...</td>\n",
       "      <td>245</td>\n",
       "      <td>1</td>\n",
       "      <td>10</td>\n",
       "      <td>4</td>\n",
       "      <td>0</td>\n",
       "      <td>389</td>\n",
       "      <td>3394</td>\n",
       "      <td>44</td>\n",
       "      <td>5839</td>\n",
       "      <td>5839</td>\n",
       "    </tr>\n",
       "    <tr>\n",
       "      <th>4</th>\n",
       "      <td>55</td>\n",
       "      <td>55</td>\n",
       "      <td>11</td>\n",
       "      <td>11</td>\n",
       "      <td>754715</td>\n",
       "      <td>59</td>\n",
       "      <td>12</td>\n",
       "      <td>0.000000</td>\n",
       "      <td>0.0</td>\n",
       "      <td>0.000000</td>\n",
       "      <td>...</td>\n",
       "      <td>480</td>\n",
       "      <td>1</td>\n",
       "      <td>8</td>\n",
       "      <td>4</td>\n",
       "      <td>0</td>\n",
       "      <td>304</td>\n",
       "      <td>753</td>\n",
       "      <td>42</td>\n",
       "      <td>1447</td>\n",
       "      <td>1447</td>\n",
       "    </tr>\n",
       "  </tbody>\n",
       "</table>\n",
       "<p>5 rows × 48 columns</p>\n",
       "</div>"
      ],
      "text/plain": [
       "   ip_day_hour_count  ip_os_day_hour_count  ip_app_day_hour_count  \\\n",
       "0                 11                     9                      3   \n",
       "1                 71                     9                      8   \n",
       "2                 11                     9                      3   \n",
       "3                655                   129                    222   \n",
       "4                 55                    55                     11   \n",
       "\n",
       "   ip_app_os_day_hour_count  app_day_hour_count  ip_device_os_count  \\\n",
       "0                         3              430196                  31   \n",
       "1                         3              430196                 121   \n",
       "2                         3              312628                  31   \n",
       "3                       124              327851                1008   \n",
       "4                        11              754715                  59   \n",
       "\n",
       "   ip_app_device_os_count  ip_device_os_mean  ip_app_device_os_mean  \\\n",
       "0                      11           0.000000                    0.0   \n",
       "1                      21           0.013333                    0.0   \n",
       "2                       9           0.000000                    0.0   \n",
       "3                     260           0.000000                    0.0   \n",
       "4                      12           0.000000                    0.0   \n",
       "\n",
       "   ip_app_device_mean      ...        channel  device  os  hour  \\\n",
       "0            0.000000      ...            245       1  17     4   \n",
       "1            0.000000      ...            245       1  18     4   \n",
       "2            0.000000      ...            317       1  17     4   \n",
       "3            0.000199      ...            245       1  10     4   \n",
       "4            0.000000      ...            480       1   8     4   \n",
       "\n",
       "   is_attributed  app_device  app_os  device_os  app_device_os_channel  \\\n",
       "0              0         367    2580         51                   4515   \n",
       "1              0         367    2581         52                   4516   \n",
       "2              0         410    3872         51                   6652   \n",
       "3              0         389    3394         44                   5839   \n",
       "4              0         304     753         42                   1447   \n",
       "\n",
       "   app_device_os  \n",
       "0           4515  \n",
       "1           4516  \n",
       "2           6652  \n",
       "3           5839  \n",
       "4           1447  \n",
       "\n",
       "[5 rows x 48 columns]"
      ]
     },
     "execution_count": 33,
     "metadata": {},
     "output_type": "execute_result"
    }
   ],
   "source": [
    "df_dict['day7'].head(5)"
   ]
  },
  {
   "cell_type": "markdown",
   "metadata": {},
   "source": [
    "# define parameter"
   ]
  },
  {
   "cell_type": "code",
   "execution_count": 34,
   "metadata": {},
   "outputs": [
    {
     "data": {
      "text/plain": [
       "Index(['app_device', 'app_os', 'device_os', 'app_device_os_channel',\n",
       "       'app_device_os'],\n",
       "      dtype='object')"
      ]
     },
     "execution_count": 34,
     "metadata": {},
     "output_type": "execute_result"
    }
   ],
   "source": [
    "df_dict_cat['test'].columns"
   ]
  },
  {
   "cell_type": "code",
   "execution_count": 35,
   "metadata": {
    "collapsed": true
   },
   "outputs": [],
   "source": [
    "target = 'is_attributed'\n",
    "\n",
    "day_list = ['day7', 'day8', 'day9']\n",
    "\n",
    "combine = 0\n",
    "params = {\n",
    "        'objective': 'binary',\n",
    "        'boosting': 'gbdt',\n",
    "        'num_rounds': 2000,\n",
    "        'learning_rate': 0.1,\n",
    "        'num_leaves': 61,\n",
    "        'num_threads': 4, # best speed: set to number of real cpu cores, which is vCPU/2\n",
    "        'device': 'cpu',\n",
    "        'max_depth': -1, # no limit. This is used to deal with over-fitting when #data is small.\n",
    "        'min_data_in_leaf': 390,  #minimal number of data in one leaf. Can be used to deal with over-fitting\n",
    "        'feature_fraction': 0.7, #For example, if set to 0.8, will select 80% features before training each tree.  speed up training / deal with over-fitting\n",
    "        'feature_fraction_seed': 1,\n",
    "        'early_stopping_round':70,\n",
    "        'bagging_fraction': 0.7, #Randomly select part of data without resampling\n",
    "        'bagging_freq': 1, #frequency for bagging, 0 means disable bagging. k means will perform bagging at every k iteration. to enable bagging, bagging_fraction should be set as well\n",
    "        'bagging_seed': 1,\n",
    "        'verbose': 0,\n",
    "        'scale_pos_weight': 400,\n",
    "        'metric' : [ 'auc']\n",
    "    }\n",
    "categorical_col = [ 'app', 'device', 'os', 'channel', 'hour',   ]\n",
    "\n",
    "feature_cols = list(df_dict['test'].columns.values)"
   ]
  },
  {
   "cell_type": "code",
   "execution_count": 36,
   "metadata": {},
   "outputs": [
    {
     "data": {
      "text/plain": [
       "array(['ip_day_hour_count', 'ip_os_day_hour_count',\n",
       "       'ip_app_day_hour_count', 'ip_app_os_day_hour_count',\n",
       "       'app_day_hour_count', 'ip_device_os_count',\n",
       "       'ip_app_device_os_count', 'ip_device_os_mean',\n",
       "       'ip_app_device_os_mean', 'ip_app_device_mean', 'app_device_os_mean',\n",
       "       'ip_device_os_time2nextclick', 'ip_app_device_os_time2nextclick',\n",
       "       'ip_app_device_time2nextclick', 'app_device_os_time2nextclick',\n",
       "       'ip_device_os_time2previousclick',\n",
       "       'ip_app_device_os_time2previousclick',\n",
       "       'ip_app_device_time2previousclick',\n",
       "       'app_device_os_time2previousclick', 'ip_device_os_countfromfuture',\n",
       "       'ip_app_device_os_countfromfuture', 'ip_app_device_countfromfuture',\n",
       "       'app_device_os_countfromfuture', 'ip_device_os_countfrompast',\n",
       "       'ip_app_device_os_countfrompast', 'ip_app_device_countfrompast',\n",
       "       'app_device_os_countfrompast', 'ip_device_os_lasttimediff',\n",
       "       'ip_app_device_os_lasttimediff', 'ip_app_device_lasttimediff',\n",
       "       'app_device_os_lasttimediff',\n",
       "       'matrixFact_user_iposdeviceapp_item_app',\n",
       "       'matrixFact_user_ip_item_appdeviceos', 'ip_device_os_regression',\n",
       "       'ip_app_device_os_regression', 'ip_app_device_regression',\n",
       "       'app_device_os_regression', 'app', 'channel', 'device', 'os',\n",
       "       'hour', 'is_attributed', 'app_device', 'app_os', 'device_os',\n",
       "       'app_device_os_channel', 'app_device_os'], dtype=object)"
      ]
     },
     "execution_count": 36,
     "metadata": {},
     "output_type": "execute_result"
    }
   ],
   "source": [
    "df_dict['day7'].columns.values"
   ]
  },
  {
   "cell_type": "code",
   "execution_count": 37,
   "metadata": {
    "collapsed": true
   },
   "outputs": [],
   "source": [
    "# get rid of extra features\n",
    "# extra = set(['matrixFact_user_iposdeviceapp_item_channel', 'matrixFact_user_iposdeviceapp_item_device'])\n",
    "extra = set(['app_device_os_mean',\n",
    "             'app_device_os_time2nextclick', \n",
    "             'app_device_os_time2previousclick',\n",
    "             'app_device_os_countfromfuture',\n",
    "             'app_device_os_countfrompast', \n",
    "             'app_device_os_lasttimediff', \n",
    "             'app_device_os_regression', 'app_device_os_channel', 'app_device_os', 'app_os', 'app_device', 'device_os',\n",
    "             'ip_app_device_mean', 'ip_device_os_mean', 'ip_app_device_os_mean'])\n",
    "# extra = set(['ip_app_device_mean',\n",
    "#              'ip_app_device_time2nextclick', \n",
    "#              'ip_app_device_time2previousclick',\n",
    "#              'ip_app_device_countfromfuture',\n",
    "#              'ip_app_device_countfrompast', \n",
    "#              'ip_app_device_lasttimediff', \n",
    "#              'ip_app_device_regression'])\n",
    "feature_cols = list(set(feature_cols) - extra)"
   ]
  },
  {
   "cell_type": "code",
   "execution_count": 39,
   "metadata": {},
   "outputs": [
    {
     "data": {
      "text/plain": [
       "['os',\n",
       " 'ip_app_device_os_time2previousclick',\n",
       " 'matrixFact_user_iposdeviceapp_item_app',\n",
       " 'ip_app_device_time2nextclick',\n",
       " 'ip_app_device_os_time2nextclick',\n",
       " 'ip_app_device_os_countfrompast',\n",
       " 'ip_app_device_countfromfuture',\n",
       " 'ip_app_device_os_lasttimediff',\n",
       " 'app_day_hour_count',\n",
       " 'ip_device_os_count',\n",
       " 'ip_app_day_hour_count',\n",
       " 'ip_app_device_time2previousclick',\n",
       " 'ip_app_device_os_count',\n",
       " 'ip_device_os_time2nextclick',\n",
       " 'ip_device_os_countfrompast',\n",
       " 'device',\n",
       " 'ip_device_os_countfromfuture',\n",
       " 'ip_app_device_os_countfromfuture',\n",
       " 'app',\n",
       " 'matrixFact_user_ip_item_appdeviceos',\n",
       " 'ip_app_device_countfrompast',\n",
       " 'ip_device_os_time2previousclick',\n",
       " 'ip_app_device_lasttimediff',\n",
       " 'ip_device_os_regression',\n",
       " 'ip_app_device_regression',\n",
       " 'ip_app_device_os_regression',\n",
       " 'ip_device_os_lasttimediff',\n",
       " 'hour',\n",
       " 'ip_app_os_day_hour_count',\n",
       " 'channel',\n",
       " 'ip_os_day_hour_count',\n",
       " 'ip_day_hour_count']"
      ]
     },
     "execution_count": 39,
     "metadata": {},
     "output_type": "execute_result"
    }
   ],
   "source": [
    "feature_cols"
   ]
  },
  {
   "cell_type": "code",
   "execution_count": 40,
   "metadata": {
    "collapsed": true
   },
   "outputs": [],
   "source": [
    "def train_lightgbm(x_train, x_val, feature_cols, categorical_feature, params, best_round = None, target='is_attributed'):\n",
    "    param = params.copy()\n",
    "    y_train = x_train[target].values\n",
    "    y_val = x_val[target].values\n",
    "    \n",
    "    lgb_train = lgb.Dataset(x_train[feature_cols], y_train, categorical_feature = categorical_feature)\n",
    "    lgb_val = lgb.Dataset(x_val[feature_cols], y_val, categorical_feature = categorical_feature)\n",
    "    if best_round is not None:\n",
    "        param['num_rounds'] = best_round\n",
    "        del param['early_stopping_round']\n",
    "    print('start training')\n",
    "    model = lgb.train(param, train_set=lgb_train, valid_sets=lgb_val, verbose_eval=10)\n",
    "    return model"
   ]
  },
  {
   "cell_type": "code",
   "execution_count": null,
   "metadata": {},
   "outputs": [
    {
     "name": "stdout",
     "output_type": "stream",
     "text": [
      "concat_day8day9_val_day7_predtest_matrixregV4_norm_categorymore_V1_nomean.npy\n",
      "building train val done!\n",
      "start training\n"
     ]
    },
    {
     "name": "stderr",
     "output_type": "stream",
     "text": [
      "/home/kai/anaconda3/lib/python3.6/site-packages/lightgbm/engine.py:99: UserWarning: Found `num_rounds` in params. Will use it instead of argument\n",
      "  warnings.warn(\"Found `{}` in params. Will use it instead of argument\".format(alias))\n",
      "/home/kai/anaconda3/lib/python3.6/site-packages/lightgbm/engine.py:104: UserWarning: Found `early_stopping_round` in params. Will use it instead of argument\n",
      "  warnings.warn(\"Found `{}` in params. Will use it instead of argument\".format(alias))\n",
      "/home/kai/anaconda3/lib/python3.6/site-packages/lightgbm/basic.py:1027: UserWarning: Using categorical_feature in Dataset.\n",
      "  warnings.warn('Using categorical_feature in Dataset.')\n",
      "/home/kai/anaconda3/lib/python3.6/site-packages/lightgbm/basic.py:668: UserWarning: categorical_feature in param dict is overrided.\n",
      "  warnings.warn('categorical_feature in param dict is overrided.')\n"
     ]
    },
    {
     "name": "stdout",
     "output_type": "stream",
     "text": [
      "Training until validation scores don't improve for 100 rounds.\n",
      "[10]\tvalid_0's auc: 0.979804\n",
      "[20]\tvalid_0's auc: 0.981563\n",
      "[30]\tvalid_0's auc: 0.982393\n",
      "[40]\tvalid_0's auc: 0.983051\n",
      "[50]\tvalid_0's auc: 0.983665\n",
      "[60]\tvalid_0's auc: 0.984013\n",
      "[70]\tvalid_0's auc: 0.984132\n",
      "[80]\tvalid_0's auc: 0.984194\n",
      "[90]\tvalid_0's auc: 0.984295\n",
      "[100]\tvalid_0's auc: 0.984335\n",
      "[110]\tvalid_0's auc: 0.984372\n",
      "[120]\tvalid_0's auc: 0.98433\n",
      "[130]\tvalid_0's auc: 0.984345\n",
      "[140]\tvalid_0's auc: 0.984338\n",
      "[150]\tvalid_0's auc: 0.984333\n",
      "[160]\tvalid_0's auc: 0.984333\n",
      "[170]\tvalid_0's auc: 0.984318\n",
      "[180]\tvalid_0's auc: 0.984279\n",
      "[190]\tvalid_0's auc: 0.984257\n",
      "[200]\tvalid_0's auc: 0.984236\n",
      "[210]\tvalid_0's auc: 0.984233\n",
      "Early stopping, best iteration is:\n",
      "[110]\tvalid_0's auc: 0.984372\n",
      "start training\n",
      "[10]\tvalid_0's auc: 0.981062\n",
      "[20]\tvalid_0's auc: 0.983115\n",
      "[30]\tvalid_0's auc: 0.984265\n",
      "[40]\tvalid_0's auc: 0.985482\n",
      "[50]\tvalid_0's auc: 0.986437\n",
      "[60]\tvalid_0's auc: 0.987088\n",
      "[70]\tvalid_0's auc: 0.987619\n",
      "[80]\tvalid_0's auc: 0.988282\n",
      "[90]\tvalid_0's auc: 0.988765\n",
      "[100]\tvalid_0's auc: 0.989158\n",
      "[110]\tvalid_0's auc: 0.989588\n",
      "loading file done!\n",
      "predicting file done!\n",
      "concat_day7day9_val_day8_predtest_matrixregV4_norm_categorymore_V1_nomean.npy\n",
      "building train val done!\n",
      "start training\n",
      "Training until validation scores don't improve for 100 rounds.\n",
      "[10]\tvalid_0's auc: 0.98131\n",
      "[20]\tvalid_0's auc: 0.982756\n",
      "[30]\tvalid_0's auc: 0.98349\n",
      "[40]\tvalid_0's auc: 0.984181\n",
      "[50]\tvalid_0's auc: 0.984577\n",
      "[60]\tvalid_0's auc: 0.984853\n",
      "[70]\tvalid_0's auc: 0.984953\n",
      "[80]\tvalid_0's auc: 0.985026\n",
      "[90]\tvalid_0's auc: 0.985059\n",
      "[100]\tvalid_0's auc: 0.985076\n",
      "[110]\tvalid_0's auc: 0.985092\n",
      "[120]\tvalid_0's auc: 0.985062\n",
      "[130]\tvalid_0's auc: 0.985078\n",
      "[140]\tvalid_0's auc: 0.985083\n",
      "[150]\tvalid_0's auc: 0.985042\n",
      "[160]\tvalid_0's auc: 0.985026\n",
      "[170]\tvalid_0's auc: 0.985019\n",
      "[180]\tvalid_0's auc: 0.984993\n",
      "[190]\tvalid_0's auc: 0.984961\n",
      "[200]\tvalid_0's auc: 0.984968\n",
      "[210]\tvalid_0's auc: 0.984965\n",
      "[220]\tvalid_0's auc: 0.984948\n",
      "[230]\tvalid_0's auc: 0.984921\n",
      "Early stopping, best iteration is:\n",
      "[134]\tvalid_0's auc: 0.985102\n",
      "start training\n",
      "[10]\tvalid_0's auc: 0.981973\n",
      "[20]\tvalid_0's auc: 0.983953\n",
      "[30]\tvalid_0's auc: 0.985019\n",
      "[40]\tvalid_0's auc: 0.986165\n",
      "[50]\tvalid_0's auc: 0.987\n"
     ]
    }
   ],
   "source": [
    "for day in day_list:\n",
    "    train_day = list(set(day_list)-set([day]))\n",
    "    file_name = 'concat_{}{}_val_{}_predtest_matrixregV4_norm_categorymore_V1_nomean.npy'.format(train_day[0],train_day[1],day)\n",
    "    print(file_name)\n",
    "    trainset = pd.concat([df_dict[train_day[0]],df_dict[train_day[1]]])\n",
    "    valset = df_dict[day]\n",
    "    print('building train val done!')\n",
    "    model = train_lightgbm(trainset, valset, feature_cols, categorical_col, params)\n",
    "    best_round = model.best_iteration\n",
    "    df_all = pd.concat([trainset, valset])\n",
    "    model = train_lightgbm(df_all, valset, feature_cols, categorical_col, params, best_round)\n",
    "    del df_all\n",
    "    gc.collect()\n",
    "    pred = model.predict(df_dict['test'][feature_cols])\n",
    "    np.save(load_path+file_name, pred)\n",
    "    \n",
    "    # prediction\n",
    "    df_test_raw = pd.read_csv('/home/kai/data/kaggle/talkingdata/data/test.csv')\n",
    "    print('loading file done!')\n",
    "    df_sub = pd.DataFrame()\n",
    "    df_sub['click_id'] = df_test_raw['click_id']\n",
    "    df_sub['is_attributed'] = pred\n",
    "    print('predicting file done!')\n",
    "    df_sub.to_csv('/home/kai/data/kaggle/talkingdata/wl/data/submission/equal_hour_{}{}_val_{}_matrixregV4_norm_categorymore_V1_nomean.csv.gz'.format(train_day[0],train_day[1],day), compression='gzip', index=False)\n",
    "\n",
    "    "
   ]
  },
  {
   "cell_type": "code",
   "execution_count": 32,
   "metadata": {},
   "outputs": [
    {
     "data": {
      "text/plain": [
       "matrixFact_user_ip_item_appdeviceos       3.446741e+08\n",
       "matrixFact_user_iposdeviceapp_item_app    8.417493e+07\n",
       "channel                                   1.668758e+07\n",
       "device_os                                 1.108526e+07\n",
       "ip_app_device_os_time2nextclick           8.144030e+06\n",
       "app                                       6.917718e+06\n",
       "ip_app_device_os_lasttimediff             6.707789e+06\n",
       "ip_day_hour_count                         4.397688e+06\n",
       "ip_app_device_os_countfromfuture          3.394890e+06\n",
       "os                                        2.623705e+06\n",
       "ip_device_os_count                        2.545699e+06\n",
       "ip_app_os_day_hour_count                  2.149142e+06\n",
       "hour                                      1.961198e+06\n",
       "ip_app_device_time2nextclick              1.530539e+06\n",
       "ip_device_os_lasttimediff                 1.250323e+06\n",
       "ip_app_device_mean                        8.831188e+05\n",
       "ip_app_device_regression                  8.715329e+05\n",
       "ip_app_device_lasttimediff                8.461638e+05\n",
       "ip_device_os_countfromfuture              7.424633e+05\n",
       "app_day_hour_count                        7.042742e+05\n",
       "ip_app_device_os_count                    6.330087e+05\n",
       "ip_app_device_countfromfuture             5.044614e+05\n",
       "ip_app_device_countfrompast               3.511220e+05\n",
       "ip_device_os_regression                   3.506568e+05\n",
       "ip_app_device_os_time2previousclick       3.470616e+05\n",
       "ip_device_os_time2nextclick               3.436482e+05\n",
       "ip_app_day_hour_count                     2.386461e+05\n",
       "ip_device_os_mean                         2.327268e+05\n",
       "ip_os_day_hour_count                      2.162918e+05\n",
       "ip_app_device_time2previousclick          2.134048e+05\n",
       "ip_device_os_countfrompast                2.018109e+05\n",
       "ip_device_os_time2previousclick           1.684068e+05\n",
       "ip_app_device_os_countfrompast            9.928978e+04\n",
       "device                                    4.484728e+04\n",
       "ip_app_device_os_regression               2.919343e+04\n",
       "ip_app_device_os_mean                     1.788402e+04\n",
       "dtype: float64"
      ]
     },
     "execution_count": 32,
     "metadata": {},
     "output_type": "execute_result"
    }
   ],
   "source": [
    "# importance_type (string, optional (default=\"split\")) \n",
    "# – How the importance is calculated. \n",
    "# If “split”, result contains numbers of times the feature is used in a model. \n",
    "# If “gain”, result contains total gains of splits which use the feature.\n",
    "importance = pd.Series(model.feature_importance(importance_type='gain'), index=feature_cols)\n",
    "importance = importance.sort_values(ascending=False)\n",
    "if len(model.feature_importance()) != len(feature_cols):\n",
    "    raise ValueError('Feature importance has length: {}, \\n while feature number is {}'.\n",
    "                     format(len(model.feature_importance()), len(feature_cols)))\n",
    "    \n",
    "importance"
   ]
  },
  {
   "cell_type": "code",
   "execution_count": null,
   "metadata": {
    "collapsed": true
   },
   "outputs": [],
   "source": [
    "importance = pd.Series(model.feature_importance(), index=feature_cols)\n",
    "importance = importance.sort_values(ascending=False)\n",
    "if len(model.feature_importance()) != len(feature_cols):\n",
    "    raise ValueError('Feature importance has length: {}, \\n while feature number is {}'.\n",
    "                     format(len(model.feature_importance()), len(feature_cols)))\n",
    "    \n",
    "importance"
   ]
  },
  {
   "cell_type": "markdown",
   "metadata": {},
   "source": [
    "# Average"
   ]
  },
  {
   "cell_type": "code",
   "execution_count": 42,
   "metadata": {
    "collapsed": true
   },
   "outputs": [],
   "source": [
    "#### load each and average\n",
    "load_path = '/home/kai/data/kaggle/talkingdata/wl/data/equalhour/'\n",
    "day7 = np.load(load_path+'concat_day8day9_val_day7_predtest_matrixregV4_norm_categorymore_V1_nomean.npy')\n",
    "day8 = np.load(load_path+'concat_day7day9_val_day8_predtest_matrixregV4_norm_categorymore_V1_nomean.npy')\n",
    "day9 = np.load(load_path+'concat_day7day8_val_day9_predtest_matrixregV4_norm_categorymore_V1_nomean.npy')\n",
    "\n",
    "pred = (day7 + day8 + day9)/3"
   ]
  },
  {
   "cell_type": "code",
   "execution_count": 43,
   "metadata": {},
   "outputs": [
    {
     "name": "stdout",
     "output_type": "stream",
     "text": [
      "loading file done!\n",
      "predicting file done!\n"
     ]
    }
   ],
   "source": [
    "# prediction\n",
    "df_test_raw = pd.read_csv('/home/kai/data/kaggle/talkingdata/data/test.csv')\n",
    "print('loading file done!')\n",
    "df_sub = pd.DataFrame()\n",
    "df_sub['click_id'] = df_test_raw['click_id']\n",
    "df_sub['is_attributed'] = pred\n",
    "print('predicting file done!')\n",
    "df_sub.to_csv('/home/kai/data/kaggle/talkingdata/wl/data/submission/equal_hour_blend_matrixregV4_norm_categorymore_V1_nomean.csv.gz', compression='gzip', index=False)\n"
   ]
  },
  {
   "cell_type": "code",
   "execution_count": null,
   "metadata": {
    "collapsed": true
   },
   "outputs": [],
   "source": [
    "'/home/kai/data/kaggle/talkingdata/wl/data/equalhour/concat_day8day9_val_day7_predtest_matrixregV2_exclude_leaf61_compensate.npy'"
   ]
  }
 ],
 "metadata": {
  "kernelspec": {
   "display_name": "Python 3",
   "language": "python",
   "name": "python3"
  },
  "language_info": {
   "codemirror_mode": {
    "name": "ipython",
    "version": 3
   },
   "file_extension": ".py",
   "mimetype": "text/x-python",
   "name": "python",
   "nbconvert_exporter": "python",
   "pygments_lexer": "ipython3",
   "version": "3.6.3"
  }
 },
 "nbformat": 4,
 "nbformat_minor": 2
}
