{
 "cells": [
  {
   "cell_type": "code",
   "execution_count": 2,
   "metadata": {
    "collapsed": true
   },
   "outputs": [],
   "source": [
    "import pandas as pd\n",
    "import lightgbm as lgb\n",
    "import numpy as np\n",
    "import gc"
   ]
  },
  {
   "cell_type": "code",
   "execution_count": 3,
   "metadata": {},
   "outputs": [
    {
     "name": "stdout",
     "output_type": "stream",
     "text": [
      "day7_features_matrixregV4_norm.csv\n",
      "day8_features_matrixregV4_norm.csv\n",
      "day9_features_matrixregV4_norm.csv\n",
      "test_features_matrixregV4_norm.csv\n"
     ]
    }
   ],
   "source": [
    "load_path = '/home/kai/data/kaggle/talkingdata/wl/data/equalhour/'\n",
    "file_format = '{}_features_matrixregV4_norm.csv'\n",
    "day_list = ['day7', 'day8', 'day9']\n",
    "df_dict = {}\n",
    "for file in ['day7', 'day8', 'day9','test']: \n",
    "    df_dict[file] = pd.read_csv(load_path+file_format.format(file))\n",
    "    print(file_format.format(file))"
   ]
  },
  {
   "cell_type": "markdown",
   "metadata": {},
   "source": [
    "# Load Ip"
   ]
  },
  {
   "cell_type": "code",
   "execution_count": 4,
   "metadata": {
    "collapsed": true
   },
   "outputs": [],
   "source": [
    "# path = '/home/kai/data/kaggle/talkingdata/data/'\n",
    "# train = pd.read_csv(path + 'train_cleaned_final.csv')\n",
    "# print('loading training done')\n",
    "# test = pd.read_csv(path + 'test_cleaned_final.csv')\n",
    "# print('loading testing done')\n",
    "\n",
    "# df_hour = pd.read_csv(path+'hourdistri.csv', index_col='Unnamed: 0')\n",
    "# index = {}\n",
    "# for day in ['day7', 'day8','day9']:\n",
    "#     print(day)\n",
    "#     index[day] = list(range(df_hour.loc[day,'4start'], df_hour.loc[day,'6end0sec'])) + \\\n",
    "#     list(range(df_hour.loc[day,'9start'], df_hour.loc[day,'11end0sec'])) + \\\n",
    "#     list(range(df_hour.loc[day,'13start'], df_hour.loc[day,'15end0sec'])) \n",
    "#     df_dict[day]['ip'] = train.loc[index[day], 'ip'].values\n",
    "# print('processing test!')\n",
    "# df_dict['test']['ip'] = test['ip']\n"
   ]
  },
  {
   "cell_type": "markdown",
   "metadata": {
    "collapsed": true
   },
   "source": [
    "# just use categorical values that exist in both train and test\n",
    "no improvement  \n",
    "ip will not help"
   ]
  },
  {
   "cell_type": "code",
   "execution_count": 5,
   "metadata": {
    "collapsed": true
   },
   "outputs": [],
   "source": [
    "# def intersec_category(df_train_all, df_test_all, df, col_list):\n",
    "#     for col in col_list:\n",
    "#         print('processing: {}'.format(col))\n",
    "#         train_index = set(df_train_all[col].value_counts().index)\n",
    "#         test_index = set(df_test_all[col].value_counts().index)                 \n",
    "#         inter_index = list(train_index.intersection(test_index))\n",
    "#         print('train index length is: {}'.format(len(train_index)))\n",
    "#         print('test index length is: {}'.format(len(test_index)))\n",
    "#         print('intersection index length is: {}'.format(len(inter_index)))\n",
    "#         index_map = pd.Series(inter_index, index=inter_index)\n",
    "#         df.loc[:,col] = df[col].map(index_map).fillna(-1)\n",
    "#     return df\n",
    "\n",
    "# col_list = [ 'app', 'device', 'os', 'channel']\n",
    "# df_train_all = pd.concat([df_dict[day_list[0]],df_dict[day_list[1]], df_dict[day_list[2]]])\n",
    "# # for file in ['day7', 'day8', 'day9','test']: \n",
    "# for file in ['day7']:\n",
    "#     temp = intersec_category(df_train_all, df_dict['test'], df_dict[file],col_list)"
   ]
  },
  {
   "cell_type": "markdown",
   "metadata": {},
   "source": [
    "# define parameter"
   ]
  },
  {
   "cell_type": "code",
   "execution_count": 6,
   "metadata": {
    "collapsed": true
   },
   "outputs": [],
   "source": [
    "target = 'is_attributed'\n",
    "\n",
    "day_list = ['day7', 'day8', 'day9']\n",
    "\n",
    "combine = 0\n",
    "params = {\n",
    "        'objective': 'binary',\n",
    "        'boosting': 'gbdt',\n",
    "        'num_rounds': 2000,\n",
    "        'learning_rate': 0.1,\n",
    "        'num_leaves': 61,\n",
    "        'num_threads': 4, # best speed: set to number of real cpu cores, which is vCPU/2\n",
    "        'device': 'cpu',\n",
    "        'max_depth': -1, # no limit. This is used to deal with over-fitting when #data is small.\n",
    "        'min_data_in_leaf': 390,  #minimal number of data in one leaf. Can be used to deal with over-fitting\n",
    "        'feature_fraction': 0.7, #For example, if set to 0.8, will select 80% features before training each tree.  speed up training / deal with over-fitting\n",
    "        'feature_fraction_seed': 1,\n",
    "        'early_stopping_round':100,\n",
    "        'bagging_fraction': 0.7, #Randomly select part of data without resampling\n",
    "        'bagging_freq': 1, #frequency for bagging, 0 means disable bagging. k means will perform bagging at every k iteration. to enable bagging, bagging_fraction should be set as well\n",
    "        'bagging_seed': 1,\n",
    "        'verbose': 0,\n",
    "        'scale_pos_weight': 400,\n",
    "        'metric' : [ 'auc']\n",
    "    }\n",
    "\n",
    "categorical_col = [ 'app', 'device', 'os', 'channel', 'hour']\n",
    "feature_cols = list(df_dict['test'].columns.values)"
   ]
  },
  {
   "cell_type": "code",
   "execution_count": 7,
   "metadata": {},
   "outputs": [
    {
     "data": {
      "text/plain": [
       "array(['ip_day_hour_count', 'ip_os_day_hour_count',\n",
       "       'ip_app_day_hour_count', 'ip_app_os_day_hour_count',\n",
       "       'app_day_hour_count', 'ip_device_os_count',\n",
       "       'ip_app_device_os_count', 'ip_device_os_mean',\n",
       "       'ip_app_device_os_mean', 'ip_app_device_mean', 'app_device_os_mean',\n",
       "       'ip_device_os_time2nextclick', 'ip_app_device_os_time2nextclick',\n",
       "       'ip_app_device_time2nextclick', 'app_device_os_time2nextclick',\n",
       "       'ip_device_os_time2previousclick',\n",
       "       'ip_app_device_os_time2previousclick',\n",
       "       'ip_app_device_time2previousclick',\n",
       "       'app_device_os_time2previousclick', 'ip_device_os_countfromfuture',\n",
       "       'ip_app_device_os_countfromfuture', 'ip_app_device_countfromfuture',\n",
       "       'app_device_os_countfromfuture', 'ip_device_os_countfrompast',\n",
       "       'ip_app_device_os_countfrompast', 'ip_app_device_countfrompast',\n",
       "       'app_device_os_countfrompast', 'ip_device_os_lasttimediff',\n",
       "       'ip_app_device_os_lasttimediff', 'ip_app_device_lasttimediff',\n",
       "       'app_device_os_lasttimediff',\n",
       "       'matrixFact_user_iposdeviceapp_item_app',\n",
       "       'matrixFact_user_ip_item_appdeviceos', 'ip_device_os_regression',\n",
       "       'ip_app_device_os_regression', 'ip_app_device_regression',\n",
       "       'app_device_os_regression', 'app', 'channel', 'device', 'os',\n",
       "       'hour', 'is_attributed'], dtype=object)"
      ]
     },
     "execution_count": 7,
     "metadata": {},
     "output_type": "execute_result"
    }
   ],
   "source": [
    "df_dict['day7'].columns.values"
   ]
  },
  {
   "cell_type": "code",
   "execution_count": 8,
   "metadata": {
    "collapsed": true
   },
   "outputs": [],
   "source": [
    "# get rid of extra features\n",
    "# extra = set(['matrixFact_user_iposdeviceapp_item_channel', 'matrixFact_user_iposdeviceapp_item_device'])\n",
    "extra = set(['app_device_os_mean',\n",
    "             'app_device_os_time2nextclick', \n",
    "             'app_device_os_time2previousclick',\n",
    "             'app_device_os_countfromfuture',\n",
    "             'app_device_os_countfrompast', \n",
    "             'app_device_os_lasttimediff', \n",
    "             'app_device_os_regression'])\n",
    "# extra = set(['ip_app_device_mean',\n",
    "#              'ip_app_device_time2nextclick', \n",
    "#              'ip_app_device_time2previousclick',\n",
    "#              'ip_app_device_countfromfuture',\n",
    "#              'ip_app_device_countfrompast', \n",
    "#              'ip_app_device_lasttimediff', \n",
    "#              'ip_app_device_regression'])\n",
    "feature_cols = list(set(feature_cols) - extra)"
   ]
  },
  {
   "cell_type": "code",
   "execution_count": 9,
   "metadata": {},
   "outputs": [
    {
     "data": {
      "text/plain": [
       "['ip_app_device_time2nextclick',\n",
       " 'ip_device_os_count',\n",
       " 'ip_app_day_hour_count',\n",
       " 'ip_device_os_time2nextclick',\n",
       " 'ip_app_device_os_lasttimediff',\n",
       " 'ip_app_device_countfrompast',\n",
       " 'ip_app_device_os_countfrompast',\n",
       " 'hour',\n",
       " 'ip_device_os_countfrompast',\n",
       " 'ip_app_device_os_mean',\n",
       " 'ip_device_os_mean',\n",
       " 'ip_app_device_mean',\n",
       " 'ip_app_device_countfromfuture',\n",
       " 'channel',\n",
       " 'ip_app_device_os_time2previousclick',\n",
       " 'ip_app_device_os_time2nextclick',\n",
       " 'ip_app_os_day_hour_count',\n",
       " 'ip_app_device_time2previousclick',\n",
       " 'ip_device_os_lasttimediff',\n",
       " 'app_day_hour_count',\n",
       " 'ip_day_hour_count',\n",
       " 'ip_app_device_lasttimediff',\n",
       " 'matrixFact_user_ip_item_appdeviceos',\n",
       " 'ip_app_device_os_regression',\n",
       " 'app',\n",
       " 'ip_app_device_os_count',\n",
       " 'os',\n",
       " 'ip_device_os_time2previousclick',\n",
       " 'ip_app_device_regression',\n",
       " 'matrixFact_user_iposdeviceapp_item_app',\n",
       " 'ip_app_device_os_countfromfuture',\n",
       " 'ip_device_os_countfromfuture',\n",
       " 'device',\n",
       " 'ip_os_day_hour_count',\n",
       " 'ip_device_os_regression']"
      ]
     },
     "execution_count": 9,
     "metadata": {},
     "output_type": "execute_result"
    }
   ],
   "source": [
    "feature_cols"
   ]
  },
  {
   "cell_type": "code",
   "execution_count": 10,
   "metadata": {
    "collapsed": true
   },
   "outputs": [],
   "source": [
    "def train_lightgbm(x_train, x_val, feature_cols, categorical_feature, params, best_round = None, target='is_attributed'):\n",
    "    param = params.copy()\n",
    "    y_train = x_train[target].values\n",
    "    y_val = x_val[target].values\n",
    "    \n",
    "    lgb_train = lgb.Dataset(x_train[feature_cols], y_train, categorical_feature = categorical_feature)\n",
    "    lgb_val = lgb.Dataset(x_val[feature_cols], y_val, categorical_feature = categorical_feature)\n",
    "    if best_round is not None:\n",
    "        param['num_rounds'] = best_round\n",
    "        del param['early_stopping_round']\n",
    "    print('start training')\n",
    "    model = lgb.train(param, train_set=lgb_train, valid_sets=lgb_val, verbose_eval=10)\n",
    "    return model"
   ]
  },
  {
   "cell_type": "code",
   "execution_count": 11,
   "metadata": {},
   "outputs": [
    {
     "name": "stdout",
     "output_type": "stream",
     "text": [
      "concat_day9day8_val_day7_predtest_matrixregV4_norm_exclude.npy\n",
      "building train val done!\n",
      "start training\n"
     ]
    },
    {
     "name": "stderr",
     "output_type": "stream",
     "text": [
      "/home/kai/anaconda3/lib/python3.6/site-packages/lightgbm/engine.py:99: UserWarning: Found `num_rounds` in params. Will use it instead of argument\n",
      "  warnings.warn(\"Found `{}` in params. Will use it instead of argument\".format(alias))\n",
      "/home/kai/anaconda3/lib/python3.6/site-packages/lightgbm/engine.py:104: UserWarning: Found `early_stopping_round` in params. Will use it instead of argument\n",
      "  warnings.warn(\"Found `{}` in params. Will use it instead of argument\".format(alias))\n",
      "/home/kai/anaconda3/lib/python3.6/site-packages/lightgbm/basic.py:1027: UserWarning: Using categorical_feature in Dataset.\n",
      "  warnings.warn('Using categorical_feature in Dataset.')\n",
      "/home/kai/anaconda3/lib/python3.6/site-packages/lightgbm/basic.py:668: UserWarning: categorical_feature in param dict is overrided.\n",
      "  warnings.warn('categorical_feature in param dict is overrided.')\n"
     ]
    },
    {
     "name": "stdout",
     "output_type": "stream",
     "text": [
      "Training until validation scores don't improve for 100 rounds.\n",
      "[10]\tvalid_0's auc: 0.979328\n",
      "[20]\tvalid_0's auc: 0.981329\n",
      "[30]\tvalid_0's auc: 0.982627\n",
      "[40]\tvalid_0's auc: 0.983273\n",
      "[50]\tvalid_0's auc: 0.983859\n",
      "[60]\tvalid_0's auc: 0.984108\n",
      "[70]\tvalid_0's auc: 0.984314\n",
      "[80]\tvalid_0's auc: 0.984415\n",
      "[90]\tvalid_0's auc: 0.984426\n",
      "[100]\tvalid_0's auc: 0.984487\n",
      "[110]\tvalid_0's auc: 0.984508\n",
      "[120]\tvalid_0's auc: 0.984504\n",
      "[130]\tvalid_0's auc: 0.984516\n",
      "[140]\tvalid_0's auc: 0.984495\n",
      "[150]\tvalid_0's auc: 0.984465\n",
      "[160]\tvalid_0's auc: 0.984431\n",
      "[170]\tvalid_0's auc: 0.984402\n",
      "[180]\tvalid_0's auc: 0.98438\n",
      "[190]\tvalid_0's auc: 0.984371\n",
      "[200]\tvalid_0's auc: 0.984374\n",
      "[210]\tvalid_0's auc: 0.984349\n",
      "[220]\tvalid_0's auc: 0.984319\n",
      "Early stopping, best iteration is:\n",
      "[128]\tvalid_0's auc: 0.984524\n",
      "start training\n",
      "[10]\tvalid_0's auc: 0.98063\n",
      "[20]\tvalid_0's auc: 0.982889\n",
      "[30]\tvalid_0's auc: 0.984395\n",
      "[40]\tvalid_0's auc: 0.98553\n",
      "[50]\tvalid_0's auc: 0.986528\n",
      "[60]\tvalid_0's auc: 0.987244\n",
      "[70]\tvalid_0's auc: 0.987811\n",
      "[80]\tvalid_0's auc: 0.988357\n",
      "[90]\tvalid_0's auc: 0.988795\n",
      "[100]\tvalid_0's auc: 0.989165\n",
      "[110]\tvalid_0's auc: 0.989551\n",
      "[120]\tvalid_0's auc: 0.989908\n",
      "loading file done!\n",
      "predicting file done!\n",
      "concat_day9day7_val_day8_predtest_matrixregV4_norm_exclude.npy\n",
      "building train val done!\n",
      "start training\n",
      "Training until validation scores don't improve for 100 rounds.\n",
      "[10]\tvalid_0's auc: 0.980962\n",
      "[20]\tvalid_0's auc: 0.982719\n",
      "[30]\tvalid_0's auc: 0.98371\n",
      "[40]\tvalid_0's auc: 0.984253\n",
      "[50]\tvalid_0's auc: 0.984684\n",
      "[60]\tvalid_0's auc: 0.984865\n",
      "[70]\tvalid_0's auc: 0.985025\n",
      "[80]\tvalid_0's auc: 0.985128\n",
      "[90]\tvalid_0's auc: 0.98518\n",
      "[100]\tvalid_0's auc: 0.985208\n",
      "[110]\tvalid_0's auc: 0.985222\n",
      "[120]\tvalid_0's auc: 0.985201\n",
      "[130]\tvalid_0's auc: 0.985196\n",
      "[140]\tvalid_0's auc: 0.985217\n",
      "[150]\tvalid_0's auc: 0.985196\n",
      "[160]\tvalid_0's auc: 0.985158\n",
      "[170]\tvalid_0's auc: 0.985134\n",
      "[180]\tvalid_0's auc: 0.985097\n",
      "[190]\tvalid_0's auc: 0.985083\n",
      "[200]\tvalid_0's auc: 0.985059\n",
      "Early stopping, best iteration is:\n",
      "[108]\tvalid_0's auc: 0.985234\n",
      "start training\n",
      "[10]\tvalid_0's auc: 0.981676\n",
      "[20]\tvalid_0's auc: 0.983821\n",
      "[30]\tvalid_0's auc: 0.985138\n",
      "[40]\tvalid_0's auc: 0.986146\n",
      "[50]\tvalid_0's auc: 0.987036\n",
      "[60]\tvalid_0's auc: 0.987651\n",
      "[70]\tvalid_0's auc: 0.988358\n",
      "[80]\tvalid_0's auc: 0.988935\n",
      "[90]\tvalid_0's auc: 0.989456\n",
      "[100]\tvalid_0's auc: 0.989819\n",
      "loading file done!\n",
      "predicting file done!\n",
      "concat_day7day8_val_day9_predtest_matrixregV4_norm_exclude.npy\n",
      "building train val done!\n",
      "start training\n",
      "Training until validation scores don't improve for 100 rounds.\n",
      "[10]\tvalid_0's auc: 0.975026\n",
      "[20]\tvalid_0's auc: 0.977785\n",
      "[30]\tvalid_0's auc: 0.979347\n",
      "[40]\tvalid_0's auc: 0.979952\n",
      "[50]\tvalid_0's auc: 0.980547\n",
      "[60]\tvalid_0's auc: 0.980799\n",
      "[70]\tvalid_0's auc: 0.981167\n",
      "[80]\tvalid_0's auc: 0.981334\n",
      "[90]\tvalid_0's auc: 0.98142\n",
      "[100]\tvalid_0's auc: 0.981491\n",
      "[110]\tvalid_0's auc: 0.98154\n",
      "[120]\tvalid_0's auc: 0.981593\n",
      "[130]\tvalid_0's auc: 0.981598\n",
      "[140]\tvalid_0's auc: 0.981612\n",
      "[150]\tvalid_0's auc: 0.981575\n",
      "[160]\tvalid_0's auc: 0.981521\n",
      "[170]\tvalid_0's auc: 0.981509\n",
      "[180]\tvalid_0's auc: 0.98149\n",
      "[190]\tvalid_0's auc: 0.981469\n",
      "[200]\tvalid_0's auc: 0.981442\n",
      "[210]\tvalid_0's auc: 0.981404\n",
      "[220]\tvalid_0's auc: 0.981388\n",
      "[230]\tvalid_0's auc: 0.981357\n",
      "Early stopping, best iteration is:\n",
      "[139]\tvalid_0's auc: 0.981617\n",
      "start training\n",
      "[10]\tvalid_0's auc: 0.977231\n",
      "[20]\tvalid_0's auc: 0.980162\n",
      "[30]\tvalid_0's auc: 0.981874\n",
      "[40]\tvalid_0's auc: 0.983114\n",
      "[50]\tvalid_0's auc: 0.98419\n",
      "[60]\tvalid_0's auc: 0.984959\n",
      "[70]\tvalid_0's auc: 0.985659\n",
      "[80]\tvalid_0's auc: 0.986157\n",
      "[90]\tvalid_0's auc: 0.986672\n",
      "[100]\tvalid_0's auc: 0.987108\n",
      "[110]\tvalid_0's auc: 0.987526\n",
      "[120]\tvalid_0's auc: 0.987927\n",
      "[130]\tvalid_0's auc: 0.988231\n",
      "loading file done!\n",
      "predicting file done!\n"
     ]
    }
   ],
   "source": [
    "for day in day_list:\n",
    "    train_day = list(set(day_list)-set([day]))\n",
    "    file_name = 'concat_{}{}_val_{}_predtest_matrixregV4_norm_exclude.npy'.format(train_day[0],train_day[1],day)\n",
    "    print(file_name)\n",
    "    trainset = pd.concat([df_dict[train_day[0]],df_dict[train_day[1]]])\n",
    "    valset = df_dict[day]\n",
    "    print('building train val done!')\n",
    "    model = train_lightgbm(trainset, valset, feature_cols, categorical_col, params)\n",
    "    best_round = model.best_iteration\n",
    "    df_all = pd.concat([trainset, valset])\n",
    "    model = train_lightgbm(df_all, valset, feature_cols, categorical_col, params, best_round)\n",
    "    del df_all\n",
    "    gc.collect()\n",
    "    pred = model.predict(df_dict['test'][feature_cols])\n",
    "    np.save(load_path+file_name, pred)\n",
    "    \n",
    "    # prediction\n",
    "    df_test_raw = pd.read_csv('/home/kai/data/kaggle/talkingdata/data/test.csv')\n",
    "    print('loading file done!')\n",
    "    df_sub = pd.DataFrame()\n",
    "    df_sub['click_id'] = df_test_raw['click_id']\n",
    "    df_sub['is_attributed'] = pred\n",
    "    print('predicting file done!')\n",
    "    df_sub.to_csv('/home/kai/data/kaggle/talkingdata/wl/data/submission/equal_hour_{}{}_val_{}_matrixregV4_norm_exclude.csv.gz'.format(train_day[0],train_day[1],day), compression='gzip', index=False)\n",
    "\n",
    "    "
   ]
  },
  {
   "cell_type": "code",
   "execution_count": 36,
   "metadata": {},
   "outputs": [
    {
     "data": {
      "text/plain": [
       "channel                                   1663\n",
       "os                                         783\n",
       "app                                        596\n",
       "ip_app_device_os_time2nextclick            578\n",
       "matrixFact_user_ip_item_appdeviceos        369\n",
       "matrixFact_user_iposdeviceapp_item_app     331\n",
       "ip_day_hour_count                          328\n",
       "ip_device_os_count                         235\n",
       "ip_app_device_os_count                     209\n",
       "ip_app_device_os_lasttimediff              208\n",
       "hour                                       168\n",
       "ip_device_os_lasttimediff                  149\n",
       "ip_app_device_time2nextclick               139\n",
       "ip_app_device_lasttimediff                 138\n",
       "ip_app_device_time2previousclick           135\n",
       "ip_app_device_countfrompast                134\n",
       "ip_device_os_mean                          129\n",
       "ip_app_device_countfromfuture              121\n",
       "app_day_hour_count                         115\n",
       "ip_app_os_day_hour_count                   115\n",
       "ip_app_device_os_countfromfuture           107\n",
       "ip_app_device_mean                         104\n",
       "ip_device_os_regression                    103\n",
       "ip_app_device_os_time2previousclick         99\n",
       "ip_app_day_hour_count                       98\n",
       "ip_device_os_countfrompast                  97\n",
       "ip_os_day_hour_count                        96\n",
       "ip_app_device_regression                    95\n",
       "ip_device_os_countfromfuture                94\n",
       "ip_device_os_time2previousclick             82\n",
       "ip_device_os_time2nextclick                 82\n",
       "device                                      71\n",
       "ip_app_device_os_countfrompast              61\n",
       "ip_app_device_os_mean                       20\n",
       "ip_app_device_os_regression                  8\n",
       "dtype: int64"
      ]
     },
     "execution_count": 36,
     "metadata": {},
     "output_type": "execute_result"
    }
   ],
   "source": [
    "importance = pd.Series(model.feature_importance(), index=feature_cols)\n",
    "importance = importance.sort_values(ascending=False)\n",
    "if len(model.feature_importance()) != len(feature_cols):\n",
    "    raise ValueError('Feature importance has length: {}, \\n while feature number is {}'.\n",
    "                     format(len(model.feature_importance()), len(feature_cols)))\n",
    "    \n",
    "importance"
   ]
  },
  {
   "cell_type": "markdown",
   "metadata": {},
   "source": [
    "# Average"
   ]
  },
  {
   "cell_type": "code",
   "execution_count": 12,
   "metadata": {
    "collapsed": true
   },
   "outputs": [],
   "source": [
    "#### load each and average\n",
    "load_path = '/home/kai/data/kaggle/talkingdata/wl/data/equalhour/'\n",
    "day7 = np.load(load_path+'concat_day8day9_val_day7_predtest_matrixregV4_norm_exclude.npy')\n",
    "day8 = np.load(load_path+'concat_day7day9_val_day8_predtest_matrixregV4_norm_exclude.npy')\n",
    "day9 = np.load(load_path+'concat_day7day8_val_day9_predtest_matrixregV4_norm_exclude.npy')\n",
    "\n",
    "pred = (day7 + day8 + day9)/3"
   ]
  },
  {
   "cell_type": "code",
   "execution_count": 13,
   "metadata": {},
   "outputs": [
    {
     "name": "stdout",
     "output_type": "stream",
     "text": [
      "loading file done!\n",
      "predicting file done!\n"
     ]
    }
   ],
   "source": [
    "# prediction\n",
    "df_test_raw = pd.read_csv('/home/kai/data/kaggle/talkingdata/data/test.csv')\n",
    "print('loading file done!')\n",
    "df_sub = pd.DataFrame()\n",
    "df_sub['click_id'] = df_test_raw['click_id']\n",
    "df_sub['is_attributed'] = pred\n",
    "print('predicting file done!')\n",
    "df_sub.to_csv('/home/kai/data/kaggle/talkingdata/wl/data/submission/equal_hour_blend_matrixregV4_norm_exclude.csv.gz', compression='gzip', index=False)\n"
   ]
  },
  {
   "cell_type": "code",
   "execution_count": null,
   "metadata": {
    "collapsed": true
   },
   "outputs": [],
   "source": []
  }
 ],
 "metadata": {
  "kernelspec": {
   "display_name": "Python 3",
   "language": "python",
   "name": "python3"
  },
  "language_info": {
   "codemirror_mode": {
    "name": "ipython",
    "version": 3
   },
   "file_extension": ".py",
   "mimetype": "text/x-python",
   "name": "python",
   "nbconvert_exporter": "python",
   "pygments_lexer": "ipython3",
   "version": "3.6.3"
  }
 },
 "nbformat": 4,
 "nbformat_minor": 2
}
