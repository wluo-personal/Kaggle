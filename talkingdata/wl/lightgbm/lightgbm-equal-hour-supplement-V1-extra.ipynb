{
 "cells": [
  {
   "cell_type": "markdown",
   "metadata": {},
   "source": [
    "# time realted feature is from concat([train,test])"
   ]
  },
  {
   "cell_type": "code",
   "execution_count": 1,
   "metadata": {
    "collapsed": true
   },
   "outputs": [],
   "source": [
    "import pandas as pd\n",
    "import lightgbm as lgb\n",
    "import numpy as np\n",
    "import gc"
   ]
  },
  {
   "cell_type": "code",
   "execution_count": 4,
   "metadata": {
    "collapsed": true
   },
   "outputs": [],
   "source": [
    "dtypes = {\n",
    "        'app'           : 'uint16',\n",
    "        'device'        : 'uint16',\n",
    "        'os'            : 'uint16',\n",
    "        'channel'       : 'uint16',\n",
    "        'hour'          : 'uint8',\n",
    "        'is_attributed' : 'uint8', \n",
    "        'ip_day_hour_count': 'uint32', \n",
    "        'ip_os_day_hour_count': 'uint32', \n",
    "        'ip_app_day_hour_count': 'uint32', \n",
    "        'ip_app_os_day_hour_count': 'uint32', \n",
    "        'app_day_hour_count': 'uint32', \n",
    "        'ip_device_os_count': 'uint32', \n",
    "        'ip_app_device_os_count': 'uint32', \n",
    "        'ip_device_os_mean': 'float16',\n",
    "        'ip_app_device_os_mean': 'float16',\n",
    "        'ip_app_device_mean': 'float16',\n",
    "        'app_device_os_mean': 'float16',\n",
    "        'ip_device_os_time2nextclick': 'int32',\n",
    "        'ip_app_device_os_time2nextclick': 'int32',\n",
    "        'ip_app_device_time2nextclick': 'int32',\n",
    "        'ip_device_os_time2previousclick': 'int32',\n",
    "        'ip_app_device_os_time2previousclick': 'int32',\n",
    "        'ip_app_device_time2previousclick': 'int32',\n",
    "        'ip_device_os_countfromfuture': 'uint32', \n",
    "        'ip_app_device_os_countfromfuture': 'uint32', \n",
    "        'ip_app_device_countfromfuture': 'uint32', \n",
    "        'ip_device_os_countfrompast': 'uint32', \n",
    "        'ip_app_device_os_countfrompast': 'uint32', \n",
    "        'ip_app_device_countfrompast': 'uint32', \n",
    "        'ip_device_os_lasttimediff': 'int32',\n",
    "        'ip_app_device_os_lasttimediff': 'int32',\n",
    "        'ip_app_device_lasttimediff': 'int32',\n",
    "        'ip_device_os_firsttimediff': 'int32',\n",
    "        'ip_app_device_os_firsttimediff': 'int32',\n",
    "        'ip_app_device_firsttimediff': 'int32',\n",
    "        'matrixFact_user_iposdeviceapp_item_app': 'float16',\n",
    "        'matrixFact_user_ip_item_appdeviceos': 'float16',\n",
    "        'matrixFact_user_ipchannel_item_appdeviceos': 'float16',\n",
    "        'ip_device_os_regression': 'float16',\n",
    "        'ip_app_device_os_regression': 'float16',\n",
    "        'ip_app_device_regression': 'float16',\n",
    "        'ip_app_device_os_channel_regression': 'float16'\n",
    "        } "
   ]
  },
  {
   "cell_type": "markdown",
   "metadata": {},
   "source": [
    "## load equal hour index"
   ]
  },
  {
   "cell_type": "code",
   "execution_count": 2,
   "metadata": {
    "collapsed": true
   },
   "outputs": [],
   "source": [
    "path = '/home/kai/data/kaggle/talkingdata/data/'\n",
    "df_hour = pd.read_csv(path+'hourdistri.csv', index_col='Unnamed: 0')\n",
    "index = {}\n",
    "for day in ['day7', 'day8','day9']:\n",
    "    index[day] = list(range(df_hour.loc[day,'4start'], df_hour.loc[day,'6end0sec'])) + \\\n",
    "    list(range(df_hour.loc[day,'9start'], df_hour.loc[day,'11end0sec'])) + \\\n",
    "    list(range(df_hour.loc[day,'13start'], df_hour.loc[day,'15end0sec'])) "
   ]
  },
  {
   "cell_type": "markdown",
   "metadata": {},
   "source": [
    "## load extra data "
   ]
  },
  {
   "cell_type": "code",
   "execution_count": 5,
   "metadata": {},
   "outputs": [
    {
     "name": "stdout",
     "output_type": "stream",
     "text": [
      "loading file day7\n",
      "day7_features_supplementV2_extra_timeonALL.csv\n",
      "loading file day8\n",
      "day8_features_supplementV2_extra_timeonALL.csv\n",
      "loading file day9\n",
      "day9_features_supplementV2_extra_timeonALL.csv\n",
      "finish concat\n",
      "getting equal hour day7\n",
      "19534560\n",
      "-------\n",
      "getting equal hour day8\n",
      "20446743\n",
      "-------\n",
      "getting equal hour day9\n",
      "20898422\n",
      "-------\n",
      "57537505\n"
     ]
    }
   ],
   "source": [
    "load_path = '/home/kai/data/kaggle/talkingdata/wl/data/equalhour/'\n",
    "file_format = '{}_features_supplementV2_extra_timeonALL.csv'\n",
    "df_extra_dict = {}\n",
    "\n",
    "for file in ['day7', 'day8', 'day9']: \n",
    "    print('loading file {}'.format(file))\n",
    "    df_extra_dict[file] = pd.read_csv(load_path+file_format.format(file), dtype=dtypes)\n",
    "    print(file_format.format(file))\n",
    "    \n",
    "df_extra_all = pd.concat([df_extra_dict['day7'], df_extra_dict['day8'], df_extra_dict['day9']])\n",
    "print('finish concat')\n",
    "df_extra_dict = {}\n",
    "\n",
    "for file in ['day7', 'day8', 'day9']: \n",
    "    print('getting equal hour {}'.format(file))\n",
    "    df_extra_dict[file] = df_extra_all.iloc[index[file]]\n",
    "    print(len(df_extra_dict[file]))\n",
    "    print('-------')\n",
    "df_extra_dict['test'] = pd.read_csv(load_path+'test_equalhoursV2_features_supplementV2_extra_timeonALL', dtype=dtypes)\n",
    "print(len(df_extra_dict['test']))"
   ]
  },
  {
   "cell_type": "markdown",
   "metadata": {},
   "source": [
    "## load equal hour data"
   ]
  },
  {
   "cell_type": "code",
   "execution_count": 6,
   "metadata": {},
   "outputs": [
    {
     "name": "stdout",
     "output_type": "stream",
     "text": [
      "day7_equalhour_supplementV1.csv\n",
      "day8_equalhour_supplementV1.csv\n",
      "day9_equalhour_supplementV1.csv\n",
      "test_equalhour_supplementV1.csv\n"
     ]
    }
   ],
   "source": [
    "load_path = '/home/kai/data/kaggle/talkingdata/wl/data/equalhour/'\n",
    "file_format = '{}_equalhour_supplementV1.csv'\n",
    "day_list = ['day7', 'day8', 'day9']\n",
    "df_dict = {}\n",
    "for file in ['day7', 'day8', 'day9','test']: \n",
    "    df_dict[file] = pd.read_csv(load_path+file_format.format(file), dtype=dtypes)\n",
    "    print(file_format.format(file))\n",
    "    "
   ]
  },
  {
   "cell_type": "markdown",
   "metadata": {},
   "source": [
    "## replace counts with extra data"
   ]
  },
  {
   "cell_type": "code",
   "execution_count": 10,
   "metadata": {},
   "outputs": [
    {
     "name": "stdout",
     "output_type": "stream",
     "text": [
      "ip_app_device_time2nextclick\n",
      "day7 - ip_app_device_time2nextclick\n",
      "day8 - ip_app_device_time2nextclick\n",
      "day9 - ip_app_device_time2nextclick\n",
      "test - ip_app_device_time2nextclick\n",
      "ip_device_os_time2nextclick\n",
      "day7 - ip_device_os_time2nextclick\n",
      "day8 - ip_device_os_time2nextclick\n",
      "day9 - ip_device_os_time2nextclick\n",
      "test - ip_device_os_time2nextclick\n",
      "ip_app_device_os_time2nextclick\n",
      "day7 - ip_app_device_os_time2nextclick\n",
      "day8 - ip_app_device_os_time2nextclick\n",
      "day9 - ip_app_device_os_time2nextclick\n",
      "test - ip_app_device_os_time2nextclick\n",
      "ip_app_device_time2previousclick\n",
      "day7 - ip_app_device_time2previousclick\n",
      "day8 - ip_app_device_time2previousclick\n",
      "day9 - ip_app_device_time2previousclick\n",
      "test - ip_app_device_time2previousclick\n",
      "ip_device_os_time2previousclick\n",
      "day7 - ip_device_os_time2previousclick\n",
      "day8 - ip_device_os_time2previousclick\n",
      "day9 - ip_device_os_time2previousclick\n",
      "test - ip_device_os_time2previousclick\n",
      "ip_app_device_os_time2previousclick\n",
      "day7 - ip_app_device_os_time2previousclick\n",
      "day8 - ip_app_device_os_time2previousclick\n",
      "day9 - ip_app_device_os_time2previousclick\n",
      "test - ip_app_device_os_time2previousclick\n",
      "ip_app_device_countfromfuture\n",
      "day7 - ip_app_device_countfromfuture\n",
      "day8 - ip_app_device_countfromfuture\n",
      "day9 - ip_app_device_countfromfuture\n",
      "test - ip_app_device_countfromfuture\n",
      "ip_device_os_countfromfuture\n",
      "day7 - ip_device_os_countfromfuture\n",
      "day8 - ip_device_os_countfromfuture\n",
      "day9 - ip_device_os_countfromfuture\n",
      "test - ip_device_os_countfromfuture\n",
      "ip_app_device_os_countfromfuture\n",
      "day7 - ip_app_device_os_countfromfuture\n",
      "day8 - ip_app_device_os_countfromfuture\n",
      "day9 - ip_app_device_os_countfromfuture\n",
      "test - ip_app_device_os_countfromfuture\n",
      "ip_app_device_countfrompast\n",
      "day7 - ip_app_device_countfrompast\n",
      "day8 - ip_app_device_countfrompast\n",
      "day9 - ip_app_device_countfrompast\n",
      "test - ip_app_device_countfrompast\n",
      "ip_device_os_countfrompast\n",
      "day7 - ip_device_os_countfrompast\n",
      "day8 - ip_device_os_countfrompast\n",
      "day9 - ip_device_os_countfrompast\n",
      "test - ip_device_os_countfrompast\n",
      "ip_app_device_os_countfrompast\n",
      "day7 - ip_app_device_os_countfrompast\n",
      "day8 - ip_app_device_os_countfrompast\n",
      "day9 - ip_app_device_os_countfrompast\n",
      "test - ip_app_device_os_countfrompast\n"
     ]
    }
   ],
   "source": [
    "for col in df_extra_dict['test'].columns:\n",
    "    print(col)\n",
    "    for day in ['day7', 'day8', 'day9','test']:\n",
    "        print('{} - {}'.format(day, col))\n",
    "        df_dict[day][col] = df_extra_dict[day][col]"
   ]
  },
  {
   "cell_type": "markdown",
   "metadata": {},
   "source": [
    "## Gabage collection"
   ]
  },
  {
   "cell_type": "code",
   "execution_count": 11,
   "metadata": {},
   "outputs": [
    {
     "data": {
      "text/plain": [
       "2939"
      ]
     },
     "execution_count": 11,
     "metadata": {},
     "output_type": "execute_result"
    }
   ],
   "source": [
    "del df_extra_all\n",
    "del df_extra_dict\n",
    "gc.collect()"
   ]
  },
  {
   "cell_type": "markdown",
   "metadata": {},
   "source": [
    "# define parameter"
   ]
  },
  {
   "cell_type": "code",
   "execution_count": 14,
   "metadata": {
    "collapsed": true
   },
   "outputs": [],
   "source": [
    "target = 'is_attributed'\n",
    "\n",
    "day_list = ['day7', 'day8', 'day9']\n",
    "\n",
    "combine = 0\n",
    "params = {\n",
    "        'objective': 'binary',\n",
    "        'boosting': 'gbdt',\n",
    "        'num_rounds': 4000,\n",
    "        'learning_rate': 0.1,\n",
    "        'num_leaves': 61,\n",
    "        'num_threads': 4, # best speed: set to number of real cpu cores, which is vCPU/2\n",
    "        'device': 'cpu',\n",
    "        'max_depth': -1, # no limit. This is used to deal with over-fitting when #data is small.\n",
    "        'min_data_in_leaf': 390,  #minimal number of data in one leaf. Can be used to deal with over-fitting\n",
    "        'feature_fraction': 0.7, #For example, if set to 0.8, will select 80% features before training each tree.  speed up training / deal with over-fitting\n",
    "        'feature_fraction_seed': 1,\n",
    "        'early_stopping_round':60,\n",
    "        'bagging_fraction': 0.7, #Randomly select part of data without resampling\n",
    "        'bagging_freq': 1, #frequency for bagging, 0 means disable bagging. k means will perform bagging at every k iteration. to enable bagging, bagging_fraction should be set as well\n",
    "        'bagging_seed': 1,\n",
    "        'verbose': 0,\n",
    "        'scale_pos_weight': 400,\n",
    "        'metric' : [ 'auc']\n",
    "    }\n",
    "\n",
    "categorical_col = [ 'app', 'device', 'os', 'channel', 'hour']\n",
    "feature_cols = list(df_dict['test'].columns.values)"
   ]
  },
  {
   "cell_type": "code",
   "execution_count": 15,
   "metadata": {},
   "outputs": [
    {
     "data": {
      "text/plain": [
       "array(['ip_day_hour_count', 'ip_os_day_hour_count',\n",
       "       'ip_app_day_hour_count', 'ip_app_os_day_hour_count',\n",
       "       'app_day_hour_count', 'ip_device_os_count',\n",
       "       'ip_app_device_os_count', 'ip_day_hour_countself',\n",
       "       'ip_os_day_hour_countself', 'ip_app_day_hour_countself',\n",
       "       'ip_app_os_day_hour_countself', 'app_day_hour_countself',\n",
       "       'ip_device_os_countself', 'ip_app_device_os_countself',\n",
       "       'ip_device_os_mean', 'ip_app_device_os_mean', 'ip_app_device_mean',\n",
       "       'app_device_os_mean', 'ip_device_os_time2nextclick',\n",
       "       'ip_app_device_os_time2nextclick', 'ip_app_device_time2nextclick',\n",
       "       'ip_device_os_time2previousclick',\n",
       "       'ip_app_device_os_time2previousclick',\n",
       "       'ip_app_device_time2previousclick', 'ip_device_os_countfromfuture',\n",
       "       'ip_app_device_os_countfromfuture', 'ip_app_device_countfromfuture',\n",
       "       'ip_device_os_countfrompast', 'ip_app_device_os_countfrompast',\n",
       "       'ip_app_device_countfrompast', 'ip_device_os_lasttimediff',\n",
       "       'ip_app_device_os_lasttimediff', 'ip_app_device_lasttimediff',\n",
       "       'ip_device_os_firsttimediff', 'ip_app_device_os_firsttimediff',\n",
       "       'ip_app_device_firsttimediff',\n",
       "       'matrixFact_user_iposdeviceapp_item_app',\n",
       "       'matrixFact_user_ip_item_appdeviceos',\n",
       "       'matrixFact_user_ipchannel_item_appdeviceos',\n",
       "       'ip_device_os_regression', 'ip_app_device_os_regression',\n",
       "       'ip_app_device_regression', 'ip_app_device_os_channel_regression',\n",
       "       'app', 'channel', 'device', 'os', 'hour', 'is_attributed'], dtype=object)"
      ]
     },
     "execution_count": 15,
     "metadata": {},
     "output_type": "execute_result"
    }
   ],
   "source": [
    "df_dict['day7'].columns.values"
   ]
  },
  {
   "cell_type": "code",
   "execution_count": 16,
   "metadata": {
    "collapsed": true
   },
   "outputs": [],
   "source": [
    "# get rid of extra features\n",
    "# extra = set(['matrixFact_user_iposdeviceapp_item_channel', 'matrixFact_user_iposdeviceapp_item_device'])\n",
    "extra = set(['ip_device_os_countself',\n",
    "             'ip_day_hour_countself', \n",
    "             'app_day_hour_countself',\n",
    "             'ip_app_device_os_countself',\n",
    "             'ip_app_day_hour_countself', \n",
    "             'ip_os_day_hour_countself', \n",
    "             'ip_app_os_day_hour_countself' ])\n",
    "\n",
    "# extra = set([])\n",
    "# extra = set(['ip_device_os_count',\n",
    "#              'ip_day_hour_count', \n",
    "#              'app_day_hour_count',\n",
    "#              'ip_app_device_os_count',\n",
    "#              'ip_app_day_hour_count', \n",
    "#              'ip_os_day_hour_count', \n",
    "#              'ip_app_os_day_hour_count' ])\n",
    "feature_cols = list(set(feature_cols) - extra)"
   ]
  },
  {
   "cell_type": "code",
   "execution_count": 17,
   "metadata": {},
   "outputs": [
    {
     "data": {
      "text/plain": [
       "['ip_device_os_time2nextclick',\n",
       " 'hour',\n",
       " 'ip_app_device_regression',\n",
       " 'ip_app_device_os_mean',\n",
       " 'ip_app_device_firsttimediff',\n",
       " 'os',\n",
       " 'ip_os_day_hour_count',\n",
       " 'ip_device_os_time2previousclick',\n",
       " 'ip_app_device_os_countfrompast',\n",
       " 'channel',\n",
       " 'ip_app_device_countfrompast',\n",
       " 'matrixFact_user_ip_item_appdeviceos',\n",
       " 'ip_app_device_os_count',\n",
       " 'matrixFact_user_iposdeviceapp_item_app',\n",
       " 'ip_day_hour_count',\n",
       " 'ip_app_device_os_firsttimediff',\n",
       " 'ip_app_device_os_channel_regression',\n",
       " 'ip_device_os_firsttimediff',\n",
       " 'device',\n",
       " 'app',\n",
       " 'ip_app_device_time2nextclick',\n",
       " 'ip_app_device_lasttimediff',\n",
       " 'ip_app_device_mean',\n",
       " 'ip_device_os_countfrompast',\n",
       " 'ip_app_device_os_time2nextclick',\n",
       " 'ip_app_device_os_time2previousclick',\n",
       " 'ip_app_device_time2previousclick',\n",
       " 'ip_app_device_countfromfuture',\n",
       " 'ip_app_device_os_lasttimediff',\n",
       " 'app_day_hour_count',\n",
       " 'ip_device_os_mean',\n",
       " 'ip_device_os_regression',\n",
       " 'ip_app_device_os_countfromfuture',\n",
       " 'ip_app_os_day_hour_count',\n",
       " 'ip_app_day_hour_count',\n",
       " 'ip_device_os_lasttimediff',\n",
       " 'ip_app_device_os_regression',\n",
       " 'matrixFact_user_ipchannel_item_appdeviceos',\n",
       " 'app_device_os_mean',\n",
       " 'ip_device_os_count',\n",
       " 'ip_device_os_countfromfuture']"
      ]
     },
     "execution_count": 17,
     "metadata": {},
     "output_type": "execute_result"
    }
   ],
   "source": [
    "feature_cols"
   ]
  },
  {
   "cell_type": "code",
   "execution_count": 18,
   "metadata": {
    "collapsed": true
   },
   "outputs": [],
   "source": [
    "def train_lightgbm(x_train, x_val, feature_cols, categorical_feature, params, best_round = None, target='is_attributed'):\n",
    "    param = params.copy()\n",
    "    y_train = x_train[target].values\n",
    "    y_val = x_val[target].values\n",
    "    \n",
    "    lgb_train = lgb.Dataset(x_train[feature_cols], y_train, categorical_feature = categorical_feature)\n",
    "    lgb_val = lgb.Dataset(x_val[feature_cols], y_val, categorical_feature = categorical_feature)\n",
    "    if best_round is not None:\n",
    "        param['num_rounds'] = best_round\n",
    "        del param['early_stopping_round']\n",
    "    print('start training')\n",
    "    model = lgb.train(param, train_set=lgb_train, valid_sets=lgb_val, verbose_eval=10)\n",
    "    return model"
   ]
  },
  {
   "cell_type": "code",
   "execution_count": 19,
   "metadata": {},
   "outputs": [
    {
     "name": "stdout",
     "output_type": "stream",
     "text": [
      "concat_day9day8_val_day7_equalhour_supplement_V1_extra.npy\n",
      "building train val done!\n",
      "start training\n"
     ]
    },
    {
     "name": "stderr",
     "output_type": "stream",
     "text": [
      "/home/kai/anaconda3/lib/python3.6/site-packages/lightgbm/engine.py:99: UserWarning: Found `num_rounds` in params. Will use it instead of argument\n",
      "  warnings.warn(\"Found `{}` in params. Will use it instead of argument\".format(alias))\n",
      "/home/kai/anaconda3/lib/python3.6/site-packages/lightgbm/engine.py:104: UserWarning: Found `early_stopping_round` in params. Will use it instead of argument\n",
      "  warnings.warn(\"Found `{}` in params. Will use it instead of argument\".format(alias))\n",
      "/home/kai/anaconda3/lib/python3.6/site-packages/lightgbm/basic.py:1027: UserWarning: Using categorical_feature in Dataset.\n",
      "  warnings.warn('Using categorical_feature in Dataset.')\n",
      "/home/kai/anaconda3/lib/python3.6/site-packages/lightgbm/basic.py:668: UserWarning: categorical_feature in param dict is overrided.\n",
      "  warnings.warn('categorical_feature in param dict is overrided.')\n"
     ]
    },
    {
     "name": "stdout",
     "output_type": "stream",
     "text": [
      "Training until validation scores don't improve for 60 rounds.\n",
      "[10]\tvalid_0's auc: 0.977104\n",
      "[20]\tvalid_0's auc: 0.97848\n",
      "[30]\tvalid_0's auc: 0.979543\n",
      "[40]\tvalid_0's auc: 0.980086\n",
      "[50]\tvalid_0's auc: 0.980625\n",
      "[60]\tvalid_0's auc: 0.980941\n",
      "[70]\tvalid_0's auc: 0.981102\n",
      "[80]\tvalid_0's auc: 0.981188\n",
      "[90]\tvalid_0's auc: 0.98117\n",
      "[100]\tvalid_0's auc: 0.981218\n",
      "[110]\tvalid_0's auc: 0.981217\n",
      "[120]\tvalid_0's auc: 0.981238\n",
      "[130]\tvalid_0's auc: 0.981242\n",
      "[140]\tvalid_0's auc: 0.981225\n",
      "[150]\tvalid_0's auc: 0.98122\n",
      "[160]\tvalid_0's auc: 0.981199\n",
      "[170]\tvalid_0's auc: 0.981191\n",
      "[180]\tvalid_0's auc: 0.981168\n",
      "Early stopping, best iteration is:\n",
      "[127]\tvalid_0's auc: 0.981254\n",
      "start training\n",
      "[10]\tvalid_0's auc: 0.978195\n",
      "[20]\tvalid_0's auc: 0.980116\n"
     ]
    },
    {
     "ename": "KeyboardInterrupt",
     "evalue": "",
     "output_type": "error",
     "traceback": [
      "\u001b[0;31m---------------------------------------------------------------------------\u001b[0m",
      "\u001b[0;31mKeyboardInterrupt\u001b[0m                         Traceback (most recent call last)",
      "\u001b[0;32m<ipython-input-19-e1f1510fc073>\u001b[0m in \u001b[0;36m<module>\u001b[0;34m()\u001b[0m\n\u001b[1;32m      9\u001b[0m     \u001b[0mbest_round\u001b[0m \u001b[0;34m=\u001b[0m \u001b[0mmodel\u001b[0m\u001b[0;34m.\u001b[0m\u001b[0mbest_iteration\u001b[0m\u001b[0;34m\u001b[0m\u001b[0m\n\u001b[1;32m     10\u001b[0m     \u001b[0mdf_all\u001b[0m \u001b[0;34m=\u001b[0m \u001b[0mpd\u001b[0m\u001b[0;34m.\u001b[0m\u001b[0mconcat\u001b[0m\u001b[0;34m(\u001b[0m\u001b[0;34m[\u001b[0m\u001b[0mtrainset\u001b[0m\u001b[0;34m,\u001b[0m \u001b[0mvalset\u001b[0m\u001b[0;34m]\u001b[0m\u001b[0;34m)\u001b[0m\u001b[0;34m\u001b[0m\u001b[0m\n\u001b[0;32m---> 11\u001b[0;31m     \u001b[0mmodel\u001b[0m \u001b[0;34m=\u001b[0m \u001b[0mtrain_lightgbm\u001b[0m\u001b[0;34m(\u001b[0m\u001b[0mdf_all\u001b[0m\u001b[0;34m,\u001b[0m \u001b[0mvalset\u001b[0m\u001b[0;34m,\u001b[0m \u001b[0mfeature_cols\u001b[0m\u001b[0;34m,\u001b[0m \u001b[0mcategorical_col\u001b[0m\u001b[0;34m,\u001b[0m \u001b[0mparams\u001b[0m\u001b[0;34m,\u001b[0m \u001b[0mbest_round\u001b[0m\u001b[0;34m)\u001b[0m\u001b[0;34m\u001b[0m\u001b[0m\n\u001b[0m\u001b[1;32m     12\u001b[0m     \u001b[0;32mdel\u001b[0m \u001b[0mdf_all\u001b[0m\u001b[0;34m\u001b[0m\u001b[0m\n\u001b[1;32m     13\u001b[0m     \u001b[0mgc\u001b[0m\u001b[0;34m.\u001b[0m\u001b[0mcollect\u001b[0m\u001b[0;34m(\u001b[0m\u001b[0;34m)\u001b[0m\u001b[0;34m\u001b[0m\u001b[0m\n",
      "\u001b[0;32m<ipython-input-18-cbe2c14d1b9d>\u001b[0m in \u001b[0;36mtrain_lightgbm\u001b[0;34m(x_train, x_val, feature_cols, categorical_feature, params, best_round, target)\u001b[0m\n\u001b[1;32m     10\u001b[0m         \u001b[0;32mdel\u001b[0m \u001b[0mparam\u001b[0m\u001b[0;34m[\u001b[0m\u001b[0;34m'early_stopping_round'\u001b[0m\u001b[0;34m]\u001b[0m\u001b[0;34m\u001b[0m\u001b[0m\n\u001b[1;32m     11\u001b[0m     \u001b[0mprint\u001b[0m\u001b[0;34m(\u001b[0m\u001b[0;34m'start training'\u001b[0m\u001b[0;34m)\u001b[0m\u001b[0;34m\u001b[0m\u001b[0m\n\u001b[0;32m---> 12\u001b[0;31m     \u001b[0mmodel\u001b[0m \u001b[0;34m=\u001b[0m \u001b[0mlgb\u001b[0m\u001b[0;34m.\u001b[0m\u001b[0mtrain\u001b[0m\u001b[0;34m(\u001b[0m\u001b[0mparam\u001b[0m\u001b[0;34m,\u001b[0m \u001b[0mtrain_set\u001b[0m\u001b[0;34m=\u001b[0m\u001b[0mlgb_train\u001b[0m\u001b[0;34m,\u001b[0m \u001b[0mvalid_sets\u001b[0m\u001b[0;34m=\u001b[0m\u001b[0mlgb_val\u001b[0m\u001b[0;34m,\u001b[0m \u001b[0mverbose_eval\u001b[0m\u001b[0;34m=\u001b[0m\u001b[0;36m10\u001b[0m\u001b[0;34m)\u001b[0m\u001b[0;34m\u001b[0m\u001b[0m\n\u001b[0m\u001b[1;32m     13\u001b[0m     \u001b[0;32mreturn\u001b[0m \u001b[0mmodel\u001b[0m\u001b[0;34m\u001b[0m\u001b[0m\n",
      "\u001b[0;32m~/anaconda3/lib/python3.6/site-packages/lightgbm/engine.py\u001b[0m in \u001b[0;36mtrain\u001b[0;34m(params, train_set, num_boost_round, valid_sets, valid_names, fobj, feval, init_model, feature_name, categorical_feature, early_stopping_rounds, evals_result, verbose_eval, learning_rates, keep_training_booster, callbacks)\u001b[0m\n\u001b[1;32m    199\u001b[0m                                     evaluation_result_list=None))\n\u001b[1;32m    200\u001b[0m \u001b[0;34m\u001b[0m\u001b[0m\n\u001b[0;32m--> 201\u001b[0;31m         \u001b[0mbooster\u001b[0m\u001b[0;34m.\u001b[0m\u001b[0mupdate\u001b[0m\u001b[0;34m(\u001b[0m\u001b[0mfobj\u001b[0m\u001b[0;34m=\u001b[0m\u001b[0mfobj\u001b[0m\u001b[0;34m)\u001b[0m\u001b[0;34m\u001b[0m\u001b[0m\n\u001b[0m\u001b[1;32m    202\u001b[0m \u001b[0;34m\u001b[0m\u001b[0m\n\u001b[1;32m    203\u001b[0m         \u001b[0mevaluation_result_list\u001b[0m \u001b[0;34m=\u001b[0m \u001b[0;34m[\u001b[0m\u001b[0;34m]\u001b[0m\u001b[0;34m\u001b[0m\u001b[0m\n",
      "\u001b[0;32m~/anaconda3/lib/python3.6/site-packages/lightgbm/basic.py\u001b[0m in \u001b[0;36mupdate\u001b[0;34m(self, train_set, fobj)\u001b[0m\n\u001b[1;32m   1508\u001b[0m             _safe_call(_LIB.LGBM_BoosterUpdateOneIter(\n\u001b[1;32m   1509\u001b[0m                 \u001b[0mself\u001b[0m\u001b[0;34m.\u001b[0m\u001b[0mhandle\u001b[0m\u001b[0;34m,\u001b[0m\u001b[0;34m\u001b[0m\u001b[0m\n\u001b[0;32m-> 1510\u001b[0;31m                 ctypes.byref(is_finished)))\n\u001b[0m\u001b[1;32m   1511\u001b[0m             \u001b[0mself\u001b[0m\u001b[0;34m.\u001b[0m\u001b[0m__is_predicted_cur_iter\u001b[0m \u001b[0;34m=\u001b[0m \u001b[0;34m[\u001b[0m\u001b[0;32mFalse\u001b[0m \u001b[0;32mfor\u001b[0m \u001b[0m_\u001b[0m \u001b[0;32min\u001b[0m \u001b[0mrange_\u001b[0m\u001b[0;34m(\u001b[0m\u001b[0mself\u001b[0m\u001b[0;34m.\u001b[0m\u001b[0m__num_dataset\u001b[0m\u001b[0;34m)\u001b[0m\u001b[0;34m]\u001b[0m\u001b[0;34m\u001b[0m\u001b[0m\n\u001b[1;32m   1512\u001b[0m             \u001b[0;32mreturn\u001b[0m \u001b[0mis_finished\u001b[0m\u001b[0;34m.\u001b[0m\u001b[0mvalue\u001b[0m \u001b[0;34m==\u001b[0m \u001b[0;36m1\u001b[0m\u001b[0;34m\u001b[0m\u001b[0m\n",
      "\u001b[0;31mKeyboardInterrupt\u001b[0m: "
     ]
    }
   ],
   "source": [
    "for day in day_list:\n",
    "    train_day = list(set(day_list)-set([day]))\n",
    "    file_name = 'concat_{}{}_val_{}_equalhour_supplement_V1_extra.npy'.format(train_day[0],train_day[1],day)\n",
    "    print(file_name)\n",
    "    trainset = pd.concat([df_dict[train_day[0]],df_dict[train_day[1]]])\n",
    "    valset = df_dict[day]\n",
    "    print('building train val done!')\n",
    "    model = train_lightgbm(trainset, valset, feature_cols, categorical_col, params)\n",
    "    best_round = model.best_iteration\n",
    "    df_all = pd.concat([trainset, valset])\n",
    "    model = train_lightgbm(df_all, valset, feature_cols, categorical_col, params, best_round)\n",
    "    del df_all\n",
    "    gc.collect()\n",
    "    pred = model.predict(df_dict['test'][feature_cols])\n",
    "    np.save(load_path+file_name, pred)\n",
    "    \n",
    "    # prediction\n",
    "    df_test_raw = pd.read_csv('/home/kai/data/kaggle/talkingdata/data/test.csv')\n",
    "    print('loading file done!')\n",
    "    df_sub = pd.DataFrame()\n",
    "    df_sub['click_id'] = df_test_raw['click_id']\n",
    "    df_sub['is_attributed'] = pred\n",
    "    print('predicting file done!')\n",
    "    df_sub.to_csv('/home/kai/data/kaggle/talkingdata/wl/data/submission/concat_{}{}_val_{}_equalhour_supplement_V1_extra.csv.gz'.format(train_day[0],train_day[1],day), compression='gzip', index=False)\n",
    "\n",
    "    "
   ]
  },
  {
   "cell_type": "code",
   "execution_count": 13,
   "metadata": {},
   "outputs": [
    {
     "data": {
      "text/plain": [
       "matrixFact_user_ip_item_appdeviceos           3.258546e+08\n",
       "matrixFact_user_iposdeviceapp_item_app        7.112340e+07\n",
       "matrixFact_user_ipchannel_item_appdeviceos    2.337828e+07\n",
       "app_device_os_mean                            1.697719e+07\n",
       "channel                                       1.335874e+07\n",
       "ip_app_device_os_time2nextclick               1.112984e+07\n",
       "ip_app_device_os_lasttimediff                 6.341537e+06\n",
       "os                                            5.938842e+06\n",
       "app                                           5.669180e+06\n",
       "ip_day_hour_count                             5.045337e+06\n",
       "ip_device_os_count                            3.062189e+06\n",
       "ip_app_device_os_countfromfuture              2.117160e+06\n",
       "ip_app_os_day_hour_count                      1.342405e+06\n",
       "ip_app_device_os_count                        1.310539e+06\n",
       "ip_app_device_mean                            1.298044e+06\n",
       "hour                                          1.106012e+06\n",
       "ip_app_device_firsttimediff                   9.815325e+05\n",
       "ip_device_os_lasttimediff                     9.525133e+05\n",
       "ip_app_device_time2nextclick                  8.438998e+05\n",
       "ip_app_device_regression                      8.280236e+05\n",
       "ip_device_os_countfromfuture                  7.489696e+05\n",
       "ip_app_device_countfrompast                   5.592162e+05\n",
       "ip_device_os_firsttimediff                    5.093532e+05\n",
       "ip_app_device_countfromfuture                 4.632882e+05\n",
       "ip_device_os_regression                       4.203562e+05\n",
       "ip_app_device_lasttimediff                    4.129824e+05\n",
       "ip_device_os_countfrompast                    4.013106e+05\n",
       "ip_app_device_os_countfrompast                3.671829e+05\n",
       "device                                        3.455390e+05\n",
       "ip_device_os_mean                             3.292633e+05\n",
       "ip_app_device_os_time2previousclick           3.267791e+05\n",
       "ip_app_device_time2previousclick              3.009832e+05\n",
       "ip_device_os_time2nextclick                   2.815221e+05\n",
       "ip_app_day_hour_count                         2.605949e+05\n",
       "app_day_hour_count                            2.514463e+05\n",
       "ip_os_day_hour_count                          2.249134e+05\n",
       "ip_app_device_os_firsttimediff                2.068067e+05\n",
       "ip_device_os_time2previousclick               1.658439e+05\n",
       "ip_app_device_os_mean                         8.650078e+04\n",
       "ip_app_device_os_regression                   6.387165e+04\n",
       "dtype: float64"
      ]
     },
     "execution_count": 13,
     "metadata": {},
     "output_type": "execute_result"
    }
   ],
   "source": [
    "importance = pd.Series(model.feature_importance(importance_type='gain'), index=feature_cols)\n",
    "# importance = pd.Series(model.feature_importance(), index=feature_cols)\n",
    "importance = importance.sort_values(ascending=False)\n",
    "if len(model.feature_importance()) != len(feature_cols):\n",
    "    raise ValueError('Feature importance has length: {}, \\n while feature number is {}'.\n",
    "                     format(len(model.feature_importance()), len(feature_cols)))\n",
    "    \n",
    "importance"
   ]
  },
  {
   "cell_type": "markdown",
   "metadata": {},
   "source": [
    "# Average"
   ]
  },
  {
   "cell_type": "code",
   "execution_count": 14,
   "metadata": {
    "collapsed": true
   },
   "outputs": [],
   "source": [
    "#### load each and average\n",
    "load_path = '/home/kai/data/kaggle/talkingdata/wl/data/equalhour/'\n",
    "day7 = np.load(load_path+'concat_day8day9_val_day7_equalhour_supplement_V1.npy')\n",
    "day8 = np.load(load_path+'concat_day7day9_val_day8_equalhour_supplement_V1.npy')\n",
    "day9 = np.load(load_path+'concat_day7day8_val_day9_equalhour_supplement_V1.npy')\n",
    "\n",
    "pred = (day7 + day8 + day9)/3"
   ]
  },
  {
   "cell_type": "code",
   "execution_count": 16,
   "metadata": {},
   "outputs": [
    {
     "name": "stdout",
     "output_type": "stream",
     "text": [
      "loading file done!\n",
      "predicting file done!\n"
     ]
    }
   ],
   "source": [
    "# prediction\n",
    "df_test_raw = pd.read_csv('/home/kai/data/kaggle/talkingdata/data/test.csv')\n",
    "print('loading file done!')\n",
    "df_sub = pd.DataFrame()\n",
    "df_sub['click_id'] = df_test_raw['click_id']\n",
    "df_sub['is_attributed'] = pred\n",
    "print('predicting file done!')\n",
    "df_sub.to_csv('/home/kai/data/kaggle/talkingdata/wl/data/submission/equal_hour_blend_equalhour_supplement_V1.csv.gz', compression='gzip', index=False)\n"
   ]
  },
  {
   "cell_type": "code",
   "execution_count": null,
   "metadata": {
    "collapsed": true
   },
   "outputs": [],
   "source": []
  }
 ],
 "metadata": {
  "kernelspec": {
   "display_name": "Python 3",
   "language": "python",
   "name": "python3"
  },
  "language_info": {
   "codemirror_mode": {
    "name": "ipython",
    "version": 3
   },
   "file_extension": ".py",
   "mimetype": "text/x-python",
   "name": "python",
   "nbconvert_exporter": "python",
   "pygments_lexer": "ipython3",
   "version": "3.6.3"
  }
 },
 "nbformat": 4,
 "nbformat_minor": 2
}
