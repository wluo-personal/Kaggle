{
 "cells": [
  {
   "cell_type": "code",
   "execution_count": 1,
   "metadata": {
    "collapsed": true
   },
   "outputs": [],
   "source": [
    "import lightgbm as lgb\n",
    "import numpy as np\n",
    "import pandas as pd"
   ]
  },
  {
   "cell_type": "code",
   "execution_count": 2,
   "metadata": {
    "collapsed": true
   },
   "outputs": [],
   "source": [
    "df = pd.DataFrame()\n",
    "leng = 10000\n",
    "df['f1'] = np.concatenate([np.random.normal(0.2, 0.5, leng), np.random.normal(1, 0.5, leng)])\n",
    "df['f2'] = np.concatenate([np.random.normal(0.2, 0.5, leng), np.random.normal(1, 0.5, leng)])\n",
    "df['f3'] = np.concatenate([np.random.normal(0.2, 0.5, leng), np.random.normal(1, 0.5, leng)])\n",
    "df['f4'] = np.concatenate([np.random.normal(0.2, 0.5, leng), np.random.normal(1, 0.5, leng)])\n",
    "df['label'] = np.concatenate([ np.zeros(leng), np.ones(leng),])\n",
    "\n",
    "dff = df.sample(len(df))\n",
    "ratio =0.8\n",
    "length = int(len(dff) * ratio)\n",
    "trainset = dff.iloc[length:]\n",
    "valset = dff.iloc[:length]"
   ]
  },
  {
   "cell_type": "code",
   "execution_count": 3,
   "metadata": {
    "collapsed": true
   },
   "outputs": [],
   "source": [
    "y_train = trainset['label'].values\n",
    "y_val = valset['label'].values\n",
    "\n",
    "lgb_train = lgb.Dataset(trainset[['f1', 'f2', 'f3', 'f4']], y_train)\n",
    "lgb_val = lgb.Dataset(valset[['f1', 'f2', 'f3', 'f4']], y_val )"
   ]
  },
  {
   "cell_type": "code",
   "execution_count": 4,
   "metadata": {},
   "outputs": [
    {
     "name": "stderr",
     "output_type": "stream",
     "text": [
      "/home/kai/anaconda3/lib/python3.6/site-packages/lightgbm/engine.py:99: UserWarning: Found `num_rounds` in params. Will use it instead of argument\n",
      "  warnings.warn(\"Found `{}` in params. Will use it instead of argument\".format(alias))\n",
      "/home/kai/anaconda3/lib/python3.6/site-packages/lightgbm/engine.py:104: UserWarning: Found `early_stopping_round` in params. Will use it instead of argument\n",
      "  warnings.warn(\"Found `{}` in params. Will use it instead of argument\".format(alias))\n"
     ]
    },
    {
     "name": "stdout",
     "output_type": "stream",
     "text": [
      "Training until validation scores don't improve for 100 rounds.\n",
      "[10]\tvalid_0's auc: 0.907521\n",
      "[20]\tvalid_0's auc: 0.910371\n",
      "[30]\tvalid_0's auc: 0.927849\n",
      "[40]\tvalid_0's auc: 0.948537\n",
      "[50]\tvalid_0's auc: 0.960094\n",
      "[60]\tvalid_0's auc: 0.970319\n",
      "[70]\tvalid_0's auc: 0.97522\n",
      "[80]\tvalid_0's auc: 0.977918\n",
      "[90]\tvalid_0's auc: 0.979791\n",
      "[100]\tvalid_0's auc: 0.980737\n",
      "[110]\tvalid_0's auc: 0.981642\n",
      "[120]\tvalid_0's auc: 0.982304\n",
      "[130]\tvalid_0's auc: 0.982853\n",
      "[140]\tvalid_0's auc: 0.983065\n",
      "[150]\tvalid_0's auc: 0.983073\n",
      "[160]\tvalid_0's auc: 0.983257\n",
      "[170]\tvalid_0's auc: 0.983279\n",
      "[180]\tvalid_0's auc: 0.983379\n",
      "[190]\tvalid_0's auc: 0.98375\n",
      "[200]\tvalid_0's auc: 0.983931\n",
      "[210]\tvalid_0's auc: 0.984188\n",
      "[220]\tvalid_0's auc: 0.984266\n",
      "[230]\tvalid_0's auc: 0.98431\n",
      "[240]\tvalid_0's auc: 0.984286\n",
      "[250]\tvalid_0's auc: 0.98429\n",
      "[260]\tvalid_0's auc: 0.984355\n",
      "[270]\tvalid_0's auc: 0.984406\n",
      "[280]\tvalid_0's auc: 0.984524\n",
      "[290]\tvalid_0's auc: 0.984544\n",
      "[300]\tvalid_0's auc: 0.98456\n",
      "[310]\tvalid_0's auc: 0.984647\n",
      "[320]\tvalid_0's auc: 0.984571\n",
      "[330]\tvalid_0's auc: 0.984452\n",
      "[340]\tvalid_0's auc: 0.984326\n",
      "[350]\tvalid_0's auc: 0.984368\n",
      "[360]\tvalid_0's auc: 0.984476\n",
      "[370]\tvalid_0's auc: 0.984421\n",
      "[380]\tvalid_0's auc: 0.984471\n",
      "[390]\tvalid_0's auc: 0.984499\n",
      "[400]\tvalid_0's auc: 0.984669\n",
      "[410]\tvalid_0's auc: 0.984469\n",
      "[420]\tvalid_0's auc: 0.984461\n",
      "[430]\tvalid_0's auc: 0.984442\n",
      "[440]\tvalid_0's auc: 0.984417\n",
      "[450]\tvalid_0's auc: 0.984393\n",
      "[460]\tvalid_0's auc: 0.98447\n",
      "[470]\tvalid_0's auc: 0.984423\n",
      "[480]\tvalid_0's auc: 0.984462\n",
      "[490]\tvalid_0's auc: 0.984445\n",
      "[500]\tvalid_0's auc: 0.984327\n",
      "Early stopping, best iteration is:\n",
      "[402]\tvalid_0's auc: 0.984719\n"
     ]
    }
   ],
   "source": [
    "params = {\n",
    "        'objective': 'binary',\n",
    "        'boosting': 'gbdt',\n",
    "        'num_rounds': 2000,\n",
    "        'learning_rate': 0.1,\n",
    "        'num_leaves': 3,\n",
    "        'num_threads': 6, # best speed: set to number of real cpu cores, which is vCPU/2\n",
    "        'device': 'cpu',\n",
    "        'max_depth': -1, # no limit. This is used to deal with over-fitting when #data is small.\n",
    "        'min_data_in_leaf': 390,  #minimal number of data in one leaf. Can be used to deal with over-fitting\n",
    "        'feature_fraction': 0.7, #For example, if set to 0.8, will select 80% features before training each tree.  speed up training / deal with over-fitting\n",
    "        'feature_fraction_seed': 1,\n",
    "        'early_stopping_round':100,\n",
    "        'bagging_fraction': 0.7, #Randomly select part of data without resampling\n",
    "        'bagging_freq': 1, #frequency for bagging, 0 means disable bagging. k means will perform bagging at every k iteration. to enable bagging, bagging_fraction should be set as well\n",
    "        'bagging_seed': 1,\n",
    "        #'max_bin': 255,\n",
    "        'verbose': 0,\n",
    "        'scale_pos_weight': 400,\n",
    "        'metric' : [ 'auc']\n",
    "    }\n",
    "\n",
    "model = lgb.train(params, train_set=lgb_train, valid_sets=lgb_val, verbose_eval=10)"
   ]
  },
  {
   "cell_type": "code",
   "execution_count": 5,
   "metadata": {},
   "outputs": [
    {
     "data": {
      "text/plain": [
       "402"
      ]
     },
     "execution_count": 5,
     "metadata": {},
     "output_type": "execute_result"
    }
   ],
   "source": [
    "model.best_iteration"
   ]
  },
  {
   "cell_type": "code",
   "execution_count": 6,
   "metadata": {
    "collapsed": true
   },
   "outputs": [],
   "source": [
    "model.save_model('gbm_test')"
   ]
  },
  {
   "cell_type": "code",
   "execution_count": 7,
   "metadata": {
    "collapsed": true
   },
   "outputs": [],
   "source": [
    "model1 = lgb.Booster(model_file='gbm_test')"
   ]
  },
  {
   "cell_type": "code",
   "execution_count": 13,
   "metadata": {
    "collapsed": true
   },
   "outputs": [],
   "source": [
    "aa = model1.predict(valset[['f1', 'f2', 'f3', 'f4']],num_iteration=230)"
   ]
  },
  {
   "cell_type": "code",
   "execution_count": 14,
   "metadata": {},
   "outputs": [
    {
     "data": {
      "text/plain": [
       "0.98430952319233644"
      ]
     },
     "execution_count": 14,
     "metadata": {},
     "output_type": "execute_result"
    }
   ],
   "source": [
    "from sklearn.metrics import roc_auc_score\n",
    "roc_auc_score(y_val, aa)"
   ]
  },
  {
   "cell_type": "code",
   "execution_count": null,
   "metadata": {
    "collapsed": true
   },
   "outputs": [],
   "source": []
  }
 ],
 "metadata": {
  "kernelspec": {
   "display_name": "Python 3",
   "language": "python",
   "name": "python3"
  },
  "language_info": {
   "codemirror_mode": {
    "name": "ipython",
    "version": 3
   },
   "file_extension": ".py",
   "mimetype": "text/x-python",
   "name": "python",
   "nbconvert_exporter": "python",
   "pygments_lexer": "ipython3",
   "version": "3.6.3"
  }
 },
 "nbformat": 4,
 "nbformat_minor": 2
}
