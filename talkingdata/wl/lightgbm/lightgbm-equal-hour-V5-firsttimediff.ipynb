{
 "cells": [
  {
   "cell_type": "code",
   "execution_count": 1,
   "metadata": {
    "collapsed": true
   },
   "outputs": [],
   "source": [
    "import pandas as pd\n",
    "import lightgbm as lgb\n",
    "import numpy as np\n",
    "import gc"
   ]
  },
  {
   "cell_type": "code",
   "execution_count": 2,
   "metadata": {},
   "outputs": [
    {
     "name": "stdout",
     "output_type": "stream",
     "text": [
      "day7_features_matrixregV5_firsttime.csv\n",
      "day8_features_matrixregV5_firsttime.csv\n",
      "day9_features_matrixregV5_firsttime.csv\n",
      "test_features_matrixregV5_firsttime.csv\n"
     ]
    }
   ],
   "source": [
    "load_path = '/home/kai/data/kaggle/talkingdata/wl/data/equalhour/'\n",
    "file_format = '{}_features_matrixregV5_firsttime.csv'\n",
    "day_list = ['day7', 'day8', 'day9']\n",
    "df_dict = {}\n",
    "for file in ['day7', 'day8', 'day9','test']: \n",
    "    df_dict[file] = pd.read_csv(load_path+file_format.format(file))\n",
    "    print(file_format.format(file))\n",
    "    "
   ]
  },
  {
   "cell_type": "markdown",
   "metadata": {},
   "source": [
    "# load more hours"
   ]
  },
  {
   "cell_type": "code",
   "execution_count": 14,
   "metadata": {},
   "outputs": [
    {
     "name": "stdout",
     "output_type": "stream",
     "text": [
      "day7_features_CountInTrainTest.csv\n",
      "day8_features_CountInTrainTest.csv\n",
      "day9_features_CountInTrainTest.csv\n",
      "test_features_CountInTrainTest.csv\n"
     ]
    }
   ],
   "source": [
    "file_format = '{}_features_CountInTrainTest.csv'\n",
    "day_list = ['day7', 'day8', 'day9']\n",
    "df_counts= {}\n",
    "for file in ['day7', 'day8', 'day9','test']: \n",
    "    df_counts[file] = pd.read_csv(load_path+file_format.format(file))\n",
    "    print(file_format.format(file))"
   ]
  },
  {
   "cell_type": "code",
   "execution_count": 16,
   "metadata": {},
   "outputs": [
    {
     "name": "stdout",
     "output_type": "stream",
     "text": [
      "day7\n",
      "day8\n",
      "day9\n",
      "test\n"
     ]
    }
   ],
   "source": [
    "for file in ['day7', 'day8', 'day9','test']: \n",
    "    print(file)\n",
    "    for col in df_counts['test'].columns:\n",
    "        df_dict[file][col] = df_counts[file][col]"
   ]
  },
  {
   "cell_type": "code",
   "execution_count": 17,
   "metadata": {},
   "outputs": [
    {
     "data": {
      "text/plain": [
       "217"
      ]
     },
     "execution_count": 17,
     "metadata": {},
     "output_type": "execute_result"
    }
   ],
   "source": [
    "del df_counts\n",
    "gc.collect()"
   ]
  },
  {
   "cell_type": "markdown",
   "metadata": {},
   "source": [
    "# define parameter"
   ]
  },
  {
   "cell_type": "code",
   "execution_count": 18,
   "metadata": {
    "collapsed": true
   },
   "outputs": [],
   "source": [
    "target = 'is_attributed'\n",
    "\n",
    "day_list = ['day7', 'day8', 'day9']\n",
    "\n",
    "combine = 0\n",
    "params = {\n",
    "        'objective': 'binary',\n",
    "        'boosting': 'gbdt',\n",
    "        'num_rounds': 2000,\n",
    "        'learning_rate': 0.1,\n",
    "        'num_leaves': 61,\n",
    "        'num_threads': 4, # best speed: set to number of real cpu cores, which is vCPU/2\n",
    "        'device': 'cpu',\n",
    "        'max_depth': -1, # no limit. This is used to deal with over-fitting when #data is small.\n",
    "        'min_data_in_leaf': 390,  #minimal number of data in one leaf. Can be used to deal with over-fitting\n",
    "        'feature_fraction': 0.7, #For example, if set to 0.8, will select 80% features before training each tree.  speed up training / deal with over-fitting\n",
    "        'feature_fraction_seed': 1,\n",
    "        'early_stopping_round':60,\n",
    "        'bagging_fraction': 0.7, #Randomly select part of data without resampling\n",
    "        'bagging_freq': 1, #frequency for bagging, 0 means disable bagging. k means will perform bagging at every k iteration. to enable bagging, bagging_fraction should be set as well\n",
    "        'bagging_seed': 1,\n",
    "        'verbose': 0,\n",
    "        'scale_pos_weight': 400,\n",
    "        'metric' : [ 'auc']\n",
    "    }\n",
    "\n",
    "categorical_col = [ 'app', 'device', 'os', 'channel', 'hour']\n",
    "feature_cols = list(df_dict['test'].columns.values)"
   ]
  },
  {
   "cell_type": "code",
   "execution_count": 19,
   "metadata": {},
   "outputs": [
    {
     "data": {
      "text/plain": [
       "array(['ip_day_hour_count', 'ip_os_day_hour_count',\n",
       "       'ip_app_day_hour_count', 'ip_app_os_day_hour_count',\n",
       "       'app_day_hour_count', 'ip_device_os_count',\n",
       "       'ip_app_device_os_count', 'ip_device_os_mean',\n",
       "       'ip_app_device_os_mean', 'ip_app_device_mean', 'app_device_os_mean',\n",
       "       'ip_device_os_time2nextclick', 'ip_app_device_os_time2nextclick',\n",
       "       'ip_app_device_time2nextclick',\n",
       "       'ip_app_device_os_channel_time2nextclick',\n",
       "       'ip_device_os_time2previousclick',\n",
       "       'ip_app_device_os_time2previousclick',\n",
       "       'ip_app_device_time2previousclick',\n",
       "       'ip_app_device_os_channel_time2previousclick',\n",
       "       'ip_device_os_countfromfuture', 'ip_app_device_os_countfromfuture',\n",
       "       'ip_app_device_countfromfuture',\n",
       "       'ip_app_device_os_channel_countfromfuture',\n",
       "       'ip_device_os_countfrompast', 'ip_app_device_os_countfrompast',\n",
       "       'ip_app_device_countfrompast',\n",
       "       'ip_app_device_os_channel_countfrompast',\n",
       "       'ip_device_os_lasttimediff', 'ip_app_device_os_lasttimediff',\n",
       "       'ip_app_device_lasttimediff',\n",
       "       'ip_app_device_os_channel_lasttimediff',\n",
       "       'ip_device_os_firsttimediff', 'ip_app_device_os_firsttimediff',\n",
       "       'ip_app_device_firsttimediff',\n",
       "       'ip_app_device_os_channel_firsttimediff',\n",
       "       'matrixFact_user_iposdeviceapp_item_app',\n",
       "       'matrixFact_user_ip_item_appdeviceos',\n",
       "       'matrixFact_user_ipchannel_item_appdeviceos',\n",
       "       'ip_device_os_regression', 'ip_app_device_os_regression',\n",
       "       'ip_app_device_regression', 'ip_app_device_os_channel_regression',\n",
       "       'app', 'channel', 'device', 'os', 'hour', 'is_attributed',\n",
       "       'ip_day_hour_countInTrain', 'ip_os_day_hour_countInTrain',\n",
       "       'ip_app_day_hour_countInTrain', 'ip_app_os_day_hour_countInTrain',\n",
       "       'app_day_hour_countInTrain', 'ip_device_os_countInTrain',\n",
       "       'ip_app_device_os_countInTrain', 'ip_day_hour_countInTest',\n",
       "       'ip_os_day_hour_countInTest', 'ip_app_day_hour_countInTest',\n",
       "       'ip_app_os_day_hour_countInTest', 'app_day_hour_countInTest',\n",
       "       'ip_device_os_countInTest', 'ip_app_device_os_countInTest'], dtype=object)"
      ]
     },
     "execution_count": 19,
     "metadata": {},
     "output_type": "execute_result"
    }
   ],
   "source": [
    "df_dict['day7'].columns.values"
   ]
  },
  {
   "cell_type": "code",
   "execution_count": 20,
   "metadata": {
    "collapsed": true
   },
   "outputs": [],
   "source": [
    "# get rid of extra features\n",
    "# extra = set(['matrixFact_user_iposdeviceapp_item_channel', 'matrixFact_user_iposdeviceapp_item_device'])\n",
    "extra = set(['ip_app_device_os_channel_time2nextclick',\n",
    "             'ip_app_device_os_channel_time2previousclick', \n",
    "             'ip_app_device_os_channel_countfromfuture',\n",
    "             'ip_app_device_os_channel_countfrompast',\n",
    "             'ip_app_device_os_channel_lasttimediff', \n",
    "             'ip_app_device_os_channel_firsttimediff', \n",
    "             'ip_app_device_os_channel_regression' ])\n",
    "\n",
    "# extra = set([])\n",
    "# extra = set(['ip_app_device_mean',\n",
    "#              'ip_app_device_time2nextclick', \n",
    "#              'ip_app_device_time2previousclick',\n",
    "#              'ip_app_device_countfromfuture',\n",
    "#              'ip_app_device_countfrompast', \n",
    "#              'ip_app_device_lasttimediff', \n",
    "#              'ip_app_device_regression'])\n",
    "feature_cols = list(set(feature_cols) - extra)"
   ]
  },
  {
   "cell_type": "code",
   "execution_count": 21,
   "metadata": {},
   "outputs": [
    {
     "data": {
      "text/plain": [
       "['ip_app_device_mean',\n",
       " 'ip_device_os_lasttimediff',\n",
       " 'ip_app_device_countfrompast',\n",
       " 'ip_day_hour_countInTest',\n",
       " 'device',\n",
       " 'ip_app_day_hour_countInTest',\n",
       " 'app_day_hour_count',\n",
       " 'channel',\n",
       " 'ip_device_os_count',\n",
       " 'ip_device_os_time2nextclick',\n",
       " 'matrixFact_user_ipchannel_item_appdeviceos',\n",
       " 'ip_app_device_os_regression',\n",
       " 'ip_app_device_firsttimediff',\n",
       " 'hour',\n",
       " 'ip_os_day_hour_count',\n",
       " 'ip_day_hour_count',\n",
       " 'ip_app_device_time2previousclick',\n",
       " 'os',\n",
       " 'ip_app_device_os_count',\n",
       " 'ip_app_device_os_countfrompast',\n",
       " 'ip_app_device_countfromfuture',\n",
       " 'ip_app_os_day_hour_countInTest',\n",
       " 'ip_device_os_regression',\n",
       " 'app_device_os_mean',\n",
       " 'ip_device_os_countfrompast',\n",
       " 'ip_app_device_os_lasttimediff',\n",
       " 'ip_os_day_hour_countInTest',\n",
       " 'ip_app_device_os_countfromfuture',\n",
       " 'ip_app_os_day_hour_count',\n",
       " 'ip_app_device_os_firsttimediff',\n",
       " 'ip_device_os_countfromfuture',\n",
       " 'matrixFact_user_iposdeviceapp_item_app',\n",
       " 'ip_app_device_lasttimediff',\n",
       " 'ip_device_os_firsttimediff',\n",
       " 'ip_app_device_os_time2previousclick',\n",
       " 'ip_app_device_os_countInTrain',\n",
       " 'ip_app_device_os_countInTest',\n",
       " 'ip_os_day_hour_countInTrain',\n",
       " 'ip_app_device_os_time2nextclick',\n",
       " 'ip_app_day_hour_count',\n",
       " 'app',\n",
       " 'app_day_hour_countInTest',\n",
       " 'ip_app_os_day_hour_countInTrain',\n",
       " 'ip_device_os_time2previousclick',\n",
       " 'ip_device_os_countInTest',\n",
       " 'ip_app_device_os_mean',\n",
       " 'ip_app_device_time2nextclick',\n",
       " 'app_day_hour_countInTrain',\n",
       " 'ip_app_device_regression',\n",
       " 'ip_app_day_hour_countInTrain',\n",
       " 'ip_device_os_countInTrain',\n",
       " 'ip_day_hour_countInTrain',\n",
       " 'matrixFact_user_ip_item_appdeviceos',\n",
       " 'ip_device_os_mean']"
      ]
     },
     "execution_count": 21,
     "metadata": {},
     "output_type": "execute_result"
    }
   ],
   "source": [
    "feature_cols"
   ]
  },
  {
   "cell_type": "code",
   "execution_count": 22,
   "metadata": {
    "collapsed": true
   },
   "outputs": [],
   "source": [
    "def train_lightgbm(x_train, x_val, feature_cols, categorical_feature, params, best_round = None, target='is_attributed'):\n",
    "    param = params.copy()\n",
    "    y_train = x_train[target].values\n",
    "    y_val = x_val[target].values\n",
    "    \n",
    "    lgb_train = lgb.Dataset(x_train[feature_cols], y_train, categorical_feature = categorical_feature)\n",
    "    lgb_val = lgb.Dataset(x_val[feature_cols], y_val, categorical_feature = categorical_feature)\n",
    "    if best_round is not None:\n",
    "        param['num_rounds'] = best_round\n",
    "        del param['early_stopping_round']\n",
    "    print('start training')\n",
    "    model = lgb.train(param, train_set=lgb_train, valid_sets=lgb_val, verbose_eval=10)\n",
    "    return model"
   ]
  },
  {
   "cell_type": "code",
   "execution_count": null,
   "metadata": {},
   "outputs": [
    {
     "name": "stdout",
     "output_type": "stream",
     "text": [
      "concat_day8day9_val_day7_predtest_matrixregV5_leaf61_firsttimediff_timeinTrainTest.npy\n",
      "building train val done!\n",
      "start training\n"
     ]
    },
    {
     "name": "stderr",
     "output_type": "stream",
     "text": [
      "/home/kai/anaconda3/lib/python3.6/site-packages/lightgbm/engine.py:99: UserWarning: Found `num_rounds` in params. Will use it instead of argument\n",
      "  warnings.warn(\"Found `{}` in params. Will use it instead of argument\".format(alias))\n",
      "/home/kai/anaconda3/lib/python3.6/site-packages/lightgbm/engine.py:104: UserWarning: Found `early_stopping_round` in params. Will use it instead of argument\n",
      "  warnings.warn(\"Found `{}` in params. Will use it instead of argument\".format(alias))\n",
      "/home/kai/anaconda3/lib/python3.6/site-packages/lightgbm/basic.py:1027: UserWarning: Using categorical_feature in Dataset.\n",
      "  warnings.warn('Using categorical_feature in Dataset.')\n",
      "/home/kai/anaconda3/lib/python3.6/site-packages/lightgbm/basic.py:668: UserWarning: categorical_feature in param dict is overrided.\n",
      "  warnings.warn('categorical_feature in param dict is overrided.')\n"
     ]
    },
    {
     "name": "stdout",
     "output_type": "stream",
     "text": [
      "Training until validation scores don't improve for 60 rounds.\n",
      "[10]\tvalid_0's auc: 0.980403\n",
      "[20]\tvalid_0's auc: 0.982067\n",
      "[30]\tvalid_0's auc: 0.983094\n",
      "[40]\tvalid_0's auc: 0.983799\n",
      "[50]\tvalid_0's auc: 0.984236\n",
      "[60]\tvalid_0's auc: 0.984454\n",
      "[70]\tvalid_0's auc: 0.984588\n",
      "[80]\tvalid_0's auc: 0.984645\n",
      "[90]\tvalid_0's auc: 0.984719\n",
      "[100]\tvalid_0's auc: 0.984745\n",
      "[110]\tvalid_0's auc: 0.984753\n",
      "[120]\tvalid_0's auc: 0.984792\n",
      "[130]\tvalid_0's auc: 0.98481\n",
      "[140]\tvalid_0's auc: 0.9848\n",
      "[150]\tvalid_0's auc: 0.984782\n",
      "[160]\tvalid_0's auc: 0.984758\n",
      "[170]\tvalid_0's auc: 0.984755\n",
      "[180]\tvalid_0's auc: 0.984723\n",
      "Early stopping, best iteration is:\n",
      "[125]\tvalid_0's auc: 0.984821\n",
      "start training\n",
      "[10]\tvalid_0's auc: 0.981717\n",
      "[20]\tvalid_0's auc: 0.983581\n",
      "[30]\tvalid_0's auc: 0.984994\n",
      "[40]\tvalid_0's auc: 0.98598\n",
      "[50]\tvalid_0's auc: 0.986948\n",
      "[60]\tvalid_0's auc: 0.987582\n",
      "[70]\tvalid_0's auc: 0.988138\n",
      "[80]\tvalid_0's auc: 0.988601\n",
      "[90]\tvalid_0's auc: 0.989086\n",
      "[100]\tvalid_0's auc: 0.989461\n",
      "[110]\tvalid_0's auc: 0.989787\n",
      "[120]\tvalid_0's auc: 0.990047\n",
      "loading file done!\n",
      "predicting file done!\n",
      "concat_day9day7_val_day8_predtest_matrixregV5_leaf61_firsttimediff_timeinTrainTest.npy\n",
      "building train val done!\n",
      "start training\n",
      "Training until validation scores don't improve for 60 rounds.\n",
      "[10]\tvalid_0's auc: 0.981701\n",
      "[20]\tvalid_0's auc: 0.983197\n",
      "[30]\tvalid_0's auc: 0.983907\n",
      "[40]\tvalid_0's auc: 0.9844\n",
      "[50]\tvalid_0's auc: 0.984808\n",
      "[60]\tvalid_0's auc: 0.985027\n",
      "[70]\tvalid_0's auc: 0.98513\n",
      "[80]\tvalid_0's auc: 0.98516\n",
      "[90]\tvalid_0's auc: 0.985183\n",
      "[100]\tvalid_0's auc: 0.985187\n",
      "[110]\tvalid_0's auc: 0.985219\n",
      "[120]\tvalid_0's auc: 0.985222\n",
      "[130]\tvalid_0's auc: 0.985228\n",
      "[140]\tvalid_0's auc: 0.985215\n",
      "[150]\tvalid_0's auc: 0.985204\n",
      "[160]\tvalid_0's auc: 0.98519\n",
      "[170]\tvalid_0's auc: 0.985184\n",
      "[180]\tvalid_0's auc: 0.98516\n",
      "[190]\tvalid_0's auc: 0.985135\n",
      "Early stopping, best iteration is:\n",
      "[132]\tvalid_0's auc: 0.985234\n",
      "start training\n",
      "[10]\tvalid_0's auc: 0.982546\n",
      "[20]\tvalid_0's auc: 0.984372\n",
      "[30]\tvalid_0's auc: 0.985542\n",
      "[40]\tvalid_0's auc: 0.986447\n",
      "[50]\tvalid_0's auc: 0.987335\n",
      "[60]\tvalid_0's auc: 0.988026\n",
      "[70]\tvalid_0's auc: 0.98864\n",
      "[80]\tvalid_0's auc: 0.989173\n",
      "[90]\tvalid_0's auc: 0.989584\n",
      "[100]\tvalid_0's auc: 0.990071\n",
      "[110]\tvalid_0's auc: 0.99046\n",
      "[120]\tvalid_0's auc: 0.99081\n",
      "[130]\tvalid_0's auc: 0.991194\n",
      "loading file done!\n",
      "predicting file done!\n",
      "concat_day8day7_val_day9_predtest_matrixregV5_leaf61_firsttimediff_timeinTrainTest.npy\n",
      "building train val done!\n",
      "start training\n",
      "Training until validation scores don't improve for 60 rounds.\n",
      "[10]\tvalid_0's auc: 0.975812\n",
      "[20]\tvalid_0's auc: 0.97895\n",
      "[30]\tvalid_0's auc: 0.979878\n",
      "[40]\tvalid_0's auc: 0.980476\n",
      "[50]\tvalid_0's auc: 0.980843\n",
      "[60]\tvalid_0's auc: 0.981153\n",
      "[70]\tvalid_0's auc: 0.981313\n",
      "[80]\tvalid_0's auc: 0.981416\n",
      "[90]\tvalid_0's auc: 0.981468\n",
      "[100]\tvalid_0's auc: 0.98154\n",
      "[110]\tvalid_0's auc: 0.981575\n",
      "[120]\tvalid_0's auc: 0.981593\n",
      "[130]\tvalid_0's auc: 0.981597\n",
      "[140]\tvalid_0's auc: 0.981568\n",
      "[150]\tvalid_0's auc: 0.981576\n",
      "[160]\tvalid_0's auc: 0.981579\n"
     ]
    }
   ],
   "source": [
    "for day in day_list:\n",
    "    train_day = list(set(day_list)-set([day]))\n",
    "    file_name = 'concat_{}{}_val_{}_predtest_matrixregV5_leaf61_firsttimediff_timeinTrainTest.npy'.format(train_day[0],train_day[1],day)\n",
    "    print(file_name)\n",
    "    trainset = pd.concat([df_dict[train_day[0]],df_dict[train_day[1]]])\n",
    "    valset = df_dict[day]\n",
    "    print('building train val done!')\n",
    "    model = train_lightgbm(trainset, valset, feature_cols, categorical_col, params)\n",
    "    best_round = model.best_iteration\n",
    "    df_all = pd.concat([trainset, valset])\n",
    "    model = train_lightgbm(df_all, valset, feature_cols, categorical_col, params, best_round)\n",
    "    del df_all\n",
    "    gc.collect()\n",
    "    pred = model.predict(df_dict['test'][feature_cols])\n",
    "    np.save(load_path+file_name, pred)\n",
    "    \n",
    "    # prediction\n",
    "    df_test_raw = pd.read_csv('/home/kai/data/kaggle/talkingdata/data/test.csv')\n",
    "    print('loading file done!')\n",
    "    df_sub = pd.DataFrame()\n",
    "    df_sub['click_id'] = df_test_raw['click_id']\n",
    "    df_sub['is_attributed'] = pred\n",
    "    print('predicting file done!')\n",
    "    df_sub.to_csv('/home/kai/data/kaggle/talkingdata/wl/data/submission/equal_hour_{}{}_val_{}_matrixregV5_leaf61_firsttimediff_timeinTrainTest.csv.gz'.format(train_day[0],train_day[1],day), compression='gzip', index=False)\n",
    "\n",
    "    "
   ]
  },
  {
   "cell_type": "code",
   "execution_count": 13,
   "metadata": {},
   "outputs": [
    {
     "data": {
      "text/plain": [
       "matrixFact_user_ip_item_appdeviceos           3.258546e+08\n",
       "matrixFact_user_iposdeviceapp_item_app        7.112340e+07\n",
       "matrixFact_user_ipchannel_item_appdeviceos    2.337828e+07\n",
       "app_device_os_mean                            1.697719e+07\n",
       "channel                                       1.335874e+07\n",
       "ip_app_device_os_time2nextclick               1.112984e+07\n",
       "ip_app_device_os_lasttimediff                 6.341537e+06\n",
       "os                                            5.938842e+06\n",
       "app                                           5.669180e+06\n",
       "ip_day_hour_count                             5.045337e+06\n",
       "ip_device_os_count                            3.062189e+06\n",
       "ip_app_device_os_countfromfuture              2.117160e+06\n",
       "ip_app_os_day_hour_count                      1.342405e+06\n",
       "ip_app_device_os_count                        1.310539e+06\n",
       "ip_app_device_mean                            1.298044e+06\n",
       "hour                                          1.106012e+06\n",
       "ip_app_device_firsttimediff                   9.815325e+05\n",
       "ip_device_os_lasttimediff                     9.525133e+05\n",
       "ip_app_device_time2nextclick                  8.438998e+05\n",
       "ip_app_device_regression                      8.280236e+05\n",
       "ip_device_os_countfromfuture                  7.489696e+05\n",
       "ip_app_device_countfrompast                   5.592162e+05\n",
       "ip_device_os_firsttimediff                    5.093532e+05\n",
       "ip_app_device_countfromfuture                 4.632882e+05\n",
       "ip_device_os_regression                       4.203562e+05\n",
       "ip_app_device_lasttimediff                    4.129824e+05\n",
       "ip_device_os_countfrompast                    4.013106e+05\n",
       "ip_app_device_os_countfrompast                3.671829e+05\n",
       "device                                        3.455390e+05\n",
       "ip_device_os_mean                             3.292633e+05\n",
       "ip_app_device_os_time2previousclick           3.267791e+05\n",
       "ip_app_device_time2previousclick              3.009832e+05\n",
       "ip_device_os_time2nextclick                   2.815221e+05\n",
       "ip_app_day_hour_count                         2.605949e+05\n",
       "app_day_hour_count                            2.514463e+05\n",
       "ip_os_day_hour_count                          2.249134e+05\n",
       "ip_app_device_os_firsttimediff                2.068067e+05\n",
       "ip_device_os_time2previousclick               1.658439e+05\n",
       "ip_app_device_os_mean                         8.650078e+04\n",
       "ip_app_device_os_regression                   6.387165e+04\n",
       "dtype: float64"
      ]
     },
     "execution_count": 13,
     "metadata": {},
     "output_type": "execute_result"
    }
   ],
   "source": [
    "importance = pd.Series(model.feature_importance(importance_type='gain'), index=feature_cols)\n",
    "# importance = pd.Series(model.feature_importance(), index=feature_cols)\n",
    "importance = importance.sort_values(ascending=False)\n",
    "if len(model.feature_importance()) != len(feature_cols):\n",
    "    raise ValueError('Feature importance has length: {}, \\n while feature number is {}'.\n",
    "                     format(len(model.feature_importance()), len(feature_cols)))\n",
    "    \n",
    "importance"
   ]
  },
  {
   "cell_type": "markdown",
   "metadata": {},
   "source": [
    "# Average"
   ]
  },
  {
   "cell_type": "code",
   "execution_count": 25,
   "metadata": {
    "collapsed": true
   },
   "outputs": [],
   "source": [
    "#### load each and average\n",
    "load_path = '/home/kai/data/kaggle/talkingdata/wl/data/equalhour/'\n",
    "day7 = np.load(load_path+'concat_day8day9_val_day7_predtest_matrixregV5_leaf61_firsttimediff_timeinTrainTest.npy')\n",
    "day8 = np.load(load_path+'concat_day7day9_val_day8_predtest_matrixregV5_leaf61_firsttimediff_timeinTrainTest.npy')\n",
    "day9 = np.load(load_path+'concat_day7day8_val_day9_predtest_matrixregV5_leaf61_firsttimediff_timeinTrainTest.npy')\n",
    "\n",
    "pred = (day7 + day8 + day9)/3"
   ]
  },
  {
   "cell_type": "code",
   "execution_count": 26,
   "metadata": {},
   "outputs": [
    {
     "name": "stdout",
     "output_type": "stream",
     "text": [
      "loading file done!\n",
      "predicting file done!\n"
     ]
    }
   ],
   "source": [
    "# prediction\n",
    "df_test_raw = pd.read_csv('/home/kai/data/kaggle/talkingdata/data/test.csv')\n",
    "print('loading file done!')\n",
    "df_sub = pd.DataFrame()\n",
    "df_sub['click_id'] = df_test_raw['click_id']\n",
    "df_sub['is_attributed'] = pred\n",
    "print('predicting file done!')\n",
    "df_sub.to_csv('/home/kai/data/kaggle/talkingdata/wl/data/submission/equal_hour_blend_matrixregV5_leaf61_firsttimediff_timeinTrainTest.csv.gz', compression='gzip', index=False)\n"
   ]
  },
  {
   "cell_type": "code",
   "execution_count": null,
   "metadata": {
    "collapsed": true
   },
   "outputs": [],
   "source": []
  }
 ],
 "metadata": {
  "kernelspec": {
   "display_name": "Python 3",
   "language": "python",
   "name": "python3"
  },
  "language_info": {
   "codemirror_mode": {
    "name": "ipython",
    "version": 3
   },
   "file_extension": ".py",
   "mimetype": "text/x-python",
   "name": "python",
   "nbconvert_exporter": "python",
   "pygments_lexer": "ipython3",
   "version": "3.6.3"
  }
 },
 "nbformat": 4,
 "nbformat_minor": 2
}
