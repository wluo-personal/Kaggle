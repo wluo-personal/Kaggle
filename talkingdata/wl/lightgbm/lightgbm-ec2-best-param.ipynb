{
 "cells": [
  {
   "cell_type": "code",
   "execution_count": 1,
   "metadata": {
    "collapsed": true
   },
   "outputs": [],
   "source": [
    "import pandas as pd\n",
    "import lightgbm as lgb\n",
    "import numpy as np\n",
    "import gc\n",
    "from sklearn.metrics import roc_auc_score"
   ]
  },
  {
   "cell_type": "code",
   "execution_count": 2,
   "metadata": {
    "collapsed": true
   },
   "outputs": [],
   "source": [
    "df_all = pd.read_feather('/home/kai/talkingdata/data/ALL_features_supplementV3_feature42.ftr')\n",
    "target = 'is_attributed'\n",
    "extra = ['ip_app_device_os_channel_regression']\n",
    "feature_cols = list(set(df_all.columns) - set([target]) -set(extra))\n",
    "categorical_col = [ 'app', 'device', 'os', 'channel', 'hour',   ]"
   ]
  },
  {
   "cell_type": "markdown",
   "metadata": {},
   "source": [
    "# LightGBM"
   ]
  },
  {
   "cell_type": "code",
   "execution_count": 3,
   "metadata": {
    "collapsed": true
   },
   "outputs": [],
   "source": [
    "params_raw = {\n",
    "        'objective': 'binary',\n",
    "        'boosting': 'gbdt',\n",
    "        'num_rounds': 2400,\n",
    "        'learning_rate': 0.1,\n",
    "        'num_leaves': 11,\n",
    "        'num_threads': 62, # best speed: set to number of real cpu cores, which is vCPU/2\n",
    "        'device': 'cpu',\n",
    "        'max_depth': -1, # no limit. This is used to deal with over-fitting when #data is small.\n",
    "        'min_data_in_leaf': 390,  #minimal number of data in one leaf. Can be used to deal with over-fitting\n",
    "        'feature_fraction': 0.7, #For example, if set to 0.8, will select 80% features before training each tree.  speed up training / deal with over-fitting\n",
    "        'feature_fraction_seed': 1,\n",
    "        'early_stopping_round':60,\n",
    "        'bagging_fraction': 0.9, #Randomly select part of data without resampling\n",
    "        'bagging_freq': 1, #frequency for bagging, 0 means disable bagging. k means will perform bagging at every k iteration. to enable bagging, bagging_fraction should be set as well\n",
    "        'bagging_seed': 1,\n",
    "        'verbose': 0,\n",
    "        'scale_pos_weight': 400,\n",
    "        'metric' : [ 'auc'],\n",
    "        'lambda_l2': 1\n",
    "    }\n",
    "\n",
    "categorical_col = [ 'app', 'device', 'os', 'channel', 'hour']\n",
    "target = 'is_attributed'"
   ]
  },
  {
   "cell_type": "code",
   "execution_count": 9,
   "metadata": {},
   "outputs": [],
   "source": [
    "def get_parameters(df ,param):\n",
    "    params = param.copy()\n",
    "    dff = df.copy()\n",
    "    dff = dff[(dff.ROC == 0) ]\n",
    "    if len(dff) > 0:\n",
    "        index = dff.index.values.copy()\n",
    "        np.random.shuffle(index)\n",
    "        num=index[0]\n",
    "        param_get = dff.loc[num].to_dict()\n",
    "        param_get.pop('ROC')\n",
    "        param_get.pop('num_rounds')\n",
    "        param_get['max_depth'] = int(param_get['max_depth'])\n",
    "        param_get['min_data_in_leaf'] = int(param_get['min_data_in_leaf'])\n",
    "        param_get['num_leaves'] = int(param_get['num_leaves'])\n",
    "        \n",
    "        params.update(param_get)\n",
    "        return(params, num)\n",
    "    else:\n",
    "        return (None, None)\n",
    "\n",
    "def get_best_parm(df,param, rank=1):\n",
    "    rank = int(rank -1)\n",
    "    params = param.copy()\n",
    "    dff = df.copy()\n",
    "    param_get = dff.sort_values('ROC', ascending=False).iloc[rank].to_dict()\n",
    "    roc = param_get['ROC']\n",
    "    print('ROC is : {}'.format(roc))\n",
    "    \n",
    "    best_round = int(param_get['num_rounds'])\n",
    "    print('Best round: {}'.format(best_round))\n",
    "    param_get.pop('ROC')\n",
    "    param_get['max_depth'] = int(param_get['max_depth'])\n",
    "    param_get['min_data_in_leaf'] = int(param_get['min_data_in_leaf'])\n",
    "    param_get['num_leaves'] = int(param_get['num_leaves'])\n",
    "    param_get['num_rounds'] = int(best_round+500)\n",
    "    params.update(param_get)\n",
    "    return(params, best_round, roc)\n",
    "\n"
   ]
  },
  {
   "cell_type": "code",
   "execution_count": 10,
   "metadata": {
    "collapsed": true
   },
   "outputs": [],
   "source": [
    "def train_lightgbm(x_train, x_val, feature_cols, categorical_feature, params, best_round = None, target='is_attributed'):\n",
    "    param = params.copy()\n",
    "    y_train = x_train[target].values\n",
    "    y_val = x_val[target].values\n",
    "    \n",
    "    lgb_train = lgb.Dataset(x_train[feature_cols], y_train, categorical_feature = categorical_feature)\n",
    "    lgb_val = lgb.Dataset(x_val[feature_cols], y_val, categorical_feature = categorical_feature)\n",
    "    if best_round is not None:\n",
    "        param['num_rounds'] = best_round\n",
    "        del param['early_stopping_round']\n",
    "    print('start training')\n",
    "    model = lgb.train(param, train_set=lgb_train, valid_sets=lgb_val, verbose_eval=10)\n",
    "    return model"
   ]
  },
  {
   "cell_type": "code",
   "execution_count": null,
   "metadata": {
    "scrolled": true
   },
   "outputs": [
    {
     "name": "stdout",
     "output_type": "stream",
     "text": [
      "ROC is : 0.9823818964626924\n",
      "Best round: 498\n",
      "{'objective': 'binary', 'boosting': 'gbdt', 'num_rounds': 998, 'learning_rate': 0.10000000000000001, 'num_leaves': 11, 'num_threads': 62, 'device': 'cpu', 'max_depth': -1, 'min_data_in_leaf': 100, 'feature_fraction': 0.59999999999999998, 'feature_fraction_seed': 1, 'early_stopping_round': 60, 'bagging_fraction': 1.0, 'bagging_freq': 1, 'bagging_seed': 1, 'verbose': 0, 'scale_pos_weight': 400.0, 'metric': ['auc'], 'lambda_l2': 1.0}\n",
      "start training\n"
     ]
    },
    {
     "name": "stderr",
     "output_type": "stream",
     "text": [
      "/home/kai/anaconda3/lib/python3.6/site-packages/lightgbm/engine.py:99: UserWarning: Found `num_rounds` in params. Will use it instead of argument\n",
      "  warnings.warn(\"Found `{}` in params. Will use it instead of argument\".format(alias))\n",
      "/home/kai/anaconda3/lib/python3.6/site-packages/lightgbm/basic.py:1027: UserWarning: Using categorical_feature in Dataset.\n",
      "  warnings.warn('Using categorical_feature in Dataset.')\n",
      "/home/kai/anaconda3/lib/python3.6/site-packages/lightgbm/basic.py:668: UserWarning: categorical_feature in param dict is overrided.\n",
      "  warnings.warn('categorical_feature in param dict is overrided.')\n"
     ]
    },
    {
     "name": "stdout",
     "output_type": "stream",
     "text": [
      "[10]\tvalid_0's auc: 0.982601\n",
      "[20]\tvalid_0's auc: 0.985223\n",
      "[30]\tvalid_0's auc: 0.987735\n",
      "[40]\tvalid_0's auc: 0.989841\n",
      "[50]\tvalid_0's auc: 0.990575\n",
      "[60]\tvalid_0's auc: 0.991248\n",
      "[70]\tvalid_0's auc: 0.991757\n",
      "[80]\tvalid_0's auc: 0.992165\n",
      "[90]\tvalid_0's auc: 0.992411\n",
      "[100]\tvalid_0's auc: 0.992575\n",
      "[110]\tvalid_0's auc: 0.9928\n",
      "[120]\tvalid_0's auc: 0.992971\n",
      "[130]\tvalid_0's auc: 0.993197\n",
      "[140]\tvalid_0's auc: 0.993321\n",
      "[150]\tvalid_0's auc: 0.993396\n",
      "[160]\tvalid_0's auc: 0.993509\n",
      "[170]\tvalid_0's auc: 0.993572\n",
      "[180]\tvalid_0's auc: 0.993627\n",
      "[190]\tvalid_0's auc: 0.993804\n",
      "[200]\tvalid_0's auc: 0.994294\n",
      "[210]\tvalid_0's auc: 0.994378\n",
      "[220]\tvalid_0's auc: 0.994391\n",
      "[230]\tvalid_0's auc: 0.994524\n",
      "[240]\tvalid_0's auc: 0.994509\n",
      "[250]\tvalid_0's auc: 0.994682\n",
      "[260]\tvalid_0's auc: 0.994699\n",
      "[270]\tvalid_0's auc: 0.994728\n",
      "[280]\tvalid_0's auc: 0.994859\n",
      "[290]\tvalid_0's auc: 0.994899\n",
      "[300]\tvalid_0's auc: 0.99528\n",
      "[310]\tvalid_0's auc: 0.99537\n",
      "[320]\tvalid_0's auc: 0.995378\n",
      "[330]\tvalid_0's auc: 0.995397\n",
      "[340]\tvalid_0's auc: 0.995817\n",
      "[350]\tvalid_0's auc: 0.995861\n",
      "[360]\tvalid_0's auc: 0.995891\n",
      "[370]\tvalid_0's auc: 0.99589\n",
      "[380]\tvalid_0's auc: 0.995906\n",
      "[390]\tvalid_0's auc: 0.995935\n",
      "[400]\tvalid_0's auc: 0.995939\n",
      "[410]\tvalid_0's auc: 0.995946\n",
      "[420]\tvalid_0's auc: 0.996017\n",
      "[430]\tvalid_0's auc: 0.996044\n",
      "[440]\tvalid_0's auc: 0.996055\n",
      "[450]\tvalid_0's auc: 0.996058\n",
      "[460]\tvalid_0's auc: 0.996081\n",
      "[470]\tvalid_0's auc: 0.996107\n",
      "[480]\tvalid_0's auc: 0.996109\n",
      "[490]\tvalid_0's auc: 0.996114\n",
      "[500]\tvalid_0's auc: 0.996166\n",
      "[510]\tvalid_0's auc: 0.99625\n",
      "[520]\tvalid_0's auc: 0.996281\n",
      "[530]\tvalid_0's auc: 0.996291\n",
      "[540]\tvalid_0's auc: 0.996297\n",
      "[550]\tvalid_0's auc: 0.996398\n",
      "[560]\tvalid_0's auc: 0.996402\n",
      "[570]\tvalid_0's auc: 0.996409\n",
      "[580]\tvalid_0's auc: 0.99642\n",
      "[590]\tvalid_0's auc: 0.996429\n",
      "[600]\tvalid_0's auc: 0.99658\n",
      "[610]\tvalid_0's auc: 0.996588\n",
      "[620]\tvalid_0's auc: 0.996831\n",
      "[630]\tvalid_0's auc: 0.996842\n"
     ]
    }
   ],
   "source": [
    "\n",
    "model_path = '/home/kai/talkingdata/data/'\n",
    "prefix = 'lightgbm_bestparam_bestround_{}_roc_{}'\n",
    "result_param =pd.read_csv('/home/kai/talkingdata/data/girdsearchparams-result.csv')\n",
    "\n",
    "params, best_round, roc = get_best_parm(result_param, params_raw, rank=1)\n",
    "print(params)\n",
    "model = train_lightgbm(df_all, df_all.iloc[-1000000:], feature_cols, categorical_col, params, best_round=best_round+500)\n",
    "model.save_model(model_path+prefix.format(best_round, roc))\n",
    "# np.save(model_path+prefix.format(1)+'.npy', best_round_arr)\n",
    "\n",
    "import json\n",
    "feature_file = '/home/kai/talkingdata/data/lightgbm-featurecolsV3_col38_lightgbm_bestparam_bestround_{}_roc_{}.json'.format(best_round, roc)\n",
    "\n",
    "with open(feature_file, 'w') as outfile:\n",
    "    json.dump(feature_cols, outfile)\n",
    "    \n",
    "# model1 = lgb.Booster(model_file='gbm_test',)\n",
    "    \n",
    "    \n",
    "    "
   ]
  },
  {
   "cell_type": "code",
   "execution_count": 51,
   "metadata": {},
   "outputs": [
    {
     "name": "stdout",
     "output_type": "stream",
     "text": [
      "0.981877586913\n"
     ]
    }
   ],
   "source": [
    "ROC = roc_auc_score(valset[target].values, model.predict(valset[cur_feature]))\n",
    "df_grid.loc[index, 'roc'] = ROC\n",
    "df_grid.loc[index, 'best_rount'] = best_round\n",
    "df_grid.to_csv('/home/kai/talkingdata/data/girdsearch-result.csv', index=False)\n",
    "\n",
    "gc.collect()\n",
    "print(ROC)"
   ]
  },
  {
   "cell_type": "code",
   "execution_count": 85,
   "metadata": {},
   "outputs": [
    {
     "data": {
      "text/plain": [
       "'allfeaturesneeded'"
      ]
     },
     "execution_count": 85,
     "metadata": {},
     "output_type": "execute_result"
    }
   ],
   "source": [
    "df_grid.loc[38,'drpcol']"
   ]
  },
  {
   "cell_type": "code",
   "execution_count": null,
   "metadata": {
    "collapsed": true
   },
   "outputs": [],
   "source": []
  }
 ],
 "metadata": {
  "kernelspec": {
   "display_name": "Python 3",
   "language": "python",
   "name": "python3"
  },
  "language_info": {
   "codemirror_mode": {
    "name": "ipython",
    "version": 3
   },
   "file_extension": ".py",
   "mimetype": "text/x-python",
   "name": "python",
   "nbconvert_exporter": "python",
   "pygments_lexer": "ipython3",
   "version": "3.6.3"
  }
 },
 "nbformat": 4,
 "nbformat_minor": 2
}
