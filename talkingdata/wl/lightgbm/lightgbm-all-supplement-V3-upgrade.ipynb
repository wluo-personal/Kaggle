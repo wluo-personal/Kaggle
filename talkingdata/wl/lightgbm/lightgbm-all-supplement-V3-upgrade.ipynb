{
 "cells": [
  {
   "cell_type": "code",
   "execution_count": 1,
   "metadata": {
    "collapsed": true
   },
   "outputs": [],
   "source": [
    "import pandas as pd\n",
    "import lightgbm as lgb\n",
    "import numpy as np\n",
    "import gc\n",
    "import json"
   ]
  },
  {
   "cell_type": "code",
   "execution_count": 2,
   "metadata": {
    "collapsed": true
   },
   "outputs": [],
   "source": [
    "dtypes = {\n",
    "        'app'           : 'uint16',\n",
    "        'device'        : 'uint16',\n",
    "        'os'            : 'uint16',\n",
    "        'channel'       : 'uint16',\n",
    "        'hour'          : 'uint8',\n",
    "        'is_attributed' : 'uint8', \n",
    "        'ip_day_hour_count': 'uint32', \n",
    "        'ip_os_day_hour_count': 'uint32', \n",
    "        'ip_app_day_hour_count': 'uint32', \n",
    "        'ip_app_os_day_hour_count': 'uint32', \n",
    "        'app_day_hour_count': 'uint32', \n",
    "        'ip_device_os_count': 'uint32', \n",
    "        'ip_app_device_os_count': 'uint32', \n",
    "        'ip_device_os_mean': 'float16',\n",
    "        'ip_app_device_os_mean': 'float16',\n",
    "        'ip_app_device_mean': 'float16',\n",
    "        'app_device_os_mean': 'float16',\n",
    "        'ip_device_os_time2nextclick': 'int32',\n",
    "        'ip_app_device_os_time2nextclick': 'int32',\n",
    "        'ip_app_device_time2nextclick': 'int32',\n",
    "        'ip_device_os_time2previousclick': 'int32',\n",
    "        'ip_app_device_os_time2previousclick': 'int32',\n",
    "        'ip_app_device_time2previousclick': 'int32',\n",
    "        'ip_device_os_countfromfuture': 'uint32', \n",
    "        'ip_app_device_os_countfromfuture': 'uint32', \n",
    "        'ip_app_device_countfromfuture': 'uint32', \n",
    "        'ip_device_os_countfrompast': 'uint32', \n",
    "        'ip_app_device_os_countfrompast': 'uint32', \n",
    "        'ip_app_device_countfrompast': 'uint32', \n",
    "        'ip_device_os_lasttimediff': 'int32',\n",
    "        'ip_app_device_os_lasttimediff': 'int32',\n",
    "        'ip_app_device_lasttimediff': 'int32',\n",
    "        'ip_device_os_firsttimediff': 'int32',\n",
    "        'ip_app_device_os_firsttimediff': 'int32',\n",
    "        'ip_app_device_firsttimediff': 'int32',\n",
    "        'matrixFact_user_iposdeviceapp_item_app': 'float16',\n",
    "        'matrixFact_user_ip_item_appdeviceos': 'float16',\n",
    "        'matrixFact_user_ipchannel_item_appdeviceos': 'float16',\n",
    "        'ip_device_os_regression': 'float16',\n",
    "        'ip_app_device_os_regression': 'float16',\n",
    "        'ip_app_device_regression': 'float16',\n",
    "        'ip_app_device_os_channel_regression': 'float16', \n",
    "        'attributed_timediffmax':'int32',\n",
    "        'attributed_timediffmin':'int32',\n",
    "        'attributed_timediff':'float16',\n",
    "        'matrixFact_user_ipappdeviceos_item_channel': 'float16'\n",
    "    \n",
    "        } "
   ]
  },
  {
   "cell_type": "code",
   "execution_count": 3,
   "metadata": {
    "collapsed": true
   },
   "outputs": [],
   "source": [
    "# load_path = '/home/kai/data/kaggle/talkingdata/wl/data/equalhour/'\n",
    "# file_format = '{}_features_supplementV3_feature42.csv'\n",
    "# day_list = ['day7', 'day8', 'day9']\n",
    "# df_dict = {}\n",
    "# df_extra = {}\n",
    "# for file in ['day7', 'day8', 'day9']: \n",
    "#     print(file)\n",
    "#     df_dict[file] = pd.read_csv(load_path+file_format.format(file),dtype=dtypes)\n",
    "    \n",
    "# target = 'is_attributed'\n",
    "# feature_cols = list(set(df_dict['day7'].columns) - set([target]))\n"
   ]
  },
  {
   "cell_type": "code",
   "execution_count": 4,
   "metadata": {
    "collapsed": true
   },
   "outputs": [],
   "source": [
    "df_all = pd.read_csv('/home/kai/data/kaggle/talkingdata/wl/data/equalhour/ALL_features_supplementV3_feature42.csv',dtype=dtypes)\n",
    "target = 'is_attributed'\n",
    "feature_cols = list(set(df_all.columns) - set([target]))"
   ]
  },
  {
   "cell_type": "markdown",
   "metadata": {},
   "source": [
    "# define parameter"
   ]
  },
  {
   "cell_type": "code",
   "execution_count": 5,
   "metadata": {
    "collapsed": true
   },
   "outputs": [],
   "source": [
    "target = 'is_attributed'\n",
    "\n",
    "day_list = ['day7', 'day8', 'day9']\n",
    "\n",
    "combine = 0\n",
    "params = {\n",
    "        'objective': 'binary',\n",
    "        'boosting': 'gbdt',\n",
    "        'num_rounds': 2400,\n",
    "        'learning_rate': 0.05,\n",
    "        'num_leaves': 61,\n",
    "        'num_threads': 4, # best speed: set to number of real cpu cores, which is vCPU/2\n",
    "        'device': 'cpu',\n",
    "        'max_depth': -1, # no limit. This is used to deal with over-fitting when #data is small.\n",
    "        'min_data_in_leaf': 390,  #minimal number of data in one leaf. Can be used to deal with over-fitting\n",
    "        'feature_fraction': 0.5, #For example, if set to 0.8, will select 80% features before training each tree.  speed up training / deal with over-fitting\n",
    "        'feature_fraction_seed': 1,\n",
    "        'early_stopping_round':60,\n",
    "        'bagging_fraction': 0.7, #Randomly select part of data without resampling\n",
    "        'bagging_freq': 1, #frequency for bagging, 0 means disable bagging. k means will perform bagging at every k iteration. to enable bagging, bagging_fraction should be set as well\n",
    "        'bagging_seed': 1,\n",
    "        'verbose': 0,\n",
    "        'scale_pos_weight': 400,\n",
    "        'metric' : [ 'auc']\n",
    "    }\n",
    "\n",
    "categorical_col = [ 'app', 'device', 'os', 'channel', 'hour']"
   ]
  },
  {
   "cell_type": "code",
   "execution_count": 6,
   "metadata": {
    "collapsed": true
   },
   "outputs": [],
   "source": [
    "\n",
    "extra = set(['ip_device_os_countself',\n",
    "             'ip_day_hour_countself', \n",
    "             'app_day_hour_countself',\n",
    "             'ip_app_device_os_countself',\n",
    "             'ip_app_day_hour_countself', \n",
    "             'ip_os_day_hour_countself', \n",
    "             'ip_app_os_day_hour_countself',\n",
    "             'ip_device_os_regression',\n",
    "             'ip_app_device_os_regression', \n",
    "             'ip_app_device_regression',\n",
    "             'ip_app_device_os_channel_regression' ])\n",
    "\n",
    "\n",
    "feature_cols = list(set(feature_cols) - extra)"
   ]
  },
  {
   "cell_type": "code",
   "execution_count": 7,
   "metadata": {},
   "outputs": [
    {
     "data": {
      "text/plain": [
       "['ip_app_os_day_hour_count',\n",
       " 'ip_app_device_os_time2nextclick',\n",
       " 'ip_app_device_countfrompast',\n",
       " 'os',\n",
       " 'app_device_os_mean',\n",
       " 'ip_app_device_os_time2previousclick',\n",
       " 'ip_device_os_countfrompast',\n",
       " 'device',\n",
       " 'ip_device_os_time2previousclick',\n",
       " 'ip_os_day_hour_count',\n",
       " 'ip_app_device_os_lasttimediff',\n",
       " 'ip_app_device_time2previousclick',\n",
       " 'ip_app_device_os_countfromfuture',\n",
       " 'matrixFact_user_iposdeviceapp_item_app',\n",
       " 'ip_app_device_lasttimediff',\n",
       " 'ip_app_device_os_count',\n",
       " 'ip_app_device_countfromfuture',\n",
       " 'attributed_timediff',\n",
       " 'app',\n",
       " 'ip_app_device_firsttimediff',\n",
       " 'app_day_hour_count',\n",
       " 'matrixFact_user_ipchannel_item_appdeviceos',\n",
       " 'hour',\n",
       " 'ip_app_device_time2nextclick',\n",
       " 'ip_device_os_lasttimediff',\n",
       " 'ip_app_device_os_countfrompast',\n",
       " 'ip_app_day_hour_count',\n",
       " 'ip_device_os_mean',\n",
       " 'channel',\n",
       " 'ip_app_device_os_firsttimediff',\n",
       " 'ip_device_os_count',\n",
       " 'ip_app_device_mean',\n",
       " 'ip_day_hour_count',\n",
       " 'matrixFact_user_ip_item_appdeviceos',\n",
       " 'ip_device_os_time2nextclick',\n",
       " 'ip_device_os_countfromfuture',\n",
       " 'ip_app_device_os_mean',\n",
       " 'ip_device_os_firsttimediff']"
      ]
     },
     "execution_count": 7,
     "metadata": {},
     "output_type": "execute_result"
    }
   ],
   "source": [
    "feature_cols"
   ]
  },
  {
   "cell_type": "code",
   "execution_count": 8,
   "metadata": {
    "collapsed": true
   },
   "outputs": [],
   "source": [
    "def train_lightgbm(x_train, x_val, feature_cols, categorical_feature, params, best_round = None, target='is_attributed'):\n",
    "    param = params.copy()\n",
    "    y_train = x_train[target].values\n",
    "    y_val = x_val[target].values\n",
    "    \n",
    "    lgb_train = lgb.Dataset(x_train[feature_cols], y_train, categorical_feature = categorical_feature)\n",
    "    lgb_val = lgb.Dataset(x_val[feature_cols], y_val, categorical_feature = categorical_feature)\n",
    "    if best_round is not None:\n",
    "        param['num_rounds'] = best_round\n",
    "        del param['early_stopping_round']\n",
    "    print('start training')\n",
    "    model = lgb.train(param, train_set=lgb_train, valid_sets=lgb_val, verbose_eval=10)\n",
    "    return model"
   ]
  },
  {
   "cell_type": "code",
   "execution_count": 9,
   "metadata": {},
   "outputs": [
    {
     "name": "stdout",
     "output_type": "stream",
     "text": [
      "start training\n"
     ]
    },
    {
     "name": "stderr",
     "output_type": "stream",
     "text": [
      "/home/kai/anaconda3/lib/python3.6/site-packages/lightgbm/engine.py:99: UserWarning: Found `num_rounds` in params. Will use it instead of argument\n",
      "  warnings.warn(\"Found `{}` in params. Will use it instead of argument\".format(alias))\n",
      "/home/kai/anaconda3/lib/python3.6/site-packages/lightgbm/basic.py:1027: UserWarning: Using categorical_feature in Dataset.\n",
      "  warnings.warn('Using categorical_feature in Dataset.')\n",
      "/home/kai/anaconda3/lib/python3.6/site-packages/lightgbm/basic.py:668: UserWarning: categorical_feature in param dict is overrided.\n",
      "  warnings.warn('categorical_feature in param dict is overrided.')\n"
     ]
    },
    {
     "name": "stdout",
     "output_type": "stream",
     "text": [
      "[10]\tvalid_0's auc: 0.986985\n",
      "[20]\tvalid_0's auc: 0.98878\n",
      "[30]\tvalid_0's auc: 0.9896\n",
      "[40]\tvalid_0's auc: 0.990608\n",
      "[50]\tvalid_0's auc: 0.991212\n",
      "[60]\tvalid_0's auc: 0.991753\n",
      "[70]\tvalid_0's auc: 0.992197\n",
      "[80]\tvalid_0's auc: 0.992481\n",
      "[90]\tvalid_0's auc: 0.992765\n",
      "[100]\tvalid_0's auc: 0.993124\n",
      "[110]\tvalid_0's auc: 0.993489\n",
      "[120]\tvalid_0's auc: 0.993717\n",
      "[130]\tvalid_0's auc: 0.994229\n",
      "[140]\tvalid_0's auc: 0.994467\n",
      "[150]\tvalid_0's auc: 0.994675\n",
      "[160]\tvalid_0's auc: 0.994782\n",
      "[170]\tvalid_0's auc: 0.994844\n",
      "[180]\tvalid_0's auc: 0.994982\n",
      "[190]\tvalid_0's auc: 0.9951\n",
      "[200]\tvalid_0's auc: 0.995624\n",
      "[210]\tvalid_0's auc: 0.995716\n",
      "[220]\tvalid_0's auc: 0.995766\n",
      "[230]\tvalid_0's auc: 0.995866\n",
      "[240]\tvalid_0's auc: 0.996062\n",
      "[250]\tvalid_0's auc: 0.996166\n",
      "[260]\tvalid_0's auc: 0.996202\n",
      "[270]\tvalid_0's auc: 0.996322\n",
      "[280]\tvalid_0's auc: 0.996521\n",
      "[290]\tvalid_0's auc: 0.996559\n",
      "[300]\tvalid_0's auc: 0.996551\n",
      "[310]\tvalid_0's auc: 0.996599\n",
      "[320]\tvalid_0's auc: 0.996684\n",
      "[330]\tvalid_0's auc: 0.996708\n",
      "[340]\tvalid_0's auc: 0.996746\n",
      "[350]\tvalid_0's auc: 0.996763\n",
      "[360]\tvalid_0's auc: 0.997019\n",
      "[370]\tvalid_0's auc: 0.997023\n",
      "[380]\tvalid_0's auc: 0.997026\n",
      "[390]\tvalid_0's auc: 0.997081\n",
      "[400]\tvalid_0's auc: 0.997108\n",
      "[410]\tvalid_0's auc: 0.99713\n",
      "[420]\tvalid_0's auc: 0.997163\n",
      "[430]\tvalid_0's auc: 0.997261\n",
      "[440]\tvalid_0's auc: 0.997334\n",
      "[450]\tvalid_0's auc: 0.997346\n",
      "[460]\tvalid_0's auc: 0.997353\n",
      "[470]\tvalid_0's auc: 0.997368\n",
      "[480]\tvalid_0's auc: 0.997389\n",
      "[490]\tvalid_0's auc: 0.997408\n",
      "[500]\tvalid_0's auc: 0.99743\n"
     ]
    }
   ],
   "source": [
    "best_round_list = []\n",
    "model_path = '/home/kai/data/kaggle/talkingdata/wl/data/lightgbm/'\n",
    "prefix = 'paramsCombo_{}_lr0.05_scale400_ntree500_ff0.5_bf0.7'\n",
    "\n",
    "    \n",
    "best_round_arr = np.array(best_round_list)\n",
    "model = train_lightgbm(df_all, df_all.iloc[-1000000:], feature_cols, categorical_col, params, best_round=500)\n",
    "model.save_model(model_path+prefix.format(1))\n",
    "# np.save(model_path+prefix.format(1)+'.npy', best_round_arr)\n",
    "\n",
    "import json\n",
    "feature_file = '/home/kai/data/kaggle/talkingdata/wl/data/lightgbm/featurecolsV3_col38_scale99.json'\n",
    "\n",
    "with open(feature_file, 'w') as outfile:\n",
    "    json.dump(feature_cols, outfile)\n",
    "    \n",
    "# model1 = lgb.Booster(model_file='gbm_test',)\n",
    "    \n",
    "    \n",
    "    "
   ]
  },
  {
   "cell_type": "code",
   "execution_count": 10,
   "metadata": {
    "collapsed": true
   },
   "outputs": [],
   "source": [
    "# best_round_list = []\n",
    "# model_path = '/home/kai/data/kaggle/talkingdata/wl/data/lightgbm/'\n",
    "# prefix = 'paramsCombo_{}_lr0.03'\n",
    "# for day in day_list:\n",
    "#     train_day = list(set(day_list)-set([day]))\n",
    "#     trainset = pd.concat([df_dict[train_day[0]],df_dict[train_day[1]]])\n",
    "#     valset = df_dict[day]\n",
    "#     print('building train val done!')\n",
    "#     model = train_lightgbm(trainset, valset, feature_cols, categorical_col, params)\n",
    "#     best_round = model.best_iteration\n",
    "#     best_round_list.append(best_round)\n",
    "    \n",
    "# df_all = pd.concat([df_dict['day7'], df_dict['day8'], df_dict['day9']])\n",
    "# del df_dict\n",
    "# gc.collect()\n",
    "    \n",
    "# best_round_arr = np.array(best_round_list)\n",
    "# model = train_lightgbm(df_all, valset, feature_cols, categorical_col, params, best_round=1200)\n",
    "# model.save_model(model_path+prefix.format(1))\n",
    "# np.save(model_path+prefix.format(1)+'.npy', best_round_arr)\n",
    "\n",
    "# import json\n",
    "# feature_file = '/home/kai/data/kaggle/talkingdata/wl/data/lightgbm/featurecolsV3_col38.json'\n",
    "\n",
    "# with open(feature_file, 'w') as outfile:\n",
    "#     json.dump(feature_cols, outfile)\n",
    "    \n",
    "# # model1 = lgb.Booster(model_file='gbm_test',)\n",
    "    \n",
    "    \n",
    "    "
   ]
  },
  {
   "cell_type": "markdown",
   "metadata": {},
   "source": [
    "# Load Model and predict"
   ]
  },
  {
   "cell_type": "code",
   "execution_count": 11,
   "metadata": {
    "scrolled": true
   },
   "outputs": [
    {
     "name": "stdout",
     "output_type": "stream",
     "text": [
      "load model done!\n",
      "load number of trees done!\n",
      "load test feature done!\n",
      "load feature cols done!\n",
      "predicting... 550 done!\n",
      "predicting... 620 done!\n",
      "predicting... 700 done!\n",
      "getting submission\n",
      "loading file done!\n",
      "predicting file done!\n"
     ]
    }
   ],
   "source": [
    "model_path = '/home/kai/data/kaggle/talkingdata/wl/data/lightgbm/gridsearch/'\n",
    "feature_file = '/home/kai/data/kaggle/talkingdata/wl/data/lightgbm/gridsearch/lightgbm-featurecolsV3_col38_lightgbm_bestparam_bestround_225_roc_0.9824899830726912.json'\n",
    "prefix = 'lightgbm_bestparam_bestround_225_roc_0.9824899830726912'\n",
    "modelfile=model_path+prefix\n",
    "model_load = lgb.Booster(model_file=modelfile)\n",
    "print('load model done!')\n",
    "\n",
    "# this may not need to be loaded in the future\n",
    "# num_trees_load = np.load(model_path+prefix.format(1)+'.npy')\n",
    "num_trees_load = [630, 680, 720]\n",
    "print('load number of trees done!')\n",
    "\n",
    "load_path = '/home/kai/data/kaggle/talkingdata/wl/data/equalhour/'\n",
    "file_format = '{}_features_supplementV3_feature42.csv'\n",
    "test = pd.read_csv(load_path+file_format.format('test'),dtype=dtypes)\n",
    "print('load test feature done!')\n",
    "\n",
    "feature_col_load = json.load(open(feature_file))\n",
    "print('load feature cols done!')\n",
    "\n",
    "preds = []\n",
    "submission_postfix = '_ntree'\n",
    "\n",
    "for ntree in num_trees_load:\n",
    "    ntree = int(ntree)\n",
    "    preds.append(model_load.predict(test[model_load.feature_name()], num_iteration=ntree))\n",
    "    print('predicting... {} done!'.format(ntree))\n",
    "    submission_postfix += '_{}'.format(ntree)\n",
    "pred = np.mean(preds, axis=0)\n",
    "\n",
    "\n",
    "print('getting submission')\n",
    "df_test_raw = pd.read_csv('/home/kai/data/kaggle/talkingdata/data/test.csv')\n",
    "print('loading file done!')\n",
    "df_sub = pd.DataFrame()\n",
    "df_sub['click_id'] = df_test_raw['click_id']\n",
    "df_sub['is_attributed'] = pred\n",
    "print('predicting file done!')\n",
    "\n",
    "# prefix = 'paramsCombo_{}_lr0.05_scale99_ntree500_ff0.5_bf0.7_onehot500'\n",
    "submission_name = model_path+prefix+submission_postfix+'.csv.gz'\n",
    "df_sub.to_csv(submission_name, compression='gzip', index=False)\n",
    "\n",
    "\n",
    "np.save(model_path+prefix+submission_postfix+'.npy', pred)\n",
    "    "
   ]
  },
  {
   "cell_type": "code",
   "execution_count": 11,
   "metadata": {},
   "outputs": [
    {
     "name": "stdout",
     "output_type": "stream",
     "text": [
      "load model done!\n",
      "load number of trees done!\n",
      "load test feature done!\n",
      "load feature cols done!\n",
      "predicting... 300 done!\n",
      "predicting... 370 done!\n",
      "predicting... 470 done!\n",
      "getting submission\n",
      "loading file done!\n",
      "predicting file done!\n"
     ]
    }
   ],
   "source": [
    "# modelfile=model_path+prefix.format(1)\n",
    "# model_load = lgb.Booster(model_file=modelfile)\n",
    "# print('load model done!')\n",
    "\n",
    "# # this may not need to be loaded in the future\n",
    "# # num_trees_load = np.load(model_path+prefix.format(1)+'.npy')\n",
    "# num_trees_load = [300, 370, 470]\n",
    "# print('load number of trees done!')\n",
    "\n",
    "# load_path = '/home/kai/data/kaggle/talkingdata/wl/data/equalhour/'\n",
    "# file_format = '{}_features_supplementV3_feature42.csv'\n",
    "# test = pd.read_csv(load_path+file_format.format('test'),dtype=dtypes)\n",
    "# print('load test feature done!')\n",
    "\n",
    "\n",
    "# feature_col_load = json.load(open(feature_file))\n",
    "# print('load feature cols done!')\n",
    "\n",
    "# preds = []\n",
    "# submission_postfix = 'ntree'\n",
    "\n",
    "# for ntree in num_trees_load:\n",
    "#     ntree = int(ntree)\n",
    "#     preds.append(model_load.predict(test[feature_col_load], num_iteration=ntree))\n",
    "#     print('predicting... {} done!'.format(ntree))\n",
    "#     submission_postfix += '_{}'.format(ntree)\n",
    "# pred = np.mean(preds, axis=0)\n",
    "\n",
    "\n",
    "# print('getting submission')\n",
    "# df_test_raw = pd.read_csv('/home/kai/data/kaggle/talkingdata/data/test.csv')\n",
    "# print('loading file done!')\n",
    "# df_sub = pd.DataFrame()\n",
    "# df_sub['click_id'] = df_test_raw['click_id']\n",
    "# df_sub['is_attributed'] = pred\n",
    "# print('predicting file done!')\n",
    "# submission_name = model_path+prefix.format(1)+submission_postfix+'.csv.gz'\n",
    "# df_sub.to_csv(submission_name, compression='gzip', index=False)\n",
    "\n",
    "    "
   ]
  },
  {
   "cell_type": "markdown",
   "metadata": {},
   "source": [
    "# Average"
   ]
  },
  {
   "cell_type": "code",
   "execution_count": 2,
   "metadata": {
    "collapsed": true
   },
   "outputs": [],
   "source": [
    "#### load each and average\n",
    "load_path = '/home/kai/data/kaggle/talkingdata/wl/data/equalhour/'\n",
    "day7 = np.load(load_path+'concat_day8day9_val_day7_allday_supplement_V2_attributediff_matchannel.npy')\n",
    "day8 = np.load(load_path+'concat_day7day9_val_day8_allday_supplement_V2_attributediff_matchannel.npy')\n",
    "day9 = np.load(load_path+'concat_day7day8_val_day9_allday_supplement_V2_attributediff_matchannel.npy')\n",
    "\n",
    "pred = (day7 + day8 + day9)/3"
   ]
  },
  {
   "cell_type": "code",
   "execution_count": 3,
   "metadata": {},
   "outputs": [
    {
     "name": "stdout",
     "output_type": "stream",
     "text": [
      "loading file done!\n",
      "predicting file done!\n"
     ]
    }
   ],
   "source": [
    "# prediction\n",
    "df_test_raw = pd.read_csv('/home/kai/data/kaggle/talkingdata/data/test.csv')\n",
    "print('loading file done!')\n",
    "df_sub = pd.DataFrame()\n",
    "df_sub['click_id'] = df_test_raw['click_id']\n",
    "df_sub['is_attributed'] = pred\n",
    "print('predicting file done!')\n",
    "df_sub.to_csv('/home/kai/data/kaggle/talkingdata/wl/data/submission/allday_blend_supplement_V2_attributediff_matchannel.csv.gz', compression='gzip', index=False)\n"
   ]
  },
  {
   "cell_type": "code",
   "execution_count": null,
   "metadata": {
    "collapsed": true
   },
   "outputs": [],
   "source": []
  }
 ],
 "metadata": {
  "kernelspec": {
   "display_name": "Python 3",
   "language": "python",
   "name": "python3"
  },
  "language_info": {
   "codemirror_mode": {
    "name": "ipython",
    "version": 3
   },
   "file_extension": ".py",
   "mimetype": "text/x-python",
   "name": "python",
   "nbconvert_exporter": "python",
   "pygments_lexer": "ipython3",
   "version": "3.6.3"
  }
 },
 "nbformat": 4,
 "nbformat_minor": 2
}
