{
 "cells": [
  {
   "cell_type": "code",
   "execution_count": 2,
   "metadata": {
    "collapsed": true
   },
   "outputs": [],
   "source": [
    "import pandas as pd\n",
    "import numpy as np\n",
    "import time\n",
    "import lightgbm as lgb\n",
    "import sys"
   ]
  },
  {
   "cell_type": "code",
   "execution_count": 3,
   "metadata": {},
   "outputs": [
    {
     "name": "stdout",
     "output_type": "stream",
     "text": [
      "training loading done! Time: 116.29419326782227\n",
      "size is: 6.705522634088993\n",
      "length is 50000000\n"
     ]
    }
   ],
   "source": [
    "t1 = time.time()\n",
    "df_train = pd.read_csv('/home/kai/data/kaggle/talkingdata/wl/data/features/train_all_5000k_17cols.csv')\n",
    "df_test = pd.read_csv('/home/kai/data/kaggle/talkingdata/wl/data/features/test_all_5000k_17cols.csv')\n",
    "t2 = time.time()\n",
    "print('training loading done! Time: {}'.format(t2 - t1))\n",
    "print('size is: {}'.format(sys.getsizeof(df_train) / 1024 ** 3))\n",
    "print('length is {}'.format(len(df_train)))"
   ]
  },
  {
   "cell_type": "markdown",
   "metadata": {},
   "source": [
    "# Specify Categorical Columns"
   ]
  },
  {
   "cell_type": "code",
   "execution_count": 4,
   "metadata": {
    "collapsed": true
   },
   "outputs": [],
   "source": [
    "# categorical_col = ['app','os', 'channel', 'ip']\n",
    "categorical_col = ['app','os', 'channel']\n",
    "target = 'is_attributed'\n",
    "feature_cols = list(set(df_train.columns) - set([target]))"
   ]
  },
  {
   "cell_type": "code",
   "execution_count": 5,
   "metadata": {},
   "outputs": [
    {
     "data": {
      "text/plain": [
       "['device_minute_mean',\n",
       " 'ip_channel_mean',\n",
       " 'app_channel_hour_mean',\n",
       " 'app_os_hour_mean',\n",
       " 'ip_app_mean',\n",
       " 'ip_channel_count',\n",
       " 'ip_mean',\n",
       " 'ip_os_hour_count',\n",
       " 'app',\n",
       " 'ip_second_mean',\n",
       " 'hour_minute_second_mean',\n",
       " 'channel',\n",
       " 'ip_minute_count',\n",
       " 'device_minute_second_mean',\n",
       " 'app_os_channel_mean',\n",
       " 'os',\n",
       " 'ip_app_device_mean']"
      ]
     },
     "execution_count": 5,
     "metadata": {},
     "output_type": "execute_result"
    }
   ],
   "source": [
    "feature_cols"
   ]
  },
  {
   "cell_type": "markdown",
   "metadata": {},
   "source": [
    "# Get Validation"
   ]
  },
  {
   "cell_type": "code",
   "execution_count": 8,
   "metadata": {},
   "outputs": [
    {
     "name": "stdout",
     "output_type": "stream",
     "text": [
      "6.370246432721615\n"
     ]
    }
   ],
   "source": [
    "from sklearn.model_selection import train_test_split\n",
    "trainset, valset = train_test_split(df_train,test_size=0.1, random_state=31)\n",
    "print(sys.getsizeof(trainset)/ 1024 **3)"
   ]
  },
  {
   "cell_type": "code",
   "execution_count": 19,
   "metadata": {},
   "outputs": [
    {
     "data": {
      "text/plain": [
       "210"
      ]
     },
     "execution_count": 19,
     "metadata": {},
     "output_type": "execute_result"
    }
   ],
   "source": [
    "y_train = trainset[target].values\n",
    "y_val = valset[target].values\n",
    "\n",
    "lgb_train = lgb.Dataset(trainset[feature_cols], y_train, categorical_feature = categorical_col)\n",
    "lgb_val = lgb.Dataset(valset[feature_cols], y_val, categorical_feature = categorical_col)\n",
    "\n",
    "zeros = len(y_train[y_train == 0])\n",
    "scale_pos_weight = len(y_train[y_train == 0]) / len(y_train[y_train == 1])\n",
    "import gc\n",
    "# del df_train\n",
    "gc.collect()"
   ]
  },
  {
   "cell_type": "markdown",
   "metadata": {},
   "source": [
    "# Train Lightgbm"
   ]
  },
  {
   "cell_type": "code",
   "execution_count": 20,
   "metadata": {},
   "outputs": [
    {
     "name": "stderr",
     "output_type": "stream",
     "text": [
      "/home/kai/anaconda3/lib/python3.6/site-packages/lightgbm/engine.py:99: UserWarning: Found `num_rounds` in params. Will use it instead of argument\n",
      "  warnings.warn(\"Found `{}` in params. Will use it instead of argument\".format(alias))\n",
      "/home/kai/anaconda3/lib/python3.6/site-packages/lightgbm/engine.py:104: UserWarning: Found `early_stopping_round` in params. Will use it instead of argument\n",
      "  warnings.warn(\"Found `{}` in params. Will use it instead of argument\".format(alias))\n",
      "/home/kai/anaconda3/lib/python3.6/site-packages/lightgbm/basic.py:1027: UserWarning: Using categorical_feature in Dataset.\n",
      "  warnings.warn('Using categorical_feature in Dataset.')\n",
      "/home/kai/anaconda3/lib/python3.6/site-packages/lightgbm/basic.py:668: UserWarning: categorical_feature in param dict is overrided.\n",
      "  warnings.warn('categorical_feature in param dict is overrided.')\n"
     ]
    },
    {
     "name": "stdout",
     "output_type": "stream",
     "text": [
      "Training until validation scores don't improve for 50 rounds.\n",
      "[10]\tvalid_0's auc: 0.999242\tvalid_0's binary_logloss: 0.371639\n",
      "[20]\tvalid_0's auc: 0.999316\tvalid_0's binary_logloss: 0.219727\n",
      "[30]\tvalid_0's auc: 0.999395\tvalid_0's binary_logloss: 0.13901\n",
      "[40]\tvalid_0's auc: 0.999429\tvalid_0's binary_logloss: 0.0934223\n",
      "[50]\tvalid_0's auc: 0.999458\tvalid_0's binary_logloss: 0.0667748\n",
      "[60]\tvalid_0's auc: 0.999489\tvalid_0's binary_logloss: 0.0510195\n",
      "[70]\tvalid_0's auc: 0.99951\tvalid_0's binary_logloss: 0.0416451\n",
      "[80]\tvalid_0's auc: 0.999524\tvalid_0's binary_logloss: 0.0358293\n",
      "[90]\tvalid_0's auc: 0.999531\tvalid_0's binary_logloss: 0.0323158\n",
      "[100]\tvalid_0's auc: 0.999538\tvalid_0's binary_logloss: 0.0301037\n",
      "[110]\tvalid_0's auc: 0.999544\tvalid_0's binary_logloss: 0.0287088\n",
      "[120]\tvalid_0's auc: 0.99956\tvalid_0's binary_logloss: 0.0278061\n",
      "[130]\tvalid_0's auc: 0.999564\tvalid_0's binary_logloss: 0.027208\n",
      "[140]\tvalid_0's auc: 0.999571\tvalid_0's binary_logloss: 0.0267933\n",
      "[150]\tvalid_0's auc: 0.999576\tvalid_0's binary_logloss: 0.0264375\n",
      "[160]\tvalid_0's auc: 0.999577\tvalid_0's binary_logloss: 0.0261637\n",
      "[170]\tvalid_0's auc: 0.999579\tvalid_0's binary_logloss: 0.0259522\n",
      "[180]\tvalid_0's auc: 0.99958\tvalid_0's binary_logloss: 0.025774\n",
      "[190]\tvalid_0's auc: 0.999581\tvalid_0's binary_logloss: 0.0256344\n",
      "[200]\tvalid_0's auc: 0.999581\tvalid_0's binary_logloss: 0.0254829\n",
      "[210]\tvalid_0's auc: 0.999581\tvalid_0's binary_logloss: 0.0253196\n",
      "[220]\tvalid_0's auc: 0.999582\tvalid_0's binary_logloss: 0.025219\n",
      "[230]\tvalid_0's auc: 0.999583\tvalid_0's binary_logloss: 0.025077\n",
      "[240]\tvalid_0's auc: 0.999583\tvalid_0's binary_logloss: 0.0249501\n",
      "[250]\tvalid_0's auc: 0.999583\tvalid_0's binary_logloss: 0.0248225\n",
      "[260]\tvalid_0's auc: 0.999583\tvalid_0's binary_logloss: 0.0247198\n",
      "[270]\tvalid_0's auc: 0.999584\tvalid_0's binary_logloss: 0.0246022\n",
      "[280]\tvalid_0's auc: 0.999583\tvalid_0's binary_logloss: 0.0244999\n",
      "[290]\tvalid_0's auc: 0.999584\tvalid_0's binary_logloss: 0.024366\n",
      "[300]\tvalid_0's auc: 0.999584\tvalid_0's binary_logloss: 0.0242634\n",
      "[310]\tvalid_0's auc: 0.999584\tvalid_0's binary_logloss: 0.0241495\n",
      "[320]\tvalid_0's auc: 0.999584\tvalid_0's binary_logloss: 0.0240571\n",
      "[330]\tvalid_0's auc: 0.999584\tvalid_0's binary_logloss: 0.0239338\n",
      "[340]\tvalid_0's auc: 0.999584\tvalid_0's binary_logloss: 0.023841\n",
      "[350]\tvalid_0's auc: 0.999584\tvalid_0's binary_logloss: 0.0237222\n",
      "[360]\tvalid_0's auc: 0.999584\tvalid_0's binary_logloss: 0.0236479\n",
      "[370]\tvalid_0's auc: 0.999584\tvalid_0's binary_logloss: 0.0235471\n",
      "[380]\tvalid_0's auc: 0.999583\tvalid_0's binary_logloss: 0.0234416\n",
      "[390]\tvalid_0's auc: 0.999583\tvalid_0's binary_logloss: 0.0233299\n",
      "[400]\tvalid_0's auc: 0.999583\tvalid_0's binary_logloss: 0.0232598\n",
      "Early stopping, best iteration is:\n",
      "[353]\tvalid_0's auc: 0.999585\tvalid_0's binary_logloss: 0.0237094\n"
     ]
    }
   ],
   "source": [
    "params = {\n",
    "        'objective': 'binary',\n",
    "        'boosting': 'gbdt',\n",
    "        'num_rounds': 2000,\n",
    "        'learning_rate': 0.05,\n",
    "        'num_leaves': 31,\n",
    "        'num_threads': 16, # best speed: set to number of real cpu cores, which is vCPU/2\n",
    "        'device': 'cpu',\n",
    "        'max_depth': -1, # no limit. This is used to deal with over-fitting when #data is small.\n",
    "        'min_data_in_leaf': 100,  #minimal number of data in one leaf. Can be used to deal with over-fitting\n",
    "        'feature_fraction': 0.85, #For example, if set to 0.8, will select 80% features before training each tree.  speed up training / deal with over-fitting\n",
    "        'feature_fraction_seed': 1,\n",
    "        'early_stopping_round':50,\n",
    "        'bagging_fraction': 0.8, #Randomly select part of data without resampling\n",
    "        'bagging_freq': 1, #frequency for bagging, 0 means disable bagging. k means will perform bagging at every k iteration. to enable bagging, bagging_fraction should be set as well\n",
    "        'bagging_seed': 1,\n",
    "        #'max_bin': 255,\n",
    "        'verbose': 0,\n",
    "        'scale_pos_weight': scale_pos_weight,\n",
    "        'metric' : ['binary_logloss', 'auc']\n",
    "    }\n",
    "\n",
    "model = lgb.train(params, train_set=lgb_train, valid_sets=lgb_val, verbose_eval=10)"
   ]
  },
  {
   "cell_type": "code",
   "execution_count": 21,
   "metadata": {},
   "outputs": [
    {
     "name": "stdout",
     "output_type": "stream",
     "text": [
      "0.999584622243\n"
     ]
    }
   ],
   "source": [
    "from sklearn.metrics import roc_auc_score\n",
    "pred_val = model.predict(valset[feature_cols])\n",
    "print(roc_auc_score(y_val,pred_val))"
   ]
  },
  {
   "cell_type": "code",
   "execution_count": 22,
   "metadata": {
    "collapsed": true
   },
   "outputs": [],
   "source": [
    "importance = pd.Series(model.feature_importance(), index=feature_cols)\n",
    "importance = importance.sort_values(ascending=False)\n",
    "if len(model.feature_importance()) != len(feature_cols):\n",
    "    raise ValueError('Feature importance has length: {}, \\n while feature number is {}'.\n",
    "                     format(len(model.feature_importance()), len(feature_cols)))\n",
    "importance.to_csv('/home/kai/data/kaggle/talkingdata/wl/data/output/importance_5000k_col17_all.csv')"
   ]
  },
  {
   "cell_type": "code",
   "execution_count": 23,
   "metadata": {},
   "outputs": [
    {
     "data": {
      "text/plain": [
       "channel                      2015\n",
       "os                           1502\n",
       "ip_second_mean                977\n",
       "ip_app_device_mean            678\n",
       "hour_minute_second_mean       648\n",
       "ip_channel_mean               634\n",
       "app_os_hour_mean              564\n",
       "device_minute_second_mean     457\n",
       "app                           453\n",
       "ip_mean                       433\n",
       "ip_os_hour_count              428\n",
       "device_minute_mean            350\n",
       "ip_channel_count              329\n",
       "ip_minute_count               298\n",
       "app_channel_hour_mean         294\n",
       "ip_app_mean                   284\n",
       "app_os_channel_mean           246\n",
       "dtype: int64"
      ]
     },
     "execution_count": 23,
     "metadata": {},
     "output_type": "execute_result"
    }
   ],
   "source": [
    "importance"
   ]
  },
  {
   "cell_type": "code",
   "execution_count": 24,
   "metadata": {},
   "outputs": [],
   "source": [
    "# prediction\n",
    "df_test_raw = pd.read_csv('/home/kai/data/kaggle/talkingdata/data/test.csv')\n",
    "df_test = df_test[list(valset[feature_cols].columns)]\n",
    "df_sub = pd.DataFrame()\n",
    "df_sub['click_id'] = df_test_raw['click_id']\n",
    "df_sub['is_attributed'] = model.predict(df_test)\n",
    "df_sub.to_csv('/home/kai/data/kaggle/talkingdata/wl/data/submission/train_all_500k_col17_1.csv.gz', compression='gzip', index=False)\n",
    "\n"
   ]
  },
  {
   "cell_type": "code",
   "execution_count": 17,
   "metadata": {
    "collapsed": true
   },
   "outputs": [],
   "source": [
    "# prediction\n",
    "df_test_raw = pd.read_csv('/home/kai/data/kaggle/talkingdata/data/test.csv')\n",
    "\n",
    "df_sub = pd.DataFrame()\n",
    "df_sub['click_id'] = df_test_raw['click_id']\n",
    "df_sub['is_attributed'] = bb"
   ]
  },
  {
   "cell_type": "code",
   "execution_count": 25,
   "metadata": {},
   "outputs": [
    {
     "data": {
      "text/plain": [
       "207369"
      ]
     },
     "execution_count": 25,
     "metadata": {},
     "output_type": "execute_result"
    }
   ],
   "source": [
    "len(df_sub[df_sub['is_attributed'] > 0.5])"
   ]
  },
  {
   "cell_type": "code",
   "execution_count": 26,
   "metadata": {},
   "outputs": [
    {
     "name": "stdout",
     "output_type": "stream",
     "text": [
      "0.9997829750816757\n",
      "0.9889641392133427\n",
      "0.997235511111\n"
     ]
    }
   ],
   "source": [
    "a1 = 1 - 4078/len(df_sub)\n",
    "print(a1)\n",
    "\n",
    "a2 = 1 - 207369/len(df_sub)\n",
    "print(a2)\n",
    "\n",
    "a3 = 1- y_train.sum()/len(y_train)\n",
    "print(a3)"
   ]
  },
  {
   "cell_type": "code",
   "execution_count": null,
   "metadata": {
    "collapsed": true
   },
   "outputs": [],
   "source": []
  }
 ],
 "metadata": {
  "kernelspec": {
   "display_name": "Python 3",
   "language": "python",
   "name": "python3"
  },
  "language_info": {
   "codemirror_mode": {
    "name": "ipython",
    "version": 3
   },
   "file_extension": ".py",
   "mimetype": "text/x-python",
   "name": "python",
   "nbconvert_exporter": "python",
   "pygments_lexer": "ipython3",
   "version": "3.6.3"
  }
 },
 "nbformat": 4,
 "nbformat_minor": 2
}
