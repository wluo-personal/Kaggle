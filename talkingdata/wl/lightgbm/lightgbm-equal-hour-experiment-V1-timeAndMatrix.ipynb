{
 "cells": [
  {
   "cell_type": "code",
   "execution_count": 1,
   "metadata": {
    "collapsed": true
   },
   "outputs": [],
   "source": [
    "import pandas as pd\n",
    "import lightgbm as lgb\n",
    "import numpy as np\n",
    "import gc"
   ]
  },
  {
   "cell_type": "code",
   "execution_count": 2,
   "metadata": {},
   "outputs": [
    {
     "name": "stdout",
     "output_type": "stream",
     "text": [
      "day7_features_matrixregV2.csv\n",
      "day7_features_matrixregV2_plus.csv\n",
      "day8_features_matrixregV2.csv\n",
      "day8_features_matrixregV2_plus.csv\n",
      "day9_features_matrixregV2.csv\n",
      "day9_features_matrixregV2_plus.csv\n",
      "test_features_matrixregV2.csv\n",
      "test_features_matrixregV2_plus.csv\n"
     ]
    }
   ],
   "source": [
    "load_path = '/home/kai/data/kaggle/talkingdata/wl/data/equalhour/'\n",
    "file_format = '{}_features_matrixregV2.csv'\n",
    "comp_format = '{}_features_matrixregV2_plus.csv'\n",
    "day_list = ['day7', 'day8', 'day9']\n",
    "df_dict = {}\n",
    "df_comp = {}\n",
    "for file in ['day7', 'day8', 'day9','test']: \n",
    "    df_dict[file] = pd.read_csv(load_path+file_format.format(file))\n",
    "    print(file_format.format(file))\n",
    "    df_comp[file] = pd.read_csv(load_path+comp_format.format(file))\n",
    "    print(comp_format.format(file))\n",
    "    "
   ]
  },
  {
   "cell_type": "markdown",
   "metadata": {},
   "source": [
    "# Load time"
   ]
  },
  {
   "cell_type": "code",
   "execution_count": 4,
   "metadata": {},
   "outputs": [],
   "source": [
    "# time_list = list(set(df_comp['test'].columns) - set(['matrixFact_user_ipchannel_item_appdeviceos']))\n",
    "for day in ['day7', 'day8','day9', 'test']:\n",
    "        df_dict[day]['matrixFact_user_ipchannel_item_appdeviceos'] = df_comp[day]['matrixFact_user_ipchannel_item_appdeviceos']"
   ]
  },
  {
   "cell_type": "markdown",
   "metadata": {},
   "source": [
    "# Load Ip"
   ]
  },
  {
   "cell_type": "code",
   "execution_count": 5,
   "metadata": {
    "collapsed": true
   },
   "outputs": [],
   "source": [
    "# path = '/home/kai/data/kaggle/talkingdata/data/'\n",
    "# train = pd.read_csv(path + 'train_cleaned_final.csv')\n",
    "# print('loading training done')\n",
    "# test = pd.read_csv(path + 'test_cleaned_final.csv')\n",
    "# print('loading testing done')\n",
    "\n",
    "# df_hour = pd.read_csv(path+'hourdistri.csv', index_col='Unnamed: 0')\n",
    "# index = {}\n",
    "# for day in ['day7', 'day8','day9']:\n",
    "#     print(day)\n",
    "#     index[day] = list(range(df_hour.loc[day,'4start'], df_hour.loc[day,'6end0sec'])) + \\\n",
    "#     list(range(df_hour.loc[day,'9start'], df_hour.loc[day,'11end0sec'])) + \\\n",
    "#     list(range(df_hour.loc[day,'13start'], df_hour.loc[day,'15end0sec'])) \n",
    "#     df_dict[day]['ip'] = train.loc[index[day], 'ip'].values\n",
    "# print('processing test!')\n",
    "# df_dict['test']['ip'] = test['ip']\n"
   ]
  },
  {
   "cell_type": "markdown",
   "metadata": {
    "collapsed": true
   },
   "source": [
    "# just use categorical values that exist in both train and test\n",
    "no improvement  \n",
    "ip will not help"
   ]
  },
  {
   "cell_type": "code",
   "execution_count": 6,
   "metadata": {
    "collapsed": true
   },
   "outputs": [],
   "source": [
    "# def intersec_category(df_train_all, df_test_all, df, col_list):\n",
    "#     for col in col_list:\n",
    "#         print('processing: {}'.format(col))\n",
    "#         train_index = set(df_train_all[col].value_counts().index)\n",
    "#         test_index = set(df_test_all[col].value_counts().index)                 \n",
    "#         inter_index = list(train_index.intersection(test_index))\n",
    "#         print('train index length is: {}'.format(len(train_index)))\n",
    "#         print('test index length is: {}'.format(len(test_index)))\n",
    "#         print('intersection index length is: {}'.format(len(inter_index)))\n",
    "#         index_map = pd.Series(inter_index, index=inter_index)\n",
    "#         df.loc[:,col] = df[col].map(index_map).fillna(-1)\n",
    "#     return df\n",
    "\n",
    "# col_list = [ 'app', 'device', 'os', 'channel']\n",
    "# df_train_all = pd.concat([df_dict[day_list[0]],df_dict[day_list[1]], df_dict[day_list[2]]])\n",
    "# # for file in ['day7', 'day8', 'day9','test']: \n",
    "# for file in ['day7']:\n",
    "#     temp = intersec_category(df_train_all, df_dict['test'], df_dict[file],col_list)"
   ]
  },
  {
   "cell_type": "markdown",
   "metadata": {},
   "source": [
    "# define parameter"
   ]
  },
  {
   "cell_type": "code",
   "execution_count": 7,
   "metadata": {
    "collapsed": true
   },
   "outputs": [],
   "source": [
    "target = 'is_attributed'\n",
    "\n",
    "day_list = ['day7', 'day8', 'day9']\n",
    "\n",
    "combine = 0\n",
    "params = {\n",
    "        'objective': 'binary',\n",
    "        'boosting': 'gbdt',\n",
    "        'num_rounds': 2000,\n",
    "        'learning_rate': 0.1,\n",
    "        'num_leaves': 61,\n",
    "        'num_threads': 4, # best speed: set to number of real cpu cores, which is vCPU/2\n",
    "        'device': 'cpu',\n",
    "        'max_depth': -1, # no limit. This is used to deal with over-fitting when #data is small.\n",
    "        'min_data_in_leaf': 390,  #minimal number of data in one leaf. Can be used to deal with over-fitting\n",
    "        'feature_fraction': 0.7, #For example, if set to 0.8, will select 80% features before training each tree.  speed up training / deal with over-fitting\n",
    "        'feature_fraction_seed': 1,\n",
    "        'early_stopping_round':60,\n",
    "        'bagging_fraction': 0.7, #Randomly select part of data without resampling\n",
    "        'bagging_freq': 1, #frequency for bagging, 0 means disable bagging. k means will perform bagging at every k iteration. to enable bagging, bagging_fraction should be set as well\n",
    "        'bagging_seed': 1,\n",
    "        'verbose': 0,\n",
    "        'scale_pos_weight': 400,\n",
    "        'metric' : [ 'auc']\n",
    "    }\n",
    "\n",
    "categorical_col = [ 'app', 'device', 'os', 'channel', 'hour']\n",
    "# categorical_col = [ 'app', 'device', 'os', 'hour']\n",
    "feature_cols = list(df_dict['test'].columns.values)"
   ]
  },
  {
   "cell_type": "code",
   "execution_count": 8,
   "metadata": {},
   "outputs": [
    {
     "data": {
      "text/plain": [
       "array(['ip_day_hour_count', 'ip_os_day_hour_count',\n",
       "       'ip_app_day_hour_count', 'ip_app_os_day_hour_count',\n",
       "       'app_day_hour_count', 'ip_device_os_count',\n",
       "       'ip_app_device_os_count', 'ip_device_os_mean',\n",
       "       'ip_app_device_os_mean', 'ip_app_device_mean', 'app_device_os_mean',\n",
       "       'ip_device_os_time2nextclick', 'ip_app_device_os_time2nextclick',\n",
       "       'ip_app_device_time2nextclick', 'app_device_os_time2nextclick',\n",
       "       'ip_device_os_time2previousclick',\n",
       "       'ip_app_device_os_time2previousclick',\n",
       "       'ip_app_device_time2previousclick',\n",
       "       'app_device_os_time2previousclick', 'ip_device_os_countfromfuture',\n",
       "       'ip_app_device_os_countfromfuture', 'ip_app_device_countfromfuture',\n",
       "       'app_device_os_countfromfuture', 'ip_device_os_countfrompast',\n",
       "       'ip_app_device_os_countfrompast', 'ip_app_device_countfrompast',\n",
       "       'app_device_os_countfrompast', 'ip_device_os_lasttimediff',\n",
       "       'ip_app_device_os_lasttimediff', 'ip_app_device_lasttimediff',\n",
       "       'app_device_os_lasttimediff',\n",
       "       'matrixFact_user_iposdeviceapp_item_app',\n",
       "       'matrixFact_user_ip_item_appdeviceos', 'ip_device_os_regression',\n",
       "       'ip_app_device_os_regression', 'ip_app_device_regression',\n",
       "       'app_device_os_regression', 'app', 'channel', 'device', 'os',\n",
       "       'hour', 'is_attributed',\n",
       "       'matrixFact_user_ipchannel_item_appdeviceos'], dtype=object)"
      ]
     },
     "execution_count": 8,
     "metadata": {},
     "output_type": "execute_result"
    }
   ],
   "source": [
    "df_dict['day7'].columns.values"
   ]
  },
  {
   "cell_type": "code",
   "execution_count": 16,
   "metadata": {
    "collapsed": true
   },
   "outputs": [],
   "source": [
    "# get rid of extra features\n",
    "# extra = set(['matrixFact_user_iposdeviceapp_item_channel', 'matrixFact_user_iposdeviceapp_item_device'])\n",
    "extra = set(['app_device_os_mean',\n",
    "             'app_device_os_time2nextclick', \n",
    "             'app_device_os_time2previousclick',\n",
    "             'app_device_os_countfromfuture',\n",
    "             'app_device_os_countfrompast', \n",
    "             'app_device_os_lasttimediff', \n",
    "             'app_device_os_regression' ])\n",
    "extra = set([])\n",
    "# extra = set(['ip_app_device_mean',\n",
    "#              'ip_app_device_time2nextclick', \n",
    "#              'ip_app_device_time2previousclick',\n",
    "#              'ip_app_device_countfromfuture',\n",
    "#              'ip_app_device_countfrompast', \n",
    "#              'ip_app_device_lasttimediff', \n",
    "#              'ip_app_device_regression'])\n",
    "feature_cols = list(set(feature_cols) - extra)"
   ]
  },
  {
   "cell_type": "code",
   "execution_count": 17,
   "metadata": {},
   "outputs": [
    {
     "data": {
      "text/plain": [
       "['ip_device_os_regression',\n",
       " 'ip_device_os_lasttimediff',\n",
       " 'ip_device_os_count',\n",
       " 'device',\n",
       " 'ip_device_os_countfrompast',\n",
       " 'ip_app_device_time2nextclick',\n",
       " 'ip_app_day_hour_count',\n",
       " 'hour',\n",
       " 'ip_app_device_lasttimediff',\n",
       " 'ip_app_device_mean',\n",
       " 'app_day_hour_count',\n",
       " 'ip_device_os_mean',\n",
       " 'channel',\n",
       " 'ip_app_device_os_countfromfuture',\n",
       " 'ip_app_device_os_regression',\n",
       " 'ip_app_device_os_countfrompast',\n",
       " 'ip_app_device_os_time2nextclick',\n",
       " 'ip_app_os_day_hour_count',\n",
       " 'ip_app_device_os_time2previousclick',\n",
       " 'matrixFact_user_ip_item_appdeviceos',\n",
       " 'ip_app_device_regression',\n",
       " 'ip_app_device_os_mean',\n",
       " 'ip_device_os_time2nextclick',\n",
       " 'matrixFact_user_ipchannel_item_appdeviceos',\n",
       " 'ip_os_day_hour_count',\n",
       " 'app',\n",
       " 'ip_app_device_os_lasttimediff',\n",
       " 'ip_app_device_countfrompast',\n",
       " 'ip_app_device_countfromfuture',\n",
       " 'ip_day_hour_count',\n",
       " 'matrixFact_user_iposdeviceapp_item_app',\n",
       " 'ip_app_device_os_count',\n",
       " 'ip_device_os_time2previousclick',\n",
       " 'ip_app_device_time2previousclick',\n",
       " 'os',\n",
       " 'ip_device_os_countfromfuture']"
      ]
     },
     "execution_count": 17,
     "metadata": {},
     "output_type": "execute_result"
    }
   ],
   "source": [
    "feature_cols"
   ]
  },
  {
   "cell_type": "code",
   "execution_count": 18,
   "metadata": {
    "collapsed": true
   },
   "outputs": [],
   "source": [
    "def train_lightgbm(x_train, x_val, feature_cols, categorical_feature, params, best_round = None, target='is_attributed'):\n",
    "    param = params.copy()\n",
    "    y_train = x_train[target].values\n",
    "    y_val = x_val[target].values\n",
    "    \n",
    "    lgb_train = lgb.Dataset(x_train[feature_cols], y_train, categorical_feature = categorical_feature)\n",
    "    lgb_val = lgb.Dataset(x_val[feature_cols], y_val, categorical_feature = categorical_feature)\n",
    "    if best_round is not None:\n",
    "        param['num_rounds'] = best_round\n",
    "        del param['early_stopping_round']\n",
    "    print('start training')\n",
    "    model = lgb.train(param, train_set=lgb_train, valid_sets=lgb_val, verbose_eval=10)\n",
    "    return model"
   ]
  },
  {
   "cell_type": "code",
   "execution_count": 19,
   "metadata": {},
   "outputs": [
    {
     "name": "stdout",
     "output_type": "stream",
     "text": [
      "concat_day8day9_val_day7_predtest_matrixregV2_leaf61_newMatrix_all.npy\n",
      "building train val done!\n",
      "start training\n"
     ]
    },
    {
     "name": "stderr",
     "output_type": "stream",
     "text": [
      "/home/kai/anaconda3/lib/python3.6/site-packages/lightgbm/engine.py:99: UserWarning: Found `num_rounds` in params. Will use it instead of argument\n",
      "  warnings.warn(\"Found `{}` in params. Will use it instead of argument\".format(alias))\n",
      "/home/kai/anaconda3/lib/python3.6/site-packages/lightgbm/engine.py:104: UserWarning: Found `early_stopping_round` in params. Will use it instead of argument\n",
      "  warnings.warn(\"Found `{}` in params. Will use it instead of argument\".format(alias))\n",
      "/home/kai/anaconda3/lib/python3.6/site-packages/lightgbm/basic.py:1027: UserWarning: Using categorical_feature in Dataset.\n",
      "  warnings.warn('Using categorical_feature in Dataset.')\n",
      "/home/kai/anaconda3/lib/python3.6/site-packages/lightgbm/basic.py:668: UserWarning: categorical_feature in param dict is overrided.\n",
      "  warnings.warn('categorical_feature in param dict is overrided.')\n"
     ]
    },
    {
     "name": "stdout",
     "output_type": "stream",
     "text": [
      "Training until validation scores don't improve for 60 rounds.\n",
      "[10]\tvalid_0's auc: 0.980388\n",
      "[20]\tvalid_0's auc: 0.981961\n",
      "[30]\tvalid_0's auc: 0.982759\n",
      "[40]\tvalid_0's auc: 0.983658\n",
      "[50]\tvalid_0's auc: 0.984079\n",
      "[60]\tvalid_0's auc: 0.984379\n",
      "[70]\tvalid_0's auc: 0.984481\n",
      "[80]\tvalid_0's auc: 0.98456\n",
      "[90]\tvalid_0's auc: 0.984618\n",
      "[100]\tvalid_0's auc: 0.984644\n",
      "[110]\tvalid_0's auc: 0.984633\n",
      "[120]\tvalid_0's auc: 0.98467\n",
      "[130]\tvalid_0's auc: 0.98469\n",
      "[140]\tvalid_0's auc: 0.984678\n",
      "[150]\tvalid_0's auc: 0.984694\n",
      "[160]\tvalid_0's auc: 0.984676\n"
     ]
    },
    {
     "ename": "KeyboardInterrupt",
     "evalue": "",
     "output_type": "error",
     "traceback": [
      "\u001b[0;31m---------------------------------------------------------------------------\u001b[0m",
      "\u001b[0;31mKeyboardInterrupt\u001b[0m                         Traceback (most recent call last)",
      "\u001b[0;32m<ipython-input-19-4dc9e51352d3>\u001b[0m in \u001b[0;36m<module>\u001b[0;34m()\u001b[0m\n\u001b[1;32m      6\u001b[0m     \u001b[0mvalset\u001b[0m \u001b[0;34m=\u001b[0m \u001b[0mdf_dict\u001b[0m\u001b[0;34m[\u001b[0m\u001b[0mday\u001b[0m\u001b[0;34m]\u001b[0m\u001b[0;34m\u001b[0m\u001b[0m\n\u001b[1;32m      7\u001b[0m     \u001b[0mprint\u001b[0m\u001b[0;34m(\u001b[0m\u001b[0;34m'building train val done!'\u001b[0m\u001b[0;34m)\u001b[0m\u001b[0;34m\u001b[0m\u001b[0m\n\u001b[0;32m----> 8\u001b[0;31m     \u001b[0mmodel\u001b[0m \u001b[0;34m=\u001b[0m \u001b[0mtrain_lightgbm\u001b[0m\u001b[0;34m(\u001b[0m\u001b[0mtrainset\u001b[0m\u001b[0;34m,\u001b[0m \u001b[0mvalset\u001b[0m\u001b[0;34m,\u001b[0m \u001b[0mfeature_cols\u001b[0m\u001b[0;34m,\u001b[0m \u001b[0mcategorical_col\u001b[0m\u001b[0;34m,\u001b[0m \u001b[0mparams\u001b[0m\u001b[0;34m)\u001b[0m\u001b[0;34m\u001b[0m\u001b[0m\n\u001b[0m\u001b[1;32m      9\u001b[0m     \u001b[0mbest_round\u001b[0m \u001b[0;34m=\u001b[0m \u001b[0mmodel\u001b[0m\u001b[0;34m.\u001b[0m\u001b[0mbest_iteration\u001b[0m\u001b[0;34m\u001b[0m\u001b[0m\n\u001b[1;32m     10\u001b[0m     \u001b[0mdf_all\u001b[0m \u001b[0;34m=\u001b[0m \u001b[0mpd\u001b[0m\u001b[0;34m.\u001b[0m\u001b[0mconcat\u001b[0m\u001b[0;34m(\u001b[0m\u001b[0;34m[\u001b[0m\u001b[0mtrainset\u001b[0m\u001b[0;34m,\u001b[0m \u001b[0mvalset\u001b[0m\u001b[0;34m]\u001b[0m\u001b[0;34m)\u001b[0m\u001b[0;34m\u001b[0m\u001b[0m\n",
      "\u001b[0;32m<ipython-input-18-cbe2c14d1b9d>\u001b[0m in \u001b[0;36mtrain_lightgbm\u001b[0;34m(x_train, x_val, feature_cols, categorical_feature, params, best_round, target)\u001b[0m\n\u001b[1;32m     10\u001b[0m         \u001b[0;32mdel\u001b[0m \u001b[0mparam\u001b[0m\u001b[0;34m[\u001b[0m\u001b[0;34m'early_stopping_round'\u001b[0m\u001b[0;34m]\u001b[0m\u001b[0;34m\u001b[0m\u001b[0m\n\u001b[1;32m     11\u001b[0m     \u001b[0mprint\u001b[0m\u001b[0;34m(\u001b[0m\u001b[0;34m'start training'\u001b[0m\u001b[0;34m)\u001b[0m\u001b[0;34m\u001b[0m\u001b[0m\n\u001b[0;32m---> 12\u001b[0;31m     \u001b[0mmodel\u001b[0m \u001b[0;34m=\u001b[0m \u001b[0mlgb\u001b[0m\u001b[0;34m.\u001b[0m\u001b[0mtrain\u001b[0m\u001b[0;34m(\u001b[0m\u001b[0mparam\u001b[0m\u001b[0;34m,\u001b[0m \u001b[0mtrain_set\u001b[0m\u001b[0;34m=\u001b[0m\u001b[0mlgb_train\u001b[0m\u001b[0;34m,\u001b[0m \u001b[0mvalid_sets\u001b[0m\u001b[0;34m=\u001b[0m\u001b[0mlgb_val\u001b[0m\u001b[0;34m,\u001b[0m \u001b[0mverbose_eval\u001b[0m\u001b[0;34m=\u001b[0m\u001b[0;36m10\u001b[0m\u001b[0;34m)\u001b[0m\u001b[0;34m\u001b[0m\u001b[0m\n\u001b[0m\u001b[1;32m     13\u001b[0m     \u001b[0;32mreturn\u001b[0m \u001b[0mmodel\u001b[0m\u001b[0;34m\u001b[0m\u001b[0m\n",
      "\u001b[0;32m~/anaconda3/lib/python3.6/site-packages/lightgbm/engine.py\u001b[0m in \u001b[0;36mtrain\u001b[0;34m(params, train_set, num_boost_round, valid_sets, valid_names, fobj, feval, init_model, feature_name, categorical_feature, early_stopping_rounds, evals_result, verbose_eval, learning_rates, keep_training_booster, callbacks)\u001b[0m\n\u001b[1;32m    206\u001b[0m             \u001b[0;32mif\u001b[0m \u001b[0mis_valid_contain_train\u001b[0m\u001b[0;34m:\u001b[0m\u001b[0;34m\u001b[0m\u001b[0m\n\u001b[1;32m    207\u001b[0m                 \u001b[0mevaluation_result_list\u001b[0m\u001b[0;34m.\u001b[0m\u001b[0mextend\u001b[0m\u001b[0;34m(\u001b[0m\u001b[0mbooster\u001b[0m\u001b[0;34m.\u001b[0m\u001b[0meval_train\u001b[0m\u001b[0;34m(\u001b[0m\u001b[0mfeval\u001b[0m\u001b[0;34m)\u001b[0m\u001b[0;34m)\u001b[0m\u001b[0;34m\u001b[0m\u001b[0m\n\u001b[0;32m--> 208\u001b[0;31m             \u001b[0mevaluation_result_list\u001b[0m\u001b[0;34m.\u001b[0m\u001b[0mextend\u001b[0m\u001b[0;34m(\u001b[0m\u001b[0mbooster\u001b[0m\u001b[0;34m.\u001b[0m\u001b[0meval_valid\u001b[0m\u001b[0;34m(\u001b[0m\u001b[0mfeval\u001b[0m\u001b[0;34m)\u001b[0m\u001b[0;34m)\u001b[0m\u001b[0;34m\u001b[0m\u001b[0m\n\u001b[0m\u001b[1;32m    209\u001b[0m         \u001b[0;32mtry\u001b[0m\u001b[0;34m:\u001b[0m\u001b[0;34m\u001b[0m\u001b[0m\n\u001b[1;32m    210\u001b[0m             \u001b[0;32mfor\u001b[0m \u001b[0mcb\u001b[0m \u001b[0;32min\u001b[0m \u001b[0mcallbacks_after_iter\u001b[0m\u001b[0;34m:\u001b[0m\u001b[0;34m\u001b[0m\u001b[0m\n",
      "\u001b[0;32m~/anaconda3/lib/python3.6/site-packages/lightgbm/basic.py\u001b[0m in \u001b[0;36meval_valid\u001b[0;34m(self, feval)\u001b[0m\n\u001b[1;32m   1628\u001b[0m             \u001b[0mList\u001b[0m \u001b[0;32mwith\u001b[0m \u001b[0mevaluation\u001b[0m \u001b[0mresults\u001b[0m\u001b[0;34m.\u001b[0m\u001b[0;34m\u001b[0m\u001b[0m\n\u001b[1;32m   1629\u001b[0m         \"\"\"\n\u001b[0;32m-> 1630\u001b[0;31m         return [item for i in range_(1, self.__num_dataset)\n\u001b[0m\u001b[1;32m   1631\u001b[0m                 for item in self.__inner_eval(self.name_valid_sets[i - 1], i, feval)]\n\u001b[1;32m   1632\u001b[0m \u001b[0;34m\u001b[0m\u001b[0m\n",
      "\u001b[0;32m~/anaconda3/lib/python3.6/site-packages/lightgbm/basic.py\u001b[0m in \u001b[0;36m<listcomp>\u001b[0;34m(.0)\u001b[0m\n\u001b[1;32m   1629\u001b[0m         \"\"\"\n\u001b[1;32m   1630\u001b[0m         return [item for i in range_(1, self.__num_dataset)\n\u001b[0;32m-> 1631\u001b[0;31m                 for item in self.__inner_eval(self.name_valid_sets[i - 1], i, feval)]\n\u001b[0m\u001b[1;32m   1632\u001b[0m \u001b[0;34m\u001b[0m\u001b[0m\n\u001b[1;32m   1633\u001b[0m     \u001b[0;32mdef\u001b[0m \u001b[0msave_model\u001b[0m\u001b[0;34m(\u001b[0m\u001b[0mself\u001b[0m\u001b[0;34m,\u001b[0m \u001b[0mfilename\u001b[0m\u001b[0;34m,\u001b[0m \u001b[0mnum_iteration\u001b[0m\u001b[0;34m=\u001b[0m\u001b[0;34m-\u001b[0m\u001b[0;36m1\u001b[0m\u001b[0;34m)\u001b[0m\u001b[0;34m:\u001b[0m\u001b[0;34m\u001b[0m\u001b[0m\n",
      "\u001b[0;32m~/anaconda3/lib/python3.6/site-packages/lightgbm/basic.py\u001b[0m in \u001b[0;36m__inner_eval\u001b[0;34m(self, data_name, data_idx, feval)\u001b[0m\n\u001b[1;32m   1881\u001b[0m                 \u001b[0mctypes\u001b[0m\u001b[0;34m.\u001b[0m\u001b[0mc_int\u001b[0m\u001b[0;34m(\u001b[0m\u001b[0mdata_idx\u001b[0m\u001b[0;34m)\u001b[0m\u001b[0;34m,\u001b[0m\u001b[0;34m\u001b[0m\u001b[0m\n\u001b[1;32m   1882\u001b[0m                 \u001b[0mctypes\u001b[0m\u001b[0;34m.\u001b[0m\u001b[0mbyref\u001b[0m\u001b[0;34m(\u001b[0m\u001b[0mtmp_out_len\u001b[0m\u001b[0;34m)\u001b[0m\u001b[0;34m,\u001b[0m\u001b[0;34m\u001b[0m\u001b[0m\n\u001b[0;32m-> 1883\u001b[0;31m                 result.ctypes.data_as(ctypes.POINTER(ctypes.c_double))))\n\u001b[0m\u001b[1;32m   1884\u001b[0m             \u001b[0;32mif\u001b[0m \u001b[0mtmp_out_len\u001b[0m\u001b[0;34m.\u001b[0m\u001b[0mvalue\u001b[0m \u001b[0;34m!=\u001b[0m \u001b[0mself\u001b[0m\u001b[0;34m.\u001b[0m\u001b[0m__num_inner_eval\u001b[0m\u001b[0;34m:\u001b[0m\u001b[0;34m\u001b[0m\u001b[0m\n\u001b[1;32m   1885\u001b[0m                 \u001b[0;32mraise\u001b[0m \u001b[0mValueError\u001b[0m\u001b[0;34m(\u001b[0m\u001b[0;34m\"Wrong length of eval results\"\u001b[0m\u001b[0;34m)\u001b[0m\u001b[0;34m\u001b[0m\u001b[0m\n",
      "\u001b[0;31mKeyboardInterrupt\u001b[0m: "
     ]
    }
   ],
   "source": [
    "for day in day_list:\n",
    "    train_day = list(set(day_list)-set([day]))\n",
    "    file_name = 'concat_{}{}_val_{}_predtest_matrixregV2_leaf61_newMatrix_all.npy'.format(train_day[0],train_day[1],day)\n",
    "    print(file_name)\n",
    "    trainset = pd.concat([df_dict[train_day[0]],df_dict[train_day[1]]])\n",
    "    valset = df_dict[day]\n",
    "    print('building train val done!')\n",
    "    model = train_lightgbm(trainset, valset, feature_cols, categorical_col, params)\n",
    "    best_round = model.best_iteration\n",
    "    df_all = pd.concat([trainset, valset])\n",
    "    model = train_lightgbm(df_all, valset, feature_cols, categorical_col, params, best_round)\n",
    "    del df_all\n",
    "    gc.collect()\n",
    "    pred = model.predict(df_dict['test'][feature_cols])\n",
    "    np.save(load_path+file_name, pred)\n",
    "    \n",
    "    # prediction\n",
    "    df_test_raw = pd.read_csv('/home/kai/data/kaggle/talkingdata/data/test.csv')\n",
    "    print('loading file done!')\n",
    "    df_sub = pd.DataFrame()\n",
    "    df_sub['click_id'] = df_test_raw['click_id']\n",
    "    df_sub['is_attributed'] = pred\n",
    "    print('predicting file done!')\n",
    "    df_sub.to_csv('/home/kai/data/kaggle/talkingdata/wl/data/submission/equal_hour_{}{}_val_{}_matrixregV2_leaf61_newMatrix_all.csv.gz'.format(train_day[0],train_day[1],day), compression='gzip', index=False)\n",
    "\n",
    "    "
   ]
  },
  {
   "cell_type": "code",
   "execution_count": 15,
   "metadata": {},
   "outputs": [
    {
     "data": {
      "text/plain": [
       "channel                                       1656\n",
       "os                                             939\n",
       "app                                            642\n",
       "ip_app_device_os_time2nextclick                503\n",
       "matrixFact_user_ip_item_appdeviceos            296\n",
       "matrixFact_user_iposdeviceapp_item_app         296\n",
       "ip_day_hour_count                              287\n",
       "ip_device_os_count                             255\n",
       "matrixFact_user_ipchannel_item_appdeviceos     202\n",
       "ip_app_device_os_lasttimediff                  202\n",
       "ip_app_device_os_count                         174\n",
       "hour                                           146\n",
       "ip_device_os_lasttimediff                      141\n",
       "ip_app_device_lasttimediff                     139\n",
       "ip_app_device_os_countfromfuture               133\n",
       "ip_app_device_countfrompast                    131\n",
       "app_day_hour_count                             130\n",
       "ip_app_os_day_hour_count                       117\n",
       "ip_app_device_time2nextclick                   116\n",
       "ip_device_os_countfromfuture                   116\n",
       "ip_app_device_countfromfuture                  102\n",
       "ip_app_device_os_time2previousclick             98\n",
       "ip_device_os_mean                               96\n",
       "ip_app_device_time2previousclick                95\n",
       "ip_app_device_mean                              93\n",
       "ip_device_os_regression                         89\n",
       "ip_device_os_time2nextclick                     87\n",
       "ip_device_os_countfrompast                      86\n",
       "ip_app_day_hour_count                           85\n",
       "ip_os_day_hour_count                            83\n",
       "ip_app_device_regression                        79\n",
       "ip_app_device_os_countfrompast                  75\n",
       "ip_device_os_time2previousclick                 73\n",
       "device                                          63\n",
       "ip_app_device_os_mean                           24\n",
       "ip_app_device_os_regression                     11\n",
       "dtype: int64"
      ]
     },
     "execution_count": 15,
     "metadata": {},
     "output_type": "execute_result"
    }
   ],
   "source": [
    "importance = pd.Series(model.feature_importance(), index=feature_cols)\n",
    "importance = importance.sort_values(ascending=False)\n",
    "if len(model.feature_importance()) != len(feature_cols):\n",
    "    raise ValueError('Feature importance has length: {}, \\n while feature number is {}'.\n",
    "                     format(len(model.feature_importance()), len(feature_cols)))\n",
    "    \n",
    "importance"
   ]
  },
  {
   "cell_type": "markdown",
   "metadata": {},
   "source": [
    "# Average"
   ]
  },
  {
   "cell_type": "code",
   "execution_count": 13,
   "metadata": {
    "collapsed": true
   },
   "outputs": [],
   "source": [
    "#### load each and average\n",
    "load_path = '/home/kai/data/kaggle/talkingdata/wl/data/equalhour/'\n",
    "day7 = np.load(load_path+'concat_day8day9_val_day7_predtest_matrixregV2_exclude_leaf61_newMatrix.npy')\n",
    "day8 = np.load(load_path+'concat_day7day9_val_day8_predtest_matrixregV2_exclude_leaf61_newMatrix.npy')\n",
    "day9 = np.load(load_path+'concat_day7day8_val_day9_predtest_matrixregV2_exclude_leaf61_newMatrix.npy')\n",
    "\n",
    "pred = (day7 + day8 + day9)/3"
   ]
  },
  {
   "cell_type": "code",
   "execution_count": 14,
   "metadata": {},
   "outputs": [
    {
     "name": "stdout",
     "output_type": "stream",
     "text": [
      "loading file done!\n",
      "predicting file done!\n"
     ]
    }
   ],
   "source": [
    "# prediction\n",
    "df_test_raw = pd.read_csv('/home/kai/data/kaggle/talkingdata/data/test.csv')\n",
    "print('loading file done!')\n",
    "df_sub = pd.DataFrame()\n",
    "df_sub['click_id'] = df_test_raw['click_id']\n",
    "df_sub['is_attributed'] = pred\n",
    "print('predicting file done!')\n",
    "df_sub.to_csv('/home/kai/data/kaggle/talkingdata/wl/data/submission/equal_hour_blend_matrixregV2_exclude_leaf61_newMatrix.csv.gz', compression='gzip', index=False)\n"
   ]
  },
  {
   "cell_type": "code",
   "execution_count": null,
   "metadata": {
    "collapsed": true
   },
   "outputs": [],
   "source": []
  }
 ],
 "metadata": {
  "kernelspec": {
   "display_name": "Python 3",
   "language": "python",
   "name": "python3"
  },
  "language_info": {
   "codemirror_mode": {
    "name": "ipython",
    "version": 3
   },
   "file_extension": ".py",
   "mimetype": "text/x-python",
   "name": "python",
   "nbconvert_exporter": "python",
   "pygments_lexer": "ipython3",
   "version": "3.6.3"
  }
 },
 "nbformat": 4,
 "nbformat_minor": 2
}
