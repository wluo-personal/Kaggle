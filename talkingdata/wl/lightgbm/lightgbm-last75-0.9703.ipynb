{
 "cells": [
  {
   "cell_type": "code",
   "execution_count": 1,
   "metadata": {
    "collapsed": true
   },
   "outputs": [],
   "source": [
    "import pandas as pd\n",
    "import numpy as np\n",
    "import time\n",
    "import lightgbm as lgb\n",
    "import sys"
   ]
  },
  {
   "cell_type": "code",
   "execution_count": 9,
   "metadata": {},
   "outputs": [
    {
     "name": "stdout",
     "output_type": "stream",
     "text": [
      "training loading done! Time: 37.36579656600952\n",
      "size is: 6.705522634088993\n",
      "length is 75000000\n"
     ]
    }
   ],
   "source": [
    "t1 = time.time()\n",
    "df_train = pd.read_csv('/home/kai/data/kaggle/talkingdata/wl/data/features/train_onlycount_last75m.csv')\n",
    "\n",
    "t2 = time.time()\n",
    "print('training loading done! Time: {}'.format(t2 - t1))\n",
    "print('size is: {}'.format(sys.getsizeof(df_train) / 1024 ** 3))\n",
    "print('length is {}'.format(len(df_train)))"
   ]
  },
  {
   "cell_type": "markdown",
   "metadata": {},
   "source": [
    "# Specify Categorical Columns"
   ]
  },
  {
   "cell_type": "code",
   "execution_count": 10,
   "metadata": {},
   "outputs": [
    {
     "data": {
      "text/plain": [
       "Index(['ip_day_intesthh_count', 'ip_day_hour_count', 'ip_os_day_hour_count',\n",
       "       'ip_app_day_hour_count', 'ip_app_os_day_hour_count',\n",
       "       'app_day_hour_count', 'channel', 'app', 'os', 'device', 'hour',\n",
       "       'is_attributed'],\n",
       "      dtype='object')"
      ]
     },
     "execution_count": 10,
     "metadata": {},
     "output_type": "execute_result"
    }
   ],
   "source": [
    "df_train.columns"
   ]
  },
  {
   "cell_type": "code",
   "execution_count": 11,
   "metadata": {
    "collapsed": true
   },
   "outputs": [],
   "source": [
    "categorical_col = [ 'app', 'device', 'os', 'channel', 'hour', ]\n",
    "target = 'is_attributed'\n",
    "feature_cols = list(set(df_train.columns) - set([target]))"
   ]
  },
  {
   "cell_type": "code",
   "execution_count": 4,
   "metadata": {
    "collapsed": true
   },
   "outputs": [],
   "source": [
    "# # remove minute and second\n",
    "# categorical_col = ['app', 'device', 'os', 'channel', 'hour']\n",
    "# target = 'is_attributed'\n",
    "# feature_cols = list(set(df_train.columns) - set([target]) - set(['minute', 'second', 'ip']))"
   ]
  },
  {
   "cell_type": "code",
   "execution_count": 5,
   "metadata": {
    "collapsed": true
   },
   "outputs": [],
   "source": [
    "# # remove minute and second\n",
    "# categorical_col = [ 'device' ]\n",
    "# target = 'is_attributed'\n",
    "# feature_cols = list(set(df_train.columns) - set([target]) - set(['minute', 'second', 'ip', 'app', 'os', 'channel', 'hour']))"
   ]
  },
  {
   "cell_type": "markdown",
   "metadata": {},
   "source": [
    "# Get Validation -- Last 10%"
   ]
  },
  {
   "cell_type": "code",
   "execution_count": 5,
   "metadata": {},
   "outputs": [
    {
     "name": "stdout",
     "output_type": "stream",
     "text": [
      "4.6938658729195595\n",
      "52500000\n"
     ]
    }
   ],
   "source": [
    "# ratio = 0.3\n",
    "# length = len(df_train)\n",
    "# front = int( (1-ratio) * length)\n",
    "# trainset = df_train.iloc[:front]\n",
    "# valset = df_train.iloc[front:]\n",
    "\n",
    "# print(sys.getsizeof(trainset)/ 1024 **3)\n",
    "# print(len(trainset))"
   ]
  },
  {
   "cell_type": "markdown",
   "metadata": {},
   "source": [
    "# Get Validation -- Head 10%"
   ]
  },
  {
   "cell_type": "code",
   "execution_count": 14,
   "metadata": {},
   "outputs": [
    {
     "name": "stdout",
     "output_type": "stream",
     "text": [
      "4.69386587664485\n",
      "52500000\n"
     ]
    }
   ],
   "source": [
    "ratio = 0.3\n",
    "length = len(df_train)\n",
    "front = int( ratio * length)\n",
    "\n",
    "valset = df_train.iloc[:front]\n",
    "trainset = df_train.iloc[front:]\n",
    "\n",
    "\n",
    "print(sys.getsizeof(trainset)/ 1024 **3)\n",
    "print(len(trainset))"
   ]
  },
  {
   "cell_type": "markdown",
   "metadata": {},
   "source": [
    "# Get Validation -- random 10 %"
   ]
  },
  {
   "cell_type": "code",
   "execution_count": 7,
   "metadata": {
    "collapsed": true
   },
   "outputs": [],
   "source": [
    "# from sklearn.model_selection import train_test_split\n",
    "\n",
    "# ratio = 0.1\n",
    "\n",
    "# trainset, valset = train_test_split(df_train,test_size=ratio, random_state=19)\n",
    "# print(sys.getsizeof(trainset)/ 1024 **3)\n",
    "# print(len(trainset))"
   ]
  },
  {
   "cell_type": "code",
   "execution_count": 17,
   "metadata": {},
   "outputs": [
    {
     "name": "stdout",
     "output_type": "stream",
     "text": [
      "train negative rate: 99.74658857142857\n",
      "val negative rate: 99.80628444444444\n"
     ]
    }
   ],
   "source": [
    "y_train = trainset[target].values\n",
    "y_val = valset[target].values\n",
    "\n",
    "lgb_train = lgb.Dataset(trainset[feature_cols], y_train, categorical_feature = categorical_col)\n",
    "lgb_val = lgb.Dataset(valset[feature_cols], y_val, categorical_feature = categorical_col)\n",
    "\n",
    "zeros = len(y_train[y_train == 0])\n",
    "scale_pos_weight = len(y_train[y_train == 0]) / len(y_train) * 100\n",
    "import gc\n",
    "# del df_train\n",
    "gc.collect()\n",
    "\n",
    "print('train negative rate: {}'.format(scale_pos_weight))\n",
    "print('val negative rate: {}'.format(len(y_val[y_val == 0]) / len(y_val) * 100))"
   ]
  },
  {
   "cell_type": "markdown",
   "metadata": {},
   "source": [
    "# Train Lightgbm"
   ]
  },
  {
   "cell_type": "code",
   "execution_count": 18,
   "metadata": {},
   "outputs": [
    {
     "name": "stderr",
     "output_type": "stream",
     "text": [
      "/home/kai/anaconda3/lib/python3.6/site-packages/lightgbm/engine.py:99: UserWarning: Found `num_rounds` in params. Will use it instead of argument\n",
      "  warnings.warn(\"Found `{}` in params. Will use it instead of argument\".format(alias))\n",
      "/home/kai/anaconda3/lib/python3.6/site-packages/lightgbm/engine.py:104: UserWarning: Found `early_stopping_round` in params. Will use it instead of argument\n",
      "  warnings.warn(\"Found `{}` in params. Will use it instead of argument\".format(alias))\n",
      "/home/kai/anaconda3/lib/python3.6/site-packages/lightgbm/basic.py:1027: UserWarning: Using categorical_feature in Dataset.\n",
      "  warnings.warn('Using categorical_feature in Dataset.')\n",
      "/home/kai/anaconda3/lib/python3.6/site-packages/lightgbm/basic.py:668: UserWarning: categorical_feature in param dict is overrided.\n",
      "  warnings.warn('categorical_feature in param dict is overrided.')\n"
     ]
    },
    {
     "name": "stdout",
     "output_type": "stream",
     "text": [
      "Training until validation scores don't improve for 50 rounds.\n",
      "[10]\tvalid_0's auc: 0.962029\n",
      "[20]\tvalid_0's auc: 0.96534\n",
      "[30]\tvalid_0's auc: 0.968245\n",
      "[40]\tvalid_0's auc: 0.969725\n",
      "[50]\tvalid_0's auc: 0.971405\n",
      "[60]\tvalid_0's auc: 0.972605\n",
      "[70]\tvalid_0's auc: 0.973409\n",
      "[80]\tvalid_0's auc: 0.974173\n",
      "[90]\tvalid_0's auc: 0.974659\n",
      "[100]\tvalid_0's auc: 0.974987\n",
      "[110]\tvalid_0's auc: 0.975304\n",
      "[120]\tvalid_0's auc: 0.975601\n",
      "[130]\tvalid_0's auc: 0.975816\n",
      "[140]\tvalid_0's auc: 0.97596\n",
      "[150]\tvalid_0's auc: 0.976173\n",
      "[160]\tvalid_0's auc: 0.976265\n",
      "[170]\tvalid_0's auc: 0.97632\n",
      "[180]\tvalid_0's auc: 0.976416\n",
      "[190]\tvalid_0's auc: 0.976483\n",
      "[200]\tvalid_0's auc: 0.976509\n",
      "[210]\tvalid_0's auc: 0.976643\n",
      "[220]\tvalid_0's auc: 0.976678\n",
      "[230]\tvalid_0's auc: 0.97666\n",
      "[240]\tvalid_0's auc: 0.976719\n",
      "[250]\tvalid_0's auc: 0.97676\n",
      "[260]\tvalid_0's auc: 0.976747\n",
      "[270]\tvalid_0's auc: 0.976759\n",
      "[280]\tvalid_0's auc: 0.976796\n",
      "[290]\tvalid_0's auc: 0.976802\n",
      "[300]\tvalid_0's auc: 0.97683\n",
      "[310]\tvalid_0's auc: 0.976894\n",
      "[320]\tvalid_0's auc: 0.976888\n",
      "[330]\tvalid_0's auc: 0.976896\n",
      "[340]\tvalid_0's auc: 0.976939\n",
      "[350]\tvalid_0's auc: 0.976973\n",
      "[360]\tvalid_0's auc: 0.976997\n",
      "[370]\tvalid_0's auc: 0.977013\n",
      "[380]\tvalid_0's auc: 0.976996\n",
      "[390]\tvalid_0's auc: 0.976997\n",
      "[400]\tvalid_0's auc: 0.977036\n",
      "[410]\tvalid_0's auc: 0.977052\n",
      "[420]\tvalid_0's auc: 0.977044\n",
      "[430]\tvalid_0's auc: 0.977042\n",
      "[440]\tvalid_0's auc: 0.977067\n",
      "[450]\tvalid_0's auc: 0.977078\n",
      "[460]\tvalid_0's auc: 0.977089\n",
      "[470]\tvalid_0's auc: 0.977094\n",
      "[480]\tvalid_0's auc: 0.977095\n",
      "[490]\tvalid_0's auc: 0.977105\n",
      "[500]\tvalid_0's auc: 0.977122\n",
      "[510]\tvalid_0's auc: 0.977136\n",
      "[520]\tvalid_0's auc: 0.977137\n",
      "[530]\tvalid_0's auc: 0.977121\n",
      "[540]\tvalid_0's auc: 0.97711\n",
      "[550]\tvalid_0's auc: 0.977107\n",
      "[560]\tvalid_0's auc: 0.977122\n",
      "[570]\tvalid_0's auc: 0.977131\n",
      "[580]\tvalid_0's auc: 0.977144\n",
      "[590]\tvalid_0's auc: 0.977156\n",
      "[600]\tvalid_0's auc: 0.977173\n",
      "[610]\tvalid_0's auc: 0.977147\n",
      "[620]\tvalid_0's auc: 0.97714\n",
      "[630]\tvalid_0's auc: 0.977142\n",
      "[640]\tvalid_0's auc: 0.977143\n",
      "[650]\tvalid_0's auc: 0.977149\n",
      "Early stopping, best iteration is:\n",
      "[601]\tvalid_0's auc: 0.977175\n"
     ]
    }
   ],
   "source": [
    "params = {\n",
    "        'objective': 'binary',\n",
    "        'boosting': 'gbdt',\n",
    "        'num_rounds': 2000,\n",
    "        'learning_rate': 0.1,\n",
    "        'num_leaves': 7,\n",
    "        'num_threads': 20, # best speed: set to number of real cpu cores, which is vCPU/2\n",
    "        'device': 'cpu',\n",
    "        'max_depth': -1, # no limit. This is used to deal with over-fitting when #data is small.\n",
    "        'min_data_in_leaf': 100,  #minimal number of data in one leaf. Can be used to deal with over-fitting\n",
    "        'feature_fraction': 0.7, #For example, if set to 0.8, will select 80% features before training each tree.  speed up training / deal with over-fitting\n",
    "        'feature_fraction_seed': 1,\n",
    "        'early_stopping_round':50,\n",
    "        'bagging_fraction': 0.7, #Randomly select part of data without resampling\n",
    "        'bagging_freq': 1, #frequency for bagging, 0 means disable bagging. k means will perform bagging at every k iteration. to enable bagging, bagging_fraction should be set as well\n",
    "        'bagging_seed': 1,\n",
    "        #'max_bin': 255,\n",
    "        'verbose': 0,\n",
    "        'scale_pos_weight': scale_pos_weight,\n",
    "        'metric' : [ 'auc']\n",
    "    }\n",
    "\n",
    "model = lgb.train(params, train_set=lgb_train, valid_sets=lgb_val, verbose_eval=10)"
   ]
  },
  {
   "cell_type": "code",
   "execution_count": 19,
   "metadata": {},
   "outputs": [
    {
     "name": "stdout",
     "output_type": "stream",
     "text": [
      "0.977174661851\n"
     ]
    }
   ],
   "source": [
    "from sklearn.metrics import roc_auc_score\n",
    "pred_val = model.predict(valset[feature_cols])\n",
    "print(roc_auc_score(y_val,pred_val))"
   ]
  },
  {
   "cell_type": "code",
   "execution_count": 20,
   "metadata": {
    "collapsed": true
   },
   "outputs": [],
   "source": [
    "importance = pd.Series(model.feature_importance(), index=feature_cols)\n",
    "importance = importance.sort_values(ascending=False)\n",
    "if len(model.feature_importance()) != len(feature_cols):\n",
    "    raise ValueError('Feature importance has length: {}, \\n while feature number is {}'.\n",
    "                     format(len(model.feature_importance()), len(feature_cols)))\n",
    "importance.to_csv('/home/kai/data/kaggle/talkingdata/wl/data/output/importance__only_count_submission0406.csv')"
   ]
  },
  {
   "cell_type": "code",
   "execution_count": 21,
   "metadata": {},
   "outputs": [
    {
     "data": {
      "text/plain": [
       "channel                     985\n",
       "os                          644\n",
       "app                         598\n",
       "hour                        318\n",
       "ip_day_intesthh_count       245\n",
       "ip_app_os_day_hour_count    209\n",
       "ip_day_hour_count           198\n",
       "app_day_hour_count          126\n",
       "ip_os_day_hour_count        119\n",
       "ip_app_day_hour_count       101\n",
       "device                       63\n",
       "dtype: int64"
      ]
     },
     "execution_count": 21,
     "metadata": {},
     "output_type": "execute_result"
    }
   ],
   "source": [
    "importance"
   ]
  },
  {
   "cell_type": "code",
   "execution_count": 22,
   "metadata": {
    "collapsed": true
   },
   "outputs": [],
   "source": [
    "df_test = pd.read_csv('/home/kai/data/kaggle/talkingdata/wl/data/features/test_onlycount_last75m.csv')\n",
    "\n",
    "# prediction\n",
    "df_test_raw = pd.read_csv('/home/kai/data/kaggle/talkingdata/data/test.csv')\n",
    "print('loading file done!')\n",
    "df_test = df_test[list(valset[feature_cols].columns)]\n",
    "df_sub = pd.DataFrame()\n",
    "df_sub['click_id'] = df_test_raw['click_id']\n",
    "df_sub['is_attributed'] = model.predict(df_test)\n",
    "print('predicting file done!')\n",
    "df_sub.to_csv('/home/kai/data/kaggle/talkingdata/wl/data/submission/train_onlycount_last75m_0406_1.csv.gz', compression='gzip', index=False)\n"
   ]
  },
  {
   "cell_type": "code",
   "execution_count": 22,
   "metadata": {},
   "outputs": [
    {
     "data": {
      "text/html": [
       "<div>\n",
       "<style>\n",
       "    .dataframe thead tr:only-child th {\n",
       "        text-align: right;\n",
       "    }\n",
       "\n",
       "    .dataframe thead th {\n",
       "        text-align: left;\n",
       "    }\n",
       "\n",
       "    .dataframe tbody tr th {\n",
       "        vertical-align: top;\n",
       "    }\n",
       "</style>\n",
       "<table border=\"1\" class=\"dataframe\">\n",
       "  <thead>\n",
       "    <tr style=\"text-align: right;\">\n",
       "      <th></th>\n",
       "      <th>ip_day_hour_count</th>\n",
       "      <th>ip</th>\n",
       "      <th>day</th>\n",
       "      <th>hour</th>\n",
       "    </tr>\n",
       "  </thead>\n",
       "  <tbody>\n",
       "    <tr>\n",
       "      <th>0</th>\n",
       "      <td>43</td>\n",
       "      <td>143414</td>\n",
       "      <td>NaN</td>\n",
       "      <td>12</td>\n",
       "    </tr>\n",
       "    <tr>\n",
       "      <th>1</th>\n",
       "      <td>18</td>\n",
       "      <td>173096</td>\n",
       "      <td>NaN</td>\n",
       "      <td>12</td>\n",
       "    </tr>\n",
       "    <tr>\n",
       "      <th>2</th>\n",
       "      <td>42</td>\n",
       "      <td>8210</td>\n",
       "      <td>NaN</td>\n",
       "      <td>12</td>\n",
       "    </tr>\n",
       "    <tr>\n",
       "      <th>3</th>\n",
       "      <td>19</td>\n",
       "      <td>5746</td>\n",
       "      <td>NaN</td>\n",
       "      <td>12</td>\n",
       "    </tr>\n",
       "    <tr>\n",
       "      <th>4</th>\n",
       "      <td>65</td>\n",
       "      <td>31475</td>\n",
       "      <td>NaN</td>\n",
       "      <td>12</td>\n",
       "    </tr>\n",
       "    <tr>\n",
       "      <th>5</th>\n",
       "      <td>11</td>\n",
       "      <td>251465</td>\n",
       "      <td>NaN</td>\n",
       "      <td>12</td>\n",
       "    </tr>\n",
       "    <tr>\n",
       "      <th>6</th>\n",
       "      <td>164</td>\n",
       "      <td>163593</td>\n",
       "      <td>NaN</td>\n",
       "      <td>12</td>\n",
       "    </tr>\n",
       "    <tr>\n",
       "      <th>7</th>\n",
       "      <td>158</td>\n",
       "      <td>58288</td>\n",
       "      <td>NaN</td>\n",
       "      <td>12</td>\n",
       "    </tr>\n",
       "    <tr>\n",
       "      <th>8</th>\n",
       "      <td>134</td>\n",
       "      <td>27038</td>\n",
       "      <td>NaN</td>\n",
       "      <td>12</td>\n",
       "    </tr>\n",
       "    <tr>\n",
       "      <th>9</th>\n",
       "      <td>414</td>\n",
       "      <td>67682</td>\n",
       "      <td>NaN</td>\n",
       "      <td>12</td>\n",
       "    </tr>\n",
       "    <tr>\n",
       "      <th>10</th>\n",
       "      <td>134</td>\n",
       "      <td>17130</td>\n",
       "      <td>NaN</td>\n",
       "      <td>12</td>\n",
       "    </tr>\n",
       "    <tr>\n",
       "      <th>11</th>\n",
       "      <td>158</td>\n",
       "      <td>100339</td>\n",
       "      <td>NaN</td>\n",
       "      <td>12</td>\n",
       "    </tr>\n",
       "    <tr>\n",
       "      <th>12</th>\n",
       "      <td>1214</td>\n",
       "      <td>36213</td>\n",
       "      <td>NaN</td>\n",
       "      <td>12</td>\n",
       "    </tr>\n",
       "    <tr>\n",
       "      <th>13</th>\n",
       "      <td>3</td>\n",
       "      <td>247140</td>\n",
       "      <td>NaN</td>\n",
       "      <td>12</td>\n",
       "    </tr>\n",
       "    <tr>\n",
       "      <th>14</th>\n",
       "      <td>2291</td>\n",
       "      <td>45745</td>\n",
       "      <td>NaN</td>\n",
       "      <td>12</td>\n",
       "    </tr>\n",
       "    <tr>\n",
       "      <th>15</th>\n",
       "      <td>842</td>\n",
       "      <td>59395</td>\n",
       "      <td>NaN</td>\n",
       "      <td>12</td>\n",
       "    </tr>\n",
       "    <tr>\n",
       "      <th>16</th>\n",
       "      <td>24</td>\n",
       "      <td>131535</td>\n",
       "      <td>NaN</td>\n",
       "      <td>12</td>\n",
       "    </tr>\n",
       "    <tr>\n",
       "      <th>17</th>\n",
       "      <td>14389</td>\n",
       "      <td>5348</td>\n",
       "      <td>NaN</td>\n",
       "      <td>12</td>\n",
       "    </tr>\n",
       "    <tr>\n",
       "      <th>18</th>\n",
       "      <td>42</td>\n",
       "      <td>177386</td>\n",
       "      <td>NaN</td>\n",
       "      <td>12</td>\n",
       "    </tr>\n",
       "    <tr>\n",
       "      <th>19</th>\n",
       "      <td>19</td>\n",
       "      <td>282374</td>\n",
       "      <td>NaN</td>\n",
       "      <td>12</td>\n",
       "    </tr>\n",
       "    <tr>\n",
       "      <th>20</th>\n",
       "      <td>50</td>\n",
       "      <td>232874</td>\n",
       "      <td>NaN</td>\n",
       "      <td>12</td>\n",
       "    </tr>\n",
       "  </tbody>\n",
       "</table>\n",
       "</div>"
      ],
      "text/plain": [
       "    ip_day_hour_count      ip  day  hour\n",
       "0                  43  143414  NaN    12\n",
       "1                  18  173096  NaN    12\n",
       "2                  42    8210  NaN    12\n",
       "3                  19    5746  NaN    12\n",
       "4                  65   31475  NaN    12\n",
       "5                  11  251465  NaN    12\n",
       "6                 164  163593  NaN    12\n",
       "7                 158   58288  NaN    12\n",
       "8                 134   27038  NaN    12\n",
       "9                 414   67682  NaN    12\n",
       "10                134   17130  NaN    12\n",
       "11                158  100339  NaN    12\n",
       "12               1214   36213  NaN    12\n",
       "13                  3  247140  NaN    12\n",
       "14               2291   45745  NaN    12\n",
       "15                842   59395  NaN    12\n",
       "16                 24  131535  NaN    12\n",
       "17              14389    5348  NaN    12\n",
       "18                 42  177386  NaN    12\n",
       "19                 19  282374  NaN    12\n",
       "20                 50  232874  NaN    12"
      ]
     },
     "execution_count": 22,
     "metadata": {},
     "output_type": "execute_result"
    }
   ],
   "source": [
    "a = ['ip_day_hour_count', 'ip', 'day', 'hour']\n",
    "df_train.loc[:20,a ]"
   ]
  },
  {
   "cell_type": "code",
   "execution_count": null,
   "metadata": {
    "collapsed": true
   },
   "outputs": [],
   "source": []
  }
 ],
 "metadata": {
  "kernelspec": {
   "display_name": "Python 3",
   "language": "python",
   "name": "python3"
  },
  "language_info": {
   "codemirror_mode": {
    "name": "ipython",
    "version": 3
   },
   "file_extension": ".py",
   "mimetype": "text/x-python",
   "name": "python",
   "nbconvert_exporter": "python",
   "pygments_lexer": "ipython3",
   "version": "3.6.3"
  }
 },
 "nbformat": 4,
 "nbformat_minor": 2
}
