{
 "cells": [
  {
   "cell_type": "code",
   "execution_count": 1,
   "metadata": {
    "collapsed": true
   },
   "outputs": [],
   "source": [
    "import pandas as pd\n",
    "from catboost import CatBoostClassifier, Pool\n",
    "import numpy as np\n",
    "import gc"
   ]
  },
  {
   "cell_type": "code",
   "execution_count": 2,
   "metadata": {
    "collapsed": true
   },
   "outputs": [],
   "source": [
    "dtypes = {\n",
    "        'app'           : 'uint16',\n",
    "        'device'        : 'uint16',\n",
    "        'os'            : 'uint16',\n",
    "        'channel'       : 'uint16',\n",
    "        'hour'          : 'uint8',\n",
    "        'is_attributed' : 'uint8', \n",
    "        'ip_day_hour_count': 'uint32', \n",
    "        'ip_os_day_hour_count': 'uint32', \n",
    "        'ip_app_day_hour_count': 'uint32', \n",
    "        'ip_app_os_day_hour_count': 'uint32', \n",
    "        'app_day_hour_count': 'uint32', \n",
    "        'ip_device_os_count': 'uint32', \n",
    "        'ip_app_device_os_count': 'uint32', \n",
    "        'ip_device_os_mean': 'float16',\n",
    "        'ip_app_device_os_mean': 'float16',\n",
    "        'ip_app_device_mean': 'float16',\n",
    "        'app_device_os_mean': 'float16',\n",
    "        'ip_device_os_time2nextclick': 'int32',\n",
    "        'ip_app_device_os_time2nextclick': 'int32',\n",
    "        'ip_app_device_time2nextclick': 'int32',\n",
    "        'ip_device_os_time2previousclick': 'int32',\n",
    "        'ip_app_device_os_time2previousclick': 'int32',\n",
    "        'ip_app_device_time2previousclick': 'int32',\n",
    "        'ip_device_os_countfromfuture': 'uint32', \n",
    "        'ip_app_device_os_countfromfuture': 'uint32', \n",
    "        'ip_app_device_countfromfuture': 'uint32', \n",
    "        'ip_device_os_countfrompast': 'uint32', \n",
    "        'ip_app_device_os_countfrompast': 'uint32', \n",
    "        'ip_app_device_countfrompast': 'uint32', \n",
    "        'ip_device_os_lasttimediff': 'int32',\n",
    "        'ip_app_device_os_lasttimediff': 'int32',\n",
    "        'ip_app_device_lasttimediff': 'int32',\n",
    "        'ip_device_os_firsttimediff': 'int32',\n",
    "        'ip_app_device_os_firsttimediff': 'int32',\n",
    "        'ip_app_device_firsttimediff': 'int32',\n",
    "        'matrixFact_user_iposdeviceapp_item_app': 'float16',\n",
    "        'matrixFact_user_ip_item_appdeviceos': 'float16',\n",
    "        'matrixFact_user_ipchannel_item_appdeviceos': 'float16',\n",
    "        'ip_device_os_regression': 'float16',\n",
    "        'ip_app_device_os_regression': 'float16',\n",
    "        'ip_app_device_regression': 'float16',\n",
    "        'ip_app_device_os_channel_regression': 'float16', \n",
    "        'attributed_timediffmax':'int32',\n",
    "        'attributed_timediffmin':'int32',\n",
    "        'attributed_timediff':'float16',\n",
    "        'matrixFact_user_ipappdeviceos_item_channel': 'float16'\n",
    "    \n",
    "        } "
   ]
  },
  {
   "cell_type": "code",
   "execution_count": 3,
   "metadata": {
    "collapsed": true
   },
   "outputs": [],
   "source": [
    "# load_path = '/home/kai/data/kaggle/talkingdata/wl/data/equalhour/'\n",
    "# file_format = '{}_equalhour_supplementV1.csv'\n",
    "# day_list = ['day7', 'day8', 'day9']\n",
    "# df_dict = {}\n",
    "# for file in ['day7', 'day8', 'day9','test']: \n",
    "#     df_dict[file] = pd.read_csv(load_path+file_format.format(file))\n",
    "#     print(file_format.format(file))\n",
    "    "
   ]
  },
  {
   "cell_type": "code",
   "execution_count": 4,
   "metadata": {
    "collapsed": true
   },
   "outputs": [],
   "source": [
    "load_path = '/home/kai/data/kaggle/talkingdata/wl/data/equalhour/'\n",
    "file_format = '{}_equalhour_supplementV1.csv'\n",
    "loads = pd.read_csv(load_path+file_format.format('day9'), dtype=dtypes)"
   ]
  },
  {
   "cell_type": "code",
   "execution_count": 5,
   "metadata": {},
   "outputs": [],
   "source": [
    "# loads = pd.concat([trainset, valset])"
   ]
  },
  {
   "cell_type": "code",
   "execution_count": 6,
   "metadata": {},
   "outputs": [
    {
     "data": {
      "text/plain": [
       "23"
      ]
     },
     "execution_count": 6,
     "metadata": {},
     "output_type": "execute_result"
    }
   ],
   "source": [
    "cut = int(0.8 * len(loads))\n",
    "# trainset = loads.iloc[:cut]\n",
    "# valset = loads.iloc[cut:]\n",
    "trainset = loads.iloc[:100000]\n",
    "valset = loads.iloc[100000:150000]\n",
    "del loads\n",
    "gc.collect()"
   ]
  },
  {
   "cell_type": "markdown",
   "metadata": {},
   "source": [
    "# get feature cols"
   ]
  },
  {
   "cell_type": "code",
   "execution_count": 7,
   "metadata": {
    "collapsed": true
   },
   "outputs": [],
   "source": [
    "extra = set(['ip_device_os_countself',\n",
    "             'ip_day_hour_countself', \n",
    "             'app_day_hour_countself',\n",
    "             'ip_app_device_os_countself',\n",
    "             'ip_app_day_hour_countself', \n",
    "             'ip_os_day_hour_countself', \n",
    "             'ip_app_os_day_hour_countself' ])\n",
    "\n",
    "feature_cols = list(set(trainset.columns) - set(['is_attributed']) - extra)\n",
    "categorical_col = [ 'app', 'device', 'os', 'channel', 'hour']\n",
    "category_index = [feature_cols.index(cat) for cat in categorical_col]\n",
    "feature_cols\n",
    "target = 'is_attributed'\n",
    "\n",
    "train_pool = Pool(trainset[feature_cols], trainset[target], cat_features=category_index)\n",
    "val_pool = Pool(valset[feature_cols], valset[target], cat_features=category_index)"
   ]
  },
  {
   "cell_type": "code",
   "execution_count": 6,
   "metadata": {},
   "outputs": [
    {
     "name": "stdout",
     "output_type": "stream",
     "text": [
      "80\n"
     ]
    }
   ],
   "source": [
    "import sys\n",
    "print(sys.getsizeof(train_pool))"
   ]
  },
  {
   "cell_type": "code",
   "execution_count": 1,
   "metadata": {},
   "outputs": [
    {
     "ename": "NameError",
     "evalue": "name 'trainset' is not defined",
     "output_type": "error",
     "traceback": [
      "\u001b[0;31m---------------------------------------------------------------------------\u001b[0m",
      "\u001b[0;31mNameError\u001b[0m                                 Traceback (most recent call last)",
      "\u001b[0;32m<ipython-input-1-d2c620be8f6c>\u001b[0m in \u001b[0;36m<module>\u001b[0;34m()\u001b[0m\n\u001b[1;32m      1\u001b[0m \u001b[0;32mimport\u001b[0m \u001b[0msys\u001b[0m\u001b[0;34m\u001b[0m\u001b[0m\n\u001b[0;32m----> 2\u001b[0;31m \u001b[0mprint\u001b[0m\u001b[0;34m(\u001b[0m\u001b[0msys\u001b[0m\u001b[0;34m.\u001b[0m\u001b[0mgetsizeof\u001b[0m\u001b[0;34m(\u001b[0m\u001b[0mtrainset\u001b[0m\u001b[0;34m)\u001b[0m\u001b[0;34m)\u001b[0m\u001b[0;34m\u001b[0m\u001b[0m\n\u001b[0m",
      "\u001b[0;31mNameError\u001b[0m: name 'trainset' is not defined"
     ]
    }
   ],
   "source": [
    "import sys\n",
    "print(sys.getsizeof(trainset))"
   ]
  },
  {
   "cell_type": "markdown",
   "metadata": {},
   "source": [
    "# Train Catboost"
   ]
  },
  {
   "cell_type": "code",
   "execution_count": 12,
   "metadata": {
    "collapsed": true
   },
   "outputs": [],
   "source": [
    "from sklearn.metrics import roc_auc_score\n",
    "\n",
    "import pdb \n",
    "\n",
    "class ROCMetric(object):\n",
    "    def get_final_error(self, error, weight):\n",
    "        return error\n",
    "\n",
    "    def is_max_optimal(self):\n",
    "        return True\n",
    "\n",
    "    def evaluate(self, approxes, target, weight):\n",
    "        # approxes - list of list-like objects (one object per approx dimension)\n",
    "        # target - list-like object\n",
    "        # weight - list-like object, can be None\n",
    "        approx = approxes[0]\n",
    "#         pdb.set_trace()\n",
    "        roc = roc_auc_score(np.array(target), np.array(approx))\n",
    "        return roc, 1\n",
    "#         return roc, roc"
   ]
  },
  {
   "cell_type": "code",
   "execution_count": 13,
   "metadata": {
    "collapsed": true
   },
   "outputs": [],
   "source": [
    "param = {\n",
    "        'eval_metric': ROCMetric(), \n",
    "#         'eval_metric': 'AUC', \n",
    "         'learning_rate':0.1, \n",
    "         'od_type':'Iter',\n",
    "         'od_wait':50,\n",
    "         'loss_function':'Logloss', \n",
    "         'depth':2, \n",
    "         'thread_count':20, \n",
    "         'iterations':5000,\n",
    "         'scale_pos_weight': 398,\n",
    "        'save_snapshot': True,\n",
    "        'snapshot_file':'drft0403'\n",
    "        }\n",
    "\n",
    "model = CatBoostClassifier(**param)"
   ]
  },
  {
   "cell_type": "code",
   "execution_count": 14,
   "metadata": {},
   "outputs": [
    {
     "name": "stdout",
     "output_type": "stream",
     "text": [
      "Can't load progress from file: catboost_info/drft0403 exception: (TCatboostException) catboost/libs/algo/learn_context.cpp:252: Saved model's Params are different from current model's params\n",
      "0:\tlearn: 0.9249591\ttest: 0.9155487\tbest: 0.9155487 (0)\ttotal: 94.4ms\tremaining: 7m 51s\n",
      "1:\tlearn: 0.9458564\ttest: 0.9331851\tbest: 0.9331851 (1)\ttotal: 187ms\tremaining: 7m 48s\n",
      "2:\tlearn: 0.9508032\ttest: 0.9445310\tbest: 0.9445310 (2)\ttotal: 267ms\tremaining: 7m 24s\n",
      "3:\tlearn: 0.9496083\ttest: 0.9467300\tbest: 0.9467300 (3)\ttotal: 353ms\tremaining: 7m 21s\n",
      "4:\tlearn: 0.9503636\ttest: 0.9472131\tbest: 0.9472131 (4)\ttotal: 434ms\tremaining: 7m 13s\n",
      "5:\tlearn: 0.9498691\ttest: 0.9470385\tbest: 0.9472131 (4)\ttotal: 526ms\tremaining: 7m 18s\n",
      "6:\tlearn: 0.9502310\ttest: 0.9485360\tbest: 0.9485360 (6)\ttotal: 610ms\tremaining: 7m 15s\n",
      "7:\tlearn: 0.9554812\ttest: 0.9471749\tbest: 0.9485360 (6)\ttotal: 694ms\tremaining: 7m 13s\n",
      "8:\tlearn: 0.9558332\ttest: 0.9469974\tbest: 0.9485360 (6)\ttotal: 779ms\tremaining: 7m 11s\n",
      "9:\tlearn: 0.9575013\ttest: 0.9468321\tbest: 0.9485360 (6)\ttotal: 864ms\tremaining: 7m 11s\n",
      "10:\tlearn: 0.9576228\ttest: 0.9465891\tbest: 0.9485360 (6)\ttotal: 949ms\tremaining: 7m 10s\n",
      "11:\tlearn: 0.9586022\ttest: 0.9474792\tbest: 0.9485360 (6)\ttotal: 1.03s\tremaining: 7m 10s\n",
      "12:\tlearn: 0.9591673\ttest: 0.9480753\tbest: 0.9485360 (6)\ttotal: 1.12s\tremaining: 7m 9s\n",
      "13:\tlearn: 0.9621179\ttest: 0.9541662\tbest: 0.9541662 (13)\ttotal: 1.21s\tremaining: 7m 9s\n",
      "14:\tlearn: 0.9623836\ttest: 0.9540782\tbest: 0.9541662 (13)\ttotal: 1.29s\tremaining: 7m 10s\n",
      "15:\tlearn: 0.9636290\ttest: 0.9563718\tbest: 0.9563718 (15)\ttotal: 1.38s\tremaining: 7m 10s\n",
      "16:\tlearn: 0.9644783\ttest: 0.9567158\tbest: 0.9567158 (16)\ttotal: 1.47s\tremaining: 7m 11s\n",
      "17:\tlearn: 0.9654763\ttest: 0.9552069\tbest: 0.9567158 (16)\ttotal: 1.56s\tremaining: 7m 12s\n",
      "18:\tlearn: 0.9659264\ttest: 0.9560236\tbest: 0.9567158 (16)\ttotal: 1.64s\tremaining: 7m 10s\n",
      "19:\tlearn: 0.9665155\ttest: 0.9556834\tbest: 0.9567158 (16)\ttotal: 1.73s\tremaining: 7m 11s\n",
      "20:\tlearn: 0.9668129\ttest: 0.9566090\tbest: 0.9567158 (16)\ttotal: 1.82s\tremaining: 7m 11s\n",
      "21:\tlearn: 0.9672493\ttest: 0.9561333\tbest: 0.9567158 (16)\ttotal: 1.91s\tremaining: 7m 12s\n",
      "22:\tlearn: 0.9682258\ttest: 0.9570491\tbest: 0.9570491 (22)\ttotal: 2s\tremaining: 7m 12s\n",
      "23:\tlearn: 0.9688559\ttest: 0.9572475\tbest: 0.9572475 (23)\ttotal: 2.09s\tremaining: 7m 13s\n",
      "24:\tlearn: 0.9693198\ttest: 0.9570902\tbest: 0.9572475 (23)\ttotal: 2.17s\tremaining: 7m 12s\n",
      "25:\tlearn: 0.9698073\ttest: 0.9566098\tbest: 0.9572475 (23)\ttotal: 2.26s\tremaining: 7m 12s\n",
      "26:\tlearn: 0.9698035\ttest: 0.9566664\tbest: 0.9572475 (23)\ttotal: 2.35s\tremaining: 7m 12s\n",
      "27:\tlearn: 0.9697488\ttest: 0.9565182\tbest: 0.9572475 (23)\ttotal: 2.44s\tremaining: 7m 12s\n",
      "28:\tlearn: 0.9699918\ttest: 0.9564159\tbest: 0.9572475 (23)\ttotal: 2.53s\tremaining: 7m 13s\n",
      "29:\tlearn: 0.9704402\ttest: 0.9571275\tbest: 0.9572475 (23)\ttotal: 2.62s\tremaining: 7m 13s\n",
      "30:\tlearn: 0.9706639\ttest: 0.9578449\tbest: 0.9578449 (30)\ttotal: 2.71s\tremaining: 7m 15s\n",
      "31:\tlearn: 0.9708924\ttest: 0.9581170\tbest: 0.9581170 (31)\ttotal: 2.81s\tremaining: 7m 16s\n",
      "32:\tlearn: 0.9710362\ttest: 0.9581428\tbest: 0.9581428 (32)\ttotal: 2.9s\tremaining: 7m 16s\n",
      "33:\tlearn: 0.9715517\ttest: 0.9580921\tbest: 0.9581428 (32)\ttotal: 3.01s\tremaining: 7m 19s\n",
      "34:\tlearn: 0.9720096\ttest: 0.9584566\tbest: 0.9584566 (34)\ttotal: 3.11s\tremaining: 7m 21s\n",
      "35:\tlearn: 0.9729869\ttest: 0.9584533\tbest: 0.9584566 (34)\ttotal: 3.21s\tremaining: 7m 22s\n",
      "36:\tlearn: 0.9730134\ttest: 0.9586315\tbest: 0.9586315 (36)\ttotal: 3.31s\tremaining: 7m 23s\n",
      "37:\tlearn: 0.9736144\ttest: 0.9592163\tbest: 0.9592163 (37)\ttotal: 3.4s\tremaining: 7m 23s\n",
      "38:\tlearn: 0.9738411\ttest: 0.9591473\tbest: 0.9592163 (37)\ttotal: 3.5s\tremaining: 7m 25s\n",
      "39:\tlearn: 0.9739663\ttest: 0.9589516\tbest: 0.9592163 (37)\ttotal: 3.6s\tremaining: 7m 26s\n",
      "40:\tlearn: 0.9741171\ttest: 0.9587015\tbest: 0.9592163 (37)\ttotal: 3.69s\tremaining: 7m 25s\n",
      "41:\tlearn: 0.9745584\ttest: 0.9586820\tbest: 0.9592163 (37)\ttotal: 3.79s\tremaining: 7m 27s\n",
      "42:\tlearn: 0.9752089\ttest: 0.9586373\tbest: 0.9592163 (37)\ttotal: 3.88s\tremaining: 7m 27s\n",
      "43:\tlearn: 0.9754827\ttest: 0.9586818\tbest: 0.9592163 (37)\ttotal: 3.99s\tremaining: 7m 29s\n",
      "44:\tlearn: 0.9760973\ttest: 0.9587968\tbest: 0.9592163 (37)\ttotal: 4.08s\tremaining: 7m 29s\n",
      "45:\tlearn: 0.9762394\ttest: 0.9587543\tbest: 0.9592163 (37)\ttotal: 4.17s\tremaining: 7m 29s\n",
      "46:\tlearn: 0.9765220\ttest: 0.9587085\tbest: 0.9592163 (37)\ttotal: 4.26s\tremaining: 7m 29s\n",
      "47:\tlearn: 0.9768446\ttest: 0.9589196\tbest: 0.9592163 (37)\ttotal: 4.36s\tremaining: 7m 29s\n",
      "48:\tlearn: 0.9775639\ttest: 0.9591859\tbest: 0.9592163 (37)\ttotal: 4.46s\tremaining: 7m 30s\n",
      "49:\tlearn: 0.9780553\ttest: 0.9599316\tbest: 0.9599316 (49)\ttotal: 4.55s\tremaining: 7m 30s\n",
      "50:\tlearn: 0.9784275\ttest: 0.9600893\tbest: 0.9600893 (50)\ttotal: 4.64s\tremaining: 7m 30s\n",
      "51:\tlearn: 0.9785364\ttest: 0.9603781\tbest: 0.9603781 (51)\ttotal: 4.73s\tremaining: 7m 30s\n",
      "52:\tlearn: 0.9797361\ttest: 0.9603300\tbest: 0.9603781 (51)\ttotal: 4.83s\tremaining: 7m 30s\n",
      "53:\tlearn: 0.9801819\ttest: 0.9602784\tbest: 0.9603781 (51)\ttotal: 4.92s\tremaining: 7m 30s\n",
      "54:\tlearn: 0.9804079\ttest: 0.9605519\tbest: 0.9605519 (54)\ttotal: 5.01s\tremaining: 7m 30s\n",
      "55:\tlearn: 0.9810863\ttest: 0.9609933\tbest: 0.9609933 (55)\ttotal: 5.1s\tremaining: 7m 30s\n",
      "56:\tlearn: 0.9813566\ttest: 0.9615341\tbest: 0.9615341 (56)\ttotal: 5.18s\tremaining: 7m 29s\n",
      "57:\tlearn: 0.9813655\ttest: 0.9615242\tbest: 0.9615341 (56)\ttotal: 5.28s\tremaining: 7m 29s\n",
      "58:\tlearn: 0.9817545\ttest: 0.9617507\tbest: 0.9617507 (58)\ttotal: 5.37s\tremaining: 7m 29s\n",
      "59:\tlearn: 0.9820978\ttest: 0.9617610\tbest: 0.9617610 (59)\ttotal: 5.46s\tremaining: 7m 29s\n",
      "60:\tlearn: 0.9824979\ttest: 0.9616559\tbest: 0.9617610 (59)\ttotal: 5.55s\tremaining: 7m 29s\n",
      "61:\tlearn: 0.9825776\ttest: 0.9615914\tbest: 0.9617610 (59)\ttotal: 5.64s\tremaining: 7m 29s\n",
      "62:\tlearn: 0.9827138\ttest: 0.9616861\tbest: 0.9617610 (59)\ttotal: 5.73s\tremaining: 7m 28s\n",
      "63:\tlearn: 0.9828874\ttest: 0.9616266\tbest: 0.9617610 (59)\ttotal: 5.82s\tremaining: 7m 28s\n",
      "64:\tlearn: 0.9828905\ttest: 0.9616559\tbest: 0.9617610 (59)\ttotal: 5.91s\tremaining: 7m 28s\n",
      "65:\tlearn: 0.9831702\ttest: 0.9620400\tbest: 0.9620400 (65)\ttotal: 6s\tremaining: 7m 28s\n",
      "66:\tlearn: 0.9834266\ttest: 0.9618507\tbest: 0.9620400 (65)\ttotal: 6.09s\tremaining: 7m 28s\n",
      "67:\tlearn: 0.9839408\ttest: 0.9616438\tbest: 0.9620400 (65)\ttotal: 6.18s\tremaining: 7m 28s\n",
      "68:\tlearn: 0.9840325\ttest: 0.9617939\tbest: 0.9620400 (65)\ttotal: 6.27s\tremaining: 7m 28s\n",
      "69:\tlearn: 0.9843079\ttest: 0.9620017\tbest: 0.9620400 (65)\ttotal: 6.37s\tremaining: 7m 28s\n",
      "70:\tlearn: 0.9843507\ttest: 0.9604770\tbest: 0.9620400 (65)\ttotal: 6.46s\tremaining: 7m 28s\n",
      "71:\tlearn: 0.9848350\ttest: 0.9609822\tbest: 0.9620400 (65)\ttotal: 6.55s\tremaining: 7m 28s\n",
      "72:\tlearn: 0.9848426\ttest: 0.9608632\tbest: 0.9620400 (65)\ttotal: 6.64s\tremaining: 7m 28s\n",
      "73:\tlearn: 0.9848537\ttest: 0.9609412\tbest: 0.9620400 (65)\ttotal: 6.73s\tremaining: 7m 28s\n",
      "74:\tlearn: 0.9850930\ttest: 0.9615141\tbest: 0.9620400 (65)\ttotal: 6.83s\tremaining: 7m 28s\n",
      "75:\tlearn: 0.9852660\ttest: 0.9615077\tbest: 0.9620400 (65)\ttotal: 6.92s\tremaining: 7m 28s\n",
      "76:\tlearn: 0.9853583\ttest: 0.9615561\tbest: 0.9620400 (65)\ttotal: 7.01s\tremaining: 7m 28s\n",
      "77:\tlearn: 0.9855675\ttest: 0.9617695\tbest: 0.9620400 (65)\ttotal: 7.11s\tremaining: 7m 28s\n",
      "78:\tlearn: 0.9857517\ttest: 0.9619527\tbest: 0.9620400 (65)\ttotal: 7.2s\tremaining: 7m 28s\n",
      "79:\tlearn: 0.9858039\ttest: 0.9616589\tbest: 0.9620400 (65)\ttotal: 7.3s\tremaining: 7m 28s\n",
      "80:\tlearn: 0.9859126\ttest: 0.9619141\tbest: 0.9620400 (65)\ttotal: 7.39s\tremaining: 7m 28s\n",
      "81:\tlearn: 0.9860867\ttest: 0.9615758\tbest: 0.9620400 (65)\ttotal: 7.49s\tremaining: 7m 29s\n",
      "82:\tlearn: 0.9861478\ttest: 0.9615623\tbest: 0.9620400 (65)\ttotal: 7.58s\tremaining: 7m 29s\n",
      "83:\tlearn: 0.9861835\ttest: 0.9615921\tbest: 0.9620400 (65)\ttotal: 7.7s\tremaining: 7m 30s\n",
      "84:\tlearn: 0.9862667\ttest: 0.9615775\tbest: 0.9620400 (65)\ttotal: 7.79s\tremaining: 7m 30s\n",
      "85:\tlearn: 0.9863877\ttest: 0.9620557\tbest: 0.9620557 (85)\ttotal: 7.88s\tremaining: 7m 30s\n",
      "86:\tlearn: 0.9863506\ttest: 0.9620485\tbest: 0.9620557 (85)\ttotal: 7.97s\tremaining: 7m 30s\n",
      "87:\tlearn: 0.9864572\ttest: 0.9619254\tbest: 0.9620557 (85)\ttotal: 8.07s\tremaining: 7m 30s\n",
      "88:\tlearn: 0.9865396\ttest: 0.9616805\tbest: 0.9620557 (85)\ttotal: 8.16s\tremaining: 7m 30s\n",
      "89:\tlearn: 0.9865427\ttest: 0.9614516\tbest: 0.9620557 (85)\ttotal: 8.26s\tremaining: 7m 30s\n",
      "90:\tlearn: 0.9866364\ttest: 0.9616210\tbest: 0.9620557 (85)\ttotal: 8.35s\tremaining: 7m 30s\n"
     ]
    },
    {
     "name": "stdout",
     "output_type": "stream",
     "text": [
      "91:\tlearn: 0.9866466\ttest: 0.9616669\tbest: 0.9620557 (85)\ttotal: 8.45s\tremaining: 7m 30s\n",
      "92:\tlearn: 0.9867041\ttest: 0.9616135\tbest: 0.9620557 (85)\ttotal: 8.54s\tremaining: 7m 30s\n",
      "93:\tlearn: 0.9869032\ttest: 0.9615936\tbest: 0.9620557 (85)\ttotal: 8.63s\tremaining: 7m 30s\n",
      "94:\tlearn: 0.9871400\ttest: 0.9618640\tbest: 0.9620557 (85)\ttotal: 8.71s\tremaining: 7m 29s\n",
      "95:\tlearn: 0.9871359\ttest: 0.9616589\tbest: 0.9620557 (85)\ttotal: 8.8s\tremaining: 7m 29s\n",
      "96:\tlearn: 0.9872146\ttest: 0.9615679\tbest: 0.9620557 (85)\ttotal: 8.89s\tremaining: 7m 29s\n",
      "97:\tlearn: 0.9872716\ttest: 0.9614810\tbest: 0.9620557 (85)\ttotal: 8.99s\tremaining: 7m 29s\n",
      "98:\tlearn: 0.9872262\ttest: 0.9613446\tbest: 0.9620557 (85)\ttotal: 9.08s\tremaining: 7m 29s\n",
      "99:\tlearn: 0.9872984\ttest: 0.9616645\tbest: 0.9620557 (85)\ttotal: 9.18s\tremaining: 7m 29s\n",
      "100:\tlearn: 0.9873302\ttest: 0.9616192\tbest: 0.9620557 (85)\ttotal: 9.27s\tremaining: 7m 29s\n",
      "101:\tlearn: 0.9873529\ttest: 0.9615951\tbest: 0.9620557 (85)\ttotal: 9.36s\tremaining: 7m 29s\n",
      "102:\tlearn: 0.9874965\ttest: 0.9618694\tbest: 0.9620557 (85)\ttotal: 9.45s\tremaining: 7m 29s\n",
      "103:\tlearn: 0.9875498\ttest: 0.9617298\tbest: 0.9620557 (85)\ttotal: 9.53s\tremaining: 7m 28s\n",
      "104:\tlearn: 0.9877584\ttest: 0.9618436\tbest: 0.9620557 (85)\ttotal: 9.65s\tremaining: 7m 29s\n",
      "105:\tlearn: 0.9878992\ttest: 0.9616606\tbest: 0.9620557 (85)\ttotal: 9.75s\tremaining: 7m 30s\n",
      "106:\tlearn: 0.9881767\ttest: 0.9624160\tbest: 0.9624160 (106)\ttotal: 9.84s\tremaining: 7m 29s\n",
      "107:\tlearn: 0.9882075\ttest: 0.9627286\tbest: 0.9627286 (107)\ttotal: 9.93s\tremaining: 7m 29s\n",
      "108:\tlearn: 0.9883134\ttest: 0.9632140\tbest: 0.9632140 (108)\ttotal: 10s\tremaining: 7m 29s\n",
      "109:\tlearn: 0.9883470\ttest: 0.9633141\tbest: 0.9633141 (109)\ttotal: 10.1s\tremaining: 7m 29s\n",
      "110:\tlearn: 0.9884935\ttest: 0.9633939\tbest: 0.9633939 (110)\ttotal: 10.2s\tremaining: 7m 30s\n",
      "111:\tlearn: 0.9886147\ttest: 0.9634030\tbest: 0.9634030 (111)\ttotal: 10.3s\tremaining: 7m 30s\n",
      "112:\tlearn: 0.9886547\ttest: 0.9635586\tbest: 0.9635586 (112)\ttotal: 10.4s\tremaining: 7m 29s\n",
      "113:\tlearn: 0.9887111\ttest: 0.9635977\tbest: 0.9635977 (113)\ttotal: 10.5s\tremaining: 7m 30s\n",
      "114:\tlearn: 0.9887392\ttest: 0.9635851\tbest: 0.9635977 (113)\ttotal: 10.6s\tremaining: 7m 29s\n",
      "115:\tlearn: 0.9889550\ttest: 0.9638211\tbest: 0.9638211 (115)\ttotal: 10.7s\tremaining: 7m 30s\n",
      "116:\tlearn: 0.9890428\ttest: 0.9637476\tbest: 0.9638211 (115)\ttotal: 10.8s\tremaining: 7m 29s\n",
      "117:\tlearn: 0.9890956\ttest: 0.9637558\tbest: 0.9638211 (115)\ttotal: 10.9s\tremaining: 7m 29s\n",
      "118:\tlearn: 0.9891428\ttest: 0.9636235\tbest: 0.9638211 (115)\ttotal: 11s\tremaining: 7m 29s\n",
      "119:\tlearn: 0.9893188\ttest: 0.9645397\tbest: 0.9645397 (119)\ttotal: 11.1s\tremaining: 7m 29s\n",
      "120:\tlearn: 0.9895271\ttest: 0.9645140\tbest: 0.9645397 (119)\ttotal: 11.1s\tremaining: 7m 29s\n",
      "121:\tlearn: 0.9895822\ttest: 0.9645067\tbest: 0.9645397 (119)\ttotal: 11.2s\tremaining: 7m 29s\n",
      "122:\tlearn: 0.9896830\ttest: 0.9644832\tbest: 0.9645397 (119)\ttotal: 11.3s\tremaining: 7m 29s\n",
      "123:\tlearn: 0.9898421\ttest: 0.9644168\tbest: 0.9645397 (119)\ttotal: 11.4s\tremaining: 7m 29s\n",
      "124:\tlearn: 0.9898547\ttest: 0.9637079\tbest: 0.9645397 (119)\ttotal: 11.5s\tremaining: 7m 29s\n",
      "125:\tlearn: 0.9899070\ttest: 0.9637657\tbest: 0.9645397 (119)\ttotal: 11.6s\tremaining: 7m 29s\n",
      "126:\tlearn: 0.9899836\ttest: 0.9636946\tbest: 0.9645397 (119)\ttotal: 11.7s\tremaining: 7m 28s\n",
      "127:\tlearn: 0.9900419\ttest: 0.9637946\tbest: 0.9645397 (119)\ttotal: 11.8s\tremaining: 7m 28s\n",
      "128:\tlearn: 0.9902003\ttest: 0.9639035\tbest: 0.9645397 (119)\ttotal: 11.9s\tremaining: 7m 28s\n",
      "129:\tlearn: 0.9902506\ttest: 0.9638541\tbest: 0.9645397 (119)\ttotal: 12s\tremaining: 7m 28s\n",
      "130:\tlearn: 0.9903498\ttest: 0.9649603\tbest: 0.9649603 (130)\ttotal: 12.1s\tremaining: 7m 29s\n",
      "131:\tlearn: 0.9904651\ttest: 0.9649437\tbest: 0.9649603 (130)\ttotal: 12.2s\tremaining: 7m 29s\n",
      "132:\tlearn: 0.9904829\ttest: 0.9649904\tbest: 0.9649904 (132)\ttotal: 12.3s\tremaining: 7m 29s\n",
      "133:\tlearn: 0.9905528\ttest: 0.9649681\tbest: 0.9649904 (132)\ttotal: 12.4s\tremaining: 7m 29s\n",
      "134:\tlearn: 0.9906551\ttest: 0.9650604\tbest: 0.9650604 (134)\ttotal: 12.5s\tremaining: 7m 29s\n",
      "135:\tlearn: 0.9906658\ttest: 0.9651000\tbest: 0.9651000 (135)\ttotal: 12.6s\tremaining: 7m 29s\n",
      "136:\tlearn: 0.9907203\ttest: 0.9653644\tbest: 0.9653644 (136)\ttotal: 12.7s\tremaining: 7m 29s\n",
      "137:\tlearn: 0.9907958\ttest: 0.9652414\tbest: 0.9653644 (136)\ttotal: 12.8s\tremaining: 7m 29s\n",
      "138:\tlearn: 0.9909155\ttest: 0.9656537\tbest: 0.9656537 (138)\ttotal: 12.9s\tremaining: 7m 29s\n",
      "139:\tlearn: 0.9909246\ttest: 0.9656294\tbest: 0.9656537 (138)\ttotal: 13s\tremaining: 7m 29s\n",
      "140:\tlearn: 0.9910191\ttest: 0.9655748\tbest: 0.9656537 (138)\ttotal: 13s\tremaining: 7m 29s\n",
      "141:\tlearn: 0.9910638\ttest: 0.9656739\tbest: 0.9656739 (141)\ttotal: 13.1s\tremaining: 7m 29s\n",
      "142:\tlearn: 0.9911501\ttest: 0.9658206\tbest: 0.9658206 (142)\ttotal: 13.2s\tremaining: 7m 29s\n",
      "143:\tlearn: 0.9912588\ttest: 0.9655319\tbest: 0.9658206 (142)\ttotal: 13.3s\tremaining: 7m 29s\n",
      "144:\tlearn: 0.9913983\ttest: 0.9652496\tbest: 0.9658206 (142)\ttotal: 13.4s\tremaining: 7m 29s\n",
      "145:\tlearn: 0.9914240\ttest: 0.9652503\tbest: 0.9658206 (142)\ttotal: 13.5s\tremaining: 7m 29s\n",
      "146:\tlearn: 0.9914004\ttest: 0.9653278\tbest: 0.9658206 (142)\ttotal: 13.6s\tremaining: 7m 29s\n",
      "147:\tlearn: 0.9914326\ttest: 0.9654873\tbest: 0.9658206 (142)\ttotal: 13.7s\tremaining: 7m 29s\n",
      "148:\tlearn: 0.9914596\ttest: 0.9654796\tbest: 0.9658206 (142)\ttotal: 13.8s\tremaining: 7m 29s\n",
      "149:\tlearn: 0.9914876\ttest: 0.9654796\tbest: 0.9658206 (142)\ttotal: 13.9s\tremaining: 7m 29s\n",
      "150:\tlearn: 0.9915445\ttest: 0.9655232\tbest: 0.9658206 (142)\ttotal: 14s\tremaining: 7m 29s\n",
      "151:\tlearn: 0.9915632\ttest: 0.9654947\tbest: 0.9658206 (142)\ttotal: 14.1s\tremaining: 7m 29s\n",
      "152:\tlearn: 0.9915565\ttest: 0.9655255\tbest: 0.9658206 (142)\ttotal: 14.2s\tremaining: 7m 29s\n",
      "153:\tlearn: 0.9916094\ttest: 0.9652658\tbest: 0.9658206 (142)\ttotal: 14.3s\tremaining: 7m 29s\n",
      "154:\tlearn: 0.9916024\ttest: 0.9652890\tbest: 0.9658206 (142)\ttotal: 14.4s\tremaining: 7m 29s\n",
      "155:\tlearn: 0.9916262\ttest: 0.9653058\tbest: 0.9658206 (142)\ttotal: 14.5s\tremaining: 7m 29s\n",
      "156:\tlearn: 0.9916578\ttest: 0.9653853\tbest: 0.9658206 (142)\ttotal: 14.6s\tremaining: 7m 29s\n",
      "157:\tlearn: 0.9917662\ttest: 0.9652804\tbest: 0.9658206 (142)\ttotal: 14.7s\tremaining: 7m 29s\n",
      "158:\tlearn: 0.9918068\ttest: 0.9652897\tbest: 0.9658206 (142)\ttotal: 14.7s\tremaining: 7m 29s\n",
      "159:\tlearn: 0.9919301\ttest: 0.9653630\tbest: 0.9658206 (142)\ttotal: 14.8s\tremaining: 7m 29s\n",
      "160:\tlearn: 0.9919299\ttest: 0.9653455\tbest: 0.9658206 (142)\ttotal: 14.9s\tremaining: 7m 28s\n",
      "161:\tlearn: 0.9920243\ttest: 0.9648681\tbest: 0.9658206 (142)\ttotal: 15s\tremaining: 7m 29s\n",
      "162:\tlearn: 0.9920567\ttest: 0.9648954\tbest: 0.9658206 (142)\ttotal: 15.1s\tremaining: 7m 29s\n",
      "163:\tlearn: 0.9921355\ttest: 0.9651602\tbest: 0.9658206 (142)\ttotal: 15.2s\tremaining: 7m 29s\n",
      "164:\tlearn: 0.9921244\ttest: 0.9652521\tbest: 0.9658206 (142)\ttotal: 15.3s\tremaining: 7m 29s\n",
      "165:\tlearn: 0.9921628\ttest: 0.9653034\tbest: 0.9658206 (142)\ttotal: 15.4s\tremaining: 7m 29s\n",
      "166:\tlearn: 0.9922478\ttest: 0.9651503\tbest: 0.9658206 (142)\ttotal: 15.5s\tremaining: 7m 29s\n",
      "167:\tlearn: 0.9922154\ttest: 0.9651860\tbest: 0.9658206 (142)\ttotal: 15.6s\tremaining: 7m 28s\n",
      "168:\tlearn: 0.9921933\ttest: 0.9651935\tbest: 0.9658206 (142)\ttotal: 15.7s\tremaining: 7m 28s\n",
      "169:\tlearn: 0.9922107\ttest: 0.9651758\tbest: 0.9658206 (142)\ttotal: 15.8s\tremaining: 7m 28s\n",
      "170:\tlearn: 0.9922309\ttest: 0.9648714\tbest: 0.9658206 (142)\ttotal: 15.9s\tremaining: 7m 28s\n",
      "171:\tlearn: 0.9923218\ttest: 0.9650260\tbest: 0.9658206 (142)\ttotal: 16s\tremaining: 7m 28s\n",
      "172:\tlearn: 0.9923228\ttest: 0.9648727\tbest: 0.9658206 (142)\ttotal: 16.1s\tremaining: 7m 28s\n",
      "173:\tlearn: 0.9924615\ttest: 0.9649937\tbest: 0.9658206 (142)\ttotal: 16.2s\tremaining: 7m 27s\n",
      "174:\tlearn: 0.9924723\ttest: 0.9647330\tbest: 0.9658206 (142)\ttotal: 16.2s\tremaining: 7m 27s\n",
      "175:\tlearn: 0.9924836\ttest: 0.9647508\tbest: 0.9658206 (142)\ttotal: 16.3s\tremaining: 7m 27s\n",
      "176:\tlearn: 0.9924975\ttest: 0.9647254\tbest: 0.9658206 (142)\ttotal: 16.4s\tremaining: 7m 27s\n",
      "177:\tlearn: 0.9925561\ttest: 0.9647288\tbest: 0.9658206 (142)\ttotal: 16.5s\tremaining: 7m 27s\n",
      "178:\tlearn: 0.9926338\ttest: 0.9643735\tbest: 0.9658206 (142)\ttotal: 16.6s\tremaining: 7m 27s\n",
      "179:\tlearn: 0.9926652\ttest: 0.9644704\tbest: 0.9658206 (142)\ttotal: 16.7s\tremaining: 7m 27s\n",
      "180:\tlearn: 0.9926786\ttest: 0.9644735\tbest: 0.9658206 (142)\ttotal: 16.8s\tremaining: 7m 27s\n",
      "181:\tlearn: 0.9927042\ttest: 0.9646631\tbest: 0.9658206 (142)\ttotal: 16.9s\tremaining: 7m 27s\n",
      "182:\tlearn: 0.9927611\ttest: 0.9647758\tbest: 0.9658206 (142)\ttotal: 17s\tremaining: 7m 27s\n"
     ]
    },
    {
     "name": "stdout",
     "output_type": "stream",
     "text": [
      "183:\tlearn: 0.9927742\ttest: 0.9647866\tbest: 0.9658206 (142)\ttotal: 17.1s\tremaining: 7m 27s\n",
      "184:\tlearn: 0.9927767\ttest: 0.9648742\tbest: 0.9658206 (142)\ttotal: 17.2s\tremaining: 7m 27s\n",
      "185:\tlearn: 0.9928171\ttest: 0.9648458\tbest: 0.9658206 (142)\ttotal: 17.3s\tremaining: 7m 27s\n",
      "186:\tlearn: 0.9928293\ttest: 0.9648739\tbest: 0.9658206 (142)\ttotal: 17.4s\tremaining: 7m 27s\n",
      "187:\tlearn: 0.9928652\ttest: 0.9650351\tbest: 0.9658206 (142)\ttotal: 17.5s\tremaining: 7m 26s\n",
      "188:\tlearn: 0.9928785\ttest: 0.9649963\tbest: 0.9658206 (142)\ttotal: 17.6s\tremaining: 7m 26s\n",
      "189:\tlearn: 0.9929515\ttest: 0.9654723\tbest: 0.9658206 (142)\ttotal: 17.7s\tremaining: 7m 26s\n",
      "190:\tlearn: 0.9929537\ttest: 0.9655259\tbest: 0.9658206 (142)\ttotal: 17.7s\tremaining: 7m 26s\n",
      "191:\tlearn: 0.9930065\ttest: 0.9647476\tbest: 0.9658206 (142)\ttotal: 17.8s\tremaining: 7m 26s\n",
      "192:\tlearn: 0.9930710\ttest: 0.9649430\tbest: 0.9658206 (142)\ttotal: 17.9s\tremaining: 7m 26s\n",
      "193:\tlearn: 0.9930780\ttest: 0.9647645\tbest: 0.9658206 (142)\ttotal: 18s\tremaining: 7m 26s\n",
      "Stopped by overfitting detector  (50 iterations wait)\n",
      "\n",
      "bestTest = 0.9658206386\n",
      "bestIteration = 142\n",
      "\n",
      "Shrink model to first 143 iterations.\n"
     ]
    },
    {
     "data": {
      "text/plain": [
       "<catboost.core.CatBoostClassifier at 0x7fe72e4444a8>"
      ]
     },
     "execution_count": 14,
     "metadata": {},
     "output_type": "execute_result"
    }
   ],
   "source": [
    "model.fit(train_pool,  eval_set=val_pool, use_best_model=True, verbose_eval=1)"
   ]
  },
  {
   "cell_type": "code",
   "execution_count": 86,
   "metadata": {
    "collapsed": true
   },
   "outputs": [],
   "source": [
    "model.save_model('/home/kai/data/kaggle/talkingdata/wl/data/equalhour/catboost/draft')"
   ]
  },
  {
   "cell_type": "code",
   "execution_count": 89,
   "metadata": {
    "collapsed": true
   },
   "outputs": [],
   "source": [
    "aaa = CatBoostClassifier().load_model(fname='/home/kai/data/kaggle/talkingdata/wl/data/equalhour/catboost/draft')"
   ]
  },
  {
   "cell_type": "code",
   "execution_count": 91,
   "metadata": {
    "collapsed": true
   },
   "outputs": [],
   "source": [
    "bbb = aaa.predict_proba(valset[feature_cols], ntree_start=0, ntree_end=194)[:,1]"
   ]
  },
  {
   "cell_type": "code",
   "execution_count": 84,
   "metadata": {},
   "outputs": [
    {
     "data": {
      "text/plain": [
       "array([ 0.0427769 ,  0.00872796,  0.00385234, ...,  0.01451301,\n",
       "        0.00800453,  0.00869701])"
      ]
     },
     "execution_count": 84,
     "metadata": {},
     "output_type": "execute_result"
    }
   ],
   "source": [
    "aaa = model.predict_proba(valset[feature_cols], ntree_start=0, ntree_end=194)[:,1]\n",
    "aaa"
   ]
  },
  {
   "cell_type": "code",
   "execution_count": 92,
   "metadata": {},
   "outputs": [
    {
     "name": "stdout",
     "output_type": "stream",
     "text": [
      "0.968119030217\n"
     ]
    }
   ],
   "source": [
    "from sklearn.metrics import roc_auc_score\n",
    "print(roc_auc_score(valset[target].values, bbb))"
   ]
  },
  {
   "cell_type": "code",
   "execution_count": 49,
   "metadata": {},
   "outputs": [
    {
     "data": {
      "text/plain": [
       "194"
      ]
     },
     "execution_count": 49,
     "metadata": {},
     "output_type": "execute_result"
    }
   ],
   "source": [
    "len(b)"
   ]
  },
  {
   "cell_type": "code",
   "execution_count": 52,
   "metadata": {},
   "outputs": [
    {
     "data": {
      "text/plain": [
       "array([[ 0.92542857,  0.07457143],\n",
       "       [ 0.88862555,  0.11137445],\n",
       "       [ 0.84014467,  0.15985533],\n",
       "       ..., \n",
       "       [ 0.92542857,  0.07457143],\n",
       "       [ 0.92542857,  0.07457143],\n",
       "       [ 0.88330049,  0.11669951]])"
      ]
     },
     "execution_count": 52,
     "metadata": {},
     "output_type": "execute_result"
    }
   ],
   "source": [
    "a"
   ]
  },
  {
   "cell_type": "code",
   "execution_count": 108,
   "metadata": {},
   "outputs": [
    {
     "name": "stdout",
     "output_type": "stream",
     "text": [
      "0.961529554947\n"
     ]
    }
   ],
   "source": [
    "from sklearn.metrics import roc_auc_score\n",
    "print(roc_auc_score(valset[target].values, preds))"
   ]
  },
  {
   "cell_type": "code",
   "execution_count": null,
   "metadata": {
    "collapsed": true
   },
   "outputs": [],
   "source": []
  }
 ],
 "metadata": {
  "kernelspec": {
   "display_name": "Python 3",
   "language": "python",
   "name": "python3"
  },
  "language_info": {
   "codemirror_mode": {
    "name": "ipython",
    "version": 3
   },
   "file_extension": ".py",
   "mimetype": "text/x-python",
   "name": "python",
   "nbconvert_exporter": "python",
   "pygments_lexer": "ipython3",
   "version": "3.6.3"
  }
 },
 "nbformat": 4,
 "nbformat_minor": 2
}
