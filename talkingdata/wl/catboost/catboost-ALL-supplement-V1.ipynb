{
 "cells": [
  {
   "cell_type": "code",
   "execution_count": 1,
   "metadata": {
    "collapsed": true
   },
   "outputs": [],
   "source": [
    "import pandas as pd\n",
    "from catboost import CatBoostClassifier, Pool\n",
    "import numpy as np\n",
    "import gc"
   ]
  },
  {
   "cell_type": "code",
   "execution_count": 2,
   "metadata": {
    "collapsed": true
   },
   "outputs": [],
   "source": [
    "dtypes = {\n",
    "        'app'           : 'uint16',\n",
    "        'device'        : 'uint16',\n",
    "        'os'            : 'uint16',\n",
    "        'channel'       : 'uint16',\n",
    "        'hour'          : 'uint8',\n",
    "        'is_attributed' : 'uint8', \n",
    "        'ip_day_hour_count': 'uint32', \n",
    "        'ip_os_day_hour_count': 'uint32', \n",
    "        'ip_app_day_hour_count': 'uint32', \n",
    "        'ip_app_os_day_hour_count': 'uint32', \n",
    "        'app_day_hour_count': 'uint32', \n",
    "        'ip_device_os_count': 'uint32', \n",
    "        'ip_app_device_os_count': 'uint32', \n",
    "        'ip_device_os_mean': 'float16',\n",
    "        'ip_app_device_os_mean': 'float16',\n",
    "        'ip_app_device_mean': 'float16',\n",
    "        'app_device_os_mean': 'float16',\n",
    "        'ip_device_os_time2nextclick': 'int32',\n",
    "        'ip_app_device_os_time2nextclick': 'int32',\n",
    "        'ip_app_device_time2nextclick': 'int32',\n",
    "        'ip_device_os_time2previousclick': 'int32',\n",
    "        'ip_app_device_os_time2previousclick': 'int32',\n",
    "        'ip_app_device_time2previousclick': 'int32',\n",
    "        'ip_device_os_countfromfuture': 'uint32', \n",
    "        'ip_app_device_os_countfromfuture': 'uint32', \n",
    "        'ip_app_device_countfromfuture': 'uint32', \n",
    "        'ip_device_os_countfrompast': 'uint32', \n",
    "        'ip_app_device_os_countfrompast': 'uint32', \n",
    "        'ip_app_device_countfrompast': 'uint32', \n",
    "        'ip_device_os_lasttimediff': 'int32',\n",
    "        'ip_app_device_os_lasttimediff': 'int32',\n",
    "        'ip_app_device_lasttimediff': 'int32',\n",
    "        'ip_device_os_firsttimediff': 'int32',\n",
    "        'ip_app_device_os_firsttimediff': 'int32',\n",
    "        'ip_app_device_firsttimediff': 'int32',\n",
    "        'matrixFact_user_iposdeviceapp_item_app': 'float16',\n",
    "        'matrixFact_user_ip_item_appdeviceos': 'float16',\n",
    "        'matrixFact_user_ipchannel_item_appdeviceos': 'float16',\n",
    "        'ip_device_os_regression': 'float16',\n",
    "        'ip_app_device_os_regression': 'float16',\n",
    "        'ip_app_device_regression': 'float16',\n",
    "        'ip_app_device_os_channel_regression': 'float16', \n",
    "        'attributed_timediffmax':'int32',\n",
    "        'attributed_timediffmin':'int32',\n",
    "        'attributed_timediff':'float16',\n",
    "        'matrixFact_user_ipappdeviceos_item_channel': 'float16'\n",
    "    \n",
    "        } "
   ]
  },
  {
   "cell_type": "markdown",
   "metadata": {},
   "source": [
    "# Load Data"
   ]
  },
  {
   "cell_type": "code",
   "execution_count": 3,
   "metadata": {
    "collapsed": true
   },
   "outputs": [],
   "source": [
    "df_all = pd.read_csv('/home/kai/data/kaggle/talkingdata/wl/data/equalhour/ALL_features_supplementV3_feature42.csv',dtype=dtypes)\n",
    "target = 'is_attributed'\n",
    "extra = ['ip_app_device_os_channel_regression']\n",
    "feature_cols = list(set(df_all.columns) - set([target]) -set(extra))"
   ]
  },
  {
   "cell_type": "markdown",
   "metadata": {},
   "source": [
    "# Define ROC eval Metrix"
   ]
  },
  {
   "cell_type": "code",
   "execution_count": 4,
   "metadata": {
    "collapsed": true
   },
   "outputs": [],
   "source": [
    "from sklearn.metrics import roc_auc_score\n",
    "\n",
    "class ROCMetric(object):\n",
    "    def get_final_error(self, error, weight):\n",
    "        return error\n",
    "\n",
    "    def is_max_optimal(self):\n",
    "        return True\n",
    "\n",
    "    def evaluate(self, approxes, target, weight):\n",
    "        approx = approxes[0]\n",
    "        roc = roc_auc_score(np.array(target), np.array(approx))\n",
    "        return roc, 1"
   ]
  },
  {
   "cell_type": "code",
   "execution_count": 5,
   "metadata": {
    "collapsed": true
   },
   "outputs": [],
   "source": [
    "target = 'is_attributed'\n",
    "\n",
    "params = {\n",
    "#         'eval_metric': ROCMetric(), \n",
    "    'eval_metric': 'Logloss',\n",
    "         'learning_rate':0.05, \n",
    "#          'od_type':'Iter',\n",
    "#          'od_wait':40,\n",
    "         'loss_function':'Logloss', \n",
    "         'depth':6, \n",
    "         'thread_count':2, \n",
    "         'iterations':1200,\n",
    "         'scale_pos_weight': 398,\n",
    "        'l2_leaf_reg': 6,\n",
    "    'leaf_estimation_method': 'Gradient',\n",
    "#     'max_ctr_complexity':2,\n",
    "        }\n",
    "\n",
    "\n",
    "categorical_col = [ 'app', 'device', 'os', 'channel', 'hour']\n",
    "\n",
    "\n",
    "category_index = [feature_cols.index(cat) for cat in categorical_col]"
   ]
  },
  {
   "cell_type": "code",
   "execution_count": 6,
   "metadata": {
    "collapsed": true
   },
   "outputs": [],
   "source": [
    "# def train_catboost(x_train, x_val, feature_cols, category_index, params, best_round = None, target='is_attributed'):\n",
    "#     param = params.copy()\n",
    "# #     y_train = x_train[target].values\n",
    "# #     y_val = x_val[target].values\n",
    "#     print('Building pool...')\n",
    "#     train_pool = Pool(x_train[feature_cols], x_train[target], cat_features=category_index)\n",
    "#     print('train pool done!')\n",
    "#     val_pool = Pool(x_val[feature_cols], x_val[target], cat_features=category_index)\n",
    "#     print('val pool done!')\n",
    "#     if best_round is not None:\n",
    "#         param['iterations'] = best_round\n",
    "#         del param['od_type']\n",
    "#         del param['od_wait']\n",
    "#     print('start training')\n",
    "    \n",
    "#     print('Get train pool and val pool')\n",
    "#     model = CatBoostClassifier(**param)\n",
    "#     model.fit(train_pool,  eval_set=val_pool, use_best_model=True, verbose_eval=10 )\n",
    "#     return model"
   ]
  },
  {
   "cell_type": "code",
   "execution_count": 7,
   "metadata": {
    "collapsed": true
   },
   "outputs": [],
   "source": [
    "def train_catboost(x_train, x_val, feature_cols, category_index, params, best_round = None, target='is_attributed'):\n",
    "    param = params.copy()    \n",
    "    print('Start training')\n",
    "    model = CatBoostClassifier(**param)\n",
    "    model.fit(x_train[feature_cols],x_train[target],  \n",
    "              cat_features=category_index, \n",
    "              use_best_model=True, \n",
    "              verbose_eval=1 )\n",
    "    return model"
   ]
  },
  {
   "cell_type": "markdown",
   "metadata": {},
   "source": [
    "# Train CatBoost"
   ]
  },
  {
   "cell_type": "code",
   "execution_count": 8,
   "metadata": {},
   "outputs": [
    {
     "name": "stdout",
     "output_type": "stream",
     "text": [
      "Start training\n",
      "You should provide test set for use best model. use_best_model parameter swiched to false value.\n",
      "0:\tlearn: 0.6058109\ttotal: 2m 44s\tremaining: 2d 6h 43m 48s\n",
      "1:\tlearn: 0.5303534\ttotal: 5m 20s\tremaining: 2d 5h 19m 32s\n",
      "2:\tlearn: 0.4653169\ttotal: 7m 57s\tremaining: 2d 4h 55m 16s\n",
      "3:\tlearn: 0.4093420\ttotal: 10m 8s\tremaining: 2d 2h 34m 27s\n",
      "4:\tlearn: 0.3611906\ttotal: 12m 27s\tremaining: 2d 1h 38m 32s\n",
      "5:\tlearn: 0.3197572\ttotal: 15m 29s\tremaining: 2d 3h 23m 27s\n",
      "6:\tlearn: 0.2840695\ttotal: 18m 31s\tremaining: 2d 4h 35m 54s\n",
      "7:\tlearn: 0.2532829\ttotal: 20m 51s\tremaining: 2d 3h 47m 53s\n",
      "8:\tlearn: 0.2266705\ttotal: 24m 13s\tremaining: 2d 5h 26m 7s\n",
      "9:\tlearn: 0.2036112\ttotal: 27m 29s\tremaining: 2d 6h 31m 31s\n",
      "10:\tlearn: 0.1835770\ttotal: 30m 15s\tremaining: 2d 6h 29m 54s\n",
      "11:\tlearn: 0.1661206\ttotal: 32m 33s\tremaining: 2d 5h 43m 24s\n",
      "12:\tlearn: 0.1508639\ttotal: 34m 51s\tremaining: 2d 5h 2m 59s\n",
      "13:\tlearn: 0.1374878\ttotal: 37m 19s\tremaining: 2d 4h 41m 55s\n",
      "14:\tlearn: 0.1257227\ttotal: 40m 30s\tremaining: 2d 5h 20m 47s\n",
      "15:\tlearn: 0.1153413\ttotal: 43m 51s\tremaining: 2d 6h 6m 7s\n"
     ]
    },
    {
     "ename": "KeyboardInterrupt",
     "evalue": "",
     "output_type": "error",
     "traceback": [
      "\u001b[0;31m---------------------------------------------------------------------------\u001b[0m",
      "\u001b[0;31mKeyboardInterrupt\u001b[0m                         Traceback (most recent call last)",
      "\u001b[0;32m<ipython-input-8-da9f45d67035>\u001b[0m in \u001b[0;36m<module>\u001b[0;34m()\u001b[0m\n\u001b[1;32m      1\u001b[0m \u001b[0msave_model_name\u001b[0m \u001b[0;34m=\u001b[0m \u001b[0;34m'/home/kai/data/kaggle/talkingdata/wl/data/catboost/all_suppelement_tree_1200'\u001b[0m\u001b[0;34m\u001b[0m\u001b[0m\n\u001b[0;32m----> 2\u001b[0;31m \u001b[0mmodel\u001b[0m \u001b[0;34m=\u001b[0m \u001b[0mtrain_catboost\u001b[0m\u001b[0;34m(\u001b[0m\u001b[0mdf_all\u001b[0m\u001b[0;34m,\u001b[0m \u001b[0;32mNone\u001b[0m\u001b[0;34m,\u001b[0m \u001b[0mfeature_cols\u001b[0m\u001b[0;34m,\u001b[0m\u001b[0mcategory_index\u001b[0m\u001b[0;34m,\u001b[0m\u001b[0mparams\u001b[0m\u001b[0;34m,\u001b[0m\u001b[0;32mNone\u001b[0m\u001b[0;34m,\u001b[0m\u001b[0mtarget\u001b[0m\u001b[0;34m)\u001b[0m\u001b[0;34m\u001b[0m\u001b[0m\n\u001b[0m\u001b[1;32m      3\u001b[0m \u001b[0mmodel\u001b[0m\u001b[0;34m.\u001b[0m\u001b[0msave_model\u001b[0m\u001b[0;34m(\u001b[0m\u001b[0msave_model_name\u001b[0m\u001b[0;34m)\u001b[0m\u001b[0;34m\u001b[0m\u001b[0m\n",
      "\u001b[0;32m<ipython-input-7-fd8fb91ed499>\u001b[0m in \u001b[0;36mtrain_catboost\u001b[0;34m(x_train, x_val, feature_cols, category_index, params, best_round, target)\u001b[0m\n\u001b[1;32m      6\u001b[0m               \u001b[0mcat_features\u001b[0m\u001b[0;34m=\u001b[0m\u001b[0mcategory_index\u001b[0m\u001b[0;34m,\u001b[0m\u001b[0;34m\u001b[0m\u001b[0m\n\u001b[1;32m      7\u001b[0m               \u001b[0muse_best_model\u001b[0m\u001b[0;34m=\u001b[0m\u001b[0;32mTrue\u001b[0m\u001b[0;34m,\u001b[0m\u001b[0;34m\u001b[0m\u001b[0m\n\u001b[0;32m----> 8\u001b[0;31m               verbose_eval=1 )\n\u001b[0m\u001b[1;32m      9\u001b[0m     \u001b[0;32mreturn\u001b[0m \u001b[0mmodel\u001b[0m\u001b[0;34m\u001b[0m\u001b[0m\n",
      "\u001b[0;32m~/anaconda3/lib/python3.6/site-packages/catboost/core.py\u001b[0m in \u001b[0;36mfit\u001b[0;34m(self, X, y, cat_features, sample_weight, baseline, use_best_model, eval_set, verbose, logging_level, plot, column_description, verbose_eval)\u001b[0m\n\u001b[1;32m   1682\u001b[0m         \u001b[0mmodel\u001b[0m \u001b[0;34m:\u001b[0m \u001b[0mCatBoost\u001b[0m\u001b[0;34m\u001b[0m\u001b[0m\n\u001b[1;32m   1683\u001b[0m         \"\"\"\n\u001b[0;32m-> 1684\u001b[0;31m         \u001b[0mself\u001b[0m\u001b[0;34m.\u001b[0m\u001b[0m_fit\u001b[0m\u001b[0;34m(\u001b[0m\u001b[0mX\u001b[0m\u001b[0;34m,\u001b[0m \u001b[0my\u001b[0m\u001b[0;34m,\u001b[0m \u001b[0mcat_features\u001b[0m\u001b[0;34m,\u001b[0m \u001b[0;32mNone\u001b[0m\u001b[0;34m,\u001b[0m \u001b[0msample_weight\u001b[0m\u001b[0;34m,\u001b[0m \u001b[0;32mNone\u001b[0m\u001b[0;34m,\u001b[0m \u001b[0;32mNone\u001b[0m\u001b[0;34m,\u001b[0m \u001b[0;32mNone\u001b[0m\u001b[0;34m,\u001b[0m \u001b[0mbaseline\u001b[0m\u001b[0;34m,\u001b[0m \u001b[0muse_best_model\u001b[0m\u001b[0;34m,\u001b[0m \u001b[0meval_set\u001b[0m\u001b[0;34m,\u001b[0m \u001b[0mverbose\u001b[0m\u001b[0;34m,\u001b[0m \u001b[0mlogging_level\u001b[0m\u001b[0;34m,\u001b[0m \u001b[0mplot\u001b[0m\u001b[0;34m,\u001b[0m \u001b[0mcolumn_description\u001b[0m\u001b[0;34m,\u001b[0m \u001b[0mverbose_eval\u001b[0m\u001b[0;34m)\u001b[0m\u001b[0;34m\u001b[0m\u001b[0m\n\u001b[0m\u001b[1;32m   1685\u001b[0m         \u001b[0;32mreturn\u001b[0m \u001b[0mself\u001b[0m\u001b[0;34m\u001b[0m\u001b[0m\n\u001b[1;32m   1686\u001b[0m \u001b[0;34m\u001b[0m\u001b[0m\n",
      "\u001b[0;32m~/anaconda3/lib/python3.6/site-packages/catboost/core.py\u001b[0m in \u001b[0;36m_fit\u001b[0;34m(self, X, y, cat_features, pairs, sample_weight, group_id, subgroup_id, pairs_weight, baseline, use_best_model, eval_set, verbose, logging_level, plot, column_description, verbose_eval)\u001b[0m\n\u001b[1;32m    784\u001b[0m \u001b[0;34m\u001b[0m\u001b[0m\n\u001b[1;32m    785\u001b[0m         \u001b[0;32mwith\u001b[0m \u001b[0mlog_fixup\u001b[0m\u001b[0;34m(\u001b[0m\u001b[0;34m)\u001b[0m\u001b[0;34m:\u001b[0m\u001b[0;34m\u001b[0m\u001b[0m\n\u001b[0;32m--> 786\u001b[0;31m             \u001b[0mself\u001b[0m\u001b[0;34m.\u001b[0m\u001b[0m_train\u001b[0m\u001b[0;34m(\u001b[0m\u001b[0mtrain_pool\u001b[0m\u001b[0;34m,\u001b[0m \u001b[0meval_set\u001b[0m\u001b[0;34m,\u001b[0m \u001b[0mparams\u001b[0m\u001b[0;34m,\u001b[0m \u001b[0mallow_clear_pool\u001b[0m\u001b[0;34m)\u001b[0m\u001b[0;34m\u001b[0m\u001b[0m\n\u001b[0m\u001b[1;32m    787\u001b[0m         \u001b[0;32mif\u001b[0m \u001b[0mcalc_feature_importance\u001b[0m\u001b[0;34m:\u001b[0m\u001b[0;34m\u001b[0m\u001b[0m\n\u001b[1;32m    788\u001b[0m             \u001b[0;32mif\u001b[0m \u001b[0mallow_clear_pool\u001b[0m\u001b[0;34m:\u001b[0m\u001b[0;34m\u001b[0m\u001b[0m\n",
      "\u001b[0;32m_catboost.pyx\u001b[0m in \u001b[0;36m_catboost._CatBoostBase._train\u001b[0;34m()\u001b[0m\n",
      "\u001b[0;32m_catboost.pyx\u001b[0m in \u001b[0;36m_catboost._CatBoost._train\u001b[0;34m()\u001b[0m\n",
      "\u001b[0;32m_catboost.pyx\u001b[0m in \u001b[0;36m_catboost._CatBoost._train\u001b[0;34m()\u001b[0m\n",
      "\u001b[0;31mKeyboardInterrupt\u001b[0m: "
     ]
    }
   ],
   "source": [
    "save_model_name = '/home/kai/data/kaggle/talkingdata/wl/data/catboost/all_suppelement_tree_1200'\n",
    "model = train_catboost(df_all, None, feature_cols,category_index,params,None,target)\n",
    "model.save_model(save_model_name)"
   ]
  },
  {
   "cell_type": "code",
   "execution_count": null,
   "metadata": {},
   "outputs": [
    {
     "name": "stdout",
     "output_type": "stream",
     "text": [
      "concat_day8day9_val_day7_allday_supplement_V2_attributediff_depth6.npy\n",
      "building train val done!\n",
      "Building pool...\n",
      "train pool done!\n",
      "val pool done!\n",
      "start training\n",
      "Get train pool and val pool\n",
      "0:\tlearn: 0.9668847\ttest: 0.9655616\tbest: 0.9655616 (0)\ttotal: 4m 57s\tremaining: 17d 5h 28m 25s\n"
     ]
    }
   ],
   "source": [
    "# for day in day_list:\n",
    "#     train_day = list(set(day_list)-set([day]))\n",
    "#     file_name = 'concat_{}{}_val_{}_allday_supplement_V2_attributediff_depth6.npy'.format(train_day[0],train_day[1],day)\n",
    "#     print(file_name)\n",
    "#     trainset = pd.concat([df_dict[train_day[0]],df_dict[train_day[1]]])\n",
    "#     valset = df_dict[day]\n",
    "#     print('building train val done!')\n",
    "#     gc.collect()\n",
    "#     model = train_catboost(trainset, valset, feature_cols, category_index, params)\n",
    "#     best_round = model.tree_count_\n",
    "    \n",
    "#     df_all = pd.concat([trainset, valset])\n",
    "#     del trainset\n",
    "#     gc.collect()\n",
    "#     model = train_catboost(trainset, valset, feature_cols, category_index, params, best_round)\n",
    "#     del df_all\n",
    "#     gc.collect()\n",
    "    \n",
    "#     pred = model.predict(df_dict['test'][feature_cols])\n",
    "#     np.save(load_path+'catboost/'+file_name, pred)\n",
    "    \n",
    "#     # prediction\n",
    "#     df_test_raw = pd.read_csv('/home/kai/data/kaggle/talkingdata/data/test.csv')\n",
    "#     print('loading file done!')\n",
    "#     df_sub = pd.DataFrame()\n",
    "#     df_sub['click_id'] = df_test_raw['click_id']\n",
    "#     df_sub['is_attributed'] = pred\n",
    "#     print('predicting file done!')\n",
    "#     df_sub.to_csv('/home/kai/data/kaggle/talkingdata/wl/data/submission/catboost/concat_{}{}_val_{}_allday_supplement_V2_attributediff_depth6.csv.gz'.format(train_day[0],train_day[1],day), compression='gzip', index=False)\n",
    "\n",
    "    "
   ]
  },
  {
   "cell_type": "code",
   "execution_count": null,
   "metadata": {
    "collapsed": true
   },
   "outputs": [],
   "source": []
  }
 ],
 "metadata": {
  "kernelspec": {
   "display_name": "Python 3",
   "language": "python",
   "name": "python3"
  },
  "language_info": {
   "codemirror_mode": {
    "name": "ipython",
    "version": 3
   },
   "file_extension": ".py",
   "mimetype": "text/x-python",
   "name": "python",
   "nbconvert_exporter": "python",
   "pygments_lexer": "ipython3",
   "version": "3.6.3"
  }
 },
 "nbformat": 4,
 "nbformat_minor": 2
}
