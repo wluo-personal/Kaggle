{
 "cells": [
  {
   "cell_type": "code",
   "execution_count": 1,
   "metadata": {
    "collapsed": true
   },
   "outputs": [],
   "source": [
    "import pandas as pd\n",
    "from catboost import CatBoostClassifier, Pool\n",
    "import numpy as np\n",
    "import gc"
   ]
  },
  {
   "cell_type": "code",
   "execution_count": 2,
   "metadata": {
    "collapsed": true
   },
   "outputs": [],
   "source": [
    "dtypes = {\n",
    "        'app'           : 'uint16',\n",
    "        'device'        : 'uint16',\n",
    "        'os'            : 'uint16',\n",
    "        'channel'       : 'uint16',\n",
    "        'hour'          : 'uint8',\n",
    "        'is_attributed' : 'uint8', \n",
    "        'ip_day_hour_count': 'uint32', \n",
    "        'ip_os_day_hour_count': 'uint32', \n",
    "        'ip_app_day_hour_count': 'uint32', \n",
    "        'ip_app_os_day_hour_count': 'uint32', \n",
    "        'app_day_hour_count': 'uint32', \n",
    "        'ip_device_os_count': 'uint32', \n",
    "        'ip_app_device_os_count': 'uint32', \n",
    "        'ip_device_os_mean': 'float16',\n",
    "        'ip_app_device_os_mean': 'float16',\n",
    "        'ip_app_device_mean': 'float16',\n",
    "        'app_device_os_mean': 'float16',\n",
    "        'ip_device_os_time2nextclick': 'int32',\n",
    "        'ip_app_device_os_time2nextclick': 'int32',\n",
    "        'ip_app_device_time2nextclick': 'int32',\n",
    "        'ip_device_os_time2previousclick': 'int32',\n",
    "        'ip_app_device_os_time2previousclick': 'int32',\n",
    "        'ip_app_device_time2previousclick': 'int32',\n",
    "        'ip_device_os_countfromfuture': 'uint32', \n",
    "        'ip_app_device_os_countfromfuture': 'uint32', \n",
    "        'ip_app_device_countfromfuture': 'uint32', \n",
    "        'ip_device_os_countfrompast': 'uint32', \n",
    "        'ip_app_device_os_countfrompast': 'uint32', \n",
    "        'ip_app_device_countfrompast': 'uint32', \n",
    "        'ip_device_os_lasttimediff': 'int32',\n",
    "        'ip_app_device_os_lasttimediff': 'int32',\n",
    "        'ip_app_device_lasttimediff': 'int32',\n",
    "        'ip_device_os_firsttimediff': 'int32',\n",
    "        'ip_app_device_os_firsttimediff': 'int32',\n",
    "        'ip_app_device_firsttimediff': 'int32',\n",
    "        'matrixFact_user_iposdeviceapp_item_app': 'float16',\n",
    "        'matrixFact_user_ip_item_appdeviceos': 'float16',\n",
    "        'matrixFact_user_ipchannel_item_appdeviceos': 'float16',\n",
    "        'ip_device_os_regression': 'float16',\n",
    "        'ip_app_device_os_regression': 'float16',\n",
    "        'ip_app_device_regression': 'float16',\n",
    "        'ip_app_device_os_channel_regression': 'float16', \n",
    "        'attributed_timediffmax':'int32',\n",
    "        'attributed_timediffmin':'int32',\n",
    "        'attributed_timediff':'float16',\n",
    "        'matrixFact_user_ipappdeviceos_item_channel': 'float16'\n",
    "    \n",
    "        } "
   ]
  },
  {
   "cell_type": "code",
   "execution_count": 3,
   "metadata": {
    "collapsed": true
   },
   "outputs": [],
   "source": [
    "df_all = pd.read_csv('/home/kai/talkingdata/data/ALL_features_supplementV3_feature42.csv',dtype=dtypes)\n",
    "target = 'is_attributed'\n",
    "extra = ['ip_app_device_os_channel_regression']\n",
    "feature_cols = list(set(df_all.columns) - set([target]) -set(extra))"
   ]
  },
  {
   "cell_type": "code",
   "execution_count": 4,
   "metadata": {},
   "outputs": [
    {
     "data": {
      "text/plain": [
       "['ip_app_os_day_hour_count',\n",
       " 'ip_os_day_hour_count',\n",
       " 'channel',\n",
       " 'ip_day_hour_count',\n",
       " 'device',\n",
       " 'app_device_os_mean',\n",
       " 'matrixFact_user_ipchannel_item_appdeviceos',\n",
       " 'ip_app_device_time2previousclick',\n",
       " 'attributed_timediff',\n",
       " 'ip_app_device_os_countfrompast',\n",
       " 'ip_app_device_os_countfromfuture',\n",
       " 'ip_app_device_os_count',\n",
       " 'os',\n",
       " 'ip_app_device_countfromfuture',\n",
       " 'ip_device_os_time2nextclick',\n",
       " 'ip_device_os_mean',\n",
       " 'matrixFact_user_iposdeviceapp_item_app',\n",
       " 'ip_app_device_lasttimediff',\n",
       " 'ip_device_os_lasttimediff',\n",
       " 'ip_app_device_os_mean',\n",
       " 'ip_app_device_firsttimediff',\n",
       " 'ip_app_device_countfrompast',\n",
       " 'ip_device_os_count',\n",
       " 'ip_app_device_os_time2previousclick',\n",
       " 'app',\n",
       " 'ip_device_os_time2previousclick',\n",
       " 'ip_app_device_mean',\n",
       " 'hour',\n",
       " 'ip_device_os_firsttimediff',\n",
       " 'ip_app_device_os_lasttimediff',\n",
       " 'ip_app_device_os_time2nextclick',\n",
       " 'app_day_hour_count',\n",
       " 'ip_app_day_hour_count',\n",
       " 'ip_device_os_countfromfuture',\n",
       " 'ip_app_device_time2nextclick',\n",
       " 'matrixFact_user_ip_item_appdeviceos',\n",
       " 'ip_device_os_countfrompast',\n",
       " 'ip_app_device_os_firsttimediff']"
      ]
     },
     "execution_count": 4,
     "metadata": {},
     "output_type": "execute_result"
    }
   ],
   "source": [
    "feature_cols"
   ]
  },
  {
   "cell_type": "code",
   "execution_count": 5,
   "metadata": {
    "collapsed": true
   },
   "outputs": [],
   "source": [
    "from sklearn.metrics import roc_auc_score\n",
    "\n",
    "target = 'is_attributed'\n",
    "\n",
    "# params = {\n",
    "# #         'eval_metric': ROCMetric(), \n",
    "#     'eval_metric': 'AUC',\n",
    "#          'learning_rate':0.35, \n",
    "# #          'od_type':'Iter',\n",
    "# #          'od_wait':40,\n",
    "#          'loss_function':'Logloss', \n",
    "#          'depth':7, \n",
    "# #          'thread_count':90, \n",
    "#          'iterations':200,\n",
    "#          'scale_pos_weight': 99,\n",
    "#         'l2_leaf_reg': 6,\n",
    "#     'leaf_estimation_method': 'Gradient',\n",
    "#     'rsm': 0.7,\n",
    "# #     'max_ctr_complexity':2,\n",
    "#         }\n",
    "\n",
    "params = {\n",
    "    'eval_metric': 'AUC',\n",
    "         'learning_rate':0.35, \n",
    "         'loss_function':'Logloss', \n",
    "         'depth':7, \n",
    "         'iterations':200,\n",
    "         'scale_pos_weight': 99,\n",
    "        'l2_leaf_reg': 9,\n",
    "        'one_hot_max_size': 50,\n",
    "    'leaf_estimation_method': 'Gradient',\n",
    "    'rsm': 0.6,\n",
    "        }\n",
    "\n",
    "categorical_col = [ 'app', 'device', 'os', 'channel', 'hour']\n",
    "\n",
    "\n",
    "category_index = [feature_cols.index(cat) for cat in categorical_col]"
   ]
  },
  {
   "cell_type": "code",
   "execution_count": null,
   "metadata": {
    "collapsed": true
   },
   "outputs": [],
   "source": [
    "def train_catboost(x_train, x_val, feature_cols, category_index, params, best_round = None, target='is_attributed'):\n",
    "    param = params.copy()    \n",
    "    print('Start training')\n",
    "    model = CatBoostClassifier(**param)\n",
    "    model.fit(x_train[feature_cols],x_train[target],  \n",
    "              cat_features=category_index, \n",
    "              use_best_model=True, \n",
    "              verbose_eval=1 )\n",
    "    return model"
   ]
  },
  {
   "cell_type": "markdown",
   "metadata": {},
   "source": [
    "# Train Catboost"
   ]
  },
  {
   "cell_type": "code",
   "execution_count": null,
   "metadata": {},
   "outputs": [
    {
     "name": "stdout",
     "output_type": "stream",
     "text": [
      "Start training\n",
      "You should provide test set for use best model. use_best_model parameter swiched to false value.\n",
      "0:\tlearn: 0.9688646\ttotal: 2m 46s\tremaining: 9h 12m 55s\n",
      "1:\tlearn: 0.9719039\ttotal: 5m 28s\tremaining: 9h 2m 1s\n",
      "2:\tlearn: 0.9734741\ttotal: 8m 14s\tremaining: 9h 58s\n",
      "3:\tlearn: 0.9738883\ttotal: 11m 5s\tremaining: 9h 3m 22s\n",
      "4:\tlearn: 0.9761802\ttotal: 13m 52s\tremaining: 9h 48s\n",
      "5:\tlearn: 0.9774496\ttotal: 16m 37s\tremaining: 8h 57m 35s\n",
      "6:\tlearn: 0.9778132\ttotal: 19m 43s\tremaining: 9h 3m 56s\n",
      "7:\tlearn: 0.9789622\ttotal: 23m 50s\tremaining: 9h 32m 15s\n",
      "8:\tlearn: 0.9792355\ttotal: 27m 8s\tremaining: 9h 36m 6s\n",
      "9:\tlearn: 0.9796439\ttotal: 30m 22s\tremaining: 9h 37m 16s\n",
      "10:\tlearn: 0.9799557\ttotal: 35m 14s\tremaining: 10h 5m 29s\n",
      "11:\tlearn: 0.9805175\ttotal: 39m 20s\tremaining: 10h 16m 24s\n",
      "12:\tlearn: 0.9807606\ttotal: 42m 56s\tremaining: 10h 17m 48s\n",
      "13:\tlearn: 0.9809596\ttotal: 46m 6s\tremaining: 10h 12m 29s\n",
      "14:\tlearn: 0.9811934\ttotal: 49m 12s\tremaining: 10h 6m 48s\n",
      "15:\tlearn: 0.9816037\ttotal: 52m 15s\tremaining: 10h 56s\n",
      "16:\tlearn: 0.9816735\ttotal: 55m 22s\tremaining: 9h 56m 2s\n",
      "17:\tlearn: 0.9819019\ttotal: 58m 22s\tremaining: 9h 50m 17s\n",
      "18:\tlearn: 0.9820919\ttotal: 1h 1m 28s\tremaining: 9h 45m 39s\n",
      "19:\tlearn: 0.9821774\ttotal: 1h 4m 31s\tremaining: 9h 40m 39s\n",
      "20:\tlearn: 0.9823814\ttotal: 1h 7m 42s\tremaining: 9h 37m 9s\n",
      "21:\tlearn: 0.9824434\ttotal: 1h 11m 55s\tremaining: 9h 41m 59s\n",
      "22:\tlearn: 0.9826143\ttotal: 1h 15m 31s\tremaining: 9h 41m 12s\n",
      "23:\tlearn: 0.9827828\ttotal: 1h 19m 35s\tremaining: 9h 43m 36s\n",
      "24:\tlearn: 0.9828371\ttotal: 1h 22m 46s\tremaining: 9h 39m 23s\n",
      "25:\tlearn: 0.9829342\ttotal: 1h 26m 4s\tremaining: 9h 35m 59s\n",
      "26:\tlearn: 0.9830131\ttotal: 1h 29m 15s\tremaining: 9h 31m 52s\n",
      "27:\tlearn: 0.9830481\ttotal: 1h 32m 23s\tremaining: 9h 27m 34s\n",
      "28:\tlearn: 0.9831659\ttotal: 1h 35m 36s\tremaining: 9h 23m 45s\n",
      "29:\tlearn: 0.9832191\ttotal: 1h 38m 37s\tremaining: 9h 18m 54s\n",
      "30:\tlearn: 0.9832351\ttotal: 1h 41m 48s\tremaining: 9h 15m 3s\n",
      "31:\tlearn: 0.9833364\ttotal: 1h 44m 58s\tremaining: 9h 11m 5s\n",
      "32:\tlearn: 0.9833945\ttotal: 1h 47m 59s\tremaining: 9h 6m 32s\n",
      "33:\tlearn: 0.9834639\ttotal: 1h 51m 38s\tremaining: 9h 5m 3s\n",
      "34:\tlearn: 0.9835300\ttotal: 1h 56m 40s\tremaining: 9h 10m\n",
      "35:\tlearn: 0.9835659\ttotal: 2h 9s\tremaining: 9h 7m 25s\n",
      "36:\tlearn: 0.9836383\ttotal: 2h 3m 57s\tremaining: 9h 6m 5s\n",
      "37:\tlearn: 0.9836775\ttotal: 2h 6m 52s\tremaining: 9h 55s\n",
      "38:\tlearn: 0.9837143\ttotal: 2h 10m 4s\tremaining: 8h 56m 56s\n",
      "39:\tlearn: 0.9837426\ttotal: 2h 13m 10s\tremaining: 8h 52m 41s\n",
      "40:\tlearn: 0.9837875\ttotal: 2h 16m 14s\tremaining: 8h 48m 19s\n",
      "41:\tlearn: 0.9838163\ttotal: 2h 19m 27s\tremaining: 8h 44m 35s\n",
      "42:\tlearn: 0.9838521\ttotal: 2h 22m 32s\tremaining: 8h 40m 26s\n",
      "43:\tlearn: 0.9839159\ttotal: 2h 25m 32s\tremaining: 8h 36m\n",
      "44:\tlearn: 0.9839598\ttotal: 2h 28m 48s\tremaining: 8h 32m 32s\n",
      "45:\tlearn: 0.9839910\ttotal: 2h 31m 55s\tremaining: 8h 28m 36s\n",
      "46:\tlearn: 0.9840443\ttotal: 2h 35m 7s\tremaining: 8h 24m 57s\n",
      "47:\tlearn: 0.9840758\ttotal: 2h 38m 14s\tremaining: 8h 21m 4s\n",
      "48:\tlearn: 0.9841287\ttotal: 2h 41m 20s\tremaining: 8h 17m 11s\n",
      "49:\tlearn: 0.9841648\ttotal: 2h 44m 31s\tremaining: 8h 13m 34s\n",
      "50:\tlearn: 0.9841862\ttotal: 2h 47m 42s\tremaining: 8h 9m 59s\n",
      "51:\tlearn: 0.9842068\ttotal: 2h 50m 49s\tremaining: 8h 6m 10s\n",
      "52:\tlearn: 0.9842252\ttotal: 2h 54m\tremaining: 8h 2m 37s\n",
      "53:\tlearn: 0.9842623\ttotal: 2h 57m 7s\tremaining: 7h 58m 52s\n",
      "54:\tlearn: 0.9842911\ttotal: 3h 17s\tremaining: 7h 55m 19s\n",
      "55:\tlearn: 0.9843267\ttotal: 3h 3m 34s\tremaining: 7h 52m 3s\n",
      "56:\tlearn: 0.9843486\ttotal: 3h 8m 2s\tremaining: 7h 51m 44s\n",
      "57:\tlearn: 0.9843856\ttotal: 3h 12m 22s\tremaining: 7h 50m 59s\n",
      "58:\tlearn: 0.9844106\ttotal: 3h 15m 46s\tremaining: 7h 47m 50s\n",
      "59:\tlearn: 0.9844651\ttotal: 3h 19m 17s\tremaining: 7h 45m 1s\n",
      "60:\tlearn: 0.9844830\ttotal: 3h 22m 44s\tremaining: 7h 42m\n",
      "61:\tlearn: 0.9844950\ttotal: 3h 25m 52s\tremaining: 7h 38m 14s\n",
      "62:\tlearn: 0.9845240\ttotal: 3h 29m 3s\tremaining: 7h 34m 36s\n",
      "63:\tlearn: 0.9845338\ttotal: 3h 32m 10s\tremaining: 7h 30m 51s\n",
      "64:\tlearn: 0.9845476\ttotal: 3h 35m 21s\tremaining: 7h 27m 16s\n",
      "65:\tlearn: 0.9845714\ttotal: 3h 38m 39s\tremaining: 7h 23m 57s\n",
      "66:\tlearn: 0.9845810\ttotal: 3h 42m 27s\tremaining: 7h 21m 36s\n",
      "67:\tlearn: 0.9845940\ttotal: 3h 47m 11s\tremaining: 7h 21m 1s\n",
      "68:\tlearn: 0.9846091\ttotal: 3h 50m 45s\tremaining: 7h 18m 7s\n",
      "69:\tlearn: 0.9846433\ttotal: 3h 53m 56s\tremaining: 7h 14m 28s\n",
      "70:\tlearn: 0.9846568\ttotal: 3h 57m 7s\tremaining: 7h 10m 50s\n",
      "71:\tlearn: 0.9846819\ttotal: 4h 1m 19s\tremaining: 7h 9m 1s\n",
      "72:\tlearn: 0.9847051\ttotal: 4h 4m 35s\tremaining: 7h 5m 31s\n",
      "73:\tlearn: 0.9847275\ttotal: 4h 7m 49s\tremaining: 7h 1m 58s\n",
      "74:\tlearn: 0.9847468\ttotal: 4h 11m 7s\tremaining: 6h 58m 32s\n",
      "75:\tlearn: 0.9847704\ttotal: 4h 14m 19s\tremaining: 6h 54m 57s\n",
      "76:\tlearn: 0.9847792\ttotal: 4h 17m 27s\tremaining: 6h 51m 16s\n",
      "77:\tlearn: 0.9847922\ttotal: 4h 21m 55s\tremaining: 6h 49m 39s\n",
      "78:\tlearn: 0.9848058\ttotal: 4h 25m 16s\tremaining: 6h 46m 18s\n",
      "79:\tlearn: 0.9848426\ttotal: 4h 28m 36s\tremaining: 6h 42m 54s\n",
      "80:\tlearn: 0.9848484\ttotal: 4h 31m 37s\tremaining: 6h 39m 3s\n",
      "81:\tlearn: 0.9848673\ttotal: 4h 34m 33s\tremaining: 6h 35m 5s\n",
      "82:\tlearn: 0.9848863\ttotal: 4h 37m 43s\tremaining: 6h 31m 29s\n",
      "83:\tlearn: 0.9849005\ttotal: 4h 40m 40s\tremaining: 6h 27m 36s\n",
      "84:\tlearn: 0.9849154\ttotal: 4h 43m 40s\tremaining: 6h 23m 48s\n",
      "85:\tlearn: 0.9849246\ttotal: 4h 46m 51s\tremaining: 6h 20m 15s\n",
      "86:\tlearn: 0.9849324\ttotal: 4h 49m 59s\tremaining: 6h 16m 39s\n",
      "87:\tlearn: 0.9849485\ttotal: 4h 53m 13s\tremaining: 6h 13m 11s\n",
      "88:\tlearn: 0.9849628\ttotal: 4h 56m 19s\tremaining: 6h 9m 34s\n",
      "89:\tlearn: 0.9849736\ttotal: 4h 59m 23s\tremaining: 6h 5m 55s\n",
      "90:\tlearn: 0.9849820\ttotal: 5h 2m 24s\tremaining: 6h 2m 13s\n",
      "91:\tlearn: 0.9850130\ttotal: 5h 5m 28s\tremaining: 5h 58m 36s\n",
      "92:\tlearn: 0.9850301\ttotal: 5h 8m 45s\tremaining: 5h 55m 14s\n",
      "93:\tlearn: 0.9850362\ttotal: 5h 12m 15s\tremaining: 5h 52m 7s\n",
      "94:\tlearn: 0.9850419\ttotal: 5h 16m 33s\tremaining: 5h 49m 52s\n",
      "95:\tlearn: 0.9850562\ttotal: 5h 19m 47s\tremaining: 5h 46m 26s\n",
      "96:\tlearn: 0.9850708\ttotal: 5h 22m 49s\tremaining: 5h 42m 47s\n",
      "97:\tlearn: 0.9850981\ttotal: 5h 26m 2s\tremaining: 5h 39m 21s\n",
      "98:\tlearn: 0.9851119\ttotal: 5h 29m 12s\tremaining: 5h 35m 51s\n",
      "99:\tlearn: 0.9851221\ttotal: 5h 32m 22s\tremaining: 5h 32m 22s\n",
      "100:\tlearn: 0.9851430\ttotal: 5h 37m 13s\tremaining: 5h 30m 33s\n",
      "101:\tlearn: 0.9851639\ttotal: 5h 42m 3s\tremaining: 5h 28m 38s\n",
      "102:\tlearn: 0.9851769\ttotal: 5h 47m 11s\tremaining: 5h 26m 58s\n",
      "103:\tlearn: 0.9851864\ttotal: 5h 51m 23s\tremaining: 5h 24m 21s\n",
      "104:\tlearn: 0.9851908\ttotal: 5h 54m 50s\tremaining: 5h 21m 2s\n"
     ]
    }
   ],
   "source": [
    "save_model_name = '/home/kai/talkingdata/data/all_suppelement_tree_200_depth7_scale99_lr0.35_ff0.6_onehot50'\n",
    "model = train_catboost(df_all, None, feature_cols,category_index,params,None,target)\n",
    "model.save_model(save_model_name)"
   ]
  },
  {
   "cell_type": "code",
   "execution_count": null,
   "metadata": {
    "collapsed": true
   },
   "outputs": [],
   "source": [
    "import json\n",
    "feature_file = '/home/kai/talkingdata/data/catboost-featurecolsV3_col38_depth7_scale99_tree200_lr0.35_onehot50.json'\n",
    "\n",
    "with open(feature_file, 'w') as outfile:\n",
    "    json.dump(feature_cols, outfile)"
   ]
  },
  {
   "cell_type": "code",
   "execution_count": null,
   "metadata": {
    "collapsed": true
   },
   "outputs": [],
   "source": [
    "df_all.head(20)"
   ]
  },
  {
   "cell_type": "code",
   "execution_count": null,
   "metadata": {
    "collapsed": true
   },
   "outputs": [],
   "source": []
  }
 ],
 "metadata": {
  "kernelspec": {
   "display_name": "Python 3",
   "language": "python",
   "name": "python3"
  },
  "language_info": {
   "codemirror_mode": {
    "name": "ipython",
    "version": 3
   },
   "file_extension": ".py",
   "mimetype": "text/x-python",
   "name": "python",
   "nbconvert_exporter": "python",
   "pygments_lexer": "ipython3",
   "version": "3.6.3"
  }
 },
 "nbformat": 4,
 "nbformat_minor": 2
}
