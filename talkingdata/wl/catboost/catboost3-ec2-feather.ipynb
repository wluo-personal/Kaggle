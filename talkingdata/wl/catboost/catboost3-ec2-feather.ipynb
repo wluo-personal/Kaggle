{
 "cells": [
  {
   "cell_type": "code",
   "execution_count": 1,
   "metadata": {
    "collapsed": true
   },
   "outputs": [],
   "source": [
    "import pandas as pd\n",
    "from catboost import CatBoostClassifier, Pool\n",
    "import numpy as np\n",
    "import gc"
   ]
  },
  {
   "cell_type": "code",
   "execution_count": 3,
   "metadata": {
    "collapsed": true
   },
   "outputs": [],
   "source": [
    "df_all = pd.read_feather('/home/kai/talkingdata/data/ALL_features_supplementV3_feature42.ftr')\n",
    "target = 'is_attributed'\n",
    "extra = ['ip_app_device_os_channel_regression']\n",
    "feature_cols = list(set(df_all.columns) - set([target]) -set(extra))"
   ]
  },
  {
   "cell_type": "code",
   "execution_count": 7,
   "metadata": {
    "collapsed": true
   },
   "outputs": [],
   "source": [
    "from sklearn.metrics import roc_auc_score\n",
    "\n",
    "target = 'is_attributed'\n",
    "\n",
    "params = {\n",
    "    'eval_metric': 'AUC',\n",
    "         'learning_rate':0.35, \n",
    "         'loss_function':'Logloss', \n",
    "         'depth':6, \n",
    "         'iterations':200,\n",
    "         'scale_pos_weight': 99,\n",
    "        'l2_leaf_reg': 9,\n",
    "        'one_hot_max_size': 200,\n",
    "    'leaf_estimation_method': 'Gradient',\n",
    "    'rsm': 0.6,\n",
    "#     'max_ctr_complexity':2,\n",
    "        }\n",
    "\n",
    "\n",
    "categorical_col = [ 'app', 'device', 'os', 'channel', 'hour']\n",
    "\n",
    "\n",
    "category_index = [feature_cols.index(cat) for cat in categorical_col]"
   ]
  },
  {
   "cell_type": "code",
   "execution_count": 8,
   "metadata": {
    "collapsed": true
   },
   "outputs": [],
   "source": [
    "def train_catboost(x_train, x_val, feature_cols, category_index, params, best_round = None, target='is_attributed'):\n",
    "    param = params.copy()    \n",
    "    print('Start training')\n",
    "    model = CatBoostClassifier(**param)\n",
    "    model.fit(x_train[feature_cols],x_train[target],  \n",
    "              cat_features=category_index, \n",
    "              use_best_model=True, \n",
    "              verbose_eval=1 )\n",
    "    return model"
   ]
  },
  {
   "cell_type": "markdown",
   "metadata": {},
   "source": [
    "## Train Catboost"
   ]
  },
  {
   "cell_type": "code",
   "execution_count": null,
   "metadata": {},
   "outputs": [
    {
     "name": "stdout",
     "output_type": "stream",
     "text": [
      "Start training\n",
      "You should provide test set for use best model. use_best_model parameter swiched to false value.\n",
      "0:\tlearn: 0.9660803\ttotal: 2m 33s\tremaining: 8h 28m 55s\n",
      "1:\tlearn: 0.9702093\ttotal: 4m 59s\tremaining: 8h 14m 30s\n",
      "2:\tlearn: 0.9714373\ttotal: 7m 34s\tremaining: 8h 17m 17s\n",
      "3:\tlearn: 0.9727371\ttotal: 10m 12s\tremaining: 8h 20m 26s\n",
      "4:\tlearn: 0.9741021\ttotal: 12m 58s\tremaining: 8h 26m 8s\n",
      "5:\tlearn: 0.9762021\ttotal: 15m 39s\tremaining: 8h 26m 20s\n",
      "6:\tlearn: 0.9768180\ttotal: 18m 17s\tremaining: 8h 24m 25s\n",
      "7:\tlearn: 0.9778866\ttotal: 21m 9s\tremaining: 8h 27m 49s\n",
      "8:\tlearn: 0.9784334\ttotal: 24m 8s\tremaining: 8h 32m 17s\n",
      "9:\tlearn: 0.9784131\ttotal: 26m 55s\tremaining: 8h 31m 31s\n",
      "10:\tlearn: 0.9791329\ttotal: 30m 3s\tremaining: 8h 36m 19s\n",
      "11:\tlearn: 0.9794107\ttotal: 33m 23s\tremaining: 8h 43m 12s\n",
      "12:\tlearn: 0.9796444\ttotal: 36m 31s\tremaining: 8h 45m 22s\n",
      "13:\tlearn: 0.9801743\ttotal: 39m 24s\tremaining: 8h 43m 35s\n",
      "14:\tlearn: 0.9803902\ttotal: 42m 6s\tremaining: 8h 39m 19s\n",
      "15:\tlearn: 0.9806397\ttotal: 44m 57s\tremaining: 8h 37m 4s\n",
      "16:\tlearn: 0.9810275\ttotal: 47m 48s\tremaining: 8h 34m 36s\n",
      "17:\tlearn: 0.9812790\ttotal: 50m 43s\tremaining: 8h 32m 57s\n",
      "18:\tlearn: 0.9813693\ttotal: 53m 33s\tremaining: 8h 30m 10s\n",
      "19:\tlearn: 0.9814854\ttotal: 56m 30s\tremaining: 8h 28m 37s\n",
      "20:\tlearn: 0.9816139\ttotal: 59m 26s\tremaining: 8h 26m 42s\n",
      "21:\tlearn: 0.9816200\ttotal: 1h 2m 21s\tremaining: 8h 24m 32s\n",
      "22:\tlearn: 0.9818044\ttotal: 1h 5m 18s\tremaining: 8h 22m 32s\n",
      "23:\tlearn: 0.9819868\ttotal: 1h 8m 23s\tremaining: 8h 21m 33s\n",
      "24:\tlearn: 0.9820637\ttotal: 1h 11m 18s\tremaining: 8h 19m 12s\n",
      "25:\tlearn: 0.9821409\ttotal: 1h 14m 15s\tremaining: 8h 16m 58s\n",
      "26:\tlearn: 0.9822979\ttotal: 1h 17m 13s\tremaining: 8h 14m 50s\n",
      "27:\tlearn: 0.9823728\ttotal: 1h 20m 9s\tremaining: 8h 12m 25s\n",
      "28:\tlearn: 0.9824694\ttotal: 1h 23m 7s\tremaining: 8h 10m 10s\n",
      "29:\tlearn: 0.9825876\ttotal: 1h 26m\tremaining: 8h 7m 21s\n",
      "30:\tlearn: 0.9826669\ttotal: 1h 29m 3s\tremaining: 8h 5m 29s\n",
      "31:\tlearn: 0.9827441\ttotal: 1h 32m 1s\tremaining: 8h 3m 7s\n",
      "32:\tlearn: 0.9828120\ttotal: 1h 35m 1s\tremaining: 8h 53s\n",
      "33:\tlearn: 0.9829116\ttotal: 1h 37m 57s\tremaining: 7h 58m 17s\n",
      "34:\tlearn: 0.9829731\ttotal: 1h 40m 55s\tremaining: 7h 55m 46s\n",
      "35:\tlearn: 0.9830746\ttotal: 1h 43m 56s\tremaining: 7h 53m 30s\n",
      "36:\tlearn: 0.9831570\ttotal: 1h 46m 44s\tremaining: 7h 50m 14s\n",
      "37:\tlearn: 0.9832116\ttotal: 1h 49m 40s\tremaining: 7h 47m 33s\n",
      "38:\tlearn: 0.9832415\ttotal: 1h 52m 37s\tremaining: 7h 44m 57s\n",
      "39:\tlearn: 0.9832930\ttotal: 1h 55m 36s\tremaining: 7h 42m 24s\n",
      "40:\tlearn: 0.9833484\ttotal: 1h 58m 31s\tremaining: 7h 39m 40s\n",
      "41:\tlearn: 0.9833919\ttotal: 2h 1m 33s\tremaining: 7h 37m 19s\n",
      "42:\tlearn: 0.9834202\ttotal: 2h 4m 37s\tremaining: 7h 35m 2s\n",
      "43:\tlearn: 0.9834676\ttotal: 2h 7m 38s\tremaining: 7h 32m 33s\n",
      "44:\tlearn: 0.9834989\ttotal: 2h 10m 53s\tremaining: 7h 30m 52s\n",
      "45:\tlearn: 0.9835567\ttotal: 2h 14m 34s\tremaining: 7h 30m 33s\n",
      "46:\tlearn: 0.9835941\ttotal: 2h 18m 32s\tremaining: 7h 31m\n",
      "47:\tlearn: 0.9836454\ttotal: 2h 21m 37s\tremaining: 7h 28m 28s\n",
      "48:\tlearn: 0.9836941\ttotal: 2h 24m 33s\tremaining: 7h 25m 30s\n",
      "49:\tlearn: 0.9837095\ttotal: 2h 27m 29s\tremaining: 7h 22m 27s\n",
      "50:\tlearn: 0.9837466\ttotal: 2h 31m 8s\tremaining: 7h 21m 33s\n",
      "51:\tlearn: 0.9837613\ttotal: 2h 34m 42s\tremaining: 7h 20m 18s\n",
      "52:\tlearn: 0.9838041\ttotal: 2h 37m 56s\tremaining: 7h 18m 5s\n",
      "53:\tlearn: 0.9838579\ttotal: 2h 41m 22s\tremaining: 7h 16m 18s\n",
      "54:\tlearn: 0.9838825\ttotal: 2h 44m 32s\tremaining: 7h 13m 47s\n",
      "55:\tlearn: 0.9838993\ttotal: 2h 47m 28s\tremaining: 7h 10m 37s\n",
      "56:\tlearn: 0.9839334\ttotal: 2h 50m 31s\tremaining: 7h 7m 47s\n",
      "57:\tlearn: 0.9839527\ttotal: 2h 53m 31s\tremaining: 7h 4m 50s\n",
      "58:\tlearn: 0.9839784\ttotal: 2h 56m 37s\tremaining: 7h 2m 6s\n",
      "59:\tlearn: 0.9840071\ttotal: 2h 59m 47s\tremaining: 6h 59m 31s\n",
      "60:\tlearn: 0.9840223\ttotal: 3h 2m 52s\tremaining: 6h 56m 43s\n",
      "61:\tlearn: 0.9840589\ttotal: 3h 5m 51s\tremaining: 6h 53m 41s\n",
      "62:\tlearn: 0.9840766\ttotal: 3h 8m 57s\tremaining: 6h 50m 54s\n",
      "63:\tlearn: 0.9840938\ttotal: 3h 12m 35s\tremaining: 6h 49m 15s\n",
      "64:\tlearn: 0.9841139\ttotal: 3h 17m 24s\tremaining: 6h 50m\n",
      "65:\tlearn: 0.9841299\ttotal: 3h 21m 10s\tremaining: 6h 48m 26s\n",
      "66:\tlearn: 0.9841593\ttotal: 3h 24m 42s\tremaining: 6h 46m 22s\n",
      "67:\tlearn: 0.9841917\ttotal: 3h 27m 44s\tremaining: 6h 43m 16s\n",
      "68:\tlearn: 0.9842249\ttotal: 3h 30m 45s\tremaining: 6h 40m 8s\n",
      "69:\tlearn: 0.9842391\ttotal: 3h 33m 48s\tremaining: 6h 37m 4s\n",
      "70:\tlearn: 0.9842615\ttotal: 3h 36m 52s\tremaining: 6h 34m 2s\n",
      "71:\tlearn: 0.9842718\ttotal: 3h 39m 58s\tremaining: 6h 31m 3s\n",
      "72:\tlearn: 0.9842939\ttotal: 3h 42m 47s\tremaining: 6h 27m 36s\n",
      "73:\tlearn: 0.9843205\ttotal: 3h 45m 40s\tremaining: 6h 24m 16s\n",
      "74:\tlearn: 0.9843391\ttotal: 3h 48m 40s\tremaining: 6h 21m 7s\n",
      "75:\tlearn: 0.9843512\ttotal: 3h 51m 36s\tremaining: 6h 17m 53s\n",
      "76:\tlearn: 0.9844019\ttotal: 3h 54m 47s\tremaining: 6h 15m 4s\n",
      "77:\tlearn: 0.9844451\ttotal: 3h 57m 46s\tremaining: 6h 11m 54s\n",
      "78:\tlearn: 0.9844611\ttotal: 4h 42s\tremaining: 6h 8m 41s\n",
      "79:\tlearn: 0.9844763\ttotal: 4h 3m 38s\tremaining: 6h 5m 27s\n",
      "80:\tlearn: 0.9844937\ttotal: 4h 6m 36s\tremaining: 6h 2m 17s\n",
      "81:\tlearn: 0.9845114\ttotal: 4h 9m 43s\tremaining: 5h 59m 21s\n",
      "82:\tlearn: 0.9845368\ttotal: 4h 12m 43s\tremaining: 5h 56m 15s\n",
      "83:\tlearn: 0.9845485\ttotal: 4h 15m 45s\tremaining: 5h 53m 11s\n",
      "84:\tlearn: 0.9845734\ttotal: 4h 18m 37s\tremaining: 5h 49m 54s\n",
      "85:\tlearn: 0.9845800\ttotal: 4h 21m 28s\tremaining: 5h 46m 36s\n",
      "86:\tlearn: 0.9845929\ttotal: 4h 24m 31s\tremaining: 5h 43m 34s\n",
      "87:\tlearn: 0.9846111\ttotal: 4h 27m 21s\tremaining: 5h 40m 16s\n",
      "88:\tlearn: 0.9846192\ttotal: 4h 30m 18s\tremaining: 5h 37m 7s\n",
      "89:\tlearn: 0.9846317\ttotal: 4h 33m 53s\tremaining: 5h 34m 45s\n",
      "90:\tlearn: 0.9846377\ttotal: 4h 38m 33s\tremaining: 5h 33m 39s\n",
      "91:\tlearn: 0.9846523\ttotal: 4h 43m 44s\tremaining: 5h 33m 5s\n",
      "92:\tlearn: 0.9846616\ttotal: 4h 47m 22s\tremaining: 5h 30m 38s\n",
      "93:\tlearn: 0.9846823\ttotal: 4h 50m 51s\tremaining: 5h 27m 58s\n",
      "94:\tlearn: 0.9846943\ttotal: 4h 55m 28s\tremaining: 5h 26m 34s\n",
      "95:\tlearn: 0.9847001\ttotal: 4h 59m 1s\tremaining: 5h 23m 56s\n",
      "96:\tlearn: 0.9847079\ttotal: 5h 2m 11s\tremaining: 5h 20m 53s\n",
      "97:\tlearn: 0.9847201\ttotal: 5h 5m 12s\tremaining: 5h 17m 40s\n",
      "98:\tlearn: 0.9847354\ttotal: 5h 8m 14s\tremaining: 5h 14m 28s\n",
      "99:\tlearn: 0.9847410\ttotal: 5h 11m 10s\tremaining: 5h 11m 10s\n",
      "100:\tlearn: 0.9847515\ttotal: 5h 14m 8s\tremaining: 5h 7m 55s\n",
      "101:\tlearn: 0.9847690\ttotal: 5h 17m 6s\tremaining: 5h 4m 40s\n",
      "102:\tlearn: 0.9847781\ttotal: 5h 20m 7s\tremaining: 5h 1m 28s\n",
      "103:\tlearn: 0.9847868\ttotal: 5h 23m 6s\tremaining: 4h 58m 15s\n",
      "104:\tlearn: 0.9847987\ttotal: 5h 26m\tremaining: 4h 54m 57s\n",
      "105:\tlearn: 0.9848108\ttotal: 5h 28m 58s\tremaining: 4h 51m 44s\n",
      "106:\tlearn: 0.9848183\ttotal: 5h 32m 2s\tremaining: 4h 48m 35s\n",
      "107:\tlearn: 0.9848589\ttotal: 5h 34m 51s\tremaining: 4h 45m 15s\n",
      "108:\tlearn: 0.9848662\ttotal: 5h 37m 46s\tremaining: 4h 41m 59s\n",
      "109:\tlearn: 0.9848835\ttotal: 5h 40m 50s\tremaining: 4h 38m 52s\n",
      "110:\tlearn: 0.9848993\ttotal: 5h 43m 48s\tremaining: 4h 35m 39s\n",
      "111:\tlearn: 0.9849080\ttotal: 5h 46m 53s\tremaining: 4h 32m 33s\n",
      "112:\tlearn: 0.9849130\ttotal: 5h 50m 15s\tremaining: 4h 29m 40s\n",
      "113:\tlearn: 0.9849215\ttotal: 5h 54m 43s\tremaining: 4h 27m 35s\n",
      "114:\tlearn: 0.9849349\ttotal: 5h 59m 43s\tremaining: 4h 25m 53s\n"
     ]
    }
   ],
   "source": [
    "save_model_name = '/home/kai/talkingdata/data/all_suppelement_tree_200_depth6_scale99_lr0.35_ff0.6_onehot200'\n",
    "model = train_catboost(df_all, None, feature_cols,category_index,params,None,target)\n",
    "model.save_model(save_model_name)"
   ]
  },
  {
   "cell_type": "code",
   "execution_count": null,
   "metadata": {
    "collapsed": true
   },
   "outputs": [],
   "source": [
    "import json\n",
    "feature_file = '/home/kai/talkingdata/data/catboost-featurecolsV3_col38_depth6_scale99_tree200_lr0.35_ff0.6_onehot200.json'\n",
    "\n",
    "with open(feature_file, 'w') as outfile:\n",
    "    json.dump(feature_cols, outfile)"
   ]
  }
 ],
 "metadata": {
  "kernelspec": {
   "display_name": "Python 3",
   "language": "python",
   "name": "python3"
  },
  "language_info": {
   "codemirror_mode": {
    "name": "ipython",
    "version": 3
   },
   "file_extension": ".py",
   "mimetype": "text/x-python",
   "name": "python",
   "nbconvert_exporter": "python",
   "pygments_lexer": "ipython3",
   "version": "3.6.3"
  }
 },
 "nbformat": 4,
 "nbformat_minor": 2
}
