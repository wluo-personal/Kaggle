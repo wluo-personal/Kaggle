{
 "cells": [
  {
   "cell_type": "code",
   "execution_count": 1,
   "metadata": {},
   "outputs": [
    {
     "name": "stdout",
     "output_type": "stream",
     "text": [
      "5000000 58245 58245\n",
      "10000000 68740 68740\n",
      "15000000 75742 75742\n",
      "20000000 81980 81980\n",
      "25000000 87003 87003\n",
      "30000000 91555 91555\n",
      "35000000 95829 95829\n",
      "40000000 100771 100771\n",
      "45000000 104623 104623\n",
      "50000000 108789 108789\n",
      "55000000 112352 112352\n",
      "60000000 121654 121654\n",
      "65000000 142096 142096\n",
      "70000000 151071 151071\n",
      "75000000 157652 157652\n",
      "80000000 163439 163439\n",
      "85000000 168837 168837\n",
      "90000000 174114 174114\n",
      "95000000 178240 178240\n",
      "100000000 182013 182013\n",
      "105000000 185566 185566\n",
      "110000000 189342 189342\n",
      "115000000 192732 192732\n",
      "120000000 195339 195339\n",
      "125000000 212224 212224\n",
      "130000000 224478 224478\n",
      "135000000 231634 231634\n",
      "140000000 238855 238855\n",
      "145000000 244895 244895\n",
      "150000000 249627 249627\n",
      "155000000 254524 254524\n",
      "160000000 259163 259163\n",
      "165000000 263440 263440\n",
      "170000000 267356 267356\n",
      "175000000 271296 271296\n",
      "180000000 274868 274868\n",
      "done\n"
     ]
    }
   ],
   "source": [
    "import json\n",
    "\n",
    "PATH = '../data/'\n",
    "\n",
    "dip = {}\n",
    "dattr = {}\n",
    "\n",
    "with open(PATH + 'train_cleaned_final.csv', 'r') as f:\n",
    "    col = f.readline()\n",
    "    line = f.readline()\n",
    "    it = 1\n",
    "    while line:\n",
    "        vline = line.split(',')\n",
    "        ip = int(vline[0])\n",
    "        is_attribute = int(vline[-1])\n",
    "        if not dip. __contains__(ip):\n",
    "            dip[ip] = 0\n",
    "            dattr[ip] = 0\n",
    "        dip[ip] += 1\n",
    "        if is_attribute == 1:\n",
    "            dattr[ip] += 1\n",
    "        line = f.readline()\n",
    "        it += 1\n",
    "        if it % 5000000 == 0:\n",
    "            print(it, len(dip), len(dattr))\n",
    "            \n",
    "print(it)\n",
    "print('done')"
   ]
  },
  {
   "cell_type": "code",
   "execution_count": 3,
   "metadata": {},
   "outputs": [
    {
     "name": "stdout",
     "output_type": "stream",
     "text": [
      "done\n"
     ]
    }
   ],
   "source": [
    "with open(PATH + 'ip_total.json', 'w') as data:\n",
    "    json.dump(dip, data) # dip\n",
    "with open(PATH + 'ip_attribute.json', 'w') as data:\n",
    "    json.dump(dattr, data) # dattr\n",
    "print('done')"
   ]
  },
  {
   "cell_type": "code",
   "execution_count": 15,
   "metadata": {},
   "outputs": [
    {
     "name": "stdout",
     "output_type": "stream",
     "text": [
      "5000000 62821\n",
      "10000000 76486\n",
      "15000000 87619\n",
      "18790470\n",
      "done\n"
     ]
    }
   ],
   "source": [
    "test_ip = {}\n",
    "it = 1\n",
    "with open(PATH + 'test_cleaned_final.csv', 'r') as f:\n",
    "    col = f.readline()\n",
    "    line = f.readline()\n",
    "    while line:\n",
    "        vline = line.split(',')\n",
    "        ip = int(vline[0])\n",
    "        if test_ip.__contains__(ip):\n",
    "            test_ip[ip] += 1\n",
    "        else:\n",
    "             test_ip[ip] = 1\n",
    "        line = f.readline()\n",
    "        it += 1\n",
    "        if it % 5000000 == 0: print(it, len(test_ip))\n",
    "\n",
    "print(it)\n",
    "print('done')"
   ]
  },
  {
   "cell_type": "code",
   "execution_count": 16,
   "metadata": {},
   "outputs": [
    {
     "name": "stdout",
     "output_type": "stream",
     "text": [
      "done\n"
     ]
    }
   ],
   "source": [
    "with open(PATH + 'test_ip.json', 'w') as data:\n",
    "    json.dump(test_ip, data)\n",
    "print('done')"
   ]
  },
  {
   "cell_type": "code",
   "execution_count": null,
   "metadata": {},
   "outputs": [],
   "source": [
    "with open(PATH + 'ip_total.json', 'r') as data:\n",
    "    dip = json.load(data)\n",
    "with open(PATH + 'ip_attribute.json', 'r') as data:\n",
    "    dattr = json.load(data)\n",
    "with open(PATH + 'test_ip.json', 'r') as data:\n",
    "    test_ip = json.load(data)"
   ]
  },
  {
   "cell_type": "code",
   "execution_count": 17,
   "metadata": {},
   "outputs": [],
   "source": [
    "mapping = {}\n",
    "for key in test_ip.keys():\n",
    "    if dip.__contains__(key):\n",
    "        mapping[key] = dattr[key] / dip[key]\n",
    "    else:\n",
    "        mapping[key] = -1"
   ]
  },
  {
   "cell_type": "code",
   "execution_count": 29,
   "metadata": {},
   "outputs": [
    {
     "name": "stdout",
     "output_type": "stream",
     "text": [
      "139 1.0\n",
      "2 0.9\n",
      "8 0.8\n",
      "5 0.7\n",
      "19 0.6\n",
      "92 0.5\n",
      "24 0.4\n",
      "75 0.3\n",
      "163 0.2\n",
      "197 0.1\n",
      "37440 0\n",
      "3764 00\n",
      "55772 -1\n",
      "93936\n"
     ]
    }
   ],
   "source": [
    "sorted_ip = sorted(mapping.values(), reverse=True)\n",
    "x = [y for y in sorted_ip if y == 1.0]\n",
    "print(len(x), 1.0)\n",
    "x = [y for y in sorted_ip if y < 1.0 and y >= 0.9]\n",
    "print(len(x), 0.9)\n",
    "x = [y for y in sorted_ip if y < 0.9 and y >= 0.8]\n",
    "print(len(x), 0.8)\n",
    "x = [y for y in sorted_ip if y < 0.8 and y >= 0.7]\n",
    "print(len(x), 0.7)\n",
    "x = [y for y in sorted_ip if y < 0.7 and y >= 0.6]\n",
    "print(len(x), 0.6)\n",
    "x = [y for y in sorted_ip if y < 0.6 and y >= 0.5]\n",
    "print(len(x), 0.5)\n",
    "x = [y for y in sorted_ip if y < 0.5 and y >= 0.4]\n",
    "print(len(x), 0.4)\n",
    "x = [y for y in sorted_ip if y < 0.4 and y >= 0.3]\n",
    "print(len(x), 0.3)\n",
    "x = [y for y in sorted_ip if y < 0.3 and y >= 0.2]\n",
    "print(len(x), 0.2)\n",
    "x = [y for y in sorted_ip if y < 0.2 and y >= 0.1]\n",
    "print(len(x), 0.1)\n",
    "x = [y for y in sorted_ip if y < 0.1 and y >= 0]\n",
    "print(len(x), 0)\n",
    "x = [y for y in sorted_ip if y == 0]\n",
    "print(len(x), '00')\n",
    "x = [y for y in sorted_ip if y == -1]\n",
    "print(len(x), -1)\n",
    "\n",
    "print(len(sorted_ip))"
   ]
  },
  {
   "cell_type": "code",
   "execution_count": 28,
   "metadata": {},
   "outputs": [
    {
     "name": "stdout",
     "output_type": "stream",
     "text": [
      "42014 1.0\n",
      "19 0.9\n",
      "280 0.8\n",
      "365 0.7\n",
      "1112 0.6\n",
      "24251 0.5\n",
      "928 0.4\n",
      "15449 0.3\n",
      "19172 0.2\n",
      "23329 0.1\n",
      "118119 0\n",
      "32358 00\n",
      "277396\n"
     ]
    }
   ],
   "source": [
    "train_ip = {}\n",
    "for key in dip.keys():\n",
    "    train_ip[key] = dattr[key] / dip[key]\n",
    "    \n",
    "sorted_ip = sorted(train_ip.values(), reverse=True)\n",
    "x = [y for y in sorted_ip if y == 1.0]\n",
    "print(len(x), 1.0)\n",
    "x = [y for y in sorted_ip if y < 1.0 and y >= 0.9]\n",
    "print(len(x), 0.9)\n",
    "x = [y for y in sorted_ip if y < 0.9 and y >= 0.8]\n",
    "print(len(x), 0.8)\n",
    "x = [y for y in sorted_ip if y < 0.8 and y >= 0.7]\n",
    "print(len(x), 0.7)\n",
    "x = [y for y in sorted_ip if y < 0.7 and y >= 0.6]\n",
    "print(len(x), 0.6)\n",
    "x = [y for y in sorted_ip if y < 0.6 and y >= 0.5]\n",
    "print(len(x), 0.5)\n",
    "x = [y for y in sorted_ip if y < 0.5 and y >= 0.4]\n",
    "print(len(x), 0.4)\n",
    "x = [y for y in sorted_ip if y < 0.4 and y >= 0.3]\n",
    "print(len(x), 0.3)\n",
    "x = [y for y in sorted_ip if y < 0.3 and y >= 0.2]\n",
    "print(len(x), 0.2)\n",
    "x = [y for y in sorted_ip if y < 0.2 and y >= 0.1]\n",
    "print(len(x), 0.1)\n",
    "x = [y for y in sorted_ip if y < 0.1 and y > 0]\n",
    "print(len(x), 0)\n",
    "x = [y for y in sorted_ip if y == 0]\n",
    "print(len(x), '00')\n",
    "\n",
    "print(len(sorted_ip))"
   ]
  },
  {
   "cell_type": "code",
   "execution_count": 22,
   "metadata": {},
   "outputs": [
    {
     "name": "stdout",
     "output_type": "stream",
     "text": [
      "235382\n",
      "277396\n"
     ]
    }
   ],
   "source": [
    "x = [dip[ip] for ip in dip.keys() if dip[ip] != dattr[ip]]\n",
    "print(len(x))\n",
    "print(len(dip.keys()))"
   ]
  }
 ],
 "metadata": {
  "kernelspec": {
   "display_name": "Python 3",
   "language": "python",
   "name": "python3"
  },
  "language_info": {
   "codemirror_mode": {
    "name": "ipython",
    "version": 3
   },
   "file_extension": ".py",
   "mimetype": "text/x-python",
   "name": "python",
   "nbconvert_exporter": "python",
   "pygments_lexer": "ipython3",
   "version": "3.6.3"
  }
 },
 "nbformat": 4,
 "nbformat_minor": 2
}
