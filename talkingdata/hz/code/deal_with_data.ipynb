{
 "cells": [
  {
   "cell_type": "code",
   "execution_count": 1,
   "metadata": {},
   "outputs": [
    {
     "name": "stdout",
     "output_type": "stream",
     "text": [
      "18490390\n",
      "ip,app,device,os,channel,day,hour,timestamp,minute,second,is_attributed\n",
      "\n"
     ]
    }
   ],
   "source": [
    "import pandas as pd\n",
    "\n",
    "PATH = '../data/'\n",
    "\n",
    "total_num_files = 10\n",
    "thres = 184903891 // total_num_files + 1\n",
    "print(thres)\n",
    "\n",
    "with open(PATH + 'train_cleaned_final.csv', 'r') as f:\n",
    "    lines = 0\n",
    "    col = f.readline()\n",
    "    print(col)\n",
    "#     x = f.readline()\n",
    "#     lines += 1\n",
    "#     file_num = 0\n",
    "#     instream = open(PATH + str(file_num)+'.csv', 'a')\n",
    "#     instream.write(col)\n",
    "#     print(file_num)\n",
    "#     while(x):\n",
    "#         instream.write(x)\n",
    "#         if lines // thres != file_num:\n",
    "#             file_num += 1\n",
    "#             instream.close()\n",
    "#             instream = open(PATH + str(file_num)+'.csv', 'a')\n",
    "#             instream.write(col)\n",
    "#             print(file_num)\n",
    "#         x = f.readline()\n",
    "#         lines += 1\n",
    "\n",
    "#     print(lines)"
   ]
  },
  {
   "cell_type": "code",
   "execution_count": 41,
   "metadata": {},
   "outputs": [
    {
     "name": "stdout",
     "output_type": "stream",
     "text": [
      "(20000000, 11)\n",
      "[1, 1, 1, 1]\n"
     ]
    }
   ],
   "source": [
    "from multiprocessing import Pool\n",
    "import pandas as pd\n",
    "\n",
    "def run(x):\n",
    "    data = pd.read_csv(PATH + str(x) + '.csv')\n",
    "    print(data.shape)\n",
    "\n",
    "input = list(range(total_num_files))\n",
    "run(0)\n",
    "# pool = Pool(len(input))\n",
    "# r =pool.map(run, input)\n",
    "# pool.close()\n",
    "# pool.join()\n",
    "print(r)"
   ]
  },
  {
   "cell_type": "code",
   "execution_count": 52,
   "metadata": {},
   "outputs": [
    {
     "name": "stdout",
     "output_type": "stream",
     "text": [
      "[0, 1, 2, 3, 4, 5, 6, 7, 8, 9]\n"
     ]
    }
   ],
   "source": [
    "x = list(range(10))\n",
    "print(x)"
   ]
  }
 ],
 "metadata": {
  "kernelspec": {
   "display_name": "Python 3",
   "language": "python",
   "name": "python3"
  },
  "language_info": {
   "codemirror_mode": {
    "name": "ipython",
    "version": 3
   },
   "file_extension": ".py",
   "mimetype": "text/x-python",
   "name": "python",
   "nbconvert_exporter": "python",
   "pygments_lexer": "ipython3",
   "version": "3.6.3"
  }
 },
 "nbformat": 4,
 "nbformat_minor": 2
}
